{
  "nbformat": 4,
  "nbformat_minor": 0,
  "metadata": {
    "colab": {
      "provenance": [],
      "authorship_tag": "ABX9TyMYn1jIm7gJ8f/qOaAm5hYh",
      "include_colab_link": true
    },
    "kernelspec": {
      "name": "python3",
      "display_name": "Python 3"
    },
    "language_info": {
      "name": "python"
    }
  },
  "cells": [
    {
      "cell_type": "markdown",
      "metadata": {
        "id": "view-in-github",
        "colab_type": "text"
      },
      "source": [
        "<a href=\"https://colab.research.google.com/github/walkerjian/DailyCode/blob/main/Code_Craft_canBeNonDecreasing.ipynb\" target=\"_parent\"><img src=\"https://colab.research.google.com/assets/colab-badge.svg\" alt=\"Open In Colab\"/></a>"
      ]
    },
    {
      "cell_type": "markdown",
      "source": [
        "##Problem:\n",
        "Given an array of integers, write a function to determine whether the array could become non-decreasing by modifying at most 1 element.\n",
        "\n",
        "For example, given the array [10, 5, 7], you should return true, since we can modify the 10 into a 1 to make the array non-decreasing.\n",
        "\n",
        "Given the array [10, 5, 1], you should return false, since we can't modify any one element to get a non-decreasing array."
      ],
      "metadata": {
        "id": "6H5NZr2wkL5d"
      }
    },
    {
      "cell_type": "markdown",
      "source": [
        "##Solution:\n",
        "To solve this problem, we can write a function in Python. The function will iterate through the given array and check if modifying at most one element can make the array non-decreasing.\n",
        "\n",
        "The key idea is to count the number of times the current element is less than the previous one, which indicates a decreasing order. If this happens more than once, we return `False`, as modifying more than one element would be needed. We also need to handle the edge cases where modifying a single element at the beginning or in the middle of the array can make the entire array non-decreasing."
      ],
      "metadata": {
        "id": "Hos5LmRMkS67"
      }
    },
    {
      "cell_type": "markdown",
      "source": [
        "##Implementation:"
      ],
      "metadata": {
        "id": "bc7Ek63FoSv1"
      }
    },
    {
      "cell_type": "code",
      "source": [
        "def canBeNonDecreasing(arr):\n",
        "    \"\"\"\n",
        "    Check if the array can become non-decreasing by modifying at most one element.\n",
        "\n",
        "    Args:\n",
        "    arr (List[int]): The array of integers to be checked.\n",
        "\n",
        "    Returns:\n",
        "    bool: True if the array can be made non-decreasing with at most one modification, otherwise False.\n",
        "    \"\"\"\n",
        "    modification_count = 0\n",
        "\n",
        "    for i in range(1, len(arr)):\n",
        "        if arr[i] < arr[i - 1]:\n",
        "            if modification_count > 0:\n",
        "                return False\n",
        "            modification_count += 1\n",
        "\n",
        "            # Handle edge cases: modifying either the current or the previous element\n",
        "            if i > 1 and arr[i] < arr[i - 2]:\n",
        "                arr[i] = arr[i - 1]\n",
        "            else:\n",
        "                arr[i - 1] = arr[i]\n",
        "\n",
        "    return True\n",
        "\n",
        "def test_function():\n",
        "    \"\"\"\n",
        "    Test the canBeNonDecreasing function with various test cases.\n",
        "    \"\"\"\n",
        "    # Define test cases\n",
        "    test_cases = [\n",
        "        ([10, 5, 7], True),\n",
        "        ([10, 5, 1], False),\n",
        "        ([1, 2, 3, 4, 5], True),\n",
        "        ([5, 4, 3, 2, 1], False),  # Corrected expected result\n",
        "        ([3, 4, 2, 3], False),  # Correct expectation\n",
        "        ([5], True),\n",
        "        ([1, 5, 3, 4, 2], False),\n",
        "        ([1, 1, 1, 1], True),\n",
        "        ([2, 3, 3, 2, 4], True)\n",
        "    ]\n",
        "\n",
        "    # Run tests and display results\n",
        "    for i, (arr, expected) in enumerate(test_cases, 1):\n",
        "        result = canBeNonDecreasing(arr.copy())\n",
        "        if result == expected:\n",
        "            print(f\"Test case {i} passed!\")\n",
        "        else:\n",
        "            print(f\"Test case {i} failed: expected {expected}, got {result}\")\n",
        "\n",
        "# Execute the test function\n",
        "test_function()\n"
      ],
      "metadata": {
        "colab": {
          "base_uri": "https://localhost:8080/"
        },
        "id": "OqDTCFe6lhCe",
        "outputId": "e81524cd-a8d8-47cf-8925-861b6c6b4e6c"
      },
      "execution_count": 7,
      "outputs": [
        {
          "output_type": "stream",
          "name": "stdout",
          "text": [
            "Test case 1 passed!\n",
            "Test case 2 passed!\n",
            "Test case 3 passed!\n",
            "Test case 4 passed!\n",
            "Test case 5 passed!\n",
            "Test case 6 passed!\n",
            "Test case 7 passed!\n",
            "Test case 8 passed!\n",
            "Test case 9 passed!\n"
          ]
        }
      ]
    }
  ]
}