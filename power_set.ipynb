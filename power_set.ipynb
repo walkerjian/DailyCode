{
  "nbformat": 4,
  "nbformat_minor": 0,
  "metadata": {
    "colab": {
      "provenance": [],
      "authorship_tag": "ABX9TyNdrOPq/tAoAfQpyftdfVIo",
      "include_colab_link": true
    },
    "kernelspec": {
      "name": "python3",
      "display_name": "Python 3"
    },
    "language_info": {
      "name": "python"
    }
  },
  "cells": [
    {
      "cell_type": "markdown",
      "metadata": {
        "id": "view-in-github",
        "colab_type": "text"
      },
      "source": [
        "<a href=\"https://colab.research.google.com/github/walkerjian/DailyCode/blob/main/power_set.ipynb\" target=\"_parent\"><img src=\"https://colab.research.google.com/assets/colab-badge.svg\" alt=\"Open In Colab\"/></a>"
      ]
    },
    {
      "cell_type": "markdown",
      "source": [
        "The power set of a set is the set of all its subsets. Write a function that, given a set, generates its power set.\n",
        "\n",
        "For example, given the set {1, 2, 3}, it should return {{}, {1}, {2}, {3}, {1, 2}, {1, 3}, {2, 3}, {1, 2, 3}}.\n",
        "\n",
        "You may also use a list or array to represent a set."
      ],
      "metadata": {
        "id": "Jabddh8G9oc8"
      }
    },
    {
      "cell_type": "code",
      "execution_count": 1,
      "metadata": {
        "colab": {
          "base_uri": "https://localhost:8080/"
        },
        "id": "VJW6axpU5wXs",
        "outputId": "4fcaad56-6dee-4066-d0dd-fa700858754b"
      },
      "outputs": [
        {
          "output_type": "execute_result",
          "data": {
            "text/plain": [
              "[[], [1], [2], [1, 2], [3], [1, 3], [2, 3], [1, 2, 3]]"
            ]
          },
          "metadata": {},
          "execution_count": 1
        }
      ],
      "source": [
        "def power_set(s):\n",
        "    \"\"\"Generate the power set of the given set s.\"\"\"\n",
        "    result = [[]]\n",
        "    for elem in s:\n",
        "        result += [curr + [elem] for curr in result]\n",
        "    return result\n",
        "\n",
        "# Test the function\n",
        "s = [1, 2, 3]\n",
        "power_set_result = power_set(s)\n",
        "power_set_result\n"
      ]
    },
    {
      "cell_type": "code",
      "source": [
        "# Let's test the function with a few more examples\n",
        "\n",
        "example_sets = [\n",
        "    [],        # Empty set\n",
        "    [1],       # Set with one element\n",
        "    [1, 2],    # Set with two elements\n",
        "    ['a', 'b', 'c', 'd']  # Set with four elements\n",
        "]\n",
        "\n",
        "power_sets = [power_set(s) for s in example_sets]\n",
        "power_sets\n"
      ],
      "metadata": {
        "colab": {
          "base_uri": "https://localhost:8080/"
        },
        "id": "fRP9ax0L9ld_",
        "outputId": "6a199330-0bba-46e0-bc0b-6126a8274d6e"
      },
      "execution_count": 2,
      "outputs": [
        {
          "output_type": "execute_result",
          "data": {
            "text/plain": [
              "[[[]],\n",
              " [[], [1]],\n",
              " [[], [1], [2], [1, 2]],\n",
              " [[],\n",
              "  ['a'],\n",
              "  ['b'],\n",
              "  ['a', 'b'],\n",
              "  ['c'],\n",
              "  ['a', 'c'],\n",
              "  ['b', 'c'],\n",
              "  ['a', 'b', 'c'],\n",
              "  ['d'],\n",
              "  ['a', 'd'],\n",
              "  ['b', 'd'],\n",
              "  ['a', 'b', 'd'],\n",
              "  ['c', 'd'],\n",
              "  ['a', 'c', 'd'],\n",
              "  ['b', 'c', 'd'],\n",
              "  ['a', 'b', 'c', 'd']]]"
            ]
          },
          "metadata": {},
          "execution_count": 2
        }
      ]
    }
  ]
}