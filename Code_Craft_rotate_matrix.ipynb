{
  "nbformat": 4,
  "nbformat_minor": 0,
  "metadata": {
    "colab": {
      "provenance": [],
      "authorship_tag": "ABX9TyMLPp7f5KsUTTtVH5BW7AH9",
      "include_colab_link": true
    },
    "kernelspec": {
      "name": "python3",
      "display_name": "Python 3"
    },
    "language_info": {
      "name": "python"
    }
  },
  "cells": [
    {
      "cell_type": "markdown",
      "metadata": {
        "id": "view-in-github",
        "colab_type": "text"
      },
      "source": [
        "<a href=\"https://colab.research.google.com/github/walkerjian/DailyCode/blob/main/Code_Craft_rotate_matrix.ipynb\" target=\"_parent\"><img src=\"https://colab.research.google.com/assets/colab-badge.svg\" alt=\"Open In Colab\"/></a>"
      ]
    },
    {
      "cell_type": "markdown",
      "source": [
        "##Problem:\n",
        "Given an N by N matrix, rotate it by 90 degrees clockwise.\n",
        "\n",
        "For example, given the following matrix:\n",
        "```\n",
        "[[1, 2, 3],\n",
        " [4, 5, 6],\n",
        " [7, 8, 9]]\n",
        "```\n",
        "\n",
        "you should return:\n",
        "\n",
        "```\n",
        "[[7, 4, 1],\n",
        " [8, 5, 2],\n",
        " [9, 6, 3]]\n",
        "```\n",
        "\n",
        "Follow-up: What if you couldn't use any extra space?"
      ],
      "metadata": {
        "id": "z_7stIh_2-60"
      }
    },
    {
      "cell_type": "markdown",
      "source": [
        "##Solution:\n",
        "Rotating a matrix by 90 degrees clockwise can be achieved by following these steps:\n",
        "\n",
        "1. **Transpose the matrix**: This means swapping the matrix elements along its diagonal. In the transposed matrix, the rows become columns and vice versa.\n",
        "2. **Reverse each row**: After transposing, the rows of the matrix are then reversed to complete the 90-degree clockwise rotation.\n",
        "\n",
        "Regarding the follow-up question, the above solution does not use any extra space apart from the input matrix. It operates in-place, meaning it modifies the input matrix directly. This satisfies the constraint of not using additional space. The space complexity of this solution is O(1), as it only uses a fixed amount of additional memory regardless of the size of the input matrix."
      ],
      "metadata": {
        "id": "cive5I253PEz"
      }
    },
    {
      "cell_type": "markdown",
      "source": [
        "##Implementation:"
      ],
      "metadata": {
        "id": "LgAFqm1D3aI_"
      }
    },
    {
      "cell_type": "code",
      "source": [
        "def rotate_matrix(matrix):\n",
        "    n = len(matrix)\n",
        "\n",
        "    # Transpose the matrix\n",
        "    for i in range(n):\n",
        "        for j in range(i, n):\n",
        "            matrix[i][j], matrix[j][i] = matrix[j][i], matrix[i][j]\n",
        "\n",
        "    # Reverse each row\n",
        "    for i in range(n):\n",
        "        matrix[i].reverse()\n",
        "\n",
        "    return matrix\n",
        "\n",
        "def print_matrix(matrix):\n",
        "    \"\"\"Function to print a matrix in a formatted way.\"\"\"\n",
        "    for row in matrix:\n",
        "        print(\" \".join(map(str, row)))\n",
        "\n",
        "# Original matrix\n",
        "trix = [[1, 2, 3], [4, 5, 6], [7, 8, 9]]\n",
        "\n",
        "# Printing the original matrix\n",
        "print(\"Original Matrix:\")\n",
        "print_matrix(trix)\n",
        "\n",
        "# Printing the rotated matrix\n",
        "print(\"\\nRotated Matrix:\")\n",
        "print_matrix(rotate_matrix(trix))"
      ],
      "metadata": {
        "colab": {
          "base_uri": "https://localhost:8080/"
        },
        "id": "umO2VlI94M72",
        "outputId": "186132bb-231d-4f03-ac0b-22afba42c403"
      },
      "execution_count": 8,
      "outputs": [
        {
          "output_type": "stream",
          "name": "stdout",
          "text": [
            "Original Matrix:\n",
            "1 2 3\n",
            "4 5 6\n",
            "7 8 9\n",
            "\n",
            "Rotated Matrix:\n",
            "7 4 1\n",
            "8 5 2\n",
            "9 6 3\n"
          ]
        }
      ]
    },
    {
      "cell_type": "markdown",
      "source": [
        "If you wish to preserve the original matrix, consider using rotate_matrix(trix.copy()) in the last part of your code."
      ],
      "metadata": {
        "id": "L2-b3KVM5s5G"
      }
    }
  ]
}