{
  "nbformat": 4,
  "nbformat_minor": 0,
  "metadata": {
    "colab": {
      "provenance": [],
      "authorship_tag": "ABX9TyMUuMYQSvKE0SMsiIOxWKkk",
      "include_colab_link": true
    },
    "kernelspec": {
      "name": "python3",
      "display_name": "Python 3"
    },
    "language_info": {
      "name": "python"
    }
  },
  "cells": [
    {
      "cell_type": "markdown",
      "metadata": {
        "id": "view-in-github",
        "colab_type": "text"
      },
      "source": [
        "<a href=\"https://colab.research.google.com/github/walkerjian/DailyCode/blob/main/Code_Craft_largestRectangleArea.ipynb\" target=\"_parent\"><img src=\"https://colab.research.google.com/assets/colab-badge.svg\" alt=\"Open In Colab\"/></a>"
      ]
    },
    {
      "cell_type": "markdown",
      "source": [
        "##Problem:\n",
        "Given an N by M matrix consisting only of 1's and 0's, find the largest rectangle containing only 1's and return its area.\n",
        "\n",
        "For example, given the following matrix:\n",
        "```\n",
        "[[1, 0, 0, 0],\n",
        " [1, 0, 1, 1],\n",
        " [1, 0, 1, 1],\n",
        " [0, 1, 0, 0]]\n",
        "```\n",
        "Return 4."
      ],
      "metadata": {
        "id": "1dbVYZE3lOv7"
      }
    },
    {
      "cell_type": "markdown",
      "source": [
        "##Solution:\n",
        "To find the largest rectangle containing only 1's in a given N by M matrix, we can use a dynamic programming approach. The idea is to maintain a temporary array that stores the height of the consecutive 1's column-wise. Then, for each row, we can calculate the maximum area of a rectangle with the bottom row at the current row.\n",
        "\n",
        "The steps are as follows:\n",
        "1. Initialize a temporary array `height` of size M (number of columns) with all zeros.\n",
        "2. Traverse each row of the matrix. For each element:\n",
        "   - If the element is 1, increment the value in `height` at that column by 1.\n",
        "   - If the element is 0, reset the value in `height` at that column to 0.\n",
        "3. After updating the `height` array for each row, find the maximum area of a rectangle that can be formed in a histogram represented by the `height` array. This can be done using a stack-based approach.\n",
        "4. Keep track of the maximum area obtained, and return it after processing all rows.\n",
        "\n"
      ],
      "metadata": {
        "id": "DROvET0ulU6p"
      }
    },
    {
      "cell_type": "markdown",
      "source": [
        "##Implementation:\n",
        "I'll provide a Python function to implement this algorithm.\n"
      ],
      "metadata": {
        "id": "u3grlNb0lXL-"
      }
    },
    {
      "cell_type": "code",
      "execution_count": 1,
      "metadata": {
        "colab": {
          "base_uri": "https://localhost:8080/"
        },
        "id": "YaXkjpMZlJ8H",
        "outputId": "05ae19bb-e54b-42a9-a671-200fe0f2f1bb"
      },
      "outputs": [
        {
          "output_type": "execute_result",
          "data": {
            "text/plain": [
              "4"
            ]
          },
          "metadata": {},
          "execution_count": 1
        }
      ],
      "source": [
        "def maximalRectangle(matrix):\n",
        "    if not matrix:\n",
        "        return 0\n",
        "\n",
        "    max_area = 0\n",
        "    n = len(matrix)\n",
        "    m = len(matrix[0])\n",
        "    height = [0] * m\n",
        "\n",
        "    for i in range(n):\n",
        "        for j in range(m):\n",
        "            # Update the height of this column.\n",
        "            if matrix[i][j] == 1:\n",
        "                height[j] += 1\n",
        "            else:\n",
        "                height[j] = 0\n",
        "\n",
        "        # Calculate the maximum area of a rectangle in a histogram.\n",
        "        max_area = max(max_area, largestRectangleArea(height))\n",
        "\n",
        "    return max_area\n",
        "\n",
        "def largestRectangleArea(heights):\n",
        "    stack = [-1]\n",
        "    max_area = 0\n",
        "\n",
        "    for i in range(len(heights)):\n",
        "        while stack[-1] != -1 and heights[stack[-1]] >= heights[i]:\n",
        "            h = heights[stack.pop()]\n",
        "            w = i - stack[-1] - 1\n",
        "            max_area = max(max_area, h * w)\n",
        "        stack.append(i)\n",
        "\n",
        "    while stack[-1] != -1:\n",
        "        h = heights[stack.pop()]\n",
        "        w = len(heights) - stack[-1] - 1\n",
        "        max_area = max(max_area, h * w)\n",
        "\n",
        "    return max_area\n",
        "\n",
        "# Test the function with the provided example\n",
        "matrix = [\n",
        "    [1, 0, 0, 0],\n",
        "    [1, 0, 1, 1],\n",
        "    [1, 0, 1, 1],\n",
        "    [0, 1, 0, 0]\n",
        "]\n",
        "\n",
        "maximalRectangle(matrix)\n"
      ]
    },
    {
      "cell_type": "markdown",
      "source": [
        "\n",
        "The function correctly computes the largest rectangle containing only 1's in the given matrix. For the provided example matrix, the largest such rectangle has an area of 4, which matches the expected result.\n",
        "\n",
        "You can use this function to find the largest rectangle of 1's in any N by M binary matrix."
      ],
      "metadata": {
        "id": "-Vmp0e1ZllXK"
      }
    },
    {
      "cell_type": "markdown",
      "source": [
        "##Testing:"
      ],
      "metadata": {
        "id": "6RCNXkahmBtl"
      }
    },
    {
      "cell_type": "code",
      "source": [
        "# Test the function with different matrices\n",
        "\n",
        "# Test case 1: A matrix with a larger rectangle of 1's\n",
        "matrix1 = [\n",
        "    [1, 0, 1, 1, 1],\n",
        "    [1, 1, 1, 1, 1],\n",
        "    [0, 0, 1, 1, 1]\n",
        "]\n",
        "result1 = maximalRectangle(matrix1)\n",
        "\n",
        "# Test case 2: A matrix with no 1's\n",
        "matrix2 = [\n",
        "    [0, 0, 0],\n",
        "    [0, 0, 0],\n",
        "    [0, 0, 0]\n",
        "]\n",
        "result2 = maximalRectangle(matrix2)\n",
        "\n",
        "# Test case 3: A matrix with all 1's\n",
        "matrix3 = [\n",
        "    [1, 1, 1],\n",
        "    [1, 1, 1],\n",
        "    [1, 1, 1]\n",
        "]\n",
        "result3 = maximalRectangle(matrix3)\n",
        "\n",
        "result1, result2, result3\n",
        "\n"
      ],
      "metadata": {
        "colab": {
          "base_uri": "https://localhost:8080/"
        },
        "id": "C5EOO4Ljld_w",
        "outputId": "d5efa50f-d4be-4ece-f243-091e0c56af00"
      },
      "execution_count": 2,
      "outputs": [
        {
          "output_type": "execute_result",
          "data": {
            "text/plain": [
              "(9, 0, 9)"
            ]
          },
          "metadata": {},
          "execution_count": 2
        }
      ]
    }
  ]
}