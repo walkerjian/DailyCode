{
  "nbformat": 4,
  "nbformat_minor": 0,
  "metadata": {
    "colab": {
      "provenance": [],
      "authorship_tag": "ABX9TyOU9WeCyXHXnOp3n8vwOGgw",
      "include_colab_link": true
    },
    "kernelspec": {
      "name": "python3",
      "display_name": "Python 3"
    },
    "language_info": {
      "name": "python"
    }
  },
  "cells": [
    {
      "cell_type": "markdown",
      "metadata": {
        "id": "view-in-github",
        "colab_type": "text"
      },
      "source": [
        "<a href=\"https://colab.research.google.com/github/walkerjian/DailyCode/blob/main/Code_Craft_reconstruct_sentence.ipynb\" target=\"_parent\"><img src=\"https://colab.research.google.com/assets/colab-badge.svg\" alt=\"Open In Colab\"/></a>"
      ]
    },
    {
      "cell_type": "markdown",
      "source": [
        "##Problem:\n",
        "Given a dictionary of words and a string made up of those words (no spaces), return the original sentence in a list. If there is more than one possible reconstruction, return any of them. If there is no possible reconstruction, then return null.\n",
        "\n",
        "For example, given the set of words 'quick', 'brown', 'the', 'fox', and the string \"thequickbrownfox\", you should return ['the', 'quick', 'brown', 'fox'].\n",
        "\n",
        "Given the set of words 'bed', 'bath', 'bedbath', 'and', 'beyond', and the string \"bedbathandbeyond\", return either ['bed', 'bath', 'and', 'beyond] or ['bedbath', 'and', 'beyond'].\n",
        "\n",
        "##Solution:\n",
        "To solve this problem, we can use a dynamic programming approach. We'll iterate over the characters in the given string and maintain a list of indices at which the string can be split such that each part is a word in the given dictionary.\n",
        "\n",
        "Here's a step-by-step explanation of the algorithm:\n",
        "\n",
        "1. **Initialization**: Create a list `dp` of length equal to the length of the string plus one, initialized with `None`. The list `dp` will store the last index where a valid word ended. Set `dp[0]` to `-1` to indicate that a word can start at the beginning of the string.\n",
        "\n",
        "2. **Iterate Over the String**: For each index `i` in the string, check if `dp[i]` is not `None`. If it's not `None`, it means we have a valid word ending at `i-1`. Then, for each word in the dictionary, check if the word can fit starting from index `i`. If it can, update `dp[i + len(word)]` to `i`.\n",
        "\n",
        "3. **Reconstruct the Sentence**: After filling in the `dp` array, check if `dp[-1]` is not `None`. If it's `None`, return `None` as no valid sentence can be formed. Otherwise, start from the end of the string and use the `dp` array to find the words and add them to the result.\n",
        "\n",
        "4. **Return the Result**: Return the constructed sentence.\n",
        "\n",
        "##Implementation:\n",
        "\n",
        "The implemented function correctly reconstructs the sentences from the given examples:\n",
        "\n",
        "1. For the set of words 'quick', 'brown', 'the', 'fox', and the string \"thequickbrownfox\", the function returns `['the', 'quick', 'brown', 'fox']`.\n",
        "\n",
        "2. For the set of words 'bed', 'bath', 'bedbath', 'and', 'beyond', and the string \"bedbathandbeyond\", the function returns `['bed', 'bath', 'and', 'beyond']`.\n",
        "\n",
        "Remember, in the second case, there can be more than one valid reconstruction (like `['bedbath', 'and', 'beyond']`). The algorithm returns one valid solution based on how it encounters words in the dictionary."
      ],
      "metadata": {
        "id": "xZv1u68dxqJv"
      }
    },
    {
      "cell_type": "code",
      "execution_count": 1,
      "metadata": {
        "colab": {
          "base_uri": "https://localhost:8080/"
        },
        "id": "FX0Y3YAdwUAW",
        "outputId": "cf0618a3-8815-4747-b36d-167263f79d12"
      },
      "outputs": [
        {
          "output_type": "stream",
          "name": "stdout",
          "text": [
            "['the', 'quick', 'brown', 'fox']\n",
            "['bed', 'bath', 'and', 'beyond']\n"
          ]
        }
      ],
      "source": [
        "def reconstruct_sentence(dictionary, s):\n",
        "    # Dynamic programming table to store the end index of the last valid word\n",
        "    dp = [None] * (len(s) + 1)\n",
        "    dp[0] = -1  # Base case: empty string is a valid starting point\n",
        "\n",
        "    for i in range(len(s)):\n",
        "        if dp[i] is not None:\n",
        "            for word in dictionary:\n",
        "                # Check if the word fits starting from the current index\n",
        "                if s.startswith(word, i):\n",
        "                    dp[i + len(word)] = i\n",
        "\n",
        "    # Reconstruct the sentence if possible\n",
        "    if dp[-1] is not None:\n",
        "        result = []\n",
        "        current = len(s)\n",
        "        while current > 0:\n",
        "            previous = dp[current]\n",
        "            result.append(s[previous:current])\n",
        "            current = previous\n",
        "        return result[::-1]  # Reverse the result to get the correct order\n",
        "\n",
        "    # Return None if no valid reconstruction is found\n",
        "    return None\n",
        "\n",
        "# Test cases\n",
        "print(reconstruct_sentence({'quick', 'brown', 'the', 'fox'}, \"thequickbrownfox\"))\n",
        "print(reconstruct_sentence({'bed', 'bath', 'bedbath', 'and', 'beyond'}, \"bedbathandbeyond\"))\n"
      ]
    },
    {
      "cell_type": "markdown",
      "source": [
        "To modify the algorithm to return all possible reconstructions of the sentence, we can use backtracking. Instead of just storing the last index where a valid word ended, we'll explore all possible paths that lead to valid sentences. Here's how we can adjust the approach:\n",
        "\n",
        "1. **Initialization**: Similar to before, but instead of storing single indices in `dp`, we will store lists of indices to represent all possible valid word endings up to that point.\n",
        "\n",
        "2. **Iterate Over the String**: For each index `i` in the string, check each word in the dictionary. If the word fits starting from index `i`, append `i` to the list at `dp[i + len(word)]`.\n",
        "\n",
        "3. **Backtracking to Find All Sentences**: Use a recursive function to backtrack from the end of the string, collecting all possible sentences.\n",
        "\n",
        "4. **Return the Result**: Return a list of all constructed sentences.\n",
        "\n",
        "The modified function now returns all possible reconstructions of the sentences:\n",
        "\n",
        "1. For the set of words 'quick', 'brown', 'the', 'fox', and the string \"thequickbrownfox\", it returns `[['the', 'quick', 'brown', 'fox']]`. In this case, there's only one valid reconstruction.\n",
        "\n",
        "2. For the set of words 'bed', 'bath', 'bedbath', 'and', 'beyond', and the string \"bedbathandbeyond\", it returns `[['bedbath', 'and', 'beyond'], ['bed', 'bath', 'and', 'beyond']]`. Here, both possible reconstructions are provided."
      ],
      "metadata": {
        "id": "S_GDAfKnx-UY"
      }
    },
    {
      "cell_type": "code",
      "source": [
        "def reconstruct_all_sentences(dictionary, s):\n",
        "    # Initialize the dp array with empty lists\n",
        "    dp = [[] for _ in range(len(s) + 1)]\n",
        "    dp[0].append(-1)  # Base case: empty string is a valid starting point\n",
        "\n",
        "    # Populate the dp array with all possible valid word endings\n",
        "    for i in range(len(s)):\n",
        "        for word in dictionary:\n",
        "            if s.startswith(word, i):\n",
        "                dp[i + len(word)].append(i)\n",
        "\n",
        "    # Function to backtrack and find all possible sentences\n",
        "    def backtrack(index):\n",
        "        if index == 0:\n",
        "            return [[]]\n",
        "        sentences = []\n",
        "        for start_index in dp[index]:\n",
        "            for prev_sentence in backtrack(start_index):\n",
        "                sentences.append(prev_sentence + [s[start_index:index]])\n",
        "        return sentences\n",
        "\n",
        "    # Find and return all sentences\n",
        "    all_sentences = backtrack(len(s))\n",
        "    return [sentence for sentence in all_sentences if sentence] or None\n",
        "\n",
        "# Test cases\n",
        "print(reconstruct_all_sentences({'quick', 'brown', 'the', 'fox'}, \"thequickbrownfox\"))\n",
        "print(reconstruct_all_sentences({'bed', 'bath', 'bedbath', 'and', 'beyond'}, \"bedbathandbeyond\"))\n"
      ],
      "metadata": {
        "colab": {
          "base_uri": "https://localhost:8080/"
        },
        "id": "AoAcEdArxi81",
        "outputId": "b5201c30-c4ac-417c-a23c-566bf23f2a46"
      },
      "execution_count": 2,
      "outputs": [
        {
          "output_type": "stream",
          "name": "stdout",
          "text": [
            "[['the', 'quick', 'brown', 'fox']]\n",
            "[['bedbath', 'and', 'beyond'], ['bed', 'bath', 'and', 'beyond']]\n"
          ]
        }
      ]
    }
  ]
}