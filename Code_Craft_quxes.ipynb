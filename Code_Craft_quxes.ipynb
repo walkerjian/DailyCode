{
  "nbformat": 4,
  "nbformat_minor": 0,
  "metadata": {
    "colab": {
      "provenance": [],
      "authorship_tag": "ABX9TyOM7Vg1jg8l3DzqMi6MhrGF",
      "include_colab_link": true
    },
    "kernelspec": {
      "name": "python3",
      "display_name": "Python 3"
    },
    "language_info": {
      "name": "python"
    }
  },
  "cells": [
    {
      "cell_type": "markdown",
      "metadata": {
        "id": "view-in-github",
        "colab_type": "text"
      },
      "source": [
        "<a href=\"https://colab.research.google.com/github/walkerjian/DailyCode/blob/main/Code_Craft_quxes.ipynb\" target=\"_parent\"><img src=\"https://colab.research.google.com/assets/colab-badge.svg\" alt=\"Open In Colab\"/></a>"
      ]
    },
    {
      "cell_type": "markdown",
      "source": [
        "##Problem:\n",
        "On a mysterious island there are creatures known as Quxes which come in three colors: red, green, and blue. One power of the Qux is that if two of them are standing next to each other, they can transform into a single creature of the third color.\n",
        "\n",
        "Given N Quxes standing in a line, determine the smallest number of them remaining after any possible sequence of such transformations.\n",
        "\n",
        "For example, given the input ['R', 'G', 'B', 'G', 'B'], it is possible to end up with a single Qux through the following steps:\n",
        "```\n",
        "        Arrangement       |   Change\n",
        "----------------------------------------\n",
        "['R', 'G', 'B', 'G', 'B'] | (R, G) -> B\n",
        "['B', 'B', 'G', 'B']      | (B, G) -> R\n",
        "['B', 'R', 'B']           | (R, B) -> G\n",
        "['B', 'G']                | (B, G) -> R\n",
        "['R']                     |\n",
        "```"
      ],
      "metadata": {
        "id": "GRctUub12fe7"
      }
    },
    {
      "cell_type": "markdown",
      "source": [
        "##Solution:\n"
      ],
      "metadata": {
        "id": "Px5RFBiw2jcm"
      }
    },
    {
      "cell_type": "code",
      "source": [
        "def transform_sequence_correct_v3(quxes):\n",
        "    def transform(a, b):\n",
        "        allowed_colors = {'R', 'G', 'B'}\n",
        "        transform_map = {\n",
        "          'RG': 'B', 'GB': 'R', 'BR': 'G',\n",
        "          'GR': 'B', 'BG': 'R', 'RB': 'G'\n",
        "        }\n",
        "        # Check if both a and b are in the allowed set of colors\n",
        "        if a in allowed_colors and b in allowed_colors:\n",
        "          # Map for transforming a pair into the third color\n",
        "          return transform_map.get(a + b)\n",
        "        else:\n",
        "          # Return None in case of invalid input\n",
        "          return None\n",
        "\n",
        "\n",
        "    steps = [quxes.copy()]  # Initial state\n",
        "    quxes_copy = quxes.copy()  # Working with a copy to avoid in-place modifications\n",
        "\n",
        "    while len(quxes_copy) > 1:\n",
        "        changed = False\n",
        "        for i in range(len(quxes_copy) - 1):\n",
        "            if quxes_copy[i] != quxes_copy[i + 1]:\n",
        "                new_color = transform(quxes_copy[i], quxes_copy[i + 1])\n",
        "                quxes_copy[i] = new_color\n",
        "                del quxes_copy[i + 1]\n",
        "                steps.append(quxes_copy.copy())\n",
        "                changed = True\n",
        "                break\n",
        "\n",
        "        if not changed:\n",
        "            break\n",
        "\n",
        "    return steps\n",
        "\n",
        "def test_transform_sequence_full_corrected_v3():\n",
        "    test_cases = [\n",
        "        ['R', 'G', 'B', 'G', 'B'],\n",
        "        ['R', 'R'],\n",
        "        ['G', 'B'],\n",
        "        ['B', 'G', 'R'],\n",
        "        ['R', 'G', 'B', 'R', 'G', 'B'],\n",
        "        ['R'],\n",
        "        ['B', 'B', 'B', 'B', 'B', 'B'],\n",
        "        ['B', 'B', 'B', 'K', 'B', 'B','B'],\n",
        "        []\n",
        "    ]\n",
        "\n",
        "    results = {}\n",
        "    for index, quxes in enumerate(test_cases, start=1):\n",
        "        transformation_steps = transform_sequence_correct_v3(quxes)\n",
        "        results[f\"Test Case {index}: {quxes}\"] = {\n",
        "            \"Transformations\": transformation_steps,\n",
        "            \"Final Count\": len(transformation_steps[-1])\n",
        "        }\n",
        "\n",
        "    return results\n",
        "\n",
        "# Running the corrected test suite with proper initialization\n",
        "corrected_test_results_v3 = test_transform_sequence_full_corrected_v3()\n",
        "\n",
        "# Pretty printing the corrected test results\n",
        "pretty_printed_corrected_results_v3 = pretty_print_results_correct(corrected_test_results_v3)\n",
        "print(pretty_printed_corrected_results_v3)\n"
      ],
      "metadata": {
        "colab": {
          "base_uri": "https://localhost:8080/"
        },
        "id": "ugHJ0U8WAiiT",
        "outputId": "31cfee75-9848-4949-b574-111b4ad04a26"
      },
      "execution_count": 38,
      "outputs": [
        {
          "output_type": "stream",
          "name": "stdout",
          "text": [
            "Test Case: Test Case 1: ['R', 'G', 'B', 'G', 'B']\n",
            "Transformations:\n",
            "Arrangement: ['R', 'G', 'B', 'G', 'B']\n",
            "Arrangement: ['B', 'B', 'G', 'B']\n",
            "Arrangement: ['B', 'R', 'B']\n",
            "Arrangement: ['G', 'B']\n",
            "Arrangement: ['R']\n",
            "Final Count: 1\n",
            "\n",
            "Test Case: Test Case 2: ['R', 'R']\n",
            "Transformations:\n",
            "Arrangement: ['R', 'R']\n",
            "Final Count: 2\n",
            "\n",
            "Test Case: Test Case 3: ['G', 'B']\n",
            "Transformations:\n",
            "Arrangement: ['G', 'B']\n",
            "Arrangement: ['R']\n",
            "Final Count: 1\n",
            "\n",
            "Test Case: Test Case 4: ['B', 'G', 'R']\n",
            "Transformations:\n",
            "Arrangement: ['B', 'G', 'R']\n",
            "Arrangement: ['R', 'R']\n",
            "Final Count: 2\n",
            "\n",
            "Test Case: Test Case 5: ['R', 'G', 'B', 'R', 'G', 'B']\n",
            "Transformations:\n",
            "Arrangement: ['R', 'G', 'B', 'R', 'G', 'B']\n",
            "Arrangement: ['B', 'B', 'R', 'G', 'B']\n",
            "Arrangement: ['B', 'G', 'G', 'B']\n",
            "Arrangement: ['R', 'G', 'B']\n",
            "Arrangement: ['B', 'B']\n",
            "Final Count: 2\n",
            "\n",
            "Test Case: Test Case 6: ['R']\n",
            "Transformations:\n",
            "Arrangement: ['R']\n",
            "Final Count: 1\n",
            "\n",
            "Test Case: Test Case 7: ['B', 'B', 'B', 'B', 'B', 'B']\n",
            "Transformations:\n",
            "Arrangement: ['B', 'B', 'B', 'B', 'B', 'B']\n",
            "Final Count: 6\n",
            "\n",
            "Test Case: Test Case 8: ['B', 'B', 'B', 'K', 'B', 'B', 'B']\n",
            "Transformations:\n",
            "Arrangement: ['B', 'B', 'B', 'K', 'B', 'B', 'B']\n",
            "Arrangement: ['B', 'B', None, 'B', 'B', 'B']\n",
            "Arrangement: ['B', None, 'B', 'B', 'B']\n",
            "Arrangement: [None, 'B', 'B', 'B']\n",
            "Arrangement: [None, 'B', 'B']\n",
            "Arrangement: [None, 'B']\n",
            "Arrangement: [None]\n",
            "Final Count: 1\n",
            "\n",
            "Test Case: Test Case 9: []\n",
            "Transformations:\n",
            "Arrangement: []\n",
            "Final Count: 0\n",
            "\n",
            "\n"
          ]
        }
      ]
    },
    {
      "cell_type": "code",
      "source": [],
      "metadata": {
        "id": "ty0IAsQ-AjTU"
      },
      "execution_count": null,
      "outputs": []
    }
  ]
}