{
  "nbformat": 4,
  "nbformat_minor": 0,
  "metadata": {
    "colab": {
      "provenance": [],
      "authorship_tag": "ABX9TyO7xOwISgPlE5kVpvDmyeuz",
      "include_colab_link": true
    },
    "kernelspec": {
      "name": "python3",
      "display_name": "Python 3"
    },
    "language_info": {
      "name": "python"
    }
  },
  "cells": [
    {
      "cell_type": "markdown",
      "metadata": {
        "id": "view-in-github",
        "colab_type": "text"
      },
      "source": [
        "<a href=\"https://colab.research.google.com/github/walkerjian/DailyCode/blob/main/Code_Craft_word_ladder.ipynb\" target=\"_parent\"><img src=\"https://colab.research.google.com/assets/colab-badge.svg\" alt=\"Open In Colab\"/></a>"
      ]
    },
    {
      "cell_type": "markdown",
      "source": [
        "##Problem:\n",
        "Given a start word, an end word, and a dictionary of valid words, find the shortest transformation sequence from start to end such that only one letter is changed at each step of the sequence, and each transformed word exists in the dictionary. If there is no possible transformation, return null. Each word in the dictionary have the same length as start and end and is lowercase.\n",
        "\n",
        "For example, given start = \"dog\", end = \"cat\", and dictionary = {\"dot\", \"dop\", \"dat\", \"cat\"}, return [\"dog\", \"dot\", \"dat\", \"cat\"].\n",
        "\n",
        "Given start = \"dog\", end = \"cat\", and dictionary = {\"dot\", \"tod\", \"dat\", \"dar\"}, return null as there is no possible transformation from dog to cat."
      ],
      "metadata": {
        "id": "2lWyrXjB8EeD"
      }
    },
    {
      "cell_type": "markdown",
      "source": [
        "##Solution:\n",
        "\n",
        "The function correctly finds the shortest transformation sequence from the start word to the end word, using the given dictionary of valid words. Here are the results for the provided test cases:\n",
        "\n",
        "- For the input `start = \"dog\"`, `end = \"cat\"`, and `dictionary = {\"dot\", \"dop\", \"dat\", \"cat\"}`, the shortest transformation sequence returned is `[\"dog\", \"dot\", \"dat\", \"cat\"]`.\n",
        "- For the input `start = \"dog\"`, `end = \"cat\"`, and `dictionary = {\"dot\", \"tod\", \"dat\", \"dar\"}`, the function returns `None`, indicating there is no possible transformation from \"dog\" to \"cat\" given the dictionary provided.\n"
      ],
      "metadata": {
        "id": "jIohycTB8Hjb"
      }
    },
    {
      "cell_type": "markdown",
      "source": [
        "##Implementation:\n",
        "The implementation follows a breadth-first search (BFS) strategy to find the shortest transformation sequence from a start word to an end word, given a dictionary of valid words. Here's a breakdown of how the implementation works:\n",
        "\n",
        "1. **Input and Setup**: The function accepts a start word (`start`), an end word (`end`), and a set of valid words (`dictionary`). The dictionary is provided as a set for efficient lookup.\n",
        "\n",
        "2. **Early Exit Condition**: If the end word is not in the dictionary, it's immediately clear that no transformation sequence can succeed. Thus, the function returns `None`.\n",
        "\n",
        "3. **Queue Initialization**: The algorithm uses a queue to explore all possible transformations in a breadth-first manner. Each queue entry is a tuple containing a word and the path taken to reach that word, starting from the initial word. The queue is initialized with the start word and its path (which is just `[start]` initially).\n",
        "\n",
        "4. **Breadth-First Search (BFS)**:\n",
        "   - The BFS loop continues as long as there are entries in the queue.\n",
        "   - In each iteration, the algorithm dequeues an entry (a word and its path).\n",
        "   - If the dequeued word is the end word, the current path represents the shortest transformation sequence, and it is returned.\n",
        "   - Otherwise, the algorithm generates all possible single-letter transformations of the current word. For a word of length `n`, this involves replacing each letter in the word (at all `n` positions) with every letter from `a` to `z` and checking if the new word is in the dictionary.\n",
        "   - If a valid transformation is found (i.e., the transformed word is in the dictionary and hasn't been visited before), the algorithm enqueues this new word along with the path leading to it. The path is extended by adding the new word.\n",
        "   - To avoid revisiting words, the algorithm removes the newly found word from the dictionary. This step is crucial for ensuring that the search does not retrace its steps or fall into cycles.\n",
        "\n",
        "5. **End of Search**: If the queue is exhausted without finding the end word, the function concludes that no transformation sequence exists and returns `None`.\n",
        "\n",
        "This approach guarantees the shortest path due to the nature of BFS. Since BFS explores all possible paths of length `n` before paths of length `n+1`, the first time it encounters the end word, it has found the shortest possible transformation sequence."
      ],
      "metadata": {
        "id": "pkWuQrLB8K8H"
      }
    },
    {
      "cell_type": "code",
      "execution_count": 1,
      "metadata": {
        "id": "TIIt0l_k7Oi1",
        "colab": {
          "base_uri": "https://localhost:8080/"
        },
        "outputId": "d20a2c62-6de7-45b3-f18a-66f4b6297bf7"
      },
      "outputs": [
        {
          "output_type": "stream",
          "name": "stdout",
          "text": [
            "['dog', 'dot', 'dat', 'cat']\n",
            "None\n"
          ]
        }
      ],
      "source": [
        "from typing import List, Optional\n",
        "from collections import deque\n",
        "\n",
        "def word_ladder(start: str, end: str, dictionary: set) -> Optional[List[str]]:\n",
        "    if end not in dictionary:\n",
        "        return None\n",
        "\n",
        "    # Add the start word to the dictionary to make sure we can also transform into it\n",
        "    dictionary.add(start)\n",
        "\n",
        "    # Initialize the queue with the start word and the path taken to reach it\n",
        "    queue = deque([(start, [start])])\n",
        "\n",
        "    while queue:\n",
        "        # Get the current word and the path taken to reach it\n",
        "        current_word, path = queue.popleft()\n",
        "\n",
        "        # If the current word is the end word, return the path\n",
        "        if current_word == end:\n",
        "            return path\n",
        "\n",
        "        for i in range(len(current_word)):\n",
        "            for c in 'abcdefghijklmnopqrstuvwxyz':\n",
        "                next_word = current_word[:i] + c + current_word[i+1:]\n",
        "\n",
        "                # If the transformed word is in the dictionary and has not been visited yet\n",
        "                if next_word in dictionary:\n",
        "                    # Add the next word to the queue along with the path taken to reach it\n",
        "                    queue.append((next_word, path + [next_word]))\n",
        "                    # Remove the next word from the dictionary to prevent revisiting\n",
        "                    dictionary.remove(next_word)\n",
        "\n",
        "    # If no transformation is possible, return None\n",
        "    return None\n",
        "\n",
        "# Test cases\n",
        "print(word_ladder(\"dog\", \"cat\", {\"dot\", \"dop\", \"dat\", \"cat\"}))\n",
        "print(word_ladder(\"dog\", \"cat\", {\"dot\", \"tod\", \"dat\", \"dar\"}))\n"
      ]
    }
  ]
}