{
  "nbformat": 4,
  "nbformat_minor": 0,
  "metadata": {
    "colab": {
      "provenance": [],
      "authorship_tag": "ABX9TyMmN+zakkWaHi7u8gzLNEpY",
      "include_colab_link": true
    },
    "kernelspec": {
      "name": "python3",
      "display_name": "Python 3"
    },
    "language_info": {
      "name": "python"
    }
  },
  "cells": [
    {
      "cell_type": "markdown",
      "metadata": {
        "id": "view-in-github",
        "colab_type": "text"
      },
      "source": [
        "<a href=\"https://colab.research.google.com/github/walkerjian/DailyCode/blob/main/Code_Craft_swapPairs.ipynb\" target=\"_parent\"><img src=\"https://colab.research.google.com/assets/colab-badge.svg\" alt=\"Open In Colab\"/></a>"
      ]
    },
    {
      "cell_type": "markdown",
      "source": [
        "##Problem:\n",
        "Given the head of a singly linked list, swap every two nodes and return its head.\n",
        "\n",
        "For example, given 1 -> 2 -> 3 -> 4, return 2 -> 1 -> 4 -> 3."
      ],
      "metadata": {
        "id": "ClrORa--PXtB"
      }
    },
    {
      "cell_type": "markdown",
      "source": [
        "##Solution:\n",
        "To swap every two nodes in a singly linked list, we can iterate through the list, swapping pairs of nodes as we go. To do this, we need to handle a few cases, such as lists with odd numbers of nodes and ensuring we correctly link the swapped pairs to the rest of the list."
      ],
      "metadata": {
        "id": "cz_PWXUfPiSF"
      }
    },
    {
      "cell_type": "markdown",
      "source": [
        "##Implementtion:\n",
        "Here's a Python function that performs this operation. It uses a dummy node to simplify the edge case handling at the beginning of the list and updates pointers to swap pairs of nodes as it iterates through the list."
      ],
      "metadata": {
        "id": "r3carSSdPkcn"
      }
    },
    {
      "cell_type": "code",
      "execution_count": 3,
      "metadata": {
        "id": "xIP9RZQTPS-I"
      },
      "outputs": [],
      "source": [
        "class ListNode:\n",
        "    def __init__(self, val=0, next=None):\n",
        "        self.val = val\n",
        "        self.next = next\n",
        "\n",
        "def swapPairs(head: ListNode) -> ListNode:\n",
        "    # Create a dummy node to handle edge cases easily\n",
        "    dummy = ListNode(0)\n",
        "    dummy.next = head\n",
        "\n",
        "    # Initialize current to start at the dummy node\n",
        "    current = dummy\n",
        "\n",
        "    while current.next and current.next.next:\n",
        "        # Nodes to be swapped\n",
        "        first = current.next\n",
        "        second = current.next.next\n",
        "\n",
        "        # Swapping\n",
        "        first.next = second.next\n",
        "        second.next = first\n",
        "        current.next = second\n",
        "\n",
        "        # Move to the next pair\n",
        "        current = first\n",
        "\n",
        "    # Return the new head of the list\n",
        "    return dummy.next"
      ]
    },
    {
      "cell_type": "markdown",
      "source": [
        "##Testing:\n"
      ],
      "metadata": {
        "id": "aCTy_NKmPm_I"
      }
    },
    {
      "cell_type": "code",
      "source": [
        "\n",
        "# Helper function to print list nodes for demonstration\n",
        "def printList(head):\n",
        "    while head:\n",
        "        print(head.val, end=\" -> \" if head.next else \"\")\n",
        "        head = head.next\n",
        "    print()\n",
        "\n",
        "# Example Usage\n",
        "if __name__ == \"__main__\":\n",
        "    # Creating a sample list: 1 -> 2 -> 3 -> 4\n",
        "    head = ListNode(1, ListNode(2, ListNode(3, ListNode(4))))\n",
        "\n",
        "    # Swap pairs\n",
        "    new_head = swapPairs(head)\n",
        "\n",
        "    # Print the swapped list\n",
        "    printList(new_head)\n"
      ],
      "metadata": {
        "colab": {
          "base_uri": "https://localhost:8080/"
        },
        "id": "Vg6Que2-QFqI",
        "outputId": "9ded16dd-4e76-4241-cbc0-e332c7ebe045"
      },
      "execution_count": 4,
      "outputs": [
        {
          "output_type": "stream",
          "name": "stdout",
          "text": [
            "2 -> 1 -> 4 -> 3\n"
          ]
        }
      ]
    },
    {
      "cell_type": "markdown",
      "source": [
        "##Conclusion:\n",
        "This code snippet defines a `ListNode` class to represent nodes in the singly linked list. The `swapPairs` function takes the head of a linked list as input and returns a new head after swapping every two adjacent nodes. The `printList` function is a helper to visualize the list after swapping."
      ],
      "metadata": {
        "id": "Yld4mywcPoqa"
      }
    }
  ]
}