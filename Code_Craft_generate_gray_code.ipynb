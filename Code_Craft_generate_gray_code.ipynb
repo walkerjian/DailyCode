{
  "nbformat": 4,
  "nbformat_minor": 0,
  "metadata": {
    "colab": {
      "provenance": [],
      "authorship_tag": "ABX9TyMWxI6UfvmMEu/JxZMp5pNM",
      "include_colab_link": true
    },
    "kernelspec": {
      "name": "python3",
      "display_name": "Python 3"
    },
    "language_info": {
      "name": "python"
    }
  },
  "cells": [
    {
      "cell_type": "markdown",
      "metadata": {
        "id": "view-in-github",
        "colab_type": "text"
      },
      "source": [
        "<a href=\"https://colab.research.google.com/github/walkerjian/DailyCode/blob/main/Code_Craft_generate_gray_code.ipynb\" target=\"_parent\"><img src=\"https://colab.research.google.com/assets/colab-badge.svg\" alt=\"Open In Colab\"/></a>"
      ]
    },
    {
      "cell_type": "markdown",
      "source": [
        "##Problem:\n",
        "Gray code is a binary code where each successive value differ in only one bit, as well as when wrapping around. Gray code is common in hardware so that we don't see temporary spurious values during transitions.\n",
        "\n",
        "Given a number of bits n, generate a possible gray code for it.\n",
        "\n",
        "For example, for n = 2, one gray code would be [00, 01, 11, 10]."
      ],
      "metadata": {
        "id": "ZRTUDHx7PwnA"
      }
    },
    {
      "cell_type": "markdown",
      "source": [
        "##Solution:\n",
        "To generate a Gray code sequence for a given number of bits $n$, we can use a recursive approach. The essence of generating Gray codes lies in the reflection method, which involves the following steps:\n",
        "\n",
        "1. Begin with the Gray code list for $n-1$ bits.\n",
        "2. Prefix all the entries in this list with '0'.\n",
        "3. Create a mirror image of this list and prefix these entries with '1'.\n",
        "4. Concatenate the original list (from step 2) with the mirrored list (from step 3).\n",
        "\n",
        "For a base case, when $n = 1$, the Gray code is $['0', '1']$.\n"
      ],
      "metadata": {
        "id": "uq48TQOXP0Cy"
      }
    },
    {
      "cell_type": "markdown",
      "source": [
        "##Implementation:\n",
        "Let's implement this algorithm in Python to generate a Gray code for a given number of bits $n$.\n",
        "\n",
        "````Python\n",
        "def generate_gray_code(n):\n",
        "    # Base case: For a single bit, the Gray code is ['0', '1']\n",
        "    if n == 1:\n",
        "        return ['0', '1']\n",
        "    \n",
        "    # Recursive case: Generate Gray code for n-1 bits\n",
        "    prev_gray_code = generate_gray_code(n - 1)\n",
        "    \n",
        "    # Prefix the entries of the previous list with '0'\n",
        "    first_half = ['0' + code for code in prev_gray_code]\n",
        "    \n",
        "    # Create a mirror image of the previous list and prefix with '1'\n",
        "    second_half = ['1' + code for code in reversed(prev_gray_code)]\n",
        "    \n",
        "    # Concatenate the two halves\n",
        "    gray_code = first_half + second_half\n",
        "    \n",
        "    return gray_code\n",
        "\n",
        "# Example for n = 2\n",
        "n = 2\n",
        "gray_code_n_2 = generate_gray_code(n)\n",
        "gray_code_n_2\n",
        "\n",
        "````"
      ],
      "metadata": {
        "id": "8HlMgU22QDU2"
      }
    },
    {
      "cell_type": "code",
      "execution_count": 1,
      "metadata": {
        "colab": {
          "base_uri": "https://localhost:8080/"
        },
        "id": "JgJP6PfFPvn7",
        "outputId": "a8e058b7-6f17-4e0d-b618-080bc5db59ae"
      },
      "outputs": [
        {
          "output_type": "execute_result",
          "data": {
            "text/plain": [
              "['00', '01', '11', '10']"
            ]
          },
          "metadata": {},
          "execution_count": 1
        }
      ],
      "source": [
        "def generate_gray_code(n):\n",
        "    # Base case: For a single bit, the Gray code is ['0', '1']\n",
        "    if n == 1:\n",
        "        return ['0', '1']\n",
        "\n",
        "    # Recursive case: Generate Gray code for n-1 bits\n",
        "    prev_gray_code = generate_gray_code(n - 1)\n",
        "\n",
        "    # Prefix the entries of the previous list with '0'\n",
        "    first_half = ['0' + code for code in prev_gray_code]\n",
        "\n",
        "    # Create a mirror image of the previous list and prefix with '1'\n",
        "    second_half = ['1' + code for code in reversed(prev_gray_code)]\n",
        "\n",
        "    # Concatenate the two halves\n",
        "    gray_code = first_half + second_half\n",
        "\n",
        "    return gray_code\n",
        "\n",
        "# Example for n = 2\n",
        "n = 2\n",
        "gray_code_n_2 = generate_gray_code(n)\n",
        "gray_code_n_2\n"
      ]
    },
    {
      "cell_type": "markdown",
      "source": [
        "\n",
        "For $n = 2$, a possible Gray code sequence is $['00', '01', '11', '10']$, which aligns with the example you provided. Each successive value in this sequence differs by only one bit, and the sequence also maintains this property when wrapping around from the last value to the first."
      ],
      "metadata": {
        "id": "WX_kSbkzQJyX"
      }
    }
  ]
}