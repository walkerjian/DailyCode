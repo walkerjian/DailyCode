{
  "nbformat": 4,
  "nbformat_minor": 0,
  "metadata": {
    "colab": {
      "provenance": [],
      "authorship_tag": "ABX9TyNMAkvsZ2Kz6ffCiWlOLx4a",
      "include_colab_link": true
    },
    "kernelspec": {
      "name": "python3",
      "display_name": "Python 3"
    },
    "language_info": {
      "name": "python"
    }
  },
  "cells": [
    {
      "cell_type": "markdown",
      "metadata": {
        "id": "view-in-github",
        "colab_type": "text"
      },
      "source": [
        "<a href=\"https://colab.research.google.com/github/walkerjian/DailyCode/blob/main/Code_Craft_SmartReverseLinkedList_C%2B%2B.ipynb\" target=\"_parent\"><img src=\"https://colab.research.google.com/assets/colab-badge.svg\" alt=\"Open In Colab\"/></a>"
      ]
    },
    {
      "cell_type": "markdown",
      "source": [
        "##Problem:\n",
        "Given the head of a singly linked list, reverse it in-place.\n",
        "##Solution:\n",
        "To reverse a singly linked list in-place, we need to modify the next pointers of each node so that they point to the previous node instead of the next node. We'll use three pointers: `prev`, `curr`, and `next` to keep track of the nodes while we traverse and reverse the list. Here's a step-by-step algorithm:\n",
        "\n",
        "1. Initialize three pointers: `prev` as `null`, `curr` as the head of the list, and `next` as `null`.\n",
        "2. Traverse the list. For each node:\n",
        "   - Save the next node (`next = curr.next`).\n",
        "   - Reverse the current node's pointer (`curr.next = prev`).\n",
        "   - Move `prev` and `curr` one step forward (`prev = curr`, `curr = next`).\n",
        "3. Once the traversal is complete, `prev` will be pointing to the new head of the reversed list.\n",
        "\n",
        "I'll provide a Python implementation of this algorithm. Let's assume the linked list nodes are defined as follows:\n",
        "##Implementation:"
      ],
      "metadata": {
        "id": "yvO3WcMWO19t"
      }
    },
    {
      "cell_type": "code",
      "execution_count": 1,
      "metadata": {
        "id": "Jn2i1N__O1Oy"
      },
      "outputs": [],
      "source": [
        "class ListNode:\n",
        "    def __init__(self, value=0, next=None):\n",
        "        self.value = value\n",
        "        self.next = next\n",
        "\n",
        "def reverseLinkedList(head):\n",
        "    prev = None\n",
        "    curr = head\n",
        "\n",
        "    while curr:\n",
        "        next = curr.next\n",
        "        curr.next = prev\n",
        "        prev = curr\n",
        "        curr = next\n",
        "\n",
        "    return prev  # New head of the reversed list\n"
      ]
    },
    {
      "cell_type": "markdown",
      "source": [
        "##Testing:\n",
        "To thoroughly test the `reverseLinkedList` function, we should consider various scenarios, including:\n",
        "\n",
        "1. An empty list (to ensure the function handles this gracefully).\n",
        "2. A list with a single node (to check if the reversal works with the minimal case).\n",
        "3. A list with two nodes (to test a simple reversal).\n",
        "4. A list with multiple nodes (to test the general case).\n",
        "5. Large lists (to ensure the function performs well with large inputs).\n",
        "\n",
        "Let's write a test harness in Python to cover these scenarios. We'll also need a helper function to create a linked list from a Python list and another helper function to convert a linked list to a Python list for easy verification.\n",
        "\n",
        "Here's the complete test harness:\n"
      ],
      "metadata": {
        "id": "M0f6B9lPPUVU"
      }
    },
    {
      "cell_type": "code",
      "source": [
        "class ListNode:\n",
        "    def __init__(self, value=0, next=None):\n",
        "        self.value = value\n",
        "        self.next = next\n",
        "\n",
        "def reverseLinkedList(head):\n",
        "    prev = None\n",
        "    curr = head\n",
        "\n",
        "    while curr:\n",
        "        next = curr.next\n",
        "        curr.next = prev\n",
        "        prev = curr\n",
        "        curr = next\n",
        "\n",
        "    return prev\n",
        "\n",
        "def createLinkedList(lst):\n",
        "    dummy = ListNode()\n",
        "    current = dummy\n",
        "    for value in lst:\n",
        "        current.next = ListNode(value)\n",
        "        current = current.next\n",
        "    return dummy.next\n",
        "\n",
        "def linkedListToList(head):\n",
        "    result = []\n",
        "    current = head\n",
        "    while current:\n",
        "        result.append(current.value)\n",
        "        current = current.next\n",
        "    return result\n",
        "\n",
        "# Test harness\n",
        "def testReverseLinkedList():\n",
        "    test_cases = [\n",
        "        ([], []),\n",
        "        ([1], [1]),\n",
        "        ([1, 2], [2, 1]),\n",
        "        ([1, 2, 3, 4, 5], [5, 4, 3, 2, 1]),\n",
        "        ([i for i in range(1000)], [i for i in range(999, -1, -1)])\n",
        "    ]\n",
        "\n",
        "    for i, (input_list, expected_output) in enumerate(test_cases):\n",
        "        head = createLinkedList(input_list)\n",
        "        reversed_head = reverseLinkedList(head)\n",
        "        result = linkedListToList(reversed_head)\n",
        "        assert result == expected_output, f\"Test case {i+1} failed: expected {expected_output}, got {result}\"\n",
        "        print(f\"Test case {i+1} passed.\")\n",
        "\n",
        "testReverseLinkedList()\n"
      ],
      "metadata": {
        "colab": {
          "base_uri": "https://localhost:8080/"
        },
        "id": "37TnmoZOPh0S",
        "outputId": "19cdab52-a10c-4166-b156-fce91c29aebd"
      },
      "execution_count": 2,
      "outputs": [
        {
          "output_type": "stream",
          "name": "stdout",
          "text": [
            "Test case 1 passed.\n",
            "Test case 2 passed.\n",
            "Test case 3 passed.\n",
            "Test case 4 passed.\n",
            "Test case 5 passed.\n"
          ]
        }
      ]
    },
    {
      "cell_type": "markdown",
      "source": [
        "##C++ Methods:\n",
        "To reverse a singly linked list in C++, we'll employ a similar approach as in Python, but with the nuances of C++'s pointer management and modern features. Let's walk through the key steps:\n",
        "\n",
        "1. **Node Structure Definition**: We define a `struct` for the list nodes, encapsulating both the data and a pointer to the next node.\n",
        "\n",
        "2. **Reversal Logic**: We'll use three pointers (`prev`, `curr`, and `next`) to iterate through the list and reverse the links between the nodes. This process is done in-place.\n",
        "\n",
        "3. **Colab C++ Environment Setup**: To run C++ in a Colab notebook, we use the `%%writefile` magic command to write the C++ code into a file, and then compile and run this file using `!g++` and `!./a.out` commands, respectively.\n",
        "\n",
        "4. **Efficiency Considerations**: We'll use modern C++ features for clarity and efficiency. For instance, smart pointers can be used, but for educational purposes and to demonstrate raw pointer manipulation, we'll stick to raw pointers here.\n",
        "\n",
        "Here's the C++ code, along with comments explaining the logic:\n",
        "\n",
        "This code demonstrates modern C++ practices like initializer lists for struct construction and thorough memory management. While smart pointers (like `std::unique_ptr`) are more typical in modern C++ for automatic memory management, I used raw pointers here to demonstrate manual memory management and provide a clearer illustration of pointer manipulation, which is central to linked list operations."
      ],
      "metadata": {
        "id": "YZQGuiIwSE7L"
      }
    },
    {
      "cell_type": "code",
      "source": [
        "%%writefile ReverseLinkedList.cpp\n",
        "#include <iostream>\n",
        "using namespace std;\n",
        "\n",
        "// Define the ListNode struct\n",
        "struct ListNode {\n",
        "    int value;\n",
        "    ListNode* next;\n",
        "\n",
        "    ListNode(int x) : value(x), next(nullptr) {}\n",
        "};\n",
        "\n",
        "// Function to reverse the linked list\n",
        "ListNode* reverseLinkedList(ListNode* head) {\n",
        "    ListNode* prev = nullptr;\n",
        "    ListNode* curr = head;\n",
        "    ListNode* next = nullptr;\n",
        "\n",
        "    while (curr != nullptr) {\n",
        "        next = curr->next;  // Save next\n",
        "        curr->next = prev;  // Reverse pointer\n",
        "        prev = curr;        // Advance prev\n",
        "        curr = next;        // Advance curr\n",
        "    }\n",
        "    return prev;  // New head is prev\n",
        "}\n",
        "\n",
        "// Helper function to print the linked list\n",
        "void printList(ListNode* head) {\n",
        "    while (head != nullptr) {\n",
        "        cout << head->value << \" \";\n",
        "        head = head->next;\n",
        "    }\n",
        "    cout << endl;\n",
        "}\n",
        "\n",
        "// Test harness\n",
        "int main() {\n",
        "    // Create a test list: 1 -> 2 -> 3 -> 4\n",
        "    ListNode* head = new ListNode(1);\n",
        "    head->next = new ListNode(2);\n",
        "    head->next->next = new ListNode(3);\n",
        "    head->next->next->next = new ListNode(4);\n",
        "\n",
        "    cout << \"Original List: \";\n",
        "    printList(head);\n",
        "\n",
        "    head = reverseLinkedList(head);\n",
        "\n",
        "    cout << \"Reversed List: \";\n",
        "    printList(head);\n",
        "\n",
        "    // Clean up memory\n",
        "    while (head != nullptr) {\n",
        "        ListNode* temp = head;\n",
        "        head = head->next;\n",
        "        delete temp;\n",
        "    }\n",
        "\n",
        "    return 0;\n",
        "}\n"
      ],
      "metadata": {
        "colab": {
          "base_uri": "https://localhost:8080/"
        },
        "id": "TjPkaXNdQcTQ",
        "outputId": "115c0d7c-6507-4242-df0e-850141708610"
      },
      "execution_count": 3,
      "outputs": [
        {
          "output_type": "stream",
          "name": "stdout",
          "text": [
            "Writing ReverseLinkedList.cpp\n"
          ]
        }
      ]
    },
    {
      "cell_type": "code",
      "source": [
        "!g++ -std=c++17 ReverseLinkedList.cpp -o ReverseLinkedList\n",
        "!./ReverseLinkedList\n"
      ],
      "metadata": {
        "colab": {
          "base_uri": "https://localhost:8080/"
        },
        "id": "wOehyxuoQoUy",
        "outputId": "594a2c59-9154-421c-b97d-4aea694bcdc5"
      },
      "execution_count": 4,
      "outputs": [
        {
          "output_type": "stream",
          "name": "stdout",
          "text": [
            "Original List: 1 2 3 4 \n",
            "Reversed List: 4 3 2 1 \n"
          ]
        }
      ]
    },
    {
      "cell_type": "markdown",
      "source": [
        "##Modern C++ Methods:\n",
        "Using smart pointers and other modern C++ features can greatly enhance the safety and efficiency of our code. Let's revise the previous example with these improvements:\n",
        "\n",
        "1. **Smart Pointers**: We'll use `std::unique_ptr` for automatic memory management. This ensures that memory is properly freed when a `ListNode` object is no longer needed, preventing memory leaks.\n",
        "\n",
        "2. **Move Semantics**: When updating pointers, we'll use `std::move` to transfer ownership of a `unique_ptr` without copying the underlying object. This is more efficient and expresses our intentions more clearly.\n",
        "\n",
        "3. **Rule of Three/Five**: Given that we are using `unique_ptr`, the default copy constructor and assignment operator provided by the compiler would be deleted. However, in this context, it's not necessary to define custom ones, as `ListNode` instances are not meant to be copied or assigned.\n",
        "\n",
        "4. **Simplifying Memory Management**: With `unique_ptr`, there's no need for explicit deletion of nodes. This simplification reduces the risk of memory-related errors.\n",
        "\n",
        "In this version, `unique_ptr` manages the memory of `ListNode` objects. When a `unique_ptr` goes out of scope or is reassigned, the memory it owns is automatically released. This makes our code safer and easier to maintain, as we no longer need to worry about manually deleting `ListNode` objects. The use of `move` semantics is crucial here, as `unique_ptr` does not allow copying, only moving, which transfers ownership of the managed object.\n",
        "\n",
        "This implementation is a good example of modern C++ practices, emphasizing safety (through automatic memory management) and efficiency (via move semantics).\n",
        "\n",
        "Here's the revised C++ code:"
      ],
      "metadata": {
        "id": "NMuPrTWrSa0q"
      }
    },
    {
      "cell_type": "code",
      "source": [
        "%%writefile SmartReverseLinkedList.cpp\n",
        "#include <iostream>\n",
        "#include <memory>\n",
        "using namespace std;\n",
        "\n",
        "// Define the ListNode struct with unique_ptr\n",
        "struct ListNode {\n",
        "    int value;\n",
        "    unique_ptr<ListNode> next;\n",
        "\n",
        "    ListNode(int x) : value(x), next(nullptr) {}\n",
        "};\n",
        "\n",
        "// Function to reverse the linked list\n",
        "unique_ptr<ListNode> reverseLinkedList(unique_ptr<ListNode>& head) {\n",
        "    unique_ptr<ListNode> prev = nullptr;\n",
        "    unique_ptr<ListNode> curr = move(head);\n",
        "    unique_ptr<ListNode> next = nullptr;\n",
        "\n",
        "    while (curr != nullptr) {\n",
        "        next = move(curr->next);   // Transfer ownership\n",
        "        curr->next = move(prev);   // Transfer ownership\n",
        "        prev = move(curr);         // Transfer ownership\n",
        "        curr = move(next);         // Transfer ownership\n",
        "    }\n",
        "    return prev;  // New head is prev\n",
        "}\n",
        "\n",
        "// Helper function to print the linked list\n",
        "void printList(const unique_ptr<ListNode>& head) {\n",
        "    const ListNode* curr = head.get();\n",
        "    while (curr != nullptr) {\n",
        "        cout << curr->value << \" \";\n",
        "        curr = curr->next.get();\n",
        "    }\n",
        "    cout << endl;\n",
        "}\n",
        "\n",
        "// Test harness\n",
        "int main() {\n",
        "    // Create a test list: 1 -> 2 -> 3 -> 4\n",
        "    unique_ptr<ListNode> head = make_unique<ListNode>(1);\n",
        "    head->next = make_unique<ListNode>(2);\n",
        "    head->next->next = make_unique<ListNode>(3);\n",
        "    head->next->next->next = make_unique<ListNode>(4);\n",
        "\n",
        "    cout << \"Original List: \";\n",
        "    printList(head);\n",
        "\n",
        "    head = reverseLinkedList(head);\n",
        "\n",
        "    cout << \"Reversed List: \";\n",
        "    printList(head);\n",
        "\n",
        "    return 0;\n",
        "}\n"
      ],
      "metadata": {
        "colab": {
          "base_uri": "https://localhost:8080/"
        },
        "id": "skBkTdOrQrGJ",
        "outputId": "f1d0e9c5-b8e2-44d4-b3c5-42099e5b31d1"
      },
      "execution_count": 5,
      "outputs": [
        {
          "output_type": "stream",
          "name": "stdout",
          "text": [
            "Writing SmartReverseLinkedList.cpp\n"
          ]
        }
      ]
    },
    {
      "cell_type": "code",
      "source": [
        "!g++ -std=c++17 SmartReverseLinkedList.cpp -o SmartReverseLinkedList\n",
        "!./SmartReverseLinkedList\n"
      ],
      "metadata": {
        "colab": {
          "base_uri": "https://localhost:8080/"
        },
        "id": "G4YNh3_gRDQa",
        "outputId": "9a7ddf6d-9ae2-4b20-ad91-cea2d57e6d7b"
      },
      "execution_count": 6,
      "outputs": [
        {
          "output_type": "stream",
          "name": "stdout",
          "text": [
            "Original List: 1 2 3 4 \n",
            "Reversed List: 4 3 2 1 \n"
          ]
        }
      ]
    },
    {
      "cell_type": "markdown",
      "source": [
        "##Raw vs Smart Pointers:\n",
        "A comprehensive study of C++ pointers, focusing on the transition from raw pointers to smart pointers.\n",
        "\n",
        "### Understanding Raw Pointers\n",
        "\n",
        "1. **Basics**: In C++, a raw pointer is a variable that holds the memory address of another variable. They are powerful but require careful management.\n",
        "\n",
        "2. **Memory Management**: The primary challenge with raw pointers is manual memory management. You must explicitly allocate and deallocate memory using `new` and `delete`.\n",
        "\n",
        "3. **Dangling Pointers**: These occur when a memory address is referenced after it has been freed. This can lead to undefined behavior and difficult-to-track bugs.\n",
        "\n",
        "4. **Memory Leaks**: Forgetting to free memory allocated with `new` results in memory leaks, where memory is consumed but not available for use.\n",
        "\n",
        "5. **Ownership and Lifetimes**: Raw pointers don't inherently convey ownership semantics, making it unclear whether a pointer is responsible for deallocating the memory it points to.\n",
        "\n",
        "### Introduction to Smart Pointers\n",
        "\n",
        "Smart pointers are a part of the C++ Standard Library that manage memory automatically. They help prevent memory leaks and make code safer and more readable.\n",
        "\n",
        "### Types of Smart Pointers\n",
        "\n",
        "1. **std::unique_ptr**:\n",
        "   - Provides exclusive ownership of the memory.\n",
        "   - Memory is automatically released when the `unique_ptr` goes out of scope.\n",
        "   - Cannot be copied, ensuring single ownership, but can be moved using move semantics.\n",
        "\n",
        "2. **std::shared_ptr**:\n",
        "   - Allows multiple pointers to own a single resource.\n",
        "   - Uses reference counting to track how many `shared_ptr`s point to the same memory. The memory is freed when the last `shared_ptr` is destroyed or reset.\n",
        "\n",
        "3. **std::weak_ptr**:\n",
        "   - Complements `shared_ptr` by providing a non-owning \"weak\" reference.\n",
        "   - Does not increase the reference count of `shared_ptr`.\n",
        "   - Useful for breaking reference cycles which can lead to memory leaks.\n",
        "\n",
        "### Transitioning from Raw to Smart Pointers\n",
        "\n",
        "1. **Automatic Memory Management**: Smart pointers automatically manage memory, reducing the risk of memory leaks and dangling pointers.\n",
        "\n",
        "2. **Ownership Semantics**: They make ownership and lifetime management of dynamic objects more explicit and easier to understand.\n",
        "\n",
        "3. **Avoiding Common Pitfalls**:\n",
        "   - With smart pointers, many common issues like double deletion, memory leaks, and dangling pointers are greatly mitigated.\n",
        "\n",
        "4. **Performance Considerations**: While smart pointers introduce some overhead (like reference counting in `shared_ptr`), they provide significant safety benefits. Modern C++ compilers are also quite efficient at optimizing smart pointer usage.\n",
        "\n",
        "### Best Practices\n",
        "\n",
        "1. **Prefer Smart Pointers**: Favor `unique_ptr` and `shared_ptr` over raw pointers for dynamic memory allocation.\n",
        "\n",
        "2. **Use Raw Pointers for Non-owning References**: When you need a pointer that does not imply ownership, raw pointers or `weak_ptr` are appropriate.\n",
        "\n",
        "3. **Be Cautious with Cycles**: Be wary of reference cycles with `shared_ptr`, which can lead to memory leaks. Use `weak_ptr` to break cycles.\n",
        "\n",
        "4. **Interoperability with Legacy Code**: When interfacing with legacy C++ code or C libraries, you might still need to use raw pointers. Wrap these as soon as possible in smart pointers."
      ],
      "metadata": {
        "id": "J4yh5kHfSwTh"
      }
    },
    {
      "cell_type": "markdown",
      "source": [
        "To illustrate the differences between raw and smart pointers in C++, let's use a simple example. We'll use a scenario where we manage a resource (like an object) first with raw pointers and then with smart pointers (`std::unique_ptr` and `std::shared_ptr`). This example will highlight key differences in memory management, ownership semantics, and overall code safety.\n",
        "\n",
        "### Scenario: Managing a Simple Resource\n",
        "\n",
        "Imagine we have a class `Resource` that represents a resource we want to manage:\n",
        "\n",
        "```cpp\n",
        "class Resource {\n",
        "public:\n",
        "    Resource() { std::cout << \"Resource acquired\\n\"; }\n",
        "    ~Resource() { std::cout << \"Resource released\\n\"; }\n",
        "\n",
        "    void use() { std::cout << \"Resource is being used\\n\"; }\n",
        "};\n",
        "```\n",
        "\n",
        "### 1. Managing Resource with Raw Pointers\n",
        "\n",
        "With raw pointers, we manually manage the resource's lifetime using `new` and `delete`.\n",
        "\n",
        "```cpp\n",
        "void useRawPointer() {\n",
        "    Resource *rawResource = new Resource(); // Acquiring resource\n",
        "    rawResource->use(); // Using resource\n",
        "\n",
        "    delete rawResource; // Releasing resource manually\n",
        "}\n",
        "```\n",
        "\n",
        "#### Issues with Raw Pointers:\n",
        "- **Manual Memory Management**: Requires explicit `delete` to release memory.\n",
        "- **Risk of Memory Leaks**: Forgetting to call `delete` leads to memory leaks.\n",
        "- **Dangling Pointers**: If the resource is deleted elsewhere, the pointer becomes dangling.\n",
        "- **No Ownership Semantics**: Unclear who owns the resource and who is responsible for releasing it.\n",
        "\n",
        "### 2. Managing Resource with `std::unique_ptr`\n",
        "\n",
        "`std::unique_ptr` automatically manages the resource's lifetime. When the `unique_ptr` goes out of scope, the resource is automatically released.\n",
        "\n",
        "```cpp\n",
        "#include <memory>\n",
        "\n",
        "void useUniquePtr() {\n",
        "    std::unique_ptr<Resource> uniqueResource = std::make_unique<Resource>(); // Acquiring resource\n",
        "    uniqueResource->use(); // Using resource\n",
        "\n",
        "    // Resource is automatically released when uniqueResource goes out of scope\n",
        "}\n",
        "```\n",
        "\n",
        "#### Benefits of `std::unique_ptr`:\n",
        "- **Automatic Memory Management**: Destructor automatically releases the resource.\n",
        "- **Single Ownership**: Clearly expresses that there is a single owner of the resource.\n",
        "- **Safe**: Prevents memory leaks and dangling pointers.\n",
        "- **Moveable but Not Copyable**: Enforces unique ownership semantics.\n",
        "\n",
        "### 3. Managing Resource with `std::shared_ptr`\n",
        "\n",
        "`std::shared_ptr` allows multiple pointers to share ownership of a resource. The resource is released when the last `shared_ptr` pointing to it is destroyed or reset.\n",
        "\n",
        "```cpp\n",
        "void useSharedPtr() {\n",
        "    std::shared_ptr<Resource> sharedResource1 = std::make_shared<Resource>(); // Acquiring resource\n",
        "    std::shared_ptr<Resource> sharedResource2 = sharedResource1; // sharedResource2 now shares ownership\n",
        "\n",
        "    sharedResource1->use(); // Using resource\n",
        "    sharedResource2->use(); // Using the same resource\n",
        "\n",
        "    // Resource is automatically released when both sharedResource1 and sharedResource2 go out of scope\n",
        "}\n",
        "```\n",
        "\n",
        "#### Benefits of `std::shared_ptr`:\n",
        "- **Shared Ownership**: Allows multiple owners of the same resource.\n",
        "- **Automatic Memory Management**: Resource is automatically released when the last `shared_ptr` is destroyed.\n",
        "- **Reference Counting**: Internally uses reference counting to track the number of owners.\n",
        "\n",
        "### Conclusion\n",
        "\n",
        "The evolution from raw pointers to smart pointers in C++ represents a significant shift towards writing safer, more maintainable code. While raw pointers offer fine-grained control, they come with substantial risks. Smart pointers abstract these complexities, providing robust memory management mechanisms that align with modern programming best practices. Understanding both is crucial for effective C++ programming, especially in systems where performance and resource management are critical.\n",
        "\n",
        "- **Raw Pointers**: Offer more control but require careful memory management. Prone to errors like memory leaks and dangling pointers.\n",
        "- **Smart Pointers (`unique_ptr`, `shared_ptr`)**: Automate memory management, enforce ownership rules, and improve code safety. Prefer these in modern C++ code.\n",
        "\n",
        "This comparison demonstrates how smart pointers in C++ provide a safer, more automatic, and clearer approach to resource management compared to traditional raw pointers."
      ],
      "metadata": {
        "id": "9h_S-B7aTM6Y"
      }
    }
  ]
}