{
  "nbformat": 4,
  "nbformat_minor": 0,
  "metadata": {
    "colab": {
      "provenance": [],
      "authorship_tag": "ABX9TyO6x/y2MDO8p0ptYFXxGlnx",
      "include_colab_link": true
    },
    "kernelspec": {
      "name": "python3",
      "display_name": "Python 3"
    },
    "language_info": {
      "name": "python"
    }
  },
  "cells": [
    {
      "cell_type": "markdown",
      "metadata": {
        "id": "view-in-github",
        "colab_type": "text"
      },
      "source": [
        "<a href=\"https://colab.research.google.com/github/walkerjian/DailyCode/blob/main/Code_Craft_find_two_sum_in_bst.ipynb\" target=\"_parent\"><img src=\"https://colab.research.google.com/assets/colab-badge.svg\" alt=\"Open In Colab\"/></a>"
      ]
    },
    {
      "cell_type": "markdown",
      "source": [
        "Given the root of a binary search tree, and a target K, return two nodes in the tree whose sum equals K.\n",
        "\n",
        "For example, given the following tree and K of 20\n",
        "````\n",
        "    10\n",
        "   /   \\\n",
        " 5      15\n",
        "       /  \\\n",
        "     11    15\n",
        "\n",
        "````\n",
        "Return the nodes 5 and 15."
      ],
      "metadata": {
        "id": "9haf6NuYWCFa"
      }
    },
    {
      "cell_type": "markdown",
      "source": [
        "To solve the problem of finding two nodes in a binary search tree (BST) whose values sum to a target $ K $, we can utilize the properties of a BST along with an approach similar to the two-pointer technique used in array problems.\n",
        "\n",
        "A BST has the property that for any node, values in the left subtree are less than the node value, and values in the right subtree are greater. This property can help us optimize the search.\n",
        "\n",
        "###Plan:\n",
        "1. **Traverse and Store**: Traverse the BST and store the values in an ordered list. This can be achieved by an in-order traversal which guarantees the values are stored in a sorted order.\n",
        "2. **Two-pointer Technique**: Utilize two pointers, one starting at the beginning (smallest value) and the other at the end (largest value) of the sorted list. Move the pointers based on the sum of the two values:\n",
        "   - If the sum of the two pointed values is less than $ K $, move the left pointer to the right (increase the sum).\n",
        "   - If the sum is greater than $ K $, move the right pointer to the left (decrease the sum).\n",
        "   - If the sum equals $ K $, these are the values we are looking for.\n",
        "3. **Return Nodes**: Instead of just returning the values, the requirement is to return the nodes themselves. For this, after finding the values, one would need to locate these values in the BST and return the actual node references."
      ],
      "metadata": {
        "id": "2vH6vcAEWLXk"
      }
    },
    {
      "cell_type": "code",
      "execution_count": 2,
      "metadata": {
        "id": "L3xhegutz6Ue",
        "colab": {
          "base_uri": "https://localhost:8080/"
        },
        "outputId": "e71a53e5-f180-451f-8cba-8d1b177b437c"
      },
      "outputs": [
        {
          "output_type": "stream",
          "name": "stdout",
          "text": [
            "Node 1 value: 5 Node 2 value: 15\n"
          ]
        }
      ],
      "source": [
        "class TreeNode:\n",
        "    def __init__(self, x):\n",
        "        self.val = x\n",
        "        self.left = None\n",
        "        self.right = None\n",
        "\n",
        "def find_two_sum_in_bst(root, K):\n",
        "    # Helper function to do in-order traversal and collect values in sorted order\n",
        "    def in_order_traversal(node):\n",
        "        if not node:\n",
        "            return []\n",
        "        return in_order_traversal(node.left) + [node] + in_order_traversal(node.right)\n",
        "\n",
        "    # Perform in-order traversal to get nodes in sorted order\n",
        "    sorted_nodes = in_order_traversal(root)\n",
        "    i, j = 0, len(sorted_nodes) - 1\n",
        "\n",
        "    # Two-pointer approach to find two values that sum up to K\n",
        "    while i < j:\n",
        "        sum_ij = sorted_nodes[i].val + sorted_nodes[j].val\n",
        "        if sum_ij == K:\n",
        "            return sorted_nodes[i], sorted_nodes[j]\n",
        "        elif sum_ij < K:\n",
        "            i += 1\n",
        "        else:\n",
        "            j -= 1\n",
        "\n",
        "    return None, None  # If no such pair is found\n",
        "\n",
        "# Example usage:\n",
        "# Construct the BST\n",
        "root = TreeNode(10)\n",
        "root.left = TreeNode(5)\n",
        "root.right = TreeNode(15)\n",
        "root.right.left = TreeNode(11)\n",
        "root.right.right = TreeNode(15)\n",
        "\n",
        "node1, node2 = find_two_sum_in_bst(root, 20)\n",
        "if node1 and node2:\n",
        "    print(\"Node 1 value:\", node1.val, \"Node 2 value:\", node2.val)\n",
        "else:\n",
        "    print(\"No such nodes found\")"
      ]
    },
    {
      "cell_type": "markdown",
      "source": [
        "This code first performs an in-order traversal to collect the nodes in a sorted order. It then applies a two-pointer approach to find two nodes whose values sum up to $ K $. When the pair is found, it returns the nodes directly. If no such pair exists, it returns `None` for both nodes."
      ],
      "metadata": {
        "id": "V-WdJZ2fZ5pN"
      }
    }
  ]
}