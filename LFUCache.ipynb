{
  "nbformat": 4,
  "nbformat_minor": 0,
  "metadata": {
    "colab": {
      "provenance": [],
      "authorship_tag": "ABX9TyOhr4nkPSWTPw5+pe7XU28i",
      "include_colab_link": true
    },
    "kernelspec": {
      "name": "python3",
      "display_name": "Python 3"
    },
    "language_info": {
      "name": "python"
    }
  },
  "cells": [
    {
      "cell_type": "markdown",
      "metadata": {
        "id": "view-in-github",
        "colab_type": "text"
      },
      "source": [
        "<a href=\"https://colab.research.google.com/github/walkerjian/DailyCode/blob/main/LFUCache.ipynb\" target=\"_parent\"><img src=\"https://colab.research.google.com/assets/colab-badge.svg\" alt=\"Open In Colab\"/></a>"
      ]
    },
    {
      "cell_type": "code",
      "execution_count": 1,
      "metadata": {
        "colab": {
          "base_uri": "https://localhost:8080/"
        },
        "id": "pSbl0ENQFDc7",
        "outputId": "13cd3e1d-519f-4e07-a93e-a90840e3f1a7"
      },
      "outputs": [
        {
          "output_type": "stream",
          "name": "stdout",
          "text": [
            "All test cases pass\n"
          ]
        }
      ],
      "source": [
        "\"\"\"\n",
        "Implement an LFU (Least Frequently Used) cache. It should be able to be initialized with a cache size n, and contain the following methods:\n",
        "\n",
        "1. set(key, value): sets key to value. If there are already n items in the cache and we are adding a new item, then it should also remove the least frequently used item. If there is a tie, then the least recently used key should be removed.\n",
        "\n",
        "2. get(key): gets the value at key. If no such key exists, return null.\n",
        "\n",
        "Each operation should run in O(1) time.\n",
        "\"\"\"\n",
        "\n",
        "import collections\n",
        "\n",
        "class Node:\n",
        "    def __init__(self, key, value):\n",
        "        self.key = key\n",
        "        self.value = value\n",
        "        self.freq = 1\n",
        "        self.prev = self.next = None\n",
        "\n",
        "class DLinkedList:\n",
        "    def __init__(self):\n",
        "        self._sentinel = Node(None, None) # dummy node\n",
        "        self._sentinel.next = self._sentinel.prev = self._sentinel\n",
        "        self._size = 0\n",
        "\n",
        "    def __len__(self):\n",
        "        return self._size\n",
        "\n",
        "    def append(self, node):\n",
        "        node.next = self._sentinel.next\n",
        "        node.prev = self._sentinel\n",
        "        node.next.prev = node\n",
        "        self._sentinel.next = node\n",
        "        self._size += 1\n",
        "\n",
        "    def pop(self, node=None):\n",
        "        if self._size == 0:\n",
        "            return\n",
        "\n",
        "        if not node:\n",
        "            node = self._sentinel.prev\n",
        "\n",
        "        node.prev.next = node.next\n",
        "        node.next.prev = node.prev\n",
        "        self._size -= 1\n",
        "\n",
        "        return node\n",
        "\n",
        "class LFUCache:\n",
        "    def __init__(self, capacity):\n",
        "        self._size = 0\n",
        "        self._capacity = capacity\n",
        "\n",
        "        self._node = dict() # key: Node\n",
        "        self._freq = collections.defaultdict(DLinkedList) # freq: list of Nodes\n",
        "        self._minfreq = 0\n",
        "\n",
        "    def _update(self, node):\n",
        "        freq = node.freq\n",
        "\n",
        "        self._freq[freq].pop(node)\n",
        "        if self._minfreq == freq and not self._freq[freq]:\n",
        "            self._minfreq += 1\n",
        "\n",
        "        node.freq += 1\n",
        "        freq = node.freq\n",
        "        self._freq[freq].append(node)\n",
        "\n",
        "    def get(self, key):\n",
        "        if key not in self._node:\n",
        "            return None\n",
        "\n",
        "        node = self._node[key]\n",
        "        self._update(node)\n",
        "        return node.value\n",
        "\n",
        "    def put(self, key, value):\n",
        "        if self._capacity == 0:\n",
        "            return\n",
        "\n",
        "        if key in self._node:\n",
        "            node = self._node[key]\n",
        "            self._update(node)\n",
        "            node.value = value\n",
        "        else:\n",
        "            if self._size == self._capacity:\n",
        "                node = self._freq[self._minfreq].pop()\n",
        "                del self._node[node.key]\n",
        "                self._size -= 1\n",
        "\n",
        "            node = Node(key, value)\n",
        "            self._node[key] = node\n",
        "            self._freq[1].append(node)\n",
        "            self._minfreq = 1\n",
        "            self._size += 1\n",
        "\n",
        "# Test Cases\n",
        "def test_lfu_cache():\n",
        "    lfu = LFUCache(2)\n",
        "    lfu.put(1, 1)\n",
        "    lfu.put(2, 2)\n",
        "    assert lfu.get(1) == 1\n",
        "    lfu.put(3, 3) # evicts key 2\n",
        "    assert lfu.get(2) == None\n",
        "    assert lfu.get(3) == 3\n",
        "    lfu.put(4, 4) # evicts key 1\n",
        "    assert lfu.get(1) == None\n",
        "    assert lfu.get(3) == 3\n",
        "    assert lfu.get(4) == 4\n",
        "    print(\"All test cases pass\")\n",
        "\n",
        "test_lfu_cache()\n"
      ]
    }
  ]
}