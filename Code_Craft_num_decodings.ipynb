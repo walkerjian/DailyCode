{
  "nbformat": 4,
  "nbformat_minor": 0,
  "metadata": {
    "colab": {
      "provenance": [],
      "authorship_tag": "ABX9TyMpyhruMPgyWrelALc87iOt",
      "include_colab_link": true
    },
    "kernelspec": {
      "name": "python3",
      "display_name": "Python 3"
    },
    "language_info": {
      "name": "python"
    }
  },
  "cells": [
    {
      "cell_type": "markdown",
      "metadata": {
        "id": "view-in-github",
        "colab_type": "text"
      },
      "source": [
        "<a href=\"https://colab.research.google.com/github/walkerjian/DailyCode/blob/main/Code_Craft_num_decodings.ipynb\" target=\"_parent\"><img src=\"https://colab.research.google.com/assets/colab-badge.svg\" alt=\"Open In Colab\"/></a>"
      ]
    },
    {
      "cell_type": "markdown",
      "source": [
        "##Problem:\n",
        "Given the mapping a = 1, b = 2, ... z = 26, and an encoded message, count the number of ways it can be decoded.\n",
        "\n",
        "For example, the message '111' would give 3, since it could be decoded as 'aaa', 'ka', and 'ak'.\n",
        "\n",
        "You can assume that the messages are decodable. For example, '001' is not allowed."
      ],
      "metadata": {
        "id": "83u0LMBHFUg0"
      }
    },
    {
      "cell_type": "markdown",
      "source": [
        "##Solution:\n",
        "To solve this problem, we can use a dynamic programming approach. The idea is to compute the number of ways to decode the message by progressively building up from smaller subproblems. Let's define `dp[i]` as the number of ways to decode the first `i` characters of the message. We will calculate `dp[i]` based on the following rules:\n",
        "\n",
        "1. If the `i`-th character is not '0', it contributes `dp[i - 1]` ways to the count because it can be decoded on its own.\n",
        "2. If the `i`-th character and the `(i-1)`-th character together form a number between 10 and 26, it contributes `dp[i - 2]` ways to the count because these two characters can be decoded together.\n",
        "\n",
        "The base cases will be:\n",
        "- `dp[0] = 1` because there's one way to decode an empty string.\n",
        "- `dp[1] = 1` if the first character is not '0' (since single-digit numbers can be decoded in one way)."
      ],
      "metadata": {
        "id": "iSk2_q3mFXeY"
      }
    },
    {
      "cell_type": "markdown",
      "source": [
        "##Implementation:\n"
      ],
      "metadata": {
        "id": "_pf96vJvFbjS"
      }
    },
    {
      "cell_type": "code",
      "execution_count": 1,
      "metadata": {
        "colab": {
          "base_uri": "https://localhost:8080/"
        },
        "id": "FPZw3L_GFTIZ",
        "outputId": "4f1dfc6b-795a-4957-a731-3414536be4e0"
      },
      "outputs": [
        {
          "output_type": "execute_result",
          "data": {
            "text/plain": [
              "3"
            ]
          },
          "metadata": {},
          "execution_count": 1
        }
      ],
      "source": [
        "def num_decodings(message):\n",
        "    if not message:\n",
        "        return 0\n",
        "\n",
        "    n = len(message)\n",
        "    dp = [0] * (n + 1)\n",
        "    dp[0] = 1\n",
        "    dp[1] = 1 if message[0] != '0' else 0\n",
        "\n",
        "    for i in range(2, n + 1):\n",
        "        # Check if single digit decoding is possible\n",
        "        if message[i - 1] != '0':\n",
        "            dp[i] += dp[i - 1]\n",
        "\n",
        "        # Check if two digit decoding is possible\n",
        "        two_digit = int(message[i - 2:i])\n",
        "        if 10 <= two_digit <= 26:\n",
        "            dp[i] += dp[i - 2]\n",
        "\n",
        "    return dp[n]\n",
        "\n",
        "# Test the function with the provided example '111'\n",
        "num_decodings('111')\n"
      ]
    },
    {
      "cell_type": "markdown",
      "source": [
        "##Testing:\n",
        "To create a comprehensive test harness for the `num_decodings` function, we should consider a variety of test cases, including edge cases. The test harness should run each test and report the results without interrupting program flow, even if some tests fail. It should also handle potential mismatches between expected and actual outcomes gracefully, ensuring that all tests are run regardless of individual failures.\n",
        "\n",
        "Let's create a test harness with the following scenarios:\n",
        "\n",
        "1. Standard cases with clear decoding options (e.g., '111').\n",
        "2. Edge cases with a single character (e.g., '1' and '0').\n",
        "3. Cases with no valid decodings due to '0' not being part of a valid two-digit decoding (e.g., '01', '100').\n",
        "4. A case with continuous two-digit valid decodings (e.g., '2626').\n",
        "5. A case with continuous single-digit decodings (e.g., '7777').\n",
        "6. An empty string, which should return 0 as there are no ways to decode it.\n",
        "\n",
        "The harness will report each test's result, showing whether it passed or failed, and in the case of failure, it will show the expected and actual results.\n",
        "\n"
      ],
      "metadata": {
        "id": "C1MNRNXNFexA"
      }
    },
    {
      "cell_type": "code",
      "source": [
        "def run_tests():\n",
        "    test_cases = [\n",
        "        (\"111\", 3),      # Standard case with multiple decoding options\n",
        "        (\"1\", 1),        # Single character, valid decoding\n",
        "        (\"0\", 0),        # Single character, invalid decoding\n",
        "        (\"01\", 0),       # Invalid because '0' cannot be decoded\n",
        "        (\"100\", 0),      # Invalid because '0' is not part of a valid two-digit decoding\n",
        "        (\"2626\", 4),     # Continuous two-digit valid decodings\n",
        "        (\"7777\", 1),     # Continuous single-digit decodings\n",
        "        (\"\", 0)          # Empty string, no decodings\n",
        "    ]\n",
        "\n",
        "    for i, (message, expected) in enumerate(test_cases):\n",
        "        actual = num_decodings(message)\n",
        "        if actual == expected:\n",
        "            print(f\"Test case {i+1} passed: num_decodings('{message}') = {actual}\")\n",
        "        else:\n",
        "            print(f\"Test case {i+1} FAILED: num_decodings('{message}') = {actual}, expected {expected}\")\n",
        "\n",
        "run_tests()\n"
      ],
      "metadata": {
        "colab": {
          "base_uri": "https://localhost:8080/"
        },
        "id": "VRXY9SO5FtHV",
        "outputId": "2c1f338b-1f15-4c0c-cf01-b907e0f8ad04"
      },
      "execution_count": 2,
      "outputs": [
        {
          "output_type": "stream",
          "name": "stdout",
          "text": [
            "Test case 1 passed: num_decodings('111') = 3\n",
            "Test case 2 passed: num_decodings('1') = 1\n",
            "Test case 3 passed: num_decodings('0') = 0\n",
            "Test case 4 passed: num_decodings('01') = 0\n",
            "Test case 5 passed: num_decodings('100') = 0\n",
            "Test case 6 passed: num_decodings('2626') = 4\n",
            "Test case 7 passed: num_decodings('7777') = 1\n",
            "Test case 8 passed: num_decodings('') = 0\n"
          ]
        }
      ]
    },
    {
      "cell_type": "markdown",
      "source": [
        "The test harness has successfully run all the test cases, and each case passed. This includes standard scenarios, edge cases, and those with no valid decodings. The results are as expected, demonstrating that the `num_decodings` function is handling a variety of scenarios correctly. This approach ensures comprehensive testing without interrupting program flow, even if a test fails."
      ],
      "metadata": {
        "id": "_Tow7v5VGQLS"
      }
    }
  ]
}