{
  "nbformat": 4,
  "nbformat_minor": 0,
  "metadata": {
    "colab": {
      "provenance": [],
      "authorship_tag": "ABX9TyNqXkuUl8oEti6VL5cmccM+",
      "include_colab_link": true
    },
    "kernelspec": {
      "name": "python3",
      "display_name": "Python 3"
    },
    "language_info": {
      "name": "python"
    }
  },
  "cells": [
    {
      "cell_type": "markdown",
      "metadata": {
        "id": "view-in-github",
        "colab_type": "text"
      },
      "source": [
        "<a href=\"https://colab.research.google.com/github/walkerjian/DailyCode/blob/main/Code_Craft__BloomFilter.ipynb\" target=\"_parent\"><img src=\"https://colab.research.google.com/assets/colab-badge.svg\" alt=\"Open In Colab\"/></a>"
      ]
    },
    {
      "cell_type": "markdown",
      "source": [
        "##Problem:\n",
        "Implement a data structure which carries out the following operations without resizing the underlying array:\n",
        "\n",
        "add(value): Add a value to the set of values.\n",
        "check(value): Check whether a value is in the set.\n",
        "The check method may return occasional false positives (in other words, incorrectly identifying an element as part of the set), but should always correctly identify a true element."
      ],
      "metadata": {
        "id": "2lWyrXjB8EeD"
      }
    },
    {
      "cell_type": "markdown",
      "source": [
        "##Solution:\n",
        "The description you've provided points towards implementing a data structure that behaves similarly to a Bloom filter. A Bloom filter is a probabilistic data structure that offers space efficiency at the cost of occasional false positives on membership checks. However, it never returns false negatives, which means if it says an element is not in the set, it truly is not.\n",
        "\n",
        "Bloom filters use multiple hash functions to map each added element to several positions in a bit array. Here's a simplified implementation in Python:\n",
        "\n",
        "1. **Initialization**: Choose the size of the bit array (`n`) and the number of hash functions (`k`). The size of the underlying array doesn't change once the Bloom filter is created, adhering to your requirement.\n",
        "2. **Add(value)**: Hash the value `k` times and for each hash, set the bit at the hash's index in the bit array to 1.\n",
        "3. **Check(value)**: Hash the value `k` times and check the bits at the indices of these hashes in the bit array. If all bits are 1, the value may be in the set (with a possibility of false positive); if any bit is 0, the value is definitely not in the set.\n",
        "\n",
        "The essence of the Bloom filter is deeply tied to the properties and utility of hashing. Hash functions serve multiple key roles in this context:\n",
        "\n",
        "1. **Uniform Distribution**: Good hash functions distribute values uniformly across the hash space. This property is crucial for minimizing collisions in a Bloom filter, where the goal is to spread out the indicators (bits) of different elements as evenly as possible across the bit array.\n",
        "\n",
        "2. **Determinism**: A hash function will always produce the same output for the same input. This determinism is essential for checking membership in a Bloom filter because it ensures that the same indices are accessed in the bit array for a given value during both the `add` and `check` operations.\n",
        "\n",
        "3. **Efficiency**: Hash functions are generally computationally efficient, allowing for quick computation of hash values. This efficiency is important for Bloom filters, as every `add` and `check` operation requires computing multiple hashes.\n",
        "\n",
        "4. **Pseudo-randomness**: While deterministic, good hash functions appear pseudo-random, meaning they make it hard to predict where in the bit array a particular value will be mapped. This helps in ensuring that the bits set by different elements are spread out, reducing the chances of false positives.\n",
        "\n",
        "In the context of the question, leveraging hashing (particularly multiple hash functions) allows the Bloom filter to efficiently support `add` and `check` operations without needing to resize the underlying array. The use of a fixed-size bit array relies on the properties of hash functions to manage the trade-off between space efficiency and the accuracy of membership tests, accepting that false positives are a cost of these benefits.\n",
        "\n",
        "This approach contrasts with direct addressing or using a dynamic data structure like a hash table, which might need to resize to accommodate more elements or reduce collisions. By accepting a controlled rate of false positives, a Bloom filter remains extremely space-efficient and maintains constant-time performance for `add` and `check` operations, making it a unique and powerful tool when these trade-offs are acceptable.\n",
        "\n",
        "The properties of a Bloom filter, specifically its capacity to handle false positives while avoiding false negatives, are intrinsically linked to hashing. The effectiveness of a Bloom filter is a balance between the size of the bit array, the number of hash functions used, and the number of elements stored. These factors collectively determine the probability of false positives.\n",
        "\n",
        "There are indeed ways to quantify these properties and calculate the expected false positive rate (FPR) of a Bloom filter. The false positive rate is influenced by:\n",
        "\n",
        "- **n**: The number of elements added to the Bloom filter.\n",
        "- **m**: The size of the bit array.\n",
        "- **k**: The number of hash functions.\n",
        "\n",
        "The false positive probability (FPP) can be approximated by the formula:\n",
        "\n",
        "$ \\text{FPP} \\approx \\left( 1 - \\left[ 1 - \\frac{1}{m} \\right]^{kn} \\right)^k $\n",
        "\n",
        "It's worth noting that there's an optimal number of hash functions, $k$, that minimizes the false positive probability for a given Bloom filter size, $m$, and a number of elements, $n$. This optimal number can be calculated using the formula:\n",
        "\n",
        "$ k = \\frac{m}{n} \\ln{2} $\n",
        "\n",
        "This means that for each element added, $k$ bits are set in the bit array, where $k$ is chosen to minimize the false positive rate for the expected number of elements and the size of the bit array.\n"
      ],
      "metadata": {
        "id": "jIohycTB8Hjb"
      }
    },
    {
      "cell_type": "markdown",
      "source": [
        "##Implementation:\n",
        "\n",
        "Let's implement this in Python. We'll use a simple hash function for demonstration, but in a real application, you'd want to use more robust hash functions to minimize collisions and false positives.\n",
        "\n",
        "```python\n",
        "import hashlib\n",
        "\n",
        "class BloomFilter:\n",
        "    def __init__(self, size, num_hashes):\n",
        "        self.size = size\n",
        "        self.num_hashes = num_hashes\n",
        "        self.bit_array = [0] * size\n",
        "\n",
        "    def _hash(self, value, seed):\n",
        "        # A simple hash function using hashlib; different seeds simulate different hash functions\n",
        "        hash_obj = hashlib.sha256()\n",
        "        hash_obj.update(bytes(f\"{value}{seed}\", 'utf-8'))\n",
        "        return int(hash_obj.hexdigest(), 16) % self.size\n",
        "\n",
        "    def add(self, value):\n",
        "        for seed in range(self.num_hashes):\n",
        "            index = self._hash(value, seed)\n",
        "            self.bit_array[index] = 1\n",
        "\n",
        "    def check(self, value):\n",
        "        for seed in range(self.num_hashes):\n",
        "            index = self._hash(value, seed)\n",
        "            if self.bit_array[index] == 0:\n",
        "                return False  # Definitely not present\n",
        "        return True  # Possibly present\n",
        "\n",
        "# Example of using BloomFilter\n",
        "bloom = BloomFilter(size=1000, num_hashes=3)\n",
        "bloom.add(\"hello\")\n",
        "bloom.add(\"world\")\n",
        "\n",
        "print(bloom.check(\"hello\"))  # True\n",
        "print(bloom.check(\"world\"))  # True\n",
        "print(bloom.check(\"not_in_set\"))  # False, possibly True if collision occurs\n",
        "```\n",
        "\n",
        "This code provides a basic Bloom filter implementation. Keep in mind, the effectiveness (in terms of minimizing false positives) of a Bloom filter depends on choosing optimal values for `size` and `num_hashes` based on the expected number of elements to be added. There are formulas based on probability theory to help guide these choices."
      ],
      "metadata": {
        "id": "pkWuQrLB8K8H"
      }
    },
    {
      "cell_type": "code",
      "execution_count": null,
      "metadata": {
        "id": "TIIt0l_k7Oi1",
        "colab": {
          "base_uri": "https://localhost:8080/"
        },
        "outputId": "c9a1d1c4-d57b-4b77-cbf0-8a74e5ef0cd9"
      },
      "outputs": [
        {
          "output_type": "stream",
          "name": "stdout",
          "text": [
            "True\n",
            "True\n",
            "False\n"
          ]
        }
      ],
      "source": [
        "import hashlib\n",
        "\n",
        "class BloomFilter:\n",
        "    def __init__(self, size, num_hashes):\n",
        "        self.size = size\n",
        "        self.num_hashes = num_hashes\n",
        "        self.bit_array = [0] * size\n",
        "\n",
        "    def _hash(self, value, seed):\n",
        "        # A simple hash function using hashlib; different seeds simulate different hash functions\n",
        "        hash_obj = hashlib.sha256()\n",
        "        hash_obj.update(bytes(f\"{value}{seed}\", 'utf-8'))\n",
        "        return int(hash_obj.hexdigest(), 16) % self.size\n",
        "\n",
        "    def add(self, value):\n",
        "        for seed in range(self.num_hashes):\n",
        "            index = self._hash(value, seed)\n",
        "            self.bit_array[index] = 1\n",
        "\n",
        "    def check(self, value):\n",
        "        for seed in range(self.num_hashes):\n",
        "            index = self._hash(value, seed)\n",
        "            if self.bit_array[index] == 0:\n",
        "                return False  # Definitely not present\n",
        "        return True  # Possibly present\n",
        "\n",
        "# Example of using BloomFilter\n",
        "bloom = BloomFilter(size=1000, num_hashes=3)\n",
        "bloom.add(\"hello\")\n",
        "bloom.add(\"world\")\n",
        "\n",
        "print(bloom.check(\"hello\"))  # True\n",
        "print(bloom.check(\"world\"))  # True\n",
        "print(bloom.check(\"not_in_set\"))  # False, possibly True if collision occurs\n"
      ]
    },
    {
      "cell_type": "markdown",
      "source": [
        "##Testing:\n",
        "Let's calculate the false positive probability for a given Bloom filter setup. Assuming we have the values for $m$, $n$, and $k$, we can implement a calculation in Python:\n",
        "\n",
        "This formula and calculation give a quantitative measure of a Bloom filter's performance and help in designing a filter with an acceptable false positive rate for a specific application."
      ],
      "metadata": {
        "id": "wcaruNyfYogT"
      }
    },
    {
      "cell_type": "code",
      "source": [
        "from math import exp, log\n",
        "\n",
        "def calculate_fpp(m, n, k):\n",
        "    return (1 - exp(-k * n / m)) ** k\n",
        "\n",
        "# Example: a Bloom filter with a bit array of size 1000, 100 elements added, and using 3 hash functions\n",
        "m = 1000\n",
        "n = 100\n",
        "k = 3\n",
        "\n",
        "fpp = calculate_fpp(m, n, k)\n",
        "print(f\"False positive probability: {fpp:.4f}\")\n"
      ],
      "metadata": {
        "id": "GESCF3BQYq1L",
        "colab": {
          "base_uri": "https://localhost:8080/"
        },
        "outputId": "992094bd-7859-4aab-f547-5c7a23e0a04f"
      },
      "execution_count": null,
      "outputs": [
        {
          "output_type": "stream",
          "name": "stdout",
          "text": [
            "False positive probability: 0.0174\n"
          ]
        }
      ]
    }
  ]
}