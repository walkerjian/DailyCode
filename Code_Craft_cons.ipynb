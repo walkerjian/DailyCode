{
  "nbformat": 4,
  "nbformat_minor": 0,
  "metadata": {
    "colab": {
      "provenance": [],
      "authorship_tag": "ABX9TyNmeLw0vg1olL7dx5IYuG8/",
      "include_colab_link": true
    },
    "kernelspec": {
      "name": "python3",
      "display_name": "Python 3"
    },
    "language_info": {
      "name": "python"
    }
  },
  "cells": [
    {
      "cell_type": "markdown",
      "metadata": {
        "id": "view-in-github",
        "colab_type": "text"
      },
      "source": [
        "<a href=\"https://colab.research.google.com/github/walkerjian/DailyCode/blob/main/Code_Craft_cons.ipynb\" target=\"_parent\"><img src=\"https://colab.research.google.com/assets/colab-badge.svg\" alt=\"Open In Colab\"/></a>"
      ]
    },
    {
      "cell_type": "markdown",
      "source": [
        "#Problem:\n",
        "cons(a, b) constructs a pair, and car(pair) and cdr(pair) returns the first and last element of that pair. For example, car(cons(3, 4)) returns 3, and cdr(cons(3, 4)) returns 4.\n",
        "\n",
        "Given this implementation of cons:\n",
        "\n",
        "def cons(a, b):\n",
        "    def pair(f):\n",
        "        return f(a, b)\n",
        "    return pair\n",
        "Implement car and cdr."
      ],
      "metadata": {
        "id": "AiQ3yXyP4UGy"
      }
    },
    {
      "cell_type": "markdown",
      "source": [
        "##Solution:\n",
        "The `cons`, `car`, and `cdr` functions are foundational in Lisp, a family of programming languages known for their strong association with list processing and symbolic computation. Here's how these concepts relate to Lisp and the importance of their implementation:\n",
        "\n",
        "- **`cons` Construction**: In Lisp, `cons` is used to construct a new pair (or two-element list) from two values. This is similar to the provided Python implementation, where `cons(a, b)` creates a function that can apply another function to `a` and `b`. In Lisp, however, `cons` constructs a cons cell, which is a fundamental building block for lists and more complex data structures.\n",
        "\n",
        "- **`car` and `cdr` Accessors**: The `car` function returns the first element of the pair (or list), and `cdr` returns the rest of the list after the first element. In the Lisp tradition, `car` stands for \"Contents of the Address part of Register\" and `cdr` for \"Contents of the Decrement part of Register\", reflecting the assembly language instructions of the IBM 704 computer on which Lisp was first implemented. These functions are essential for traversing and manipulating list structures in Lisp.\n",
        "\n",
        "- **Symbolic Processing**: Lisp's list processing capabilities, facilitated by functions like `cons`, `car`, and `cdr`, are central to its power in symbolic manipulation and expression evaluation. Lisp programs themselves are represented as lists, making the language highly suited for tasks like symbolic computation, where programs can manipulate and evaluate other programs or symbolic expressions.\n",
        "\n",
        "- **Functional Approach**: The way `cons` is defined in the provided Python code, as returning a function that then applies another function to its arguments, reflects the functional programming paradigm prominent in Lisp. This paradigm emphasizes the use of functions as first-class entities that can be passed around and applied in flexible ways.\n",
        "\n",
        "- **Recursion and List Processing**: In Lisp, recursion is a common technique for processing lists, often using `car` and `cdr` to traverse the structure. This approach is natural in Lisp due to its list-processing capabilities and the ease with which functions like `car` and `cdr` can decompose and process list elements.\n",
        "\n",
        "In summary, the `cons`, `car`, and `cdr` functions are more than just tools for handling pairs or lists; they embody the essence of Lisp's approach to symbolic computation, list processing, and the functional programming paradigm.\n",
        "To implement `car` and `cdr` based on the provided `cons` function, you'll need to define these functions such that they use the `pair` function returned by `cons` to access the first and second elements of the pair, respectively. The `cons` function returns a `pair` function, which accepts another function `f` as its argument and applies `f` to `a` and `b`."
      ],
      "metadata": {
        "id": "mzCJOh5H4bkR"
      }
    },
    {
      "cell_type": "markdown",
      "source": [
        "##Implememtation:\n",
        "Here's how you can implement `car` and `cdr`:\n",
        "\n",
        "- `car` should call the `pair` function with a function that takes two arguments and returns the first one.\n",
        "- `cdr` should call the `pair` function with a function that takes two arguments and returns the second one.\n",
        "\n",
        "Here's the Python code for `car` and `cdr`:\n",
        "\n",
        "In this implementation:\n",
        "- The `car` function defines a lambda function that takes two arguments and returns the first one (`a`). This lambda function is then passed to the `pair` function returned by `cons`.\n",
        "- Similarly, the `cdr` function defines a lambda function that takes two arguments and returns the second one (`b`). This lambda function is also passed to the `pair` function."
      ],
      "metadata": {
        "id": "sd8m9pJ44kWo"
      }
    },
    {
      "cell_type": "code",
      "source": [
        "def cons(a, b):\n",
        "    def pair(f):\n",
        "        return f(a, b)\n",
        "    return pair\n",
        "\n",
        "def car(pair):\n",
        "    return pair(lambda a, b: a)\n",
        "\n",
        "def cdr(pair):\n",
        "    return pair(lambda a, b: b)\n",
        "\n",
        "# Testing the functions\n",
        "print(car(cons(3, 4)))  # Should return 3\n",
        "print(cdr(cons(3, 4)))  # Should return 4\n"
      ],
      "metadata": {
        "colab": {
          "base_uri": "https://localhost:8080/"
        },
        "id": "LAvzjaAo4ign",
        "outputId": "6863771d-e624-4cae-de8e-10184ef6586d"
      },
      "execution_count": 1,
      "outputs": [
        {
          "output_type": "stream",
          "name": "stdout",
          "text": [
            "3\n",
            "4\n"
          ]
        }
      ]
    },
    {
      "cell_type": "markdown",
      "source": [
        "##Testing:"
      ],
      "metadata": {
        "id": "BzWsrJzy429C"
      }
    },
    {
      "cell_type": "code",
      "execution_count": 3,
      "metadata": {
        "colab": {
          "base_uri": "https://localhost:8080/"
        },
        "id": "iE1Pek1d4TMZ",
        "outputId": "6443a321-8890-4540-ca5b-c70494a6ec83"
      },
      "outputs": [
        {
          "output_type": "execute_result",
          "data": {
            "text/plain": [
              "[((3, 4), True, True, 3, 4),\n",
              " (('hello', 'world'), True, True, 'hello', 'world'),\n",
              " (([1, 2], [3, 4]), True, True, [1, 2], [3, 4]),\n",
              " ((None, True), True, True, None, True)]"
            ]
          },
          "metadata": {},
          "execution_count": 3
        }
      ],
      "source": [
        "# Test cases to ensure the functions work correctly\n",
        "test_cases = [\n",
        "    ((3, 4), 3, 4),  # Simple integer test\n",
        "    (('hello', 'world'), 'hello', 'world'),  # String test\n",
        "    (([1, 2], [3, 4]), [1, 2], [3, 4]),  # List test\n",
        "    ((None, True), None, True),  # None and boolean test\n",
        "]\n",
        "\n",
        "# Run the test cases\n",
        "results = []\n",
        "for inputs, expected_car, expected_cdr in test_cases:\n",
        "    result_car = car(cons(*inputs))\n",
        "    result_cdr = cdr(cons(*inputs))\n",
        "    results.append((\n",
        "        inputs,\n",
        "        result_car == expected_car,\n",
        "        result_cdr == expected_cdr,\n",
        "        result_car,\n",
        "        result_cdr\n",
        "    ))\n",
        "\n",
        "results\n"
      ]
    },
    {
      "cell_type": "markdown",
      "source": [
        "The tests were successful for the `car` and `cdr` functions, with all cases returning the expected results:\n",
        "\n",
        "1. For the input `(3, 4)`, `car` returned `3` and `cdr` returned `4`, as expected.\n",
        "2. For the input `('hello', 'world')`, `car` returned `'hello'` and `cdr` returned `'world'`, as expected.\n",
        "3. For the input `([1, 2], [3, 4])`, `car` returned `[1, 2]` and `cdr` returned `[3, 4]`, as expected.\n",
        "4. For the input `(None, True)`, `car` returned `None` and `cdr` returned `True`, as expected.\n",
        "\n",
        "This confirms that the `car` and `cdr` functions are working correctly with various data types."
      ],
      "metadata": {
        "id": "UpEogKn05Qy2"
      }
    }
  ]
}