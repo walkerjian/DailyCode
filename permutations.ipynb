{
  "nbformat": 4,
  "nbformat_minor": 0,
  "metadata": {
    "colab": {
      "provenance": [],
      "authorship_tag": "ABX9TyOh5fV+gGovkG6fpP9YywDJ",
      "include_colab_link": true
    },
    "kernelspec": {
      "name": "python3",
      "display_name": "Python 3"
    },
    "language_info": {
      "name": "python"
    }
  },
  "cells": [
    {
      "cell_type": "markdown",
      "metadata": {
        "id": "view-in-github",
        "colab_type": "text"
      },
      "source": [
        "<a href=\"https://colab.research.google.com/github/walkerjian/DailyCode/blob/main/permutations.ipynb\" target=\"_parent\"><img src=\"https://colab.research.google.com/assets/colab-badge.svg\" alt=\"Open In Colab\"/></a>"
      ]
    },
    {
      "cell_type": "code",
      "execution_count": 4,
      "metadata": {
        "colab": {
          "base_uri": "https://localhost:8080/"
        },
        "id": "Vf_69YvrpkX0",
        "outputId": "3c818b9f-21d5-4ceb-f1b8-1813f2226bf0"
      },
      "outputs": [
        {
          "output_type": "stream",
          "name": "stdout",
          "text": [
            "[[1, 2, 3], [1, 3, 2], [2, 1, 3], [2, 3, 1], [3, 1, 2], [3, 2, 1]]\n"
          ]
        }
      ],
      "source": [
        "def permutations(nums):\n",
        "  \"\"\"\n",
        "  Returns all possible permutations of the given list of digits.\n",
        "\n",
        "  A permutation is a rearrangement of the elements of a set. For example, the permutations of the set {1, 2, 3} are {1, 2, 3}, {1, 3, 2}, {2, 1, 3}, {2, 3, 1}, {3, 1, 2}, and {3, 2, 1}.\n",
        "\n",
        "  This code solves the problem by recursively generating all possible permutations of the list of digits. The base case is when the list is empty, in which case there is only one permutation, the empty list. Otherwise, for each element in the list, we generate all possible permutations of the rest of the list, and then add the element to the front of each permutation. This ensures that we generate all possible permutations of the list, without duplicates.\n",
        "\n",
        "  Args:\n",
        "    nums: A list of digits.\n",
        "\n",
        "  Returns:\n",
        "    A list of lists, where each inner list is a permutation of the given list of digits.\n",
        "  \"\"\"\n",
        "\n",
        "  if len(nums) == 0:\n",
        "    return [[]]\n",
        "\n",
        "  permutations_list = []\n",
        "  for i in range(len(nums)):\n",
        "    rest_of_nums = nums[:i] + nums[i + 1:]\n",
        "    permutations_of_rest = permutations(rest_of_nums)\n",
        "    for permutation in permutations_of_rest:\n",
        "      permutations_list.append([nums[i]] + permutation)\n",
        "\n",
        "  return permutations_list\n",
        "\n",
        "\n",
        "assert permutations([]) == [[]]\n",
        "assert permutations([1]) == [[1]]\n",
        "assert permutations([1, 2]) == [[1, 2], [2, 1]]\n",
        "assert permutations([1, 2, 3]) == [[1, 2, 3], [1, 3, 2], [2, 1, 3], [2, 3, 1], [3, 1, 2], [3, 2, 1]]\n",
        "\n",
        "print(permutations([1, 2, 3]))\n"
      ]
    },
    {
      "cell_type": "markdown",
      "source": [
        "Bard is now creating source references:\n",
        "Sources\n",
        "github.com/asdf2014/algorithm subject to licence (Apache - 2.0)"
      ],
      "metadata": {
        "id": "4KjYV5P_rO19"
      }
    },
    {
      "cell_type": "code",
      "source": [],
      "metadata": {
        "id": "GbdQ9ZsxrSUH"
      },
      "execution_count": null,
      "outputs": []
    }
  ]
}