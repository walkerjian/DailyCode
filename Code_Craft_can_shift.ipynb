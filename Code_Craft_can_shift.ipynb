{
  "nbformat": 4,
  "nbformat_minor": 0,
  "metadata": {
    "colab": {
      "provenance": [],
      "authorship_tag": "ABX9TyMfLtfIn6kPLh4cwSN+ZEZn",
      "include_colab_link": true
    },
    "kernelspec": {
      "name": "python3",
      "display_name": "Python 3"
    },
    "language_info": {
      "name": "python"
    }
  },
  "cells": [
    {
      "cell_type": "markdown",
      "metadata": {
        "id": "view-in-github",
        "colab_type": "text"
      },
      "source": [
        "<a href=\"https://colab.research.google.com/github/walkerjian/DailyCode/blob/main/Code_Craft_can_shift.ipynb\" target=\"_parent\"><img src=\"https://colab.research.google.com/assets/colab-badge.svg\" alt=\"Open In Colab\"/></a>"
      ]
    },
    {
      "cell_type": "markdown",
      "source": [
        "##Problem:\n",
        "Given two strings A and B, return whether or not A can be shifted some number of times to get B.\n",
        "\n",
        "For example, if A is abcde and B is cdeab, return true. If A is abc and B is acb, return false."
      ],
      "metadata": {
        "id": "BuXLhyTtIMQK"
      }
    },
    {
      "cell_type": "markdown",
      "source": [
        "##Solution:\n",
        "To determine if string `A` can be shifted some number of times to become string `B`, we can use a straightforward approach. The key insight is that if `A` can be shifted to become `B`, then `B` should be a substring of `A` concatenated with itself. This is because concatenating `A` with itself effectively simulates all possible shifts.\n",
        "\n",
        "Here's the algorithm:\n",
        "\n",
        "1. Check if the lengths of `A` and `B` are equal. If not, return `False` since they cannot be shifts of each other.\n",
        "2. Concatenate `A` with itself.\n",
        "3. Check if `B` is a substring of the concatenated string."
      ],
      "metadata": {
        "id": "n1aOugmhIPyr"
      }
    },
    {
      "cell_type": "markdown",
      "source": [
        "##Implementation:\n",
        "Let's implement this in Python."
      ],
      "metadata": {
        "id": "_s8CiFs1IlYZ"
      }
    },
    {
      "cell_type": "code",
      "execution_count": 1,
      "metadata": {
        "colab": {
          "base_uri": "https://localhost:8080/"
        },
        "id": "lqWfxTGxIK6D",
        "outputId": "7dbed424-91bb-49bc-e14b-167f4400c0e7"
      },
      "outputs": [
        {
          "output_type": "execute_result",
          "data": {
            "text/plain": [
              "(True, False)"
            ]
          },
          "metadata": {},
          "execution_count": 1
        }
      ],
      "source": [
        "def can_shift(A, B):\n",
        "    # Check if A and B are of equal length\n",
        "    if len(A) != len(B):\n",
        "        return False\n",
        "\n",
        "    # Check if B is a substring of A concatenated with itself\n",
        "    return B in (A + A)\n",
        "\n",
        "# Test cases\n",
        "test1 = can_shift(\"abcde\", \"cdeab\")  # Expected: True\n",
        "test2 = can_shift(\"abc\", \"acb\")      # Expected: False\n",
        "\n",
        "test1, test2\n"
      ]
    },
    {
      "cell_type": "markdown",
      "source": [
        "The implementation successfully determines if one string can be shifted to become another. For the given examples:\n",
        "\n",
        "- When `A` is \"abcde\" and `B` is \"cdeab\", the function returns `True`, indicating that \"abcde\" can be shifted to become \"cdeab\".\n",
        "- When `A` is \"abc\" and `B` is \"acb\", the function returns `False`, indicating that \"abc\" cannot be shifted to become \"acb\"."
      ],
      "metadata": {
        "id": "CThTuTOrIgDQ"
      }
    }
  ]
}