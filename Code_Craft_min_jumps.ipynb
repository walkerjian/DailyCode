{
  "nbformat": 4,
  "nbformat_minor": 0,
  "metadata": {
    "colab": {
      "provenance": [],
      "authorship_tag": "ABX9TyP7Ep4v4BUk4pRnArQezglv",
      "include_colab_link": true
    },
    "kernelspec": {
      "name": "python3",
      "display_name": "Python 3"
    },
    "language_info": {
      "name": "python"
    }
  },
  "cells": [
    {
      "cell_type": "markdown",
      "metadata": {
        "id": "view-in-github",
        "colab_type": "text"
      },
      "source": [
        "<a href=\"https://colab.research.google.com/github/walkerjian/DailyCode/blob/main/Code_Craft_min_jumps.ipynb\" target=\"_parent\"><img src=\"https://colab.research.google.com/assets/colab-badge.svg\" alt=\"Open In Colab\"/></a>"
      ]
    },
    {
      "cell_type": "markdown",
      "source": [
        "##Problem:\n",
        "You are given an array of integers, where each element represents the maximum number of steps that can be jumped going forward from that element. Write a function to return the minimum number of jumps you must take in order to get from the start to the end of the array.\n",
        "\n",
        "For example, given [6, 2, 4, 0, 5, 1, 1, 4, 2, 9], you should return 2, as the optimal solution involves jumping from 6 to 5, and then from 5 to 9."
      ],
      "metadata": {
        "id": "Jn1hR7lr8MvA"
      }
    },
    {
      "cell_type": "markdown",
      "source": [
        "##Solution:\n"
      ],
      "metadata": {
        "id": "FBauANF38RY6"
      }
    },
    {
      "cell_type": "markdown",
      "source": [
        "##Implementation:\n",
        "To solve this problem, you can use a greedy algorithm approach. The key idea is to iterate through the array, and at each step, choose the jump that provides the maximum reach, while keeping track of the number of jumps and the current reach. Here's how the algorithm works:\n",
        "\n",
        "1. Initialize two variables: `jumps` to count the number of jumps and `currentEnd` to track the end of the current maximum reach.\n",
        "2. Iterate through the array. For each element, update the maximum reach (`farthest`), which is the maximum of the current `farthest` and `i + array[i]` (where `i` is the current index).\n",
        "3. If you reach the current end (`currentEnd`), it means you need to make another jump. Update `currentEnd` to `farthest`, and increment `jumps`.\n",
        "4. Continue this process until you reach or pass the end of the array.\n",
        "\n"
      ],
      "metadata": {
        "id": "VnfJFQAI8UTY"
      }
    },
    {
      "cell_type": "code",
      "execution_count": 1,
      "metadata": {
        "colab": {
          "base_uri": "https://localhost:8080/"
        },
        "id": "H_0A7KdB8LA5",
        "outputId": "9f19f39a-2690-44b6-db3e-3cd5efa98eef"
      },
      "outputs": [
        {
          "output_type": "execute_result",
          "data": {
            "text/plain": [
              "2"
            ]
          },
          "metadata": {},
          "execution_count": 1
        }
      ],
      "source": [
        "def min_jumps(arr):\n",
        "    n = len(arr)\n",
        "    if n <= 1:\n",
        "        return 0\n",
        "\n",
        "    # If the first element is 0, end cannot be reached\n",
        "    if arr[0] == 0:\n",
        "        return -1\n",
        "\n",
        "    jumps = 1  # initial jump from first element\n",
        "    farthest = arr[0]  # the furthest we can currently reach\n",
        "    current_end = arr[0]  # the end of the current jump range\n",
        "\n",
        "    for i in range(1, n):\n",
        "        # Check if we have reached the end of the array\n",
        "        if i == n - 1:\n",
        "            return jumps\n",
        "\n",
        "        # Update the farthest we can reach\n",
        "        farthest = max(farthest, i + arr[i])\n",
        "\n",
        "        # If we have come to the end of the current jump range,\n",
        "        # we must make another jump\n",
        "        if i == current_end:\n",
        "            jumps += 1\n",
        "            current_end = farthest\n",
        "\n",
        "            # Check if the current end is beyond the array length\n",
        "            if current_end >= n - 1:\n",
        "                return jumps\n",
        "\n",
        "    return -1  # if we reach here, end cannot be reached\n",
        "\n",
        "# Test the function with the provided example\n",
        "test_array = [6, 2, 4, 0, 5, 1, 1, 4, 2, 9]\n",
        "min_jumps(test_array)\n"
      ]
    },
    {
      "cell_type": "markdown",
      "source": [
        "The function correctly returns 2 for the given example array \\([6, 2, 4, 0, 5, 1, 1, 4, 2, 9]\\). This indicates that the minimum number of jumps required to reach the end of this array is 2, as expected. The optimal solution involves jumping from the first element (6) to the fifth element (5), and then from there to the last element (9)."
      ],
      "metadata": {
        "id": "YivU7_uA8v1a"
      }
    },
    {
      "cell_type": "markdown",
      "source": [
        "##Testing:"
      ],
      "metadata": {
        "id": "5QdIGDN6816f"
      }
    },
    {
      "cell_type": "code",
      "source": [
        "def test_min_jumps():\n",
        "    assert min_jumps([2, 3, 1, 1, 4]) == 2  # Jump from 2 -> 3 -> 4\n",
        "    assert min_jumps([1, 1, 1, 1, 1]) == 4  # Jump 1 step at a time\n",
        "    assert min_jumps([0]) == 0  # No jump needed for single element\n",
        "    assert min_jumps([1, 2, 0, 3, 4]) == 3  # Jump from 1 -> 2 -> 3 -> 4\n",
        "    assert min_jumps([10, 9, 8, 7, 6, 5, 4, 3, 2, 1]) == 1  # Single jump from 10 to the end\n",
        "    assert min_jumps([3, 2, 1, 0, 4]) == -1  # Impossible to reach the end\n",
        "    print(\"All test cases passed!\")\n",
        "\n",
        "test_min_jumps()  # Run the test cases\n",
        "\n"
      ],
      "metadata": {
        "colab": {
          "base_uri": "https://localhost:8080/"
        },
        "id": "-OSKxpo084vN",
        "outputId": "d12ab91d-54ae-4201-c528-2e5e47950459"
      },
      "execution_count": 3,
      "outputs": [
        {
          "output_type": "stream",
          "name": "stdout",
          "text": [
            "All test cases passed!\n"
          ]
        }
      ]
    },
    {
      "cell_type": "markdown",
      "source": [
        "It seems there was an error with one of the test cases. The test case `min_jumps([3, 2, 1, 0, 4])` did not pass as expected. This suggests an issue with the function's handling of scenarios where it's impossible to reach the end of the array.\n",
        "\n",
        "I will revise the function to correctly handle such cases and then re-run the test cases.\n"
      ],
      "metadata": {
        "id": "amgq84Ki83_T"
      }
    },
    {
      "cell_type": "code",
      "source": [
        "def min_jumps(arr):\n",
        "    n = len(arr)\n",
        "    if n <= 1:\n",
        "        return 0\n",
        "\n",
        "    # If the first element is 0, end cannot be reached\n",
        "    if arr[0] == 0:\n",
        "        return -1\n",
        "\n",
        "    jumps = 1  # initial jump from first element\n",
        "    farthest = arr[0]  # the furthest we can currently reach\n",
        "    current_end = arr[0]  # the end of the current jump range\n",
        "\n",
        "    for i in range(1, n):\n",
        "        # Check if we have reached the end of the array\n",
        "        if i == n - 1:\n",
        "            return jumps\n",
        "\n",
        "        # Update the farthest we can reach\n",
        "        farthest = max(farthest, i + arr[i])\n",
        "\n",
        "        # If we have come to the end of the current jump range,\n",
        "        # we must make another jump\n",
        "        if i == current_end:\n",
        "            if i >= farthest:\n",
        "                # If the farthest we can reach is not beyond the current position,\n",
        "                # then it's impossible to proceed further\n",
        "                return -1\n",
        "\n",
        "            jumps += 1\n",
        "            current_end = farthest\n",
        "\n",
        "            # Check if the current end is beyond the array length\n",
        "            if current_end >= n - 1:\n",
        "                return jumps\n",
        "\n",
        "    return -1  # if we reach here, end cannot be reached\n",
        "\n",
        "# Re-run the test cases\n",
        "test_min_jumps()  # Run the test cases\n",
        "\n"
      ],
      "metadata": {
        "colab": {
          "base_uri": "https://localhost:8080/"
        },
        "id": "x7uQ66hK9CRG",
        "outputId": "3eb45d9a-d449-410b-8a3c-f9f6c5462039"
      },
      "execution_count": 4,
      "outputs": [
        {
          "output_type": "stream",
          "name": "stdout",
          "text": [
            "All test cases passed!\n"
          ]
        }
      ]
    },
    {
      "cell_type": "markdown",
      "source": [
        "\n",
        "All test cases have now passed successfully. This includes the test case where it's impossible to reach the end of the array, which is now correctly handled by the function. This confirms that the function works as expected for a variety of scenarios."
      ],
      "metadata": {
        "id": "NFvpTo2s9Coj"
      }
    }
  ]
}