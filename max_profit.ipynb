{
  "nbformat": 4,
  "nbformat_minor": 0,
  "metadata": {
    "colab": {
      "provenance": [],
      "authorship_tag": "ABX9TyNXDBJyhLSQhOmpaAWtY2ci",
      "include_colab_link": true
    },
    "kernelspec": {
      "name": "python3",
      "display_name": "Python 3"
    },
    "language_info": {
      "name": "python"
    }
  },
  "cells": [
    {
      "cell_type": "markdown",
      "metadata": {
        "id": "view-in-github",
        "colab_type": "text"
      },
      "source": [
        "<a href=\"https://colab.research.google.com/github/walkerjian/DailyCode/blob/main/max_profit.ipynb\" target=\"_parent\"><img src=\"https://colab.research.google.com/assets/colab-badge.svg\" alt=\"Open In Colab\"/></a>"
      ]
    },
    {
      "cell_type": "markdown",
      "source": [
        "##Problem:\n",
        "Given a array of numbers representing the stock prices of a company in chronological order, write a function that calculates the maximum profit you could have made from buying and selling that stock once. You must buy before you can sell it.\n",
        "\n",
        "For example, given [9, 11, 8, 5, 7, 10], you should return 5, since you could buy the stock at 5 dollars and sell it at 10 dollars."
      ],
      "metadata": {
        "id": "UmlC0W8reclI"
      }
    },
    {
      "cell_type": "markdown",
      "source": [
        "##Solution:\n",
        "The maximum profit you could have made from buying and selling the stock once, given the prices $[9, 11, 8, 5, 7, 10]$, is \\$5. This is because you could buy the stock at \\$5 and sell it at \\$10."
      ],
      "metadata": {
        "id": "xwrt7COqenPB"
      }
    },
    {
      "cell_type": "markdown",
      "source": [
        "##Implementation:"
      ],
      "metadata": {
        "id": "eOYlPbK4e7Iz"
      }
    },
    {
      "cell_type": "code",
      "execution_count": 1,
      "metadata": {
        "colab": {
          "base_uri": "https://localhost:8080/"
        },
        "id": "wU7HL7nreOMw",
        "outputId": "5ab9fffd-d1f5-4439-99c7-8116acf097de"
      },
      "outputs": [
        {
          "output_type": "execute_result",
          "data": {
            "text/plain": [
              "5"
            ]
          },
          "metadata": {},
          "execution_count": 1
        }
      ],
      "source": [
        "def max_profit(prices):\n",
        "    if not prices or len(prices) < 2:\n",
        "        return 0\n",
        "\n",
        "    min_price = prices[0]\n",
        "    max_profit = 0\n",
        "\n",
        "    for price in prices:\n",
        "        if price < min_price:\n",
        "            min_price = price\n",
        "        else:\n",
        "            potential_profit = price - min_price\n",
        "            max_profit = max(max_profit, potential_profit)\n",
        "\n",
        "    return max_profit\n",
        "\n",
        "# Testing the provided example\n",
        "prices_example = [9, 11, 8, 5, 7, 10]\n",
        "max_profit(prices_example)"
      ]
    }
  ]
}