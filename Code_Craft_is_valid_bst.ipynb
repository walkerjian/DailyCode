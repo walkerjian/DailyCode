{
  "nbformat": 4,
  "nbformat_minor": 0,
  "metadata": {
    "colab": {
      "provenance": [],
      "authorship_tag": "ABX9TyNRlRjqVI2+sGD5R328sOh+",
      "include_colab_link": true
    },
    "kernelspec": {
      "name": "python3",
      "display_name": "Python 3"
    },
    "language_info": {
      "name": "python"
    }
  },
  "cells": [
    {
      "cell_type": "markdown",
      "metadata": {
        "id": "view-in-github",
        "colab_type": "text"
      },
      "source": [
        "<a href=\"https://colab.research.google.com/github/walkerjian/DailyCode/blob/main/Code_Craft_is_valid_bst.ipynb\" target=\"_parent\"><img src=\"https://colab.research.google.com/assets/colab-badge.svg\" alt=\"Open In Colab\"/></a>"
      ]
    },
    {
      "cell_type": "markdown",
      "source": [
        "##Problem:\n",
        "Determine whether a tree is a valid binary search tree.\n",
        "\n",
        "A binary search tree is a tree with two children, left and right, and satisfies the constraint that the key in the left child must be less than or equal to the root and the key in the right child must be greater than or equal to the root."
      ],
      "metadata": {
        "id": "nlCwL-8sruJs"
      }
    },
    {
      "cell_type": "markdown",
      "source": [
        "##Solution:\n"
      ],
      "metadata": {
        "id": "QYfHm_v7rzIk"
      }
    },
    {
      "cell_type": "code",
      "execution_count": 1,
      "metadata": {
        "colab": {
          "base_uri": "https://localhost:8080/"
        },
        "id": "iDqw4xedqYwe",
        "outputId": "fb42afc5-0a0d-49dd-c3ae-e7d76bf69cb2"
      },
      "outputs": [
        {
          "output_type": "execute_result",
          "data": {
            "text/plain": [
              "True"
            ]
          },
          "metadata": {},
          "execution_count": 1
        }
      ],
      "source": [
        "# Redefining the TreeNode class and the is_valid_bst function\n",
        "\n",
        "class TreeNode:\n",
        "    def __init__(self, value=0, left=None, right=None):\n",
        "        self.value = value\n",
        "        self.left = left\n",
        "        self.right = right\n",
        "\n",
        "def is_valid_bst(node, left=float('-inf'), right=float('inf')):\n",
        "    \"\"\"\n",
        "    Determine whether a binary tree is a valid binary search tree.\n",
        "\n",
        "    Args:\n",
        "    node (TreeNode): The root node of the binary tree.\n",
        "    left (int): The lower bound for node values.\n",
        "    right (int): The upper bound for node values.\n",
        "\n",
        "    Returns:\n",
        "    bool: True if the tree is a valid BST, False otherwise.\n",
        "    \"\"\"\n",
        "    if not node:\n",
        "        return True\n",
        "\n",
        "    if not (left < node.value < right):\n",
        "        return False\n",
        "\n",
        "    return (is_valid_bst(node.left, left, node.value) and\n",
        "            is_valid_bst(node.right, node.value, right))\n",
        "\n",
        "# Example usage:\n",
        "# Constructing a simple binary search tree\n",
        "#      2\n",
        "#     / \\\n",
        "#    1   3\n",
        "\n",
        "root = TreeNode(2)\n",
        "root.left = TreeNode(1)\n",
        "root.right = TreeNode(3)\n",
        "\n",
        "# Check if the tree is a valid BST\n",
        "is_valid_bst(root)\n"
      ]
    },
    {
      "cell_type": "code",
      "source": [
        "# prompt: Determine whether a tree is a valid binary search tree.\n",
        "# A binary search tree is a tree with two children, left and right,\n",
        "# and satisfies the constraint that the key in the left child\n",
        "# must be less than or equal to the root\n",
        "# and the key in the right child\n",
        "# must be greater than or equal to the root.\n",
        "\n",
        "class TreeNode:\n",
        "    def __init__(self, value=0, left=None, right=None):\n",
        "        self.value = value\n",
        "        self.left = left\n",
        "        self.right = right\n",
        "\n",
        "def is_valid_bst(node, left=float('-inf'), right=float('inf')):\n",
        "    \"\"\"\n",
        "    Determine whether a binary tree is a valid binary search tree.\n",
        "\n",
        "    Args:\n",
        "    node (TreeNode): The root node of the binary tree.\n",
        "    left (int): The lower bound for node values.\n",
        "    right (int): The upper bound for node values.\n",
        "\n",
        "    Returns:\n",
        "    bool: True if the tree is a valid BST, False otherwise.\n",
        "    \"\"\"\n",
        "    if not node:\n",
        "        return True\n",
        "\n",
        "    if not (left < node.value < right):\n",
        "        return False\n",
        "\n",
        "    return (is_valid_bst(node.left, left, node.value) and\n",
        "            is_valid_bst(node.right, node.value, right))\n",
        "\n",
        "# Example usage:\n",
        "# Constructing a simple binary search tree\n",
        "#      2\n",
        "#     / \\\n",
        "#    1   3\n",
        "\n",
        "root = TreeNode(2)\n",
        "root.left = TreeNode(1)\n",
        "root.right = TreeNode(3)\n",
        "\n",
        "# Check if the tree is a valid BST\n",
        "is_valid_bst(root)\n"
      ],
      "metadata": {
        "colab": {
          "base_uri": "https://localhost:8080/"
        },
        "id": "Jt213bJTsBhw",
        "outputId": "2b4b86ee-7624-4064-8297-a6c19d360108"
      },
      "execution_count": 2,
      "outputs": [
        {
          "output_type": "execute_result",
          "data": {
            "text/plain": [
              "True"
            ]
          },
          "metadata": {},
          "execution_count": 2
        }
      ]
    }
  ]
}