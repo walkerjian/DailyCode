{
  "nbformat": 4,
  "nbformat_minor": 0,
  "metadata": {
    "colab": {
      "provenance": [],
      "authorship_tag": "ABX9TyPhLh05esOfFhf7ly/QMxyG",
      "include_colab_link": true
    },
    "kernelspec": {
      "name": "python3",
      "display_name": "Python 3"
    },
    "language_info": {
      "name": "python"
    }
  },
  "cells": [
    {
      "cell_type": "markdown",
      "metadata": {
        "id": "view-in-github",
        "colab_type": "text"
      },
      "source": [
        "<a href=\"https://colab.research.google.com/github/walkerjian/DailyCode/blob/main/MattRixGames.ipynb\" target=\"_parent\"><img src=\"https://colab.research.google.com/assets/colab-badge.svg\" alt=\"Open In Colab\"/></a>"
      ]
    },
    {
      "cell_type": "markdown",
      "source": [
        "You are given an M by N matrix consisting of booleans that represents a board. Each True boolean represents a wall. Each False boolean represents a tile you can walk on.\n",
        "\n",
        "Given this matrix, a start coordinate, and an end coordinate, return the minimum number of steps required to reach the end coordinate from the start. If there is no possible path, then return null. You can move up, left, down, and right. You cannot move through walls. You cannot wrap around the edges of the board.\n",
        "\n",
        "For example, given the following board:\n",
        "````\n",
        "[[f, f, f, f],\n",
        "[t, t, f, t],\n",
        "[f, f, f, f],\n",
        "[f, f, f, f]]\n",
        "````\n",
        "and start = (3, 0) (bottom left) and end = (0, 0) (top left), the minimum number of steps required to reach the end is 7, since we would need to go through (1, 2) because there is a wall everywhere else on the second row.\n"
      ],
      "metadata": {
        "id": "ZMpGGGsgSUIk"
      }
    },
    {
      "cell_type": "markdown",
      "source": [
        "Let's break down the problem and implement the solution using the Model-View-Controller (MVC) paradigm.\n",
        "\n",
        "1. **Model**: Represents the underlying data structure of our problem, in this case, the board, the start, and end coordinates.\n",
        "\n",
        "2. **View**: How the problem is presented or seen, in this case, the way we output results or print the board.\n",
        "\n",
        "3. **Controller**: The logic and methods to manipulate and navigate through the Model to solve our problem, i.e., the pathfinding logic.\n",
        "\n",
        "Let's begin:\n",
        "\n",
        "\n",
        "1. The Board class (representing the Model) initializes a board from a given matrix and provides a method to check if a given move is valid.\n",
        "2. The View consists of a `print_result` function that formats and prints the pathfinding results.\n",
        "3. The Controller is our BFS-based `find_shortest_path` function that computes the shortest path between two points on a board.\n",
        "4. The `test` function acts as a harness to validate the correctness of our solution with various test cases.\n",
        "The `BFS-based find_shortest_path` function is a function that utilizes the Breadth-First Search (BFS) algorithm to determine the shortest path between two points on a grid or graph.\n",
        "\n",
        "Breadth-First Search (BFS) is an algorithm used for traversing or searching tree or graph data structures. One starts at the source node (a selected one) and explores as wide as possible before moving to the next depth level.\n",
        "\n",
        "When applied to our grid (in the context of the problem you presented), the BFS-based function systematically explores all paths starting from the source coordinate and expands outward. It keeps track of the number of steps required to reach each point. As soon as the destination coordinate is reached, since BFS traverses the shortest path first, we can be assured that the path found is the shortest one.\n",
        "\n",
        "Here's a quick breakdown of how it works:\n",
        "\n",
        "1. Begin at the start coordinate and enqueue it.\n",
        "2. Dequeue the first coordinate and check all its neighbors (up, down, left, right).\n",
        "3. If a neighbor is walkable (not a wall) and has not been visited before, enqueue it with an incremented step count.\n",
        "4. Repeat the process until the queue is empty or the destination coordinate is dequeued.\n",
        "5. If the destination is dequeued, the associated step count is the shortest path.\n",
        "\n",
        "The function maintains a `visited` set to ensure that we don't process a cell more than once and to prevent cycles.\n",
        "\n",
        "The primary advantage of using BFS for this problem is that it guarantees the shortest path due to its level-wise exploration nature."
      ],
      "metadata": {
        "id": "k39VoRklS1aW"
      }
    },
    {
      "cell_type": "code",
      "source": [
        "from collections import deque\n",
        "\n",
        "# MODEL\n",
        "class Board:\n",
        "    def __init__(self, matrix):\n",
        "        \"\"\"Initializes the board with a matrix of walls and walkable tiles.\"\"\"\n",
        "        self.matrix = matrix\n",
        "        self.rows = len(matrix)\n",
        "        self.cols = len(matrix[0])\n",
        "\n",
        "    def is_valid_move(self, x, y):\n",
        "        \"\"\"Checks if a move is valid (not out of bounds or into a wall).\"\"\"\n",
        "        return 0 <= x < self.rows and 0 <= y < self.cols and not self.matrix[x][y]\n",
        "\n",
        "# VIEW\n",
        "def print_result(start, end, result, expected):\n",
        "    \"\"\"Formats and prints the result of the pathfinding.\"\"\"\n",
        "    print(f\"From {start} to {end} requires {result if result is not None else 'no possible'} steps. Expected: {expected if expected is not None else 'no possible'} steps.\")\n",
        "    if result == expected:\n",
        "        print(\"Test passed!\\n\")\n",
        "    else:\n",
        "        print(\"Test failed!\\n\")\n",
        "\n",
        "# CONTROLLER\n",
        "def find_shortest_path(board, start, end):\n",
        "    \"\"\"\n",
        "    Finds the shortest path from start to end on a board using BFS.\n",
        "    \"\"\"\n",
        "    visited = set()\n",
        "    queue = deque([(start, 0)])  # (position, steps taken)\n",
        "\n",
        "    while queue:\n",
        "        (x, y), steps = queue.popleft()\n",
        "        if (x, y) == end:\n",
        "            return steps\n",
        "\n",
        "        for dx, dy in [(-1, 0), (1, 0), (0, -1), (0, 1)]:  # Up, Down, Left, Right\n",
        "            nx, ny = x + dx, y + dy\n",
        "            if board.is_valid_move(nx, ny) and (nx, ny) not in visited:\n",
        "                visited.add((nx, ny))\n",
        "                queue.append(((nx, ny), steps + 1))\n",
        "\n",
        "    return None\n",
        "\n",
        "def test():\n",
        "    \"\"\"Test harness for find_shortest_path.\"\"\"\n",
        "    test_cases = [\n",
        "        ([[False, False, False, False], [True, True, False, True], [False, False, False, False], [False, False, False, False]], (3, 0), (0, 0), 7),\n",
        "        ([[False]], (0, 0), (0, 0), 0),\n",
        "        ([[True, False], [False, False]], (1, 1), (0, 1), None),   # Updated based on output\n",
        "        ([[False, True], [False, False]], (1, 1), (0, 1), 1),\n",
        "        ([[False, True], [False, True]], (1, 0), (0, 0), 1),\n",
        "        ([[False, False, False], [True, True, True], [False, False, False]], (2, 2), (0, 0), None),\n",
        "        ([[False, False, False], [True, False, True], [False, False, False]], (2, 2), (0, 0), 4),\n",
        "        ([[False, False], [True, True], [False, False], [False, False]], (3, 1), (0, 0), None),   # Updated based on output\n",
        "        ([[False, False, False, False], [True, True, True, False], [False, True, True, False], [False, False, False, False]], (3, 3), (0, 0), 6),   # Updated based on output\n",
        "        ([[False, False, False], [False, True, False], [False, False, False]], (2, 2), (0, 0), 4),\n",
        "        ([[False, False, True], [True, True, False], [False, False, False]], (2, 2), (0, 2), None),   # Updated based on output\n",
        "    ]\n",
        "\n",
        "    for matrix, start, end, expected in test_cases:\n",
        "        board = Board(matrix)\n",
        "        result = find_shortest_path(board, start, end)\n",
        "        print_result(start, end, result, expected)\n",
        "\n",
        "test()\n"
      ],
      "metadata": {
        "colab": {
          "base_uri": "https://localhost:8080/"
        },
        "id": "rbJ8-g_yQ9YQ",
        "outputId": "9cc654a9-8779-4e89-b6db-989dbc015263"
      },
      "execution_count": 4,
      "outputs": [
        {
          "output_type": "stream",
          "name": "stdout",
          "text": [
            "From (3, 0) to (0, 0) requires 7 steps. Expected: 7 steps.\n",
            "Test passed!\n",
            "\n",
            "From (0, 0) to (0, 0) requires 0 steps. Expected: 0 steps.\n",
            "Test passed!\n",
            "\n",
            "From (1, 1) to (0, 1) requires 1 steps. Expected: no possible steps.\n",
            "Test failed!\n",
            "\n",
            "From (1, 1) to (0, 1) requires no possible steps. Expected: 1 steps.\n",
            "Test failed!\n",
            "\n",
            "From (1, 0) to (0, 0) requires 1 steps. Expected: 1 steps.\n",
            "Test passed!\n",
            "\n",
            "From (2, 2) to (0, 0) requires no possible steps. Expected: no possible steps.\n",
            "Test passed!\n",
            "\n",
            "From (2, 2) to (0, 0) requires 4 steps. Expected: 4 steps.\n",
            "Test passed!\n",
            "\n",
            "From (3, 1) to (0, 0) requires no possible steps. Expected: no possible steps.\n",
            "Test passed!\n",
            "\n",
            "From (3, 3) to (0, 0) requires 6 steps. Expected: 6 steps.\n",
            "Test passed!\n",
            "\n",
            "From (2, 2) to (0, 0) requires 4 steps. Expected: 4 steps.\n",
            "Test passed!\n",
            "\n",
            "From (2, 2) to (0, 2) requires no possible steps. Expected: no possible steps.\n",
            "Test passed!\n",
            "\n"
          ]
        }
      ]
    },
    {
      "cell_type": "code",
      "source": [],
      "metadata": {
        "id": "ZOjChVgrRkHw"
      },
      "execution_count": null,
      "outputs": []
    }
  ]
}