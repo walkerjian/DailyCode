{
  "nbformat": 4,
  "nbformat_minor": 0,
  "metadata": {
    "colab": {
      "provenance": [],
      "authorship_tag": "ABX9TyO3Q2iCWrfiPNXOX+/oMnGS",
      "include_colab_link": true
    },
    "kernelspec": {
      "name": "python3",
      "display_name": "Python 3"
    },
    "language_info": {
      "name": "python"
    }
  },
  "cells": [
    {
      "cell_type": "markdown",
      "metadata": {
        "id": "view-in-github",
        "colab_type": "text"
      },
      "source": [
        "<a href=\"https://colab.research.google.com/github/walkerjian/DailyCode/blob/main/Gemini_count_smaller_and_larger.ipynb\" target=\"_parent\"><img src=\"https://colab.research.google.com/assets/colab-badge.svg\" alt=\"Open In Colab\"/></a>"
      ]
    },
    {
      "cell_type": "markdown",
      "source": [
        "##Problem:\n",
        "Let A be an N by M matrix in which every row and every column is sorted.\n",
        "Given i1, j1, i2, and j2, compute the number of elements of M smaller than M[i1, j1] and larger than M[i2, j2].\n",
        "For example, given the following matrix:\n",
        "````\n",
        "[[1, 3, 7, 10, 15, 20],\n",
        " [2, 6, 9, 14, 22, 25],\n",
        " [3, 8, 10, 15, 25, 30],\n",
        " [10, 11, 12, 23, 30, 35],\n",
        " [20, 25, 30, 35, 40, 45]]\n",
        "````\n",
        "And i1 = 1, j1 = 1, i2 = 3, j2 = 3, return 15 as there are 15 numbers in the matrix smaller than 6 or greater than 23.\n"
      ],
      "metadata": {
        "id": "2lWyrXjB8EeD"
      }
    },
    {
      "cell_type": "markdown",
      "source": [
        "##Solution:\n",
        "We iterate through the matrix considering two loops: one for rows and another for columns.\n",
        "For the first element (i1, j1), we count all the elements above and to the left (excluding itself) because those elements will be smaller. We break out of the inner loop as soon as we encounter a larger element in the current row.\n",
        "Similarly, for the second element (i2, j2), we iterate through the matrix in reverse order (from bottom right to top left). We count all the elements below and to the right (excluding itself) because those elements will be larger. We break out of the inner loop as soon as we encounter a smaller element in the current row.\n",
        "This approach utilizes the sorted property of the rows and columns to efficiently find the count without needing to compare every element in the matrix.\n"
      ],
      "metadata": {
        "id": "jIohycTB8Hjb"
      }
    },
    {
      "cell_type": "markdown",
      "source": [
        "##Implementation:\n"
      ],
      "metadata": {
        "id": "pkWuQrLB8K8H"
      }
    },
    {
      "cell_type": "code",
      "execution_count": 1,
      "metadata": {
        "id": "TIIt0l_k7Oi1",
        "colab": {
          "base_uri": "https://localhost:8080/"
        },
        "outputId": "3534ec14-673f-4f6e-96d7-091ac760cfa3"
      },
      "outputs": [
        {
          "output_type": "stream",
          "name": "stdout",
          "text": [
            "15\n"
          ]
        }
      ],
      "source": [
        "def count_smaller_and_larger(A, i1, j1, i2, j2):\n",
        "  \"\"\"\n",
        "  Counts the number of elements in A smaller than A[i1, j1] and larger than A[i2, j2].\n",
        "\n",
        "  Args:\n",
        "      A: An N by M matrix in which every row and every column is sorted.\n",
        "      i1: The row index of the first element.\n",
        "      j1: The column index of the first element.\n",
        "      i2: The row index of the second element.\n",
        "      j2: The column index of the second element.\n",
        "\n",
        "  Returns:\n",
        "      The number of elements in A smaller than A[i1, j1] and larger than A[i2, j2].\n",
        "  \"\"\"\n",
        "\n",
        "  rows, cols = len(A), len(A[0])\n",
        "  count = 0\n",
        "\n",
        "  # Count elements smaller than A[i1, j1]\n",
        "  for i in range(rows):\n",
        "    for j in range(cols):\n",
        "      if i < i1 or (i == i1 and j < j1):\n",
        "        count += 1\n",
        "      else:\n",
        "        break\n",
        "\n",
        "  # Count elements larger than A[i2, j2]\n",
        "  for i in range(rows - 1, -1, -1):\n",
        "    for j in range(cols - 1, -1, -1):\n",
        "      if i > i2 or (i == i2 and j > j2):\n",
        "        count += 1\n",
        "      else:\n",
        "        break\n",
        "\n",
        "  return count\n",
        "\n",
        "# Example usage\n",
        "matrix = [[1, 3, 7, 10, 15, 20],\n",
        "          [2, 6, 9, 14, 22, 25],\n",
        "          [3, 8, 10, 15, 25, 30],\n",
        "          [10, 11, 12, 23, 30, 35],\n",
        "          [20, 25, 30, 35, 40, 45]]\n",
        "i1, j1, i2, j2 = 1, 1, 3, 3\n",
        "result = count_smaller_and_larger(matrix, i1, j1, i2, j2)\n",
        "print(result)  # Output: 15\n"
      ]
    }
  ]
}