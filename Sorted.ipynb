{
  "nbformat": 4,
  "nbformat_minor": 0,
  "metadata": {
    "colab": {
      "provenance": [],
      "history_visible": true,
      "authorship_tag": "ABX9TyNmOcw+Yj9TS3WN1qy1U3AV",
      "include_colab_link": true
    },
    "kernelspec": {
      "name": "python3",
      "display_name": "Python 3"
    },
    "language_info": {
      "name": "python"
    }
  },
  "cells": [
    {
      "cell_type": "markdown",
      "metadata": {
        "id": "view-in-github",
        "colab_type": "text"
      },
      "source": [
        "<a href=\"https://colab.research.google.com/github/walkerjian/DailyCode/blob/main/Sorted.ipynb\" target=\"_parent\"><img src=\"https://colab.research.google.com/assets/colab-badge.svg\" alt=\"Open In Colab\"/></a>"
      ]
    },
    {
      "cell_type": "code",
      "execution_count": 1,
      "metadata": {
        "colab": {
          "base_uri": "https://localhost:8080/"
        },
        "id": "m2fa6DtwfVhF",
        "outputId": "acdf1e64-b0d8-44b1-d5e3-7cde474583a4"
      },
      "outputs": [
        {
          "output_type": "stream",
          "name": "stdout",
          "text": [
            "Test array: [500, 200, 300, 100]\n",
            "Sorted array: [100, 200, 300, 500]\n",
            "\n",
            "Test array: [100000000, 500000000, 200000000]\n",
            "Sorted array: [100000000, 200000000, 500000000]\n",
            "\n",
            "Test array: [0, 1000000000, 500000000, 999999999]\n",
            "Sorted array: [0, 500000000, 999999999, 1000000000]\n",
            "\n"
          ]
        }
      ],
      "source": [
        "class Model:\n",
        "    def sort_array(self, arr, bucket_size=1000000):\n",
        "        \"\"\"\n",
        "        Sorts the given array using a bucket variation of the counting sort algorithm.\n",
        "\n",
        "        Problem:\n",
        "        Given an array of integers between zero and a billion, out of order, we need to efficiently sort it.\n",
        "\n",
        "        Approach:\n",
        "        1. Divide the range of numbers (0 to a billion) into smaller buckets.\n",
        "        2. Count the occurrences of numbers in each bucket.\n",
        "        3. Sort each bucket separately and concatenate the results.\n",
        "\n",
        "        Parameters:\n",
        "        arr: List of integers to be sorted.\n",
        "        bucket_size: The size of each bucket.\n",
        "\n",
        "        Returns:\n",
        "        A sorted list of integers.\n",
        "        \"\"\"\n",
        "        # Create buckets\n",
        "        buckets = [0] * (1000000000 // bucket_size + 1)\n",
        "        for num in arr:\n",
        "            buckets[num // bucket_size] += 1\n",
        "\n",
        "        # Sort each bucket and concatenate the results\n",
        "        sorted_array = []\n",
        "        for i, count in enumerate(buckets):\n",
        "            if count > 0:\n",
        "                bucket = [num for num in arr if i * bucket_size <= num < (i + 1) * bucket_size]\n",
        "                sorted_array += sorted(bucket)\n",
        "\n",
        "        return sorted_array\n",
        "\n",
        "\n",
        "class View:\n",
        "    def show_sorted_array(self, arr):\n",
        "        print(\"Sorted array:\", arr)\n",
        "\n",
        "\n",
        "class Controller:\n",
        "    def __init__(self, model, view):\n",
        "        self.model = model\n",
        "        self.view = view\n",
        "\n",
        "    def process_sorting(self, arr):\n",
        "        sorted_array = self.model.sort_array(arr)\n",
        "        self.view.show_sorted_array(sorted_array)\n",
        "\n",
        "\n",
        "# Test Suite\n",
        "def test_suite():\n",
        "    test_cases = [\n",
        "        [500, 200, 300, 100],\n",
        "        [100000000, 500000000, 200000000],\n",
        "        [0, 1000000000, 500000000, 999999999],\n",
        "        # More test cases can be added here\n",
        "    ]\n",
        "\n",
        "    model = Model()\n",
        "    view = View()\n",
        "    controller = Controller(model, view)\n",
        "\n",
        "    for test_case in test_cases:\n",
        "        print(\"Test array:\", test_case)\n",
        "        controller.process_sorting(test_case)\n",
        "        print()\n",
        "\n",
        "\n",
        "if __name__ == \"__main__\":\n",
        "    test_suite()\n"
      ]
    }
  ]
}