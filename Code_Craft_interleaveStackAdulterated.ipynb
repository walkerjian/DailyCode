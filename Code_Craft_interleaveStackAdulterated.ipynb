{
  "nbformat": 4,
  "nbformat_minor": 0,
  "metadata": {
    "colab": {
      "provenance": [],
      "authorship_tag": "ABX9TyMrZXUbO52wfgYNd1dQpFwW",
      "include_colab_link": true
    },
    "kernelspec": {
      "name": "python3",
      "display_name": "Python 3"
    },
    "language_info": {
      "name": "python"
    }
  },
  "cells": [
    {
      "cell_type": "markdown",
      "metadata": {
        "id": "view-in-github",
        "colab_type": "text"
      },
      "source": [
        "<a href=\"https://colab.research.google.com/github/walkerjian/DailyCode/blob/main/Code_Craft_interleaveStackAdulterated.ipynb\" target=\"_parent\"><img src=\"https://colab.research.google.com/assets/colab-badge.svg\" alt=\"Open In Colab\"/></a>"
      ]
    },
    {
      "cell_type": "markdown",
      "source": [
        "##Problem:\n",
        "Given a stack of N elements, interleave the first half of the stack with the second half reversed using only one other queue. This should be done in-place.\n",
        "\n",
        "Recall that you can only push or pop from a stack, and enqueue or dequeue from a queue.\n",
        "\n",
        "For example, if the stack is [1, 2, 3, 4, 5], it should become [1, 5, 2, 4, 3]. If the stack is [1, 2, 3, 4], it should become [1, 4, 2, 3].\n",
        "\n",
        "Hint: Try working backwards from the end stat\n"
      ],
      "metadata": {
        "id": "2lWyrXjB8EeD"
      }
    },
    {
      "cell_type": "markdown",
      "source": [
        "##Solution:\n",
        "To achieve the task of interleaving the first half of the stack with the second half reversed, using only one additional queue, we can follow a systematic approach. This problem involves a bit of a trick in understanding how stacks and queues work and exploiting their Last-In-First-Out (LIFO) and First-In-First-Out (FIFO) properties, respectively.\n",
        "\n",
        "Here's a step-by-step strategy in Python, assuming we are implementing the stack and queue using lists for simplicity. Python lists offer the necessary operations: `append()` for pushing/enqueuing and `pop()` for popping/dequeuing (from the end of the list for a stack and from the start of the list for a queue with a slight modification).\n",
        "\n",
        "This solution focuses on manipulating the positions of elements through a series of stack and queue operations to achieve the interleaved pattern:\n",
        "\n",
        "1. **Understanding the goal**: We want the bottom half of the stack to interleave with the reversed top half. For example, a stack `[1, 2, 3, 4, 5]` becomes `[1, 5, 2, 4, 3]`.\n",
        "\n",
        "2. **Work backwards**: To interleave, we reverse the second half within the stack itself and then interleave. Working backwards means figuring out how to get each element to its final position.\n",
        "\n",
        "3. **Algorithm outline**:\n",
        "   - Transfer all elements from the stack to the queue to reverse the order of the second half.\n",
        "   - We then repeatedly do the following until the stack is in its final state:\n",
        "     - Dequeue elements from the queue and push them back onto the stack, except for the last half of the elements, which are left in the queue.\n",
        "     - Then, interleave the elements by alternately dequeuing from the queue and popping from the stack, pushing each dequeued or popped element back onto the stack.\n",
        "\n"
      ],
      "metadata": {
        "id": "jIohycTB8Hjb"
      }
    },
    {
      "cell_type": "markdown",
      "source": [
        "##Implementation:\n",
        "Let's implement this strategy:\n",
        "\n",
        "```python\n",
        "def interleaveStack(stack):\n",
        "    # Step 1: Initialize an empty queue\n",
        "    queue = []\n",
        "    \n",
        "    # Step 2: Transfer all elements from the stack to the queue\n",
        "    while stack:\n",
        "        queue.append(stack.pop())\n",
        "    \n",
        "    # Step 3: Push the first half back to the stack\n",
        "    for _ in range(len(queue) // 2):\n",
        "        stack.append(queue.pop(0))\n",
        "    \n",
        "    # Step 4: Interleave the elements\n",
        "    while queue:\n",
        "        # Step 4.1: Push one from the stack if it's not empty\n",
        "        if stack:\n",
        "            queue.append(stack.pop())\n",
        "        # Step 4.2: Enqueue back the front element of the queue to its back\n",
        "        queue.append(queue.pop(0))\n",
        "        \n",
        "        # Step 4.3: Move the top of the queue to the stack (interleaving step)\n",
        "        stack.append(queue.pop(0))\n",
        "        \n",
        "        # Step 4.4: If there's an element in the stack, move it back to the queue (to maintain order)\n",
        "        if stack:\n",
        "            queue.append(stack.pop())\n",
        "    \n",
        "    # Step 5: Transfer back to the stack from the queue to restore order\n",
        "    while queue:\n",
        "        stack.append(queue.pop(0))\n",
        "\n",
        "    # Inverse the stack to get the final order\n",
        "    stack.reverse()\n",
        "\n",
        "# Example usage\n",
        "stack = [1, 2, 3, 4, 5]\n",
        "interleaveStack(stack)\n",
        "print(stack)  # Should print: [1, 5, 2, 4, 3]\n",
        "```\n",
        "\n",
        "This code follows the algorithm to interleave the stack as required, using only a single queue for auxiliary storage. It manipulates the order of elements through a series of pushes and pops, effectively interleaving the first half of the stack with the reversed second half.\n"
      ],
      "metadata": {
        "id": "pkWuQrLB8K8H"
      }
    },
    {
      "cell_type": "code",
      "execution_count": null,
      "metadata": {
        "id": "TIIt0l_k7Oi1",
        "colab": {
          "base_uri": "https://localhost:8080/",
          "height": 315
        },
        "outputId": "6b235dc0-8ee6-48d7-bd63-6a93ecee8fbb"
      },
      "outputs": [
        {
          "output_type": "error",
          "ename": "KeyboardInterrupt",
          "evalue": "",
          "traceback": [
            "\u001b[0;31m---------------------------------------------------------------------------\u001b[0m",
            "\u001b[0;31mKeyboardInterrupt\u001b[0m                         Traceback (most recent call last)",
            "\u001b[0;32m<ipython-input-1-66a11fa0c455>\u001b[0m in \u001b[0;36m<cell line: 37>\u001b[0;34m()\u001b[0m\n\u001b[1;32m     35\u001b[0m \u001b[0;31m# Example usage\u001b[0m\u001b[0;34m\u001b[0m\u001b[0;34m\u001b[0m\u001b[0m\n\u001b[1;32m     36\u001b[0m \u001b[0mstack\u001b[0m \u001b[0;34m=\u001b[0m \u001b[0;34m[\u001b[0m\u001b[0;36m1\u001b[0m\u001b[0;34m,\u001b[0m \u001b[0;36m2\u001b[0m\u001b[0;34m,\u001b[0m \u001b[0;36m3\u001b[0m\u001b[0;34m,\u001b[0m \u001b[0;36m4\u001b[0m\u001b[0;34m,\u001b[0m \u001b[0;36m5\u001b[0m\u001b[0;34m]\u001b[0m\u001b[0;34m\u001b[0m\u001b[0;34m\u001b[0m\u001b[0m\n\u001b[0;32m---> 37\u001b[0;31m \u001b[0minterleaveStack\u001b[0m\u001b[0;34m(\u001b[0m\u001b[0mstack\u001b[0m\u001b[0;34m)\u001b[0m\u001b[0;34m\u001b[0m\u001b[0;34m\u001b[0m\u001b[0m\n\u001b[0m\u001b[1;32m     38\u001b[0m \u001b[0mprint\u001b[0m\u001b[0;34m(\u001b[0m\u001b[0mstack\u001b[0m\u001b[0;34m)\u001b[0m  \u001b[0;31m# Should print: [1, 5, 2, 4, 3]\u001b[0m\u001b[0;34m\u001b[0m\u001b[0;34m\u001b[0m\u001b[0m\n",
            "\u001b[0;32m<ipython-input-1-66a11fa0c455>\u001b[0m in \u001b[0;36minterleaveStack\u001b[0;34m(stack)\u001b[0m\n\u001b[1;32m     24\u001b[0m         \u001b[0;31m# Step 4.4: If there's an element in the stack, move it back to the queue (to maintain order)\u001b[0m\u001b[0;34m\u001b[0m\u001b[0;34m\u001b[0m\u001b[0m\n\u001b[1;32m     25\u001b[0m         \u001b[0;32mif\u001b[0m \u001b[0mstack\u001b[0m\u001b[0;34m:\u001b[0m\u001b[0;34m\u001b[0m\u001b[0;34m\u001b[0m\u001b[0m\n\u001b[0;32m---> 26\u001b[0;31m             \u001b[0mqueue\u001b[0m\u001b[0;34m.\u001b[0m\u001b[0mappend\u001b[0m\u001b[0;34m(\u001b[0m\u001b[0mstack\u001b[0m\u001b[0;34m.\u001b[0m\u001b[0mpop\u001b[0m\u001b[0;34m(\u001b[0m\u001b[0;34m)\u001b[0m\u001b[0;34m)\u001b[0m\u001b[0;34m\u001b[0m\u001b[0;34m\u001b[0m\u001b[0m\n\u001b[0m\u001b[1;32m     27\u001b[0m \u001b[0;34m\u001b[0m\u001b[0m\n\u001b[1;32m     28\u001b[0m     \u001b[0;31m# Step 5: Transfer back to the stack from the queue to restore order\u001b[0m\u001b[0;34m\u001b[0m\u001b[0;34m\u001b[0m\u001b[0m\n",
            "\u001b[0;31mKeyboardInterrupt\u001b[0m: "
          ]
        }
      ],
      "source": [
        "def interleaveStack(stack):\n",
        "    # Step 1: Initialize an empty queue\n",
        "    queue = []\n",
        "\n",
        "    # Step 2: Transfer all elements from the stack to the queue\n",
        "    while stack:\n",
        "        queue.append(stack.pop())\n",
        "\n",
        "    # Step 3: Push the first half back to the stack\n",
        "    for _ in range(len(queue) // 2):\n",
        "        stack.append(queue.pop(0))\n",
        "\n",
        "    # Step 4: Interleave the elements\n",
        "    while queue:\n",
        "        # Step 4.1: Push one from the stack if it's not empty\n",
        "        if stack:\n",
        "            queue.append(stack.pop())\n",
        "        # Step 4.2: Enqueue back the front element of the queue to its back\n",
        "        queue.append(queue.pop(0))\n",
        "\n",
        "        # Step 4.3: Move the top of the queue to the stack (interleaving step)\n",
        "        stack.append(queue.pop(0))\n",
        "\n",
        "        # Step 4.4: If there's an element in the stack, move it back to the queue (to maintain order)\n",
        "        if stack:\n",
        "            queue.append(stack.pop())\n",
        "\n",
        "    # Step 5: Transfer back to the stack from the queue to restore order\n",
        "    while queue:\n",
        "        stack.append(queue.pop(0))\n",
        "\n",
        "    # Inverse the stack to get the final order\n",
        "    stack.reverse()\n",
        "\n",
        "# Example usage\n",
        "stack = [1, 2, 3, 4, 5]\n",
        "interleaveStack(stack)\n",
        "print(stack)  # Should print: [1, 5, 2, 4, 3]\n"
      ]
    },
    {
      "cell_type": "markdown",
      "source": [
        "##Testing:\n"
      ],
      "metadata": {
        "id": "wcaruNyfYogT"
      }
    },
    {
      "cell_type": "code",
      "source": [
        "def fibonacci(n):\n",
        "    if n <= 0:\n",
        "        return 0\n",
        "    elif n == 1:\n",
        "        return 1\n",
        "    else:\n",
        "        return fibonacci(n-1) + fibonacci(n-2)\n",
        "\n",
        "# Test the function\n",
        "print(fibonacci(10))  # Should print 55\n"
      ],
      "metadata": {
        "id": "7arfxk2ORsA8",
        "colab": {
          "base_uri": "https://localhost:8080/"
        },
        "outputId": "b2da9938-7cdf-42db-de41-f338310bd6ff"
      },
      "execution_count": 2,
      "outputs": [
        {
          "output_type": "stream",
          "name": "stdout",
          "text": [
            "55\n"
          ]
        }
      ]
    },
    {
      "cell_type": "code",
      "source": [
        "def correctInterleaveStack(stack):\n",
        "    queue = []\n",
        "    n = len(stack)\n",
        "\n",
        "    # Step 1: Move all elements from stack to queue (reverse order)\n",
        "    while stack:\n",
        "        queue.append(stack.pop())\n",
        "\n",
        "    # Step 2: Move half of the elements back to stack (first half of original stack in reverse order)\n",
        "    for _ in range(n // 2):\n",
        "        stack.append(queue.pop(0))\n",
        "\n",
        "    # Step 3: Interleave the elements\n",
        "    while queue:\n",
        "        if stack:  # Ensure there are elements to interleave from the stack\n",
        "            queue.append(stack.pop())  # Add from stack to queue to reverse order for interleaving\n",
        "        queue.append(queue.pop(0))  # This maintains or corrects the order for interleaving\n",
        "\n",
        "        # Always add the front of the queue back to the stack, which does the interleaving\n",
        "        stack.append(queue.pop(0))\n",
        "\n",
        "    # Reverse the stack to get the final interleaved order\n",
        "    stack.reverse()\n",
        "\n",
        "# Testing the corrected algorithm\n",
        "stack = [1, 2, 3, 4, 5]\n",
        "correctInterleaveStack(stack)\n",
        "print(\"Test 1 Result:\", stack)  # Expected: [1, 5, 2, 4, 3]\n",
        "\n",
        "stack = [1, 2, 3, 4]\n",
        "correctInterleaveStack(stack)\n",
        "print(\"Test 2 Result:\", stack)  # Expected: [1, 4, 2, 3]\n"
      ],
      "metadata": {
        "colab": {
          "base_uri": "https://localhost:8080/",
          "height": 332
        },
        "id": "V-0j1GUl3x2p",
        "outputId": "32383b7c-c24a-452d-8662-3ae1e6cf5b92"
      },
      "execution_count": 5,
      "outputs": [
        {
          "output_type": "error",
          "ename": "KeyboardInterrupt",
          "evalue": "",
          "traceback": [
            "\u001b[0;31m---------------------------------------------------------------------------\u001b[0m",
            "\u001b[0;31mKeyboardInterrupt\u001b[0m                         Traceback (most recent call last)",
            "\u001b[0;32m<ipython-input-5-6485807c0b5e>\u001b[0m in \u001b[0;36m<cell line: 27>\u001b[0;34m()\u001b[0m\n\u001b[1;32m     25\u001b[0m \u001b[0;31m# Testing the corrected algorithm\u001b[0m\u001b[0;34m\u001b[0m\u001b[0;34m\u001b[0m\u001b[0m\n\u001b[1;32m     26\u001b[0m \u001b[0mstack\u001b[0m \u001b[0;34m=\u001b[0m \u001b[0;34m[\u001b[0m\u001b[0;36m1\u001b[0m\u001b[0;34m,\u001b[0m \u001b[0;36m2\u001b[0m\u001b[0;34m,\u001b[0m \u001b[0;36m3\u001b[0m\u001b[0;34m,\u001b[0m \u001b[0;36m4\u001b[0m\u001b[0;34m,\u001b[0m \u001b[0;36m5\u001b[0m\u001b[0;34m]\u001b[0m\u001b[0;34m\u001b[0m\u001b[0;34m\u001b[0m\u001b[0m\n\u001b[0;32m---> 27\u001b[0;31m \u001b[0mcorrectInterleaveStack\u001b[0m\u001b[0;34m(\u001b[0m\u001b[0mstack\u001b[0m\u001b[0;34m)\u001b[0m\u001b[0;34m\u001b[0m\u001b[0;34m\u001b[0m\u001b[0m\n\u001b[0m\u001b[1;32m     28\u001b[0m \u001b[0mprint\u001b[0m\u001b[0;34m(\u001b[0m\u001b[0;34m\"Test 1 Result:\"\u001b[0m\u001b[0;34m,\u001b[0m \u001b[0mstack\u001b[0m\u001b[0;34m)\u001b[0m  \u001b[0;31m# Expected: [1, 5, 2, 4, 3]\u001b[0m\u001b[0;34m\u001b[0m\u001b[0;34m\u001b[0m\u001b[0m\n\u001b[1;32m     29\u001b[0m \u001b[0;34m\u001b[0m\u001b[0m\n",
            "\u001b[0;32m<ipython-input-5-6485807c0b5e>\u001b[0m in \u001b[0;36mcorrectInterleaveStack\u001b[0;34m(stack)\u001b[0m\n\u001b[1;32m     14\u001b[0m     \u001b[0;32mwhile\u001b[0m \u001b[0mqueue\u001b[0m\u001b[0;34m:\u001b[0m\u001b[0;34m\u001b[0m\u001b[0;34m\u001b[0m\u001b[0m\n\u001b[1;32m     15\u001b[0m         \u001b[0;32mif\u001b[0m \u001b[0mstack\u001b[0m\u001b[0;34m:\u001b[0m  \u001b[0;31m# Ensure there are elements to interleave from the stack\u001b[0m\u001b[0;34m\u001b[0m\u001b[0;34m\u001b[0m\u001b[0m\n\u001b[0;32m---> 16\u001b[0;31m             \u001b[0mqueue\u001b[0m\u001b[0;34m.\u001b[0m\u001b[0mappend\u001b[0m\u001b[0;34m(\u001b[0m\u001b[0mstack\u001b[0m\u001b[0;34m.\u001b[0m\u001b[0mpop\u001b[0m\u001b[0;34m(\u001b[0m\u001b[0;34m)\u001b[0m\u001b[0;34m)\u001b[0m  \u001b[0;31m# Add from stack to queue to reverse order for interleaving\u001b[0m\u001b[0;34m\u001b[0m\u001b[0;34m\u001b[0m\u001b[0m\n\u001b[0m\u001b[1;32m     17\u001b[0m         \u001b[0mqueue\u001b[0m\u001b[0;34m.\u001b[0m\u001b[0mappend\u001b[0m\u001b[0;34m(\u001b[0m\u001b[0mqueue\u001b[0m\u001b[0;34m.\u001b[0m\u001b[0mpop\u001b[0m\u001b[0;34m(\u001b[0m\u001b[0;36m0\u001b[0m\u001b[0;34m)\u001b[0m\u001b[0;34m)\u001b[0m  \u001b[0;31m# This maintains or corrects the order for interleaving\u001b[0m\u001b[0;34m\u001b[0m\u001b[0;34m\u001b[0m\u001b[0m\n\u001b[1;32m     18\u001b[0m \u001b[0;34m\u001b[0m\u001b[0m\n",
            "\u001b[0;31mKeyboardInterrupt\u001b[0m: "
          ]
        }
      ]
    },
    {
      "cell_type": "code",
      "source": [
        "def interleaveStack(stack):\n",
        "    queue = []\n",
        "    n = len(stack)\n",
        "\n",
        "    # Step 1: Reverse the stack into the queue\n",
        "    while stack:\n",
        "        queue.append(stack.pop())\n",
        "\n",
        "    # Step 2: Rebuild the stack with the correct interleaving\n",
        "    for i in range(n):\n",
        "        if i < n // 2:\n",
        "            stack.append(queue.pop(0))  # Move the first half back to the stack\n",
        "        else:\n",
        "            queue.append(queue.pop(0))  # Shift elements in the queue to get the reversed second half\n",
        "\n",
        "    # Step 3: Interleave elements from the queue into the stack\n",
        "    while queue:\n",
        "        stack.append(queue.pop(0))  # Move elements back to the stack\n",
        "\n",
        "    # The stack now has the first half at the bottom and the second half at the top in reverse order\n",
        "\n",
        "    # Final step: Correctly interleave the stack by reversing the order again using the queue\n",
        "    while stack:\n",
        "        queue.append(stack.pop())\n",
        "    for _ in range(n):\n",
        "        if _ % 2 == 0:  # For even indices, pop from the end of the queue (original bottom half of the stack)\n",
        "            stack.append(queue.pop())\n",
        "        else:  # For odd indices, pop from the start of the queue (original top half of the stack, reversed)\n",
        "            stack.append(queue.pop(0))\n",
        "\n",
        "# Test the function\n",
        "stack = [1, 2, 3, 4, 5]\n",
        "interleaveStack(stack)\n",
        "print(stack)  # Expected: [1, 5, 2, 4, 3]\n",
        "\n",
        "stack = [1, 2, 3, 4]\n",
        "interleaveStack(stack)\n",
        "print(stack)  # Expected: [1, 4, 2, 3]\n"
      ],
      "metadata": {
        "colab": {
          "base_uri": "https://localhost:8080/"
        },
        "id": "LI015vxH3yio",
        "outputId": "5cb40d36-9f13-450b-c8d8-a2a6bfc3ebd9"
      },
      "execution_count": 6,
      "outputs": [
        {
          "output_type": "stream",
          "name": "stdout",
          "text": [
            "[5, 1, 4, 2, 3]\n",
            "[4, 1, 3, 2]\n"
          ]
        }
      ]
    }
  ]
}