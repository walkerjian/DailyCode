{
  "nbformat": 4,
  "nbformat_minor": 0,
  "metadata": {
    "colab": {
      "provenance": [],
      "authorship_tag": "ABX9TyO3rYaplr/VJ0h6B7EuEwfq",
      "include_colab_link": true
    },
    "kernelspec": {
      "name": "python3",
      "display_name": "Python 3"
    },
    "language_info": {
      "name": "python"
    }
  },
  "cells": [
    {
      "cell_type": "markdown",
      "metadata": {
        "id": "view-in-github",
        "colab_type": "text"
      },
      "source": [
        "<a href=\"https://colab.research.google.com/github/walkerjian/DailyCode/blob/main/Code_Craft_is_number.ipynb\" target=\"_parent\"><img src=\"https://colab.research.google.com/assets/colab-badge.svg\" alt=\"Open In Colab\"/></a>"
      ]
    },
    {
      "cell_type": "markdown",
      "source": [
        "##Problem:\n",
        "Given a string, return whether it represents a number. Here are the different kinds of numbers:\n",
        "\n",
        "\"10\", a positive integer\n",
        "\"-10\", a negative integer\n",
        "\"10.1\", a positive real number\n",
        "\"-10.1\", a negative real number\n",
        "\"1e5\", a number in scientific notation\n",
        "And here are examples of non-numbers:\n",
        "\n",
        "\"a\"\n",
        "\"x 1\"\n",
        "\"a -2\"\n",
        "\"-\""
      ],
      "metadata": {
        "id": "zOTVKWmhIoPM"
      }
    },
    {
      "cell_type": "markdown",
      "source": [
        "##Solution:\n",
        "To determine whether a given string represents a number, we need to account for various forms of numeric representation, including integers, floating-point numbers, and numbers in scientific notation. We can use regular expressions to achieve this.\n",
        "\n",
        "Here is a Python function that uses regular expressions to validate if a string represents a number:\n",
        "\n",
        "1. **Positive or Negative Integer**: Matches an optional `+` or `-` sign, followed by one or more digits.\n",
        "2. **Positive or Negative Real Number**: Similar to the integer, but also allows for a decimal point followed by one or more digits.\n",
        "3. **Number in Scientific Notation**: Allows for an optional `+` or `-` sign, followed by one or more digits, optionally followed by a decimal point with more digits, and an exponent part (e.g., `e`, `E`) followed by an optional `+` or `-` sign and one or more digits.\n",
        "\n",
        "The function will return `True` if the string matches any of these patterns, and `False` otherwise. Here's the implementation:\n",
        "\n",
        "This function will check each string against the regular expression and print whether each string is a number according to the specified criteria."
      ],
      "metadata": {
        "id": "pzrKVXirIwYi"
      }
    },
    {
      "cell_type": "markdown",
      "source": [
        "##Implementation:"
      ],
      "metadata": {
        "id": "q-KDNtbsI-qE"
      }
    },
    {
      "cell_type": "code",
      "execution_count": 1,
      "metadata": {
        "colab": {
          "base_uri": "https://localhost:8080/"
        },
        "id": "ml52nAsBInZM",
        "outputId": "0db0c4f8-38f4-4cae-f1b2-f68bcf2cdfe6"
      },
      "outputs": [
        {
          "output_type": "stream",
          "name": "stdout",
          "text": [
            "'10': True\n",
            "'-10': True\n",
            "'10.1': True\n",
            "'-10.1': True\n",
            "'1e5': True\n",
            "'a': False\n",
            "'x 1': False\n",
            "'a -2': False\n",
            "'-': False\n"
          ]
        }
      ],
      "source": [
        "import re\n",
        "\n",
        "def is_number(s):\n",
        "    # Regular expression for number\n",
        "    number_regex = r'^[+-]?(\\d+(\\.\\d*)?|\\.\\d+)([eE][+-]?\\d+)?$'\n",
        "\n",
        "    return re.match(number_regex, s) is not None\n",
        "\n",
        "# Test cases\n",
        "test_strings = [\"10\", \"-10\", \"10.1\", \"-10.1\", \"1e5\", \"a\", \"x 1\", \"a -2\", \"-\"]\n",
        "for s in test_strings:\n",
        "    print(f\"'{s}': {is_number(s)}\")\n"
      ]
    }
  ]
}