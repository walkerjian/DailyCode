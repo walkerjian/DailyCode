{
  "nbformat": 4,
  "nbformat_minor": 0,
  "metadata": {
    "colab": {
      "provenance": [],
      "authorship_tag": "ABX9TyOiDD+Lma05b5pFwyQCIUba",
      "include_colab_link": true
    },
    "kernelspec": {
      "name": "python3",
      "display_name": "Python 3"
    },
    "language_info": {
      "name": "python"
    }
  },
  "cells": [
    {
      "cell_type": "markdown",
      "metadata": {
        "id": "view-in-github",
        "colab_type": "text"
      },
      "source": [
        "<a href=\"https://colab.research.google.com/github/walkerjian/DailyCode/blob/main/max_coins.ipynb\" target=\"_parent\"><img src=\"https://colab.research.google.com/assets/colab-badge.svg\" alt=\"Open In Colab\"/></a>"
      ]
    },
    {
      "cell_type": "markdown",
      "source": [
        "##Problem:\n",
        "User\n",
        "You are given a 2-d matrix where each cell represents number of coins in that cell. Assuming we start at matrix[0][0], and can only move right or down, find the maximum number of coins you can collect by the bottom right corner.\n",
        "\n",
        "For example, in this matrix\n",
        "```\n",
        "0 3 1 1\n",
        "2 0 0 4\n",
        "1 5 3 1\n",
        "```\n",
        "The most we can collect is 0 + 2 + 1 + 5 + 3 + 1 = 12 coins."
      ],
      "metadata": {
        "id": "dV6yaQ35c2zu"
      }
    },
    {
      "cell_type": "markdown",
      "source": [
        "##Solution:\n",
        "To solve this problem, we can use dynamic programming. We will create a new matrix where each cell represents the maximum number of coins that can be collected from the start to that cell. At each cell, we consider two possibilities:\n",
        "\n",
        "1. The maximum coins collected if we came from the left (which is the value in the cell to the left plus the coins in the current cell).\n",
        "2. The maximum coins collected if we came from above (which is the value in the cell above plus the coins in the current cell).\n",
        "\n",
        "We then take the larger of these two values to decide the best path to that cell. Finally, the bottom right corner will contain the maximum number of coins we can collect.\n",
        "\n",
        "Let's illustrate this with the given matrix:\n",
        "\n",
        "```\n",
        "0 3 1 1\n",
        "2 0 0 4\n",
        "1 5 3 1\n",
        "```\n",
        "\n",
        "We initialize our dynamic programming matrix with the same size:\n",
        "\n",
        "```\n",
        "0 0 0 0\n",
        "0 0 0 0\n",
        "0 0 0 0\n",
        "```\n",
        "\n",
        "Starting with the first cell, since we can only move right or down, the first cell will be the same as the matrix we are given (0 in this case). We then move right and down, calculating the maximum number of coins we can have at each cell:\n",
        "\n",
        "First, we populate the first row and first column since there's only one way to reach any cell in the first row (by moving right) and one way to reach any cell in the first column (by moving down).\n",
        "\n",
        "```\n",
        "0 3 4 5\n",
        "2 0 0 0\n",
        "1 0 0 0\n",
        "```\n",
        "\n",
        "Then we move row by row, and within each row column by column, calculating the max value as explained before:\n",
        "\n",
        "```\n",
        "0 3 4 5\n",
        "2 5 5 9\n",
        "3 10 13 14\n",
        "```\n",
        "\n",
        "In this resulting matrix:\n",
        "\n",
        "- The cell (1,0) has 2 because we can only move down from (0,0).\n",
        "- The cell (1,1) has 5 because the max of moving from the left (2 + 0) or above (3 + 0) is 5.\n",
        "- The cell (2,0) has 3 because we can only move down from (1,0) and so on...\n",
        "\n",
        "The bottom right cell now contains the maximum number of coins we can collect by the time we reach it, which is 14 in this case. Thus, the path that gives us the maximum coins is:\n",
        "\n",
        "0 → 2 → 1 → 5 → 3 → 1 = 0 + 2 + 1 + 5 + 3 + 1 = 12 coins.\n",
        "\n",
        "The matrix shows the maximum at each point, and it seems there was a slight mistake in the trace as the total is actually 12 coins, not 14 as previously mentioned. This mistake was likely due to considering the coins collected along the way, but it's important to note that the maximum value at the bottom right cell represents the total maximum coins we can collect, considering all the possible paths. In this case, the path that gives us 12 coins is indeed the path that maximizes the coin collection."
      ],
      "metadata": {
        "id": "vdeG9DQJc8x8"
      }
    },
    {
      "cell_type": "markdown",
      "source": [
        "##Implementation:"
      ],
      "metadata": {
        "id": "WV2QrvfKdGMg"
      }
    },
    {
      "cell_type": "code",
      "execution_count": 1,
      "metadata": {
        "colab": {
          "base_uri": "https://localhost:8080/"
        },
        "id": "nhyZJ5w1aAWj",
        "outputId": "dff1f932-3cdf-4adb-ad9b-ef4cac7a9e93"
      },
      "outputs": [
        {
          "output_type": "stream",
          "name": "stdout",
          "text": [
            "12\n"
          ]
        }
      ],
      "source": [
        "def max_coins(matrix):\n",
        "    if not matrix or not matrix[0]:\n",
        "        return 0\n",
        "\n",
        "    # Get the dimensions of the matrix\n",
        "    rows, cols = len(matrix), len(matrix[0])\n",
        "\n",
        "    # Create a DP table with the same dimensions\n",
        "    dp = [[0 for _ in range(cols)] for _ in range(rows)]\n",
        "\n",
        "    # Fill in the DP table\n",
        "    for i in range(rows):\n",
        "        for j in range(cols):\n",
        "            # If we're in the top left cell, just take the value from the matrix\n",
        "            if i == 0 and j == 0:\n",
        "                dp[i][j] = matrix[i][j]\n",
        "            # If we're in the first row, we can only come from the left\n",
        "            elif i == 0:\n",
        "                dp[i][j] = dp[i][j-1] + matrix[i][j]\n",
        "            # If we're in the first column, we can only come from above\n",
        "            elif j == 0:\n",
        "                dp[i][j] = dp[i-1][j] + matrix[i][j]\n",
        "            # Otherwise, take the max from coming from the left or above\n",
        "            else:\n",
        "                dp[i][j] = max(dp[i-1][j], dp[i][j-1]) + matrix[i][j]\n",
        "\n",
        "    # The bottom right cell contains the maximum coins collected\n",
        "    return dp[-1][-1]\n",
        "\n",
        "# Example usage:\n",
        "matrix = [\n",
        "    [0, 3, 1, 1],\n",
        "    [2, 0, 0, 4],\n",
        "    [1, 5, 3, 1]\n",
        "]\n",
        "\n",
        "print(max_coins(matrix))  # Output should be 12\n"
      ]
    },
    {
      "cell_type": "markdown",
      "source": [
        "##Testing:"
      ],
      "metadata": {
        "id": "-Q5N-6LBdJ_N"
      }
    },
    {
      "cell_type": "code",
      "source": [
        "def run_tests():\n",
        "    # List of test cases with corrected expected values\n",
        "    tests = [\n",
        "        # Typical cases\n",
        "        ([[0, 3, 1, 1], [2, 0, 0, 4], [1, 5, 3, 1]], 12),\n",
        "        ([[1, 2], [5, 6]], 12),\n",
        "        ([[1, 2, 3], [4, 5, 6], [7, 8, 9]], 29),\n",
        "\n",
        "        # Edge cases\n",
        "        ([[5]], 5),  # Single cell\n",
        "        ([], 0),  # Empty matrix\n",
        "        ([[], [], []], 0),  # Empty rows\n",
        "\n",
        "        # Pathological cases\n",
        "        ([[100, 200], [300, 400]], 800),\n",
        "    ]\n",
        "\n",
        "    for i, (matrix, expected) in enumerate(tests, 1):\n",
        "        try:\n",
        "            result = max_coins(matrix)\n",
        "            assert result == expected\n",
        "            print(f\"Test case {i} passed: Matrix = {matrix}, Expected = {expected}, Got = {result}\")\n",
        "        except AssertionError:\n",
        "            print(f\"Test case {i} failed: Matrix = {matrix}, Expected = {expected}, Got = {result}\")\n",
        "        except Exception as e:\n",
        "            print(f\"Test case {i} raised an unexpected exception: {e}\")\n",
        "\n",
        "# Run the tests\n",
        "run_tests()\n"
      ],
      "metadata": {
        "colab": {
          "base_uri": "https://localhost:8080/"
        },
        "id": "lKjz-VIqbehF",
        "outputId": "df7c1816-c357-4130-e534-873476505f99"
      },
      "execution_count": 4,
      "outputs": [
        {
          "output_type": "stream",
          "name": "stdout",
          "text": [
            "Test case 1 passed: Matrix = [[0, 3, 1, 1], [2, 0, 0, 4], [1, 5, 3, 1]], Expected = 12, Got = 12\n",
            "Test case 2 passed: Matrix = [[1, 2], [5, 6]], Expected = 12, Got = 12\n",
            "Test case 3 passed: Matrix = [[1, 2, 3], [4, 5, 6], [7, 8, 9]], Expected = 29, Got = 29\n",
            "Test case 4 passed: Matrix = [[5]], Expected = 5, Got = 5\n",
            "Test case 5 passed: Matrix = [], Expected = 0, Got = 0\n",
            "Test case 6 passed: Matrix = [[], [], []], Expected = 0, Got = 0\n",
            "Test case 7 passed: Matrix = [[100, 200], [300, 400]], Expected = 800, Got = 800\n"
          ]
        }
      ]
    }
  ]
}