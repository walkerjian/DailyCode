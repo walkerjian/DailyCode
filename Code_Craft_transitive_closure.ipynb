{
  "nbformat": 4,
  "nbformat_minor": 0,
  "metadata": {
    "colab": {
      "provenance": [],
      "authorship_tag": "ABX9TyPsN/dy+ryjkdWHw8B5YC0V",
      "include_colab_link": true
    },
    "kernelspec": {
      "name": "python3",
      "display_name": "Python 3"
    },
    "language_info": {
      "name": "python"
    }
  },
  "cells": [
    {
      "cell_type": "markdown",
      "metadata": {
        "id": "view-in-github",
        "colab_type": "text"
      },
      "source": [
        "<a href=\"https://colab.research.google.com/github/walkerjian/DailyCode/blob/main/Code_Craft_transitive_closure.ipynb\" target=\"_parent\"><img src=\"https://colab.research.google.com/assets/colab-badge.svg\" alt=\"Open In Colab\"/></a>"
      ]
    },
    {
      "cell_type": "markdown",
      "source": [
        "The transitive closure of a graph is a measure of which vertices are reachable from other vertices. It can be represented as a matrix M, where M[i][j] == 1 if there is a path between vertices i and j, and otherwise 0.\n",
        "\n",
        "For example, suppose we are given the following graph in adjacency list form:\n",
        "````\n",
        "graph = [\n",
        "    [0, 1, 3],\n",
        "    [1, 2],\n",
        "    [2],\n",
        "    [3]\n",
        "]\n",
        "````\n",
        "The transitive closure of this graph would be:\n",
        "````\n",
        "[1, 1, 1, 1]\n",
        "[0, 1, 1, 0]\n",
        "[0, 0, 1, 0]\n",
        "[0, 0, 0, 1]\n",
        "````\n",
        "Given a graph, find its transitive closure."
      ],
      "metadata": {
        "id": "gOgET7mhwq38"
      }
    },
    {
      "cell_type": "markdown",
      "source": [
        "To find the transitive closure of a graph, we can use a variation of the Floyd-Warshall algorithm or the depth-first search (DFS) approach. Given that you've described the graph in an adjacency list format, I'll provide a solution using DFS, which is more intuitive for adjacency lists.\n",
        "\n",
        "The process involves:\n",
        "1. Initializing the transitive closure matrix `M` where `M[i][j]` will be set to `1` if there's a path from vertex `i` to vertex `j`.\n",
        "2. For each vertex `i`, perform a DFS starting from `i` and mark all reachable vertices `j` in the matrix `M`.\n",
        "\n",
        "Here's a Python function to compute the transitive closure for a graph represented as an adjacency list:\n",
        "\n",
        "**Explanation:**\n",
        "- The `dfs` function marks all nodes reachable from a given start node, updating the `closure` matrix for each node reached.\n",
        "- The `transitive_closure` function initializes a matrix and iterates over each vertex to explore all reachable nodes using DFS, starting from each vertex.\n",
        "- This function will then output the transitive closure matrix where each row `i` contains ones at positions `j` if there is a path from vertex `i` to vertex `j`.\n",
        "\n",
        "This approach ensures that all paths are explored and the reachability of every vertex from every other vertex is correctly noted."
      ],
      "metadata": {
        "id": "uW-fUCHvw2nt"
      }
    },
    {
      "cell_type": "code",
      "execution_count": 1,
      "metadata": {
        "colab": {
          "base_uri": "https://localhost:8080/"
        },
        "id": "DM0oygLgz2Py",
        "outputId": "46cd2ed6-9a15-4051-f1be-08e20767b6d4"
      },
      "outputs": [
        {
          "output_type": "stream",
          "name": "stdout",
          "text": [
            "[1, 1, 1, 1]\n",
            "[0, 1, 1, 0]\n",
            "[0, 0, 1, 0]\n",
            "[0, 0, 0, 1]\n"
          ]
        }
      ],
      "source": [
        "def dfs(graph, start, visited, closure, node):\n",
        "    visited[node] = True\n",
        "    closure[start][node] = 1\n",
        "    for neighbor in graph[node]:\n",
        "        if not visited[neighbor]:\n",
        "            dfs(graph, start, visited, closure, neighbor)\n",
        "\n",
        "def transitive_closure(graph):\n",
        "    n = len(graph)\n",
        "    closure = [[0]*n for _ in range(n)]\n",
        "\n",
        "    for i in range(n):\n",
        "        visited = [False]*n\n",
        "        dfs(graph, i, visited, closure, i)\n",
        "\n",
        "    return closure\n",
        "\n",
        "# Example usage\n",
        "graph = [\n",
        "    [1, 3],  # vertex 0 is connected to vertex 1 and 3\n",
        "    [2],     # vertex 1 is connected to vertex 2\n",
        "    [],      # vertex 2 has no outgoing edges\n",
        "    []       # vertex 3 has no outgoing edges\n",
        "]\n",
        "\n",
        "closure = transitive_closure(graph)\n",
        "for row in closure:\n",
        "    print(row)"
      ]
    }
  ]
}