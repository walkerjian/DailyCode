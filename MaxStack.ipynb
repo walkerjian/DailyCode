{
  "nbformat": 4,
  "nbformat_minor": 0,
  "metadata": {
    "colab": {
      "provenance": [],
      "authorship_tag": "ABX9TyO4sMvM8uGFXKQtKRkZ7bzZ",
      "include_colab_link": true
    },
    "kernelspec": {
      "name": "python3",
      "display_name": "Python 3"
    },
    "language_info": {
      "name": "python"
    }
  },
  "cells": [
    {
      "cell_type": "markdown",
      "metadata": {
        "id": "view-in-github",
        "colab_type": "text"
      },
      "source": [
        "<a href=\"https://colab.research.google.com/github/walkerjian/DailyCode/blob/main/MaxStack.ipynb\" target=\"_parent\"><img src=\"https://colab.research.google.com/assets/colab-badge.svg\" alt=\"Open In Colab\"/></a>"
      ]
    },
    {
      "cell_type": "markdown",
      "source": [
        "##Problem:\n",
        "\n",
        "Implement a stack that has the following methods:\n",
        "\n",
        "push(val), which pushes an element onto the stack\n",
        "pop(), which pops off and returns the topmost element of the stack. If there are no elements in the stack, then it should throw an error or return null.\n",
        "max(), which returns the maximum value in the stack currently. If there are no elements in the stack, then it should throw an error or return null.\n",
        "Each method should run in constant time."
      ],
      "metadata": {
        "id": "ayLZ1bA8fm39"
      }
    },
    {
      "cell_type": "markdown",
      "source": [
        "##Solution:\n",
        "To implement a stack that supports the `push`, `pop`, and `max` operations in constant time, we'll need to maintain two stacks:\n",
        "\n",
        "1. The main stack: This stack will hold all the elements that are pushed onto it.\n",
        "2. A max stack: This stack will hold the maximum values seen so far. When we push a new value onto the main stack, we'll compare it to the current maximum (which is the top of the max stack). If the new value is greater than the current maximum, we push the new value onto the max stack. Otherwise, we push the current maximum again.\n",
        "\n",
        "Here's how the operations work:\n",
        "\n",
        "1. `push(val)`:\n",
        "    - Push `val` onto the main stack.\n",
        "    - Compare `val` to the top of the max stack. Push the greater value onto the max stack.\n",
        "2. `pop()`:\n",
        "    - Pop a value from the main stack.\n",
        "    - Pop a value from the max stack (this keeps the max stack in sync with the main stack).\n",
        "    - Return the value popped from the main stack.\n",
        "3. `max()`:\n",
        "    - Return the top value from the max stack."
      ],
      "metadata": {
        "id": "kO2wKE-3f0Wl"
      }
    },
    {
      "cell_type": "markdown",
      "source": [
        "##Implementation:"
      ],
      "metadata": {
        "id": "Z2XYVnpGgF0J"
      }
    },
    {
      "cell_type": "code",
      "execution_count": 1,
      "metadata": {
        "colab": {
          "base_uri": "https://localhost:8080/"
        },
        "id": "GvYq8KVxfjd0",
        "outputId": "eb7694d7-3af6-4d8a-ca9d-3f2f0a4841b6"
      },
      "outputs": [
        {
          "output_type": "execute_result",
          "data": {
            "text/plain": [
              "(3, 2, 3)"
            ]
          },
          "metadata": {},
          "execution_count": 1
        }
      ],
      "source": [
        "class MaxStack:\n",
        "    def __init__(self):\n",
        "        self.stack = []\n",
        "        self.max_stack = []\n",
        "\n",
        "    def push(self, val):\n",
        "        self.stack.append(val)\n",
        "\n",
        "        # If the max_stack is empty or the current value is greater than the current max\n",
        "        if not self.max_stack or val > self.max_stack[-1]:\n",
        "            self.max_stack.append(val)\n",
        "        else:\n",
        "            self.max_stack.append(self.max_stack[-1])\n",
        "\n",
        "    def pop(self):\n",
        "        if not self.stack:\n",
        "            return None\n",
        "        self.max_stack.pop()\n",
        "        return self.stack.pop()\n",
        "\n",
        "    def max(self):\n",
        "        if not self.max_stack:\n",
        "            return None\n",
        "        return self.max_stack[-1]\n",
        "\n",
        "# Test the MaxStack\n",
        "stack = MaxStack()\n",
        "stack.push(1)\n",
        "stack.push(3)\n",
        "stack.push(2)\n",
        "\n",
        "output1 = stack.max()  # Expected: 3\n",
        "output2 = stack.pop()  # Expected: 2\n",
        "output3 = stack.max()  # Expected: 3\n",
        "\n",
        "output1, output2, output3\n"
      ]
    },
    {
      "cell_type": "markdown",
      "source": [
        "##Testing:\n"
      ],
      "metadata": {
        "id": "OzKKSAmrflzt"
      }
    },
    {
      "cell_type": "code",
      "source": [
        "# Testing the MaxStack thoroughly\n",
        "\n",
        "# Creating a new instance of the MaxStack\n",
        "stack = MaxStack()\n",
        "\n",
        "# Testing with an empty stack\n",
        "output1 = stack.max()  # Expected: None\n",
        "output2 = stack.pop()  # Expected: None\n",
        "\n",
        "# Pushing a few values and testing max after each push\n",
        "stack.push(5)\n",
        "output3 = stack.max()  # Expected: 5\n",
        "\n",
        "stack.push(7)\n",
        "output4 = stack.max()  # Expected: 7\n",
        "\n",
        "stack.push(6)\n",
        "output5 = stack.max()  # Expected: 7\n",
        "\n",
        "stack.push(8)\n",
        "output6 = stack.max()  # Expected: 8\n",
        "\n",
        "# Popping values and testing max after each pop\n",
        "output7 = stack.pop()  # Expected: 8\n",
        "output8 = stack.max()  # Expected: 7\n",
        "\n",
        "output9 = stack.pop()  # Expected: 6\n",
        "output10 = stack.max()  # Expected: 7\n",
        "\n",
        "output11 = stack.pop()  # Expected: 7\n",
        "output12 = stack.max()  # Expected: 5\n",
        "\n",
        "output13 = stack.pop()  # Expected: 5\n",
        "output14 = stack.max()  # Expected: None\n",
        "\n",
        "# Pop again on an empty stack\n",
        "output15 = stack.pop()  # Expected: None\n",
        "\n",
        "output1, output2, output3, output4, output5, output6, output7, output8, output9, output10, output11, output12, output13, output14, output15\n"
      ],
      "metadata": {
        "colab": {
          "base_uri": "https://localhost:8080/"
        },
        "id": "sfBabybCgOMA",
        "outputId": "de6dcd2f-48e3-4af6-9f59-dde4c3f70b8a"
      },
      "execution_count": 2,
      "outputs": [
        {
          "output_type": "execute_result",
          "data": {
            "text/plain": [
              "(None, None, 5, 7, 7, 8, 8, 7, 6, 7, 7, 5, 5, None, None)"
            ]
          },
          "metadata": {},
          "execution_count": 2
        }
      ]
    },
    {
      "cell_type": "markdown",
      "source": [
        "\n",
        "The `MaxStack` implementation works as expected:\n",
        "\n",
        "1. When the stack is initially empty:\n",
        "   - `max()` returns `None`\n",
        "   - `pop()` returns `None`\n",
        "2. After pushing values onto the stack:\n",
        "   - Pushing 5: `max()` returns 5\n",
        "   - Pushing 7: `max()` returns 7\n",
        "   - Pushing 6: `max()` returns 7\n",
        "   - Pushing 8: `max()` returns 8\n",
        "3. After popping values from the stack:\n",
        "   - Popping returns 8 and `max()` becomes 7\n",
        "   - Popping returns 6 and `max()` remains 7\n",
        "   - Popping returns 7 and `max()` becomes 5\n",
        "   - Popping returns 5 and `max()` becomes `None`\n",
        "4. Popping again on an empty stack returns `None`.\n",
        "\n",
        "The `MaxStack` implementation appears to be working correctly based on these tests."
      ],
      "metadata": {
        "id": "sCIiFEXngMtx"
      }
    }
  ]
}