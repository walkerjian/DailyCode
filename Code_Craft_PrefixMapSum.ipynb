{
  "nbformat": 4,
  "nbformat_minor": 0,
  "metadata": {
    "colab": {
      "provenance": [],
      "authorship_tag": "ABX9TyMMFygC+C4BXDdig32wT4/n",
      "include_colab_link": true
    },
    "kernelspec": {
      "name": "python3",
      "display_name": "Python 3"
    },
    "language_info": {
      "name": "python"
    }
  },
  "cells": [
    {
      "cell_type": "markdown",
      "metadata": {
        "id": "view-in-github",
        "colab_type": "text"
      },
      "source": [
        "<a href=\"https://colab.research.google.com/github/walkerjian/DailyCode/blob/main/Code_Craft_PrefixMapSum.ipynb\" target=\"_parent\"><img src=\"https://colab.research.google.com/assets/colab-badge.svg\" alt=\"Open In Colab\"/></a>"
      ]
    },
    {
      "cell_type": "markdown",
      "source": [
        "Implement a PrefixMapSum class with the following methods:\n",
        "\n",
        "insert(key: str, value: int): Set a given key's value in the map. If the key already exists, overwrite the value.\n",
        "sum(prefix: str): Return the sum of all values of keys that begin with a given prefix.\n",
        "For example, you should be able to run the following code:\n",
        "\n",
        "mapsum.insert(\"columnar\", 3)\n",
        "assert mapsum.sum(\"col\") == 3\n",
        "\n",
        "mapsum.insert(\"column\", 2)\n",
        "assert mapsum.sum(\"col\") == 5"
      ],
      "metadata": {
        "id": "x7T87O9vy1vv"
      }
    },
    {
      "cell_type": "markdown",
      "source": [
        "To implement the `PrefixMapSum` class, we can use a dictionary to store key-value pairs directly. However, to efficiently calculate the sum of values for keys that start with a given prefix, we should design a structure that supports quick lookups. A Trie (prefix tree) is well-suited for this, as it allows us to traverse the tree up to the end of the prefix and then aggregate the values of all child nodes efficiently.\n",
        "\n",
        "We'll add an enhancement: instead of just storing the words and their associated values, each node in the Trie will also maintain the sum of all values of its subtree. This will enable the `sum` method to execute in time proportional to the length of the prefix, rather than the number of keys stored.\n",
        "\n",
        "Here's the Python code for the `PrefixMapSum` class using this approach. This implementation ensures that:\n",
        "1. Each node has a dictionary that potentially stores child nodes and a special key `_sum` which keeps track of the sum of all values under that prefix.\n",
        "2. When inserting, if the key already exists, the difference caused by the new value replaces the old value.\n",
        "3. The `sum` function quickly retrieves the sum by accessing the `_sum` stored at the node corresponding to the last character of the prefix.\n",
        "\n",
        "This efficient and structured approach makes both the insertion and sum operations fast, with their complexity primarily depending on the length of the key or prefix, rather than the number of keys stored."
      ],
      "metadata": {
        "id": "3FLEICtty697"
      }
    },
    {
      "cell_type": "code",
      "execution_count": 2,
      "metadata": {
        "id": "X5R-n5QgyYdY"
      },
      "outputs": [],
      "source": [
        "class PrefixMapSum:\n",
        "    def __init__(self):\n",
        "        # Trie node structure\n",
        "        self.trie = {}\n",
        "\n",
        "    def insert(self, key, value):\n",
        "        node = self.trie\n",
        "        for char in key:\n",
        "            if char not in node:\n",
        "                node[char] = {}\n",
        "            node = node[char]\n",
        "            # Each node stores a sum of all values below it in addition to its own value\n",
        "            if '_sum' not in node:\n",
        "                node['_sum'] = 0\n",
        "            node['_sum'] += value  # Increment node sum by new value\n",
        "\n",
        "        # Handle overwriting the previous value of the key if it already exists\n",
        "        if '_end' in node:\n",
        "            old_value = node['_end']\n",
        "            node = self.trie\n",
        "            for char in key:\n",
        "                node = node[char]\n",
        "                node['_sum'] -= old_value  # Deduct old value from the sum stored at each node\n",
        "            node['_end'] = value\n",
        "            node = self.trie\n",
        "            for char in key:\n",
        "                node = node[char]\n",
        "                node['_sum'] += value  # Re-add new value to the sum stored at each node\n",
        "        else:\n",
        "            node['_end'] = value  # Set end marker with value at the last node\n",
        "\n",
        "    def sum(self, prefix):\n",
        "        node = self.trie\n",
        "        for char in prefix:\n",
        "            if char not in node:\n",
        "                return 0  # If prefix does not exist, return sum as 0\n",
        "            node = node[char]\n",
        "        return node.get('_sum', 0)  # Return the cumulative sum at the prefix node\n",
        "\n",
        "# Example usage:\n",
        "mapsum = PrefixMapSum()\n",
        "mapsum.insert(\"columnar\", 3)\n",
        "assert mapsum.sum(\"col\") == 3\n",
        "\n",
        "mapsum.insert(\"column\", 2)\n",
        "assert mapsum.sum(\"col\") == 5"
      ]
    }
  ]
}