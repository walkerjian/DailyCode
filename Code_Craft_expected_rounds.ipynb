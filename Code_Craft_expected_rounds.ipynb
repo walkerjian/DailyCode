{
  "nbformat": 4,
  "nbformat_minor": 0,
  "metadata": {
    "colab": {
      "provenance": [],
      "authorship_tag": "ABX9TyPlm8EvmUG5YOPR/Z7QBiBR",
      "include_colab_link": true
    },
    "kernelspec": {
      "name": "python3",
      "display_name": "Python 3"
    },
    "language_info": {
      "name": "python"
    }
  },
  "cells": [
    {
      "cell_type": "markdown",
      "metadata": {
        "id": "view-in-github",
        "colab_type": "text"
      },
      "source": [
        "<a href=\"https://colab.research.google.com/github/walkerjian/DailyCode/blob/main/Code_Craft_expected_rounds.ipynb\" target=\"_parent\"><img src=\"https://colab.research.google.com/assets/colab-badge.svg\" alt=\"Open In Colab\"/></a>"
      ]
    },
    {
      "cell_type": "markdown",
      "source": [
        "##Problem:\n",
        "You have n fair coins and you flip them all at the same time. Any that come up tails you set aside. The ones that come up heads you flip again. How many rounds do you expect to play before only one coin remains?\n",
        "\n",
        "Write a function that, given n, returns the number of rounds you'd expect to play until one coin remains."
      ],
      "metadata": {
        "id": "IUl6Q-qm9Ltw"
      }
    },
    {
      "cell_type": "markdown",
      "source": [
        "##Solution:\n",
        "To solve this problem, we can think about it probabilistically. Each round, every coin has a 50% chance of landing on tails and being set aside. The process repeats until only one coin is left. We want to calculate the expected number of rounds for this to happen.\n",
        "\n",
        "Let's denote $ E(n) $ as the expected number of rounds for $ n $ coins. On the first flip, each coin has a 50% chance of being set aside, so on average, half of the coins will remain. Therefore, after the first round, we expect to have $ \\frac{n}{2} $ coins left. We can express this as a recursive relationship:\n",
        "\n",
        "$$E(n) = 1 + E\\left(\\frac{n}{2}\\right)$$\n",
        "\n",
        "This equation says that the expected number of rounds for $ n $ coins is 1 (for the first round) plus the expected number of rounds for the remaining $ \\frac{n}{2} $ coins.\n",
        "\n",
        "However, the recursion stops when we have only one coin left. At that point, $ E(1) = 0 $, since no more rounds are needed.\n",
        "\n",
        "I'll implement a Python function to calculate the expected number of rounds for a given number of coins $ n $ using this approach. The function will use memoization to avoid redundant calculations for the same number of coins."
      ],
      "metadata": {
        "id": "WwVnTSNq-DoQ"
      }
    },
    {
      "cell_type": "code",
      "execution_count": 1,
      "metadata": {
        "colab": {
          "base_uri": "https://localhost:8080/"
        },
        "id": "h0bsUkuc81fg",
        "outputId": "133883f4-9c39-4226-f071-9dea5794f6e8"
      },
      "outputs": [
        {
          "output_type": "execute_result",
          "data": {
            "text/plain": [
              "6"
            ]
          },
          "metadata": {},
          "execution_count": 1
        }
      ],
      "source": [
        "def expected_rounds(n, memo={}):\n",
        "    # Base case: no rounds are needed for one coin\n",
        "    if n == 1:\n",
        "        return 0\n",
        "\n",
        "    # Check if the result is already computed\n",
        "    if n in memo:\n",
        "        return memo[n]\n",
        "\n",
        "    # Recursively calculate the expected rounds for half the coins\n",
        "    memo[n] = 1 + expected_rounds(n // 2, memo)\n",
        "    return memo[n]\n",
        "\n",
        "# Example usage\n",
        "expected_rounds(100)\n"
      ]
    },
    {
      "cell_type": "markdown",
      "source": [
        "\n",
        "The expected number of rounds you would play before only one coin remains, when starting with 100 coins, is 6 rounds."
      ],
      "metadata": {
        "id": "gADcjoZP-nWI"
      }
    },
    {
      "cell_type": "markdown",
      "source": [
        "##Simulation:\n"
      ],
      "metadata": {
        "id": "SVmGMKI9_Pa3"
      }
    },
    {
      "cell_type": "code",
      "source": [
        "import random\n",
        "def simulate_coin_flips_corrected(n):\n",
        "    # Initial setup: all coins are heads (H)\n",
        "    coins = [random.choice(['H', 'T']) for _ in range(n)]\n",
        "    rounds = 0\n",
        "\n",
        "    # Continue flipping until only one 'H' remains\n",
        "    while len(coins) > 1:\n",
        "        print(f\"Round {rounds + 1}: {''.join(coins)}\")\n",
        "        # Flip each coin and keep only the ones that come up heads\n",
        "        coins = [c for c in coins if random.random() < 0.5]\n",
        "        rounds += 1\n",
        "\n",
        "    # Print the final state\n",
        "    final_state = 'H' if coins else 'T'\n",
        "    print(f\"Final Round {rounds + 1}: {final_state}\")\n",
        "    return rounds\n",
        "\n",
        "# Simulate the coin flips for 10 coins as an example\n",
        "simulate_coin_flips_corrected(100)\n"
      ],
      "metadata": {
        "colab": {
          "base_uri": "https://localhost:8080/"
        },
        "id": "oMLHVG3p_OdA",
        "outputId": "ea8cbeaf-fa90-4156-8308-bb870d898a2c"
      },
      "execution_count": 10,
      "outputs": [
        {
          "output_type": "stream",
          "name": "stdout",
          "text": [
            "Round 1: TTTTTTHTHHTHHHTHTHHHHHTTHHHTHTTHTHHHTTTHHHTHHTHHHTTTHTTHTTHTHHHHTTTHHHTHTTHTHTTTHHTHTHHHTTHHHTTTTTTH\n",
            "Round 2: TTTTHHTHHHHTHHHTTHTHTTHHTHTTTHHHHHTHHHTTTTHHTHHHHTTT\n",
            "Round 3: TTTHHTTTTTHTHTTHHHTHTHHTT\n",
            "Round 4: THTTHH\n",
            "Round 5: HTH\n",
            "Final Round 6: H\n"
          ]
        },
        {
          "output_type": "execute_result",
          "data": {
            "text/plain": [
              "5"
            ]
          },
          "metadata": {},
          "execution_count": 10
        }
      ]
    }
  ]
}