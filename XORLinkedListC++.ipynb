{
  "nbformat": 4,
  "nbformat_minor": 0,
  "metadata": {
    "colab": {
      "provenance": [],
      "authorship_tag": "ABX9TyOo4rQSc+sMlVp7DsVHDF/q",
      "include_colab_link": true
    },
    "kernelspec": {
      "name": "python3",
      "display_name": "Python 3"
    },
    "language_info": {
      "name": "python"
    }
  },
  "cells": [
    {
      "cell_type": "markdown",
      "metadata": {
        "id": "view-in-github",
        "colab_type": "text"
      },
      "source": [
        "<a href=\"https://colab.research.google.com/github/walkerjian/DailyCode/blob/main/XORLinkedListC%2B%2B.ipynb\" target=\"_parent\"><img src=\"https://colab.research.google.com/assets/colab-badge.svg\" alt=\"Open In Colab\"/></a>"
      ]
    },
    {
      "cell_type": "code",
      "execution_count": 4,
      "metadata": {
        "colab": {
          "base_uri": "https://localhost:8080/"
        },
        "id": "fVd8ZXmEPHgJ",
        "outputId": "b63d649a-e45e-408c-bc75-471a2477990d"
      },
      "outputs": [
        {
          "output_type": "stream",
          "name": "stdout",
          "text": [
            "Overwriting xor_linked_list.cpp\n"
          ]
        }
      ],
      "source": [
        "%%writefile xor_linked_list.cpp\n",
        "#include <iostream>\n",
        "#include <cassert>\n",
        "\n",
        "template <typename T>\n",
        "class Node {\n",
        "public:\n",
        "    T data;\n",
        "    Node<T>* both;\n",
        "\n",
        "    Node(T data) : data(data), both(nullptr) {}\n",
        "};\n",
        "\n",
        "template <typename T>\n",
        "class XORLinkedList {\n",
        "private:\n",
        "    Node<T>* head;\n",
        "    Node<T>* tail;\n",
        "\n",
        "    // Utility function to XOR two node pointers\n",
        "    Node<T>* xorNodes(Node<T>* a, Node<T>* b) {\n",
        "        return reinterpret_cast<Node<T>*>(reinterpret_cast<uintptr_t>(a) ^ reinterpret_cast<uintptr_t>(b));\n",
        "    }\n",
        "\n",
        "public:\n",
        "    XORLinkedList() : head(nullptr), tail(nullptr) {}\n",
        "\n",
        "    // Add element to the end of the list\n",
        "    void add(T data) {\n",
        "        Node<T>* newNode = new Node<T>(data);\n",
        "        if (!head) {\n",
        "            head = tail = newNode;\n",
        "        } else {\n",
        "            newNode->both = tail;\n",
        "            tail->both = xorNodes(tail->both, newNode);\n",
        "            tail = newNode;\n",
        "        }\n",
        "    }\n",
        "\n",
        "    // Get element at a specific index\n",
        "    T get(int index) {\n",
        "        if (index < 0) {\n",
        "            throw std::out_of_range(\"Index out of range\");\n",
        "        }\n",
        "\n",
        "        if (!head) {\n",
        "            throw std::out_of_range(\"List is empty\");\n",
        "        }\n",
        "\n",
        "        Node<T>* prev = nullptr;\n",
        "        Node<T>* curr = head;\n",
        "        for (int i = 0; i < index; ++i) {\n",
        "            Node<T>* next = xorNodes(prev, curr->both);\n",
        "            if (!next) {\n",
        "                throw std::out_of_range(\"Index out of range\");\n",
        "            }\n",
        "            prev = curr;\n",
        "            curr = next;\n",
        "        }\n",
        "        return curr->data;\n",
        "    }\n",
        "\n",
        "};\n",
        "\n",
        "void test_xor_linked_list() {\n",
        "    XORLinkedList<int> list;\n",
        "\n",
        "    // Test 1: Add elements and retrieve them\n",
        "    for (int i = 1; i <= 5; ++i) {\n",
        "        list.add(i * 10);\n",
        "    }\n",
        "\n",
        "    for (int i = 1; i <= 5; ++i) {\n",
        "        assert(list.get(i - 1) == i * 10);\n",
        "    }\n",
        "\n",
        "    // Test out-of-range scenarios\n",
        "    bool caught = false;\n",
        "    try {\n",
        "        list.get(-1);\n",
        "    } catch (std::out_of_range&) {\n",
        "        caught = true;\n",
        "    }\n",
        "    assert(caught);\n",
        "\n",
        "    caught = false;\n",
        "    try {\n",
        "        list.get(100);\n",
        "    } catch (std::out_of_range&) {\n",
        "        caught = true;\n",
        "    }\n",
        "    assert(caught);\n",
        "\n",
        "    std::cout << \"All tests passed!\" << std::endl;\n",
        "}\n",
        "\n",
        "int main() {\n",
        "    test_xor_linked_list();\n",
        "    return 0;\n",
        "}\n"
      ]
    },
    {
      "cell_type": "code",
      "source": [
        "!g++ -o xor_linked_list xor_linked_list.cpp -std=c++11\n"
      ],
      "metadata": {
        "id": "QtcNfJJRPVOX"
      },
      "execution_count": 5,
      "outputs": []
    },
    {
      "cell_type": "code",
      "source": [
        "!./xor_linked_list\n"
      ],
      "metadata": {
        "colab": {
          "base_uri": "https://localhost:8080/"
        },
        "id": "xAEl_v4nPZbF",
        "outputId": "3d896e1b-3aa2-44ed-8cec-41afa6506e79"
      },
      "execution_count": 6,
      "outputs": [
        {
          "output_type": "stream",
          "name": "stdout",
          "text": [
            "All tests passed!\n"
          ]
        }
      ]
    }
  ]
}