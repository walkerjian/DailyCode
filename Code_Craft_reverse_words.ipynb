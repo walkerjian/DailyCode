{
  "nbformat": 4,
  "nbformat_minor": 0,
  "metadata": {
    "colab": {
      "provenance": [],
      "authorship_tag": "ABX9TyNy5NqhSwxF+tf1ub9PDjzm",
      "include_colab_link": true
    },
    "kernelspec": {
      "name": "python3",
      "display_name": "Python 3"
    },
    "language_info": {
      "name": "python"
    }
  },
  "cells": [
    {
      "cell_type": "markdown",
      "metadata": {
        "id": "view-in-github",
        "colab_type": "text"
      },
      "source": [
        "<a href=\"https://colab.research.google.com/github/walkerjian/DailyCode/blob/main/Code_Craft_reverse_words.ipynb\" target=\"_parent\"><img src=\"https://colab.research.google.com/assets/colab-badge.svg\" alt=\"Open In Colab\"/></a>"
      ]
    },
    {
      "cell_type": "markdown",
      "source": [
        "##Problem:\n",
        "Given a string of words delimited by spaces, reverse the words in string. For example, given \"hello world here\", return \"here world hello\"\n",
        "\n",
        "Follow-up: given a mutable string representation, can you perform this operation in-place?"
      ],
      "metadata": {
        "id": "tqq7cYPdLL39"
      }
    },
    {
      "cell_type": "markdown",
      "source": [
        "##Solution:\n",
        "To solve this problem, there are two parts to consider:\n",
        "\n",
        "1. **Reversing the words in a string**: This is straightforward. We'll split the string into words, reverse the list of words, and then join them back into a string.\n",
        "\n",
        "2. **Performing the operation in-place**: This is more complex and depends on the programming language and its treatment of strings. In many languages, strings are immutable (like in Python or Java), meaning you can't modify them in place. However, if we're dealing with a mutable string representation (like a character array in C or C++), it's possible to do this in-place with a two-step process:\n",
        "   - First, reverse the entire string.\n",
        "   - Then, reverse each word in the string.\n",
        "\n"
      ],
      "metadata": {
        "id": "05b_yTkdLPOA"
      }
    },
    {
      "cell_type": "code",
      "execution_count": 1,
      "metadata": {
        "colab": {
          "base_uri": "https://localhost:8080/"
        },
        "id": "_qhzgqVXLJsQ",
        "outputId": "d7a76f8d-5797-48b6-ab96-7a0a6fac2532"
      },
      "outputs": [
        {
          "output_type": "stream",
          "name": "stdout",
          "text": [
            "here world hello\n"
          ]
        }
      ],
      "source": [
        "def reverse_words(s):\n",
        "    words = s.split()  # Split the string into words\n",
        "    words.reverse()    # Reverse the list of words\n",
        "    return ' '.join(words)  # Join the words back into a string\n",
        "\n",
        "# Example usage\n",
        "input_str = \"hello world here\"\n",
        "output_str = reverse_words(input_str)\n",
        "print(output_str)  # Output: \"here world hello\"\n"
      ]
    },
    {
      "cell_type": "code",
      "source": [
        "%%writefile reverse_words.cpp\n",
        "#include <iostream>\n",
        "#include <algorithm>\n",
        "#include <cstring>\n",
        "\n",
        "void reverseWords(char *str) {\n",
        "    // Reverse the entire string\n",
        "    int n = strlen(str);\n",
        "    std::reverse(str, str + n);\n",
        "\n",
        "    // Now reverse each word in the string\n",
        "    int start = 0;\n",
        "    for (int end = 0; end <= n; ++end) {\n",
        "        if (str[end] == ' ' || str[end] == '\\0') {\n",
        "            std::reverse(str + start, str + end);\n",
        "            start = end + 1;\n",
        "        }\n",
        "    }\n",
        "}\n",
        "\n",
        "int main() {\n",
        "    char str[] = \"hello world here\";\n",
        "    reverseWords(str);\n",
        "    std::cout << str << std::endl;  // Output: \"here world hello\"\n",
        "    return 0;\n",
        "}\n"
      ],
      "metadata": {
        "colab": {
          "base_uri": "https://localhost:8080/"
        },
        "id": "USPvG297L-Ul",
        "outputId": "8a730cb9-0892-4e93-8b95-40ce8ec2bed7"
      },
      "execution_count": 3,
      "outputs": [
        {
          "output_type": "stream",
          "name": "stdout",
          "text": [
            "Writing reverse_words.cpp\n"
          ]
        }
      ]
    },
    {
      "cell_type": "code",
      "source": [
        "!g++ reverse_words.cpp -o reverse_words\n"
      ],
      "metadata": {
        "id": "0zmR3TI_MDvd"
      },
      "execution_count": 4,
      "outputs": []
    },
    {
      "cell_type": "code",
      "source": [
        "!./reverse_words\n"
      ],
      "metadata": {
        "colab": {
          "base_uri": "https://localhost:8080/"
        },
        "id": "Hs9Q5HZiMEeJ",
        "outputId": "a80d972d-1b1d-4c0f-a94e-72bd78ebd273"
      },
      "execution_count": 5,
      "outputs": [
        {
          "output_type": "stream",
          "name": "stdout",
          "text": [
            "here world hello\n"
          ]
        }
      ]
    },
    {
      "cell_type": "markdown",
      "source": [
        "In this C++ example, the string is treated as a mutable array of characters (char[]), allowing the reversal to be performed in-place."
      ],
      "metadata": {
        "id": "l0qLUnYdMSvh"
      }
    }
  ]
}