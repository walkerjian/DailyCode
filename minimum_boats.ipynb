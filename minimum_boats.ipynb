{
  "nbformat": 4,
  "nbformat_minor": 0,
  "metadata": {
    "colab": {
      "provenance": [],
      "authorship_tag": "ABX9TyPCZcoKLpL10sZ4OawN637v",
      "include_colab_link": true
    },
    "kernelspec": {
      "name": "python3",
      "display_name": "Python 3"
    },
    "language_info": {
      "name": "python"
    }
  },
  "cells": [
    {
      "cell_type": "markdown",
      "metadata": {
        "id": "view-in-github",
        "colab_type": "text"
      },
      "source": [
        "<a href=\"https://colab.research.google.com/github/walkerjian/DailyCode/blob/main/minimum_boats.ipynb\" target=\"_parent\"><img src=\"https://colab.research.google.com/assets/colab-badge.svg\" alt=\"Open In Colab\"/></a>"
      ]
    },
    {
      "cell_type": "markdown",
      "source": [
        "## minimum_boats"
      ],
      "metadata": {
        "id": "lkXwA5GV9enw"
      }
    },
    {
      "cell_type": "markdown",
      "source": [
        "An imminent hurricane threatens the coastal town of Codeville. If at most two people can fit in a rescue boat, and the maximum weight limit for a given boat is k, determine how many boats will be needed to save everyone.\n",
        "\n",
        "For example, given a population with weights [100, 200, 150, 80] and a boat limit of 200, the smallest number of boats required will be three.\n",
        "\n",
        "requirements:\n",
        "1) use the MVC paradigm.\n",
        "2) extensively document your code with a docstring for the initial problem as specified.\n",
        "3) all code to be uninterrupted and not truncated.\n",
        "4) extensively test the code; write a test function to test the code with at least 10 test examples. Make sure the test harness does not interrupt the output of the test cases, which should include the sample cases given to you. All output needs to include the original example or test case, and complete output of the solution.\n",
        "5) do not make up solutions, make sure your solution is correct & adheres to all requirements above.\n",
        "6) use PEP8 & nice formatting rules for word wrap etc."
      ],
      "metadata": {
        "id": "vAzcCN8nIdO9"
      }
    },
    {
      "cell_type": "markdown",
      "source": [
        "### Revised version of the problem statement that focuses on the main goal:\n",
        "\n",
        "---\n",
        "\n",
        "**Problem:**\n",
        "\n",
        "An imminent hurricane threatens the coastal town of Codeville. If at most two people can fit in a rescue boat, and the maximum weight limit for a given boat is \\( k \\), determine how many boats will be needed to save everyone.\n",
        "\n",
        "For example, given a population with weights \\([100, 200, 150, 80]\\) and a boat limit of 200, the smallest number of boats required will be three.\n",
        "\n",
        "**Primary Requirement:**\n",
        "\n",
        "1. The main goal is to determine the **minimum number of boats** required. The specific distribution of people in each boat is not critical and can vary.\n",
        "\n",
        "**Additional Requirements:**\n",
        "\n",
        "1. Use the MVC paradigm.\n",
        "2. Extensively document your code with a docstring for the initial problem as specified.\n",
        "3. Ensure all code is uninterrupted and not truncated.\n",
        "4. Extensively test the code; write a test function to test the code with at least 10 test examples. Make sure the test harness does not interrupt the output of the test cases, which should include the sample cases given to you. All output needs to include the original example or test case, and the complete output of the solution.\n",
        "5. Do not make up solutions; make sure your solution is correct and adheres to all requirements above.\n",
        "6. Adhere to PEP8 & formatting rules for word wrap, etc.\n",
        "\n",
        "---\n",
        "\n",
        "By emphasizing the primary requirement and clearly stating that the specific distribution is not critical, you set a clear expectation for the desired outcome. This approach should guide the solution to focus on the main goal and prevent over-complication."
      ],
      "metadata": {
        "id": "dvttkbCaIgCH"
      }
    },
    {
      "cell_type": "code",
      "source": [
        "from typing import List, Tuple\n",
        "\n",
        "# Model\n",
        "\n",
        "def minimum_boats(weights: List[int], k: int) -> Tuple[int, List[Tuple[int, ...]]]:\n",
        "    \"\"\"\n",
        "    Given a population with weights and a boat limit, determine the smallest number of boats required\n",
        "    and the distribution of people in each boat.\n",
        "    \"\"\"\n",
        "    weights.sort()\n",
        "    left, right = 0, len(weights) - 1\n",
        "    boat_distribution = []\n",
        "\n",
        "    while left <= right:\n",
        "        if left == right or weights[left] + weights[right] > k:\n",
        "            boat_distribution.append((weights[right],))\n",
        "            right -= 1\n",
        "        else:\n",
        "            boat_distribution.append((weights[left], weights[right]))\n",
        "            left += 1\n",
        "            right -= 1\n",
        "\n",
        "    return len(boat_distribution), boat_distribution\n",
        "\n",
        "# View\n",
        "\n",
        "def display_results(weights: List[int], k: int, result: Tuple[int, List[Tuple[int, ...]]]) -> None:\n",
        "    \"\"\"\n",
        "    Displays the results in a formatted manner.\n",
        "    \"\"\"\n",
        "    boat_count, boat_distribution = result\n",
        "    formatted_distribution = [list(boat) for boat in boat_distribution]\n",
        "    print(f\"For weights {weights} with boat limit {k}, the minimum number of boats required is: {boat_count}.\")\n",
        "    print(f\"Boat distribution: {formatted_distribution}\\n\")\n",
        "\n",
        "# Controller\n",
        "\n",
        "def controller(weights: List[int], k: int) -> None:\n",
        "    \"\"\"\n",
        "    Controls the flow between the Model and the View.\n",
        "    \"\"\"\n",
        "    result = minimum_boats(weights, k)\n",
        "    display_results(weights, k, result)\n",
        "\n",
        "# Test Function\n",
        "\n",
        "def test() -> None:\n",
        "    \"\"\"\n",
        "    Test function to test the solution with multiple examples.\n",
        "    \"\"\"\n",
        "    test_cases = [\n",
        "        ([100, 200, 150, 80], 200, (3, [(80, 100), (150,), (200,)])),\n",
        "        ([70, 80, 90], 150, (2, [(70, 80), (90,)])),\n",
        "        ([50, 50, 50, 50, 50], 100, (3, [(50, 50), (50, 50), (50,)])),\n",
        "        ([60, 70, 80, 90], 150, (2, [(60, 90), (70, 80)])),\n",
        "        ([60, 70, 80, 90], 130, (3, [(60, 70), (80,), (90,)])),\n",
        "        ([100, 100, 100], 200, (2, [(100, 100), (100,)])),\n",
        "        ([50, 100, 150, 80, 30], 200, (3, [(30, 150), (50, 100), (80,)])),\n",
        "        ([], 200, (0, [])),\n",
        "        ([100], 100, (1, [(100,)])),\n",
        "        ([100, 50], 100, (2, [(50,), (100,)])),\n",
        "        ([70, 60, 50, 40], 110, (2, [(40, 70), (50, 60)]))\n",
        "    ]\n",
        "\n",
        "    passed_tests = 0\n",
        "    for i, (weights, k, expected) in enumerate(test_cases):\n",
        "        result = minimum_boats(weights, k)\n",
        "        boat_count, _ = result\n",
        "\n",
        "        if boat_count == expected[0]:\n",
        "            status = \"PASSED\"\n",
        "            passed_tests += 1\n",
        "        else:\n",
        "            status = f\"FAILED (Expected {expected[0]} boats, but got {boat_count} boats)\"\n",
        "\n",
        "        print(f\"Test Case {i+1}: Status: {status}\\n\")\n",
        "        display_results(weights, k, result)\n",
        "\n",
        "    print(f\"\\n{passed_tests} out of {len(test_cases)} tests passed!\")\n",
        "\n",
        "\n",
        "# Run Tests\n",
        "test()\n"
      ],
      "metadata": {
        "colab": {
          "base_uri": "https://localhost:8080/"
        },
        "id": "kO_x6SGpAeLs",
        "outputId": "044312dc-752d-4eaa-ffa5-6f158304e30f"
      },
      "execution_count": 22,
      "outputs": [
        {
          "output_type": "stream",
          "name": "stdout",
          "text": [
            "Test Case 1: Status: PASSED\n",
            "\n",
            "For weights [80, 100, 150, 200] with boat limit 200, the minimum number of boats required is: 3.\n",
            "Boat distribution: [[200], [150], [80, 100]]\n",
            "\n",
            "Test Case 2: Status: PASSED\n",
            "\n",
            "For weights [70, 80, 90] with boat limit 150, the minimum number of boats required is: 2.\n",
            "Boat distribution: [[90], [70, 80]]\n",
            "\n",
            "Test Case 3: Status: PASSED\n",
            "\n",
            "For weights [50, 50, 50, 50, 50] with boat limit 100, the minimum number of boats required is: 3.\n",
            "Boat distribution: [[50, 50], [50, 50], [50]]\n",
            "\n",
            "Test Case 4: Status: PASSED\n",
            "\n",
            "For weights [60, 70, 80, 90] with boat limit 150, the minimum number of boats required is: 2.\n",
            "Boat distribution: [[60, 90], [70, 80]]\n",
            "\n",
            "Test Case 5: Status: PASSED\n",
            "\n",
            "For weights [60, 70, 80, 90] with boat limit 130, the minimum number of boats required is: 3.\n",
            "Boat distribution: [[90], [80], [60, 70]]\n",
            "\n",
            "Test Case 6: Status: PASSED\n",
            "\n",
            "For weights [100, 100, 100] with boat limit 200, the minimum number of boats required is: 2.\n",
            "Boat distribution: [[100, 100], [100]]\n",
            "\n",
            "Test Case 7: Status: PASSED\n",
            "\n",
            "For weights [30, 50, 80, 100, 150] with boat limit 200, the minimum number of boats required is: 3.\n",
            "Boat distribution: [[30, 150], [50, 100], [80]]\n",
            "\n",
            "Test Case 8: Status: PASSED\n",
            "\n",
            "For weights [] with boat limit 200, the minimum number of boats required is: 0.\n",
            "Boat distribution: []\n",
            "\n",
            "Test Case 9: Status: PASSED\n",
            "\n",
            "For weights [100] with boat limit 100, the minimum number of boats required is: 1.\n",
            "Boat distribution: [[100]]\n",
            "\n",
            "Test Case 10: Status: PASSED\n",
            "\n",
            "For weights [50, 100] with boat limit 100, the minimum number of boats required is: 2.\n",
            "Boat distribution: [[100], [50]]\n",
            "\n",
            "Test Case 11: Status: PASSED\n",
            "\n",
            "For weights [40, 50, 60, 70] with boat limit 110, the minimum number of boats required is: 2.\n",
            "Boat distribution: [[40, 70], [50, 60]]\n",
            "\n",
            "\n",
            "11 out of 11 tests passed!\n"
          ]
        }
      ]
    }
  ]
}