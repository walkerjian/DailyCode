{
  "nbformat": 4,
  "nbformat_minor": 0,
  "metadata": {
    "colab": {
      "provenance": [],
      "authorship_tag": "ABX9TyPbqKJI0YzvgJnC648qQt89",
      "include_colab_link": true
    },
    "kernelspec": {
      "name": "python3",
      "display_name": "Python 3"
    },
    "language_info": {
      "name": "python"
    }
  },
  "cells": [
    {
      "cell_type": "markdown",
      "metadata": {
        "id": "view-in-github",
        "colab_type": "text"
      },
      "source": [
        "<a href=\"https://colab.research.google.com/github/walkerjian/DailyCode/blob/main/Code_Craft_calculate_h_index.ipynb\" target=\"_parent\"><img src=\"https://colab.research.google.com/assets/colab-badge.svg\" alt=\"Open In Colab\"/></a>"
      ]
    },
    {
      "cell_type": "markdown",
      "source": [
        "To calculate the h-index of a researcher based on their list of paper citations, we can use a straightforward algorithm. The idea is to sort the list of citations in descending order, and then find the maximum value of `h` such that at least `h` papers have at least `h` citations each. Here's how you can implement this algorithm in Python:\n",
        "\n",
        "1. Sort the citations list in descending order.\n",
        "2. Iterate through the sorted list.\n",
        "3. For each index `i` in the list (starting from 0), check if the citation at that index is greater than or equal to `i+1` (because indexing starts from 0 but paper count starts from 1).\n",
        "4. Continue this until the condition fails.\n",
        "5. The largest `i+1` for which the condition holds true is the h-index.\n"
      ],
      "metadata": {
        "id": "hgNojCroCauY"
      }
    },
    {
      "cell_type": "markdown",
      "source": [
        "This function first sorts the citation list, then checks each citation in order to find the maximum `h` value that satisfies the condition. It returns the highest found `h` as the h-index of the researcher."
      ],
      "metadata": {
        "id": "UzupQmCaCruM"
      }
    },
    {
      "cell_type": "code",
      "execution_count": 1,
      "metadata": {
        "colab": {
          "base_uri": "https://localhost:8080/"
        },
        "id": "VPtiM_u_CZLO",
        "outputId": "2fc625bf-81c0-4e98-a202-d2c657ec7e33"
      },
      "outputs": [
        {
          "output_type": "stream",
          "name": "stdout",
          "text": [
            "The h-index is 3\n"
          ]
        }
      ],
      "source": [
        "def calculate_h_index(citations):\n",
        "    # Sort the citations in descending order\n",
        "    sorted_citations = sorted(citations, reverse=True)\n",
        "\n",
        "    # Determine the maximum h-index\n",
        "    h_index = 0\n",
        "    for i, citation in enumerate(sorted_citations):\n",
        "        if citation >= i + 1:\n",
        "            h_index = i + 1\n",
        "        else:\n",
        "            break\n",
        "\n",
        "    return h_index\n",
        "\n",
        "# Example usage:\n",
        "citations = [4, 3, 0, 1, 5]\n",
        "h_index = calculate_h_index(citations)\n",
        "print(f\"The h-index is {h_index}\")"
      ]
    }
  ]
}