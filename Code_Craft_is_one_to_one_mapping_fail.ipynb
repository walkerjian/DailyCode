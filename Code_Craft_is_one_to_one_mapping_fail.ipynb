{
  "nbformat": 4,
  "nbformat_minor": 0,
  "metadata": {
    "colab": {
      "provenance": [],
      "authorship_tag": "ABX9TyMVjYSDeyXCcDiRRwNclg1E",
      "include_colab_link": true
    },
    "kernelspec": {
      "name": "python3",
      "display_name": "Python 3"
    },
    "language_info": {
      "name": "python"
    }
  },
  "cells": [
    {
      "cell_type": "markdown",
      "metadata": {
        "id": "view-in-github",
        "colab_type": "text"
      },
      "source": [
        "<a href=\"https://colab.research.google.com/github/walkerjian/DailyCode/blob/main/Code_Craft_is_one_to_one_mapping_fail.ipynb\" target=\"_parent\"><img src=\"https://colab.research.google.com/assets/colab-badge.svg\" alt=\"Open In Colab\"/></a>"
      ]
    },
    {
      "cell_type": "markdown",
      "source": [
        "##Problem:\n",
        "Determine whether there exists a one-to-one character mapping from one string s1 to another s2.\n",
        "\n",
        "For example, given s1 = abc and s2 = bcd, return true since we can map a to b, b to c, and c to d.\n",
        "\n",
        "Given s1 = foo and s2 = bar, return false since the o cannot map to two characters."
      ],
      "metadata": {
        "id": "2lWyrXjB8EeD"
      }
    },
    {
      "cell_type": "markdown",
      "source": [
        "##Solution:\n",
        "To solve this problem, we can use a dictionary to track the mapping from characters in `s1` to characters in `s2`. The approach is as follows:\n",
        "\n",
        "1. If `s1` and `s2` are not of the same length, return false immediately because a one-to-one character mapping is not possible.\n",
        "2. Iterate through each character in `s1` and `s2` simultaneously. For each character in `s1`, check if a mapping exists in our dictionary:\n",
        "   - If a mapping does not exist, create a new mapping from the current character in `s1` to the current character in `s2`.\n",
        "   - If a mapping exists but does not match the current character in `s2`, return false as this violates the one-to-one mapping rule.\n",
        "3. To ensure that no two characters in `s1` map to the same character in `s2`, we also need to keep track of the characters in `s2` that have already been mapped. We can use a set for this purpose.\n",
        "4. If we successfully iterate through all characters without finding a violation of the one-to-one mapping rule, return true.\n"
      ],
      "metadata": {
        "id": "jIohycTB8Hjb"
      }
    },
    {
      "cell_type": "markdown",
      "source": [
        "##Implementation:\n",
        "\n",
        "\n",
        "Let's implement this logic in Python:\n",
        "\n",
        "The function correctly determines the one-to-one character mapping:\n",
        "\n",
        "- For `s1 = \"abc\"` and `s2 = \"bcd\"`, it returns `True` since we can map `a` to `b`, `b` to `c`, and `c` to `d`.\n",
        "- For `s1 = \"foo\"` and `s2 = \"bar\"`, it returns `False` because the character `o` in `s1` cannot map to two different characters in `s2`.\n",
        "\n",
        "This demonstrates the function works as expected for the given examples.\n"
      ],
      "metadata": {
        "id": "pkWuQrLB8K8H"
      }
    },
    {
      "cell_type": "code",
      "execution_count": 1,
      "metadata": {
        "id": "TIIt0l_k7Oi1",
        "colab": {
          "base_uri": "https://localhost:8080/"
        },
        "outputId": "94a1163a-c1e6-4bb4-9349-e8542c2d02e1"
      },
      "outputs": [
        {
          "output_type": "execute_result",
          "data": {
            "text/plain": [
              "{('abc', 'bcd'): True, ('foo', 'bar'): False}"
            ]
          },
          "metadata": {},
          "execution_count": 1
        }
      ],
      "source": [
        "def is_one_to_one_mapping(s1, s2):\n",
        "    if len(s1) != len(s2):\n",
        "        return False\n",
        "\n",
        "    mapping = {}\n",
        "    mapped_values = set()\n",
        "\n",
        "    for char_s1, char_s2 in zip(s1, s2):\n",
        "        # Check if there's an existing mapping for char_s1\n",
        "        if char_s1 in mapping:\n",
        "            if mapping[char_s1] != char_s2:\n",
        "                return False  # Existing mapping does not match the current char_s2\n",
        "        else:\n",
        "            # Check if char_s2 is already mapped to another char_s1\n",
        "            if char_s2 in mapped_values:\n",
        "                return False\n",
        "            mapping[char_s1] = char_s2\n",
        "            mapped_values.add(char_s2)\n",
        "\n",
        "    return True\n",
        "\n",
        "# Test cases\n",
        "test_cases = [(\"abc\", \"bcd\"), (\"foo\", \"bar\")]\n",
        "\n",
        "results = {test_case: is_one_to_one_mapping(*test_case) for test_case in test_cases}\n",
        "results\n"
      ]
    },
    {
      "cell_type": "markdown",
      "source": [
        "##Testing:\n"
      ],
      "metadata": {
        "id": "wcaruNyfYogT"
      }
    },
    {
      "cell_type": "code",
      "source": [
        "import unittest\n",
        "\n",
        "class TestIsOneToOneMapping(unittest.TestCase):\n",
        "    def test_one_to_one_mapping(self):\n",
        "        self.assertTrue(is_one_to_one_mapping(\"abc\", \"bcd\"))\n",
        "        self.assertFalse(is_one_to_one_mapping(\"foo\", \"bar\"))\n",
        "        self.assertTrue(is_one_to_one_mapping(\"123\", \"456\"))\n",
        "        self.assertFalse(is_one_to_one_mapping(\"112\", \"223\"))\n",
        "\n",
        "if __name__ == '__main__':\n",
        "    unittest.main(argv=['first-arg-is-ignored'], exit=False)\n"
      ],
      "metadata": {
        "id": "GESCF3BQYq1L",
        "colab": {
          "base_uri": "https://localhost:8080/"
        },
        "outputId": "d71dcb09-01b2-484e-ff92-989d2e4868f8"
      },
      "execution_count": 3,
      "outputs": [
        {
          "output_type": "stream",
          "name": "stderr",
          "text": [
            "F\n",
            "======================================================================\n",
            "FAIL: test_one_to_one_mapping (__main__.TestIsOneToOneMapping)\n",
            "----------------------------------------------------------------------\n",
            "Traceback (most recent call last):\n",
            "  File \"<ipython-input-3-1d53bd12f912>\", line 8, in test_one_to_one_mapping\n",
            "    self.assertFalse(is_one_to_one_mapping(\"112\", \"223\"))\n",
            "AssertionError: True is not false\n",
            "\n",
            "----------------------------------------------------------------------\n",
            "Ran 1 test in 0.002s\n",
            "\n",
            "FAILED (failures=1)\n"
          ]
        }
      ]
    }
  ]
}