{
  "nbformat": 4,
  "nbformat_minor": 0,
  "metadata": {
    "colab": {
      "provenance": [],
      "authorship_tag": "ABX9TyM/VejdOHSu/mrwEBVv/mLS",
      "include_colab_link": true
    },
    "kernelspec": {
      "name": "python3",
      "display_name": "Python 3"
    },
    "language_info": {
      "name": "python"
    }
  },
  "cells": [
    {
      "cell_type": "markdown",
      "metadata": {
        "id": "view-in-github",
        "colab_type": "text"
      },
      "source": [
        "<a href=\"https://colab.research.google.com/github/walkerjian/DailyCode/blob/main/Code_Craft_smallest_non_sum.ipynb\" target=\"_parent\"><img src=\"https://colab.research.google.com/assets/colab-badge.svg\" alt=\"Open In Colab\"/></a>"
      ]
    },
    {
      "cell_type": "markdown",
      "source": [
        "#Problem:\n",
        "Given a sorted array, find the smallest positive integer that is not the sum of a subset of the array.\n",
        "\n",
        "For example, for the input [1, 2, 3, 10], you should return 7.\n",
        "\n",
        "Do this in O(N) time.\n",
        "\n"
      ],
      "metadata": {
        "id": "tH7CkhIN6Ovd"
      }
    },
    {
      "cell_type": "markdown",
      "source": [
        "##Solution:\n",
        "To solve this problem efficiently in O(N) time complexity given the constraint that the array is sorted, we can use a greedy algorithm. The key insight is to iteratively find the smallest positive integer that cannot be represented as the sum of the subset of numbers encountered so far.\n",
        "\n",
        "Here's the step-by-step explanation of the approach:\n",
        "\n",
        "1. **Initialize `res` as 1**, which represents the smallest positive integer that we are currently trying to form using elements from the array.\n",
        "2. **Iterate through each element `x` of the sorted array**. For each element:\n",
        "   - If `x` is greater than `res`, then `res` cannot be formed using any subset of the elements seen so far, and thus `res` is the answer.\n",
        "   - If `x` is less than or equal to `res`, then we can form all sums up to `res + x - 1` by using the current element `x`. Therefore, update `res` to `res + x`.\n",
        "3. **If you finish iterating through the array without finding an answer**, the result is the last updated value of `res`, which represents the smallest positive integer that cannot be formed using any subset of the array.\n",
        "\n",
        "The reason why this greedy algorithm works is that at each step, if the current array element `x` is less than or equal to `res`, adding `x` to the sums previously achievable extends the range of achievable sums without gaps. If `x` is greater than `res`, then `res` itself is unachievable since all previous elements can only sum up to `res - 1`.\n"
      ],
      "metadata": {
        "id": "itQ9Rbxe6Twn"
      }
    },
    {
      "cell_type": "markdown",
      "source": [
        "##Implementation:\n",
        "This function efficiently calculates the smallest positive integer that cannot be represented as the sum of a subset of a sorted array. It runs in O(N) time as it only requires a single pass through the array."
      ],
      "metadata": {
        "id": "Cb3P4iVt6W-J"
      }
    },
    {
      "cell_type": "code",
      "source": [
        "def smallest_non_sum(nums):\n",
        "    res = 1\n",
        "    for x in nums:\n",
        "        if x > res:\n",
        "            break\n",
        "        res += x\n",
        "    return res"
      ],
      "metadata": {
        "id": "lve1Yewi6N4N"
      },
      "execution_count": 1,
      "outputs": []
    },
    {
      "cell_type": "markdown",
      "source": [
        "##Testing:"
      ],
      "metadata": {
        "id": "rmascGp76a_Q"
      }
    },
    {
      "cell_type": "code",
      "execution_count": 2,
      "metadata": {
        "id": "kVX9PbNY6M7_",
        "colab": {
          "base_uri": "https://localhost:8080/"
        },
        "outputId": "1bda2281-a5de-4b3c-c29f-20faa0b6bb8b"
      },
      "outputs": [
        {
          "output_type": "stream",
          "name": "stdout",
          "text": [
            "7\n"
          ]
        }
      ],
      "source": [
        "# Test the function with the provided example\n",
        "example_array = [1, 2, 3, 10]\n",
        "print(smallest_non_sum(example_array))  # Output should be 7"
      ]
    }
  ]
}