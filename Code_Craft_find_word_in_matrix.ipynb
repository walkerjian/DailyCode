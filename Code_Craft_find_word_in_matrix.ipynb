{
  "nbformat": 4,
  "nbformat_minor": 0,
  "metadata": {
    "colab": {
      "provenance": [],
      "authorship_tag": "ABX9TyORCBO+5ivc77PDNDF45YvY",
      "include_colab_link": true
    },
    "kernelspec": {
      "name": "python3",
      "display_name": "Python 3"
    },
    "language_info": {
      "name": "python"
    }
  },
  "cells": [
    {
      "cell_type": "markdown",
      "metadata": {
        "id": "view-in-github",
        "colab_type": "text"
      },
      "source": [
        "<a href=\"https://colab.research.google.com/github/walkerjian/DailyCode/blob/main/Code_Craft_find_word_in_matrix.ipynb\" target=\"_parent\"><img src=\"https://colab.research.google.com/assets/colab-badge.svg\" alt=\"Open In Colab\"/></a>"
      ]
    },
    {
      "cell_type": "markdown",
      "source": [
        "##Problem:\n",
        "Given a 2D matrix of characters and a target word, write a function that returns whether the word can be found in the matrix by going left-to-right, or up-to-down.\n",
        "\n",
        "For example, given the following matrix:\n",
        "````\n",
        "[['F', 'A', 'C', 'I'],\n",
        " ['O', 'B', 'Q', 'P'],\n",
        " ['A', 'N', 'O', 'B'],\n",
        " ['M', 'A', 'S', 'S']]\n",
        " ````\n",
        "\n",
        "and the target word 'FOAM', you should return true, since it's the leftmost column. Similarly, given the target word 'MASS', you should return true, since it's the last row.\n"
      ],
      "metadata": {
        "id": "2lWyrXjB8EeD"
      }
    },
    {
      "cell_type": "markdown",
      "source": [
        "##Solution:\n",
        "To solve this problem, we can create a function that checks for the presence of the target word in the matrix either left-to-right in each row or top-to-bottom in each column. Here's how we can implement this in Python:\n",
        "\n",
        "1. Iterate through each row in the matrix to check if any row contains the target word.\n",
        "2. Iterate through each column in the matrix to check if any column contains the target word.\n",
        "3. Return `True` if the target word is found in any row or column, and `False` otherwise.\n",
        "\n",
        "\n",
        "In this code, `find_word_in_matrix` checks each row and column for the target word. It uses `''.join(row)` to convert each row into a string and `find(word)` to check if the target word is in that string. The same approach is applied to columns, where each column is constructed by iterating over the rows and picking the character at the current column index.\n"
      ],
      "metadata": {
        "id": "jIohycTB8Hjb"
      }
    },
    {
      "cell_type": "markdown",
      "source": [
        "##Implementation:\n",
        "\n",
        "Here is the Python function that implements this logic:\n"
      ],
      "metadata": {
        "id": "pkWuQrLB8K8H"
      }
    },
    {
      "cell_type": "code",
      "execution_count": 2,
      "metadata": {
        "id": "TIIt0l_k7Oi1"
      },
      "outputs": [],
      "source": [
        "def find_word_in_matrix(matrix, word):\n",
        "    # Check each row for the word\n",
        "    for row in matrix:\n",
        "        if ''.join(row).find(word) >= 0:\n",
        "            return True\n",
        "\n",
        "    # Check each column for the word\n",
        "    for col in range(len(matrix[0])):\n",
        "        column_string = ''.join(matrix[row][col] for row in range(len(matrix)))\n",
        "        if column_string.find(word) >= 0:\n",
        "            return True\n",
        "\n",
        "    return False\n",
        "\n",
        "\n"
      ]
    },
    {
      "cell_type": "markdown",
      "source": [
        "##Testing:\n",
        "In this code, find_word_in_matrix checks each row and column for the target word. It uses ''.join(row) to convert each row into a string and find(word) to check if the target word is in that string. The same approach is applied to columns, where each column is constructed by iterating over the rows and picking the character at the current column index.\n"
      ],
      "metadata": {
        "id": "wcaruNyfYogT"
      }
    },
    {
      "cell_type": "code",
      "source": [
        "# Example usage\n",
        "matrix = [\n",
        "    ['F', 'A', 'C', 'I'],\n",
        "    ['O', 'B', 'Q', 'P'],\n",
        "    ['A', 'N', 'O', 'B'],\n",
        "    ['M', 'A', 'S', 'S']\n",
        "]\n",
        "\n",
        "print(find_word_in_matrix(matrix, 'FOAM'))  # True\n",
        "print(find_word_in_matrix(matrix, 'MASS'))  # True"
      ],
      "metadata": {
        "id": "7arfxk2ORsA8",
        "colab": {
          "base_uri": "https://localhost:8080/"
        },
        "outputId": "c9540ae4-2538-4404-a8dc-de95f968968e"
      },
      "execution_count": 3,
      "outputs": [
        {
          "output_type": "stream",
          "name": "stdout",
          "text": [
            "True\n",
            "True\n"
          ]
        }
      ]
    }
  ]
}