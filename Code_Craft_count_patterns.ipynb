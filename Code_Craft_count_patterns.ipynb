{
  "nbformat": 4,
  "nbformat_minor": 0,
  "metadata": {
    "colab": {
      "provenance": [],
      "authorship_tag": "ABX9TyMR5KdQ33ZreCDkiUuy+kmw",
      "include_colab_link": true
    },
    "kernelspec": {
      "name": "python3",
      "display_name": "Python 3"
    },
    "language_info": {
      "name": "python"
    }
  },
  "cells": [
    {
      "cell_type": "markdown",
      "metadata": {
        "id": "view-in-github",
        "colab_type": "text"
      },
      "source": [
        "<a href=\"https://colab.research.google.com/github/walkerjian/DailyCode/blob/main/Code_Craft_count_patterns.ipynb\" target=\"_parent\"><img src=\"https://colab.research.google.com/assets/colab-badge.svg\" alt=\"Open In Colab\"/></a>"
      ]
    },
    {
      "cell_type": "markdown",
      "source": [
        "One way to unlock an Android phone is through a pattern of swipes across a 1-9 keypad.\n",
        "\n",
        "For a pattern to be valid, it must satisfy the following:\n",
        "\n",
        "All of its keys must be distinct.\n",
        "It must not connect two keys by jumping over a third key, unless that key has already been used.\n",
        "For example, 4 - 2 - 1 - 7 is a valid pattern, whereas 2 - 1 - 7 is not.\n",
        "\n",
        "Find the total number of valid unlock patterns of length N, where 1 <= N <= 9."
      ],
      "metadata": {
        "id": "9w8NR9e1OrE0"
      }
    },
    {
      "cell_type": "markdown",
      "source": [
        "To solve the problem of finding the total number of valid unlock patterns of length $ N $ on an Android 1-9 keypad, we can approach this as a graph traversal problem where each number on the keypad is a node, and valid movements between them are edges.\n",
        "\n",
        "Strategy\n",
        "\n",
        "1. **Key Representation**:\n",
        "   - We can represent the keypad as a 3x3 grid:\n",
        "     ```\n",
        "     1 2 3\n",
        "     4 5 6\n",
        "     7 8 9\n",
        "     ```\n",
        "\n",
        "2. **Valid Moves**:\n",
        "   - We need to define when two nodes (keys) can be directly connected without violating the rules, specifically handling cases where a key \"jumps\" over another key.\n",
        "\n",
        "3. **Handling \"Jumps\"**:\n",
        "   - We can define a dictionary `jumps` where for each pair of keys, if a direct move between them is not allowed without visiting an intermediary, the dictionary will map the pair to the intermediary key. For instance:\n",
        "     - $ (1, 3) \\to 2 $, $ (1, 7) \\to 4 $, $ (3, 9) \\to 6 $, $ (7, 9) \\to 8 $, etc.\n",
        "\n",
        "4. **Backtracking Algorithm**:\n",
        "   - We will use a recursive function to try all possible moves from each key, adhering to the rules defined by the `jumps` dictionary and checking whether a key has been visited.\n",
        "   - We maintain a count of valid patterns that start from each key and sum them up.\n",
        "\n",
        "5. **Optimization Considerations**:\n",
        "   - Symmetry can be used to reduce computation. Patterns starting from 1 and 3 are symmetric to those starting from 7 and 9, and those from 2 are symmetric to those from 4, 6, and 8.\n",
        "   - We only need to compute patterns starting from a few keys and then multiply by their symmetrical counts.\n",
        "\n",
        "Python Implementation\n",
        "This function will calculate the number of valid unlock patterns for any given $ N $ between 1 and 9, by considering the keypad rules mentioned."
      ],
      "metadata": {
        "id": "xzYVVCNgOwGx"
      }
    },
    {
      "cell_type": "code",
      "execution_count": 1,
      "metadata": {
        "colab": {
          "base_uri": "https://localhost:8080/"
        },
        "id": "TkDjl7OgOp_V",
        "outputId": "3dd3cef0-cd38-4dff-ee4e-9611c0ab387a"
      },
      "outputs": [
        {
          "output_type": "stream",
          "name": "stdout",
          "text": [
            "1624\n"
          ]
        }
      ],
      "source": [
        "def count_patterns(N):\n",
        "    if N < 1 or N > 9:\n",
        "        return 0\n",
        "\n",
        "    # This dict captures the intermediary key that must be visited\n",
        "    # if we want to jump between two keys directly.\n",
        "    jumps = {\n",
        "        (1, 3): 2, (3, 1): 2,\n",
        "        (4, 6): 5, (6, 4): 5,\n",
        "        (7, 9): 8, (9, 7): 8,\n",
        "        (1, 7): 4, (7, 1): 4,\n",
        "        (2, 8): 5, (8, 2): 5,\n",
        "        (3, 9): 6, (9, 3): 6,\n",
        "        (1, 9): 5, (9, 1): 5,\n",
        "        (3, 7): 5, (7, 3): 5\n",
        "    }\n",
        "\n",
        "    def backtrack(curr, visited, remaining):\n",
        "        if remaining == 0:\n",
        "            return 1\n",
        "        sum = 0\n",
        "        for next in range(1, 10):\n",
        "            if next not in visited:\n",
        "                # Check if the jump is valid\n",
        "                if (curr, next) in jumps and jumps[(curr, next)] not in visited:\n",
        "                    continue\n",
        "                visited.add(next)\n",
        "                sum += backtrack(next, visited, remaining - 1)\n",
        "                visited.remove(next)\n",
        "        return sum\n",
        "\n",
        "    count = 0\n",
        "    visited = set()\n",
        "\n",
        "    # Compute for symmetry\n",
        "    count += backtrack(1, {1}, N-1) * 4  # 1, 3, 7, 9 are symmetric\n",
        "    count += backtrack(2, {2}, N-1) * 4  # 2, 4, 6, 8 are symmetric\n",
        "    count += backtrack(5, {5}, N-1)     # 5 is unique\n",
        "\n",
        "    return count\n",
        "\n",
        "# Example: Count patterns of length N = 4\n",
        "print(count_patterns(4))\n"
      ]
    }
  ]
}