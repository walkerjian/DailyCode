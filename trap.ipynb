{
  "nbformat": 4,
  "nbformat_minor": 0,
  "metadata": {
    "colab": {
      "provenance": [],
      "authorship_tag": "ABX9TyNfcgoCZyswO2rwloN/pLS+",
      "include_colab_link": true
    },
    "kernelspec": {
      "name": "python3",
      "display_name": "Python 3"
    },
    "language_info": {
      "name": "python"
    }
  },
  "cells": [
    {
      "cell_type": "markdown",
      "metadata": {
        "id": "view-in-github",
        "colab_type": "text"
      },
      "source": [
        "<a href=\"https://colab.research.google.com/github/walkerjian/DailyCode/blob/main/trap.ipynb\" target=\"_parent\"><img src=\"https://colab.research.google.com/assets/colab-badge.svg\" alt=\"Open In Colab\"/></a>"
      ]
    },
    {
      "cell_type": "markdown",
      "source": [
        "You are given an array of non-negative integers that represents a two-dimensional elevation map where each element is unit-width wall and the integer is the height. Suppose it will rain and all spots between two walls get filled up.\n",
        "\n",
        "Compute how many units of water remain trapped on the map in O(N) time and O(1) space.\n",
        "\n",
        "For example, given the input [2, 1, 2], we can hold 1 unit of water in the middle.\n",
        "\n",
        "Given the input [3, 0, 1, 3, 0, 5], we can hold 3 units in the first index, 2 in the second, and 3 in the fourth index (we cannot hold 5 since it would run off to the left), so we can trap 8 units of water."
      ],
      "metadata": {
        "id": "DKb0j9JayA1k"
      }
    },
    {
      "cell_type": "markdown",
      "source": [
        "To solve this problem in \\(O(N)\\) time and \\(O(1)\\) space, we can use a two-pointer approach. Here's the general idea:\n",
        "\n",
        "1. Initialize two pointers, `left` and `right`, at the beginning and end of the array, respectively.\n",
        "2. Keep two variables to track the maximum height on the left and right: `left_max` and `right_max`.\n",
        "3. Iterate through the array:\n",
        "   - If `left_max` is less than `right_max`, we update `left_max` if the current height at `left` is greater than `left_max`. Otherwise, we add the trapped water at the `left` index, which is `left_max - height[left]`. Then, move the `left` pointer to the right.\n",
        "   - Similarly, if `right_max` is less than or equal to `left_max`, we update `right_max` if the height at `right` is greater than `right_max`. Otherwise, we add the trapped water at the `right` index, which is `right_max - height[right]`. Then, move the `right` pointer to the left.\n",
        "4. Continue the process until the `left` pointer is less than or equal to the `right` pointer.\n",
        "\n",
        "Here's the step-by-step algorithm to compute trapped water:\n",
        "\n",
        "1. Initialize `left` to 0 and `right` to the length of the array minus 1.\n",
        "2. Initialize `left_max` and `right_max` to 0.\n",
        "3. Initialize a variable `trapped` to 0 to store the total trapped water.\n",
        "4. While `left` is less than or equal to `right`:\n",
        "   - If `left_max` is less than `right_max`:\n",
        "     - If `height[left]` is greater than `left_max`, then set `left_max` to `height[left]`.\n",
        "     - Otherwise, add `left_max - height[left]` to `trapped` and move the `left` pointer one step to the right.\n",
        "   - Else:\n",
        "     - If `height[right]` is greater than `right_max`, then set `right_max` to `height[right]`.\n",
        "     - Otherwise, add `right_max - height[right]` to `trapped` and move the `right` pointer one step to the left.\n",
        "5. Return `trapped`.\n",
        "\n",
        "Let's implement this algorithm:\n",
        "\n",
        "The trapped water for the given test cases is:\n",
        "\n",
        "- For the array \\([2, 1, 2]\\), the trapped water is 1 unit.\n",
        "- For the array \\([3, 0, 1, 3, 0, 5]\\), the trapped water is 8 units.\n",
        "\n",
        "This matches the expected results. Would you like to test with any additional cases or need further information?"
      ],
      "metadata": {
        "id": "PJpngyTlyNc_"
      }
    },
    {
      "cell_type": "code",
      "execution_count": 1,
      "metadata": {
        "colab": {
          "base_uri": "https://localhost:8080/"
        },
        "id": "q6fRiDXJyAAe",
        "outputId": "a042a37e-d984-4ffa-8aa7-2013868c46eb"
      },
      "outputs": [
        {
          "output_type": "execute_result",
          "data": {
            "text/plain": [
              "[1, 8]"
            ]
          },
          "metadata": {},
          "execution_count": 1
        }
      ],
      "source": [
        "def trap(height):\n",
        "    if not height:\n",
        "        return 0\n",
        "\n",
        "    # Initialize pointers and max heights\n",
        "    left, right = 0, len(height) - 1\n",
        "    left_max, right_max = height[left], height[right]\n",
        "\n",
        "    trapped = 0\n",
        "\n",
        "    while left <= right:\n",
        "        if left_max < right_max:\n",
        "            if height[left] > left_max:\n",
        "                left_max = height[left]\n",
        "            else:\n",
        "                trapped += left_max - height[left]\n",
        "            left += 1\n",
        "        else:\n",
        "            if height[right] > right_max:\n",
        "                right_max = height[right]\n",
        "            else:\n",
        "                trapped += right_max - height[right]\n",
        "            right -= 1\n",
        "\n",
        "    return trapped\n",
        "\n",
        "# Test the function with the provided examples\n",
        "test_cases = [[2, 1, 2], [3, 0, 1, 3, 0, 5]]\n",
        "results = [trap(tc) for tc in test_cases]\n",
        "results\n"
      ]
    },
    {
      "cell_type": "code",
      "source": [],
      "metadata": {
        "id": "Ep1tZYGFyRwB"
      },
      "execution_count": null,
      "outputs": []
    }
  ]
}