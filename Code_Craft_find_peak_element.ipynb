{
  "nbformat": 4,
  "nbformat_minor": 0,
  "metadata": {
    "colab": {
      "provenance": [],
      "authorship_tag": "ABX9TyMxX5Z1fIbeEMt9WeCP5eiC",
      "include_colab_link": true
    },
    "kernelspec": {
      "name": "python3",
      "display_name": "Python 3"
    },
    "language_info": {
      "name": "python"
    }
  },
  "cells": [
    {
      "cell_type": "markdown",
      "metadata": {
        "id": "view-in-github",
        "colab_type": "text"
      },
      "source": [
        "<a href=\"https://colab.research.google.com/github/walkerjian/DailyCode/blob/main/Code_Craft_find_peak_element.ipynb\" target=\"_parent\"><img src=\"https://colab.research.google.com/assets/colab-badge.svg\" alt=\"Open In Colab\"/></a>"
      ]
    },
    {
      "cell_type": "markdown",
      "source": [
        "##Problem:\n",
        "Given a array that's sorted but rotated at some unknown pivot, in which all elements are distinct, find a \"peak\" element in O(log N) time.\n",
        "\n",
        "An element is considered a peak if it is greater than both its left and right neighbors. It is guaranteed that the first and last elements are lower than all others.\n",
        "##Solution:\n",
        "To find a peak element in a sorted but rotated array in $O(\\log N)$ time, you can use a modified binary search. Since the array is sorted but rotated, at least one half of the array must be strictly increasing or decreasing, which guarantees the existence of a peak element.\n",
        "\n",
        "The algorithm works as follows:\n",
        "\n",
        "1. **Initialize**: Start with the entire array and set low to 0 and high to \\(N-1\\), where \\(N\\) is the length of the array.\n",
        "\n",
        "2. **Binary Search**:\n",
        "   - Find the middle element of the current subarray, `mid = (low + high) / 2`.\n",
        "   - Check if the `mid` element is a peak:\n",
        "     - If `arr[mid] > arr[mid - 1]` and `arr[mid] > arr[mid + 1]`, then `arr[mid]` is a peak.\n",
        "     - Else, decide which half to search next:\n",
        "       - If `arr[mid] < arr[mid - 1]`, then a peak must exist in the left half, so set `high = mid - 1`.\n",
        "       - Otherwise, a peak must exist in the right half, so set `low = mid + 1`.\n",
        "\n",
        "3. **Repeat** the binary search until a peak is found.\n",
        "\n",
        "4. **Return** the peak element once found.\n",
        "\n",
        "Note that since the first and last elements are guaranteed to be lower than all others, we don't need to worry about the boundaries of the array when checking the neighboring elements of the `mid` element.\n",
        "\n",
        "Let's write a Python function to implement this algorithm.\n",
        "\n",
        "The function successfully found a peak element, which is 7, in the provided example array `[4, 5, 6, 7, 0, 1, 2]`. This implementation performs the search in \\(O(\\log N)\\) time, as required, by utilizing a modified binary search approach.\n",
        "##Implementation:\n"
      ],
      "metadata": {
        "id": "Z2wz0WtoqqbL"
      }
    },
    {
      "cell_type": "code",
      "execution_count": 3,
      "metadata": {
        "colab": {
          "base_uri": "https://localhost:8080/"
        },
        "id": "fQV_Htu-qpnR",
        "outputId": "2084f50d-707b-4e0a-86a0-794d347460b1"
      },
      "outputs": [
        {
          "output_type": "execute_result",
          "data": {
            "text/plain": [
              "7"
            ]
          },
          "metadata": {},
          "execution_count": 3
        }
      ],
      "source": [
        "def find_peak_element(arr):\n",
        "    low, high = 0, len(arr) - 1\n",
        "\n",
        "    while low <= high:\n",
        "        mid = (low + high) // 2\n",
        "\n",
        "        # Check if mid element is a peak\n",
        "        if (mid == 0 or arr[mid - 1] < arr[mid]) and (mid == len(arr) - 1 or arr[mid] > arr[mid + 1]):\n",
        "            return arr[mid]\n",
        "\n",
        "        # If left neighbor is greater, then peak must be in left half\n",
        "        if mid > 0 and arr[mid - 1] > arr[mid]:\n",
        "            high = mid - 1\n",
        "        # Else the peak must be in the right half\n",
        "        else:\n",
        "            low = mid + 1\n",
        "\n",
        "    return None  # This line should never be reached due to the problem constraints\n",
        "\n",
        "# Example use\n",
        "example_array = [4, 5, 6, 7, 0, 1, 2]\n",
        "find_peak_element(example_array)\n"
      ]
    }
  ]
}