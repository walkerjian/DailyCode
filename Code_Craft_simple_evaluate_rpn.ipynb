{
  "nbformat": 4,
  "nbformat_minor": 0,
  "metadata": {
    "colab": {
      "provenance": [],
      "authorship_tag": "ABX9TyPwzzLwJy0JbccmmPaV6W4v",
      "include_colab_link": true
    },
    "kernelspec": {
      "name": "python3",
      "display_name": "Python 3"
    },
    "language_info": {
      "name": "python"
    }
  },
  "cells": [
    {
      "cell_type": "markdown",
      "metadata": {
        "id": "view-in-github",
        "colab_type": "text"
      },
      "source": [
        "<a href=\"https://colab.research.google.com/github/walkerjian/DailyCode/blob/main/Code_Craft_simple_evaluate_rpn.ipynb\" target=\"_parent\"><img src=\"https://colab.research.google.com/assets/colab-badge.svg\" alt=\"Open In Colab\"/></a>"
      ]
    },
    {
      "cell_type": "markdown",
      "source": [
        "##Problem:\n",
        "Given an arithmetic expression in Reverse Polish Notation, write a program to evaluate it.\n",
        "\n",
        "The expression is given as a list of numbers and operands. For example: [5, 3, '+'] should return 5 + 3 = 8.\n",
        "\n",
        "For example, [15, 7, 1, 1, '+', '-', '/', 3, '*', 2, 1, 1, '+', '+', '-'] should return 5, since it is equivalent to ((15 / (7 - (1 + 1))) * 3) - (2 + (1 + 1)) = 5.\n",
        "\n",
        "You can assume the given expression is always valid.\n"
      ],
      "metadata": {
        "id": "2lWyrXjB8EeD"
      }
    },
    {
      "cell_type": "markdown",
      "source": [
        "##Solution:"
      ],
      "metadata": {
        "id": "jIohycTB8Hjb"
      }
    },
    {
      "cell_type": "markdown",
      "source": [
        "##Implementation:\n"
      ],
      "metadata": {
        "id": "pkWuQrLB8K8H"
      }
    },
    {
      "cell_type": "code",
      "execution_count": null,
      "metadata": {
        "id": "TIIt0l_k7Oi1",
        "colab": {
          "base_uri": "https://localhost:8080/"
        },
        "outputId": "b56cc903-21cc-40a0-d170-9b1e240b6d17"
      },
      "outputs": [
        {
          "output_type": "execute_result",
          "data": {
            "text/plain": [
              "(8, 5)"
            ]
          },
          "metadata": {},
          "execution_count": 1
        }
      ],
      "source": [
        "def evaluate_rpn(expression):\n",
        "    stack = []\n",
        "    for token in expression:\n",
        "        if token in [\"+\", \"-\", \"*\", \"/\"]:\n",
        "            right_operand = stack.pop()\n",
        "            left_operand = stack.pop()\n",
        "            if token == \"+\":\n",
        "                stack.append(left_operand + right_operand)\n",
        "            elif token == \"-\":\n",
        "                stack.append(left_operand - right_operand)\n",
        "            elif token == \"*\":\n",
        "                stack.append(left_operand * right_operand)\n",
        "            elif token == \"/\":\n",
        "                # Ensure floating point division for Python 3 compatibility\n",
        "                stack.append(int(left_operand / right_operand))\n",
        "        else:\n",
        "            stack.append(token)\n",
        "    return stack.pop()\n",
        "\n",
        "# Test the function with the provided examples\n",
        "example1 = [5, 3, '+']\n",
        "example2 = [15, 7, 1, 1, '+', '-', '/', 3, '*', 2, 1, 1, '+', '+', '-']\n",
        "\n",
        "result1 = evaluate_rpn(example1)\n",
        "result2 = evaluate_rpn(example2)\n",
        "\n",
        "result1, result2\n"
      ]
    }
  ]
}