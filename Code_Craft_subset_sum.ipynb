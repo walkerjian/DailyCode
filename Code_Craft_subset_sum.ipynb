{
  "nbformat": 4,
  "nbformat_minor": 0,
  "metadata": {
    "colab": {
      "provenance": [],
      "authorship_tag": "ABX9TyPLEV6mse9xWpmlNaAJPucS",
      "include_colab_link": true
    },
    "kernelspec": {
      "name": "python3",
      "display_name": "Python 3"
    },
    "language_info": {
      "name": "python"
    }
  },
  "cells": [
    {
      "cell_type": "markdown",
      "metadata": {
        "id": "view-in-github",
        "colab_type": "text"
      },
      "source": [
        "<a href=\"https://colab.research.google.com/github/walkerjian/DailyCode/blob/main/Code_Craft_subset_sum.ipynb\" target=\"_parent\"><img src=\"https://colab.research.google.com/assets/colab-badge.svg\" alt=\"Open In Colab\"/></a>"
      ]
    },
    {
      "cell_type": "markdown",
      "source": [
        "##Problem:\n",
        "Given a list of integers S and a target number k, write a function that returns a subset of S that adds up to k. If such a subset cannot be made, then return null.\n",
        "\n",
        "Integers can appear more than once in the list. You may assume all numbers in the list are positive.\n",
        "\n",
        "For example, given S = [12, 1, 61, 5, 9, 2] and k = 24, return [12, 9, 2, 1] since it sums up to 24."
      ],
      "metadata": {
        "id": "E4tCtrGliQGY"
      }
    },
    {
      "cell_type": "markdown",
      "source": [
        "##Solution:\n"
      ],
      "metadata": {
        "id": "akhDPZ1XiT0X"
      }
    },
    {
      "cell_type": "code",
      "execution_count": 1,
      "metadata": {
        "colab": {
          "base_uri": "https://localhost:8080/"
        },
        "id": "yvJ4U84miN5Z",
        "outputId": "0653f7f2-2a55-47eb-a055-62538aeb8d09"
      },
      "outputs": [
        {
          "output_type": "execute_result",
          "data": {
            "text/plain": [
              "[12, 1, 9, 2]"
            ]
          },
          "metadata": {},
          "execution_count": 1
        }
      ],
      "source": [
        "def subset_sum(S, k):\n",
        "    \"\"\"\n",
        "    Find a subset of S that sums up to k.\n",
        "\n",
        "    :param S: List of positive integers\n",
        "    :param k: Target sum\n",
        "    :return: Subset of S that sums up to k or None if no such subset exists\n",
        "    \"\"\"\n",
        "    # Base case: if k is 0, an empty subset is the solution\n",
        "    if k == 0:\n",
        "        return []\n",
        "    if not S:\n",
        "        return None\n",
        "\n",
        "    # Check if the last element is greater than k\n",
        "    if S[-1] > k:\n",
        "        return subset_sum(S[:-1], k)\n",
        "\n",
        "    # Include the last element in the subset and check if a solution exists\n",
        "    with_last = subset_sum(S[:-1], k - S[-1])\n",
        "    if with_last is not None:\n",
        "        return with_last + [S[-1]]\n",
        "\n",
        "    # Exclude the last element from the subset and check for a solution\n",
        "    without_last = subset_sum(S[:-1], k)\n",
        "    return without_last\n",
        "\n",
        "# Test the function with the provided example\n",
        "S = [12, 1, 61, 5, 9, 2]\n",
        "k = 24\n",
        "subset_sum(S, k)\n"
      ]
    },
    {
      "cell_type": "markdown",
      "source": [
        "##Testing:"
      ],
      "metadata": {
        "id": "wAP50RH2ix-7"
      }
    },
    {
      "cell_type": "code",
      "source": [
        "def test_subset_sum():\n",
        "    \"\"\"\n",
        "    Test harness for the subset_sum function.\n",
        "    \"\"\"\n",
        "\n",
        "    # Test case 1: The example provided\n",
        "    assert subset_sum([12, 1, 61, 5, 9, 2], 24) in [[12, 1, 9, 2], [1, 9, 2, 12], [9, 2, 1, 12], [2, 1, 9, 12]], \"Test case 1 failed\"\n",
        "\n",
        "    # Test case 2: No solution exists\n",
        "    assert subset_sum([5, 7, 10], 1) is None, \"Test case 2 failed\"\n",
        "\n",
        "    # Test case 3: Single element solution\n",
        "    assert subset_sum([1, 2, 3], 3) == [3], \"Test case 3 failed\"\n",
        "\n",
        "    # Test case 4: Multiple elements with the same value\n",
        "    assert subset_sum([3, 3, 3, 3], 6) in [[3, 3], [3, 3]], \"Test case 4 failed\"\n",
        "\n",
        "    # Test case 5: Empty list\n",
        "    assert subset_sum([], 0) == [], \"Test case 5 failed\"\n",
        "\n",
        "    # Test case 6: Large sum\n",
        "    assert subset_sum([10, 20, 30, 40, 50], 100) in [[50, 40, 10], [40, 50, 10], [10, 40, 50], [10, 50, 40]], \"Test case 6 failed\"\n",
        "\n",
        "    print(\"All test cases passed!\")\n",
        "\n",
        "# Run the test harness\n",
        "test_subset_sum()\n"
      ],
      "metadata": {
        "colab": {
          "base_uri": "https://localhost:8080/"
        },
        "id": "dDolk4ORigzl",
        "outputId": "599b0147-b3e8-48b8-c83c-723fa7b2c5f9"
      },
      "execution_count": 2,
      "outputs": [
        {
          "output_type": "stream",
          "name": "stdout",
          "text": [
            "All test cases passed!\n"
          ]
        }
      ]
    }
  ]
}