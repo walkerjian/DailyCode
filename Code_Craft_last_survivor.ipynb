{
  "nbformat": 4,
  "nbformat_minor": 0,
  "metadata": {
    "colab": {
      "provenance": [],
      "authorship_tag": "ABX9TyMM/9Oms90NZJ1zZWXckO4V",
      "include_colab_link": true
    },
    "kernelspec": {
      "name": "python3",
      "display_name": "Python 3"
    },
    "language_info": {
      "name": "python"
    }
  },
  "cells": [
    {
      "cell_type": "markdown",
      "metadata": {
        "id": "view-in-github",
        "colab_type": "text"
      },
      "source": [
        "<a href=\"https://colab.research.google.com/github/walkerjian/DailyCode/blob/main/Code_Craft_last_survivor.ipynb\" target=\"_parent\"><img src=\"https://colab.research.google.com/assets/colab-badge.svg\" alt=\"Open In Colab\"/></a>"
      ]
    },
    {
      "cell_type": "markdown",
      "source": [
        "#Problem:\n",
        "There are N prisoners standing in a circle, waiting to be executed. The executions are carried out starting with the kth person, and removing every successive kth person going clockwise until there is no one left.\n",
        "\n",
        "Given N and k, write an algorithm to determine where a prisoner should stand in order to be the last survivor.\n",
        "\n",
        "For example, if N = 5 and k = 2, the order of executions would be [2, 4, 1, 5, 3], so you should return 3.\n",
        "\n",
        "Bonus: Find an O(log N) solution if k = 2.\n",
        "\n"
      ],
      "metadata": {
        "id": "tH7CkhIN6Ovd"
      }
    },
    {
      "cell_type": "markdown",
      "source": [
        "##Solution:\n",
        "To solve this problem, we can use a data structure called a circular linked list. Each node in the linked list represents a prisoner, and the list is circular, meaning the last prisoner is connected to the first prisoner.\n",
        "\n",
        "\n"
      ],
      "metadata": {
        "id": "itQ9Rbxe6Twn"
      }
    },
    {
      "cell_type": "markdown",
      "source": [
        "##Implementation:\n",
        "This algorithm has a time complexity of $O(N*k)$, where $N$ is the number of prisoners and $k$ is the step size.\n",
        "\n",
        "\n",
        "Here's a Python implementation of the algorithm to determine the position of the last survivor:"
      ],
      "metadata": {
        "id": "Cb3P4iVt6W-J"
      }
    },
    {
      "cell_type": "code",
      "source": [
        "class Node:\n",
        "    def __init__(self, data):\n",
        "        self.data = data\n",
        "        self.next = None\n",
        "\n",
        "def last_survivor(N, k):\n",
        "    # Create circular linked list of N prisoners\n",
        "    head = Node(1)\n",
        "    current = head\n",
        "    for i in range(2, N + 1):\n",
        "        current.next = Node(i)\n",
        "        current = current.next\n",
        "    current.next = head  # Make the list circular\n",
        "\n",
        "    # Execute prisoners until only one remains\n",
        "    while current.next != current:\n",
        "        # Find the kth prisoner\n",
        "        for _ in range(k - 1):\n",
        "            current = current.next\n",
        "        # Remove the kth prisoner\n",
        "        current.data = current.next.data\n",
        "        current.next = current.next.next\n",
        "\n",
        "    return current.data"
      ],
      "metadata": {
        "id": "lve1Yewi6N4N"
      },
      "execution_count": 1,
      "outputs": []
    },
    {
      "cell_type": "markdown",
      "source": [
        "##Testing:"
      ],
      "metadata": {
        "id": "rmascGp76a_Q"
      }
    },
    {
      "cell_type": "code",
      "execution_count": 2,
      "metadata": {
        "id": "kVX9PbNY6M7_",
        "colab": {
          "base_uri": "https://localhost:8080/"
        },
        "outputId": "50108470-8c61-437e-f880-33ce86b09413"
      },
      "outputs": [
        {
          "output_type": "stream",
          "name": "stdout",
          "text": [
            "Position of the last survivor: 2\n"
          ]
        }
      ],
      "source": [
        "# Example usage\n",
        "N = 5\n",
        "k = 2\n",
        "print(\"Position of the last survivor:\", last_survivor(N, k))"
      ]
    },
    {
      "cell_type": "markdown",
      "source": [
        "##Bonus:\n",
        "Now, let's address the bonus part of the problem: finding an $O(log N)$ solution when k = 2.\n",
        "We can observe a pattern when k = 2:\n",
        "\n",
        "- When N is even, the last survivor is at position $N/2$.\n",
        "- When N is odd, the last survivor is at position $(N/2) + 1$.\n",
        "\n",
        "Here's the implementation of the $O(log N)$ solution:\n",
        "\n",
        "\n",
        "\n",
        "This solution has a time complexity of $O(1)$ because it doesn't depend on the value of N; it simply performs a few arithmetic operations to determine the position of the last survivor."
      ],
      "metadata": {
        "id": "u0xGahxPwf0S"
      }
    },
    {
      "cell_type": "code",
      "source": [
        "def last_survivor_bonus(N):\n",
        "    if N == 1:\n",
        "        return 1\n",
        "    if N % 2 == 0:\n",
        "        return N // 2\n",
        "    else:\n",
        "        return (N // 2) + 1\n"
      ],
      "metadata": {
        "id": "e3Lq13v1wfe7"
      },
      "execution_count": 3,
      "outputs": []
    },
    {
      "cell_type": "code",
      "source": [
        "# Example usage\n",
        "N = 5\n",
        "print(\"Position of the last survivor:\", last_survivor_bonus(N))"
      ],
      "metadata": {
        "colab": {
          "base_uri": "https://localhost:8080/"
        },
        "id": "t6duPeu-wo7r",
        "outputId": "d2320765-7c16-4340-d8a5-9cd14f3bdb28"
      },
      "execution_count": 4,
      "outputs": [
        {
          "output_type": "stream",
          "name": "stdout",
          "text": [
            "Position of the last survivor: 3\n"
          ]
        }
      ]
    }
  ]
}