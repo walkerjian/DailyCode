{
  "nbformat": 4,
  "nbformat_minor": 0,
  "metadata": {
    "colab": {
      "provenance": [],
      "authorship_tag": "ABX9TyMIs36G9g51OdPng7diW3uB",
      "include_colab_link": true
    },
    "kernelspec": {
      "name": "python3",
      "display_name": "Python 3"
    },
    "language_info": {
      "name": "python"
    }
  },
  "cells": [
    {
      "cell_type": "markdown",
      "metadata": {
        "id": "view-in-github",
        "colab_type": "text"
      },
      "source": [
        "<a href=\"https://colab.research.google.com/github/walkerjian/DailyCode/blob/main/Code_Craft_merge_intervals.ipynb\" target=\"_parent\"><img src=\"https://colab.research.google.com/assets/colab-badge.svg\" alt=\"Open In Colab\"/></a>"
      ]
    },
    {
      "cell_type": "markdown",
      "source": [
        "##Problem:\n",
        "Given a list of possibly overlapping intervals, return a new list of intervals where all overlapping intervals have been merged.\n",
        "\n",
        "The input list is not necessarily ordered in any way.\n",
        "\n",
        "For example, given [(1, 3), (5, 8), (4, 10), (20, 25)], you should return [(1, 3), (4, 10), (20, 25)]."
      ],
      "metadata": {
        "id": "S4myVNqJ7Ocm"
      }
    },
    {
      "cell_type": "markdown",
      "source": [
        "##Solution:\n",
        "To solve this problem, we can follow these steps:\n",
        "\n",
        "1. **Sort the intervals**: We begin by sorting the intervals based on their start times. This makes it easier to merge overlapping intervals in a single pass.\n",
        "\n",
        "2. **Merge intervals**: We iterate through the sorted intervals, and for each interval:\n",
        "    - If the current interval does not overlap with the previous one, we add it to the result.\n",
        "    - If it does overlap, we merge the current interval with the previous one by updating the end time of the previous interval to the maximum of the end times of both intervals.\n"
      ],
      "metadata": {
        "id": "AvpWbJpQ7SCQ"
      }
    },
    {
      "cell_type": "markdown",
      "source": [
        "##Implementation:\n"
      ],
      "metadata": {
        "id": "We7pJKxg7a8E"
      }
    },
    {
      "cell_type": "code",
      "execution_count": 1,
      "metadata": {
        "colab": {
          "base_uri": "https://localhost:8080/"
        },
        "id": "Xma0en6O69EP",
        "outputId": "e39a9f3a-f335-46a6-9d08-3c413fe290f0"
      },
      "outputs": [
        {
          "output_type": "execute_result",
          "data": {
            "text/plain": [
              "[(1, 3), (4, 10), (20, 25)]"
            ]
          },
          "metadata": {},
          "execution_count": 1
        }
      ],
      "source": [
        "def merge_intervals(intervals):\n",
        "    # Sort the intervals based on the start time\n",
        "    intervals.sort(key=lambda x: x[0])\n",
        "\n",
        "    merged = []\n",
        "    for interval in intervals:\n",
        "        # If the list of merged intervals is empty or if the current\n",
        "        # interval does not overlap with the previous, simply append it.\n",
        "        if not merged or merged[-1][1] < interval[0]:\n",
        "            merged.append(interval)\n",
        "        else:\n",
        "            # Otherwise, there is overlap, so we merge the current and previous intervals.\n",
        "            merged[-1] = (merged[-1][0], max(merged[-1][1], interval[1]))\n",
        "\n",
        "    return merged\n",
        "\n",
        "# Test the function with the provided example\n",
        "test_intervals = [(1, 3), (5, 8), (4, 10), (20, 25)]\n",
        "merge_intervals(test_intervals)\n"
      ]
    },
    {
      "cell_type": "markdown",
      "source": [
        "The implemented function successfully merges the overlapping intervals. Given the input [(1, 3), (5, 8), (4, 10), (20, 25)], it returns the merged intervals as [(1, 3), (4, 10), (20, 25)], which is the expected result. This approach first sorts the intervals based on their start times, then iterates through them to merge any overlapping intervals. ​"
      ],
      "metadata": {
        "id": "b5vzDFrm7giY"
      }
    }
  ]
}