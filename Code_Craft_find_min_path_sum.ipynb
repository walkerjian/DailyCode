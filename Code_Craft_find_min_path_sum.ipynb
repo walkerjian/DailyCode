{
  "nbformat": 4,
  "nbformat_minor": 0,
  "metadata": {
    "colab": {
      "provenance": [],
      "authorship_tag": "ABX9TyPGPcE7VoYHWRKrjIJ+xSCV",
      "include_colab_link": true
    },
    "kernelspec": {
      "name": "python3",
      "display_name": "Python 3"
    },
    "language_info": {
      "name": "python"
    }
  },
  "cells": [
    {
      "cell_type": "markdown",
      "metadata": {
        "id": "view-in-github",
        "colab_type": "text"
      },
      "source": [
        "<a href=\"https://colab.research.google.com/github/walkerjian/DailyCode/blob/main/Code_Craft_find_min_path_sum.ipynb\" target=\"_parent\"><img src=\"https://colab.research.google.com/assets/colab-badge.svg\" alt=\"Open In Colab\"/></a>"
      ]
    },
    {
      "cell_type": "markdown",
      "source": [
        "##Problem:\n",
        "Given a binary tree, find a minimum path sum from root to a leaf.\n",
        "\n",
        "For example, the minimum path in this tree is [10, 5, 1, -1], which has sum 15.\n",
        "````\n",
        "  10\n",
        " /  \\\n",
        "5    5\n",
        " \\     \\\n",
        "   2    1\n",
        "       /\n",
        "     -1\n",
        "````"
      ],
      "metadata": {
        "id": "clgxDuEL_9VX"
      }
    },
    {
      "cell_type": "markdown",
      "source": [
        "##Solution:\n",
        "To tackle this task, we will follow a multi-step process:\n",
        "\n",
        "1. **Define the Tree Structure**: Implement a basic binary tree structure in Python.\n",
        "2. **Find Minimum Path Sum**: Implement a function to find the minimum path sum from the root to a leaf.\n",
        "3. **Graphical Representation**: Utilize `networkx` and `matplotlib` to graphically represent the binary tree.\n",
        "4. **Testing**: Create several test cases to validate our implementation.\n",
        "\n",
        "First, let's define the binary tree structure and the function to find the minimum path sum. We will then proceed to the graphical representation and testing phases.\n",
        "\n",
        "### Step 1: Define the Binary Tree Structure\n",
        "\n",
        "We will define a `TreeNode` class to represent each node in the binary tree.\n",
        "\n",
        "### Step 2: Find Minimum Path Sum\n",
        "\n",
        "The function `find_min_path_sum` will recursively traverse the tree to find the minimum path sum from the root to any leaf.\n",
        "\n",
        "### Step 3: Graphical Representation\n",
        "\n",
        "We will use `networkx` and `matplotlib` to visually represent the binary tree. This will help in better understanding the structure of the tree and the path taken for the minimum sum.\n",
        "\n",
        "### Step 4: Testing\n",
        "\n",
        "We will create a few test binary trees, including the one provided, and use them to test our implementation.\n",
        "\n",
        "Let's start by implementing the binary tree and the function to find the minimum path sum.\n",
        "\n",
        "The implementation successfully finds the minimum path sum in the given binary tree. For the provided example tree, the minimum path sum is 15, and the path corresponding to this sum is \\([10, 5, 1, -1]\\), as expected. The graphical representation of the tree is also displayed above.\n",
        "\n",
        "Now, let's proceed to test our implementation with additional binary trees. We will create a few test cases and visually represent each tree along with its minimum path sum. This will help in verifying the correctness of our implementation in different scenarios. Let's proceed with the testing phase.\n",
        "\n",
        "The testing phase has been successfully completed with different test cases:\n",
        "\n",
        "1. **Test Case 1**: A tree with only left children.\n",
        "   - Minimum Path Sum: 6\n",
        "   - Path: \\([3, 2, 1]\\)\n",
        "\n",
        "2. **Test Case 2**: A tree with only right children.\n",
        "   - Minimum Path Sum: 12\n",
        "   - Path: \\([3, 4, 5]\\)\n",
        "\n",
        "3. **Test Case 3**: A more complex tree.\n",
        "   - Minimum Path Sum: 8\n",
        "   - Path: \\([1, 2, 5]\\)\n",
        "\n",
        "In each case, the graphical representation of the tree and the calculated minimum path sum with the corresponding path were displayed. This confirms that our implementation for finding the minimum path sum from the root to a leaf in a binary tree works correctly across various tree structures."
      ],
      "metadata": {
        "id": "L8b4i6xtAF-F"
      }
    },
    {
      "cell_type": "markdown",
      "source": [
        "##Implementation:"
      ],
      "metadata": {
        "id": "EhPJO3z7AT38"
      }
    },
    {
      "cell_type": "code",
      "source": [
        "import networkx as nx\n",
        "import matplotlib.pyplot as plt\n",
        "import uuid\n",
        "\n",
        "class TreeNode:\n",
        "    \"\"\"Binary Tree Node with a unique identifier.\"\"\"\n",
        "    def __init__(self, x):\n",
        "        self.val = x\n",
        "        self.id = uuid.uuid4()  # Unique identifier\n",
        "        self.left = None\n",
        "        self.right = None\n",
        "\n",
        "def find_min_path_sum(root):\n",
        "    \"\"\"Find the minimum path sum from root to leaf in a binary tree.\"\"\"\n",
        "    if root is None:\n",
        "        return float('inf'), []\n",
        "\n",
        "    if root.left is None and root.right is None:\n",
        "        return root.val, [root.val]\n",
        "\n",
        "    left_sum, left_path = find_min_path_sum(root.left)\n",
        "    right_sum, right_path = find_min_path_sum(root.right)\n",
        "\n",
        "    if left_sum < right_sum:\n",
        "        return left_sum + root.val, [root.val] + left_path\n",
        "    else:\n",
        "        return right_sum + root.val, [root.val] + right_path\n",
        "\n",
        "def display_tree(root):\n",
        "    \"\"\"Display a binary tree graphically using networkx and matplotlib.\"\"\"\n",
        "    def add_nodes_edges(root, graph, pos, x=0, y=0, level=1):\n",
        "        if root is not None:\n",
        "            graph.add_node(root.id, label=root.val, pos=(x, y))\n",
        "            if root.left:\n",
        "                graph.add_edge(root.id, root.left.id)\n",
        "                add_nodes_edges(root.left, graph, pos, x - 1 / level, y - 1, level + 1)\n",
        "            if root.right:\n",
        "                graph.add_edge(root.id, root.right.id)\n",
        "                add_nodes_edges(root.right, graph, pos, x + 1 / level, y - 1, level + 1)\n",
        "\n",
        "    graph = nx.DiGraph()\n",
        "    pos = {}\n",
        "    add_nodes_edges(root, graph, pos)\n",
        "\n",
        "    pos = nx.get_node_attributes(graph, 'pos')\n",
        "    labels = nx.get_node_attributes(graph, 'label')\n",
        "    nx.draw(graph, pos, labels=labels, with_labels=True, arrows=False)\n",
        "    plt.show()\n",
        "\n",
        "# Test Function\n",
        "def test_and_display(root):\n",
        "    display_tree(root)\n",
        "    min_sum, min_path = find_min_path_sum(root)\n",
        "    print(f\"Minimum Path Sum: {min_sum}, Path: {min_path}\")\n",
        "\n",
        "# Example Tree\n",
        "root = TreeNode(10)\n",
        "root.left = TreeNode(5)\n",
        "root.right = TreeNode(5)\n",
        "root.left.right = TreeNode(2)\n",
        "root.right.right = TreeNode(1)\n",
        "root.right.right.left = TreeNode(-1)\n",
        "\n",
        "# Test and Display Example Tree\n",
        "test_and_display(root)\n"
      ],
      "metadata": {
        "colab": {
          "base_uri": "https://localhost:8080/",
          "height": 533
        },
        "id": "ouxhGsZCBBFc",
        "outputId": "d4ce3789-fb41-453d-d3f5-af9d59ac606f"
      },
      "execution_count": 4,
      "outputs": [
        {
          "output_type": "display_data",
          "data": {
            "text/plain": [
              "<Figure size 640x480 with 1 Axes>"
            ],
            "image/png": "[encoded data removed]"
          },
          "metadata": {}
        },
        {
          "output_type": "stream",
          "name": "stdout",
          "text": [
            "Minimum Path Sum: 15, Path: [10, 5, 1, -1]\n"
          ]
        }
      ]
    },
    {
      "cell_type": "code",
      "source": [
        "# Test Case 1: A tree with only left children\n",
        "root1 = TreeNode(3)\n",
        "root1.left = TreeNode(2)\n",
        "root1.left.left = TreeNode(1)\n",
        "\n",
        "# Test Case 2: A tree with only right children\n",
        "root2 = TreeNode(3)\n",
        "root2.right = TreeNode(4)\n",
        "root2.right.right = TreeNode(5)\n",
        "\n",
        "# Test Case 3: A more complex tree\n",
        "root3 = TreeNode(1)\n",
        "root3.left = TreeNode(2)\n",
        "root3.right = TreeNode(3)\n",
        "root3.left.left = TreeNode(4)\n",
        "root3.left.right = TreeNode(5)\n",
        "root3.right.left = TreeNode(6)\n",
        "root3.right.right = TreeNode(7)\n",
        "root3.left.left.left = TreeNode(8)\n",
        "\n",
        "# Function to test and display results\n",
        "def test_and_display(root):\n",
        "    display_tree(root)\n",
        "    min_sum, min_path = find_min_path_sum(root)\n",
        "    print(f\"Minimum Path Sum: {min_sum}, Path: {min_path}\")\n",
        "\n",
        "# Test and display results for each test case\n",
        "print(\"Test Case 1:\")\n",
        "test_and_display(root1)\n",
        "\n",
        "print(\"Test Case 2:\")\n",
        "test_and_display(root2)\n",
        "\n",
        "print(\"Test Case 3:\")\n",
        "test_and_display(root3)\n"
      ],
      "metadata": {
        "colab": {
          "base_uri": "https://localhost:8080/",
          "height": 1000
        },
        "id": "0pEZkpWxBR7i",
        "outputId": "f42e4e2c-ae57-4cb8-ac7c-e3ce4f52a842"
      },
      "execution_count": 5,
      "outputs": [
        {
          "output_type": "stream",
          "name": "stdout",
          "text": [
            "Test Case 1:\n"
          ]
        },
        {
          "output_type": "display_data",
          "data": {
            "text/plain": [
              "<Figure size 640x480 with 1 Axes>"
            ],
            "image/png": "[encoded data removed]"
          },
          "metadata": {}
        },
        {
          "output_type": "stream",
          "name": "stdout",
          "text": [
            "Minimum Path Sum: 6, Path: [3, 2, 1]\n",
            "Test Case 2:\n"
          ]
        },
        {
          "output_type": "display_data",
          "data": {
            "text/plain": [
              "<Figure size 640x480 with 1 Axes>"
            ],
            "image/png": "[encoded data removed]"
          },
          "metadata": {}
        },
        {
          "output_type": "stream",
          "name": "stdout",
          "text": [
            "Minimum Path Sum: 12, Path: [3, 4, 5]\n",
            "Test Case 3:\n"
          ]
        },
        {
          "output_type": "display_data",
          "data": {
            "text/plain": [
              "<Figure size 640x480 with 1 Axes>"
            ],
            "image/png": "[encoded data removed]"
          },
          "metadata": {}
        },
        {
          "output_type": "stream",
          "name": "stdout",
          "text": [
            "Minimum Path Sum: 8, Path: [1, 2, 5]\n"
          ]
        }
      ]
    }
  ]
}