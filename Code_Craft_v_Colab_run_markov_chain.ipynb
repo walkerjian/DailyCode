{
  "nbformat": 4,
  "nbformat_minor": 0,
  "metadata": {
    "colab": {
      "provenance": [],
      "authorship_tag": "ABX9TyMDjSSvJlgHrircBWAmICX4",
      "include_colab_link": true
    },
    "kernelspec": {
      "name": "python3",
      "display_name": "Python 3"
    },
    "language_info": {
      "name": "python"
    }
  },
  "cells": [
    {
      "cell_type": "markdown",
      "metadata": {
        "id": "view-in-github",
        "colab_type": "text"
      },
      "source": [
        "<a href=\"https://colab.research.google.com/github/walkerjian/DailyCode/blob/main/Code_Craft_v_Colab_run_markov_chain.ipynb\" target=\"_parent\"><img src=\"https://colab.research.google.com/assets/colab-badge.svg\" alt=\"Open In Colab\"/></a>"
      ]
    },
    {
      "cell_type": "markdown",
      "source": [
        "##Problem:\n",
        "You are given a starting state start, a list of transition probabilities for a Markov chain, and a number of steps num_steps. Run the Markov chain starting from start for num_steps and compute the number of times we visited each state.\n",
        "\n",
        "For example, given the starting state a, number of steps 5000, and the following transition probabilities:\n",
        "```\n",
        "[\n",
        "  ('a', 'a', 0.9),\n",
        "  ('a', 'b', 0.075),\n",
        "  ('a', 'c', 0.025),\n",
        "  ('b', 'a', 0.15),\n",
        "  ('b', 'b', 0.8),\n",
        "  ('b', 'c', 0.05),\n",
        "  ('c', 'a', 0.25),\n",
        "  ('c', 'b', 0.25),\n",
        "  ('c', 'c', 0.5)\n",
        "]\n",
        "```\n",
        "One instance of running this Markov chain might produce { 'a': 3012, 'b': 1656, 'c': 332 }."
      ],
      "metadata": {
        "id": "2lWyrXjB8EeD"
      }
    },
    {
      "cell_type": "markdown",
      "source": [
        "##Solution:\n"
      ],
      "metadata": {
        "id": "jIohycTB8Hjb"
      }
    },
    {
      "cell_type": "markdown",
      "source": [
        "##Implementation:\n"
      ],
      "metadata": {
        "id": "pkWuQrLB8K8H"
      }
    },
    {
      "cell_type": "code",
      "execution_count": null,
      "metadata": {
        "id": "TIIt0l_k7Oi1"
      },
      "outputs": [],
      "source": [
        "# prompt: You are given a starting state start, a list of transition probabilities for a Markov chain, and a number of steps num_steps. Run the Markov chain starting from start for num_steps and compute the number of times we visited each state.\n",
        "# For example, given the starting state a, number of steps 5000, and the following transition probabilities:\n",
        "# ```\n",
        "# [\n",
        "#   ('a', 'a', 0.9),\n",
        "#   ('a', 'b', 0.075) ...\n",
        "\n",
        "import random\n",
        "\n",
        "def run_markov_chain(start, transition_probabilities, num_steps):\n",
        "  \"\"\"\n",
        "  Runs a Markov chain and computes the number of times each state is visited.\n",
        "\n",
        "  Args:\n",
        "    start: The starting state.\n",
        "    transition_probabilities: A list of transition probabilities.\n",
        "    num_steps: The number of steps to run the chain for.\n",
        "\n",
        "  Returns:\n",
        "    A dictionary mapping states to the number of times they were visited.\n",
        "  \"\"\"\n",
        "\n",
        "  # Create a dictionary to store the number of times each state is visited.\n",
        "  state_counts = {}\n",
        "\n",
        "  # Initialize the current state.\n",
        "  current_state = start\n",
        "\n",
        "  # Run the chain for the specified number of steps.\n",
        "  for _ in range(num_steps):\n",
        "    # Update the state counts.\n",
        "    if current_state not in state_counts:\n",
        "      state_counts[current_state] = 0\n",
        "    state_counts[current_state] += 1\n",
        "\n",
        "    # Get the possible transitions from the current state.\n",
        "    transitions = [\n",
        "      (state, probability)\n",
        "      for state, probability in transition_probabilities\n",
        "      if state[0] == current_state\n",
        "    ]\n",
        "\n",
        "    # Choose a random transition.\n",
        "    next_state = random.choices(*zip(*transitions))[0]\n",
        "\n",
        "    # Update the current state.\n",
        "    current_state = next_state\n",
        "\n",
        "  # Return the state counts.\n",
        "  return state_counts\n",
        "\n"
      ]
    },
    {
      "cell_type": "markdown",
      "source": [
        "The provided code snippet is a functional approach to simulating a Markov chain, but there are several areas for improvement and points to critique:\n",
        "\n",
        "1. **Misinterpretation of Transition Probabilities**:\n",
        "   - The comprehension inside the `for` loop attempts to filter `transition_probabilities` based on the current state but does so incorrectly. It checks if the first element of each state (`state[0]`) matches `current_state`. This is a logical error because `transition_probabilities` is expected to be a list of tuples where each tuple contains two states and a probability (from_state, to_state, probability), not (state, probability).\n",
        "   - The correct approach should involve filtering transitions based on the `from_state` matching `current_state`, and then choosing the `to_state` based on the associated probabilities.\n",
        "\n",
        "2. **Efficiency Concerns**:\n",
        "   - The code filters the transition probabilities within each iteration of the loop to find transitions available from the current state. This is inefficient, especially for a large number of steps or a large set of transition probabilities, because it repeats the same operation in every step of the simulation.\n",
        "   - A more efficient approach would preprocess `transition_probabilities` into a dictionary mapping each state to its possible transitions and associated probabilities, thus eliminating the need to filter the list in every iteration.\n",
        "\n",
        "3. **Initialization of State Counts**:\n",
        "   - The code initializes `state_counts` as an empty dictionary and then checks if `current_state` is not in `state_counts` for every iteration to initialize the count to 0. While this works, it is more efficient and cleaner to use a `defaultdict` from Python's `collections` module or to prepopulate `state_counts` with all states set to 0 counts based on the list of transitions provided.\n",
        "\n",
        "4. **Random Transition Choice**:\n",
        "   - The code uses `random.choices(*zip(*transitions))[0]` to select the next state. This is conceptually correct but relies on the previously mentioned incorrect filtering of `transitions`. Assuming `transitions` were correctly filtered to a list of (to_state, probability) pairs for the current state, this line would work as intended. However, clarity can be improved by separating the zipping and unpacking operations for better readability.\n",
        "\n",
        "5. **Lack of Validation**:\n",
        "   - The code does not validate input arguments, which could lead to errors or undefined behavior if invalid inputs are provided. For example, there's no check to ensure `transition_probabilities` contains valid transitions (i.e., probabilities sum to 1 for transitions from each state) or that `num_steps` is a positive integer.\n",
        "\n",
        "6. **Documentation**:\n",
        "   - While the function is well-documented with a docstring, the documentation could be improved by specifying the expected format of `transition_probabilities` more clearly, especially given the confusion in the implementation regarding how these probabilities are structured and used.\n",
        "\n",
        "7. **Error in the Code Comment**:\n",
        "   - The code comment is misleading because it simplifies the structure of `transition_probabilities`. A correct example inline with the implemented logic (ignoring the logical error in filtering) should detail tuples of `(from_state, to_state, probability)`.\n",
        "\n",
        "Improvements could include preprocessing transitions, using a `defaultdict`, validating inputs, and clarifying documentation and code comments to align with the intended logic and structure of `transition_probabilities`."
      ],
      "metadata": {
        "id": "DTuZbHw_R_gY"
      }
    },
    {
      "cell_type": "markdown",
      "source": [
        "##Testing:\n"
      ],
      "metadata": {
        "id": "wcaruNyfYogT"
      }
    },
    {
      "cell_type": "code",
      "source": [
        "import random\n",
        "\n",
        "def run_markov_chain(start, transitions, num_steps):\n",
        "    # Convert the transition list to a dictionary for easier access\n",
        "    transition_dict = {}\n",
        "    for from_state, to_state, prob in transitions:\n",
        "        if from_state not in transition_dict:\n",
        "            transition_dict[from_state] = []\n",
        "        transition_dict[from_state].append((to_state, prob))\n",
        "\n",
        "    # Initialize state visit counts\n",
        "    state_counts = {state: 0 for state, _, _ in transitions}\n",
        "\n",
        "    # Set initial state\n",
        "    current_state = start\n",
        "    state_counts[current_state] += 1\n",
        "\n",
        "    # Run the Markov chain for num_steps\n",
        "    for _ in range(num_steps - 1):\n",
        "        # Get the transitions for the current state\n",
        "        current_transitions = transition_dict[current_state]\n",
        "\n",
        "        # Randomly select the next state based on transition probabilities\n",
        "        states, probs = zip(*current_transitions)\n",
        "        next_state = random.choices(states, weights=probs, k=1)[0]\n",
        "\n",
        "        # Update the state count and current state\n",
        "        state_counts[next_state] += 1\n",
        "        current_state = next_state\n",
        "\n",
        "    return state_counts\n",
        "\n",
        "# Define the input parameters\n",
        "start = 'a'\n",
        "num_steps = 5000\n",
        "transitions = [\n",
        "  ('a', 'a', 0.9),\n",
        "  ('a', 'b', 0.075),\n",
        "  ('a', 'c', 0.025),\n",
        "  ('b', 'a', 0.15),\n",
        "  ('b', 'b', 0.8),\n",
        "  ('b', 'c', 0.05),\n",
        "  ('c', 'a', 0.25),\n",
        "  ('c', 'b', 0.25),\n",
        "  ('c', 'c', 0.5)\n",
        "]\n",
        "\n",
        "# Run the Markov chain simulation\n",
        "run_markov_chain(start, transitions, num_steps)\n"
      ],
      "metadata": {
        "colab": {
          "base_uri": "https://localhost:8080/"
        },
        "id": "7arfxk2ORsA8",
        "outputId": "0a4109fe-d24a-41bc-fd33-3c14a260f776"
      },
      "execution_count": null,
      "outputs": [
        {
          "output_type": "execute_result",
          "data": {
            "text/plain": [
              "{'a': 3030, 'b': 1598, 'c': 372}"
            ]
          },
          "metadata": {},
          "execution_count": 8
        }
      ]
    }
  ]
}