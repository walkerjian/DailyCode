{
  "nbformat": 4,
  "nbformat_minor": 0,
  "metadata": {
    "colab": {
      "provenance": [],
      "authorship_tag": "ABX9TyMG6DZVFUjC2IbBjTEo50dt",
      "include_colab_link": true
    },
    "kernelspec": {
      "name": "python3",
      "display_name": "Python 3"
    },
    "language_info": {
      "name": "python"
    }
  },
  "cells": [
    {
      "cell_type": "markdown",
      "metadata": {
        "id": "view-in-github",
        "colab_type": "text"
      },
      "source": [
        "<a href=\"https://colab.research.google.com/github/walkerjian/DailyCode/blob/main/FruityTree2.ipynb\" target=\"_parent\"><img src=\"https://colab.research.google.com/assets/colab-badge.svg\" alt=\"Open In Colab\"/></a>"
      ]
    },
    {
      "cell_type": "code",
      "execution_count": 1,
      "metadata": {
        "colab": {
          "base_uri": "https://localhost:8080/"
        },
        "id": "s7FaxkByfWXI",
        "outputId": "fe425589-d5af-4be9-d191-c58b4a4e5d42"
      },
      "outputs": [
        {
          "output_type": "stream",
          "name": "stdout",
          "text": [
            "Original tree:\n",
            "  🍇\n",
            "    🍍\n",
            "🍎\n",
            "    🍒\n",
            "  🍌\n",
            "    🍓\n",
            "Inverting tree...\n",
            "Inverted tree:\n",
            "    🍓\n",
            "  🍌\n",
            "    🍒\n",
            "🍎\n",
            "    🍍\n",
            "  🍇\n"
          ]
        }
      ],
      "source": [
        "class TreeNode:\n",
        "    \"\"\"\n",
        "    A class representing a node in a binary tree.\n",
        "    \"\"\"\n",
        "    def __init__(self, x):\n",
        "        \"\"\"\n",
        "        Initializes a tree node with a value and two children.\n",
        "        \"\"\"\n",
        "        self.val = x  # The value stored in the node.\n",
        "        self.left = None  # The node's left child.\n",
        "        self.right = None  # The node's right child.\n",
        "\n",
        "def invert_tree(node):\n",
        "    \"\"\"\n",
        "    Inverts a binary tree.\n",
        "\n",
        "    This function works by recursively swapping the left and right children of each node in the tree.\n",
        "\n",
        "    Args:\n",
        "        node (TreeNode): The root of the tree to invert.\n",
        "\n",
        "    Returns:\n",
        "        TreeNode: The root of the inverted tree.\n",
        "\n",
        "    Time complexity: O(n), where n is the number of nodes in the tree. This is because the function visits each node exactly once.\n",
        "    Space complexity: O(n), because in the worst case, if the tree is skewed, the function could end up storing up to n recursive calls on the call stack. In the average case, if the tree is balanced, the space complexity is O(log n), where log n is the height of the tree.\n",
        "    \"\"\"\n",
        "    if node is None:\n",
        "        # If the node is None, we have reached a leaf node and we return None.\n",
        "        return None\n",
        "\n",
        "    # Swap the left and right child of the node.\n",
        "    node.left, node.right = node.right, node.left\n",
        "\n",
        "    # Recursively invert the left and right subtree.\n",
        "    invert_tree(node.left)\n",
        "    invert_tree(node.right)\n",
        "\n",
        "    # Return the root of the inverted tree.\n",
        "    return node\n",
        "\n",
        "def print_tree(node, level=0):\n",
        "    \"\"\"\n",
        "    Prints the binary tree.\n",
        "\n",
        "    Args:\n",
        "        node (TreeNode): The root of the tree to print.\n",
        "        level (int): The current level of the tree. This is used for indentation.\n",
        "    \"\"\"\n",
        "    if node is not None:\n",
        "        print_tree(node.right, level + 1)\n",
        "        print('  ' * level + node.val)\n",
        "        print_tree(node.left, level + 1)\n",
        "\n",
        "# Test case\n",
        "root = TreeNode('🍎')\n",
        "root.left = TreeNode('🍌')\n",
        "root.right = TreeNode('🍇')\n",
        "root.left.left = TreeNode('🍓')\n",
        "root.left.right = TreeNode('🍒')\n",
        "root.right.left = TreeNode('🍍')\n",
        "\n",
        "print(\"Original tree:\")\n",
        "print_tree(root)\n",
        "\n",
        "print(\"Inverting tree...\")\n",
        "invert_tree(root)\n",
        "\n",
        "print(\"Inverted tree:\")\n",
        "print_tree(root)\n"
      ]
    }
  ]
}