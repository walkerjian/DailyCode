{
  "nbformat": 4,
  "nbformat_minor": 0,
  "metadata": {
    "colab": {
      "provenance": [],
      "authorship_tag": "ABX9TyOOy4B2fxuYWOE0OcxrNioc",
      "include_colab_link": true
    },
    "kernelspec": {
      "name": "python3",
      "display_name": "Python 3"
    },
    "language_info": {
      "name": "python"
    }
  },
  "cells": [
    {
      "cell_type": "markdown",
      "metadata": {
        "id": "view-in-github",
        "colab_type": "text"
      },
      "source": [
        "<a href=\"https://colab.research.google.com/github/walkerjian/DailyCode/blob/main/Code_Craft_get_pascals_triangle_row.ipynb\" target=\"_parent\"><img src=\"https://colab.research.google.com/assets/colab-badge.svg\" alt=\"Open In Colab\"/></a>"
      ]
    },
    {
      "cell_type": "markdown",
      "source": [
        "Pascal's triangle is a triangular array of integers constructed with the following formula:\n",
        "\n",
        "The first row consists of the number 1.\n",
        "For each subsequent row, each element is the sum of the numbers directly above it, on either side.\n",
        "For example, here are the first few rows:\n",
        "\n",
        "````\n",
        "    1\n",
        "   1 1\n",
        "  1 2 1\n",
        " 1 3 3 1\n",
        "1 4 6 4 1\n",
        "````\n",
        "\n",
        "Given an input k, return the kth row of Pascal's triangle.\n",
        "\n",
        "Bonus: Can you do this using only $O(k)$ space?"
      ],
      "metadata": {
        "id": "LQRl8dPE4zUP"
      }
    },
    {
      "cell_type": "markdown",
      "source": [
        "To generate the $k$th row of Pascal's triangle using $O(k)$ space, we can use an iterative approach. Instead of constructing the entire triangle, we'll directly compute the desired row. Here’s a step-by-step method to achieve this:\n",
        "\n",
        "1. **Initialize the row**: Start with an array containing a single element `1` which represents the first element of the $k$th row.\n",
        "2. **Iterate through each row up to $k$**: For each row, compute the next elements using the elements from the previous row.\n",
        "3. **Update the row in place**: To ensure we use only $O(k)$ space, update the row from right to left to avoid overwriting the values that are still needed.\n",
        "\n",
        "Explanantion:\n",
        "1. **Initialization**:\n",
        "   - Start with `row = [1]`, representing the first row.\n",
        "\n",
        "2. **Iteration**:\n",
        "   - For each row up to $k$, append `0` to the row. This helps in the calculation as it doesn't affect the sum when adding the previous element.\n",
        "   - Update the row from right to left. This ensures that the current value of `row[j]` is not overwritten before it is used to compute `row[j + 1]`.\n",
        "\n",
        "3. **Updating in place**:\n",
        "   - By iterating from the end of the list to the beginning, we ensure that each value is updated only after it has been used to update the subsequent value.\n",
        "\n",
        "Example for $k = 4$:\n",
        "\n",
        "1. **Initialization**:\n",
        "   - `row = [1]`\n",
        "\n",
        "2. **First Iteration**:\n",
        "   - Append 0: `row = [1, 0]`\n",
        "   - Update: `row = [1, 1]`\n",
        "\n",
        "3. **Second Iteration**:\n",
        "   - Append 0: `row = [1, 1, 0]`\n",
        "   - Update: `row = [1, 2, 1]`\n",
        "\n",
        "4. **Third Iteration**:\n",
        "   - Append 0: `row = [1, 2, 1, 0]`\n",
        "   - Update: `row = [1, 3, 3, 1]`\n",
        "\n",
        "5. **Fourth Iteration**:\n",
        "   - Append 0: `row = [1, 3, 3, 1, 0]`\n",
        "   - Update: `row = [1, 4, 6, 4, 1]`\n",
        "\n",
        "This process ensures that the function uses only $O(k)$ space and computes the $k$th row efficiently."
      ],
      "metadata": {
        "id": "bit5CzVj47Mb"
      }
    },
    {
      "cell_type": "code",
      "execution_count": 1,
      "metadata": {
        "colab": {
          "base_uri": "https://localhost:8080/"
        },
        "id": "Wx3vcjxu4yVm",
        "outputId": "805781ee-373a-42cf-b58f-6855e34a7108"
      },
      "outputs": [
        {
          "output_type": "stream",
          "name": "stdout",
          "text": [
            "[1, 4, 6, 4, 1]\n"
          ]
        }
      ],
      "source": [
        "def get_pascals_triangle_row(k):\n",
        "    row = [1]  # The 0th row is [1]\n",
        "    for _ in range(k):\n",
        "        # Append 0 to the row to help in calculation\n",
        "        row.append(0)\n",
        "        # Update the row values from right to left\n",
        "        for j in range(len(row) - 1, 0, -1):\n",
        "            row[j] += row[j - 1]\n",
        "    return row\n",
        "\n",
        "# Example usage:\n",
        "k = 4\n",
        "print(get_pascals_triangle_row(k))"
      ]
    }
  ]
}