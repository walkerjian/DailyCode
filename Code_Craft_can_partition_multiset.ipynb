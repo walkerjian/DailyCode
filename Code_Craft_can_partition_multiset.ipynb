{
  "nbformat": 4,
  "nbformat_minor": 0,
  "metadata": {
    "colab": {
      "provenance": [],
      "authorship_tag": "ABX9TyPk+X1FCVVfP8Yl/92Q+H16",
      "include_colab_link": true
    },
    "kernelspec": {
      "name": "python3",
      "display_name": "Python 3"
    },
    "language_info": {
      "name": "python"
    }
  },
  "cells": [
    {
      "cell_type": "markdown",
      "metadata": {
        "id": "view-in-github",
        "colab_type": "text"
      },
      "source": [
        "<a href=\"https://colab.research.google.com/github/walkerjian/DailyCode/blob/main/Code_Craft_can_partition_multiset.ipynb\" target=\"_parent\"><img src=\"https://colab.research.google.com/assets/colab-badge.svg\" alt=\"Open In Colab\"/></a>"
      ]
    },
    {
      "cell_type": "markdown",
      "source": [
        "##Problem:\n",
        "Given a multiset of integers, return whether it can be partitioned into two subsets whose sums are the same.\n",
        "\n",
        "For example, given the multiset {15, 5, 20, 10, 35, 15, 10}, it would return true, since we can split it up into {15, 5, 10, 15, 10} and {20, 35}, which both add up to 55.\n",
        "\n",
        "Given the multiset {15, 5, 20, 10, 35}, it would return false, since we can't split it up into two subsets that add up to the same sum."
      ],
      "metadata": {
        "id": "K3PUWFC3fsOJ"
      }
    },
    {
      "cell_type": "markdown",
      "source": [
        "##Solution:\n",
        "To solve this problem, we can use a technique called dynamic programming. The key idea is to determine if there's a subset within the multiset that sums up to half of the total sum of all the elements. If such a subset exists, it means the remaining elements also sum up to the same value, thus allowing the multiset to be partitioned into two subsets with equal sums.\n",
        "\n",
        "Here's the approach in detail:\n",
        "1. Calculate the total sum of all elements in the multiset.\n",
        "2. If the total sum is odd, it's impossible to partition the set into two subsets with equal sum, so we return false.\n",
        "3. If the sum is even, we check if there's a subset that sums up to half of the total sum using dynamic programming.\n",
        "4. This is akin to solving a 0/1 knapsack problem where we try to find if there's a combination of numbers that sums up to a specific target (half of the total sum in this case).\n"
      ],
      "metadata": {
        "id": "DEXRyzbMf1MN"
      }
    },
    {
      "cell_type": "markdown",
      "source": [
        "##Implementation:"
      ],
      "metadata": {
        "id": "ef7_NxIdf3ti"
      }
    },
    {
      "cell_type": "code",
      "execution_count": 1,
      "metadata": {
        "colab": {
          "base_uri": "https://localhost:8080/"
        },
        "id": "zPlwLDLxfrdD",
        "outputId": "9a3fcd1f-b12f-4270-fff2-883e66791366"
      },
      "outputs": [
        {
          "output_type": "execute_result",
          "data": {
            "text/plain": [
              "(True, False)"
            ]
          },
          "metadata": {},
          "execution_count": 1
        }
      ],
      "source": [
        "def can_partition_multiset(multiset):\n",
        "    total_sum = sum(multiset)\n",
        "\n",
        "    # If total sum is odd, cannot be partitioned into two equal subsets\n",
        "    if total_sum % 2 != 0:\n",
        "        return False\n",
        "\n",
        "    target = total_sum // 2\n",
        "    n = len(multiset)\n",
        "\n",
        "    # Dynamic programming table, dp[i][j] will be True if a subset with sum j can be formed from first i numbers\n",
        "    dp = [[False for _ in range(target + 1)] for _ in range(n + 1)]\n",
        "\n",
        "    # Initializing the first column as True, as 0 sum is possible with all elements\n",
        "    for i in range(n + 1):\n",
        "        dp[i][0] = True\n",
        "\n",
        "    # Fill the partition table\n",
        "    for i in range(1, n + 1):\n",
        "        for j in range(1, target + 1):\n",
        "            # If current element is greater than the current target sum, we can't include it\n",
        "            if multiset[i - 1] > j:\n",
        "                dp[i][j] = dp[i - 1][j]\n",
        "            else:\n",
        "                # Otherwise, we check if the sum can be achieved either by including or excluding the current element\n",
        "                dp[i][j] = dp[i - 1][j] or dp[i - 1][j - multiset[i - 1]]\n",
        "\n",
        "    return dp[n][target]\n",
        "\n",
        "# Test the function with the provided examples\n",
        "multiset1 = [15, 5, 20, 10, 35, 15, 10]\n",
        "multiset2 = [15, 5, 20, 10, 35]\n",
        "\n",
        "result1 = can_partition_multiset(multiset1)\n",
        "result2 = can_partition_multiset(multiset2)\n",
        "\n",
        "result1, result2"
      ]
    },
    {
      "cell_type": "markdown",
      "source": [
        "The function correctly determined that the multiset \\{15, 5, 20, 10, 35, 15, 10\\} can be partitioned into two subsets with equal sums, while the multiset \\{15, 5, 20, 10, 35\\} cannot be so partitioned. This demonstrates the effectiveness of the dynamic programming approach for solving such partition problems."
      ],
      "metadata": {
        "id": "os92AuDEgY24"
      }
    }
  ]
}