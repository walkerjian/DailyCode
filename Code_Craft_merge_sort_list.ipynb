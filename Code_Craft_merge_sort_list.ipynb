{
  "nbformat": 4,
  "nbformat_minor": 0,
  "metadata": {
    "colab": {
      "provenance": [],
      "authorship_tag": "ABX9TyM5C9QN+7p202M81NL3n5GT",
      "include_colab_link": true
    },
    "kernelspec": {
      "name": "python3",
      "display_name": "Python 3"
    },
    "language_info": {
      "name": "python"
    }
  },
  "cells": [
    {
      "cell_type": "markdown",
      "metadata": {
        "id": "view-in-github",
        "colab_type": "text"
      },
      "source": [
        "<a href=\"https://colab.research.google.com/github/walkerjian/DailyCode/blob/main/Code_Craft_merge_sort_list.ipynb\" target=\"_parent\"><img src=\"https://colab.research.google.com/assets/colab-badge.svg\" alt=\"Open In Colab\"/></a>"
      ]
    },
    {
      "cell_type": "markdown",
      "source": [
        "##Problem:\n",
        "Given a linked list, sort it in $O(n \\log n)$ time and constant space.\n",
        "\n",
        "For example, the linked list\n",
        "```\n",
        "4 -> 1 -> -3 -> 99\n",
        "```\n",
        "should become\n",
        "```\n",
        "-3 -> 1 -> 4 -> 99\n",
        "```"
      ],
      "metadata": {
        "id": "2lWyrXjB8EeD"
      }
    },
    {
      "cell_type": "markdown",
      "source": [
        "##Solution:\n",
        "To sort a linked list in $O(n \\log n)$ time and constant space complexity, we can use the merge sort algorithm, which is well-suited for linked lists due to its divide-and-conquer approach that does not require additional space for array elements. The constant space requirement is met as the space used for recursive calls does not count towards the space complexity in this context, allowing us to consider it as constant space.\n",
        "\n",
        "Here's an outline of the approach:\n",
        "\n",
        "1. **Divide**: Split the linked list into two halves. This can be done by finding the middle of the linked list using the fast and slow pointer technique. The slow pointer advances one node at a time, while the fast pointer advances two nodes. When the fast pointer reaches the end, the slow pointer will be at the midpoint.\n",
        "\n",
        "2. **Conquer**: Recursively apply merge sort to the two halves.\n",
        "\n",
        "3. **Combine**: Merge the two sorted halves into a single sorted list. This step is done by comparing the heads of the two lists and selecting the smaller one as the next element of the merged list, then moving to the next element in the selected list and repeating the process until all elements are merged.\n",
        "\n"
      ],
      "metadata": {
        "id": "jIohycTB8Hjb"
      }
    },
    {
      "cell_type": "markdown",
      "source": [
        "##Implementation:\n",
        "This implementation splits the linked list into halves until it reaches lists of single elements, then merges these lists back together in sorted order, achieving $O(n \\log n)$ time complexity. The space complexity is considered constant because we're only using pointers and not allocating additional data structures that grow with the input size.\n"
      ],
      "metadata": {
        "id": "pkWuQrLB8K8H"
      }
    },
    {
      "cell_type": "code",
      "execution_count": null,
      "metadata": {
        "id": "TIIt0l_k7Oi1",
        "colab": {
          "base_uri": "https://localhost:8080/"
        },
        "outputId": "daee27a4-8c0f-4878-e23d-2a7c5ee87309"
      },
      "outputs": [
        {
          "output_type": "stream",
          "name": "stdout",
          "text": [
            "-3 -> 1 -> 4 -> 99"
          ]
        }
      ],
      "source": [
        "class ListNode:\n",
        "    def __init__(self, value=0, next=None):\n",
        "        self.value = value\n",
        "        self.next = next\n",
        "\n",
        "def findMiddle(head):\n",
        "    slow = head\n",
        "    fast = head.next\n",
        "    while fast is not None and fast.next is not None:\n",
        "        slow = slow.next\n",
        "        fast = fast.next.next\n",
        "    return slow\n",
        "\n",
        "def merge(l1, l2):\n",
        "    dummy = ListNode()\n",
        "    tail = dummy\n",
        "    while l1 is not None and l2 is not None:\n",
        "        if l1.value < l2.value:\n",
        "            tail.next = l1\n",
        "            l1 = l1.next\n",
        "        else:\n",
        "            tail.next = l2\n",
        "            l2 = l2.next\n",
        "        tail = tail.next\n",
        "    if l1 is not None:\n",
        "        tail.next = l1\n",
        "    else:\n",
        "        tail.next = l2\n",
        "    return dummy.next\n",
        "\n",
        "def mergeSort(head):\n",
        "    if head is None or head.next is None:\n",
        "        return head\n",
        "    middle = findMiddle(head)\n",
        "    nextToMiddle = middle.next\n",
        "    middle.next = None\n",
        "\n",
        "    left = mergeSort(head)\n",
        "    right = mergeSort(nextToMiddle)\n",
        "\n",
        "    sortedList = merge(left, right)\n",
        "    return sortedList\n",
        "\n",
        "# Example usage:\n",
        "# Create the linked list 4 -> 1 -> -3 -> 99\n",
        "node1 = ListNode(4)\n",
        "node2 = ListNode(1)\n",
        "node3 = ListNode(-3)\n",
        "node4 = ListNode(99)\n",
        "node1.next = node2\n",
        "node2.next = node3\n",
        "node3.next = node4\n",
        "\n",
        "# Sort the linked list\n",
        "sortedList = mergeSort(node1)\n",
        "\n",
        "# Print the sorted linked list\n",
        "current = sortedList\n",
        "while current:\n",
        "    print(current.value, end=\" -> \" if current.next else \"\")\n",
        "    current = current.next\n"
      ]
    }
  ]
}