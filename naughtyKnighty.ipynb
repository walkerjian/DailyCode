{
  "nbformat": 4,
  "nbformat_minor": 0,
  "metadata": {
    "colab": {
      "provenance": [],
      "authorship_tag": "ABX9TyMznAEd+OlFB7FOa93Va6Fa",
      "include_colab_link": true
    },
    "kernelspec": {
      "name": "python3",
      "display_name": "Python 3"
    },
    "language_info": {
      "name": "python"
    }
  },
  "cells": [
    {
      "cell_type": "markdown",
      "metadata": {
        "id": "view-in-github",
        "colab_type": "text"
      },
      "source": [
        "<a href=\"https://colab.research.google.com/github/walkerjian/DailyCode/blob/main/naughtyKnighty.ipynb\" target=\"_parent\"><img src=\"https://colab.research.google.com/assets/colab-badge.svg\" alt=\"Open In Colab\"/></a>"
      ]
    },
    {
      "cell_type": "code",
      "execution_count": 1,
      "metadata": {
        "colab": {
          "base_uri": "https://localhost:8080/"
        },
        "id": "8HLPslLEDN20",
        "outputId": "23f926bc-e0f1-4620-9f5e-486999b453a3"
      },
      "outputs": [
        {
          "output_type": "execute_result",
          "data": {
            "text/plain": [
              "1"
            ]
          },
          "metadata": {},
          "execution_count": 1
        }
      ],
      "source": [
        "def knight_tours_count(N):\n",
        "    \"\"\"\n",
        "    Returns the number of knight's tours on an N x N chessboard.\n",
        "\n",
        "    The problem is solved using a depth-first search (DFS) algorithm and backtracking.\n",
        "    The function tries all possible moves from a given position and then backtracks\n",
        "    if it ends up in a position where there are no valid moves left.\n",
        "\n",
        "    Parameters:\n",
        "    N (int): The size of the chessboard.\n",
        "\n",
        "    Returns:\n",
        "    int: The number of knight's tours.\n",
        "    \"\"\"\n",
        "\n",
        "    # Moves that a knight can make\n",
        "    moves = [(2, 1), (1, 2), (-1, 2), (-2, 1), (-2, -1), (-1, -2), (1, -2), (2, -1)]\n",
        "\n",
        "    # Initialize the chessboard\n",
        "    board = [[0]*N for _ in range(N)]\n",
        "    tours = 0\n",
        "\n",
        "    def is_valid_move(x, y):\n",
        "        \"\"\"\n",
        "        Check if a move is valid (i.e., within the board and not visited yet).\n",
        "        \"\"\"\n",
        "        return 0 <= x < N and 0 <= y < N and board[x][y] == 0\n",
        "\n",
        "    def tour_from(x, y, visited):\n",
        "        \"\"\"\n",
        "        Try to start a tour from the cell (x, y).\n",
        "        \"\"\"\n",
        "        nonlocal tours\n",
        "\n",
        "        # If all cells have been visited, we've found a tour\n",
        "        if visited == N*N:\n",
        "            tours += 1\n",
        "            return\n",
        "\n",
        "        # Try all possible moves\n",
        "        for dx, dy in moves:\n",
        "            nx, ny = x + dx, y + dy\n",
        "            if is_valid_move(nx, ny):\n",
        "                board[nx][ny] = visited + 1  # Mark the cell as visited\n",
        "                tour_from(nx, ny, visited + 1)  # Continue the tour from the new cell\n",
        "                board[nx][ny] = 0  # Backtrack\n",
        "\n",
        "    # Try to start a tour from each cell\n",
        "    for i in range(N):\n",
        "        for j in range(N):\n",
        "            board[i][j] = 1\n",
        "            tour_from(i, j, 1)\n",
        "            board[i][j] = 0\n",
        "\n",
        "    return tours\n",
        "\n",
        "knight_tours_count(1)  # for a 1x1 board, there's only 1 tour (no move is needed)\n"
      ]
    },
    {
      "cell_type": "code",
      "source": [
        "test_cases = [2, 3, 4, 5]\n",
        "results = []\n",
        "\n",
        "for N in test_cases:\n",
        "    result = knight_tours_count(N)\n",
        "    results.append((N, result))\n",
        "\n",
        "results\n"
      ],
      "metadata": {
        "colab": {
          "base_uri": "https://localhost:8080/"
        },
        "id": "DHui_ZnkDd-2",
        "outputId": "91e55c8b-70c7-41f3-e291-6d31134e76b4"
      },
      "execution_count": 2,
      "outputs": [
        {
          "output_type": "execute_result",
          "data": {
            "text/plain": [
              "[(2, 0), (3, 0), (4, 0), (5, 1728)]"
            ]
          },
          "metadata": {},
          "execution_count": 2
        }
      ]
    },
    {
      "cell_type": "code",
      "source": [
        "def warnsdorffs_knight_tour(N):\n",
        "    # Directions the Knight can move\n",
        "    moves = [(2, 1), (1, 2), (-1, 2), (-2, 1), (-2, -1), (-1, -2), (1, -2), (2, -1)]\n",
        "\n",
        "    # Initialize the board\n",
        "    board = [[0]*N for _ in range(N)]\n",
        "    tours = 0\n",
        "\n",
        "    def is_valid_move(x, y):\n",
        "        return 0 <= x < N and 0 <= y < N and board[x][y] == 0\n",
        "\n",
        "    def get_valid_moves(x, y):\n",
        "        valid_moves = [(x + dx, y + dy) for dx, dy in moves if is_valid_move(x + dx, y + dy)]\n",
        "        return valid_moves\n",
        "\n",
        "    def warnsdorffs_rule(x, y, visited):\n",
        "        nonlocal tours\n",
        "\n",
        "        if visited == N*N:\n",
        "            tours += 1\n",
        "            return\n",
        "\n",
        "        # Get the valid moves\n",
        "        valid_moves = get_valid_moves(x, y)\n",
        "\n",
        "        # Sort the valid moves according to the Warnsdorff's rule\n",
        "        valid_moves.sort(key=lambda pos: len(get_valid_moves(*pos)))\n",
        "\n",
        "        for nx, ny in valid_moves:\n",
        "            board[nx][ny] = visited + 1\n",
        "            warnsdorffs_rule(nx, ny, visited + 1)\n",
        "            board[nx][ny] = 0\n",
        "\n",
        "    for i in range(N):\n",
        "        for j in range(N):\n",
        "            board[i][j] = 1\n",
        "            warnsdorffs_rule(i, j, 1)\n",
        "            board[i][j] = 0\n",
        "\n",
        "    return tours\n"
      ],
      "metadata": {
        "id": "HZahFiXbEqCj"
      },
      "execution_count": null,
      "outputs": []
    },
    {
      "cell_type": "code",
      "source": [
        "def test_warnsdorffs_knight_tour():\n",
        "    for N in range(1, 5):\n",
        "        tour = warnsdorffs_knight_tour(N)\n",
        "        if N == 1:\n",
        "            assert tour == [(0, 0)], \"The only valid tour for a 1x1 board is the starting position itself\"\n",
        "        elif N in [2, 3]:\n",
        "            assert tour is None, \"There are no possible tours for a 2x2 or 3x3 board\"\n",
        "        else:\n",
        "            assert len(tour) == N*N, \"The tour should cover all squares\"\n",
        "            assert len(set(tour)) == N*N, \"The tour should visit each square exactly once\"\n",
        "            all_squares = [(i, j) for i in range(N) for j in range(N)]\n",
        "            assert all(square in tour for square in all_squares), \"The tour should visit all squares\"\n",
        "            for i in range(len(tour) - 1):\n",
        "                dx, dy = abs(tour[i][0] - tour[i+1][0]), abs(tour[i][1] - tour[i+1][1])\n",
        "                assert (dx, dy) in [(2, 1), (1, 2)], \"Each move should be a valid Knight's move\"\n"
      ],
      "metadata": {
        "id": "P5ANrdMAFNoq"
      },
      "execution_count": 4,
      "outputs": []
    },
    {
      "cell_type": "code",
      "source": [
        "def test_warnsdorffs_knight_tour():\n",
        "    for N in range(1, 5):\n",
        "        print(f\"Testing for N = {N}\")\n",
        "        tour = warnsdorffs_knight_tour(N)\n",
        "        if N == 1:\n",
        "            print(f\"Expected: [(0, 0)], Got: {tour}\")\n",
        "            assert tour == [(0, 0)], \"The only valid tour for a 1x1 board is the starting position itself\"\n",
        "        elif N in [2, 3]:\n",
        "            print(f\"Expected: None, Got: {tour}\")\n",
        "            assert tour is None, \"There are no possible tours for a 2x2 or 3x3 board\"\n",
        "        else:\n",
        "            print(f\"Expected length: {N*N}, Got: {len(tour)}\")\n",
        "            assert len(tour) == N*N, \"The tour should cover all squares\"\n",
        "            print(f\"Expected unique squares: {N*N}, Got: {len(set(tour))}\")\n",
        "            assert len(set(tour)) == N*N, \"The tour should visit each square exactly once\"\n",
        "            all_squares = [(i, j) for i in range(N) for j in range(N)]\n",
        "            print(f\"Expected all squares to be visited, Got: {all(square in tour for square in all_squares)}\")\n",
        "            assert all(square in tour for square in all_squares), \"The tour should visit all squares\"\n",
        "            for i in range(len(tour) - 1):\n",
        "                dx, dy = abs(tour[i][0] - tour[i+1][0]), abs(tour[i][1] - tour[i+1][1])\n",
        "                print(f\"Expected valid Knight's move, Got: {(dx, dy)}\")\n",
        "                assert (dx, dy) in [(2, 1), (1, 2)], \"Each move should be a valid Knight's move\"\n",
        "        print(f\"All tests passed for N = {N}\")\n"
      ],
      "metadata": {
        "id": "WkNc0QKrFlVz"
      },
      "execution_count": 1,
      "outputs": []
    }
  ]
}