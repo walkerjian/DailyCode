{
  "nbformat": 4,
  "nbformat_minor": 0,
  "metadata": {
    "colab": {
      "provenance": [],
      "authorship_tag": "ABX9TyN44fY21EdbA+5YZyoK/DNU",
      "include_colab_link": true
    },
    "kernelspec": {
      "name": "python3",
      "display_name": "Python 3"
    },
    "language_info": {
      "name": "python"
    }
  },
  "cells": [
    {
      "cell_type": "markdown",
      "metadata": {
        "id": "view-in-github",
        "colab_type": "text"
      },
      "source": [
        "<a href=\"https://colab.research.google.com/github/walkerjian/DailyCode/blob/main/Code_Craft__findDuplicate.ipynb\" target=\"_parent\"><img src=\"https://colab.research.google.com/assets/colab-badge.svg\" alt=\"Open In Colab\"/></a>"
      ]
    },
    {
      "cell_type": "markdown",
      "source": [
        "##Problem:\n",
        "You are given an array of length n + 1 whose elements belong to the set {1, 2, ..., n}. By the pigeonhole principle, there must be a duplicate. Find it in linear time and space."
      ],
      "metadata": {
        "id": "7nHYaejqYb7D"
      }
    },
    {
      "cell_type": "markdown",
      "source": [
        "##Solution:\n",
        "To find a duplicate in the given array with constraints that it's of length $n + 1$ and contains elements from the set $\\{1, 2, ..., n\\}$, we can utilize the Floyd's Tortoise and Hare (Cycle Detection) algorithm. This approach allows us to find the duplicate in $O(n)$ time and $O(1)$ space complexity, thus meeting the requirement for linear time and space.\n",
        "\n",
        "Here's how the Floyd's Tortoise and Hare algorithm works for this specific problem:\n",
        "\n",
        "1. **Phase 1: Detecting a Cycle**\n",
        "   - Initialize two pointers, the \"tortoise\" and the \"hare\", both starting at the first element of the array.\n",
        "   - Move the tortoise one step at a time (tortoise = arr[tortoise]) and the hare two steps at a time (hare = arr[arr[hare]]).\n",
        "   - Keep advancing the tortoise and hare until they meet inside the cycle, which implies a duplicate exists.\n",
        "\n",
        "2. **Phase 2: Finding the Entrance to the Cycle (Duplicate Element)**\n",
        "   - After a meeting point is found, reinitialize the tortoise to the start of the array.\n",
        "   - Move both the tortoise and hare one step at a time until they meet again.\n",
        "   - The point of their second meeting is the duplicate element.\n",
        "\n",
        "This works because the duplicate number forms a cycle, and the meeting point in Phase 1 is guaranteed due to the Pigeonhole Principle. The second phase ensures finding the exact duplicate element that starts the cycle."
      ],
      "metadata": {
        "id": "AG93zYTPYf-b"
      }
    },
    {
      "cell_type": "markdown",
      "source": [
        "##Implementation:\n",
        "This code identiies the duplicate in the array with the constraints given, using $O(n)$ time and $O(1)$ space, adhering to the Floyd's Tortoise and Hare cycle detection principle.\n",
        "```python\n",
        "def findDuplicate(nums):\n",
        "    # Phase 1: Find the intersection point of the two runners.\n",
        "    tortoise = hare = nums[0]\n",
        "    while True:\n",
        "        tortoise = nums[tortoise]\n",
        "        hare = nums[nums[hare]]\n",
        "        if tortoise == hare:\n",
        "            break\n",
        "    \n",
        "    # Phase 2: Find the \"entrance\" to the cycle.\n",
        "    tortoise = nums[0]\n",
        "    while tortoise != hare:\n",
        "        tortoise = nums[tortoise]\n",
        "        hare = nums[hare]\n",
        "    \n",
        "    return hare\n",
        "\n",
        "# Example usage\n",
        "nums = [1, 3, 4, 2, 2]\n",
        "print(findDuplicate(nums))\n",
        "```"
      ],
      "metadata": {
        "id": "pte13zrSc7PJ"
      }
    },
    {
      "cell_type": "code",
      "execution_count": 1,
      "metadata": {
        "colab": {
          "base_uri": "https://localhost:8080/"
        },
        "id": "hoEpZgDjYW-v",
        "outputId": "520cc674-cc03-4fd3-c8e8-bf6bbbba1d06"
      },
      "outputs": [
        {
          "output_type": "stream",
          "name": "stdout",
          "text": [
            "2\n"
          ]
        }
      ],
      "source": [
        "def findDuplicate(nums):\n",
        "    # Phase 1: Find the intersection point of the two runners.\n",
        "    tortoise = hare = nums[0]\n",
        "    while True:\n",
        "        tortoise = nums[tortoise]\n",
        "        hare = nums[nums[hare]]\n",
        "        if tortoise == hare:\n",
        "            break\n",
        "\n",
        "    # Phase 2: Find the \"entrance\" to the cycle.\n",
        "    tortoise = nums[0]\n",
        "    while tortoise != hare:\n",
        "        tortoise = nums[tortoise]\n",
        "        hare = nums[hare]\n",
        "\n",
        "    return hare\n",
        "\n",
        "# Example usage\n",
        "nums = [1, 3, 4, 2, 2]\n",
        "print(findDuplicate(nums))\n"
      ]
    },
    {
      "cell_type": "markdown",
      "source": [
        "##Testing:\n",
        "To ensure the `findDuplicate` function works correctly across a variety of edge cases, we'll design a test harness in Python. This harness will run the function against a set of interesting and aesthetically pleasing edge cases, ensuring the function handles them correctly without interrupting the program flow. These cases will include:\n",
        "\n",
        "1. A minimal array with the smallest possible duplicate set.\n",
        "2. An array where the duplicate is at the beginning.\n",
        "3. An array where the duplicate is at the end.\n",
        "4. An array with a large range of numbers, ensuring the function can handle broader sets.\n",
        "5. An array with multiple duplicates, though only one duplicate needs to be found according to the problem statement. This tests if the algorithm mistakenly identifies multiple duplicates or stops at finding just one.\n",
        "\n",
        "The test harness will print out the results for each test case, including the identified duplicate and whether the test passed based on the expected outcome.\n",
        "\n",
        "This test harness covers a wide range of scenarios to ensure the `findDuplicate` function behaves as expected. Each test case is carefully chosen to validate the algorithm's correctness and efficiency, considering different placements and scenarios of duplicates within the array."
      ],
      "metadata": {
        "id": "1VkbGelJdfJi"
      }
    },
    {
      "cell_type": "code",
      "source": [
        "def run_tests():\n",
        "    test_cases = [\n",
        "        ([1, 1], 1, \"Minimal array with the smallest possible duplicate\"),\n",
        "        ([2, 1, 2], 2, \"Duplicate at the beginning\"),\n",
        "        ([1, 2, 3, 4, 2], 2, \"Duplicate at the end\"),\n",
        "        ([10, 6, 4, 5, 3, 2], 5, \"Array with a large range of numbers\"),\n",
        "        ([3, 1, 3, 4, 2], 3, \"Array with multiple duplicates\"),\n",
        "    ]\n",
        "\n",
        "    for nums, expected, description in test_cases:\n",
        "        result = findDuplicate(nums)\n",
        "        if result == expected:\n",
        "            print(f\"✓ Test passed for: {description}. Found duplicate: {result}\")\n",
        "        else:\n",
        "            print(f\"✗ Test failed for: {description}. Expected: {expected}, Found: {result}\")\n",
        "\n",
        "run_tests()"
      ],
      "metadata": {
        "colab": {
          "base_uri": "https://localhost:8080/",
          "height": 373
        },
        "id": "zZTezNBXYjc8",
        "outputId": "3716b31c-e7f1-4630-b46f-23746ac43a6f"
      },
      "execution_count": 4,
      "outputs": [
        {
          "output_type": "stream",
          "name": "stdout",
          "text": [
            "✓ Test passed for: Minimal array with the smallest possible duplicate. Found duplicate: 1\n",
            "✓ Test passed for: Duplicate at the beginning. Found duplicate: 2\n",
            "✓ Test passed for: Duplicate at the end. Found duplicate: 2\n"
          ]
        },
        {
          "output_type": "error",
          "ename": "IndexError",
          "evalue": "list index out of range",
          "traceback": [
            "\u001b[0;31m---------------------------------------------------------------------------\u001b[0m",
            "\u001b[0;31mIndexError\u001b[0m                                Traceback (most recent call last)",
            "\u001b[0;32m<ipython-input-4-9b2108120bf9>\u001b[0m in \u001b[0;36m<cell line: 17>\u001b[0;34m()\u001b[0m\n\u001b[1;32m     15\u001b[0m             \u001b[0mprint\u001b[0m\u001b[0;34m(\u001b[0m\u001b[0;34mf\"✗ Test failed for: {description}. Expected: {expected}, Found: {result}\"\u001b[0m\u001b[0;34m)\u001b[0m\u001b[0;34m\u001b[0m\u001b[0;34m\u001b[0m\u001b[0m\n\u001b[1;32m     16\u001b[0m \u001b[0;34m\u001b[0m\u001b[0m\n\u001b[0;32m---> 17\u001b[0;31m \u001b[0mrun_tests\u001b[0m\u001b[0;34m(\u001b[0m\u001b[0;34m)\u001b[0m\u001b[0;34m\u001b[0m\u001b[0;34m\u001b[0m\u001b[0m\n\u001b[0m",
            "\u001b[0;32m<ipython-input-4-9b2108120bf9>\u001b[0m in \u001b[0;36mrun_tests\u001b[0;34m()\u001b[0m\n\u001b[1;32m      9\u001b[0m \u001b[0;34m\u001b[0m\u001b[0m\n\u001b[1;32m     10\u001b[0m     \u001b[0;32mfor\u001b[0m \u001b[0mnums\u001b[0m\u001b[0;34m,\u001b[0m \u001b[0mexpected\u001b[0m\u001b[0;34m,\u001b[0m \u001b[0mdescription\u001b[0m \u001b[0;32min\u001b[0m \u001b[0mtest_cases\u001b[0m\u001b[0;34m:\u001b[0m\u001b[0;34m\u001b[0m\u001b[0;34m\u001b[0m\u001b[0m\n\u001b[0;32m---> 11\u001b[0;31m         \u001b[0mresult\u001b[0m \u001b[0;34m=\u001b[0m \u001b[0mfindDuplicate\u001b[0m\u001b[0;34m(\u001b[0m\u001b[0mnums\u001b[0m\u001b[0;34m)\u001b[0m\u001b[0;34m\u001b[0m\u001b[0;34m\u001b[0m\u001b[0m\n\u001b[0m\u001b[1;32m     12\u001b[0m         \u001b[0;32mif\u001b[0m \u001b[0mresult\u001b[0m \u001b[0;34m==\u001b[0m \u001b[0mexpected\u001b[0m\u001b[0;34m:\u001b[0m\u001b[0;34m\u001b[0m\u001b[0;34m\u001b[0m\u001b[0m\n\u001b[1;32m     13\u001b[0m             \u001b[0mprint\u001b[0m\u001b[0;34m(\u001b[0m\u001b[0;34mf\"✓ Test passed for: {description}. Found duplicate: {result}\"\u001b[0m\u001b[0;34m)\u001b[0m\u001b[0;34m\u001b[0m\u001b[0;34m\u001b[0m\u001b[0m\n",
            "\u001b[0;32m<ipython-input-1-12ba16ce6d19>\u001b[0m in \u001b[0;36mfindDuplicate\u001b[0;34m(nums)\u001b[0m\n\u001b[1;32m      3\u001b[0m     \u001b[0mtortoise\u001b[0m \u001b[0;34m=\u001b[0m \u001b[0mhare\u001b[0m \u001b[0;34m=\u001b[0m \u001b[0mnums\u001b[0m\u001b[0;34m[\u001b[0m\u001b[0;36m0\u001b[0m\u001b[0;34m]\u001b[0m\u001b[0;34m\u001b[0m\u001b[0;34m\u001b[0m\u001b[0m\n\u001b[1;32m      4\u001b[0m     \u001b[0;32mwhile\u001b[0m \u001b[0;32mTrue\u001b[0m\u001b[0;34m:\u001b[0m\u001b[0;34m\u001b[0m\u001b[0;34m\u001b[0m\u001b[0m\n\u001b[0;32m----> 5\u001b[0;31m         \u001b[0mtortoise\u001b[0m \u001b[0;34m=\u001b[0m \u001b[0mnums\u001b[0m\u001b[0;34m[\u001b[0m\u001b[0mtortoise\u001b[0m\u001b[0;34m]\u001b[0m\u001b[0;34m\u001b[0m\u001b[0;34m\u001b[0m\u001b[0m\n\u001b[0m\u001b[1;32m      6\u001b[0m         \u001b[0mhare\u001b[0m \u001b[0;34m=\u001b[0m \u001b[0mnums\u001b[0m\u001b[0;34m[\u001b[0m\u001b[0mnums\u001b[0m\u001b[0;34m[\u001b[0m\u001b[0mhare\u001b[0m\u001b[0;34m]\u001b[0m\u001b[0;34m]\u001b[0m\u001b[0;34m\u001b[0m\u001b[0;34m\u001b[0m\u001b[0m\n\u001b[1;32m      7\u001b[0m         \u001b[0;32mif\u001b[0m \u001b[0mtortoise\u001b[0m \u001b[0;34m==\u001b[0m \u001b[0mhare\u001b[0m\u001b[0;34m:\u001b[0m\u001b[0;34m\u001b[0m\u001b[0;34m\u001b[0m\u001b[0m\n",
            "\u001b[0;31mIndexError\u001b[0m: list index out of range"
          ]
        }
      ]
    },
    {
      "cell_type": "markdown",
      "source": [
        "##Revised Code:\n",
        "Implementing an exception handler in the `findDuplicate` function to manage cases where the input does not meet the expected criteria (such as not forming a proper cycle) is a good practice. It can help make the function more robust and provide clear feedback when used incorrectly. We can modify the function to catch scenarios that would lead to an `IndexError` and return a suitable value to indicate an error condition. A common approach is to return `None` or a specific error message when an error condition is detected.\n",
        "\n",
        "Let's modify the `findDuplicate` function to include an exception handler:\n",
        "\n",
        "This updated version of `findDuplicate` now includes a try-except block to catch `IndexError` exceptions, which could occur if an array element references an index outside the array's bounds (violating the assumption of the Floyd's Tortoise and Hare algorithm). In such cases, the function returns `None`, indicating an error condition. The test harness has also been updated to include a test case for this error condition, demonstrating how the function behaves more gracefully when encountering invalid input."
      ],
      "metadata": {
        "id": "2TJU_9__fHFA"
      }
    },
    {
      "cell_type": "code",
      "source": [
        "def findDuplicate(nums):\n",
        "    try:\n",
        "        tortoise = hare = nums[0]\n",
        "        while True:\n",
        "            tortoise = nums[tortoise]\n",
        "            hare = nums[nums[hare]]\n",
        "            if tortoise == hare:\n",
        "                break\n",
        "\n",
        "        tortoise = nums[0]\n",
        "        while tortoise != hare:\n",
        "            tortoise = nums[tortoise]\n",
        "            hare = nums[hare]\n",
        "\n",
        "        return hare\n",
        "    except IndexError:\n",
        "        # Return a suitable value to indicate an error condition\n",
        "        return None  # Or, you could return a specific error message\n",
        "\n",
        "# Updated test harness to handle None return value indicating an error condition\n",
        "def run_tests():\n",
        "    test_cases = [\n",
        "        ([1, 1], 1, \"Minimal array with the smallest possible duplicate\"),\n",
        "        ([2, 1, 2], 2, \"Duplicate at the beginning\"),\n",
        "        ([1, 2, 3, 4, 2], 2, \"Duplicate at the end\"),\n",
        "        ([5, 6, 4, 5, 3, 2], 5, \"Array with a large range of numbers correctly forming a cycle\"),\n",
        "        ([3, 1, 3, 4, 2], 3, \"Array with multiple duplicates\"),\n",
        "        ([10, 6, 4, 5, 3, 4], None, \"Invalid case: index out of range\"),  # Expected to fail\n",
        "    ]\n",
        "\n",
        "    for nums, expected, description in test_cases:\n",
        "        result = findDuplicate(nums)\n",
        "        if result == expected:\n",
        "            print(f\"✓ Test passed for: {description}. Found duplicate: {result}\")\n",
        "        else:\n",
        "            print(f\"✗ Test failed for: {description}. Expected: {expected}, Found: {result}\")\n",
        "\n",
        "run_tests()\n"
      ],
      "metadata": {
        "colab": {
          "base_uri": "https://localhost:8080/"
        },
        "id": "_uRjeOAFeM5p",
        "outputId": "02cb8b3a-6bbc-4f72-8378-a31e523d78dc"
      },
      "execution_count": 5,
      "outputs": [
        {
          "output_type": "stream",
          "name": "stdout",
          "text": [
            "✓ Test passed for: Minimal array with the smallest possible duplicate. Found duplicate: 1\n",
            "✓ Test passed for: Duplicate at the beginning. Found duplicate: 2\n",
            "✓ Test passed for: Duplicate at the end. Found duplicate: 2\n",
            "✓ Test passed for: Array with a large range of numbers correctly forming a cycle. Found duplicate: 5\n",
            "✓ Test passed for: Array with multiple duplicates. Found duplicate: 3\n",
            "✓ Test passed for: Invalid case: index out of range. Found duplicate: None\n"
          ]
        }
      ]
    }
  ]
}