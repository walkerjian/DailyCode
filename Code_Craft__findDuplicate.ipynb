{
  "nbformat": 4,
  "nbformat_minor": 0,
  "metadata": {
    "colab": {
      "provenance": [],
      "authorship_tag": "ABX9TyOM/2gJFhRtvbZ+tgm6XoqC",
      "include_colab_link": true
    },
    "kernelspec": {
      "name": "python3",
      "display_name": "Python 3"
    },
    "language_info": {
      "name": "python"
    }
  },
  "cells": [
    {
      "cell_type": "markdown",
      "metadata": {
        "id": "view-in-github",
        "colab_type": "text"
      },
      "source": [
        "<a href=\"https://colab.research.google.com/github/walkerjian/DailyCode/blob/main/Code_Craft__findDuplicate.ipynb\" target=\"_parent\"><img src=\"https://colab.research.google.com/assets/colab-badge.svg\" alt=\"Open In Colab\"/></a>"
      ]
    },
    {
      "cell_type": "markdown",
      "source": [
        "You are given an array of length n + 1 whose elements belong to the set {1, 2, ..., n}. By the pigeonhole principle, there must be a duplicate. Find it in linear time and space."
      ],
      "metadata": {
        "id": "7nHYaejqYb7D"
      }
    },
    {
      "cell_type": "markdown",
      "source": [
        "To find a duplicate in the given array with constraints that it's of length \\(n + 1\\) and contains elements from the set \\(\\{1, 2, ..., n\\}\\), we can utilize the Floyd's Tortoise and Hare (Cycle Detection) algorithm. This approach allows us to find the duplicate in \\(O(n)\\) time and \\(O(1)\\) space complexity, thus meeting the requirement for linear time and space.\n",
        "\n",
        "Here's how the Floyd's Tortoise and Hare algorithm works for this specific problem:\n",
        "\n",
        "1. **Phase 1: Detecting a Cycle**\n",
        "   - Initialize two pointers, the \"tortoise\" and the \"hare\", both starting at the first element of the array.\n",
        "   - Move the tortoise one step at a time (tortoise = arr[tortoise]) and the hare two steps at a time (hare = arr[arr[hare]]).\n",
        "   - Keep advancing the tortoise and hare until they meet inside the cycle, which implies a duplicate exists.\n",
        "\n",
        "2. **Phase 2: Finding the Entrance to the Cycle (Duplicate Element)**\n",
        "   - After a meeting point is found, reinitialize the tortoise to the start of the array.\n",
        "   - Move both the tortoise and hare one step at a time until they meet again.\n",
        "   - The point of their second meeting is the duplicate element.\n",
        "\n",
        "This works because the duplicate number forms a cycle, and the meeting point in Phase 1 is guaranteed due to the Pigeonhole Principle. The second phase ensures finding the exact duplicate element that starts the cycle.\n",
        "\n",
        "Let's write Python code to implement this solution:\n",
        "\n",
        "```python\n",
        "def findDuplicate(nums):\n",
        "    # Phase 1: Find the intersection point of the two runners.\n",
        "    tortoise = hare = nums[0]\n",
        "    while True:\n",
        "        tortoise = nums[tortoise]\n",
        "        hare = nums[nums[hare]]\n",
        "        if tortoise == hare:\n",
        "            break\n",
        "    \n",
        "    # Phase 2: Find the \"entrance\" to the cycle.\n",
        "    tortoise = nums[0]\n",
        "    while tortoise != hare:\n",
        "        tortoise = nums[tortoise]\n",
        "        hare = nums[hare]\n",
        "    \n",
        "    return hare\n",
        "\n",
        "# Example usage\n",
        "nums = [1, 3, 4, 2, 2]\n",
        "print(findDuplicate(nums))\n",
        "```\n",
        "\n",
        "This code will correctly identify the duplicate in the array with the constraints given, using \\(O(n)\\) time and \\(O(1)\\) space, adhering to the Floyd's Tortoise and Hare cycle detection principle."
      ],
      "metadata": {
        "id": "AG93zYTPYf-b"
      }
    },
    {
      "cell_type": "code",
      "execution_count": 1,
      "metadata": {
        "colab": {
          "base_uri": "https://localhost:8080/"
        },
        "id": "hoEpZgDjYW-v",
        "outputId": "520cc674-cc03-4fd3-c8e8-bf6bbbba1d06"
      },
      "outputs": [
        {
          "output_type": "stream",
          "name": "stdout",
          "text": [
            "2\n"
          ]
        }
      ],
      "source": [
        "def findDuplicate(nums):\n",
        "    # Phase 1: Find the intersection point of the two runners.\n",
        "    tortoise = hare = nums[0]\n",
        "    while True:\n",
        "        tortoise = nums[tortoise]\n",
        "        hare = nums[nums[hare]]\n",
        "        if tortoise == hare:\n",
        "            break\n",
        "\n",
        "    # Phase 2: Find the \"entrance\" to the cycle.\n",
        "    tortoise = nums[0]\n",
        "    while tortoise != hare:\n",
        "        tortoise = nums[tortoise]\n",
        "        hare = nums[hare]\n",
        "\n",
        "    return hare\n",
        "\n",
        "# Example usage\n",
        "nums = [1, 3, 4, 2, 2]\n",
        "print(findDuplicate(nums))\n"
      ]
    },
    {
      "cell_type": "code",
      "source": [],
      "metadata": {
        "id": "zZTezNBXYjc8"
      },
      "execution_count": null,
      "outputs": []
    }
  ]
}