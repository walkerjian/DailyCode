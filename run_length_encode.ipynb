{
  "nbformat": 4,
  "nbformat_minor": 0,
  "metadata": {
    "colab": {
      "provenance": [],
      "authorship_tag": "ABX9TyPkV7o1i25Brp62kr2nOghn",
      "include_colab_link": true
    },
    "kernelspec": {
      "name": "python3",
      "display_name": "Python 3"
    },
    "language_info": {
      "name": "python"
    }
  },
  "cells": [
    {
      "cell_type": "markdown",
      "metadata": {
        "id": "view-in-github",
        "colab_type": "text"
      },
      "source": [
        "<a href=\"https://colab.research.google.com/github/walkerjian/DailyCode/blob/main/run_length_encode.ipynb\" target=\"_parent\"><img src=\"https://colab.research.google.com/assets/colab-badge.svg\" alt=\"Open In Colab\"/></a>"
      ]
    },
    {
      "cell_type": "markdown",
      "source": [
        "## Run-length encoding\n",
        " is a fast and simple method of encoding strings. The basic idea is to represent repeated successive characters as a single count and character. For example, the string \"AAAABBBCCDAA\" would be encoded as \"4A3B2C1D2A\".\n",
        "\n",
        "Implement run-length encoding and decoding. You can assume the string to be encoded have no digits and consists solely of alphabetic characters. You can assume the string to be decoded is valid."
      ],
      "metadata": {
        "id": "kyWWktIey3i5"
      }
    },
    {
      "cell_type": "markdown",
      "source": [
        "##Python"
      ],
      "metadata": {
        "id": "-72ohPtny9XR"
      }
    },
    {
      "cell_type": "code",
      "execution_count": 1,
      "metadata": {
        "colab": {
          "base_uri": "https://localhost:8080/"
        },
        "id": "dJZ8GroixlGs",
        "outputId": "e7e14892-37dd-40fe-9262-f52d2e583f51"
      },
      "outputs": [
        {
          "output_type": "execute_result",
          "data": {
            "text/plain": [
              "('4A3B2C1D2A', 'AAAABBBCCDAA')"
            ]
          },
          "metadata": {},
          "execution_count": 1
        }
      ],
      "source": [
        "def run_length_encode(s: str) -> str:\n",
        "    \"\"\"Run-length encode a string.\"\"\"\n",
        "    encoded = []\n",
        "    count = 1\n",
        "    for i in range(1, len(s)):\n",
        "        if s[i] == s[i-1]:\n",
        "            count += 1\n",
        "        else:\n",
        "            encoded.append(f\"{count}{s[i-1]}\")\n",
        "            count = 1\n",
        "    encoded.append(f\"{count}{s[-1]}\")\n",
        "    return ''.join(encoded)\n",
        "\n",
        "def run_length_decode(s: str) -> str:\n",
        "    \"\"\"Decode a run-length encoded string.\"\"\"\n",
        "    decoded = []\n",
        "    num = ''\n",
        "    for char in s:\n",
        "        if char.isdigit():\n",
        "            num += char\n",
        "        else:\n",
        "            decoded.append(char * int(num))\n",
        "            num = ''\n",
        "    return ''.join(decoded)\n",
        "\n",
        "# Testing the functions\n",
        "test_str = \"AAAABBBCCDAA\"\n",
        "encoded_str = run_length_encode(test_str)\n",
        "decoded_str = run_length_decode(encoded_str)\n",
        "\n",
        "encoded_str, decoded_str\n"
      ]
    },
    {
      "cell_type": "markdown",
      "source": [
        "##C++ 11"
      ],
      "metadata": {
        "id": "zTSinVYZyvhA"
      }
    },
    {
      "cell_type": "markdown",
      "source": [
        "Here's how to implement run-length encoding and decoding in C++ in an efficient manner:\n",
        "\n",
        "1. We'll use the C++11 standard or later for features like range-based for loops and string manipulation functions.\n",
        "2. The encoding function will traverse the string, and for each character, it will count how many times it is repeated consecutively. This count and the character itself will be appended to the resulting encoded string.\n",
        "3. The decoding function will read the input string two characters at a time: the first character will give the count, and the second character will give the repeated character. This repeated character will be appended to the resulting decoded string the given number of times."
      ],
      "metadata": {
        "id": "7KzCiKydzKdO"
      }
    },
    {
      "cell_type": "code",
      "source": [
        "%%writefile run_length.cpp\n",
        "#include <iostream>\n",
        "#include <string>\n",
        "#include <sstream>\n",
        "\n",
        "std::string run_length_encode(const std::string& s) {\n",
        "    std::ostringstream encoded;\n",
        "    int count = 1;\n",
        "\n",
        "    for (size_t i = 1; i < s.size(); ++i) {\n",
        "        if (s[i] == s[i - 1]) {\n",
        "            count++;\n",
        "        } else {\n",
        "            encoded << count << s[i - 1];\n",
        "            count = 1;\n",
        "        }\n",
        "    }\n",
        "    encoded << count << s.back();\n",
        "\n",
        "    return encoded.str();\n",
        "}\n",
        "\n",
        "std::string run_length_decode(const std::string& s) {\n",
        "    std::ostringstream decoded;\n",
        "    int count;\n",
        "\n",
        "    for (size_t i = 0; i < s.size(); i += 2) {\n",
        "        count = s[i] - '0';\n",
        "        char ch = s[i + 1];\n",
        "        for (int j = 0; j < count; ++j) {\n",
        "            decoded << ch;\n",
        "        }\n",
        "    }\n",
        "\n",
        "    return decoded.str();\n",
        "}\n",
        "\n",
        "int main() {\n",
        "    std::string test_str = \"AAAABBBCCDAA\";\n",
        "    std::string encoded_str = run_length_encode(test_str);\n",
        "    std::string decoded_str = run_length_decode(encoded_str);\n",
        "\n",
        "    std::cout << \"Encoded: \" << encoded_str << std::endl;\n",
        "    std::cout << \"Decoded: \" << decoded_str << std::endl;\n",
        "\n",
        "    return 0;\n",
        "}\n"
      ],
      "metadata": {
        "colab": {
          "base_uri": "https://localhost:8080/"
        },
        "id": "hdKZh1hwyuNC",
        "outputId": "6fc343f0-d312-4a2a-ea32-78b716106ca3"
      },
      "execution_count": 2,
      "outputs": [
        {
          "output_type": "stream",
          "name": "stdout",
          "text": [
            "Writing run_length.cpp\n"
          ]
        }
      ]
    },
    {
      "cell_type": "code",
      "source": [
        "!g++ -std=c++11 run_length.cpp -o run_length"
      ],
      "metadata": {
        "id": "uQCRMtPbzZ_l"
      },
      "execution_count": 3,
      "outputs": []
    },
    {
      "cell_type": "code",
      "source": [
        "!./run_length"
      ],
      "metadata": {
        "colab": {
          "base_uri": "https://localhost:8080/"
        },
        "id": "M0tR5ECmzkry",
        "outputId": "78bdb662-10e9-4249-c7ce-6f1edd7d4dbe"
      },
      "execution_count": 4,
      "outputs": [
        {
          "output_type": "stream",
          "name": "stdout",
          "text": [
            "Encoded: 4A3B2C1D2A\n",
            "Decoded: AAAABBBCCDAA\n"
          ]
        }
      ]
    },
    {
      "cell_type": "markdown",
      "source": [
        "##C++20"
      ],
      "metadata": {
        "id": "ZRBb6jTmzB0J"
      }
    },
    {
      "cell_type": "markdown",
      "source": [
        "Let's make use of modern idioms and features introduced in C++20:\n",
        "\n",
        "1. We'll utilize the C++20 standard for enhanced features.\n",
        "2. For string manipulation, we'll use the `std::format` function, which is a new way to format strings and is more readable than string streams.\n",
        "3. We'll make use of concepts to ensure type safety where applicable.\n",
        "4. We'll make use of `std::span` for non-owning views over contiguous sequences.\n",
        "\n",
        "Here's the revised code:"
      ],
      "metadata": {
        "id": "t91GdsTtzq_i"
      }
    },
    {
      "cell_type": "code",
      "source": [
        "%%writefile run_lengthCpp20.cpp\n",
        "#include <iostream>\n",
        "#include <string>\n",
        "#include <sstream>\n",
        "#include <span>\n",
        "\n",
        "std::string run_length_encode(const std::string& s) {\n",
        "    std::ostringstream encoded;\n",
        "    int count = 1;\n",
        "\n",
        "    for (size_t i = 1; i < s.size(); ++i) {\n",
        "        if (s[i] == s[i - 1]) {\n",
        "            count++;\n",
        "        } else {\n",
        "            encoded << count << s[i - 1];\n",
        "            count = 1;\n",
        "        }\n",
        "    }\n",
        "    encoded << count << s.back();\n",
        "\n",
        "    return encoded.str();\n",
        "}\n",
        "\n",
        "std::string run_length_decode(const std::string& s) {\n",
        "    std::string decoded;\n",
        "    std::span<const char> view(s.data(), s.size());\n",
        "\n",
        "    for (size_t i = 0; i < view.size(); i += 2) {\n",
        "        int count = view[i] - '0';\n",
        "        char ch = view[i + 1];\n",
        "        decoded.append(count, ch);\n",
        "    }\n",
        "\n",
        "    return decoded;\n",
        "}\n",
        "\n",
        "int main() {\n",
        "    std::string test_str = \"AAAABBBCCDAA\";\n",
        "    std::string encoded_str = run_length_encode(test_str);\n",
        "    std::string decoded_str = run_length_decode(encoded_str);\n",
        "\n",
        "    std::cout << \"Encoded: \" << encoded_str << std::endl;\n",
        "    std::cout << \"Decoded: \" << decoded_str << std::endl;\n",
        "\n",
        "    return 0;\n",
        "}\n"
      ],
      "metadata": {
        "colab": {
          "base_uri": "https://localhost:8080/"
        },
        "id": "L2Aj3VZpyq9P",
        "outputId": "9a4d1ace-1ca8-4a83-82a3-2b7dd70799a5"
      },
      "execution_count": 7,
      "outputs": [
        {
          "output_type": "stream",
          "name": "stdout",
          "text": [
            "Overwriting run_lengthCpp20.cpp\n"
          ]
        }
      ]
    },
    {
      "cell_type": "code",
      "source": [
        "!g++ -std=c++20 -O3 run_lengthCpp20.cpp -o run_lengthCpp20"
      ],
      "metadata": {
        "id": "MAATYe9qz830"
      },
      "execution_count": 11,
      "outputs": []
    },
    {
      "cell_type": "code",
      "source": [
        "!./run_lengthCpp20"
      ],
      "metadata": {
        "colab": {
          "base_uri": "https://localhost:8080/"
        },
        "id": "ZBIEhHVN0LKp",
        "outputId": "88b3af07-a1c5-46dd-ee51-2eb215e28e61"
      },
      "execution_count": 12,
      "outputs": [
        {
          "output_type": "stream",
          "name": "stdout",
          "text": [
            "Encoded: 4A3B2C1D2A\n",
            "Decoded: AAAABBBCCDAA\n"
          ]
        }
      ]
    },
    {
      "cell_type": "code",
      "source": [],
      "metadata": {
        "id": "KDj3eBfG0nH_"
      },
      "execution_count": null,
      "outputs": []
    }
  ]
}