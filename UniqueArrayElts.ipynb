{
  "nbformat": 4,
  "nbformat_minor": 0,
  "metadata": {
    "colab": {
      "provenance": [],
      "authorship_tag": "ABX9TyOGBcAKFboAZNALEG7bI54r",
      "include_colab_link": true
    },
    "kernelspec": {
      "name": "python3",
      "display_name": "Python 3"
    },
    "language_info": {
      "name": "python"
    }
  },
  "cells": [
    {
      "cell_type": "markdown",
      "metadata": {
        "id": "view-in-github",
        "colab_type": "text"
      },
      "source": [
        "<a href=\"https://colab.research.google.com/github/walkerjian/DailyCode/blob/main/UniqueArrayElts.ipynb\" target=\"_parent\"><img src=\"https://colab.research.google.com/assets/colab-badge.svg\" alt=\"Open In Colab\"/></a>"
      ]
    },
    {
      "cell_type": "code",
      "execution_count": 1,
      "metadata": {
        "colab": {
          "base_uri": "https://localhost:8080/"
        },
        "id": "6Vh0_m_aSk0x",
        "outputId": "65ae477c-f0b5-43e2-bda6-0ac22e823e6c"
      },
      "outputs": [
        {
          "output_type": "stream",
          "name": "stdout",
          "text": [
            "All test cases pass\n"
          ]
        }
      ],
      "source": [
        "def find_unique_elements(arr):\n",
        "    \"\"\"\n",
        "    Given an array of integers in which two elements appear exactly once and all other elements appear\n",
        "    exactly twice, find the two elements that appear only once.\n",
        "\n",
        "    For example, given the array [2, 4, 6, 8, 10, 2, 6, 10], return [4, 8]. The order does not matter.\n",
        "\n",
        "    Args:\n",
        "    arr (list): The input array of integers.\n",
        "\n",
        "    Returns:\n",
        "    list: A list of two integers that appear only once in the array.\n",
        "\n",
        "    \"\"\"\n",
        "    # Step 1: XOR all the elements\n",
        "    xor = 0\n",
        "    for num in arr:\n",
        "        xor ^= num\n",
        "\n",
        "    # Step 2: Find a set bit in the XOR result (we use the rightmost set bit)\n",
        "    # We use bitwise AND operation with its 2's complement which keeps the rightmost set bit and sets all other bits to 0\n",
        "    set_bit = xor & -xor\n",
        "\n",
        "    # Step 3: Divide the elements into two groups and perform XOR operation separately\n",
        "    x = y = 0\n",
        "    for num in arr:\n",
        "        if num & set_bit:\n",
        "            x ^= num\n",
        "        else:\n",
        "            y ^= num\n",
        "\n",
        "    return [x, y]\n",
        "\n",
        "# Testing the function with some test cases\n",
        "def test_find_unique_elements():\n",
        "    assert sorted(find_unique_elements([2, 4, 6, 8, 10, 2, 6, 10])) == [4, 8]\n",
        "    assert sorted(find_unique_elements([1, 1, 2, 3, 4, 4, 5, 5])) == [2, 3]\n",
        "    assert sorted(find_unique_elements([-1, -2, -1, -2, -3, -4])) == [-4, -3]\n",
        "    assert sorted(find_unique_elements([0, 0, -1, -2])) == [-2, -1]\n",
        "    assert sorted(find_unique_elements([100, 200, 300, 100, 200, 400])) == [300, 400]\n",
        "\n",
        "    print(\"All test cases pass\")\n",
        "\n",
        "test_find_unique_elements()\n"
      ]
    }
  ]
}