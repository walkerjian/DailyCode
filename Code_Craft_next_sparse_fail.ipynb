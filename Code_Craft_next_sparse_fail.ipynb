{
  "nbformat": 4,
  "nbformat_minor": 0,
  "metadata": {
    "colab": {
      "provenance": [],
      "authorship_tag": "ABX9TyNZjXwTUpbJ2g9y99hxxuFW",
      "include_colab_link": true
    },
    "kernelspec": {
      "name": "python3",
      "display_name": "Python 3"
    },
    "language_info": {
      "name": "python"
    }
  },
  "cells": [
    {
      "cell_type": "markdown",
      "metadata": {
        "id": "view-in-github",
        "colab_type": "text"
      },
      "source": [
        "<a href=\"https://colab.research.google.com/github/walkerjian/DailyCode/blob/main/Code_Craft_next_sparse_fail.ipynb\" target=\"_parent\"><img src=\"https://colab.research.google.com/assets/colab-badge.svg\" alt=\"Open In Colab\"/></a>"
      ]
    },
    {
      "cell_type": "markdown",
      "source": [
        "#Problem:\n",
        "We say a number is sparse if there are no adjacent ones in its binary representation. For example, 21 $(10101)$ is sparse, but 22 $(10110)$ is not. For a given input N, find the smallest sparse number greater than or equal to N.\n",
        "\n",
        "Do this in faster than $O(N log N)$ time."
      ],
      "metadata": {
        "id": "tH7CkhIN6Ovd"
      }
    },
    {
      "cell_type": "markdown",
      "source": [
        "##Implementation:\n",
        "Here's how we can implement this in Python:"
      ],
      "metadata": {
        "id": "Cb3P4iVt6W-J"
      }
    },
    {
      "cell_type": "code",
      "source": [
        "def is_sparse(n):\n",
        "    # Return True if 'n' has no consecutive '1's in its binary representation\n",
        "    return '11' not in bin(n)\n",
        "\n",
        "def next_sparse(n):\n",
        "    # Check if the current number is sparse\n",
        "    original = n\n",
        "    while not is_sparse(n):\n",
        "        n += 1\n",
        "    return n\n",
        "\n",
        "def print_sparse_details(n):\n",
        "    sparse = next_sparse(n)\n",
        "    print(f\"Number: {n}\")\n",
        "    print(f\"Binary: {bin(n)[2:]}\")\n",
        "    print(f\"Is Sparse: {is_sparse(n)}\")\n",
        "    if n != sparse:\n",
        "        print(f\"Next Sparse Number: {sparse}\")\n",
        "        print(f\"Next Sparse Binary: {bin(sparse)[2:]}\")\n",
        "    else:\n",
        "        print(\"This number is already sparse.\")\n",
        "    print()  # Add a newline for better readability between entries\n",
        "\n",
        "# Test cases\n",
        "test_cases = [4, 21, 22, 38]\n",
        "for test in test_cases:\n",
        "    print_sparse_details(test)\n"
      ],
      "metadata": {
        "id": "lve1Yewi6N4N",
        "colab": {
          "base_uri": "https://localhost:8080/"
        },
        "outputId": "8cdff32c-5c92-4b5f-c0d2-919c8a6d00bf"
      },
      "execution_count": 10,
      "outputs": [
        {
          "output_type": "stream",
          "name": "stdout",
          "text": [
            "Number: 4\n",
            "Binary: 100\n",
            "Is Sparse: True\n",
            "This number is already sparse.\n",
            "\n",
            "Number: 21\n",
            "Binary: 10101\n",
            "Is Sparse: True\n",
            "This number is already sparse.\n",
            "\n",
            "Number: 22\n",
            "Binary: 10110\n",
            "Is Sparse: False\n",
            "Next Sparse Number: 32\n",
            "Next Sparse Binary: 100000\n",
            "\n",
            "Number: 38\n",
            "Binary: 100110\n",
            "Is Sparse: False\n",
            "Next Sparse Number: 40\n",
            "Next Sparse Binary: 101000\n",
            "\n"
          ]
        }
      ]
    }
  ]
}