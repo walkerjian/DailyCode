{
  "nbformat": 4,
  "nbformat_minor": 0,
  "metadata": {
    "colab": {
      "provenance": [],
      "authorship_tag": "ABX9TyPnkcCKlPybhMqPP3oPsl9d",
      "include_colab_link": true
    },
    "kernelspec": {
      "name": "python3",
      "display_name": "Python 3"
    },
    "language_info": {
      "name": "python"
    }
  },
  "cells": [
    {
      "cell_type": "markdown",
      "metadata": {
        "id": "view-in-github",
        "colab_type": "text"
      },
      "source": [
        "<a href=\"https://colab.research.google.com/github/walkerjian/DailyCode/blob/main/numSquares.ipynb\" target=\"_parent\"><img src=\"https://colab.research.google.com/assets/colab-badge.svg\" alt=\"Open In Colab\"/></a>"
      ]
    },
    {
      "cell_type": "markdown",
      "source": [
        "## Write a program that determines the smallest number of perfect squares that sum up to N.\n",
        "Here are a few examples:\n",
        "\n",
        "Given N = 4, return 1 (4)\n",
        "Given N = 17, return 2 (16 + 1)\n",
        "Given N = 18, return 2 (9 + 9)\n",
        "\n",
        "### Explanation\n",
        "Here's a Python program that determines the smallest number of perfect squares that sum up to a given number $ N $:\n",
        "\n",
        "1. **Initialization**:\n",
        "   - Create a list `dp` where `dp[i]` will represent the minimum number of perfect squares that sum up to `i`. Initialize all entries with infinity (`float('inf')`), except for `dp[0]` which is `0` because zero perfect squares sum up to zero.\n",
        "\n",
        "2. **Dynamic Programming Loop**:\n",
        "   - For each number `i` from `1` to `n`, iterate through all possible perfect squares `j^2` where `j^2` is less than or equal to `i`.\n",
        "   - Update `dp[i]` as the minimum of its current value and `dp[i - j^2] + 1`, indicating that we are adding one more perfect square to the sum of `i - j^2`.\n",
        "\n",
        "3. **Result**:\n",
        "   - The value `dp[n]` will contain the minimum number of perfect squares that sum up to `n`.\n",
        "\n",
        "This approach ensures that we systematically build up the solution for each number from `1` to `n`, ensuring that we use the minimum number of perfect squares for each subproblem."
      ],
      "metadata": {
        "id": "7Ml90E8bloOG"
      }
    },
    {
      "cell_type": "code",
      "execution_count": 1,
      "metadata": {
        "colab": {
          "base_uri": "https://localhost:8080/"
        },
        "id": "qF_8yzHElgM0",
        "outputId": "72177340-c6e2-4519-e0de-1cf42939c2f6"
      },
      "outputs": [
        {
          "output_type": "stream",
          "name": "stdout",
          "text": [
            "1\n",
            "2\n",
            "2\n"
          ]
        }
      ],
      "source": [
        "import math\n",
        "\n",
        "def numSquares(n):\n",
        "    # Initialize a list to store the minimum number of perfect squares for each number from 0 to n\n",
        "    dp = [float('inf')] * (n + 1)\n",
        "    dp[0] = 0\n",
        "\n",
        "    # Iterate through each number from 1 to n\n",
        "    for i in range(1, n + 1):\n",
        "        # Check all perfect squares less than or equal to the current number i\n",
        "        for j in range(1, int(math.sqrt(i)) + 1):\n",
        "            square = j * j\n",
        "            dp[i] = min(dp[i], dp[i - square] + 1)\n",
        "\n",
        "    return dp[n]\n",
        "\n",
        "# Test cases\n",
        "print(numSquares(4))   # Output: 1 (4)\n",
        "print(numSquares(17))  # Output: 2 (16 + 1)\n",
        "print(numSquares(18))  # Output: 2 (9 + 9)\n"
      ]
    },
    {
      "cell_type": "markdown",
      "source": [
        "To include the output of the perfect squares that sum up to $ N $ in a pleasing format, we need to keep track of the squares used to form each number. Here's an updated version of the program that also outputs the perfect squares used:\n",
        "\n",
        "## Explanation\n",
        "\n",
        "1. **Initialization**:\n",
        "   - We initialize the `dp` list and a new list `square_list` where `square_list[i]` will store the list of perfect squares that sum up to `i`.\n",
        "\n",
        "2. **Dynamic Programming Loop**:\n",
        "   - As we iterate through each number `i` and each possible perfect square `j^2`, we update `dp[i]` and `square_list[i]` if using `j^2` results in a smaller count of perfect squares. If so, we update `square_list[i]` to include the perfect squares used for `i - j^2` plus the current square `j^2`.\n",
        "\n",
        "3. **Result**:\n",
        "   - The function returns both the minimum count of perfect squares (`dp[n]`) and the list of perfect squares (`square_list[n]`).\n",
        "\n",
        "4. **Output**:\n",
        "   - The `print_result` function formats and prints the result in a pleasing format.\n",
        "\n",
        "This updated program not only calculates the smallest number of perfect squares that sum up to $ N $ but also outputs the specific squares used in a readable format."
      ],
      "metadata": {
        "id": "iV-j9BY4mm1d"
      }
    },
    {
      "cell_type": "code",
      "source": [
        "import math\n",
        "\n",
        "def numSquares(n):\n",
        "    # Initialize a list to store the minimum number of perfect squares for each number from 0 to n\n",
        "    dp = [float('inf')] * (n + 1)\n",
        "    dp[0] = 0\n",
        "\n",
        "    # Initialize a list to store the perfect squares used for each number\n",
        "    square_list = [[] for _ in range(n + 1)]\n",
        "\n",
        "    # Iterate through each number from 1 to n\n",
        "    for i in range(1, n + 1):\n",
        "        # Check all perfect squares less than or equal to the current number i\n",
        "        for j in range(1, int(math.sqrt(i)) + 1):\n",
        "            square = j * j\n",
        "            if dp[i] > dp[i - square] + 1:\n",
        "                dp[i] = dp[i - square] + 1\n",
        "                square_list[i] = square_list[i - square] + [square]\n",
        "\n",
        "    return dp[n], square_list[n]\n",
        "\n",
        "# Test cases\n",
        "def print_result(n):\n",
        "    count, squares = numSquares(n)\n",
        "    print(f\"The smallest number of perfect squares that sum up to {n} is {count}:\")\n",
        "    print(\" + \".join(map(str, squares)))\n",
        "\n",
        "print_result(4)    # Output: The smallest number of perfect squares that sum up to 4 is 1: 4\n",
        "print_result(17)   # Output: The smallest number of perfect squares that sum up to 17 is 2: 16 + 1\n",
        "print_result(n=971)   # Output: The smallest number of perfect squares that sum up to 18 is 2: 9 + 9"
      ],
      "metadata": {
        "colab": {
          "base_uri": "https://localhost:8080/"
        },
        "id": "cSJjrlADm36-",
        "outputId": "35b453e1-9de9-4ca1-9277-06c715f77e18"
      },
      "execution_count": 4,
      "outputs": [
        {
          "output_type": "stream",
          "name": "stdout",
          "text": [
            "The smallest number of perfect squares that sum up to 4 is 1:\n",
            "4\n",
            "The smallest number of perfect squares that sum up to 17 is 2:\n",
            "16 + 1\n",
            "The smallest number of perfect squares that sum up to 971 is 3:\n",
            "961 + 9 + 1\n"
          ]
        }
      ]
    }
  ]
}