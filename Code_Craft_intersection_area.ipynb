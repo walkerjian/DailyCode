{
  "nbformat": 4,
  "nbformat_minor": 0,
  "metadata": {
    "colab": {
      "provenance": [],
      "authorship_tag": "ABX9TyMyCYfb0sUzKH/Lqwh430j7",
      "include_colab_link": true
    },
    "kernelspec": {
      "name": "python3",
      "display_name": "Python 3"
    },
    "language_info": {
      "name": "python"
    }
  },
  "cells": [
    {
      "cell_type": "markdown",
      "metadata": {
        "id": "view-in-github",
        "colab_type": "text"
      },
      "source": [
        "<a href=\"https://colab.research.google.com/github/walkerjian/DailyCode/blob/main/Code_Craft_intersection_area.ipynb\" target=\"_parent\"><img src=\"https://colab.research.google.com/assets/colab-badge.svg\" alt=\"Open In Colab\"/></a>"
      ]
    },
    {
      "cell_type": "markdown",
      "source": [
        "##Problem:\n",
        "Given two rectangles on a 2D graph, return the area of their intersection. If the rectangles don't intersect, return 0.\n",
        "\n",
        "For example, given the following rectangles:\n",
        "```\n",
        "{\n",
        "    \"top_left\": (1, 4),\n",
        "    \"dimensions\": (3, 3) # width, height\n",
        "}\n",
        "```\n",
        "and\n",
        "```\n",
        "{\n",
        "    \"top_left\": (0, 5),\n",
        "    \"dimensions\": (4, 3) # width, height\n",
        "}\n",
        "```\n",
        "return 6."
      ],
      "metadata": {
        "id": "1NEpkN9AiOPV"
      }
    },
    {
      "cell_type": "markdown",
      "source": [
        "##Solution:\n",
        "To calculate the area of the intersection of two rectangles on a 2D graph, we need to follow these steps:\n",
        "\n",
        "1. Calculate the coordinates of the bottom right corner of both rectangles. This can be done by adding the width to the x-coordinate and subtracting the height from the y-coordinate of the top left corner.\n",
        "\n",
        "2. Find the overlap along the x-axis and y-axis. This can be achieved by taking the maximum of the lower x-coordinates and the minimum of the higher x-coordinates for the x-axis, and similarly for the y-axis.\n",
        "\n",
        "3. If there is an overlap, the area of the intersection is the product of the overlap along the x-axis and the overlap along the y-axis. If there is no overlap (meaning the maximum of the lower coordinates is greater than the minimum of the higher coordinates on either axis), the rectangles do not intersect, and the area is 0."
      ],
      "metadata": {
        "id": "yoP01C2eiThV"
      }
    },
    {
      "cell_type": "markdown",
      "source": [
        "##Implementation:"
      ],
      "metadata": {
        "id": "0iAxwLRxjGCq"
      }
    },
    {
      "cell_type": "code",
      "execution_count": 1,
      "metadata": {
        "colab": {
          "base_uri": "https://localhost:8080/"
        },
        "id": "tVsT9lMOiLAx",
        "outputId": "011af5e7-ccf5-45aa-bfed-ed100b5054be"
      },
      "outputs": [
        {
          "output_type": "execute_result",
          "data": {
            "text/plain": [
              "6"
            ]
          },
          "metadata": {},
          "execution_count": 1
        }
      ],
      "source": [
        "def intersection_area(rect1, rect2):\n",
        "    # Extracting the top left and dimensions for both rectangles\n",
        "    x1, y1 = rect1[\"top_left\"]\n",
        "    w1, h1 = rect1[\"dimensions\"]\n",
        "    x2, y2 = rect2[\"top_left\"]\n",
        "    w2, h2 = rect2[\"dimensions\"]\n",
        "\n",
        "    # Calculating the bottom right coordinates of both rectangles\n",
        "    x1_br = x1 + w1\n",
        "    y1_br = y1 - h1\n",
        "    x2_br = x2 + w2\n",
        "    y2_br = y2 - h2\n",
        "\n",
        "    # Calculating the overlap in both dimensions\n",
        "    x_overlap = max(0, min(x1_br, x2_br) - max(x1, x2))\n",
        "    y_overlap = max(0, min(y1, y2) - max(y1_br, y2_br))\n",
        "\n",
        "    # If there is no overlap, return 0\n",
        "    if x_overlap <= 0 or y_overlap <= 0:\n",
        "        return 0\n",
        "\n",
        "    # Area of overlap\n",
        "    return x_overlap * y_overlap\n",
        "\n",
        "# Test with the provided example\n",
        "rect1 = {\"top_left\": (1, 4), \"dimensions\": (3, 3)}\n",
        "rect2 = {\"top_left\": (0, 5), \"dimensions\": (4, 3)}\n",
        "intersection_area(rect1, rect2)\n"
      ]
    },
    {
      "cell_type": "markdown",
      "source": [
        "The area of the intersection of the given rectangles is 6 square units. This result is obtained by calculating the overlap in both the x and y dimensions and then multiplying these overlaps to get the area of the intersection."
      ],
      "metadata": {
        "id": "TOVkkaCSi9H1"
      }
    }
  ]
}