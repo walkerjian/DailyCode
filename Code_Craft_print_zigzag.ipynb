{
  "nbformat": 4,
  "nbformat_minor": 0,
  "metadata": {
    "colab": {
      "provenance": [],
      "authorship_tag": "ABX9TyOUINnriMmswUEqWe+5urvV",
      "include_colab_link": true
    },
    "kernelspec": {
      "name": "python3",
      "display_name": "Python 3"
    },
    "language_info": {
      "name": "python"
    }
  },
  "cells": [
    {
      "cell_type": "markdown",
      "metadata": {
        "id": "view-in-github",
        "colab_type": "text"
      },
      "source": [
        "<a href=\"https://colab.research.google.com/github/walkerjian/DailyCode/blob/main/Code_Craft_print_zigzag.ipynb\" target=\"_parent\"><img src=\"https://colab.research.google.com/assets/colab-badge.svg\" alt=\"Open In Colab\"/></a>"
      ]
    },
    {
      "cell_type": "markdown",
      "source": [
        "Given a string and a number of lines k, print the string in zigzag form. In zigzag, characters are printed out diagonally from top left to bottom right until reaching the kth line, then back up to top right, and so on.\n",
        "\n",
        "For example, given the sentence \"thisisazigzag\" and k = 4, you should print:\n",
        "\n",
        "````\n",
        "t     a     g\n",
        " h   s z   a\n",
        "  i i   i z\n",
        "   s     g\n",
        "````"
      ],
      "metadata": {
        "id": "tpcmSbMBEp49"
      }
    },
    {
      "cell_type": "markdown",
      "source": [
        "To print a string in zigzag form, you can follow these steps:\n",
        "\n",
        "1. Create a list of strings to hold each row of the zigzag pattern.\n",
        "2. Traverse the input string, placing each character in the appropriate row.\n",
        "3. Use a variable to track the current row and a direction flag to determine whether you are moving down or up the rows.\n",
        "4. Print each row from the list.\n",
        "\n",
        "\n",
        "Explanation of the code:\n",
        "\n",
        "1. **Initialize Rows**: Create a list `rows` with `k` empty strings, where each string will represent a row in the zigzag pattern.\n",
        "2. **Tracking Rows and Direction**: Use `current_row` to keep track of the current row. `going_down` is a flag to determine the direction of the row traversal.\n",
        "3. **Traverse the String**: Loop through each character in the input string, appending the character to the appropriate row. Change the direction when reaching the top or bottom row.\n",
        "4. **Print the Rows**: Finally, print each row to form the zigzag pattern.\n",
        "\n",
        "When you run the provided example with the string \"thisisazigzag\" and `k = 4`, the output will be:\n",
        "\n",
        "```\n",
        "t     a     g\n",
        " h   s z   a\n",
        "  i i   i z\n",
        "   s     g\n",
        "```\n",
        "\n",
        "This code can handle different values of `k` and different input strings, correctly printing the zigzag pattern as described."
      ],
      "metadata": {
        "id": "ns69hDj5E2Jz"
      }
    },
    {
      "cell_type": "code",
      "source": [
        "def print_zigzag(string, k):\n",
        "    # Length of the string\n",
        "    n = len(string)\n",
        "\n",
        "    # Create a 2D array of spaces with dimensions k x n\n",
        "    zigzag = [[' ' for _ in range(n)] for _ in range(k)]\n",
        "\n",
        "    # Initialize variables to track current row and direction\n",
        "    row = 0\n",
        "    down = True\n",
        "\n",
        "    # Iterate over each character in the string\n",
        "    for i, char in enumerate(string):\n",
        "        # Place the character in the current position\n",
        "        zigzag[row][i] = char\n",
        "\n",
        "        # If we are moving down\n",
        "        if down:\n",
        "            if row == k - 1:\n",
        "                down = False\n",
        "                row -= 1\n",
        "            else:\n",
        "                row += 1\n",
        "        # If we are moving up\n",
        "        else:\n",
        "            if row == 0:\n",
        "                down = True\n",
        "                row += 1\n",
        "            else:\n",
        "                row -= 1\n",
        "\n",
        "    # Print the zigzag pattern\n",
        "    for r in zigzag:\n",
        "        print(''.join(r))\n",
        "\n",
        "# Example usage\n",
        "string = \"a;ksdjbiaohbg;kasjsdvkjvnpaskjdnvp;adjfvpiadfnjbsldfkjvnbaldkfjnvpdfksjnv\"\n",
        "k = 27\n",
        "print_zigzag(string, k)\n"
      ],
      "metadata": {
        "colab": {
          "base_uri": "https://localhost:8080/"
        },
        "id": "-YVigCaNI5Nm",
        "outputId": "6d7d8f24-506b-4798-c87a-02ed47aac0d9"
      },
      "execution_count": 26,
      "outputs": [
        {
          "output_type": "stream",
          "name": "stdout",
          "text": [
            "a                                                   k                    \n",
            " ;                                                 f j                   \n",
            "  k                                               d   v                  \n",
            "   s                                             l     n                 \n",
            "    d                                           s       b                \n",
            "     j                                         b         a               \n",
            "      b                                       j           l              \n",
            "       i                                     n             d             \n",
            "        a                                   f               k            \n",
            "         o                                 d                 f           \n",
            "          h                               a                   j          \n",
            "           b                             i                     n         \n",
            "            g                           p                       v        \n",
            "             ;                         v                         p       \n",
            "              k                       f                           d      \n",
            "               a                     j                             f     \n",
            "                s                   d                               k    \n",
            "                 j                 a                                 s   \n",
            "                  s               ;                                   j  \n",
            "                   d             p                                     n \n",
            "                    v           v                                       v\n",
            "                     k         n                                         \n",
            "                      j       d                                          \n",
            "                       v     j                                           \n",
            "                        n   k                                            \n",
            "                         p s                                             \n",
            "                          a                                              \n"
          ]
        }
      ]
    }
  ]
}