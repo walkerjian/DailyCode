{
  "nbformat": 4,
  "nbformat_minor": 0,
  "metadata": {
    "colab": {
      "provenance": [],
      "authorship_tag": "ABX9TyOU3SZl+DPltzULT4mMFv+P",
      "include_colab_link": true
    },
    "kernelspec": {
      "name": "python3",
      "display_name": "Python 3"
    },
    "language_info": {
      "name": "python"
    }
  },
  "cells": [
    {
      "cell_type": "markdown",
      "metadata": {
        "id": "view-in-github",
        "colab_type": "text"
      },
      "source": [
        "<a href=\"https://colab.research.google.com/github/walkerjian/DailyCode/blob/main/Code_Craft_HeapStack.ipynb\" target=\"_parent\"><img src=\"https://colab.research.google.com/assets/colab-badge.svg\" alt=\"Open In Colab\"/></a>"
      ]
    },
    {
      "cell_type": "markdown",
      "source": [
        "##Problem:\n",
        "Implement a stack API using only a heap. A stack implements the following methods:\n",
        "\n",
        "push(item), which adds an element to the stack\n",
        "pop(), which removes and returns the most recently added element (or throws an error if there is nothing on the stack)\n",
        "Recall that a heap has the following operations:\n",
        "\n",
        "push(item), which adds a new key to the heap\n",
        "pop(), which removes and returns the max value of the heap"
      ],
      "metadata": {
        "id": "Zktxk9sRuUsa"
      }
    },
    {
      "cell_type": "markdown",
      "source": [
        "##Solution:\n",
        "Implementing a stack API using only a heap requires a strategy to maintain the stack's Last In, First Out (LIFO) order using the heap's structure, which naturally follows a different order, either Min Heap (the smallest element is always on top) or Max Heap (the largest element is always on top).\n",
        "\n",
        "The core challenge is that a heap is designed to efficiently remove the smallest or largest element (depending on if it's a min-heap or max-heap), not the most recently added element. To simulate stack behavior (LIFO) with a heap, we can use timestamps or an increasing counter to keep track of the insertion order. By associating each element pushed onto the \"stack\" with an incrementing count, we can ensure that the most recently pushed item can be identified as having the highest count. Thus, by using a max-heap based on these counts, the item most recently added will always be at the top of the heap.\n",
        "\n",
        "Here's a Python class that implements a stack using a max heap. We'll use the heapq module, which provides an implementation of the min heap. To create a max heap, we'll store tuples in the heap with a count that decreases with each push (as Python's heapq is a min heap, we invert the count to simulate max heap behavior):\n",
        "\n",
        "```python\n",
        "import heapq\n",
        "\n",
        "class StackUsingHeap:\n",
        "    def __init__(self):\n",
        "        self.heap = []\n",
        "        self.current = 0  # This will act as a decreasing counter\n",
        "    \n",
        "    def push(self, item):\n",
        "        # Use a negative count because heapq is a min heap, but we need max heap behavior\n",
        "        heapq.heappush(self.heap, (-self.current, item))\n",
        "        self.current += 1  # Increment the counter for the next item\n",
        "    \n",
        "    def pop(self):\n",
        "        if not self.heap:\n",
        "            raise IndexError(\"pop from an empty stack\")\n",
        "        # heapq.heappop returns the smallest item, so use -count to simulate stack behavior\n",
        "        _, item = heapq.heappop(self.heap)\n",
        "        return item\n",
        "\n",
        "# Example usage\n",
        "stack = StackUsingHeap()\n",
        "stack.push(1)\n",
        "stack.push(2)\n",
        "stack.push(3)\n",
        "\n",
        "print(stack.pop())  # Should print 3\n",
        "print(stack.pop())  # Should print 2\n",
        "print(stack.pop())  # Should print 1\n",
        "```\n",
        "\n",
        "This implementation leverages a decreasing counter to ensure that the most recently added item will always be considered the \"largest\" in the context of the min heap provided by Python's `heapq` module. The `push` method adds elements with their count to the heap, and the `pop` method retrieves and removes the element with the highest count, effectively mimicking stack behavior."
      ],
      "metadata": {
        "id": "D3qD4R67uXyU"
      }
    },
    {
      "cell_type": "markdown",
      "source": [
        "##Testing:"
      ],
      "metadata": {
        "id": "yRyEH00puiHQ"
      }
    },
    {
      "cell_type": "code",
      "execution_count": 1,
      "metadata": {
        "colab": {
          "base_uri": "https://localhost:8080/"
        },
        "id": "qJYc_IqTuTyS",
        "outputId": "ef747642-be6b-4e72-a7b5-c307ac61d15f"
      },
      "outputs": [
        {
          "output_type": "stream",
          "name": "stdout",
          "text": [
            "3\n",
            "2\n",
            "1\n"
          ]
        }
      ],
      "source": [
        "import heapq\n",
        "\n",
        "class StackUsingHeap:\n",
        "    def __init__(self):\n",
        "        self.heap = []\n",
        "        self.current = 0  # This will act as a decreasing counter\n",
        "\n",
        "    def push(self, item):\n",
        "        # Use a negative count because heapq is a min heap, but we need max heap behavior\n",
        "        heapq.heappush(self.heap, (-self.current, item))\n",
        "        self.current += 1  # Increment the counter for the next item\n",
        "\n",
        "    def pop(self):\n",
        "        if not self.heap:\n",
        "            raise IndexError(\"pop from an empty stack\")\n",
        "        # heapq.heappop returns the smallest item, so use -count to simulate stack behavior\n",
        "        _, item = heapq.heappop(self.heap)\n",
        "        return item\n",
        "\n",
        "# Example usage\n",
        "stack = StackUsingHeap()\n",
        "stack.push(1)\n",
        "stack.push(2)\n",
        "stack.push(3)\n",
        "\n",
        "print(stack.pop())  # Should print 3\n",
        "print(stack.pop())  # Should print 2\n",
        "print(stack.pop())  # Should print 1\n"
      ]
    }
  ]
}