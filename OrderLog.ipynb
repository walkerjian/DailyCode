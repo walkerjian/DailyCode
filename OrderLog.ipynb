{
  "nbformat": 4,
  "nbformat_minor": 0,
  "metadata": {
    "colab": {
      "provenance": [],
      "authorship_tag": "ABX9TyOmcnrlK+grrkx7h2XLBmlc",
      "include_colab_link": true
    },
    "kernelspec": {
      "name": "python3",
      "display_name": "Python 3"
    },
    "language_info": {
      "name": "python"
    }
  },
  "cells": [
    {
      "cell_type": "markdown",
      "metadata": {
        "id": "view-in-github",
        "colab_type": "text"
      },
      "source": [
        "<a href=\"https://colab.research.google.com/github/walkerjian/DailyCode/blob/main/OrderLog.ipynb\" target=\"_parent\"><img src=\"https://colab.research.google.com/assets/colab-badge.svg\" alt=\"Open In Colab\"/></a>"
      ]
    },
    {
      "cell_type": "markdown",
      "source": [
        "## OrderLog\n",
        "You run an e-commerce website and want to record the last N order ids in a log. Implement a data structure to accomplish this, with the following API:\n",
        "\n",
        "record(order_id): adds the order_id to the log\n",
        "get_last(i): gets the ith last element from the log. i is guaranteed to be smaller than or equal to N."
      ],
      "metadata": {
        "id": "TIpBLuIBWARi"
      }
    },
    {
      "cell_type": "markdown",
      "source": [
        "## The Solution:\n",
        "One way to implement this is using a circular buffer. A circular buffer is a fixed-size array in which the end connects back to the beginning. This allows for efficient \"rolling\" insertions and retrievals. The idea is to maintain a fixed-size array of size \\( N \\) and a pointer to the last inserted position. Every time we record a new order, we move the pointer one position forward (wrapping around if necessary) and overwrite the previous value."
      ],
      "metadata": {
        "id": "GEXhXKwuWIIW"
      }
    },
    {
      "cell_type": "code",
      "source": [
        "class OrderLog:\n",
        "    def __init__(self, N):\n",
        "        self.N = N\n",
        "        self.buffer = [None] * N\n",
        "        self.position = 0\n",
        "\n",
        "    def record(self, order_id):\n",
        "        self.buffer[self.position] = order_id\n",
        "        self.position = (self.position + 1) % self.N\n",
        "\n",
        "    def get_last(self, i):\n",
        "        return self.buffer[(self.position - i + self.N) % self.N]\n",
        "\n",
        "# Let's test the solution\n",
        "\n",
        "log = OrderLog(5)\n",
        "\n",
        "# Recording some orders\n",
        "orders = [1, 2, 3, 4, 5, 6, 7, 8]\n",
        "for order in orders:\n",
        "    log.record(order)\n",
        "\n",
        "# Getting the last 3 orders\n",
        "last_orders = [log.get_last(i) for i in range(1, 4)]\n",
        "\n",
        "last_orders\n"
      ],
      "metadata": {
        "colab": {
          "base_uri": "https://localhost:8080/"
        },
        "id": "RuxyaiRDS_5a",
        "outputId": "af56c2b4-a44c-4199-9172-85466b818174"
      },
      "execution_count": 2,
      "outputs": [
        {
          "output_type": "execute_result",
          "data": {
            "text/plain": [
              "[8, 7, 6]"
            ]
          },
          "metadata": {},
          "execution_count": 2
        }
      ]
    },
    {
      "cell_type": "markdown",
      "source": [
        "### Here's a brief explanation of the methods:\n",
        "\n",
        "1. `record(order_id)`: This inserts the order_id at the current position and then moves the pointer one step forward. If the pointer reaches the end of the buffer, it wraps around to the beginning.\n",
        "2. `get_last(i)`: To retrieve the ith last element, we start at the current position, move backwards by \\( i \\) steps, and then correct for any underflow by adding \\( N \\). Finally, we take the result modulo \\( N \\) to get the index in the buffer.\n",
        "\n",
        "This design ensures that both `record` and `get_last` operations run in \\( O(1) \\) time."
      ],
      "metadata": {
        "id": "JId8-hIqWfQ4"
      }
    },
    {
      "cell_type": "markdown",
      "source": [
        "### Efficient Solution, C++:\n",
        "If we want to optimize both time and space and are open to using a language that's more efficient for systems tasks, then C++ is a great choice. C++ provides low-level memory management, allowing for direct and efficient memory access.\n",
        "This C++ version of the circular buffer is both time and space efficient. Each operation (`record` and `get_last`) runs in \\( O(1) \\) time, and the space used is exactly \\( N \\) integers (plus a small constant overhead).\n",
        "\n",
        "This is about as efficient as you can get with this problem. The only way to improve further would be hardware-specific optimizations, which are beyond the scope of this discussion."
      ],
      "metadata": {
        "id": "cB4-WBn7Wnjl"
      }
    },
    {
      "cell_type": "code",
      "source": [
        "%%writefile order_log.cpp\n",
        "#include <iostream>\n",
        "#include <vector>\n",
        "\n",
        "class OrderLog {\n",
        "private:\n",
        "    int N;\n",
        "    std::vector<int> buffer;\n",
        "    int position;\n",
        "\n",
        "public:\n",
        "    OrderLog(int N) : N(N), buffer(N), position(0) {}\n",
        "\n",
        "    void record(int order_id) {\n",
        "        buffer[position] = order_id;\n",
        "        position = (position + 1) % N;\n",
        "    }\n",
        "\n",
        "    int get_last(int i) {\n",
        "        return buffer[(position - i + N) % N];\n",
        "    }\n",
        "};\n",
        "\n",
        "int main() {\n",
        "    OrderLog log(5);\n",
        "\n",
        "    // Recording some orders\n",
        "    for (int order : {1, 2, 3, 4, 5, 6, 7, 8}) {\n",
        "        log.record(order);\n",
        "    }\n",
        "\n",
        "    // Getting the last 3 orders\n",
        "    std::cout << \"Last 3 orders: \";\n",
        "    for (int i = 1; i <= 3; i++) {\n",
        "        std::cout << log.get_last(i) << \" \";\n",
        "    }\n",
        "    std::cout << std::endl;\n",
        "\n",
        "    return 0;\n",
        "}\n"
      ],
      "metadata": {
        "colab": {
          "base_uri": "https://localhost:8080/"
        },
        "id": "Dq6e0EfBTT8O",
        "outputId": "8fdd26fe-6d01-490f-d697-8b3c98476d44"
      },
      "execution_count": 3,
      "outputs": [
        {
          "output_type": "stream",
          "name": "stdout",
          "text": [
            "Writing order_log.cpp\n"
          ]
        }
      ]
    },
    {
      "cell_type": "code",
      "source": [
        "!g++ order_log.cpp -o order_log"
      ],
      "metadata": {
        "id": "JODFuBMwTe8X"
      },
      "execution_count": 4,
      "outputs": []
    },
    {
      "cell_type": "code",
      "source": [
        "!./order_log"
      ],
      "metadata": {
        "colab": {
          "base_uri": "https://localhost:8080/"
        },
        "id": "FGHqKcH0Tf4Z",
        "outputId": "dca3b090-2978-4463-dd62-2f7101079231"
      },
      "execution_count": 5,
      "outputs": [
        {
          "output_type": "stream",
          "name": "stdout",
          "text": [
            "Last 3 orders: 8 7 6 \n"
          ]
        }
      ]
    },
    {
      "cell_type": "code",
      "source": [
        "!g++ -std=c++20 -O3 -march=native order_log.cpp -o order_logEff -lpthread"
      ],
      "metadata": {
        "id": "ObG8UcyiTis5"
      },
      "execution_count": 6,
      "outputs": []
    },
    {
      "cell_type": "code",
      "source": [
        "!./order_logEff"
      ],
      "metadata": {
        "colab": {
          "base_uri": "https://localhost:8080/"
        },
        "id": "jltGC2CVUkOh",
        "outputId": "b5ef9402-11d7-4bc5-da99-396b85424705"
      },
      "execution_count": 7,
      "outputs": [
        {
          "output_type": "stream",
          "name": "stdout",
          "text": [
            "Last 3 orders: 8 7 6 \n"
          ]
        }
      ]
    },
    {
      "cell_type": "markdown",
      "source": [
        "##Optimisation:\n",
        "Testing the execution time and the size of the executable before and after optimization allows you to quantify the benefits of your optimization efforts. Here's how you can do it:\n",
        "\n",
        "### 1. Compilation:\n",
        "\n",
        "First, compile your code without optimization:\n",
        "\n",
        "```bash\n",
        "g++ -std=c++20 order_log.cpp -o order_log_no_optimization -lpthread\n",
        "```\n",
        "\n",
        "Then, compile your code with optimization:\n",
        "\n",
        "```bash\n",
        "g++ -std=c++20 -O3 -march=native order_log.cpp -o order_log_optimized -lpthread\n",
        "```\n",
        "\n",
        "### 2. Check the Size of the Executable:\n",
        "\n",
        "To check the size of the compiled executables:\n",
        "\n",
        "```bash\n",
        "ls -lh order_log_no_optimization order_log_optimized\n",
        "```\n",
        "\n",
        "This will give you the file sizes of both executables, allowing you to compare them.\n",
        "\n",
        "### 3. Measure Execution Time:\n",
        "\n",
        "To measure the execution time of your program, you can use the `time` command.\n",
        "\n",
        "For the non-optimized version:\n",
        "\n",
        "```bash\n",
        "time ./order_log_no_optimization\n",
        "```\n",
        "\n",
        "For the optimized version:\n",
        "\n",
        "```bash\n",
        "time ./order_log_optimized\n",
        "```\n",
        "\n",
        "The `time` command will give you three times:\n",
        "\n",
        "- `real`: The actual elapsed time (often referred to as \"wall-clock time\").\n",
        "- `user`: The total CPU time spent in user-mode.\n",
        "- `sys`: The total CPU time spent in kernel-mode.\n",
        "\n",
        "The `real` time is typically what you're most interested in, but `user` and `sys` can also provide insights, especially if you're doing a lot of system calls.\n",
        "\n",
        "### 4. Interpretation:\n",
        "\n",
        "- If the optimized version's executable size is smaller, the compiler was able to remove redundant code or perform other size optimizations.\n",
        "- If the optimized version runs faster (lower `real` time), the performance optimizations were effective.\n",
        "  \n",
        "However, note that optimization can sometimes make the executable larger, especially if the compiler inlines functions or performs other transformations that increase code size for the sake of speed.\n",
        "\n",
        "Remember to test the functionality of your program both before and after optimization to ensure that the optimization hasn't introduced any bugs."
      ],
      "metadata": {
        "id": "Ieqh-7IqW3iA"
      }
    },
    {
      "cell_type": "code",
      "source": [
        "!g++ -std=c++20 order_log.cpp -o order_log_no_optimization -lpthread"
      ],
      "metadata": {
        "id": "AdTVKBy7Us0C"
      },
      "execution_count": 8,
      "outputs": []
    },
    {
      "cell_type": "code",
      "source": [
        "!g++ -std=c++20 -O3 -march=native order_log.cpp -o order_log_optimized -lpthread"
      ],
      "metadata": {
        "id": "TALbl_3jVGXl"
      },
      "execution_count": 9,
      "outputs": []
    },
    {
      "cell_type": "code",
      "source": [
        "!ls -lh order_log_no_optimization order_log_optimized"
      ],
      "metadata": {
        "colab": {
          "base_uri": "https://localhost:8080/"
        },
        "id": "6vnz7DwuVJEt",
        "outputId": "8fb2b46c-f430-468e-8be9-ca7af7699f6a"
      },
      "execution_count": 10,
      "outputs": [
        {
          "output_type": "stream",
          "name": "stdout",
          "text": [
            "-rwxr-xr-x 1 root root 25K Sep 29 00:26 order_log_no_optimization\n",
            "-rwxr-xr-x 1 root root 17K Sep 29 00:26 order_log_optimized\n"
          ]
        }
      ]
    },
    {
      "cell_type": "code",
      "source": [
        "!time ./order_log_no_optimization"
      ],
      "metadata": {
        "colab": {
          "base_uri": "https://localhost:8080/"
        },
        "id": "DmrAf4GLVNfs",
        "outputId": "f0da1bd9-3d1b-4214-b6ec-cfdbdda6a76e"
      },
      "execution_count": 11,
      "outputs": [
        {
          "output_type": "stream",
          "name": "stdout",
          "text": [
            "Last 3 orders: 8 7 6 \n",
            "\n",
            "real\t0m0.003s\n",
            "user\t0m0.002s\n",
            "sys\t0m0.001s\n"
          ]
        }
      ]
    },
    {
      "cell_type": "code",
      "source": [
        "!time ./order_log_optimized"
      ],
      "metadata": {
        "colab": {
          "base_uri": "https://localhost:8080/"
        },
        "id": "Bgzx_SCcVR8P",
        "outputId": "d62eadd6-b460-414b-cf91-90c2b9d7cb59"
      },
      "execution_count": 12,
      "outputs": [
        {
          "output_type": "stream",
          "name": "stdout",
          "text": [
            "Last 3 orders: 8 7 6 \n",
            "\n",
            "real\t0m0.003s\n",
            "user\t0m0.001s\n",
            "sys\t0m0.002s\n"
          ]
        }
      ]
    },
    {
      "cell_type": "markdown",
      "source": [
        "### Optimisation Results:\n",
        "\n",
        "### Size of the Executable:\n",
        "- **Non-optimized version**: 25K\n",
        "- **Optimized version**: 17K\n",
        "\n",
        "Clearly, the optimized version of the executable is smaller by 8K, which is a reduction of approximately 32%. This indicates that the compiler was able to perform optimizations that reduced the size of the generated binary, such as removing redundant code or optimizing certain sections.\n",
        "\n",
        "### Execution Time:\n",
        "Both versions of the program have a `real` execution time of `0m0.003s`, indicating that the wall-clock time to run the program did not change significantly with optimization.\n",
        "\n",
        "However, there are some minor differences in the `user` and `sys` times:\n",
        "- **Non-optimized version**:\n",
        "  - `user`: 0m0.002s\n",
        "  - `sys`: 0m0.001s\n",
        "- **Optimized version**:\n",
        "  - `user`: 0m0.001s (slightly reduced)\n",
        "  - `sys`: 0m0.002s (slightly increased)\n",
        "\n",
        "The `user` time has decreased by a small amount in the optimized version, suggesting that some CPU-bound operations were made more efficient. However, the `sys` time has increased by the same small amount, suggesting that there may be slightly more time spent in system calls or kernel mode.\n",
        "\n",
        "### Conclusion:\n",
        "The optimization flags successfully reduced the size of the binary, which can be beneficial, especially if disk space or distribution size is a concern. In terms of execution time, the differences are minimal for this particular program, likely because the operations performed by the program are already quite simple and fast. The minor variations in `user` and `sys` times are within the margins of error for such short-running programs.\n",
        "\n",
        "In real-world scenarios with more complex programs that have longer execution times, the effects of optimization can be more pronounced. However, for this specific use-case, the primary benefit observed is the reduction in binary size."
      ],
      "metadata": {
        "id": "kSUpDbaCV0DF"
      }
    },
    {
      "cell_type": "code",
      "source": [],
      "metadata": {
        "id": "jPASkF_LXzYT"
      },
      "execution_count": null,
      "outputs": []
    }
  ]
}