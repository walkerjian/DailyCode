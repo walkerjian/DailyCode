{
  "nbformat": 4,
  "nbformat_minor": 0,
  "metadata": {
    "colab": {
      "provenance": [],
      "authorship_tag": "ABX9TyPHANqtYR8yq0yYeFGzwaEo",
      "include_colab_link": true
    },
    "kernelspec": {
      "name": "python3",
      "display_name": "Python 3"
    },
    "language_info": {
      "name": "python"
    }
  },
  "cells": [
    {
      "cell_type": "markdown",
      "metadata": {
        "id": "view-in-github",
        "colab_type": "text"
      },
      "source": [
        "<a href=\"https://colab.research.google.com/github/walkerjian/DailyCode/blob/main/Code_Craft_ListSum.ipynb\" target=\"_parent\"><img src=\"https://colab.research.google.com/assets/colab-badge.svg\" alt=\"Open In Colab\"/></a>"
      ]
    },
    {
      "cell_type": "markdown",
      "source": [
        "#Problem:\n",
        "Given a list of numbers L, implement a method sum(i, j) which returns the sum from the sublist L[i:j] (including i, excluding j).\n",
        "\n",
        "For example, given L = [1, 2, 3, 4, 5], sum(1, 3) should return sum([2, 3]), which is 5.\n",
        "\n",
        "You can assume that you can do some pre-processing. sum() should be optimized over the pre-processing step."
      ],
      "metadata": {
        "id": "tH7CkhIN6Ovd"
      }
    },
    {
      "cell_type": "markdown",
      "source": [
        "##Solution:\n",
        "To efficiently compute the sum of any subarray from the given list $ L $, we can leverage the technique of prefix sums. Here's how we can approach this:\n",
        "\n",
        "### Pre-processing Step:\n",
        "1. Construct a prefix sum array $ \\text{prefix}[] $ where each element at index $ i $ stores the sum of elements from the start of the list $ L $ up to the $ i $-th element (exclusive). This means $ \\text{prefix}[i] $ will be the sum of elements $ L[0], L[1], \\ldots, L[i-1] $.\n",
        "2. Initialize $ \\text{prefix}[0] $ to 0 because there are no elements before the start of the list.\n",
        "3. For each subsequent index $ i $, $ \\text{prefix}[i] $ is calculated as $ \\text{prefix}[i-1] + L[i-1] $. This way, each entry in $ \\text{prefix} $ is the cumulative sum up to but not including the current index.\n",
        "\n",
        "### sum(i, j) Method:\n",
        "- To find the sum of elements from index $ i $ to $ j-1 $ in $ L $, simply compute:\n",
        "  $$\n",
        "  \\text{sum}(i, j) = \\text{prefix}[j] - \\text{prefix}[i]\n",
        "$$\n",
        "  This effectively gives the sum of elements in $ L[i:j] $ since $ \\text{prefix}[j] $ includes all elements up to $ j-1 $ and $ \\text{prefix}[i] $ excludes elements before $ i $.\n",
        "\n",
        "This approach ensures that the sum function can be computed in $ O(1) $ time after an $ O(n) $ preprocessing step, where $ n $ is the number of elements in $ L $."
      ],
      "metadata": {
        "id": "itQ9Rbxe6Twn"
      }
    },
    {
      "cell_type": "markdown",
      "source": [
        "##Implementation:"
      ],
      "metadata": {
        "id": "Cb3P4iVt6W-J"
      }
    },
    {
      "cell_type": "code",
      "source": [
        "class ListSum:\n",
        "    def __init__(self, L):\n",
        "        self.L = L\n",
        "        self.prefix = [0] * (len(L) + 1)\n",
        "        for i in range(1, len(self.prefix)):\n",
        "            self.prefix[i] = self.prefix[i-1] + L[i-1]\n",
        "\n",
        "    def sum(self, i, j):\n",
        "        return self.prefix[j] - self.prefix[i]"
      ],
      "metadata": {
        "id": "lve1Yewi6N4N"
      },
      "execution_count": 1,
      "outputs": []
    },
    {
      "cell_type": "markdown",
      "source": [
        "##Testing:"
      ],
      "metadata": {
        "id": "rmascGp76a_Q"
      }
    },
    {
      "cell_type": "code",
      "execution_count": 2,
      "metadata": {
        "id": "kVX9PbNY6M7_",
        "colab": {
          "base_uri": "https://localhost:8080/"
        },
        "outputId": "2399ba85-fd15-4dbb-a958-56a1c6620324"
      },
      "outputs": [
        {
          "output_type": "stream",
          "name": "stdout",
          "text": [
            "5\n"
          ]
        }
      ],
      "source": [
        "L = [1, 2, 3, 4, 5]\n",
        "sum_obj = ListSum(L)\n",
        "result = sum_obj.sum(1, 3)  # Should compute the sum of elements at indices 1 and 2 which are 2 and 3.\n",
        "print(result)  # Output: 5"
      ]
    }
  ]
}