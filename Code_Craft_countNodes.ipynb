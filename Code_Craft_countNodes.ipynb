{
  "nbformat": 4,
  "nbformat_minor": 0,
  "metadata": {
    "colab": {
      "provenance": [],
      "authorship_tag": "ABX9TyNdOqOug6ePYxFIR4kecQdj",
      "include_colab_link": true
    },
    "kernelspec": {
      "name": "python3",
      "display_name": "Python 3"
    },
    "language_info": {
      "name": "python"
    }
  },
  "cells": [
    {
      "cell_type": "markdown",
      "metadata": {
        "id": "view-in-github",
        "colab_type": "text"
      },
      "source": [
        "<a href=\"https://colab.research.google.com/github/walkerjian/DailyCode/blob/main/Code_Craft_countNodes.ipynb\" target=\"_parent\"><img src=\"https://colab.research.google.com/assets/colab-badge.svg\" alt=\"Open In Colab\"/></a>"
      ]
    },
    {
      "cell_type": "markdown",
      "source": [
        "##Problem\n",
        "Given a complete binary tree, count the number of nodes in faster than O(n) time. Recall that a complete binary tree has every level filled except the last, and the nodes in the last level are filled starting from the left."
      ],
      "metadata": {
        "id": "2lWyrXjB8EeD"
      }
    },
    {
      "cell_type": "markdown",
      "source": [
        "##Solution\n",
        "To count the number of nodes in a complete binary tree in faster than $ O(n) $ time, we can use a divide and conquer approach that exploits the properties of the complete binary tree. The idea is to find the height of the leftmost and rightmost paths of the tree, and if they are equal, it means that the tree is a perfect binary tree for that part, and we can calculate the number of nodes directly using $ 2^{\\text{height}} - 1 $. If the heights are not equal, we recursively calculate the number of nodes in the left and right subtrees.\n",
        "\n",
        "Here is how the algorithm works in detail:\n",
        "\n",
        "1. Compute the height of the leftmost path (left height) and the rightmost path (right height).\n",
        "2. If the left height is equal to the right height, then the tree is a perfect binary tree, and the total number of nodes can be computed as $ 2^{\\text{height}} - 1 $.\n",
        "3. If the left height is not equal to the right height, recursively count the nodes in the left and right subtrees and add 1 for the root node.\n",
        "\n",
        "This approach works faster than $ O(n) $ because it reduces the problem size by approximately half at each step, leading to a time complexity of $ O(\\log^2 n) $."
      ],
      "metadata": {
        "id": "jIohycTB8Hjb"
      }
    },
    {
      "cell_type": "markdown",
      "source": [
        "##Implementation\n",
        "In this implementation:\n",
        "\n",
        "- `TreeNode` represents a node in the binary tree.\n",
        "- `countNodes` is the function to count the nodes in the complete binary tree.\n",
        "- `get_height` calculates the height of the tree from the left or right edge, depending on the `is_left` flag."
      ],
      "metadata": {
        "id": "pkWuQrLB8K8H"
      }
    },
    {
      "cell_type": "code",
      "execution_count": 13,
      "metadata": {
        "id": "TIIt0l_k7Oi1"
      },
      "outputs": [],
      "source": [
        "class TreeNode:\n",
        "    def __init__(self, val=0, left=None, right=None):\n",
        "        self.val = val\n",
        "        self.left = left\n",
        "        self.right = right\n",
        "\n",
        "def countNodes(root):\n",
        "    if not root:\n",
        "        return 0\n",
        "\n",
        "    left_height = get_height(root, True)\n",
        "    right_height = get_height(root, False)\n",
        "\n",
        "    if left_height == right_height:\n",
        "        return (2 ** left_height) - 1\n",
        "    else:\n",
        "        return 1 + countNodes(root.left) + countNodes(root.right)\n",
        "\n",
        "def get_height(node, is_left):\n",
        "    height = 0\n",
        "    while node:\n",
        "        height += 1\n",
        "        node = node.left if is_left else node.right\n",
        "    return height\n"
      ]
    },
    {
      "cell_type": "markdown",
      "source": [
        "##Modified Algorithm\n",
        "It's possible to optimize the counting by combining the height calculation with counting the leaves in the last layer to potentially speed up the process. The idea is to first determine the total height of the tree by traversing down the leftmost path. Then, instead of simply checking if the left and right heights are equal, we can perform a binary search on the last level to count the number of leaves. This way, we don't have to traverse the entire tree but only the paths necessary to count the leaves on the last level.\n",
        "\n",
        "Here's how we can approach this:\n",
        "\n",
        "1. Calculate the total height of the tree by traversing the leftmost path.\n",
        "2. Perform a binary search on the last level to find the count of leaves in it. This involves checking whether a node exists at a particular position in the last level, which can be done by following the path determined by the binary representation of the position number.\n",
        "3. Once we have the number of leaves in the last level, we can calculate the total number of nodes in the tree as the sum of the number of nodes in all full levels (which is \\(2^{\\text{height}} - 1\\)) and the number of leaves in the last level.\n",
        "\n",
        "The approach of combining the height calculation with a binary search for the count of leaves in the last layer can be more efficient than traversing the entire tree. This method aims to directly find the missing nodes in the last level of the complete binary tree, thus reducing the number of nodes that need to be visited.\n",
        "\n",
        "Why this method can be more efficient:\n",
        "\n",
        "1. **Height Calculation**: The height of the tree is calculated by traversing only the leftmost path, which takes \\( O(\\log n) \\) time, where \\( n \\) is the total number of nodes in the tree.\n",
        "\n",
        "2. **Binary Search on the Last Level**: The binary search on the last level also takes \\( O(\\log n) \\) time since it halves the search space at each step, and there are at most \\( 2^{\\text{height}} \\) nodes in the last level.\n",
        "\n",
        "3. **Reduced Node Visits**: Instead of visiting every node in the tree, this method specifically targets the last level to find the exact count of nodes, which can significantly reduce the number of node visits, especially in a large tree.\n",
        "\n",
        "Thus, the overall time complexity of this approach is \\( O(\\log^2 n) \\), which comes from the \\( O(\\log n) \\) height calculation and the \\( O(\\log n) \\) binary search. This is more efficient than the \\( O(n) \\) time complexity of a straightforward approach that visits every node.\n",
        "\n",
        "In summary, this optimized method leverages the structure of the complete binary tree to minimize the number of nodes visited during the counting process, which can lead to a significant performance improvement, especially for large trees."
      ],
      "metadata": {
        "id": "S-VXFsRWCtl8"
      }
    },
    {
      "cell_type": "markdown",
      "source": [
        "\n",
        "## Modified implementation\n",
        "In this code:\n",
        "- `get_height` finds the total height of the tree.\n",
        "- `node_exists` checks if a node at a specific index exists in the last level, using a binary path based on the index's binary representation.\n",
        "- The main `countNodes` function uses binary search to find how many leaves are in the last level and then calculates the total number of nodes accordingly.\n",
        "\n"
      ],
      "metadata": {
        "id": "cunixe5mC361"
      }
    },
    {
      "cell_type": "code",
      "source": [
        "class TreeNode:\n",
        "    def __init__(self, val=0, left=None, right=None):\n",
        "        self.val = val\n",
        "        self.left = left\n",
        "        self.right = right\n",
        "\n",
        "def countNodes(root):\n",
        "    if not root:\n",
        "        return 0\n",
        "\n",
        "    height = get_height(root)\n",
        "    if height == 0:\n",
        "        return 1\n",
        "\n",
        "    # The number of nodes in the last level can be between 1 and 2^height\n",
        "    left, right = 0, 2**height - 1\n",
        "    while left <= right:\n",
        "        mid = (left + right) // 2\n",
        "        if node_exists(mid, height, root):\n",
        "            left = mid + 1\n",
        "        else:\n",
        "            right = mid - 1\n",
        "\n",
        "    # Total nodes = full tree nodes + last level nodes\n",
        "    return (2**height - 1) + left\n",
        "\n",
        "def get_height(node):\n",
        "    height = 0\n",
        "    while node.left:\n",
        "        node = node.left\n",
        "        height += 1\n",
        "    return height\n",
        "\n",
        "def node_exists(idx, height, node):\n",
        "    left, right = 0, 2**height - 1\n",
        "    for _ in range(height):\n",
        "        mid = (left + right) // 2\n",
        "        if idx <= mid:\n",
        "            node = node.left\n",
        "            right = mid\n",
        "        else:\n",
        "            node = node.right\n",
        "            left = mid + 1\n",
        "    return node is not None"
      ],
      "metadata": {
        "id": "7arfxk2ORsA8"
      },
      "execution_count": 2,
      "outputs": []
    },
    {
      "cell_type": "markdown",
      "source": [
        "##Testing:\n"
      ],
      "metadata": {
        "id": "wcaruNyfYogT"
      }
    },
    {
      "cell_type": "code",
      "source": [
        "class TreeNode:\n",
        "    def __init__(self, val=0, left=None, right=None):\n",
        "        self.val = val\n",
        "        self.left = left\n",
        "        self.right = right\n",
        "\n",
        "# Approach 1: Recursively counting all nodes\n",
        "def countNodesRecursive(root):\n",
        "    if not root:\n",
        "        return 0\n",
        "\n",
        "    return 1 + countNodesRecursive(root.left) + countNodesRecursive(root.right)\n",
        "\n",
        "# Approach 2: Using binary search on the last level\n",
        "def countNodesBinarySearch(root):\n",
        "    def get_height(node):\n",
        "        height = 0\n",
        "        while node:\n",
        "            node = node.left\n",
        "            height += 1\n",
        "        return height\n",
        "\n",
        "    def node_exists(idx, height, node):\n",
        "        left, right = 0, 2**(height - 1) - 1\n",
        "        for _ in range(height - 1):\n",
        "            mid = (left + right) // 2\n",
        "            if idx <= mid:\n",
        "                node = node.left\n",
        "                right = mid\n",
        "            else:\n",
        "                node = node.right\n",
        "                left = mid + 1\n",
        "        return node is not None\n",
        "\n",
        "    if not root:\n",
        "        return 0\n",
        "\n",
        "    height = get_height(root) - 1  # Adjusted for 0-based indexing\n",
        "    if height == 0:\n",
        "        return 1\n",
        "\n",
        "    left, right = 0, 2**height - 1\n",
        "    while left <= right:\n",
        "        mid = (left + right) // 2\n",
        "        if node_exists(mid, height, root):\n",
        "            left = mid + 1\n",
        "        else:\n",
        "            right = mid - 1\n",
        "\n",
        "    return (2**height - 1) + left\n",
        "\n",
        "# Testing both approaches with a sample tree\n",
        "# Constructing a complete binary tree\n",
        "#         1\n",
        "#       /   \\\n",
        "#      2     3\n",
        "#     / \\   /\n",
        "#    4   5 6\n",
        "root = TreeNode(1)\n",
        "root.left = TreeNode(2)\n",
        "root.right = TreeNode(3)\n",
        "root.left.left = TreeNode(4)\n",
        "root.left.right = TreeNode(5)\n",
        "root.right.left = TreeNode(6)\n",
        "\n",
        "# Count nodes using both methods\n",
        "count_recursive = countNodesRecursive(root)\n",
        "count_binary_search = countNodesBinarySearch(root)\n",
        "\n",
        "count_recursive, count_binary_search\n"
      ],
      "metadata": {
        "colab": {
          "base_uri": "https://localhost:8080/"
        },
        "id": "de64oGD3EwVS",
        "outputId": "f40e3cea-420a-49f0-b9b4-e00580174910"
      },
      "execution_count": 6,
      "outputs": [
        {
          "output_type": "execute_result",
          "data": {
            "text/plain": [
              "(6, 7)"
            ]
          },
          "metadata": {},
          "execution_count": 6
        }
      ]
    },
    {
      "cell_type": "markdown",
      "source": [
        "##Issues\n",
        "There is a discrepancy in the node counts between the two methods: the recursive approach counted 6 nodes, while the binary search approach counted 7 nodes. This inconsistency suggests there might be an issue with the binary search implementation, particularly in how the last level's nodes are being counted.\n",
        "\n",
        "To debug and correct the implementation of the binary search method we need to ensure that the height calculation and the binary search logic correctly determine the number of nodes in the last level of the tree.\n",
        "\n",
        "1. **Height Calculation**: Ensure that the height calculation reflects the actual number of levels in the tree.\n",
        "2. **Binary Search**: Verify that the binary search accurately finds the boundary between existing and non-existing nodes in the last level.\n",
        "\n",
        "##Correction\n"
      ],
      "metadata": {
        "id": "nDsJGcwkGlq8"
      }
    },
    {
      "cell_type": "code",
      "source": [
        "class TreeNode:\n",
        "    def __init__(self, val=0, left=None, right=None):\n",
        "        self.val = val\n",
        "        self.left = left\n",
        "        self.right = right\n",
        "\n",
        "# Approach 1: Recursively counting all nodes\n",
        "def countNodesRecursive(root):\n",
        "    if not root:\n",
        "        return 0\n",
        "\n",
        "    return 1 + countNodesRecursive(root.left) + countNodesRecursive(root.right)\n",
        "\n",
        "# Approach 2: Using binary search on the last level\n",
        "def countNodesBinarySearch(root):\n",
        "    def get_height(node):\n",
        "        height = 0\n",
        "        while node:\n",
        "            node = node.left\n",
        "            height += 1\n",
        "        return height\n",
        "\n",
        "    def node_exists(idx, height, node):\n",
        "        left, right = 0, 2**(height - 1) - 1\n",
        "        for _ in range(height - 1):\n",
        "            mid = (left + right) // 2\n",
        "            if idx <= mid:\n",
        "                node = node.left\n",
        "                right = mid\n",
        "            else:\n",
        "                node = node.right\n",
        "                left = mid + 1\n",
        "        return node is not None\n",
        "\n",
        "    if not root:\n",
        "        return 0\n",
        "\n",
        "    height = get_height(root) - 1  # Adjusted for 0-based indexing\n",
        "    if height == 0:\n",
        "        return 1\n",
        "\n",
        "    left, right = 0, 2**height - 1\n",
        "    while left <= right:\n",
        "        mid = (left + right) // 2\n",
        "        if node_exists(mid, height, root):\n",
        "            left = mid + 1\n",
        "        else:\n",
        "            right = mid - 1\n",
        "\n",
        "    return (2**height - 1) + left\n",
        "\n",
        "# Testing both approaches with a sample tree\n",
        "# Constructing a complete binary tree\n",
        "#         1\n",
        "#       /   \\\n",
        "#      2     3\n",
        "#     / \\   /\n",
        "#    4   5 6\n",
        "root = TreeNode(1)\n",
        "root.left = TreeNode(2)\n",
        "root.right = TreeNode(3)\n",
        "root.left.left = TreeNode(4)\n",
        "root.left.right = TreeNode(5)\n",
        "root.right.left = TreeNode(6)\n",
        "\n",
        "# Count nodes using both methods\n",
        "count_recursive = countNodesRecursive(root)\n",
        "count_binary_search = countNodesBinarySearch(root)\n",
        "\n",
        "count_recursive, count_binary_search\n"
      ],
      "metadata": {
        "colab": {
          "base_uri": "https://localhost:8080/"
        },
        "id": "m-Mi_qIxFAbw",
        "outputId": "814f8e3f-814a-41a0-e005-31d283c6c538"
      },
      "execution_count": 8,
      "outputs": [
        {
          "output_type": "execute_result",
          "data": {
            "text/plain": [
              "(6, 7)"
            ]
          },
          "metadata": {},
          "execution_count": 8
        }
      ]
    },
    {
      "cell_type": "code",
      "source": [
        "# Correcting the binary search approach\n",
        "\n",
        "def countNodesBinarySearchCorrected(root):\n",
        "    def get_height(node):\n",
        "        height = 0\n",
        "        while node.left:  # Only traverse through the left to get the height\n",
        "            node = node.left\n",
        "            height += 1\n",
        "        return height\n",
        "\n",
        "    def node_exists(idx, height, node):\n",
        "        left, right = 0, 2**height - 1\n",
        "        for _ in range(height):\n",
        "            mid = (left + right) // 2\n",
        "            if idx <= mid:\n",
        "                node = node.left\n",
        "                right = mid\n",
        "            else:\n",
        "                node = node.right\n",
        "                left = mid + 1\n",
        "        return node is not None\n",
        "\n",
        "    if not root:\n",
        "        return 0\n",
        "\n",
        "    height = get_height(root)\n",
        "    if height == 0:  # Tree with only one node\n",
        "        return 1\n",
        "\n",
        "    left, right = 0, 2**height - 1\n",
        "    while left <= right:\n",
        "        mid = (left + right) // 2\n",
        "        if node_exists(mid, height, root):\n",
        "            left = mid + 1\n",
        "        else:\n",
        "            right = mid - 1\n",
        "\n",
        "    # Nodes in the last level are counted by left index in the binary search\n",
        "    return (2**height) + left - 1\n",
        "\n",
        "# Retesting the corrected binary search method\n",
        "count_binary_search_corrected = countNodesBinarySearchCorrected(root)\n",
        "\n",
        "count_recursive, count_binary_search_corrected\n"
      ],
      "metadata": {
        "colab": {
          "base_uri": "https://localhost:8080/"
        },
        "id": "Nccr5k_kFJap",
        "outputId": "beacf3b6-ec65-4369-bbd9-558657cdf972"
      },
      "execution_count": 9,
      "outputs": [
        {
          "output_type": "execute_result",
          "data": {
            "text/plain": [
              "(6, 6)"
            ]
          },
          "metadata": {},
          "execution_count": 9
        }
      ]
    },
    {
      "cell_type": "markdown",
      "source": [
        "##Visual Verification"
      ],
      "metadata": {
        "id": "9z61pSC_HU9s"
      }
    },
    {
      "cell_type": "code",
      "source": [
        "def plot_tree(root):\n",
        "    if not root:\n",
        "        return \"The tree is empty.\"\n",
        "\n",
        "    # Function to add nodes and edges to the graph\n",
        "    def add_nodes_edges(node, pos, x=0, y=0, layer=1):\n",
        "        pos[node] = (x, y)\n",
        "        if node.left:\n",
        "            pos, layer = add_nodes_edges(node.left, pos, x - 1 / layer, y - 1, layer + 1)\n",
        "        if node.right:\n",
        "            pos, layer = add_nodes_edges(node.right, pos, x + 1 / layer, y - 1, layer + 1)\n",
        "        return pos, layer\n",
        "\n",
        "    # Initialize the graph and position dictionary\n",
        "    graph = nx.DiGraph()\n",
        "    pos = {}\n",
        "    pos, _ = add_nodes_edges(root, pos)\n",
        "\n",
        "    # Create labels for nodes\n",
        "    labels = {node: node.val for node in pos.keys()}\n",
        "\n",
        "    # Add nodes and edges to the graph\n",
        "    for node in pos.keys():\n",
        "        graph.add_node(node)\n",
        "        if node.left:\n",
        "            graph.add_edge(node, node.left)\n",
        "        if node.right:\n",
        "            graph.add_edge(node, node.right)\n",
        "\n",
        "    # Draw the tree\n",
        "    nx.draw(graph, pos, labels=labels, with_labels=True, node_size=700, node_color='skyblue', font_size=10, arrows=False)\n",
        "    plt.title(\"Binary Tree Representation\")\n",
        "    plt.show()\n",
        "\n",
        "plot_tree(root)\n"
      ],
      "metadata": {
        "colab": {
          "base_uri": "https://localhost:8080/",
          "height": 539
        },
        "id": "DJRQsWLUEnew",
        "outputId": "1d54100d-def0-401c-d3e9-f664e4823d32"
      },
      "execution_count": 12,
      "outputs": [
        {
          "output_type": "display_data",
          "data": {
            "text/plain": [
              "<Figure size 640x480 with 1 Axes>"
            ],
            "image/png": "[encoded data removed]"
          },
          "metadata": {}
        }
      ]
    },
    {
      "cell_type": "markdown",
      "source": [
        "The binary tree has been successfully plotted, displaying the structure of the tree from the root down, with each node and its connections. This visualization helps to understand the tree's layout and the relationships between nodes."
      ],
      "metadata": {
        "id": "6Gh41KSa8HDP"
      }
    }
  ]
}