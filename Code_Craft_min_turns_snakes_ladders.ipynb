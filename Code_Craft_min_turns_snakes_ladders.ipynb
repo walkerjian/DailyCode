{
  "nbformat": 4,
  "nbformat_minor": 0,
  "metadata": {
    "colab": {
      "provenance": [],
      "authorship_tag": "ABX9TyPAn66vu+4YIG+wBdt0cLCM",
      "include_colab_link": true
    },
    "kernelspec": {
      "name": "python3",
      "display_name": "Python 3"
    },
    "language_info": {
      "name": "python"
    }
  },
  "cells": [
    {
      "cell_type": "markdown",
      "metadata": {
        "id": "view-in-github",
        "colab_type": "text"
      },
      "source": [
        "<a href=\"https://colab.research.google.com/github/walkerjian/DailyCode/blob/main/Code_Craft_min_turns_snakes_ladders.ipynb\" target=\"_parent\"><img src=\"https://colab.research.google.com/assets/colab-badge.svg\" alt=\"Open In Colab\"/></a>"
      ]
    },
    {
      "cell_type": "markdown",
      "source": [
        "##Problem:\n",
        "Snakes and Ladders is a game played on a 10 x 10 board, the goal of which is get from square 1 to square 100. On each turn players will roll a six-sided die and move forward a number of spaces equal to the result. If they land on a square that represents a snake or ladder, they will be transported ahead or behind, respectively, to a new square.\n",
        "\n",
        "Find the smallest number of turns it takes to play snakes and ladders.\n",
        "\n",
        "For convenience, here are the squares representing snakes and ladders, and their outcomes:\n",
        "\n",
        "snakes = {16: 6, 48: 26, 49: 11, 56: 53, 62: 19, 64: 60, 87: 24, 93: 73, 95: 75, 98: 78}\n",
        "\n",
        "ladders = {1: 38, 4: 14, 9: 31, 21: 42, 28: 84, 36: 44, 51: 67, 71: 91, 80: 100}"
      ],
      "metadata": {
        "id": "OKT9eBOFBYRL"
      }
    },
    {
      "cell_type": "markdown",
      "source": [
        "To solve this problem of finding the smallest number of turns it takes to win a game of Snakes and Ladders on a 10x10 board, we can model the board as a graph and employ the Breadth-First Search (BFS) algorithm. Each square on the board is a node in the graph, and each possible dice roll represents an edge connecting nodes.\n",
        "\n",
        "### Steps to Solve:\n",
        "\n",
        "1. **Create a Graph Representation:**\n",
        "   - Each node (square) connects to the next 6 nodes corresponding to the outcomes of rolling a 6-sided die.\n",
        "   - If the resulting square is a snake or a ladder, the connection will redirect to the square specified by the snakes or ladders dictionary.\n",
        "\n",
        "2. **Apply BFS Algorithm:**\n",
        "   - Begin from node 1 (start square).\n",
        "   - Explore all nodes reachable within one die roll, then move to those reachable in two rolls, and so on.\n",
        "   - This approach ensures that when we first reach node 100 (end square), it is through the shortest path.\n",
        "\n",
        "3. **Record Moves Using BFS:**\n",
        "   - Use a queue to keep track of each node and the number of moves taken to get there.\n",
        "   - For nodes that have been visited, skip to avoid unnecessary calculations.\n",
        "\n",
        "### Implementation:\n",
        "\n",
        "Let's code this BFS approach in Python to determine the minimum number of turns needed to reach the final square.\n",
        "\n",
        "### Explanation:\n",
        "This implementation builds a board representation where each square points directly to where a player would end up after accounting for ladders and snakes. The BFS algorithm then simulates rolling the die and moving from square to square, tracking the minimum moves needed to reach the final square. When square 100 is reached for the first time in the BFS process, we can be sure that it's done in the minimal number of moves due to the nature of BFS."
      ],
      "metadata": {
        "id": "fmzoMXdtBio8"
      }
    },
    {
      "cell_type": "code",
      "execution_count": 1,
      "metadata": {
        "colab": {
          "base_uri": "https://localhost:8080/"
        },
        "id": "cE2yb588BWVk",
        "outputId": "96eefdb0-d487-4480-d035-368ff7b1cdeb"
      },
      "outputs": [
        {
          "output_type": "stream",
          "name": "stdout",
          "text": [
            "The minimum number of turns to win Snakes and Ladders is: 7\n"
          ]
        }
      ],
      "source": [
        "from collections import deque\n",
        "\n",
        "def min_turns_snakes_ladders(snakes, ladders):\n",
        "    # Create the board transitions with ladders and snakes\n",
        "    board = list(range(101))\n",
        "    for start, end in ladders.items():\n",
        "        board[start] = end\n",
        "    for start, end in snakes.items():\n",
        "        board[start] = end\n",
        "\n",
        "    # BFS initialization\n",
        "    queue = deque([(1, 0)])  # (current square, current number of moves)\n",
        "    visited = set([1])       # Track visited nodes\n",
        "\n",
        "    while queue:\n",
        "        current_square, current_moves = queue.popleft()\n",
        "\n",
        "        if current_square == 100:\n",
        "            return current_moves  # Reached the last square\n",
        "\n",
        "        # Explore the next moves from the current square\n",
        "        for dice_roll in range(1, 7):\n",
        "            next_square = current_square + dice_roll\n",
        "            if next_square <= 100 and next_square not in visited:  # Check board bounds and if already visited\n",
        "                visited.add(next_square)\n",
        "                final_square = board[next_square]\n",
        "                queue.append((final_square, current_moves + 1))\n",
        "\n",
        "    return -1  # If somehow the 100 square is not reachable\n",
        "\n",
        "# Define snakes and ladders\n",
        "snakes = {16: 6, 48: 26, 49: 11, 56: 53, 62: 19, 64: 60, 87: 24, 93: 73, 95: 75, 98: 78}\n",
        "ladders = {1: 38, 4: 14, 9: 31, 21: 42, 28: 84, 36: 44, 51: 67, 71: 91, 80: 100}\n",
        "\n",
        "# Get the minimum number of turns\n",
        "min_turns = min_turns_snakes_ladders(snakes, ladders)\n",
        "print(f\"The minimum number of turns to win Snakes and Ladders is: {min_turns}\")"
      ]
    }
  ]
}