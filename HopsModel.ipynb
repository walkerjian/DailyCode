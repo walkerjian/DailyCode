{
  "nbformat": 4,
  "nbformat_minor": 0,
  "metadata": {
    "colab": {
      "provenance": [],
      "authorship_tag": "ABX9TyPTYAtLIHIK7tYdzllkfM43",
      "include_colab_link": true
    },
    "kernelspec": {
      "name": "python3",
      "display_name": "Python 3"
    },
    "language_info": {
      "name": "python"
    }
  },
  "cells": [
    {
      "cell_type": "markdown",
      "metadata": {
        "id": "view-in-github",
        "colab_type": "text"
      },
      "source": [
        "<a href=\"https://colab.research.google.com/github/walkerjian/DailyCode/blob/main/HopsModel.ipynb\" target=\"_parent\"><img src=\"https://colab.research.google.com/assets/colab-badge.svg\" alt=\"Open In Colab\"/></a>"
      ]
    },
    {
      "cell_type": "code",
      "execution_count": 1,
      "metadata": {
        "colab": {
          "base_uri": "https://localhost:8080/"
        },
        "id": "1VZZpj32nSLV",
        "outputId": "40a73590-0ae4-49d3-f121-33ddd96d8a89"
      },
      "outputs": [
        {
          "output_type": "stream",
          "name": "stdout",
          "text": [
            "Input list: [2, 0, 1, 0]\n",
            "Can hop to last index: True\n"
          ]
        }
      ],
      "source": [
        "# First, let's implement the Model that contains the core logic for solving the problem.\n",
        "\n",
        "class HopsModel:\n",
        "    \"\"\"\n",
        "    The Model component in the MVC paradigm for solving the \"can hop to last index\" problem.\n",
        "\n",
        "    This class contains the core logic that determines if one can hop to the last index of a list\n",
        "    starting from the first index. Each element in the list represents the maximum number of hops that\n",
        "    can be taken from that index.\n",
        "    \"\"\"\n",
        "\n",
        "    @staticmethod\n",
        "    def can_hop_to_last_index(nums):\n",
        "        \"\"\"\n",
        "        Determines if it is possible to reach the last index from the first index based on the given list.\n",
        "\n",
        "        Args:\n",
        "        - nums (list of int): The input list where each element represents the maximum number of hops.\n",
        "\n",
        "        Returns:\n",
        "        - bool: True if it is possible to reach the last index, otherwise False.\n",
        "        \"\"\"\n",
        "\n",
        "        max_reachable = 0\n",
        "        for i, n in enumerate(nums):\n",
        "            if i > max_reachable:\n",
        "                return False\n",
        "            max_reachable = max(max_reachable, i + n)\n",
        "\n",
        "        return True\n",
        "\n",
        "\n",
        "# Now, let's implement the View that will display the input and output.\n",
        "\n",
        "class HopsView:\n",
        "    \"\"\"\n",
        "    The View component in the MVC paradigm for solving the \"can hop to last index\" problem.\n",
        "\n",
        "    This class handles the display of the input list and the output result.\n",
        "    \"\"\"\n",
        "\n",
        "    @staticmethod\n",
        "    def display_input(nums):\n",
        "        \"\"\"Displays the input list.\"\"\"\n",
        "        print(f\"Input list: {nums}\")\n",
        "\n",
        "    @staticmethod\n",
        "    def display_output(result):\n",
        "        \"\"\"Displays the output result.\"\"\"\n",
        "        print(f\"Can hop to last index: {result}\")\n",
        "\n",
        "\n",
        "# Finally, let's implement the Controller that will manage the flow between the Model and the View.\n",
        "\n",
        "class HopsController:\n",
        "    \"\"\"\n",
        "    The Controller component in the MVC paradigm for solving the \"can hop to last index\" problem.\n",
        "\n",
        "    This class coordinates between the Model and the View.\n",
        "    \"\"\"\n",
        "\n",
        "    def __init__(self, model, view):\n",
        "        \"\"\"Initializes the Controller with a given Model and View.\"\"\"\n",
        "        self.model = model\n",
        "        self.view = view\n",
        "\n",
        "    def run(self, nums):\n",
        "        \"\"\"\n",
        "        Orchestrates the flow for determining if one can hop to the last index in the given list.\n",
        "\n",
        "        Args:\n",
        "        - nums (list of int): The input list where each element represents the maximum number of hops.\n",
        "        \"\"\"\n",
        "        self.view.display_input(nums)\n",
        "        result = self.model.can_hop_to_last_index(nums)\n",
        "        self.view.display_output(result)\n",
        "\n",
        "\n",
        "# Let's test the MVC components with a sample input to make sure everything is working as expected.\n",
        "\n",
        "sample_input = [2, 0, 1, 0]\n",
        "controller = HopsController(HopsModel, HopsView)\n",
        "controller.run(sample_input)\n"
      ]
    },
    {
      "cell_type": "code",
      "source": [
        "# The MVC components seem to be working well together. Now let's write the test function to extensively test the code.\n",
        "\n",
        "def test_can_hop_to_last_index():\n",
        "    \"\"\"\n",
        "    Test function for the 'can_hop_to_last_index' problem. Tests the Model's core logic\n",
        "    using a variety of test cases.\n",
        "    \"\"\"\n",
        "    test_cases = [\n",
        "        # Test cases from the problem description\n",
        "        {'input': [2, 0, 1, 0], 'expected': True},\n",
        "        {'input': [1, 1, 0, 1], 'expected': False},\n",
        "\n",
        "        # Additional test cases\n",
        "        {'input': [3, 2, 1, 0, 4], 'expected': False},\n",
        "        {'input': [2, 3, 1, 1, 4], 'expected': True},\n",
        "        {'input': [1, 0], 'expected': True},\n",
        "        {'input': [0], 'expected': True},\n",
        "        {'input': [0, 1], 'expected': False},\n",
        "        {'input': [1, 2, 0, 0, 1], 'expected': False},\n",
        "        {'input': [2, 5, 0, 0, 1], 'expected': True},\n",
        "        {'input': [1] * 100, 'expected': True}\n",
        "    ]\n",
        "\n",
        "    for i, test_case in enumerate(test_cases):\n",
        "        nums = test_case['input']\n",
        "        expected = test_case['expected']\n",
        "\n",
        "        # Use the Model's logic to get the actual output\n",
        "        actual = HopsModel.can_hop_to_last_index(nums)\n",
        "\n",
        "        # Check if the actual output matches the expected output\n",
        "        assert actual == expected, f\"Test case {i+1} failed: input({nums}) => output({actual}), expected({expected})\"\n",
        "\n",
        "        print(f\"Test case {i+1} passed: input({nums}) => output({actual}), expected({expected})\")\n",
        "\n",
        "# Run the test function\n",
        "test_can_hop_to_last_index()\n"
      ],
      "metadata": {
        "colab": {
          "base_uri": "https://localhost:8080/"
        },
        "id": "pJ2gwbkenl8L",
        "outputId": "2864191a-9634-4194-fca7-0615ad4898ec"
      },
      "execution_count": 2,
      "outputs": [
        {
          "output_type": "stream",
          "name": "stdout",
          "text": [
            "Test case 1 passed: input([2, 0, 1, 0]) => output(True), expected(True)\n",
            "Test case 2 passed: input([1, 1, 0, 1]) => output(False), expected(False)\n",
            "Test case 3 passed: input([3, 2, 1, 0, 4]) => output(False), expected(False)\n",
            "Test case 4 passed: input([2, 3, 1, 1, 4]) => output(True), expected(True)\n",
            "Test case 5 passed: input([1, 0]) => output(True), expected(True)\n",
            "Test case 6 passed: input([0]) => output(True), expected(True)\n",
            "Test case 7 passed: input([0, 1]) => output(False), expected(False)\n",
            "Test case 8 passed: input([1, 2, 0, 0, 1]) => output(False), expected(False)\n",
            "Test case 9 passed: input([2, 5, 0, 0, 1]) => output(True), expected(True)\n",
            "Test case 10 passed: input([1, 1, 1, 1, 1, 1, 1, 1, 1, 1, 1, 1, 1, 1, 1, 1, 1, 1, 1, 1, 1, 1, 1, 1, 1, 1, 1, 1, 1, 1, 1, 1, 1, 1, 1, 1, 1, 1, 1, 1, 1, 1, 1, 1, 1, 1, 1, 1, 1, 1, 1, 1, 1, 1, 1, 1, 1, 1, 1, 1, 1, 1, 1, 1, 1, 1, 1, 1, 1, 1, 1, 1, 1, 1, 1, 1, 1, 1, 1, 1, 1, 1, 1, 1, 1, 1, 1, 1, 1, 1, 1, 1, 1, 1, 1, 1, 1, 1, 1, 1]) => output(True), expected(True)\n"
          ]
        }
      ]
    },
    {
      "cell_type": "code",
      "source": [
        "def can_hop_to_last_index(nums):\n",
        "    \"\"\"\n",
        "    Determines if it is possible to reach the last index from the first index based on the given list.\n",
        "\n",
        "    Args:\n",
        "    - nums (list of int): The input list where each element represents the maximum number of hops.\n",
        "\n",
        "    Returns:\n",
        "    - bool: True if it is possible to reach the last index, otherwise False.\n",
        "    \"\"\"\n",
        "\n",
        "    max_reachable = 0\n",
        "    for i, n in enumerate(nums):\n",
        "        if i > max_reachable:\n",
        "            return False\n",
        "        max_reachable = max(max_reachable, i + n)\n",
        "\n",
        "    return True\n",
        "\n",
        "# Let's test the function with a sample case to ensure it's working correctly.\n",
        "\n",
        "print(\"[2, 0, 1, 0] \",can_hop_to_last_index([2, 0, 1, 0]))  # Expected output: True\n",
        "print(\"[1, 1, 0, 1] \",can_hop_to_last_index([1, 1, 0, 1]))  # Expected output: False\n"
      ],
      "metadata": {
        "colab": {
          "base_uri": "https://localhost:8080/"
        },
        "id": "LV7cCtpcnoIV",
        "outputId": "d30fdcd6-9367-41d6-877f-df408b836341"
      },
      "execution_count": 4,
      "outputs": [
        {
          "output_type": "stream",
          "name": "stdout",
          "text": [
            "[2, 0, 1, 0]  True\n",
            "[1, 1, 0, 1]  False\n"
          ]
        }
      ]
    },
    {
      "cell_type": "code",
      "source": [],
      "metadata": {
        "id": "3GgNqJDGoHig"
      },
      "execution_count": null,
      "outputs": []
    }
  ]
}