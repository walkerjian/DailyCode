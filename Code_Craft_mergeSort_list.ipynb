{
  "nbformat": 4,
  "nbformat_minor": 0,
  "metadata": {
    "colab": {
      "provenance": [],
      "authorship_tag": "ABX9TyP1Bad36IMVOpZIWPBJXFno",
      "include_colab_link": true
    },
    "kernelspec": {
      "name": "python3",
      "display_name": "Python 3"
    },
    "language_info": {
      "name": "python"
    }
  },
  "cells": [
    {
      "cell_type": "markdown",
      "metadata": {
        "id": "view-in-github",
        "colab_type": "text"
      },
      "source": [
        "<a href=\"https://colab.research.google.com/github/walkerjian/DailyCode/blob/main/Code_Craft_mergeSort_list.ipynb\" target=\"_parent\"><img src=\"https://colab.research.google.com/assets/colab-badge.svg\" alt=\"Open In Colab\"/></a>"
      ]
    },
    {
      "cell_type": "markdown",
      "source": [
        "#Problem:\n",
        "Given a linked list, sort it in O(n log n) time and constant space.\n",
        "\n",
        "For example, the linked list 4 -> 1 -> -3 -> 99 should become -3 -> 1 -> 4 -> 99."
      ],
      "metadata": {
        "id": "tH7CkhIN6Ovd"
      }
    },
    {
      "cell_type": "markdown",
      "source": [
        "##Solution:\n",
        "To sort a linked list in \\( O(n \\log n) \\) time complexity and constant space, we can use the merge sort algorithm. Merge sort is particularly suitable for linked lists because it can be implemented to use constant space, making it more efficient than other \\( O(n \\log n) \\) algorithms like quick sort or heap sort for linked lists.\n",
        "\n",
        "Here's how you can implement merge sort for a linked list in a language like Python:\n",
        "\n",
        "1. **Divide the list into two halves**: Find the middle of the list using the fast and slow pointer technique, and split the list into two halves.\n",
        "2. **Recursively sort the two halves**: Apply merge sort on each half recursively until you have lists of single elements.\n",
        "3. **Merge the sorted halves**: Combine the two sorted halves into a single sorted list.\n"
      ],
      "metadata": {
        "id": "itQ9Rbxe6Twn"
      }
    },
    {
      "cell_type": "markdown",
      "source": [
        "##Implementation:\n",
        "\n",
        "Let's implement this algorithm in Python:\n"
      ],
      "metadata": {
        "id": "Cb3P4iVt6W-J"
      }
    },
    {
      "cell_type": "code",
      "source": [
        "class ListNode:\n",
        "    def __init__(self, value=0, next=None):\n",
        "        self.value = value\n",
        "        self.next = next\n",
        "\n",
        "def mergeSort(head):\n",
        "    if not head or not head.next:\n",
        "        return head\n",
        "\n",
        "    # Step 1: Divide the list into two halves\n",
        "    middle = getMiddle(head)\n",
        "    next_to_middle = middle.next\n",
        "    middle.next = None\n",
        "\n",
        "    # Step 2: Recursively sort the two halves\n",
        "    left = mergeSort(head)\n",
        "    right = mergeSort(next_to_middle)\n",
        "\n",
        "    # Step 3: Merge the sorted halves\n",
        "    sorted_list = merge(left, right)\n",
        "    return sorted_list\n",
        "\n",
        "def getMiddle(head):\n",
        "    if not head:\n",
        "        return head\n",
        "\n",
        "    slow = head\n",
        "    fast = head\n",
        "\n",
        "    while fast.next and fast.next.next:\n",
        "        slow = slow.next\n",
        "        fast = fast.next.next\n",
        "\n",
        "    return slow\n",
        "\n",
        "def merge(left, right):\n",
        "    if not left:\n",
        "        return right\n",
        "    if not right:\n",
        "        return left\n",
        "\n",
        "    if left.value <= right.value:\n",
        "        result = left\n",
        "        result.next = merge(left.next, right)\n",
        "    else:\n",
        "        result = right\n",
        "        result.next = merge(left, right.next)\n",
        "\n",
        "    return result\n"
      ],
      "metadata": {
        "id": "lve1Yewi6N4N"
      },
      "execution_count": 1,
      "outputs": []
    },
    {
      "cell_type": "markdown",
      "source": [
        "This code defines a `ListNode` class to represent each element in the linked list, and three functions: `mergeSort` to sort the linked list, `getMiddle` to find the middle of the list, and `merge` to combine two sorted lists into one.\n",
        "\n",
        "You would call `mergeSort(head)` with the head of your linked list to sort it. For example, if you have a linked list `4 -> 1 -> -3 -> 99`, you would create this list in the ListNode structure and pass the head of this list to the `mergeSort` function to sort it."
      ],
      "metadata": {
        "id": "pt2ECs4m8nrz"
      }
    },
    {
      "cell_type": "markdown",
      "source": [
        "##Testing:"
      ],
      "metadata": {
        "id": "rmascGp76a_Q"
      }
    },
    {
      "cell_type": "code",
      "execution_count": null,
      "metadata": {
        "id": "kVX9PbNY6M7_"
      },
      "outputs": [],
      "source": []
    }
  ]
}