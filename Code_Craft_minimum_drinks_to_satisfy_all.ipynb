{
  "nbformat": 4,
  "nbformat_minor": 0,
  "metadata": {
    "colab": {
      "provenance": [],
      "authorship_tag": "ABX9TyNAfx7tz9b0gflkrb82ShJ2",
      "include_colab_link": true
    },
    "kernelspec": {
      "name": "python3",
      "display_name": "Python 3"
    },
    "language_info": {
      "name": "python"
    }
  },
  "cells": [
    {
      "cell_type": "markdown",
      "metadata": {
        "id": "view-in-github",
        "colab_type": "text"
      },
      "source": [
        "<a href=\"https://colab.research.google.com/github/walkerjian/DailyCode/blob/main/Code_Craft_minimum_drinks_to_satisfy_all.ipynb\" target=\"_parent\"><img src=\"https://colab.research.google.com/assets/colab-badge.svg\" alt=\"Open In Colab\"/></a>"
      ]
    },
    {
      "cell_type": "markdown",
      "source": [
        "#Problem:\n",
        "At a popular bar, each customer has a set of favorite drinks, and will happily accept any drink among this set. For example, in the following situation, customer 0 will be satisfied with drinks 0, 1, 3, or 6.\n",
        "````\n",
        "preferences = {\n",
        "    0: [0, 1, 3, 6],\n",
        "    1: [1, 4, 7],\n",
        "    2: [2, 4, 7, 5],\n",
        "    3: [3, 2, 5],\n",
        "    4: [5, 8]\n",
        "}\n",
        "````\n",
        "A lazy bartender working at this bar is trying to reduce his effort by limiting the drink recipes he must memorize. Given a dictionary input such as the one above, return the fewest number of drinks he must learn in order to satisfy all customers.\n",
        "\n",
        "For the input above, the answer would be 2, as drinks 1 and 5 will satisfy everyone."
      ],
      "metadata": {
        "id": "tH7CkhIN6Ovd"
      }
    },
    {
      "cell_type": "markdown",
      "source": [
        "##Solution:\n",
        "To solve this problem, we can model it as a \"Set Cover\" problem, which is a well-known computational problem. Here's a summary of how we approach the solution:\n",
        "\n",
        "1. **Problem Definition:** Each customer has a set of drinks they like (preferences). The goal is to find the smallest set of drinks such that every customer has at least one drink they like.\n",
        "\n",
        "2. **Set Cover Formulation:** We want to cover all the \"elements\" (customers) with the fewest number of \"sets\" (drink preferences). Each drink can be viewed as a set that \"covers\" the customers who like that drink.\n",
        "\n",
        "3. **Algorithm:** The Set Cover problem is NP-complete, meaning there is no known polynomial-time solution that solves all instances optimally. However, a common approach is to use a greedy algorithm:\n",
        "   - Repeatedly select the drink that covers the most uncovered customers until all are covered.\n",
        "\n",
        "4. **Implementation Steps:**\n",
        "   - Convert the preferences into a format where we can easily see which customers are satisfied by each drink.\n",
        "   - Implement a greedy algorithm to select the drinks.\n",
        "\n"
      ],
      "metadata": {
        "id": "itQ9Rbxe6Twn"
      }
    },
    {
      "cell_type": "markdown",
      "source": [
        "##Implementation:\n",
        "This Python function implements the greedy algorithm for the Set Cover approximation. It will not always find the optimal solution due to the nature of the problem, but it should work effectively for practical purposes, especially on smaller or simpler datasets like the one given."
      ],
      "metadata": {
        "id": "Cb3P4iVt6W-J"
      }
    },
    {
      "cell_type": "code",
      "source": [
        "def minimum_drinks_to_satisfy_all(preferences):\n",
        "    # Create a dictionary to keep track of which customers can be satisfied by each drink\n",
        "    from collections import defaultdict\n",
        "    drink_to_customers = defaultdict(set)\n",
        "\n",
        "    # Map each drink to the customers it satisfies\n",
        "    for customer, drinks in preferences.items():\n",
        "        for drink in drinks:\n",
        "            drink_to_customers[drink].add(customer)\n",
        "\n",
        "    # All customers we need to satisfy\n",
        "    all_customers = set(preferences.keys())\n",
        "\n",
        "    # Selected drinks\n",
        "    selected_drinks = set()\n",
        "    # Customers that are still not satisfied\n",
        "    uncovered_customers = all_customers.copy()\n",
        "\n",
        "    # Greedy algorithm to cover all customers\n",
        "    while uncovered_customers:\n",
        "        # Select the drink that covers the most uncovered customers\n",
        "        best_drink = None\n",
        "        best_cover = set()\n",
        "\n",
        "        for drink, customers in drink_to_customers.items():\n",
        "            cover = customers & uncovered_customers\n",
        "            if len(cover) > len(best_cover):\n",
        "                best_cover = cover\n",
        "                best_drink = drink\n",
        "\n",
        "        # Add the best drink to our solution\n",
        "        selected_drinks.add(best_drink)\n",
        "        # Remove the covered customers from the uncovered set\n",
        "        uncovered_customers -= best_cover\n",
        "\n",
        "    return len(selected_drinks)\n",
        "\n"
      ],
      "metadata": {
        "id": "lve1Yewi6N4N"
      },
      "execution_count": 3,
      "outputs": []
    },
    {
      "cell_type": "markdown",
      "source": [
        "##Testing:"
      ],
      "metadata": {
        "id": "rmascGp76a_Q"
      }
    },
    {
      "cell_type": "code",
      "execution_count": 2,
      "metadata": {
        "id": "kVX9PbNY6M7_",
        "colab": {
          "base_uri": "https://localhost:8080/"
        },
        "outputId": "fd0d6f45-ae1a-4ddb-9abf-dde0df84ab7f"
      },
      "outputs": [
        {
          "output_type": "stream",
          "name": "stdout",
          "text": [
            "2\n"
          ]
        }
      ],
      "source": [
        "# Test the function with the provided example\n",
        "preferences = {\n",
        "    0: [0, 1, 3, 6],\n",
        "    1: [1, 4, 7],\n",
        "    2: [2, 4, 7, 5],\n",
        "    3: [3, 2, 5],\n",
        "    4: [5, 8]\n",
        "}\n",
        "\n",
        "print(minimum_drinks_to_satisfy_all(preferences))  # Expected output: 2"
      ]
    },
    {
      "cell_type": "markdown",
      "source": [
        "Create a unique drink that may not be covered by any single customer's list but could potentially appeal to many due to its diverse ingredients.\n",
        "\n",
        "From the customer preferences:\n",
        "- **Drink 0**: Might include something classic like vodka.\n",
        "- **Drink 1**: Could have a common mixer like cranberry juice.\n",
        "- **Drink 2**: Let's add something a bit exotic like elderflower syrup.\n",
        "- **Drink 3**: A touch of citrus, perhaps lemon juice.\n",
        "- **Drink 4**: We'll include ginger beer for a spicy kick.\n",
        "- **Drink 5**: A smooth addition, such as peach schnapps.\n",
        "- **Drink 6**: We'll go with something tropical, like coconut water.\n",
        "- **Drink 7**: A dash of grenadine for a bit of sweetness and color.\n",
        "- **Drink 8**: Top it off with a splash of soda for fizz.\n",
        "\n",
        "**Recipe for the \"Mix Not Covered\" Cocktail**:\n",
        "1. Start with a base of vodka (from Drink 0).\n",
        "2. Add cranberry juice (from Drink 1) for a fruity layer.\n",
        "3. Introduce a hint of elderflower syrup (from Drink 2) for floral notes.\n",
        "4. Squeeze in some lemon juice (from Drink 3) for a citrusy punch.\n",
        "5. Pour a dash of ginger beer (from Drink 4) for spice.\n",
        "6. Add a bit of peach schnapps (from Drink 5) for sweetness.\n",
        "7. Mix in coconut water (from Drink 6) for a tropical feel.\n",
        "8. A dash of grenadine (from Drink 7) for color and extra sweetness.\n",
        "9. Finish with a splash of soda water (from Drink 8) to add fizz.\n",
        "\n",
        "**Directions**:\n",
        "- Combine all ingredients in a shaker with ice.\n",
        "- Shake well and strain into a chilled glass.\n",
        "- Garnish with a slice of lemon or a cherry.\n",
        "\n",
        "This cocktail mixes elements from all drinks, creating a complex and unique flavor profile that’s not directly covered by any one customer's complete preference list, but it is intriguing and tasty enough to potentially please everyone at the bar. Cheers!"
      ],
      "metadata": {
        "id": "BSBU-4w_Btdi"
      }
    },
    {
      "cell_type": "code",
      "source": [],
      "metadata": {
        "id": "K4MCs1IWB0Wr"
      },
      "execution_count": null,
      "outputs": []
    }
  ]
}