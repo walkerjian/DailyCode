{
  "nbformat": 4,
  "nbformat_minor": 0,
  "metadata": {
    "colab": {
      "provenance": [],
      "authorship_tag": "ABX9TyPj3pSpoBjZbrQK/Um5toKz",
      "include_colab_link": true
    },
    "kernelspec": {
      "name": "python3",
      "display_name": "Python 3"
    },
    "language_info": {
      "name": "python"
    }
  },
  "cells": [
    {
      "cell_type": "markdown",
      "metadata": {
        "id": "view-in-github",
        "colab_type": "text"
      },
      "source": [
        "<a href=\"https://colab.research.google.com/github/walkerjian/DailyCode/blob/main/Substring_con_k_caratteri.ipynb\" target=\"_parent\"><img src=\"https://colab.research.google.com/assets/colab-badge.svg\" alt=\"Open In Colab\"/></a>"
      ]
    },
    {
      "cell_type": "markdown",
      "source": [
        "Given an integer k and a string s, find the length of the longest substring that contains at most k distinct characters.\n",
        "\n",
        "For example, given s = \"abcba\" and k = 2, the longest substring with k distinct characters is \"bcb\".\n",
        "\n",
        "To tackle this problem using the Model-View-Controller (MVC) paradigm, we'll break it down into three parts:\n",
        "\n",
        "1. **Model**: This will contain the core logic to find the longest substring with at most \\( k \\) distinct characters.\n",
        "2. **View**: This will handle the representation of the solution, i.e., displaying the result to the user.\n",
        "3. **Controller**: This will act as an interface between the model and the view, orchestrating the flow of data between them.\n"
      ],
      "metadata": {
        "id": "v3q-Z4ADOlNG"
      }
    },
    {
      "cell_type": "code",
      "execution_count": 1,
      "metadata": {
        "colab": {
          "base_uri": "https://localhost:8080/"
        },
        "id": "050xGFmBtVfS",
        "outputId": "41138334-3c1c-497a-ce07-251ed62e8693"
      },
      "outputs": [
        {
          "output_type": "execute_result",
          "data": {
            "text/plain": [
              "[\"For the string 'abcba' and k = 2, the longest substring with at most 2 distinct characters is 'bcb'.\",\n",
              " \"For the string 'abcba' and k = 3, the longest substring with at most 3 distinct characters is 'abcba'.\",\n",
              " \"For the string 'aa' and k = 1, the longest substring with at most 1 distinct characters is 'aa'.\",\n",
              " \"For the string 'a' and k = 1, the longest substring with at most 1 distinct characters is 'a'.\",\n",
              " \"For the string '' and k = 2, the longest substring with at most 2 distinct characters is ''.\",\n",
              " \"For the string 'abcde' and k = 2, the longest substring with at most 2 distinct characters is 'ab'.\",\n",
              " \"For the string 'abaccc' and k = 2, the longest substring with at most 2 distinct characters is 'accc'.\",\n",
              " \"For the string 'aaaaaaa' and k = 2, the longest substring with at most 2 distinct characters is 'aaaaaaa'.\",\n",
              " \"For the string 'abcdef' and k = 1, the longest substring with at most 1 distinct characters is 'a'.\",\n",
              " \"For the string 'abba' and k = 2, the longest substring with at most 2 distinct characters is 'abba'.\"]"
            ]
          },
          "metadata": {},
          "execution_count": 1
        }
      ],
      "source": [
        "def longest_substring(s, k):\n",
        "    \"\"\"\n",
        "    Find the length of the longest substring that contains at most k distinct characters.\n",
        "\n",
        "    Parameters:\n",
        "    - s (str): The input string.\n",
        "    - k (int): The maximum number of distinct characters allowed in the substring.\n",
        "\n",
        "    Returns:\n",
        "    - str: The longest substring with at most k distinct characters.\n",
        "    \"\"\"\n",
        "\n",
        "    # Edge case\n",
        "    if not s or k == 0:\n",
        "        return \"\"\n",
        "\n",
        "    # Initialize pointers and storage\n",
        "    start = 0\n",
        "    max_len = 0\n",
        "    max_start = 0\n",
        "    char_frequency = {}\n",
        "\n",
        "    # Sliding window technique\n",
        "    for end in range(len(s)):\n",
        "        if s[end] not in char_frequency:\n",
        "            char_frequency[s[end]] = 0\n",
        "        char_frequency[s[end]] += 1\n",
        "\n",
        "        # If there are more than k distinct characters, slide the window\n",
        "        while len(char_frequency) > k:\n",
        "            char_frequency[s[start]] -= 1\n",
        "            if char_frequency[s[start]] == 0:\n",
        "                del char_frequency[s[start]]\n",
        "            start += 1\n",
        "\n",
        "        # Update the max substring details if needed\n",
        "        if end - start + 1 > max_len:\n",
        "            max_len = end - start + 1\n",
        "            max_start = start\n",
        "\n",
        "    return s[max_start:max_start + max_len]\n",
        "\n",
        "\n",
        "def display_result(s, k, result):\n",
        "    \"\"\"\n",
        "    Display the result of the longest substring problem.\n",
        "\n",
        "    Parameters:\n",
        "    - s (str): The input string.\n",
        "    - k (int): The maximum number of distinct characters allowed in the substring.\n",
        "    - result (str): The solution to the problem.\n",
        "\n",
        "    Returns:\n",
        "    - str: A formatted string showing the input and the solution.\n",
        "    \"\"\"\n",
        "    return f\"For the string '{s}' and k = {k}, the longest substring with at most {k} distinct characters is '{result}'.\"\n",
        "\n",
        "\n",
        "def find_longest_substring(s, k):\n",
        "    \"\"\"\n",
        "    Controller function that uses the model to find the solution and the view to display it.\n",
        "\n",
        "    Parameters:\n",
        "    - s (str): The input string.\n",
        "    - k (int): The maximum number of distinct characters allowed in the substring.\n",
        "\n",
        "    Returns:\n",
        "    - str: A formatted string showing the input and the solution.\n",
        "    \"\"\"\n",
        "    result = longest_substring(s, k)\n",
        "    return display_result(s, k, result)\n",
        "\n",
        "\n",
        "# Test harness\n",
        "def test_longest_substring():\n",
        "    \"\"\"\n",
        "    Test the solution with various test cases.\n",
        "    \"\"\"\n",
        "    test_cases = [\n",
        "        (\"abcba\", 2),\n",
        "        (\"abcba\", 3),\n",
        "        (\"aa\", 1),\n",
        "        (\"a\", 1),\n",
        "        (\"\", 2),\n",
        "        (\"abcde\", 2),\n",
        "        (\"abaccc\", 2),\n",
        "        (\"aaaaaaa\", 2),\n",
        "        (\"abcdef\", 1),\n",
        "        (\"abba\", 2)\n",
        "    ]\n",
        "\n",
        "    results = []\n",
        "    for s, k in test_cases:\n",
        "        results.append(find_longest_substring(s, k))\n",
        "    return results\n",
        "\n",
        "\n",
        "# Run the test harness\n",
        "test_longest_substring()\n"
      ]
    },
    {
      "cell_type": "markdown",
      "source": [
        " We can use the sliding window technique (also known as the two-pointer technique) to solve this problem with maximal efficiency. The idea is to maintain two pointers that define the maximum substring with \\( k \\) unique characters. The right pointer will always move to the right, while the left pointer will move to the right only when the number of unique characters between the two pointers exceeds \\( k \\).\n",
        "\n",
        "The time complexity of this approach is \\( O(n) \\), where \\( n \\) is the length of the string.\n",
        "\n",
        "Let's implement this efficient solution:\n",
        "\n",
        "1. Start both pointers at the beginning of the string.\n",
        "2. Move the right pointer to the right until the number of distinct characters between the two pointers exceeds \\( k \\).\n",
        "3. When this happens, move the left pointer to the right until the number of distinct characters is back to \\( k \\).\n",
        "4. Repeat until the right pointer reaches the end of the string.\n",
        "\n",
        "We'll use a dictionary to maintain the frequency count of characters between the two pointers."
      ],
      "metadata": {
        "id": "Qh2v27mkPwh5"
      }
    },
    {
      "cell_type": "code",
      "source": [
        "def longest_substring_efficient(s, k):\n",
        "    \"\"\"\n",
        "    Efficiently find the length of the longest substring that contains at most k distinct characters.\n",
        "\n",
        "    Parameters:\n",
        "    - s (str): The input string.\n",
        "    - k (int): The maximum number of distinct characters allowed in the substring.\n",
        "\n",
        "    Returns:\n",
        "    - str: The longest substring with at most k distinct characters.\n",
        "    \"\"\"\n",
        "\n",
        "    # Edge case\n",
        "    if not s or k == 0:\n",
        "        return \"\"\n",
        "\n",
        "    # Initialize pointers and storage\n",
        "    left = 0\n",
        "    right = 0\n",
        "    max_len = 0\n",
        "    max_start = 0\n",
        "    char_frequency = {}\n",
        "\n",
        "    while right < len(s):\n",
        "        # If the current character is not in char_frequency, add it\n",
        "        if s[right] not in char_frequency:\n",
        "            char_frequency[s[right]] = 0\n",
        "\n",
        "        # Increment the frequency count of the current character\n",
        "        char_frequency[s[right]] += 1\n",
        "\n",
        "        # If there are more than k distinct characters, move the left pointer to the right\n",
        "        while len(char_frequency) > k:\n",
        "            char_frequency[s[left]] -= 1\n",
        "            if char_frequency[s[left]] == 0:\n",
        "                del char_frequency[s[left]]\n",
        "            left += 1\n",
        "\n",
        "        # Update the max substring details if needed\n",
        "        if right - left + 1 > max_len:\n",
        "            max_len = right - left + 1\n",
        "            max_start = left\n",
        "\n",
        "        right += 1\n",
        "\n",
        "    return s[max_start:max_start + max_len]\n",
        "\n",
        "# Testing the efficient function\n",
        "test_results_efficient = [longest_substring_efficient(s, k) for s, k in [\n",
        "    (\"abcba\", 2),\n",
        "    (\"abcba\", 3),\n",
        "    (\"aa\", 1),\n",
        "    (\"a\", 1),\n",
        "    (\"\", 2),\n",
        "    (\"abcde\", 2),\n",
        "    (\"abaccc\", 2),\n",
        "    (\"aaaaaaa\", 2),\n",
        "    (\"abcdef\", 1),\n",
        "    (\"abba\", 2)\n",
        "]]\n",
        "\n",
        "test_results_efficient\n"
      ],
      "metadata": {
        "colab": {
          "base_uri": "https://localhost:8080/"
        },
        "id": "nOcCHG3KQNnZ",
        "outputId": "fb93b065-bb1e-4a0a-eaff-ca2eb5bb215e"
      },
      "execution_count": 2,
      "outputs": [
        {
          "output_type": "execute_result",
          "data": {
            "text/plain": [
              "['bcb', 'abcba', 'aa', 'a', '', 'ab', 'accc', 'aaaaaaa', 'a', 'abba']"
            ]
          },
          "metadata": {},
          "execution_count": 2
        }
      ]
    },
    {
      "cell_type": "markdown",
      "source": [],
      "metadata": {
        "id": "Od_k1x-4QfGX"
      }
    },
    {
      "cell_type": "code",
      "source": [
        "%%writefile longest_substring.cpp\n",
        "#include <iostream>\n",
        "#include <string>\n",
        "#include <unordered_map>\n",
        "\n",
        "std::string longest_substring_efficient(const std::string& s, int k) {\n",
        "    if (s.empty() || k == 0) {\n",
        "        return \"\";\n",
        "    }\n",
        "\n",
        "    int left = 0;\n",
        "    int right = 0;\n",
        "    int max_len = 0;\n",
        "    int max_start = 0;\n",
        "    std::unordered_map<char, int> char_frequency;\n",
        "\n",
        "    while (right < s.size()) {\n",
        "        char_frequency[s[right]]++;\n",
        "\n",
        "        while (char_frequency.size() > k) {\n",
        "            char_frequency[s[left]]--;\n",
        "            if (char_frequency[s[left]] == 0) {\n",
        "                char_frequency.erase(s[left]);\n",
        "            }\n",
        "            left++;\n",
        "        }\n",
        "\n",
        "        if (right - left + 1 > max_len) {\n",
        "            max_len = right - left + 1;\n",
        "            max_start = left;\n",
        "        }\n",
        "\n",
        "        right++;\n",
        "    }\n",
        "\n",
        "    return s.substr(max_start, max_len);\n",
        "}\n",
        "\n",
        "int main() {\n",
        "    std::pair<std::string, int> test_cases[] = {\n",
        "        {\"abcba\", 2},\n",
        "        {\"abcba\", 3},\n",
        "        {\"aa\", 1},\n",
        "        {\"a\", 1},\n",
        "        {\"\", 2},\n",
        "        {\"abcde\", 2},\n",
        "        {\"abaccc\", 2},\n",
        "        {\"aaaaaaa\", 2},\n",
        "        {\"abcdef\", 1},\n",
        "        {\"abba\", 2}\n",
        "    };\n",
        "\n",
        "    for (const auto& [s, k] : test_cases) {\n",
        "        std::cout << \"For the string '\" << s << \"' and k = \" << k << \", \";\n",
        "        std::cout << \"the longest substring with at most \" << k << \" distinct characters is '\";\n",
        "        std::cout << longest_substring_efficient(s, k) << \"'.\" << std::endl;\n",
        "    }\n",
        "\n",
        "    return 0;\n",
        "}\n",
        "\n"
      ],
      "metadata": {
        "colab": {
          "base_uri": "https://localhost:8080/"
        },
        "id": "iSTvM_bWRR6a",
        "outputId": "a5afe448-6622-4806-a9fa-8d41514a3c25"
      },
      "execution_count": 5,
      "outputs": [
        {
          "output_type": "stream",
          "name": "stdout",
          "text": [
            "Overwriting longest_substring.cpp\n"
          ]
        }
      ]
    },
    {
      "cell_type": "code",
      "source": [
        "!g++-10 -std=c++20 -O3 longest_substring.cpp -o longest_substring\n",
        "!./longest_substring\n"
      ],
      "metadata": {
        "colab": {
          "base_uri": "https://localhost:8080/"
        },
        "id": "rNoexVUPRU2h",
        "outputId": "2e99986d-94d8-4f50-9fed-4f8df4f7c59f"
      },
      "execution_count": 4,
      "outputs": [
        {
          "output_type": "stream",
          "name": "stdout",
          "text": [
            "/bin/bash: line 1: g++-10: command not found\n",
            "/bin/bash: line 1: ./longest_substring: No such file or directory\n"
          ]
        }
      ]
    },
    {
      "cell_type": "code",
      "source": [
        "!sudo apt update\n",
        "!sudo apt install -y g++-10\n",
        "!g++-10 -std=c++20 -O3 longest_substring.cpp -o longest_substring\n",
        "!./longest_substring\n"
      ],
      "metadata": {
        "colab": {
          "base_uri": "https://localhost:8080/"
        },
        "id": "s1gr44_JRXt6",
        "outputId": "234206ca-6a7f-48e5-b215-3edc7aeafe5a"
      },
      "execution_count": 7,
      "outputs": [
        {
          "output_type": "stream",
          "name": "stdout",
          "text": [
            "\u001b[33m\r0% [Working]\u001b[0m\r            \rHit:1 https://cloud.r-project.org/bin/linux/ubuntu jammy-cran40/ InRelease\n",
            "\u001b[33m\r0% [Connecting to archive.ubuntu.com] [Connecting to security.ubuntu.com (185.1\u001b[0m\r                                                                               \rHit:2 https://developer.download.nvidia.com/compute/cuda/repos/ubuntu2204/x86_64  InRelease\n",
            "Hit:3 http://security.ubuntu.com/ubuntu jammy-security InRelease\n",
            "Hit:4 http://archive.ubuntu.com/ubuntu jammy InRelease\n",
            "Hit:5 http://archive.ubuntu.com/ubuntu jammy-updates InRelease\n",
            "Hit:6 http://archive.ubuntu.com/ubuntu jammy-backports InRelease\n",
            "Hit:7 https://ppa.launchpadcontent.net/c2d4u.team/c2d4u4.0+/ubuntu jammy InRelease\n",
            "Hit:8 https://ppa.launchpadcontent.net/deadsnakes/ppa/ubuntu jammy InRelease\n",
            "0% [Working]\u001b[0m^C\n",
            "Reading package lists... Done\n",
            "^C\n",
            "^C\n",
            "Enter the string: ^C\n"
          ]
        }
      ]
    },
    {
      "cell_type": "code",
      "source": [
        "!sudo apt update"
      ],
      "metadata": {
        "colab": {
          "base_uri": "https://localhost:8080/"
        },
        "id": "qrB0k0EzRm5r",
        "outputId": "175c73f3-4434-4e04-8d55-7a1f75ed6ebf"
      },
      "execution_count": 1,
      "outputs": [
        {
          "output_type": "stream",
          "name": "stdout",
          "text": [
            "\u001b[33m\r0% [Working]\u001b[0m\r            \rHit:1 https://cloud.r-project.org/bin/linux/ubuntu jammy-cran40/ InRelease\n",
            "\u001b[33m\r0% [Connecting to archive.ubuntu.com (185.125.190.36)] [Connecting to security.\u001b[0m\r                                                                               \rHit:2 https://developer.download.nvidia.com/compute/cuda/repos/ubuntu2204/x86_64  InRelease\n",
            "\u001b[33m\r0% [Waiting for headers] [Connecting to security.ubuntu.com (91.189.91.83)] [Co\u001b[0m\u001b[33m\r0% [Waiting for headers] [Waiting for headers] [Connected to ppa.launchpadconte\u001b[0m\r                                                                               \rHit:3 http://security.ubuntu.com/ubuntu jammy-security InRelease\n",
            "Hit:4 http://archive.ubuntu.com/ubuntu jammy InRelease\n",
            "Hit:5 http://archive.ubuntu.com/ubuntu jammy-updates InRelease\n",
            "Hit:6 http://archive.ubuntu.com/ubuntu jammy-backports InRelease\n",
            "Hit:7 https://ppa.launchpadcontent.net/c2d4u.team/c2d4u4.0+/ubuntu jammy InRelease\n",
            "Hit:8 https://ppa.launchpadcontent.net/deadsnakes/ppa/ubuntu jammy InRelease\n",
            "Hit:9 https://ppa.launchpadcontent.net/graphics-drivers/ppa/ubuntu jammy InRelease\n",
            "Hit:10 https://ppa.launchpadcontent.net/ubuntugis/ppa/ubuntu jammy InRelease\n",
            "Reading package lists... Done\n",
            "Building dependency tree... Done\n",
            "Reading state information... Done\n",
            "19 packages can be upgraded. Run 'apt list --upgradable' to see them.\n"
          ]
        }
      ]
    },
    {
      "cell_type": "code",
      "source": [
        "!sudo apt install -y g++-10"
      ],
      "metadata": {
        "colab": {
          "base_uri": "https://localhost:8080/"
        },
        "id": "yn1c61NLR9dP",
        "outputId": "8fc08d35-8850-47f8-d14e-a994666ad607"
      },
      "execution_count": 2,
      "outputs": [
        {
          "output_type": "stream",
          "name": "stdout",
          "text": [
            "Reading package lists... Done\n",
            "Building dependency tree... Done\n",
            "Reading state information... Done\n",
            "g++-10 is already the newest version (10.5.0-1ubuntu1~22.04).\n",
            "0 upgraded, 0 newly installed, 0 to remove and 19 not upgraded.\n"
          ]
        }
      ]
    },
    {
      "cell_type": "code",
      "source": [
        "!g++-10 -std=c++20 -O3 longest_substring.cpp -o longest_substring"
      ],
      "metadata": {
        "id": "gFW6l-42SM7w"
      },
      "execution_count": 6,
      "outputs": []
    },
    {
      "cell_type": "code",
      "source": [
        "!./longest_substring"
      ],
      "metadata": {
        "colab": {
          "base_uri": "https://localhost:8080/"
        },
        "id": "l-bWeCyXSRoA",
        "outputId": "88e715c5-8a82-451b-e3b4-9102e0eb70c3"
      },
      "execution_count": 7,
      "outputs": [
        {
          "output_type": "stream",
          "name": "stdout",
          "text": [
            "For the string 'abcba' and k = 2, the longest substring with at most 2 distinct characters is 'bcb'.\n",
            "For the string 'abcba' and k = 3, the longest substring with at most 3 distinct characters is 'abcba'.\n",
            "For the string 'aa' and k = 1, the longest substring with at most 1 distinct characters is 'aa'.\n",
            "For the string 'a' and k = 1, the longest substring with at most 1 distinct characters is 'a'.\n",
            "For the string '' and k = 2, the longest substring with at most 2 distinct characters is ''.\n",
            "For the string 'abcde' and k = 2, the longest substring with at most 2 distinct characters is 'ab'.\n",
            "For the string 'abaccc' and k = 2, the longest substring with at most 2 distinct characters is 'accc'.\n",
            "For the string 'aaaaaaa' and k = 2, the longest substring with at most 2 distinct characters is 'aaaaaaa'.\n",
            "For the string 'abcdef' and k = 1, the longest substring with at most 1 distinct characters is 'a'.\n",
            "For the string 'abba' and k = 2, the longest substring with at most 2 distinct characters is 'abba'.\n"
          ]
        }
      ]
    }
  ]
}