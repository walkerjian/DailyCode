{
  "nbformat": 4,
  "nbformat_minor": 0,
  "metadata": {
    "colab": {
      "provenance": [],
      "authorship_tag": "ABX9TyOuAV0/B4i5ORWUwAvDTAiX",
      "include_colab_link": true
    },
    "kernelspec": {
      "name": "python3",
      "display_name": "Python 3"
    },
    "language_info": {
      "name": "python"
    }
  },
  "cells": [
    {
      "cell_type": "markdown",
      "metadata": {
        "id": "view-in-github",
        "colab_type": "text"
      },
      "source": [
        "<a href=\"https://colab.research.google.com/github/walkerjian/DailyCode/blob/main/justify_text.ipynb\" target=\"_parent\"><img src=\"https://colab.research.google.com/assets/colab-badge.svg\" alt=\"Open In Colab\"/></a>"
      ]
    },
    {
      "cell_type": "markdown",
      "source": [
        "Write an algorithm to justify text. Given a sequence of words and an integer line length k, return a list of strings which represents each line, fully justified.\n",
        "\n",
        "More specifically, you should have as many words as possible in each line. There should be at least one space between each word. Pad extra spaces when necessary so that each line has exactly length k. Spaces should be distributed as equally as possible, with the extra spaces, if any, distributed starting from the left.\n",
        "\n",
        "If you can only fit one word on a line, then you should pad the right-hand side with spaces.\n",
        "\n",
        "Each word is guaranteed not to be longer than k.\n",
        "\n",
        "For example, given the list of words [\"the\", \"quick\", \"brown\", \"fox\", \"jumps\", \"over\", \"the\", \"lazy\", \"dog\"] and k = 16, you should return the following:\n",
        "\n",
        "[\"the  quick brown\", # 1 extra space on the left\n",
        "\"fox  jumps  over\", # 2 extra spaces distributed evenly\n",
        "\"the   lazy   dog\"] # 4 extra spaces distributed evenly"
      ],
      "metadata": {
        "id": "iYi_yVtnW4tG"
      }
    },
    {
      "cell_type": "code",
      "execution_count": 3,
      "metadata": {
        "colab": {
          "base_uri": "https://localhost:8080/"
        },
        "id": "4w0Nuki0W1kb",
        "outputId": "115ebcb2-62d4-4384-9402-c2b74baa8b83"
      },
      "outputs": [
        {
          "output_type": "execute_result",
          "data": {
            "text/plain": [
              "['the  quick brown', 'fox  jumps  over', 'the   lazy   dog']"
            ]
          },
          "metadata": {},
          "execution_count": 3
        }
      ],
      "source": [
        "def justify_text(words, k):\n",
        "    result = []\n",
        "\n",
        "    # Step 1: Word Grouping\n",
        "    i = 0\n",
        "    while i < len(words):\n",
        "        line = []\n",
        "        line_length = 0\n",
        "        # Add words to the current line without exceeding length k\n",
        "        while i < len(words) and line_length + len(words[i]) + len(line) <= k:\n",
        "            line.append(words[i])\n",
        "            line_length += len(words[i])\n",
        "            i += 1\n",
        "\n",
        "        # Step 2: Line Justification\n",
        "        total_spaces = k - line_length\n",
        "        # If there's only one word, left-justify\n",
        "        if len(line) == 1:\n",
        "            for j in range(k - line_length):\n",
        "                line[-1] += ' '\n",
        "            result.append(' '.join(line))\n",
        "        else:\n",
        "            spaces_per_gap = total_spaces // (len(line) - 1)\n",
        "            extra_spaces = total_spaces % (len(line) - 1)\n",
        "\n",
        "            justified_line = []\n",
        "            for word in line[:-1]:\n",
        "                justified_line.append(word + ' ' * spaces_per_gap)\n",
        "                if extra_spaces > 0:\n",
        "                    justified_line[-1] += ' '\n",
        "                    extra_spaces -= 1\n",
        "            justified_line.append(line[-1])  # add the last word\n",
        "            result.append(''.join(justified_line))\n",
        "\n",
        "    return result\n",
        "\n",
        "words = [\"the\", \"quick\", \"brown\", \"fox\", \"jumps\", \"over\", \"the\", \"lazy\", \"dog\"]\n",
        "k = 16\n",
        "justify_text(words, k)\n"
      ]
    },
    {
      "cell_type": "code",
      "source": [],
      "metadata": {
        "id": "5Axn2Kr7W6h7"
      },
      "execution_count": null,
      "outputs": []
    }
  ]
}