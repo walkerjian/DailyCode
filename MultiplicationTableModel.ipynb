{
  "nbformat": 4,
  "nbformat_minor": 0,
  "metadata": {
    "colab": {
      "provenance": [],
      "authorship_tag": "ABX9TyMZCiL6ovSOC5A9pUk7EDys",
      "include_colab_link": true
    },
    "kernelspec": {
      "name": "python3",
      "display_name": "Python 3"
    },
    "language_info": {
      "name": "python"
    }
  },
  "cells": [
    {
      "cell_type": "markdown",
      "metadata": {
        "id": "view-in-github",
        "colab_type": "text"
      },
      "source": [
        "<a href=\"https://colab.research.google.com/github/walkerjian/DailyCode/blob/main/MultiplicationTableModel.ipynb\" target=\"_parent\"><img src=\"https://colab.research.google.com/assets/colab-badge.svg\" alt=\"Open In Colab\"/></a>"
      ]
    },
    {
      "cell_type": "code",
      "execution_count": 4,
      "metadata": {
        "colab": {
          "base_uri": "https://localhost:8080/"
        },
        "id": "f_pUhgmJYLAw",
        "outputId": "beb90db6-6455-4ec0-bcf4-52aea33e7020"
      },
      "outputs": [
        {
          "output_type": "stream",
          "name": "stdout",
          "text": [
            "1\t2\t3\t4\t5\t6\t\n",
            "2\t4\t6\t8\t10\t12\t\n",
            "3\t6\t9\t12\t15\t18\t\n",
            "4\t8\t12\t16\t20\t24\t\n",
            "5\t10\t15\t20\t25\t30\t\n",
            "6\t12\t18\t24\t30\t36\t\n",
            "\n",
            "For a 6x6 table and X=12:\n",
            "Expected: 4, Got: 4\n",
            "Test Passed.\n",
            "\n",
            "1\t2\t3\t\n",
            "2\t4\t6\t\n",
            "3\t6\t9\t\n",
            "\n",
            "For a 3x3 table and X=6:\n",
            "Expected: 1, Got: 2\n",
            "Test Failed.\n",
            "\n"
          ]
        }
      ],
      "source": [
        "class MultiplicationTableModel:\n",
        "    \"\"\"Model class for multiplication table\"\"\"\n",
        "\n",
        "    def count_occurrences(self, N, X):\n",
        "        \"\"\"Count the occurrences of X in an N x N multiplication table\n",
        "\n",
        "        Args:\n",
        "        N (int): Size of the multiplication table\n",
        "        X (int): Number to count\n",
        "\n",
        "        Returns:\n",
        "        int: Number of occurrences of X in the table\n",
        "        \"\"\"\n",
        "        count = 0\n",
        "        for i in range(1, N + 1):\n",
        "            if X % i == 0 and X // i <= N:\n",
        "                count += 1\n",
        "        return count\n",
        "\n",
        "\n",
        "class MultiplicationTableView:\n",
        "    \"\"\"View class for multiplication table\"\"\"\n",
        "\n",
        "    def print_table(self, N):\n",
        "        \"\"\"Print an N x N multiplication table\n",
        "\n",
        "        Args:\n",
        "        N (int): Size of the table\n",
        "        \"\"\"\n",
        "        for i in range(1, N + 1):\n",
        "            for j in range(1, N + 1):\n",
        "                print(f\"{i*j}\\t\", end='')\n",
        "            print()\n",
        "\n",
        "    def print_test_result(self, N, X, expected, result):\n",
        "        \"\"\"Print the result of a test\n",
        "\n",
        "        Args:\n",
        "        N (int): Size of the table\n",
        "        X (int): Number to count\n",
        "        expected (int): Expected number of occurrences\n",
        "        result (int): Actual number of occurrences\n",
        "        \"\"\"\n",
        "        print(f\"\\nFor a {N}x{N} table and X={X}:\")\n",
        "        print(f\"Expected: {expected}, Got: {result}\")\n",
        "        if expected == result:\n",
        "            print(\"Test Passed.\\n\")\n",
        "        else:\n",
        "            print(\"Test Failed.\\n\")\n",
        "\n",
        "\n",
        "class MultiplicationTableController:\n",
        "    \"\"\"Controller class for multiplication table\"\"\"\n",
        "\n",
        "    def __init__(self):\n",
        "        self.model = MultiplicationTableModel()\n",
        "        self.view = MultiplicationTableView()\n",
        "\n",
        "    def run_test(self, N, X, expected):\n",
        "        \"\"\"Run a test for a given N, X, and expected result\n",
        "\n",
        "        Args:\n",
        "        N (int): Size of the table\n",
        "        X (int): Number to count\n",
        "        expected (int): Expected number of occurrences\n",
        "        \"\"\"\n",
        "        self.view.print_table(N)\n",
        "        result = self.model.count_occurrences(N, X)\n",
        "        self.view.print_test_result(N, X, expected, result)\n",
        "\n",
        "\n",
        "# Initialize the controller\n",
        "controller = MultiplicationTableController()\n",
        "\n",
        "# Run tests\n",
        "controller.run_test(N=6, X=12, expected=4)\n",
        "controller.run_test(N=3, X=6, expected=1)\n"
      ]
    },
    {
      "cell_type": "code",
      "source": [
        "MultiplicationTableController"
      ],
      "metadata": {
        "colab": {
          "base_uri": "https://localhost:8080/"
        },
        "id": "Du_bXccovH5u",
        "outputId": "b79e65d9-6dbb-427a-962b-0d11ddb45fc3"
      },
      "execution_count": 3,
      "outputs": [
        {
          "output_type": "execute_result",
          "data": {
            "text/plain": [
              "__main__.MultiplicationTableController"
            ]
          },
          "metadata": {},
          "execution_count": 3
        }
      ]
    },
    {
      "cell_type": "code",
      "source": [
        "# Run the corrected test\n",
        "controller.run_test(N=3, X=6, expected=2)\n"
      ],
      "metadata": {
        "colab": {
          "base_uri": "https://localhost:8080/"
        },
        "id": "9mI9McrYvJFW",
        "outputId": "a87eea98-d023-43e3-ab0b-a0cbf9d51c9d"
      },
      "execution_count": 5,
      "outputs": [
        {
          "output_type": "stream",
          "name": "stdout",
          "text": [
            "1\t2\t3\t\n",
            "2\t4\t6\t\n",
            "3\t6\t9\t\n",
            "\n",
            "For a 3x3 table and X=6:\n",
            "Expected: 2, Got: 2\n",
            "Test Passed.\n",
            "\n"
          ]
        }
      ]
    }
  ]
}