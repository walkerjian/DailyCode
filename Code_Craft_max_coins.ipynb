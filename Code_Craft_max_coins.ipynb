{
  "nbformat": 4,
  "nbformat_minor": 0,
  "metadata": {
    "colab": {
      "provenance": [],
      "authorship_tag": "ABX9TyOd5CErJ+P24l7Qk7bZLurz",
      "include_colab_link": true
    },
    "kernelspec": {
      "name": "python3",
      "display_name": "Python 3"
    },
    "language_info": {
      "name": "python"
    }
  },
  "cells": [
    {
      "cell_type": "markdown",
      "metadata": {
        "id": "view-in-github",
        "colab_type": "text"
      },
      "source": [
        "<a href=\"https://colab.research.google.com/github/walkerjian/DailyCode/blob/main/Code_Craft_max_coins.ipynb\" target=\"_parent\"><img src=\"https://colab.research.google.com/assets/colab-badge.svg\" alt=\"Open In Colab\"/></a>"
      ]
    },
    {
      "cell_type": "markdown",
      "source": [
        "##Problem:\n",
        "You are given a 2-d matrix where each cell represents number of coins in that cell. Assuming we start at matrix[0][0], and can only move right or down, find the maximum number of coins you can collect by the bottom right corner.\n",
        "\n",
        "For example, in this matrix\n",
        "````\n",
        "0 3 1 1\n",
        "2 0 0 4\n",
        "1 5 3 1\n",
        "````\n",
        "The most we can collect is 0 + 2 + 1 + 5 + 3 + 1 = 12 coins."
      ],
      "metadata": {
        "id": "oDXvVR-4Ljin"
      }
    },
    {
      "cell_type": "markdown",
      "source": [
        "##Solution:\n",
        "To solve this problem, we can use dynamic programming. The idea is to traverse the matrix from the top-left corner to the bottom-right corner, keeping track of the maximum number of coins that can be collected up to each cell. For each cell, we can only come from the top or left (since we can only move right or down), so the maximum number of coins up to that cell will be the maximum of the coins collected from the top and left, plus the coins in the current cell.\n",
        "\n",
        "Here is a step-by-step breakdown of the algorithm:\n",
        "\n",
        "1. Create a new matrix `dp` of the same size as the input matrix to store the maximum coins collected up to each cell.\n",
        "\n",
        "2. Initialize the top-left cell of `dp` with the value of the top-left cell of the input matrix, since that's our starting point.\n",
        "\n",
        "3. Iterate over the matrix row by row and column by column:\n",
        "    - For each cell, calculate the maximum coins that can be collected by either coming from the left (if not in the first column) or from the top (if not in the first row).\n",
        "    - Update the `dp` matrix with this maximum value.\n",
        "\n",
        "4. The value in the bottom-right cell of the `dp` matrix will be the maximum number of coins that can be collected.\n",
        "\n",
        "\n"
      ],
      "metadata": {
        "id": "w_FckVjmLnEo"
      }
    },
    {
      "cell_type": "markdown",
      "source": [
        "##Implementation:"
      ],
      "metadata": {
        "id": "oiy7sAOvMdOw"
      }
    },
    {
      "cell_type": "code",
      "execution_count": 1,
      "metadata": {
        "colab": {
          "base_uri": "https://localhost:8080/"
        },
        "id": "rKk51BULLWll",
        "outputId": "afe653fb-ce3a-4091-d68d-d7151663ac8d"
      },
      "outputs": [
        {
          "output_type": "execute_result",
          "data": {
            "text/plain": [
              "12"
            ]
          },
          "metadata": {},
          "execution_count": 1
        }
      ],
      "source": [
        "def max_coins(matrix):\n",
        "    if not matrix or not matrix[0]:\n",
        "        return 0\n",
        "\n",
        "    rows, cols = len(matrix), len(matrix[0])\n",
        "    dp = [[0 for _ in range(cols)] for _ in range(rows)]\n",
        "\n",
        "    # Initialize the top-left cell\n",
        "    dp[0][0] = matrix[0][0]\n",
        "\n",
        "    # Fill in the first row\n",
        "    for c in range(1, cols):\n",
        "        dp[0][c] = dp[0][c-1] + matrix[0][c]\n",
        "\n",
        "    # Fill in the first column\n",
        "    for r in range(1, rows):\n",
        "        dp[r][0] = dp[r-1][0] + matrix[r][0]\n",
        "\n",
        "    # Fill in the rest of the dp matrix\n",
        "    for r in range(1, rows):\n",
        "        for c in range(1, cols):\n",
        "            dp[r][c] = max(dp[r-1][c], dp[r][c-1]) + matrix[r][c]\n",
        "\n",
        "    # The bottom-right cell contains the maximum coins that can be collected\n",
        "    return dp[rows-1][cols-1]\n",
        "\n",
        "# Test the function with the provided matrix\n",
        "matrix = [\n",
        "    [0, 3, 1, 1],\n",
        "    [2, 0, 0, 4],\n",
        "    [1, 5, 3, 1]\n",
        "]\n",
        "max_coins(matrix)\n"
      ]
    },
    {
      "cell_type": "markdown",
      "source": [
        "The implementation of the dynamic programming solution correctly computes the maximum number of coins that can be collected. For the given matrix:\n",
        "\n",
        "```\n",
        "0 3 1 1\n",
        "2 0 0 4\n",
        "1 5 3 1\n",
        "```\n",
        "\n",
        "The maximum number of coins that can be collected by moving only right or down and ending at the bottom right corner is 12 coins, as per the provided example. This aligns with your expected result."
      ],
      "metadata": {
        "id": "zY0K1jgmL3Rm"
      }
    }
  ]
}