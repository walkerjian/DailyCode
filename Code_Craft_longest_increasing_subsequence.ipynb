{
  "nbformat": 4,
  "nbformat_minor": 0,
  "metadata": {
    "colab": {
      "provenance": [],
      "authorship_tag": "ABX9TyOcmpHTwpLagypbf3PEppE+",
      "include_colab_link": true
    },
    "kernelspec": {
      "name": "python3",
      "display_name": "Python 3"
    },
    "language_info": {
      "name": "python"
    }
  },
  "cells": [
    {
      "cell_type": "markdown",
      "metadata": {
        "id": "view-in-github",
        "colab_type": "text"
      },
      "source": [
        "<a href=\"https://colab.research.google.com/github/walkerjian/DailyCode/blob/main/Code_Craft_longest_increasing_subsequence.ipynb\" target=\"_parent\"><img src=\"https://colab.research.google.com/assets/colab-badge.svg\" alt=\"Open In Colab\"/></a>"
      ]
    },
    {
      "cell_type": "markdown",
      "source": [
        "##Problem:\n",
        "Given an array of numbers, find the length of the longest increasing subsequence in the array. The subsequence does not necessarily have to be contiguous.\n",
        "\n",
        "For example, given the array [0, 8, 4, 12, 2, 10, 6, 14, 1, 9, 5, 13, 3, 11, 7, 15], the longest increasing subsequence has length 6: it is 0, 2, 6, 9, 11, 15.\n",
        "\n",
        "##Solution:\n",
        "To find the length of the longest increasing subsequence in an array, we can use dynamic programming. Here's the general idea:\n",
        "\n",
        "1. Initialize an array `lengths` where `lengths[i]` represents the length of the longest increasing subsequence ending with the `i`-th element of the input array.\n",
        "2. For each element in the input array, find the longest increasing subsequence that can be formed by including that element. This is done by looking at all previous elements and finding the one that provides the longest subsequence while being smaller than the current element.\n",
        "3. The maximum value in the `lengths` array will be the length of the longest increasing subsequence.\n",
        "\n",
        "##Implementation:"
      ],
      "metadata": {
        "id": "lqMp-w0dzh-B"
      }
    },
    {
      "cell_type": "code",
      "execution_count": 1,
      "metadata": {
        "colab": {
          "base_uri": "https://localhost:8080/"
        },
        "id": "yB2UE2O7zhTI",
        "outputId": "4f108b9e-9f62-48bd-8b9b-010dfcaf5c68"
      },
      "outputs": [
        {
          "output_type": "execute_result",
          "data": {
            "text/plain": [
              "6"
            ]
          },
          "metadata": {},
          "execution_count": 1
        }
      ],
      "source": [
        "def longest_increasing_subsequence(arr):\n",
        "    if not arr:\n",
        "        return 0\n",
        "\n",
        "    # Initialize the lengths array with 1, as the minimum length is 1\n",
        "    lengths = [1] * len(arr)\n",
        "\n",
        "    for i in range(1, len(arr)):\n",
        "        for j in range(i):\n",
        "            if arr[i] > arr[j]:\n",
        "                lengths[i] = max(lengths[i], lengths[j] + 1)\n",
        "\n",
        "    return max(lengths)\n",
        "\n",
        "# Test the function with the provided example\n",
        "test_array = [0, 8, 4, 12, 2, 10, 6, 14, 1, 9, 5, 13, 3, 11, 7, 15]\n",
        "longest_increasing_subsequence(test_array)\n"
      ]
    },
    {
      "cell_type": "markdown",
      "source": [
        "\n",
        "The function correctly calculated the length of the longest increasing subsequence for the given array `[0, 8, 4, 12, 2, 10, 6, 14, 1, 9, 5, 13, 3, 11, 7, 15]`, which is `6`. This matches the example subsequence: `0, 2, 6, 9, 11, 15`."
      ],
      "metadata": {
        "id": "6gveNkTI1YSg"
      }
    },
    {
      "cell_type": "markdown",
      "source": [
        "##Testing:\n",
        "To thoroughly test the function for finding the longest increasing subsequence, we should consider various scenarios, including edge cases. Here are the test cases I will use:\n",
        "\n",
        "1. **Empty array**: This will test how the function handles an empty input.\n",
        "2. **Array with one element**: To test the function's behavior with the smallest non-empty array.\n",
        "3. **Array with all elements in increasing order**: This will help in verifying if the function correctly identifies the entire array as an increasing subsequence.\n",
        "4. **Array with all elements in decreasing order**: To check if the function correctly handles the case where no increasing subsequence longer than 1 exists.\n",
        "5. **Array with all elements equal**: To see if the function can handle arrays where all elements are the same.\n",
        "6. **Array with random order of elements**: This will test the function's capability to find the longest increasing subsequence in a typical case.\n",
        "7. **Array with negative numbers and positive numbers**: To ensure that the function correctly handles negative numbers.\n"
      ],
      "metadata": {
        "id": "qSz8rfHl0QGv"
      }
    },
    {
      "cell_type": "code",
      "source": [
        "# Define the test cases\n",
        "test_cases = [\n",
        "    ([], 0),  # Empty array\n",
        "    ([7], 1),  # Array with one element\n",
        "    ([1, 2, 3, 4, 5], 5),  # Array with all elements in increasing order\n",
        "    ([5, 4, 3, 2, 1], 1),  # Array with all elements in decreasing order\n",
        "    ([3, 3, 3, 3, 3], 1),  # Array with all elements equal\n",
        "    ([10, 22, 9, 33, 21, 50, 41, 60, 80], 6),  # Array with random order\n",
        "    ([-3, 4, -1, 5, 2, -5, 3, -2, 4, 6], 6)  # Array with negative and positive numbers\n",
        "]\n",
        "\n",
        "# Function to run the tests\n",
        "def run_tests():\n",
        "    for i, (arr, expected) in enumerate(test_cases):\n",
        "        result = longest_increasing_subsequence(arr)\n",
        "        assert result == expected, f\"Test case {i+1} failed: expected {expected}, got {result}\"\n",
        "    return \"All tests passed\"\n",
        "\n",
        "# Execute the tests\n",
        "run_tests()\n"
      ],
      "metadata": {
        "colab": {
          "base_uri": "https://localhost:8080/",
          "height": 38
        },
        "id": "HQFRTOnS0-Df",
        "outputId": "daab3f82-61df-4c27-a849-342683d241fd"
      },
      "execution_count": 3,
      "outputs": [
        {
          "output_type": "execute_result",
          "data": {
            "text/plain": [
              "'All tests passed'"
            ],
            "application/vnd.google.colaboratory.intrinsic+json": {
              "type": "string"
            }
          },
          "metadata": {},
          "execution_count": 3
        }
      ]
    }
  ]
}