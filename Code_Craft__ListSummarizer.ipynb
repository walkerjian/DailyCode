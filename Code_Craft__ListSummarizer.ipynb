{
  "nbformat": 4,
  "nbformat_minor": 0,
  "metadata": {
    "colab": {
      "provenance": [],
      "authorship_tag": "ABX9TyPbQLNYnRiQf7rVGGCbR/dc",
      "include_colab_link": true
    },
    "kernelspec": {
      "name": "python3",
      "display_name": "Python 3"
    },
    "language_info": {
      "name": "python"
    }
  },
  "cells": [
    {
      "cell_type": "markdown",
      "metadata": {
        "id": "view-in-github",
        "colab_type": "text"
      },
      "source": [
        "<a href=\"https://colab.research.google.com/github/walkerjian/DailyCode/blob/main/Code_Craft__ListSummarizer.ipynb\" target=\"_parent\"><img src=\"https://colab.research.google.com/assets/colab-badge.svg\" alt=\"Open In Colab\"/></a>"
      ]
    },
    {
      "cell_type": "markdown",
      "source": [
        "##Problem:\n",
        "Given a list of numbers L, implement a method sum(i, j) which returns the sum from the sublist L[i:j] (including i, excluding j).\n",
        "\n",
        "For example, given L = [1, 2, 3, 4, 5], sum(1, 3) should return sum([2, 3]), which is 5.\n",
        "\n",
        "You can assume that you can do some pre-processing. sum() should be optimized over the pre-processing step."
      ],
      "metadata": {
        "id": "aSWha3VuxA-0"
      }
    },
    {
      "cell_type": "markdown",
      "source": [
        "##Solution:\n",
        "To efficiently calculate the sum of sublists in a list of numbers, we can utilize a technique called prefix sums. This involves creating an auxiliary list (let's call it `prefixSums`) where each element at index `i` stores the sum of elements from the start of the original list `L` up to the `i`-th element. The `sum(i, j)` function can then compute the sum of any sublist `L[i:j]` by simply subtracting `prefixSums[i]` from `prefixSums[j]`, assuming `0 <= i < j <= len(L)`.\n",
        "\n",
        "Here's how we can implement this:\n",
        "\n",
        "1. **Pre-processing Step**: Compute the prefix sums of the list `L`.\n",
        "2. **sum(i, j) Function**: Utilize the `prefixSums` list to calculate and return the sum of the sublist `L[i:j]`.\n",
        "\n",
        "Let's implement this in Python:\n",
        "\n",
        "```python\n",
        "class ListSummarizer:\n",
        "    def __init__(self, L):\n",
        "        self.prefixSums = [0]\n",
        "        for num in L:\n",
        "            self.prefixSums.append(self.prefixSums[-1] + num)\n",
        "\n",
        "    def sum(self, i, j):\n",
        "        # Return the difference between the j-th prefix sum and the i-th prefix sum\n",
        "        # to get the sum of L[i:j]\n",
        "        return self.prefixSums[j] - self.prefixSums[i]\n",
        "\n",
        "# Example usage\n",
        "L = [1, 2, 3, 4, 5]\n",
        "summarizer = ListSummarizer(L)\n",
        "print(summarizer.sum(1, 3))  # Output: 5\n",
        "```\n",
        "\n",
        "This approach has several advantages:\n",
        "- The pre-processing step, where we compute the prefix sums, has a time complexity of O(n), where n is the length of the list `L`.\n",
        "- The `sum(i, j)` method then allows us to calculate the sum of any sublist in O(1) time, making it highly efficient for repeated queries after the initial setup."
      ],
      "metadata": {
        "id": "W9j7EpQbxGR2"
      }
    },
    {
      "cell_type": "markdown",
      "source": [
        "##Implementation:"
      ],
      "metadata": {
        "id": "YZADXiBtxLy-"
      }
    },
    {
      "cell_type": "code",
      "execution_count": 1,
      "metadata": {
        "colab": {
          "base_uri": "https://localhost:8080/"
        },
        "id": "9mQ-uqXYxASh",
        "outputId": "36df1ecb-0fb6-4b03-c705-2fe62df63f9b"
      },
      "outputs": [
        {
          "output_type": "stream",
          "name": "stdout",
          "text": [
            "5\n"
          ]
        }
      ],
      "source": [
        "class ListSummarizer:\n",
        "    def __init__(self, L):\n",
        "        self.prefixSums = [0]\n",
        "        for num in L:\n",
        "            self.prefixSums.append(self.prefixSums[-1] + num)\n",
        "\n",
        "    def sum(self, i, j):\n",
        "        # Return the difference between the j-th prefix sum and the i-th prefix sum\n",
        "        # to get the sum of L[i:j]\n",
        "        return self.prefixSums[j] - self.prefixSums[i]\n",
        "\n",
        "# Example usage\n",
        "L = [1, 2, 3, 4, 5]\n",
        "summarizer = ListSummarizer(L)\n",
        "print(summarizer.sum(1, 3))  # Output: 5\n"
      ]
    }
  ]
}