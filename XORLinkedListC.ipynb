{
  "nbformat": 4,
  "nbformat_minor": 0,
  "metadata": {
    "colab": {
      "provenance": [],
      "authorship_tag": "ABX9TyP3zWQwgirFl2lpUA59aR60",
      "include_colab_link": true
    },
    "kernelspec": {
      "name": "python3",
      "display_name": "Python 3"
    },
    "language_info": {
      "name": "python"
    }
  },
  "cells": [
    {
      "cell_type": "markdown",
      "metadata": {
        "id": "view-in-github",
        "colab_type": "text"
      },
      "source": [
        "<a href=\"https://colab.research.google.com/github/walkerjian/DailyCode/blob/main/XORLinkedListC.ipynb\" target=\"_parent\"><img src=\"https://colab.research.google.com/assets/colab-badge.svg\" alt=\"Open In Colab\"/></a>"
      ]
    },
    {
      "cell_type": "markdown",
      "source": [
        "An XOR linked list is a more memory efficient doubly linked list. Instead of each node holding next and prev fields, it holds a field named both, which is an XOR of the next node and the previous node. Implement an XOR linked list; it has an add(element) which adds the element to the end, and a get(index) which returns the node at index.\n",
        "\n",
        "If using a language that has no pointers (such as Python), you can assume you have access to get_pointer and dereference_pointer functions that converts between nodes and memory addresses.\n",
        "\n",
        "Here's a breakdown:\n",
        "\n",
        "The Node struct defines the structure for each element in the XOR linked list.\n",
        "The XORLinkedList struct manages the operations and data structure of the XOR linked list. It provides methods to add elements to the list and retrieve elements at a specific index.\n",
        "The xorNodes utility function is used to XOR two node pointers.\n",
        "The test_xor_linked_list function tests various scenarios to ensure the XOR linked list's correctness.\n",
        "This C implementation provides a basic version of the XOR linked list. Note that in this C version, we're using printf and exit for error handling instead of exceptions, which aren't available in C."
      ],
      "metadata": {
        "id": "AmiI8WojSxSJ"
      }
    },
    {
      "cell_type": "code",
      "execution_count": null,
      "metadata": {
        "colab": {
          "base_uri": "https://localhost:8080/"
        },
        "id": "VHnRdfwJRER3",
        "outputId": "6146e417-9f5a-4aaf-e675-ebd6b159e808"
      },
      "outputs": [
        {
          "output_type": "stream",
          "name": "stdout",
          "text": [
            "Overwriting xor_linked_list.c\n"
          ]
        }
      ],
      "source": [
        "%%writefile xor_linked_list.c\n",
        "#include <stdio.h>\n",
        "#include <stdlib.h>\n",
        "#include <stdint.h>\n",
        "#include <assert.h>\n",
        "\n",
        "typedef struct Node {\n",
        "    int data;\n",
        "    struct Node* both;\n",
        "} Node;\n",
        "\n",
        "typedef struct {\n",
        "    Node* head;\n",
        "    Node* tail;\n",
        "} XORLinkedList;\n",
        "\n",
        "// Utility function to XOR two node pointers\n",
        "Node* xorNodes(Node* a, Node* b) {\n",
        "    return (Node*)((uintptr_t)a ^ (uintptr_t)b);\n",
        "}\n",
        "\n",
        "// Initialize the XOR linked list\n",
        "void initList(XORLinkedList* list) {\n",
        "    list->head = NULL;\n",
        "    list->tail = NULL;\n",
        "}\n",
        "\n",
        "// Add element to the end of the list\n",
        "void add(XORLinkedList* list, int data) {\n",
        "    Node* newNode = (Node*)malloc(sizeof(Node));\n",
        "    newNode->data = data;\n",
        "    newNode->both = list->tail;\n",
        "\n",
        "    if (list->head == NULL) {\n",
        "        list->head = newNode;\n",
        "        list->tail = newNode;\n",
        "    } else {\n",
        "        list->tail->both = xorNodes(list->tail->both, newNode);\n",
        "        list->tail = newNode;\n",
        "    }\n",
        "}\n",
        "\n",
        "// Get element at a specific index\n",
        "int get(XORLinkedList* list, int index, int* error) {\n",
        "    if (index < 0) {\n",
        "        *error = -1; // \"Index out of range\"\n",
        "        return 0;\n",
        "    }\n",
        "\n",
        "    if (list->head == NULL) {\n",
        "        *error = -2; // \"List is empty\"\n",
        "        return 0;\n",
        "    }\n",
        "\n",
        "    Node* prev = NULL;\n",
        "    Node* curr = list->head;\n",
        "    for (int i = 0; i < index; ++i) {\n",
        "        Node* next = xorNodes(prev, curr->both);\n",
        "        if (!next) {\n",
        "            *error = -1; // \"Index out of range\"\n",
        "            return 0;\n",
        "        }\n",
        "        prev = curr;\n",
        "        curr = next;\n",
        "    }\n",
        "    *error = 0; // \"No error\"\n",
        "    return curr->data;\n",
        "}\n",
        "\n",
        "void test_xor_linked_list() {\n",
        "    XORLinkedList list;\n",
        "    initList(&list);\n",
        "\n",
        "    // Test 1: Add elements and retrieve them\n",
        "    for (int i = 1; i <= 5; ++i) {\n",
        "        add(&list, i * 10);\n",
        "    }\n",
        "\n",
        "    int error;\n",
        "    for (int i = 1; i <= 5; ++i) {\n",
        "        assert(get(&list, i - 1, &error) == i * 10 && error == 0);\n",
        "    }\n",
        "\n",
        "    // Test out-of-range scenarios\n",
        "    assert(get(&list, -1, &error) == 0 && error == -1);\n",
        "    assert(get(&list, 100, &error) == 0 && error == -1);\n",
        "\n",
        "    printf(\"All tests passed!\\n\");\n",
        "}\n",
        "\n",
        "int main() {\n",
        "    test_xor_linked_list();\n",
        "    return 0;\n",
        "}"
      ]
    },
    {
      "cell_type": "code",
      "source": [
        "!gcc -o xor_linked_list xor_linked_list.c\n"
      ],
      "metadata": {
        "id": "PKaXyNN1ReWA"
      },
      "execution_count": null,
      "outputs": []
    },
    {
      "cell_type": "code",
      "source": [
        "!ls -lash\n"
      ],
      "metadata": {
        "colab": {
          "base_uri": "https://localhost:8080/"
        },
        "id": "c1zm6b0hRquF",
        "outputId": "1f284320-65fd-486b-ba46-bb4e67d9483d"
      },
      "execution_count": null,
      "outputs": [
        {
          "output_type": "stream",
          "name": "stdout",
          "text": [
            "total 36K\n",
            "4.0K drwxr-xr-x 1 root root 4.0K Sep 21 10:30 .\n",
            "4.0K drwxr-xr-x 1 root root 4.0K Sep 21 10:20 ..\n",
            "4.0K drwxr-xr-x 4 root root 4.0K Sep 19 13:43 .config\n",
            "4.0K drwxr-xr-x 1 root root 4.0K Sep 19 13:44 sample_data\n",
            " 16K -rwxr-xr-x 1 root root  16K Sep 21 10:30 xor_linked_list\n",
            "4.0K -rw-r--r-- 1 root root 2.0K Sep 21 10:30 xor_linked_list.c\n"
          ]
        }
      ]
    },
    {
      "cell_type": "code",
      "source": [
        "!./xor_linked_list"
      ],
      "metadata": {
        "colab": {
          "base_uri": "https://localhost:8080/"
        },
        "id": "6Q0UplxnRuIi",
        "outputId": "b53d64bb-701f-4d28-e194-06565d2df84e"
      },
      "execution_count": null,
      "outputs": [
        {
          "output_type": "stream",
          "name": "stdout",
          "text": [
            "All tests passed!\n"
          ]
        }
      ]
    },
    {
      "cell_type": "code",
      "source": [],
      "metadata": {
        "id": "zCgtFyXsSdlt"
      },
      "execution_count": null,
      "outputs": []
    }
  ]
}