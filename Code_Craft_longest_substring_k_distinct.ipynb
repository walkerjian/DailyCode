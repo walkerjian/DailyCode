{
  "nbformat": 4,
  "nbformat_minor": 0,
  "metadata": {
    "colab": {
      "provenance": [],
      "authorship_tag": "ABX9TyP8R/2MWZ+pMHSGb317NZuz",
      "include_colab_link": true
    },
    "kernelspec": {
      "name": "python3",
      "display_name": "Python 3"
    },
    "language_info": {
      "name": "python"
    }
  },
  "cells": [
    {
      "cell_type": "markdown",
      "metadata": {
        "id": "view-in-github",
        "colab_type": "text"
      },
      "source": [
        "<a href=\"https://colab.research.google.com/github/walkerjian/DailyCode/blob/main/Code_Craft_longest_substring_k_distinct.ipynb\" target=\"_parent\"><img src=\"https://colab.research.google.com/assets/colab-badge.svg\" alt=\"Open In Colab\"/></a>"
      ]
    },
    {
      "cell_type": "markdown",
      "source": [
        "##Problem:\n",
        "Given an integer k and a string s, find the length of the longest substring that contains at most k distinct characters.\n",
        "\n",
        "For example, given s = \"abcba\" and k = 2, the longest substring with k distinct characters is \"bcb\"."
      ],
      "metadata": {
        "id": "FJMCtpNNHuKC"
      }
    },
    {
      "cell_type": "markdown",
      "source": [
        "##Solution:\n",
        "To solve this problem, we can use a sliding window approach. This technique involves moving a window through the string to find substrings that meet our criteria. In this case, the criteria are substrings with at most 'k' distinct characters.\n",
        "\n",
        "The algorithm can be described as follows:\n",
        "\n",
        "1. Initialize two pointers (start and end) at the beginning of the string. These pointers will define the current window.\n",
        "2. Use a hash map or dictionary to keep track of the number of occurrences of each character within the window.\n",
        "3. Expand the end pointer to the right and add the character at the end pointer to the hash map. Do this until you have 'k+1' distinct characters in the hash map.\n",
        "4. Once you have 'k+1' distinct characters, move the start pointer to the right, and remove characters from the hash map accordingly, until you have at most 'k' distinct characters in the hash map again.\n",
        "5. Throughout this process, keep track of the maximum length of substrings that meet the criteria.\n",
        "\n",
        "This algorithm works because it efficiently explores all possible substrings and checks if they fulfill the condition of having at most 'k' distinct characters."
      ],
      "metadata": {
        "id": "u3dyVFoHH7-7"
      }
    },
    {
      "cell_type": "markdown",
      "source": [
        "##Implementation:"
      ],
      "metadata": {
        "id": "eRpJikGnIEyc"
      }
    },
    {
      "cell_type": "code",
      "execution_count": 1,
      "metadata": {
        "colab": {
          "base_uri": "https://localhost:8080/"
        },
        "id": "eBBWxDReHtaX",
        "outputId": "78666111-c42e-4cfd-9f94-ec8243377b85"
      },
      "outputs": [
        {
          "output_type": "execute_result",
          "data": {
            "text/plain": [
              "3"
            ]
          },
          "metadata": {},
          "execution_count": 1
        }
      ],
      "source": [
        "def longest_substring_k_distinct(s, k):\n",
        "    if k == 0 or not s:\n",
        "        return 0\n",
        "\n",
        "    # Map to store the count of characters in the current window\n",
        "    char_map = {}\n",
        "    start = 0\n",
        "    max_length = 0\n",
        "\n",
        "    for end in range(len(s)):\n",
        "        char = s[end]\n",
        "        char_map[char] = char_map.get(char, 0) + 1\n",
        "\n",
        "        # When more than 'k' distinct characters are in the current window\n",
        "        while len(char_map) > k:\n",
        "            char_map[s[start]] -= 1\n",
        "            if char_map[s[start]] == 0:\n",
        "                del char_map[s[start]]\n",
        "            start += 1\n",
        "\n",
        "        max_length = max(max_length, end - start + 1)\n",
        "\n",
        "    return max_length\n",
        "\n",
        "# Testing the function with the example provided\n",
        "s = \"abcba\"\n",
        "k = 2\n",
        "longest_substring_k_distinct(s, k)\n"
      ]
    }
  ]
}