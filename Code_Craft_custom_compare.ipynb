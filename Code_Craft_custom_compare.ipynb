{
  "nbformat": 4,
  "nbformat_minor": 0,
  "metadata": {
    "colab": {
      "provenance": [],
      "authorship_tag": "ABX9TyNbEpUlwdgIuxe5rFoFrh1i",
      "include_colab_link": true
    },
    "kernelspec": {
      "name": "python3",
      "display_name": "Python 3"
    },
    "language_info": {
      "name": "python"
    }
  },
  "cells": [
    {
      "cell_type": "markdown",
      "metadata": {
        "id": "view-in-github",
        "colab_type": "text"
      },
      "source": [
        "<a href=\"https://colab.research.google.com/github/walkerjian/DailyCode/blob/main/Code_Craft_custom_compare.ipynb\" target=\"_parent\"><img src=\"https://colab.research.google.com/assets/colab-badge.svg\" alt=\"Open In Colab\"/></a>"
      ]
    },
    {
      "cell_type": "markdown",
      "source": [
        "##Problem:\n",
        "Given a list of numbers, create an algorithm that arranges them in order to form the largest possible integer. For example, given [10, 7, 76, 415], you should return 77641510."
      ],
      "metadata": {
        "id": "6s1wo4zVvoUC"
      }
    },
    {
      "cell_type": "markdown",
      "source": [
        "To create the largest possible integer by arranging a list of numbers, we can use a custom sorting method. The idea is to determine the order based on the concatenation of two numbers in either possible order, and compare which concatenation forms a larger number. For instance, when comparing '76' and '415', you would compare '76415' with '41576' to decide their order.\n",
        "\n",
        "Here's a step-by-step breakdown of the algorithm:\n",
        "\n",
        "1. Convert all numbers to strings to facilitate concatenation.\n",
        "2. Use a sorting function where the comparison between two strings `x` and `y` is based on the comparison between `x+y` and `y+x`.\n",
        "3. Sort the numbers (as strings) using this custom comparator in descending order.\n",
        "4. Concatenate the sorted list of strings.\n",
        "5. Convert the result back to an integer to remove any leading zeros.\n",
        "\n",
        "This function first converts the numbers into strings and sorts them using a custom comparison logic defined in `custom_compare`. The sorted array is then concatenated into a single string and converted back to an integer to ensure no leading zeros are present. This will yield the largest possible formation of the integer as required."
      ],
      "metadata": {
        "id": "3muaBvSYvt0w"
      }
    },
    {
      "cell_type": "code",
      "execution_count": 1,
      "metadata": {
        "colab": {
          "base_uri": "https://localhost:8080/"
        },
        "id": "xy1hrJ0BvZgF",
        "outputId": "58881cb4-7bab-4b92-9b8c-6643cf1d6cfe"
      },
      "outputs": [
        {
          "output_type": "stream",
          "name": "stdout",
          "text": [
            "77641510\n"
          ]
        }
      ],
      "source": [
        "from functools import cmp_to_key\n",
        "\n",
        "def custom_compare(x, y):\n",
        "    # Order based on which concatenation is greater\n",
        "    if x + y > y + x:\n",
        "        return -1\n",
        "    else:\n",
        "        return 1\n",
        "\n",
        "def largest_possible_integer(numbers):\n",
        "    # Convert numbers to strings\n",
        "    str_numbers = [str(num) for num in numbers]\n",
        "    # Sort numbers with custom comparator\n",
        "    sorted_numbers = sorted(str_numbers, key=cmp_to_key(custom_compare))\n",
        "    # Concatenate sorted numbers\n",
        "    largest_number = ''.join(sorted_numbers)\n",
        "    # Convert to integer to avoid leading zeros issues\n",
        "    return int(largest_number)\n",
        "\n",
        "# Example usage\n",
        "numbers = [10, 7, 76, 415]\n",
        "result = largest_possible_integer(numbers)\n",
        "print(result)  # Output should be 77641510\n"
      ]
    }
  ]
}