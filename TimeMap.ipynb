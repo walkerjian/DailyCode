{
  "nbformat": 4,
  "nbformat_minor": 0,
  "metadata": {
    "colab": {
      "provenance": [],
      "authorship_tag": "ABX9TyOQGRAolDiXNOAvMSl2lU1k",
      "include_colab_link": true
    },
    "kernelspec": {
      "name": "python3",
      "display_name": "Python 3"
    },
    "language_info": {
      "name": "python"
    }
  },
  "cells": [
    {
      "cell_type": "markdown",
      "metadata": {
        "id": "view-in-github",
        "colab_type": "text"
      },
      "source": [
        "<a href=\"https://colab.research.google.com/github/walkerjian/DailyCode/blob/main/TimeMap.ipynb\" target=\"_parent\"><img src=\"https://colab.research.google.com/assets/colab-badge.svg\" alt=\"Open In Colab\"/></a>"
      ]
    },
    {
      "cell_type": "code",
      "execution_count": 1,
      "metadata": {
        "colab": {
          "base_uri": "https://localhost:8080/"
        },
        "id": "Ls9dLursJqSC",
        "outputId": "9dd9ccb7-abce-4b3c-e7bc-934a5efe440c"
      },
      "outputs": [
        {
          "output_type": "stream",
          "name": "stdout",
          "text": [
            "After d.set(1, 1, 0), data is: {1: [(0, 1)]}\n",
            "After d.set(1, 2, 2), data is: {1: [(0, 1), (2, 2)]}\n",
            "d.get(1, 1) =  1\n",
            "d.get(1, 3) =  2\n",
            "After d.set(1, 1, 5), data is: {1: [(0, 1), (2, 2), (5, 1)]}\n",
            "d.get(1, 0) =  1\n",
            "d.get(1, 10) =  1\n",
            "After d.set(1, 1, 0), data is: {1: [(0, 1), (2, 2), (5, 1)]}\n",
            "After d.set(1, 2, 0), data is: {1: [(0, 2), (2, 2), (5, 1)]}\n",
            "d.get(1, 0) =  2\n"
          ]
        }
      ],
      "source": [
        "class TimeMap:\n",
        "    \"\"\"\n",
        "    A Map implementation with the ability to retrieve the value of a key at a particular time.\n",
        "\n",
        "    Methods:\n",
        "    - set(key, value, time): sets key to value for t = time.\n",
        "    - get(key, time): gets the key at t = time.\n",
        "\n",
        "    Usage:\n",
        "    If we set a key at a particular time, it will maintain that value forever or until it gets set at a later time.\n",
        "    When we get a key at a time, it should return the value that was set for that key at the most recent time.\n",
        "\n",
        "    Example:\n",
        "    d = TimeMap()\n",
        "    d.set(1, 1, 0) # set key 1 to value 1 at time 0\n",
        "    d.set(1, 2, 2) # set key 1 to value 2 at time 2\n",
        "    d.get(1, 1)    # returns 1\n",
        "    d.get(1, 3)    # returns 2\n",
        "    \"\"\"\n",
        "\n",
        "    def __init__(self):\n",
        "        # Model: Our underlying data structure.\n",
        "        self.data = {}\n",
        "\n",
        "    # Controller: Handles logic of setting a value at a given time.\n",
        "    def set(self, key, value, time):\n",
        "        if key not in self.data:\n",
        "            self.data[key] = []\n",
        "\n",
        "        # If the time exists for the key, update the value\n",
        "        for i, (t, _) in enumerate(self.data[key]):\n",
        "            if t == time:\n",
        "                self.data[key][i] = (time, value)\n",
        "                return\n",
        "\n",
        "        # Otherwise, append the new time and value\n",
        "        self.data[key].append((time, value))\n",
        "\n",
        "    # Controller: Handles logic of retrieving a value at a given time.\n",
        "    def get(self, key, time):\n",
        "        if key not in self.data or not self.data[key]:\n",
        "            return None\n",
        "\n",
        "        # If the earliest set time for the key is greater than the given time, return None\n",
        "        if self.data[key][0][0] > time:\n",
        "            return None\n",
        "\n",
        "        # Perform binary search to find the closest time that's less than or equal to the given time\n",
        "        values = self.data[key]\n",
        "        left, right = 0, len(values)\n",
        "\n",
        "        while left < right:\n",
        "            mid = (left + right) // 2\n",
        "            if values[mid][0] <= time:\n",
        "                left = mid + 1\n",
        "            else:\n",
        "                right = mid\n",
        "\n",
        "        # If left is 0, it means there's no valid time found\n",
        "        if left == 0:\n",
        "            return None\n",
        "\n",
        "        return values[left-1][1]  # Return the value at the closest time found\n",
        "\n",
        "# Working through the examples step by step again\n",
        "d = TimeMap()\n",
        "\n",
        "d.set(1, 1, 0)\n",
        "print(\"After d.set(1, 1, 0), data is:\", d.data)\n",
        "\n",
        "d.set(1, 2, 2)\n",
        "print(\"After d.set(1, 2, 2), data is:\", d.data)\n",
        "\n",
        "print(\"d.get(1, 1) = \", d.get(1, 1))\n",
        "\n",
        "print(\"d.get(1, 3) = \", d.get(1, 3))\n",
        "\n",
        "d.set(1, 1, 5)\n",
        "print(\"After d.set(1, 1, 5), data is:\", d.data)\n",
        "\n",
        "print(\"d.get(1, 0) = \", d.get(1, 0))\n",
        "\n",
        "print(\"d.get(1, 10) = \", d.get(1, 10))\n",
        "\n",
        "d.set(1, 1, 0)\n",
        "print(\"After d.set(1, 1, 0), data is:\", d.data)\n",
        "\n",
        "d.set(1, 2, 0)\n",
        "print(\"After d.set(1, 2, 0), data is:\", d.data)\n",
        "\n",
        "print(\"d.get(1, 0) = \", d.get(1, 0))\n"
      ]
    }
  ]
}