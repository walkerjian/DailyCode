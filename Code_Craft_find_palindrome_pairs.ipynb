{
  "nbformat": 4,
  "nbformat_minor": 0,
  "metadata": {
    "colab": {
      "provenance": [],
      "authorship_tag": "ABX9TyNRzDIxLP7CHzVdPdGjlMeT",
      "include_colab_link": true
    },
    "kernelspec": {
      "name": "python3",
      "display_name": "Python 3"
    },
    "language_info": {
      "name": "python"
    }
  },
  "cells": [
    {
      "cell_type": "markdown",
      "metadata": {
        "id": "view-in-github",
        "colab_type": "text"
      },
      "source": [
        "<a href=\"https://colab.research.google.com/github/walkerjian/DailyCode/blob/main/Code_Craft_find_palindrome_pairs.ipynb\" target=\"_parent\"><img src=\"https://colab.research.google.com/assets/colab-badge.svg\" alt=\"Open In Colab\"/></a>"
      ]
    },
    {
      "cell_type": "markdown",
      "source": [
        "##Problem:\n",
        "Given a list of words, find all pairs of unique indices such that the concatenation of the two words is a palindrome.\n",
        "\n",
        "For example, given the list [\"code\", \"edoc\", \"da\", \"d\"], return [(0, 1), (1, 0), (2, 3)]."
      ],
      "metadata": {
        "id": "2lWyrXjB8EeD"
      }
    },
    {
      "cell_type": "markdown",
      "source": [
        "##Solution:\n",
        "To find all pairs of unique indices such that the concatenation of the two words forms a palindrome, we can follow a brute-force approach. This involves checking all possible pairs of words to see if their concatenation forms a palindrome. A palindrome is a word or sequence that reads the same backward as forward.\n"
      ],
      "metadata": {
        "id": "jIohycTB8Hjb"
      }
    },
    {
      "cell_type": "markdown",
      "source": [
        "##Implementation:\n",
        "Here's a Python function to accomplish this. This function iterates over each pair of words, concatenates them, and checks if the result is a palindrome. If it is, the indices of the pair are added to the result list.\n",
        "\n",
        "```python\n",
        "def is_palindrome(s):\n",
        "    return s == s[::-1]\n",
        "\n",
        "def find_palindrome_pairs(words):\n",
        "    palindrome_pairs = []\n",
        "    for i, word1 in enumerate(words):\n",
        "        for j, word2 in enumerate(words):\n",
        "            if i != j:  # Ensure we're not pairing a word with itself\n",
        "                if is_palindrome(word1 + word2):\n",
        "                    palindrome_pairs.append((i, j))\n",
        "    return palindrome_pairs\n",
        "\n",
        "# Example usage\n",
        "words = [\"code\", \"edoc\", \"da\", \"d\"]\n",
        "pairs = find_palindrome_pairs(words)\n",
        "print(pairs)\n",
        "```\n",
        "\n",
        "This approach has a time complexity of $O(n^2 \\cdot k)$, where $n$ is the number of words and $k$ is the average length of the words. This is because for each pair of words (which requires $n^2$ checks), we concatenate them and check if the result is a palindrome, which takes $O(k)$ time.\n",
        "\n",
        "The function `is_palindrome(s)` checks if a string `s` is a palindrome by comparing it with its reverse. The `find_palindrome_pairs(words)` function iterates over all pairs of words, ensuring not to pair a word with itself, concatenates them, and checks if the result is a palindrome. If it is, it adds the pair of indices to the result list.\n"
      ],
      "metadata": {
        "id": "pkWuQrLB8K8H"
      }
    },
    {
      "cell_type": "code",
      "execution_count": 1,
      "metadata": {
        "id": "TIIt0l_k7Oi1",
        "colab": {
          "base_uri": "https://localhost:8080/"
        },
        "outputId": "8a6e84d7-9aba-4cac-da8c-28df83bec07b"
      },
      "outputs": [
        {
          "output_type": "stream",
          "name": "stdout",
          "text": [
            "[(0, 1), (1, 0), (2, 3)]\n"
          ]
        }
      ],
      "source": [
        "def is_palindrome(s):\n",
        "    return s == s[::-1]\n",
        "\n",
        "def find_palindrome_pairs(words):\n",
        "    palindrome_pairs = []\n",
        "    for i, word1 in enumerate(words):\n",
        "        for j, word2 in enumerate(words):\n",
        "            if i != j:  # Ensure we're not pairing a word with itself\n",
        "                if is_palindrome(word1 + word2):\n",
        "                    palindrome_pairs.append((i, j))\n",
        "    return palindrome_pairs\n",
        "\n",
        "# Example usage\n",
        "words = [\"code\", \"edoc\", \"da\", \"d\"]\n",
        "pairs = find_palindrome_pairs(words)\n",
        "print(pairs)\n"
      ]
    }
  ]
}