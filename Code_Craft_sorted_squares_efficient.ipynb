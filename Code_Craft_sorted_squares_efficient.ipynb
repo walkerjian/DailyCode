{
  "nbformat": 4,
  "nbformat_minor": 0,
  "metadata": {
    "colab": {
      "provenance": [],
      "authorship_tag": "ABX9TyP1rBoDi2NP71gUUdR6ctu8",
      "include_colab_link": true
    },
    "kernelspec": {
      "name": "python3",
      "display_name": "Python 3"
    },
    "language_info": {
      "name": "python"
    }
  },
  "cells": [
    {
      "cell_type": "markdown",
      "metadata": {
        "id": "view-in-github",
        "colab_type": "text"
      },
      "source": [
        "<a href=\"https://colab.research.google.com/github/walkerjian/DailyCode/blob/main/Code_Craft_sorted_squares_efficient.ipynb\" target=\"_parent\"><img src=\"https://colab.research.google.com/assets/colab-badge.svg\" alt=\"Open In Colab\"/></a>"
      ]
    },
    {
      "cell_type": "markdown",
      "source": [
        "##Problem:\n",
        "Given a sorted list of integers, square the elements and give the output in sorted order.\n",
        "\n",
        "For example, given [-9, -2, 0, 2, 3], return [0, 4, 4, 9, 81].\n"
      ],
      "metadata": {
        "id": "2lWyrXjB8EeD"
      }
    },
    {
      "cell_type": "markdown",
      "source": [],
      "metadata": {
        "id": "95ux5GkVdyE6"
      }
    },
    {
      "cell_type": "markdown",
      "source": [
        "##Solution:\n",
        "To solve this problem, we need to square each element of the list and then sort the resulting list. Here's how we can do this:\n",
        "\n",
        "1. Square each element in the list.\n",
        "2. Sort the squared numbers to ensure the output is in ascending order.\n",
        "\n",
        "\n"
      ],
      "metadata": {
        "id": "jIohycTB8Hjb"
      }
    },
    {
      "cell_type": "markdown",
      "source": [
        "##Implementation:\n",
        "Let's implement this in Python:\n",
        "\n",
        "Given the list `[-9, -2, 0, 2, 3]`, after squaring each element and sorting them, the result is `[0, 4, 4, 9, 81]`.\n",
        "\n"
      ],
      "metadata": {
        "id": "pkWuQrLB8K8H"
      }
    },
    {
      "cell_type": "code",
      "execution_count": 1,
      "metadata": {
        "id": "TIIt0l_k7Oi1",
        "colab": {
          "base_uri": "https://localhost:8080/"
        },
        "outputId": "b607f612-37db-4d8d-c2a3-68925e4bf375"
      },
      "outputs": [
        {
          "output_type": "execute_result",
          "data": {
            "text/plain": [
              "[0, 4, 4, 9, 81]"
            ]
          },
          "metadata": {},
          "execution_count": 1
        }
      ],
      "source": [
        "def sorted_squares(nums):\n",
        "    # Square each element in the list\n",
        "    squared_nums = [num ** 2 for num in nums]\n",
        "    # Sort the squared numbers\n",
        "    squared_nums.sort()\n",
        "    return squared_nums\n",
        "\n",
        "# Example list\n",
        "nums = [-9, -2, 0, 2, 3]\n",
        "sorted_squares(nums)\n"
      ]
    },
    {
      "cell_type": "markdown",
      "source": [
        "There is a more efficient way to solve this problem, especially when dealing with a sorted list. Instead of squaring all the elements and then sorting them, we can take advantage of the fact that the list is already sorted. The idea is to use two pointers to read the values from both ends of the list, compare their absolute values, square them, and then fill the output list from the end to the beginning. This way, we can sort the squared numbers in one pass without needing a separate sorting step.\n",
        "\n",
        "Here's how this approach works:\n",
        "\n",
        "1. Initialize two pointers at the beginning and end of the list.\n",
        "2. Compare the absolute values of the elements pointed by the two pointers.\n",
        "3. Square the larger absolute value and place it in the result array from the end towards the beginning.\n",
        "4. Move the pointer inward from the side of the larger absolute value.\n",
        "5. Continue until all elements have been processed.\n",
        "\n",
        "Let's implement this improved algorithm in Python.\n",
        "\n"
      ],
      "metadata": {
        "id": "r0fW7r79eMBA"
      }
    },
    {
      "cell_type": "code",
      "source": [
        "def sorted_squares_efficient(nums):\n",
        "    n = len(nums)\n",
        "    result = [0] * n\n",
        "    left, right = 0, n - 1\n",
        "\n",
        "    for i in range(n - 1, -1, -1):\n",
        "        if abs(nums[left]) > abs(nums[right]):\n",
        "            result[i] = nums[left] ** 2\n",
        "            left += 1\n",
        "        else:\n",
        "            result[i] = nums[right] ** 2\n",
        "            right -= 1\n",
        "\n",
        "    return result\n",
        "\n",
        "# Test the efficient function with the same example\n",
        "sorted_squares_efficient(nums)\n"
      ],
      "metadata": {
        "colab": {
          "base_uri": "https://localhost:8080/"
        },
        "id": "icruHlnveKJ6",
        "outputId": "825344f5-d725-426a-de48-dff0ec44eaf2"
      },
      "execution_count": 2,
      "outputs": [
        {
          "output_type": "execute_result",
          "data": {
            "text/plain": [
              "[0, 4, 4, 9, 81]"
            ]
          },
          "metadata": {},
          "execution_count": 2
        }
      ]
    },
    {
      "cell_type": "markdown",
      "source": [
        "\n",
        "Using the more efficient approach, we again get the sorted squared list [0, 4, 4, 9, 81] for the input [-9, -2, 0, 2, 3]. This method is more efficient because it eliminates the need for an additional sorting step, leveraging the fact that the input list is already sorted.\n"
      ],
      "metadata": {
        "id": "yizHDWDWeR63"
      }
    }
  ]
}