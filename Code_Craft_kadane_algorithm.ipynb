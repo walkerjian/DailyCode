{
  "nbformat": 4,
  "nbformat_minor": 0,
  "metadata": {
    "colab": {
      "provenance": [],
      "authorship_tag": "ABX9TyNjuGY1HTMTyV7FJsCwhV25",
      "include_colab_link": true
    },
    "kernelspec": {
      "name": "python3",
      "display_name": "Python 3"
    },
    "language_info": {
      "name": "python"
    }
  },
  "cells": [
    {
      "cell_type": "markdown",
      "metadata": {
        "id": "view-in-github",
        "colab_type": "text"
      },
      "source": [
        "<a href=\"https://colab.research.google.com/github/walkerjian/DailyCode/blob/main/Code_Craft_kadane_algorithm.ipynb\" target=\"_parent\"><img src=\"https://colab.research.google.com/assets/colab-badge.svg\" alt=\"Open In Colab\"/></a>"
      ]
    },
    {
      "cell_type": "markdown",
      "source": [
        "##Problem:\n",
        "Given a circular array, compute its maximum subarray sum in O(n) time. A subarray can be empty, and in this case the sum is 0.\n",
        "\n",
        "For example, given [8, -1, 3, 4], return 15 as we choose the numbers 3, 4, and 8 where the 8 is obtained from wrapping around.\n",
        "\n",
        "Given [-4, 5, 1, 0], return 6 as we choose the numbers 5 and 1."
      ],
      "metadata": {
        "id": "VBIC4fqa8JW5"
      }
    },
    {
      "cell_type": "markdown",
      "source": [
        "##Solution:\n",
        "To solve this problem, we need to consider two cases for a circular array:\n",
        "\n",
        "1. **The maximum subarray does not wrap around the end**: This case can be handled using Kadane's algorithm, which finds the maximum subarray sum in a linear array.\n",
        "\n",
        "2. **The maximum subarray wraps around the end**: For this, we need to find the minimum subarray sum and subtract it from the total sum of the array. This effectively converts the problem to finding a subarray that wraps around such that its complement (the minimum subarray) is minimal.\n",
        "\n",
        "The maximum of these two cases will give us the answer. However, there's a special case to consider: if all elements in the array are negative, the maximum subarray sum is 0 (the empty subarray), as taking any elements only decreases the sum.\n",
        "\n",
        "Here's a step-by-step plan to implement this in Python:\n",
        "\n",
        "1. Find the maximum subarray sum using Kadane's algorithm.\n",
        "2. Find the total sum of the array.\n",
        "3. Modify the array to invert the sign of each element.\n",
        "4. Again use Kadane's algorithm to find the maximum subarray sum, which is effectively the minimum subarray sum of the original array.\n",
        "5. Subtract this minimum subarray sum from the total sum to get the maximum sum for the wraparound case.\n",
        "6. Compare the results from step 1 and step 5.\n",
        "7. If the maximum subarray sum found in both steps is negative, return 0. Otherwise, return the maximum of these two sums.\n",
        "\n",
        "Let's implement this in Python.\n",
        "\n"
      ],
      "metadata": {
        "id": "2Cbd0Wv38Mug"
      }
    },
    {
      "cell_type": "markdown",
      "source": [
        "##Implementation:"
      ],
      "metadata": {
        "id": "pwNRI8th8dXF"
      }
    },
    {
      "cell_type": "code",
      "execution_count": 1,
      "metadata": {
        "colab": {
          "base_uri": "https://localhost:8080/"
        },
        "id": "HyFooSJY8IfM",
        "outputId": "28953883-2e7b-4ea4-ce11-1ece77b3a2a1"
      },
      "outputs": [
        {
          "output_type": "stream",
          "name": "stdout",
          "text": [
            "15\n",
            "6\n"
          ]
        }
      ],
      "source": [
        "def kadane_algorithm(arr):\n",
        "    \"\"\"Find the maximum subarray sum using Kadane's algorithm.\"\"\"\n",
        "    max_ending_here = max_so_far = 0\n",
        "    for x in arr:\n",
        "        max_ending_here = max(0, max_ending_here + x)\n",
        "        max_so_far = max(max_so_far, max_ending_here)\n",
        "    return max_so_far\n",
        "\n",
        "def max_circular_subarray_sum(arr):\n",
        "    \"\"\"Find the maximum subarray sum in a circular array.\"\"\"\n",
        "    # Case 1: Max subarray sum without wrap around\n",
        "    max_kadane = kadane_algorithm(arr)\n",
        "\n",
        "    # Case 2: Max subarray sum with wrap around\n",
        "    # Find total sum and minimum subarray sum\n",
        "    total_sum = sum(arr)\n",
        "    arr = [-x for x in arr]  # Invert the elements\n",
        "    max_wrap = total_sum + kadane_algorithm(arr)\n",
        "\n",
        "    # Special case when all numbers are negative\n",
        "    if max_wrap == 0:\n",
        "        return 0\n",
        "\n",
        "    # Return the maximum of two cases\n",
        "    return max(max_kadane, max_wrap)\n",
        "\n",
        "# Test cases\n",
        "print(max_circular_subarray_sum([8, -1, 3, 4]))  # Expected output: 15\n",
        "print(max_circular_subarray_sum([-4, 5, 1, 0]))  # Expected output: 6\n"
      ]
    },
    {
      "cell_type": "markdown",
      "source": [
        "\n",
        "\n",
        "1. For the array `[8, -1, 3, 4]`, the maximum subarray sum is `15`, which is achieved by choosing the numbers `3`, `4`, and `8` (with `8` wrapping around).\n",
        "\n",
        "2. For the array `[-4, 5, 1, 0]`, the maximum subarray sum is `6`, achieved by choosing the numbers `5` and `1`.\n",
        "\n",
        "This approach efficiently computes the maximum subarray sum in a circular array in $ O(n) $ time, considering both wraparound and non-wraparound scenarios."
      ],
      "metadata": {
        "id": "GawrOg3v8Z6Q"
      }
    }
  ]
}