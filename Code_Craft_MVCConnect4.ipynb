{
  "nbformat": 4,
  "nbformat_minor": 0,
  "metadata": {
    "colab": {
      "provenance": [],
      "authorship_tag": "ABX9TyMfREdehzopW7AA0jdG+OH1",
      "include_colab_link": true
    },
    "kernelspec": {
      "name": "python3",
      "display_name": "Python 3"
    },
    "language_info": {
      "name": "python"
    }
  },
  "cells": [
    {
      "cell_type": "markdown",
      "metadata": {
        "id": "view-in-github",
        "colab_type": "text"
      },
      "source": [
        "<a href=\"https://colab.research.google.com/github/walkerjian/DailyCode/blob/main/Code_Craft_MVCConnect4.ipynb\" target=\"_parent\"><img src=\"https://colab.research.google.com/assets/colab-badge.svg\" alt=\"Open In Colab\"/></a>"
      ]
    },
    {
      "cell_type": "markdown",
      "source": [
        "##Problem:\n",
        "Connect 4 is a game where opponents take turns dropping red or black discs into a 7 x 6 vertically suspended grid. The game ends either when one player creates a line of four consecutive discs of their color (horizontally, vertically, or diagonally), or when there are no more spots left in the grid.\n",
        "\n",
        "Design and implement Connect 4."
      ],
      "metadata": {
        "id": "5sELMN7SELSz"
      }
    },
    {
      "cell_type": "markdown",
      "source": [
        "##Solution:\n"
      ],
      "metadata": {
        "id": "lAGRHA3xETX_"
      }
    },
    {
      "cell_type": "markdown",
      "source": [
        "Designing and implementing a Connect 4 game requires a few different components:\n",
        "\n",
        "1. **Model**: This will hold the game's state, like the board's current status, which player's turn it is, and whether the game has ended.\n",
        "\n",
        "2. **View**: This component will display the game's state to the user. We can start with an ASCII art representation of the board.\n",
        "\n",
        "3. **Controller**: This will handle the game logic, like making moves, checking for a win or draw, and changing turns.\n",
        "\n",
        "Let's start by implementing a basic version of each component in Python. We will use a class-based approach to encapsulate the different parts of the game. The `Model` will be a class that holds the board state and player information. The `View` will be a class for rendering the board. The `Controller` will be a class to manage the game's logic.\n",
        "\n",
        "I'll start by coding the `Model` and `View` components. The `Model` will have methods to initialize the board, add a disc to the board, and check the game's status. The `View` will render the board in ASCII art.\n",
        "\n",
        "Let's begin with these components, and then we can add the `Controller`."
      ],
      "metadata": {
        "id": "3__RaoC0E-xM"
      }
    },
    {
      "cell_type": "code",
      "execution_count": 1,
      "metadata": {
        "colab": {
          "base_uri": "https://localhost:8080/"
        },
        "id": "cnCFCAx7EGlL",
        "outputId": "d0a0066a-3a03-43cf-feaf-f7375a0a1f67"
      },
      "outputs": [
        {
          "output_type": "stream",
          "name": "stdout",
          "text": [
            " | | | | | | \n",
            " | | | | | | \n",
            " | | | | | | \n",
            " | | | | | | \n",
            "R|B| | | | | \n",
            "R|B| | | | | \n",
            "-------------\n"
          ]
        }
      ],
      "source": [
        "class Connect4Model:\n",
        "    def __init__(self):\n",
        "        self.board = [[' ' for _ in range(7)] for _ in range(6)]\n",
        "        self.current_player = 'R'  # R for Red, B for Black\n",
        "        self.game_over = False\n",
        "\n",
        "    def add_disc(self, column):\n",
        "        \"\"\"Adds a disc to the specified column.\"\"\"\n",
        "        if self.board[0][column] != ' ' or self.game_over:\n",
        "            return False  # Column is full or game is over\n",
        "\n",
        "        for row in range(5, -1, -1):\n",
        "            if self.board[row][column] == ' ':\n",
        "                self.board[row][column] = self.current_player\n",
        "                break\n",
        "\n",
        "        self.check_game_over(row, column)\n",
        "        self.current_player = 'B' if self.current_player == 'R' else 'R'\n",
        "        return True\n",
        "\n",
        "    def check_game_over(self, row, column):\n",
        "        \"\"\"Check if the game is over (win or draw).\"\"\"\n",
        "        # Check for win\n",
        "        if self.check_win(row, column):\n",
        "            self.game_over = True\n",
        "            return\n",
        "\n",
        "        # Check for draw\n",
        "        if all(self.board[0][i] != ' ' for i in range(7)):\n",
        "            self.game_over = True\n",
        "\n",
        "    def check_win(self, row, column):\n",
        "        \"\"\"Check for a win condition.\"\"\"\n",
        "        disc = self.board[row][column]\n",
        "\n",
        "        # Directions: Vertical, Horizontal, Diagonal /\n",
        "        directions = [(1, 0), (0, 1), (1, 1), (1, -1)]\n",
        "        for dr, dc in directions:\n",
        "            count = 1\n",
        "            for i in range(1, 4):\n",
        "                r, c = row + dr * i, column + dc * i\n",
        "                if 0 <= r < 6 and 0 <= c < 7 and self.board[r][c] == disc:\n",
        "                    count += 1\n",
        "                else:\n",
        "                    break\n",
        "\n",
        "            for i in range(1, 4):\n",
        "                r, c = row - dr * i, column - dc * i\n",
        "                if 0 <= r < 6 and 0 <= c < 7 and self.board[r][c] == disc:\n",
        "                    count += 1\n",
        "                else:\n",
        "                    break\n",
        "\n",
        "            if count >= 4:\n",
        "                return True\n",
        "\n",
        "        return False\n",
        "\n",
        "\n",
        "class Connect4View:\n",
        "    def render(self, board):\n",
        "        \"\"\"Renders the board in ASCII art.\"\"\"\n",
        "        board_str = \"\"\n",
        "        for row in board:\n",
        "            board_str += \"|\".join(row) + \"\\n\"\n",
        "        board_str += \"-\" * 13  # For the bottom of the board\n",
        "        return board_str\n",
        "\n",
        "# Example usage\n",
        "model = Connect4Model()\n",
        "view = Connect4View()\n",
        "\n",
        "# Add a few discs and print the board\n",
        "model.add_disc(0)\n",
        "model.add_disc(1)\n",
        "model.add_disc(0)\n",
        "model.add_disc(1)\n",
        "\n",
        "# Print the board\n",
        "print(view.render(model.board))\n"
      ]
    },
    {
      "cell_type": "markdown",
      "source": [
        "The basic model and view components for the Connect 4 game have been implemented. Here's a brief overview:\n",
        "\n",
        "- **Connect4Model**: Manages the game's state, including the board, current player, and game status. It has methods to add discs to the board and check for a win or a draw.\n",
        "- **Connect4View**: Handles rendering the game board as ASCII art.\n",
        "\n",
        "In the example usage, two discs from each player were added to the board, resulting in this state:\n",
        "\n",
        "```\n",
        " | | | | | |\n",
        " | | | | | |\n",
        " | | | | | |\n",
        " | | | | | |\n",
        "R|B| | | | |\n",
        "R|B| | | | |\n",
        "-------------\n",
        "```\n",
        "\n",
        "Next, I will implement the **Controller** component, which will manage player interactions and game logic, such as taking turns and checking for game completion. This will complete the basic implementation of the Connect 4 game. Let's proceed with the Controller."
      ],
      "metadata": {
        "id": "5wj_joaOFwUZ"
      }
    },
    {
      "cell_type": "code",
      "source": [
        "class Connect4Controller:\n",
        "    def __init__(self, model, view):\n",
        "        self.model = model\n",
        "        self.view = view\n",
        "\n",
        "    def play_turn(self, column):\n",
        "        \"\"\"Handles a player's turn.\"\"\"\n",
        "        if not 0 <= column < 7:\n",
        "            print(\"Invalid column. Choose a number between 0 and 6.\")\n",
        "            return False\n",
        "\n",
        "        if not self.model.add_disc(column):\n",
        "            print(\"Column is full. Try a different column.\")\n",
        "            return False\n",
        "\n",
        "        print(f\"Player {self.model.current_player} played column {column}.\")\n",
        "        print(self.view.render(self.model.board))\n",
        "\n",
        "        if self.model.game_over:\n",
        "            winner = 'B' if self.model.current_player == 'R' else 'R'  # The winner is the previous player\n",
        "            print(f\"Game Over. Player {winner} wins!\")\n",
        "            return True\n",
        "\n",
        "        return False\n",
        "\n",
        "    def start_game(self):\n",
        "        \"\"\"Starts the Connect 4 game.\"\"\"\n",
        "        print(\"Welcome to Connect 4!\")\n",
        "        print(self.view.render(self.model.board))\n",
        "\n",
        "        while not self.model.game_over:\n",
        "            column = int(input(f\"Player {self.model.current_player}'s turn. Choose a column (0-6): \"))\n",
        "            self.play_turn(column)\n",
        "\n",
        "# Example usage\n",
        "model = Connect4Model()\n",
        "view = Connect4View()\n",
        "controller = Connect4Controller(model, view)\n",
        "\n",
        "# Uncomment the line below to start a game\n",
        "# controller.start_game()\n"
      ],
      "metadata": {
        "id": "Oj8qKGlvEu1v"
      },
      "execution_count": 5,
      "outputs": []
    },
    {
      "cell_type": "markdown",
      "source": [
        "The Connect 4 game is now fully implemented with a Model-View-Controller (MVC) architecture:\n",
        "\n",
        "1. **Connect4Model**: Manages the game's internal state, such as the board, players, and game status.\n",
        "2. **Connect4View**: Renders the board in ASCII art.\n",
        "3. **Connect4Controller**: Handles game logic, including player turns, input validation, and game progression.\n",
        "\n",
        "To play the game, you would normally uncomment the `controller.start_game()` line in the script. This starts the game and allows players to input their moves. Since the interactive environment here doesn't support live input, I can demonstrate a simulated game by manually calling `play_turn` with predetermined moves.\n",
        "\n",
        "I'll simulate a few turns to show how the game progresses. Let's do this:"
      ],
      "metadata": {
        "id": "4EDoPpWyF4H3"
      }
    },
    {
      "cell_type": "code",
      "source": [
        "# Simulating a few turns of the game\n",
        "controller.play_turn(0)  # Player R's turn\n",
        "controller.play_turn(1)  # Player B's turn\n",
        "controller.play_turn(0)  # Player R's turn\n",
        "controller.play_turn(1)  # Player B's turn\n",
        "controller.play_turn(0)  # Player R's turn\n",
        "controller.play_turn(1)  # Player B's turn\n",
        "controller.play_turn(0)  # Player R's turn - This should be a win for Player R\n"
      ],
      "metadata": {
        "colab": {
          "base_uri": "https://localhost:8080/"
        },
        "id": "Jn7eia6mE3ii",
        "outputId": "fa78bfe4-fcac-46dd-8ccb-1470df8a1e6c"
      },
      "execution_count": 4,
      "outputs": [
        {
          "output_type": "stream",
          "name": "stdout",
          "text": [
            "Player B played column 0.\n",
            " | | | | | | \n",
            " | | | | | | \n",
            " | | | | | | \n",
            " | | | | | | \n",
            " | | | | | | \n",
            "R| | | | | | \n",
            "-------------\n",
            "Player R played column 1.\n",
            " | | | | | | \n",
            " | | | | | | \n",
            " | | | | | | \n",
            " | | | | | | \n",
            " | | | | | | \n",
            "R|B| | | | | \n",
            "-------------\n",
            "Player B played column 0.\n",
            " | | | | | | \n",
            " | | | | | | \n",
            " | | | | | | \n",
            " | | | | | | \n",
            "R| | | | | | \n",
            "R|B| | | | | \n",
            "-------------\n",
            "Player R played column 1.\n",
            " | | | | | | \n",
            " | | | | | | \n",
            " | | | | | | \n",
            " | | | | | | \n",
            "R|B| | | | | \n",
            "R|B| | | | | \n",
            "-------------\n",
            "Player B played column 0.\n",
            " | | | | | | \n",
            " | | | | | | \n",
            " | | | | | | \n",
            "R| | | | | | \n",
            "R|B| | | | | \n",
            "R|B| | | | | \n",
            "-------------\n",
            "Player R played column 1.\n",
            " | | | | | | \n",
            " | | | | | | \n",
            " | | | | | | \n",
            "R|B| | | | | \n",
            "R|B| | | | | \n",
            "R|B| | | | | \n",
            "-------------\n",
            "Player B played column 0.\n",
            " | | | | | | \n",
            " | | | | | | \n",
            "R| | | | | | \n",
            "R|B| | | | | \n",
            "R|B| | | | | \n",
            "R|B| | | | | \n",
            "-------------\n",
            "Game Over. Player R wins!\n"
          ]
        },
        {
          "output_type": "execute_result",
          "data": {
            "text/plain": [
              "True"
            ]
          },
          "metadata": {},
          "execution_count": 4
        }
      ]
    },
    {
      "cell_type": "markdown",
      "source": [
        "In the simulated game, the players alternated turns, each dropping a disc into columns 0 and 1. The game concluded with Player R (Red) winning by forming a vertical line in column 0. The final state of the board was:\n",
        "\n",
        "```\n",
        " | | | | | |\n",
        " | | | | | |\n",
        "R| | | | | |\n",
        "R|B| | | | |\n",
        "R|B| | | | |\n",
        "R|B| | | | |\n",
        "-------------\n",
        "Game Over. Player R wins!\n",
        "```\n",
        "\n",
        "This implementation of Connect 4 in Python showcases the basic functionality of the game using an MVC architecture. The model handles the game state, the view renders the board, and the controller manages the game flow and player interactions.\n",
        "\n",
        "For a complete game experience, you can run the `start_game` method in an environment that supports interactive input, allowing two players to take turns in real time. This setup can be further enhanced with more sophisticated UI elements, AI opponents, or network play capabilities."
      ],
      "metadata": {
        "id": "YWkWf695F-_c"
      }
    }
  ]
}