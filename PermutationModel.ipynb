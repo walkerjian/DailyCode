{
  "nbformat": 4,
  "nbformat_minor": 0,
  "metadata": {
    "colab": {
      "provenance": [],
      "authorship_tag": "ABX9TyOHzAyFM/pw5vCzAxi2ujH5",
      "include_colab_link": true
    },
    "kernelspec": {
      "name": "python3",
      "display_name": "Python 3"
    },
    "language_info": {
      "name": "python"
    }
  },
  "cells": [
    {
      "cell_type": "markdown",
      "metadata": {
        "id": "view-in-github",
        "colab_type": "text"
      },
      "source": [
        "<a href=\"https://colab.research.google.com/github/walkerjian/DailyCode/blob/main/PermutationModel.ipynb\" target=\"_parent\"><img src=\"https://colab.research.google.com/assets/colab-badge.svg\" alt=\"Open In Colab\"/></a>"
      ]
    },
    {
      "cell_type": "markdown",
      "source": [
        "## Permutations\n",
        "Good morning! Here's your coding interview problem for today.\n",
        "\n",
        "This problem was asked by Palantir.\n",
        "\n",
        "Given a number represented by a list of digits, find the next greater permutation of a number, in terms of lexicographic ordering. If there is not greater permutation possible, return the permutation with the lowest value/ordering.\n",
        "\n",
        "For example, the list [1,2,3] should return [1,3,2]. The list [1,3,2] should return [2,1,3]. The list [3,2,1] should return [1,2,3].\n",
        "\n",
        "Can you perform the operation without allocating extra memory (disregarding the input memory)?"
      ],
      "metadata": {
        "id": "24Gqy6i0SpIh"
      }
    },
    {
      "cell_type": "code",
      "execution_count": 1,
      "metadata": {
        "colab": {
          "base_uri": "https://localhost:8080/"
        },
        "id": "d0L0a0oqQV5A",
        "outputId": "b2cd771f-4eb5-48b1-f14a-288cdb066a5a"
      },
      "outputs": [
        {
          "output_type": "stream",
          "name": "stdout",
          "text": [
            "Input: [1, 2, 3] -> Output: [1, 3, 2]\n",
            "Input: [1, 3, 2] -> Output: [2, 1, 3]\n",
            "Input: [3, 2, 1] -> Output: [1, 2, 3]\n",
            "Input: [1, 1, 5] -> Output: [1, 5, 1]\n",
            "Input: [1] -> Output: [1]\n",
            "Input: [5, 1, 1] -> Output: [1, 1, 5]\n",
            "Input: [4, 3, 2, 1] -> Output: [1, 2, 3, 4]\n",
            "Input: [1, 2, 3, 4] -> Output: [1, 2, 4, 3]\n",
            "Input: [1, 2] -> Output: [2, 1]\n",
            "Input: [2, 1] -> Output: [1, 2]\n",
            "Input: [2, 3, 1] -> Output: [3, 1, 2]\n"
          ]
        }
      ],
      "source": [
        "from typing import List\n",
        "\n",
        "# Model\n",
        "class PermutationModel:\n",
        "    @staticmethod\n",
        "    def next_permutation(nums: List[int]) -> List[int]:\n",
        "        \"\"\"\n",
        "        Finds the next greater permutation of a number represented\n",
        "        by a list of digits.\n",
        "        If there is no greater permutation possible,\n",
        "        returns the permutation with the lowest value/ordering.\n",
        "\n",
        "        Parameters:\n",
        "        - nums (List[int]): A list of digits representing the number.\n",
        "\n",
        "        Returns:\n",
        "        - List[int]: The next greater permutation or the smallest permutation\n",
        "        if no greater permutation is available.\n",
        "        \"\"\"\n",
        "        # Find the first number which is smaller than its next number\n",
        "        for i in range(len(nums) - 2, -1, -1):\n",
        "            if nums[i] < nums[i + 1]:\n",
        "                break\n",
        "        else:  # If no such number is found, return the smallest permutation\n",
        "            return sorted(nums)\n",
        "\n",
        "        # Find the smallest number to the right of `nums[i]`\n",
        "        # and which is greater than `nums[i]`\n",
        "        for j in range(len(nums) - 1, i, -1):\n",
        "            if nums[j] > nums[i]:\n",
        "                nums[i], nums[j] = nums[j], nums[i]  # Swap the numbers\n",
        "                break\n",
        "\n",
        "        # Reverse the numbers after `nums[i]`\n",
        "        nums[i + 1:] = reversed(nums[i + 1:])\n",
        "        return nums\n",
        "\n",
        "\n",
        "# View\n",
        "class PermutationView:\n",
        "    @staticmethod\n",
        "    def display(input_nums: List[int], output_nums: List[int]) -> None:\n",
        "        \"\"\"\n",
        "        Displays the input and output list of digits.\n",
        "\n",
        "        Parameters:\n",
        "        - input_nums (List[int]): Original list of digits.\n",
        "        - output_nums (List[int]): Resultant list of digits after permutation.\n",
        "        \"\"\"\n",
        "        print(f\"Input: {input_nums} -> Output: {output_nums}\")\n",
        "\n",
        "\n",
        "# Controller\n",
        "class PermutationController:\n",
        "    def __init__(self):\n",
        "        self.model = PermutationModel()\n",
        "        self.view = PermutationView()\n",
        "\n",
        "    def get_next_permutation(self, nums: List[int]) -> None:\n",
        "        \"\"\"\n",
        "        Takes a list of digits, finds its next greater permutation and\n",
        "        displays the result.\n",
        "\n",
        "        Parameters:\n",
        "        - nums (List[int]): A list of digits representing the number.\n",
        "        \"\"\"\n",
        "        # Using a copy to not modify the original list\n",
        "        output_nums = self.model.next_permutation(nums.copy())\n",
        "        self.view.display(nums, output_nums)\n",
        "\n",
        "\n",
        "# Test Function\n",
        "def test_next_permutation():\n",
        "    \"\"\"\n",
        "    Tests the `get_next_permutation` method of `PermutationController` with\n",
        "    various test cases.\n",
        "    \"\"\"\n",
        "    test_cases = [\n",
        "        [1, 2, 3],\n",
        "        [1, 3, 2],\n",
        "        [3, 2, 1],\n",
        "        [1, 1, 5],\n",
        "        [1],\n",
        "        [5, 1, 1],\n",
        "        [4, 3, 2, 1],\n",
        "        [1, 2, 3, 4],\n",
        "        [1, 2],\n",
        "        [2, 1],\n",
        "        [2, 3, 1]\n",
        "    ]\n",
        "\n",
        "    controller = PermutationController()\n",
        "\n",
        "    for test in test_cases:\n",
        "        controller.get_next_permutation(test)\n",
        "\n",
        "\n",
        "# Running the test function\n",
        "test_next_permutation()\n"
      ]
    },
    {
      "cell_type": "markdown",
      "source": [
        "## Can you perform the operation without allocating extra memory (disregarding the input memory)?"
      ],
      "metadata": {
        "id": "Ru9v4ZtEQ7DK"
      }
    },
    {
      "cell_type": "code",
      "source": [
        "# Modified Model (No changes here as the model was already in-place)\n",
        "\n",
        "# Modified View\n",
        "class PermutationViewInPlace:\n",
        "    @staticmethod\n",
        "    def display(original_nums: List[int], output_nums: List[int]) -> None:\n",
        "        \"\"\"\n",
        "        Displays the input and output list of digits. Since the operation is in-place,\n",
        "        the original list and the output list are the same.\n",
        "\n",
        "        Parameters:\n",
        "        - original_nums (List[int]): Original list of digits before modification.\n",
        "        - output_nums (List[int]): Resultant list of digits after permutation (same as original_nums).\n",
        "        \"\"\"\n",
        "        # Here, original_nums and output_nums point to the same list after modification.\n",
        "        print(f\"Input & Output (In-Place): {output_nums}\")\n",
        "\n",
        "\n",
        "# Modified Controller\n",
        "class PermutationControllerInPlace:\n",
        "    def __init__(self):\n",
        "        self.model = PermutationModel()\n",
        "        self.view = PermutationViewInPlace()\n",
        "\n",
        "    def get_next_permutation(self, nums: List[int]) -> None:\n",
        "        \"\"\"\n",
        "        Takes a list of digits, finds its next greater permutation in-place and displays the result.\n",
        "\n",
        "        Parameters:\n",
        "        - nums (List[int]): A list of digits representing the number.\n",
        "        \"\"\"\n",
        "        # Since the operation is in-place, we modify the original list directly.\n",
        "        self.model.next_permutation(nums)\n",
        "        self.view.display(nums, nums)\n",
        "\n",
        "\n",
        "# Modified Test Function\n",
        "def test_next_permutation_in_place():\n",
        "    \"\"\"\n",
        "    Tests the `get_next_permutation` method of `PermutationControllerInPlace` with various test cases.\n",
        "    \"\"\"\n",
        "    test_cases = [\n",
        "        [1, 2, 3],\n",
        "        [1, 3, 2],\n",
        "        [3, 2, 1],\n",
        "        [1, 1, 5],\n",
        "        [1],\n",
        "        [5, 1, 1],\n",
        "        [4, 3, 2, 1],\n",
        "        [1, 2, 3, 4],\n",
        "        [1, 2],\n",
        "        [2, 1],\n",
        "        [2, 3, 1]\n",
        "    ]\n",
        "\n",
        "    controller = PermutationControllerInPlace()\n",
        "\n",
        "    for test in test_cases:\n",
        "        controller.get_next_permutation(test)\n",
        "\n",
        "\n",
        "# Running the modified test function\n",
        "test_next_permutation_in_place()\n"
      ],
      "metadata": {
        "colab": {
          "base_uri": "https://localhost:8080/"
        },
        "id": "e3pZacIsQ_L4",
        "outputId": "722b6a37-193f-4c7c-a9d2-a62c649f0ec6"
      },
      "execution_count": 2,
      "outputs": [
        {
          "output_type": "stream",
          "name": "stdout",
          "text": [
            "Input & Output (In-Place): [1, 3, 2]\n",
            "Input & Output (In-Place): [2, 1, 3]\n",
            "Input & Output (In-Place): [3, 2, 1]\n",
            "Input & Output (In-Place): [1, 5, 1]\n",
            "Input & Output (In-Place): [1]\n",
            "Input & Output (In-Place): [5, 1, 1]\n",
            "Input & Output (In-Place): [4, 3, 2, 1]\n",
            "Input & Output (In-Place): [1, 2, 4, 3]\n",
            "Input & Output (In-Place): [2, 1]\n",
            "Input & Output (In-Place): [2, 1]\n",
            "Input & Output (In-Place): [3, 1, 2]\n"
          ]
        }
      ]
    },
    {
      "cell_type": "markdown",
      "source": [
        "### No mvc paradigm."
      ],
      "metadata": {
        "id": "-Ml_-H1QRpKL"
      }
    },
    {
      "cell_type": "code",
      "source": [
        "def next_permutation(nums: List[int]) -> List[int]:\n",
        "    \"\"\"\n",
        "    Finds the next greater permutation of a number represented by a list of digits.\n",
        "    If there is no greater permutation possible, returns the permutation with the lowest value/ordering.\n",
        "\n",
        "    Parameters:\n",
        "    - nums (List[int]): A list of digits representing the number.\n",
        "\n",
        "    Returns:\n",
        "    - List[int]: The next greater permutation or the smallest permutation if no greater permutation is available.\n",
        "    \"\"\"\n",
        "    # Find the first number which is smaller than its next number\n",
        "    for i in range(len(nums) - 2, -1, -1):\n",
        "        if nums[i] < nums[i + 1]:\n",
        "            break\n",
        "    else:  # If no such number is found, return the smallest permutation\n",
        "        return sorted(nums)\n",
        "\n",
        "    # Find the smallest number to the right of `nums[i]` and which is greater than `nums[i]`\n",
        "    for j in range(len(nums) - 1, i, -1):\n",
        "        if nums[j] > nums[i]:\n",
        "            nums[i], nums[j] = nums[j], nums[i]  # Swap the numbers\n",
        "            break\n",
        "\n",
        "    # Reverse the numbers after `nums[i]`\n",
        "    nums[i + 1:] = reversed(nums[i + 1:])\n",
        "    return nums\n",
        "\n",
        "# Test the concise function\n",
        "test_cases = [\n",
        "    [1, 2, 3],\n",
        "    [1, 3, 2],\n",
        "    [3, 2, 1],\n",
        "    [1, 1, 5],\n",
        "    [1],\n",
        "    [5, 1, 1],\n",
        "    [4, 3, 2, 1],\n",
        "    [1, 2, 3, 4],\n",
        "    [1, 2],\n",
        "    [2, 1],\n",
        "    [2, 3, 1]\n",
        "]\n",
        "\n",
        "results = [(test, next_permutation(test.copy())) for test in test_cases]\n",
        "results\n"
      ],
      "metadata": {
        "colab": {
          "base_uri": "https://localhost:8080/"
        },
        "id": "XoIkIdKlRB1s",
        "outputId": "52e15c6d-8477-4212-c3d2-4676dbaa7f7d"
      },
      "execution_count": 3,
      "outputs": [
        {
          "output_type": "execute_result",
          "data": {
            "text/plain": [
              "[([1, 2, 3], [1, 3, 2]),\n",
              " ([1, 3, 2], [2, 1, 3]),\n",
              " ([3, 2, 1], [1, 2, 3]),\n",
              " ([1, 1, 5], [1, 5, 1]),\n",
              " ([1], [1]),\n",
              " ([5, 1, 1], [1, 1, 5]),\n",
              " ([4, 3, 2, 1], [1, 2, 3, 4]),\n",
              " ([1, 2, 3, 4], [1, 2, 4, 3]),\n",
              " ([1, 2], [2, 1]),\n",
              " ([2, 1], [1, 2]),\n",
              " ([2, 3, 1], [3, 1, 2])]"
            ]
          },
          "metadata": {},
          "execution_count": 3
        }
      ]
    },
    {
      "cell_type": "markdown",
      "source": [
        "## Code adjusted to be more compliant with PEP 8 style guide: a maximum line length of 79 characters for code and 72 for comments and docstrings in Python."
      ],
      "metadata": {
        "id": "61MRNa27USxT"
      }
    },
    {
      "cell_type": "code",
      "source": [
        "def next_permutation(nums: List[int]) -> List[int]:\n",
        "    \"\"\"\n",
        "    Finds the next greater permutation of a number using a list of digits.\n",
        "    If no greater permutation is possible, returns the lowest permutation.\n",
        "\n",
        "    Parameters:\n",
        "    - nums (List[int]): List of digits representing the number.\n",
        "\n",
        "    Returns:\n",
        "    - List[int]: Next greater permutation or smallest permutation.\n",
        "    \"\"\"\n",
        "    # Find the first number smaller than its next number\n",
        "    for i in range(len(nums) - 2, -1, -1):\n",
        "        if nums[i] < nums[i + 1]:\n",
        "            break\n",
        "    else:\n",
        "        return sorted(nums)\n",
        "\n",
        "    # Find the smallest number to the right of `nums[i]`\n",
        "    # and greater than `nums[i]`\n",
        "    for j in range(len(nums) - 1, i, -1):\n",
        "        if nums[j] > nums[i]:\n",
        "            nums[i], nums[j] = nums[j], nums[i]\n",
        "            break\n",
        "\n",
        "    # Reverse numbers after `nums[i]`\n",
        "    nums[i + 1:] = reversed(nums[i + 1:])\n",
        "    return nums\n",
        "\n",
        "# Test the function with adjusted comments\n",
        "results = [(test, next_permutation(test.copy())) for test in test_cases]\n",
        "results\n"
      ],
      "metadata": {
        "colab": {
          "base_uri": "https://localhost:8080/"
        },
        "id": "i5MRS7s2SzvQ",
        "outputId": "94c0b750-6bda-4d39-9af6-5bf3fa3b2941"
      },
      "execution_count": 4,
      "outputs": [
        {
          "output_type": "execute_result",
          "data": {
            "text/plain": [
              "[([1, 2, 3], [1, 3, 2]),\n",
              " ([1, 3, 2], [2, 1, 3]),\n",
              " ([3, 2, 1], [1, 2, 3]),\n",
              " ([1, 1, 5], [1, 5, 1]),\n",
              " ([1], [1]),\n",
              " ([5, 1, 1], [1, 1, 5]),\n",
              " ([4, 3, 2, 1], [1, 2, 3, 4]),\n",
              " ([1, 2, 3, 4], [1, 2, 4, 3]),\n",
              " ([1, 2], [2, 1]),\n",
              " ([2, 1], [1, 2]),\n",
              " ([2, 3, 1], [3, 1, 2])]"
            ]
          },
          "metadata": {},
          "execution_count": 4
        }
      ]
    }
  ]
}