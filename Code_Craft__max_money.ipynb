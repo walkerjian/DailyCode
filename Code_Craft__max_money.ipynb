{
  "nbformat": 4,
  "nbformat_minor": 0,
  "metadata": {
    "colab": {
      "provenance": [],
      "authorship_tag": "ABX9TyMBkz5rL3V18sF8auTXcYBo",
      "include_colab_link": true
    },
    "kernelspec": {
      "name": "python3",
      "display_name": "Python 3"
    },
    "language_info": {
      "name": "python"
    }
  },
  "cells": [
    {
      "cell_type": "markdown",
      "metadata": {
        "id": "view-in-github",
        "colab_type": "text"
      },
      "source": [
        "<a href=\"https://colab.research.google.com/github/walkerjian/DailyCode/blob/main/Code_Craft__max_money.ipynb\" target=\"_parent\"><img src=\"https://colab.research.google.com/assets/colab-badge.svg\" alt=\"Open In Colab\"/></a>"
      ]
    },
    {
      "cell_type": "markdown",
      "source": [
        "##Problem:\n",
        "In front of you is a row of N coins, with values v1, v1, ..., vn.\n",
        "\n",
        "You are asked to play the following game. You and an opponent take turns choosing either the first or last coin from the row, removing it from the row, and receiving the value of the coin.\n",
        "\n",
        "Write a program that returns the maximum amount of money you can win with certainty, if you move first, assuming your opponent plays optimally."
      ],
      "metadata": {
        "id": "hSvVnLFWpKXA"
      }
    },
    {
      "cell_type": "markdown",
      "source": [
        "##Solution:\n",
        "To solve this problem, we can use dynamic programming. The key insight is that at any step of the game, the best move can be determined by knowing the optimal outcomes of the smaller subproblems.\n",
        "\n",
        "Given a row of coins of length `N`, we define `dp[i][j]` as the maximum amount of money you can win if you move first, with the row of coins from index `i` to index `j`. The opponent also plays optimally, so when it's their turn, they will choose a coin such that they leave you with the minimum possible value.\n",
        "\n",
        "The recurrence relation for our dynamic programming solution is as follows:\n",
        "\n",
        "$ dp[i][j] = \\max( v[i] + \\min(dp[i+2][j], dp[i+1][j-1]), v[j] + \\min(dp[i+1][j-1], dp[i][j-2]) ) $\n",
        "\n",
        "This relation uses the fact that after your move, the opponent will choose optimally, leaving you with the row `[i+2, j]` or `[i+1, j-1]` if you choose the first coin (`v[i]`), or with the row `[i+1, j-1]` or `[i, j-2]` if you choose the last coin (`v[j]`). You want to maximize your gain while the opponent aims to minimize your next move's gain, hence the use of `min` inside the `max` function.\n",
        "\n",
        "The base case for our dynamic programming table will be when `i == j`, meaning there is only one coin left, so `dp[i][i] = v[i]`. For the cases where we have two coins, `dp[i][i+1] = max(v[i], v[i+1])` since you'll pick the maximum of the two.\n",
        "\n"
      ],
      "metadata": {
        "id": "xLM22spipPsJ"
      }
    },
    {
      "cell_type": "markdown",
      "source": [
        "##Implementation:"
      ],
      "metadata": {
        "id": "X6ye0Hm9swnO"
      }
    },
    {
      "cell_type": "code",
      "source": [
        "def max_money(coins):\n",
        "    n = len(coins)\n",
        "    if n == 0:  # No coins mean no money can be won.\n",
        "        return 0\n",
        "\n",
        "    # dp[i][j] stores the maximum amount of money you can win if it's your turn\n",
        "    # and only the coins between indices i and j (inclusive) are left.\n",
        "    dp = [[0 for _ in range(n)] for _ in range(n)]\n",
        "\n",
        "    # Fill the table for single coins and for two coins, since these are the base cases.\n",
        "    for i in range(n):\n",
        "        dp[i][i] = coins[i]  # If there's only one coin, pick it.\n",
        "        if i < n - 1:\n",
        "            dp[i][i + 1] = max(coins[i], coins[i + 1])  # Pick the larger of two coins.\n",
        "\n",
        "    # Fill in the dp table for cases where more than two coins are involved.\n",
        "    for length in range(2, n):\n",
        "        for i in range(n - length):\n",
        "            j = i + length\n",
        "            # When choosing a coin, the opponent is left to make a choice between\n",
        "            # coins[i+1] to coins[j] or coins[i] to coins[j-1].\n",
        "            # The opponent aims to leave us with the lesser value, hence the min function.\n",
        "            left_choice = coins[i] + min(dp[i + 2][j] if i + 2 <= j else 0, dp[i + 1][j - 1])\n",
        "            right_choice = coins[j] + min(dp[i + 1][j - 1], dp[i][j - 2] if j - 2 >= i else 0)\n",
        "            dp[i][j] = max(left_choice, right_choice)\n",
        "\n",
        "    return dp[0][n - 1]"
      ],
      "metadata": {
        "id": "QxiqvsnMqY0r"
      },
      "execution_count": 13,
      "outputs": []
    },
    {
      "cell_type": "markdown",
      "source": [
        "##Testing:"
      ],
      "metadata": {
        "id": "TAlcR90EtJhe"
      }
    },
    {
      "cell_type": "code",
      "source": [
        "# test harness function\n",
        "def test_max_money():\n",
        "    test_cases = [\n",
        "        ([2, 3, 15, 7], 17),\n",
        "        ([20, 30, 2, 2, 2, 10], 42),\n",
        "        ([8, 15, 3, 7], 22),\n",
        "        ([1, 5, 233, 7], 234),\n",
        "        ([5, 3, 7, 10], 15),\n",
        "        ([], 0),\n",
        "        ([100], 100),\n",
        "    ]\n",
        "\n",
        "    for i, (coins, expected) in enumerate(test_cases):\n",
        "        try:\n",
        "            result = max_money(coins)\n",
        "            assert result == expected, f\"Test case {i+1} failed: Expected {expected}, got {result} with coins {coins}\"\n",
        "            print(f\"Test case {i+1} passed.\")\n",
        "        except AssertionError as e:\n",
        "            print(e)\n",
        "\n",
        "test_max_money()\n"
      ],
      "metadata": {
        "colab": {
          "base_uri": "https://localhost:8080/"
        },
        "id": "GE-FBkePtEsz",
        "outputId": "1e2d1b13-fb84-4fe9-e98a-8e7e785c8d94"
      },
      "execution_count": 14,
      "outputs": [
        {
          "output_type": "stream",
          "name": "stdout",
          "text": [
            "Test case 1 passed.\n",
            "Test case 2 passed.\n",
            "Test case 3 passed.\n",
            "Test case 4 passed.\n",
            "Test case 5 passed.\n",
            "Test case 6 passed.\n",
            "Test case 7 passed.\n"
          ]
        }
      ]
    }
  ]
}