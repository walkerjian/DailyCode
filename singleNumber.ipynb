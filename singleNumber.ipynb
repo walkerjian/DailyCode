{
  "nbformat": 4,
  "nbformat_minor": 0,
  "metadata": {
    "colab": {
      "provenance": [],
      "authorship_tag": "ABX9TyOEmOAt3zWoDno/sbTDF4Eq",
      "include_colab_link": true
    },
    "kernelspec": {
      "name": "python3",
      "display_name": "Python 3"
    },
    "language_info": {
      "name": "python"
    }
  },
  "cells": [
    {
      "cell_type": "markdown",
      "metadata": {
        "id": "view-in-github",
        "colab_type": "text"
      },
      "source": [
        "<a href=\"https://colab.research.google.com/github/walkerjian/DailyCode/blob/main/singleNumber.ipynb\" target=\"_parent\"><img src=\"https://colab.research.google.com/assets/colab-badge.svg\" alt=\"Open In Colab\"/></a>"
      ]
    },
    {
      "cell_type": "markdown",
      "source": [
        "Problem:\n",
        "Given an array of integers where every integer occurs three times except for one integer, which only occurs once, find and return the non-duplicated integer.\n",
        "For example, given [6, 1, 3, 3, 3, 6, 6], return 1. Given [13, 19, 13, 13], return 19.\n",
        "Do this in O(N) time and O(1) space."
      ],
      "metadata": {
        "id": "PVYI8ErZoEkh"
      }
    },
    {
      "cell_type": "code",
      "source": [
        "def singleNumber(nums):\n",
        "    ones, twos = 0, 0\n",
        "\n",
        "    for num in nums:\n",
        "        # twos keep the bits which appear twice\n",
        "        twos |= ones & num\n",
        "        # ones keep the bits which appear once\n",
        "        ones ^= num\n",
        "\n",
        "        # clear the bits which appear third time\n",
        "        common_mask = ~(ones & twos)\n",
        "        ones &= common_mask\n",
        "        twos &= common_mask\n",
        "\n",
        "    return ones\n",
        "\n",
        "# Test cases from the problem\n",
        "print(\"\\nTest Outputs:\")\n",
        "print(singleNumber([6, 1, 3, 3, 3, 6, 6])) # Expected output: 1\n",
        "print(singleNumber([13, 19, 13, 13]))     # Expected output: 19\n"
      ],
      "metadata": {
        "colab": {
          "base_uri": "https://localhost:8080/"
        },
        "id": "Jt0-8sf8n7zC",
        "outputId": "b60d0579-2843-41c0-f88e-3fdcac6eb24f"
      },
      "execution_count": 5,
      "outputs": [
        {
          "output_type": "stream",
          "name": "stdout",
          "text": [
            "\n",
            "Test Outputs:\n",
            "1\n",
            "19\n"
          ]
        }
      ]
    }
  ]
}