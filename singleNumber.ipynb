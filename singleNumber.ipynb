{
  "nbformat": 4,
  "nbformat_minor": 0,
  "metadata": {
    "colab": {
      "provenance": [],
      "authorship_tag": "ABX9TyMkNkuK8KnB+kaeK4ZTJ7O7",
      "include_colab_link": true
    },
    "kernelspec": {
      "name": "python3",
      "display_name": "Python 3"
    },
    "language_info": {
      "name": "python"
    }
  },
  "cells": [
    {
      "cell_type": "markdown",
      "metadata": {
        "id": "view-in-github",
        "colab_type": "text"
      },
      "source": [
        "<a href=\"https://colab.research.google.com/github/walkerjian/DailyCode/blob/main/singleNumber.ipynb\" target=\"_parent\"><img src=\"https://colab.research.google.com/assets/colab-badge.svg\" alt=\"Open In Colab\"/></a>"
      ]
    },
    {
      "cell_type": "markdown",
      "source": [
        "Problem:\n",
        "Given an array of integers where every integer occurs three times except for one integer, which only occurs once, find and return the non-duplicated integer.\n",
        "For example, given [6, 1, 3, 3, 3, 6, 6], return 1. Given [13, 19, 13, 13], return 19.\n",
        "Do this in O(N) time and O(1) space."
      ],
      "metadata": {
        "id": "PVYI8ErZoEkh"
      }
    },
    {
      "cell_type": "code",
      "source": [
        "def singleNumber(nums):\n",
        "    ones, twos = 0, 0\n",
        "\n",
        "    for num in nums:\n",
        "        # twos keep the bits which appear twice\n",
        "        twos |= ones & num\n",
        "        # ones keep the bits which appear once\n",
        "        ones ^= num\n",
        "\n",
        "        # clear the bits which appear third time\n",
        "        common_mask = ~(ones & twos)\n",
        "        ones &= common_mask\n",
        "        twos &= common_mask\n",
        "\n",
        "    return ones\n",
        "\n",
        "# Test cases from the problem\n",
        "print(\"\\nTest Outputs:\")\n",
        "print(singleNumber([6, 1, 3, 3, 3, 6, 6])) # Expected output: 1\n",
        "print(singleNumber([13, 19, 13, 13]))     # Expected output: 19\n"
      ],
      "metadata": {
        "colab": {
          "base_uri": "https://localhost:8080/"
        },
        "id": "Jt0-8sf8n7zC",
        "outputId": "b60d0579-2843-41c0-f88e-3fdcac6eb24f"
      },
      "execution_count": 5,
      "outputs": [
        {
          "output_type": "stream",
          "name": "stdout",
          "text": [
            "\n",
            "Test Outputs:\n",
            "1\n",
            "19\n"
          ]
        }
      ]
    },
    {
      "cell_type": "markdown",
      "source": [
        "This problem is a classic demonstration of the power of bitwise operations. Let's break down the logic step by step:\n",
        "\n",
        "### The Problem:\n",
        "\n",
        "You're given an array of integers where every integer appears three times, except for one, which appears exactly once. The challenge is to find and return that unique integer, while maintaining a time complexity of O(N) and space complexity of O(1).\n",
        "\n",
        "### Bitwise Solution:\n",
        "\n",
        "The solution leverages bitwise operations to keep track of the number of times each bit position appears in the array.\n",
        "\n",
        "1. **Two Counters - `ones` and `twos`**:\n",
        "    - `ones`: An integer to store the bits which appear **exactly once** in the array.\n",
        "    - `twos`: An integer to store the bits which appear **exactly twice** in the array.\n",
        "\n",
        "2. **Loop Through the Numbers**:\n",
        "   For each number in the array:\n",
        "\n",
        "   a. Update `twos`: This step updates the `twos` with the common bits of `ones` and the current number. It essentially identifies the numbers which are appearing for the second time.\n",
        "   ```python\n",
        "   twos |= ones & num\n",
        "   ```\n",
        "\n",
        "   b. Update `ones`: This step toggles the bits which are present in the current number.\n",
        "   ```python\n",
        "   ones ^= num\n",
        "   ```\n",
        "\n",
        "3. **Clear Common Bits**:\n",
        "   Now, the bits which appear third time are those which are common in both `ones` and `twos`. We clear these bits.\n",
        "\n",
        "   a. Get common bits of `ones` and `twos` which represents the number appearing for the third time:\n",
        "   ```python\n",
        "   common_mask = ~(ones & twos)\n",
        "   ```\n",
        "\n",
        "   b. Clear bits from both `ones` and `twos`:\n",
        "   ```python\n",
        "   ones &= common_mask\n",
        "   twos &= common_mask\n",
        "   ```\n",
        "\n",
        "4. **Result**:\n",
        "    At the end of the loop, `ones` will hold the unique number (which appears only once in the array), as all other numbers are cleared out.\n",
        "\n",
        "### Intuition:\n",
        "\n",
        "To understand the underlying intuition, think of the solution as an implementation of a three-state system:\n",
        "\n",
        "1. `00` → Current bit is 0 in both `ones` and `twos` (appeared 0 times)\n",
        "2. `01` → Current bit is 1 in `ones` and 0 in `twos` (appeared 1 time)\n",
        "3. `10` → Current bit is 0 in `ones` and 1 in `twos` (appeared 2 times)\n",
        "4. The bit which appeared 3 times will be cleared to the state `00`.\n",
        "\n",
        "Our goal is to derive the number that remains in the state `01`, i.e., the number which appears only once. That's what the bitwise operations are achieving.\n",
        "\n",
        "To summarize, the bitwise operations cleverly count the number of times each bit appears, and by maintaining the state of each bit across the two counters (`ones` and `twos`), the algorithm effectively filters out all numbers that appear three times, leaving only the unique number."
      ],
      "metadata": {
        "id": "BYE-n8AKpYkL"
      }
    },
    {
      "cell_type": "code",
      "source": [],
      "metadata": {
        "id": "nMGqahCCpe-o"
      },
      "execution_count": null,
      "outputs": []
    }
  ]
}