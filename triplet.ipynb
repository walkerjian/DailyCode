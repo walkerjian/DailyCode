{
  "nbformat": 4,
  "nbformat_minor": 0,
  "metadata": {
    "colab": {
      "provenance": [],
      "authorship_tag": "ABX9TyNnaohS7HYcG7wmB03Xq38N",
      "include_colab_link": true
    },
    "kernelspec": {
      "name": "python3",
      "display_name": "Python 3"
    },
    "language_info": {
      "name": "python"
    }
  },
  "cells": [
    {
      "cell_type": "markdown",
      "metadata": {
        "id": "view-in-github",
        "colab_type": "text"
      },
      "source": [
        "<a href=\"https://colab.research.google.com/github/walkerjian/DailyCode/blob/main/triplet.ipynb\" target=\"_parent\"><img src=\"https://colab.research.google.com/assets/colab-badge.svg\" alt=\"Open In Colab\"/></a>"
      ]
    },
    {
      "cell_type": "code",
      "execution_count": 1,
      "metadata": {
        "colab": {
          "base_uri": "https://localhost:8080/"
        },
        "id": "qaUSL8PZ0Vmi",
        "outputId": "768f9db2-b60d-4ab7-9bc0-0e76ddb7c5bf"
      },
      "outputs": [
        {
          "output_type": "execute_result",
          "data": {
            "text/plain": [
              "True"
            ]
          },
          "metadata": {},
          "execution_count": 1
        }
      ],
      "source": [
        "def has_pythagorean_triplet(arr):\n",
        "    # Square all numbers\n",
        "    squared = [x**2 for x in arr]\n",
        "\n",
        "    # Sort the squared numbers\n",
        "    squared.sort()\n",
        "\n",
        "    # Check for triplets using the two-pointer technique\n",
        "    for i in range(len(squared) - 1, 1, -1):  # Starting from the end of the list\n",
        "        c2 = squared[i]\n",
        "        start = 0\n",
        "        end = i - 1\n",
        "\n",
        "        while start < end:\n",
        "            a2_b2_sum = squared[start] + squared[end]\n",
        "\n",
        "            if a2_b2_sum == c2:\n",
        "                return True\n",
        "            elif a2_b2_sum < c2:\n",
        "                start += 1\n",
        "            else:\n",
        "                end -= 1\n",
        "\n",
        "    return False\n",
        "\n",
        "# Test the function\n",
        "test_array = [3, 5, 1, 4]\n",
        "has_pythagorean_triplet(test_array)\n"
      ]
    }
  ]
}