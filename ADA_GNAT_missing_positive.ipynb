{
  "nbformat": 4,
  "nbformat_minor": 0,
  "metadata": {
    "colab": {
      "provenance": [],
      "authorship_tag": "ABX9TyMA9PkAL7bGNizzG3qqP3aW",
      "include_colab_link": true
    },
    "kernelspec": {
      "name": "python3",
      "display_name": "Python 3"
    },
    "language_info": {
      "name": "python"
    }
  },
  "cells": [
    {
      "cell_type": "markdown",
      "metadata": {
        "id": "view-in-github",
        "colab_type": "text"
      },
      "source": [
        "<a href=\"https://colab.research.google.com/github/walkerjian/DailyCode/blob/main/ADA_GNAT_missing_positive.ipynb\" target=\"_parent\"><img src=\"https://colab.research.google.com/assets/colab-badge.svg\" alt=\"Open In Colab\"/></a>"
      ]
    },
    {
      "cell_type": "markdown",
      "source": [
        "## ADA GNAT missing_positive\n",
        "Given an array of integers, find the first missing positive integer in linear time and constant space. In other words, find the lowest positive integer that does not exist in the array. The array can contain duplicates and negative numbers as well.\n",
        "\n",
        "For example, the input [3, 4, -1, 1] should give 2. The input [1, 2, 0] should give 3.\n",
        "\n",
        "You can modify the input array in-place."
      ],
      "metadata": {
        "id": "Vd6omn6x6y7n"
      }
    },
    {
      "cell_type": "code",
      "execution_count": 1,
      "metadata": {
        "colab": {
          "base_uri": "https://localhost:8080/"
        },
        "id": "vls8ie5FkUd6",
        "outputId": "9408701e-db30-417e-c348-179ad68482b4"
      },
      "outputs": [
        {
          "output_type": "stream",
          "name": "stdout",
          "text": [
            "Reading package lists... Done\n",
            "Building dependency tree... Done\n",
            "Reading state information... Done\n",
            "The following additional packages will be installed:\n",
            "  cpp-10 gcc-10 gcc-10-base gnat-10 libgcc-10-dev libgnat-10 libgnat-util10\n",
            "Suggested packages:\n",
            "  gcc-10-locales gcc-10-multilib gcc-10-doc ada-reference-manual-2012\n",
            "  gnat-10-doc gnat-10-sjlj\n",
            "The following NEW packages will be installed:\n",
            "  cpp-10 gcc-10 gcc-10-base gnat gnat-10 libgcc-10-dev libgnat-10\n",
            "  libgnat-util10\n",
            "0 upgraded, 8 newly installed, 0 to remove and 17 not upgraded.\n",
            "Need to get 49.6 MB of archives.\n",
            "After this operation, 175 MB of additional disk space will be used.\n",
            "Get:1 http://archive.ubuntu.com/ubuntu jammy-updates/universe amd64 gcc-10-base amd64 10.5.0-1ubuntu1~22.04 [21.5 kB]\n",
            "Get:2 http://archive.ubuntu.com/ubuntu jammy-updates/universe amd64 cpp-10 amd64 10.5.0-1ubuntu1~22.04 [9,395 kB]\n",
            "Get:3 http://archive.ubuntu.com/ubuntu jammy-updates/universe amd64 libgcc-10-dev amd64 10.5.0-1ubuntu1~22.04 [2,493 kB]\n",
            "Get:4 http://archive.ubuntu.com/ubuntu jammy-updates/universe amd64 gcc-10 amd64 10.5.0-1ubuntu1~22.04 [19.1 MB]\n",
            "Get:5 http://archive.ubuntu.com/ubuntu jammy-updates/universe amd64 libgnat-10 amd64 10.5.0-1ubuntu1~22.04 [1,220 kB]\n",
            "Get:6 http://archive.ubuntu.com/ubuntu jammy-updates/universe amd64 libgnat-util10 amd64 10.5.0-1ubuntu1~22.04 [433 kB]\n",
            "Get:7 http://archive.ubuntu.com/ubuntu jammy-updates/universe amd64 gnat-10 amd64 10.5.0-1ubuntu1~22.04 [17.0 MB]\n",
            "Get:8 http://archive.ubuntu.com/ubuntu jammy/universe amd64 gnat amd64 10.1ubuntu1 [2,572 B]\n",
            "Fetched 49.6 MB in 2s (23.4 MB/s)\n",
            "Selecting previously unselected package gcc-10-base:amd64.\n",
            "(Reading database ... 120901 files and directories currently installed.)\n",
            "Preparing to unpack .../0-gcc-10-base_10.5.0-1ubuntu1~22.04_amd64.deb ...\n",
            "Unpacking gcc-10-base:amd64 (10.5.0-1ubuntu1~22.04) ...\n",
            "Selecting previously unselected package cpp-10.\n",
            "Preparing to unpack .../1-cpp-10_10.5.0-1ubuntu1~22.04_amd64.deb ...\n",
            "Unpacking cpp-10 (10.5.0-1ubuntu1~22.04) ...\n",
            "Selecting previously unselected package libgcc-10-dev:amd64.\n",
            "Preparing to unpack .../2-libgcc-10-dev_10.5.0-1ubuntu1~22.04_amd64.deb ...\n",
            "Unpacking libgcc-10-dev:amd64 (10.5.0-1ubuntu1~22.04) ...\n",
            "Selecting previously unselected package gcc-10.\n",
            "Preparing to unpack .../3-gcc-10_10.5.0-1ubuntu1~22.04_amd64.deb ...\n",
            "Unpacking gcc-10 (10.5.0-1ubuntu1~22.04) ...\n",
            "Selecting previously unselected package libgnat-10:amd64.\n",
            "Preparing to unpack .../4-libgnat-10_10.5.0-1ubuntu1~22.04_amd64.deb ...\n",
            "Unpacking libgnat-10:amd64 (10.5.0-1ubuntu1~22.04) ...\n",
            "Selecting previously unselected package libgnat-util10:amd64.\n",
            "Preparing to unpack .../5-libgnat-util10_10.5.0-1ubuntu1~22.04_amd64.deb ...\n",
            "Unpacking libgnat-util10:amd64 (10.5.0-1ubuntu1~22.04) ...\n",
            "Selecting previously unselected package gnat-10.\n",
            "Preparing to unpack .../6-gnat-10_10.5.0-1ubuntu1~22.04_amd64.deb ...\n",
            "Unpacking gnat-10 (10.5.0-1ubuntu1~22.04) ...\n",
            "Selecting previously unselected package gnat.\n",
            "Preparing to unpack .../7-gnat_10.1ubuntu1_amd64.deb ...\n",
            "Unpacking gnat (10.1ubuntu1) ...\n",
            "Setting up gcc-10-base:amd64 (10.5.0-1ubuntu1~22.04) ...\n",
            "Setting up libgnat-10:amd64 (10.5.0-1ubuntu1~22.04) ...\n",
            "Setting up libgnat-util10:amd64 (10.5.0-1ubuntu1~22.04) ...\n",
            "Setting up cpp-10 (10.5.0-1ubuntu1~22.04) ...\n",
            "Setting up libgcc-10-dev:amd64 (10.5.0-1ubuntu1~22.04) ...\n",
            "Setting up gcc-10 (10.5.0-1ubuntu1~22.04) ...\n",
            "Setting up gnat-10 (10.5.0-1ubuntu1~22.04) ...\n",
            "Setting up gnat (10.1ubuntu1) ...\n",
            "Processing triggers for man-db (2.10.2-1) ...\n",
            "Processing triggers for libc-bin (2.35-0ubuntu3.1) ...\n",
            "/sbin/ldconfig.real: /usr/local/lib/libtbb.so.12 is not a symbolic link\n",
            "\n",
            "/sbin/ldconfig.real: /usr/local/lib/libtbbmalloc_proxy.so.2 is not a symbolic link\n",
            "\n",
            "/sbin/ldconfig.real: /usr/local/lib/libtbbmalloc.so.2 is not a symbolic link\n",
            "\n",
            "/sbin/ldconfig.real: /usr/local/lib/libtbbbind_2_0.so.3 is not a symbolic link\n",
            "\n",
            "/sbin/ldconfig.real: /usr/local/lib/libtbbbind.so.3 is not a symbolic link\n",
            "\n",
            "/sbin/ldconfig.real: /usr/local/lib/libtbbbind_2_5.so.3 is not a symbolic link\n",
            "\n"
          ]
        }
      ],
      "source": [
        "!apt-get install -y gnat"
      ]
    },
    {
      "cell_type": "code",
      "source": [
        "!apt-cache policy gnat"
      ],
      "metadata": {
        "colab": {
          "base_uri": "https://localhost:8080/"
        },
        "id": "4q0SoRGkoiMp",
        "outputId": "3141d7bc-eaf0-4409-a8d3-4af6e4d410c0"
      },
      "execution_count": 29,
      "outputs": [
        {
          "output_type": "stream",
          "name": "stdout",
          "text": [
            "gnat:\n",
            "  Installed: 10.1ubuntu1\n",
            "  Candidate: 10.1ubuntu1\n",
            "  Version table:\n",
            " *** 10.1ubuntu1 500\n",
            "        500 http://archive.ubuntu.com/ubuntu jammy/universe amd64 Packages\n",
            "        100 /var/lib/dpkg/status\n"
          ]
        }
      ]
    },
    {
      "cell_type": "code",
      "source": [
        "!sudo apt-get install -y libgnat-10"
      ],
      "metadata": {
        "colab": {
          "base_uri": "https://localhost:8080/"
        },
        "id": "xujvaoR3syWL",
        "outputId": "225df890-4619-4986-9844-63fec84f3352"
      },
      "execution_count": 30,
      "outputs": [
        {
          "output_type": "stream",
          "name": "stdout",
          "text": [
            "Reading package lists... Done\n",
            "Building dependency tree... Done\n",
            "Reading state information... Done\n",
            "libgnat-10 is already the newest version (10.5.0-1ubuntu1~22.04).\n",
            "libgnat-10 set to manually installed.\n",
            "0 upgraded, 0 newly installed, 0 to remove and 17 not upgraded.\n"
          ]
        }
      ]
    },
    {
      "cell_type": "code",
      "source": [
        "%%writefile missing_positive.adb\n",
        "with Ada.Text_IO; use Ada.Text_IO;\n",
        "with Ada.Integer_Text_IO;\n",
        "\n",
        "procedure Missing_Positive is\n",
        "   type Int_Array is array (Natural range <>) of Integer;\n",
        "\n",
        "function First_Missing_Positive (Arr : Int_Array; Consider_Zero : Boolean) return Integer is\n",
        "   Max_Size : constant Integer := 100; -- Assuming a maximum size for simplicity\n",
        "   Check_Array : array (1 .. Max_Size) of Boolean := (others => False);\n",
        "   Found_Positive : Boolean := False;\n",
        "begin\n",
        "   -- Marking the present numbers in Check_Array\n",
        "   for Num of Arr loop\n",
        "      if Num > 0 and Num <= Max_Size then\n",
        "         Check_Array(Num) := True;\n",
        "         Found_Positive := True;\n",
        "      elsif Consider_Zero and Num = 0 then\n",
        "         Check_Array(1) := True;\n",
        "         Found_Positive := True;\n",
        "      end if;\n",
        "   end loop;\n",
        "\n",
        "   -- If no positive number or zero (when considered positive) is found, return 1\n",
        "   if not Found_Positive then\n",
        "      return 1;\n",
        "   end if;\n",
        "\n",
        "   -- Finding the first missing positive number\n",
        "   for I in Check_Array'Range loop\n",
        "      if not Check_Array(I) then\n",
        "         if I = 1 and Consider_Zero then\n",
        "            return 0;\n",
        "         else\n",
        "            return I;\n",
        "         end if;\n",
        "      end if;\n",
        "   end loop;\n",
        "\n",
        "   return Max_Size + 1; -- If all numbers from 1 to Max_Size are present\n",
        "end First_Missing_Positive;\n",
        "\n",
        "   -- Explicitly defining the size of the inner array\n",
        "   Test_Arrays : array (1 .. 10) of Int_Array(1 .. 10) :=\n",
        "     ((3, 4, -1, 1, 0, 0, 0, 0, 0, 0),\n",
        "      (1, 2, 0, 0, 0, 0, 0, 0, 0, 0),\n",
        "      (-8, -7, -6, 0, 0, 0, 0, 0, 0, 0),\n",
        "      (1, 2, 3, 4, 0, 0, 0, 0, 0, 0),\n",
        "      (0, 1, 2, 3, 0, 0, 0, 0, 0, 0),\n",
        "      (3, 4, -1, 1, 2, 0, 0, 0, 0, 0),\n",
        "      (-1, -2, -3, 0, 0, 0, 0, 0, 0, 0),\n",
        "      (2, 3, 7, 6, 8, -1, -10, 15, 0, 0),\n",
        "      (-3, 10, -4, 7, 0, 1, 2, 3, 4, 0),\n",
        "      (1, 1, 1, 1, 0, 0, 0, 0, 0, 0));\n",
        "\n",
        "begin\n",
        "   -- Test Harness\n",
        "   for Test in Test_Arrays'Range loop\n",
        "      Put_Line(\"Considering 0 as positive: \" & Integer'Image(First_Missing_Positive(Test_Arrays(Test), True)));\n",
        "      Put_Line(\"Not considering 0 as positive: \" & Integer'Image(First_Missing_Positive(Test_Arrays(Test), False)));\n",
        "   end loop;\n",
        "end Missing_Positive;\n"
      ],
      "metadata": {
        "colab": {
          "base_uri": "https://localhost:8080/"
        },
        "id": "iMSVQYrKn5by",
        "outputId": "06953af6-9e3d-4586-f31f-9528532e4aa3"
      },
      "execution_count": 40,
      "outputs": [
        {
          "output_type": "stream",
          "name": "stdout",
          "text": [
            "Overwriting missing_positive.adb\n"
          ]
        }
      ]
    },
    {
      "cell_type": "code",
      "source": [
        "!gnatmake missing_positive.adb"
      ],
      "metadata": {
        "colab": {
          "base_uri": "https://localhost:8080/"
        },
        "id": "vrFlip1ioJeR",
        "outputId": "c42c8aba-633e-498a-d0bf-a4e7ce001adb"
      },
      "execution_count": 42,
      "outputs": [
        {
          "output_type": "stream",
          "name": "stdout",
          "text": [
            "gnatmake: \"missing_positive\" up to date.\n"
          ]
        }
      ]
    },
    {
      "cell_type": "markdown",
      "source": [
        "Note: Had to run the gnatmake TWICE to get it to create executable!\n",
        "lost some vibes finding this out ..."
      ],
      "metadata": {
        "id": "9d6HlwK0wnVF"
      }
    },
    {
      "cell_type": "code",
      "source": [
        "!./missing_positive"
      ],
      "metadata": {
        "colab": {
          "base_uri": "https://localhost:8080/"
        },
        "id": "gjOYaqv-tJkN",
        "outputId": "8e874d61-06a4-4d85-d4c9-b04c096b3491"
      },
      "execution_count": 43,
      "outputs": [
        {
          "output_type": "stream",
          "name": "stdout",
          "text": [
            "Considering 0 as positive:  2\n",
            "Not considering 0 as positive:  2\n",
            "Considering 0 as positive:  3\n",
            "Not considering 0 as positive:  3\n",
            "Considering 0 as positive:  2\n",
            "Not considering 0 as positive:  1\n",
            "Considering 0 as positive:  5\n",
            "Not considering 0 as positive:  5\n",
            "Considering 0 as positive:  4\n",
            "Not considering 0 as positive:  4\n",
            "Considering 0 as positive:  5\n",
            "Not considering 0 as positive:  5\n",
            "Considering 0 as positive:  2\n",
            "Not considering 0 as positive:  1\n",
            "Considering 0 as positive:  4\n",
            "Not considering 0 as positive:  1\n",
            "Considering 0 as positive:  5\n",
            "Not considering 0 as positive:  5\n",
            "Considering 0 as positive:  2\n",
            "Not considering 0 as positive:  2\n"
          ]
        }
      ]
    }
  ]
}