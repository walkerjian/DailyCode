{
  "nbformat": 4,
  "nbformat_minor": 0,
  "metadata": {
    "colab": {
      "provenance": [],
      "authorship_tag": "ABX9TyM2Za/WxbUYpUIjkcKFkojN",
      "include_colab_link": true
    },
    "kernelspec": {
      "name": "python3",
      "display_name": "Python 3"
    },
    "language_info": {
      "name": "python"
    }
  },
  "cells": [
    {
      "cell_type": "markdown",
      "metadata": {
        "id": "view-in-github",
        "colab_type": "text"
      },
      "source": [
        "<a href=\"https://colab.research.google.com/github/walkerjian/DailyCode/blob/main/Code_Craft_find_pattern_indices.ipynb\" target=\"_parent\"><img src=\"https://colab.research.google.com/assets/colab-badge.svg\" alt=\"Open In Colab\"/></a>"
      ]
    },
    {
      "cell_type": "markdown",
      "source": [
        "#Problem:\n",
        "Given a string and a pattern, find the starting indices of all occurrences of the pattern in the string. For example, given the string \"abracadabra\" and the pattern \"abr\", you should return [0, 7]"
      ],
      "metadata": {
        "id": "tH7CkhIN6Ovd"
      }
    },
    {
      "cell_type": "markdown",
      "source": [
        "##Solution:\n",
        "To solve this problem of finding all occurrences of a pattern in a string, we can use a straightforward approach where we check each substring of the main string that matches the length of the pattern to see if it matches the pattern. This method is generally feasible for relatively small strings and patterns, as it is simple to implement and understand."
      ],
      "metadata": {
        "id": "itQ9Rbxe6Twn"
      }
    },
    {
      "cell_type": "markdown",
      "source": [
        "##Implementation:\n",
        "Here's a Python function to find the starting indices of all occurrences of a pattern in a given string:\n",
        "This function\n",
        "1. Calculates the length of the pattern and the text.\n",
        "2. Initializes an empty list to store the starting indices of matches.\n",
        "3. Iterates through the string, checking each substring of length equal to the pattern length.\n",
        "4. If the substring matches the pattern, its starting index is added to the result list.\n",
        "\n",
        "This method is very direct and has a time complexity of $O(n \\times m)$, where $n$ is the length of the text and $m$ is the length of the pattern. This is because for each of the $n - m + 1$ possible starting points, we do a comparison that takes $m$ steps in the worst case. This approach works well for smaller texts or patterns but can be inefficient for very large strings or complex patterns."
      ],
      "metadata": {
        "id": "Cb3P4iVt6W-J"
      }
    },
    {
      "cell_type": "code",
      "source": [
        "def find_pattern_indices(text, pattern):\n",
        "    pattern_length = len(pattern)\n",
        "    text_length = len(text)\n",
        "    indices = []\n",
        "\n",
        "    # Loop through the string, stopping where the pattern could still fit\n",
        "    for i in range(text_length - pattern_length + 1):\n",
        "        # Extract the substring from the text\n",
        "        substring = text[i:i + pattern_length]\n",
        "        # Check if the substring matches the pattern\n",
        "        if substring == pattern:\n",
        "            indices.append(i)\n",
        "\n",
        "    return indices\n"
      ],
      "metadata": {
        "id": "lve1Yewi6N4N"
      },
      "execution_count": 1,
      "outputs": []
    },
    {
      "cell_type": "markdown",
      "source": [
        "##Testing:"
      ],
      "metadata": {
        "id": "rmascGp76a_Q"
      }
    },
    {
      "cell_type": "code",
      "execution_count": 3,
      "metadata": {
        "id": "kVX9PbNY6M7_",
        "colab": {
          "base_uri": "https://localhost:8080/"
        },
        "outputId": "99628614-289d-4715-bd89-301b982ed4d0"
      },
      "outputs": [
        {
          "output_type": "stream",
          "name": "stdout",
          "text": [
            "[0, 7]\n"
          ]
        }
      ],
      "source": [
        "text = \"abracadabra\"\n",
        "pattern = \"abr\"\n",
        "result = find_pattern_indices(text, pattern)\n",
        "print(result)  # Output: [0, 7]\n"
      ]
    }
  ]
}