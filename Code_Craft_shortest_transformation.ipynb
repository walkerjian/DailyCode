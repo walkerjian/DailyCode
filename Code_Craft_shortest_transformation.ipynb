{
  "nbformat": 4,
  "nbformat_minor": 0,
  "metadata": {
    "colab": {
      "provenance": [],
      "authorship_tag": "ABX9TyPjz4sxvAquTJm+vY94BC1V",
      "include_colab_link": true
    },
    "kernelspec": {
      "name": "python3",
      "display_name": "Python 3"
    },
    "language_info": {
      "name": "python"
    }
  },
  "cells": [
    {
      "cell_type": "markdown",
      "metadata": {
        "id": "view-in-github",
        "colab_type": "text"
      },
      "source": [
        "<a href=\"https://colab.research.google.com/github/walkerjian/DailyCode/blob/main/Code_Craft_shortest_transformation.ipynb\" target=\"_parent\"><img src=\"https://colab.research.google.com/assets/colab-badge.svg\" alt=\"Open In Colab\"/></a>"
      ]
    },
    {
      "cell_type": "markdown",
      "source": [
        "##Problem:\n",
        "Given a start word, an end word, and a dictionary of valid words, find the shortest transformation sequence from start to end such that only one letter is changed at each step of the sequence, and each transformed word exists in the dictionary. If there is no possible transformation, return null. Each word in the dictionary have the same length as start and end and is lowercase.\n",
        "\n",
        "For example, given start = \"dog\", end = \"cat\", and dictionary = {\"dot\", \"dop\", \"dat\", \"cat\"}, return [\"dog\", \"dot\", \"dat\", \"cat\"].\n",
        "\n",
        "Given start = \"dog\", end = \"cat\", and dictionary = {\"dot\", \"tod\", \"dat\", \"dar\"}, return null as there is no possible transformation from dog to cat."
      ],
      "metadata": {
        "id": "4z5NRPwdGjdR"
      }
    },
    {
      "cell_type": "markdown",
      "source": [
        "##Solution:\n",
        "To solve this problem, we can use a breadth-first search (BFS) algorithm. This approach will help us find the shortest transformation sequence from the start word to the end word. Here's the plan:\n",
        "\n",
        "1. Create a queue to hold the paths.\n",
        "2. Initialize the queue with a path containing just the start word.\n",
        "3. While the queue is not empty, do the following:\n",
        "   - Dequeue the current path from the queue.\n",
        "   - Get the last word from the current path.\n",
        "   - If this word is the end word, return the current path as the solution.\n",
        "   - Otherwise, iterate over each word in the dictionary:\n",
        "     - If the word can be transformed from the last word by changing exactly one letter and it is not already in the current path, create a new path by adding this word to the current path and enqueue this new path.\n",
        "4. If the queue becomes empty and no solution is found, return null.\n"
      ],
      "metadata": {
        "id": "YaPlAe3kGqfx"
      }
    },
    {
      "cell_type": "markdown",
      "source": [
        "##Implementation:\n",
        "\n",
        "Let's implement this algorithm in Python.\n"
      ],
      "metadata": {
        "id": "-3bk3CERGnfE"
      }
    },
    {
      "cell_type": "code",
      "execution_count": 1,
      "metadata": {
        "colab": {
          "base_uri": "https://localhost:8080/"
        },
        "id": "s75mEgKDGd7y",
        "outputId": "9dc5ae3e-5e04-479e-f86b-8945d5e9350a"
      },
      "outputs": [
        {
          "output_type": "execute_result",
          "data": {
            "text/plain": [
              "(['dog', 'dot', 'dat', 'cat'], None)"
            ]
          },
          "metadata": {},
          "execution_count": 1
        }
      ],
      "source": [
        "from collections import deque\n",
        "\n",
        "def can_transform(word1, word2):\n",
        "    \"\"\"Check if word1 can be transformed into word2 by changing exactly one letter.\"\"\"\n",
        "    diff_count = 0\n",
        "    for c1, c2 in zip(word1, word2):\n",
        "        if c1 != c2:\n",
        "            diff_count += 1\n",
        "            if diff_count > 1:\n",
        "                return False\n",
        "    return diff_count == 1\n",
        "\n",
        "def shortest_transformation(start, end, dictionary):\n",
        "    \"\"\"Find the shortest transformation sequence from start to end.\"\"\"\n",
        "    if start == end:\n",
        "        return [start]\n",
        "\n",
        "    # Initialize the queue with the start word\n",
        "    queue = deque([[start]])\n",
        "    visited = set([start])\n",
        "\n",
        "    while queue:\n",
        "        current_path = queue.popleft()\n",
        "        last_word = current_path[-1]\n",
        "\n",
        "        # Check each word in the dictionary\n",
        "        for word in dictionary:\n",
        "            if word not in visited and can_transform(last_word, word):\n",
        "                # Found the next word in the path\n",
        "                new_path = current_path + [word]\n",
        "                if word == end:\n",
        "                    return new_path\n",
        "                queue.append(new_path)\n",
        "                visited.add(word)\n",
        "\n",
        "    # No transformation found\n",
        "    return None\n",
        "\n",
        "# Test the function with the provided examples\n",
        "example1 = shortest_transformation(\"dog\", \"cat\", {\"dot\", \"dop\", \"dat\", \"cat\"})\n",
        "example2 = shortest_transformation(\"dog\", \"cat\", {\"dot\", \"tod\", \"dat\", \"dar\"})\n",
        "\n",
        "example1, example2\n",
        "\n"
      ]
    },
    {
      "cell_type": "markdown",
      "source": [
        "\n",
        "The algorithm correctly finds the shortest transformation sequence for the given examples:\n",
        "\n",
        "1. For start = \"dog\", end = \"cat\", and dictionary = {\"dot\", \"dop\", \"dat\", \"cat\"}, it returns the sequence [\"dog\", \"dot\", \"dat\", \"cat\"].\n",
        "2. For start = \"dog\", end = \"cat\", and dictionary = {\"dot\", \"tod\", \"dat\", \"dar\"}, it returns `None`, indicating that there is no possible transformation from \"dog\" to \"cat\" with the given dictionary.\n",
        "\n",
        "This demonstrates that the algorithm effectively finds the shortest transformation path when one exists and correctly identifies when no such path is possible."
      ],
      "metadata": {
        "id": "hQbQhBDgGyni"
      }
    }
  ]
}