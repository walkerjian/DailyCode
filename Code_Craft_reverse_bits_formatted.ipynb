{
  "nbformat": 4,
  "nbformat_minor": 0,
  "metadata": {
    "colab": {
      "provenance": [],
      "authorship_tag": "ABX9TyNE9e0x7+mvnRe0M6RD38sn",
      "include_colab_link": true
    },
    "kernelspec": {
      "name": "python3",
      "display_name": "Python 3"
    },
    "language_info": {
      "name": "python"
    }
  },
  "cells": [
    {
      "cell_type": "markdown",
      "metadata": {
        "id": "view-in-github",
        "colab_type": "text"
      },
      "source": [
        "<a href=\"https://colab.research.google.com/github/walkerjian/DailyCode/blob/main/Code_Craft_reverse_bits_formatted.ipynb\" target=\"_parent\"><img src=\"https://colab.research.google.com/assets/colab-badge.svg\" alt=\"Open In Colab\"/></a>"
      ]
    },
    {
      "cell_type": "markdown",
      "source": [
        "##Problem:\n",
        "Given a 32-bit integer, return the number with its bits reversed.\n",
        "\n",
        "For example, given the binary number 1111 0000 1111 0000 1111 0000 1111 0000, return 0000 1111 0000 1111 0000 1111 0000 1111."
      ],
      "metadata": {
        "id": "PAyCJUncQ5rC"
      }
    },
    {
      "cell_type": "markdown",
      "source": [
        "##Solution:\n",
        "To reverse the bits of a 32-bit integer, we can use bit manipulation techniques. The idea is to iterate over each bit of the integer, extract the bit at each position, and then set it in the reversed position of the result.\n"
      ],
      "metadata": {
        "id": "leiqrfVbQ9GR"
      }
    },
    {
      "cell_type": "markdown",
      "source": [
        "##Implementation:\n",
        "This function works as follows.\n",
        "- Initializes `result` to 0, which will hold the reversed bits.\n",
        "- Loops over each of the 32 bits of the input number.\n",
        "- Extracts the bit at the current position `i` by right-shifting `n` by `i` positions and then applying a bitwise AND with 1. This operation isolates the bit at position `i`.\n",
        "- Sets this bit in the reversed position in the `result`. This is done by left-shifting the extracted bit by `(31 - i)` positions (since we're reversing, the bit at position `i` should go to position `31 - i`) and then applying a bitwise OR to include it in the `result`.\n",
        "- Returns the `result` after all bits have been processed.\n",
        "\n",
        "This function will reverse the bits of the provided 32-bit integer and return the result."
      ],
      "metadata": {
        "id": "OSvnk0JSRFEI"
      }
    },
    {
      "cell_type": "code",
      "source": [
        "def reverse_bits_formatted(n: int) -> str:\n",
        "    result = 0\n",
        "    for i in range(32):\n",
        "        result = (result << 1) | (n & 1)\n",
        "        n >>= 1\n",
        "    # Format the result to a 32-bit binary string\n",
        "    return format(result, '032b')\n",
        "\n",
        "# test the original test case to verify the output format\n",
        "test_case = 0b11110000111100001111000011110000\n",
        "original_binary_str = format(test_case, '032b')\n",
        "reversed_binary_str = reverse_bits_formatted(test_case)\n",
        "\n",
        "(original_binary_str, reversed_binary_str)\n"
      ],
      "metadata": {
        "colab": {
          "base_uri": "https://localhost:8080/"
        },
        "id": "ODcyojqjR9nE",
        "outputId": "3bcc5e34-d2c2-4ee8-891d-ad12a131d0cb"
      },
      "execution_count": 8,
      "outputs": [
        {
          "output_type": "execute_result",
          "data": {
            "text/plain": [
              "('11110000111100001111000011110000', '00001111000011110000111100001111')"
            ]
          },
          "metadata": {},
          "execution_count": 8
        }
      ]
    },
    {
      "cell_type": "markdown",
      "source": [
        "##Testing:\n",
        "Here are the before and after binary strings for each test case, demonstrating the reversal of bits:\n",
        "\n",
        "1. **Given Example**\n",
        "```\n",
        "   - Original: `11110000111100001111000011110000`\n",
        "   - Reversed: `00001111000011110000111100001111`\n",
        "```\n",
        "2. **All Zeros**\n",
        "```\n",
        "   - Original: `00000000000000000000000000000000`\n",
        "   - Reversed: `00000000000000000000000000000000`\n",
        "```\n",
        "3. **All Ones**\n",
        "```\n",
        "   - Original: `11111111111111111111111111111111`\n",
        "   - Reversed: `11111111111111111111111111111111`\n",
        "```\n",
        "4. **Highest Bit Set Only**\n",
        "```\n",
        "   - Original: `10000000000000000000000000000000`\n",
        "   - Reversed: `00000000000000000000000000000001`\n",
        "```\n",
        "5. **Lowest Bit Set Only**\n",
        "```\n",
        "   - Original: `00000000000000000000000000000001`\n",
        "   - Reversed: `10000000000000000000000000000000`\n",
        "```\n",
        "These results accurately represent the reversal of bits for a variety of input cases, including edge conditions."
      ],
      "metadata": {
        "id": "e9vK2Wc6TCz8"
      }
    },
    {
      "cell_type": "code",
      "source": [
        "# Adjusting the test harness for compatibility without specific type hint syntax\n",
        "\n",
        "def test_reverse_bits_with_output(test_cases):\n",
        "    results = []\n",
        "    for tc in test_cases:\n",
        "        original_str = format(tc, '032b')\n",
        "        reversed_str = reverse_bits_formatted(tc)\n",
        "        results.append((original_str, reversed_str))\n",
        "    return results\n",
        "\n",
        "# Redefining test cases to include more variety\n",
        "test_cases = [\n",
        "    0b11110000111100001111000011110000, # Given example\n",
        "    0,                                # Edge case: all zeros\n",
        "    0xFFFFFFFF,                       # Edge case: all ones\n",
        "    0x80000000,                       # Edge case: highest bit set only\n",
        "    0x00000001,                       # Edge case: lowest bit set only\n",
        "]\n",
        "\n",
        "# Execute test cases with before and after output\n",
        "test_results = test_reverse_bits_with_output(test_cases)\n",
        "test_results\n"
      ],
      "metadata": {
        "colab": {
          "base_uri": "https://localhost:8080/"
        },
        "id": "K0ODSY-YSu1C",
        "outputId": "674854c9-2e20-4d77-aeaa-077411921c52"
      },
      "execution_count": 9,
      "outputs": [
        {
          "output_type": "execute_result",
          "data": {
            "text/plain": [
              "[('11110000111100001111000011110000', '00001111000011110000111100001111'),\n",
              " ('00000000000000000000000000000000', '00000000000000000000000000000000'),\n",
              " ('11111111111111111111111111111111', '11111111111111111111111111111111'),\n",
              " ('10000000000000000000000000000000', '00000000000000000000000000000001'),\n",
              " ('00000000000000000000000000000001', '10000000000000000000000000000000')]"
            ]
          },
          "metadata": {},
          "execution_count": 9
        }
      ]
    }
  ]
}