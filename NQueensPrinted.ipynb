{
  "nbformat": 4,
  "nbformat_minor": 0,
  "metadata": {
    "colab": {
      "provenance": [],
      "authorship_tag": "ABX9TyPcMbXk9GAHbWqYBvhpg2KK",
      "include_colab_link": true
    },
    "kernelspec": {
      "name": "python3",
      "display_name": "Python 3"
    },
    "language_info": {
      "name": "python"
    }
  },
  "cells": [
    {
      "cell_type": "markdown",
      "metadata": {
        "id": "view-in-github",
        "colab_type": "text"
      },
      "source": [
        "<a href=\"https://colab.research.google.com/github/walkerjian/DailyCode/blob/main/NQueensPrinted.ipynb\" target=\"_parent\"><img src=\"https://colab.research.google.com/assets/colab-badge.svg\" alt=\"Open In Colab\"/></a>"
      ]
    },
    {
      "cell_type": "markdown",
      "source": [
        "You have an N by N board. Write a function that, given N, returns the number of possible arrangements of the board where N queens can be placed on the board without threatening each other, i.e. no two queens share the same row, column, or diagonal."
      ],
      "metadata": {
        "id": "YYloXgCLW276"
      }
    },
    {
      "cell_type": "markdown",
      "source": [
        "The N-Queens problem.\n",
        "\n",
        "The most common solution is a recursive backtracking algorithm. In this algorithm:\n",
        "\n",
        "1. You start with the first row and try to place a queen in each column of that row until you find a valid position.\n",
        "2. Move on to the next row and try to place a queen in a valid position in that row.\n",
        "3. If you reach a row where you cannot place a queen in any column without it being threatened by another queen, you backtrack to the previous row and move that queen to the next valid position.\n",
        "4. Repeat until all queens are placed or all possibilities have been exhausted.\n",
        "\n",
        "I'll provide a Python function for this problem:\n",
        "\n",
        "For a $8 \\times 8$ board (the classic 8-Queens problem), there are 92 possible arrangements where 8 queens can be placed on the board without threatening each other."
      ],
      "metadata": {
        "id": "yl5go6AkW5hA"
      }
    },
    {
      "cell_type": "code",
      "execution_count": 6,
      "metadata": {
        "colab": {
          "base_uri": "https://localhost:8080/"
        },
        "id": "2NJXlI4xRW6-",
        "outputId": "354b55fc-7c0d-4b96-badf-ab076b27bf41"
      },
      "outputs": [
        {
          "output_type": "execute_result",
          "data": {
            "text/plain": [
              "92"
            ]
          },
          "metadata": {},
          "execution_count": 6
        }
      ],
      "source": [
        "def n_queens(N):\n",
        "    def is_safe(board, row, col):\n",
        "        # Check this row on left side\n",
        "        for i in range(col):\n",
        "            if board[row][i] == 1:\n",
        "                return False\n",
        "\n",
        "        # Check upper diagonal on left side\n",
        "        for i, j in zip(range(row, -1, -1), range(col, -1, -1)):\n",
        "            if board[i][j] == 1:\n",
        "                return False\n",
        "\n",
        "        # Check lower diagonal on left side\n",
        "        for i, j in zip(range(row, N, 1), range(col, -1, -1)):\n",
        "            if board[i][j] == 1:\n",
        "                return False\n",
        "\n",
        "        return True\n",
        "\n",
        "    def solve_nqueens_util(board, col):\n",
        "        # base case: If all queens are placed\n",
        "        if col >= N:\n",
        "            return True\n",
        "\n",
        "        # Consider this column and try placing\n",
        "        # this queen in all rows one by one\n",
        "        for i in range(N):\n",
        "            if is_safe(board, i, col):\n",
        "                # Place this queen in board[i][col]\n",
        "                board[i][col] = 1\n",
        "\n",
        "                # recur to place rest of the queens\n",
        "                if solve_nqueens_util(board, col + 1):\n",
        "                    return True\n",
        "\n",
        "                # If placing queen in board[i][col\n",
        "                # doesn't lead to a solution then\n",
        "                # remove queen from board[i][col]\n",
        "                board[i][col] = 0\n",
        "\n",
        "        # if the queen can not be placed in any row in\n",
        "        # this column col then return false\n",
        "        return False\n",
        "\n",
        "    def print_board(board):\n",
        "        for i in range(N):\n",
        "            for j in range(N):\n",
        "                print(board[i][j], end=\" \")\n",
        "            print()\n",
        "\n",
        "    # initialize board with zeros\n",
        "    board = [[0 for _ in range(N)] for _ in range(N)]\n",
        "\n",
        "    # Count solutions\n",
        "    solutions = 0\n",
        "\n",
        "    def count_solutions(board, col):\n",
        "        nonlocal solutions\n",
        "        if col >= N:\n",
        "            solutions += 1\n",
        "            return\n",
        "\n",
        "        for i in range(N):\n",
        "            if is_safe(board, i, col):\n",
        "                board[i][col] = 1\n",
        "                count_solutions(board, col + 1)\n",
        "                board[i][col] = 0\n",
        "\n",
        "    count_solutions(board, 0)\n",
        "    return solutions\n",
        "\n",
        "# Test for N = 8 (8-Queens Problem)\n",
        "n_queens(8)\n"
      ]
    },
    {
      "cell_type": "code",
      "source": [
        "def n_queens_solutions(N):\n",
        "    def is_safe(board, row, col):\n",
        "        for i in range(col):\n",
        "            if board[row][i] == 1:\n",
        "                return False\n",
        "        for i, j in zip(range(row, -1, -1), range(col, -1, -1)):\n",
        "            if board[i][j] == 1:\n",
        "                return False\n",
        "        for i, j in zip(range(row, N, 1), range(col, -1, -1)):\n",
        "            if board[i][j] == 1:\n",
        "                return False\n",
        "        return True\n",
        "\n",
        "    def solve_nqueens_util(board, col):\n",
        "        if col >= N:\n",
        "            solutions.append([row.copy() for row in board])\n",
        "            return\n",
        "\n",
        "        for i in range(N):\n",
        "            if is_safe(board, i, col):\n",
        "                board[i][col] = 1\n",
        "                solve_nqueens_util(board, col + 1)\n",
        "                board[i][col] = 0\n",
        "\n",
        "    board = [[0 for _ in range(N)] for _ in range(N)]\n",
        "    solutions = []\n",
        "    solve_nqueens_util(board, 0)\n",
        "    return solutions\n",
        "\n",
        "def print_solutions_in_grid(solutions, boards_per_row=10):\n",
        "    num_solutions = len(solutions)\n",
        "    for board_start in range(0, num_solutions, boards_per_row):\n",
        "        for row in range(8):\n",
        "            for board_num in range(board_start, min(board_start + boards_per_row, num_solutions)):\n",
        "                print(\"\".join('Q' if cell == 1 else '.' for cell in solutions[board_num][row]), end=\"  \")\n",
        "            print()\n",
        "        print(\"\\n\" + \"-\" * (8 * boards_per_row + 2 * (boards_per_row - 1)) + \"\\n\")\n",
        "\n",
        "all_solutions = n_queens_solutions(8)\n",
        "print_solutions_in_grid(all_solutions)\n"
      ],
      "metadata": {
        "colab": {
          "base_uri": "https://localhost:8080/"
        },
        "id": "vhrjzoZcV10b",
        "outputId": "2ae014ed-1e90-4753-f60e-24dcd7f2363c"
      },
      "execution_count": 4,
      "outputs": [
        {
          "output_type": "stream",
          "name": "stdout",
          "text": [
            "Q.......  Q.......  Q.......  Q.......  .....Q..  ...Q....  ....Q...  ..Q.....  ....Q...  ......Q.  \n",
            "......Q.  ......Q.  .....Q..  ....Q...  Q.......  Q.......  Q.......  Q.......  Q.......  Q.......  \n",
            "....Q...  ...Q....  .......Q  .......Q  ....Q...  ....Q...  .......Q  ......Q.  ...Q....  ..Q.....  \n",
            ".......Q  .....Q..  ..Q.....  .....Q..  .Q......  .......Q  ...Q....  ....Q...  .....Q..  .......Q  \n",
            ".Q......  .......Q  ......Q.  ..Q.....  .......Q  .Q......  .Q......  .......Q  .......Q  .....Q..  \n",
            "...Q....  .Q......  ...Q....  ......Q.  ..Q.....  ......Q.  ......Q.  .Q......  .Q......  ...Q....  \n",
            ".....Q..  ....Q...  .Q......  .Q......  ......Q.  ..Q.....  ..Q.....  ...Q....  ......Q.  .Q......  \n",
            "..Q.....  ..Q.....  ....Q...  ...Q....  ...Q....  .....Q..  .....Q..  .....Q..  ..Q.....  ....Q...  \n",
            "\n",
            "--------------------------------------------------------------------------------------------------\n",
            "\n",
            "....Q...  ...Q....  .Q......  ....Q...  .......Q  ...Q....  ....Q...  .....Q..  ....Q...  .....Q..  \n",
            "Q.......  Q.......  .....Q..  ..Q.....  ..Q.....  .....Q..  ......Q.  ..Q.....  ..Q.....  ..Q.....  \n",
            ".......Q  ....Q...  Q.......  Q.......  Q.......  Q.......  Q.......  Q.......  Q.......  Q.......  \n",
            ".....Q..  .......Q  ......Q.  ......Q.  .....Q..  ....Q...  ...Q....  .......Q  .....Q..  .......Q  \n",
            "..Q.....  .....Q..  ...Q....  .Q......  .Q......  .Q......  .Q......  ...Q....  .......Q  ....Q...  \n",
            "......Q.  ..Q.....  .......Q  .......Q  ....Q...  .......Q  .......Q  .Q......  .Q......  .Q......  \n",
            ".Q......  ......Q.  ..Q.....  .....Q..  ......Q.  ..Q.....  .....Q..  ......Q.  ...Q....  ...Q....  \n",
            "...Q....  .Q......  ....Q...  ...Q....  ...Q....  ......Q.  ..Q.....  ....Q...  ......Q.  ......Q.  \n",
            "\n",
            "--------------------------------------------------------------------------------------------------\n",
            "\n",
            "...Q....  .......Q  ...Q....  ...Q....  .....Q..  .....Q..  ......Q.  ....Q...  .Q......  .Q......  \n",
            ".......Q  ...Q....  .......Q  ......Q.  ...Q....  ..Q.....  ..Q.....  ......Q.  ....Q...  .......Q  \n",
            "Q.......  Q.......  Q.......  Q.......  Q.......  Q.......  Q.......  Q.......  ......Q.  .....Q..  \n",
            "..Q.....  ..Q.....  ....Q...  .......Q  ....Q...  ......Q.  .....Q..  ..Q.....  Q.......  Q.......  \n",
            ".....Q..  .....Q..  ......Q.  ....Q...  .......Q  ....Q...  .......Q  .......Q  ..Q.....  ..Q.....  \n",
            ".Q......  .Q......  .Q......  .Q......  .Q......  .......Q  ....Q...  .....Q..  .......Q  ....Q...  \n",
            "......Q.  ......Q.  .....Q..  .....Q..  ......Q.  .Q......  .Q......  ...Q....  .....Q..  ......Q.  \n",
            "....Q...  ....Q...  ..Q.....  ..Q.....  ..Q.....  ...Q....  ...Q....  .Q......  ...Q....  ...Q....  \n",
            "\n",
            "--------------------------------------------------------------------------------------------------\n",
            "\n",
            ".....Q..  ......Q.  .......Q  ....Q...  .....Q..  ....Q...  ..Q.....  .....Q..  ....Q...  ..Q.....  \n",
            ".Q......  .Q......  .Q......  .Q......  .Q......  .Q......  ....Q...  ...Q....  .......Q  .....Q..  \n",
            "......Q.  ...Q....  ...Q....  .......Q  ......Q.  .....Q..  ......Q.  ......Q.  ...Q....  .......Q  \n",
            "Q.......  Q.......  Q.......  Q.......  Q.......  Q.......  Q.......  Q.......  Q.......  Q.......  \n",
            "..Q.....  .......Q  ......Q.  ...Q....  ...Q....  ......Q.  ...Q....  .......Q  ......Q.  ....Q...  \n",
            "....Q...  ....Q...  ....Q...  ......Q.  .......Q  ...Q....  .Q......  .Q......  .Q......  ......Q.  \n",
            ".......Q  ..Q.....  ..Q.....  ..Q.....  ....Q...  .......Q  .......Q  ....Q...  .....Q..  .Q......  \n",
            "...Q....  .....Q..  .....Q..  .....Q..  ..Q.....  ..Q.....  .....Q..  ..Q.....  ..Q.....  ...Q....  \n",
            "\n",
            "--------------------------------------------------------------------------------------------------\n",
            "\n",
            "......Q.  .....Q..  ....Q...  ..Q.....  ..Q.....  ....Q...  .Q......  .Q......  .Q......  ......Q.  \n",
            "....Q...  ...Q....  .......Q  .....Q..  .....Q..  ......Q.  .....Q..  ....Q...  ......Q.  .Q......  \n",
            "..Q.....  ......Q.  ...Q....  ...Q....  .......Q  ...Q....  .......Q  ......Q.  ....Q...  .....Q..  \n",
            "Q.......  Q.......  Q.......  Q.......  Q.......  Q.......  ..Q.....  ...Q....  .......Q  ..Q.....  \n",
            ".....Q..  ..Q.....  ..Q.....  .......Q  ...Q....  ..Q.....  Q.......  Q.......  Q.......  Q.......  \n",
            ".......Q  ....Q...  .....Q..  ....Q...  ......Q.  .......Q  ...Q....  .......Q  ...Q....  ...Q....  \n",
            ".Q......  .Q......  .Q......  ......Q.  ....Q...  .....Q..  ......Q.  .....Q..  .....Q..  .......Q  \n",
            "...Q....  .......Q  ......Q.  .Q......  .Q......  .Q......  ....Q...  ..Q.....  ..Q.....  ....Q...  \n",
            "\n",
            "--------------------------------------------------------------------------------------------------\n",
            "\n",
            ".......Q  ...Q....  ...Q....  ..Q.....  ..Q.....  .....Q..  ..Q.....  ..Q.....  .....Q..  .....Q..  \n",
            ".Q......  .Q......  .Q......  .....Q..  ....Q...  .......Q  .......Q  ....Q...  ..Q.....  ..Q.....  \n",
            "....Q...  .......Q  ......Q.  .Q......  .Q......  .Q......  ...Q....  .......Q  ......Q.  ....Q...  \n",
            "..Q.....  .....Q..  ....Q...  ......Q.  .......Q  ...Q....  ......Q.  ...Q....  ...Q....  ......Q.  \n",
            "Q.......  Q.......  Q.......  Q.......  Q.......  Q.......  Q.......  Q.......  Q.......  Q.......  \n",
            "......Q.  ..Q.....  .......Q  ...Q....  ......Q.  ......Q.  .....Q..  ......Q.  .......Q  ...Q....  \n",
            "...Q....  ....Q...  .....Q..  .......Q  ...Q....  ....Q...  .Q......  .Q......  .Q......  .Q......  \n",
            ".....Q..  ......Q.  ..Q.....  ....Q...  .....Q..  ..Q.....  ....Q...  .....Q..  ....Q...  .......Q  \n",
            "\n",
            "--------------------------------------------------------------------------------------------------\n",
            "\n",
            ".....Q..  ...Q....  ...Q....  ...Q....  .Q......  ...Q....  ...Q....  ..Q.....  ..Q.....  ..Q.....  \n",
            "..Q.....  .......Q  ......Q.  .....Q..  ...Q....  .Q......  .Q......  ......Q.  .....Q..  .....Q..  \n",
            "....Q...  ....Q...  ....Q...  .......Q  .....Q..  ....Q...  .......Q  .Q......  .Q......  .Q......  \n",
            ".......Q  ..Q.....  ..Q.....  ..Q.....  .......Q  .......Q  ....Q...  .......Q  ....Q...  ......Q.  \n",
            "Q.......  Q.......  Q.......  Q.......  ..Q.....  .....Q..  ......Q.  ....Q...  .......Q  ....Q...  \n",
            "...Q....  ......Q.  .....Q..  ......Q.  Q.......  Q.......  Q.......  Q.......  Q.......  Q.......  \n",
            ".Q......  .Q......  .......Q  ....Q...  ......Q.  ..Q.....  ..Q.....  ...Q....  ......Q.  .......Q  \n",
            "......Q.  .....Q..  .Q......  .Q......  ....Q...  ......Q.  .....Q..  .....Q..  ...Q....  ...Q....  \n",
            "\n",
            "--------------------------------------------------------------------------------------------------\n",
            "\n",
            "....Q...  ....Q...  ......Q.  ......Q.  ....Q...  ..Q.....  ......Q.  ...Q....  ...Q....  ....Q...  \n",
            "......Q.  ......Q.  ...Q....  ...Q....  ......Q.  .....Q..  ..Q.....  ......Q.  .....Q..  ..Q.....  \n",
            ".Q......  .Q......  .Q......  .Q......  .Q......  .......Q  .......Q  ....Q...  .......Q  .......Q  \n",
            ".....Q..  .....Q..  ....Q...  .......Q  ...Q....  .Q......  .Q......  .Q......  .Q......  ...Q....  \n",
            "..Q.....  ..Q.....  .......Q  .....Q..  .......Q  ...Q....  ....Q...  .....Q..  ......Q.  ......Q.  \n",
            "Q.......  Q.......  Q.......  Q.......  Q.......  Q.......  Q.......  Q.......  Q.......  Q.......  \n",
            "...Q....  .......Q  ..Q.....  ..Q.....  ..Q.....  ......Q.  .....Q..  ..Q.....  ..Q.....  .....Q..  \n",
            ".......Q  ...Q....  .....Q..  ....Q...  .....Q..  ....Q...  ...Q....  .......Q  ....Q...  .Q......  \n",
            "\n",
            "--------------------------------------------------------------------------------------------------\n",
            "\n",
            ".Q......  ...Q....  ....Q...  ..Q.....  .....Q..  .....Q..  .....Q..  ...Q....  ...Q....  ....Q...  \n",
            "......Q.  .Q......  .Q......  ......Q.  ...Q....  ..Q.....  ..Q.....  ......Q.  .Q......  .Q......  \n",
            "..Q.....  ......Q.  ...Q....  .Q......  .Q......  ......Q.  ......Q.  ..Q.....  ......Q.  ...Q....  \n",
            ".....Q..  ..Q.....  .....Q..  .......Q  .......Q  .Q......  .Q......  .......Q  ..Q.....  ......Q.  \n",
            ".......Q  .....Q..  .......Q  .....Q..  ....Q...  ...Q....  .......Q  .Q......  .....Q..  ..Q.....  \n",
            "....Q...  .......Q  ..Q.....  ...Q....  ......Q.  .......Q  ....Q...  ....Q...  .......Q  .......Q  \n",
            "Q.......  Q.......  Q.......  Q.......  Q.......  Q.......  Q.......  Q.......  ....Q...  .....Q..  \n",
            "...Q....  ....Q...  ......Q.  ....Q...  ..Q.....  ....Q...  ...Q....  .....Q..  Q.......  Q.......  \n",
            "\n",
            "--------------------------------------------------------------------------------------------------\n",
            "\n",
            "..Q.....  ..Q.....  \n",
            "....Q...  .....Q..  \n",
            ".Q......  ...Q....  \n",
            ".......Q  .Q......  \n",
            ".....Q..  .......Q  \n",
            "...Q....  ....Q...  \n",
            "......Q.  ......Q.  \n",
            "Q.......  Q.......  \n",
            "\n",
            "--------------------------------------------------------------------------------------------------\n",
            "\n"
          ]
        }
      ]
    },
    {
      "cell_type": "code",
      "source": [],
      "metadata": {
        "id": "GEy1qpKXWBRY"
      },
      "execution_count": null,
      "outputs": []
    },
    {
      "cell_type": "markdown",
      "source": [],
      "metadata": {
        "id": "-vkLMJ5WW1eL"
      }
    }
  ]
}