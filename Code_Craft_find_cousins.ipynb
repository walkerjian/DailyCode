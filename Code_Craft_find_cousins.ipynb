{
  "nbformat": 4,
  "nbformat_minor": 0,
  "metadata": {
    "colab": {
      "provenance": [],
      "authorship_tag": "ABX9TyM3E7Ln/ZC5I5wO+i4oyhCz",
      "include_colab_link": true
    },
    "kernelspec": {
      "name": "python3",
      "display_name": "Python 3"
    },
    "language_info": {
      "name": "python"
    }
  },
  "cells": [
    {
      "cell_type": "markdown",
      "metadata": {
        "id": "view-in-github",
        "colab_type": "text"
      },
      "source": [
        "<a href=\"https://colab.research.google.com/github/walkerjian/DailyCode/blob/main/Code_Craft_find_cousins.ipynb\" target=\"_parent\"><img src=\"https://colab.research.google.com/assets/colab-badge.svg\" alt=\"Open In Colab\"/></a>"
      ]
    },
    {
      "cell_type": "markdown",
      "source": [
        "#Problem:\n",
        "Two nodes in a binary tree can be called cousins if they are on the same level of the tree but have different parents. For example, in the following diagram 4 and 6 are cousins.\n",
        "```\n",
        "    1\n",
        "   / \\\n",
        "  2   3\n",
        " / \\   \\\n",
        "4   5   6\n",
        "```\n",
        "Given a binary tree and a particular node, find all cousins of that node."
      ],
      "metadata": {
        "id": "tH7CkhIN6Ovd"
      }
    },
    {
      "cell_type": "markdown",
      "source": [
        "##Solution:\n",
        "To find all the cousins of a given node in a binary tree, we need to determine two key pieces of information about each node in the tree:\n",
        "\n",
        "1. **Depth (level)**: The level at which each node resides, with the root node at level 0.\n",
        "2. **Parent node**: The immediate ancestor of each node.\n",
        "\n",
        "The algorithm to find all cousins of a given node will involve:\n",
        "- Traversing the binary tree to record the depth and parent of each node.\n",
        "- Checking all nodes at the same level as the given node but with a different parent.\n",
        "\n"
      ],
      "metadata": {
        "id": "itQ9Rbxe6Twn"
      }
    },
    {
      "cell_type": "markdown",
      "source": [
        "##Implementation:\n",
        "Here's a Python function to find the cousins of a node in a binary tree:\n",
        "\n",
        "1. **TreeNode class**: Represents each node in the binary tree.\n",
        "2. **find_cousins function**:\n",
        "   - Initializes a queue with the root node, and also keeps track of each node's parent and depth.\n",
        "   - Uses a breadth-first search (BFS) approach to explore each level of the tree, recording each node's depth and parent.\n",
        "   - Once all nodes are recorded, filters out the nodes at the same level as the target node but with a different parent.\n",
        "\n",
        "This code provides an efficient way to find the cousins of any node in a binary tree by using a BFS traversal and a simple filtering step based on recorded depth and parent information."
      ],
      "metadata": {
        "id": "Cb3P4iVt6W-J"
      }
    },
    {
      "cell_type": "code",
      "source": [
        "class TreeNode:\n",
        "    def __init__(self, val=0, left=None, right=None):\n",
        "        self.val = val\n",
        "        self.left = left\n",
        "        self.right = right\n",
        "\n",
        "def find_cousins(root, target):\n",
        "    if not root:\n",
        "        return []\n",
        "\n",
        "    from collections import deque\n",
        "\n",
        "    queue = deque([(root, None, 0)])  # Each element is a tuple (node, parent, depth)\n",
        "    node_info = {}  # Dictionary to keep track of each node's parent and depth\n",
        "\n",
        "    while queue:\n",
        "        node, parent, depth = queue.popleft()\n",
        "\n",
        "        # Record the node's depth and parent\n",
        "        node_info[node.val] = (parent, depth)\n",
        "\n",
        "        if node.left:\n",
        "            queue.append((node.left, node, depth + 1))\n",
        "        if node.right:\n",
        "            queue.append((node.right, node, depth + 1))\n",
        "\n",
        "    # Find the depth and parent of the target node\n",
        "    target_depth = node_info[target][1]\n",
        "    target_parent = node_info[target][0]\n",
        "\n",
        "    # Gather all nodes at the same level as the target but with different parents\n",
        "    cousins = [node for node, (parent, depth) in node_info.items() if depth == target_depth and parent != target_parent]\n",
        "\n",
        "    return cousins"
      ],
      "metadata": {
        "id": "lve1Yewi6N4N"
      },
      "execution_count": 3,
      "outputs": []
    },
    {
      "cell_type": "markdown",
      "source": [
        "##Testing:"
      ],
      "metadata": {
        "id": "rmascGp76a_Q"
      }
    },
    {
      "cell_type": "code",
      "execution_count": 10,
      "metadata": {
        "id": "kVX9PbNY6M7_",
        "colab": {
          "base_uri": "https://localhost:8080/"
        },
        "outputId": "fed65ed3-07d9-40dc-ff19-c8ab27e66200"
      },
      "outputs": [
        {
          "output_type": "stream",
          "name": "stdout",
          "text": [
            "Cousins of 5: [6]\n"
          ]
        }
      ],
      "source": [
        "# Example tree setup:\n",
        "#     1\n",
        "#    / \\\n",
        "#   2   3\n",
        "#  / \\   \\\n",
        "# 4   5   6\n",
        "root = TreeNode(1)\n",
        "root.left = TreeNode(2)\n",
        "root.right = TreeNode(3)\n",
        "root.left.left = TreeNode(4)\n",
        "root.left.right = TreeNode(5)\n",
        "root.right.right = TreeNode(6)\n",
        "\n",
        "# Node to find cousins for\n",
        "target_node_val = 5\n",
        "\n",
        "# Find cousins of the target node\n",
        "cousins = find_cousins(root, target_node_val)\n",
        "print(f\"Cousins of {target_node_val}:\", cousins)"
      ]
    }
  ]
}