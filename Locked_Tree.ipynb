{
  "nbformat": 4,
  "nbformat_minor": 0,
  "metadata": {
    "colab": {
      "provenance": [],
      "authorship_tag": "ABX9TyMbXdCLO4I55nL9CkEqewuJ",
      "include_colab_link": true
    },
    "kernelspec": {
      "name": "python3",
      "display_name": "Python 3"
    },
    "language_info": {
      "name": "python"
    }
  },
  "cells": [
    {
      "cell_type": "markdown",
      "metadata": {
        "id": "view-in-github",
        "colab_type": "text"
      },
      "source": [
        "<a href=\"https://colab.research.google.com/github/walkerjian/DailyCode/blob/main/Locked_Tree.ipynb\" target=\"_parent\"><img src=\"https://colab.research.google.com/assets/colab-badge.svg\" alt=\"Open In Colab\"/></a>"
      ]
    },
    {
      "cell_type": "markdown",
      "source": [
        "Implement locking in a binary tree. A binary tree node can be locked or unlocked only if all of its descendants or ancestors are not locked.\n",
        "\n",
        "Design a binary tree node class with the following methods:\n",
        "\n",
        "is_locked, which returns whether the node is locked\n",
        "lock, which attempts to lock the node. If it cannot be locked, then it should return false. Otherwise, it should lock it and return true.\n",
        "unlock, which unlocks the node. If it cannot be unlocked, then it should return false. Otherwise, it should unlock it and return true.\n",
        "You may augment the node to add parent pointers or any other property you would like. You may assume the class is used in a single-threaded program, so there is no need for actual locks or mutexes. Each method should run in O(h), where h is the height of the tree."
      ],
      "metadata": {
        "id": "-WuiHZGBP6HA"
      }
    },
    {
      "cell_type": "code",
      "execution_count": 1,
      "metadata": {
        "colab": {
          "base_uri": "https://localhost:8080/"
        },
        "id": "Yc5tdAtfP5Qm",
        "outputId": "6914c228-2770-48d2-8fc1-dd961f2ef7f3"
      },
      "outputs": [
        {
          "output_type": "stream",
          "name": "stdout",
          "text": [
            "Test 1: Expected: True, Got: True. PASSED\n",
            "Test 2: Expected: True, Got: True. PASSED\n",
            "Test 3: Expected: False, Got: False. PASSED\n",
            "Test 4: Expected: True, Got: True. PASSED\n",
            "Test 5: Expected: True, Got: True. PASSED\n",
            "Test 6: Expected: False, Got: False. PASSED\n",
            "Test 7: Expected: True, Got: True. PASSED\n",
            "Test 8: Expected: True, Got: False. FAILED\n",
            "Test 9: Expected: False, Got: True. FAILED\n",
            "Test 10: Expected: True, Got: True. PASSED\n",
            "Test 11: Expected: True, Got: False. FAILED\n"
          ]
        }
      ],
      "source": [
        "class TreeNode:\n",
        "    \"\"\"\n",
        "    A class representing a node in a binary tree.\n",
        "\n",
        "    Methods:\n",
        "        - is_locked: Check if the node is locked.\n",
        "        - lock: Attempt to lock the node.\n",
        "        - unlock: Attempt to unlock the node.\n",
        "\n",
        "    Attributes:\n",
        "        - val (int): The value stored in the node.\n",
        "        - left (TreeNode): Pointer to the left child.\n",
        "        - right (TreeNode): Pointer to the right child.\n",
        "        - parent (TreeNode): Pointer to the parent node.\n",
        "        - _is_locked (bool): Indicates whether the node is locked.\n",
        "        - _lock_count (int): Count of locked descendants.\n",
        "    \"\"\"\n",
        "\n",
        "    def __init__(self, val, left=None, right=None, parent=None):\n",
        "        self.val = val\n",
        "        self.left = left\n",
        "        self.right = right\n",
        "        self.parent = parent\n",
        "        self._is_locked = False\n",
        "        self._lock_count = 0\n",
        "\n",
        "    def _can_lock_or_unlock(self):\n",
        "        \"\"\"\n",
        "        Helper method to check if a node can be locked or unlocked.\n",
        "        \"\"\"\n",
        "        # Check ancestors\n",
        "        current = self\n",
        "        while current.parent:\n",
        "            if current.parent._is_locked:\n",
        "                return False\n",
        "            current = current.parent\n",
        "\n",
        "        # If any descendant is locked, the lock count will be greater than 0\n",
        "        return self._lock_count == 0\n",
        "\n",
        "    def is_locked(self):\n",
        "        \"\"\"\n",
        "        Return whether the node is locked.\n",
        "        \"\"\"\n",
        "        return self._is_locked\n",
        "\n",
        "    def lock(self):\n",
        "        \"\"\"\n",
        "        Attempt to lock the node. Return True if successful, else False.\n",
        "        \"\"\"\n",
        "        if self._can_lock_or_unlock():\n",
        "            # Update ancestors' lock count\n",
        "            current = self\n",
        "            while current.parent:\n",
        "                current.parent._lock_count += 1\n",
        "                current = current.parent\n",
        "\n",
        "            self._is_locked = True\n",
        "            return True\n",
        "        return False\n",
        "\n",
        "    def unlock(self):\n",
        "        \"\"\"\n",
        "        Attempt to unlock the node. Return True if successful, else False.\n",
        "        \"\"\"\n",
        "        if self._can_lock_or_unlock():\n",
        "            # Update ancestors' lock count\n",
        "            current = self\n",
        "            while current.parent:\n",
        "                current.parent._lock_count -= 1\n",
        "                current = current.parent\n",
        "\n",
        "            self._is_locked = False\n",
        "            return True\n",
        "        return False\n",
        "\n",
        "def test_binary_tree_locking():\n",
        "    \"\"\"\n",
        "    Test function for binary tree locking mechanism.\n",
        "    \"\"\"\n",
        "    # Set up the tree\n",
        "    root = TreeNode(1)\n",
        "    root.left = TreeNode(2, parent=root)\n",
        "    root.right = TreeNode(3, parent=root)\n",
        "    root.left.left = TreeNode(4, parent=root.left)\n",
        "    root.left.right = TreeNode(5, parent=root.left)\n",
        "    root.right.left = TreeNode(6, parent=root.right)\n",
        "\n",
        "    # Test cases\n",
        "    tests = [\n",
        "        (root.lock, True),\n",
        "        (root.is_locked, True),\n",
        "        (root.left.lock, False),\n",
        "        (root.unlock, True),\n",
        "        (root.left.lock, True),\n",
        "        (root.is_locked, False),\n",
        "        (root.left.is_locked, True),\n",
        "        (root.left.right.lock, True),\n",
        "        (root.left.unlock, False),\n",
        "        (root.left.right.unlock, True),\n",
        "        (root.left.unlock, True)\n",
        "    ]\n",
        "\n",
        "    for i, (method, expected) in enumerate(tests, 1):\n",
        "        result = method()\n",
        "        output = f\"Test {i}: Expected: {expected}, Got: {result}. {'PASSED' if expected == result else 'FAILED'}\"\n",
        "        print(output)\n",
        "\n",
        "if __name__ == \"__main__\":\n",
        "    test_binary_tree_locking()\n"
      ]
    }
  ]
}