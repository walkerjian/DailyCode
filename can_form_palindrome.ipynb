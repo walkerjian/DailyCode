{
  "nbformat": 4,
  "nbformat_minor": 0,
  "metadata": {
    "colab": {
      "provenance": [],
      "authorship_tag": "ABX9TyO047izemt9+C3K5qGK5N3J",
      "include_colab_link": true
    },
    "kernelspec": {
      "name": "python3",
      "display_name": "Python 3"
    },
    "language_info": {
      "name": "python"
    }
  },
  "cells": [
    {
      "cell_type": "markdown",
      "metadata": {
        "id": "view-in-github",
        "colab_type": "text"
      },
      "source": [
        "<a href=\"https://colab.research.google.com/github/walkerjian/DailyCode/blob/main/can_form_palindrome.ipynb\" target=\"_parent\"><img src=\"https://colab.research.google.com/assets/colab-badge.svg\" alt=\"Open In Colab\"/></a>"
      ]
    },
    {
      "cell_type": "markdown",
      "source": [
        "##Problem:\n",
        "Given a string, determine whether any permutation of it is a palindrome.\n",
        "\n",
        "For example, carrace should return true, since it can be rearranged to form racecar, which is a palindrome. daily should return false, since there's no rearrangement that can form a palindrome."
      ],
      "metadata": {
        "id": "r_bo_51AZ73t"
      }
    },
    {
      "cell_type": "markdown",
      "source": [
        "##Solution:\n",
        "We can apply the following logic to determine if any permutation of a string can form a palindrome:\n",
        "\n",
        "1. A palindrome consists of characters that appear twice (an even number of times) and at most one character that appears once if the length of the palindrome is odd.\n",
        "2. So, we can count the occurrences of each character in the string.\n",
        "3. If the count of characters that appear an odd number of times is more than 1, then no permutation can form a palindrome.\n",
        "\n",
        "Let's write a function to determine whether any permutation of a given string is a palindrome."
      ],
      "metadata": {
        "id": "U32WX_rjaMEF"
      }
    },
    {
      "cell_type": "code",
      "execution_count": 1,
      "metadata": {
        "colab": {
          "base_uri": "https://localhost:8080/"
        },
        "id": "8LuJdAZSZeDu",
        "outputId": "24566105-6dec-480f-acda-579a7493ca4e"
      },
      "outputs": [
        {
          "output_type": "execute_result",
          "data": {
            "text/plain": [
              "(True, False)"
            ]
          },
          "metadata": {},
          "execution_count": 1
        }
      ],
      "source": [
        "from collections import Counter\n",
        "\n",
        "def can_form_palindrome(s):\n",
        "    # Count the frequency of each character in the string\n",
        "    char_freq = Counter(s)\n",
        "\n",
        "    # Check the number of characters that appear an odd number of times\n",
        "    odd_count = sum(1 for char, freq in char_freq.items() if freq % 2 == 1)\n",
        "\n",
        "    # For the string to be able to form a palindrome, there should be at most one character with an odd count\n",
        "    return odd_count <= 1\n",
        "\n",
        "# Test cases\n",
        "can_form_palindrome(\"carrace\"), can_form_palindrome(\"daily\")\n"
      ]
    },
    {
      "cell_type": "markdown",
      "source": [
        "\n",
        "The function correctly determines that:\n",
        "\n",
        "- The string \"carrace\" can be rearranged to form a palindrome (e.g., \"racecar\"), so it returns `True`.\n",
        "- The string \"daily\" cannot be rearranged to form a palindrome, so it returns `False`."
      ],
      "metadata": {
        "id": "gtUYY_IZc-_A"
      }
    },
    {
      "cell_type": "markdown",
      "source": [
        "##Testing:\n",
        "To create a test harness for the palindrome permutation function, we will define a series of test cases that cover a variety of scenarios:\n",
        "\n",
        "1. **Empty String**: This is an edge case; an empty string is trivially a palindrome.\n",
        "2. **Single Character**: This is another edge case; any single character is a palindrome.\n",
        "3. **Even Length Palindrome**: A typical case where the string length is even and it is already a palindrome.\n",
        "4. **Even Length Non-Palindrome**: A typical case where the string length is even but it cannot form a palindrome.\n",
        "5. **Odd Length Palindrome**: A typical case where the string length is odd and it is already a palindrome.\n",
        "6. **Odd Length with One Odd Character**: A typical case where the string length is odd and can form a palindrome with exactly one character that has an odd count.\n",
        "7. **Odd Length with More Than One Odd Character**: A pathological case where the string length is odd and it has more than one character with an odd count, making it impossible to form a palindrome.\n",
        "8. **String with All Identical Characters**: An edge case where all characters are the same; it should always return true.\n",
        "9. **String with All But One Character Identical**: A pathological case that tests the limit where only one character is different from the others.\n",
        "10. **Very Long String**: A pathological case to test the performance and completion of the algorithm with a very long string.\n"
      ],
      "metadata": {
        "id": "JL62kR7yaaIC"
      }
    },
    {
      "cell_type": "code",
      "source": [
        "test_cases = [\n",
        "    (\"\", True, \"An empty string is a palindrome by definition.\"),\n",
        "    (\"a\", True, \"A single character is a palindrome by definition.\"),\n",
        "    (\"abba\", True, \"Even length palindrome.\"),\n",
        "    (\"abcd\", False, \"Even length string with no repeated characters cannot form a palindrome.\"),\n",
        "    (\"radar\", True, \"Odd length palindrome.\"),\n",
        "    (\"racecar\", True, \"Odd length string that can form a palindrome with one middle character.\"),\n",
        "    (\"abcde\", False, \"Odd length string with no repeated characters cannot form a palindrome.\"),\n",
        "    (\"aaaa\", True, \"String with all identical characters is a palindrome.\"),\n",
        "    (\"aaaaab\", False, \"String with all but one character identical cannot form a palindrome if there are two odd counts.\"),\n",
        "    (\"a\"*1000000, True, \"Very long string with identical characters is a palindrome.\"),\n",
        "]\n",
        "\n",
        "def run_tests_corrected():\n",
        "    for i, (test_case, expected, explanation) in enumerate(test_cases, 1):\n",
        "        result = can_form_palindrome(test_case)\n",
        "        assert result == expected, f\"Test case {i} failed: {explanation}\"\n",
        "        print(f\"Test case {i} passed: {explanation}\")\n",
        "\n",
        "run_tests_corrected()\n"
      ],
      "metadata": {
        "colab": {
          "base_uri": "https://localhost:8080/"
        },
        "id": "EVyXT5bJaVkO",
        "outputId": "14d4d295-1a3c-462c-822e-a7f0769cda5f"
      },
      "execution_count": 3,
      "outputs": [
        {
          "output_type": "stream",
          "name": "stdout",
          "text": [
            "Test case 1 passed: An empty string is a palindrome by definition.\n",
            "Test case 2 passed: A single character is a palindrome by definition.\n",
            "Test case 3 passed: Even length palindrome.\n",
            "Test case 4 passed: Even length string with no repeated characters cannot form a palindrome.\n",
            "Test case 5 passed: Odd length palindrome.\n",
            "Test case 6 passed: Odd length string that can form a palindrome with one middle character.\n",
            "Test case 7 passed: Odd length string with no repeated characters cannot form a palindrome.\n",
            "Test case 8 passed: String with all identical characters is a palindrome.\n",
            "Test case 9 passed: String with all but one character identical cannot form a palindrome if there are two odd counts.\n",
            "Test case 10 passed: Very long string with identical characters is a palindrome.\n"
          ]
        }
      ]
    },
    {
      "cell_type": "markdown",
      "source": [
        "##Rationale:\n",
        "The logic to determine whether any permutation of a given string is a palindrome is based on the following principles:\n",
        "\n",
        "1. **Character Frequency**: A palindrome has a symmetrical structure. In terms of character frequency, this means that all the characters must occur in pairs (an even number of times), except for at most one character that can occur once if the string's length is odd. This unpaired character would be the middle character in the palindrome.\n",
        "\n",
        "2. **Odd Count Check**: We count the frequency of each character in the string using a `Counter`. Then, we calculate how many characters appear an odd number of times. If more than one character has an odd count, then it is impossible to form a palindrome from any permutation of the string.\n",
        "\n",
        "3. **Palindrome Condition**: A string can be permuted to form a palindrome if the number of characters with an odd frequency is less than or equal to one. This condition allows for:\n",
        "   - Even-length strings to have all characters with even counts.\n",
        "   - Odd-length strings to have exactly one character with an odd count (which would be the middle character in the palindrome).\n",
        "\n",
        "The function `can_form_palindrome` implements this logic as follows:\n",
        "\n",
        "- It uses the `Counter` class from the `collections` module to count the occurrences of each character in the input string.\n",
        "- It then checks for the number of characters that have an odd count.\n",
        "- Finally, it returns `True` if there is at most one character with an odd count, and `False` otherwise.\n",
        "\n",
        "This logic was tested with a series of test cases that were designed to cover various scenarios, including edge cases like an empty string, single-character string, and pathological cases like a very long string with identical characters. The test harness verified that the function behaves as expected across these different cases."
      ],
      "metadata": {
        "id": "ZLILdp92b6Mp"
      }
    }
  ]
}