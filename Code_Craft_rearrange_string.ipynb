{
  "nbformat": 4,
  "nbformat_minor": 0,
  "metadata": {
    "colab": {
      "provenance": [],
      "authorship_tag": "ABX9TyPwFD5TL878hHuzZY4S0HHC",
      "include_colab_link": true
    },
    "kernelspec": {
      "name": "python3",
      "display_name": "Python 3"
    },
    "language_info": {
      "name": "python"
    }
  },
  "cells": [
    {
      "cell_type": "markdown",
      "metadata": {
        "id": "view-in-github",
        "colab_type": "text"
      },
      "source": [
        "<a href=\"https://colab.research.google.com/github/walkerjian/DailyCode/blob/main/Code_Craft_rearrange_string.ipynb\" target=\"_parent\"><img src=\"https://colab.research.google.com/assets/colab-badge.svg\" alt=\"Open In Colab\"/></a>"
      ]
    },
    {
      "cell_type": "markdown",
      "source": [
        "Given a string with repeated characters, rearrange the string so that no two adjacent characters are the same. If this is not possible, return None.\n",
        "\n",
        "For example, given \"aaabbc\", you could return \"ababac\". Given \"aaab\", return None."
      ],
      "metadata": {
        "id": "elkZUPx3xVHJ"
      }
    },
    {
      "cell_type": "markdown",
      "source": [
        "To solve the problem of rearranging a string such that no two adjacent characters are the same, we can employ a greedy algorithm with a priority queue. Here's a step-by-step explanation of the approach:\n",
        "\n",
        "1. **Count Frequency of Characters**: First, we count the frequency of each character in the string. This will help us in deciding which characters are available to be placed next in the sequence.\n",
        "\n",
        "2. **Use a Priority Queue**: We use a max heap (or priority queue) to always select the character with the highest remaining frequency that does not match the last character placed in the result string.\n",
        "\n",
        "3. **Construct the Result String**: We repeatedly choose the most frequent character that isn't the same as the last character added to the result string. After adding a character to the result, we decrease its frequency and continue the process.\n",
        "\n",
        "4. **Handling Adjacent Characters**: If at any point the most frequent character is the same as the last character added to the result string and there are no other characters to choose from, we return `None`, as it becomes impossible to place another character next to it without repeating.\n",
        "\n",
        "5. **Edge Cases**: If the string is empty, we can simply return an empty string. Also, if there's only one type of character that's repeated more times than half the length of the string (rounded up), it's impossible to rearrange the string to meet the conditions.\n",
        "\n",
        "Here is a Python implementation of the solution using a priority queue:\n",
        "\n",
        "\n",
        "This implementation efficiently manages the string rearrangement by prioritizing the usage of characters based on their frequency, and carefully handling edge cases where rearrangement is not possible."
      ],
      "metadata": {
        "id": "R47lYpUpxsHM"
      }
    },
    {
      "cell_type": "code",
      "execution_count": 1,
      "metadata": {
        "colab": {
          "base_uri": "https://localhost:8080/"
        },
        "id": "6mXV510CvswN",
        "outputId": "ba48152f-6479-443b-fe58-9f6d094f9648"
      },
      "outputs": [
        {
          "output_type": "stream",
          "name": "stdout",
          "text": [
            "ababac\n",
            "None\n"
          ]
        }
      ],
      "source": [
        "import heapq\n",
        "\n",
        "def rearrange_string(s):\n",
        "    # Count frequency of each character\n",
        "    char_count = {}\n",
        "    for char in s:\n",
        "        if char in char_count:\n",
        "            char_count[char] += 1\n",
        "        else:\n",
        "            char_count[char] = 1\n",
        "\n",
        "    # Create a max heap based on character frequency\n",
        "    max_heap = []\n",
        "    for char, count in char_count.items():\n",
        "        heapq.heappush(max_heap, (-count, char))  # Push negative count for max heap behavior\n",
        "\n",
        "    result = []\n",
        "    prev_char, prev_count = None, 0\n",
        "\n",
        "    while max_heap:\n",
        "        count, char = heapq.heappop(max_heap)\n",
        "\n",
        "        # If we had a character waiting to be pushed back into the heap, do it now\n",
        "        if prev_char and prev_count < 0:\n",
        "            heapq.heappush(max_heap, (prev_count, prev_char))\n",
        "\n",
        "        # Append current character to result\n",
        "        result.append(char)\n",
        "\n",
        "        # Update the count (decrement since we used it once)\n",
        "        prev_char, prev_count = char, count + 1  # increment since count was negative\n",
        "\n",
        "    # Check if the last character group couldn't be used fully\n",
        "    if prev_count < 0:\n",
        "        return None  # Not possible to rearrange\n",
        "\n",
        "    return ''.join(result)\n",
        "\n",
        "# Example usages\n",
        "print(rearrange_string(\"aaabbc\"))  # Possible output: \"ababac\"\n",
        "print(rearrange_string(\"aaab\"))    # Output: None\n"
      ]
    },
    {
      "cell_type": "code",
      "source": [],
      "metadata": {
        "id": "0StT2r4Lx1iW"
      },
      "execution_count": null,
      "outputs": []
    }
  ]
}