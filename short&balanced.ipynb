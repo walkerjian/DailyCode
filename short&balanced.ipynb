{
  "nbformat": 4,
  "nbformat_minor": 0,
  "metadata": {
    "colab": {
      "provenance": [],
      "authorship_tag": "ABX9TyMyinEEaXbn6zUCGWKKB3Tp",
      "include_colab_link": true
    },
    "kernelspec": {
      "name": "python3",
      "display_name": "Python 3"
    },
    "language_info": {
      "name": "python"
    }
  },
  "cells": [
    {
      "cell_type": "markdown",
      "metadata": {
        "id": "view-in-github",
        "colab_type": "text"
      },
      "source": [
        "<a href=\"https://colab.research.google.com/github/walkerjian/DailyCode/blob/main/short%26balanced.ipynb\" target=\"_parent\"><img src=\"https://colab.research.google.com/assets/colab-badge.svg\" alt=\"Open In Colab\"/></a>"
      ]
    },
    {
      "cell_type": "code",
      "execution_count": 2,
      "metadata": {
        "colab": {
          "base_uri": "https://localhost:8080/"
        },
        "id": "LanIyOnFpAmK",
        "outputId": "973e2a77-0c1a-4020-e5a8-fe79c0c3cac7"
      },
      "outputs": [
        {
          "output_type": "stream",
          "name": "stdout",
          "text": [
            "Input: \"([])[]({})\" - Balanced: True\n",
            "Input: \"([)]\" - Balanced: False\n",
            "Input: \"((()\" - Balanced: False\n",
            "Input: \"\" - Balanced: True\n",
            "Input: \"[]\" - Balanced: True\n",
            "Input: \"{}\" - Balanced: True\n",
            "Input: \"()\" - Balanced: True\n",
            "Input: \"([{}])\" - Balanced: True\n",
            "Input: \"{[}]\" - Balanced: False\n",
            "Input: \"[{]}\" - Balanced: False\n",
            "Input: \"[]{}()\" - Balanced: True\n"
          ]
        }
      ],
      "source": [
        "def is_balanced(s: str) -> bool:\n",
        "    \"\"\"\n",
        "    Check if the given string of brackets is balanced.\n",
        "\n",
        "    Parameters:\n",
        "    - s (str): Input string containing brackets.\n",
        "\n",
        "    Returns:\n",
        "    - bool: True if the string is balanced, False otherwise.\n",
        "    \"\"\"\n",
        "    stack = []\n",
        "    mapping = {')': '(', '}': '{', ']': '['}\n",
        "\n",
        "    for char in s:\n",
        "        if char in mapping:\n",
        "            top_element = stack.pop() if stack else '#'\n",
        "            if mapping[char] != top_element:\n",
        "                return False\n",
        "        else:\n",
        "            stack.append(char)\n",
        "\n",
        "    return not stack\n",
        "\n",
        "def controller(input_str: str) -> bool:\n",
        "    \"\"\"\n",
        "    Controller function to process the input string and check for balanced brackets.\n",
        "\n",
        "    Parameters:\n",
        "    - input_str (str): Input string containing brackets.\n",
        "\n",
        "    Returns:\n",
        "    - bool: True if the string is balanced, False otherwise.\n",
        "    \"\"\"\n",
        "    return is_balanced(input_str)\n",
        "\n",
        "def view(input_str: str, result: bool) -> None:\n",
        "    \"\"\"\n",
        "    Display the result of the bracket balancing check.\n",
        "\n",
        "    Parameters:\n",
        "    - input_str (str): Original input string.\n",
        "    - result (bool): Result of the check.\n",
        "    \"\"\"\n",
        "    print(f\"Input: \\\"{input_str}\\\" - Balanced: {result}\")\n",
        "\n",
        "def test_harness():\n",
        "    \"\"\"\n",
        "    Test function to test the `controller` function with various test cases.\n",
        "    \"\"\"\n",
        "    test_cases = [\n",
        "        \"([])[]({})\",\n",
        "        \"([)]\",\n",
        "        \"((()\",\n",
        "        \"\",\n",
        "        \"[]\",\n",
        "        \"{}\",\n",
        "        \"()\",\n",
        "        \"([{}])\",\n",
        "        \"{[}]\",\n",
        "        \"[{]}\",\n",
        "        \"[]{}()\",\n",
        "    ]\n",
        "\n",
        "    for test in test_cases:\n",
        "        result = controller(test)\n",
        "        view(test, result)\n",
        "\n",
        "# Run the test harness\n",
        "test_harness()\n"
      ]
    },
    {
      "cell_type": "code",
      "source": [],
      "metadata": {
        "id": "gvEGGcX7pIZI"
      },
      "execution_count": null,
      "outputs": []
    }
  ]
}