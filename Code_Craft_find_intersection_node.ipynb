{
  "nbformat": 4,
  "nbformat_minor": 0,
  "metadata": {
    "colab": {
      "provenance": [],
      "authorship_tag": "ABX9TyO3Hxj5LIYB5BokOUk+Vk09",
      "include_colab_link": true
    },
    "kernelspec": {
      "name": "python3",
      "display_name": "Python 3"
    },
    "language_info": {
      "name": "python"
    }
  },
  "cells": [
    {
      "cell_type": "markdown",
      "metadata": {
        "id": "view-in-github",
        "colab_type": "text"
      },
      "source": [
        "<a href=\"https://colab.research.google.com/github/walkerjian/DailyCode/blob/main/Code_Craft_find_intersection_node.ipynb\" target=\"_parent\"><img src=\"https://colab.research.google.com/assets/colab-badge.svg\" alt=\"Open In Colab\"/></a>"
      ]
    },
    {
      "cell_type": "markdown",
      "source": [
        "#Problem:\n",
        "Given two singly linked lists that intersect at some point, find the intersecting node. The lists are non-cyclical.\n",
        "\n",
        "For example, given A = 3 -> 7 -> 8 -> 10 and B = 99 -> 1 -> 8 -> 10, return the node with value 8.\n",
        "\n",
        "In this example, assume nodes with the same value are the exact same node objects.\n",
        "\n",
        "Do this in $O(M + N)$ time (where $M$ and $N$ are the lengths of the lists) and constant space."
      ],
      "metadata": {
        "id": "tH7CkhIN6Ovd"
      }
    },
    {
      "cell_type": "markdown",
      "source": [
        "##Solution:\n",
        "To solve the problem of finding the intersection of two singly linked lists efficiently in O(M + N) time and constant space, we can use a two-pointer technique. Here's the detailed explanation and algorithm:\n",
        "\n",
        "### Algorithm\n",
        "1. **Calculate Lengths**: First, traverse each list to determine its length.\n",
        "2. **Align Starts**: Determine the difference in lengths between the two lists. Advance the pointer of the longer list by the difference in lengths so that both pointers will then traverse an equal number of nodes to reach the end of their respective lists.\n",
        "3. **Traverse Simultaneously**: Traverse both lists in tandem, moving one node at a time in each list. Compare the nodes at each step.\n",
        "4. **Check Intersection**: The first node where the two pointers coincide (i.e., point to the same node) is the intersection node. If no intersection is found by the time the lists end, then the lists do not intersect."
      ],
      "metadata": {
        "id": "itQ9Rbxe6Twn"
      }
    },
    {
      "cell_type": "markdown",
      "source": [
        "##Implementation:"
      ],
      "metadata": {
        "id": "Cb3P4iVt6W-J"
      }
    },
    {
      "cell_type": "code",
      "source": [
        "class Node:\n",
        "    def __init__(self, value):\n",
        "        self.value = value\n",
        "        self.next = None\n",
        "\n",
        "def get_length_and_tail(node):\n",
        "    length = 0\n",
        "    while node:\n",
        "        length += 1\n",
        "        if node.next is None:\n",
        "            tail = node\n",
        "        node = node.next\n",
        "    return length, tail\n",
        "\n",
        "def find_intersection_node(head1, head2):\n",
        "    if head1 is None or head2 is None:\n",
        "        return None\n",
        "\n",
        "    len1, tail1 = get_length_and_tail(head1)\n",
        "    len2, tail2 = get_length_and_tail(head2)\n",
        "\n",
        "    # If the tails are not the same, there is no intersection\n",
        "    if tail1 != tail2:\n",
        "        return None\n",
        "\n",
        "    # Set pointers to the start of each list\n",
        "    ptr1 = head1\n",
        "    ptr2 = head2\n",
        "\n",
        "    # Align the starts\n",
        "    if len1 > len2:\n",
        "        for _ in range(len1 - len2):\n",
        "            ptr1 = ptr1.next\n",
        "    else:\n",
        "        for _ in range(len2 - len1):\n",
        "            ptr2 = ptr2.next\n",
        "\n",
        "    # Move in tandem until intersection is found\n",
        "    while ptr1 != ptr2:\n",
        "        ptr1 = ptr1.next\n",
        "        ptr2 = ptr2.next\n",
        "\n",
        "    return ptr1  # or ptr2, since ptr1 == ptr2 at intersection"
      ],
      "metadata": {
        "id": "lve1Yewi6N4N",
        "colab": {
          "base_uri": "https://localhost:8080/"
        },
        "outputId": "9d86e999-f672-4920-fcb8-485043437812"
      },
      "execution_count": 1,
      "outputs": [
        {
          "output_type": "stream",
          "name": "stdout",
          "text": [
            "8\n"
          ]
        }
      ]
    },
    {
      "cell_type": "markdown",
      "source": [
        "##Testing:\n",
        "In the provided test - Nodes `8 -> 10` are shared between the two lists, so the output of the above program will be `8`, indicating that the intersection starts at node with value `8`.\n",
        "\n",
        "This method ensures we only traverse each list once after determining their lengths, leading to an $O(M + N)$ time complexity with $O(1)$ additional space."
      ],
      "metadata": {
        "id": "rmascGp76a_Q"
      }
    },
    {
      "cell_type": "code",
      "execution_count": 2,
      "metadata": {
        "id": "kVX9PbNY6M7_",
        "colab": {
          "base_uri": "https://localhost:8080/"
        },
        "outputId": "3f75aa9b-f9de-4b69-ddfd-61fd730906a5"
      },
      "outputs": [
        {
          "output_type": "stream",
          "name": "stdout",
          "text": [
            "8\n"
          ]
        }
      ],
      "source": [
        "node8 = Node(8)\n",
        "node10 = Node(10)\n",
        "node8.next = node10\n",
        "\n",
        "list1 = Node(3)\n",
        "list1.next = Node(7)\n",
        "list1.next.next = node8\n",
        "\n",
        "list2 = Node(99)\n",
        "list2.next = Node(1)\n",
        "list2.next.next = node8\n",
        "\n",
        "intersection = find_intersection_node(list1, list2)\n",
        "print(intersection.value if intersection else \"No intersection\")"
      ]
    }
  ]
}