{
  "nbformat": 4,
  "nbformat_minor": 0,
  "metadata": {
    "colab": {
      "provenance": [],
      "authorship_tag": "ABX9TyN4jeH2OkWECpoLEvG7qK5T",
      "include_colab_link": true
    },
    "kernelspec": {
      "name": "python3",
      "display_name": "Python 3"
    },
    "language_info": {
      "name": "python"
    }
  },
  "cells": [
    {
      "cell_type": "markdown",
      "metadata": {
        "id": "view-in-github",
        "colab_type": "text"
      },
      "source": [
        "<a href=\"https://colab.research.google.com/github/walkerjian/DailyCode/blob/main/Code_Craft_random_exclusive.ipynb\" target=\"_parent\"><img src=\"https://colab.research.google.com/assets/colab-badge.svg\" alt=\"Open In Colab\"/></a>"
      ]
    },
    {
      "cell_type": "markdown",
      "source": [
        "##Problem:\n",
        "Given an integer n and a list of integers l, write a function that randomly generates a number from 0 to n-1 that isn't in l (uniform)."
      ],
      "metadata": {
        "id": "bFLU1ZNN75p6"
      }
    },
    {
      "cell_type": "markdown",
      "source": [
        "##Solution:\n",
        "To create a function that generates a random number between 0 and \\( n-1 \\) which is not included in the list `l`, we need to consider the following steps:\n",
        "\n",
        "1. Identify the set of all possible numbers between 0 and \\( n-1 \\).\n",
        "2. Remove the numbers that are in the list `l` from this set.\n",
        "3. Randomly select a number from the remaining set.\n",
        "\n",
        "We can use Python for this task. The function will first create a set of numbers from 0 to \\( n-1 \\) using `set(range(n))` and then subtract the set of numbers in `l` from it. Finally, it will use the `random.choice()` method to select a random element from the remaining set.\n",
        "\n",
        "This function will throw a `ValueError` if there are no numbers to choose from, which can happen if `l` contains all numbers from 0 to \\( n-1 \\)."
      ],
      "metadata": {
        "id": "FnuKs_G88B3h"
      }
    },
    {
      "cell_type": "markdown",
      "source": [
        "##Implementation:\n"
      ],
      "metadata": {
        "id": "wVoYg-DX8SzK"
      }
    },
    {
      "cell_type": "code",
      "execution_count": 1,
      "metadata": {
        "id": "QS9yGi2r7tWo"
      },
      "outputs": [],
      "source": [
        "import random\n",
        "\n",
        "def random_exclusive(n, l):\n",
        "    # Create a set of all numbers from 0 to n-1\n",
        "    all_numbers = set(range(n))\n",
        "\n",
        "    # Remove the numbers present in l\n",
        "    remaining_numbers = all_numbers - set(l)\n",
        "\n",
        "    # Ensure there are available numbers to choose from\n",
        "    if not remaining_numbers:\n",
        "        raise ValueError(\"No available number to select\")\n",
        "\n",
        "    # Return a random number from the remaining set\n",
        "    return random.choice(list(remaining_numbers))\n"
      ]
    },
    {
      "cell_type": "markdown",
      "source": [
        "##Testing:\n",
        "The following test cases will be considered:\n",
        "1. A standard case where the list `l` contains some, but not all, numbers in the range 0 to `n-1`.\n",
        "2. A case where `l` is empty, meaning all numbers in the range are valid.\n",
        "3. A case where `l` contains all numbers in the range, which should trigger the `ValueError`.\n",
        "4. Boundary cases, like when `n` is 1.\n",
        "\n",
        "This test harness includes assertions for each test case and a print statement to confirm if all tests pass successfully. The `random.seed(0)` line ensures that the random choices are reproducible, making the tests more reliable. If any assertion fails, it will raise an `AssertionError`, indicating a potential issue with the function."
      ],
      "metadata": {
        "id": "u5YmVcv-8k7_"
      }
    },
    {
      "cell_type": "code",
      "source": [
        "import random\n",
        "\n",
        "def random_exclusive(n, l):\n",
        "    all_numbers = set(range(n))\n",
        "    remaining_numbers = all_numbers - set(l)\n",
        "\n",
        "    if not remaining_numbers:\n",
        "        raise ValueError(\"No available number to select\")\n",
        "\n",
        "    return random.choice(list(remaining_numbers))\n",
        "\n",
        "def test_random_exclusive():\n",
        "    random.seed(0)  # Set a random seed for reproducibility\n",
        "\n",
        "    # Test 1: Standard case\n",
        "    assert random_exclusive(10, [1, 2, 3]) in set(range(10)) - {1, 2, 3}\n",
        "\n",
        "    # Test 2: Empty list\n",
        "    assert random_exclusive(5, []) in set(range(5))\n",
        "\n",
        "    # Test 3: List contains all numbers\n",
        "    try:\n",
        "        random_exclusive(3, [0, 1, 2])\n",
        "        assert False, \"ValueError not raised\"\n",
        "    except ValueError:\n",
        "        pass\n",
        "\n",
        "    # Test 4: Boundary case\n",
        "    assert random_exclusive(1, []) == 0\n",
        "\n",
        "    print(\"All tests passed!\")\n",
        "\n",
        "test_random_exclusive()\n"
      ],
      "metadata": {
        "colab": {
          "base_uri": "https://localhost:8080/"
        },
        "id": "EcvKIbwI8PDE",
        "outputId": "47a5657e-30f0-421e-905a-f9bf4f7a7c07"
      },
      "execution_count": 2,
      "outputs": [
        {
          "output_type": "stream",
          "name": "stdout",
          "text": [
            "All tests passed!\n"
          ]
        }
      ]
    },
    {
      "cell_type": "markdown",
      "source": [
        "##Bard:\n",
        "Bard seems to be able to see and use code that has just been run in a Colab!"
      ],
      "metadata": {
        "id": "CrHxyV979H1M"
      }
    },
    {
      "cell_type": "code",
      "source": [
        "# prompt: Given an integer n and a list of integers l, write a function that randomly generates a number from 0 to n-1 that isn't in l (uniform).\n",
        "\n",
        "import random\n",
        "def random_exclusive(n, l):\n",
        "    all_numbers = set(range(n))\n",
        "    remaining_numbers = all_numbers - set(l)\n",
        "\n",
        "    if not remaining_numbers:\n",
        "        raise ValueError(\"No available number to select\")\n",
        "\n",
        "    return random.choice(list(remaining_numbers))\n"
      ],
      "metadata": {
        "id": "9zuy46CA83hh"
      },
      "execution_count": 3,
      "outputs": []
    }
  ]
}