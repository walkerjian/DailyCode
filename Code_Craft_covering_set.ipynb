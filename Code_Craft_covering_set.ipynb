{
  "nbformat": 4,
  "nbformat_minor": 0,
  "metadata": {
    "colab": {
      "provenance": [],
      "authorship_tag": "ABX9TyP2TWqZ1gMD/zVXO3PSXf4h",
      "include_colab_link": true
    },
    "kernelspec": {
      "name": "python3",
      "display_name": "Python 3"
    },
    "language_info": {
      "name": "python"
    }
  },
  "cells": [
    {
      "cell_type": "markdown",
      "metadata": {
        "id": "view-in-github",
        "colab_type": "text"
      },
      "source": [
        "<a href=\"https://colab.research.google.com/github/walkerjian/DailyCode/blob/main/Code_Craft_covering_set.ipynb\" target=\"_parent\"><img src=\"https://colab.research.google.com/assets/colab-badge.svg\" alt=\"Open In Colab\"/></a>"
      ]
    },
    {
      "cell_type": "markdown",
      "source": [
        "##Problem:\n",
        "Given a set of closed intervals, find the smallest set of numbers that covers all the intervals. If there are multiple smallest sets, return any of them.\n",
        "\n",
        "For example, given the intervals [0, 3], [2, 6], [3, 4], [6, 9], one set of numbers that covers all these intervals is {3, 6}."
      ],
      "metadata": {
        "id": "eDDXFHEj8yGg"
      }
    },
    {
      "cell_type": "markdown",
      "source": [
        "##Solution:\n",
        "To solve this problem, we can use a greedy algorithm. Here's the general approach:\n",
        "\n",
        "1. **Sort the intervals:** First, we need to sort the intervals based on their end points.\n",
        "\n",
        "2. **Find the covering numbers:** Start with an empty set of numbers. For each interval, if the current set of numbers does not already cover this interval, add the end point of the interval to the set. This is because the end point is the last number that can cover the interval, and it might also cover subsequent intervals.\n",
        "\n",
        "Implementing this in Python would be straightforward. Let's write a function to do this.\n",
        "\n",
        "The function has returned `{3, 9}` as the set of numbers that covers all the given intervals `[0, 3], [2, 6], [3, 4], [6, 9]`. This is one of the possible smallest sets. It's important to note that there might be multiple valid solutions for this problem, and the function may return any one of them depending on how the intervals overlap."
      ],
      "metadata": {
        "id": "e91aIdQD88o8"
      }
    },
    {
      "cell_type": "markdown",
      "source": [
        "##Implementation:\n"
      ],
      "metadata": {
        "id": "29PtSauo9AZk"
      }
    },
    {
      "cell_type": "code",
      "execution_count": 1,
      "metadata": {
        "colab": {
          "base_uri": "https://localhost:8080/"
        },
        "id": "5HAOU8jt8SEZ",
        "outputId": "ad3d5d66-0b61-4d8d-be6a-7de073e83729"
      },
      "outputs": [
        {
          "output_type": "execute_result",
          "data": {
            "text/plain": [
              "{3, 9}"
            ]
          },
          "metadata": {},
          "execution_count": 1
        }
      ],
      "source": [
        "def find_covering_numbers(intervals):\n",
        "    # Sort the intervals by their end points\n",
        "    intervals.sort(key=lambda x: x[1])\n",
        "\n",
        "    # Initialize the set of covering numbers\n",
        "    covering_numbers = set()\n",
        "\n",
        "    # Go through each interval\n",
        "    for interval in intervals:\n",
        "        # Check if the current set of numbers does not cover this interval\n",
        "        if not any(num in range(interval[0], interval[1] + 1) for num in covering_numbers):\n",
        "            # Add the end point of the interval to the set\n",
        "            covering_numbers.add(interval[1])\n",
        "\n",
        "    return covering_numbers\n",
        "\n",
        "# Test the function with the given example\n",
        "test_intervals = [[0, 3], [2, 6], [3, 4], [6, 9]]\n",
        "find_covering_numbers(test_intervals)\n"
      ]
    },
    {
      "cell_type": "markdown",
      "source": [
        "##Testing:"
      ],
      "metadata": {
        "id": "84_yQ42B9IqO"
      }
    },
    {
      "cell_type": "code",
      "source": [
        "def is_covering_set(covering_numbers, intervals):\n",
        "    \"\"\"\n",
        "    Checks if the given set of numbers covers all intervals.\n",
        "\n",
        "    Args:\n",
        "    covering_numbers (set): A set of numbers.\n",
        "    intervals (list of lists): A list of intervals [start, end].\n",
        "\n",
        "    Returns:\n",
        "    bool: True if the set covers all intervals, False otherwise.\n",
        "    \"\"\"\n",
        "    for start, end in intervals:\n",
        "        if not any(num in range(start, end + 1) for num in covering_numbers):\n",
        "            return False\n",
        "    return True\n",
        "\n",
        "def test_find_covering_numbers():\n",
        "    \"\"\"\n",
        "    Test function for find_covering_numbers\n",
        "    \"\"\"\n",
        "    print(\"Running tests...\")\n",
        "\n",
        "    # Test cases\n",
        "    test_cases = [\n",
        "        ([[0, 3], [2, 6], [3, 4], [6, 9]]),\n",
        "        ([[1, 4], [2, 5], [7, 10]]),\n",
        "        ([[1, 2], [2, 3], [3, 4]]),\n",
        "        ([[10, 15], [12, 20], [18, 25]])\n",
        "    ]\n",
        "\n",
        "    # Run each test\n",
        "    for i, intervals in enumerate(test_cases, 1):\n",
        "        result = find_covering_numbers(intervals)\n",
        "        assert is_covering_set(result, intervals), f\"Test case {i} failed: the set {result} does not cover all intervals\"\n",
        "        print(f\"Test case {i} passed: the set {result} covers all intervals.\")\n",
        "\n",
        "    print(\"All tests passed!\")\n",
        "\n",
        "# Run the test harness\n",
        "test_find_covering_numbers()\n"
      ],
      "metadata": {
        "colab": {
          "base_uri": "https://localhost:8080/"
        },
        "id": "SulYTUDV9JGV",
        "outputId": "27ad031f-d18f-4212-fc62-da7775b33383"
      },
      "execution_count": 2,
      "outputs": [
        {
          "output_type": "stream",
          "name": "stdout",
          "text": [
            "Running tests...\n",
            "Test case 1 passed: the set {9, 3} covers all intervals.\n",
            "Test case 2 passed: the set {10, 4} covers all intervals.\n",
            "Test case 3 passed: the set {2, 4} covers all intervals.\n",
            "Test case 4 passed: the set {25, 15} covers all intervals.\n",
            "All tests passed!\n"
          ]
        }
      ]
    },
    {
      "cell_type": "code",
      "source": [
        "from itertools import combinations\n",
        "\n",
        "def generate_all_covering_sets(intervals):\n",
        "    \"\"\"\n",
        "    Generates all possible sets of numbers that cover all the given intervals.\n",
        "\n",
        "    Args:\n",
        "    intervals (list of lists): A list where each element is a list representing an interval [start, end].\n",
        "\n",
        "    Returns:\n",
        "    list of sets: A list of sets, where each set is a covering set for all intervals.\n",
        "    \"\"\"\n",
        "    # Extract all unique points from the intervals\n",
        "    unique_points = set()\n",
        "    for start, end in intervals:\n",
        "        unique_points.update(range(start, end + 1))\n",
        "\n",
        "    # Generate all combinations of these points\n",
        "    all_combinations = []\n",
        "    for r in range(1, len(unique_points) + 1):\n",
        "        all_combinations.extend(combinations(unique_points, r))\n",
        "\n",
        "    # Filter to find valid covering sets\n",
        "    valid_covering_sets = []\n",
        "    for combination in all_combinations:\n",
        "        if is_covering_set(set(combination), intervals):\n",
        "            valid_covering_sets.append(set(combination))\n",
        "\n",
        "    return valid_covering_sets\n",
        "\n",
        "# Example usage\n",
        "example_intervals = [[0, 3], [2, 6], [3, 4], [6, 9]]\n",
        "all_covering_sets = generate_all_covering_sets(example_intervals)\n",
        "#all_covering_sets\n",
        "all_covering_sets[:5]  # Display the first 5 sets for brevity"
      ],
      "metadata": {
        "colab": {
          "base_uri": "https://localhost:8080/"
        },
        "id": "S5ukMI8N-HYP",
        "outputId": "b50d4089-9370-4a2b-e299-c00d6cef30b1"
      },
      "execution_count": 7,
      "outputs": [
        {
          "output_type": "execute_result",
          "data": {
            "text/plain": [
              "[{3, 6}, {3, 7}, {3, 8}, {3, 9}, {0, 3, 6}]"
            ]
          },
          "metadata": {},
          "execution_count": 7
        }
      ]
    }
  ]
}