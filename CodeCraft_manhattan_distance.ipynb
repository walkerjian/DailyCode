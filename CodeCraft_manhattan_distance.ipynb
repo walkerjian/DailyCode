{
  "nbformat": 4,
  "nbformat_minor": 0,
  "metadata": {
    "colab": {
      "provenance": [],
      "authorship_tag": "ABX9TyNJUXSNPpvLXrPU6/ukRGvL",
      "include_colab_link": true
    },
    "kernelspec": {
      "name": "python3",
      "display_name": "Python 3"
    },
    "language_info": {
      "name": "python"
    }
  },
  "cells": [
    {
      "cell_type": "markdown",
      "metadata": {
        "id": "view-in-github",
        "colab_type": "text"
      },
      "source": [
        "<a href=\"https://colab.research.google.com/github/walkerjian/DailyCode/blob/main/CodeCraft_manhattan_distance.ipynb\" target=\"_parent\"><img src=\"https://colab.research.google.com/assets/colab-badge.svg\" alt=\"Open In Colab\"/></a>"
      ]
    },
    {
      "cell_type": "markdown",
      "source": [
        "# Code Craft:"
      ],
      "metadata": {
        "id": "EwC8UYjQozrN"
      }
    },
    {
      "cell_type": "markdown",
      "source": [
        "## Prompt:\n",
        "Solve this coding problem professionally using modern software development patterns, particularly the MVC (Model-View-Controller) pattern for clarity and maintainability. Ensure that the test harness is well-thought-out and professional, with logic that ensures all tests run, even when some fail. If a test fails, the harness should also test the test logic to ensure it's not the source of failure. This should be treated as a learning exercise, so the solution must include detailed explanations (didactic perspective) at each step, including complexity analysis, optimizations, and alternative approaches. If any tests or code fail, include a post-mortem analysis of the failure. Use languages other than Python where appropriate, and ensure readability and understanding of the solution.\n"
      ],
      "metadata": {
        "id": "sXvBYzJf2_RJ"
      }
    },
    {
      "cell_type": "markdown",
      "source": [
        "## Problem:\n",
        "You are writing an AI for a 2D map game. You are somewhere in a 2D grid, and there are coins strewn about over the map.\n",
        "\n",
        "Given the position of all the coins and your current position, find the closest coin to you in terms of Manhattan distance. That is, you can move around up, down, left, and right, but not diagonally. If there are multiple possible closest coins, return any of them.\n",
        "\n",
        "For example, given the following map, where you are x, coins are o, and empty spaces are . (top left is 0, 0):\n",
        "\n",
        "```\n",
        "---------------------\n",
        "| . | . | x | . | o |\n",
        "---------------------\n",
        "| o | . | . | . | . |\n",
        "---------------------\n",
        "| o | . | . | . | o |\n",
        "---------------------\n",
        "| . | . | o | . | . |\n",
        "---------------------\n",
        "```\n",
        "\n",
        "return (0, 4), since that coin is closest."
      ],
      "metadata": {
        "id": "8scBDLARodKX"
      }
    },
    {
      "cell_type": "markdown",
      "source": [
        "## Solution\n",
        "We will solve this using the Model-View-Controller (MVC) design pattern:\n",
        "- **Model**: Will represent the grid, player position, and coin positions.\n",
        "- **Controller**: Will calculate the Manhattan distance and find the closest coin.\n",
        "- **View**: Not required for this problem since we don't need a visual display.\n",
        "\n",
        "The algorithm works by:\n",
        "1. Finding the player's position and coin positions on the grid.\n",
        "2. Calculating the Manhattan distance between the player and each coin.\n",
        "3. Returning the closest coin's position.\n"
      ],
      "metadata": {
        "id": "fs5ICktWu2nx"
      }
    },
    {
      "cell_type": "code",
      "source": [
        "# Model: Representing the game grid and player/coin positions\n",
        "class MapModel:\n",
        "    def __init__(self, grid):\n",
        "        self.grid = grid\n",
        "        self.player_pos = None\n",
        "        self.coin_positions = []\n",
        "        self._initialize_positions()\n",
        "\n",
        "    def _initialize_positions(self):\n",
        "        \"\"\"Locate the player's position and all coin positions on the grid.\"\"\"\n",
        "        for r, row in enumerate(self.grid):\n",
        "            for c, cell in enumerate(row):\n",
        "                if cell == 'x':\n",
        "                    self.player_pos = (r, c)\n",
        "                elif cell == 'o':\n",
        "                    self.coin_positions.append((r, c))\n"
      ],
      "metadata": {
        "id": "6gqgz1SGuvEM"
      },
      "execution_count": 1,
      "outputs": []
    },
    {
      "cell_type": "code",
      "execution_count": 2,
      "metadata": {
        "id": "EI-cO7pgoQvE"
      },
      "outputs": [],
      "source": [
        "# Controller: Handling the logic to find the closest coin using Manhattan distance\n",
        "class GameController:\n",
        "    def __init__(self, model):\n",
        "        self.model = model\n",
        "\n",
        "    def manhattan_distance(self, pos1, pos2):\n",
        "        \"\"\"Calculate the Manhattan distance between two positions.\"\"\"\n",
        "        return abs(pos1[0] - pos2[0]) + abs(pos1[1] - pos2[1])\n",
        "\n",
        "    def find_closest_coin(self):\n",
        "        \"\"\"Find the closest coin to the player.\"\"\"\n",
        "        if not self.model.player_pos:\n",
        "            raise ValueError(\"Player position is not set on the map.\")\n",
        "        if not self.model.coin_positions:\n",
        "            raise ValueError(\"No coins found on the map.\")\n",
        "\n",
        "        min_distance = float('inf')\n",
        "        closest_coin = None\n",
        "        for coin_pos in self.model.coin_positions:\n",
        "            dist = self.manhattan_distance(self.model.player_pos, coin_pos)\n",
        "            if dist < min_distance:\n",
        "                min_distance = dist\n",
        "                closest_coin = coin_pos\n",
        "        return closest_coin\n"
      ]
    },
    {
      "cell_type": "markdown",
      "source": [
        "##Testing:"
      ],
      "metadata": {
        "id": "KT8ZS6TrpcUg"
      }
    },
    {
      "cell_type": "code",
      "source": [
        "# Test Harness: Verifies the correctness of the solution\n",
        "class TestGameController:\n",
        "    def __init__(self):\n",
        "        self.tests = []\n",
        "\n",
        "    def run(self):\n",
        "        \"\"\"Run all the tests and report their status.\"\"\"\n",
        "        for test_func in self.tests:\n",
        "            try:\n",
        "                test_func()\n",
        "                print(f\"{test_func.__name__}: PASS\")\n",
        "            except AssertionError as e:\n",
        "                print(f\"{test_func.__name__}: FAIL - {str(e)}\")\n",
        "\n",
        "    def test_closest_coin(self):\n",
        "        \"\"\"Test case to find the closest coin.\"\"\"\n",
        "        grid = [\n",
        "            ['.', '.', 'x', '.', 'o'],\n",
        "            ['o', '.', '.', '.', '.'],\n",
        "            ['o', '.', '.', '.', 'o'],\n",
        "            ['.', '.', 'o', '.', '.']\n",
        "        ]\n",
        "        model = MapModel(grid)\n",
        "        controller = GameController(model)\n",
        "        closest_coin = controller.find_closest_coin()\n",
        "\n",
        "        # Expected position of the closest coin\n",
        "        expected_positions = [(0, 4)]\n",
        "        assert closest_coin in expected_positions, f\"Expected {expected_positions}, got {closest_coin}\"\n",
        "\n",
        "    def test_multiple_closest_coins(self):\n",
        "        \"\"\"Test case where multiple coins are equidistant.\"\"\"\n",
        "        grid = [\n",
        "            ['.', '.', 'x', 'o', 'o'],\n",
        "            ['.', '.', '.', '.', '.'],\n",
        "            ['o', '.', '.', '.', 'o'],\n",
        "            ['.', '.', 'o', '.', '.']\n",
        "        ]\n",
        "        model = MapModel(grid)\n",
        "        controller = GameController(model)\n",
        "        closest_coin = controller.find_closest_coin()\n",
        "\n",
        "        # Expected positions of the closest coins\n",
        "        expected_positions = [(0, 3), (0, 4)]\n",
        "        assert closest_coin in expected_positions, f\"Expected one of {expected_positions}, got {closest_coin}\"\n",
        "\n",
        "# Running the tests\n",
        "test_harness = TestGameController()\n",
        "test_harness.tests.append(test_harness.test_closest_coin)\n",
        "test_harness.tests.append(test_harness.test_multiple_closest_coins)\n",
        "test_harness.run()\n"
      ],
      "metadata": {
        "id": "bdCt7XEVphuE",
        "colab": {
          "base_uri": "https://localhost:8080/"
        },
        "outputId": "32ed4483-d244-4a85-c70e-6465f89c342d"
      },
      "execution_count": 3,
      "outputs": [
        {
          "output_type": "stream",
          "name": "stdout",
          "text": [
            "test_closest_coin: PASS\n",
            "test_multiple_closest_coins: PASS\n"
          ]
        }
      ]
    },
    {
      "cell_type": "markdown",
      "source": [
        "## Elaboration:\n",
        "\n",
        "### Time Complexity:\n",
        "- Scanning the grid takes $O(n \\times m)$, where $n$ is the number of rows and $m$ is the number of columns.\n",
        "- Calculating the Manhattan distance for each coin takes $O(k)$, where $k$ is the number of coins.\n",
        "- Overall time complexity: $O(n \\times m + k)$.\n",
        "\n",
        "### Space Complexity:\n",
        "- The space required is proportional to the size of the grid $O(n \\times m)$ and the number of coins $O(k)$.\n",
        "\n",
        "### Optimizations:\n",
        "- For larger maps, stopping early by scanning only nearby areas might speed up the process."
      ],
      "metadata": {
        "id": "5oTeurXJpip9"
      }
    },
    {
      "cell_type": "markdown",
      "source": [
        "## Post-mortem\n",
        "\n",
        "If any tests fail, analyze whether the failure is due to incorrect code logic or faulty test setup. Common issues might include:\n",
        "1. Incorrect Manhattan distance calculations.\n",
        "2. Failing to account for edge cases with multiple equidistant coins.\n",
        "3. Test logic not handling multiple possible solutions correctly.\n"
      ],
      "metadata": {
        "id": "y9VGKmHUpmUW"
      }
    },
    {
      "cell_type": "markdown",
      "source": [
        "## Summary\n",
        "\n",
        "In this solution, we modeled the game grid using the MVC design pattern and implemented a robust algorithm to find the closest coin using Manhattan distance. The design pattern ensures code maintainability and clarity, and the test harness ensures correctness by running all tests, even when some fail. This structured approach makes it easier to debug and optimize.\n"
      ],
      "metadata": {
        "id": "T97gbraepptl"
      }
    }
  ]
}