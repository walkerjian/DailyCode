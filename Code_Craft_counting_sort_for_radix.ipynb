{
  "nbformat": 4,
  "nbformat_minor": 0,
  "metadata": {
    "colab": {
      "provenance": [],
      "authorship_tag": "ABX9TyNIEUcyZ0OnqGaO/m0rqRBw",
      "include_colab_link": true
    },
    "kernelspec": {
      "name": "python3",
      "display_name": "Python 3"
    },
    "language_info": {
      "name": "python"
    }
  },
  "cells": [
    {
      "cell_type": "markdown",
      "metadata": {
        "id": "view-in-github",
        "colab_type": "text"
      },
      "source": [
        "<a href=\"https://colab.research.google.com/github/walkerjian/DailyCode/blob/main/Code_Craft_counting_sort_for_radix.ipynb\" target=\"_parent\"><img src=\"https://colab.research.google.com/assets/colab-badge.svg\" alt=\"Open In Colab\"/></a>"
      ]
    },
    {
      "cell_type": "markdown",
      "source": [
        "Given an array of a million integers between zero and a billion, out of order, how can you efficiently sort it? Assume that you cannot store an array of a billion elements in memory."
      ],
      "metadata": {
        "id": "tmEiPvdK5-1G"
      }
    },
    {
      "cell_type": "markdown",
      "source": [
        "To efficiently sort an array of a million integers where each integer ranges between zero and a billion, and considering that you cannot store an array of a billion elements in memory, you can use the following approach:\n",
        "\n",
        "### Radix Sort with Counting Sort\n",
        "Given the constraints, a suitable approach is to use **Radix Sort** combined with **Counting Sort**. Radix Sort is efficient for sorting integers and works well with large ranges when combined with Counting Sort as a subroutine.\n",
        "\n",
        "#### Radix Sort Overview\n",
        "Radix Sort processes each digit of the numbers starting from the least significant digit to the most significant digit. Since we have integers, we can use Counting Sort to sort based on individual digits.\n",
        "\n",
        "#### Steps to Implement Radix Sort\n",
        "\n",
        "1. **Determine the number of digits** in the largest number. Since the range is up to a billion, we have up to 10 digits (0 to 999,999,999).\n",
        "\n",
        "2. **Iterate over each digit** (from least significant to most significant) and use Counting Sort to sort the array based on the current digit.\n",
        "\n",
        "3. **Use Counting Sort** to sort numbers based on the current digit.\n",
        "\n",
        "Explanation:\n",
        "\n",
        "1. **counting_sort_for_radix** function:\n",
        "   - Counts the occurrences of digits at the current exponent (exp).\n",
        "   - Uses the count array to determine the position of each element in the output array.\n",
        "   - Builds the output array based on the sorted order of the current digit.\n",
        "   - Copies the sorted output back to the original array.\n",
        "\n",
        "2. **radix_sort** function:\n",
        "   - Determines the maximum number to find the number of digits.\n",
        "   - Iterates over each digit position (units, tens, hundreds, etc.) and applies Counting Sort for each position.\n",
        "\n",
        "This approach ensures efficient sorting even with the large range of numbers, as Radix Sort combined with Counting Sort has a linear time complexity with respect to the number of digits and the size of the input array. This method effectively handles the large range without requiring excessive memory."
      ],
      "metadata": {
        "id": "le2Du4Qi6Ewo"
      }
    },
    {
      "cell_type": "code",
      "execution_count": 2,
      "metadata": {
        "colab": {
          "base_uri": "https://localhost:8080/"
        },
        "id": "Dw3xEw-V54K0",
        "outputId": "fa7fc6a0-6fc1-4ed3-d2af-311030af1fb8"
      },
      "outputs": [
        {
          "output_type": "stream",
          "name": "stdout",
          "text": [
            "[123, 456, 789, 101112, 131415, 161718, 192021, 222324, 252627, 282930]\n"
          ]
        }
      ],
      "source": [
        "def counting_sort_for_radix(arr, exp):\n",
        "    n = len(arr)\n",
        "    output = [0] * n\n",
        "    count = [0] * 10\n",
        "\n",
        "    # Count occurrences of each digit\n",
        "    for i in range(n):\n",
        "        index = (arr[i] // exp) % 10\n",
        "        count[index] += 1\n",
        "\n",
        "    # Change count[i] so it contains the position of this digit in output[]\n",
        "    for i in range(1, 10):\n",
        "        count[i] += count[i - 1]\n",
        "\n",
        "    # Build the output array\n",
        "    for i in range(n - 1, -1, -1):\n",
        "        index = (arr[i] // exp) % 10\n",
        "        output[count[index] - 1] = arr[i]\n",
        "        count[index] -= 1\n",
        "\n",
        "    # Copy the output array to arr[], so that arr now contains sorted numbers\n",
        "    for i in range(n):\n",
        "        arr[i] = output[i]\n",
        "\n",
        "def radix_sort(arr):\n",
        "    # Find the maximum number to know the number of digits\n",
        "    max_num = max(arr)\n",
        "\n",
        "    # Do counting sort for every digit. exp is 10^i where i is the current digit number\n",
        "    exp = 1\n",
        "    while max_num // exp > 0:\n",
        "        counting_sort_for_radix(arr, exp)\n",
        "        exp *= 10\n",
        "\n",
        "# Example usage\n",
        "arr = [123, 456, 789, 101112, 131415, 161718, 192021, 222324, 252627, 282930]\n",
        "radix_sort(arr)\n",
        "print(arr)"
      ]
    }
  ]
}