{
  "nbformat": 4,
  "nbformat_minor": 0,
  "metadata": {
    "colab": {
      "provenance": [],
      "authorship_tag": "ABX9TyOpZeaX186MfwSnpLEvxi7s",
      "include_colab_link": true
    },
    "kernelspec": {
      "name": "python3",
      "display_name": "Python 3"
    },
    "language_info": {
      "name": "python"
    }
  },
  "cells": [
    {
      "cell_type": "markdown",
      "metadata": {
        "id": "view-in-github",
        "colab_type": "text"
      },
      "source": [
        "<a href=\"https://colab.research.google.com/github/walkerjian/DailyCode/blob/main/AnagramIndices.ipynb\" target=\"_parent\"><img src=\"https://colab.research.google.com/assets/colab-badge.svg\" alt=\"Open In Colab\"/></a>"
      ]
    },
    {
      "cell_type": "markdown",
      "source": [
        "# Anagram Indices\n",
        "Given a word W and a string S, find all starting indices in S which are anagrams of W.\n",
        "\n",
        "For example, given that W is \"ab\", and S is \"abxaba\", return 0, 3, and 4.\n"
      ],
      "metadata": {
        "id": "feXFt84JL7Dr"
      }
    },
    {
      "cell_type": "markdown",
      "source": [
        "### Solution via MVC (Model-View-Controller): Python\n",
        "\n",
        "- **Model**: We have the `AnagramIndicesModel` class with the `find_anagram_indices` method. It uses a sliding window technique to check for anagram indices.\n",
        "- **View**: The `AnagramIndicesView` class has a method `display_result` to show the output.\n",
        "- **Controller**: The `AnagramIndicesController` class controls the interaction between the model and the view. It also contains the test harness with ten test cases."
      ],
      "metadata": {
        "id": "_xd3-QEmL-th"
      }
    },
    {
      "cell_type": "code",
      "execution_count": 1,
      "metadata": {
        "colab": {
          "base_uri": "https://localhost:8080/"
        },
        "id": "Kn35H6kAL3QA",
        "outputId": "b7631689-9ec3-4f99-93e2-53f9e9ecfea4"
      },
      "outputs": [
        {
          "output_type": "stream",
          "name": "stdout",
          "text": [
            "For word 'ab' in string 'abxaba', anagram indices are: [0, 3, 4]\n",
            "For word 'test' in string 'thisisateststringfortestcases', anagram indices are: [7, 20]\n",
            "For word 'an' in string 'banana', anagram indices are: [1, 2, 3, 4]\n",
            "For word 'z' in string 'zoo', anagram indices are: [0]\n",
            "For word 'oo' in string 'zoo', anagram indices are: [1]\n",
            "For word 'abc' in string 'ababcacabc', anagram indices are: [2, 3, 6, 7]\n",
            "For word 'xyz' in string 'zyxwvuts', anagram indices are: [0]\n",
            "For word 'mnop' in string 'ponmlkjihg', anagram indices are: [0]\n",
            "For word 'hello' in string 'world', anagram indices are: []\n",
            "For word 'aa' in string 'aaa', anagram indices are: [0, 1]\n"
          ]
        }
      ],
      "source": [
        "from collections import Counter\n",
        "\n",
        "class AnagramIndicesModel:\n",
        "    \"\"\"Model to find all starting indices in S which are anagrams of W.\"\"\"\n",
        "\n",
        "    def find_anagram_indices(self, W: str, S: str) -> list[int]:\n",
        "        \"\"\"\n",
        "        Find the starting indices of substrings in S which are anagrams of W.\n",
        "\n",
        "        Parameters:\n",
        "        - W (str): The word.\n",
        "        - S (str): The string.\n",
        "\n",
        "        Returns:\n",
        "        - list[int]: List of starting indices.\n",
        "        \"\"\"\n",
        "        if not W or not S or len(W) > len(S):\n",
        "            return []\n",
        "\n",
        "        # Counter for word W\n",
        "        W_counter = Counter(W)\n",
        "\n",
        "        # Counter for the current sliding window in S\n",
        "        window_counter = Counter(S[:len(W)])\n",
        "\n",
        "        indices = []\n",
        "\n",
        "        # Slide the window\n",
        "        for i in range(len(S) - len(W) + 1):\n",
        "            if W_counter == window_counter:\n",
        "                indices.append(i)\n",
        "            if i + len(W) < len(S):\n",
        "                # Remove the character going out of the window\n",
        "                if window_counter[S[i]] == 1:\n",
        "                    del window_counter[S[i]]\n",
        "                else:\n",
        "                    window_counter[S[i]] -= 1\n",
        "\n",
        "                # Add the character coming into the window\n",
        "                window_counter[S[i + len(W)]] += 1\n",
        "\n",
        "        return indices\n",
        "\n",
        "\n",
        "class AnagramIndicesView:\n",
        "    \"\"\"View to display the results.\"\"\"\n",
        "\n",
        "    @staticmethod\n",
        "    def display_result(W: str, S: str, result: list[int]):\n",
        "        \"\"\"Display the starting indices of substrings in S which are anagrams of W.\"\"\"\n",
        "        print(f\"For word '{W}' in string '{S}', anagram indices are: {result}\")\n",
        "\n",
        "\n",
        "class AnagramIndicesController:\n",
        "    \"\"\"Controller to interact between model and view.\"\"\"\n",
        "\n",
        "    def __init__(self):\n",
        "        self.model = AnagramIndicesModel()\n",
        "        self.view = AnagramIndicesView()\n",
        "\n",
        "    def get_anagram_indices(self, W: str, S: str):\n",
        "        \"\"\"Get anagram indices and display the results.\"\"\"\n",
        "        result = self.model.find_anagram_indices(W, S)\n",
        "        self.view.display_result(W, S, result)\n",
        "\n",
        "    def test(self):\n",
        "        \"\"\"Test harness for the solution.\"\"\"\n",
        "        test_cases = [\n",
        "            (\"ab\", \"abxaba\"),\n",
        "            (\"test\", \"thisisateststringfortestcases\"),\n",
        "            (\"an\", \"banana\"),\n",
        "            (\"z\", \"zoo\"),\n",
        "            (\"oo\", \"zoo\"),\n",
        "            (\"abc\", \"ababcacabc\"),\n",
        "            (\"xyz\", \"zyxwvuts\"),\n",
        "            (\"mnop\", \"ponmlkjihg\"),\n",
        "            (\"hello\", \"world\"),\n",
        "            (\"aa\", \"aaa\")\n",
        "        ]\n",
        "\n",
        "        for W, S in test_cases:\n",
        "            self.get_anagram_indices(W, S)\n",
        "\n",
        "\n",
        "# Running the test harness\n",
        "controller = AnagramIndicesController()\n",
        "controller.test()\n"
      ]
    },
    {
      "cell_type": "markdown",
      "source": [
        "### More Efficient Method: Python"
      ],
      "metadata": {
        "id": "iizFxHEvPInO"
      }
    },
    {
      "cell_type": "code",
      "source": [
        "from collections import Counter, defaultdict\n",
        "import time\n",
        "\n",
        "def find_anagram_indices(W: str, S: str) -> list[int]:\n",
        "    \"\"\"\n",
        "    Find the starting indices of substrings in S which are anagrams of W.\n",
        "\n",
        "    This function uses the sliding window technique combined with character counters\n",
        "    to efficiently find anagrams.\n",
        "\n",
        "    Parameters:\n",
        "    - W (str): The word.\n",
        "    - S (str): The string.\n",
        "\n",
        "    Returns:\n",
        "    - list[int]: List of starting indices.\n",
        "    \"\"\"\n",
        "\n",
        "    if not W or not S or len(W) > len(S):\n",
        "        return []\n",
        "\n",
        "    W_counter = Counter(W)\n",
        "\n",
        "    window_counter = defaultdict(int)\n",
        "    for ch in S[:len(W)]:\n",
        "        window_counter[ch] += 1\n",
        "\n",
        "    indices = []\n",
        "\n",
        "    for i in range(len(S) - len(W) + 1):\n",
        "        if W_counter == window_counter:\n",
        "            indices.append(i)\n",
        "\n",
        "        window_counter[S[i]] -= 1\n",
        "        if window_counter[S[i]] == 0:\n",
        "            del window_counter[S[i]]\n",
        "\n",
        "        if i + len(W) < len(S):\n",
        "            window_counter[S[i + len(W)]] += 1\n",
        "\n",
        "    return indices\n",
        "\n",
        "\n",
        "def test_find_anagram_indices():\n",
        "    \"\"\"\n",
        "    Test harness for the find_anagram_indices function.\n",
        "\n",
        "    This function runs multiple test cases against the find_anagram_indices function\n",
        "    and prints the results. It also times the execution and prints the elapsed time.\n",
        "    \"\"\"\n",
        "\n",
        "    test_cases = [\n",
        "        (\"ab\", \"abxaba\"),\n",
        "        (\"test\", \"thisisateststringfortestcases\"),\n",
        "        (\"an\", \"banana\"),\n",
        "        (\"z\", \"zoo\"),\n",
        "        (\"oo\", \"zoo\"),\n",
        "        (\"abc\", \"ababcacabc\"),\n",
        "        (\"xyz\", \"zyxwvuts\"),\n",
        "        (\"mnop\", \"ponmlkjihg\"),\n",
        "        (\"hello\", \"world\"),\n",
        "        (\"aa\", \"aaa\")\n",
        "    ]\n",
        "\n",
        "    # Record start time\n",
        "    start_time = time.time()\n",
        "\n",
        "    for W, S in test_cases:\n",
        "        result = find_anagram_indices(W, S)\n",
        "        print(f\"For word '{W}' in string '{S}', anagram indices are: {result}\")\n",
        "\n",
        "    # Calculate and print elapsed time\n",
        "    elapsed_time = time.time() - start_time\n",
        "    print(f\"Elapsed time: {elapsed_time:.4f} seconds.\")\n",
        "\n",
        "# Running the test harness\n",
        "test_find_anagram_indices()\n"
      ],
      "metadata": {
        "colab": {
          "base_uri": "https://localhost:8080/"
        },
        "id": "vYhUGg1nPQcA",
        "outputId": "e314c23a-0b41-4718-adfc-9e5463914277"
      },
      "execution_count": 4,
      "outputs": [
        {
          "output_type": "stream",
          "name": "stdout",
          "text": [
            "For word 'ab' in string 'abxaba', anagram indices are: [0, 3, 4]\n",
            "For word 'test' in string 'thisisateststringfortestcases', anagram indices are: [7, 20]\n",
            "For word 'an' in string 'banana', anagram indices are: [1, 2, 3, 4]\n",
            "For word 'z' in string 'zoo', anagram indices are: [0]\n",
            "For word 'oo' in string 'zoo', anagram indices are: [1]\n",
            "For word 'abc' in string 'ababcacabc', anagram indices are: [2, 3, 6, 7]\n",
            "For word 'xyz' in string 'zyxwvuts', anagram indices are: [0]\n",
            "For word 'mnop' in string 'ponmlkjihg', anagram indices are: [0]\n",
            "For word 'hello' in string 'world', anagram indices are: []\n",
            "For word 'aa' in string 'aaa', anagram indices are: [0, 1]\n",
            "Elapsed time: 0.0058 seconds.\n"
          ]
        }
      ]
    },
    {
      "cell_type": "markdown",
      "source": [
        "###More Efficient Method: C++"
      ],
      "metadata": {
        "id": "w4tcGDi7Ojdo"
      }
    },
    {
      "cell_type": "code",
      "source": [
        "%%writefile anagram_indices.cpp\n",
        "\n",
        "#include <iostream>\n",
        "#include <vector>\n",
        "#include <unordered_map>\n",
        "#include <string>\n",
        "#include <chrono>  // For timing\n",
        "\n",
        "std::vector<int> find_anagram_indices(const std::string& W, const std::string& S) {\n",
        "    if (W.empty() || S.empty() || W.size() > S.size()) {\n",
        "        return {};\n",
        "    }\n",
        "\n",
        "    std::unordered_map<char, int> W_counter, window_counter;\n",
        "    for (char ch : W) {\n",
        "        W_counter[ch]++;\n",
        "    }\n",
        "\n",
        "    for (int i = 0; i < W.size(); i++) {\n",
        "        window_counter[S[i]]++;\n",
        "    }\n",
        "\n",
        "    std::vector<int> indices;\n",
        "    for (int i = 0; i <= S.size() - W.size(); i++) {\n",
        "        if (W_counter == window_counter) {\n",
        "            indices.push_back(i);\n",
        "        }\n",
        "\n",
        "        window_counter[S[i]]--;\n",
        "        if (window_counter[S[i]] == 0) {\n",
        "            window_counter.erase(S[i]);\n",
        "        }\n",
        "\n",
        "        if (i + W.size() < S.size()) {\n",
        "            window_counter[S[i + W.size()]]++;\n",
        "        }\n",
        "    }\n",
        "    return indices;\n",
        "}\n",
        "\n",
        "void test_find_anagram_indices() {\n",
        "    std::vector<std::pair<std::string, std::string>> test_cases = {\n",
        "        {\"ab\", \"abxaba\"},\n",
        "        {\"test\", \"thisisateststringfortestcases\"},\n",
        "        {\"an\", \"banana\"},\n",
        "        {\"z\", \"zoo\"},\n",
        "        {\"oo\", \"zoo\"},\n",
        "        {\"abc\", \"ababcacabc\"},\n",
        "        {\"xyz\", \"zyxwvuts\"},\n",
        "        {\"mnop\", \"ponmlkjihg\"},\n",
        "        {\"hello\", \"world\"},\n",
        "        {\"aa\", \"aaa\"}\n",
        "    };\n",
        "\n",
        "    for (auto& [W, S] : test_cases) {\n",
        "        auto result = find_anagram_indices(W, S);\n",
        "        std::cout << \"For word '\" << W << \"' in string '\" << S << \"', anagram indices are: \";\n",
        "        for (int index : result) {\n",
        "            std::cout << index << \" \";\n",
        "        }\n",
        "        std::cout << std::endl;\n",
        "    }\n",
        "}\n",
        "\n",
        "int main() {\n",
        "    // Record start time\n",
        "    auto start = std::chrono::high_resolution_clock::now();\n",
        "\n",
        "    // Run the test harness\n",
        "    test_find_anagram_indices();\n",
        "\n",
        "    // Record end time\n",
        "    auto finish = std::chrono::high_resolution_clock::now();\n",
        "    std::chrono::duration<double> elapsed = finish - start;\n",
        "    std::cout << \"Elapsed time: \" << elapsed.count() << \" seconds.\" << std::endl;\n",
        "    return 0;\n",
        "}\n"
      ],
      "metadata": {
        "colab": {
          "base_uri": "https://localhost:8080/"
        },
        "id": "acyT1S2pOni4",
        "outputId": "9d71cef3-702a-4612-defa-7d1f201f0f6d"
      },
      "execution_count": 2,
      "outputs": [
        {
          "output_type": "stream",
          "name": "stdout",
          "text": [
            "Writing anagram_indices.cpp\n"
          ]
        }
      ]
    },
    {
      "cell_type": "code",
      "source": [
        "!g++ anagram_indices.cpp -o anagram_indices_output\n",
        "!./anagram_indices_output"
      ],
      "metadata": {
        "colab": {
          "base_uri": "https://localhost:8080/"
        },
        "id": "XoMQLqGaOrJ1",
        "outputId": "0d89048a-f767-455d-8054-91fe55862490"
      },
      "execution_count": 3,
      "outputs": [
        {
          "output_type": "stream",
          "name": "stdout",
          "text": [
            "For word 'ab' in string 'abxaba', anagram indices are: 0 3 4 \n",
            "For word 'test' in string 'thisisateststringfortestcases', anagram indices are: 7 20 \n",
            "For word 'an' in string 'banana', anagram indices are: 1 2 3 4 \n",
            "For word 'z' in string 'zoo', anagram indices are: 0 \n",
            "For word 'oo' in string 'zoo', anagram indices are: 1 \n",
            "For word 'abc' in string 'ababcacabc', anagram indices are: 2 3 6 7 \n",
            "For word 'xyz' in string 'zyxwvuts', anagram indices are: 0 \n",
            "For word 'mnop' in string 'ponmlkjihg', anagram indices are: 0 \n",
            "For word 'hello' in string 'world', anagram indices are: \n",
            "For word 'aa' in string 'aaa', anagram indices are: 0 1 \n",
            "Elapsed time: 0.00021012 seconds.\n"
          ]
        }
      ]
    },
    {
      "cell_type": "markdown",
      "source": [
        "### Discussion of Timing Results\n",
        "The results confirm a common observation about the efficiency of Python versus C++:\n",
        "\n",
        "1. **Correctness**: Both the Python and C++ implementations return the same results for the test cases, which confirms the correctness of both solutions.\n",
        "\n",
        "2. **Performance**: The C++ solution is significantly faster than the Python solution. Even though the Python solution is algorithmically efficient, the raw execution speed of C++ outpaces it due to C++ being a compiled language with more direct access to system resources and optimizations. The difference becomes more pronounced with larger test cases or larger datasets.\n",
        "\n",
        "From these results, we can conclude:\n",
        "\n",
        "- If development speed, readability, and ease of maintenance are priorities, Python is an excellent choice.\n",
        "- If raw performance, especially for intensive computations or processing large datasets, is a priority, C++ would be more suitable.\n",
        "\n",
        "It's also worth noting that for many real-world applications, the difference in execution time between Python and C++ (a few milliseconds) might not be noticeable or critical. The choice often depends on the specific requirements and constraints of the project."
      ],
      "metadata": {
        "id": "_gC1f7-YP3PE"
      }
    }
  ]
}