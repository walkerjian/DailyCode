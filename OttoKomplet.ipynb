{
  "nbformat": 4,
  "nbformat_minor": 0,
  "metadata": {
    "colab": {
      "provenance": [],
      "authorship_tag": "ABX9TyN8Ke4fEbwo96uKAMnIiuP7",
      "include_colab_link": true
    },
    "kernelspec": {
      "name": "python3",
      "display_name": "Python 3"
    },
    "language_info": {
      "name": "python"
    }
  },
  "cells": [
    {
      "cell_type": "markdown",
      "metadata": {
        "id": "view-in-github",
        "colab_type": "text"
      },
      "source": [
        "<a href=\"https://colab.research.google.com/github/walkerjian/DailyCode/blob/main/OttoKomplet.ipynb\" target=\"_parent\"><img src=\"https://colab.research.google.com/assets/colab-badge.svg\" alt=\"Open In Colab\"/></a>"
      ]
    },
    {
      "cell_type": "code",
      "execution_count": 1,
      "metadata": {
        "colab": {
          "base_uri": "https://localhost:8080/"
        },
        "id": "CxbDYaq70mCr",
        "outputId": "a55bbc03-242f-44ba-e657-cbcf9fa37274"
      },
      "outputs": [
        {
          "output_type": "stream",
          "name": "stdout",
          "text": [
            "Test Case 1:\n",
            "Set of strings: ['dog', 'deer', 'deal']\n",
            "Query string: de\n",
            "Passed\n",
            "\n",
            "Test Case 2:\n",
            "Set of strings: ['cat', 'car', 'caterpillar']\n",
            "Query string: d\n",
            "Passed\n",
            "\n",
            "Test Case 3:\n",
            "Set of strings: ['apple', 'ape', 'apricot']\n",
            "Query string: a\n",
            "Passed\n",
            "\n",
            "Test Case 4:\n",
            "Set of strings: ['bat', 'ball', 'basket']\n",
            "Query string: c\n",
            "Passed\n",
            "\n",
            "Test Case 5:\n",
            "Set of strings: ['sun', 'sea', 'sand']\n",
            "Query string: \n",
            "Passed\n",
            "\n",
            "Test Case 6:\n",
            "Set of strings: []\n",
            "Query string: anything\n",
            "Passed\n",
            "\n",
            "All Test Cases Passed!\n"
          ]
        }
      ],
      "source": [
        "from typing import List\n",
        "\n",
        "# Trie Node class representing a character in the Trie.\n",
        "class TrieNode:\n",
        "    def __init__(self):\n",
        "        self.children = {}\n",
        "        self.is_end_of_word = False\n",
        "\n",
        "# Trie class represents the Trie data structure.\n",
        "class Trie:\n",
        "    def __init__(self):\n",
        "        self.root = TrieNode()\n",
        "\n",
        "    def insert(self, word: str) -> None:\n",
        "        node = self.root\n",
        "        for char in word:\n",
        "            if char not in node.children:\n",
        "                node.children[char] = TrieNode()\n",
        "            node = node.children[char]\n",
        "        node.is_end_of_word = True\n",
        "\n",
        "    def search(self, prefix: str) -> List[str]:\n",
        "        node = self.root\n",
        "        for char in prefix:\n",
        "            if char not in node.children:\n",
        "                return []\n",
        "            node = node.children[char]\n",
        "        result = []\n",
        "        self._dfs(node, prefix, result)\n",
        "        return result\n",
        "\n",
        "    def _dfs(self, node: TrieNode, current_word: str, result: List[str]) -> None:\n",
        "        if node.is_end_of_word:\n",
        "            result.append(current_word)\n",
        "        for char, child_node in node.children.items():\n",
        "            self._dfs(child_node, current_word + char, result)\n",
        "\n",
        "# AutocompleteController class handles interaction between Model and View.\n",
        "class AutocompleteController:\n",
        "    def __init__(self):\n",
        "        self.trie = Trie()\n",
        "\n",
        "    def insert_words(self, words: List[str]) -> None:\n",
        "        for word in words:\n",
        "            self.trie.insert(word)\n",
        "\n",
        "    def search_words(self, prefix: str) -> List[str]:\n",
        "        return self.trie.search(prefix)\n",
        "\n",
        "# View function to display results.\n",
        "def autocomplete_view(prefix: str, results: List[str]) -> None:\n",
        "    print(f\"Autocomplete results for prefix '{prefix}':\")\n",
        "    if results:\n",
        "        for result in results:\n",
        "            print(f\"- {result}\")\n",
        "    else:\n",
        "        print(\"No results found.\")\n",
        "\n",
        "# Test suite for the autocomplete system.\n",
        "def test_autocomplete_system():\n",
        "    test_cases = [\n",
        "        ([\"dog\", \"deer\", \"deal\"], \"de\", [\"deer\", \"deal\"]),\n",
        "        ([\"cat\", \"car\", \"caterpillar\"], \"d\", []),\n",
        "        ([\"apple\", \"ape\", \"apricot\"], \"a\", [\"apple\", \"ape\", \"apricot\"]),\n",
        "        ([\"bat\", \"ball\", \"basket\"], \"c\", []),\n",
        "        ([\"sun\", \"sea\", \"sand\"], \"\", [\"sun\", \"sea\", \"sand\"]),\n",
        "        ([], \"anything\", [])\n",
        "    ]\n",
        "\n",
        "    for idx, (words, prefix, expected) in enumerate(test_cases, 1):\n",
        "        print(f\"Test Case {idx}:\")\n",
        "        print(f\"Set of strings: {words}\")\n",
        "        print(f\"Query string: {prefix}\")\n",
        "        controller = AutocompleteController()\n",
        "        controller.insert_words(words)\n",
        "        result = controller.search_words(prefix)\n",
        "        assert result == expected, f\"Failed: Expected {expected}, Got {result}\"\n",
        "        print(\"Passed\\n\")\n",
        "\n",
        "    print(\"All Test Cases Passed!\")\n",
        "\n",
        "# Run the test suite.\n",
        "test_autocomplete_system()\n"
      ]
    }
  ]
}