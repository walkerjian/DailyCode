{
  "nbformat": 4,
  "nbformat_minor": 0,
  "metadata": {
    "colab": {
      "provenance": [],
      "authorship_tag": "ABX9TyNhpjlBFk9Fd8b3wP6o2Rmj",
      "include_colab_link": true
    },
    "kernelspec": {
      "name": "python3",
      "display_name": "Python 3"
    },
    "language_info": {
      "name": "python"
    }
  },
  "cells": [
    {
      "cell_type": "markdown",
      "metadata": {
        "id": "view-in-github",
        "colab_type": "text"
      },
      "source": [
        "<a href=\"https://colab.research.google.com/github/walkerjian/DailyCode/blob/main/tree_depth.ipynb\" target=\"_parent\"><img src=\"https://colab.research.google.com/assets/colab-badge.svg\" alt=\"Open In Colab\"/></a>"
      ]
    },
    {
      "cell_type": "markdown",
      "source": [
        "##Problem:\n",
        "You are given a binary tree in a peculiar string representation. Each node is written in the form (lr), where l corresponds to the left child and r corresponds to the right child.\n",
        "\n",
        "If either l or r is null, it will be represented as a zero. Otherwise, it will be represented by a new (lr) pair.\n",
        "\n",
        "Here are a few examples:\n",
        "\n",
        "A root node with no children: (00)\n",
        "A root node with two children: ((00)(00))\n",
        "An unbalanced tree with three consecutive left children: ((((00)0)0)0)\n",
        "Given this representation, determine the depth of the tree."
      ],
      "metadata": {
        "id": "VsV4xw18ha0Y"
      }
    },
    {
      "cell_type": "markdown",
      "source": [
        "##Solution:"
      ],
      "metadata": {
        "id": "i0Rk2F1vhjAU"
      }
    },
    {
      "cell_type": "code",
      "execution_count": 1,
      "metadata": {
        "colab": {
          "base_uri": "https://localhost:8080/"
        },
        "id": "UPXQBwhKW-Gg",
        "outputId": "2d56de85-f3d0-4d02-bd1f-45bc3650e9a1"
      },
      "outputs": [
        {
          "output_type": "stream",
          "name": "stdout",
          "text": [
            "The depth of the tree is: 2\n"
          ]
        }
      ],
      "source": [
        "def tree_depth(tree_string):\n",
        "    max_depth = 0\n",
        "    current_depth = 0\n",
        "\n",
        "    for char in tree_string:\n",
        "        if char == '(':\n",
        "            current_depth += 1\n",
        "            max_depth = max(max_depth, current_depth)\n",
        "        elif char == ')':\n",
        "            current_depth -= 1\n",
        "\n",
        "    return max_depth\n",
        "\n",
        "# You can use this function to find the depth of any tree represented by a string.\n",
        "# Here's how you would call this function:\n",
        "\n",
        "example_tree = \"((00)(00))\"  # Replace this with your tree representation\n",
        "depth = tree_depth(example_tree)\n",
        "print(f\"The depth of the tree is: {depth}\")\n"
      ]
    }
  ]
}