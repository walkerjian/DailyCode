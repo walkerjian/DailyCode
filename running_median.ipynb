{
  "nbformat": 4,
  "nbformat_minor": 0,
  "metadata": {
    "colab": {
      "provenance": [],
      "authorship_tag": "ABX9TyMnEWO5qAvwbf7EJ625b0p4",
      "include_colab_link": true
    },
    "kernelspec": {
      "name": "python3",
      "display_name": "Python 3"
    },
    "language_info": {
      "name": "python"
    }
  },
  "cells": [
    {
      "cell_type": "markdown",
      "metadata": {
        "id": "view-in-github",
        "colab_type": "text"
      },
      "source": [
        "<a href=\"https://colab.research.google.com/github/walkerjian/DailyCode/blob/main/running_median.ipynb\" target=\"_parent\"><img src=\"https://colab.research.google.com/assets/colab-badge.svg\" alt=\"Open In Colab\"/></a>"
      ]
    },
    {
      "cell_type": "markdown",
      "source": [
        "Compute the running median of a sequence of numbers. That is, given a stream of numbers, print out the median of the list so far on each new element.\n",
        "\n",
        "Recall that the median of an even-numbered list is the average of the two middle numbers.\n",
        "\n",
        "For example, given the sequence [2, 1, 5, 7, 2, 0, 5], your algorithm should print out:\n",
        "\n",
        "2\n",
        "1.5\n",
        "2\n",
        "3.5\n",
        "2\n",
        "2\n",
        "2"
      ],
      "metadata": {
        "id": "LJZxB_UdxB0U"
      }
    },
    {
      "cell_type": "code",
      "execution_count": 2,
      "metadata": {
        "colab": {
          "base_uri": "https://localhost:8080/"
        },
        "id": "Shxi4Uxgwfxt",
        "outputId": "77cd7493-c00d-4105-bbd5-ad224459037b"
      },
      "outputs": [
        {
          "output_type": "execute_result",
          "data": {
            "text/plain": [
              "[2, 1.5, 2, 3.5, 2, 2.0, 2]"
            ]
          },
          "metadata": {},
          "execution_count": 2
        }
      ],
      "source": [
        "def running_median(sequence):\n",
        "    import heapq\n",
        "\n",
        "    # We will maintain two heaps: max_heap for the lower half and min_heap for the upper half.\n",
        "    max_heap, min_heap = [], []\n",
        "\n",
        "    medians = []\n",
        "\n",
        "    for num in sequence:\n",
        "        # Add number to one of the heaps\n",
        "        # If the number is smaller than the largest number in the max_heap (or the max_heap is empty),\n",
        "        # it goes into the max_heap. Otherwise, it goes into the min_heap.\n",
        "        if not max_heap or num <= -max_heap[0]:\n",
        "            heapq.heappush(max_heap, -num)\n",
        "        else:\n",
        "            heapq.heappush(min_heap, num)\n",
        "\n",
        "        # If max_heap has more numbers than min_heap, balance it by moving one number from max_heap to min_heap\n",
        "        if len(max_heap) > len(min_heap) + 1:\n",
        "            heapq.heappush(min_heap, -heapq.heappop(max_heap))\n",
        "\n",
        "        # If min_heap has more numbers than max_heap, balance it by moving one number from min_heap to max_heap\n",
        "        if len(min_heap) > len(max_heap):\n",
        "            heapq.heappush(max_heap, -heapq.heappop(min_heap))\n",
        "\n",
        "        # Median calculation\n",
        "        if len(max_heap) == len(min_heap):\n",
        "            median = (-max_heap[0] + min_heap[0]) / 2\n",
        "        else:\n",
        "            median = -max_heap[0]  # max_heap will always have the extra element if the total count is odd\n",
        "\n",
        "        medians.append(median)\n",
        "\n",
        "    return medians\n",
        "\n",
        "# Test the function with the given sequence\n",
        "sequence = [2, 1, 5, 7, 2, 0, 5]\n",
        "running_median(sequence)\n",
        "\n"
      ]
    }
  ]
}