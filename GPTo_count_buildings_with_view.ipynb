{
  "nbformat": 4,
  "nbformat_minor": 0,
  "metadata": {
    "colab": {
      "provenance": [],
      "authorship_tag": "ABX9TyMDvX2dCHH4zkaKFlxE+dRp",
      "include_colab_link": true
    },
    "kernelspec": {
      "name": "python3",
      "display_name": "Python 3"
    },
    "language_info": {
      "name": "python"
    }
  },
  "cells": [
    {
      "cell_type": "markdown",
      "metadata": {
        "id": "view-in-github",
        "colab_type": "text"
      },
      "source": [
        "<a href=\"https://colab.research.google.com/github/walkerjian/DailyCode/blob/main/GPTo_count_buildings_with_view.ipynb\" target=\"_parent\"><img src=\"https://colab.research.google.com/assets/colab-badge.svg\" alt=\"Open In Colab\"/></a>"
      ]
    },
    {
      "cell_type": "markdown",
      "source": [
        "You are given an array representing the heights of neighboring buildings on a city street, from east to west. The city assessor would like you to write an algorithm that returns how many of these buildings have a view of the setting sun, in order to properly value the street.\n",
        "\n",
        "For example, given the array [3, 7, 8, 3, 6, 1], you should return 3, since the top floors of the buildings with heights 8, 6, and 1 all have an unobstructed view to the west.\n",
        "\n",
        "Can you do this using just one forward pass through the array?\n",
        "\n",
        "To determine how many buildings have an unobstructed view of the setting sun (west) using just one forward pass through the array, we can implement the following approach:\n",
        "\n",
        "1. Traverse the array from east to west.\n",
        "2. Keep track of the maximum height encountered so far.\n",
        "3. For each building, check if it is taller than the maximum height encountered so far.\n",
        "4. If it is, it has an unobstructed view, and we update the maximum height.\n",
        "\n",
        "Here's the Python code to achieve this:\n",
        "1. Initialize `count` to 0 to keep track of the number of buildings with a view.\n",
        "2. Initialize `max_height_so_far` to 0 to keep track of the maximum height seen so far.\n",
        "3. Iterate through each building height in the array:\n",
        "   - If the current building's height is greater than `max_height_so_far`, it means this building has a view of the setting sun. Increment the `count` and update `max_height_so_far` to the current building's height.\n",
        "4. Return the `count` after traversing the array.\n",
        "\n",
        "This algorithm ensures that we only pass through the array once, achieving the desired result in O(n) time complexity."
      ],
      "metadata": {
        "id": "g3t5IFaAnWLS"
      }
    },
    {
      "cell_type": "code",
      "execution_count": 1,
      "metadata": {
        "colab": {
          "base_uri": "https://localhost:8080/"
        },
        "id": "RMcRZQGdnTCc",
        "outputId": "e7655a3e-4e13-4590-99dc-bb73f610c0ac"
      },
      "outputs": [
        {
          "output_type": "stream",
          "name": "stdout",
          "text": [
            "3\n"
          ]
        }
      ],
      "source": [
        "def count_buildings_with_view(heights):\n",
        "    count = 0\n",
        "    max_height_so_far = 0\n",
        "\n",
        "    for height in heights:\n",
        "        if height > max_height_so_far:\n",
        "            count += 1\n",
        "            max_height_so_far = height\n",
        "\n",
        "    return count\n",
        "\n",
        "# Example usage\n",
        "heights = [3, 7, 8, 3, 6, 1]\n",
        "print(count_buildings_with_view(heights))  # Output: 3"
      ]
    }
  ]
}