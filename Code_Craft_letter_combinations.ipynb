{
  "nbformat": 4,
  "nbformat_minor": 0,
  "metadata": {
    "colab": {
      "provenance": [],
      "authorship_tag": "ABX9TyOsKCo8udYV6sQ5mYjJ0iGV",
      "include_colab_link": true
    },
    "kernelspec": {
      "name": "python3",
      "display_name": "Python 3"
    },
    "language_info": {
      "name": "python"
    }
  },
  "cells": [
    {
      "cell_type": "markdown",
      "metadata": {
        "id": "view-in-github",
        "colab_type": "text"
      },
      "source": [
        "<a href=\"https://colab.research.google.com/github/walkerjian/DailyCode/blob/main/Code_Craft_letter_combinations.ipynb\" target=\"_parent\"><img src=\"https://colab.research.google.com/assets/colab-badge.svg\" alt=\"Open In Colab\"/></a>"
      ]
    },
    {
      "cell_type": "markdown",
      "source": [],
      "metadata": {
        "id": "2okRCC0yPIS8"
      }
    },
    {
      "cell_type": "markdown",
      "source": [
        "##Problem:\n",
        "Given a mapping of digits to letters (as in a phone number), and a digit string, return all possible letters the number could represent. You can assume each valid number in the mapping is a single digit.\n",
        "\n",
        "For example if {“2”: [“a”, “b”, “c”], 3: [“d”, “e”, “f”], …} then “23” should return [“ad”, “ae”, “af”, “bd”, “be”, “bf”, “cd”, “ce”, “cf\"]."
      ],
      "metadata": {
        "id": "Cd-5pl6VXcOv"
      }
    },
    {
      "cell_type": "markdown",
      "source": [
        "##Solution:"
      ],
      "metadata": {
        "id": "JeeOdBl_XmS-"
      }
    },
    {
      "cell_type": "code",
      "execution_count": 1,
      "metadata": {
        "colab": {
          "base_uri": "https://localhost:8080/"
        },
        "id": "VLgngkETPHlf",
        "outputId": "a6ab7b37-8138-48e3-bed0-438afbaa010c"
      },
      "outputs": [
        {
          "output_type": "execute_result",
          "data": {
            "text/plain": [
              "['ad', 'ae', 'af', 'bd', 'be', 'bf', 'cd', 'ce', 'cf']"
            ]
          },
          "metadata": {},
          "execution_count": 1
        }
      ],
      "source": [
        "from typing import List\n",
        "\n",
        "def letter_combinations(mapping: dict, digits: str) -> List[str]:\n",
        "    if not digits:\n",
        "        return []\n",
        "\n",
        "    # Convert digit string into list of possible letters for each digit\n",
        "    digit_letters = [mapping[digit] for digit in digits if digit in mapping]\n",
        "\n",
        "    # Helper function to generate combinations\n",
        "    def generate_combinations(index, path, combinations):\n",
        "        if index == len(digit_letters):\n",
        "            combinations.append(''.join(path))\n",
        "            return\n",
        "\n",
        "        for letter in digit_letters[index]:\n",
        "            generate_combinations(index + 1, path + [letter], combinations)\n",
        "\n",
        "    combinations = []\n",
        "    generate_combinations(0, [], combinations)\n",
        "    return combinations\n",
        "\n",
        "# Test the function with the given example\n",
        "mapping = {\"2\": [\"a\", \"b\", \"c\"], \"3\": [\"d\", \"e\", \"f\"]}\n",
        "digits = \"23\"\n",
        "letter_combinations(mapping, digits)\n"
      ]
    }
  ]
}