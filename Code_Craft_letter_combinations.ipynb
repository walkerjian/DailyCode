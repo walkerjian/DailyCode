{
  "nbformat": 4,
  "nbformat_minor": 0,
  "metadata": {
    "colab": {
      "provenance": [],
      "authorship_tag": "ABX9TyMk+GGcROjMWg5Bn45vGDl3",
      "include_colab_link": true
    },
    "kernelspec": {
      "name": "python3",
      "display_name": "Python 3"
    },
    "language_info": {
      "name": "python"
    }
  },
  "cells": [
    {
      "cell_type": "markdown",
      "metadata": {
        "id": "view-in-github",
        "colab_type": "text"
      },
      "source": [
        "<a href=\"https://colab.research.google.com/github/walkerjian/DailyCode/blob/main/Code_Craft_letter_combinations.ipynb\" target=\"_parent\"><img src=\"https://colab.research.google.com/assets/colab-badge.svg\" alt=\"Open In Colab\"/></a>"
      ]
    },
    {
      "cell_type": "markdown",
      "source": [
        "##Problem:\n",
        "Given a mapping of digits to letters (as in a phone number), and a digit string, return all possible letters the number could represent. You can assume each valid number in the mapping is a single digit.\n",
        "\n",
        "For example if {“2”: [“a”, “b”, “c”], 3: [“d”, “e”, “f”], …} then “23” should return [“ad”, “ae”, “af”, “bd”, “be”, “bf”, “cd”, “ce”, “cf\"].\n",
        "##Solution:\n",
        "To solve this problem, we need to generate all possible combinations of letters that can be formed from the digit string given the mapping from digits to letters. This can be done using a recursive approach. Here's how the algorithm works:\n",
        "\n",
        "1. If the input digit string is empty, return an empty list.\n",
        "2. If the digit string has only one digit, return the list of letters mapped to that digit.\n",
        "3. For a longer digit string, take the first digit, get all the letters mapped to it, and for each letter, append it to the combinations formed by the rest of the digit string.\n",
        "\n",
        "I'll implement this algorithm in Python. Let's start by defining the function.\n",
        "\n",
        "The function successfully generated all possible letter combinations for the digit string \"23\" based on the provided mapping. The output is \\['ad', 'ae', 'af', 'bd', 'be', 'bf', 'cd', 'ce', 'cf'\\], which aligns with your example.\n",
        "\n",
        "You can use this function with any mapping of digits to letters and any digit string to generate the corresponding combinations of letters.\n",
        "##Implementation:"
      ],
      "metadata": {
        "id": "v8WhNzpS8iyb"
      }
    },
    {
      "cell_type": "code",
      "execution_count": 1,
      "metadata": {
        "colab": {
          "base_uri": "https://localhost:8080/"
        },
        "id": "3Bff07av8h1h",
        "outputId": "6cd6df02-3547-4bf0-8a96-de77d9697a46"
      },
      "outputs": [
        {
          "output_type": "execute_result",
          "data": {
            "text/plain": [
              "['ad', 'ae', 'af', 'bd', 'be', 'bf', 'cd', 'ce', 'cf']"
            ]
          },
          "metadata": {},
          "execution_count": 1
        }
      ],
      "source": [
        "def letter_combinations(mapping, digits):\n",
        "    # Base case: If the digit string is empty\n",
        "    if not digits:\n",
        "        return []\n",
        "\n",
        "    # Function to recursively find the combinations\n",
        "    def backtrack(index, path):\n",
        "        # If the path is the same length as digits, we have a complete combination\n",
        "        if index == len(digits):\n",
        "            combinations.append(\"\".join(path))\n",
        "            return\n",
        "\n",
        "        # Get the letters corresponding to the current digit\n",
        "        current_digit = digits[index]\n",
        "        for letter in mapping.get(current_digit, []):\n",
        "            # Add the letter to the current path and move to the next digit\n",
        "            path.append(letter)\n",
        "            backtrack(index + 1, path)\n",
        "            # Backtrack to try another letter\n",
        "            path.pop()\n",
        "\n",
        "    combinations = []\n",
        "    backtrack(0, [])\n",
        "    return combinations\n",
        "\n",
        "# Test the function with the provided example\n",
        "mapping = {\"2\": [\"a\", \"b\", \"c\"], \"3\": [\"d\", \"e\", \"f\"]}\n",
        "digit_string = \"23\"\n",
        "letter_combinations(mapping, digit_string)\n"
      ]
    },
    {
      "cell_type": "code",
      "source": [],
      "metadata": {
        "id": "uTLksbfB8ykL"
      },
      "execution_count": null,
      "outputs": []
    }
  ]
}