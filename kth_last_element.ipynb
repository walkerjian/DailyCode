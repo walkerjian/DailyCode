{
  "nbformat": 4,
  "nbformat_minor": 0,
  "metadata": {
    "colab": {
      "provenance": [],
      "authorship_tag": "ABX9TyNmRAZQ1jIlT7gt+t+fouBi",
      "include_colab_link": true
    },
    "kernelspec": {
      "name": "python3",
      "display_name": "Python 3"
    },
    "language_info": {
      "name": "python"
    }
  },
  "cells": [
    {
      "cell_type": "markdown",
      "metadata": {
        "id": "view-in-github",
        "colab_type": "text"
      },
      "source": [
        "<a href=\"https://colab.research.google.com/github/walkerjian/DailyCode/blob/main/kth_last_element.ipynb\" target=\"_parent\"><img src=\"https://colab.research.google.com/assets/colab-badge.svg\" alt=\"Open In Colab\"/></a>"
      ]
    },
    {
      "cell_type": "markdown",
      "source": [
        "Given a singly linked list and an integer k, remove the kth last element from the list. k is guaranteed to be smaller than the length of the list.\n",
        "\n",
        "The list is very long, so making more than one pass is prohibitively expensive.\n",
        "\n",
        "Do this in constant space and in one pass."
      ],
      "metadata": {
        "id": "JXizhXiVr75P"
      }
    },
    {
      "cell_type": "markdown",
      "source": [
        "To remove the \\(k\\)th last element from the list in one pass, you can use a two-pointer technique:\n",
        "\n",
        "1. Start by initializing two pointers: `first` and `second`. Move the `first` pointer \\(k\\) steps ahead in the list.\n",
        "2. Now, move both the `first` and `second` pointers one step at a time until the `first` pointer reaches the end of the list. When this happens, the `second` pointer will be at the \\(k\\)th last element.\n",
        "3. Adjust the `next` pointers to remove the \\(k\\)th last element.\n",
        "This approach ensures that you traverse the list only once and use constant space.\n",
        "Here's the Python code to achieve this:"
      ],
      "metadata": {
        "id": "HI5jYTzKsLnm"
      }
    },
    {
      "cell_type": "code",
      "source": [
        "class ListNode:\n",
        "    \"\"\"\n",
        "    A singly linked list node.\n",
        "\n",
        "    Attributes:\n",
        "        val: The value of the node.\n",
        "        next: A reference to the next node in the list.\n",
        "    \"\"\"\n",
        "    def __init__(self, val=0, next=None):\n",
        "        self.val = val\n",
        "        self.next = next\n",
        "\n",
        "# ... (keep the removeKthFromEnd function as it is)\n",
        "\n",
        "# Utility functions\n",
        "def convert_to_linked_list(nums):\n",
        "    \"\"\"\n",
        "    Convert a list of integers to a linked list.\n",
        "\n",
        "    Args:\n",
        "        nums: List of integers.\n",
        "\n",
        "    Returns:\n",
        "        The head node of the linked list.\n",
        "    \"\"\"\n",
        "    if not nums:\n",
        "        return None\n",
        "    head = ListNode(nums[0])\n",
        "    current = head\n",
        "    for num in nums[1:]:\n",
        "        current.next = ListNode(num)\n",
        "        current = current.next\n",
        "    return head\n",
        "\n",
        "def convert_to_list(head):\n",
        "    \"\"\"\n",
        "    Convert a linked list to a list of integers.\n",
        "\n",
        "    Args:\n",
        "        head: The head node of the linked list.\n",
        "\n",
        "    Returns:\n",
        "        List of integers.\n",
        "    \"\"\"\n",
        "    nums = []\n",
        "    while head:\n",
        "        nums.append(head.val)\n",
        "        head = head.next\n",
        "    return nums\n",
        "\n",
        "# Controller\n",
        "def test_removeKthFromEnd():\n",
        "    \"\"\"\n",
        "    Test harness for the removeKthFromEnd function.\n",
        "    \"\"\"\n",
        "    test_cases = [\n",
        "        ([1, 2, 3, 4, 5], 2, [1, 2, 3, 5]),\n",
        "        ([1], 1, []),\n",
        "        ([1, 2], 1, [1]),\n",
        "        ([1, 2], 2, [2]),\n",
        "        ([1, 2, 3, 4, 5, 6, 7, 8, 9, 10], 3, [1, 2, 3, 4, 5, 6, 7, 9, 10]),\n",
        "        ([9, 8, 7, 6, 5, 4, 3, 2, 1], 9, [8, 7, 6, 5, 4, 3, 2, 1]),\n",
        "        ([10, 20, 30, 40, 50], 5, [20, 30, 40, 50]),\n",
        "        ([5, 4, 3, 2, 1], 1, [5, 4, 3, 2]),\n",
        "        ([1, 3, 5, 7, 9], 4, [1, 5, 7, 9]),\n",
        "        ([2, 4, 6, 8, 10, 12], 6, [4, 6, 8, 10, 12]),\n",
        "    ]\n",
        "\n",
        "    for index, (nums, k, expected) in enumerate(test_cases, 1):\n",
        "        try:\n",
        "            head = convert_to_linked_list(nums)\n",
        "            result = removeKthFromEnd(head, k)\n",
        "            result_list = convert_to_list(result)\n",
        "            assert result_list == expected\n",
        "            print(f\"Test {index}: PASSED\")\n",
        "        except AssertionError:\n",
        "            print(f\"Test {index}: FAILED\\nExpected: {expected}\\nGot: {result_list}\")\n",
        "            print(\"-\" * 50)\n",
        "\n",
        "if __name__ == \"__main__\":\n",
        "    test_removeKthFromEnd()\n"
      ],
      "metadata": {
        "colab": {
          "base_uri": "https://localhost:8080/"
        },
        "id": "rNj_b1eggUu6",
        "outputId": "a4061f99-ad95-4bd5-98a1-8dfed90e7556"
      },
      "execution_count": 3,
      "outputs": [
        {
          "output_type": "stream",
          "name": "stdout",
          "text": [
            "Test 1: PASSED\n",
            "Test 2: PASSED\n",
            "Test 3: PASSED\n",
            "Test 4: PASSED\n",
            "Test 5: PASSED\n",
            "Test 6: PASSED\n",
            "Test 7: PASSED\n",
            "Test 8: PASSED\n",
            "Test 9: PASSED\n",
            "Test 10: PASSED\n"
          ]
        }
      ]
    }
  ]
}