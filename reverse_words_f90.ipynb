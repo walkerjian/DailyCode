{
  "nbformat": 4,
  "nbformat_minor": 0,
  "metadata": {
    "colab": {
      "provenance": [],
      "authorship_tag": "ABX9TyOZDXFQXIMYOtp1P322aStM",
      "include_colab_link": true
    },
    "kernelspec": {
      "name": "python3",
      "display_name": "Python 3"
    },
    "language_info": {
      "name": "python"
    }
  },
  "cells": [
    {
      "cell_type": "markdown",
      "metadata": {
        "id": "view-in-github",
        "colab_type": "text"
      },
      "source": [
        "<a href=\"https://colab.research.google.com/github/walkerjian/DailyCode/blob/main/reverse_words_f90.ipynb\" target=\"_parent\"><img src=\"https://colab.research.google.com/assets/colab-badge.svg\" alt=\"Open In Colab\"/></a>"
      ]
    },
    {
      "cell_type": "code",
      "source": [
        "!sudo apt-get install gfortran"
      ],
      "metadata": {
        "colab": {
          "base_uri": "https://localhost:8080/"
        },
        "id": "XVYl2FoxEXIJ",
        "outputId": "dcffad87-4f2d-4104-9e43-ff5648ad3c12"
      },
      "execution_count": 1,
      "outputs": [
        {
          "output_type": "stream",
          "name": "stdout",
          "text": [
            "Reading package lists... Done\n",
            "Building dependency tree... Done\n",
            "Reading state information... Done\n",
            "gfortran is already the newest version (4:11.2.0-1ubuntu1).\n",
            "0 upgraded, 0 newly installed, 0 to remove and 16 not upgraded.\n"
          ]
        }
      ]
    },
    {
      "cell_type": "code",
      "execution_count": 48,
      "metadata": {
        "colab": {
          "base_uri": "https://localhost:8080/"
        },
        "id": "21STsNwFDtP-",
        "outputId": "12955562-ba4d-40a7-c5c9-4dabf2da8e2d"
      },
      "outputs": [
        {
          "output_type": "stream",
          "name": "stdout",
          "text": [
            "Overwriting reverse_words.f90\n"
          ]
        }
      ],
      "source": [
        "%%writefile reverse_words.f90\n",
        "program reverse_words\n",
        "    implicit none\n",
        "    character(len=100) :: test_string\n",
        "    character(len=100) :: reversed_string\n",
        "\n",
        "    test_string = \"hello world here          \"  ! Initialize with some extra spaces for simplicity\n",
        "    print *, \"Original: \", trim(test_string)\n",
        "\n",
        "    reversed_string = reverse_words_in_place(test_string)\n",
        "    print *, \"Reversed: \", trim(reversed_string)\n",
        "    call test_reverse_words_in_place()\n",
        "\n",
        "contains\n",
        "\n",
        "    function reverse(s) result(reversed)\n",
        "        character(len=*), intent(in) :: s\n",
        "        character(len=100) :: reversed\n",
        "        integer :: i, j\n",
        "\n",
        "        reversed = ' '  ! Initialize to spaces\n",
        "        j = len(trim(s))\n",
        "        do i = 1, len(trim(s))\n",
        "            reversed(i:i) = s(j:j)\n",
        "            j = j - 1\n",
        "        end do\n",
        "    end function reverse\n",
        "\n",
        "\n",
        "    function reverse_words_in_place(s) result(resultant)\n",
        "        character(len=*), intent(in) :: s\n",
        "        character(len=100) :: resultant, temp\n",
        "        integer :: start, finish\n",
        "\n",
        "        resultant = reverse(s)\n",
        "        start = 1\n",
        "\n",
        "        do while (start <= len(trim(resultant)))\n",
        "            if (resultant(start:start) /= ' ') then\n",
        "                finish = start\n",
        "                do while (resultant(finish:finish) /= ' ' .and. finish <= len(trim(resultant)))\n",
        "                    finish = finish + 1\n",
        "                end do\n",
        "                finish = finish - 1\n",
        "\n",
        "                ! Extract word and reverse it\n",
        "                temp = resultant(start:finish)\n",
        "                resultant(start:finish) = reverse(temp)\n",
        "                start = finish + 2\n",
        "            else\n",
        "                start = start + 1\n",
        "            end if\n",
        "        end do\n",
        "    end function reverse_words_in_place\n",
        "\n",
        "    subroutine test_reverse_words_in_place()\n",
        "        character(len=100) :: test_cases(10)\n",
        "        character(len=100) :: reversed_string\n",
        "        integer :: i\n",
        "\n",
        "        ! Initialize test cases\n",
        "        test_cases = [ &\n",
        "               \"hello world here                               \", &\n",
        "               \"OpenAI is great                                \", &\n",
        "               \"The quick brown fox                            \", &\n",
        "               \"jumps over the lazy dog                        \", &\n",
        "               \"a b c d e f g                                  \", &\n",
        "               \"I love coding                                  \", &\n",
        "               \"Python is amazing                              \", &\n",
        "               \"This is a test case                            \", &\n",
        "               \"One more to go                                 \", &\n",
        "               \"Final test case                                \" ]\n",
        "\n",
        "        ! Loop through each test case\n",
        "        do i = 1, size(test_cases)\n",
        "            print *, \"Original: \", trim(test_cases(i))\n",
        "            reversed_string = reverse_words_in_place(test_cases(i))\n",
        "            print *, \"Reversed: \", trim(reversed_string)\n",
        "            print *, \"----------------------------------\"\n",
        "        end do\n",
        "\n",
        "    end subroutine test_reverse_words_in_place\n",
        "\n",
        "end program reverse_words"
      ]
    },
    {
      "cell_type": "code",
      "source": [
        "!gfortran reverse_words.f90 -o reverse_words"
      ],
      "metadata": {
        "id": "CiXPogsrEn_Q"
      },
      "execution_count": 49,
      "outputs": []
    },
    {
      "cell_type": "code",
      "source": [
        "!./reverse_words"
      ],
      "metadata": {
        "colab": {
          "base_uri": "https://localhost:8080/"
        },
        "id": "XZyBTr9mEqZ_",
        "outputId": "d463dfd1-298e-4d83-dff1-8898d1c0897e"
      },
      "execution_count": 50,
      "outputs": [
        {
          "output_type": "stream",
          "name": "stdout",
          "text": [
            " Original: hello world here\n",
            " Reversed: here world hello\n",
            " Original: hello world here\n",
            " Reversed: here world hello\n",
            " ----------------------------------\n",
            " Original: OpenAI is great\n",
            " Reversed: great is OpenAI\n",
            " ----------------------------------\n",
            " Original: The quick brown fox\n",
            " Reversed: fox brown quick The\n",
            " ----------------------------------\n",
            " Original: jumps over the lazy dog\n",
            " Reversed: dog lazy the over jumps\n",
            " ----------------------------------\n",
            " Original: a b c d e f g\n",
            " Reversed: g f e d c b a\n",
            " ----------------------------------\n",
            " Original: I love coding\n",
            " Reversed: coding love I\n",
            " ----------------------------------\n",
            " Original: Python is amazing\n",
            " Reversed: amazing is Python\n",
            " ----------------------------------\n",
            " Original: This is a test case\n",
            " Reversed: case test a is This\n",
            " ----------------------------------\n",
            " Original: One more to go\n",
            " Reversed: go to more One\n",
            " ----------------------------------\n",
            " Original: Final test case\n",
            " Reversed: case test Final\n",
            " ----------------------------------\n"
          ]
        }
      ]
    }
  ]
}