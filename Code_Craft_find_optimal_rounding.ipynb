{
  "nbformat": 4,
  "nbformat_minor": 0,
  "metadata": {
    "colab": {
      "provenance": [],
      "authorship_tag": "ABX9TyOebnStANJLdOaniSITELGU",
      "include_colab_link": true
    },
    "kernelspec": {
      "name": "python3",
      "display_name": "Python 3"
    },
    "language_info": {
      "name": "python"
    }
  },
  "cells": [
    {
      "cell_type": "markdown",
      "metadata": {
        "id": "view-in-github",
        "colab_type": "text"
      },
      "source": [
        "<a href=\"https://colab.research.google.com/github/walkerjian/DailyCode/blob/main/Code_Craft_find_optimal_rounding.ipynb\" target=\"_parent\"><img src=\"https://colab.research.google.com/assets/colab-badge.svg\" alt=\"Open In Colab\"/></a>"
      ]
    },
    {
      "cell_type": "markdown",
      "source": [
        "##Problem:\n",
        "You are given an array X of floating-point numbers x1, x2, ... xn. These can be rounded up or down to create a corresponding array Y of integers y1, y2, ... yn.\n",
        "\n",
        "Write an algorithm that finds an appropriate Y array with the following properties:\n",
        "\n",
        "The rounded sums of both arrays should be equal.\n",
        "The absolute pairwise difference between elements is minimized. In other words, |x1- y1| + |x2- y2| + ... + |xn- yn| should be as small as possible.\n",
        "For example, suppose your input is [1.3, 2.3, 4.4]. In this case you cannot do better than [1, 2, 5], which has an absolute difference of |1.3 - 1| + |2.3 - 2| + |4.4 - 5| = 1."
      ],
      "metadata": {
        "id": "Fvl2FIkD3bnc"
      }
    },
    {
      "cell_type": "markdown",
      "source": [
        "##Solution:\n",
        "To solve this problem, I will implement an algorithm in Python that follows these steps:\n",
        "\n",
        "1. **Compute the Rounded Sum of the Original Array**: First, we need to find the rounded sum of the original array, `X`. This sum will be our target for the sum of the rounded elements in the `Y` array.\n",
        "\n",
        "2. **Calculate the Differences and Sort**: For each element in `X`, calculate the difference between the number and its nearest integer (both floor and ceiling). This will help in deciding whether to round up or down.\n",
        "\n",
        "3. **Distribute the Rounding to Match the Sum**: We need to ensure that the sum of the rounded elements in `Y` matches the original rounded sum. To do this, we will round up or down based on the calculated differences, prioritizing the rounding that keeps us closest to the target sum.\n",
        "\n",
        "4. **Minimize Absolute Pairwise Difference**: While ensuring the sums match, we will also aim to minimize the absolute pairwise difference between elements of `X` and `Y`.\n",
        "\n",
        "I will now implement this algorithm and test it with the provided example and a few additional test cases."
      ],
      "metadata": {
        "id": "g_-hm1or3gms"
      }
    },
    {
      "cell_type": "markdown",
      "source": [
        "##Implementation:"
      ],
      "metadata": {
        "id": "m3Dkc9ad3i4g"
      }
    },
    {
      "cell_type": "code",
      "execution_count": 1,
      "metadata": {
        "colab": {
          "base_uri": "https://localhost:8080/"
        },
        "id": "hGerlkjL3Pg2",
        "outputId": "99612b45-9ca8-44b6-fe91-8e531ad511be"
      },
      "outputs": [
        {
          "output_type": "stream",
          "name": "stdout",
          "text": [
            "Input: [1.3, 2.3, 4.4], Output: [1, 2, 5]\n",
            "Input: [0.5, 1.6, 2.2, 3.8], Output: [0, 2, 2, 4]\n",
            "Input: [1.5, 2.5, 3.5], Output: [2, 3, 3]\n",
            "Input: [0.1, 0.9, 1.1, 1.9], Output: [0, 1, 1, 2]\n"
          ]
        }
      ],
      "source": [
        "def find_optimal_rounding(X):\n",
        "    # Step 1: Compute the rounded sum of the original array\n",
        "    target_sum = round(sum(X))\n",
        "\n",
        "    # Step 2: Initialize Y with floor values and calculate the initial sum\n",
        "    Y = [int(x) for x in X]\n",
        "    current_sum = sum(Y)\n",
        "\n",
        "    # Step 3: Calculate the differences and sort indices based on how close each element is to its ceiling\n",
        "    diffs = sorted(range(len(X)), key=lambda i: X[i] - Y[i], reverse=True)\n",
        "\n",
        "    # Step 4: Adjust the rounding to match the target sum while minimizing the absolute pairwise difference\n",
        "    for i in diffs:\n",
        "        if current_sum < target_sum:\n",
        "            Y[i] += 1\n",
        "            current_sum += 1\n",
        "\n",
        "    return Y\n",
        "\n",
        "# Test the algorithm with various test cases\n",
        "test_cases = [\n",
        "    [1.3, 2.3, 4.4], # Provided example\n",
        "    [0.5, 1.6, 2.2, 3.8], # Test case with a mix of close calls\n",
        "    [1.5, 2.5, 3.5], # Test case with exact halves\n",
        "    [0.1, 0.9, 1.1, 1.9] # Test case with numbers close to integer boundaries\n",
        "]\n",
        "\n",
        "# Running the tests and printing results\n",
        "results = [find_optimal_rounding(test_case) for test_case in test_cases]\n",
        "for test_case, result in zip(test_cases, results):\n",
        "    print(f\"Input: {test_case}, Output: {result}\")\n"
      ]
    }
  ]
}