{
  "nbformat": 4,
  "nbformat_minor": 0,
  "metadata": {
    "colab": {
      "provenance": [],
      "authorship_tag": "ABX9TyPBLJAg6yb24mozCNDCLwie",
      "include_colab_link": true
    },
    "kernelspec": {
      "name": "python3",
      "display_name": "Python 3"
    },
    "language_info": {
      "name": "python"
    }
  },
  "cells": [
    {
      "cell_type": "markdown",
      "metadata": {
        "id": "view-in-github",
        "colab_type": "text"
      },
      "source": [
        "<a href=\"https://colab.research.google.com/github/walkerjian/DailyCode/blob/main/Code_Craft_pruneTree.ipynb\" target=\"_parent\"><img src=\"https://colab.research.google.com/assets/colab-badge.svg\" alt=\"Open In Colab\"/></a>"
      ]
    },
    {
      "cell_type": "markdown",
      "source": [
        "##Problem:\n",
        "Given a binary tree where all nodes are either 0 or 1, prune the tree so that subtrees containing all 0s are removed.\n",
        "\n",
        "For example, given the following tree:\n",
        "```\n",
        "   0\n",
        "  / \\\n",
        " 1   0\n",
        "    / \\\n",
        "   1   0\n",
        "  / \\\n",
        " 0   0\n",
        " ```\n",
        "should be pruned to:\n",
        "```\n",
        "\n",
        "   0\n",
        "  / \\\n",
        " 1   0\n",
        "    /\n",
        "   1\n",
        "```\n",
        "We do not remove the tree at the root or its left child because it still has a 1 as a descendant."
      ],
      "metadata": {
        "id": "PdCCqnvtWWKJ"
      }
    },
    {
      "cell_type": "markdown",
      "source": [
        "##Solution:\n",
        "To prune a binary tree so that subtrees containing all 0s are removed, we can use a recursive approach. We'll define a function that traverses the tree from bottom to top. For each node, we check if both its left and right subtrees are null (or effectively null after pruning), and the node's value is 0. If so, we remove this node by returning null to its parent. If the node or any of its descendants have a value of 1, we keep it. This approach ensures that we only remove subtrees that are entirely 0.\n"
      ],
      "metadata": {
        "id": "Qq4ChegmWkbL"
      }
    },
    {
      "cell_type": "markdown",
      "source": [
        "##Implementation:\n",
        "Here's a Python function that demonstrates this algorithm:\n"
      ],
      "metadata": {
        "id": "qandw4FrXoZk"
      }
    },
    {
      "cell_type": "code",
      "source": [
        "class TreeNode:\n",
        "    def __init__(self, value=0, left=None, right=None):\n",
        "        self.value = value\n",
        "        self.left = left\n",
        "        self.right = right\n",
        "\n",
        "def pruneTree(root):\n",
        "    if root is None:\n",
        "        return None\n",
        "\n",
        "    # Recursively prune the left and right subtrees\n",
        "    root.left = pruneTree(root.left)\n",
        "    root.right = pruneTree(root.right)\n",
        "\n",
        "    # If both left and right are None and node's value is 0, prune this node\n",
        "    if root.value == 0 and root.left is None and root.right is None:\n",
        "        return None\n",
        "\n",
        "    return root\n",
        "\n",
        "# Helper function to print the tree in pre-order traversal\n",
        "def printTree(node, level=0):\n",
        "    if node is not None:\n",
        "        print(\" \" * (level * 2) + str(node.value))\n",
        "        printTree(node.left, level + 1)\n",
        "        printTree(node.right, level + 1)\n",
        "\n",
        "# Construct the example tree\n",
        "root = TreeNode(0)\n",
        "root.left = TreeNode(1)\n",
        "root.right = TreeNode(0)\n",
        "root.right.left = TreeNode(1)\n",
        "root.right.right = TreeNode(0)\n",
        "root.right.left.left = TreeNode(0)\n",
        "root.right.left.right = TreeNode(0)\n",
        "\n",
        "print(\"Original Tree:\")\n",
        "printTree(root)\n",
        "\n",
        "# Prune the tree\n",
        "prunedRoot = pruneTree(root)\n",
        "\n",
        "print(\"\\nPruned Tree:\")\n",
        "printTree(prunedRoot)\n"
      ],
      "metadata": {
        "colab": {
          "base_uri": "https://localhost:8080/"
        },
        "id": "YCQYqjwRWVwI",
        "outputId": "744665b5-6a90-43c6-def5-f78da41baa44"
      },
      "execution_count": 1,
      "outputs": [
        {
          "output_type": "stream",
          "name": "stdout",
          "text": [
            "Original Tree:\n",
            "0\n",
            "  1\n",
            "  0\n",
            "    1\n",
            "      0\n",
            "      0\n",
            "    0\n",
            "\n",
            "Pruned Tree:\n",
            "0\n",
            "  1\n",
            "  0\n",
            "    1\n"
          ]
        }
      ]
    },
    {
      "cell_type": "markdown",
      "source": [
        "This code defines a `TreeNode` class for the binary tree nodes and includes a `pruneTree` function that implements the pruning logic. The `printTree` function is a helper to visualize the tree structure before and after pruning. The example constructs the given tree, prunes it according to the rule, and then prints the pruned tree to demonstrate the result."
      ],
      "metadata": {
        "id": "60y0U8MrXxnF"
      }
    },
    {
      "cell_type": "code",
      "source": [
        "# Install the graphviz system package\n",
        "!apt-get install graphviz libgraphviz-dev pkg-config\n",
        "\n",
        "# Install pygraphviz Python package\n",
        "!pip install pygraphviz"
      ],
      "metadata": {
        "id": "u1A6v9V-ZcNl"
      },
      "execution_count": null,
      "outputs": []
    },
    {
      "cell_type": "code",
      "source": [
        "import matplotlib.pyplot as plt\n",
        "import networkx as nx\n",
        "from networkx.drawing.nx_agraph import graphviz_layout\n",
        "import copy\n",
        "\n",
        "class TreeNode:\n",
        "    def __init__(self, id, value=0, left=None, right=None):\n",
        "        self.id = id\n",
        "        self.value = value\n",
        "        self.left = left\n",
        "        self.right = right\n",
        "\n",
        "def pruneTree(node):\n",
        "    if node is None:\n",
        "        return None\n",
        "    node.left = pruneTree(node.left)\n",
        "    node.right = pruneTree(node.right)\n",
        "    if node.value == 0 and node.left is None and node.right is None:\n",
        "        return None\n",
        "    return node\n",
        "\n",
        "def add_nodes_edges(tree_node, G=None):\n",
        "    if G is None:\n",
        "        G = nx.DiGraph()\n",
        "    if tree_node:\n",
        "        G.add_node(tree_node.id, label=tree_node.value)\n",
        "        if tree_node.left:\n",
        "            G.add_edge(tree_node.id, tree_node.left.id)\n",
        "            G = add_nodes_edges(tree_node.left, G)\n",
        "        if tree_node.right:\n",
        "            G.add_edge(tree_node.id, tree_node.right.id)\n",
        "            G = add_nodes_edges(tree_node.right, G)\n",
        "    return G\n",
        "\n",
        "def draw_tree(tree_root):\n",
        "    G = add_nodes_edges(tree_root)\n",
        "    pos = graphviz_layout(G, prog='dot')\n",
        "    labels = nx.get_node_attributes(G, 'label')\n",
        "    nx.draw(G, pos, labels=labels, with_labels=True, node_size=1000, node_color=\"lightblue\", arrows=False)\n",
        "    plt.show()\n",
        "\n",
        "# Construct the example tree\n",
        "root = TreeNode(1, 0)\n",
        "root.left = TreeNode(2, 1)\n",
        "root.right = TreeNode(3, 0)\n",
        "root.right.left = TreeNode(4, 1)\n",
        "root.right.right = TreeNode(5, 0)\n",
        "root.right.left.left = TreeNode(6, 0)\n",
        "root.right.left.right = TreeNode(7, 0)\n",
        "\n",
        "# #If you want to work with the original tree then you need a deepcopy\n",
        "# import copy\n",
        "\n",
        "# # Make a deep copy of the root\n",
        "# copyroot = copy.deepcopy(root)\n",
        "\n",
        "# # Prune the tree\n",
        "# pruned_root = pruneTree(root)\n",
        "\n",
        "# # Draw the original tree\n",
        "# draw_tree(copyroot)\n",
        "\n",
        "# # Draw the pruned tree\n",
        "# draw_tree(pruned_root)\n",
        "\n",
        "#If you arehappy being shallow, then only the order of ops is mandated\n",
        "draw_tree(root)\n",
        "\n",
        "# Prune the tree\n",
        "pruned_root = pruneTree(root)\n",
        "\n",
        "# Draw the pruned tree\n",
        "draw_tree(pruned_root)\n"
      ],
      "metadata": {
        "colab": {
          "base_uri": "https://localhost:8080/",
          "height": 1000
        },
        "id": "LlaUhFzZZZtL",
        "outputId": "4bafe656-d130-4488-a316-c863f1754dc0"
      },
      "execution_count": 14,
      "outputs": [
        {
          "output_type": "display_data",
          "data": {
            "text/plain": [
              "<Figure size 640x480 with 1 Axes>"
            ],
            "image/png": "[encoded data removed]"
          },
          "metadata": {}
        },
        {
          "output_type": "display_data",
          "data": {
            "text/plain": [
              "<Figure size 640x480 with 1 Axes>"
            ],
            "image/png": "[encoded data removed]"
          },
          "metadata": {}
        }
      ]
    }
  ]
}