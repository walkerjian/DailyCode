{
  "nbformat": 4,
  "nbformat_minor": 0,
  "metadata": {
    "colab": {
      "provenance": [],
      "authorship_tag": "ABX9TyPJWGef/+wHNoJ5qoFOy2Ie",
      "include_colab_link": true
    },
    "kernelspec": {
      "name": "python3",
      "display_name": "Python 3"
    },
    "language_info": {
      "name": "python"
    }
  },
  "cells": [
    {
      "cell_type": "markdown",
      "metadata": {
        "id": "view-in-github",
        "colab_type": "text"
      },
      "source": [
        "<a href=\"https://colab.research.google.com/github/walkerjian/DailyCode/blob/main/URLShortener.ipynb\" target=\"_parent\"><img src=\"https://colab.research.google.com/assets/colab-badge.svg\" alt=\"Open In Colab\"/></a>"
      ]
    },
    {
      "cell_type": "markdown",
      "source": [
        "##Problem:\n",
        "Implement a URL shortener with the following methods:\n",
        "\n",
        "shorten(url), which shortens the url into a six-character alphanumeric string, such as zLg6wl.\n",
        "restore(short), which expands the shortened string into the original url. If no such shortened string exists, return null.\n",
        "Hint: What if we enter the same URL twice?"
      ],
      "metadata": {
        "id": "Q-WQ8kN5sjEV"
      }
    },
    {
      "cell_type": "markdown",
      "source": [
        "##Solution:\n",
        "To implement a URL shortener in Python, we need to take into account that the same URL should return the same shortened version each time it's entered, and we must be able to map back the shortened version to the original URL. A common approach to this is to use a hash function, but since hash functions can produce outputs larger than six characters and don't guarantee the same output length, we'll create a custom method."
      ],
      "metadata": {
        "id": "eiDHwe83svOc"
      }
    },
    {
      "cell_type": "markdown",
      "source": [
        "##Implementation:\n",
        "This code includes a basic collision handling mechanism which tries to find a unique hash for each URL. However, note that with a six-character limit, there is a possibility of collision which increases as more URLs are shortened. In real-world applications, you would likely need to include additional layers of checks and potentially increase the length of the shortened string to reduce collision risk."
      ],
      "metadata": {
        "id": "uFPLQfI-s_ir"
      }
    },
    {
      "cell_type": "code",
      "execution_count": 1,
      "metadata": {
        "colab": {
          "base_uri": "https://localhost:8080/"
        },
        "id": "UQhSCuVksSYJ",
        "outputId": "76e4c0e3-642a-48ef-9e4d-bf5dc4b1b774"
      },
      "outputs": [
        {
          "output_type": "stream",
          "name": "stdout",
          "text": [
            "Short URL: http://short.url/cdb4d8\n",
            "Restored URL: https://www.example.com\n"
          ]
        }
      ],
      "source": [
        "import string\n",
        "import hashlib\n",
        "from random import choice\n",
        "\n",
        "class URLShortener:\n",
        "    def __init__(self):\n",
        "        self.url_to_short = {}\n",
        "        self.short_to_url = {}\n",
        "        self.base = string.ascii_letters + string.digits  # base62 [a-zA-Z0-9]\n",
        "        self.prefix = \"http://short.url/\"\n",
        "        self.short_length = 6\n",
        "\n",
        "    def _generate_short(self, url):\n",
        "        # Use a hash function to generate a unique output\n",
        "        sha_signature = hashlib.sha256(url.encode()).hexdigest()\n",
        "        # Take the first 6 characters of the hash as our short url\n",
        "        for i in range(0, len(sha_signature), self.short_length):\n",
        "            short = sha_signature[i:i+self.short_length]\n",
        "            if short not in self.short_to_url:\n",
        "                return short\n",
        "        # If all possible combinations are taken, raise an error (very unlikely with SHA256)\n",
        "        raise ValueError(\"No unique short URLs available.\")\n",
        "\n",
        "    def shorten(self, url):\n",
        "        if url in self.url_to_short:\n",
        "            # If the URL has already been shortened, return the existing short URL\n",
        "            return self.prefix + self.url_to_short[url]\n",
        "\n",
        "        # Generate a unique short path\n",
        "        short = self._generate_short(url)\n",
        "        if short not in self.short_to_url:\n",
        "            # Store the short URL and the original URL in dictionaries\n",
        "            self.short_to_url[short] = url\n",
        "            self.url_to_short[url] = short\n",
        "            return self.prefix + short\n",
        "        else:\n",
        "            # In case of a hash collision, try another random short string (this is extremely unlikely with SHA256)\n",
        "            while short in self.short_to_url:\n",
        "                short = ''.join(choice(self.base) for _ in range(self.short_length))\n",
        "            self.short_to_url[short] = url\n",
        "            self.url_to_short[url] = short\n",
        "            return self.prefix + short\n",
        "\n",
        "    def restore(self, short):\n",
        "        # Remove the prefix to get the short code\n",
        "        short = short.replace(self.prefix, '')\n",
        "        # Lookup the short code in the dictionary to get the original URL\n",
        "        return self.short_to_url.get(short, None)\n",
        "\n",
        "\n",
        "# Example of usage:\n",
        "url_shortener = URLShortener()\n",
        "original_url = \"https://www.example.com\"\n",
        "short_url = url_shortener.shorten(original_url)\n",
        "print(f\"Short URL: {short_url}\")\n",
        "\n",
        "restored_url = url_shortener.restore(short_url)\n",
        "print(f\"Restored URL: {restored_url}\")\n"
      ]
    }
  ]
}