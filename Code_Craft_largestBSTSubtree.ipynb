{
  "nbformat": 4,
  "nbformat_minor": 0,
  "metadata": {
    "colab": {
      "provenance": [],
      "authorship_tag": "ABX9TyOrbaJaVE/dc7pImK3asP8Y",
      "include_colab_link": true
    },
    "kernelspec": {
      "name": "python3",
      "display_name": "Python 3"
    },
    "language_info": {
      "name": "python"
    }
  },
  "cells": [
    {
      "cell_type": "markdown",
      "metadata": {
        "id": "view-in-github",
        "colab_type": "text"
      },
      "source": [
        "<a href=\"https://colab.research.google.com/github/walkerjian/DailyCode/blob/main/Code_Craft_largestBSTSubtree.ipynb\" target=\"_parent\"><img src=\"https://colab.research.google.com/assets/colab-badge.svg\" alt=\"Open In Colab\"/></a>"
      ]
    },
    {
      "cell_type": "markdown",
      "source": [
        "##Problem:\n",
        "Given a tree, find the largest tree/subtree that is a BST.\n",
        "Given a tree, return the size of the largest tree/subtree that is a BST.\n"
      ],
      "metadata": {
        "id": "2lWyrXjB8EeD"
      }
    },
    {
      "cell_type": "markdown",
      "source": [
        "##Solution:\n",
        "To solve this problem, we need to traverse the tree and check for each subtree whether it is a Binary Search Tree (BST) or not. We will perform a post-order traversal (left-right-root) to check each node and its subtrees. For each node, we need to track the following information:\n",
        "\n",
        "1. **IsBST**: Whether the current subtree is a BST.\n",
        "2. **Size**: The number of nodes in the current subtree if it is a BST.\n",
        "3. **Min**: The minimum value in the current subtree to facilitate the BST check for the parent node.\n",
        "4. **Max**: The maximum value in the current subtree to facilitate the BST check for the parent node.\n",
        "\n",
        "The algorithm will recursively check each subtree and combine results to determine if the current subtree is a BST and calculate its size.\n",
        "\n",
        "Let's define the function to implement this algorithm:\n",
        "\n",
        "1. Perform a post-order traversal of the tree.\n",
        "2. For each node, recursively check its left and right subtrees.\n",
        "3. Determine if the current node forms a BST with its subtrees based on the BST property (all left descendants ≤ node < all right descendants).\n",
        "4. Update and return the necessary information to the parent call."
      ],
      "metadata": {
        "id": "jIohycTB8Hjb"
      }
    },
    {
      "cell_type": "markdown",
      "source": [
        "##Implementation:\n",
        "Now, let's proceed with the implementation.\n",
        "\n"
      ],
      "metadata": {
        "id": "pkWuQrLB8K8H"
      }
    },
    {
      "cell_type": "code",
      "execution_count": 3,
      "metadata": {
        "id": "TIIt0l_k7Oi1",
        "colab": {
          "base_uri": "https://localhost:8080/"
        },
        "outputId": "a27e36d8-29d8-4404-8f07-fd17ce6f303c"
      },
      "outputs": [
        {
          "output_type": "execute_result",
          "data": {
            "text/plain": [
              "3"
            ]
          },
          "metadata": {},
          "execution_count": 3
        }
      ],
      "source": [
        "class TreeNode:\n",
        "    def __init__(self, value=0, left=None, right=None):\n",
        "        self.value = value\n",
        "        self.left = left\n",
        "        self.right = right\n",
        "\n",
        "def largestBSTSubtree(root):\n",
        "    def postOrder(node):\n",
        "        # Base case: An empty subtree is a BST of size 0\n",
        "        if not node:\n",
        "            return (True, 0, float('inf'), float('-inf'))\n",
        "\n",
        "        left_is_bst, left_size, left_min, left_max = postOrder(node.left)\n",
        "        right_is_bst, right_size, right_min, right_max = postOrder(node.right)\n",
        "\n",
        "        # Current node is a BST if both left and right subtrees are BSTs and\n",
        "        # current node's value is greater than max in left subtree and\n",
        "        # less than min in right subtree\n",
        "        if left_is_bst and right_is_bst and left_max < node.value < right_min:\n",
        "            return (True, 1 + left_size + right_size, min(node.value, left_min), max(node.value, right_max))\n",
        "\n",
        "        # If not a BST, return false but carry forward the size of the largest BST found so far in the subtrees\n",
        "        return (False, max(left_size, right_size), 0, 0)\n",
        "\n",
        "    _, largest_bst_size, _, _ = postOrder(root)\n",
        "    return largest_bst_size\n",
        "\n",
        "# Example usage:\n",
        "# Building a tree:\n",
        "#       10\n",
        "#      /  \\\n",
        "#     5   15\n",
        "#    / \\    \\\n",
        "#   1   8    7\n",
        "root = TreeNode(10)\n",
        "root.left = TreeNode(5, TreeNode(1), TreeNode(8))\n",
        "root.right = TreeNode(15, None, TreeNode(7))\n",
        "\n",
        "largestBSTSubtree(root)  # The largest BST subtree is the left subtree with size 3\n",
        "\n",
        "\n"
      ]
    },
    {
      "cell_type": "markdown",
      "source": [
        "\n",
        "The implementation successfully finds the largest BST within a given tree. In the provided example, the largest BST subtree is the left subtree of the root, which contains nodes 5, 1, and 8, resulting in a size of 3. Therefore, the function correctly returns 3 as the size of the largest BST subtree."
      ],
      "metadata": {
        "id": "ncwWdqnRPqPJ"
      }
    },
    {
      "cell_type": "markdown",
      "source": [
        "##Testing:\n",
        "        10\n",
        "       /  \\\n",
        "      5   15\n",
        "     / \\  / \\\n",
        "    1   8 12 17\n",
        "       / \\\n",
        "      6   9\n"
      ],
      "metadata": {
        "id": "wcaruNyfYogT"
      }
    },
    {
      "cell_type": "code",
      "source": [
        " def test_largestBSTSubtree():\n",
        "    # Test 1: Empty tree\n",
        "    assert largestBSTSubtree(None) == 0, \"Test 1 failed: Empty tree should return 0\"\n",
        "\n",
        "    # Test 2: Single node\n",
        "    assert largestBSTSubtree(TreeNode(1)) == 1, \"Test 2 failed: Single node tree should return 1\"\n",
        "\n",
        "    # Test 3: All nodes form a BST\n",
        "    root = TreeNode(2, TreeNode(1), TreeNode(3))\n",
        "    assert largestBSTSubtree(root) == 3, \"Test 3 failed: All nodes form a BST\"\n",
        "\n",
        "    # Test 4: No subtree is BST\n",
        "    root = TreeNode(2, TreeNode(3), TreeNode(1))\n",
        "    assert largestBSTSubtree(root) == 1, \"Test 4 failed: No subtree is BST\"\n",
        "\n",
        "    # Test 5: Multiple BST subtrees\n",
        "    root = TreeNode(10, TreeNode(5, TreeNode(1), TreeNode(8)), TreeNode(15, None, TreeNode(7)))\n",
        "    assert largestBSTSubtree(root) == 3, \"Test 5 failed: Multiple BST subtrees\"\n",
        "\n",
        "    # Test 6: Complex tree\n",
        "    root = TreeNode(10, TreeNode(5, TreeNode(1), TreeNode(8, TreeNode(6), TreeNode(9))), TreeNode(15, TreeNode(12), TreeNode(17)))\n",
        "    assert largestBSTSubtree(root) == 9, \"Test 6 failed: Complex tree\"\n",
        "\n",
        "    return \"All tests passed!\"\n",
        "\n",
        "test_largestBSTSubtree()\n",
        "\n"
      ],
      "metadata": {
        "id": "7arfxk2ORsA8",
        "colab": {
          "base_uri": "https://localhost:8080/",
          "height": 37
        },
        "outputId": "69878a52-71af-4098-8b76-d95338c56e24"
      },
      "execution_count": 7,
      "outputs": [
        {
          "output_type": "execute_result",
          "data": {
            "text/plain": [
              "'All tests passed!'"
            ],
            "application/vnd.google.colaboratory.intrinsic+json": {
              "type": "string"
            }
          },
          "metadata": {},
          "execution_count": 7
        }
      ]
    }
  ]
}