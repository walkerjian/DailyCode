{
  "nbformat": 4,
  "nbformat_minor": 0,
  "metadata": {
    "colab": {
      "provenance": [],
      "authorship_tag": "ABX9TyOYgkEJt6UDyY3JJW3UIr5l",
      "include_colab_link": true
    },
    "kernelspec": {
      "name": "python3",
      "display_name": "Python 3"
    },
    "language_info": {
      "name": "python"
    }
  },
  "cells": [
    {
      "cell_type": "markdown",
      "metadata": {
        "id": "view-in-github",
        "colab_type": "text"
      },
      "source": [
        "<a href=\"https://colab.research.google.com/github/walkerjian/DailyCode/blob/main/Code_Craft_AlternatingSingleton_java.ipynb\" target=\"_parent\"><img src=\"https://colab.research.google.com/assets/colab-badge.svg\" alt=\"Open In Colab\"/></a>"
      ]
    },
    {
      "cell_type": "markdown",
      "source": [
        "##Problem:\n",
        "Implement the singleton pattern with a twist. First, instead of storing one instance, store two instances. And in every even call of getInstance(), return the first instance and in every odd call of getInstance(), return the second instance."
      ],
      "metadata": {
        "id": "jFOcXaizh6KM"
      }
    },
    {
      "cell_type": "markdown",
      "source": [
        "##Solution:\n",
        "The Singleton pattern typically ensures that a class has only one instance and provides a global point of access to that instance. To modify this pattern as per your request, we need to maintain two instances and alternate between them on each call to `getInstance()`.\n",
        "\n",
        "Here's how this can be implemented in Java:\n",
        "\n",
        "1. **Class Structure:** The class will have two private static instances of itself.\n",
        "2. **Private Constructor:** To prevent instantiation from outside the class.\n",
        "3. **getInstance Method:** This method will manage which instance to return based on the call count, alternating between the two instances.\n",
        "\n"
      ],
      "metadata": {
        "id": "q-Jj_mEhhhxw"
      }
    },
    {
      "cell_type": "markdown",
      "source": [
        "##Implementation:"
      ],
      "metadata": {
        "id": "qNgsLN1aiFDB"
      }
    },
    {
      "cell_type": "code",
      "execution_count": 1,
      "metadata": {
        "colab": {
          "base_uri": "https://localhost:8080/"
        },
        "id": "0enJfzAUg0hO",
        "outputId": "00cc0831-8801-4167-89ec-a4abd543a890"
      },
      "outputs": [
        {
          "output_type": "stream",
          "name": "stdout",
          "text": [
            "Writing AlternatingSingleton.java\n"
          ]
        }
      ],
      "source": [
        "# Write the Java code to a file\n",
        "%%writefile AlternatingSingleton.java\n",
        "public class AlternatingSingleton {\n",
        "    private static AlternatingSingleton instanceOne = new AlternatingSingleton();\n",
        "    private static AlternatingSingleton instanceTwo = new AlternatingSingleton();\n",
        "    private static int callCount = 0;\n",
        "\n",
        "    // Private constructor to prevent instantiation from outside\n",
        "    private AlternatingSingleton() {}\n",
        "\n",
        "    public static AlternatingSingleton getInstance() {\n",
        "        callCount++;\n",
        "        if (callCount % 2 == 0) {\n",
        "            return instanceOne;\n",
        "        } else {\n",
        "            return instanceTwo;\n",
        "        }\n",
        "    }\n",
        "\n",
        "    // Main method to test the AlternatingSingleton class\n",
        "    public static void main(String[] args) {\n",
        "        AlternatingSingleton firstCall = AlternatingSingleton.getInstance();\n",
        "        AlternatingSingleton secondCall = AlternatingSingleton.getInstance();\n",
        "        AlternatingSingleton thirdCall = AlternatingSingleton.getInstance();\n",
        "\n",
        "        System.out.println(\"First Call: \" + firstCall);\n",
        "        System.out.println(\"Second Call: \" + secondCall);\n",
        "        System.out.println(\"Third Call: \" + thirdCall);\n",
        "    }\n",
        "}\n"
      ]
    },
    {
      "cell_type": "code",
      "source": [
        "# Compile the Java code\n",
        "!javac AlternatingSingleton.java\n"
      ],
      "metadata": {
        "id": "zi11HiYdhVao"
      },
      "execution_count": 2,
      "outputs": []
    },
    {
      "cell_type": "code",
      "source": [
        "# Run the compiled Java class\n",
        "!java AlternatingSingleton\n"
      ],
      "metadata": {
        "colab": {
          "base_uri": "https://localhost:8080/"
        },
        "id": "YWeBEDaUhY5A",
        "outputId": "540d01ff-35ad-442f-99d5-a808cd672365"
      },
      "execution_count": 3,
      "outputs": [
        {
          "output_type": "stream",
          "name": "stdout",
          "text": [
            "First Call: AlternatingSingleton@372f7a8d\n",
            "Second Call: AlternatingSingleton@2f92e0f4\n",
            "Third Call: AlternatingSingleton@372f7a8d\n"
          ]
        }
      ]
    },
    {
      "cell_type": "markdown",
      "source": [
        "**How it works:**\n",
        "- `instanceOne` and `instanceTwo` are the two instances of `AlternatingSingleton`.\n",
        "- The `getInstance` method increments `callCount` each time it is called.\n",
        "- It then checks if `callCount` is even or odd, returning `instanceOne` for even calls and `instanceTwo` for odd calls.\n",
        "\n",
        "This approach maintains the Singleton principle in a modified form, ensuring that only two instances of the class exist and are alternately accessible through the `getInstance` method."
      ],
      "metadata": {
        "id": "TgsK698IhxC1"
      }
    }
  ]
}