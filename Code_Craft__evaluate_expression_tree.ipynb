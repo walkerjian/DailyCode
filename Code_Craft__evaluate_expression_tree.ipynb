{
  "nbformat": 4,
  "nbformat_minor": 0,
  "metadata": {
    "colab": {
      "provenance": [],
      "authorship_tag": "ABX9TyOOc6N5G1bSLlgfw4Ycvfxn",
      "include_colab_link": true
    },
    "kernelspec": {
      "name": "python3",
      "display_name": "Python 3"
    },
    "language_info": {
      "name": "python"
    }
  },
  "cells": [
    {
      "cell_type": "markdown",
      "metadata": {
        "id": "view-in-github",
        "colab_type": "text"
      },
      "source": [
        "<a href=\"https://colab.research.google.com/github/walkerjian/DailyCode/blob/main/Code_Craft__evaluate_expression_tree.ipynb\" target=\"_parent\"><img src=\"https://colab.research.google.com/assets/colab-badge.svg\" alt=\"Open In Colab\"/></a>"
      ]
    },
    {
      "cell_type": "markdown",
      "source": [
        "##Problem:\n",
        "Suppose an arithmetic expression is given as a binary tree. Each leaf is an integer and each internal node is one of '+', '−', '∗', or '/'.\n",
        "\n",
        "Given the root to such a tree, write a function to evaluate it.\n",
        "\n",
        "For example, given the following tree:\n",
        "```\n",
        "    *\n",
        "   / \\\n",
        "  +    +\n",
        " / \\  / \\\n",
        "3  2  4  5\n",
        "```\n",
        "You should return 45, as it is (3 + 2) * (4 + 5)."
      ],
      "metadata": {
        "id": "P5_x6Ieyr5Qu"
      }
    },
    {
      "cell_type": "markdown",
      "source": [
        "##Solution:\n",
        "To evaluate the given arithmetic expression represented as a binary tree, we can use a recursive approach. The idea is to traverse the tree in a depth-first manner, evaluate the left and right subtrees, and then apply the operation at the current node to these evaluated results.\n",
        "\n",
        "Here's how you can implement this:\n",
        "\n",
        "1. If the current node is a leaf node (it represents an integer), return its value.\n",
        "2. Recursively evaluate the left and right subtrees.\n",
        "3. Depending on the operation represented by the current node ('+', '-', '*', '/'), apply it to the results obtained from step 2.\n",
        "4. Return the result of the operation.\n",
        "\n",
        "Here's the Python code for the function that does this:\n",
        "\n",
        "```python\n",
        "class TreeNode:\n",
        "    def __init__(self, value):\n",
        "        self.value = value\n",
        "        self.left = None\n",
        "        self.right = None\n",
        "\n",
        "def evaluate_expression_tree(node):\n",
        "    if node is None:\n",
        "        return 0\n",
        "\n",
        "    # If the node is a leaf node, return its value (it's an integer)\n",
        "    if node.left is None and node.right is None:\n",
        "        return int(node.value)\n",
        "\n",
        "    # Recursively evaluate the left and right subtrees\n",
        "    left_val = evaluate_expression_tree(node.left)\n",
        "    right_val = evaluate_expression_tree(node.right)\n",
        "\n",
        "    # Apply the operation represented by the current node to the evaluated results\n",
        "    if node.value == '+':\n",
        "        return left_val + right_val\n",
        "    elif node.value == '-':\n",
        "        return left_val - right_val\n",
        "    elif node.value == '*':\n",
        "        return left_val * right_val\n",
        "    elif node.value == '/':\n",
        "        return left_val / right_val\n",
        "\n",
        "# Construct the example tree\n",
        "root = TreeNode('*')\n",
        "root.left = TreeNode('+')\n",
        "root.left.left = TreeNode('3')\n",
        "root.left.right = TreeNode('2')\n",
        "root.right = TreeNode('+')\n",
        "root.right.left = TreeNode('4')\n",
        "root.right.right = TreeNode('5')\n",
        "\n",
        "# Evaluate the expression tree\n",
        "result = evaluate_expression_tree(root)\n",
        "print(result)\n",
        "```\n",
        "\n",
        "This code defines a simple `TreeNode` class for the nodes of the tree, where each node has a `value` and pointers to its `left` and `right` children. The `evaluate_expression_tree` function implements the logic described above to evaluate the arithmetic expression represented by the tree.\n",
        "\n",
        "In the provided example, the expression tree represents the arithmetic expression `(3 + 2) * (4 + 5)`, so the function should print `45` as the result."
      ],
      "metadata": {
        "id": "eRPqzOxysABA"
      }
    },
    {
      "cell_type": "markdown",
      "source": [
        "##Implementation:\n"
      ],
      "metadata": {
        "id": "LZaKFKS8sGcd"
      }
    },
    {
      "cell_type": "code",
      "execution_count": 1,
      "metadata": {
        "colab": {
          "base_uri": "https://localhost:8080/"
        },
        "id": "ol-gm2pMrgF5",
        "outputId": "e93d0cd8-76a9-47ce-ca27-674acfdc9a4d"
      },
      "outputs": [
        {
          "output_type": "stream",
          "name": "stdout",
          "text": [
            "45\n"
          ]
        }
      ],
      "source": [
        "class TreeNode:\n",
        "    def __init__(self, value):\n",
        "        self.value = value\n",
        "        self.left = None\n",
        "        self.right = None\n",
        "\n",
        "def evaluate_expression_tree(node):\n",
        "    if node is None:\n",
        "        return 0\n",
        "\n",
        "    # If the node is a leaf node, return its value (it's an integer)\n",
        "    if node.left is None and node.right is None:\n",
        "        return int(node.value)\n",
        "\n",
        "    # Recursively evaluate the left and right subtrees\n",
        "    left_val = evaluate_expression_tree(node.left)\n",
        "    right_val = evaluate_expression_tree(node.right)\n",
        "\n",
        "    # Apply the operation represented by the current node to the evaluated results\n",
        "    if node.value == '+':\n",
        "        return left_val + right_val\n",
        "    elif node.value == '-':\n",
        "        return left_val - right_val\n",
        "    elif node.value == '*':\n",
        "        return left_val * right_val\n",
        "    elif node.value == '/':\n",
        "        return left_val / right_val\n",
        "\n",
        "# Construct the example tree\n",
        "root = TreeNode('*')\n",
        "root.left = TreeNode('+')\n",
        "root.left.left = TreeNode('3')\n",
        "root.left.right = TreeNode('2')\n",
        "root.right = TreeNode('+')\n",
        "root.right.left = TreeNode('4')\n",
        "root.right.right = TreeNode('5')\n",
        "\n",
        "# Evaluate the expression tree\n",
        "result = evaluate_expression_tree(root)\n",
        "print(result)\n"
      ]
    },
    {
      "cell_type": "markdown",
      "source": [
        "##Testing:\n"
      ],
      "metadata": {
        "id": "4544uiemsbI7"
      }
    },
    {
      "cell_type": "code",
      "source": [
        "# Test tree 1: (3 + 2) * (4 + 5) = 45\n",
        "root1 = TreeNode('*')\n",
        "root1.left = TreeNode('+')\n",
        "root1.left.left = TreeNode('3')\n",
        "root1.left.right = TreeNode('2')\n",
        "root1.right = TreeNode('+')\n",
        "root1.right.left = TreeNode('4')\n",
        "root1.right.right = TreeNode('5')\n",
        "\n",
        "# Test tree 2: (7 - 3) / (2 + 2) = 1\n",
        "root2 = TreeNode('/')\n",
        "root2.left = TreeNode('-')\n",
        "root2.left.left = TreeNode('7')\n",
        "root2.left.right = TreeNode('3')\n",
        "root2.right = TreeNode('+')\n",
        "root2.right.left = TreeNode('2')\n",
        "root2.right.right = TreeNode('2')\n",
        "\n",
        "# Test tree 3: 10 * (5 - 2) = 30\n",
        "root3 = TreeNode('*')\n",
        "root3.left = TreeNode('10')\n",
        "root3.right = TreeNode('-')\n",
        "root3.right.left = TreeNode('5')\n",
        "root3.right.right = TreeNode('2')\n",
        "\n",
        "# Evaluate the expression trees\n",
        "result1 = evaluate_expression_tree(root1)\n",
        "result2 = evaluate_expression_tree(root2)\n",
        "result3 = evaluate_expression_tree(root3)\n",
        "\n",
        "(result1, result2, result3)"
      ],
      "metadata": {
        "colab": {
          "base_uri": "https://localhost:8080/"
        },
        "id": "3bclYA4qsLqz",
        "outputId": "0f827ee5-6a45-4162-fde1-880c47878bd0"
      },
      "execution_count": 3,
      "outputs": [
        {
          "output_type": "execute_result",
          "data": {
            "text/plain": [
              "(45, 1.0, 30)"
            ]
          },
          "metadata": {},
          "execution_count": 3
        }
      ]
    },
    {
      "cell_type": "markdown",
      "source": [
        "##Arbitrary parse tree:\n"
      ],
      "metadata": {
        "id": "6-D-P0YhtvpY"
      }
    },
    {
      "cell_type": "code",
      "source": [
        "def infix_to_postfix(expression):\n",
        "    precedence = {'+': 1, '-': 1, '*': 2, '/': 2}\n",
        "    stack = []  # to keep operators according to their precedence\n",
        "    postfix = []  # result\n",
        "    number = ''\n",
        "    for char in expression:\n",
        "        if char.isdigit() or char.isalpha():  # Extend to handle variable names/alphabets\n",
        "            number += char  # handle multi-digit numbers and variable names\n",
        "        else:\n",
        "            if number:\n",
        "                postfix.append(number)\n",
        "                number = ''\n",
        "            if char in '*/+-':\n",
        "                while stack and precedence.get(stack[-1], 0) >= precedence.get(char, 0):\n",
        "                    postfix.append(stack.pop())\n",
        "                stack.append(char)\n",
        "            elif char == '(':\n",
        "                stack.append(char)\n",
        "            elif char == ')':\n",
        "                if number:\n",
        "                    postfix.append(number)\n",
        "                    number = ''\n",
        "                while stack and stack[-1] != '(':\n",
        "                    postfix.append(stack.pop())\n",
        "                stack.pop()  # pop '('\n",
        "    if number:\n",
        "        postfix.append(number)\n",
        "    while stack:\n",
        "        postfix.append(stack.pop())\n",
        "    return postfix\n",
        "\n",
        "def build_tree(postfix):\n",
        "    stack = []\n",
        "    for char in postfix:\n",
        "        if char.isdigit() or char.isalpha():  # Extend to handle variable names/alphabets\n",
        "            stack.append(TreeNode(char))\n",
        "        else:\n",
        "            node = TreeNode(char)\n",
        "            node.right = stack.pop()\n",
        "            node.left = stack.pop()\n",
        "            stack.append(node)\n",
        "    return stack.pop()\n",
        "\n",
        "# Modify evaluate_expression_tree to handle variables or alpha characters if needed\n",
        "# For simplicity, assume all inputs are valid and variables are not included in this example\n",
        "\n",
        "# Example usage\n",
        "expression = \"3/2*(4+5)\"\n",
        "postfix = infix_to_postfix(expression)\n",
        "tree_root = build_tree(postfix)\n",
        "result = evaluate_expression_tree(tree_root)\n",
        "\n",
        "postfix, result"
      ],
      "metadata": {
        "colab": {
          "base_uri": "https://localhost:8080/"
        },
        "id": "klpzCVKktzNe",
        "outputId": "db88ef7e-af73-4a5b-f2ef-82ef9fe65ab3"
      },
      "execution_count": 10,
      "outputs": [
        {
          "output_type": "execute_result",
          "data": {
            "text/plain": [
              "(['3', '2', '/', '4', '5', '+', '*'], 13.5)"
            ]
          },
          "metadata": {},
          "execution_count": 10
        }
      ]
    }
  ]
}