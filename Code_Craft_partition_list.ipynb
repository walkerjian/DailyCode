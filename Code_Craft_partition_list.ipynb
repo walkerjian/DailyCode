{
  "nbformat": 4,
  "nbformat_minor": 0,
  "metadata": {
    "colab": {
      "provenance": [],
      "authorship_tag": "ABX9TyNVdZvHJLU6A24l12U8sMN+",
      "include_colab_link": true
    },
    "kernelspec": {
      "name": "python3",
      "display_name": "Python 3"
    },
    "language_info": {
      "name": "python"
    }
  },
  "cells": [
    {
      "cell_type": "markdown",
      "metadata": {
        "id": "view-in-github",
        "colab_type": "text"
      },
      "source": [
        "<a href=\"https://colab.research.google.com/github/walkerjian/DailyCode/blob/main/Code_Craft_partition_list.ipynb\" target=\"_parent\"><img src=\"https://colab.research.google.com/assets/colab-badge.svg\" alt=\"Open In Colab\"/></a>"
      ]
    },
    {
      "cell_type": "markdown",
      "source": [
        "##Problem:\n",
        "Given a pivot x, and a list lst, partition the list into three parts.\n",
        "\n",
        "The first part contains all elements in lst that are less than x\n",
        "The second part contains all elements in lst that are equal to x\n",
        "The third part contains all elements in lst that are larger than x\n",
        "Ordering within a part can be arbitrary.\n",
        "\n",
        "For example, given x = 10 and lst = [9, 12, 3, 5, 14, 10, 10], one partition may be [9, 3, 5, 10, 10, 12, 14]."
      ],
      "metadata": {
        "id": "oMf96ae45cVl"
      }
    },
    {
      "cell_type": "markdown",
      "source": [
        "##Solution:\n",
        "To solve this problem, you can use a straightforward approach by creating three separate lists: one for elements less than `x`, one for elements equal to `x`, and one for elements greater than `x`. After categorizing the elements into these lists, you can concatenate them to get the desired partitioned list.\n"
      ],
      "metadata": {
        "id": "pQRACbP35kFY"
      }
    },
    {
      "cell_type": "markdown",
      "source": [
        "##Implementation:\n",
        "Here's how you can implement this in Python:\n",
        "\n",
        "This code will partition the list `lst` into three parts based on the pivot `x` and then concatenate these parts to form the final partitioned list. The ordering within each part is the same as their occurrence in the original list."
      ],
      "metadata": {
        "id": "GsiJ-7fh5rqS"
      }
    },
    {
      "cell_type": "code",
      "execution_count": 1,
      "metadata": {
        "colab": {
          "base_uri": "https://localhost:8080/"
        },
        "id": "SGzS7VKj5aD-",
        "outputId": "348a7f80-fcf3-434b-e3ec-84228e391c85"
      },
      "outputs": [
        {
          "output_type": "stream",
          "name": "stdout",
          "text": [
            "[9, 3, 5, 10, 10, 12, 14]\n"
          ]
        }
      ],
      "source": [
        "def partition_list(lst, x):\n",
        "    less_than_x = []\n",
        "    equal_to_x = []\n",
        "    greater_than_x = []\n",
        "\n",
        "    # Partitioning the elements\n",
        "    for element in lst:\n",
        "        if element < x:\n",
        "            less_than_x.append(element)\n",
        "        elif element == x:\n",
        "            equal_to_x.append(element)\n",
        "        else:\n",
        "            greater_than_x.append(element)\n",
        "\n",
        "    # Concatenating the lists to form the partitioned list\n",
        "    return less_than_x + equal_to_x + greater_than_x\n",
        "\n",
        "# Example usage\n",
        "x = 10\n",
        "lst = [9, 12, 3, 5, 14, 10, 10]\n",
        "partitioned_list = partition_list(lst, x)\n",
        "print(partitioned_list)\n"
      ]
    },
    {
      "cell_type": "code",
      "source": [
        "def partition_list_inplace(lst, x):\n",
        "    i, j, k = 0, 0, len(lst) - 1\n",
        "\n",
        "    while j <= k:\n",
        "        if lst[j] < x:\n",
        "            lst[i], lst[j] = lst[j], lst[i]\n",
        "            i += 1\n",
        "            j += 1\n",
        "        elif lst[j] > x:\n",
        "            lst[j], lst[k] = lst[k], lst[j]\n",
        "            k -= 1\n",
        "        else:\n",
        "            j += 1\n",
        "\n",
        "    return lst\n",
        "\n",
        "# Example usage\n",
        "x = 10\n",
        "lst = [9, 12, 3, 5, 14, 10, 10]\n",
        "partitioned_list = partition_list_inplace(lst, x)\n",
        "print(partitioned_list)\n"
      ],
      "metadata": {
        "colab": {
          "base_uri": "https://localhost:8080/"
        },
        "id": "PhgVVf5D7Bsr",
        "outputId": "07206085-ad9b-4499-ee20-a2d6609c3613"
      },
      "execution_count": 4,
      "outputs": [
        {
          "output_type": "stream",
          "name": "stdout",
          "text": [
            "[9, 3, 5, 10, 10, 14, 12]\n"
          ]
        }
      ]
    },
    {
      "cell_type": "markdown",
      "source": [
        "##Testing:"
      ],
      "metadata": {
        "id": "ZyDSrwbp9ke0"
      }
    },
    {
      "cell_type": "code",
      "source": [
        "import random\n",
        "\n",
        "# Test cases\n",
        "test_cases = [\n",
        "    ([], 10),  # Empty list\n",
        "    ([1, 2, 3, 4, 5], 10),  # All elements less than x\n",
        "    ([15, 20, 25], 10),  # All elements greater than x\n",
        "    ([10, 10, 10, 10], 10),  # All elements equal to x\n",
        "    (random.sample(range(100), 20), 50)  # Large list with random elements\n",
        "]\n",
        "\n",
        "# Testing partition_list with each test case\n",
        "print(f\"Testing partition_list with each test case\")\n",
        "for lst, x in test_cases:\n",
        "    print(f\"List: {lst}, Pivot: {x} => Partitioned: {partition_list(lst, x)}\")\n",
        "print()\n",
        "\n",
        "# Testing partition_list_inplace with each test case\n",
        "print(f\"Testing partition_list_inplace with each test case\")\n",
        "for lst, x in test_cases:\n",
        "    print(f\"List: {lst}, Pivot: {x} => Partitioned: {partition_list_inplace(lst, x)}\")"
      ],
      "metadata": {
        "colab": {
          "base_uri": "https://localhost:8080/"
        },
        "id": "NSNFRF706Pid",
        "outputId": "00a510ee-751d-48b6-e3ac-1a6995654aaf"
      },
      "execution_count": 11,
      "outputs": [
        {
          "output_type": "stream",
          "name": "stdout",
          "text": [
            "Testing partition_list with each test case\n",
            "List: [], Pivot: 10 => Partitioned: []\n",
            "List: [1, 2, 3, 4, 5], Pivot: 10 => Partitioned: [1, 2, 3, 4, 5]\n",
            "List: [15, 20, 25], Pivot: 10 => Partitioned: [15, 20, 25]\n",
            "List: [10, 10, 10, 10], Pivot: 10 => Partitioned: [10, 10, 10, 10]\n",
            "List: [96, 66, 13, 46, 48, 14, 98, 34, 87, 36, 63, 54, 6, 39, 44, 65, 89, 74, 23, 8], Pivot: 50 => Partitioned: [13, 46, 48, 14, 34, 36, 6, 39, 44, 23, 8, 96, 66, 98, 87, 63, 54, 65, 89, 74]\n",
            "\n",
            "Testing partition_list_inplace with each test case\n",
            "List: [], Pivot: 10 => Partitioned: []\n",
            "List: [1, 2, 3, 4, 5], Pivot: 10 => Partitioned: [1, 2, 3, 4, 5]\n",
            "List: [15, 20, 25], Pivot: 10 => Partitioned: [20, 25, 15]\n",
            "List: [10, 10, 10, 10], Pivot: 10 => Partitioned: [10, 10, 10, 10]\n",
            "List: [96, 66, 13, 46, 48, 14, 98, 34, 87, 36, 63, 54, 6, 39, 44, 65, 89, 74, 23, 8], Pivot: 50 => Partitioned: [8, 23, 13, 46, 48, 14, 44, 34, 39, 36, 6, 54, 63, 87, 65, 89, 74, 98, 66, 96]\n"
          ]
        }
      ]
    },
    {
      "cell_type": "code",
      "source": [],
      "metadata": {
        "id": "_Ze1wsjy7irN"
      },
      "execution_count": null,
      "outputs": []
    }
  ]
}