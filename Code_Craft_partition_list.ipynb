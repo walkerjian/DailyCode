{
  "nbformat": 4,
  "nbformat_minor": 0,
  "metadata": {
    "colab": {
      "provenance": [],
      "authorship_tag": "ABX9TyNPg/s1sd9GEn9u4iyMiP0C",
      "include_colab_link": true
    },
    "kernelspec": {
      "name": "python3",
      "display_name": "Python 3"
    },
    "language_info": {
      "name": "python"
    }
  },
  "cells": [
    {
      "cell_type": "markdown",
      "metadata": {
        "id": "view-in-github",
        "colab_type": "text"
      },
      "source": [
        "<a href=\"https://colab.research.google.com/github/walkerjian/DailyCode/blob/main/Code_Craft_partition_list.ipynb\" target=\"_parent\"><img src=\"https://colab.research.google.com/assets/colab-badge.svg\" alt=\"Open In Colab\"/></a>"
      ]
    },
    {
      "cell_type": "markdown",
      "source": [
        "##Problem:\n",
        "Given a pivot x, and a list lst, partition the list into three parts.\n",
        "\n",
        "The first part contains all elements in lst that are less than x\n",
        "The second part contains all elements in lst that are equal to x\n",
        "The third part contains all elements in lst that are larger than x\n",
        "Ordering within a part can be arbitrary.\n",
        "\n",
        "For example, given x = 10 and lst = [9, 12, 3, 5, 14, 10, 10], one partition may be [9, 3, 5, 10, 10, 12, 14]."
      ],
      "metadata": {
        "id": "cQN5b-D0gvVj"
      }
    },
    {
      "cell_type": "markdown",
      "source": [
        "##Solution:\n",
        "To partition the list into three parts based on the pivot `x`, you can iterate through the list and compare each element to `x`, placing it into one of three new lists: one for elements less than `x`, one for elements equal to `x`, and one for elements greater than `x`. Finally, you can concatenate these three lists to get the desired partitioned list."
      ],
      "metadata": {
        "id": "FfSKVyCLgzGr"
      }
    },
    {
      "cell_type": "markdown",
      "source": [
        "##Implementation:\n",
        "This code defines a function `partition_list` that takes a list `lst` and a pivot `x` as input, partitions `lst` into three parts as specified, and returns the concatenated result. The ordering within each part is the same as their original ordering in `lst` since we're appending to the end of each list in the order we encounter elements in `lst`."
      ],
      "metadata": {
        "id": "r0ry5QNtg6A2"
      }
    },
    {
      "cell_type": "code",
      "execution_count": 1,
      "metadata": {
        "id": "ZpiD_nRwguLl"
      },
      "outputs": [],
      "source": [
        "def partition_list(lst, x):\n",
        "    less_than_x = []\n",
        "    equal_to_x = []\n",
        "    greater_than_x = []\n",
        "\n",
        "    # Iterate through the list and place elements into the corresponding list\n",
        "    for element in lst:\n",
        "        if element < x:\n",
        "            less_than_x.append(element)\n",
        "        elif element == x:\n",
        "            equal_to_x.append(element)\n",
        "        else:\n",
        "            greater_than_x.append(element)\n",
        "\n",
        "    # Concatenate the three lists\n",
        "    partitioned_list = less_than_x + equal_to_x + greater_than_x\n",
        "    return partitioned_list\n",
        "\n",
        "\n"
      ]
    },
    {
      "cell_type": "markdown",
      "source": [
        "##Testing:\n"
      ],
      "metadata": {
        "id": "rIsza488hVyc"
      }
    },
    {
      "cell_type": "code",
      "source": [
        "# Example usage\n",
        "x = 10\n",
        "lst = [9, 12, 3, 5, 14, 10, 10]\n",
        "partitioned_list = partition_list(lst, x)\n",
        "print(partitioned_list)"
      ],
      "metadata": {
        "colab": {
          "base_uri": "https://localhost:8080/"
        },
        "id": "Y3uYzl4UhGuZ",
        "outputId": "2e63f326-b43f-4446-ca36-103f0c454cca"
      },
      "execution_count": 2,
      "outputs": [
        {
          "output_type": "stream",
          "name": "stdout",
          "text": [
            "[9, 3, 5, 10, 10, 12, 14]\n"
          ]
        }
      ]
    },
    {
      "cell_type": "code",
      "source": [
        "if __name__ == \"__main__\":\n",
        "    tests_passed = True\n",
        "    test_cases = [\n",
        "        ([9, 12, 3, 5, 14, 10, 10], 10, [9, 3, 5, 10, 10, 12, 14], \"Standard Case\"),\n",
        "        ([], 10, [], \"Empty List\"),\n",
        "        ([1, 2, 3, 4, 5], 10, [1, 2, 3, 4, 5], \"All Elements Less Than Pivot\"),\n",
        "        ([11, 12, 13, 14, 15], 10, [11, 12, 13, 14, 15], \"All Elements Greater Than Pivot\"),\n",
        "        ([10, 10, 10, 10], 10, [10, 10, 10, 10], \"All Elements Equal to Pivot\"),\n",
        "        ([10], 10, [10], \"Single Element Equal to Pivot\"),\n",
        "        ([5], 10, [5], \"Single Element Less Than Pivot\"),\n",
        "        ([15], 10, [15], \"Single Element Greater Than Pivot\"),\n",
        "        ([-1, 0, 10, 11, -2, 10], 10, [-1, -2, 0, 10, 10, 11], \"Mixed Types With Numbers\"),\n",
        "        ([10, 5, 20, 10, 3], 10, [5, 3, 10, 10, 20], \"Duplicates and Unsorted Input\"),\n",
        "    ]\n",
        "\n",
        "    for lst, x, expected, description in test_cases:\n",
        "        try:\n",
        "            assert partition_list(lst, x) == expected, f\"Test failed: {description}\"\n",
        "            print(f\"Test passed: {description}\")\n",
        "        except AssertionError as e:\n",
        "            print(e)\n",
        "            tests_passed = False\n",
        "\n",
        "    if tests_passed:\n",
        "        print(\"All tests passed!\")\n",
        "    else:\n",
        "        print(\"Some tests failed.\")"
      ],
      "metadata": {
        "colab": {
          "base_uri": "https://localhost:8080/"
        },
        "id": "Y6ms_58ShYt8",
        "outputId": "d9bd8ed5-3492-469f-da66-5019a45b9e45"
      },
      "execution_count": 4,
      "outputs": [
        {
          "output_type": "stream",
          "name": "stdout",
          "text": [
            "Test passed: Standard Case\n",
            "Test passed: Empty List\n",
            "Test passed: All Elements Less Than Pivot\n",
            "Test passed: All Elements Greater Than Pivot\n",
            "Test passed: All Elements Equal to Pivot\n",
            "Test passed: Single Element Equal to Pivot\n",
            "Test passed: Single Element Less Than Pivot\n",
            "Test passed: Single Element Greater Than Pivot\n",
            "Test failed: Mixed Types With Numbers\n",
            "Test passed: Duplicates and Unsorted Input\n",
            "Some tests failed.\n"
          ]
        }
      ]
    },
    {
      "cell_type": "markdown",
      "source": [
        "##Failed Test:"
      ],
      "metadata": {
        "id": "Rfs_YHrfikE0"
      }
    },
    {
      "cell_type": "code",
      "source": [
        "def test_partition_list_correctness(lst, x, expected_less, expected_equal, expected_greater):\n",
        "    partitioned_lst = partition_list(lst, x)\n",
        "    actual_less = [item for item in partitioned_lst if item < x]\n",
        "    actual_equal = [item for item in partitioned_lst if item == x]\n",
        "    actual_greater = [item for item in partitioned_lst if item > x]\n",
        "\n",
        "    assert sorted(actual_less) == sorted(expected_less), f\"Less than partition incorrect. Got {actual_less}, expected {expected_less}\"\n",
        "    assert sorted(actual_equal) == sorted(expected_equal), f\"Equal to partition incorrect. Got {actual_equal}, expected {expected_equal}\"\n",
        "    assert sorted(actual_greater) == sorted(expected_greater), f\"Greater than partition incorrect. Got {actual_greater}, expected {expected_greater}\"\n",
        "\n",
        "# Test Harness\n",
        "if __name__ == \"__main__\":\n",
        "    try:\n",
        "        # Adapted test case for the provided function\n",
        "        test_partition_list_correctness(\n",
        "            lst=[-1, 0, 10, 11, -2, 10],\n",
        "            x=10,\n",
        "            expected_less=[-1, -2, 0],\n",
        "            expected_equal=[10, 10],\n",
        "            expected_greater=[11]\n",
        "        )\n",
        "        print(\"Test passed: Mixed Types With Numbers\")\n",
        "    except AssertionError as e:\n",
        "        print(e)\n",
        "\n",
        "    # Additional tests can be added here following the same pattern\n"
      ],
      "metadata": {
        "colab": {
          "base_uri": "https://localhost:8080/"
        },
        "id": "0R6GqMbBiUzN",
        "outputId": "7570943f-77cf-4b96-9e80-5d5b0d2c3bbd"
      },
      "execution_count": 5,
      "outputs": [
        {
          "output_type": "stream",
          "name": "stdout",
          "text": [
            "Test passed: Mixed Types With Numbers\n"
          ]
        }
      ]
    },
    {
      "cell_type": "markdown",
      "source": [
        "This adapted version specifically uses the `test_partition_list_correctness` function to run a detailed test on the partitioning logic, directly checking each partition against expected outcomes. The `try-except` block is used to catch any assertion errors, allowing you to add multiple tests without stopping the execution if one fails. This detailed level of testing is particularly useful for debugging and ensuring the correctness of the partitioning logic across a variety of input cases."
      ],
      "metadata": {
        "id": "Q0YZyYisicLw"
      }
    }
  ]
}