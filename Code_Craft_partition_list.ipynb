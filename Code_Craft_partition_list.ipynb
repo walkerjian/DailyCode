{
  "nbformat": 4,
  "nbformat_minor": 0,
  "metadata": {
    "colab": {
      "provenance": [],
      "authorship_tag": "ABX9TyNhu8QyP4ho6BeyzaWnqf4q",
      "include_colab_link": true
    },
    "kernelspec": {
      "name": "python3",
      "display_name": "Python 3"
    },
    "language_info": {
      "name": "python"
    }
  },
  "cells": [
    {
      "cell_type": "markdown",
      "metadata": {
        "id": "view-in-github",
        "colab_type": "text"
      },
      "source": [
        "<a href=\"https://colab.research.google.com/github/walkerjian/DailyCode/blob/main/Code_Craft_partition_list.ipynb\" target=\"_parent\"><img src=\"https://colab.research.google.com/assets/colab-badge.svg\" alt=\"Open In Colab\"/></a>"
      ]
    },
    {
      "cell_type": "markdown",
      "source": [
        "#Problem:\n",
        "Given a linked list of numbers and a pivot k, partition the linked list so that all nodes less than k come before nodes greater than or equal to k.\n",
        "\n",
        "For example, given the linked list 5 -> 1 -> 8 -> 0 -> 3 and k = 3, the solution could be 1 -> 0 -> 5 -> 8 -> 3."
      ],
      "metadata": {
        "id": "tH7CkhIN6Ovd"
      }
    },
    {
      "cell_type": "markdown",
      "source": [
        "##Solution:\n",
        "To solve this problem, we'll create a function that takes a linked list and a pivot value `k`, and reorders the list so that all elements less than `k` are moved to the front of the list, and all elements greater than or equal to `k` remain in their original order.\n"
      ],
      "metadata": {
        "id": "itQ9Rbxe6Twn"
      }
    },
    {
      "cell_type": "markdown",
      "source": [
        "##Implementation:\n",
        "\n",
        "Here's how we can implement this in Python, assuming a simple linked list node structure:"
      ],
      "metadata": {
        "id": "Cb3P4iVt6W-J"
      }
    },
    {
      "cell_type": "code",
      "source": [
        "class ListNode:\n",
        "    def __init__(self, value=0, next=None):\n",
        "        self.value = value\n",
        "        self.next = next\n",
        "\n",
        "def partition_list(head, k):\n",
        "    # Dummy nodes to start the less and greater lists\n",
        "    less_head = ListNode(0)\n",
        "    greater_head = ListNode(0)\n",
        "\n",
        "    # Pointers to the current end of the less and greater lists\n",
        "    less = less_head\n",
        "    greater = greater_head\n",
        "\n",
        "    # Iterate through the original list\n",
        "    current = head\n",
        "    while current:\n",
        "        if current.value < k:\n",
        "            # Attach current node to the less list\n",
        "            less.next = current\n",
        "            less = less.next\n",
        "        else:\n",
        "            # Attach current node to the greater list\n",
        "            greater.next = current\n",
        "            greater = greater.next\n",
        "\n",
        "        # Move to the next node in the original list\n",
        "        current = current.next\n",
        "\n",
        "    # Avoid circular references\n",
        "    greater.next = None\n",
        "    # Attach the greater list to the end of the less list\n",
        "    less.next = greater_head.next\n",
        "\n",
        "    return less_head.next\n",
        "\n",
        "# Example usage\n",
        "head = ListNode(5, ListNode(1, ListNode(8, ListNode(0, ListNode(3)))))\n",
        "new_head = partition_list(head, 3)\n",
        "\n",
        "# Function to print the linked list\n",
        "def print_list(node):\n",
        "    while node:\n",
        "        print(node.value, end=\" -> \")\n",
        "        node = node.next\n",
        "    print(\"None\")\n",
        "\n",
        "print_list(new_head)\n"
      ],
      "metadata": {
        "id": "lve1Yewi6N4N",
        "colab": {
          "base_uri": "https://localhost:8080/"
        },
        "outputId": "1e2641b0-ac6c-41fb-d634-9630deccfa8a"
      },
      "execution_count": 1,
      "outputs": [
        {
          "output_type": "stream",
          "name": "stdout",
          "text": [
            "1 -> 0 -> 5 -> 8 -> 3 -> None\n"
          ]
        }
      ]
    },
    {
      "cell_type": "markdown",
      "source": [
        "In this function:\n",
        "- `less_head` and `greater_head` are dummy nodes that help in simplifying the list concatenation process.\n",
        "- We iterate through the list, partitioning the nodes into `less` and `greater` lists based on their value relative to `k`.\n",
        "- After the iteration, we connect the `less` list with the `greater` list to form the partitioned list.\n",
        "- Finally, we return the head of the new partitioned list, skipping over the dummy head node of the `less` list."
      ],
      "metadata": {
        "id": "o08m1icR7HSw"
      }
    },
    {
      "cell_type": "markdown",
      "source": [
        "##Testing:"
      ],
      "metadata": {
        "id": "rmascGp76a_Q"
      }
    },
    {
      "cell_type": "code",
      "execution_count": 3,
      "metadata": {
        "id": "kVX9PbNY6M7_",
        "colab": {
          "base_uri": "https://localhost:8080/"
        },
        "outputId": "a9ef9e32-6b50-4c94-a688-7db09b213316"
      },
      "outputs": [
        {
          "output_type": "execute_result",
          "data": {
            "text/plain": [
              "('1 -> 0 -> 5 -> 8 -> 3 -> None',\n",
              " '3 -> 2 -> 1 -> 5 -> 10 -> None',\n",
              " '1 -> 2 -> 2 -> 4 -> 3 -> 5 -> None')"
            ]
          },
          "metadata": {},
          "execution_count": 3
        }
      ],
      "source": [
        "# Test cases\n",
        "head1 = ListNode(5, ListNode(1, ListNode(8, ListNode(0, ListNode(3)))))\n",
        "k1 = 3\n",
        "result1 = partition_list(head1, k1)\n",
        "\n",
        "head2 = ListNode(3, ListNode(5, ListNode(2, ListNode(10, ListNode(1)))))\n",
        "k2 = 5\n",
        "result2 = partition_list(head2, k2)\n",
        "\n",
        "head3 = ListNode(1, ListNode(4, ListNode(3, ListNode(2, ListNode(5, ListNode(2))))))\n",
        "k3 = 3\n",
        "result3 = partition_list(head3, k3)\n",
        "\n",
        "print_list(result1), print_list(result2), print_list(result3)\n",
        "\n"
      ]
    },
    {
      "cell_type": "markdown",
      "source": [
        "Here are the results of the partitioning with different test cases:\n",
        "\n",
        "- For the list `5 -> 1 -> 8 -> 0 -> 3` with pivot `k = 3`, the partitioned list is `1 -> 0 -> 5 -> 8 -> 3`.\n",
        "- For the list `3 -> 5 -> 2 -> 10 -> 1` with pivot `k = 5`, the partitioned list is `3 -> 2 -> 1 -> 5 -> 10`.\n",
        "- For the list `1 -> 4 -> 3 -> 2 -> 5 -> 2` with pivot `k = 3`, the partitioned list is `1 -> 2 -> 2 -> 4 -> 3 -> 5`.\n",
        "\n",
        "These results demonstrate that the function successfully rearranges the lists, placing nodes with values less than the pivot before nodes with values greater than or equal to the pivot, while maintaining their original relative order."
      ],
      "metadata": {
        "id": "1w1YeGUw7cXl"
      }
    }
  ]
}