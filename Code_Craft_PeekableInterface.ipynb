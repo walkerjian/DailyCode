{
  "nbformat": 4,
  "nbformat_minor": 0,
  "metadata": {
    "colab": {
      "provenance": [],
      "authorship_tag": "ABX9TyNjhzWrVrzu3UOceI8d/gdI",
      "include_colab_link": true
    },
    "kernelspec": {
      "name": "python3",
      "display_name": "Python 3"
    },
    "language_info": {
      "name": "python"
    }
  },
  "cells": [
    {
      "cell_type": "markdown",
      "metadata": {
        "id": "view-in-github",
        "colab_type": "text"
      },
      "source": [
        "<a href=\"https://colab.research.google.com/github/walkerjian/DailyCode/blob/main/Code_Craft_PeekableInterface.ipynb\" target=\"_parent\"><img src=\"https://colab.research.google.com/assets/colab-badge.svg\" alt=\"Open In Colab\"/></a>"
      ]
    },
    {
      "cell_type": "markdown",
      "source": [
        "##Problem:\n",
        "Given an iterator with methods next() and hasNext(), create a wrapper iterator, PeekableInterface, which also implements peek(). peek shows the next element that would be returned on next().\n",
        "\n",
        "Here is the interface:\n",
        "```\n",
        "class PeekableInterface(object):\n",
        "    def __init__(self, iterator):\n",
        "        pass\n",
        "\n",
        "    def peek(self):\n",
        "        pass\n",
        "\n",
        "    def next(self):\n",
        "        pass\n",
        "\n",
        "    def hasNext(self):\n",
        "        pass\n",
        "```\n"
      ],
      "metadata": {
        "id": "VBHBNJncDJY7"
      }
    },
    {
      "cell_type": "markdown",
      "source": [
        "##Solution:\n",
        "To create the `PeekableInterface` class as described, we'll need to implement the `peek()`, `next()`, and `hasNext()` methods. The `peek()` method is the key addition here, which allows us to view the next element in the iterator without advancing the iterator itself.\n",
        "\n",
        "The implementation will involve caching the next element of the iterator. This is because iterators in Python are consumed as they are iterated over, so we can't simply look ahead without advancing the iterator. We'll store the next element in an instance variable, which will be updated each time `next()` is called.\n",
        "\n",
        "Here's how you can implement the `PeekableInterface`:\n",
        "\n"
      ],
      "metadata": {
        "id": "cY8-B6eNDSKV"
      }
    },
    {
      "cell_type": "markdown",
      "source": [
        "##Implementation:\n",
        "- The `__init__` method initializes the iterator and sets up the first element to be peeked at.\n",
        "- The `_advance` method updates the `_next` and `_hasNext` attributes with the next element in the iterator and a boolean indicating whether there are more elements to iterate over.\n",
        "- The `peek` method returns the next element without advancing the iterator.\n",
        "- The `next` method returns the current element and advances the iterator to the next element.\n",
        "- The `hasNext` method returns a boolean indicating whether there are more elements to iterate over.\n",
        "\n",
        "This wrapper class allows you to peek at the next element of an iterator without actually consuming it, which can be quite useful in various programming scenarios."
      ],
      "metadata": {
        "id": "l0k7hacjDY3e"
      }
    },
    {
      "cell_type": "code",
      "source": [
        "class PeekableInterface(object):\n",
        "    def __init__(self, iterator):\n",
        "        self.iterator = iterator\n",
        "        self._next = None\n",
        "        self._hasNext = None\n",
        "        self._advance()\n",
        "\n",
        "    def _advance(self):\n",
        "        if self.iterator.hasNext():\n",
        "            self._next = self.iterator.next()\n",
        "            self._hasNext = True\n",
        "        else:\n",
        "            self._next = None\n",
        "            self._hasNext = False\n",
        "\n",
        "    def peek(self):\n",
        "        return self._next\n",
        "\n",
        "    def next(self):\n",
        "        if not self._hasNext:\n",
        "            raise StopIteration()\n",
        "        next_item = self._next\n",
        "        self._advance()\n",
        "        return next_item\n",
        "\n",
        "    def hasNext(self):\n",
        "        return self._hasNext\n"
      ],
      "metadata": {
        "id": "zQP43IWtDjeE"
      },
      "execution_count": 1,
      "outputs": []
    },
    {
      "cell_type": "markdown",
      "source": [
        "##Testing:\n",
        "To test the `PeekableInterface` class, we need to create a mock iterator that implements the `next()` and `hasNext()` methods. This mock iterator will be passed to the `PeekableInterface` to demonstrate its functionality. We'll test the class with a few scenarios to ensure that the peeking functionality works as expected without consuming the elements prematurely.\n",
        "\n",
        "Here's a plan for testing:\n",
        "\n",
        "1. Create a simple iterator class that iterates over a list of elements.\n",
        "2. Initialize the `PeekableInterface` with this iterator.\n",
        "3. Perform a series of operations involving `peek()`, `next()`, and `hasNext()` and check the results.\n",
        "\n",
        "Let's start by writing the mock iterator and then proceed to test the `PeekableInterface`:\n",
        "\n",
        "In this test, we're checking that:\n",
        "- The `peek()` method correctly shows the next element without consuming it.\n",
        "- The `next()` method behaves as expected after peeking.\n",
        "- The `hasNext()` method accurately reflects the state of the iterator.\n",
        "- The functionality works correctly at the end of the iterator.\n",
        "\n",
        "This test should cover the basic functionality of the `PeekableInterface`."
      ],
      "metadata": {
        "id": "KN410RZGDzyx"
      }
    },
    {
      "cell_type": "code",
      "source": [
        "class MockIterator(object):\n",
        "    def __init__(self, data):\n",
        "        self.data = data\n",
        "        self.index = 0\n",
        "\n",
        "    def next(self):\n",
        "        if self.index < len(self.data):\n",
        "            result = self.data[self.index]\n",
        "            self.index += 1\n",
        "            return result\n",
        "        else:\n",
        "            raise StopIteration()\n",
        "\n",
        "    def hasNext(self):\n",
        "        return self.index < len(self.data)\n",
        "\n",
        "# Now, let's test the PeekableInterface\n",
        "def test_peekable_interface():\n",
        "    data = [1, 2, 3, 4, 5]\n",
        "    iterator = MockIterator(data)\n",
        "    peekable = PeekableInterface(iterator)\n",
        "\n",
        "    # Test peeking without consuming\n",
        "    assert peekable.peek() == 1, \"Peek failed\"\n",
        "    assert peekable.next() == 1, \"Next after peek failed\"\n",
        "\n",
        "    # Test hasNext and next\n",
        "    assert peekable.hasNext(), \"hasNext failed\"\n",
        "    assert peekable.next() == 2, \"Next failed\"\n",
        "\n",
        "    # Test peek at the end\n",
        "    peekable.next() # 3\n",
        "    peekable.next() # 4\n",
        "    assert peekable.peek() == 5, \"Peek at end failed\"\n",
        "    assert peekable.next() == 5, \"Next at end failed\"\n",
        "    assert not peekable.hasNext(), \"hasNext at end failed\"\n",
        "\n",
        "    print(\"All tests passed!\")\n",
        "\n",
        "test_peekable_interface()\n"
      ],
      "metadata": {
        "colab": {
          "base_uri": "https://localhost:8080/"
        },
        "id": "LIXq37JZD_uc",
        "outputId": "35f92a45-0e80-4192-b36b-2a5e1d93c62f"
      },
      "execution_count": 2,
      "outputs": [
        {
          "output_type": "stream",
          "name": "stdout",
          "text": [
            "All tests passed!\n"
          ]
        }
      ]
    }
  ]
}