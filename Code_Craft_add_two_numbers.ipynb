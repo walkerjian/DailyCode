{
  "nbformat": 4,
  "nbformat_minor": 0,
  "metadata": {
    "colab": {
      "provenance": [],
      "authorship_tag": "ABX9TyOPeqXQw+pb4VtVvZBJLSEs",
      "include_colab_link": true
    },
    "kernelspec": {
      "name": "python3",
      "display_name": "Python 3"
    },
    "language_info": {
      "name": "python"
    }
  },
  "cells": [
    {
      "cell_type": "markdown",
      "metadata": {
        "id": "view-in-github",
        "colab_type": "text"
      },
      "source": [
        "<a href=\"https://colab.research.google.com/github/walkerjian/DailyCode/blob/main/Code_Craft_add_two_numbers.ipynb\" target=\"_parent\"><img src=\"https://colab.research.google.com/assets/colab-badge.svg\" alt=\"Open In Colab\"/></a>"
      ]
    },
    {
      "cell_type": "markdown",
      "source": [
        "##Problem:\n",
        "Let's represent an integer in a linked list format by having each node represent a digit in the number. The nodes make up the number in reversed order.\n",
        "\n",
        "For example, the following linked list:\n",
        "\n",
        "1 -> 2 -> 3 -> 4 -> 5\n",
        "is the number 54321.\n",
        "\n",
        "Given two linked lists in this format, return their sum in the same linked list format.\n",
        "\n",
        "For example, given\n",
        "\n",
        "9 -> 9\n",
        "5 -> 2\n",
        "return 124 (99 + 25) as:\n",
        "\n",
        "4 -> 2 -> 1"
      ],
      "metadata": {
        "id": "IzCckYILTIkl"
      }
    },
    {
      "cell_type": "markdown",
      "source": [
        "##Solution:\n",
        "To solve this problem, we can follow these steps:\n",
        "\n",
        "1. **Iterate through both linked lists**: We'll traverse both lists simultaneously, starting from their heads.\n",
        "\n",
        "2. **Summing digits and handling carry**: At each step, we'll sum the corresponding digits of the two lists (if available) along with any carry from the previous step. If the sum is greater than 9, we'll keep the last digit in the current node and carry over the tens place to the next node.\n",
        "\n",
        "3. **Creating the result linked list**: The sum at each step will be stored in a new linked list which represents the sum of the two numbers.\n",
        "\n",
        "4. **Handling differing lengths and remaining carry**: If one list is longer than the other, we'll continue traversing the longer list, adding the carry if any. After finishing both lists, if there's any remaining carry, we'll add a new node for this carry.\n",
        "\n",
        "I'll write this solution in Python. Let's define a simple `ListNode` class first for the linked list nodes, and then implement the function to sum the linked lists:\n"
      ],
      "metadata": {
        "id": "5TrzrsPoTL0X"
      }
    },
    {
      "cell_type": "markdown",
      "source": [
        "##Implementation:\n"
      ],
      "metadata": {
        "id": "tZbCr71RTObB"
      }
    },
    {
      "cell_type": "code",
      "execution_count": 1,
      "metadata": {
        "id": "TdQkorit3Xag"
      },
      "outputs": [],
      "source": [
        "class ListNode:\n",
        "    def __init__(self, value=0, next=None):\n",
        "        self.value = value\n",
        "        self.next = next\n",
        "\n",
        "def add_two_numbers(l1, l2):\n",
        "    dummy = ListNode()\n",
        "    current = dummy\n",
        "    carry = 0\n",
        "\n",
        "    while l1 or l2 or carry:\n",
        "        val1 = l1.value if l1 else 0\n",
        "        val2 = l2.value if l2 else 0\n",
        "        sum_val = val1 + val2 + carry\n",
        "\n",
        "        carry = sum_val // 10\n",
        "        sum_val = sum_val % 10\n",
        "\n",
        "        current.next = ListNode(sum_val)\n",
        "        current = current.next\n",
        "\n",
        "        if l1:\n",
        "            l1 = l1.next\n",
        "        if l2:\n",
        "            l2 = l2.next\n",
        "\n",
        "    return dummy.next\n"
      ]
    },
    {
      "cell_type": "code",
      "source": [
        "# Creating linked lists for 99 and 25\n",
        "l1 = ListNode(9, ListNode(9))\n",
        "l2 = ListNode(5, ListNode(2))\n",
        "\n",
        "# Adding the two numbers\n",
        "result = add_two_numbers(l1, l2)\n",
        "\n",
        "# Function to print the linked list\n",
        "def print_linked_list(head):\n",
        "    while head:\n",
        "        print(head.value, end=\" -> \")\n",
        "        head = head.next\n",
        "    print(\"None\")\n",
        "\n",
        "# Printing the result\n",
        "print_linked_list(result)\n"
      ],
      "metadata": {
        "colab": {
          "base_uri": "https://localhost:8080/"
        },
        "id": "cC8niGaeTZ8K",
        "outputId": "094e6b79-16a3-4a97-a703-b91ff5896786"
      },
      "execution_count": 2,
      "outputs": [
        {
          "output_type": "stream",
          "name": "stdout",
          "text": [
            "4 -> 2 -> 1 -> None\n"
          ]
        }
      ]
    }
  ]
}