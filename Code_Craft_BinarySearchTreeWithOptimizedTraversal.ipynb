{
  "nbformat": 4,
  "nbformat_minor": 0,
  "metadata": {
    "colab": {
      "provenance": [],
      "authorship_tag": "ABX9TyMxumMKHqQIYqAMk7+eDlEP",
      "include_colab_link": true
    },
    "kernelspec": {
      "name": "python3",
      "display_name": "Python 3"
    },
    "language_info": {
      "name": "python"
    }
  },
  "cells": [
    {
      "cell_type": "markdown",
      "metadata": {
        "id": "view-in-github",
        "colab_type": "text"
      },
      "source": [
        "<a href=\"https://colab.research.google.com/github/walkerjian/DailyCode/blob/main/Code_Craft_BinarySearchTreeWithOptimizedTraversal.ipynb\" target=\"_parent\"><img src=\"https://colab.research.google.com/assets/colab-badge.svg\" alt=\"Open In Colab\"/></a>"
      ]
    },
    {
      "cell_type": "markdown",
      "source": [
        "##Problem:\n",
        "Given a binary search tree, find the floor and ceiling of a given integer. The floor is the highest element in the tree less than or equal to an integer, while the ceiling is the lowest element in the tree greater than or equal to an integer.\n",
        "\n",
        "If either value does not exist, return None."
      ],
      "metadata": {
        "id": "DZ9-TAPObBf0"
      }
    },
    {
      "cell_type": "markdown",
      "source": [
        "##Solution:\n"
      ],
      "metadata": {
        "id": "qVWFzSIXbFwK"
      }
    },
    {
      "cell_type": "code",
      "source": [
        "import matplotlib.pyplot as plt\n",
        "import networkx as nx\n",
        "\n",
        "# TreeNode class with a unique identifier\n",
        "class TreeNode:\n",
        "    def __init__(self, value, id):\n",
        "        self.value = value\n",
        "        self.id = id\n",
        "        self.left = None\n",
        "        self.right = None\n",
        "\n",
        "# BinarySearchTree class with methods for insertion and graph conversion\n",
        "class BinarySearchTree:\n",
        "    def __init__(self):\n",
        "        self.root = None\n",
        "        self.node_count = 0\n",
        "\n",
        "    def insert(self, value):\n",
        "        if self.root is None:\n",
        "            self.root = TreeNode(value, self.node_count)\n",
        "            self.node_count += 1\n",
        "        else:\n",
        "            self._insert_recursive(self.root, value)\n",
        "\n",
        "    def _insert_recursive(self, node, value):\n",
        "        if value < node.value or (value == node.value and node.left is None):\n",
        "            if node.left is None:\n",
        "                node.left = TreeNode(value, self.node_count)\n",
        "                self.node_count += 1\n",
        "            else:\n",
        "                self._insert_recursive(node.left, value)\n",
        "        else:\n",
        "            if node.right is None:\n",
        "                node.right = TreeNode(value, self.node_count)\n",
        "                self.node_count += 1\n",
        "            else:\n",
        "                self._insert_recursive(node.right, value)\n",
        "\n",
        "    def to_networkx_graph(self):\n",
        "        graph = nx.DiGraph()\n",
        "        if self.root:\n",
        "            self._add_edges(graph, self.root)\n",
        "        return graph\n",
        "\n",
        "    def _add_edges(self, graph, node):\n",
        "        node_label = f\"{node.value}_{node.id}\"\n",
        "        if node.left:\n",
        "            left_label = f\"{node.left.value}_{node.left.id}\"\n",
        "            graph.add_edge(node_label, left_label)\n",
        "            self._add_edges(graph, node.left)\n",
        "        if node.right:\n",
        "            right_label = f\"{node.right.value}_{node.right.id}\"\n",
        "            graph.add_edge(node_label, right_label)\n",
        "            self._add_edges(graph, node.right)\n",
        "\n",
        "# Function to plot the binary search tree\n",
        "def plot_tree(tree):\n",
        "    graph = tree.to_networkx_graph()\n",
        "    pos = hierarchy_pos(graph, f\"{tree.root.value}_{tree.root.id}\")\n",
        "    nx.draw(graph, pos, with_labels=True, arrows=False)\n",
        "    plt.show()\n",
        "\n",
        "# Custom function for hierarchical tree layout\n",
        "def hierarchy_pos(G, root, width=1., vert_gap=0.2, vert_loc=0, xcenter=0.5):\n",
        "    def _hierarchy_pos(G, root, width=1., vert_gap=0.2, vert_loc=0, xcenter=0.5, pos=None):\n",
        "        if pos is None:\n",
        "            pos = {root: (xcenter, vert_loc)}\n",
        "        else:\n",
        "            pos[root] = (xcenter, vert_loc)\n",
        "\n",
        "        neighbors = list(G.neighbors(root))\n",
        "        if len(neighbors) != 0:\n",
        "            dx = width / len(neighbors)\n",
        "            nextx = xcenter - width/2 - dx/2\n",
        "            for neighbor in neighbors:\n",
        "                nextx += dx\n",
        "                pos = _hierarchy_pos(G, neighbor, width=dx, vert_gap=vert_gap,\n",
        "                                     vert_loc=vert_loc-vert_gap, xcenter=nextx, pos=pos)\n",
        "        return pos\n",
        "\n",
        "    return _hierarchy_pos(G, root, width=width, vert_gap=vert_gap, vert_loc=vert_loc, xcenter=xcenter)\n",
        "\n",
        "# Create and plot the binary search tree\n",
        "bst = BinarySearchTree()\n",
        "for value in [15, 10, 20, 8, 12, 17, 25, 17]:  # Including a duplicate value\n",
        "    bst.insert(value)\n",
        "\n",
        "plot_tree(bst)\n",
        "\n"
      ],
      "metadata": {
        "id": "0odSdptWdlKv",
        "outputId": "f022a58c-41a4-4d20-b9f5-8620dada4275",
        "colab": {
          "base_uri": "https://localhost:8080/",
          "height": 516
        }
      },
      "execution_count": null,
      "outputs": [
        {
          "output_type": "display_data",
          "data": {
            "text/plain": [
              "<Figure size 640x480 with 1 Axes>"
            ],
            "image/png": "[encoded data removed]"
          },
          "metadata": {}
        }
      ]
    },
    {
      "cell_type": "code",
      "source": [
        "class TreeNode:\n",
        "    def __init__(self, value, id):\n",
        "        self.value = value\n",
        "        self.id = id\n",
        "        self.left = None\n",
        "        self.right = None\n",
        "\n",
        "class BinarySearchTree:\n",
        "    def __init__(self):\n",
        "        self.root = None\n",
        "        self.node_count = 0\n",
        "\n",
        "    def insert(self, value):\n",
        "        if self.root is None:\n",
        "            self.root = TreeNode(value, self.node_count)\n",
        "            self.node_count += 1\n",
        "        else:\n",
        "            self._insert_recursive(self.root, value)\n",
        "\n",
        "    def _insert_recursive(self, node, value):\n",
        "        if value <= node.value:\n",
        "            if node.left is None:\n",
        "                node.left = TreeNode(value, self.node_count)\n",
        "                self.node_count += 1\n",
        "            else:\n",
        "                self._insert_recursive(node.left, value)\n",
        "        else:\n",
        "            if node.right is None:\n",
        "                node.right = TreeNode(value, self.node_count)\n",
        "                self.node_count += 1\n",
        "            else:\n",
        "                self._insert_recursive(node.right, value)\n",
        "\n",
        "    def find_floor(self, key):\n",
        "        return self._find_floor(self.root, key, None)\n",
        "\n",
        "    def _find_floor(self, node, key, floor):\n",
        "        if node is None:\n",
        "            return floor\n",
        "        if node.value == key:\n",
        "            return node.value\n",
        "        if key < node.value:\n",
        "            return self._find_floor(node.left, key, floor)\n",
        "        return self._find_floor(node.right, key, node.value)\n",
        "\n",
        "    def find_ceiling(self, key):\n",
        "        return self._find_ceiling(self.root, key, None)\n",
        "\n",
        "    def _find_ceiling(self, node, key, ceil):\n",
        "        if node is None:\n",
        "            return ceil\n",
        "        if node.value == key:\n",
        "            return node.value\n",
        "        if key > node.value:\n",
        "            return self._find_ceiling(node.right, key, ceil)\n",
        "        return self._find_ceiling(node.left, key, node.value)\n",
        "\n",
        "# Create the binary search tree\n",
        "bst = BinarySearchTree()\n",
        "for value in [15, 10, 20, 8, 12, 17, 25, 17]:  # Including a duplicate value\n",
        "    bst.insert(value)\n",
        "\n",
        "# Test the floor and ceiling functions\n",
        "test_values = [9, 14, 18, 30]\n",
        "floors_ceilings = [(value, bst.find_floor(value), bst.find_ceiling(value)) for value in test_values]\n",
        "floors_ceilings\n",
        "\n"
      ],
      "metadata": {
        "colab": {
          "base_uri": "https://localhost:8080/"
        },
        "id": "Wc8IsdyDyd0x",
        "outputId": "01061bde-0655-43c1-f134-d79efe0a480a"
      },
      "execution_count": 1,
      "outputs": [
        {
          "output_type": "execute_result",
          "data": {
            "text/plain": [
              "[(9, 8, 10), (14, 12, 15), (18, 17, 20), (30, 25, None)]"
            ]
          },
          "metadata": {},
          "execution_count": 1
        }
      ]
    },
    {
      "cell_type": "code",
      "source": [
        "class BinarySearchTreeWithOptimizedTraversal(BinarySearchTree):\n",
        "    def find_floor_and_ceiling(self, key):\n",
        "        \"\"\"\n",
        "        Find both the floor and ceiling of the given key using a single in-order traversal.\n",
        "        \"\"\"\n",
        "        self.floor = None\n",
        "        self.ceiling = None\n",
        "        self._find_floor_ceiling_in_order(self.root, key)\n",
        "        return self.floor, self.ceiling\n",
        "\n",
        "    def _find_floor_ceiling_in_order(self, node, key):\n",
        "        if node is None:\n",
        "            return\n",
        "\n",
        "        if node.value == key:\n",
        "            self.floor = self.ceiling = node.value\n",
        "            return  # Found exact match, no need to traverse further\n",
        "\n",
        "        if node.value < key:\n",
        "            self.floor = node.value\n",
        "            self._find_floor_ceiling_in_order(node.right, key)\n",
        "        else:\n",
        "            self.ceiling = node.value\n",
        "            if self.floor is not None:\n",
        "                return  # Found ceiling, floor already found, stop traversal\n",
        "            self._find_floor_ceiling_in_order(node.left, key)\n",
        "\n",
        "# Test the optimized method to find floor and ceiling\n",
        "bst_opt = BinarySearchTreeWithOptimizedTraversal()\n",
        "for value in [15, 10, 20, 8, 12, 17, 25, 17]:\n",
        "    bst_opt.insert(value)\n",
        "\n",
        "# Find the optimized floor and ceiling for a test value\n",
        "test_value = 18\n",
        "optimized_floor, optimized_ceiling = bst_opt.find_floor_and_ceiling(test_value)\n",
        "optimized_floor, optimized_ceiling"
      ],
      "metadata": {
        "colab": {
          "base_uri": "https://localhost:8080/"
        },
        "id": "XcZUitpcyeqW",
        "outputId": "50ce75c2-14d4-4287-d5fc-34fe11750e67"
      },
      "execution_count": 5,
      "outputs": [
        {
          "output_type": "execute_result",
          "data": {
            "text/plain": [
              "(15, 20)"
            ]
          },
          "metadata": {},
          "execution_count": 5
        }
      ]
    },
    {
      "cell_type": "code",
      "source": [],
      "metadata": {
        "id": "P7TCpoTO3VEE"
      },
      "execution_count": null,
      "outputs": []
    }
  ]
}