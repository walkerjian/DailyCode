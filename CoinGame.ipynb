{
  "nbformat": 4,
  "nbformat_minor": 0,
  "metadata": {
    "colab": {
      "provenance": [],
      "authorship_tag": "ABX9TyNQjp2WhzYsv0YUO2NpUlE9",
      "include_colab_link": true
    },
    "kernelspec": {
      "name": "python3",
      "display_name": "Python 3"
    },
    "language_info": {
      "name": "python"
    }
  },
  "cells": [
    {
      "cell_type": "markdown",
      "metadata": {
        "id": "view-in-github",
        "colab_type": "text"
      },
      "source": [
        "<a href=\"https://colab.research.google.com/github/walkerjian/DailyCode/blob/main/CoinGame.ipynb\" target=\"_parent\"><img src=\"https://colab.research.google.com/assets/colab-badge.svg\" alt=\"Open In Colab\"/></a>"
      ]
    },
    {
      "cell_type": "code",
      "execution_count": 1,
      "metadata": {
        "colab": {
          "base_uri": "https://localhost:8080/"
        },
        "id": "zJNxP4jgLBb9",
        "outputId": "7cbf1bba-e615-46bf-e94a-6fd9e830515d"
      },
      "outputs": [
        {
          "output_type": "stream",
          "name": "stdout",
          "text": [
            "Coins: [1, 2, 3, 4], Max value: 6\n",
            "Coins: [4, 3, 2, 1], Max value: 6\n",
            "Coins: [2, 2, 2, 2], Max value: 4\n",
            "Coins: [8, 15, 3, 7], Max value: 22\n"
          ]
        }
      ],
      "source": [
        "def optimal_strategy(coins):\n",
        "    \"\"\"\n",
        "    In front of you is a row of N coins, with values v1, v1, ..., vn.\n",
        "    You are asked to play the following game. You and an opponent take turns choosing either the first or last coin from the row, removing it from the row, and receiving the value of the coin.\n",
        "    Write a program that returns the maximum amount of money you can win with certainty, if you move first, assuming your opponent plays optimally.\n",
        "\n",
        "    Parameters:\n",
        "    coins (list): The list of values of the coins.\n",
        "\n",
        "    Returns:\n",
        "    int: The maximum amount of money you can win with certainty.\n",
        "    \"\"\"\n",
        "    n = len(coins)\n",
        "\n",
        "    # Create a 2D table to store solutions of subproblems\n",
        "    table = [[0 for _ in range(n)] for _ in range(n)]\n",
        "\n",
        "    for gap in range(n):\n",
        "        for i in range(n - gap):\n",
        "            j = i + gap\n",
        "\n",
        "            # Here x is value of F(i+2, j), y is F(i+1, j-1) and z is F(i, j-2) in above recursive formula\n",
        "            x = table[i+2][j] if i+2 <= j else 0\n",
        "            y = table[i+1][j-1] if i+1 <= j-1 else 0\n",
        "            z = table[i][j-2] if i <= j-2 else 0\n",
        "            table[i][j] = max(coins[i] + min(x, y), coins[j] + min(y, z))\n",
        "\n",
        "    # Return maximum possible value: table[0][n-1]\n",
        "    return table[0][n-1]\n",
        "\n",
        "\n",
        "def test_optimal_strategy():\n",
        "    \"\"\"\n",
        "    Test the optimal_strategy function with several test cases.\n",
        "    \"\"\"\n",
        "    # Test case 1: if the coins are in increasing order, then the player should always choose the last coin\n",
        "    coins = [1, 2, 3, 4]\n",
        "    print(f\"Coins: {coins}, Max value: {optimal_strategy(coins)}\")  # Expected output: 6\n",
        "\n",
        "    # Test case 2: if the coins are in decreasing order, then the player should always choose the first coin\n",
        "    coins = [4, 3, 2, 1]\n",
        "    print(f\"Coins: {coins}, Max value: {optimal_strategy(coins)}\")  # Expected output: 6\n",
        "\n",
        "    # Test case 3: if all the coins have the same value, then the player will end up with half of the total value\n",
        "    coins = [2, 2, 2, 2]\n",
        "    print(f\"Coins: {coins}, Max value: {optimal_strategy(coins)}\")  # Expected output: 4\n",
        "\n",
        "    # Test case 4: if the coins are in a random order, then the player should choose the coin that leads to the maximum value\n",
        "    coins = [8, 15, 3, 7]\n",
        "    print(f\"Coins: {coins}, Max value: {optimal_strategy(coins)}\")  # Expected output: 22\n",
        "\n",
        "test_optimal_strategy()\n"
      ]
    }
  ]
}