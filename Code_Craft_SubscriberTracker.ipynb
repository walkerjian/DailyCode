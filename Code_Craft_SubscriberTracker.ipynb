{
  "nbformat": 4,
  "nbformat_minor": 0,
  "metadata": {
    "colab": {
      "provenance": [],
      "authorship_tag": "ABX9TyP+IR4R5OHPYqZtJGNHcOSl",
      "include_colab_link": true
    },
    "kernelspec": {
      "name": "python3",
      "display_name": "Python 3"
    },
    "language_info": {
      "name": "python"
    }
  },
  "cells": [
    {
      "cell_type": "markdown",
      "metadata": {
        "id": "view-in-github",
        "colab_type": "text"
      },
      "source": [
        "<a href=\"https://colab.research.google.com/github/walkerjian/DailyCode/blob/main/Code_Craft_SubscriberTracker.ipynb\" target=\"_parent\"><img src=\"https://colab.research.google.com/assets/colab-badge.svg\" alt=\"Open In Colab\"/></a>"
      ]
    },
    {
      "cell_type": "markdown",
      "source": [
        "##Problem:\n",
        "You are given an array of length 24, where each element represents the number of new subscribers during the corresponding hour. Implement a data structure that efficiently supports the following:\n",
        "\n",
        "update(hour: int, value: int): Increment the element at index hour by value.\n",
        "query(start: int, end: int): Retrieve the number of subscribers that have signed up between start and end (inclusive).\n",
        "You can assume that all values get cleared at the end of the day, and that you will not be asked for start and end values that wrap around midnight."
      ],
      "metadata": {
        "id": "SkAP-upx-3-0"
      }
    },
    {
      "cell_type": "markdown",
      "source": [
        "##Solution:\n",
        "To implement the desired functionality, we can use a class in Python that maintains an array of length 24 to store the number of new subscribers for each hour. The `update` method will increment the number of subscribers at a specific hour, and the `query` method will sum the subscribers between the given start and end hours.\n",
        "\n",
        "Let's define the class `SubscriberTracker` with the following methods:\n",
        "\n",
        "1. `__init__`: Initializes an array of length 24 with all elements set to 0.\n",
        "2. `update(hour, value)`: Increments the subscribers count for the given hour by the specified value.\n",
        "3. `query(start, end)`: Returns the total number of subscribers from the start hour to the end hour, inclusive.\n",
        "\n",
        "Additionally, I'll provide some test inputs after defining the class to demonstrate its functionality without interrupting the flow of code execution."
      ],
      "metadata": {
        "id": "oz7Rh7N1-8Cs"
      }
    },
    {
      "cell_type": "markdown",
      "source": [
        "##Implementation:\n",
        "Here is the Python implementation:\n",
        "\n",
        "This code will create a `SubscriberTracker` instance, apply some updates based on test data, and then perform a few queries to demonstrate its functionality. The test data is chosen to cover various scenarios, including edge cases."
      ],
      "metadata": {
        "id": "hMsq1rGD_DvW"
      }
    },
    {
      "cell_type": "code",
      "execution_count": 1,
      "metadata": {
        "colab": {
          "base_uri": "https://localhost:8080/"
        },
        "id": "NK1NSLtM-3RG",
        "outputId": "7655da55-893b-489d-da02-d7f943005a89"
      },
      "outputs": [
        {
          "output_type": "stream",
          "name": "stdout",
          "text": [
            "Subscribers from hour 2 to 5: 30\n",
            "Subscribers from hour 0 to 23: 35\n",
            "Subscribers from hour 10 to 15: 5\n"
          ]
        }
      ],
      "source": [
        "class SubscriberTracker:\n",
        "    def __init__(self):\n",
        "        # Initialize an array of 24 elements to store subscribers count for each hour\n",
        "        self.subscribers = [0] * 24\n",
        "\n",
        "    def update(self, hour, value):\n",
        "        # Increment the subscribers count for the specified hour\n",
        "        if 0 <= hour < 24:\n",
        "            self.subscribers[hour] += value\n",
        "\n",
        "    def query(self, start, end):\n",
        "        # Calculate the total number of subscribers from start to end hour (inclusive)\n",
        "        if 0 <= start <= end < 24:\n",
        "            return sum(self.subscribers[start:end + 1])\n",
        "        return 0\n",
        "\n",
        "# Test the SubscriberTracker class\n",
        "tracker = SubscriberTracker()\n",
        "\n",
        "# Test data\n",
        "test_updates = [(3, 10), (5, 20), (15, 5)]\n",
        "test_queries = [(2, 5), (0, 23), (10, 15)]\n",
        "\n",
        "# Apply updates\n",
        "for hour, value in test_updates:\n",
        "    tracker.update(hour, value)\n",
        "\n",
        "# Perform queries\n",
        "for start, end in test_queries:\n",
        "    print(f\"Subscribers from hour {start} to {end}: {tracker.query(start, end)}\")\n"
      ]
    }
  ]
}