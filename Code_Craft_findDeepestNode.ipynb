{
  "nbformat": 4,
  "nbformat_minor": 0,
  "metadata": {
    "colab": {
      "provenance": [],
      "authorship_tag": "ABX9TyNw4vj1ObKwpE9+iqiW9atY",
      "include_colab_link": true
    },
    "kernelspec": {
      "name": "python3",
      "display_name": "Python 3"
    },
    "language_info": {
      "name": "python"
    }
  },
  "cells": [
    {
      "cell_type": "markdown",
      "metadata": {
        "id": "view-in-github",
        "colab_type": "text"
      },
      "source": [
        "<a href=\"https://colab.research.google.com/github/walkerjian/DailyCode/blob/main/Code_Craft_findDeepestNode.ipynb\" target=\"_parent\"><img src=\"https://colab.research.google.com/assets/colab-badge.svg\" alt=\"Open In Colab\"/></a>"
      ]
    },
    {
      "cell_type": "markdown",
      "source": [
        "##Problem:\n",
        "Given the root of a binary tree, return a deepest node. For example, in the following tree, return d.\n",
        "```\n",
        "    a\n",
        "   / \\\n",
        "  b   c\n",
        " /\n",
        "d\n",
        "```"
      ],
      "metadata": {
        "id": "nYPqNxB3A2CP"
      }
    },
    {
      "cell_type": "markdown",
      "source": [
        "##Solution:\n",
        "To find the deepest node in a binary tree, you can perform a depth-first search (DFS) traversal of the tree. While traversing, keep track of the maximum depth reached and the node at that depth. Once you have traversed the entire tree, you'll have found the deepest node.\n",
        "\n",
        "Here's a Python function that implements this approach using recursion. This function assumes that the binary tree is defined using a simple `TreeNode` class with `left` and `right` attributes:"
      ],
      "metadata": {
        "id": "SpfSdbcAA_0R"
      }
    },
    {
      "cell_type": "markdown",
      "source": [
        "##Implementation:\n",
        "In this code:\n",
        "- `TreeNode` class represents a node in the binary tree.\n",
        "- `findDeepestNode` function uses a helper function `dfs` which performs a depth-first search.\n",
        "- `dfs` function recursively finds the deepest node and its depth.\n",
        "- The function returns the deepest node in the given binary tree.\n",
        "\n",
        "For the given example tree, this function would return the node with value 'd'."
      ],
      "metadata": {
        "id": "8YAmITAMBLUt"
      }
    },
    {
      "cell_type": "code",
      "execution_count": 2,
      "metadata": {
        "colab": {
          "base_uri": "https://localhost:8080/"
        },
        "id": "O2_yHqVrAsMv",
        "outputId": "eeab9eed-f6b8-42e4-bb87-82151c647848"
      },
      "outputs": [
        {
          "output_type": "stream",
          "name": "stdout",
          "text": [
            "d\n"
          ]
        }
      ],
      "source": [
        "class TreeNode:\n",
        "    def __init__(self, val=0, left=None, right=None):\n",
        "        self.val = val\n",
        "        self.left = left\n",
        "        self.right = right\n",
        "\n",
        "def findDeepestNode(root):\n",
        "    def dfs(node, depth):\n",
        "        if not node:\n",
        "            return (None, depth - 1)\n",
        "        left, left_depth = dfs(node.left, depth + 1)\n",
        "        right, right_depth = dfs(node.right, depth + 1)\n",
        "\n",
        "        # If current depth is greater than both left and right, return current node\n",
        "        if depth >= max(left_depth, right_depth):\n",
        "            return (node, depth)\n",
        "        # Otherwise, return the deeper node\n",
        "        return (left, left_depth) if left_depth > right_depth else (right, right_depth)\n",
        "\n",
        "    deepest_node, _ = dfs(root, 0)\n",
        "    return deepest_node\n",
        "\n",
        "# Example usage\n",
        "root = TreeNode('a', TreeNode('b', TreeNode('d')), TreeNode('c'))\n",
        "deepest_node = findDeepestNode(root)\n",
        "print(deepest_node.val if deepest_node else None)\n"
      ]
    },
    {
      "cell_type": "markdown",
      "source": [
        "##Testing:\n",
        "To create a comprehensive test harness for the `findDeepestNode` function, we'll write several test cases that cover a variety of scenarios. These scenarios will include:\n",
        "\n",
        "1. A basic tree with multiple levels.\n",
        "2. A tree with a single node (root only).\n",
        "3. A completely empty tree (null root).\n",
        "4. A tree that is unbalanced (deeper on one side).\n",
        "5. A tree where the deepest nodes are on different levels but one branch is longer.\n",
        "\n",
        "The test harness will execute each of these test cases, catching and reporting any failures without interrupting the entire testing process. This approach ensures that all tests are run, giving us a comprehensive view of the function's robustness.\n",
        "\n",
        "Here's the Python code for the test harness:\n"
      ],
      "metadata": {
        "id": "fIl-hwe6Cel3"
      }
    },
    {
      "cell_type": "code",
      "source": [
        "class TreeNode:\n",
        "    def __init__(self, val=0, left=None, right=None):\n",
        "        self.val = val\n",
        "        self.left = left\n",
        "        self.right = right\n",
        "\n",
        "def findDeepestNode(root):\n",
        "    def dfs(node, depth):\n",
        "        if not node:\n",
        "            return (None, depth - 1)\n",
        "        left, left_depth = dfs(node.left, depth + 1)\n",
        "        right, right_depth = dfs(node.right, depth + 1)\n",
        "        if depth >= max(left_depth, right_depth):\n",
        "            return (node, depth)\n",
        "        return (left, left_depth) if left_depth > right_depth else (right, right_depth)\n",
        "\n",
        "    deepest_node, _ = dfs(root, 0)\n",
        "    return deepest_node\n",
        "\n",
        "# Test harness\n",
        "def run_tests():\n",
        "    tests = [\n",
        "        (\"Test 1 - Basic Tree\", TreeNode('a', TreeNode('b', TreeNode('d')), TreeNode('c')), 'd'),\n",
        "        (\"Test 2 - Single Node\", TreeNode('a'), 'a'),\n",
        "        (\"Test 3 - Empty Tree\", None, None),\n",
        "        (\"Test 4 - Unbalanced Tree\", TreeNode('a', TreeNode('b', None, TreeNode('d')), TreeNode('c')), 'd'),\n",
        "        (\"Test 5 - Different Level Deepest Nodes\", TreeNode('a', TreeNode('b', TreeNode('d', TreeNode('e'))), TreeNode('c', TreeNode('f'))), 'e')\n",
        "    ]\n",
        "\n",
        "    for test_name, root, expected in tests:\n",
        "        try:\n",
        "            result = findDeepestNode(root)\n",
        "            assert (result.val if result else None) == expected, f\"Expected: {expected}, Got: {result.val if result else None}\"\n",
        "            print(f\"{test_name}: Passed\")\n",
        "        except AssertionError as e:\n",
        "            print(f\"{test_name}: Failed ({e})\")\n",
        "        except Exception as e:\n",
        "            print(f\"{test_name}: Error ({e})\")\n",
        "\n",
        "run_tests()\n"
      ],
      "metadata": {
        "colab": {
          "base_uri": "https://localhost:8080/"
        },
        "id": "ePjqJE_eBSwD",
        "outputId": "9daaadfc-5b70-4070-c45d-10cae8e5f7b3"
      },
      "execution_count": 3,
      "outputs": [
        {
          "output_type": "stream",
          "name": "stdout",
          "text": [
            "Test 1 - Basic Tree: Passed\n",
            "Test 2 - Single Node: Passed\n",
            "Test 3 - Empty Tree: Passed\n",
            "Test 4 - Unbalanced Tree: Passed\n",
            "Test 5 - Different Level Deepest Nodes: Passed\n"
          ]
        }
      ]
    },
    {
      "cell_type": "markdown",
      "source": [
        "In this test harness:\n",
        "\n",
        "- Each test case is defined with a name, a tree structure, and the expected deepest node's value.\n",
        "- The `run_tests` function iterates over the test cases, executing `findDeepestNode` and comparing the result with the expected value.\n",
        "- Assertions are used to validate the test outcomes, with a try-except block to handle and report failures without stopping the test execution.\n",
        "\n",
        "This setup provides a thorough evaluation of the `findDeepestNode` function across different tree configurations."
      ],
      "metadata": {
        "id": "5FGFQSWxCtnT"
      }
    }
  ]
}