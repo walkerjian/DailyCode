{
  "nbformat": 4,
  "nbformat_minor": 0,
  "metadata": {
    "colab": {
      "provenance": [],
      "authorship_tag": "ABX9TyO6lABA76XODY9LiUAaxJCo",
      "include_colab_link": true
    },
    "kernelspec": {
      "name": "python3",
      "display_name": "Python 3"
    },
    "language_info": {
      "name": "python"
    }
  },
  "cells": [
    {
      "cell_type": "markdown",
      "metadata": {
        "id": "view-in-github",
        "colab_type": "text"
      },
      "source": [
        "<a href=\"https://colab.research.google.com/github/walkerjian/DailyCode/blob/main/TreeNode.ipynb\" target=\"_parent\"><img src=\"https://colab.research.google.com/assets/colab-badge.svg\" alt=\"Open In Colab\"/></a>"
      ]
    },
    {
      "cell_type": "markdown",
      "source": [
        "##Problem:\n",
        "Print the nodes in a binary tree level-wise. For example, the following should print 1, 2, 3, 4, 5.\n",
        "```\n",
        "  1\n",
        " / \\\n",
        "2   3\n",
        "   / \\\n",
        "  4   5\n",
        "```"
      ],
      "metadata": {
        "id": "Lwu4XA0J3bIp"
      }
    },
    {
      "cell_type": "markdown",
      "source": [
        "##Solution:\n",
        "To print the nodes of a binary tree level-wise, you can use a Breadth-First Search (BFS) approach. BFS traverses the tree level by level, starting from the root. This is typically implemented using a queue.\n",
        "\n",
        "This code defines a simple `TreeNode` class to represent nodes in the binary tree. The `print_level_order` function takes the root of the tree and prints the nodes level by level. It uses a queue to keep track of nodes at each level, starting from the root.\n",
        "\n",
        "In the example tree structure:\n",
        "```\n",
        "  1\n",
        " / \\\n",
        "2   3\n",
        "   / \\\n",
        "  4   5\n",
        "```\n",
        "\n",
        "When you pass the root of this tree to `print_level_order`, it will output `1 2 3 4 5`."
      ],
      "metadata": {
        "id": "0bE7hXtF3fbl"
      }
    },
    {
      "cell_type": "markdown",
      "source": [
        "##Implementation:"
      ],
      "metadata": {
        "id": "JEJpr93l31CV"
      }
    },
    {
      "cell_type": "code",
      "execution_count": 1,
      "metadata": {
        "colab": {
          "base_uri": "https://localhost:8080/"
        },
        "id": "EOAXDBgW3Z1V",
        "outputId": "9d8c3e39-d6ae-4237-8119-79a7373d6fff"
      },
      "outputs": [
        {
          "output_type": "stream",
          "name": "stdout",
          "text": [
            "1 2 3 4 5 "
          ]
        }
      ],
      "source": [
        "class TreeNode:\n",
        "    def __init__(self, value=0, left=None, right=None):\n",
        "        self.value = value\n",
        "        self.left = left\n",
        "        self.right = right\n",
        "\n",
        "def print_level_order(root):\n",
        "    if not root:\n",
        "        return\n",
        "\n",
        "    queue = [root]\n",
        "\n",
        "    while queue:\n",
        "        node = queue.pop(0)\n",
        "        print(node.value, end=' ')\n",
        "\n",
        "        if node.left:\n",
        "            queue.append(node.left)\n",
        "        if node.right:\n",
        "            queue.append(node.right)\n",
        "\n",
        "# Example Usage\n",
        "root = TreeNode(1)\n",
        "root.left = TreeNode(2)\n",
        "root.right = TreeNode(3)\n",
        "root.right.left = TreeNode(4)\n",
        "root.right.right = TreeNode(5)\n",
        "\n",
        "print_level_order(root)\n"
      ]
    }
  ]
}