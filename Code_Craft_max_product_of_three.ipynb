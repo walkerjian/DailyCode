{
  "nbformat": 4,
  "nbformat_minor": 0,
  "metadata": {
    "colab": {
      "provenance": [],
      "authorship_tag": "ABX9TyOYnzC+0pFzPTHNhZo9a6F7",
      "include_colab_link": true
    },
    "kernelspec": {
      "name": "python3",
      "display_name": "Python 3"
    },
    "language_info": {
      "name": "python"
    }
  },
  "cells": [
    {
      "cell_type": "markdown",
      "metadata": {
        "id": "view-in-github",
        "colab_type": "text"
      },
      "source": [
        "<a href=\"https://colab.research.google.com/github/walkerjian/DailyCode/blob/main/Code_Craft_max_product_of_three.ipynb\" target=\"_parent\"><img src=\"https://colab.research.google.com/assets/colab-badge.svg\" alt=\"Open In Colab\"/></a>"
      ]
    },
    {
      "cell_type": "markdown",
      "source": [
        "##Problem:\n",
        "Given a list of integers, return the largest product that can be made by multiplying any three integers.\n",
        "\n",
        "For example, if the list is [-10, -10, 5, 2], we should return 500, since that's -10 * -10 * 5.\n",
        "\n",
        "You can assume the list has at least three integers.\n",
        "##Solution:\n",
        "To solve this problem, we need to consider that the largest product of three integers in a list can be obtained in two ways:\n",
        "\n",
        "1. By multiplying the three largest numbers in the list.\n",
        "2. By multiplying the two smallest numbers (which could be negative and thus make a positive product) and the largest number.\n",
        "\n",
        "The algorithm would be as follows:\n",
        "\n",
        "1. Sort the list of integers.\n",
        "2. Calculate the product of the three largest integers.\n",
        "3. Calculate the product of the two smallest integers and the largest integer.\n",
        "4. Return the maximum of the two products calculated above.\n",
        "\n",
        "This code will work for any list of integers with at least three elements, and it accounts for both positive and negative integers.\n",
        "##Implementation:\n",
        "\n"
      ],
      "metadata": {
        "id": "gMbckX-JzGqj"
      }
    },
    {
      "cell_type": "code",
      "execution_count": 1,
      "metadata": {
        "colab": {
          "base_uri": "https://localhost:8080/"
        },
        "id": "mSr0uiF_y-lX",
        "outputId": "f4231cae-1623-423e-c8a2-4209a85d0d96"
      },
      "outputs": [
        {
          "output_type": "stream",
          "name": "stdout",
          "text": [
            "500\n"
          ]
        }
      ],
      "source": [
        "def max_product_of_three(nums):\n",
        "    nums.sort()\n",
        "    return max(nums[-1] * nums[-2] * nums[-3], nums[0] * nums[1] * nums[-1])\n",
        "\n",
        "# Example usage\n",
        "print(max_product_of_three([-10, -10, 5, 2]))  # Should return 500"
      ]
    },
    {
      "cell_type": "markdown",
      "source": [
        "##Testing:\n",
        "To thoroughly test this function, we should consider various cases, including lists with odd and even numbers of negative numbers, lists with all negative numbers, lists with all positive numbers, and lists with zeros. Here are some scenarios to test:\n",
        "\n",
        "1. **All Negative Numbers**: e.g., `[-5, -4, -3, -2, -1]`\n",
        "2. **All Positive Numbers**: e.g., `[1, 2, 3, 4, 5]`\n",
        "3. **Mix of Positive and Negative Numbers**:\n",
        "   - Odd number of negative numbers: `[-5, -4, 3, 2, 1]`\n",
        "   - Even number of negative numbers: `[-6, -5, 4, 3, 2, 1]`\n",
        "4. **Lists with Zeros**:\n",
        "   - Negative numbers and zeros: `[-3, -2, 0, 0, 1]`\n",
        "   - Positive numbers and zeros: `[0, 0, 2, 3, 4]`\n",
        "5. **Edge Cases**:\n",
        "   - Minimum length list: `[1, 2, 3]`\n",
        "   - Large numbers: `[1000, 2000, -3000, -4000, 5000]`\n",
        "6. **Duplicates and Special Cases**:\n",
        "   - List with duplicate numbers: `[2, 2, 2, 2, 2]`\n",
        "   - List with large negative and positive numbers: `[-1000, -999, 1000, 1001, 1002]`\n",
        "\n",
        "I will implement the function in Python and then run these test cases to ensure it covers all scenarios effectively. Let's proceed with the implementation and testing.\n",
        "\n",
        "The test results for various cases are as follows:\n",
        "\n",
        "1. **All Negative Numbers** (`[-5, -4, -3, -2, -1]`): Maximum product is `-6`.\n",
        "2. **All Positive Numbers** (`[1, 2, 3, 4, 5]`): Maximum product is `60`.\n",
        "3. **Mix: Odd Negatives** (`[-5, -4, 3, 2, 1]`): Maximum product is `60`.\n",
        "4. **Mix: Even Negatives** (`[-6, -5, 4, 3, 2, 1]`): Maximum product is `120`.\n",
        "5. **With Zeros: Negatives and Zeros** (`[-3, -2, 0, 0, 1]`): Maximum product is `6`.\n",
        "6. **With Zeros: Positives and Zeros** (`[0, 0, 2, 3, 4]`): Maximum product is `24`.\n",
        "7. **Edge Case: Min Length** (`[1, 2, 3]`): Maximum product is `6`.\n",
        "8. **Large Numbers** (`[1000, 2000, -3000, -4000, 5000]`): Maximum product is `60,000,000,000`.\n",
        "9. **Duplicates** (`[2, 2, 2, 2, 2]`): Maximum product is `8`.\n",
        "10. **Large Positives and Negatives** (`[-1000, -999, 1000, 1001, 1002]`): Maximum product is `1,003,002,000`.\n",
        "\n",
        "These results confirm that the function handles a variety of scenarios effectively, including edge cases and combinations of positive and negative numbers."
      ],
      "metadata": {
        "id": "Dd66-MWf0TVE"
      }
    },
    {
      "cell_type": "code",
      "source": [
        "def max_product_of_three(nums):\n",
        "    nums.sort()\n",
        "    return max(nums[-1] * nums[-2] * nums[-3], nums[0] * nums[1] * nums[-1])\n",
        "\n",
        "# Test cases\n",
        "test_cases = [\n",
        "    ([-5, -4, -3, -2, -1], \"All Negative Numbers\"),\n",
        "    ([1, 2, 3, 4, 5], \"All Positive Numbers\"),\n",
        "    ([-5, -4, 3, 2, 1], \"Mix: Odd Negatives\"),\n",
        "    ([-6, -5, 4, 3, 2, 1], \"Mix: Even Negatives\"),\n",
        "    ([-3, -2, 0, 0, 1], \"With Zeros: Negatives and Zeros\"),\n",
        "    ([0, 0, 2, 3, 4], \"With Zeros: Positives and Zeros\"),\n",
        "    ([1, 2, 3], \"Edge Case: Min Length\"),\n",
        "    ([1000, 2000, -3000, -4000, 5000], \"Large Numbers\"),\n",
        "    ([2, 2, 2, 2, 2], \"Duplicates\"),\n",
        "    ([-1000, -999, 1000, 1001, 1002], \"Large Positives and Negatives\")\n",
        "]\n",
        "\n",
        "# Running test cases\n",
        "test_results = [(test_case, max_product_of_three(test_case), description) for test_case, description in test_cases]\n",
        "test_results\n"
      ],
      "metadata": {
        "colab": {
          "base_uri": "https://localhost:8080/"
        },
        "id": "jPGWpKVszDV5",
        "outputId": "7cc6e251-f37b-48e2-c1be-8544e9055bd5"
      },
      "execution_count": 2,
      "outputs": [
        {
          "output_type": "execute_result",
          "data": {
            "text/plain": [
              "[([-5, -4, -3, -2, -1], -6, 'All Negative Numbers'),\n",
              " ([1, 2, 3, 4, 5], 60, 'All Positive Numbers'),\n",
              " ([-5, -4, 1, 2, 3], 60, 'Mix: Odd Negatives'),\n",
              " ([-6, -5, 1, 2, 3, 4], 120, 'Mix: Even Negatives'),\n",
              " ([-3, -2, 0, 0, 1], 6, 'With Zeros: Negatives and Zeros'),\n",
              " ([0, 0, 2, 3, 4], 24, 'With Zeros: Positives and Zeros'),\n",
              " ([1, 2, 3], 6, 'Edge Case: Min Length'),\n",
              " ([-4000, -3000, 1000, 2000, 5000], 60000000000, 'Large Numbers'),\n",
              " ([2, 2, 2, 2, 2], 8, 'Duplicates'),\n",
              " ([-1000, -999, 1000, 1001, 1002],\n",
              "  1003002000,\n",
              "  'Large Positives and Negatives')]"
            ]
          },
          "metadata": {},
          "execution_count": 2
        }
      ]
    }
  ]
}