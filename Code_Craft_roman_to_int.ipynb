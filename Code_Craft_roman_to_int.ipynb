{
  "nbformat": 4,
  "nbformat_minor": 0,
  "metadata": {
    "colab": {
      "provenance": [],
      "authorship_tag": "ABX9TyNVlhmkM/S3KxTXQc12a9ax",
      "include_colab_link": true
    },
    "kernelspec": {
      "name": "python3",
      "display_name": "Python 3"
    },
    "language_info": {
      "name": "python"
    }
  },
  "cells": [
    {
      "cell_type": "markdown",
      "metadata": {
        "id": "view-in-github",
        "colab_type": "text"
      },
      "source": [
        "<a href=\"https://colab.research.google.com/github/walkerjian/DailyCode/blob/main/Code_Craft_roman_to_int.ipynb\" target=\"_parent\"><img src=\"https://colab.research.google.com/assets/colab-badge.svg\" alt=\"Open In Colab\"/></a>"
      ]
    },
    {
      "cell_type": "markdown",
      "source": [
        "#Problem:\n",
        "Given a number in Roman numeral format, convert it to decimal.\n",
        "\n",
        "The values of Roman numerals are as follows:\n",
        "````\n",
        "{\n",
        "    'M': 1000,\n",
        "    'D': 500,\n",
        "    'C': 100,\n",
        "    'L': 50,\n",
        "    'X': 10,\n",
        "    'V': 5,\n",
        "    'I': 1\n",
        "}\n",
        "````\n",
        "In addition, note that the Roman numeral system uses subtractive notation for numbers such as IV and XL.\n",
        "\n",
        "For the input XIV, for instance, you should return 14."
      ],
      "metadata": {
        "id": "tH7CkhIN6Ovd"
      }
    },
    {
      "cell_type": "markdown",
      "source": [
        "##Solution:\n",
        "To convert a Roman numeral to its decimal (integer) representation, you can follow a systematic approach:\n",
        "\n",
        "1. **Understand the Roman Numerals**: Each Roman numeral symbol has a specific value:\n",
        "   - 'I' = 1\n",
        "   - 'V' = 5\n",
        "   - 'X' = 10\n",
        "   - 'L' = 50\n",
        "   - 'C' = 100\n",
        "   - 'D' = 500\n",
        "   - 'M' = 1000\n",
        "\n",
        "2. **Subtractive Notation**: Sometimes, a smaller numeral placed before a larger numeral indicates subtraction. For example:\n",
        "   - 'IV' = 4 (5 - 1)\n",
        "   - 'IX' = 9 (10 - 1)\n",
        "   - 'XL' = 40 (50 - 10)\n",
        "   - 'XC' = 90 (100 - 10)\n",
        "   - 'CD' = 400 (500 - 100)\n",
        "   - 'CM' = 900 (1000 - 100)\n",
        "\n",
        "3. **Conversion Logic**: To convert a Roman numeral string to an integer:\n",
        "   - Start from the left and move to the right, comparing each numeral to the next one.\n",
        "   - If a numeral is less than the one following it, subtract its value.\n",
        "   - Otherwise, add its value.\n",
        "   - Sum these adjusted values to get the final result.\n"
      ],
      "metadata": {
        "id": "itQ9Rbxe6Twn"
      }
    },
    {
      "cell_type": "markdown",
      "source": [
        "##Implementation:"
      ],
      "metadata": {
        "id": "Cb3P4iVt6W-J"
      }
    },
    {
      "cell_type": "code",
      "source": [
        "def roman_to_int(s):\n",
        "    roman_values = {\n",
        "        'M': 1000,\n",
        "        'D': 500,\n",
        "        'C': 100,\n",
        "        'L': 50,\n",
        "        'X': 10,\n",
        "        'V': 5,\n",
        "        'I': 1\n",
        "    }\n",
        "\n",
        "    total = 0\n",
        "    prev_value = 0\n",
        "\n",
        "    for char in reversed(s):\n",
        "        value = roman_values[char]\n",
        "        if value < prev_value:\n",
        "            total -= value\n",
        "        else:\n",
        "            total += value\n",
        "        prev_value = value\n",
        "\n",
        "    return total"
      ],
      "metadata": {
        "id": "lve1Yewi6N4N",
        "colab": {
          "base_uri": "https://localhost:8080/"
        },
        "outputId": "82505b92-280d-4971-e9f6-5cc699de140c"
      },
      "execution_count": 1,
      "outputs": [
        {
          "output_type": "stream",
          "name": "stdout",
          "text": [
            "14\n"
          ]
        }
      ]
    },
    {
      "cell_type": "markdown",
      "source": [
        "##Testing:"
      ],
      "metadata": {
        "id": "rmascGp76a_Q"
      }
    },
    {
      "cell_type": "code",
      "execution_count": 10,
      "metadata": {
        "id": "kVX9PbNY6M7_",
        "colab": {
          "base_uri": "https://localhost:8080/"
        },
        "outputId": "c08f8a7d-be77-4931-f05c-4b02799912ce"
      },
      "outputs": [
        {
          "output_type": "stream",
          "name": "stdout",
          "text": [
            "2024\n"
          ]
        }
      ],
      "source": [
        "# Test\n",
        "print(roman_to_int(\"MMXXIV\"))"
      ]
    }
  ]
}