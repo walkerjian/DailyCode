{
  "nbformat": 4,
  "nbformat_minor": 0,
  "metadata": {
    "colab": {
      "provenance": [],
      "authorship_tag": "ABX9TyPeisMXJhE1qZO55u+wxmIg",
      "include_colab_link": true
    },
    "kernelspec": {
      "name": "python3",
      "display_name": "Python 3"
    },
    "language_info": {
      "name": "python"
    }
  },
  "cells": [
    {
      "cell_type": "markdown",
      "metadata": {
        "id": "view-in-github",
        "colab_type": "text"
      },
      "source": [
        "<a href=\"https://colab.research.google.com/github/walkerjian/DailyCode/blob/main/Code_Craft_Pow.ipynb\" target=\"_parent\"><img src=\"https://colab.research.google.com/assets/colab-badge.svg\" alt=\"Open In Colab\"/></a>"
      ]
    },
    {
      "cell_type": "markdown",
      "source": [
        "##Problem:\n",
        "Implement integer exponentiation. That is, implement the pow(x, y) function, where x and y are integers and returns x^y.\n",
        "\n",
        "Do this faster than the naive method of repeated multiplication.\n",
        "\n",
        "For example, pow(2, 10) should return 1024.\n",
        "##Solution:\n",
        "To implement integer exponentiation efficiently, we can use the method of exponentiation by squaring. This approach is significantly faster than naive repeated multiplication, especially for large exponents.\n",
        "\n",
        "The algorithm works as follows:\n",
        "\n",
        "1. If `y` is 0, return 1, because any number raised to the power of 0 is 1.\n",
        "2. If `y` is negative, we compute the positive exponentiation and then take the reciprocal. This is because `x^(-y) = 1 / (x^y)`.\n",
        "3. For positive `y`, we use the property that `x^y = (x^(y/2))^2` if `y` is even, and `x^y = x * (x^((y-1)/2))^2` if `y` is odd.\n",
        "\n",
        "This method reduces the number of multiplications significantly, leading to a logarithmic time complexity. I will implement this function in Python:\n",
        "\n",
        "This function should work for both positive and negative values of `y`, handling them efficiently. Let's test it with your example of `pow(2, 10)` to ensure it returns `1024`.\n",
        "\n",
        "The implementation of the `pow(x, y)` function using exponentiation by squaring correctly returns `1024` for the input `pow(2, 10)`. This confirms that the function works as intended for this example. You can use this function for efficient integer exponentiation with various values of `x` and `y`.\n",
        "##Implementation:"
      ],
      "metadata": {
        "id": "ZfIdhFnTNEga"
      }
    },
    {
      "cell_type": "code",
      "execution_count": 5,
      "metadata": {
        "colab": {
          "base_uri": "https://localhost:8080/"
        },
        "id": "yNWD6QTFNDnh",
        "outputId": "ea7d1d8f-3c9d-41f1-9e88-74600b8b9af3"
      },
      "outputs": [
        {
          "output_type": "execute_result",
          "data": {
            "text/plain": [
              "65536"
            ]
          },
          "metadata": {},
          "execution_count": 5
        }
      ],
      "source": [
        "def pow(x, y):\n",
        "    # Base case: Any number to the power of 0 is 1\n",
        "    if y == 0:\n",
        "        return 1\n",
        "    # If exponent is negative, compute the positive exponent and take reciprocal\n",
        "    if y < 0:\n",
        "        return 1 / pow(x, -y)\n",
        "    # Recursive case: If exponent is even\n",
        "    if y % 2 == 0:\n",
        "        return pow(x, y // 2) ** 2\n",
        "    # Recursive case: If exponent is odd\n",
        "    else:\n",
        "        return x * pow(x, y // 2) ** 2\n",
        "pow(2, 16)"
      ]
    },
    {
      "cell_type": "code",
      "source": [],
      "metadata": {
        "id": "4n66SL_5OAe9"
      },
      "execution_count": null,
      "outputs": []
    }
  ]
}