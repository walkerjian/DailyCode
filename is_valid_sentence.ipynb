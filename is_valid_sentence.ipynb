{
  "nbformat": 4,
  "nbformat_minor": 0,
  "metadata": {
    "colab": {
      "provenance": [],
      "authorship_tag": "ABX9TyOHySPBfU0aev6JvYkQOs6q",
      "include_colab_link": true
    },
    "kernelspec": {
      "name": "python3",
      "display_name": "Python 3"
    },
    "language_info": {
      "name": "python"
    }
  },
  "cells": [
    {
      "cell_type": "markdown",
      "metadata": {
        "id": "view-in-github",
        "colab_type": "text"
      },
      "source": [
        "<a href=\"https://colab.research.google.com/github/walkerjian/DailyCode/blob/main/is_valid_sentence.ipynb\" target=\"_parent\"><img src=\"https://colab.research.google.com/assets/colab-badge.svg\" alt=\"Open In Colab\"/></a>"
      ]
    },
    {
      "cell_type": "markdown",
      "source": [
        "##Problem:\n",
        "Create a basic sentence checker that takes in a stream of characters and determines whether they form valid sentences. If a sentence is valid, the program should print it out.\n",
        "\n",
        "We can consider a sentence valid if it conforms to the following rules:\n",
        "\n",
        "The sentence must start with a capital letter, followed by a lowercase letter or a space.\n",
        "All other characters must be lowercase letters, separators (,,;,:) or terminal marks (.,?,!,‽).\n",
        "There must be a single space between each word.\n",
        "The sentence must end with a terminal mark immediately following a word."
      ],
      "metadata": {
        "id": "rPLe1LwbJvfR"
      }
    },
    {
      "cell_type": "markdown",
      "source": [
        "##Solution:\n",
        "To build this basic sentence checker, we can create a Python script that:\n",
        "\n",
        "1. Checks if the first character is an uppercase letter.\n",
        "2. Ensures that the second character is either a lowercase letter or a space.\n",
        "3. Checks that all other characters, except the last one, conform to the given rules.\n",
        "4. Confirms that the sentence ends with a terminal mark that immediately follows a word."
      ],
      "metadata": {
        "id": "pgSx1JZ9J0-c"
      }
    },
    {
      "cell_type": "markdown",
      "source": [
        "##Implementation:"
      ],
      "metadata": {
        "id": "qSmNaSKjJ9Le"
      }
    },
    {
      "cell_type": "code",
      "execution_count": 34,
      "metadata": {
        "colab": {
          "base_uri": "https://localhost:8080/"
        },
        "id": "CadHWA_EJsX_",
        "outputId": "ba8dde2a-750a-4468-bf69-40f2bf73fe88"
      },
      "outputs": [
        {
          "output_type": "stream",
          "name": "stdout",
          "text": [
            "Reason: Invalid character W at position 5.\n",
            "Reason: Invalid character W at position 5.\n",
            "Enter a stream of characters: def is_valid_sentence(text):     if not text[0].isupper():  # Check if first character is uppercase         print(\"Reason: First character is not uppercase.\")         return False          if len(text) == 1:  # Only one uppercase letter isn't a valid sentence         print(\"Reason: Sentence has only one character and it's uppercase.\")         return False          if not (text[1].islower() or text[1] == ' '):  # Second character must be lowercase or a space         print(f\"Reason: Second character {text[1]} is not lowercase or a space.\")         return False          prev_char = text[1]          for idx, char in enumerate(text[2:], 2):         if char.islower():  # If character is lowercase, it's valid at this stage             pass         elif char in \",;:\":  # If character is a separator             if prev_char not in \"abcdefghijklmnopqrstuvwxyz ,;:\":                 # Separator can only come after a lowercase letter, space or another separator                 print(f\"Reason: Separator {char} at position {idx} came after an invalid character {prev_char}.\")                 return False         elif char in \".?!‽\":  # If character is a terminal mark             if prev_char not in \"abcdefghijklmnopqrstuvwxyz\":                 # Terminal mark can only come after a lowercase letter                 print(f\"Reason: Terminal {char} at position {idx} came after an invalid character {prev_char}.\")                 return False         elif char == ' ':  # If character is a space             if prev_char == ' ':  # No two consecutive spaces are allowed                 print(f\"Reason: Consecutive spaces at position {idx}.\")                 return False         else:  # Any other character is invalid             print(f\"Reason: Invalid character {char} at position {idx}.\")             return False                  prev_char = char          # Sentence must end with a terminal mark     if text[-1] not in \".?!‽\":         print(f\"Reason: Sentence doesn't end with a terminal mark, instead ends with {text[-1]}.\")         return False          return True  # Testing the problematic cases is_valid_sentence('ValidWithQuestionMark?') is_valid_sentence('ValidWithExclamation!')\n",
            "Reason: First character is not uppercase.\n",
            "Invalid sentence.\n"
          ]
        }
      ],
      "source": [
        "def is_valid_sentence(text):\n",
        "    if not text[0].isupper():  # Check if first character is uppercase\n",
        "        print(\"Reason: First character is not uppercase.\")\n",
        "        return False\n",
        "\n",
        "    if len(text) == 1:  # Only one uppercase letter isn't a valid sentence\n",
        "        print(\"Reason: Sentence has only one character and it's uppercase.\")\n",
        "        return False\n",
        "\n",
        "    if not (text[1].islower() or text[1] == ' '):  # Second character must be lowercase or a space\n",
        "        print(f\"Reason: Second character {text[1]} is not lowercase or a space.\")\n",
        "        return False\n",
        "\n",
        "    prev_char = text[1]\n",
        "\n",
        "    for idx, char in enumerate(text[2:], 2):\n",
        "        if char.islower():  # If character is lowercase, it's valid at this stage\n",
        "            pass\n",
        "        elif char in \",;:\":  # If character is a separator\n",
        "            if prev_char not in \"abcdefghijklmnopqrstuvwxyz ,;:\":\n",
        "                # Separator can only come after a lowercase letter, space or another separator\n",
        "                print(f\"Reason: Separator {char} at position {idx} came after an invalid character {prev_char}.\")\n",
        "                return False\n",
        "        elif char in \".?!‽\":  # If character is a terminal mark\n",
        "            if prev_char not in \"abcdefghijklmnopqrstuvwxyz\":\n",
        "                # Terminal mark can only come after a lowercase letter\n",
        "                print(f\"Reason: Terminal {char} at position {idx} came after an invalid character {prev_char}.\")\n",
        "                return False\n",
        "        elif char == ' ':  # If character is a space\n",
        "            if prev_char == ' ':  # No two consecutive spaces are allowed\n",
        "                print(f\"Reason: Consecutive spaces at position {idx}.\")\n",
        "                return False\n",
        "        else:  # Any other character is invalid\n",
        "            print(f\"Reason: Invalid character {char} at position {idx}.\")\n",
        "            return False\n",
        "\n",
        "        prev_char = char\n",
        "\n",
        "    # Sentence must end with a terminal mark\n",
        "    if text[-1] not in \".?!‽\":\n",
        "        print(f\"Reason: Sentence doesn't end with a terminal mark, instead ends with {text[-1]}.\")\n",
        "        return False\n",
        "\n",
        "    return True\n",
        "\n",
        "# Testing the problematic cases\n",
        "is_valid_sentence('ValidWithQuestionMark?')\n",
        "is_valid_sentence('ValidWithExclamation!')\n",
        "\n",
        "\n",
        "# Input\n",
        "stream = input(\"Enter a stream of characters: \")\n",
        "\n",
        "# Check if valid\n",
        "if is_valid_sentence(stream):\n",
        "    print(stream)\n",
        "else:\n",
        "    print(\"Invalid sentence.\")\n"
      ]
    },
    {
      "cell_type": "code",
      "source": [
        "def test():\n",
        "    test_cases = [\n",
        "        (\"This is a valid sentence.\", True),\n",
        "        (\"this starts with a lowercase letter.\", False),\n",
        "        (\"ThisHasNoSpaces.\", False),\n",
        "        (\"This ends with a comma,\", False),\n",
        "        (\"This  has  double  spaces.\", False),\n",
        "        (\"A short one.\", True),\n",
        "        (\"This; uses, multiple: separators.\", True),\n",
        "        (\"ThisIsJustOneLongWord!\", False),\n",
        "        (\"EdgeCaseWithLastSpace \", False),\n",
        "        (\"ValidWithQuestionMark?\", False),\n",
        "        (\"ValidWithExclamation!\", False),\n",
        "        (\"InvalidWithRandomCharacter#\", False),\n",
        "        (\"Multiple. Sentences. In. One.\", True),\n",
        "        (\"Ends with multiple marks?!\", False),\n",
        "        (\"T \", False), # Edge case: just a capital letter and a space\n",
        "        (\"T.\", False),  # Edge case: just a capital letter and a terminal mark is invalid due to the rules.\n",
        "    ]\n",
        "\n",
        "    for idx, (sentence, expected) in enumerate(test_cases, 1):\n",
        "        # Check for multiple sentences and split accordingly\n",
        "        if any(mark in sentence for mark in [\".\", \"?\", \"!\", \"‽\"] if sentence.count(mark) > 1):\n",
        "            sentences = [s.strip() + mark for s in re.split('[.?!‽]', sentence) if s for mark in [\".\", \"?\", \"!\", \"‽\"] if s.endswith(mark)]\n",
        "            results = [is_valid_sentence(s) for s in sentences]\n",
        "            result = all(results)\n",
        "        else:\n",
        "            result = is_valid_sentence(sentence)\n",
        "\n",
        "        try:\n",
        "            assert result == expected\n",
        "            print(f\"Test {idx}: Passed!\")\n",
        "        except AssertionError:\n",
        "            print(f\"Test {idx}: Failed! Expected {expected} but got {not expected} for sentence: '{sentence}'\")\n",
        "\n",
        "test()\n"
      ],
      "metadata": {
        "colab": {
          "base_uri": "https://localhost:8080/"
        },
        "id": "Tqicp1ePKxXs",
        "outputId": "883e922e-9063-4bc7-ff12-523bc950df9b"
      },
      "execution_count": 35,
      "outputs": [
        {
          "output_type": "stream",
          "name": "stdout",
          "text": [
            "Test 1: Passed!\n",
            "Reason: First character is not uppercase.\n",
            "Test 2: Passed!\n",
            "Reason: Invalid character H at position 4.\n",
            "Test 3: Passed!\n",
            "Reason: Sentence doesn't end with a terminal mark, instead ends with ,.\n",
            "Test 4: Passed!\n",
            "Reason: Consecutive spaces at position 5.\n",
            "Test 5: Passed!\n",
            "Test 6: Passed!\n",
            "Test 7: Passed!\n",
            "Reason: Invalid character I at position 4.\n",
            "Test 8: Passed!\n",
            "Reason: Invalid character C at position 4.\n",
            "Test 9: Passed!\n",
            "Reason: Invalid character W at position 5.\n",
            "Test 10: Passed!\n",
            "Reason: Invalid character W at position 5.\n",
            "Test 11: Passed!\n",
            "Reason: Invalid character W at position 7.\n",
            "Test 12: Passed!\n",
            "Test 13: Passed!\n",
            "Reason: Terminal ! at position 25 came after an invalid character ?.\n",
            "Test 14: Passed!\n",
            "Reason: Sentence doesn't end with a terminal mark, instead ends with  .\n",
            "Test 15: Passed!\n",
            "Reason: Second character . is not lowercase or a space.\n",
            "Test 16: Passed!\n"
          ]
        }
      ]
    },
    {
      "cell_type": "code",
      "source": [],
      "metadata": {
        "id": "qpcAnrQhUJlY"
      },
      "execution_count": null,
      "outputs": []
    }
  ]
}