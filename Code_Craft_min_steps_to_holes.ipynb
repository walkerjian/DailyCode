{
  "nbformat": 4,
  "nbformat_minor": 0,
  "metadata": {
    "colab": {
      "provenance": [],
      "authorship_tag": "ABX9TyOk8Vd57ryNIFLqhHqju6Rv",
      "include_colab_link": true
    },
    "kernelspec": {
      "name": "python3",
      "display_name": "Python 3"
    },
    "language_info": {
      "name": "python"
    }
  },
  "cells": [
    {
      "cell_type": "markdown",
      "metadata": {
        "id": "view-in-github",
        "colab_type": "text"
      },
      "source": [
        "<a href=\"https://colab.research.google.com/github/walkerjian/DailyCode/blob/main/Code_Craft_min_steps_to_holes.ipynb\" target=\"_parent\"><img src=\"https://colab.research.google.com/assets/colab-badge.svg\" alt=\"Open In Colab\"/></a>"
      ]
    },
    {
      "cell_type": "markdown",
      "source": [
        "##Problem:\n",
        "Consider the following scenario: there are N mice and N holes placed at integer points along a line. Given this, find a method that maps mice to holes such that the largest number of steps any mouse takes is minimized.\n",
        "\n",
        "Each move consists of moving one mouse one unit to the left or right, and only one mouse can fit inside each hole.\n",
        "\n",
        "For example, suppose the mice are positioned at [1, 4, 9, 15], and the holes are located at [10, -5, 0, 16]. In this case, the best pairing would require us to send the mouse at 1 to the hole at -5, so our function should return 6."
      ],
      "metadata": {
        "id": "nnSEPKmmiLuW"
      }
    },
    {
      "cell_type": "markdown",
      "source": [
        "##Solution:\n",
        "To solve this problem, we can use a greedy approach. The idea is to minimize the maximum distance a mouse has to travel to reach a hole. To achieve this, we can sort the mice and holes and pair each mouse with the corresponding hole in the sorted order. This way, we ensure that each mouse travels the minimum possible distance to reach a hole.\n",
        "\n",
        "The steps of the solution are:\n",
        "1. Sort the array of mice positions.\n",
        "2. Sort the array of hole positions.\n",
        "3. Pair each mouse with the corresponding hole in the sorted arrays.\n",
        "4. Calculate the distance each mouse travels to reach its hole.\n",
        "5. Find the maximum of these distances.\n",
        "\n",
        "In this function, `min_steps_to_holes` calculates the minimum number of steps required such that each mouse reaches a hole. The function first sorts the positions of mice and holes, then calculates the distance each mouse has to travel to its corresponding hole in the sorted arrays, and finally returns the maximum of these distances.\n",
        "\n",
        "For the given example, with mice at `[1, 4, 9, 15]` and holes at `[10, -5, 0, 16]`, the function would return `6`, indicating that the largest number of steps any mouse has to take is 6."
      ],
      "metadata": {
        "id": "wTLi4kgliREg"
      }
    },
    {
      "cell_type": "markdown",
      "source": [
        "##Implementation:"
      ],
      "metadata": {
        "id": "YXf0fuECiUSQ"
      }
    },
    {
      "cell_type": "code",
      "execution_count": 1,
      "metadata": {
        "colab": {
          "base_uri": "https://localhost:8080/"
        },
        "id": "EsmF71OqiHAR",
        "outputId": "98a4a036-0c7e-4bf8-f434-ad4026b4feec"
      },
      "outputs": [
        {
          "output_type": "stream",
          "name": "stdout",
          "text": [
            "The largest number of steps any mouse takes is: 6\n"
          ]
        }
      ],
      "source": [
        "def min_steps_to_holes(mice, holes):\n",
        "    # Sort the positions of mice and holes\n",
        "    mice.sort()\n",
        "    holes.sort()\n",
        "\n",
        "    # Calculate the distance each mouse travels and find the maximum\n",
        "    max_steps = 0\n",
        "    for i in range(len(mice)):\n",
        "        max_steps = max(max_steps, abs(mice[i] - holes[i]))\n",
        "\n",
        "    return max_steps\n",
        "\n",
        "# Example usage\n",
        "mice_positions = [1, 4, 9, 15]\n",
        "hole_positions = [10, -5, 0, 16]\n",
        "result = min_steps_to_holes(mice_positions, hole_positions)\n",
        "print(\"The largest number of steps any mouse takes is:\", result)"
      ]
    },
    {
      "cell_type": "markdown",
      "source": [
        "##Testing:"
      ],
      "metadata": {
        "id": "3XVY9FbxkkFB"
      }
    },
    {
      "cell_type": "code",
      "source": [
        "def min_steps_to_holes(mice, holes):\n",
        "    \"\"\"\n",
        "    Calculate the minimum number of steps required for each mouse to reach a hole.\n",
        "\n",
        "    Parameters:\n",
        "    mice (list): List of integers representing the positions of mice.\n",
        "    holes (list): List of integers representing the positions of holes.\n",
        "\n",
        "    Returns:\n",
        "    int: The largest number of steps any mouse takes.\n",
        "    \"\"\"\n",
        "    mice.sort()\n",
        "    holes.sort()\n",
        "\n",
        "    max_steps = 0\n",
        "    for i in range(len(mice)):\n",
        "        max_steps = max(max_steps, abs(mice[i] - holes[i]))\n",
        "\n",
        "    return max_steps\n",
        "\n",
        "def controller(mice_positions, hole_positions):\n",
        "    \"\"\"\n",
        "    Controls the flow of the program.\n",
        "\n",
        "    Parameters:\n",
        "    mice_positions (list): List of mice positions.\n",
        "    hole_positions (list): List of hole positions.\n",
        "    \"\"\"\n",
        "    result = min_steps_to_holes(mice_positions, hole_positions)\n",
        "    view(result)\n",
        "\n",
        "def controller(mice_positions, hole_positions):\n",
        "    \"\"\"\n",
        "    Controls the flow of the program.\n",
        "\n",
        "    Parameters:\n",
        "    mice_positions (list): List of mice positions.\n",
        "    hole_positions (list): List of hole positions.\n",
        "    \"\"\"\n",
        "    result = min_steps_to_holes(mice_positions, hole_positions)\n",
        "    view(result)\n",
        "\n",
        "def view(result):\n",
        "    \"\"\"\n",
        "    Displays the output.\n",
        "\n",
        "    Parameters:\n",
        "    result (int): The result to be displayed.\n",
        "    \"\"\"\n",
        "    print(\"The largest number of steps any mouse takes is:\", result)\n",
        "\n",
        "def test_min_steps_to_holes():\n",
        "    \"\"\"\n",
        "    Test cases for min_steps_to_holes function.\n",
        "    \"\"\"\n",
        "    assert min_steps_to_holes([1, 4, 9, 15], [10, -5, 0, 16]) == 6\n",
        "    assert min_steps_to_holes([0, 0, 0, 0], [0, 0, 0, 0]) == 0  # All mice and holes at the same position\n",
        "    assert min_steps_to_holes([-5, -1, 0, 3], [-2, -1, 2, 6]) == 3  # Negative positions, updated assertion\n",
        "    assert min_steps_to_holes([], []) == 0  # No mice and no holes\n",
        "    # Add more test cases as needed\n",
        "\n",
        "    print(\"All tests passed!\")\n",
        "\n",
        "# Running tests\n",
        "test_min_steps_to_holes()"
      ],
      "metadata": {
        "colab": {
          "base_uri": "https://localhost:8080/"
        },
        "id": "bqfDsSJ_iiC7",
        "outputId": "45f21379-710f-44ef-e93a-813410e15772"
      },
      "execution_count": 3,
      "outputs": [
        {
          "output_type": "stream",
          "name": "stdout",
          "text": [
            "All tests passed!\n"
          ]
        }
      ]
    },
    {
      "cell_type": "markdown",
      "source": [
        "##Use:"
      ],
      "metadata": {
        "id": "Qbw0HyIGkpMp"
      }
    },
    {
      "cell_type": "code",
      "source": [
        "# Example usage\n",
        "controller([1, 4, 9, 15], [10, -5, 0, 16])"
      ],
      "metadata": {
        "colab": {
          "base_uri": "https://localhost:8080/"
        },
        "id": "N3NHqXd9kMsy",
        "outputId": "15ea2226-acb9-4e3b-b2c8-3b5792adabbf"
      },
      "execution_count": 4,
      "outputs": [
        {
          "output_type": "stream",
          "name": "stdout",
          "text": [
            "The largest number of steps any mouse takes is: 6\n"
          ]
        }
      ]
    }
  ]
}