{
  "nbformat": 4,
  "nbformat_minor": 0,
  "metadata": {
    "colab": {
      "provenance": [],
      "authorship_tag": "ABX9TyNaiIIQSZUnH9UQ4ew72mxx",
      "include_colab_link": true
    },
    "kernelspec": {
      "name": "python3",
      "display_name": "Python 3"
    },
    "language_info": {
      "name": "python"
    }
  },
  "cells": [
    {
      "cell_type": "markdown",
      "metadata": {
        "id": "view-in-github",
        "colab_type": "text"
      },
      "source": [
        "<a href=\"https://colab.research.google.com/github/walkerjian/DailyCode/blob/main/find_unique_number.ipynb\" target=\"_parent\"><img src=\"https://colab.research.google.com/assets/colab-badge.svg\" alt=\"Open In Colab\"/></a>"
      ]
    },
    {
      "cell_type": "markdown",
      "source": [
        "Given an array of integers where every integer occurs three times except for one integer, which only occurs once, find and return the non-duplicated integer.\n",
        "\n",
        "For example, given [6, 1, 3, 3, 3, 6, 6], return 1. Given [13, 19, 13, 13], return 19.\n",
        "\n",
        "Do this in O(N) time and O(1) space.\n",
        "\n",
        "To solve this problem, we can use bitwise operations to track the number of times each bit appears in the input list. Since every integer except one appears three times, we can use a three-state machine to track the number of times each bit appears modulo 3.\n",
        "\n",
        "We'll use three variables, ones, twos, and threes, to represent bits that appear once, twice, or three times. We'll update these variables as we iterate over the input list. At the end of the loop, the ones variable will contain the bits of the integer that appears only once.\n",
        "\n",
        "Here's the MVC implementation for the problem:\n",
        "\n",
        "Model: Contains the core logic to find the non-duplicated integer.\n",
        "View: Displays the output and takes care of formatting.\n",
        "Controller: Manages the data flow between the Model and View, and also handles the testing harness.\n",
        "\n",
        "The function find_unique_number implements the core logic to find the non-duplicated integer. The View class takes care of displaying the output, and the Controller class manages the flow of data between the Model and View. The test function sets up the testing harness and runs various test cases through the MVC framework."
      ],
      "metadata": {
        "id": "dgB3iqRwkZx8"
      }
    },
    {
      "cell_type": "code",
      "execution_count": 1,
      "metadata": {
        "colab": {
          "base_uri": "https://localhost:8080/"
        },
        "id": "yNYR2DVpj8LK",
        "outputId": "acd0d463-63d5-474f-c33f-89f3322abd99"
      },
      "outputs": [
        {
          "output_type": "stream",
          "name": "stdout",
          "text": [
            "For the test case: [6, 1, 3, 3, 3, 6, 6], the unique number is: 1\n",
            "For the test case: [13, 19, 13, 13], the unique number is: 19\n",
            "For the test case: [2, 2, 2, 3], the unique number is: 3\n",
            "For the test case: [4, 5, 4, 4, 5, 5, 6], the unique number is: 6\n",
            "For the test case: [10, 10, 10, 11], the unique number is: 11\n",
            "For the test case: [12, 12, 12, 15, 15, 15, 18], the unique number is: 18\n",
            "For the test case: [20, 21, 20, 20, 21, 21, 22], the unique number is: 22\n",
            "For the test case: [30, 30, 30, 33], the unique number is: 33\n",
            "For the test case: [44, 45, 44, 44, 45, 45, 46], the unique number is: 46\n",
            "For the test case: [50, 50, 50, 53], the unique number is: 53\n"
          ]
        }
      ],
      "source": [
        "def find_unique_number(arr):\n",
        "    \"\"\"\n",
        "    Given an array of integers where every integer occurs three times except\n",
        "    for one integer, which only occurs once, find and return the non-duplicated integer.\n",
        "\n",
        "    Args:\n",
        "    - arr (List[int]): Input list of integers.\n",
        "\n",
        "    Returns:\n",
        "    - int: The non-duplicated integer.\n",
        "    \"\"\"\n",
        "    ones, twos, threes = 0, 0, 0\n",
        "\n",
        "    for num in arr:\n",
        "        # twos keep the bits which appear twice\n",
        "        twos |= ones & num\n",
        "        # ones keep the bits which appear only once\n",
        "        ones ^= num\n",
        "        # threes represent whether one bit has appeared three times\n",
        "        threes = ones & twos\n",
        "        # if one bit has appeared three times, we clear the corresponding bits in both ones and twos\n",
        "        ones &= ~threes\n",
        "        twos &= ~threes\n",
        "\n",
        "    return ones\n",
        "\n",
        "class View:\n",
        "    @staticmethod\n",
        "    def display_output(test_case, result):\n",
        "        \"\"\"\n",
        "        Display the output in a formatted manner.\n",
        "\n",
        "        Args:\n",
        "        - test_case (List[int]): Input test case.\n",
        "        - result (int): Result of the unique number.\n",
        "        \"\"\"\n",
        "        print(f\"For the test case: {test_case}, the unique number is: {result}\")\n",
        "\n",
        "class Controller:\n",
        "    def __init__(self, model, view):\n",
        "        self.model = model\n",
        "        self.view = view\n",
        "\n",
        "    def run(self, test_cases):\n",
        "        \"\"\"\n",
        "        Run the test harness with given test cases.\n",
        "\n",
        "        Args:\n",
        "        - test_cases (List[List[int]]): List of test cases.\n",
        "        \"\"\"\n",
        "        for test_case in test_cases:\n",
        "            result = self.model(test_case)\n",
        "            self.view.display_output(test_case, result)\n",
        "\n",
        "def test():\n",
        "    \"\"\"\n",
        "    Test function to test the solution with various test cases.\n",
        "    \"\"\"\n",
        "    controller = Controller(find_unique_number, View)\n",
        "    test_cases = [\n",
        "        [6, 1, 3, 3, 3, 6, 6],\n",
        "        [13, 19, 13, 13],\n",
        "        [2, 2, 2, 3],\n",
        "        [4, 5, 4, 4, 5, 5, 6],\n",
        "        [10, 10, 10, 11],\n",
        "        [12, 12, 12, 15, 15, 15, 18],\n",
        "        [20, 21, 20, 20, 21, 21, 22],\n",
        "        [30, 30, 30, 33],\n",
        "        [44, 45, 44, 44, 45, 45, 46],\n",
        "        [50, 50, 50, 53],\n",
        "    ]\n",
        "    controller.run(test_cases)\n",
        "\n",
        "# Run the test function\n",
        "test()\n"
      ]
    }
  ]
}