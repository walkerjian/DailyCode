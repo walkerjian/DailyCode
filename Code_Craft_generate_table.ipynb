{
  "nbformat": 4,
  "nbformat_minor": 0,
  "metadata": {
    "colab": {
      "provenance": [],
      "authorship_tag": "ABX9TyMa7s2Y1HlNCvxUXivQgCt2",
      "include_colab_link": true
    },
    "kernelspec": {
      "name": "python3",
      "display_name": "Python 3"
    },
    "language_info": {
      "name": "python"
    }
  },
  "cells": [
    {
      "cell_type": "markdown",
      "metadata": {
        "id": "view-in-github",
        "colab_type": "text"
      },
      "source": [
        "<a href=\"https://colab.research.google.com/github/walkerjian/DailyCode/blob/main/Code_Craft_generate_table.ipynb\" target=\"_parent\"><img src=\"https://colab.research.google.com/assets/colab-badge.svg\" alt=\"Open In Colab\"/></a>"
      ]
    },
    {
      "cell_type": "markdown",
      "source": [
        "##Problem:\n",
        "Write an algorithm that finds the total number of set bits in all integers between 1 and N."
      ],
      "metadata": {
        "id": "9YLWhE3eHo-W"
      }
    },
    {
      "cell_type": "markdown",
      "source": [
        "##Solution:\n",
        "The naive approach would be to iterate through all numbers from 1 to $ N $, count the set bits in each number, and accumulate this count. However, this is not efficient for large $ N $ as it requires a number of operations proportional to $ N \\times \\log N $ (since each number has at most $ \\log N $ bits).\n",
        "\n",
        "A more efficient approach uses the observation that the number of set bits in a range can be calculated recursively by breaking the range into smaller ranges. Here's a general idea of the algorithm:\n",
        "\n",
        "- Find the largest power of 2 less than or equal to $ N $ (let's call this $ M $).\n",
        "- The number of set bits in the range [1, $ M $] can be calculated as $ M/2 \\times \\log_2(M) $ (since each bit position contributes equally in this range).\n",
        "- For the remaining range [$ M+1 $, $ N $], we add the set bits in this range recursively."
      ],
      "metadata": {
        "id": "Zb5_T8AVHvwM"
      }
    },
    {
      "cell_type": "markdown",
      "source": [
        "##Implementation:"
      ],
      "metadata": {
        "id": "8xhf8CwPIG1y"
      }
    },
    {
      "cell_type": "code",
      "execution_count": 50,
      "metadata": {
        "colab": {
          "base_uri": "https://localhost:8080/"
        },
        "id": "ogBGKao26wI0",
        "outputId": "ec06f052-239b-4731-cd47-95ccb3016971"
      },
      "outputs": [
        {
          "output_type": "stream",
          "name": "stdout",
          "text": [
            "N  Bin  Bits\n",
            "------------\n",
            "1  0001 1\n",
            "2  0010 1\n",
            "3  0011 2\n",
            "4  0100 1\n",
            "5  0101 2\n",
            "6  0110 2\n",
            "7  0111 3\n",
            "8  1000 1\n",
            "9  1001 2\n",
            "10 1010 2\n",
            "------------\n",
            " Total: 17\n",
            "\n"
          ]
        }
      ],
      "source": [
        "import math\n",
        "def count_set_bits_corrected(n):\n",
        "    \"\"\"\n",
        "    Count the total number of set bits in all integers from 1 to n.\n",
        "    \"\"\"\n",
        "    if n == 0:\n",
        "        return 0\n",
        "\n",
        "    x = 0\n",
        "    while (1 << (x + 1)) <= n:\n",
        "        x += 1\n",
        "\n",
        "    bits_up_to_2_x = x * (1 << max(0, x - 1))\n",
        "    msb_set_bits = n - (1 << x) + 1\n",
        "    remaining = n - (1 << x)\n",
        "\n",
        "    return bits_up_to_2_x + msb_set_bits + count_set_bits_corrected(remaining)\n",
        "\n",
        "def format_bit_pattern(n, width):\n",
        "    return format(n, f'0{width}b')\n",
        "\n",
        "def count_bits(n):\n",
        "    count = 0\n",
        "    while n:\n",
        "        count += n & 1\n",
        "        n >>= 1\n",
        "    return count\n",
        "\n",
        "def generate_table(N):\n",
        "    \"\"\"\n",
        "    Generates a table showing the number, its binary representation, the number of set bits,\n",
        "    and a total count of set bits at the bottom.\n",
        "    \"\"\"\n",
        "    # Function to format the binary representation of n\n",
        "    def format_bit_pattern(n, width):\n",
        "        return format(n, f'0{width}b')\n",
        "\n",
        "    # Function to count the number of set bits in n\n",
        "    def count_bits(n):\n",
        "        count = 0\n",
        "        while n:\n",
        "            count += n & 1\n",
        "            n >>= 1\n",
        "        return count\n",
        "\n",
        "    # Width calculations\n",
        "    number_column_width = len(str(N))\n",
        "    bit_pattern_column_width = N.bit_length()\n",
        "    set_bits_column_width = len(str(bit_pattern_column_width)) + 1  # +1 for spacing\n",
        "\n",
        "    # Total width calculation, assuming 2 spaces as separators\n",
        "    total_width = number_column_width + bit_pattern_column_width + set_bits_column_width + 2\n",
        "\n",
        "    # Header\n",
        "    header = f\"{'N':<{number_column_width}} {'Bin':<{bit_pattern_column_width}} {'Bits':<{set_bits_column_width}}\\n\"\n",
        "    # Divider (Footer)\n",
        "    divider = \"-\" * (total_width + 2) + \"\\n\"\n",
        "\n",
        "    # Table assembly\n",
        "    table = header + divider\n",
        "    total_set_bits = 0\n",
        "    for i in range(1, N + 1):\n",
        "        bit_pattern = format_bit_pattern(i, bit_pattern_column_width)\n",
        "        set_bits = count_bits(i)\n",
        "        total_set_bits += set_bits\n",
        "        table += f\"{i:<{number_column_width}} {bit_pattern} {set_bits:<{set_bits_column_width-1}}\\n\"\n",
        "    table += divider\n",
        "    table += f\"{'Total: ' + str(total_set_bits):>{total_width}}\\n\"\n",
        "\n",
        "    return table\n",
        "\n",
        "# Example usage\n",
        "print(generate_table(10))\n",
        "\n"
      ]
    }
  ]
}