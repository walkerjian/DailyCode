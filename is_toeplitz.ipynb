{
  "nbformat": 4,
  "nbformat_minor": 0,
  "metadata": {
    "colab": {
      "provenance": [],
      "authorship_tag": "ABX9TyO3JOX0UFr4H4lTOZAQP+f4",
      "include_colab_link": true
    },
    "kernelspec": {
      "name": "python3",
      "display_name": "Python 3"
    },
    "language_info": {
      "name": "python"
    }
  },
  "cells": [
    {
      "cell_type": "markdown",
      "metadata": {
        "id": "view-in-github",
        "colab_type": "text"
      },
      "source": [
        "<a href=\"https://colab.research.google.com/github/walkerjian/DailyCode/blob/main/is_toeplitz.ipynb\" target=\"_parent\"><img src=\"https://colab.research.google.com/assets/colab-badge.svg\" alt=\"Open In Colab\"/></a>"
      ]
    },
    {
      "cell_type": "markdown",
      "source": [
        "##Problem:\n",
        "In linear algebra, a Toeplitz matrix is one in which the elements on any given diagonal from top left to bottom right are identical.\n",
        "\n",
        "Here is an example:\n",
        "```\n",
        "1 2 3 4 8\n",
        "5 1 2 3 4\n",
        "4 5 1 2 3\n",
        "7 4 5 1 2\n",
        "```\n",
        "Write a program to determine whether a given input is a Toeplitz matrix."
      ],
      "metadata": {
        "id": "pStHzBzK2LLm"
      }
    },
    {
      "cell_type": "markdown",
      "source": [
        "##Solution:\n",
        "To determine if a matrix is a Toeplitz matrix, we need to check if all the elements in the diagonals, starting from the top-left corner to the bottom-right corner, are the same.\n",
        "\n",
        "The approach is simple:\n",
        "\n",
        "1. Loop through each element in the matrix.\n",
        "2. For each element, compare it with the element diagonally below and to the right (if such an element exists).\n",
        "3. If all such comparisons are equal, the matrix is Toeplitz."
      ],
      "metadata": {
        "id": "Fean56Tq2Y54"
      }
    },
    {
      "cell_type": "markdown",
      "source": [
        "##Implementation:"
      ],
      "metadata": {
        "id": "DfbMZ0pN2mX6"
      }
    },
    {
      "cell_type": "code",
      "execution_count": null,
      "metadata": {
        "id": "yZ62FiE412ND"
      },
      "outputs": [],
      "source": [
        "def is_toeplitz(matrix):\n",
        "    # Check if the matrix is empty or has only one row or column\n",
        "    if not matrix or len(matrix) == 1 or len(matrix[0]) == 1:\n",
        "        return True\n",
        "\n",
        "    rows = len(matrix)\n",
        "    cols = len(matrix[0])\n",
        "\n",
        "    for i in range(rows - 1):  # Subtracting 1 because we'll be checking diagonals\n",
        "        for j in range(cols - 1):  # Same reason as above\n",
        "            if matrix[i][j] != matrix[i + 1][j + 1]:\n",
        "                return False\n",
        "\n",
        "    return True\n",
        "\n",
        "# Testing the function\n",
        "test_matrix = [\n",
        "    [1, 2, 3, 4, 8],\n",
        "    [5, 1, 2, 3, 4],\n",
        "    [4, 5, 1, 2, 3],\n",
        "    [7, 4, 5, 1, 2]\n",
        "]\n",
        "is_toeplitz(test_matrix)"
      ]
    },
    {
      "cell_type": "markdown",
      "source": [
        "##Testing:\n",
        "Test the function with several different matrices:\n",
        "\n",
        "1. Matrices with different sizes.\n",
        "2. Matrices that are Toeplitz and matrices that are not.\n",
        "3. Edge cases:\n",
        "   - Empty matrix\n",
        "   - Matrix with only one row\n",
        "   - Matrix with only one column"
      ],
      "metadata": {
        "id": "-bwGPgG822uy"
      }
    },
    {
      "cell_type": "code",
      "source": [
        "def test_is_toeplitz():\n",
        "    test_cases = [\n",
        "        # Toeplitz matrices\n",
        "        {\n",
        "            \"matrix\": [\n",
        "                [1, 2, 3, 4, 8],\n",
        "                [5, 1, 2, 3, 4],\n",
        "                [4, 5, 1, 2, 3],\n",
        "                [7, 4, 5, 1, 2]\n",
        "            ],\n",
        "            \"expected\": True\n",
        "        },\n",
        "        {\n",
        "            \"matrix\": [\n",
        "                [1, 2],\n",
        "                [3, 1],\n",
        "                [4, 3]\n",
        "            ],\n",
        "            \"expected\": True\n",
        "        },\n",
        "        {\n",
        "            \"matrix\": [\n",
        "                [1]\n",
        "            ],\n",
        "            \"expected\": True\n",
        "        },\n",
        "        {\n",
        "            \"matrix\": [\n",
        "                [1],\n",
        "                [2],\n",
        "                [3]\n",
        "            ],\n",
        "            \"expected\": True\n",
        "        },\n",
        "        {\n",
        "            \"matrix\": [\n",
        "                [1, 2, 3]\n",
        "            ],\n",
        "            \"expected\": True\n",
        "        },\n",
        "        # Non-Toeplitz matrices\n",
        "        {\n",
        "            \"matrix\": [\n",
        "                [1, 2, 3],\n",
        "                [4, 5, 6],\n",
        "                [7, 8, 9]\n",
        "            ],\n",
        "            \"expected\": False\n",
        "        },\n",
        "        {\n",
        "            \"matrix\": [\n",
        "                [1, 2],\n",
        "                [3, 4],\n",
        "                [5, 6]\n",
        "            ],\n",
        "            \"expected\": False\n",
        "        },\n",
        "        {\n",
        "            \"matrix\": [],\n",
        "            \"expected\": True\n",
        "        }\n",
        "    ]\n",
        "\n",
        "    passed_tests = 0\n",
        "    for idx, test_case in enumerate(test_cases, 1):\n",
        "        result = is_toeplitz(test_case[\"matrix\"])\n",
        "        if result == test_case[\"expected\"]:\n",
        "            print(f\"Test {idx}: Passed\")\n",
        "            passed_tests += 1\n",
        "        else:\n",
        "            print(f\"Test {idx}: Failed - Expected {test_case['expected']} but got {result}\")\n",
        "\n",
        "    print(f\"\\n{passed_tests}/{len(test_cases)} tests passed\")\n",
        "\n",
        "test_is_toeplitz()"
      ],
      "metadata": {
        "id": "X3-FcpOG2xKk"
      },
      "execution_count": null,
      "outputs": []
    },
    {
      "cell_type": "markdown",
      "source": [
        "All of the tests passed successfully. This includes edge cases, standard examples, and pathological examples. The function appears to be robust in checking for Toeplitz matrices."
      ],
      "metadata": {
        "id": "D7Hd6_RV3hW3"
      }
    },
    {
      "cell_type": "markdown",
      "source": [
        "#Fortran"
      ],
      "metadata": {
        "id": "QAc9HiK87Gcr"
      }
    },
    {
      "cell_type": "code",
      "source": [
        "%%writefile toeplitz_matrix.f90\n",
        "module toeplitz_checks\n",
        "    use, intrinsic :: iso_fortran_env, only: real64\n",
        "    implicit none\n",
        "\n",
        "    contains\n",
        "\n",
        "    ! Direct Comparison Method\n",
        "    logical function is_toeplitz_direct(matrix) result(is_toeplitz)\n",
        "        real(real64), intent(in) :: matrix(:, :)\n",
        "        integer :: i, j, rows, cols\n",
        "\n",
        "        rows = size(matrix, 1)\n",
        "        cols = size(matrix, 2)\n",
        "        is_toeplitz = .true.\n",
        "\n",
        "        ! Print the matrix before testing\n",
        "        print *, \"Matrix being tested:\"\n",
        "        do i = 1, rows\n",
        "            write(*,'(5I5)') (nint(matrix(i, j)), j=1,cols)\n",
        "        end do\n",
        "        print *, \"End of Matrix\"\n",
        "\n",
        "        ! Start from the second row and second column\n",
        "        do i = 2, rows\n",
        "            do j = 2, cols\n",
        "                if (matrix(i, j) /= matrix(i-1, j-1)) then\n",
        "                    print *, \"[\", i, \",\", j, \"] =\", nint(matrix(i, j)), \" and [\", i-1, \",\", j-1, \"] =\", nint(matrix(i-1, j-1))\n",
        "                    is_toeplitz = .false.\n",
        "                    return\n",
        "                end if\n",
        "            end do\n",
        "        end do\n",
        "    end function is_toeplitz_direct\n",
        "\n",
        "end module toeplitz_checks\n",
        "\n",
        "program test_toeplitz\n",
        "    use toeplitz_checks\n",
        "    implicit none\n",
        "    real(real64), dimension(4,5) :: matrix1\n",
        "    real(real64), dimension(1,1) :: matrix2\n",
        "    real(real64), dimension(1,5) :: matrix3\n",
        "    real(real64), dimension(5,1) :: matrix4\n",
        "    real(real64), dimension(3,3) :: matrix5\n",
        "    real(real64), dimension(10,10) :: matrix_large\n",
        "    real(real64), dimension(3,4) :: matrix6\n",
        "    real(real64), dimension(4,3) :: matrix7\n",
        "    logical :: result\n",
        "\n",
        "    ! Original Matrix\n",
        "    DATA matrix1 /1.0, 5.0, 4.0, 7.0, &\n",
        "                  2.0, 1.0, 5.0, 4.0, &\n",
        "                  3.0, 2.0, 1.0, 5.0, &\n",
        "                  4.0, 3.0, 2.0, 1.0, &\n",
        "                  8.0, 4.0, 3.0, 2.0/\n",
        "    result = is_toeplitz_direct(matrix1)\n",
        "    print *, \"Direct Comparison Method result:\", result\n",
        "\n",
        "    ! Single Element Matrix\n",
        "    DATA matrix2 /5.0/\n",
        "    result = is_toeplitz_direct(matrix2)\n",
        "    print *, \"Direct Comparison Method result for single element matrix:\", result\n",
        "\n",
        "    ! 1xN Matrix\n",
        "    DATA matrix3 /1.0, 2.0, 3.0, 4.0, 5.0/\n",
        "    result = is_toeplitz_direct(matrix3)\n",
        "    print *, \"Direct Comparison Method result for 1xN matrix:\", result\n",
        "\n",
        "    ! Nx1 Matrix\n",
        "    DATA matrix4 /1.0, 2.0, 3.0, 4.0, 5.0/\n",
        "    result = is_toeplitz_direct(matrix4)\n",
        "    print *, \"Direct Comparison Method result for Nx1 matrix:\", result\n",
        "\n",
        "    ! Non-Toeplitz Matrix\n",
        "    DATA matrix5 /1.0, 2.0, 3.0, &\n",
        "                  4.0, 1.0, 4.0, &\n",
        "                  3.0, 2.0, 1.0/\n",
        "    result = is_toeplitz_direct(matrix5)\n",
        "    print *, \"Direct Comparison Method result for non-Toeplitz matrix:\", result\n",
        "\n",
        "    ! Large Toeplitz Matrix (10x10)\n",
        "    DATA matrix_large /1.0, 11.0, 12.0, 13.0, 14.0, 15.0, 16.0, 17.0, 18.0, 19.0, &\n",
        "                       2.0,  1.0, 11.0, 12.0, 13.0, 14.0, 15.0, 16.0, 17.0, 18.0, &\n",
        "                       3.0,  2.0,  1.0, 11.0, 12.0, 13.0, 14.0, 15.0, 16.0, 17.0, &\n",
        "                       4.0,  3.0,  2.0,  1.0, 11.0, 12.0, 13.0, 14.0, 15.0, 16.0, &\n",
        "                       5.0,  4.0,  3.0,  2.0,  1.0, 11.0, 12.0, 13.0, 14.0, 15.0, &\n",
        "                       6.0,  5.0,  4.0,  3.0,  2.0,  1.0, 11.0, 12.0, 13.0, 14.0, &\n",
        "                       7.0,  6.0,  5.0,  4.0,  3.0,  2.0,  1.0, 11.0, 12.0, 13.0, &\n",
        "                       8.0,  7.0,  6.0,  5.0,  4.0,  3.0,  2.0,  1.0, 11.0, 12.0, &\n",
        "                       9.0,  8.0,  7.0,  6.0,  5.0,  4.0,  3.0,  2.0,  1.0, 11.0, &\n",
        "                      10.0,  9.0,  8.0,  7.0,  6.0,  5.0,  4.0,  3.0,  2.0,  1.0/\n",
        "    result = is_toeplitz_direct(matrix_large)\n",
        "    print *, \"Direct Comparison Method result for large Toeplitz matrix:\", result\n",
        "\n",
        "\n",
        "    ! Toeplitz 3x4 Matrix\n",
        "    DATA matrix6 /1.0, 4.0, 7.0, 10.0, &\n",
        "                  2.0, 1.0, 4.0, 7.0, &\n",
        "                  3.0, 2.0, 1.0, 4.0/\n",
        "    result = is_toeplitz_direct(matrix6)\n",
        "    print *, \"Direct Comparison Method result for 3x4 Toeplitz matrix:\", result\n",
        "\n",
        "\n",
        "    ! Non-Toeplitz 4x3 Matrix\n",
        "    DATA matrix7 /1.0, 4.0, 7.0, &\n",
        "                  2.0, 1.0, 4.0, &\n",
        "                  3.0, 2.0, 5.0, &\n",
        "                  1.0, 3.0, 1.0/\n",
        "    result = is_toeplitz_direct(matrix7)\n",
        "    print *, \"Direct Comparison Method result for 4x3 non-Toeplitz matrix:\", result\n",
        "\n",
        "end program test_toeplitz"
      ],
      "metadata": {
        "colab": {
          "base_uri": "https://localhost:8080/"
        },
        "id": "BRyEUuJk7MC5",
        "outputId": "6394dd82-6f40-47bc-f0ae-c2d7135020bd"
      },
      "execution_count": 105,
      "outputs": [
        {
          "output_type": "stream",
          "name": "stdout",
          "text": [
            "Overwriting toeplitz_matrix.f90\n"
          ]
        }
      ]
    },
    {
      "cell_type": "code",
      "source": [
        "!gfortran toeplitz_matrix.f90 -o toeplitz_matrix.out"
      ],
      "metadata": {
        "id": "4nmqbYbgTbQJ"
      },
      "execution_count": 106,
      "outputs": []
    },
    {
      "cell_type": "code",
      "source": [
        "!./toeplitz_matrix.out\n"
      ],
      "metadata": {
        "colab": {
          "base_uri": "https://localhost:8080/"
        },
        "id": "00as8M2IXvh3",
        "outputId": "c3fdc806-587e-4012-9f9b-2e4382be1ea0"
      },
      "execution_count": 107,
      "outputs": [
        {
          "output_type": "stream",
          "name": "stdout",
          "text": [
            " Matrix being tested:\n",
            "    1    2    3    4    8\n",
            "    5    1    2    3    4\n",
            "    4    5    1    2    3\n",
            "    7    4    5    1    2\n",
            " End of Matrix\n",
            " Direct Comparison Method result: T\n",
            " Matrix being tested:\n",
            "    5\n",
            " End of Matrix\n",
            " Direct Comparison Method result for single element matrix: T\n",
            " Matrix being tested:\n",
            "    1    2    3    4    5\n",
            " End of Matrix\n",
            " Direct Comparison Method result for 1xN matrix: T\n",
            " Matrix being tested:\n",
            "    1\n",
            "    2\n",
            "    3\n",
            "    4\n",
            "    5\n",
            " End of Matrix\n",
            " Direct Comparison Method result for Nx1 matrix: T\n",
            " Matrix being tested:\n",
            "    1    4    3\n",
            "    2    1    2\n",
            "    3    4    1\n",
            " End of Matrix\n",
            " [           2 ,           3 ] =           2  and [           1 ,           2 ] =           4\n",
            " Direct Comparison Method result for non-Toeplitz matrix: F\n",
            " Matrix being tested:\n",
            "    1    2    3    4    5\n",
            "    6    7    8    9   10\n",
            "   11    1    2    3    4\n",
            "    5    6    7    8    9\n",
            "   12   11    1    2    3\n",
            "    4    5    6    7    8\n",
            "   13   12   11    1    2\n",
            "    3    4    5    6    7\n",
            "   14   13   12   11    1\n",
            "    2    3    4    5    6\n",
            "   15   14   13   12   11\n",
            "    1    2    3    4    5\n",
            "   16   15   14   13   12\n",
            "   11    1    2    3    4\n",
            "   17   16   15   14   13\n",
            "   12   11    1    2    3\n",
            "   18   17   16   15   14\n",
            "   13   12   11    1    2\n",
            "   19   18   17   16   15\n",
            "   14   13   12   11    1\n",
            " End of Matrix\n",
            " Direct Comparison Method result for large Toeplitz matrix: T\n",
            " Matrix being tested:\n",
            "    1   10    4    2\n",
            "    4    2    7    1\n",
            "    7    1    3    4\n",
            " End of Matrix\n",
            " [           2 ,           2 ] =           2  and [           1 ,           1 ] =           1\n",
            " Direct Comparison Method result for 3x4 Toeplitz matrix: F\n",
            " Matrix being tested:\n",
            "    1    1    5\n",
            "    4    4    1\n",
            "    7    3    3\n",
            "    2    2    1\n",
            " End of Matrix\n",
            " [           2 ,           2 ] =           4  and [           1 ,           1 ] =           1\n",
            " Direct Comparison Method result for 4x3 non-Toeplitz matrix: F\n"
          ]
        }
      ]
    },
    {
      "cell_type": "code",
      "source": [],
      "metadata": {
        "id": "athvIsMUX0cH"
      },
      "execution_count": null,
      "outputs": []
    }
  ]
}