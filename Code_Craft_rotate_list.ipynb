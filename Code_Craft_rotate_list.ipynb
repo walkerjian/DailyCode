{
  "nbformat": 4,
  "nbformat_minor": 0,
  "metadata": {
    "colab": {
      "provenance": [],
      "authorship_tag": "ABX9TyOIrx08OJW7nrzqpwv72aRt",
      "include_colab_link": true
    },
    "kernelspec": {
      "name": "python3",
      "display_name": "Python 3"
    },
    "language_info": {
      "name": "python"
    }
  },
  "cells": [
    {
      "cell_type": "markdown",
      "metadata": {
        "id": "view-in-github",
        "colab_type": "text"
      },
      "source": [
        "<a href=\"https://colab.research.google.com/github/walkerjian/DailyCode/blob/main/Code_Craft_rotate_list.ipynb\" target=\"_parent\"><img src=\"https://colab.research.google.com/assets/colab-badge.svg\" alt=\"Open In Colab\"/></a>"
      ]
    },
    {
      "cell_type": "markdown",
      "source": [
        "##Problem:\n",
        "Write a function that rotates a list by k elements. For example, [1, 2, 3, 4, 5, 6] rotated by two becomes [3, 4, 5, 6, 1, 2]. Try solving this without creating a copy of the list. How many swap or move operations do you need?"
      ],
      "metadata": {
        "id": "guXScGjGydDc"
      }
    },
    {
      "cell_type": "markdown",
      "source": [
        "##Solution:\n",
        "To rotate a list by $ k $ elements without creating a copy of the list, we can use an in-place rotation technique. The algorithm essentially involves three steps:\n",
        "\n",
        "1. Reverse the entire list.\n",
        "2. Reverse the first $ k $ elements.\n",
        "3. Reverse the remaining $ n - k $ elements, where $ n $ is the length of the list.\n",
        "\n",
        "Let's illustrate this with an example. Suppose we have the list `[1, 2, 3, 4, 5, 6]` and we want to rotate it by 2 positions. Here's how it works:\n",
        "\n",
        "- Original list: `[1, 2, 3, 4, 5, 6]`\n",
        "- Reverse entire list: `[6, 5, 4, 3, 2, 1]`\n",
        "- Reverse first $ k = 2 $ elements: `[5, 6, 4, 3, 2, 1]`\n",
        "- Reverse remaining $ n - k = 4 $ elements: `[5, 6, 1, 2, 3, 4]`\n",
        "\n",
        "The final list `[5, 6, 1, 2, 3, 4]` is our rotated list.\n",
        "\n",
        "The number of swap or move operations required is $ 3 \\times n $, as each element is moved once in each of the three reversal steps."
      ],
      "metadata": {
        "id": "D1WN_3R-yiLC"
      }
    },
    {
      "cell_type": "markdown",
      "source": [
        "##Implementation:\n"
      ],
      "metadata": {
        "id": "XkCSNlykylB2"
      }
    },
    {
      "cell_type": "code",
      "execution_count": 1,
      "metadata": {
        "colab": {
          "base_uri": "https://localhost:8080/"
        },
        "id": "e8GUwRYayaQC",
        "outputId": "52ad04d6-4c29-4f8d-d5d7-26563e0a0729"
      },
      "outputs": [
        {
          "output_type": "stream",
          "name": "stdout",
          "text": [
            "[5, 6, 1, 2, 3, 4]\n"
          ]
        }
      ],
      "source": [
        "def rotate_list(lst, k):\n",
        "    n = len(lst)\n",
        "    k = k % n  # To handle rotations larger than list length\n",
        "\n",
        "    # Function to reverse elements from start to end\n",
        "    def reverse(start, end):\n",
        "        while start < end:\n",
        "            lst[start], lst[end] = lst[end], lst[start]\n",
        "            start += 1\n",
        "            end -= 1\n",
        "\n",
        "    # Step 1: Reverse the entire list\n",
        "    reverse(0, n - 1)\n",
        "    # Step 2: Reverse the first k elements\n",
        "    reverse(0, k - 1)\n",
        "    # Step 3: Reverse the remaining n-k elements\n",
        "    reverse(k, n - 1)\n",
        "\n",
        "# Example usage\n",
        "lst = [1, 2, 3, 4, 5, 6]\n",
        "rotate_list(lst, 2)\n",
        "print(lst)  # Output will be [3, 4, 5, 6, 1, 2]\n"
      ]
    }
  ]
}