{
  "nbformat": 4,
  "nbformat_minor": 0,
  "metadata": {
    "colab": {
      "provenance": [],
      "authorship_tag": "ABX9TyNPCeXt1y166Yx8OYQqk/9S",
      "include_colab_link": true
    },
    "kernelspec": {
      "name": "python3",
      "display_name": "Python 3"
    },
    "language_info": {
      "name": "python"
    }
  },
  "cells": [
    {
      "cell_type": "markdown",
      "metadata": {
        "id": "view-in-github",
        "colab_type": "text"
      },
      "source": [
        "<a href=\"https://colab.research.google.com/github/walkerjian/DailyCode/blob/main/Code_Craft_find_min_in_rotated_array.ipynb\" target=\"_parent\"><img src=\"https://colab.research.google.com/assets/colab-badge.svg\" alt=\"Open In Colab\"/></a>"
      ]
    },
    {
      "cell_type": "markdown",
      "source": [
        "##Problem:\n",
        "Suppose an array sorted in ascending order is rotated at some pivot unknown to you beforehand. Find the minimum element in O(log N) time. You may assume the array does not contain duplicates.\n",
        "\n",
        "For example, given [5, 7, 10, 3, 4], return 3."
      ],
      "metadata": {
        "id": "2lWyrXjB8EeD"
      }
    },
    {
      "cell_type": "markdown",
      "source": [
        "##Solution:\n",
        "To solve this problem, we can use a modified binary search algorithm. The key idea is to determine the side of the array which is out of order and then focus on that side since the minimum element must be there. Here’s how we can do it:\n",
        "\n",
        "1. Initialize `left` to 0 and `right` to the length of the array minus one.\n",
        "2. While `left` is less than `right`:\n",
        "   - Find the `mid` index as the average of `left` and `right`.\n",
        "   - If the element at `mid` is greater than the element at `right`, the minimum value must be to the right of `mid`, so set `left` to `mid + 1`.\n",
        "   - Otherwise, the minimum value is to the left, including `mid`, so set `right` to `mid`.\n",
        "3. Return the element at the `left` index, as `left` will be the index of the minimum element.\n"
      ],
      "metadata": {
        "id": "jIohycTB8Hjb"
      }
    },
    {
      "cell_type": "markdown",
      "source": [
        "##Implementation:\n",
        "Let's implement this in Python.\n",
        "\n"
      ],
      "metadata": {
        "id": "pkWuQrLB8K8H"
      }
    },
    {
      "cell_type": "code",
      "execution_count": 1,
      "metadata": {
        "id": "TIIt0l_k7Oi1"
      },
      "outputs": [],
      "source": [
        "def find_min_in_rotated_array(arr):\n",
        "    left, right = 0, len(arr) - 1\n",
        "\n",
        "    while left < right:\n",
        "        mid = (left + right) // 2\n",
        "\n",
        "        if arr[mid] > arr[right]:\n",
        "            left = mid + 1\n",
        "        else:\n",
        "            right = mid\n",
        "\n",
        "    return arr[left]"
      ]
    },
    {
      "cell_type": "markdown",
      "source": [
        "##Testing:\n"
      ],
      "metadata": {
        "id": "wcaruNyfYogT"
      }
    },
    {
      "cell_type": "markdown",
      "source": [
        "\n",
        "The implemented function successfully finds the minimum element in the rotated array. For the given example `[5, 7, 10, 3, 4]`, it correctly returns `3`. This algorithm operates in $ O(\\log N) $ time, making it efficient for this task."
      ],
      "metadata": {
        "id": "lgyMMIEbT14H"
      }
    },
    {
      "cell_type": "code",
      "source": [
        "# Testing the function with the provided example\n",
        "test_array = [5, 7, 10, 3, 4]\n",
        "find_min_in_rotated_array(test_array)"
      ],
      "metadata": {
        "id": "7arfxk2ORsA8",
        "colab": {
          "base_uri": "https://localhost:8080/"
        },
        "outputId": "d1b2f98c-6b0a-4f1b-85f8-24ea6e591d7f"
      },
      "execution_count": 2,
      "outputs": [
        {
          "output_type": "execute_result",
          "data": {
            "text/plain": [
              "3"
            ]
          },
          "metadata": {},
          "execution_count": 2
        }
      ]
    },
    {
      "cell_type": "markdown",
      "source": [
        "The function was tested with various arrays and performed correctly in all cases:\n",
        "\n",
        "For a non-rotated array [1, 2, 3, 4, 5], it correctly identified 1 as the minimum element.\n",
        "For a single-element array [10], it correctly returned 10.\n",
        "For an array rotated near the end [6, 7, 8, 1, 2, 3, 4, 5], it correctly found 1.\n",
        "For a larger array [8, 9, 10, 11, 12, 1, 2, 3, 4], it correctly identified 1 as the minimum.\n",
        "For another larger array [2, 3, 4, 5, 6, 7, 8, 9, 1], it correctly found 1.\n",
        "In all cases, the function returned the expected results, which indicates that it is robust and works as intended for a variety of scenarios. ​​"
      ],
      "metadata": {
        "id": "CfTr864UUb7O"
      }
    },
    {
      "cell_type": "code",
      "source": [
        "# Defining test cases to cover different scenarios\n",
        "test_cases = [\n",
        "    ([1, 2, 3, 4, 5], 1),  # not rotated, smallest at the beginning\n",
        "    ([10], 10),  # single element\n",
        "    ([6, 7, 8, 1, 2, 3, 4, 5], 1),  # smallest element just before the pivot\n",
        "    ([8, 9, 10, 11, 12, 1, 2, 3, 4], 1),  # larger array, smallest near the end\n",
        "    ([2, 3, 4, 5, 6, 7, 8, 9, 1], 1)  # larger array, smallest at the end\n",
        "]\n",
        "\n",
        "# Testing the function with the defined test cases\n",
        "results = []\n",
        "for arr, expected in test_cases:\n",
        "    result = find_min_in_rotated_array(arr)\n",
        "    results.append((arr, result == expected, expected, result))\n",
        "\n",
        "results\n"
      ],
      "metadata": {
        "colab": {
          "base_uri": "https://localhost:8080/"
        },
        "id": "eaCB9T9UUcob",
        "outputId": "d774cb4a-8c00-4d89-c934-7920eeb457ec"
      },
      "execution_count": 3,
      "outputs": [
        {
          "output_type": "execute_result",
          "data": {
            "text/plain": [
              "[([1, 2, 3, 4, 5], True, 1, 1),\n",
              " ([10], True, 10, 10),\n",
              " ([6, 7, 8, 1, 2, 3, 4, 5], True, 1, 1),\n",
              " ([8, 9, 10, 11, 12, 1, 2, 3, 4], True, 1, 1),\n",
              " ([2, 3, 4, 5, 6, 7, 8, 9, 1], True, 1, 1)]"
            ]
          },
          "metadata": {},
          "execution_count": 3
        }
      ]
    }
  ]
}