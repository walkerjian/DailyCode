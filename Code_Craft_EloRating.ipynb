{
  "nbformat": 4,
  "nbformat_minor": 0,
  "metadata": {
    "colab": {
      "provenance": [],
      "authorship_tag": "ABX9TyMHZ6q+XNAjdVhkr8UySv+4",
      "include_colab_link": true
    },
    "kernelspec": {
      "name": "python3",
      "display_name": "Python 3"
    },
    "language_info": {
      "name": "python"
    }
  },
  "cells": [
    {
      "cell_type": "markdown",
      "metadata": {
        "id": "view-in-github",
        "colab_type": "text"
      },
      "source": [
        "<a href=\"https://colab.research.google.com/github/walkerjian/DailyCode/blob/main/Code_Craft_EloRating.ipynb\" target=\"_parent\"><img src=\"https://colab.research.google.com/assets/colab-badge.svg\" alt=\"Open In Colab\"/></a>"
      ]
    },
    {
      "cell_type": "markdown",
      "source": [
        "##Problem:\n",
        "In chess, the Elo rating system is used to calculate player strengths based on game results.\n",
        "\n",
        "A simplified description of the Elo system is as follows. Every player begins at the same score. For each subsequent game, the loser transfers some points to the winner, where the amount of points transferred depends on how unlikely the win is. For example, a 1200-ranked player should gain much more points for beating a 2000-ranked player than for beating a 1300-ranked player.\n",
        "\n",
        "Implement this system."
      ],
      "metadata": {
        "id": "5JtzERllt3wV"
      }
    },
    {
      "cell_type": "markdown",
      "source": [
        "To implement a basic version of the Elo rating system, let's first understand the key components:\n",
        "\n",
        "1. **Rating Update**: After each game, players' ratings are updated based on the game outcome. The formula to update a player's rating is:\n",
        "   $$\n",
        "   R' = R + K \\cdot (S - E)\n",
        "   $$\n",
        "   \n",
        "   where $ R $ is the current rating, $ R' $ is the new rating, $ K $ is the $K-factor$ which determines the maximum change in rating, $ S $ is the score of the game (1 for a win, 0.5 for a draw, 0 for a loss), and $ E $ is the expected score calculated from the ratings of the two players.\n",
        "\n",
        "2. **Expected Score**: The expected score is calculated using the following formula:\n",
        "   $$\n",
        "   E = \\frac{1}{1 + 10^{(R_{opponent} - R) / 400}}\n",
        "   $$\n",
        "\n",
        "   where $ R $ is the player's rating and $ R_{opponent} $ is the opponent's rating.\n",
        "\n",
        "Let's implement these steps in Python. We'll set up functions to calculate the expected score and to update the rating based on the match result. The typical value of $ K $ used varies, but common values are 16 for established players and 32 for new players or players with fewer than 30 games. For simplicity, we'll use $ K = 30 $.\n",
        "\n",
        "\n",
        "In this setup:\n",
        "- Player 1 starts with a rating of 1500 and beats Player 2 who has a rating of 1800.\n",
        "- We then calculate the new ratings after this match, where Player 1's rating will increase significantly due to the lower probability of winning, while Player 2's rating will decrease.\n",
        "\n",
        "This implementation can be extended or adjusted to better fit different competition setups or to use different parameters, like adjusting the K-factor based on the number of games played or the tournament setting."
      ],
      "metadata": {
        "id": "21MU9eJ3t7BA"
      }
    },
    {
      "cell_type": "code",
      "execution_count": 1,
      "metadata": {
        "colab": {
          "base_uri": "https://localhost:8080/"
        },
        "id": "mhhl5edWtl93",
        "outputId": "d45b18b6-f42c-4eb6-b070-0c8a8565467c"
      },
      "outputs": [
        {
          "output_type": "stream",
          "name": "stdout",
          "text": [
            "New rating for Player 1: 1525.4706132836602\n",
            "New rating for Player 2: 1775.1225127255507\n"
          ]
        }
      ],
      "source": [
        "class EloRating:\n",
        "    def __init__(self, initial_rating=1500, k_factor=30):\n",
        "        self.rating = initial_rating\n",
        "        self.k = k_factor\n",
        "\n",
        "    def expected_score(self, opponent_rating):\n",
        "        \"\"\" Calculate expected score against an opponent \"\"\"\n",
        "        return 1 / (1 + 10 ** ((opponent_rating - self.rating) / 400))\n",
        "\n",
        "    def update_rating(self, opponent_rating, score):\n",
        "        \"\"\" Update the rating after a game. `score` should be 1 if win, 0.5 if draw, 0 if loss. \"\"\"\n",
        "        expected = self.expected_score(opponent_rating)\n",
        "        self.rating += self.k * (score - expected)\n",
        "        return self.rating\n",
        "\n",
        "# Example usage:\n",
        "player1 = EloRating()\n",
        "player2 = EloRating(initial_rating=1800)  # Higher initial rating\n",
        "\n",
        "# Suppose player 1 beats player 2 unexpectedly\n",
        "score_player1 = 1  # player 1 wins\n",
        "score_player2 = 0  # player 2 loses\n",
        "\n",
        "new_rating1 = player1.update_rating(player2.rating, score_player1)\n",
        "new_rating2 = player2.update_rating(player1.rating, score_player2)\n",
        "\n",
        "print(f\"New rating for Player 1: {new_rating1}\")\n",
        "print(f\"New rating for Player 2: {new_rating2}\")"
      ]
    }
  ]
}