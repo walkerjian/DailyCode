{
  "nbformat": 4,
  "nbformat_minor": 0,
  "metadata": {
    "colab": {
      "provenance": [],
      "authorship_tag": "ABX9TyO+tGwAH9VJiBVrd3A2LJmr",
      "include_colab_link": true
    },
    "kernelspec": {
      "name": "python3",
      "display_name": "Python 3"
    },
    "language_info": {
      "name": "python"
    }
  },
  "cells": [
    {
      "cell_type": "markdown",
      "metadata": {
        "id": "view-in-github",
        "colab_type": "text"
      },
      "source": [
        "<a href=\"https://colab.research.google.com/github/walkerjian/DailyCode/blob/main/Code_Craft_nearest_larger.ipynb\" target=\"_parent\"><img src=\"https://colab.research.google.com/assets/colab-badge.svg\" alt=\"Open In Colab\"/></a>"
      ]
    },
    {
      "cell_type": "markdown",
      "source": [
        "##Problem:\n",
        "Given an array of numbers and an index i, return the index of the nearest larger number of the number at index i, where distance is measured in array indices.\n",
        "\n",
        "For example, given [4, 1, 3, 5, 6] and index 0, you should return 3.\n",
        "\n",
        "If two distances to larger numbers are the equal, then return any one of them. If the array at i doesn't have a nearest larger integer, then return null.\n",
        "\n",
        "Follow-up: If you can preprocess the array, can you do this in constant time?"
      ],
      "metadata": {
        "id": "3LP_86JfVTU0"
      }
    },
    {
      "cell_type": "markdown",
      "source": [
        "##Solution:\n",
        "To tackle this problem, we will approach it in two parts. First, we will create a function to solve the problem without preprocessing, iterating through the array to find the nearest larger number. Then, we will discuss how preprocessing might allow for a constant-time retrieval of the nearest larger number's index.\n",
        "\n",
        "### Part 1: Without Preprocessing\n",
        "\n",
        "The strategy here is straightforward:\n",
        "1. Start from the given index `i`.\n",
        "2. Look both left and right from `i`, incrementally increasing the distance by 1 each step.\n",
        "3. Check at each step if we have found a number larger than the number at index `i`.\n",
        "4. Return the index of the first larger number found. If no such number exists, return `null`.\n",
        "\n",
        "Let's implement this algorithm in Python:\n",
        "\n"
      ],
      "metadata": {
        "id": "ogQikPocVWcS"
      }
    },
    {
      "cell_type": "markdown",
      "source": [
        "##Implmentation:\n"
      ],
      "metadata": {
        "id": "QVoI925LVrMa"
      }
    },
    {
      "cell_type": "code",
      "execution_count": 1,
      "metadata": {
        "colab": {
          "base_uri": "https://localhost:8080/"
        },
        "id": "Xp-y-fRtVSRE",
        "outputId": "b91aa0e3-4adf-4491-ae08-a19ca58375d4"
      },
      "outputs": [
        {
          "output_type": "stream",
          "name": "stdout",
          "text": [
            "3\n"
          ]
        }
      ],
      "source": [
        "def nearest_larger(nums, i):\n",
        "    # The number we're comparing against\n",
        "    target = nums[i]\n",
        "    left, right = i - 1, i + 1\n",
        "    n = len(nums)\n",
        "\n",
        "    while left >= 0 or right < n:\n",
        "        # Check the right side\n",
        "        if right < n and nums[right] > target:\n",
        "            return right\n",
        "        # Check the left side\n",
        "        if left >= 0 and nums[left] > target:\n",
        "            return left\n",
        "        # Move outwards\n",
        "        left -= 1\n",
        "        right += 1\n",
        "\n",
        "    # If no larger number is found\n",
        "    return None\n",
        "\n",
        "# Example usage\n",
        "print(nearest_larger([4, 1, 3, 5, 6], 0))\n"
      ]
    },
    {
      "cell_type": "markdown",
      "source": [
        "### Part 2: With Preprocessing for Constant Time Retrieval\n",
        "Achieving constant time retrieval for this problem requires preprocessing the input array to compute some form of metadata that allows you to instantly know the index of the nearest larger number for any given index.\n",
        "\n",
        "One possible approach involves creating two auxiliary arrays during preprocessing:\n",
        "- **Next Greater Element (NGE) to the right**: For each element, store the index of the next greater element to its right.\n",
        "- **Next Greater Element (NGE) to the left**: Similarly, for each element, store the index of the next greater element to its left.\n",
        "\n",
        "Then, for any given index `i`, you can look up the nearest larger number's index by comparing the distances of the NGEs on both sides and choosing the closer one. This preprocessing step can be done in linear time using a monotonic stack.\n",
        "\n",
        "However, the constant time retrieval after preprocessing might not always be possible if we consider that, in the worst case, finding the nearest larger number could involve comparing distances, which is dependent on the array's size. The preprocessing approach can significantly reduce the time complexity for multiple queries but might not strictly achieve constant-time retrieval in all cases due to the need to compare two distances."
      ],
      "metadata": {
        "id": "taN01TxLVg5j"
      }
    },
    {
      "cell_type": "markdown",
      "source": [
        "To implement the preprocessing approach for constant-time retrieval of the nearest larger number's index, we'll follow these steps:\n",
        "\n",
        "1. **Preprocess the array** to find the Next Greater Element (NGE) to the right and left for each element. This can be efficiently done using a monotonic stack, which allows us to maintain the elements in decreasing order. As we traverse the array, we can determine the NGE for each element.\n",
        "2. Store the indices of these NGEs in two separate arrays: one for the right side and one for the left side.\n",
        "3. For any query index `i`, we can then compare the distances to the nearest larger numbers on both sides (using the precomputed arrays) and return the index of the nearest one.\n",
        "\n",
        "### Step 1: Preprocess the Array\n",
        "\n",
        "First, we need a function to preprocess the array and create the arrays for NGE to the right and left:"
      ],
      "metadata": {
        "id": "MTYZAe8JWRg_"
      }
    },
    {
      "cell_type": "code",
      "source": [
        "def preprocess(nums):\n",
        "    n = len(nums)\n",
        "    # Initialize arrays to store the index of the next greater element for each element\n",
        "    nge_right = [-1] * n\n",
        "    nge_left = [-1] * n\n",
        "\n",
        "    # Monotonic stack for finding NGE to the right\n",
        "    stack = []\n",
        "    for i in range(n):\n",
        "        while stack and nums[stack[-1]] < nums[i]:\n",
        "            nge_right[stack.pop()] = i\n",
        "        stack.append(i)\n",
        "\n",
        "    # Clear the stack to reuse for finding NGE to the left\n",
        "    stack.clear()\n",
        "    for i in range(n-1, -1, -1):\n",
        "        while stack and nums[stack[-1]] < nums[i]:\n",
        "            nge_left[stack.pop()] = i\n",
        "        stack.append(i)\n",
        "\n",
        "    return nge_left, nge_right\n"
      ],
      "metadata": {
        "id": "Eqcc5vxxWWS4"
      },
      "execution_count": 2,
      "outputs": []
    },
    {
      "cell_type": "markdown",
      "source": [
        "### Step 2: Query Function\n",
        "\n",
        "Next, we implement the function to use the preprocessed data to find the nearest larger number's index in constant time:\n",
        "\n"
      ],
      "metadata": {
        "id": "AafM4S2DWglv"
      }
    },
    {
      "cell_type": "code",
      "source": [
        "def nearest_larger_with_preprocessing(i, nge_left, nge_right):\n",
        "    left_index = nge_left[i]\n",
        "    right_index = nge_right[i]\n",
        "\n",
        "    # If no NGE exists on either side\n",
        "    if left_index == -1 and right_index == -1:\n",
        "        return None\n",
        "\n",
        "    # If NGE exists only to the right\n",
        "    if left_index == -1:\n",
        "        return right_index\n",
        "\n",
        "    # If NGE exists only to the left\n",
        "    if right_index == -1:\n",
        "        return left_index\n",
        "\n",
        "    # If NGE exists on both sides, find the nearest\n",
        "    if i - left_index <= right_index - i:\n",
        "        return left_index\n",
        "    else:\n",
        "        return right_index"
      ],
      "metadata": {
        "id": "Erw-xsdZWjVA"
      },
      "execution_count": 3,
      "outputs": []
    },
    {
      "cell_type": "markdown",
      "source": [
        "### Complete Example\n",
        "\n",
        "Here's how you would use these functions together:\n",
        "\n",
        "\n",
        "This approach preprocesses the array to allow for rapid, constant-time lookups of the nearest larger number's index for any element, assuming the preprocessing is already done. The preprocessing time complexity is $O(n)$, where $n$ is the size of the array, due to the linear traversal and stack operations. The space complexity is also $O(n)$ for storing the NGE indices."
      ],
      "metadata": {
        "id": "XdLnczq4Wonu"
      }
    },
    {
      "cell_type": "code",
      "source": [
        "# Example array\n",
        "nums = [4, 1, 3, 5, 6]\n",
        "\n",
        "# Preprocess to find NGEs\n",
        "nge_left, nge_right = preprocess(nums)\n",
        "\n",
        "# Query index\n",
        "query_index = 0\n",
        "\n",
        "# Find the nearest larger number's index for the query index\n",
        "result_index = nearest_larger_with_preprocessing(query_index, nge_left, nge_right)\n",
        "\n",
        "print(f\"The index of the nearest larger number to index {query_index} is: {result_index}\")"
      ],
      "metadata": {
        "colab": {
          "base_uri": "https://localhost:8080/"
        },
        "id": "ZXICDQTdW0H3",
        "outputId": "020abe2e-09bf-4a71-a46c-b74e79f92387"
      },
      "execution_count": 4,
      "outputs": [
        {
          "output_type": "stream",
          "name": "stdout",
          "text": [
            "The index of the nearest larger number to index 0 is: 3\n"
          ]
        }
      ]
    },
    {
      "cell_type": "code",
      "source": [
        "def preprocess(nums):\n",
        "    n = len(nums)\n",
        "    nge_right = [-1] * n\n",
        "    nge_left = [-1] * n\n",
        "\n",
        "    # Monotonic stack for finding NGE to the right\n",
        "    stack = []\n",
        "    for i in range(n):\n",
        "        while stack and nums[stack[-1]] < nums[i]:\n",
        "            nge_right[stack.pop()] = i\n",
        "        stack.append(i)\n",
        "\n",
        "    # Clear the stack to reuse for finding NGE to the left\n",
        "    stack.clear()\n",
        "    for i in range(n-1, -1, -1):\n",
        "        while stack and nums[stack[-1]] < nums[i]:\n",
        "            nge_left[stack.pop()] = i\n",
        "        stack.append(i)\n",
        "\n",
        "    return nge_left, nge_right\n",
        "\n",
        "def nearest_larger_with_preprocessing(i, nge_left, nge_right):\n",
        "    left_index = nge_left[i]\n",
        "    right_index = nge_right[i]\n",
        "    results = []\n",
        "\n",
        "    # No NGE on either side\n",
        "    if left_index == -1 and right_index == -1:\n",
        "        return None\n",
        "\n",
        "    # Include NGE from the left side if it exists\n",
        "    if left_index != -1:\n",
        "        results.append(left_index)\n",
        "\n",
        "    # Include NGE from the right side if it exists\n",
        "    if right_index != -1:\n",
        "        results.append(right_index)\n",
        "\n",
        "    # If there are two results and their distances to i are equal, return both\n",
        "    if len(results) == 2:\n",
        "        if (i - left_index) != (right_index - i):\n",
        "            # If the distances are not equal, keep the closer one\n",
        "            if (i - left_index) < (right_index - i):\n",
        "                return [left_index]\n",
        "            else:\n",
        "                return [right_index]\n",
        "    return results\n",
        "\n",
        "# Example array and query\n",
        "nums = [4, 1, 3, 5, 6]\n",
        "query_index = 0\n",
        "\n",
        "# Preprocess to find NGEs\n",
        "nge_left, nge_right = preprocess(nums)\n",
        "\n",
        "# Find the nearest larger number's indices for the query index\n",
        "result_indices = nearest_larger_with_preprocessing(query_index, nge_left, nge_right)\n",
        "\n",
        "print(f\"The indices of the nearest larger numbers to index {query_index} are: {result_indices}\")\n"
      ],
      "metadata": {
        "colab": {
          "base_uri": "https://localhost:8080/"
        },
        "id": "cGcIXYVQXkZ0",
        "outputId": "25f36ba3-6388-4b2c-c309-cbe0e0b83f01"
      },
      "execution_count": 5,
      "outputs": [
        {
          "output_type": "stream",
          "name": "stdout",
          "text": [
            "The indices of the nearest larger numbers to index 0 are: [3]\n"
          ]
        }
      ]
    },
    {
      "cell_type": "markdown",
      "source": [
        "##Testing:\n",
        "Below are some test cases designed to cover various scenarios, including cases where the nearest larger number is to the left, to the right, on both sides with equal distances, and scenarios where no larger number exists. These tests will help ensure that the functionality works as expected across a range of conditions.\n",
        "\n",
        "\n",
        "This test suite calls the `preprocess` function and the `nearest_larger_with_preprocessing` function for each test case, comparing the output against the expected results. If the output matches the expected results, it prints a message indicating the test passed. If not, it raises an assertion error with details about the failure.\n",
        "\n",
        "This setup ensures that your implementation handles a wide variety of input scenarios correctly."
      ],
      "metadata": {
        "id": "ah6tWJM8Xuak"
      }
    },
    {
      "cell_type": "code",
      "source": [
        "def run_tests():\n",
        "    test_cases = [\n",
        "        ([4, 1, 3, 5, 6], 0, [3]),  # Nearest larger to the right\n",
        "        ([7, 5, 4, 3, 2, 1], 2, [1]),  # Nearest larger to the left\n",
        "        ([1, 2, 3, 4, 5], 2, [3]),  # Any nearest larger (right in this case)\n",
        "        ([5, 4, 3, 2, 1], 0, None),  # No larger number\n",
        "        ([3, 6, 9, 12, 15, 18], 3, [4]),  # Any nearest larger (right in this case)\n",
        "        ([1, 3, 5, 7, 6, 4, 2], 4, [3]),  # Nearest larger to the left\n",
        "        ([10, 20, 30, 40], 1, [2]),  # Any nearest larger (right in this case)\n",
        "    ]\n",
        "\n",
        "    for nums, query_index, expected in test_cases:\n",
        "        nge_left, nge_right = preprocess(nums)\n",
        "        result = nearest_larger_with_preprocessing(query_index, nge_left, nge_right)\n",
        "        if expected is None:\n",
        "            assert result == expected, f\"Test failed for nums={nums}, query_index={query_index}. Expected {expected}, got {result}.\"\n",
        "        else:\n",
        "            assert result == expected or result in [expected, [expected[0]]], f\"Test failed for nums={nums}, query_index={query_index}. Expected {expected}, got {result}.\"\n",
        "        print(f\"Test passed for nums={nums}, query_index={query_index}. Expected {expected}, got {result}.\")\n",
        "\n",
        "run_tests()\n"
      ],
      "metadata": {
        "colab": {
          "base_uri": "https://localhost:8080/"
        },
        "id": "UY_o7KAAX7JX",
        "outputId": "4ae6127a-10d7-44d4-de89-a89e1a3e565c"
      },
      "execution_count": 9,
      "outputs": [
        {
          "output_type": "stream",
          "name": "stdout",
          "text": [
            "Test passed for nums=[4, 1, 3, 5, 6], query_index=0. Expected [3], got [3].\n",
            "Test passed for nums=[7, 5, 4, 3, 2, 1], query_index=2. Expected [1], got [1].\n",
            "Test passed for nums=[1, 2, 3, 4, 5], query_index=2. Expected [3], got [3].\n",
            "Test passed for nums=[5, 4, 3, 2, 1], query_index=0. Expected None, got None.\n",
            "Test passed for nums=[3, 6, 9, 12, 15, 18], query_index=3. Expected [4], got [4].\n",
            "Test passed for nums=[1, 3, 5, 7, 6, 4, 2], query_index=4. Expected [3], got [3].\n",
            "Test passed for nums=[10, 20, 30, 40], query_index=1. Expected [2], got [2].\n"
          ]
        }
      ]
    }
  ]
}