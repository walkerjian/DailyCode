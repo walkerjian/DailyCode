{
  "nbformat": 4,
  "nbformat_minor": 0,
  "metadata": {
    "colab": {
      "provenance": [],
      "authorship_tag": "ABX9TyNP6JhZ/HoJwfQuqOZmE92l",
      "include_colab_link": true
    },
    "kernelspec": {
      "name": "python3",
      "display_name": "Python 3"
    },
    "language_info": {
      "name": "python"
    }
  },
  "cells": [
    {
      "cell_type": "markdown",
      "metadata": {
        "id": "view-in-github",
        "colab_type": "text"
      },
      "source": [
        "<a href=\"https://colab.research.google.com/github/walkerjian/DailyCode/blob/main/Implement_car_and_cdr.ipynb\" target=\"_parent\"><img src=\"https://colab.research.google.com/assets/colab-badge.svg\" alt=\"Open In Colab\"/></a>"
      ]
    },
    {
      "cell_type": "markdown",
      "source": [
        "#Implement car and cdr\n",
        "cons(a, b) constructs a pair, and car(pair) and cdr(pair) returns the first and last element of that pair. For example, car(cons(3, 4)) returns 3, and cdr(cons(3, 4)) returns 4.\n",
        "\n",
        "Given this implementation of cons:\n",
        "\n",
        "def cons(a, b):\n",
        "    def pair(f):\n",
        "        return f(a, b)\n",
        "    return pair\n",
        "Implement car and cdr."
      ],
      "metadata": {
        "id": "PLvZeDI0vpy4"
      }
    },
    {
      "cell_type": "code",
      "execution_count": 1,
      "metadata": {
        "colab": {
          "base_uri": "https://localhost:8080/"
        },
        "id": "YH5K-ezNvmbs",
        "outputId": "78f43cf1-8e0f-49d4-bcb2-a43102d6097d"
      },
      "outputs": [
        {
          "output_type": "stream",
          "name": "stdout",
          "text": [
            "car(cons(3, 4)) => 3\n",
            "cdr(cons(3, 4)) => 4\n",
            "car(cons(5, 6)) => 5\n",
            "cdr(cons(5, 6)) => 6\n",
            "car(cons(7, 8)) => 7\n",
            "cdr(cons(7, 8)) => 8\n",
            "car(cons(9, 10)) => 9\n",
            "cdr(cons(9, 10)) => 10\n",
            "car(cons(11, 12)) => 11\n",
            "cdr(cons(11, 12)) => 12\n"
          ]
        }
      ],
      "source": [
        "def cons(a, b):\n",
        "    \"\"\"\n",
        "    Constructs a pair using two elements a and b.\n",
        "\n",
        "    The pair is represented using a closure, where the inner function pair takes\n",
        "    another function f as an argument. When pair is invoked with a function f,\n",
        "    it applies f to a and b.\n",
        "\n",
        "    :param a: The first element of the pair.\n",
        "    :param b: The second element of the pair.\n",
        "    :return: A function pair which, when invoked with a function f, applies f to a and b.\n",
        "    \"\"\"\n",
        "    def pair(f):\n",
        "        return f(a, b)\n",
        "    return pair\n",
        "\n",
        "\n",
        "# Model\n",
        "def car(pair):\n",
        "    \"\"\"\n",
        "    Returns the first element of the pair constructed by cons.\n",
        "\n",
        "    :param pair: A function representing the pair.\n",
        "    :return: The first element of the pair.\n",
        "    \"\"\"\n",
        "    return pair(lambda a, b: a)\n",
        "\n",
        "\n",
        "def cdr(pair):\n",
        "    \"\"\"\n",
        "    Returns the second element of the pair constructed by cons.\n",
        "\n",
        "    :param pair: A function representing the pair.\n",
        "    :return: The second element of the pair.\n",
        "    \"\"\"\n",
        "    return pair(lambda a, b: b)\n",
        "\n",
        "\n",
        "# View\n",
        "def display_result(test_case, result):\n",
        "    \"\"\"\n",
        "    Displays the result of a test case.\n",
        "\n",
        "    :param test_case: A string representation of the test case.\n",
        "    :param result: The result of the test case.\n",
        "    \"\"\"\n",
        "    print(f\"{test_case} => {result}\")\n",
        "\n",
        "\n",
        "# Controller\n",
        "def test_harness():\n",
        "    \"\"\"\n",
        "    Tests the car and cdr functions using various test cases and displays the results.\n",
        "    \"\"\"\n",
        "    test_cases = [\n",
        "        (\"car(cons(3, 4))\", car(cons(3, 4))),\n",
        "        (\"cdr(cons(3, 4))\", cdr(cons(3, 4))),\n",
        "        (\"car(cons(5, 6))\", car(cons(5, 6))),\n",
        "        (\"cdr(cons(5, 6))\", cdr(cons(5, 6))),\n",
        "        (\"car(cons(7, 8))\", car(cons(7, 8))),\n",
        "        (\"cdr(cons(7, 8))\", cdr(cons(7, 8))),\n",
        "        (\"car(cons(9, 10))\", car(cons(9, 10))),\n",
        "        (\"cdr(cons(9, 10))\", cdr(cons(9, 10))),\n",
        "        (\"car(cons(11, 12))\", car(cons(11, 12))),\n",
        "        (\"cdr(cons(11, 12))\", cdr(cons(11, 12)))\n",
        "    ]\n",
        "\n",
        "    for test_case, result in test_cases:\n",
        "        display_result(test_case, result)\n",
        "\n",
        "\n",
        "# Running the test harness\n",
        "test_harness()\n"
      ]
    }
  ]
}