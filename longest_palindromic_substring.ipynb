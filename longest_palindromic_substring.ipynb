{
  "nbformat": 4,
  "nbformat_minor": 0,
  "metadata": {
    "colab": {
      "provenance": [],
      "authorship_tag": "ABX9TyP0NbeOMquntuXcn88Ms8VZ",
      "include_colab_link": true
    },
    "kernelspec": {
      "name": "python3",
      "display_name": "Python 3"
    },
    "language_info": {
      "name": "python"
    }
  },
  "cells": [
    {
      "cell_type": "markdown",
      "metadata": {
        "id": "view-in-github",
        "colab_type": "text"
      },
      "source": [
        "<a href=\"https://colab.research.google.com/github/walkerjian/DailyCode/blob/main/longest_palindromic_substring.ipynb\" target=\"_parent\"><img src=\"https://colab.research.google.com/assets/colab-badge.svg\" alt=\"Open In Colab\"/></a>"
      ]
    },
    {
      "cell_type": "markdown",
      "source": [
        "##Problem:\n",
        "Given a string, find the longest palindromic contiguous substring. If there are more than one with the maximum length, return any one.\n",
        "\n",
        "For example, the longest palindromic substring of \"aabcdcb\" is \"bcdcb\". The longest palindromic substring of \"bananas\" is \"anana\".\n",
        "\n",
        "As a help, consider that you need at least 2 of any particular character in the string for it to be a part of a palindrome..."
      ],
      "metadata": {
        "id": "7KxMb72Sz6jB"
      }
    },
    {
      "cell_type": "markdown",
      "source": [
        "## Solution:\n",
        "To find the longest palindromic contiguous substring in a given string, we can use a method called \"expand around center\". The idea is to treat every character of the input string as a potential center of a palindrome, and then expand outwards to find the palindrome. Since a palindrome can have either an odd or an even length, we need to check both cases.\n",
        "\n",
        "For every character in the string, we consider it as the center of a potential odd-length palindrome and try to expand outwards. Similarly, for every pair of adjacent characters in the string, we consider them as the center of a potential even-length palindrome and try to expand outwards.\n",
        "\n",
        "During the expansion, if the characters being compared are the same, we continue expanding. If they are different, we stop and record the palindrome if it's the longest one found so far."
      ],
      "metadata": {
        "id": "Q1rSylrh0eNx"
      }
    },
    {
      "cell_type": "markdown",
      "source": [
        "##Implementation:"
      ],
      "metadata": {
        "id": "iorbPvVV0ik6"
      }
    },
    {
      "cell_type": "code",
      "execution_count": null,
      "metadata": {
        "id": "oVrYAz6dz5cQ"
      },
      "outputs": [],
      "source": [
        "def expand_around_center(s, left, right):\n",
        "    \"\"\"Expand around the center and return the boundaries of the palindrome\"\"\"\n",
        "    while left >= 0 and right < len(s) and s[left] == s[right]:\n",
        "        left -= 1\n",
        "        right += 1\n",
        "    # return the boundaries of the palindrome\n",
        "    return left + 1, right - 1\n",
        "\n",
        "def longest_palindromic_substring(s):\n",
        "    \"\"\"Return the longest palindromic substring in the given string\"\"\"\n",
        "    if not s:\n",
        "        return \"\"\n",
        "\n",
        "    start, end = 0, 0\n",
        "    for i in range(len(s)):\n",
        "        # Odd length palindrome\n",
        "        l1, r1 = expand_around_center(s, i, i)\n",
        "        # Even length palindrome\n",
        "        l2, r2 = expand_around_center(s, i, i + 1)\n",
        "\n",
        "        # Choose the longer palindrome from the two\n",
        "        if r1 - l1 > r2 - l2:\n",
        "            if r1 - l1 > end - start:\n",
        "                start, end = l1, r1\n",
        "        else:\n",
        "            if r2 - l2 > end - start:\n",
        "                start, end = l2, r2\n",
        "\n",
        "    return s[start:end+1]\n",
        "\n",
        "# Test the function\n",
        "test_strings = [\"aabcdcb\", \"bananas\", \"abc\", \"aaa\"]\n",
        "results = [longest_palindromic_substring(s) for s in test_strings]\n",
        "results\n"
      ]
    },
    {
      "cell_type": "markdown",
      "source": [
        "\n",
        "The results for the test strings are as follows:\n",
        "\n",
        "- For \"aabcdcb\", the longest palindromic substring is \"bcdcb\".\n",
        "- For \"bananas\", the longest palindromic substring is \"anana\".\n",
        "- For \"abc\", the longest palindromic substring is \"a\" (since no palindrome longer than 1 character exists in this string).\n",
        "- For \"aaa\", the longest palindromic substring is \"aaa\"."
      ],
      "metadata": {
        "id": "kz8vdiVh0--l"
      }
    },
    {
      "cell_type": "markdown",
      "source": [
        "##Testing:"
      ],
      "metadata": {
        "id": "_48cs33H0pgr"
      }
    },
    {
      "cell_type": "code",
      "source": [
        "# Let's test the function with more test cases, including known palindromes and various edge cases.\n",
        "\n",
        "test_strings = [\n",
        "    \"a\",          # Single character string\n",
        "    \"aa\",         # All characters are the same\n",
        "    \"aba\",        # Whole string is a palindrome\n",
        "    \"abba\",       # Whole string is a palindrome\n",
        "    \"abcdefg\",    # No palindrome longer than 1 character\n",
        "    \"abbcaacc\",   # Multiple palindromic substrings with same length\n",
        "    \"racecar\",    # Known palindrome\n",
        "    \"madam\",      # Known palindrome\n",
        "    \"level\",      # Known palindrome\n",
        "    \"deified\",    # Known palindrome\n",
        "    \"civic\",      # Known palindrome\n",
        "    \"radar\",      # Known palindrome\n",
        "    \"noon\",       # Known palindrome\n",
        "    \"redivider\",  # Known palindrome\n",
        "    \"wow\",        # Known palindrome\n",
        "    \"pop\",        # Known palindrome\n",
        "    \"refer\",      # Known palindrome\n",
        "    \"rotator\",    # Known palindrome\n",
        "    \"repaper\",    # Known palindrome\n",
        "    \"deleveled\",  # Known palindrome\n",
        "    \"detartrated\",# Known palindrome\n",
        "    \"releveler\",  # Known palindrome\n",
        "    \"redivider\",  # Known palindrome\n",
        "    \"aibohphobia\",# Known palindrome\n",
        "]\n",
        "\n",
        "results = [longest_palindromic_substring(s) for s in test_strings]\n",
        "results\n"
      ],
      "metadata": {
        "id": "Yc1Wau7D0ueS"
      },
      "execution_count": null,
      "outputs": []
    },
    {
      "cell_type": "markdown",
      "source": [
        "Here are the results for the additional test cases:\n",
        "\n",
        "- \"a\" -> \"a\"\n",
        "- \"aa\" -> \"aa\"\n",
        "- \"aba\" -> \"aba\"\n",
        "- \"abba\" -> \"abba\"\n",
        "- \"abcdefg\" -> \"a\" (any single character from the string)\n",
        "- \"abbcaacc\" -> \"caac\"\n",
        "- \"racecar\" -> \"racecar\"\n",
        "- \"madam\" -> \"madam\"\n",
        "- \"level\" -> \"level\"\n",
        "- \"deified\" -> \"deified\"\n",
        "- \"civic\" -> \"civic\"\n",
        "- \"radar\" -> \"radar\"\n",
        "- \"noon\" -> \"noon\"\n",
        "- \"redivider\" -> \"redivider\"\n",
        "- \"wow\" -> \"wow\"\n",
        "- \"pop\" -> \"pop\"\n",
        "- \"refer\" -> \"refer\"\n",
        "- \"rotator\" -> \"rotator\"\n",
        "- \"repaper\" -> \"repaper\"\n",
        "- \"deleveled\" -> \"deleveled\"\n",
        "- \"detartrated\" -> \"detartrated\"\n",
        "- \"releveler\" -> \"releveler\"\n",
        "- \"redivider\" -> \"redivider\"\n",
        "- \"aibohphobia\" -> \"aibohphobia\"\n",
        "\n",
        "The function appears to correctly identify the longest palindromic substrings in these test cases."
      ],
      "metadata": {
        "id": "AuuBkEqU0vxr"
      }
    }
  ]
}