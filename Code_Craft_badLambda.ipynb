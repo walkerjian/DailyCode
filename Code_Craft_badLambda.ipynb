{
  "nbformat": 4,
  "nbformat_minor": 0,
  "metadata": {
    "colab": {
      "provenance": [],
      "authorship_tag": "ABX9TyNiwh2jo6OLEuoV8MiJegKa",
      "include_colab_link": true
    },
    "kernelspec": {
      "name": "python3",
      "display_name": "Python 3"
    },
    "language_info": {
      "name": "python"
    }
  },
  "cells": [
    {
      "cell_type": "markdown",
      "metadata": {
        "id": "view-in-github",
        "colab_type": "text"
      },
      "source": [
        "<a href=\"https://colab.research.google.com/github/walkerjian/DailyCode/blob/main/Code_Craft_badLambda.ipynb\" target=\"_parent\"><img src=\"https://colab.research.google.com/assets/colab-badge.svg\" alt=\"Open In Colab\"/></a>"
      ]
    },
    {
      "cell_type": "markdown",
      "source": [
        "##Problem:\n",
        "What does the below code snippet print out? How can we fix the anonymous functions to behave as we'd expect?\n",
        "```python\n",
        "functions = []\n",
        "for i in range(10):\n",
        "    functions.append(lambda : i)\n",
        "\n",
        "for f in functions:\n",
        "    print(f())\n",
        "```"
      ],
      "metadata": {
        "id": "AGNVVJtL6CvC"
      }
    },
    {
      "cell_type": "markdown",
      "source": [
        "##Solution:\n",
        "The given code snippet creates a list of anonymous functions (lambdas), each of which is supposed to return the value of `i` at the time the lambda was created. However, due to Python's late binding behavior for closures, all of the functions end up referring to the same `i` variable, which is equal to 9 at the end of the loop (after `range(10)` finishes). Consequently, when each function in `functions` is called, they all return `9`.\n",
        "\n",
        "To fix this, you need to ensure that the value of `i` is captured at the time each lambda is created. This can be done by passing `i` as a default argument to the lambda. Here is the corrected version of the code:\n",
        "\n",
        "In this corrected version, `i=i` in the lambda function creates a new scope for `i`. Each lambda now has its own default argument `i` that preserves the value of `i` as it was at the time the lambda was created. When you run this code, it will print out numbers from 0 to 9, as expected."
      ],
      "metadata": {
        "id": "xWF9rvRW6LIf"
      }
    },
    {
      "cell_type": "markdown",
      "source": [
        "##Implementation:\n"
      ],
      "metadata": {
        "id": "-S63Y6HQ7JAF"
      }
    },
    {
      "cell_type": "code",
      "source": [
        "functions = []\n",
        "for i in range(10):\n",
        "    functions.append(lambda : i)\n",
        "\n",
        "for f in functions:\n",
        "    print(f())"
      ],
      "metadata": {
        "colab": {
          "base_uri": "https://localhost:8080/"
        },
        "id": "v_iBjtXR6jjA",
        "outputId": "5a2cb5cc-7fe1-49b2-e71b-cc2148f76025"
      },
      "execution_count": 2,
      "outputs": [
        {
          "output_type": "stream",
          "name": "stdout",
          "text": [
            "9\n",
            "9\n",
            "9\n",
            "9\n",
            "9\n",
            "9\n",
            "9\n",
            "9\n",
            "9\n",
            "9\n"
          ]
        }
      ]
    },
    {
      "cell_type": "code",
      "execution_count": 3,
      "metadata": {
        "colab": {
          "base_uri": "https://localhost:8080/"
        },
        "id": "DZ5hsMrW55FM",
        "outputId": "dc4df349-94b2-46b3-8482-a3ee92603278"
      },
      "outputs": [
        {
          "output_type": "stream",
          "name": "stdout",
          "text": [
            "0\n",
            "1\n",
            "2\n",
            "3\n",
            "4\n",
            "5\n",
            "6\n",
            "7\n",
            "8\n",
            "9\n"
          ]
        }
      ],
      "source": [
        "functions = []\n",
        "for i in range(10):\n",
        "    functions.append(lambda i=i: i)\n",
        "\n",
        "for f in functions:\n",
        "    print(f())\n"
      ]
    },
    {
      "cell_type": "markdown",
      "source": [
        "##Lambdas:\n",
        "A lambda in programming, particularly in Python, is a small, anonymous function defined using the `lambda` keyword. Unlike regular functions declared with `def`, lambda functions are typically single-expression functions that do not require a separate `return` statement.\n",
        "\n",
        "Lambdas are often used in situations where a simple function is needed for a short period of time, and defining a full function would be unnecessarily verbose. Common use cases include:\n",
        "\n",
        "1. **Sorting and Filtering**: With functions like `sorted()` or `filter()`, lambdas provide a concise way to specify the sorting or filtering criteria.\n",
        "\n",
        "2. **Higher-Order Functions**: In functions that take other functions as arguments, like `map()` or `reduce()`, lambdas offer a convenient way to provide the required functionality inline.\n",
        "\n",
        "3. **Event Handlers**: In GUI or event-driven programming, lambdas are used for small callback functions.\n",
        "\n",
        "4. **Functional Programming**: Lambdas support a functional style of programming, allowing for operations on lists, streams, and other structures in a concise way.\n",
        "\n",
        "While useful for simplicity, lambdas in Python are limited to single expressions and cannot contain complex logic or multiple statements, which is by design to encourage readability."
      ],
      "metadata": {
        "id": "8Uu541d07M-O"
      }
    },
    {
      "cell_type": "markdown",
      "source": [
        "##Bard:"
      ],
      "metadata": {
        "id": "R1UDx7L07bdP"
      }
    },
    {
      "cell_type": "code",
      "source": [
        "# prompt: What does the below code snippet print out? How can we fix the anonymous functions to behave as we'd expect? ```python functions = [] for i in range(10):     functions.append(lambda : i)  for f in functions:     print(f()) ```\n",
        "\n",
        "functions = []\n",
        "for i in range(10):\n",
        "    functions.append(lambda i=i: i)\n",
        "\n",
        "for f in functions:\n",
        "    print(f())\n"
      ],
      "metadata": {
        "id": "hLAUgaPK7OnV"
      },
      "execution_count": null,
      "outputs": []
    }
  ]
}