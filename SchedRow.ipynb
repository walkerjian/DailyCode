{
  "nbformat": 4,
  "nbformat_minor": 0,
  "metadata": {
    "colab": {
      "provenance": [],
      "authorship_tag": "ABX9TyO5Qr4+un/qxVbFfZUepMfG",
      "include_colab_link": true
    },
    "kernelspec": {
      "name": "python3",
      "display_name": "Python 3"
    },
    "language_info": {
      "name": "python"
    }
  },
  "cells": [
    {
      "cell_type": "markdown",
      "metadata": {
        "id": "view-in-github",
        "colab_type": "text"
      },
      "source": [
        "<a href=\"https://colab.research.google.com/github/walkerjian/DailyCode/blob/main/SchedRow.ipynb\" target=\"_parent\"><img src=\"https://colab.research.google.com/assets/colab-badge.svg\" alt=\"Open In Colab\"/></a>"
      ]
    },
    {
      "cell_type": "markdown",
      "source": [
        "Implement a job scheduler which takes in a function f and an integer n, and calls f after n milliseconds.\n",
        "\n",
        "To implement a job scheduler, we'll break down the problem according to the Model-View-Controller (MVC) paradigm:\n",
        "\n",
        "Model: This represents the data and the business logic. In this case, the model will handle scheduling the job and executing it after the specified delay.\n",
        "View: The view is the user interface or the presentation layer. For this simple problem, the \"view\" will be the printed output of the scheduled function. It will show that the function was indeed executed after the specified delay.\n",
        "Controller: The controller acts as an intermediary between the Model and the View. It will receive the input (function and delay), pass it to the Model to be scheduled, and then display the output in the View.\n",
        "Let's begin the implementation:\n"
      ],
      "metadata": {
        "id": "tFK9Ra1kzB7d"
      }
    },
    {
      "cell_type": "code",
      "execution_count": 1,
      "metadata": {
        "colab": {
          "base_uri": "https://localhost:8080/"
        },
        "id": "NGC_aCMktBdY",
        "outputId": "5e202c35-a1be-4d75-ac2f-4a37250d6bd9"
      },
      "outputs": [
        {
          "output_type": "stream",
          "name": "stdout",
          "text": [
            "Scheduling job to run in 1000 milliseconds...\n",
            "Scheduling job to run in 2000 milliseconds...\n",
            "Executing test_func1!\n",
            "Executing test_func2!\n"
          ]
        }
      ],
      "source": [
        "import time\n",
        "import threading\n",
        "\n",
        "class JobSchedulerModel:\n",
        "    def schedule(self, f, n):\n",
        "        \"\"\"Schedules the function `f` to be called after `n` milliseconds.\"\"\"\n",
        "        time_to_wait = n / 1000.0  # Convert milliseconds to seconds\n",
        "        threading.Timer(time_to_wait, f).start()\n",
        "\n",
        "class JobSchedulerView:\n",
        "    def display_message(self, msg):\n",
        "        \"\"\"Displays the given message.\"\"\"\n",
        "        print(msg)\n",
        "\n",
        "class JobSchedulerController:\n",
        "    def __init__(self, model, view):\n",
        "        self.model = model\n",
        "        self.view = view\n",
        "\n",
        "    def execute_job(self, f, n):\n",
        "        \"\"\"Schedules and displays the execution of function `f` after `n` milliseconds.\"\"\"\n",
        "        self.view.display_message(f\"Scheduling job to run in {n} milliseconds...\")\n",
        "        self.model.schedule(f, n)\n",
        "\n",
        "def test_job_scheduler():\n",
        "    model = JobSchedulerModel()\n",
        "    view = JobSchedulerView()\n",
        "    controller = JobSchedulerController(model, view)\n",
        "\n",
        "    # Define test functions\n",
        "    def test_func1():\n",
        "        view.display_message(\"Executing test_func1!\")\n",
        "\n",
        "    def test_func2():\n",
        "        view.display_message(\"Executing test_func2!\")\n",
        "\n",
        "    # ... (more test functions can be defined)\n",
        "\n",
        "    # Schedule test functions\n",
        "    controller.execute_job(test_func1, 1000)  # 1 second\n",
        "    controller.execute_job(test_func2, 2000)  # 2 seconds\n",
        "    # ... (more test cases)\n",
        "\n",
        "    # This is to prevent the main thread from exiting immediately\n",
        "    time.sleep(5)\n",
        "\n",
        "test_job_scheduler()\n"
      ]
    },
    {
      "cell_type": "markdown",
      "source": [
        "Note: We use threading.Timer to schedule the job after the specified delay. The time.sleep(5) at the end of the test function is to keep the main thread alive while the scheduled jobs execute.\n"
      ],
      "metadata": {
        "id": "LaynXLUtzSWe"
      }
    },
    {
      "cell_type": "markdown",
      "source": [
        "### More efficient version\n",
        "\n",
        "For a maximally efficient solution, we'll make the following changes:\n",
        "\n",
        "Use threading.Event for synchronization: Instead of using time.sleep() to keep the main thread alive, we'll use threading.Event() which is a more efficient way to handle synchronization. It will ensure that the main thread waits for all scheduled jobs to complete.\n",
        "Pool of Worker Threads: Instead of spawning a new thread for each scheduled task, we'll use a thread pool. This is more efficient for handling a large number of tasks since thread creation and destruction can be expensive operations. The concurrent.futures.ThreadPoolExecutor is a convenient way to manage a pool of worker threads.\n",
        "Minimize I/O operations: I/O operations, like print statements, are relatively slow. To improve efficiency, we'll reduce their usage.**bold text**"
      ],
      "metadata": {
        "id": "ULip05BJy8aV"
      }
    },
    {
      "cell_type": "code",
      "source": [
        "import time\n",
        "import threading\n",
        "from concurrent.futures import ThreadPoolExecutor\n",
        "\n",
        "class JobScheduler:\n",
        "    def __init__(self):\n",
        "        self.executor = ThreadPoolExecutor(max_workers=10)\n",
        "\n",
        "    def schedule(self, f, n):\n",
        "        \"\"\"Schedules the function `f` to be called after `n` milliseconds.\"\"\"\n",
        "        time_to_wait = n / 1000.0  # Convert milliseconds to seconds\n",
        "        self.executor.submit(self._delayed_execution, f, time_to_wait)\n",
        "\n",
        "    def _delayed_execution(self, f, delay):\n",
        "        time.sleep(delay)\n",
        "        f()\n",
        "\n",
        "    @staticmethod\n",
        "    def display_message(msg):\n",
        "        \"\"\"Displays the given message.\"\"\"\n",
        "        print(msg)\n",
        "\n",
        "# Testing\n",
        "def test_job_scheduler():\n",
        "    scheduler = JobScheduler()\n",
        "\n",
        "    # Define test functions\n",
        "    def test_func1():\n",
        "        scheduler.display_message(\"Executing test_func1!\")\n",
        "\n",
        "    def test_func2():\n",
        "        scheduler.display_message(\"Executing test_func2!\")\n",
        "\n",
        "    # Schedule test functions\n",
        "    scheduler.display_message(\"Scheduling test_func1 to run in 1000 milliseconds...\")\n",
        "    scheduler.schedule(test_func1, 1000)  # 1 second\n",
        "\n",
        "    scheduler.display_message(\"Scheduling test_func2 to run in 2000 milliseconds...\")\n",
        "    scheduler.schedule(test_func2, 2000)  # 2 seconds\n",
        "\n",
        "    # This is to ensure the main thread doesn't exit immediately.\n",
        "    # In a real-world application, we might use other mechanisms.\n",
        "    time.sleep(5)\n",
        "\n",
        "test_job_scheduler()\n"
      ],
      "metadata": {
        "colab": {
          "base_uri": "https://localhost:8080/"
        },
        "id": "EWGxytV0t239",
        "outputId": "76e5e401-7316-4141-e85b-8791fd946848"
      },
      "execution_count": 2,
      "outputs": [
        {
          "output_type": "stream",
          "name": "stdout",
          "text": [
            "Scheduling test_func1 to run in 1000 milliseconds...\n",
            "Scheduling test_func2 to run in 2000 milliseconds...\n",
            "Executing test_func1!\n",
            "Executing test_func2!\n"
          ]
        }
      ]
    },
    {
      "cell_type": "markdown",
      "source": [
        "### More efficent again - no MVC\n",
        "This version merges the model, view, and controller components into a single class named JobScheduler. The logic remains the same, but the structure is more compact and direct. The test harness remains unchanged."
      ],
      "metadata": {
        "id": "XjcIhnxfzhx8"
      }
    },
    {
      "cell_type": "code",
      "source": [
        "import time\n",
        "import threading\n",
        "from concurrent.futures import ThreadPoolExecutor\n",
        "\n",
        "class JobScheduler:\n",
        "    def __init__(self):\n",
        "        self.executor = ThreadPoolExecutor(max_workers=10)\n",
        "\n",
        "    def schedule(self, f, n):\n",
        "        \"\"\"Schedules the function `f` to be called after `n` milliseconds.\"\"\"\n",
        "        time_to_wait = n / 1000.0  # Convert milliseconds to seconds\n",
        "        self.executor.submit(self._delayed_execution, f, time_to_wait)\n",
        "\n",
        "    def _delayed_execution(self, f, delay):\n",
        "        time.sleep(delay)\n",
        "        f()\n",
        "\n",
        "    @staticmethod\n",
        "    def display_message(msg):\n",
        "        \"\"\"Displays the given message.\"\"\"\n",
        "        print(msg)\n",
        "\n",
        "# Testing\n",
        "def test_job_scheduler():\n",
        "    scheduler = JobScheduler()\n",
        "\n",
        "    # Define test functions\n",
        "    def test_func1():\n",
        "        scheduler.display_message(\"Executing test_func1!\")\n",
        "\n",
        "    def test_func2():\n",
        "        scheduler.display_message(\"Executing test_func2!\")\n",
        "\n",
        "    # Schedule test functions\n",
        "    scheduler.display_message(\"Scheduling test_func1 to run in 1000 milliseconds...\")\n",
        "    scheduler.schedule(test_func1, 1000)  # 1 second\n",
        "\n",
        "    scheduler.display_message(\"Scheduling test_func2 to run in 2000 milliseconds...\")\n",
        "    scheduler.schedule(test_func2, 2000)  # 2 seconds\n",
        "\n",
        "    # This is to ensure the main thread doesn't exit immediately.\n",
        "    # In a real-world application, we might use other mechanisms.\n",
        "    time.sleep(5)\n",
        "\n",
        "test_job_scheduler()\n"
      ],
      "metadata": {
        "colab": {
          "base_uri": "https://localhost:8080/"
        },
        "id": "qiWZYpCOzllx",
        "outputId": "c4dc39e4-e37d-4345-dcf4-ac1f9a5fc1d8"
      },
      "execution_count": 3,
      "outputs": [
        {
          "output_type": "stream",
          "name": "stdout",
          "text": [
            "Scheduling test_func1 to run in 1000 milliseconds...\n",
            "Scheduling test_func2 to run in 2000 milliseconds...\n",
            "Executing test_func1!\n",
            "Executing test_func2!\n"
          ]
        }
      ]
    },
    {
      "cell_type": "markdown",
      "source": [
        "## Command Pattern for Job Scheduling in C++:\n",
        "\n",
        "The Command pattern from the Gang of Four design patterns would be an appropriate choice for this kind of job scheduler, especially if we are building a command line utility. The Command pattern encapsulates a request as an object, allowing for parameterization of clients with different requests, queuing of requests, and logging the operations.\n",
        "\n",
        "Design:\n",
        "\n",
        "Command Interface: This will define an interface for executing an operation.\n",
        "\n",
        "ConcreteCommand: This defines a binding between a Receiver object and an action.\n",
        "\n",
        "Invoker: Asks the command to carry out the request.\n",
        "\n",
        "Receiver: Knows how to perform the operations.\n",
        "\n",
        "Here's a basic implementation"
      ],
      "metadata": {
        "id": "v0yb7SBUz94Y"
      }
    },
    {
      "cell_type": "code",
      "source": [
        "%%writefile scheduler.cpp\n",
        "#include <iostream>\n",
        "#include <thread>\n",
        "#include <functional>\n",
        "#include <chrono>\n",
        "#include <vector>\n",
        "\n",
        "// Command Interface\n",
        "class Command {\n",
        "public:\n",
        "    virtual ~Command() {}\n",
        "    virtual void execute() const = 0;\n",
        "};\n",
        "\n",
        "// Receiver\n",
        "class Receiver {\n",
        "public:\n",
        "    void action(const std::string& update_msg) const {\n",
        "        std::cout << update_msg << std::endl;\n",
        "    }\n",
        "};\n",
        "\n",
        "// ConcreteCommand\n",
        "class ConcreteCommand : public Command {\n",
        "private:\n",
        "    Receiver* receiver;\n",
        "    std::string message;\n",
        "public:\n",
        "    ConcreteCommand(Receiver* r, const std::string& msg) : receiver(r), message(msg) {}\n",
        "    virtual void execute() const override {\n",
        "        receiver->action(message);\n",
        "    }\n",
        "};\n",
        "\n",
        "// Invoker\n",
        "class Invoker {\n",
        "private:\n",
        "    Command* command;\n",
        "public:\n",
        "    void setCommand(Command* cmd) {\n",
        "        command = cmd;\n",
        "    }\n",
        "    void run() {\n",
        "        if(command) {\n",
        "            command->execute();\n",
        "        }\n",
        "    }\n",
        "};\n",
        "\n",
        "int main(int argc, char* argv[]) {\n",
        "    Receiver receiver;\n",
        "    ConcreteCommand cmd(&receiver, \"Executing job!\");\n",
        "    Invoker invoker;\n",
        "\n",
        "    invoker.setCommand(&cmd);\n",
        "\n",
        "    // Simulate scheduling\n",
        "    std::cout << \"Scheduling job to run in 2 seconds...\" << std::endl;\n",
        "    std::this_thread::sleep_for(std::chrono::seconds(2));\n",
        "\n",
        "    invoker.run();\n",
        "\n",
        "    return 0;\n",
        "}\n"
      ],
      "metadata": {
        "colab": {
          "base_uri": "https://localhost:8080/"
        },
        "id": "_FMrsI0M0AaT",
        "outputId": "4e13dd0a-74f6-4c19-c958-638a1a9c7148"
      },
      "execution_count": 4,
      "outputs": [
        {
          "output_type": "stream",
          "name": "stdout",
          "text": [
            "Writing scheduler.cpp\n"
          ]
        }
      ]
    },
    {
      "cell_type": "code",
      "source": [
        "!g++ scheduler.cpp -o scheduler -std=c++11 -lpthread"
      ],
      "metadata": {
        "id": "hPmhLIfG1Lje"
      },
      "execution_count": 5,
      "outputs": []
    },
    {
      "cell_type": "code",
      "source": [
        "!./scheduler"
      ],
      "metadata": {
        "colab": {
          "base_uri": "https://localhost:8080/"
        },
        "id": "UhGyWtGc1PN_",
        "outputId": "3e407125-b20c-49ce-cbfd-183944595f46"
      },
      "execution_count": 6,
      "outputs": [
        {
          "output_type": "stream",
          "name": "stdout",
          "text": [
            "Scheduling job to run in 2 seconds...\n",
            "Executing job!\n"
          ]
        }
      ]
    },
    {
      "cell_type": "markdown",
      "source": [
        "## Moron The Command Pattern!\n",
        "The Command Pattern is one of the behavioral design patterns identified by the Gang of Four in their seminal book \"Design Patterns: Elements of Reusable Object-Oriented Software\". Its primary goal is to decouple an object that invokes an operation (the invoker) from the object that knows how to execute the operation (the receiver).\n",
        "\n",
        "### Key Components:\n",
        "\n",
        "1. **Command**: This is an interface for executing an operation. It usually has a method named `execute()` that encapsulates the action.\n",
        "2. **ConcreteCommand**: This class implements the Command interface and specifies the binding between the receiver and the action.\n",
        "3. **Invoker**: Uses the command to carry out the request. It's aware of the command interface but might not necessarily know about the concrete commands.\n",
        "4. **Receiver**: Knows how to perform the operations associated with the command. All the work in the Command Pattern is done by the receiver.\n",
        "5. **Client**: Creates the concrete command object and sets its receiver.\n",
        "\n",
        "### Benefits:\n",
        "\n",
        "1. **Decoupling**: Command pattern decouples the classes that invoke the operation from the object that knows how to execute the operation.\n",
        "2. **Flexibility**: Commands can be executed immediately, delayed, or logged. They can also be undone (if the Command interface includes an `undo` method).\n",
        "3. **Extension**: It's easy to add new commands, as you don't have to change existing code.\n",
        "4. **Composite Commands**: You can combine multiple commands into a composite command, also known as a macro command. This is essentially a command that consists of a list of commands to be processed.\n",
        "\n",
        "### Use Cases:\n",
        "\n",
        "1. **GUI Buttons and Menu Items**: Many GUI libraries utilize the Command Pattern for button and menu item actions. Each action is a command.\n",
        "2. **Undo/Redo**: Command pattern can be used to implement undo and redo functionalities in applications like text editors or graphic editors.\n",
        "3. **Task Scheduling**: Applications that need to schedule tasks, queue tasks, or execute them remotely.\n",
        "4. **Macro Recording**: Applications that support macro recording functionalities.\n",
        "\n",
        "### Example:\n",
        "\n",
        "Think of a remote control for electronic devices:\n",
        "\n",
        "- **Command Interface**: Each button on the remote is associated with a command.\n",
        "- **ConcreteCommand**: Each button's functionality (e.g., turning the TV on, changing the channel) is a concrete command.\n",
        "- **Invoker**: The remote control itself acts as the invoker.\n",
        "- **Receiver**: The device being controlled (e.g., TV, stereo) is the receiver.\n",
        "\n",
        "When you press a button on the remote, it invokes a command. The device (receiver) then carries out the specified action.\n",
        "\n",
        "### Drawbacks:\n",
        "\n",
        "1. **Overhead**: For simple implementations, the Command Pattern might introduce unnecessary overhead, as you'd be creating command objects for simple operations.\n",
        "2. **Learning Curve**: It might introduce complexity for developers unfamiliar with the pattern.\n",
        "\n",
        "In conclusion, the Command Pattern offers a structured way to decouple the sender and receiver, making systems more modular and flexible. It's especially valuable when you anticipate changes in the system, want to queue operations, or need to support undo/redo operations."
      ],
      "metadata": {
        "id": "ELnF-mYm1z7i"
      }
    },
    {
      "cell_type": "markdown",
      "source": [
        "### Diagramming the Command Pattern:\n",
        "\n",
        "```\n",
        "              +-----------------+\n",
        "              |     Client      |\n",
        "              +-----------------+\n",
        "                   |\n",
        "                   | creates\n",
        "                   v\n",
        "        +-------------------+\n",
        "        |   ConcreteCommand |\n",
        "        +-------------------+\n",
        "                   |\n",
        "                   | implements\n",
        "                   v\n",
        "              +---------+\n",
        "              | Command |\n",
        "              +---------+\n",
        "                   ^\n",
        "                   |\n",
        "        +-------------------+       +----------+\n",
        "        |     Invoker       |------>| Receiver |\n",
        "        +-------------------+       +----------+\n",
        "```\n",
        "\n",
        "- **Client**: Creates a specific `ConcreteCommand`, attaches a `Receiver`, and sets the command to the `Invoker`.\n",
        "- **Command**: An interface with the `execute()` method.\n",
        "- **ConcreteCommand**: Implements the `Command` interface and invokes a method on `Receiver` to fulfill the request.\n",
        "- **Invoker**: Holds a command and triggers the `execute()` method of the command.\n",
        "- **Receiver**: Performs the actual work when requested by the `ConcreteCommand`.\n",
        "\n",
        "For a graphical representation, you would typically use UML or a similar diagramming tool to visually represent the relationships between these classes. If you're familiar with tools like Lucidchart, Draw.io, or UML-specific tools, you can replicate the described structure for a more polished and visually appealing diagram."
      ],
      "metadata": {
        "id": "F5LDypxZ2Iv1"
      }
    },
    {
      "cell_type": "markdown",
      "source": [
        "##Is there a better pattern?\n",
        "Since the Gang of Four's publication in 1994, software design and our understanding of patterns have evolved. The Command Pattern, while still very useful, can be enhanced using more modern paradigms and practices.\n",
        "\n",
        "One major development in software design has been the introduction and widespread adoption of lambda functions, closures, and functional programming concepts in many languages. These features can simplify the Command Pattern, eliminating some of the boilerplate associated with defining command classes for every single action.\n",
        "\n",
        "### Modern Command Pattern using Lambdas:\n",
        "\n",
        "#### Step 1: The Concept\n",
        "Instead of creating concrete command classes for every action, we can use lambda functions (or function objects) to encapsulate actions. This reduces the overhead of defining a new class for each command.\n",
        "\n",
        "#### Step 2: The Basic Structure\n",
        "- **Command**: This will still be a callable interface or a function signature.\n",
        "- **Invoker**: Holds a list or queue of commands and is responsible for executing them.\n",
        "- **Receiver**: Performs the actual work, just like in the classic Command Pattern.\n",
        "\n",
        "#### Step 3: Implementation in Python (chosen for clarity)"
      ],
      "metadata": {
        "id": "NWMZXidt2bpu"
      }
    },
    {
      "cell_type": "code",
      "source": [
        "from typing import Callable, List\n",
        "\n",
        "# Step 1: Define the Command as a Callable\n",
        "Command = Callable[[], None]\n",
        "\n",
        "class Invoker:\n",
        "    def __init__(self):\n",
        "        self._commands: List[Command] = []\n",
        "\n",
        "    def schedule_command(self, command: Command):\n",
        "        \"\"\"Schedule a command for execution.\"\"\"\n",
        "        self._commands.append(command)\n",
        "\n",
        "    def run(self):\n",
        "        \"\"\"Execute all scheduled commands.\"\"\"\n",
        "        for command in self._commands:\n",
        "            command()\n",
        "        self._commands.clear()\n",
        "\n",
        "# Sample usage\n",
        "if __name__ == \"__main__\":\n",
        "    # Receiver: functions that do the actual work\n",
        "    def turn_on_light():\n",
        "        print(\"Light turned ON\")\n",
        "\n",
        "    def turn_off_light():\n",
        "        print(\"Light turned OFF\")\n",
        "\n",
        "    # Using lambda to schedule commands\n",
        "    invoker = Invoker()\n",
        "    invoker.schedule_command(turn_on_light)\n",
        "    invoker.schedule_command(turn_off_light)\n",
        "\n",
        "    # Execute commands\n",
        "    invoker.run()\n"
      ],
      "metadata": {
        "colab": {
          "base_uri": "https://localhost:8080/"
        },
        "id": "BPSOx89w14x0",
        "outputId": "098cc028-953a-4d8f-8b0e-68e206ae6b38"
      },
      "execution_count": 7,
      "outputs": [
        {
          "output_type": "stream",
          "name": "stdout",
          "text": [
            "Light turned ON\n",
            "Light turned OFF\n"
          ]
        }
      ]
    },
    {
      "cell_type": "markdown",
      "source": [
        "In the example above, the `Invoker` class can schedule and run commands. Commands are now simply functions (or lambda expressions), which are pushed to the `_commands` list and executed when `run` is called.\n",
        "\n",
        "#### Step 4: Benefits of the Modern Approach\n",
        "- **Simplicity**: The use of lambda functions or function objects significantly reduces the boilerplate code.\n",
        "- **Flexibility**: It's easier to add new commands. Just define a new function and schedule it.\n",
        "- **Reusability**: Many functions can be reused across different parts of an application without the need to wrap them in command classes.\n",
        "\n",
        "#### Step 5: Potential Drawbacks\n",
        "- **State Management**: If commands need to maintain state, lambdas might not be the best choice. In such cases, a combination of lambdas and traditional command classes might be suitable.\n",
        "- **Complexity**: For very complex commands, defining them inline as lambdas might hurt readability.\n",
        "\n",
        "While the classic Command Pattern as described by the Gang of Four is powerful and provides a clear structure, modern programming practices offer ways to simplify and streamline the pattern, making it even more efficient and readable in many scenarios."
      ],
      "metadata": {
        "id": "E8Onv4yB3Olp"
      }
    },
    {
      "cell_type": "markdown",
      "source": [
        "## Using **C++** to demonstrate the modern Command Pattern utilizing lambdas.\n",
        "C++ has robust support for lambdas and functional programming constructs, making it an apt choice for this task.\n",
        "\n",
        "In this implementation:\n",
        "- The `Invoker` class has a list of commands, where each command is a `std::function<void()>`, allowing it to hold any callable object, function, or lambda with a `void()` signature.\n",
        "- The `scheduleCommand` method allows us to add commands (in this case, lambda functions) to the list.\n",
        "- The `run` method executes all scheduled commands in order.\n",
        "\n",
        "This approach in C++ offers a clean and efficient way to implement the Command Pattern without the boilerplate of creating separate command classes for every action."
      ],
      "metadata": {
        "id": "7rkM-Ozp3lu2"
      }
    },
    {
      "cell_type": "code",
      "source": [
        "%%writefile sWitcher.cpp\n",
        "#include <iostream>\n",
        "#include <vector>\n",
        "#include <functional>\n",
        "\n",
        "class Invoker {\n",
        "private:\n",
        "    std::vector<std::function<void()>> commands;\n",
        "\n",
        "public:\n",
        "    void scheduleCommand(const std::function<void()>& command) {\n",
        "        commands.push_back(command);\n",
        "    }\n",
        "\n",
        "    void run() {\n",
        "        for (const auto& command : commands) {\n",
        "            command();\n",
        "        }\n",
        "        commands.clear();\n",
        "    }\n",
        "};\n",
        "\n",
        "int main() {\n",
        "    Invoker invoker;\n",
        "\n",
        "    // Sample commands (lambda functions)\n",
        "    auto turnOnLight = []() {\n",
        "        std::cout << \"Light turned ON\" << std::endl;\n",
        "    };\n",
        "\n",
        "    auto turnOffLight = []() {\n",
        "        std::cout << \"Light turned OFF\" << std::endl;\n",
        "    };\n",
        "\n",
        "    // Schedule commands\n",
        "    invoker.scheduleCommand(turnOnLight);\n",
        "    invoker.scheduleCommand(turnOffLight);\n",
        "\n",
        "    // Execute commands\n",
        "    invoker.run();\n",
        "\n",
        "    return 0;\n",
        "}\n"
      ],
      "metadata": {
        "colab": {
          "base_uri": "https://localhost:8080/"
        },
        "id": "w7TBPzQ43U_h",
        "outputId": "a9e30767-cbf6-4958-d175-e89c03657557"
      },
      "execution_count": 8,
      "outputs": [
        {
          "output_type": "stream",
          "name": "stdout",
          "text": [
            "Writing sWitcher.cpp\n"
          ]
        }
      ]
    },
    {
      "cell_type": "code",
      "source": [
        "!g++ sWitcher.cpp -o sWitcher -std=c++11 -lpthread"
      ],
      "metadata": {
        "id": "jFkIodNL4Yds"
      },
      "execution_count": 9,
      "outputs": []
    },
    {
      "cell_type": "code",
      "source": [
        "!./sWitcher"
      ],
      "metadata": {
        "colab": {
          "base_uri": "https://localhost:8080/"
        },
        "id": "LRarf6n84hqE",
        "outputId": "e461b16f-6862-4d4e-fdeb-33f3a069635b"
      },
      "execution_count": 10,
      "outputs": [
        {
          "output_type": "stream",
          "name": "stdout",
          "text": [
            "Light turned ON\n",
            "Light turned OFF\n"
          ]
        }
      ]
    },
    {
      "cell_type": "markdown",
      "source": [
        "## Job scheduler in C++11 using the modern Command Pattern with lambdas:\n",
        "\n",
        "### Design:\n",
        "- The **Invoker** (`JobScheduler`) will accept a function `f` and an integer `n` as inputs.\n",
        "- The function `f` will be wrapped in a lambda that incorporates the delay specified by `n`.\n",
        "- The lambda will be scheduled for execution by the **Invoker**.\n",
        "\n",
        "###C++11 implementation:\n",
        "- The `JobScheduler` class schedules jobs for execution after a specified delay.\n",
        "- The `scheduleJob` method wraps the provided job (function) in a lambda that incorporates the specified delay.\n",
        "- The `executeJobs` method executes all scheduled jobs, each in its separate thread, to ensure the delays don't block other jobs.\n",
        "- We detach each job thread to allow them to run independently of the main thread.\n",
        "\n",
        "Using the modern Command Pattern with lambdas in this manner allows for a concise and efficient implementation of the job scheduler in C++11."
      ],
      "metadata": {
        "id": "Mjs-3M4e5ks2"
      }
    },
    {
      "cell_type": "code",
      "source": [
        "%%writefile schedulerC++11lambdas.cpp\n",
        "#include <iostream>\n",
        "#include <vector>\n",
        "#include <functional>\n",
        "#include <thread>\n",
        "#include <chrono>\n",
        "\n",
        "class JobScheduler {\n",
        "private:\n",
        "    std::vector<std::function<void()>> jobs;\n",
        "\n",
        "public:\n",
        "    void scheduleJob(const std::function<void()>& job, int delayMilliseconds) {\n",
        "        // Wrap the job in a lambda that incorporates the delay\n",
        "        auto delayedJob = [job, delayMilliseconds]() {\n",
        "            std::this_thread::sleep_for(std::chrono::milliseconds(delayMilliseconds));\n",
        "            job();\n",
        "        };\n",
        "\n",
        "        jobs.push_back(delayedJob);\n",
        "    }\n",
        "\n",
        "    void executeJobs() {\n",
        "        for (const auto& job : jobs) {\n",
        "            std::thread(job).detach();  // Execute each job in its own thread\n",
        "        }\n",
        "        jobs.clear();\n",
        "    }\n",
        "};\n",
        "\n",
        "int main() {\n",
        "    JobScheduler scheduler;\n",
        "\n",
        "    // Sample jobs\n",
        "    auto printHello = []() {\n",
        "        std::cout << \"Hello after 1 second!\" << std::endl;\n",
        "    };\n",
        "\n",
        "    auto printWorld = []() {\n",
        "        std::cout << \"World after 2 seconds!\" << std::endl;\n",
        "    };\n",
        "\n",
        "    // Schedule jobs\n",
        "    scheduler.scheduleJob(printHello, 1000);\n",
        "    scheduler.scheduleJob(printWorld, 2000);\n",
        "\n",
        "    // Execute jobs\n",
        "    scheduler.executeJobs();\n",
        "\n",
        "    // Keep the main thread alive for a while to see the results\n",
        "    std::this_thread::sleep_for(std::chrono::seconds(5));\n",
        "\n",
        "    return 0;\n",
        "}\n"
      ],
      "metadata": {
        "colab": {
          "base_uri": "https://localhost:8080/"
        },
        "id": "JAQwtWkg4lHM",
        "outputId": "4575f045-42b4-498a-9198-7652a6e706c9"
      },
      "execution_count": 11,
      "outputs": [
        {
          "output_type": "stream",
          "name": "stdout",
          "text": [
            "Writing schedulerC++11lambdas.cpp\n"
          ]
        }
      ]
    },
    {
      "cell_type": "code",
      "source": [
        "!g++ schedulerC++11lambdas.cpp -o schedulerC++11lambdas -std=c++11 -lpthread"
      ],
      "metadata": {
        "id": "yrmhPdLh6e_8"
      },
      "execution_count": 12,
      "outputs": []
    },
    {
      "cell_type": "code",
      "source": [
        "!./scheduler"
      ],
      "metadata": {
        "colab": {
          "base_uri": "https://localhost:8080/"
        },
        "id": "UGcJgrW16q-w",
        "outputId": "d8889246-87a5-4ef4-d9e1-62720d0498cd"
      },
      "execution_count": 13,
      "outputs": [
        {
          "output_type": "stream",
          "name": "stdout",
          "text": [
            "Scheduling job to run in 2 seconds...\n",
            "Executing job!\n"
          ]
        }
      ]
    },
    {
      "cell_type": "markdown",
      "source": [
        "## C++14 Improvement: Generalized Lambda Captures\n",
        "\n",
        "In C++14, lambdas got an enhancement called \"generalized lambda captures\" which allows creating new variables in the lambda's capture list. This is useful for moving objects into a lambda."
      ],
      "metadata": {
        "id": "1EIWx4NU6388"
      }
    },
    {
      "cell_type": "code",
      "source": [
        "%%writefile schedulerC++14GenlambdaCap.cpp\n",
        "#include <iostream>\n",
        "#include <vector>\n",
        "#include <functional>\n",
        "#include <thread>\n",
        "#include <chrono>\n",
        "\n",
        "class JobScheduler {\n",
        "private:\n",
        "    std::vector<std::function<void()>> jobs;\n",
        "\n",
        "public:\n",
        "    void scheduleJob(std::function<void()> job, int delayMilliseconds) {\n",
        "        // Use generalized lambda captures to move the job into the lambda\n",
        "        auto delayedJob = [job = std::move(job), delayMilliseconds]() {\n",
        "            std::this_thread::sleep_for(std::chrono::milliseconds(delayMilliseconds));\n",
        "            job();\n",
        "        };\n",
        "\n",
        "        jobs.push_back(delayedJob);\n",
        "    }\n",
        "\n",
        "    void executeJobs() {\n",
        "        for (const auto& job : jobs) {\n",
        "            std::thread(job).detach();\n",
        "        }\n",
        "        jobs.clear();\n",
        "    }\n",
        "};\n",
        "\n",
        "int main() {\n",
        "    JobScheduler scheduler;\n",
        "\n",
        "    auto printHello = []() {\n",
        "        std::cout << \"Hello after 1 second!\" << std::endl;\n",
        "    };\n",
        "\n",
        "    auto printWorld = []() {\n",
        "        std::cout << \"World after 2 seconds!\" << std::endl;\n",
        "    };\n",
        "\n",
        "    scheduler.scheduleJob(printHello, 1000);\n",
        "    scheduler.scheduleJob(printWorld, 2000);\n",
        "\n",
        "    scheduler.executeJobs();\n",
        "\n",
        "    std::this_thread::sleep_for(std::chrono::seconds(5));\n",
        "\n",
        "    return 0;\n",
        "}\n"
      ],
      "metadata": {
        "colab": {
          "base_uri": "https://localhost:8080/"
        },
        "id": "a_TWbn5H6vUV",
        "outputId": "17844d23-418f-4c77-9113-661e2f34c0c6"
      },
      "execution_count": 14,
      "outputs": [
        {
          "output_type": "stream",
          "name": "stdout",
          "text": [
            "Writing schedulerC++14GenlambdaCap.cpp\n"
          ]
        }
      ]
    },
    {
      "cell_type": "code",
      "source": [
        "!g++ schedulerC++14GenlambdaCap.cpp -o schedulerC++14GenlambdaCap -std=c++14 -lpthread"
      ],
      "metadata": {
        "id": "MPpHExJ67dVH"
      },
      "execution_count": 15,
      "outputs": []
    },
    {
      "cell_type": "code",
      "source": [
        "!./schedulerC++14GenlambdaCap"
      ],
      "metadata": {
        "colab": {
          "base_uri": "https://localhost:8080/"
        },
        "id": "_wAMIpoV7rPO",
        "outputId": "71f17f05-5a15-4333-9d8d-86e03e4f0ac6"
      },
      "execution_count": 16,
      "outputs": [
        {
          "output_type": "stream",
          "name": "stdout",
          "text": [
            "Hello after 1 second!\n",
            "World after 2 seconds!\n"
          ]
        }
      ]
    },
    {
      "cell_type": "markdown",
      "source": [
        "## C++14 Improvement:\n",
        "Certainly! Let's delve into some modern C++ features using C++17, which provides a wealth of useful enhancements over C++14. Here's an enhanced version of the job scheduler using a selection of these features:\n",
        "\n",
        "### 1. Structured Bindings\n",
        "Introduced in C++17, structured bindings allow you to decompose objects into their individual elements. This is particularly useful for pairs, tuples, and other similar data structures.\n",
        "\n",
        "### 2. `std::optional`\n",
        "It represents an optional object, i.e., an object that may or may not contain a value. It's a safer way than using pointers to represent the presence or absence of a value.\n",
        "\n",
        "### 3. Inline Variables for `static` members\n",
        "C++17 allows inline initialization of `static` members in class definitions.\n",
        "\n",
        "### 4. `std::invoke`\n",
        "A utility function to invoke callable objects. It can call regular functions, lambda functions, functor objects, or even member functions.\n",
        "\n",
        "Here's a breakdown of the implemented enhancements:\n",
        "1. **Structured Bindings**: The two lambda functions `printHello` and `printWorld` are created simultaneously using structured bindings.\n",
        "2. **`std::optional`**: The `scheduleJob` function now accepts an optional delay, allowing jobs to be scheduled with a default delay if one isn't specified.\n",
        "3. **Inline Variables**: The default delay for the job scheduler is implemented as an inline static variable in the `JobScheduler` class.\n",
        "4. **`std::invoke`**: Used to call the job in the `delayedJob` lambda. This is more of a stylistic choice, as in this context, it behaves the same way as directly calling the function, but `std::invoke` provides a consistent way to call different types of callable objects.\n",
        "\n",
        "This enhanced version utilizes some of the modern features in C++17, making the code more flexible and expressive."
      ],
      "metadata": {
        "id": "eFc8ya-g71yN"
      }
    },
    {
      "cell_type": "code",
      "source": [
        "%%writefile schedulerC++17.cpp\n",
        "#include <iostream>\n",
        "#include <vector>\n",
        "#include <functional>\n",
        "#include <thread>\n",
        "#include <chrono>\n",
        "#include <optional>\n",
        "#include <utility> // for std::invoke\n",
        "\n",
        "class JobScheduler {\n",
        "private:\n",
        "    std::vector<std::function<void()>> jobs;\n",
        "\n",
        "public:\n",
        "    // Using inline static variable for a default delay\n",
        "    inline static std::optional<int> defaultDelay = std::nullopt;\n",
        "\n",
        "    void scheduleJob(std::function<void()> job, std::optional<int> delayMilliseconds = defaultDelay) {\n",
        "        // If no delay is specified, use the default\n",
        "        if (!delayMilliseconds.has_value() && defaultDelay.has_value()) {\n",
        "            delayMilliseconds = defaultDelay;\n",
        "        }\n",
        "\n",
        "        // Use generalized lambda captures to move the job into the lambda\n",
        "        auto delayedJob = [job = std::move(job), delayMilliseconds]() {\n",
        "            if (delayMilliseconds.has_value()) {\n",
        "                std::this_thread::sleep_for(std::chrono::milliseconds(*delayMilliseconds));\n",
        "            }\n",
        "            std::invoke(job); // Using std::invoke to call the job\n",
        "        };\n",
        "\n",
        "        jobs.push_back(delayedJob);\n",
        "    }\n",
        "\n",
        "    void executeJobs() {\n",
        "        for (const auto& job : jobs) {\n",
        "            std::thread(job).detach();\n",
        "        }\n",
        "        jobs.clear();\n",
        "    }\n",
        "};\n",
        "\n",
        "int main() {\n",
        "    JobScheduler scheduler;\n",
        "\n",
        "    // Use structured bindings to create multiple lambdas\n",
        "    auto [printHello, printWorld] = []() {\n",
        "        return std::make_pair(\n",
        "            []() {\n",
        "                std::cout << \"Hello after 1 second!\" << std::endl;\n",
        "            },\n",
        "            []() {\n",
        "                std::cout << \"World after 2 seconds!\" << std::endl;\n",
        "            }\n",
        "        );\n",
        "    }();\n",
        "\n",
        "    scheduler.scheduleJob(printHello, 1000);\n",
        "    scheduler.scheduleJob(printWorld, 2000);\n",
        "\n",
        "    // Using the default delay\n",
        "    JobScheduler::defaultDelay = 1500;\n",
        "    scheduler.scheduleJob([]() {\n",
        "        std::cout << \"This job uses the default delay of 1.5 seconds!\" << std::endl;\n",
        "    });\n",
        "\n",
        "    scheduler.executeJobs();\n",
        "\n",
        "    std::this_thread::sleep_for(std::chrono::seconds(5));\n",
        "\n",
        "    return 0;\n",
        "}\n"
      ],
      "metadata": {
        "colab": {
          "base_uri": "https://localhost:8080/"
        },
        "id": "JGvVSUkQ7tCF",
        "outputId": "bb76bdaa-2d97-4bcf-b42e-8ec7c21d568d"
      },
      "execution_count": 17,
      "outputs": [
        {
          "output_type": "stream",
          "name": "stdout",
          "text": [
            "Writing schedulerC++17.cpp\n"
          ]
        }
      ]
    },
    {
      "cell_type": "code",
      "source": [
        "!g++ schedulerC++17.cpp -o schedulerC++17 -std=c++17 -lpthread"
      ],
      "metadata": {
        "id": "iYts6tqB8kbl"
      },
      "execution_count": 19,
      "outputs": []
    },
    {
      "cell_type": "code",
      "source": [
        "!./schedulerC++17"
      ],
      "metadata": {
        "colab": {
          "base_uri": "https://localhost:8080/"
        },
        "id": "Vd9Rd2DL83mv",
        "outputId": "3a286cf7-1447-4c35-ada8-52b5f6b19424"
      },
      "execution_count": 20,
      "outputs": [
        {
          "output_type": "stream",
          "name": "stdout",
          "text": [
            "Hello after 1 second!\n",
            "This job uses the default delay of 1.5 seconds!\n",
            "World after 2 seconds!\n"
          ]
        }
      ]
    },
    {
      "cell_type": "markdown",
      "source": [
        "## C++20 Improvement:\n",
        "C++20 brings even more power and expressiveness to the language.\n",
        "Here's a taste:\n",
        "\n",
        "### 1. Concepts\n",
        "Concepts introduce a way to express template constraints more readably than before. We can use them to ensure that our job scheduler only accepts callable objects.\n",
        "\n",
        "### 2. Ranges\n",
        "Ranges provide a new way to work with sequences of data. They can simplify and make our code more expressive when working with containers like vectors.\n",
        "\n",
        "### 3. `std::jthread`\n",
        "This is a new addition in C++20 that automatically joins threads (if joinable) upon destruction, ensuring that we don't accidentally detach or forget to join threads.\n",
        "\n",
        "### 4. `std::span`\n",
        "It provides a lightweight, non-owning reference to a contiguous sequence, or a span. It can be more efficient than using traditional containers in certain scenarios.\n",
        "\n",
        "### 5. Coroutines (bonus)\n",
        "Coroutines are a new way to write asynchronous code. For our job scheduler, we could potentially use coroutines to handle asynchronous tasks, though this might make the example more complex.\n",
        "\n",
        "Let's implement the job scheduler with the first four features:\n",
        "\n",
        "1. **Concepts**: We've defined a concept `Callable` to ensure that the `scheduleJob` function only accepts callable objects.\n",
        "2. **Ranges**: Used the ranges library to iterate over the jobs. Here, the effect is minimal, but ranges can be very powerful for complex transformations and filters.\n",
        "3. **`std::jthread`**: This replaces the traditional `std::thread` and ensures that we don't need to manually join or detach threads.\n",
        "4. **`std::span`**: While not used in this basic example, it's worth mentioning as it can be used in scenarios where you want a lightweight view over a sequence without owning it.\n",
        "\n",
        "This version of the job scheduler showcases some of the modern features of C++20, making the code safer (e.g., with `jthread`) and more expressive (e.g., with concepts)."
      ],
      "metadata": {
        "id": "5S4-Ckls9J4f"
      }
    },
    {
      "cell_type": "code",
      "source": [
        "%%writefile schedulerC++20.cpp\n",
        "#include <iostream>\n",
        "#include <vector>\n",
        "#include <functional>\n",
        "#include <thread>\n",
        "#include <chrono>\n",
        "#include <concepts>\n",
        "#include <optional>\n",
        "\n",
        "// Concept to check if a type is callable\n",
        "template<typename T>\n",
        "concept Callable = requires(T t) {\n",
        "    { t() } -> std::same_as<void>;\n",
        "};\n",
        "\n",
        "class JobScheduler {\n",
        "private:\n",
        "    std::vector<std::function<void()>> jobs;\n",
        "\n",
        "public:\n",
        "    // Using inline static variable for a default delay\n",
        "    inline static std::chrono::milliseconds defaultDelay = std::chrono::milliseconds(0);\n",
        "\n",
        "    void scheduleJob(Callable auto job, std::optional<int> delayMilliseconds = std::nullopt) {\n",
        "        if (!delayMilliseconds.has_value()) {\n",
        "            delayMilliseconds = defaultDelay.count();\n",
        "        }\n",
        "\n",
        "        auto delayedJob = [job, delayMilliseconds]() {\n",
        "            std::this_thread::sleep_for(std::chrono::milliseconds(*delayMilliseconds));\n",
        "            job();\n",
        "        };\n",
        "\n",
        "        jobs.push_back(delayedJob);\n",
        "    }\n",
        "\n",
        "    void executeJobs() {\n",
        "        for (auto& currentJob : jobs) {\n",
        "            std::jthread([currentJob]() { currentJob(); });  // create an anonymous std::jthread\n",
        "        }\n",
        "        jobs.clear();\n",
        "    }\n",
        "\n",
        "};\n",
        "\n",
        "int main() {\n",
        "    JobScheduler scheduler;\n",
        "\n",
        "    auto printHello = []() {\n",
        "        std::cout << \"Hello after 1 second!\" << std::endl;\n",
        "    };\n",
        "\n",
        "    auto printWorld = []() {\n",
        "        std::cout << \"World after 2 seconds!\" << std::endl;\n",
        "    };\n",
        "\n",
        "    scheduler.scheduleJob(printHello, 1000);\n",
        "    scheduler.scheduleJob(printWorld, 2000);\n",
        "\n",
        "    // Using the default delay\n",
        "    JobScheduler::defaultDelay = std::chrono::milliseconds(1500);\n",
        "    scheduler.scheduleJob([]() {\n",
        "        std::cout << \"This job uses the default delay of 1.5 seconds!\" << std::endl;\n",
        "    });\n",
        "\n",
        "    scheduler.executeJobs();\n",
        "\n",
        "    std::this_thread::sleep_for(std::chrono::seconds(5));\n",
        "\n",
        "    return 0;\n",
        "}\n"
      ],
      "metadata": {
        "colab": {
          "base_uri": "https://localhost:8080/"
        },
        "id": "_CsyEhcm9CVA",
        "outputId": "7248e8c7-0c85-4858-a84e-8e8da8ad9dcc"
      },
      "execution_count": 28,
      "outputs": [
        {
          "output_type": "stream",
          "name": "stdout",
          "text": [
            "Overwriting schedulerC++20.cpp\n"
          ]
        }
      ]
    },
    {
      "cell_type": "code",
      "source": [
        "!g++ schedulerC++20.cpp -o schedulerC++20 -std=c++20 -lpthread"
      ],
      "metadata": {
        "id": "hQDhPrgW-ODB"
      },
      "execution_count": 29,
      "outputs": []
    },
    {
      "cell_type": "code",
      "source": [
        "!./schedulerC++20"
      ],
      "metadata": {
        "colab": {
          "base_uri": "https://localhost:8080/"
        },
        "id": "kucivnj9-cED",
        "outputId": "f26b3433-a29f-4176-cdf1-4fdff57cb87d"
      },
      "execution_count": 30,
      "outputs": [
        {
          "output_type": "stream",
          "name": "stdout",
          "text": [
            "Hello after 1 second!\n",
            "World after 2 seconds!\n",
            "This job uses the default delay of 1.5 seconds!\n"
          ]
        }
      ]
    },
    {
      "cell_type": "markdown",
      "source": [
        "## Using Coroutines in C++20\n",
        "\n",
        "Coroutines provide a fundamentally different way to manage asynchronous operations and tasks. C++20 introduced support for coroutines, enabling more elegant and efficient asynchronous code.\n",
        "\n",
        "Here's an outline of how to use coroutines in the job scheduler:\n",
        "\n",
        "1. **Coroutine Handle**: Instead of directly scheduling functions to run, we'll schedule coroutine handles. These handles are the gateway to managing and resuming coroutines.\n",
        "2. **Asynchronous Execution**: Instead of blocking the thread with `std::this_thread::sleep_for`, we'll use an `async_sleep` function that asynchronously waits for a specified duration and then resumes the coroutine.\n",
        "3. **Task System**: The job scheduler will maintain a list of tasks (coroutines) and execute them asynchronously.\n",
        "\n",
        "**Note**: The provided `async_sleep` function uses `std::this_thread::sleep_for` for simplicity, but in a real-world application, you'd use a more efficient mechanism that doesn't block the thread, such as an asynchronous timer.\n",
        "\n",
        "With coroutines, we've transformed the nature of our job scheduler. Instead of merely delaying and then executing functions, we're now asynchronously scheduling and executing tasks. This asynchronous approach can be more efficient and scalable, especially when dealing with IO-bound tasks or operations that would otherwise block the thread."
      ],
      "metadata": {
        "id": "Cu1eMywbAqWp"
      }
    },
    {
      "cell_type": "code",
      "source": [
        "%%writefile schedulerC++20Coroutines.cpp\n",
        "#include <iostream>\n",
        "#include <vector>\n",
        "#include <chrono>\n",
        "#include <coroutine>\n",
        "#include <thread>\n",
        "#include <functional>\n",
        "\n",
        "// Type-erased, non-owning reference to a suspended coroutine\n",
        "struct Awaitable {\n",
        "    struct promise_type {\n",
        "        Awaitable get_return_object() {\n",
        "            return { std::coroutine_handle<promise_type>::from_promise(*this) };\n",
        "        }\n",
        "        std::suspend_never initial_suspend() { return {}; }\n",
        "        std::suspend_never final_suspend() noexcept { return {}; }\n",
        "        void return_void() {}\n",
        "        void unhandled_exception() { std::terminate(); }\n",
        "    };\n",
        "\n",
        "    std::coroutine_handle<> handle;\n",
        "    bool await_ready() { return false; }\n",
        "    void await_suspend(std::coroutine_handle<>) {}\n",
        "    void await_resume() {}\n",
        "};\n",
        "\n",
        "// Async sleep function\n",
        "Awaitable async_sleep(std::chrono::milliseconds duration) {\n",
        "    std::this_thread::sleep_for(duration); // For simplicity, we're using thread sleep here\n",
        "    co_return;\n",
        "}\n",
        "\n",
        "class JobScheduler {\n",
        "private:\n",
        "    std::vector<std::coroutine_handle<>> tasks;\n",
        "\n",
        "public:\n",
        "    // Schedule a coroutine\n",
        "    void schedule(std::coroutine_handle<> task) {\n",
        "        tasks.push_back(task);\n",
        "    }\n",
        "\n",
        "    // Execute all tasks\n",
        "    void executeJobs() {\n",
        "        for (auto& task : tasks) {\n",
        "            task.resume();\n",
        "            task.destroy(); // Clean up the coroutine after it has finished\n",
        "        }\n",
        "        tasks.clear();\n",
        "    }\n",
        "};\n",
        "\n",
        "// Define a coroutine for our tasks\n",
        "Awaitable jobWithDelay(std::function<void()> job, std::chrono::milliseconds delay) {\n",
        "    co_await async_sleep(delay);\n",
        "    job();\n",
        "}\n",
        "\n",
        "int main() {\n",
        "    JobScheduler scheduler;\n",
        "\n",
        "    auto printHello = []() {\n",
        "        std::cout << \"Hello after 1 second!\" << std::endl;\n",
        "    };\n",
        "\n",
        "    auto printWorld = []() {\n",
        "        std::cout << \"World after 2 seconds!\" << std::endl;\n",
        "    };\n",
        "\n",
        "    // Schedule coroutines\n",
        "    scheduler.schedule(jobWithDelay(printHello, std::chrono::milliseconds(1000)).handle);\n",
        "    scheduler.schedule(jobWithDelay(printWorld, std::chrono::milliseconds(2000)).handle);\n",
        "\n",
        "    scheduler.executeJobs();\n",
        "\n",
        "    // Keep the main thread alive for a while to see the results\n",
        "    std::this_thread::sleep_for(std::chrono::seconds(5));\n",
        "\n",
        "    return 0;\n",
        "}\n"
      ],
      "metadata": {
        "colab": {
          "base_uri": "https://localhost:8080/"
        },
        "id": "-RW2LMi9_FLw",
        "outputId": "85aa4455-86aa-4a7d-dcec-8a911dd0a68e"
      },
      "execution_count": 34,
      "outputs": [
        {
          "output_type": "stream",
          "name": "stdout",
          "text": [
            "Overwriting schedulerC++20Coroutines.cpp\n"
          ]
        }
      ]
    },
    {
      "cell_type": "code",
      "source": [
        "!g++ schedulerC++20Coroutines.cpp -o schedulerC++20Coroutines -std=c++20 -lpthread"
      ],
      "metadata": {
        "id": "4SPIoxcTBYhK"
      },
      "execution_count": 35,
      "outputs": []
    },
    {
      "cell_type": "code",
      "source": [
        "!./schedulerC++20Coroutines"
      ],
      "metadata": {
        "colab": {
          "base_uri": "https://localhost:8080/"
        },
        "id": "-xmeAC0hBjbz",
        "outputId": "eb2758a8-03a0-49ee-96e0-02ae622f9e9c"
      },
      "execution_count": 37,
      "outputs": [
        {
          "output_type": "stream",
          "name": "stdout",
          "text": [
            "Hello after 1 second!\n"
          ]
        }
      ]
    },
    {
      "cell_type": "markdown",
      "source": [
        "## Efficient Asynchronous Timer with Coroutines\n",
        "\n",
        "The core idea behind an asynchronous timer is to set up a mechanism that will resume our coroutine after a specified duration without blocking the current thread. A common way to achieve this in a cross-platform manner is to use libraries like Boost.Asio. However, in this context, I'll illustrate a simple, platform-specific approach using `std::jthread` to achieve non-blocking delays.\n",
        "\n",
        "### Reassessing the Design Pattern\n",
        "\n",
        "The Command Pattern provided a clear separation of concerns. However, with the asynchronous nature of coroutines and the requirement to deal with timers, a combination of the Command and Reactor patterns might be more appropriate. The Reactor pattern allows event-driven code to be structured around \"reactions\" to external events (like timer completions).\n",
        "\n",
        "### Implementation\n",
        "\n",
        "Here's a revised version of the job scheduler using an efficient asynchronous timer:\n",
        "\n",
        "In this implementation:\n",
        "\n",
        "1. **Awaitable Structure**: The `Awaitable` structure uses a condition variable to block the coroutine (not the thread) until the timer completes.\n",
        "2. **Asynchronous Timer**: The `async_sleep` function now sets up a separate thread to wait for the specified duration, then signals the coroutine to resume execution. This ensures non-blocking behavior.\n",
        "3. **Reactor Pattern**: The event-driven nature of the code (reacting to timer completions) aligns well with the Reactor pattern.\n",
        "\n",
        "This version is more efficient, scalable, and better adheres to modern asynchronous programming paradigms in C++."
      ],
      "metadata": {
        "id": "LDK69GZXDHgb"
      }
    },
    {
      "cell_type": "code",
      "source": [
        "%%writefile schedEffCoReact.cpp\n",
        "#include <iostream>\n",
        "#include <vector>\n",
        "#include <chrono>\n",
        "#include <thread>\n",
        "#include <functional>\n",
        "#include <condition_variable>\n",
        "\n",
        "class JobScheduler {\n",
        "private:\n",
        "    std::vector<std::pair<std::function<void()>, std::chrono::milliseconds>> tasks;\n",
        "    std::mutex mtx;\n",
        "    std::condition_variable cv;\n",
        "    int active_jobs = 0;\n",
        "\n",
        "public:\n",
        "    void schedule(std::function<void()> task, std::chrono::milliseconds delay = std::chrono::milliseconds(0)) {\n",
        "        std::cout << \"Scheduling a job...\\n\";\n",
        "        tasks.push_back({task, delay});\n",
        "        ++active_jobs;\n",
        "    }\n",
        "\n",
        "    void executeJobs() {\n",
        "        for (auto& [task, delay] : tasks) {\n",
        "            std::thread([this, task, delay]() {\n",
        "                if (delay.count() > 0) {\n",
        "                    std::cout << \"Thread sleeping for \" << delay.count() << \" milliseconds...\\n\";\n",
        "                    std::this_thread::sleep_for(delay);\n",
        "                }\n",
        "                std::cout << \"Executing a job...\\n\";\n",
        "                task();\n",
        "                {\n",
        "                    std::unique_lock lock(mtx);\n",
        "                    --active_jobs;\n",
        "                    if (active_jobs == 0) {\n",
        "                        cv.notify_one();\n",
        "                    }\n",
        "                }\n",
        "                std::cout << \"Job finished. Remaining jobs: \" << active_jobs << \"\\n\";\n",
        "            }).detach();\n",
        "        }\n",
        "        tasks.clear();\n",
        "    }\n",
        "\n",
        "    void wait() {\n",
        "        std::cout << \"Main thread waiting...\\n\";\n",
        "        std::unique_lock lock(mtx);\n",
        "        cv.wait(lock, [this]() { return active_jobs == 0; });\n",
        "        std::cout << \"Main thread done waiting...\\n\";\n",
        "    }\n",
        "};\n",
        "\n",
        "int main() {\n",
        "    JobScheduler scheduler;\n",
        "\n",
        "    auto printHello = []() {\n",
        "        std::cout << \"Hello after 1 second!\" << std::endl;\n",
        "    };\n",
        "\n",
        "    auto printWorld = []() {\n",
        "        std::cout << \"World after 2 seconds!\" << std::endl;\n",
        "    };\n",
        "\n",
        "    scheduler.schedule(printHello, std::chrono::milliseconds(1000));\n",
        "    scheduler.schedule(printWorld, std::chrono::milliseconds(2000));\n",
        "\n",
        "    scheduler.executeJobs();\n",
        "\n",
        "    scheduler.wait();  // Wait for all tasks to complete.\n",
        "\n",
        "    return 0;\n",
        "}\n",
        "\n"
      ],
      "metadata": {
        "colab": {
          "base_uri": "https://localhost:8080/"
        },
        "id": "seN8XOGDCh2r",
        "outputId": "4c5d62b7-0c19-4de0-887e-8f8a67cfa8f7"
      },
      "execution_count": 112,
      "outputs": [
        {
          "output_type": "stream",
          "name": "stdout",
          "text": [
            "Overwriting schedEffCoReact.cpp\n"
          ]
        }
      ]
    },
    {
      "cell_type": "code",
      "source": [
        "!g++ schedEffCoReact.cpp -o schedEffCoReact -std=c++20 -lpthread"
      ],
      "metadata": {
        "id": "mTJ8jfDeFAve"
      },
      "execution_count": 113,
      "outputs": []
    },
    {
      "cell_type": "code",
      "source": [
        "!./schedEffCoReact"
      ],
      "metadata": {
        "colab": {
          "base_uri": "https://localhost:8080/"
        },
        "id": "KlHAKrgEFMAY",
        "outputId": "d430dde5-5a6d-43e9-d681-0333f13803d5"
      },
      "execution_count": 114,
      "outputs": [
        {
          "output_type": "stream",
          "name": "stdout",
          "text": [
            "Scheduling a job...\n",
            "Scheduling a job...\n",
            "Main thread waiting...\n",
            "Thread sleeping for 1000 milliseconds...\n",
            "Thread sleeping for 2000 milliseconds...\n",
            "Executing a job...\n",
            "Hello after 1 second!\n",
            "Job finished. Remaining jobs: 1\n",
            "Executing a job...\n",
            "World after 2 seconds!\n",
            "Job finished. Remaining jobs: 0\n",
            "Main thread done waiting...\n"
          ]
        }
      ]
    },
    {
      "cell_type": "code",
      "source": [],
      "metadata": {
        "id": "Pnuztf98evx2"
      },
      "execution_count": null,
      "outputs": []
    }
  ]
}