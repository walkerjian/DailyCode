{
  "nbformat": 4,
  "nbformat_minor": 0,
  "metadata": {
    "colab": {
      "provenance": [],
      "authorship_tag": "ABX9TyNdeWfbP0CpXyOsay7KeFry",
      "include_colab_link": true
    },
    "kernelspec": {
      "name": "python3",
      "display_name": "Python 3"
    },
    "language_info": {
      "name": "python"
    }
  },
  "cells": [
    {
      "cell_type": "markdown",
      "metadata": {
        "id": "view-in-github",
        "colab_type": "text"
      },
      "source": [
        "<a href=\"https://colab.research.google.com/github/walkerjian/DailyCode/blob/main/buildTree.ipynb\" target=\"_parent\"><img src=\"https://colab.research.google.com/assets/colab-badge.svg\" alt=\"Open In Colab\"/></a>"
      ]
    },
    {
      "cell_type": "markdown",
      "source": [
        "##Problem:\n",
        "Given pre-order and in-order traversals of a binary tree, write a function to reconstruct the tree.\n",
        "\n",
        "For example, given the following preorder traversal:\n",
        "\n",
        "[a, b, d, e, c, f, g]\n",
        "\n",
        "And the following inorder traversal:\n",
        "\n",
        "[d, b, e, a, f, c, g]\n",
        "\n",
        "You should return the following tree:\n",
        "````\n",
        "    a\n",
        "   / \\\n",
        "  b   c\n",
        " / \\ / \\\n",
        "d  e f  g\n",
        "````"
      ],
      "metadata": {
        "id": "bEEeipnPGth4"
      }
    },
    {
      "cell_type": "markdown",
      "source": [
        "##Solution:\n",
        "To reconstruct a binary tree from its pre-order and in-order traversals:\n",
        "\n",
        "1. Start with the root, which is the first node in the pre-order traversal.\n",
        "2. Find the root in the in-order traversal to determine which nodes are in the left and right subtrees.\n",
        "3. Recursively apply the above two steps to rebuild the entire tree."
      ],
      "metadata": {
        "id": "cP_ozhXeH0Vr"
      }
    },
    {
      "cell_type": "markdown",
      "source": [
        "##Implementation:"
      ],
      "metadata": {
        "id": "bKa_L_-cIEnV"
      }
    },
    {
      "cell_type": "code",
      "execution_count": 1,
      "metadata": {
        "id": "ZnCukzWpFjoB"
      },
      "outputs": [],
      "source": [
        "class TreeNode:\n",
        "    def __init__(self, x):\n",
        "        self.val = x\n",
        "        self.left = None\n",
        "        self.right = None\n",
        "\n",
        "def buildTree(preorder, inorder):\n",
        "    if not preorder or not inorder:\n",
        "        return None\n",
        "\n",
        "    root_val = preorder.pop(0)\n",
        "    root = TreeNode(root_val)\n",
        "    inorder_index = inorder.index(root_val)\n",
        "\n",
        "    root.left = buildTree(preorder, inorder[:inorder_index])\n",
        "    root.right = buildTree(preorder, inorder[inorder_index + 1:])\n",
        "\n",
        "    return root\n",
        "\n",
        "# Test\n",
        "preorder = ['a', 'b', 'd', 'e', 'c', 'f', 'g']\n",
        "inorder = ['d', 'b', 'e', 'a', 'f', 'c', 'g']\n",
        "root = buildTree(preorder, inorder)\n"
      ]
    },
    {
      "cell_type": "code",
      "source": [
        "from graphviz import Digraph\n",
        "\n",
        "class TreeNode:\n",
        "    def __init__(self, x):\n",
        "        self.val = x\n",
        "        self.left = None\n",
        "        self.right = None\n",
        "\n",
        "def buildTree(preorder, inorder):\n",
        "    if not preorder or not inorder:\n",
        "        return None\n",
        "\n",
        "    root_val = preorder.pop(0)\n",
        "    root = TreeNode(root_val)\n",
        "    inorder_index = inorder.index(root_val)\n",
        "\n",
        "    root.left = buildTree(preorder, inorder[:inorder_index])\n",
        "    root.right = buildTree(preorder, inorder[inorder_index + 1:])\n",
        "\n",
        "    return root\n",
        "\n",
        "def visualize_tree(root):\n",
        "    dot = Digraph(comment='Binary Tree')\n",
        "    visualize_tree_helper(root, dot)\n",
        "    return dot\n",
        "\n",
        "def visualize_tree_helper(node, dot):\n",
        "    if node:\n",
        "        dot.node(str(node.val))\n",
        "        if node.left:\n",
        "            dot.edge(str(node.val), str(node.left.val))\n",
        "            visualize_tree_helper(node.left, dot)\n",
        "        if node.right:\n",
        "            dot.edge(str(node.val), str(node.right.val))\n",
        "            visualize_tree_helper(node.right, dot)\n",
        "    return dot\n",
        "\n",
        "# Test\n",
        "preorder = ['a', 'b', 'd', 'e', 'c', 'f', 'g']\n",
        "inorder = ['d', 'b', 'e', 'a', 'f', 'c', 'g']\n",
        "root = buildTree(preorder, inorder)\n",
        "\n",
        "graph = visualize_tree(root)\n",
        "graph.view()\n"
      ],
      "metadata": {
        "colab": {
          "base_uri": "https://localhost:8080/",
          "height": 38
        },
        "id": "NLkv9pZMGFd0",
        "outputId": "9e57d34b-1aac-426f-b4b2-38bf65dc968a"
      },
      "execution_count": 2,
      "outputs": [
        {
          "output_type": "execute_result",
          "data": {
            "text/plain": [
              "'Digraph.gv.pdf'"
            ],
            "application/vnd.google.colaboratory.intrinsic+json": {
              "type": "string"
            }
          },
          "metadata": {},
          "execution_count": 2
        }
      ]
    },
    {
      "cell_type": "code",
      "source": [
        "import networkx as nx\n",
        "import matplotlib.pyplot as plt\n",
        "\n",
        "class TreeNode:\n",
        "    def __init__(self, x):\n",
        "        self.val = x\n",
        "        self.left = None\n",
        "        self.right = None\n",
        "\n",
        "def buildTree(preorder, inorder):\n",
        "    if not preorder or not inorder:\n",
        "        return None\n",
        "\n",
        "    root_val = preorder.pop(0)\n",
        "    root = TreeNode(root_val)\n",
        "    inorder_index = inorder.index(root_val)\n",
        "\n",
        "    root.left = buildTree(preorder, inorder[:inorder_index])\n",
        "    root.right = buildTree(preorder, inorder[inorder_index + 1:])\n",
        "\n",
        "    return root\n",
        "\n",
        "def plot_tree(root):\n",
        "    graph, pos = construct_graph(root)\n",
        "    plt.figure(figsize=(8, 5))\n",
        "    nx.draw(graph, pos, with_labels=True, arrows=False)\n",
        "    plt.show()\n",
        "\n",
        "def construct_graph(node, graph=None, pos=None, x=0, y=0, layer=1):\n",
        "    if graph is None:\n",
        "        graph = nx.DiGraph()\n",
        "    if pos is None:\n",
        "        pos = {}\n",
        "    if node is not None:\n",
        "        graph.add_node(node.val)\n",
        "        pos[node.val] = (x, -y)\n",
        "        if node.left:\n",
        "            graph.add_edge(node.val, node.left.val)\n",
        "            l = x - 1 / layer\n",
        "            construct_graph(node.left, graph, pos, x=l, y=y+1, layer=layer*2)\n",
        "        if node.right:\n",
        "            graph.add_edge(node.val, node.right.val)\n",
        "            r = x + 1 / layer\n",
        "            construct_graph(node.right, graph, pos, x=r, y=y+1, layer=layer*2)\n",
        "    return graph, pos\n",
        "\n",
        "# Test\n",
        "preorder = ['a', 'b', 'd', 'e', 'c', 'f', 'g']\n",
        "inorder = ['d', 'b', 'e', 'a', 'f', 'c', 'g']\n",
        "root = buildTree(preorder, inorder)\n",
        "\n",
        "plot_tree(root)\n"
      ],
      "metadata": {
        "colab": {
          "base_uri": "https://localhost:8080/",
          "height": 536
        },
        "id": "wf2leDvWGjIx",
        "outputId": "e6df5338-56af-4403-9fe8-1e6512119477"
      },
      "execution_count": 3,
      "outputs": [
        {
          "output_type": "display_data",
          "data": {
            "text/plain": [
              "<Figure size 800x500 with 1 Axes>"
            ],
            "image/png": "[encoded data removed]"
          },
          "metadata": {}
        }
      ]
    }
  ]
}