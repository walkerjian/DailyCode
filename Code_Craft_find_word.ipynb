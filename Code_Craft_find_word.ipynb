{
  "nbformat": 4,
  "nbformat_minor": 0,
  "metadata": {
    "colab": {
      "provenance": [],
      "authorship_tag": "ABX9TyNk0ZQ6qqeOAOSC1SNZdNT8",
      "include_colab_link": true
    },
    "kernelspec": {
      "name": "python3",
      "display_name": "Python 3"
    },
    "language_info": {
      "name": "python"
    }
  },
  "cells": [
    {
      "cell_type": "markdown",
      "metadata": {
        "id": "view-in-github",
        "colab_type": "text"
      },
      "source": [
        "<a href=\"https://colab.research.google.com/github/walkerjian/DailyCode/blob/main/Code_Craft_find_word.ipynb\" target=\"_parent\"><img src=\"https://colab.research.google.com/assets/colab-badge.svg\" alt=\"Open In Colab\"/></a>"
      ]
    },
    {
      "cell_type": "markdown",
      "source": [
        "##Problem:\n",
        "Given a 2D matrix of characters and a target word, write a function that returns whether the word can be found in the matrix by going left-to-right, or up-to-down.\n",
        "\n",
        "For example, given the following matrix:\n",
        "```\n",
        "[['F', 'A', 'C', 'I'],\n",
        " ['O', 'B', 'Q', 'P'],\n",
        " ['A', 'N', 'O', 'B'],\n",
        " ['M', 'A', 'S', 'S']]\n",
        " ```\n",
        "and the target word 'FOAM', you should return true, since it's the leftmost column. Similarly, given the target word 'MASS', you should return true, since it's the last row."
      ],
      "metadata": {
        "id": "n-94aVcOenxb"
      }
    },
    {
      "cell_type": "markdown",
      "source": [
        "##Solution:\n",
        "To solve this problem, we can create a function that searches for the target word in two different ways: horizontally (left-to-right) and vertically (up-to-down) in the matrix. The function will iterate over each row and column, forming words in both directions, and compare them with the target word. If a match is found, the function will return `True`, otherwise, it will return `False` after checking all possibilities.\n",
        "\n",
        "Here's a Python implementation of this approach:\n",
        "In this function, `find_word`, we first iterate through each row of the matrix and join the characters to form a word. If this word matches the target, we return `True`. Then, we do a similar process for each column. The range of columns is determined by the length of the first row of the matrix (assuming the matrix is not jagged). We iterate over each row to construct a column word and check if it matches the target word. If no match is found in either rows or columns, the function returns `False`."
      ],
      "metadata": {
        "id": "na9k_JnZexWe"
      }
    },
    {
      "cell_type": "markdown",
      "source": [
        "##Implementation:"
      ],
      "metadata": {
        "id": "zSF0-3dCfQZb"
      }
    },
    {
      "cell_type": "code",
      "execution_count": 1,
      "metadata": {
        "colab": {
          "base_uri": "https://localhost:8080/"
        },
        "id": "_X15eLYcehOU",
        "outputId": "3730e3d1-e259-4fb4-d97c-09d02c9888bb"
      },
      "outputs": [
        {
          "output_type": "stream",
          "name": "stdout",
          "text": [
            "True\n",
            "True\n",
            "False\n"
          ]
        }
      ],
      "source": [
        "def find_word(matrix, word):\n",
        "    # Check if the word can be found horizontally (left-to-right)\n",
        "    for row in matrix:\n",
        "        if ''.join(row) == word:\n",
        "            return True\n",
        "\n",
        "    # Check if the word can be found vertically (up-to-down)\n",
        "    for col in range(len(matrix[0])):\n",
        "        col_word = ''.join(matrix[row][col] for row in range(len(matrix)))\n",
        "        if col_word == word:\n",
        "            return True\n",
        "\n",
        "    # Return False if the word is not found\n",
        "    return False\n",
        "\n",
        "# Example usage\n",
        "matrix = [\n",
        "    ['F', 'A', 'C', 'I'],\n",
        "    ['O', 'B', 'Q', 'P'],\n",
        "    ['A', 'N', 'O', 'B'],\n",
        "    ['M', 'A', 'S', 'S']\n",
        "]\n",
        "\n",
        "print(find_word(matrix, 'FOAM'))  # Should return True\n",
        "print(find_word(matrix, 'MASS'))  # Should return True\n",
        "print(find_word(matrix, 'FACE'))  # Should return False\n"
      ]
    }
  ]
}