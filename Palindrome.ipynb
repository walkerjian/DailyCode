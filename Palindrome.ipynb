{
  "nbformat": 4,
  "nbformat_minor": 0,
  "metadata": {
    "colab": {
      "provenance": [],
      "authorship_tag": "ABX9TyNBnlD3Ho6QiRB8fhkgHsgW",
      "include_colab_link": true
    },
    "kernelspec": {
      "name": "python3",
      "display_name": "Python 3"
    },
    "language_info": {
      "name": "python"
    }
  },
  "cells": [
    {
      "cell_type": "markdown",
      "metadata": {
        "id": "view-in-github",
        "colab_type": "text"
      },
      "source": [
        "<a href=\"https://colab.research.google.com/github/walkerjian/DailyCode/blob/main/Palindrome.ipynb\" target=\"_parent\"><img src=\"https://colab.research.google.com/assets/colab-badge.svg\" alt=\"Open In Colab\"/></a>"
      ]
    },
    {
      "cell_type": "code",
      "execution_count": 1,
      "metadata": {
        "colab": {
          "base_uri": "https://localhost:8080/"
        },
        "id": "uczAbL0TuOMH",
        "outputId": "9b0d99b1-d61e-4034-b392-4d242be68ff7"
      },
      "outputs": [
        {
          "output_type": "stream",
          "name": "stdout",
          "text": [
            "121 is a palindrome.\n",
            "888 is a palindrome.\n",
            "678 is not a palindrome.\n",
            "-121 is not a palindrome.\n",
            "1221 is a palindrome.\n",
            "12321 is a palindrome.\n"
          ]
        }
      ],
      "source": [
        "class PalindromeModel:\n",
        "    \"\"\"\n",
        "    This class provides a method to check if an integer is a palindrome.\n",
        "    A palindrome is a number that remains the same when its digits are reversed.\n",
        "\n",
        "    Approach:\n",
        "    To check if a number is palindrome without converting it to a string,\n",
        "    we can keep dividing the number by 10 and keep adding the remainder to a new variable.\n",
        "    If the new variable equals the original number, then the number is a palindrome.\n",
        "    \"\"\"\n",
        "    @staticmethod\n",
        "    def is_palindrome(n: int) -> bool:\n",
        "        original = n\n",
        "        reverse = 0\n",
        "\n",
        "        # Check if the number is negative\n",
        "        if n < 0:\n",
        "            return False\n",
        "\n",
        "        while n > 0:\n",
        "            remainder = n % 10\n",
        "            reverse = (reverse * 10) + remainder\n",
        "            n = n // 10\n",
        "\n",
        "        return original == reverse\n",
        "\n",
        "\n",
        "class PalindromeView:\n",
        "    \"\"\"\n",
        "    This class provides a method to print whether a given integer is a palindrome or not.\n",
        "    \"\"\"\n",
        "    @staticmethod\n",
        "    def print_palindrome_result(n: int, is_palindrome: bool):\n",
        "        if is_palindrome:\n",
        "            print(f\"{n} is a palindrome.\")\n",
        "        else:\n",
        "            print(f\"{n} is not a palindrome.\")\n",
        "\n",
        "\n",
        "class PalindromeController:\n",
        "    \"\"\"\n",
        "    This class controls the PalindromeModel and PalindromeView and provides a test suite.\n",
        "    \"\"\"\n",
        "    @staticmethod\n",
        "    def main():\n",
        "        test_cases = [121, 888, 678, -121, 1221, 12321]\n",
        "\n",
        "        for n in test_cases:\n",
        "            # Get the result from the model\n",
        "            result = PalindromeModel.is_palindrome(n)\n",
        "\n",
        "            # Print the result using the view\n",
        "            PalindromeView.print_palindrome_result(n, result)\n",
        "\n",
        "\n",
        "if __name__ == \"__main__\":\n",
        "    PalindromeController.main()\n"
      ]
    }
  ]
}