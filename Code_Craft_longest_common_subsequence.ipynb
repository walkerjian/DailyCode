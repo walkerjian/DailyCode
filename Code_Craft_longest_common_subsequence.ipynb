{
  "nbformat": 4,
  "nbformat_minor": 0,
  "metadata": {
    "colab": {
      "provenance": [],
      "authorship_tag": "ABX9TyM05esKIPr4A7RM9YJT71hy",
      "include_colab_link": true
    },
    "kernelspec": {
      "name": "python3",
      "display_name": "Python 3"
    },
    "language_info": {
      "name": "python"
    }
  },
  "cells": [
    {
      "cell_type": "markdown",
      "metadata": {
        "id": "view-in-github",
        "colab_type": "text"
      },
      "source": [
        "<a href=\"https://colab.research.google.com/github/walkerjian/DailyCode/blob/main/Code_Craft_longest_common_subsequence.ipynb\" target=\"_parent\"><img src=\"https://colab.research.google.com/assets/colab-badge.svg\" alt=\"Open In Colab\"/></a>"
      ]
    },
    {
      "cell_type": "markdown",
      "source": [
        "##Problem:\n",
        "Write a program that computes the length of the longest common subsequence of three given strings. For example, given \"epidemiologist\", \"refrigeration\", and \"supercalifragilisticexpialodocious\", it should return 5, since the longest common subsequence is \"eieio\"."
      ],
      "metadata": {
        "id": "2lWyrXjB8EeD"
      }
    },
    {
      "cell_type": "markdown",
      "source": [
        "##Solution:\n",
        "Analyzing the question, here are some points to consider:\n",
        "\n",
        "1. **Definition of Longest Common Subsequence (LCS):** The LCS of a set of sequences is the longest subsequence that appears in all sequences. A subsequence doesn't require the elements to be contiguous in the original sequences, but they must appear in the same order.\n",
        "\n",
        "2. **Number of Sequences Mentioned:** The problem statement specifies three strings. The LCS problem can indeed be extended to more than two sequences, but the complexity and the approach might change compared to the two-sequence case.\n",
        "\n",
        "3. **Example Provided:** The example given (\"epidemiologist\", \"refrigeration\", \"supercalifragilisticexpialodocious\") and its claimed longest common subsequence (\"eieio\") is correct, showing that such a subsequence exists in all three strings.\n",
        "\n",
        "4. **Potential Ambiguity or Misinterpretation:** The main point of confusion could be understanding what constitutes a subsequence and how it differs from a substring. A subsequence does not need to have consecutive letters, as opposed to a substring.\n",
        "\n",
        "5. **Result Clarity:** The problem statement is clear in its requirement to return the length of the LCS, not the LCS itself. This is an important distinction in the implementation.\n",
        "\n",
        "6. **Complexity Consideration:** It’s worth noting that finding the LCS for three strings is significantly more complex than for two strings. The problem does not mention anything about the expected time or space complexity, which might be a concern for large strings.\n",
        "\n",
        "From the given information, the problem statement seems correct in terms of defining the task, but it assumes the reader understands the LCS concept and its complexity, especially when extended to more than two sequences. There's no apparent incorrect element in the question itself, but a detailed explanation or a clearer distinction between subsequences and substrings might help avoid confusion."
      ],
      "metadata": {
        "id": "jIohycTB8Hjb"
      }
    },
    {
      "cell_type": "markdown",
      "source": [
        "##Implementation:\n",
        "Solving the longest common subsequence (LCS) problem for three strings involves a more complex dynamic programming approach than the two-string case. Here's how we can approach it:\n",
        "\n",
        "1. **Dynamic Programming (DP) Table:** We use a 3-dimensional DP table where `dp[i][j][k]` represents the length of the LCS of the substrings ending at `i` in the first string, `j` in the second string, and `k` in the third string.\n",
        "\n",
        "2. **Recurrence Relation:** For each pair of characters from the three strings, if they are the same, we increment the value by 1 from the previous state (diagonally backward in the DP table); otherwise, we take the maximum of the three possible previous states.\n",
        "\n",
        "3. **Initialization:** The DP table is initialized to 0 for the base case where at least one string is empty.\n",
        "\n",
        "4. **Final Result:** The length of the LCS will be found at `dp[length of string 1][length of string 2][length of string 3]`.\n",
        "\n"
      ],
      "metadata": {
        "id": "pkWuQrLB8K8H"
      }
    },
    {
      "cell_type": "code",
      "execution_count": 2,
      "metadata": {
        "id": "TIIt0l_k7Oi1"
      },
      "outputs": [],
      "source": [
        "def longest_common_subsequence(str1, str2, str3):\n",
        "    # Lengths of the strings\n",
        "    n1, n2, n3 = len(str1), len(str2), len(str3)\n",
        "\n",
        "    # 3D DP array initialization\n",
        "    dp = [[[0 for _ in range(n3+1)] for _ in range(n2+1)] for _ in range(n1+1)]\n",
        "\n",
        "    # Populating the DP array\n",
        "    for i in range(1, n1+1):\n",
        "        for j in range(1, n2+1):\n",
        "            for k in range(1, n3+1):\n",
        "                if str1[i-1] == str2[j-1] == str3[k-1]:\n",
        "                    dp[i][j][k] = dp[i-1][j-1][k-1] + 1\n",
        "                else:\n",
        "                    dp[i][j][k] = max(dp[i-1][j][k], dp[i][j-1][k], dp[i][j][k-1])\n",
        "\n",
        "    # The last cell of the DP table contains the length of the LCS\n",
        "    return dp[n1][n2][n3]"
      ]
    },
    {
      "cell_type": "markdown",
      "source": [
        "##Testing:\n"
      ],
      "metadata": {
        "id": "wcaruNyfYogT"
      }
    },
    {
      "cell_type": "code",
      "source": [
        "# Test the function with the given example\n",
        "longest_common_subsequence(\"epidemiologist\", \"refrigeration\", \"supercalifragilisticexpialodocious\")"
      ],
      "metadata": {
        "id": "7arfxk2ORsA8",
        "colab": {
          "base_uri": "https://localhost:8080/"
        },
        "outputId": "d3489434-01da-4c4a-80ad-28a3e6f9cc4d"
      },
      "execution_count": 3,
      "outputs": [
        {
          "output_type": "execute_result",
          "data": {
            "text/plain": [
              "5"
            ]
          },
          "metadata": {},
          "execution_count": 3
        }
      ]
    },
    {
      "cell_type": "markdown",
      "source": [
        "The program correctly computed the length of the longest common subsequence (LCS) for the strings \"epidemiologist\", \"refrigeration\", and \"supercalifragilisticexpialodocious\", which is 5. This confirms that the longest subsequence shared among these three strings is indeed of length 5, as in the example \"eieio\"."
      ],
      "metadata": {
        "id": "6Gh41KSa8HDP"
      }
    }
  ]
}