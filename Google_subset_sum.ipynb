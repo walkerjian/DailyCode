{
  "nbformat": 4,
  "nbformat_minor": 0,
  "metadata": {
    "colab": {
      "provenance": [],
      "authorship_tag": "ABX9TyNbcljL6sWcsrlbPaSDbYvj",
      "include_colab_link": true
    },
    "kernelspec": {
      "name": "python3",
      "display_name": "Python 3"
    },
    "language_info": {
      "name": "python"
    }
  },
  "cells": [
    {
      "cell_type": "markdown",
      "metadata": {
        "id": "view-in-github",
        "colab_type": "text"
      },
      "source": [
        "<a href=\"https://colab.research.google.com/github/walkerjian/DailyCode/blob/main/Google_subset_sum.ipynb\" target=\"_parent\"><img src=\"https://colab.research.google.com/assets/colab-badge.svg\" alt=\"Open In Colab\"/></a>"
      ]
    },
    {
      "cell_type": "code",
      "source": [
        "# prompt: Given a list of integers S and a target number k,\n",
        "# write a function that returns a subset of S that adds up to k.\n",
        "# If such a subset cannot be made, then return null.\n",
        "# Integers can appear more than once in the list.\n",
        "# You may assume all numbers in the list are positive.\n",
        "# For example, given S = [12, 1, 61, 5, 9, 2] and k = 24,\n",
        "# return [12, 9, 2, 1] since it sums up to 24.\n",
        "\n",
        "def subset_sum(nums, target):\n",
        "  \"\"\"\n",
        "  Finds a subset of nums that adds up to target.\n",
        "\n",
        "  Args:\n",
        "    nums: a list of integers\n",
        "    target: an integer\n",
        "\n",
        "  Returns:\n",
        "    a list of integers that adds up to target, or None if no such subset exists\n",
        "  \"\"\"\n",
        "\n",
        "  # base case\n",
        "  if target == 0:\n",
        "    return []\n",
        "\n",
        "  # recursive case\n",
        "  for i in range(len(nums)):\n",
        "    n = nums[i]\n",
        "    if n <= target:\n",
        "      subset = subset_sum(nums[i+1:], target - n)\n",
        "      if subset is not None:\n",
        "        return subset + [n]\n",
        "\n",
        "  # no solution found\n",
        "  return None\n",
        "\n",
        "print(subset_sum([12, 1, 61, 5, 9, 2], 24))\n"
      ],
      "metadata": {
        "colab": {
          "base_uri": "https://localhost:8080/"
        },
        "id": "ooFySdddjPBu",
        "outputId": "8f86672a-3804-4074-df8a-6ee21f097100"
      },
      "execution_count": 13,
      "outputs": [
        {
          "output_type": "stream",
          "name": "stdout",
          "text": [
            "[2, 9, 1, 12]\n"
          ]
        }
      ]
    },
    {
      "cell_type": "code",
      "source": [
        "# prompt: test the preceeding function\n",
        "\n",
        "print(subset_sum([1, 2, 3, 4], 5))\n"
      ],
      "metadata": {
        "colab": {
          "base_uri": "https://localhost:8080/"
        },
        "id": "s04PUVZ1jUEF",
        "outputId": "ad7e1cca-a5bc-4f81-b6bb-902c01a4009b"
      },
      "execution_count": 16,
      "outputs": [
        {
          "output_type": "stream",
          "name": "stdout",
          "text": [
            "[4, 1]\n"
          ]
        }
      ]
    }
  ]
}