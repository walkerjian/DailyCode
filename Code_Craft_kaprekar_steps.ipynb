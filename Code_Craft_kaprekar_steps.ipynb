{
  "nbformat": 4,
  "nbformat_minor": 0,
  "metadata": {
    "colab": {
      "provenance": [],
      "authorship_tag": "ABX9TyNxOvoMUpyax0lw7bV0nN/X",
      "include_colab_link": true
    },
    "kernelspec": {
      "name": "python3",
      "display_name": "Python 3"
    },
    "language_info": {
      "name": "python"
    }
  },
  "cells": [
    {
      "cell_type": "markdown",
      "metadata": {
        "id": "view-in-github",
        "colab_type": "text"
      },
      "source": [
        "<a href=\"https://colab.research.google.com/github/walkerjian/DailyCode/blob/main/Code_Craft_kaprekar_steps.ipynb\" target=\"_parent\"><img src=\"https://colab.research.google.com/assets/colab-badge.svg\" alt=\"Open In Colab\"/></a>"
      ]
    },
    {
      "cell_type": "markdown",
      "source": [
        "##Problem:\n",
        "The number 6174 is known as Kaprekar's contant, after the mathematician who discovered an associated property: for all four-digit numbers with at least two distinct digits, repeatedly applying a simple procedure eventually results in this value. The procedure is as follows:\n",
        "\n",
        "For a given input x, create two new numbers that consist of the digits in x in ascending and descending order.\n",
        "Subtract the smaller number from the larger number.\n",
        "For example, this algorithm terminates in three steps when starting from 1234:\n",
        "```\n",
        "4321 - 1234 = 3087\n",
        "8730 - 0378 = 8352\n",
        "8532 - 2358 = 6174\n",
        "```\n",
        "Write a function that returns how many steps this will take for a given input N."
      ],
      "metadata": {
        "id": "z35Pidjny-ll"
      }
    },
    {
      "cell_type": "markdown",
      "source": [
        "##Solution:\n",
        "To create a function that calculates the number of steps to reach Kaprekar's constant (6174) for a given four-digit number, we need to follow the described algorithm. Let's break down the steps:\n",
        "\n",
        "1. **Validate the Input**: Ensure the input is a four-digit number with at least two distinct digits.\n",
        "2. **Create Ascending and Descending Order Numbers**: From the input number, generate two new numbers - one with its digits in ascending order and the other in descending order.\n",
        "3. **Subtraction and Iteration**: Subtract the smaller number from the larger one and continue this process until the result is 6174.\n",
        "4. **Count the Steps**: Keep track of how many iterations (steps) it takes to reach 6174.\n",
        "\n"
      ],
      "metadata": {
        "id": "kCxROxFbzEsL"
      }
    },
    {
      "cell_type": "markdown",
      "source": [
        "##Implementation:"
      ],
      "metadata": {
        "id": "Yd_6KitJzNm-"
      }
    },
    {
      "cell_type": "code",
      "execution_count": 1,
      "metadata": {
        "colab": {
          "base_uri": "https://localhost:8080/"
        },
        "id": "7wTf-Lf6y7rk",
        "outputId": "b398d45c-174e-446a-8185-d869b5185027"
      },
      "outputs": [
        {
          "output_type": "stream",
          "name": "stdout",
          "text": [
            "3\n"
          ]
        }
      ],
      "source": [
        "def kaprekar_steps(N):\n",
        "    # Check for valid input\n",
        "    if not (1000 <= N <= 9999) or len(set(str(N))) < 2:\n",
        "        return \"Invalid input\"\n",
        "\n",
        "    steps = 0\n",
        "    while N != 6174:\n",
        "        # Create ascending and descending order numbers\n",
        "        asc = int(\"\".join(sorted(str(N).zfill(4))))\n",
        "        desc = int(\"\".join(sorted(str(N).zfill(4), reverse=True)))\n",
        "\n",
        "        # Perform the subtraction\n",
        "        N = desc - asc\n",
        "        steps += 1\n",
        "\n",
        "    return steps\n",
        "\n",
        "# Example usage\n",
        "print(kaprekar_steps(1234))  # Should return 3 as per the example\n"
      ]
    }
  ]
}