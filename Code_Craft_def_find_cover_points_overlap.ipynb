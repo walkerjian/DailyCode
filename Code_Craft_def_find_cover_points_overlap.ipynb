{
  "nbformat": 4,
  "nbformat_minor": 0,
  "metadata": {
    "colab": {
      "provenance": [],
      "authorship_tag": "ABX9TyMLxATh/XP4FU6g85Cc7fC5",
      "include_colab_link": true
    },
    "kernelspec": {
      "name": "python3",
      "display_name": "Python 3"
    },
    "language_info": {
      "name": "python"
    }
  },
  "cells": [
    {
      "cell_type": "markdown",
      "metadata": {
        "id": "view-in-github",
        "colab_type": "text"
      },
      "source": [
        "<a href=\"https://colab.research.google.com/github/walkerjian/DailyCode/blob/main/Code_Craft_def_find_cover_points_overlap.ipynb\" target=\"_parent\"><img src=\"https://colab.research.google.com/assets/colab-badge.svg\" alt=\"Open In Colab\"/></a>"
      ]
    },
    {
      "cell_type": "markdown",
      "source": [
        "##Problem:\n",
        "Given a set of closed intervals, find the smallest set of numbers that covers all the intervals. If there are multiple smallest sets, return any of them.\n",
        "\n",
        "For example, given the intervals [0, 3], [2, 6], [3, 4], [6, 9], one set of numbers that covers all these intervals is {3, 6}."
      ],
      "metadata": {
        "id": "N_BqiWBTU-mw"
      }
    },
    {
      "cell_type": "markdown",
      "source": [
        "##Solution:\n",
        "Note: The term \"cover\" in this context refers to selecting points that fall within the intervals, not necessarily at the endpoints.\n",
        "\n",
        "The algorithm will:\n",
        "1. Iterate through each interval.\n",
        "2. For each interval, find a point that is within this interval and as many others as possible.\n",
        "3. Add this point to the set and remove all intervals that it covers.\n",
        "4. Repeat until all intervals are covered.\n",
        "\n",
        "It's important that we prioritize points that fall within the maximum number of overlapping intervals, rather than just selecting the earliest end point.\n"
      ],
      "metadata": {
        "id": "wJHiQ4QRVj_V"
      }
    },
    {
      "cell_type": "markdown",
      "source": [
        "##Implementation:"
      ],
      "metadata": {
        "id": "RI5uCMe9WQO8"
      }
    },
    {
      "cell_type": "code",
      "execution_count": 2,
      "metadata": {
        "colab": {
          "base_uri": "https://localhost:8080/"
        },
        "id": "1ErcZ-ihU97A",
        "outputId": "f85e542b-c6d8-4cb2-a982-2e0205da6ba9"
      },
      "outputs": [
        {
          "output_type": "execute_result",
          "data": {
            "text/plain": [
              "{3, 6}"
            ]
          },
          "metadata": {},
          "execution_count": 2
        }
      ],
      "source": [
        "def find_cover_points_overlap(intervals):\n",
        "    # Sort intervals based on their start points\n",
        "    intervals.sort(key=lambda x: x[0])\n",
        "\n",
        "    cover_points = set()\n",
        "\n",
        "    while intervals:\n",
        "        # This will store the point that is in the maximum number of intervals\n",
        "        max_point = None\n",
        "        max_count = 0\n",
        "\n",
        "        # Check each point in each interval to see if it's in the maximum number of other intervals\n",
        "        for start, end in intervals:\n",
        "            for point in range(start, end + 1):\n",
        "                count = sum(start <= point <= end for start, end in intervals)\n",
        "                if count > max_count:\n",
        "                    max_count = count\n",
        "                    max_point = point\n",
        "\n",
        "        # Add the point that's in the maximum number of intervals\n",
        "        cover_points.add(max_point)\n",
        "\n",
        "        # Remove all intervals that are covered by this point\n",
        "        intervals = [interval for interval in intervals if interval[0] > max_point or interval[1] < max_point]\n",
        "\n",
        "    return cover_points\n",
        "\n",
        "# Example usage\n",
        "test_intervals = [[0, 3], [2, 6], [3, 4], [6, 9]]\n",
        "find_cover_points_overlap(test_intervals)\n"
      ]
    }
  ]
}