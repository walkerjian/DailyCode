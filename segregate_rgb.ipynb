{
  "nbformat": 4,
  "nbformat_minor": 0,
  "metadata": {
    "colab": {
      "provenance": [],
      "authorship_tag": "ABX9TyM+NgLl449caH7EiS0FJnu6",
      "include_colab_link": true
    },
    "kernelspec": {
      "name": "python3",
      "display_name": "Python 3"
    },
    "language_info": {
      "name": "python"
    }
  },
  "cells": [
    {
      "cell_type": "markdown",
      "metadata": {
        "id": "view-in-github",
        "colab_type": "text"
      },
      "source": [
        "<a href=\"https://colab.research.google.com/github/walkerjian/DailyCode/blob/main/segregate_rgb.ipynb\" target=\"_parent\"><img src=\"https://colab.research.google.com/assets/colab-badge.svg\" alt=\"Open In Colab\"/></a>"
      ]
    },
    {
      "cell_type": "markdown",
      "source": [
        "Given an array of strictly the characters 'R', 'G', and 'B', segregate the values of the array so that all the Rs come first, the Gs come second, and the Bs come last. You can only swap elements of the array.\n",
        "\n",
        "Do this in linear time and in-place.\n",
        "\n",
        "For example, given the array ['G', 'B', 'R', 'R', 'B', 'R', 'G'], it should become ['R', 'R', 'R', 'G', 'G', 'B', 'B']."
      ],
      "metadata": {
        "id": "rM0DPW95OOrw"
      }
    },
    {
      "cell_type": "markdown",
      "source": [
        "To solve this problem in linear time and in-place, we can use a two-pointer approach.\n",
        "\n",
        "1. Maintain three pointers:\n",
        "    - `ptr_r` to the beginning of the array, which will point to the next place where an 'R' should be placed.\n",
        "    - `ptr_current` to the current character being considered.\n",
        "    - `ptr_b` to the end of the array, which will point to the next place where a 'B' should be placed.\n",
        "\n",
        "2. Move `ptr_current` from the start to the end of the array:\n",
        "    - If `arr[ptr_current]` is 'R', swap it with `arr[ptr_r]` and move both `ptr_r` and `ptr_current` one step forward.\n",
        "    - If `arr[ptr_current]` is 'G', just move `ptr_current` one step forward.\n",
        "    - If `arr[ptr_current]` is 'B', swap it with `arr[ptr_b]` and move `ptr_b` one step backward. Do not move `ptr_current` in this case since the swapped value from the end could be 'R' or 'G' which we might need to process.\n",
        "\n",
        "3. Continue this process until `ptr_current` crosses `ptr_b`.\n",
        "\n",
        "Let's implement this algorithm:\n",
        "\n",
        "The array has been successfully segregated to \\(['R', 'R', 'R', 'G', 'G', 'B', 'B']\\), where all the 'R's come first, followed by 'G's, and then 'B's, as expected.\n",
        "\n",
        "Would you like to test the function with more examples or have any other questions?"
      ],
      "metadata": {
        "id": "Cl76zjISOTm2"
      }
    },
    {
      "cell_type": "code",
      "execution_count": 1,
      "metadata": {
        "colab": {
          "base_uri": "https://localhost:8080/"
        },
        "id": "vNiq9sRSOHm4",
        "outputId": "388c70dd-a72e-4f90-8083-5d5e012bb460"
      },
      "outputs": [
        {
          "output_type": "execute_result",
          "data": {
            "text/plain": [
              "['R', 'R', 'R', 'G', 'G', 'B', 'B']"
            ]
          },
          "metadata": {},
          "execution_count": 1
        }
      ],
      "source": [
        "def segregate_rgb(arr):\n",
        "    ptr_r, ptr_current, ptr_b = 0, 0, len(arr) - 1\n",
        "\n",
        "    while ptr_current <= ptr_b:\n",
        "        if arr[ptr_current] == 'R':\n",
        "            arr[ptr_r], arr[ptr_current] = arr[ptr_current], arr[ptr_r]\n",
        "            ptr_r += 1\n",
        "            ptr_current += 1\n",
        "        elif arr[ptr_current] == 'G':\n",
        "            ptr_current += 1\n",
        "        else: # arr[ptr_current] == 'B'\n",
        "            arr[ptr_b], arr[ptr_current] = arr[ptr_current], arr[ptr_b]\n",
        "            ptr_b -= 1\n",
        "\n",
        "    return arr\n",
        "\n",
        "# Testing the function with the given example\n",
        "test_array = ['G', 'B', 'R', 'R', 'B', 'R', 'G']\n",
        "segregated_array = segregate_rgb(test_array)\n",
        "segregated_array\n"
      ]
    }
  ]
}