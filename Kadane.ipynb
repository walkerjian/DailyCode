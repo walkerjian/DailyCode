{
  "nbformat": 4,
  "nbformat_minor": 0,
  "metadata": {
    "colab": {
      "provenance": [],
      "authorship_tag": "ABX9TyNHS546YZVLjQKLUXbea04f",
      "include_colab_link": true
    },
    "kernelspec": {
      "name": "python3",
      "display_name": "Python 3"
    },
    "language_info": {
      "name": "python"
    }
  },
  "cells": [
    {
      "cell_type": "markdown",
      "metadata": {
        "id": "view-in-github",
        "colab_type": "text"
      },
      "source": [
        "<a href=\"https://colab.research.google.com/github/walkerjian/DailyCode/blob/main/Kadane.ipynb\" target=\"_parent\"><img src=\"https://colab.research.google.com/assets/colab-badge.svg\" alt=\"Open In Colab\"/></a>"
      ]
    },
    {
      "cell_type": "markdown",
      "source": [
        "## Kadanes Algorithm\n",
        "\n",
        "Given an array of numbers, find the maximum sum of any contiguous subarray of the array.\n",
        "\n",
        "For example, given the array [34, -50, 42, 14, -5, 86], the maximum sum would be 137, since we would take elements 42, 14, -5, and 86.\n",
        "\n",
        "Given the array [-5, -1, -8, -9], the maximum sum would be 0, since we would not take any elements.\n",
        "\n",
        "Do this in O(N) time.\n"
      ],
      "metadata": {
        "id": "mvgufRkqnX_I"
      }
    },
    {
      "cell_type": "markdown",
      "source": [
        "Use **Kadane's algorithm** to solve this problem in \\( O(N) \\) time complexity.\n",
        "\n",
        "For this implementation, I will structure the code using the Model-View-Controller (MVC) paradigm:\n",
        "\n",
        "1. **Model**: This will contain the logic to find the maximum subarray sum using Kadane's algorithm.\n",
        "2. **View**: This will be responsible for displaying the output.\n",
        "3. **Controller**: This will be responsible for controlling the flow between the model and the view.\n",
        "\n",
        "Let's begin:\n",
        "\n",
        "### 1. Model\n",
        "\n",
        "```python\n",
        "def max_subarray_sum(nums):\n",
        "    \"\"\"\n",
        "    Find the maximum sum of any contiguous subarray of the given list of numbers.\n",
        "\n",
        "    This function uses Kadane's algorithm which is a dynamic programming approach to\n",
        "    solve this problem in O(N) time.\n",
        "\n",
        "    Parameters:\n",
        "    - nums (list[int]): A list of integers.\n",
        "\n",
        "    Returns:\n",
        "    - int: Maximum contiguous subarray sum.\n",
        "    \"\"\"\n",
        "    max_current = max_global = 0\n",
        "\n",
        "    for num in nums:\n",
        "        max_current = max(num, max_current + num)\n",
        "        max_global = max(max_global, max_current)\n",
        "\n",
        "    return max_global\n",
        "```\n",
        "\n",
        "### 2. View\n",
        "\n",
        "```python\n",
        "def display_output(nums, result):\n",
        "    \"\"\"\n",
        "    Display the given list of numbers and the result of the maximum subarray sum.\n",
        "\n",
        "    Parameters:\n",
        "    - nums (list[int]): A list of integers.\n",
        "    - result (int): Maximum contiguous subarray sum of the given list of numbers.\n",
        "\n",
        "    Returns:\n",
        "    - None\n",
        "    \"\"\"\n",
        "    print(f\"Array: {nums}\")\n",
        "    print(f\"Maximum Subarray Sum: {result}\\n\")\n",
        "```\n",
        "\n",
        "### 3. Controller\n",
        "\n",
        "```python\n",
        "def controller(nums):\n",
        "    \"\"\"\n",
        "    Control the flow between the model and the view.\n",
        "\n",
        "    Parameters:\n",
        "    - nums (list[int]): A list of integers.\n",
        "\n",
        "    Returns:\n",
        "    - None\n",
        "    \"\"\"\n",
        "    # Model: Compute the result\n",
        "    result = max_subarray_sum(nums)\n",
        "    \n",
        "    # View: Display the result\n",
        "    display_output(nums, result)\n",
        "```\n",
        "\n",
        "### 4. Test Harness\n",
        "\n",
        "```python\n",
        "def test_max_subarray_sum():\n",
        "    \"\"\"\n",
        "    Test the max_subarray_sum function with various test cases.\n",
        "\n",
        "    Returns:\n",
        "    - None\n",
        "    \"\"\"\n",
        "    test_cases = [\n",
        "        [34, -50, 42, 14, -5, 86],\n",
        "        [-5, -1, -8, -9],\n",
        "        [1, 2, 3, 4, 5],\n",
        "        [-2, 1, -3, 4, -1, 2, 1, -5, 4],\n",
        "        [3, -2, 5, -1],\n",
        "        [-2, -3, 4, -1, -2, 1, 5, -3],\n",
        "        [1],\n",
        "        [-1],\n",
        "        [0, 0, 0, 0],\n",
        "        [1, -3, 2, 1, -1, 2, 3, -2, 2]\n",
        "    ]\n",
        "    \n",
        "    for nums in test_cases:\n",
        "        controller(nums)\n",
        "\n",
        "test_max_subarray_sum()\n",
        "```\n",
        "\n",
        "This code fulfills all the requirements you listed, from using the MVC paradigm to extensive testing. The function names, docstrings, and overall structure adhere to PEP8 standards. The code provides a clear and concise solution to the problem statement, displaying the input and output for each test case in an easy-to-read format."
      ],
      "metadata": {
        "id": "7UPZz9vunbo_"
      }
    },
    {
      "cell_type": "code",
      "execution_count": 1,
      "metadata": {
        "id": "061kD4IynVTb"
      },
      "outputs": [],
      "source": [
        "def max_subarray_sum(nums):\n",
        "    \"\"\"\n",
        "    Find the maximum sum of any contiguous subarray of the given list of numbers.\n",
        "\n",
        "    This function uses Kadane's algorithm which is a dynamic programming approach to\n",
        "    solve this problem in O(N) time.\n",
        "\n",
        "    Parameters:\n",
        "    - nums (list[int]): A list of integers.\n",
        "\n",
        "    Returns:\n",
        "    - int: Maximum contiguous subarray sum.\n",
        "    \"\"\"\n",
        "    max_current = max_global = 0\n",
        "\n",
        "    for num in nums:\n",
        "        max_current = max(num, max_current + num)\n",
        "        max_global = max(max_global, max_current)\n",
        "\n",
        "    return max_global\n"
      ]
    },
    {
      "cell_type": "code",
      "source": [
        "def display_output(nums, result):\n",
        "    \"\"\"\n",
        "    Display the given list of numbers and the result of the maximum subarray sum.\n",
        "\n",
        "    Parameters:\n",
        "    - nums (list[int]): A list of integers.\n",
        "    - result (int): Maximum contiguous subarray sum of the given list of numbers.\n",
        "\n",
        "    Returns:\n",
        "    - None\n",
        "    \"\"\"\n",
        "    print(f\"Array: {nums}\")\n",
        "    print(f\"Maximum Subarray Sum: {result}\\n\")\n"
      ],
      "metadata": {
        "id": "HMFELhyUnnP0"
      },
      "execution_count": 2,
      "outputs": []
    },
    {
      "cell_type": "code",
      "source": [
        "def controller(nums):\n",
        "    \"\"\"\n",
        "    Control the flow between the model and the view.\n",
        "\n",
        "    Parameters:\n",
        "    - nums (list[int]): A list of integers.\n",
        "\n",
        "    Returns:\n",
        "    - None\n",
        "    \"\"\"\n",
        "    # Model: Compute the result\n",
        "    result = max_subarray_sum(nums)\n",
        "\n",
        "    # View: Display the result\n",
        "    display_output(nums, result)\n"
      ],
      "metadata": {
        "id": "opE7KmZZnpZS"
      },
      "execution_count": 3,
      "outputs": []
    },
    {
      "cell_type": "code",
      "source": [
        "def test_max_subarray_sum():\n",
        "    \"\"\"\n",
        "    Test the max_subarray_sum function with various test cases.\n",
        "\n",
        "    Returns:\n",
        "    - None\n",
        "    \"\"\"\n",
        "    test_cases = [\n",
        "        [34, -50, 42, 14, -5, 86],\n",
        "        [-5, -1, -8, -9],\n",
        "        [1, 2, 3, 4, 5],\n",
        "        [-2, 1, -3, 4, -1, 2, 1, -5, 4],\n",
        "        [3, -2, 5, -1],\n",
        "        [-2, -3, 4, -1, -2, 1, 5, -3],\n",
        "        [1],\n",
        "        [-1],\n",
        "        [0, 0, 0, 0],\n",
        "        [1, -3, 2, 1, -1, 2, 3, -2, 2]\n",
        "    ]\n",
        "\n",
        "    for nums in test_cases:\n",
        "        controller(nums)\n",
        "\n",
        "test_max_subarray_sum()\n"
      ],
      "metadata": {
        "colab": {
          "base_uri": "https://localhost:8080/"
        },
        "id": "KM1WYgWXnq_P",
        "outputId": "1703cd5f-b424-4723-858d-b862dee3a881"
      },
      "execution_count": 4,
      "outputs": [
        {
          "output_type": "stream",
          "name": "stdout",
          "text": [
            "Array: [34, -50, 42, 14, -5, 86]\n",
            "Maximum Subarray Sum: 137\n",
            "\n",
            "Array: [-5, -1, -8, -9]\n",
            "Maximum Subarray Sum: 0\n",
            "\n",
            "Array: [1, 2, 3, 4, 5]\n",
            "Maximum Subarray Sum: 15\n",
            "\n",
            "Array: [-2, 1, -3, 4, -1, 2, 1, -5, 4]\n",
            "Maximum Subarray Sum: 6\n",
            "\n",
            "Array: [3, -2, 5, -1]\n",
            "Maximum Subarray Sum: 6\n",
            "\n",
            "Array: [-2, -3, 4, -1, -2, 1, 5, -3]\n",
            "Maximum Subarray Sum: 7\n",
            "\n",
            "Array: [1]\n",
            "Maximum Subarray Sum: 1\n",
            "\n",
            "Array: [-1]\n",
            "Maximum Subarray Sum: 0\n",
            "\n",
            "Array: [0, 0, 0, 0]\n",
            "Maximum Subarray Sum: 0\n",
            "\n",
            "Array: [1, -3, 2, 1, -1, 2, 3, -2, 2]\n",
            "Maximum Subarray Sum: 7\n",
            "\n"
          ]
        }
      ]
    },
    {
      "cell_type": "code",
      "source": [],
      "metadata": {
        "id": "9_W6IHzFns0q"
      },
      "execution_count": null,
      "outputs": []
    }
  ]
}