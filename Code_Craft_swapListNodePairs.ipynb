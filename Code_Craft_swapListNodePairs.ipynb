{
  "nbformat": 4,
  "nbformat_minor": 0,
  "metadata": {
    "colab": {
      "provenance": [],
      "authorship_tag": "ABX9TyNvDEFcDpOSmohA8SLpJuDI",
      "include_colab_link": true
    },
    "kernelspec": {
      "name": "python3",
      "display_name": "Python 3"
    },
    "language_info": {
      "name": "python"
    }
  },
  "cells": [
    {
      "cell_type": "markdown",
      "metadata": {
        "id": "view-in-github",
        "colab_type": "text"
      },
      "source": [
        "<a href=\"https://colab.research.google.com/github/walkerjian/DailyCode/blob/main/Code_Craft_swapListNodePairs.ipynb\" target=\"_parent\"><img src=\"https://colab.research.google.com/assets/colab-badge.svg\" alt=\"Open In Colab\"/></a>"
      ]
    },
    {
      "cell_type": "markdown",
      "source": [
        "##Problem:\n",
        "Given the head of a singly linked list, swap every two nodes and return its head.\n",
        "\n",
        "For example, given 1 -> 2 -> 3 -> 4, return 2 -> 1 -> 4 -> 3.\n",
        "\n"
      ],
      "metadata": {
        "id": "vQFZST1T7UzR"
      }
    },
    {
      "cell_type": "markdown",
      "source": [
        "##Solution:\n",
        "To solve this problem, we can use an iterative approach to swap every two adjacent nodes in the given singly linked list. We'll define a helper function to swap two nodes and use it while traversing the list. Here's how the algorithm works:\n",
        "\n",
        "1. If the list is empty or has only one node, return the head as is since there's nothing to swap.\n",
        "2. Use a temporary dummy node whose next pointer points to the head of the list. This helps in handling edge cases easily, especially when swapping the first two nodes.\n",
        "3. Maintain a previous node (initially pointing to the dummy node) and iterate through the list.\n",
        "4. In each iteration, check if the current and the next node are available for swapping.\n",
        "5. If they are, swap them and update the previous node to point to the new head of the swapped pair.\n",
        "6. Continue this process until the end of the list is reached."
      ],
      "metadata": {
        "id": "vLC7Pajl7bMI"
      }
    },
    {
      "cell_type": "markdown",
      "source": [
        "##Implementation:\n",
        "Here's the Python implementation of this approach:"
      ],
      "metadata": {
        "id": "Y88xCYEy7kZt"
      }
    },
    {
      "cell_type": "code",
      "execution_count": 2,
      "metadata": {
        "colab": {
          "base_uri": "https://localhost:8080/"
        },
        "id": "GAvPQN7u7TIJ",
        "outputId": "30d34ba5-ff20-42ab-da01-e2cf495e65f9"
      },
      "outputs": [
        {
          "output_type": "stream",
          "name": "stdout",
          "text": [
            "Original list:\n",
            "1 -> 2 -> 3 -> 4\n",
            "List after swapping pairs:\n",
            "2 -> 1 -> 4 -> 3\n"
          ]
        }
      ],
      "source": [
        "class ListNode:\n",
        "    def __init__(self, val=0, next=None):\n",
        "        self.val = val\n",
        "        self.next = next\n",
        "\n",
        "def swapPairs(head):\n",
        "    if not head or not head.next:\n",
        "        return head\n",
        "\n",
        "    dummy = ListNode(0)\n",
        "    dummy.next = head\n",
        "    prev = dummy\n",
        "\n",
        "    while head and head.next:\n",
        "        first_node = head\n",
        "        second_node = head.next\n",
        "\n",
        "        # Swapping\n",
        "        prev.next = second_node\n",
        "        first_node.next = second_node.next\n",
        "        second_node.next = first_node\n",
        "\n",
        "        # Reinitializing the head and prev node for next swap\n",
        "        prev = first_node\n",
        "        head = first_node.next\n",
        "\n",
        "    return dummy.next\n",
        "\n",
        "# Helper function to create a linked list from a list of values\n",
        "def create_linked_list(lst):\n",
        "    dummy = ListNode(0)\n",
        "    current = dummy\n",
        "    for value in lst:\n",
        "        current.next = ListNode(value)\n",
        "        current = current.next\n",
        "    return dummy.next\n",
        "\n",
        "# Helper function to print a linked list\n",
        "def print_linked_list(head):\n",
        "    current = head\n",
        "    while current:\n",
        "        print(current.val, end=\" -> \" if current.next else \"\\n\")\n",
        "        current = current.next\n",
        "\n",
        "# Test the function\n",
        "lst = [1, 2, 3, 4]\n",
        "head = create_linked_list(lst)\n",
        "print(\"Original list:\")\n",
        "print_linked_list(head)\n",
        "\n",
        "swapped_head = swapPairs(head)\n",
        "print(\"List after swapping pairs:\")\n",
        "print_linked_list(swapped_head)"
      ]
    },
    {
      "cell_type": "markdown",
      "source": [
        "\n",
        "\n",
        "This code defines a `ListNode` class for the linked list nodes, a `swapPairs` function for swapping the nodes, and helper functions for creating and printing the linked list. The `swapPairs` function implements the described algorithm and returns the head of the modified list."
      ],
      "metadata": {
        "id": "miyMKrAC7p1n"
      }
    },
    {
      "cell_type": "markdown",
      "source": [
        "##Testing:\n",
        "To test the `swapPairs` function with a variety of interesting and practical examples, let's consider different linked lists scenarios. We'll test it with:\n",
        "\n",
        "1. A list with an even number of nodes.\n",
        "2. A list with an odd number of nodes.\n",
        "3. A list with only two nodes.\n",
        "4. A list with only one node.\n",
        "5. An empty list."
      ],
      "metadata": {
        "id": "G2MIsMbU8BR4"
      }
    },
    {
      "cell_type": "code",
      "source": [
        "# Define the ListNode class and swapPairs function as before\n",
        "\n",
        "# Helper function to create a linked list from a list of values\n",
        "def create_linked_list(lst):\n",
        "    dummy = ListNode(0)\n",
        "    current = dummy\n",
        "    for value in lst:\n",
        "        current.next = ListNode(value)\n",
        "        current = current.next\n",
        "    return dummy.next\n",
        "\n",
        "# Helper function to print a linked list\n",
        "def print_linked_list(head):\n",
        "    current = head\n",
        "    result = []\n",
        "    while current:\n",
        "        result.append(str(current.val))\n",
        "        current = current.next\n",
        "    return \" -> \".join(result)\n",
        "\n",
        "# Test cases\n",
        "test_cases = [\n",
        "    [1, 2, 3, 4],        # Even number of nodes\n",
        "    [1, 2, 3, 4, 5],     # Odd number of nodes\n",
        "    [1, 2],              # Two nodes\n",
        "    [1],                 # Single node\n",
        "    []                   # Empty list\n",
        "]\n",
        "\n",
        "# Testing\n",
        "for i, test in enumerate(test_cases):\n",
        "    head = create_linked_list(test)\n",
        "    print(f\"Test {i+1}: Original list: {print_linked_list(head)}\")\n",
        "    swapped_head = swapPairs(head)\n",
        "    print(f\"Test {i+1}: Swapped list: {print_linked_list(swapped_head)}\\n\")\n"
      ],
      "metadata": {
        "colab": {
          "base_uri": "https://localhost:8080/"
        },
        "id": "4FB0XgG28GZL",
        "outputId": "0a2e8fa4-2b8f-48b4-f797-0b78be3074d5"
      },
      "execution_count": 3,
      "outputs": [
        {
          "output_type": "stream",
          "name": "stdout",
          "text": [
            "Test 1: Original list: 1 -> 2 -> 3 -> 4\n",
            "Test 1: Swapped list: 2 -> 1 -> 4 -> 3\n",
            "\n",
            "Test 2: Original list: 1 -> 2 -> 3 -> 4 -> 5\n",
            "Test 2: Swapped list: 2 -> 1 -> 4 -> 3 -> 5\n",
            "\n",
            "Test 3: Original list: 1 -> 2\n",
            "Test 3: Swapped list: 2 -> 1\n",
            "\n",
            "Test 4: Original list: 1\n",
            "Test 4: Swapped list: 1\n",
            "\n",
            "Test 5: Original list: \n",
            "Test 5: Swapped list: \n",
            "\n"
          ]
        }
      ]
    },
    {
      "cell_type": "markdown",
      "source": [
        "This script defines a series of test cases and prints the original and swapped lists for each case. The `print_linked_list` function converts the linked list into a human-readable string format, making it easier to verify the output. Let's run this script to see the results.\n",
        "\n",
        "Here are the results of testing the `swapPairs` function with different linked list scenarios:\n",
        "\n",
        "1. **Even Number of Nodes** (1 -> 2 -> 3 -> 4):  \n",
        "   - Original List: 1 -> 2 -> 3 -> 4\n",
        "   - Swapped List: 2 -> 1 -> 4 -> 3\n",
        "\n",
        "2. **Odd Number of Nodes** (1 -> 2 -> 3 -> 4 -> 5):  \n",
        "   - Original List: 1 -> 2 -> 3 -> 4 -> 5\n",
        "   - Swapped List: 2 -> 1 -> 4 -> 3 -> 5\n",
        "\n",
        "3. **Two Nodes** (1 -> 2):  \n",
        "   - Original List: 1 -> 2\n",
        "   - Swapped List: 2 -> 1\n",
        "\n",
        "4. **Single Node** (1):  \n",
        "   - Original List: 1\n",
        "   - Swapped List: 1\n",
        "\n",
        "5. **Empty List** ([]):  \n",
        "   - Original List: (Empty)\n",
        "   - Swapped List: (Empty)\n",
        "\n",
        "The function correctly swaps every two adjacent nodes in the list and handles edge cases like odd number of nodes, a single node, and an empty list."
      ],
      "metadata": {
        "id": "Ea1rMfTO8TFi"
      }
    }
  ]
}