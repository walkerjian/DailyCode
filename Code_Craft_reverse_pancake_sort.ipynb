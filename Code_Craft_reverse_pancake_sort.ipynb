{
  "nbformat": 4,
  "nbformat_minor": 0,
  "metadata": {
    "colab": {
      "provenance": [],
      "authorship_tag": "ABX9TyP4jZGXqvHnscYFFhwqAKbC",
      "include_colab_link": true
    },
    "kernelspec": {
      "name": "python3",
      "display_name": "Python 3"
    },
    "language_info": {
      "name": "python"
    }
  },
  "cells": [
    {
      "cell_type": "markdown",
      "metadata": {
        "id": "view-in-github",
        "colab_type": "text"
      },
      "source": [
        "<a href=\"https://colab.research.google.com/github/walkerjian/DailyCode/blob/main/Code_Craft_reverse_pancake_sort.ipynb\" target=\"_parent\"><img src=\"https://colab.research.google.com/assets/colab-badge.svg\" alt=\"Open In Colab\"/></a>"
      ]
    },
    {
      "cell_type": "markdown",
      "source": [
        "##Problem:\n",
        "Given a list, sort it using this method: reverse(lst, i, j), which reverses lst from i to j."
      ],
      "metadata": {
        "id": "2lWyrXjB8EeD"
      }
    },
    {
      "cell_type": "markdown",
      "source": [
        "##Solution:\n",
        "To sort a list using only a function that reverses a sublist from index `i` to `j`, we can implement a variation of the pancake sorting algorithm. Pancake sorting involves flipping parts of a list to get the entire list sorted. Here’s how it can work:\n",
        "\n",
        "1. Find the maximum element in the list.\n",
        "2. Use the `reverse` function to move this maximum element to the beginning of the list.\n",
        "3. Use the `reverse` function again to move this maximum element to its correct position at the end of the list.\n",
        "4. Repeat the process for the remaining part of the list, ignoring the last element each time (since it’s already in its correct position).\n",
        "\n",
        "\n",
        "\n",
        "This code defines a `reverse` function, which reverses the elements of the list from index `i` to `j`, and a `pancake_sort` function that sorts the list by selectively reversing its sublists."
      ],
      "metadata": {
        "id": "jIohycTB8Hjb"
      }
    },
    {
      "cell_type": "markdown",
      "source": [
        "##Implementation:\n",
        "Here is how we can implement this in Python:\n"
      ],
      "metadata": {
        "id": "pkWuQrLB8K8H"
      }
    },
    {
      "cell_type": "code",
      "execution_count": null,
      "metadata": {
        "id": "TIIt0l_k7Oi1"
      },
      "outputs": [],
      "source": [
        "def reverse(lst, i, j):\n",
        "    lst[i:j+1] = lst[i:j+1][::-1]\n",
        "\n",
        "def pancake_sort(lst):\n",
        "    n = len(lst)\n",
        "    for i in range(n, 1, -1):\n",
        "        max_idx = lst.index(max(lst[:i]))\n",
        "        if max_idx+1 != i:\n",
        "            # Bring the maximum element to the front\n",
        "            if max_idx != 0:\n",
        "                reverse(lst, 0, max_idx)\n",
        "            # Move the maximum element to its correct position\n",
        "            reverse(lst, 0, i-1)\n",
        "    return lst"
      ]
    },
    {
      "cell_type": "markdown",
      "source": [
        "##Testing:\n"
      ],
      "metadata": {
        "id": "wcaruNyfYogT"
      }
    },
    {
      "cell_type": "code",
      "source": [
        "# Example usage\n",
        "lst = [3, 1, 5, 2, 4]\n",
        "sorted_lst = pancake_sort(lst)\n",
        "print(sorted_lst)"
      ],
      "metadata": {
        "id": "7arfxk2ORsA8",
        "colab": {
          "base_uri": "https://localhost:8080/"
        },
        "outputId": "af47f2c9-7f82-4c89-ba3b-3709a0320b56"
      },
      "execution_count": 2,
      "outputs": [
        {
          "output_type": "stream",
          "name": "stdout",
          "text": [
            "[1, 2, 3, 4, 5]\n"
          ]
        }
      ]
    },
    {
      "cell_type": "markdown",
      "source": [
        "This code defines a reverse function, which reverses the elements of the list from index i to j, and a pancake_sort function that sorts the list by selectively reversing its sublists."
      ],
      "metadata": {
        "id": "6Gh41KSa8HDP"
      }
    }
  ]
}