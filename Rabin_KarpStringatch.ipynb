{
  "nbformat": 4,
  "nbformat_minor": 0,
  "metadata": {
    "colab": {
      "provenance": [],
      "authorship_tag": "ABX9TyOEP9Lnv1f9v05m5PehZhzf",
      "include_colab_link": true
    },
    "kernelspec": {
      "name": "python3",
      "display_name": "Python 3"
    },
    "language_info": {
      "name": "python"
    }
  },
  "cells": [
    {
      "cell_type": "markdown",
      "metadata": {
        "id": "view-in-github",
        "colab_type": "text"
      },
      "source": [
        "<a href=\"https://colab.research.google.com/github/walkerjian/DailyCode/blob/main/Rabin_KarpStringatch.ipynb\" target=\"_parent\"><img src=\"https://colab.research.google.com/assets/colab-badge.svg\" alt=\"Open In Colab\"/></a>"
      ]
    },
    {
      "cell_type": "code",
      "execution_count": 1,
      "metadata": {
        "colab": {
          "base_uri": "https://localhost:8080/"
        },
        "id": "dFi_POJLK1Ud",
        "outputId": "9256bd36-49b2-46db-ae7b-28cc779333e4"
      },
      "outputs": [
        {
          "output_type": "stream",
          "name": "stdout",
          "text": [
            "Pattern 'world' found in text 'hello world' starting at index 6.\n",
            "Pattern 'earth' not found in text 'hello world'.\n",
            "Pattern 'cde' found in text 'abcdefgh' starting at index 2.\n",
            "Pattern 'xyz' not found in text 'abcdefgh'.\n",
            "Pattern 'b' found in text 'aaaaaaaaaaaaaaaaaaaaaaaaaaaaaaaaaaaaaaaaaaaaaaaaaaaaaaaaaaaaaaaaaaaaaaaaaaaaaaaaaaaaaaaaaaaaaaaaaaaab' starting at index 100.\n",
            "Pattern 'aa' found in text 'aaaaaaaaaaaaaaaaaaaaaaaaaaaaaaaaaaaaaaaaaaaaaaaaaaaaaaaaaaaaaaaaaaaaaaaaaaaaaaaaaaaaaaaaaaaaaaaaaaaab' starting at index 0.\n",
            "Pattern 'pena' found in text 'openai' starting at index 1.\n",
            "Pattern 'openai' found in text 'openai' starting at index 0.\n",
            "Pattern 'openaiz' not found in text 'openai'.\n",
            "Pattern 'abra' found in text 'abracadabra' starting at index 0.\n"
          ]
        }
      ],
      "source": [
        "class Model:\n",
        "    \"\"\"Model class implementing the Rabin-Karp algorithm for string matching.\"\"\"\n",
        "\n",
        "    def __init__(self, base=256, mod=10**9 + 7):\n",
        "        \"\"\"\n",
        "        Initialize the model with base and mod values for hashing.\n",
        "\n",
        "        Args:\n",
        "        - base (int): Base for polynomial hashing.\n",
        "        - mod (int): Modulus for polynomial hashing.\n",
        "        \"\"\"\n",
        "        self.base = base\n",
        "        self.mod = mod\n",
        "\n",
        "    def compute_hash(self, s):\n",
        "        \"\"\"Compute initial hash of the string s.\"\"\"\n",
        "        h = 0\n",
        "        for char in s:\n",
        "            h = (h * self.base + ord(char)) % self.mod\n",
        "        return h\n",
        "\n",
        "    def rabin_karp_search(self, text, pattern):\n",
        "        \"\"\"\n",
        "        Search for pattern in text using the Rabin-Karp algorithm.\n",
        "\n",
        "        Args:\n",
        "        - text (str): The main text in which to search.\n",
        "        - pattern (str): The pattern to search for.\n",
        "\n",
        "        Returns:\n",
        "        - int or False: Starting index if the pattern is found, otherwise False.\n",
        "        \"\"\"\n",
        "        n, k = len(text), len(pattern)\n",
        "        if k > n: return False\n",
        "\n",
        "        # Calculate the initial hashes for the pattern and the first window of text.\n",
        "        pattern_hash = self.compute_hash(pattern)\n",
        "        window_hash = self.compute_hash(text[:k])\n",
        "\n",
        "        # Precompute the highest power of base used for removing the leading character.\n",
        "        highest_base_power = pow(self.base, k - 1, self.mod)\n",
        "\n",
        "        for i in range(n - k + 1):\n",
        "            if pattern_hash == window_hash and text[i:i+k] == pattern:\n",
        "                return i  # Found a match.\n",
        "\n",
        "            # If not at the end, update the hash value for the next window.\n",
        "            if i + k < n:\n",
        "                window_hash = (window_hash - ord(text[i]) * highest_base_power) * self.base + ord(text[i+k])\n",
        "                window_hash %= self.mod\n",
        "\n",
        "        return False  # No match found.\n",
        "\n",
        "class View:\n",
        "    \"\"\"View class to present the results.\"\"\"\n",
        "\n",
        "    @staticmethod\n",
        "    def display(result, text, pattern):\n",
        "        \"\"\"\n",
        "        Display the result of the string matching.\n",
        "\n",
        "        Args:\n",
        "        - result (int or False): Result from the Rabin-Karp search.\n",
        "        - text (str): The main text in which the search was performed.\n",
        "        - pattern (str): The pattern that was searched for.\n",
        "        \"\"\"\n",
        "        if result is not False:\n",
        "            print(f\"Pattern '{pattern}' found in text '{text}' starting at index {result}.\")\n",
        "        else:\n",
        "            print(f\"Pattern '{pattern}' not found in text '{text}'.\")\n",
        "\n",
        "class Controller:\n",
        "    \"\"\"Controller class to handle input and trigger search operation.\"\"\"\n",
        "\n",
        "    def __init__(self, text, pattern):\n",
        "        \"\"\"\n",
        "        Initialize the controller with text and pattern.\n",
        "\n",
        "        Args:\n",
        "        - text (str): The main text in which to search.\n",
        "        - pattern (str): The pattern to search for.\n",
        "        \"\"\"\n",
        "        self.text = text\n",
        "        self.pattern = pattern\n",
        "        self.model = Model()\n",
        "\n",
        "    def execute_search(self):\n",
        "        \"\"\"Execute the Rabin-Karp search and display the result.\"\"\"\n",
        "        result = self.model.rabin_karp_search(self.text, self.pattern)\n",
        "        View.display(result, self.text, self.pattern)\n",
        "\n",
        "def test():\n",
        "    \"\"\"Test function to test the Rabin-Karp string matching implementation.\"\"\"\n",
        "    test_cases = [\n",
        "        (\"hello world\", \"world\"),\n",
        "        (\"hello world\", \"earth\"),\n",
        "        (\"abcdefgh\", \"cde\"),\n",
        "        (\"abcdefgh\", \"xyz\"),\n",
        "        (\"a\" * 100 + \"b\", \"b\"),\n",
        "        (\"a\" * 100 + \"b\", \"aa\"),\n",
        "        (\"openai\", \"pena\"),\n",
        "        (\"openai\", \"openai\"),\n",
        "        (\"openai\", \"openaiz\"),\n",
        "        (\"abracadabra\", \"abra\")\n",
        "    ]\n",
        "\n",
        "    for text, pattern in test_cases:\n",
        "        controller = Controller(text, pattern)\n",
        "        controller.execute_search()\n",
        "\n",
        "test()\n"
      ]
    },
    {
      "cell_type": "code",
      "source": [
        "def rabin_karp(text, pattern, base=256, mod=10**9 + 7):\n",
        "    n, k = len(text), len(pattern)\n",
        "    if k > n: return False\n",
        "\n",
        "    # Compute initial hashes\n",
        "    h, window = 0, 0\n",
        "    for i in range(k):\n",
        "        h = (h * base + ord(pattern[i])) % mod\n",
        "        window = (window * base + ord(text[i])) % mod\n",
        "\n",
        "    highest_base_power = pow(base, k - 1, mod)\n",
        "\n",
        "    for i in range(n - k + 1):\n",
        "        if h == window and text[i:i+k] == pattern:\n",
        "            return i\n",
        "\n",
        "        if i + k < n:\n",
        "            window = (window - ord(text[i]) * highest_base_power) * base + ord(text[i+k])\n",
        "            window %= mod\n",
        "\n",
        "    return False\n"
      ],
      "metadata": {
        "id": "uQBqIxPOL8YJ"
      },
      "execution_count": 2,
      "outputs": []
    },
    {
      "cell_type": "code",
      "source": [
        "def test_rabin_karp():\n",
        "    \"\"\"Test function for the concise Rabin-Karp implementation.\"\"\"\n",
        "    test_cases = [\n",
        "        (\"hello world\", \"world\"),\n",
        "        (\"hello world\", \"earth\"),\n",
        "        (\"abcdefgh\", \"cde\"),\n",
        "        (\"abcdefgh\", \"xyz\"),\n",
        "        (\"a\" * 100 + \"b\", \"b\"),\n",
        "        (\"a\" * 100 + \"b\", \"aa\"),\n",
        "        (\"openai\", \"pena\"),\n",
        "        (\"openai\", \"openai\"),\n",
        "        (\"openai\", \"openaiz\"),\n",
        "        (\"abracadabra\", \"abra\")\n",
        "    ]\n",
        "\n",
        "    results = []\n",
        "\n",
        "    for text, pattern in test_cases:\n",
        "        result = rabin_karp(text, pattern)\n",
        "        results.append((text, pattern, result))\n",
        "\n",
        "    return results\n",
        "\n",
        "test_results = test_rabin_karp()\n",
        "test_results\n"
      ],
      "metadata": {
        "colab": {
          "base_uri": "https://localhost:8080/"
        },
        "id": "z43fbFLEMA6w",
        "outputId": "6bf39e98-4f21-49f0-e1c6-7e112ab6c4ad"
      },
      "execution_count": 3,
      "outputs": [
        {
          "output_type": "execute_result",
          "data": {
            "text/plain": [
              "[('hello world', 'world', 6),\n",
              " ('hello world', 'earth', False),\n",
              " ('abcdefgh', 'cde', 2),\n",
              " ('abcdefgh', 'xyz', False),\n",
              " ('aaaaaaaaaaaaaaaaaaaaaaaaaaaaaaaaaaaaaaaaaaaaaaaaaaaaaaaaaaaaaaaaaaaaaaaaaaaaaaaaaaaaaaaaaaaaaaaaaaaab',\n",
              "  'b',\n",
              "  100),\n",
              " ('aaaaaaaaaaaaaaaaaaaaaaaaaaaaaaaaaaaaaaaaaaaaaaaaaaaaaaaaaaaaaaaaaaaaaaaaaaaaaaaaaaaaaaaaaaaaaaaaaaaab',\n",
              "  'aa',\n",
              "  0),\n",
              " ('openai', 'pena', 1),\n",
              " ('openai', 'openai', 0),\n",
              " ('openai', 'openaiz', False),\n",
              " ('abracadabra', 'abra', 0)]"
            ]
          },
          "metadata": {},
          "execution_count": 3
        }
      ]
    },
    {
      "cell_type": "code",
      "source": [
        "def test_string_matching(matching_function):\n",
        "    \"\"\"Test function for string matching routines using a function pointer.\"\"\"\n",
        "    test_cases = [\n",
        "        (\"hello world\", \"world\"),\n",
        "        (\"hello world\", \"earth\"),\n",
        "        (\"abcdefgh\", \"cde\"),\n",
        "        (\"abcdefgh\", \"xyz\"),\n",
        "        (\"a\" * 100 + \"b\", \"b\"),\n",
        "        (\"a\" * 100 + \"b\", \"aa\"),\n",
        "        (\"openai\", \"pena\"),\n",
        "        (\"openai\", \"openai\"),\n",
        "        (\"openai\", \"openaiz\"),\n",
        "        (\"abracadabra\", \"abra\")\n",
        "    ]\n",
        "\n",
        "    results = []\n",
        "\n",
        "    for text, pattern in test_cases:\n",
        "        result = matching_function(text, pattern)\n",
        "        results.append((text, pattern, result))\n",
        "\n",
        "    return results\n",
        "\n",
        "# Test the concise Rabin-Karp algorithm with the modified test harness\n",
        "test_results_modified = test_string_matching(rabin_karp)\n",
        "test_results_modified\n"
      ],
      "metadata": {
        "colab": {
          "base_uri": "https://localhost:8080/"
        },
        "id": "tuS9H7FxMpSD",
        "outputId": "dae96e7d-7364-4dbc-9bf1-3c8b929285e1"
      },
      "execution_count": 4,
      "outputs": [
        {
          "output_type": "execute_result",
          "data": {
            "text/plain": [
              "[('hello world', 'world', 6),\n",
              " ('hello world', 'earth', False),\n",
              " ('abcdefgh', 'cde', 2),\n",
              " ('abcdefgh', 'xyz', False),\n",
              " ('aaaaaaaaaaaaaaaaaaaaaaaaaaaaaaaaaaaaaaaaaaaaaaaaaaaaaaaaaaaaaaaaaaaaaaaaaaaaaaaaaaaaaaaaaaaaaaaaaaaab',\n",
              "  'b',\n",
              "  100),\n",
              " ('aaaaaaaaaaaaaaaaaaaaaaaaaaaaaaaaaaaaaaaaaaaaaaaaaaaaaaaaaaaaaaaaaaaaaaaaaaaaaaaaaaaaaaaaaaaaaaaaaaaab',\n",
              "  'aa',\n",
              "  0),\n",
              " ('openai', 'pena', 1),\n",
              " ('openai', 'openai', 0),\n",
              " ('openai', 'openaiz', False),\n",
              " ('abracadabra', 'abra', 0)]"
            ]
          },
          "metadata": {},
          "execution_count": 4
        }
      ]
    }
  ]
}