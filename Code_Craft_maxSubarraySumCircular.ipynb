{
  "nbformat": 4,
  "nbformat_minor": 0,
  "metadata": {
    "colab": {
      "provenance": [],
      "authorship_tag": "ABX9TyMhkr4q0/V1aW1p5bSEA46h",
      "include_colab_link": true
    },
    "kernelspec": {
      "name": "python3",
      "display_name": "Python 3"
    },
    "language_info": {
      "name": "python"
    }
  },
  "cells": [
    {
      "cell_type": "markdown",
      "metadata": {
        "id": "view-in-github",
        "colab_type": "text"
      },
      "source": [
        "<a href=\"https://colab.research.google.com/github/walkerjian/DailyCode/blob/main/Code_Craft_maxSubarraySumCircular.ipynb\" target=\"_parent\"><img src=\"https://colab.research.google.com/assets/colab-badge.svg\" alt=\"Open In Colab\"/></a>"
      ]
    },
    {
      "cell_type": "markdown",
      "source": [
        "##Problem:\n",
        "Given a circular array, compute its maximum subarray sum in O(n) time. A subarray can be empty, and in this case the sum is 0.\n",
        "\n",
        "For example, given [8, -1, 3, 4], return 15 as we choose the numbers 3, 4, and 8 where the 8 is obtained from wrapping around.\n",
        "\n",
        "Given [-4, 5, 1, 0], return 6 as we choose the numbers 5 and 1.\n"
      ],
      "metadata": {
        "id": "2lWyrXjB8EeD"
      }
    },
    {
      "cell_type": "markdown",
      "source": [
        "##Solution:\n",
        "To compute the maximum subarray sum in a circular array, we can follow these steps:\n",
        "\n",
        "1. Compute the maximum subarray sum using Kadane’s algorithm, which gives us the maximum sum of a subarray in linear time.\n",
        "2. Find the minimum subarray sum using a modified version of Kadane’s algorithm to get the minimum continuous sum. This will help in finding the maximum sum in the case where the subarray wraps around.\n",
        "3. Calculate the total sum of the array.\n",
        "4. The maximum circular subarray sum will be the maximum of the sum found in step 1 and the total sum minus the minimum subarray sum found in step 2. However, we must be careful: if the total sum is equal to the minimum subarray sum, it means all numbers are negative, and we should return the result from step 1.\n",
        "\n"
      ],
      "metadata": {
        "id": "jIohycTB8Hjb"
      }
    },
    {
      "cell_type": "markdown",
      "source": [
        "##Implementation:\n",
        "Let's implement this approach in Python.\n",
        "\n"
      ],
      "metadata": {
        "id": "pkWuQrLB8K8H"
      }
    },
    {
      "cell_type": "code",
      "execution_count": 1,
      "metadata": {
        "id": "TIIt0l_k7Oi1",
        "colab": {
          "base_uri": "https://localhost:8080/"
        },
        "outputId": "6a4ad151-093e-448a-a047-7637d62e888c"
      },
      "outputs": [
        {
          "output_type": "stream",
          "name": "stdout",
          "text": [
            "14\n",
            "6\n"
          ]
        }
      ],
      "source": [
        "def maxSubarraySumCircular(A):\n",
        "    def kadane(gen):\n",
        "        # Initialize variables for the maximum subarray sum\n",
        "        max_sum = cur_sum = next(gen, 0)\n",
        "        for x in gen:\n",
        "            cur_sum = x + max(cur_sum, 0)\n",
        "            max_sum = max(max_sum, cur_sum)\n",
        "        return max_sum\n",
        "\n",
        "    total_sum = sum(A)\n",
        "    max_subarray_sum = kadane(iter(A))\n",
        "    min_subarray_sum = -kadane(-x for x in A[1:]) - kadane(-x for x in A[:-1])\n",
        "\n",
        "    # If all numbers are negative, max_subarray_sum is the maximum\n",
        "    return max(max_subarray_sum, total_sum + min_subarray_sum) if total_sum != min_subarray_sum else max_subarray_sum\n",
        "\n",
        "# Test cases\n",
        "print(maxSubarraySumCircular([8, -1, 3, 4]))  # Expected output: 15\n",
        "print(maxSubarraySumCircular([-4, 5, 1, 0]))  # Expected output: 6\n"
      ]
    },
    {
      "cell_type": "markdown",
      "source": [
        "##Testing:\n",
        "It seems there's a slight discrepancy in the output for the first test case. The expected result was 15, but the function returned 14. This discrepancy likely arises from how the minimum subarray sum is computed. To address this, we should ensure that when calculating the minimum subarray sum, the array is considered as a whole, wrapping around only once, rather than breaking it into two parts as currently done.\n",
        "\n",
        "I'll adjust the approach to compute the minimum subarray sum more accurately. Let's revise the code.\n",
        "\n"
      ],
      "metadata": {
        "id": "wcaruNyfYogT"
      }
    },
    {
      "cell_type": "code",
      "source": [
        "def maxSubarraySumCircular(A):\n",
        "    def kadane(gen):\n",
        "        max_sum = cur_sum = next(gen, 0)\n",
        "        for x in gen:\n",
        "            cur_sum = x + max(cur_sum, 0)\n",
        "            max_sum = max(max_sum, cur_sum)\n",
        "        return max_sum\n",
        "\n",
        "    total_sum = sum(A)\n",
        "    max_kadane = kadane(iter(A))\n",
        "    # To find the minimum subarray sum, invert the elements of the array\n",
        "    min_kadane = kadane(-x for x in A)\n",
        "\n",
        "    # The maximum subarray sum for the circular case is total_sum + min_kadane\n",
        "    # This is because min_kadane is the negative of the actual minimum subarray sum\n",
        "    max_wrap = total_sum + min_kadane\n",
        "\n",
        "    # If all numbers are negative, max_kadane is the maximum\n",
        "    if max_wrap == 0:\n",
        "        return max_kadane\n",
        "\n",
        "    return max(max_kadane, max_wrap)\n",
        "\n",
        "# Test cases\n",
        "print(maxSubarraySumCircular([8, -1, 3, 4]))  # Expected output: 15\n",
        "print(maxSubarraySumCircular([-4, 5, 1, 0]))  # Expected output: 6\n"
      ],
      "metadata": {
        "id": "7arfxk2ORsA8",
        "colab": {
          "base_uri": "https://localhost:8080/"
        },
        "outputId": "b7baaaf9-7e37-4ea2-9ba9-d17bfa7ea396"
      },
      "execution_count": 2,
      "outputs": [
        {
          "output_type": "stream",
          "name": "stdout",
          "text": [
            "15\n",
            "6\n"
          ]
        }
      ]
    },
    {
      "cell_type": "markdown",
      "source": [
        "The revised implementation now produces the correct results:\n",
        "\n",
        "- For the array `[8, -1, 3, 4]`, it returns `15`, which is the sum of `3, 4`, and `8` by wrapping around the array.\n",
        "- For the array `[-4, 5, 1, 0]`, it returns `6`, which is the sum of `5` and `1`.\n",
        "\n",
        "This approach efficiently calculates the maximum subarray sum in a circular array in $O(n)$ time.\n"
      ],
      "metadata": {
        "id": "ttM8T92inEUn"
      }
    }
  ]
}