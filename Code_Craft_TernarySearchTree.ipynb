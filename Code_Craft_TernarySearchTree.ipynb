{
  "nbformat": 4,
  "nbformat_minor": 0,
  "metadata": {
    "colab": {
      "provenance": [],
      "authorship_tag": "ABX9TyNhyBLCBoXnqcbKNITRWK04",
      "include_colab_link": true
    },
    "kernelspec": {
      "name": "python3",
      "display_name": "Python 3"
    },
    "language_info": {
      "name": "python"
    }
  },
  "cells": [
    {
      "cell_type": "markdown",
      "metadata": {
        "id": "view-in-github",
        "colab_type": "text"
      },
      "source": [
        "<a href=\"https://colab.research.google.com/github/walkerjian/DailyCode/blob/main/Code_Craft_TernarySearchTree.ipynb\" target=\"_parent\"><img src=\"https://colab.research.google.com/assets/colab-badge.svg\" alt=\"Open In Colab\"/></a>"
      ]
    },
    {
      "cell_type": "markdown",
      "source": [
        "#Problem:\n",
        "A ternary search tree is a trie-like data structure where each node may have up to three children. Here is an example which represents the words code, cob, be, ax, war, and we.\n",
        "````\n",
        "       c\n",
        "    /  |  \\\n",
        "   b   o   w\n",
        " / |   |   |\n",
        "a  e   d   a\n",
        "|    / |   | \\\n",
        "x   b  e   r  e\n",
        "````\n",
        "The tree is structured according to the following rules:\n",
        "\n",
        "left child nodes link to words lexicographically earlier than the parent prefix\n",
        "right child nodes link to words lexicographically later than the parent prefix\n",
        "middle child nodes continue the current word\n",
        "For instance, since code is the first word inserted in the tree, and cob lexicographically precedes cod, cob is represented as a left child extending from cod.\n",
        "\n",
        "Implement insertion and search functions for a ternary search tree."
      ],
      "metadata": {
        "id": "tH7CkhIN6Ovd"
      }
    },
    {
      "cell_type": "markdown",
      "source": [
        "##Elaboration:\n",
        "Ternary Search Trees (TSTs) are a type of trie (or prefix tree) that can be particularly useful in several scenarios due to their unique characteristics and efficiencies. Here’s why you might want to use a Ternary Search Tree, and an analysis of their characteristics in terms of analytic computer science of algorithms and data structures:\n",
        "\n",
        "### Why Use a Ternary Search Tree?\n",
        "\n",
        "1. **Space Efficiency**: TSTs are often more space-efficient than tries because they dynamically allocate nodes only when necessary. In a standard trie, every node typically has an array of pointers (one for each possible character), many of which may be null, especially in sparse datasets. In contrast, TST nodes contain only three pointers (left, middle, right), significantly reducing memory usage in cases where the alphabet is large but the actual utilization of different characters across words is low.\n",
        "\n",
        "2. **Fast Lookups**: TSTs provide efficient search operations, often faster than hash tables for small to moderate-sized sets of strings, especially when prefix-based queries (like autocomplete suggestions) are needed. The structure of a TST enables very efficient prefix searches and partial match queries, which are more complex and less efficient in hash tables.\n",
        "\n",
        "3. **Flexible Searches**: Beyond exact matches, TSTs are excellent for operations that involve prefix matching, wildcard searches, and sorting results in lexicographical order. This makes them very useful for applications such as auto-completion in search engines, spell checking, and implementing dictionaries.\n",
        "\n",
        "4. **Less Path Compression**: Unlike tries, which sometimes need path compression (combining nodes with a single child into a single edge) to reduce space usage, TSTs inherently avoid many of the space inefficiencies of uncompressed tries without needing path compression techniques.\n",
        "\n",
        "### Analytical Characteristics\n",
        "\n",
        "1. **Time Complexity**:\n",
        "   - **Search**: Average case $O(m)$, where $ m $ is the length of the string to search. In the worst case, it could degrade to $O(m \\times n)$ if every node along the path has three children, although this is rare in practical applications.\n",
        "   - **Insert**: Similar to search, $O(m)$ for inserting a new word where no other similar words exist, and potentially up to $O(m \\times n)$ in degenerate cases with high collisions at each character node.\n",
        "   - **Delete**: Deletion complexity is also comparable to insertion and search since it may require searching and then potentially restructuring part of the tree.\n",
        "\n",
        "2. **Space Complexity**:\n",
        "   - Space usage is proportional to the number of characters stored but is generally more efficient than a standard trie because of the reduced number of child pointers per node. The actual space requirement can vary significantly depending on the diversity of prefixes in the stored strings.\n",
        "\n",
        "3. **Optimization and Use Cases**:\n",
        "   - TSTs are particularly optimized for scenarios where strings share many common prefixes, reducing the need for redundant prefix nodes. They excel in memory efficiency when the dataset contains many short strings or strings with shared leading characters.\n",
        "   - Ideal for applications like type-ahead features, where not only exact matches but also nearby matches (like words sharing the same prefix) are valuable.\n",
        "\n",
        "Ternary Search Trees strike a balance between the memory efficiency of binary search trees and the speed and prefix-handling capability of tries, making them suitable for specific applications where these advantages can be fully utilized. They are particularly favored in scenarios where memory space is a concern and where quick prefix and partial-match searches are commonly performed."
      ],
      "metadata": {
        "id": "TN5Kfc-2dSNS"
      }
    },
    {
      "cell_type": "markdown",
      "source": [
        "##Solution:\n",
        "To implement a Ternary Search Tree (TST) that can insert and search words efficiently, we'll define a `TernarySearchTree` class with the appropriate methods and attributes. The nodes in this tree will be represented using a nested `Node` class, which will have three pointers for the children (left, middle, and right) and a character value. Additionally, each node will have a boolean flag `is_end_of_word` to indicate if a node marks the end of a word.\n",
        "\n",
        "Let's go through the key functionalities:\n",
        "\n",
        "1. **Node Structure**: Each node contains:\n",
        "   - `char`: The character at the node.\n",
        "   - `left`, `middle`, `right`: Pointers to the left, middle, and right child nodes.\n",
        "   - `is_end_of_word`: A boolean indicating whether the node is the last character of a word.\n",
        "\n",
        "2. **Insertion (`insert` method)**: Inserts a word into the TST. If the current character of the word matches the character of the node, it proceeds to the middle child. If it is lexicographically smaller, it moves to the left child, and if larger, to the right child.\n",
        "\n",
        "3. **Search (`search` method)**: Searches for a word in the TST by comparing the characters similarly to insertion. If a character does not match or the `is_end_of_word` flag is not set at the last character, it returns `False`.\n",
        "\n",
        "Here is the Python implementation of these concepts:"
      ],
      "metadata": {
        "id": "itQ9Rbxe6Twn"
      }
    },
    {
      "cell_type": "markdown",
      "source": [
        "##Implementation:\n",
        "This implementation handles basic insertion and searching within a Ternary Search Tree. It can be extended with features like deletion, traversal methods (e.g., inorder for sorting), or prefix searches for more advanced use cases."
      ],
      "metadata": {
        "id": "Cb3P4iVt6W-J"
      }
    },
    {
      "cell_type": "code",
      "source": [
        "\n",
        "class TernarySearchTree:\n",
        "    class Node:\n",
        "        def __init__(self, char):\n",
        "            self.char = char\n",
        "            self.left = None\n",
        "            self.middle = None\n",
        "            self.right = None\n",
        "            self.is_end_of_word = False\n",
        "\n",
        "    def __init__(self):\n",
        "        self.root = None\n",
        "\n",
        "    def insert(self, word):\n",
        "        if not word:\n",
        "            return\n",
        "        self.root = self._insert(self.root, word, 0)\n",
        "\n",
        "    def _insert(self, node, word, index):\n",
        "        char = word[index]\n",
        "        if node is None:\n",
        "            node = self.Node(char)\n",
        "\n",
        "        if char < node.char:\n",
        "            node.left = self._insert(node.left, word, index)\n",
        "        elif char > node.char:\n",
        "            node.right = self._insert(node.right, word, index)\n",
        "        else:\n",
        "            if index + 1 < len(word):\n",
        "                node.middle = self._insert(node.middle, word, index + 1)\n",
        "            else:\n",
        "                node.is_end_of_word = True\n",
        "        return node\n",
        "\n",
        "    def search(self, word):\n",
        "        if not word:\n",
        "            return False\n",
        "        return self._search(self.root, word, 0)\n",
        "\n",
        "    def _search(self, node, word, index):\n",
        "        if node is None:\n",
        "            return False\n",
        "        char = word[index]\n",
        "\n",
        "        if char < node.char:\n",
        "            return self._search(node.left, word, index)\n",
        "        elif char > node.char:\n",
        "            return self._search(node.right, word, index)\n",
        "        else:\n",
        "            if index + 1 == len(word):\n",
        "                return node.is_end_of_word\n",
        "            return self._search(node.middle, word, index + 1)\n",
        "\n",
        "# Example usage\n",
        "tst = TernarySearchTree()\n",
        "words = [\"code\", \"cob\", \"be\", \"ax\", \"war\", \"we\"]\n",
        "for word in words:\n",
        "    tst.insert(word)\n",
        "\n"
      ],
      "metadata": {
        "id": "lve1Yewi6N4N"
      },
      "execution_count": 1,
      "outputs": []
    },
    {
      "cell_type": "markdown",
      "source": [
        "##Testing:"
      ],
      "metadata": {
        "id": "rmascGp76a_Q"
      }
    },
    {
      "cell_type": "code",
      "execution_count": 2,
      "metadata": {
        "id": "kVX9PbNY6M7_",
        "colab": {
          "base_uri": "https://localhost:8080/"
        },
        "outputId": "ba8e38d7-4af0-4a8f-b30a-fe5ee9518a68"
      },
      "outputs": [
        {
          "output_type": "stream",
          "name": "stdout",
          "text": [
            "True\n",
            "True\n",
            "True\n",
            "True\n",
            "False\n",
            "False\n"
          ]
        }
      ],
      "source": [
        "# Test search\n",
        "print(tst.search(\"code\"))  # True\n",
        "print(tst.search(\"cob\"))   # True\n",
        "print(tst.search(\"war\"))   # True\n",
        "print(tst.search(\"we\"))    # True\n",
        "print(tst.search(\"wa\"))    # False\n",
        "print(tst.search(\"wax\"))   # False"
      ]
    },
    {
      "cell_type": "markdown",
      "source": [
        "##CRUD:\n",
        "To expand the Ternary Search Tree (TST) implementation to support full CRUD (Create, Read, Update, Delete) operations, we need to refine and add a few functionalities. Here are the changes and additions we'll make:\n",
        "\n",
        "1. **Create**: This is handled by the existing `insert` method.\n",
        "2. **Read**: Handled by the existing `search` method.\n",
        "3. **Update**: Implement an update method that will change an existing word to a new word.\n",
        "4. **Delete**: Implement a delete method that can remove a word from the tree.\n",
        "\n",
        "The delete operation in a TST is a bit tricky because you need to ensure that removing a word does not disturb other words that share common characters. Additionally, we have to carefully manage node deletions so as not to leave dangling references that could lead to memory leaks in a non-garbage-collected environment.\n",
        "\n",
        "For update, we will first ensure the old word exists and then delete it before inserting the new word. This makes the update operation a combination of delete and insert operations.\n",
        "\n",
        "Here's how we can enhance our `TernarySearchTree` class with update and delete operations:"
      ],
      "metadata": {
        "id": "xPyz0L0XbzWh"
      }
    },
    {
      "cell_type": "code",
      "source": [
        "class TernarySearchTree:\n",
        "    class Node:\n",
        "        def __init__(self, char):\n",
        "            self.char = char\n",
        "            self.left = None\n",
        "            self.middle = None\n",
        "            self.right = None\n",
        "            self.is_end_of_word = False\n",
        "\n",
        "    def __init__(self):\n",
        "        self.root = None\n",
        "\n",
        "    def insert(self, word):\n",
        "        if not word:\n",
        "            return\n",
        "        self.root = self._insert(self.root, word, 0)\n",
        "\n",
        "    def _insert(self, node, word, index):\n",
        "        char = word[index]\n",
        "        if node is None:\n",
        "            node = self.Node(char)\n",
        "\n",
        "        if char < node.char:\n",
        "            node.left = self._insert(node.left, word, index)\n",
        "        elif char > node.char:\n",
        "            node.right = self._insert(node.right, word, index)\n",
        "        else:\n",
        "            if index + 1 < len(word):\n",
        "                node.middle = self._insert(node.middle, word, index + 1)\n",
        "            else:\n",
        "                node.is_end_of_word = True\n",
        "        return node\n",
        "\n",
        "    def search(self, word):\n",
        "        if not word:\n",
        "            return False\n",
        "        return self._search(self.root, word, 0)\n",
        "\n",
        "    def _search(self, node, word, index):\n",
        "        if node is None:\n",
        "            return False\n",
        "        char = word[index]\n",
        "\n",
        "        if char < node.char:\n",
        "            return self._search(node.left, word, index)\n",
        "        elif char > node.char:\n",
        "            return self._search(node.right, word, index)\n",
        "        else:\n",
        "            if index + 1 == len(word):\n",
        "                return node.is_end_of_word\n",
        "            return self._search(node.middle, word, index + 1)\n",
        "\n",
        "    def delete(self, word):\n",
        "        self.root = self._delete(self.root, word, 0)\n",
        "\n",
        "    def _delete(self, node, word, index):\n",
        "        if node is None:\n",
        "            return None\n",
        "\n",
        "        char = word[index]\n",
        "        if char < node.char:\n",
        "            node.left = self._delete(node.left, word, index)\n",
        "        elif char > node.char:\n",
        "            node.right = self._delete(node.right, word, index)\n",
        "        else:\n",
        "            if index + 1 < len(word):\n",
        "                node.middle = self._delete(node.middle, word, index + 1)\n",
        "            else:\n",
        "                if node.is_end_of_word:\n",
        "                    node.is_end_of_word = False\n",
        "\n",
        "            # If no sub-nodes have children, and it's not end of another word, delete this node\n",
        "            if not node.left and not node.middle and not node.right and not node.is_end_of_word:\n",
        "                return None\n",
        "\n",
        "        return node\n",
        "\n",
        "    def update(self, old_word, new_word):\n",
        "        if self.search(old_word):\n",
        "            self.delete(old_word)\n",
        "            self.insert(new_word)\n",
        "            return True\n",
        "        return False\n",
        "\n",
        "# Example usage\n",
        "tst = TernarySearchTree()\n",
        "words = [\"code\", \"cob\", \"be\", \"ax\", \"war\", \"we\"]\n",
        "for word in words:\n",
        "    tst.insert(word)\n",
        "\n",
        "# Test update\n",
        "print(\"Update 'we' to 'web':\", tst.update(\"we\", \"web\"))  # True\n",
        "print(tst.search(\"web\"))  # True\n",
        "print(tst.search(\"we\"))   # False\n",
        "\n",
        "# Test delete\n",
        "tst.delete(\"code\")\n",
        "print(tst.search(\"code\"))  # False\n",
        "print(tst.search(\"cob\"))   # True\n"
      ],
      "metadata": {
        "colab": {
          "base_uri": "https://localhost:8080/"
        },
        "id": "FIZBBdtQb8uO",
        "outputId": "054e56fa-7eb7-4ce0-a6d4-2895b8b97e52"
      },
      "execution_count": 3,
      "outputs": [
        {
          "output_type": "stream",
          "name": "stdout",
          "text": [
            "Update 'we' to 'web': True\n",
            "True\n",
            "False\n",
            "False\n",
            "True\n"
          ]
        }
      ]
    },
    {
      "cell_type": "markdown",
      "source": [
        "##CRUD Test:\n",
        "To thoroughly test the Ternary Search Tree with CRUD operations (Create, Read, Update, Delete), we'll design a series of tests that verify the correctness and robustness of each operation. We aim to test typical scenarios including inserting various words, searching for both existing and non-existing words, updating words correctly, and ensuring proper deletion of words. Here are some tests that cover these functionalities:\n",
        "\n",
        "1. **Insert and Search**:\n",
        "   - Insert multiple words and ensure they can be correctly searched.\n",
        "   - Search for words that have not been inserted to confirm they return `False`.\n",
        "\n",
        "2. **Update**:\n",
        "   - Update existing words and verify the update is successful.\n",
        "   - Search for the new word after an update and ensure the old word is no longer found.\n",
        "   - Try to update a non-existent word and verify that the update fails.\n",
        "\n",
        "3. **Delete**:\n",
        "   - Delete words and ensure they can no longer be found.\n",
        "   - Attempt to delete words that do not exist and ensure the structure remains unchanged.\n",
        "   - Delete words that share common prefixes with others to ensure only the target word is deleted and others remain accessible.\n",
        "\n",
        "Here's a Python test script using the implementation of `TernarySearchTree` provided:\n",
        "\n",
        "This script will insert words, perform searches, update and delete operations, and assert conditions to make sure the tree behaves as expected. If all tests pass without assertion errors, it means the operations are implemented correctly. If an assertion fails, it will print a message indicating what went wrong, helping in debugging the code. This kind of structured testing is crucial for confirming the integrity and functionality of the data structure implementations."
      ],
      "metadata": {
        "id": "I9ErafANcMQL"
      }
    },
    {
      "cell_type": "code",
      "source": [
        "def run_tests():\n",
        "    tst = TernarySearchTree()\n",
        "    words = [\"code\", \"cob\", \"be\", \"ax\", \"war\", \"we\"]\n",
        "\n",
        "    # Insert words\n",
        "    for word in words:\n",
        "        tst.insert(word)\n",
        "\n",
        "    # Test search for existing words\n",
        "    assert tst.search(\"code\"), \"Search failed for 'code'\"\n",
        "    assert tst.search(\"cob\"), \"Search failed for 'cob'\"\n",
        "    assert tst.search(\"we\"), \"Search failed for 'we'\"\n",
        "\n",
        "    # Test search for non-existing words\n",
        "    assert not tst.search(\"codex\"), \"Search incorrectly found 'codex'\"\n",
        "    assert not tst.search(\"bear\"), \"Search incorrectly found 'bear'\"\n",
        "\n",
        "    # Test updates\n",
        "    assert tst.update(\"we\", \"web\"), \"Update failed for 'we' to 'web'\"\n",
        "    assert not tst.search(\"we\"), \"Old word 'we' still found after update\"\n",
        "    assert tst.search(\"web\"), \"New word 'web' not found after update\"\n",
        "    assert not tst.update(\"none\", \"none\"), \"Update should fail for non-existing word\"\n",
        "\n",
        "    # Test delete\n",
        "    tst.delete(\"code\")\n",
        "    assert not tst.search(\"code\"), \"Deleted word 'code' still found\"\n",
        "\n",
        "    # Test delete non-existing word\n",
        "    before_delete = tst.search(\"ax\")\n",
        "    tst.delete(\"nonexist\")\n",
        "    after_delete = tst.search(\"ax\")\n",
        "    assert before_delete == after_delete, \"Tree structure changed after deleting non-existent word\"\n",
        "\n",
        "    print(\"All tests passed.\")\n",
        "\n",
        "run_tests()"
      ],
      "metadata": {
        "colab": {
          "base_uri": "https://localhost:8080/"
        },
        "id": "tzihglJacVXI",
        "outputId": "4610427f-9163-4018-b211-4abd81e2a517"
      },
      "execution_count": 4,
      "outputs": [
        {
          "output_type": "stream",
          "name": "stdout",
          "text": [
            "All tests passed.\n"
          ]
        }
      ]
    },
    {
      "cell_type": "markdown",
      "source": [
        "##How This Works:\n",
        "Test Assertion Helper: The test_assert function wraps Python's assert statement and catches AssertionError. If an assertion fails, it adds the error message to a list of failures.\n",
        "\n",
        "Error Logging: Instead of stopping the test on the first failure, this method logs each failure and continues with the other tests.\n",
        "\n",
        "Reporting Failures: After running all tests, it checks if there are any recorded failures and prints them out. If no failures occurred, it prints \"All tests passed.\"\n",
        "\n",
        "This approach ensures comprehensive testing while providing detailed feedback on what needs to be fixed, enhancing the debugging process and ensuring all test cases are evaluated in each run."
      ],
      "metadata": {
        "id": "FU5vghUuchA-"
      }
    }
  ]
}