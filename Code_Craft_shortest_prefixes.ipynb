{
  "nbformat": 4,
  "nbformat_minor": 0,
  "metadata": {
    "colab": {
      "provenance": [],
      "authorship_tag": "ABX9TyPtQ8nAMGRz/bgf3qEq0+as",
      "include_colab_link": true
    },
    "kernelspec": {
      "name": "python3",
      "display_name": "Python 3"
    },
    "language_info": {
      "name": "python"
    }
  },
  "cells": [
    {
      "cell_type": "markdown",
      "metadata": {
        "id": "view-in-github",
        "colab_type": "text"
      },
      "source": [
        "<a href=\"https://colab.research.google.com/github/walkerjian/DailyCode/blob/main/Code_Craft_shortest_prefixes.ipynb\" target=\"_parent\"><img src=\"https://colab.research.google.com/assets/colab-badge.svg\" alt=\"Open In Colab\"/></a>"
      ]
    },
    {
      "cell_type": "markdown",
      "source": [
        "##Problem:\n",
        "Given a list of words, return the shortest unique prefix of each word. For example, given the list:\n",
        "\n",
        "dog\n",
        "cat\n",
        "apple\n",
        "apricot\n",
        "fish\n",
        "Return the list:\n",
        "\n",
        "d\n",
        "c\n",
        "app\n",
        "apr\n",
        "f"
      ],
      "metadata": {
        "id": "UO5h7dpHMAwj"
      }
    },
    {
      "cell_type": "markdown",
      "source": [
        "##Solution:\n",
        "To solve this problem, we can use a trie (prefix tree) data structure. A trie is an efficient information retrieval data structure that can be used to store a dynamic set or associative array where the keys are usually strings. By using a trie, we can insert each word into the trie and then find the shortest unique prefix for each word by traversing the trie until we reach a node that is unique (i.e., has only one child or is the end of a word).\n",
        "\n",
        "Here's a step-by-step plan to implement the solution:\n",
        "1. **Build the Trie:** Insert each word from the list into the trie. Each node of the trie will contain a character of the word and a counter indicating how many words share the same prefix up to that node.\n",
        "2. **Find Shortest Unique Prefixes:** For each word in the list, traverse the trie from the root. Keep traversing until we reach a node where the counter is 1 (meaning the prefix up to that point is unique to that word) or the end of the word. Collect the characters along the path to form the shortest unique prefix.\n",
        "\n",
        "Let's implement this approach in Python.\n",
        "\n",
        "The shortest unique prefixes for the given list of words are:\n",
        "\n",
        "- `d` for \"dog\"\n",
        "- `c` for \"cat\"\n",
        "- `app` for \"apple\"\n",
        "- `apr` for \"apricot\"\n",
        "- `f` for \"fish\"\n",
        "\n",
        "This result was achieved by building a trie with the given words and then finding the shortest unique prefix for each word by traversing the trie."
      ],
      "metadata": {
        "id": "gJaLLyAlMEbb"
      }
    },
    {
      "cell_type": "markdown",
      "source": [
        "##Implementation:\n"
      ],
      "metadata": {
        "id": "FIy4hiQMMI67"
      }
    },
    {
      "cell_type": "code",
      "execution_count": 1,
      "metadata": {
        "colab": {
          "base_uri": "https://localhost:8080/"
        },
        "id": "r7CCLwlhMAI6",
        "outputId": "c9abef3a-6551-41ce-ff26-1772bf3e651d"
      },
      "outputs": [
        {
          "output_type": "execute_result",
          "data": {
            "text/plain": [
              "['d', 'c', 'app', 'apr', 'f']"
            ]
          },
          "metadata": {},
          "execution_count": 1
        }
      ],
      "source": [
        "class TrieNode:\n",
        "    def __init__(self):\n",
        "        self.children = {}\n",
        "        self.counter = 0  # Counts the number of words sharing this prefix\n",
        "\n",
        "class Trie:\n",
        "    def __init__(self):\n",
        "        self.root = TrieNode()\n",
        "\n",
        "    def insert(self, word):\n",
        "        node = self.root\n",
        "        for char in word:\n",
        "            if char not in node.children:\n",
        "                node.children[char] = TrieNode()\n",
        "            node = node.children[char]\n",
        "            node.counter += 1\n",
        "\n",
        "    def shortest_unique_prefix(self, word):\n",
        "        prefix = \"\"\n",
        "        node = self.root\n",
        "        for char in word:\n",
        "            if char in node.children:\n",
        "                node = node.children[char]\n",
        "                prefix += char\n",
        "                if node.counter == 1:\n",
        "                    break\n",
        "        return prefix\n",
        "\n",
        "# List of words\n",
        "words = [\"dog\", \"cat\", \"apple\", \"apricot\", \"fish\"]\n",
        "\n",
        "# Initialize trie and insert words\n",
        "trie = Trie()\n",
        "for word in words:\n",
        "    trie.insert(word)\n",
        "\n",
        "# Find shortest unique prefixes\n",
        "shortest_prefixes = [trie.shortest_unique_prefix(word) for word in words]\n",
        "\n",
        "shortest_prefixes\n"
      ]
    },
    {
      "cell_type": "code",
      "source": [],
      "metadata": {
        "id": "aIACr2ktMNz7"
      },
      "execution_count": null,
      "outputs": []
    }
  ]
}