{
  "nbformat": 4,
  "nbformat_minor": 0,
  "metadata": {
    "colab": {
      "provenance": [],
      "authorship_tag": "ABX9TyOWO7Lr3hCjW2hyMeTfm5ed",
      "include_colab_link": true
    },
    "kernelspec": {
      "name": "python3",
      "display_name": "Python 3"
    },
    "language_info": {
      "name": "python"
    }
  },
  "cells": [
    {
      "cell_type": "markdown",
      "metadata": {
        "id": "view-in-github",
        "colab_type": "text"
      },
      "source": [
        "<a href=\"https://colab.research.google.com/github/walkerjian/DailyCode/blob/main/Code_Craft_restore_ip_addresses.ipynb\" target=\"_parent\"><img src=\"https://colab.research.google.com/assets/colab-badge.svg\" alt=\"Open In Colab\"/></a>"
      ]
    },
    {
      "cell_type": "markdown",
      "source": [
        "#Problem:\n",
        "Given a string of digits, generate all possible valid IP address combinations.\n",
        "\n",
        "IP addresses must follow the format A.B.C.D, where A, B, C, and D are numbers between 0 and 255. Zero-prefixed numbers, such as 01 and 065, are not allowed, except for 0 itself.\n",
        "\n",
        "For example, given \"2542540123\", you should return ['254.25.40.123', '254.254.0.123']."
      ],
      "metadata": {
        "id": "tH7CkhIN6Ovd"
      }
    },
    {
      "cell_type": "markdown",
      "source": [
        "##Solution:\n",
        "To solve this problem, we'll break down the task into the following steps:\n",
        "\n",
        "1. **Validate IP Segments**: Each segment must be between 0 and 255 and cannot have leading zeros unless the segment is '0'.\n",
        "2. **Backtracking Function**: Use a recursive approach to explore all valid combinations of the segments.\n",
        "3. **Base Case**: If we've selected four valid segments and have used all the digits, we've found a valid IP address.\n",
        "4. **Recursive Case**: If not, we continue to try forming the next segment from the remaining digits.\n",
        "\n",
        "We will define a function `restore_ip_addresses(s)` that uses a helper function `backtrack(start, path)` to recursively build up valid IP addresses. Here `start` is the starting index in the string for the next segment, and `path` keeps track of the parts of the IP address we have already confirmed as valid."
      ],
      "metadata": {
        "id": "itQ9Rbxe6Twn"
      }
    },
    {
      "cell_type": "markdown",
      "source": [
        "##Implementation:\n",
        "Let's implement this approach in Python:"
      ],
      "metadata": {
        "id": "Cb3P4iVt6W-J"
      }
    },
    {
      "cell_type": "code",
      "source": [
        "def restore_ip_addresses(s):\n",
        "    def is_valid(segment):\n",
        "        # Check if the segment is between 0 and 255 and does not have leading zeros\n",
        "        return len(segment) == 1 or (segment[0] != '0' and int(segment) <= 255)\n",
        "\n",
        "    def backtrack(start, path):\n",
        "        # If we have 4 segments and we've used all the characters, this is a valid solution\n",
        "        if len(path) == 4:\n",
        "            if start == len(s):\n",
        "                results.append('.'.join(path))\n",
        "            return\n",
        "\n",
        "        # Try to form each segment, up to 3 digits long\n",
        "        for end in range(start + 1, min(len(s) + 1, start + 4)):\n",
        "            segment = s[start:end]\n",
        "            if is_valid(segment):\n",
        "                backtrack(end, path + [segment])\n",
        "\n",
        "    results = []\n",
        "    backtrack(0, [])\n",
        "    return results\n",
        "\n",
        "\n"
      ],
      "metadata": {
        "id": "lve1Yewi6N4N"
      },
      "execution_count": 3,
      "outputs": []
    },
    {
      "cell_type": "markdown",
      "source": [
        "##Testing:\n",
        "is_valid: This function checks if a segment is valid. It ensures that the segment is less than or equal to 255 and doesn't have leading zeros (unless it's a single digit).\n",
        "backtrack: This is a recursive function that tries to form an IP address by adding segments one by one. If 4 segments are completed and all characters are used, it records the IP address.\n",
        "backtrack Loop: It tries to form a segment by increasing the number of characters from start to either start + 3 or until the string ends. This checks segments of length 1 to 3.\n",
        "This code will correctly output all valid IP combinations from the input string as it thoroughly checks each potential segment for validity and ensures all characters are used when forming an IP address.\n",
        "\n",
        "\n",
        "\n",
        "\n",
        "\n",
        "\n"
      ],
      "metadata": {
        "id": "rmascGp76a_Q"
      }
    },
    {
      "cell_type": "code",
      "execution_count": 2,
      "metadata": {
        "id": "kVX9PbNY6M7_",
        "colab": {
          "base_uri": "https://localhost:8080/"
        },
        "outputId": "9171d7e1-b9ea-4c8c-acfc-6e08610f3210"
      },
      "outputs": [
        {
          "output_type": "stream",
          "name": "stdout",
          "text": [
            "['254.25.40.123', '254.254.0.123']\n"
          ]
        }
      ],
      "source": [
        "# Example usage\n",
        "input_string = \"2542540123\"\n",
        "print(restore_ip_addresses(input_string))"
      ]
    }
  ]
}