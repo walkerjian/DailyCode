{
  "nbformat": 4,
  "nbformat_minor": 0,
  "metadata": {
    "colab": {
      "provenance": [],
      "authorship_tag": "ABX9TyOIR2SOTib9VbFgaZlbY9qp",
      "include_colab_link": true
    },
    "kernelspec": {
      "name": "python3",
      "display_name": "Python 3"
    },
    "language_info": {
      "name": "python"
    }
  },
  "cells": [
    {
      "cell_type": "markdown",
      "metadata": {
        "id": "view-in-github",
        "colab_type": "text"
      },
      "source": [
        "<a href=\"https://colab.research.google.com/github/walkerjian/DailyCode/blob/main/product_except_self.ipynb\" target=\"_parent\"><img src=\"https://colab.research.google.com/assets/colab-badge.svg\" alt=\"Open In Colab\"/></a>"
      ]
    },
    {
      "cell_type": "markdown",
      "source": [
        "Given an array of integers, return a new array such that each element at index i of the new array is the product of all the numbers in the original array except the one at i.\n",
        "\n",
        "For example, if our input was [1, 2, 3, 4, 5], the expected output would be [120, 60, 40, 30, 24]. If our input was [3, 2, 1], the expected output would be [2, 3, 6].\n",
        "\n",
        "Follow-up: what if you can't use division?"
      ],
      "metadata": {
        "id": "1qnLJ7Y0Qtrh"
      }
    },
    {
      "cell_type": "markdown",
      "source": [
        "Alright, I will follow the MVC (Model-View-Controller) paradigm to solve this problem.\n",
        "\n",
        "1. **Model**: This will be the core logic or algorithm for the problem.\n",
        "2. **View**: This will display the results and possibly take any inputs.\n",
        "3. **Controller**: This will orchestrate the flow between the Model and the View.\n",
        "\n",
        "I will start by writing the Model logic for the problem. Once that's done, I'll write the Controller and View components. After that, I'll write the test harness. Let's start.\n",
        "\n",
        "### Model:\n",
        "\n",
        "This is the core logic of the problem. In this case, it's the algorithm that will return a new array such that each element at index i of the new array is the product of all the numbers in the original array except the one at i."
      ],
      "metadata": {
        "id": "pcaEjm8eRPWJ"
      }
    },
    {
      "cell_type": "code",
      "source": [
        "def product_except_self(nums):\n",
        "    \"\"\"\n",
        "    Given an array of integers `nums`, returns a new array such that each element at\n",
        "    index i of the new array is the product of all the numbers in the original array\n",
        "    except the one at i.\n",
        "\n",
        "    Args:\n",
        "    - nums (List[int]): List of integers\n",
        "\n",
        "    Returns:\n",
        "    - List[int]: List of products as per the problem statement.\n",
        "\n",
        "    Example:\n",
        "    >>> product_except_self([1, 2, 3, 4, 5])\n",
        "    [120, 60, 40, 30, 24]\n",
        "    \"\"\"\n",
        "\n",
        "    n = len(nums)\n",
        "\n",
        "    # Create an output array and initialize it with 1.\n",
        "    output = [1] * n\n",
        "\n",
        "    # This will hold the product to the left of index i.\n",
        "    left_product = 1\n",
        "    for i in range(n):\n",
        "        output[i] *= left_product\n",
        "        left_product *= nums[i]\n",
        "\n",
        "    # This will hold the product to the right of index i.\n",
        "    right_product = 1\n",
        "    for i in range(n-1, -1, -1):\n",
        "        output[i] *= right_product\n",
        "        right_product *= nums[i]\n",
        "\n",
        "    return output\n"
      ],
      "metadata": {
        "id": "L2l8QUXeQpAa"
      },
      "execution_count": 1,
      "outputs": []
    },
    {
      "cell_type": "markdown",
      "source": [
        "Now that we have our Model in place, let's move on to the View and Controller.\n",
        "\n",
        "### View:\n",
        "\n",
        "The view will be responsible for displaying the results. In this case, it will be a simple function that takes the original array and its transformed result, and then prints them.\n",
        "\n",
        "### Controller:\n",
        "\n",
        "The controller will manage the flow between the Model and the View. It will take the input, send it to the Model for processing, and then send the result to the View for displaying."
      ],
      "metadata": {
        "id": "77G9579_Tcq2"
      }
    },
    {
      "cell_type": "code",
      "source": [
        "def view(original_array, result_array):\n",
        "    \"\"\"\n",
        "    Displays the original array and its transformed result.\n",
        "\n",
        "    Args:\n",
        "    - original_array (List[int]): Original list of integers.\n",
        "    - result_array (List[int]): Transformed result.\n",
        "    \"\"\"\n",
        "    print(f\"Original Array: {original_array}\")\n",
        "    print(f\"Result Array:   {result_array}\")\n",
        "    print(\"\")\n",
        "\n",
        "\n",
        "def controller(nums):\n",
        "    \"\"\"\n",
        "    Orchestrates the flow between the Model and the View.\n",
        "\n",
        "    Args:\n",
        "    - nums (List[int]): List of integers.\n",
        "    \"\"\"\n",
        "    result = product_except_self(nums)\n",
        "    view(nums, result)\n"
      ],
      "metadata": {
        "id": "f8ny2ldGS5eR"
      },
      "execution_count": 2,
      "outputs": []
    },
    {
      "cell_type": "markdown",
      "source": [
        "Next, let's write the test harness to test our solution.\n",
        "\n",
        "### Test Harness:\n",
        "\n",
        "The test harness will be a function that tests our `controller` function with various test cases. We'll include the sample cases you provided as well as other test cases to ensure our solution works for a range of inputs.\n",
        "\n",
        "Here's the complete solution:\n",
        "\n",
        "1. **Model**: We implemented the `product_except_self` function that calculates the result array without using division.\n",
        "2. **View**: The `view` function displays the original array and its transformed result.\n",
        "3. **Controller**: The `controller` function orchestrates the flow between the Model and the View.\n",
        "4. **Test Harness**: The `test_harness` function tests the solution with multiple test cases, including the sample cases."
      ],
      "metadata": {
        "id": "HzOhDuZBTkES"
      }
    },
    {
      "cell_type": "code",
      "source": [
        "def test_harness():\n",
        "    \"\"\"\n",
        "    Tests the solution with multiple test cases.\n",
        "    \"\"\"\n",
        "    test_cases = [\n",
        "        [1, 2, 3, 4, 5],\n",
        "        [3, 2, 1],\n",
        "        [0, 1, 2, 3, 4],\n",
        "        [1, 0, 3, 0, 5],\n",
        "        [-1, 2, -3, 4, -5],\n",
        "        [1, 1, 1, 1, 1],\n",
        "        [2, 3, 0, 4, 5],\n",
        "        [10],\n",
        "        [],\n",
        "        [1, 2, 3, 0, 5, 6]\n",
        "    ]\n",
        "\n",
        "    for test_case in test_cases:\n",
        "        controller(test_case)\n",
        "\n",
        "test_harness()\n"
      ],
      "metadata": {
        "colab": {
          "base_uri": "https://localhost:8080/"
        },
        "id": "HMF99El1S_rr",
        "outputId": "65afdb7d-11a2-4800-ecfc-807fb462116b"
      },
      "execution_count": 3,
      "outputs": [
        {
          "output_type": "stream",
          "name": "stdout",
          "text": [
            "Original Array: [1, 2, 3, 4, 5]\n",
            "Result Array:   [120, 60, 40, 30, 24]\n",
            "\n",
            "Original Array: [3, 2, 1]\n",
            "Result Array:   [2, 3, 6]\n",
            "\n",
            "Original Array: [0, 1, 2, 3, 4]\n",
            "Result Array:   [24, 0, 0, 0, 0]\n",
            "\n",
            "Original Array: [1, 0, 3, 0, 5]\n",
            "Result Array:   [0, 0, 0, 0, 0]\n",
            "\n",
            "Original Array: [-1, 2, -3, 4, -5]\n",
            "Result Array:   [120, -60, 40, -30, 24]\n",
            "\n",
            "Original Array: [1, 1, 1, 1, 1]\n",
            "Result Array:   [1, 1, 1, 1, 1]\n",
            "\n",
            "Original Array: [2, 3, 0, 4, 5]\n",
            "Result Array:   [0, 0, 120, 0, 0]\n",
            "\n",
            "Original Array: [10]\n",
            "Result Array:   [1]\n",
            "\n",
            "Original Array: []\n",
            "Result Array:   []\n",
            "\n",
            "Original Array: [1, 2, 3, 0, 5, 6]\n",
            "Result Array:   [0, 0, 0, 180, 0, 0]\n",
            "\n"
          ]
        }
      ]
    },
    {
      "cell_type": "markdown",
      "source": [
        "##Maximally Efficient Version"
      ],
      "metadata": {
        "id": "EKGUvuqoUUcF"
      }
    },
    {
      "cell_type": "markdown",
      "source": [
        "For maximum efficiency, we can use the same logic as the previous solution but present it more concisely. I'll use Python because of its readability and simplicity. The core idea of the algorithm remains the same:\n",
        "\n",
        "1. We first calculate the running product from the left for each element.\n",
        "2. Then we calculate the running product from the right while simultaneously updating the result.\n",
        "\n",
        "Here's the efficient version:\n",
        "\n",
        "The efficient function `efficient_product_except_self` has been implemented and tested with a sample input. The result is as expected: \\([120, 60, 40, 30, 24]\\) for the input \\([1, 2, 3, 4, 5]\\).\n",
        "\n",
        "This approach runs in $O(n)$ time complexity, where $n$ is the length of the input array. This is because we go through the input array twice: once from the left and once from the right. The space complexity is also $O(n)$ due to the output array. However, if we don't consider the output array for space complexity (since it's necessary for the problem's output), the space complexity can be considered $O(1)$, as we only use a few extra variables.\n"
      ],
      "metadata": {
        "id": "DdGx6MUpUfF2"
      }
    },
    {
      "cell_type": "code",
      "source": [
        "def efficient_product_except_self(nums):\n",
        "    \"\"\"\n",
        "    Given an array of integers `nums`, returns a new array such that each element at\n",
        "    index i of the new array is the product of all the numbers in the original array\n",
        "    except the one at i. This is an efficient implementation of the problem.\n",
        "\n",
        "    Args:\n",
        "    - nums (List[int]): List of integers\n",
        "\n",
        "    Returns:\n",
        "    - List[int]: List of products as per the problem statement.\n",
        "    \"\"\"\n",
        "\n",
        "    n = len(nums)\n",
        "    output = [1] * n\n",
        "    left_product = 1\n",
        "\n",
        "    for i in range(n):\n",
        "        output[i] *= left_product\n",
        "        left_product *= nums[i]\n",
        "\n",
        "    right_product = 1\n",
        "    for i in range(n-1, -1, -1):\n",
        "        output[i] *= right_product\n",
        "        right_product *= nums[i]\n",
        "\n",
        "    return output\n",
        "\n",
        "# Testing the efficient function with a sample input\n",
        "efficient_product_except_self([1, 2, 3, 4, 5])\n"
      ],
      "metadata": {
        "colab": {
          "base_uri": "https://localhost:8080/"
        },
        "id": "10qB1kaxUZD4",
        "outputId": "2ff628f2-9617-41d6-80f3-f45b9efea431"
      },
      "execution_count": 4,
      "outputs": [
        {
          "output_type": "execute_result",
          "data": {
            "text/plain": [
              "[120, 60, 40, 30, 24]"
            ]
          },
          "metadata": {},
          "execution_count": 4
        }
      ]
    },
    {
      "cell_type": "code",
      "source": [
        "def efficient_test_harness():\n",
        "    \"\"\"\n",
        "    Tests the efficient solution with multiple test cases.\n",
        "    \"\"\"\n",
        "    test_cases = [\n",
        "        [1, 2, 3, 4, 5],\n",
        "        [3, 2, 1],\n",
        "        [0, 1, 2, 3, 4],\n",
        "        [1, 0, 3, 0, 5],\n",
        "        [-1, 2, -3, 4, -5],\n",
        "        [1, 1, 1, 1, 1],\n",
        "        [2, 3, 0, 4, 5],\n",
        "        [10],\n",
        "        [],\n",
        "        [1, 2, 3, 0, 5, 6]\n",
        "    ]\n",
        "\n",
        "    for test_case in test_cases:\n",
        "        result = efficient_product_except_self(test_case)\n",
        "        print(f\"Original Array: {test_case}\")\n",
        "        print(f\"Result Array:   {result}\")\n",
        "        print(\"\")\n",
        "\n",
        "efficient_test_harness()\n"
      ],
      "metadata": {
        "colab": {
          "base_uri": "https://localhost:8080/"
        },
        "id": "UaLWEvrUUk19",
        "outputId": "b0ae5de2-7134-45f4-9e3c-fee6fc0595ff"
      },
      "execution_count": 5,
      "outputs": [
        {
          "output_type": "stream",
          "name": "stdout",
          "text": [
            "Original Array: [1, 2, 3, 4, 5]\n",
            "Result Array:   [120, 60, 40, 30, 24]\n",
            "\n",
            "Original Array: [3, 2, 1]\n",
            "Result Array:   [2, 3, 6]\n",
            "\n",
            "Original Array: [0, 1, 2, 3, 4]\n",
            "Result Array:   [24, 0, 0, 0, 0]\n",
            "\n",
            "Original Array: [1, 0, 3, 0, 5]\n",
            "Result Array:   [0, 0, 0, 0, 0]\n",
            "\n",
            "Original Array: [-1, 2, -3, 4, -5]\n",
            "Result Array:   [120, -60, 40, -30, 24]\n",
            "\n",
            "Original Array: [1, 1, 1, 1, 1]\n",
            "Result Array:   [1, 1, 1, 1, 1]\n",
            "\n",
            "Original Array: [2, 3, 0, 4, 5]\n",
            "Result Array:   [0, 0, 120, 0, 0]\n",
            "\n",
            "Original Array: [10]\n",
            "Result Array:   [1]\n",
            "\n",
            "Original Array: []\n",
            "Result Array:   []\n",
            "\n",
            "Original Array: [1, 2, 3, 0, 5, 6]\n",
            "Result Array:   [0, 0, 0, 180, 0, 0]\n",
            "\n"
          ]
        }
      ]
    }
  ]
}