{
  "nbformat": 4,
  "nbformat_minor": 0,
  "metadata": {
    "colab": {
      "provenance": [],
      "authorship_tag": "ABX9TyMGUzw5a6ukaH+ttLbvReCe",
      "include_colab_link": true
    },
    "kernelspec": {
      "name": "python3",
      "display_name": "Python 3"
    },
    "language_info": {
      "name": "python"
    }
  },
  "cells": [
    {
      "cell_type": "markdown",
      "metadata": {
        "id": "view-in-github",
        "colab_type": "text"
      },
      "source": [
        "<a href=\"https://colab.research.google.com/github/walkerjian/DailyCode/blob/main/Code_Craft_find_substring_indices.ipynb\" target=\"_parent\"><img src=\"https://colab.research.google.com/assets/colab-badge.svg\" alt=\"Open In Colab\"/></a>"
      ]
    },
    {
      "cell_type": "markdown",
      "source": [
        "##Problem:\n",
        "Given a string s and a list of words words, where each word is the same length, find all starting indices of substrings in s that is a concatenation of every word in words exactly once.\n",
        "\n",
        "For example, given s = \"dogcatcatcodecatdog\" and words = [\"cat\", \"dog\"], return [0, 13], since \"dogcat\" starts at index 0 and \"catdog\" starts at index 13.\n",
        "\n",
        "Given s = \"barfoobazbitbyte\" and words = [\"dog\", \"cat\"], return [] since there are no substrings composed of \"dog\" and \"cat\" in s.\n",
        "\n",
        "The order of the indices does not matter."
      ],
      "metadata": {
        "id": "2lWyrXjB8EeD"
      }
    },
    {
      "cell_type": "markdown",
      "source": [
        "##Solution:\n",
        "The function correctly finds all starting indices of substrings in the given strings that are concatenations of every word in the provided lists exactly once:\n",
        "\n",
        "- For `s = \"dogcatcatcodecatdog\"` and `words = [\"cat\", \"dog\"]`, the function returns `[0, 13]`. This indicates that substrings starting at indices 0 (\"dogcat\") and 13 (\"catdog\") are concatenations of \"cat\" and \"dog\" exactly once.\n",
        "- For `s = \"barfoobazbitbyte\"` and `words = [\"dog\", \"cat\"]`, the function returns `[]`, indicating there are no substrings composed of \"dog\" and \"cat\" in the given string."
      ],
      "metadata": {
        "id": "jIohycTB8Hjb"
      }
    },
    {
      "cell_type": "markdown",
      "source": [
        "##Implementation:"
      ],
      "metadata": {
        "id": "pkWuQrLB8K8H"
      }
    },
    {
      "cell_type": "code",
      "execution_count": 1,
      "metadata": {
        "id": "TIIt0l_k7Oi1",
        "colab": {
          "base_uri": "https://localhost:8080/"
        },
        "outputId": "7c63f536-da8c-467e-ce59-0dfb9d5e14fa"
      },
      "outputs": [
        {
          "output_type": "execute_result",
          "data": {
            "text/plain": [
              "([0, 13], [])"
            ]
          },
          "metadata": {},
          "execution_count": 1
        }
      ],
      "source": [
        "def find_substring_indices(s, words):\n",
        "    if not words or not s:\n",
        "        return []\n",
        "\n",
        "    word_len = len(words[0])\n",
        "    total_len = word_len * len(words)\n",
        "    word_count = {}\n",
        "\n",
        "    # Count the occurrences of each word in 'words'\n",
        "    for word in words:\n",
        "        if word in word_count:\n",
        "            word_count[word] += 1\n",
        "        else:\n",
        "            word_count[word] = 1\n",
        "\n",
        "    indices = []\n",
        "\n",
        "    for i in range(len(s) - total_len + 1):\n",
        "        seen = {}\n",
        "        j = 0\n",
        "        while j < len(words):\n",
        "            word_index = i + j * word_len\n",
        "            word = s[word_index: word_index + word_len]\n",
        "            if word in word_count:\n",
        "                if word in seen:\n",
        "                    seen[word] += 1\n",
        "                else:\n",
        "                    seen[word] = 1\n",
        "\n",
        "                if seen[word] > word_count[word]:\n",
        "                    break\n",
        "            else:\n",
        "                break\n",
        "\n",
        "            j += 1\n",
        "\n",
        "        if j == len(words):\n",
        "            indices.append(i)\n",
        "\n",
        "    return indices\n",
        "\n",
        "# Test cases\n",
        "s1, words1 = \"dogcatcatcodecatdog\", [\"cat\", \"dog\"]\n",
        "s2, words2 = \"barfoobazbitbyte\", [\"dog\", \"cat\"]\n",
        "\n",
        "result1 = find_substring_indices(s1, words1)\n",
        "result2 = find_substring_indices(s2, words2)\n",
        "\n",
        "result1, result2\n"
      ]
    },
    {
      "cell_type": "code",
      "source": [
        "def find_substring_indices(s, words):\n",
        "    if not words or not s:\n",
        "        return []\n",
        "\n",
        "    word_length = len(words[0])\n",
        "    total_words_length = word_length * len(words)\n",
        "    word_count = {}\n",
        "    for word in words:\n",
        "        if word in word_count:\n",
        "            word_count[word] += 1\n",
        "        else:\n",
        "            word_count[word] = 1\n",
        "\n",
        "    indices = []\n",
        "\n",
        "    for i in range(len(s) - total_words_length + 1):\n",
        "        seen_words = {}\n",
        "        j = 0\n",
        "        while j < len(words):\n",
        "            word_index = i + j * word_length\n",
        "            word = s[word_index:word_index + word_length]\n",
        "            if word in word_count:\n",
        "                if word in seen_words:\n",
        "                    seen_words[word] += 1\n",
        "                else:\n",
        "                    seen_words[word] = 1\n",
        "                if seen_words[word] > word_count[word]:\n",
        "                    break\n",
        "            else:\n",
        "                break\n",
        "            j += 1\n",
        "        if j == len(words):\n",
        "            indices.append(i)\n",
        "\n",
        "    return indices\n",
        "\n",
        "# Test cases\n",
        "s1 = \"dogcatcatcodecatdog\"\n",
        "words1 = [\"cat\", \"dog\"]\n",
        "print(find_substring_indices(s1, words1))\n",
        "\n",
        "s2 = \"barfoobazbitbyte\"\n",
        "words2 = [\"dog\", \"cat\"]\n",
        "print(find_substring_indices(s2, words2))\n"
      ],
      "metadata": {
        "colab": {
          "base_uri": "https://localhost:8080/"
        },
        "id": "fHqjn-FdGHoQ",
        "outputId": "d7466f27-1ed4-491e-a5b2-485ed4969319"
      },
      "execution_count": 4,
      "outputs": [
        {
          "output_type": "stream",
          "name": "stdout",
          "text": [
            "[0, 13]\n",
            "[]\n"
          ]
        }
      ]
    },
    {
      "cell_type": "code",
      "source": [
        "# prompt: Given a string s and a list of words words, where each word is the same length, find all starting indices of substrings in s that is a concatenation of every word in words exactly once.  For example, given s = \"dogcatcatcodecatdog\" and words = [\"cat\", \"dog\"], return [0, 13], since \"dogcat\" starts at index 0 and \"catdog\" starts at index 13.  Given s = \"barfoobazbitbyte\" and words = [\"dog\", \"cat\"],\n",
        "\n",
        "def find_substring_indices(s, words):\n",
        "    if not words or not s:\n",
        "        return []\n",
        "\n",
        "    word_length = len(words[0])\n",
        "    total_words_length = word_length * len(words)\n",
        "    word_count = {}\n",
        "    for word in words:\n",
        "        if word in word_count:\n",
        "            word_count[word] += 1\n",
        "        else:\n",
        "            word_count[word] = 1\n",
        "\n",
        "    indices = []\n",
        "\n",
        "    for i in range(len(s) - total_words_length + 1):\n",
        "        seen_words = {}\n",
        "        j = 0\n",
        "        while j < len(words):\n",
        "            word_index = i + j * word_length\n",
        "            word = s[word_index:word_index + word_length]\n",
        "            if word in word_count:\n",
        "                if word in seen_words:\n",
        "                    seen_words[word] += 1\n",
        "                else:\n",
        "                    seen_words[word] = 1\n",
        "                if seen_words[word] > word_count[word]:\n",
        "                    break\n",
        "            else:\n",
        "                break\n",
        "            j += 1\n",
        "        if j == len(words):\n",
        "            indices.append(i)\n",
        "\n",
        "    return indices\n",
        "\n",
        "# Test cases\n",
        "s1 = \"dogcatcatcodecatdog\"\n",
        "words1 = [\"cat\", \"dog\"]\n",
        "print(find_substring_indices(s1, words1))\n",
        "\n",
        "s2 = \"barfoobazbitbyte\"\n",
        "words2 = [\"dog\", \"cat\"]\n",
        "print(find_substring_indices(s2, words2))\n"
      ],
      "metadata": {
        "colab": {
          "base_uri": "https://localhost:8080/"
        },
        "id": "9xzylLyCGgua",
        "outputId": "fa87ca42-3a7b-4276-ecc9-cb43075ab7fd"
      },
      "execution_count": 7,
      "outputs": [
        {
          "output_type": "stream",
          "name": "stdout",
          "text": [
            "[0, 13]\n",
            "[]\n"
          ]
        }
      ]
    }
  ]
}