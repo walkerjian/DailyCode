{
  "nbformat": 4,
  "nbformat_minor": 0,
  "metadata": {
    "colab": {
      "provenance": [],
      "authorship_tag": "ABX9TyOLEL5DHT2XIuiRQJOr7lMk",
      "include_colab_link": true
    },
    "kernelspec": {
      "name": "python3",
      "display_name": "Python 3"
    },
    "language_info": {
      "name": "python"
    }
  },
  "cells": [
    {
      "cell_type": "markdown",
      "metadata": {
        "id": "view-in-github",
        "colab_type": "text"
      },
      "source": [
        "<a href=\"https://colab.research.google.com/github/walkerjian/DailyCode/blob/main/LeetMaximumOddBinaryNumber.ipynb\" target=\"_parent\"><img src=\"https://colab.research.google.com/assets/colab-badge.svg\" alt=\"Open In Colab\"/></a>"
      ]
    },
    {
      "cell_type": "code",
      "source": [
        "class Solution:\n",
        "    def maximumOddBinaryNumber(self, s: str) -> str:\n",
        "        # Traverse the string and count the '1's and '0's\n",
        "        print(\"s\",s)\n",
        "        N_Ones = s.count('1')\n",
        "        print(\"N_Ones\", N_Ones)\n",
        "        N_Zeros = s.count('0')\n",
        "        print(\"N_Zeros\", N_Zeros)\n",
        "\n",
        "        # Construct the result string exactly as specified\n",
        "        result = '1' + '0' * N_Zeros + '1' * (N_Ones - 1)\n",
        "        print(\"result\", result)\n",
        "\n",
        "        # # If there's only one '1', we should not reverse\n",
        "        # if N_Ones == 1:\n",
        "        #     return result\n",
        "        # else:\n",
        "        #     # Reverse the string\n",
        "        rev = result[::-1]\n",
        "        print(\"rev\", rev)\n",
        "        return rev\n",
        "\n",
        "# New set of tests for review\n",
        "tests = [\n",
        "    {\"input\": \"1\", \"expected\": \"1\"},\n",
        "    {\"input\": \"01\", \"expected\": \"01\"},\n",
        "    {\"input\": \"00101\", \"expected\": \"10001\"},\n",
        "    {\"input\": \"0110\", \"expected\": \"1001\"},\n",
        "    {\"input\": \"000001\", \"expected\": \"000001\"},\n",
        "    {\"input\": \"1110\", \"expected\": \"1101\"},\n",
        "    {\"input\": \"11110\", \"expected\": \"11101\"},\n",
        "    {\"input\": \"11000\", \"expected\": \"10001\"},\n",
        "    {\"input\": \"0000001\", \"expected\": \"0000001\"},\n",
        "    {\"input\": \"111000\", \"expected\": \"110001\"},\n",
        "]\n",
        "\n",
        "# Modified Test function\n",
        "def test_solution(func):\n",
        "    for test in tests:\n",
        "        output = func(test[\"input\"])\n",
        "        if output == test[\"expected\"]:\n",
        "            print(f\"For: {test['input']} => Test Passed!\")\n",
        "        else:\n",
        "            print(f\"For: {test['input']}, Expected: {test['expected']} but got: {output}\")\n",
        "        print(\"\\n\")\n",
        "\n",
        "test_solution(Solution().maximumOddBinaryNumber)\n"
      ],
      "metadata": {
        "colab": {
          "base_uri": "https://localhost:8080/"
        },
        "id": "7B7eKsY2AfJ3",
        "outputId": "b24b7dc1-7ecb-4503-9525-2ba7611f4f3b"
      },
      "execution_count": 15,
      "outputs": [
        {
          "output_type": "stream",
          "name": "stdout",
          "text": [
            "s 1\n",
            "N_Ones 1\n",
            "N_Zeros 0\n",
            "result 1\n",
            "rev 1\n",
            "For: 1 => Test Passed!\n",
            "\n",
            "\n",
            "s 01\n",
            "N_Ones 1\n",
            "N_Zeros 1\n",
            "result 10\n",
            "rev 01\n",
            "For: 01 => Test Passed!\n",
            "\n",
            "\n",
            "s 00101\n",
            "N_Ones 2\n",
            "N_Zeros 3\n",
            "result 10001\n",
            "rev 10001\n",
            "For: 00101 => Test Passed!\n",
            "\n",
            "\n",
            "s 0110\n",
            "N_Ones 2\n",
            "N_Zeros 2\n",
            "result 1001\n",
            "rev 1001\n",
            "For: 0110 => Test Passed!\n",
            "\n",
            "\n",
            "s 000001\n",
            "N_Ones 1\n",
            "N_Zeros 5\n",
            "result 100000\n",
            "rev 000001\n",
            "For: 000001 => Test Passed!\n",
            "\n",
            "\n",
            "s 1110\n",
            "N_Ones 3\n",
            "N_Zeros 1\n",
            "result 1011\n",
            "rev 1101\n",
            "For: 1110 => Test Passed!\n",
            "\n",
            "\n",
            "s 11110\n",
            "N_Ones 4\n",
            "N_Zeros 1\n",
            "result 10111\n",
            "rev 11101\n",
            "For: 11110 => Test Passed!\n",
            "\n",
            "\n",
            "s 11000\n",
            "N_Ones 2\n",
            "N_Zeros 3\n",
            "result 10001\n",
            "rev 10001\n",
            "For: 11000 => Test Passed!\n",
            "\n",
            "\n",
            "s 0000001\n",
            "N_Ones 1\n",
            "N_Zeros 6\n",
            "result 1000000\n",
            "rev 0000001\n",
            "For: 0000001 => Test Passed!\n",
            "\n",
            "\n",
            "s 111000\n",
            "N_Ones 3\n",
            "N_Zeros 3\n",
            "result 100011\n",
            "rev 110001\n",
            "For: 111000 => Test Passed!\n",
            "\n",
            "\n"
          ]
        }
      ]
    },
    {
      "cell_type": "markdown",
      "source": [
        "Thank you for sharing your code. Let's assess it based on our interactions and the algorithm:\n",
        "\n",
        "1. **Code Structure**: Your code is clearly structured. You have the main function (`maximumOddBinaryNumber`), a set of tests, and a test function (`test_solution`). This separation makes the code easier to understand and debug.\n",
        "\n",
        "2. **Variable Naming**: Your variable names are descriptive (`N_Ones`, `N_Zeros`, `result`, `rev`), which aids in code readability.\n",
        "\n",
        "3. **Algorithm Logic**: The logic inside the `maximumOddBinaryNumber` method is concise and direct, representing the final approach we discussed:\n",
        "   - Count the number of 1's and 0's.\n",
        "   - Construct the result string as '1' followed by counted 0's and then `N_Ones - 1` 1's.\n",
        "   - Reverse the result string.\n",
        "   The commented-out section suggests you initially included a special handling for a single '1', but after refining the logic, it was rendered unnecessary, which is a correct observation.\n",
        "\n",
        "4. **Testing**: Your test cases cover various scenarios, including edge cases like a single '1' or multiple leading zeros. The `test_solution` function provides clear feedback on whether each test passed or failed.\n",
        "\n",
        "5. **Debugging**: You've included print statements inside the function, which can help in debugging and understanding the flow of the program. This demonstrates a systematic approach to debugging.\n",
        "\n",
        "Overall Assessment:\n",
        "Your code reflects a solid understanding of the problem and a systematic approach to solving it. The algorithm is concise, and the logic is correctly implemented. The testing approach is comprehensive, and your debug statements show a structured approach to verifying each step.\n",
        "\n",
        "Based on our interactions and this code, you demonstrate a strong coding ability. You were able to conceptualize and simplify a solution, then implement and test it effectively."
      ],
      "metadata": {
        "id": "ZsVOmc7Hkzc3"
      }
    },
    {
      "cell_type": "code",
      "source": [],
      "metadata": {
        "id": "bcSegAlEeEgV"
      },
      "execution_count": null,
      "outputs": []
    }
  ]
}