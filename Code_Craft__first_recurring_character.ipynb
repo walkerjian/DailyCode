{
  "nbformat": 4,
  "nbformat_minor": 0,
  "metadata": {
    "colab": {
      "provenance": [],
      "authorship_tag": "ABX9TyNgJZGOLdJR4FMzXF2q1cPR",
      "include_colab_link": true
    },
    "kernelspec": {
      "name": "python3",
      "display_name": "Python 3"
    },
    "language_info": {
      "name": "python"
    }
  },
  "cells": [
    {
      "cell_type": "markdown",
      "metadata": {
        "id": "view-in-github",
        "colab_type": "text"
      },
      "source": [
        "<a href=\"https://colab.research.google.com/github/walkerjian/DailyCode/blob/main/Code_Craft__first_recurring_character.ipynb\" target=\"_parent\"><img src=\"https://colab.research.google.com/assets/colab-badge.svg\" alt=\"Open In Colab\"/></a>"
      ]
    },
    {
      "cell_type": "markdown",
      "source": [
        "##Problem:\n",
        "Given a string, return the first recurring character in it, or null if there is no recurring character.\n",
        "\n",
        "For example, given the string \"acbbac\", return \"b\". Given the string \"abcdef\", return null."
      ],
      "metadata": {
        "id": "GTuhHOPz1N2h"
      }
    },
    {
      "cell_type": "markdown",
      "source": [
        "##Solution:\n",
        "To solve this problem, you can use a simple algorithm that tracks characters as they appear in the string. By iterating through the string and storing each character in a set, you can check if a character has appeared before. The first character that is already in the set is the first recurring character. If no character recurs, you return `null` (or its equivalent in the programming language you're using).\n",
        "\n",
        "Here's a Python implementation for this algorithm:\n",
        "\n",
        "```python\n",
        "def first_recurring_character(s):\n",
        "    seen = set()\n",
        "    for char in s:\n",
        "        if char in seen:\n",
        "            return char\n",
        "        seen.add(char)\n",
        "    return None\n",
        "\n",
        "# Test the function\n",
        "print(first_recurring_character(\"acbbac\"))  # Should return \"b\"\n",
        "print(first_recurring_character(\"abcdef\"))  # Should return None\n",
        "```\n",
        "\n",
        "This function iterates through each character in the string `s`. It uses a set called `seen` to track which characters have been encountered. If a character is already in the `seen` set, it means the character has recurred, and the function returns that character. If the loop completes without finding any recurring characters, the function returns `None`."
      ],
      "metadata": {
        "id": "4kmwRXfC1Qu4"
      }
    },
    {
      "cell_type": "markdown",
      "source": [
        "##Implementation:\n"
      ],
      "metadata": {
        "id": "i7UWqEAN1TCR"
      }
    },
    {
      "cell_type": "code",
      "execution_count": 1,
      "metadata": {
        "colab": {
          "base_uri": "https://localhost:8080/"
        },
        "id": "nH0TOU-g0dFf",
        "outputId": "5c781333-0d62-4de5-84db-6bc22b0ce5f1"
      },
      "outputs": [
        {
          "output_type": "stream",
          "name": "stdout",
          "text": [
            "b\n",
            "None\n"
          ]
        }
      ],
      "source": [
        "def first_recurring_character(s):\n",
        "    seen = set()\n",
        "    for char in s:\n",
        "        if char in seen:\n",
        "            return char\n",
        "        seen.add(char)\n",
        "    return None\n",
        "\n",
        "# Test the function\n",
        "print(first_recurring_character(\"acbbac\"))  # Should return \"b\"\n",
        "print(first_recurring_character(\"abcdef\"))  # Should return None\n"
      ]
    }
  ]
}