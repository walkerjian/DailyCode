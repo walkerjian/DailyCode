{
  "nbformat": 4,
  "nbformat_minor": 0,
  "metadata": {
    "colab": {
      "provenance": [],
      "authorship_tag": "ABX9TyMcwg3wj1jR1XhM3a6fhoH9",
      "include_colab_link": true
    },
    "kernelspec": {
      "name": "python3",
      "display_name": "Python 3"
    },
    "language_info": {
      "name": "python"
    }
  },
  "cells": [
    {
      "cell_type": "markdown",
      "metadata": {
        "id": "view-in-github",
        "colab_type": "text"
      },
      "source": [
        "<a href=\"https://colab.research.google.com/github/walkerjian/DailyCode/blob/main/GPTo_solve_cryptarithmetic_puzzle.ipynb\" target=\"_parent\"><img src=\"https://colab.research.google.com/assets/colab-badge.svg\" alt=\"Open In Colab\"/></a>"
      ]
    },
    {
      "cell_type": "markdown",
      "source": [
        "A cryptarithmetic puzzle is a mathematical game where the digits of some numbers are represented by letters. Each letter represents a unique digit.\n",
        "\n",
        "For example, a puzzle of the form:\n",
        "\n",
        "  SEND\n",
        "+ MORE\n",
        "--------\n",
        " MONEY\n",
        "may have the solution:\n",
        "\n",
        "{'S': 9, 'E': 5, 'N': 6, 'D': 7, 'M': 1, 'O', 0, 'R': 8, 'Y': 2}\n",
        "Given a three-word puzzle like the one above, create an algorithm that finds a solution.\n",
        "\n",
        "To solve a cryptarithmetic puzzle like the one given (SEND + MORE = MONEY), we need to assign digits to each letter such that the resulting numerical addition is correct. Here's a step-by-step approach to implement this:\n",
        "\n",
        "1. Extract all unique letters from the puzzle.\n",
        "2. Use permutations to try all possible digit assignments for these letters.\n",
        "3. For each assignment, check if it satisfies the arithmetic equation.\n",
        "\n",
        "Explanation:\n",
        "1. **Extract Unique Letters**: Gather all unique letters from the words and the result.\n",
        "2. **Check for Feasibility**: If there are more than 10 unique letters, return `None` because we can't map more than 10 letters to digits.\n",
        "3. **Permutations of Digits**: Generate all possible permutations of the digits 0-9 for the number of unique letters.\n",
        "4. **Mapping and Validation**: For each permutation:\n",
        "   - Create a mapping of letters to digits.\n",
        "   - Ensure that no word or the result has a leading zero.\n",
        "   - Convert the words and the result to their corresponding numerical values.\n",
        "   - Check if the sum of the numerical values of the words equals the numerical value of the result.\n",
        "5. **Return Solution**: If a valid mapping is found, return it; otherwise, continue to the next permutation.\n",
        "\n",
        "This approach ensures that all possible digit assignments are checked, and it returns the first valid solution found."
      ],
      "metadata": {
        "id": "TwhT6kARoFDJ"
      }
    },
    {
      "cell_type": "code",
      "execution_count": 1,
      "metadata": {
        "colab": {
          "base_uri": "https://localhost:8080/"
        },
        "id": "719Gyw-sn9om",
        "outputId": "ff41bd97-dd1e-4563-ceec-68856952d0f4"
      },
      "outputs": [
        {
          "output_type": "stream",
          "name": "stdout",
          "text": [
            "{'S': 9, 'R': 8, 'N': 6, 'E': 5, 'D': 7, 'M': 1, 'Y': 2, 'O': 0}\n"
          ]
        }
      ],
      "source": [
        "from itertools import permutations\n",
        "\n",
        "def solve_cryptarithmetic_puzzle(words, result):\n",
        "    # Extract all unique letters from the words and result\n",
        "    unique_letters = set(\"\".join(words) + result)\n",
        "    if len(unique_letters) > 10:\n",
        "        return None  # More than 10 unique letters, no valid solution\n",
        "\n",
        "    # Convert list of letters to a list for permutations\n",
        "    letters = list(unique_letters)\n",
        "\n",
        "    # Iterate through all possible permutations of digits (0-9) of the same length as unique letters\n",
        "    for perm in permutations(range(10), len(letters)):\n",
        "        # Create a mapping from letters to digits\n",
        "        letter_to_digit = dict(zip(letters, perm))\n",
        "\n",
        "        # Check if the mapping is valid (no leading zeroes)\n",
        "        if any(letter_to_digit[word[0]] == 0 for word in words + [result]):\n",
        "            continue\n",
        "\n",
        "        # Convert words and result to their numerical equivalents\n",
        "        words_value = [int(\"\".join(str(letter_to_digit[letter]) for letter in word)) for word in words]\n",
        "        result_value = int(\"\".join(str(letter_to_digit[letter]) for letter in result))\n",
        "\n",
        "        # Check if the sum of words equals the result\n",
        "        if sum(words_value) == result_value:\n",
        "            return letter_to_digit\n",
        "\n",
        "    return None\n",
        "\n",
        "# Example usage\n",
        "words = [\"SEND\", \"MORE\"]\n",
        "result = \"MONEY\"\n",
        "solution = solve_cryptarithmetic_puzzle(words, result)\n",
        "print(solution)"
      ]
    }
  ]
}