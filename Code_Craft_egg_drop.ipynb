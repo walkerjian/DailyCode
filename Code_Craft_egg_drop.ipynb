{
  "nbformat": 4,
  "nbformat_minor": 0,
  "metadata": {
    "colab": {
      "provenance": [],
      "authorship_tag": "ABX9TyOkuhNg8g+cG2PufQ2KGzb1",
      "include_colab_link": true
    },
    "kernelspec": {
      "name": "python3",
      "display_name": "Python 3"
    },
    "language_info": {
      "name": "python"
    }
  },
  "cells": [
    {
      "cell_type": "markdown",
      "metadata": {
        "id": "view-in-github",
        "colab_type": "text"
      },
      "source": [
        "<a href=\"https://colab.research.google.com/github/walkerjian/DailyCode/blob/main/Code_Craft_egg_drop.ipynb\" target=\"_parent\"><img src=\"https://colab.research.google.com/assets/colab-badge.svg\" alt=\"Open In Colab\"/></a>"
      ]
    },
    {
      "cell_type": "markdown",
      "source": [
        "You are given N identical eggs and access to a building with k floors. Your task is to find the lowest floor that will cause an egg to break, if dropped from that floor. Once an egg breaks, it cannot be dropped again. If an egg breaks when dropped from the xth floor, you can assume it will also break when dropped from any floor greater than x.\n",
        "\n",
        "Write an algorithm that finds the minimum number of trial drops it will take, in the worst case, to identify this floor.\n",
        "\n",
        "For example, if N = 1 and k = 5, we will need to try dropping the egg at every floor, beginning with the first, until we reach the fifth floor, so our solution will be 5."
      ],
      "metadata": {
        "id": "MX1b4Pp-yZCd"
      }
    },
    {
      "cell_type": "markdown",
      "source": [
        "The problem described is known as the **Egg Drop Problem**, a classic exercise in dynamic programming and optimization. To solve this problem efficiently, especially for a large number of floors $ k $ and multiple eggs $ N $, it's crucial to minimize the maximum number of drops in the worst-case scenario. The approach can be outlined as follows:\n",
        "\n",
        "1. **When you have one egg (N = 1)**: The strategy is straightforward — start from the first floor and go up one floor at a time until the egg breaks. The worst-case number of drops is $ k $.\n",
        "\n",
        "2. **When you have more than one egg**: The strategy involves determining a floor from which to drop an egg such that the number of additional drops required is minimized, considering both scenarios:\n",
        "   - If the egg breaks, you will need to test all the floors below this floor using one fewer egg.\n",
        "   - If the egg does not break, you will test the floors above this floor with the same number of eggs.\n",
        "\n",
        "The recursive relationship to determine the minimum number of drops $ m(N, k) $ can be expressed as:\n",
        "$ m(N, k) = 1 + \\min_{x=1}^{k} \\left( \\max(m(N-1, x-1), m(N, k-x)) \\right) $\n",
        "Where:\n",
        "- $ m(N-1, x-1) $ is the worst-case scenario if the egg breaks.\n",
        "- $ m(N, k-x) $ is the worst-case scenario if the egg doesn't break.\n",
        "\n",
        "Here's a Python implementation of the solution using dynamic programming. This implementation uses dynamic programming to efficiently compute the minimum number of drops required. Additionally, it employs a binary search within the inner loop to optimize the search for the floor to test, reducing the time complexity from $ O(k^2 \\cdot N) $ in a simple dynamic programming approach to approximately $ O(k \\cdot N \\cdot \\log k) $ due to the binary search."
      ],
      "metadata": {
        "id": "C-p3bot6yppg"
      }
    },
    {
      "cell_type": "code",
      "execution_count": 1,
      "metadata": {
        "colab": {
          "base_uri": "https://localhost:8080/"
        },
        "id": "cAkvJ98qyRZP",
        "outputId": "0de421ef-5a23-43ee-fd96-586a488cd474"
      },
      "outputs": [
        {
          "output_type": "stream",
          "name": "stdout",
          "text": [
            "4\n"
          ]
        }
      ],
      "source": [
        "def egg_drop(N, k):\n",
        "    # A 2D list to store the minimum number of trials needed for i eggs and j floors.\n",
        "    dp = [[0] * (k + 1) for _ in range(N + 1)]\n",
        "\n",
        "    # If you have 0 floors, you need 0 trials, and if you have 1 floor, you need 1 trial.\n",
        "    for i in range(1, N + 1):\n",
        "        dp[i][0] = 0\n",
        "        dp[i][1] = 1\n",
        "\n",
        "    # If you have 1 egg, you need j trials for j floors (worst case).\n",
        "    for j in range(1, k + 1):\n",
        "        dp[1][j] = j\n",
        "\n",
        "    # Fill the rest of the dp table\n",
        "    for i in range(2, N + 1):\n",
        "        for j in range(2, k + 1):\n",
        "            dp[i][j] = float('inf')\n",
        "            # Apply binary search to find the minimum trials needed for i eggs and j floors\n",
        "            low, high = 1, j\n",
        "            while low <= high:\n",
        "                mid = (low + high) // 2\n",
        "                break_count = dp[i-1][mid-1]  # egg breaks\n",
        "                no_break_count = dp[i][j-mid]  # egg doesn't break\n",
        "                worst = 1 + max(break_count, no_break_count)\n",
        "\n",
        "                # We are looking for the point where the two curves intersect\n",
        "                if break_count > no_break_count:\n",
        "                    high = mid - 1\n",
        "                else:\n",
        "                    low = mid + 1\n",
        "\n",
        "                dp[i][j] = min(dp[i][j], worst)\n",
        "\n",
        "    return dp[N][k]\n",
        "\n",
        "# Example usage\n",
        "N = 2\n",
        "k = 10\n",
        "print(egg_drop(N, k))"
      ]
    }
  ]
}