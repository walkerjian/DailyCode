{
  "nbformat": 4,
  "nbformat_minor": 0,
  "metadata": {
    "colab": {
      "provenance": [],
      "authorship_tag": "ABX9TyMFTfTH1PSC7I9ClVXP4LWI",
      "include_colab_link": true
    },
    "kernelspec": {
      "name": "python3",
      "display_name": "Python 3"
    },
    "language_info": {
      "name": "python"
    }
  },
  "cells": [
    {
      "cell_type": "markdown",
      "metadata": {
        "id": "view-in-github",
        "colab_type": "text"
      },
      "source": [
        "<a href=\"https://colab.research.google.com/github/walkerjian/DailyCode/blob/main/Code_craft_count_ways.ipynb\" target=\"_parent\"><img src=\"https://colab.research.google.com/assets/colab-badge.svg\" alt=\"Open In Colab\"/></a>"
      ]
    },
    {
      "cell_type": "markdown",
      "source": [
        "##Problem:\n",
        "There is an N by M matrix of zeroes. Given N and M, write a function to count the number of ways of starting at the top-left corner and getting to the bottom-right corner. You can only move right or down.\n",
        "\n",
        "For example, given a 2 by 2 matrix, you should return 2, since there are two ways to get to the bottom-right:\n",
        "\n",
        "Right, then down\n",
        "Down, then right\n",
        "Given a 5 by 5 matrix, there are 70 ways to get to the bottom-right."
      ],
      "metadata": {
        "id": "GN8Co8hwKtP0"
      }
    },
    {
      "cell_type": "markdown",
      "source": [
        "##Solution:\n",
        "To solve this problem, we can use dynamic programming. The idea is to build a table where each cell `(i, j)` represents the number of ways to reach that cell from the top-left corner. Since you can only move right or down, the number of ways to reach a cell is the sum of the number of ways to reach the cell directly above it and the cell directly to its left.\n",
        "\n",
        "Here's the step-by-step logic:\n",
        "\n",
        "1. Create a 2D array `dp` of size `N` by `M` initialized with zeroes.\n",
        "2. Set `dp[0][0]` to 1 since there's only one way to reach the starting point.\n",
        "3. Iterate over the matrix:\n",
        "   - For each cell `(i, j)`, the number of ways to reach it `dp[i][j]` is `dp[i-1][j] + dp[i][j-1]`.\n",
        "   - The first row and first column can only be reached from the left or top, respectively, so they should be set to 1.\n",
        "\n",
        "##Implementation:\n",
        "This function will compute the number of ways to reach the bottom-right corner of an `N` by `M` matrix by only moving right or down.\n",
        "\n",
        "##Discussion:\n",
        "The number of ways to reach the bottom-right corner of an N by M matrix increases significantly as the size of the matrix increases. This increase is due to the combinatorial nature of the problem. Let's break down why this happens:\n",
        "\n",
        "1. **Combinatorial Paths**: Each step in the matrix can be either right (R) or down (D). For an N by M matrix, you need to take a total of N-1 downs and M-1 rights to reach the bottom-right corner. The total number of steps is always (N-1) + (M-1). The number of ways to reach the destination depends on how you arrange these downs and rights.\n",
        "\n",
        "2. **Increasing Choices**: As the matrix gets larger, the number of possible combinations of these R and D steps increases. For a small matrix, like 2x2, you have a very limited number of ways to arrange 1 R and 1 D (which is just 2). But as the size grows, the number of different arrangements grows exponentially.\n",
        "\n",
        "3. **Pascal's Triangle**: The problem is analogous to finding a specific entry in Pascal's triangle. The number of paths to each cell represents a binomial coefficient, which is an entry in Pascal's triangle. As you move down and to the right in this triangle, the numbers increase rapidly.\n",
        "\n",
        "4. **Mathematical Representation**: The number of ways can be mathematically represented as a binomial coefficient: $ \\binom{N+M-2}{N-1} $ or $ \\binom{N+M-2}{M-1} $. This formula calculates the number of unique combinations of R and D steps. As N and M increase, the values of these binomial coefficients grow quickly.\n",
        "\n",
        "5. **Exponential Growth**: The growth in the number of paths is not linear but rather factorial/exponential in nature. This is because each additional row or column adds a new layer of complexity and combinations.\n",
        "\n",
        "In summary, as the size of the matrix increases, the number of ways to reach the bottom-right corner grows rapidly due to the combinatorial nature of the problem and the exponential increase in possible paths. This growth is a key characteristic of problems involving permutations and combinations, and it illustrates how quickly complexity can increase with seemingly small changes in problem size.\n",
        "\n",
        "##Big $ O $:\n",
        "The Big $ O $ notation is used to describe the upper bound of the time complexity of an algorithm in terms of the size of its input. In the context of the dynamic programming solution to count the number of ways to reach the bottom-right corner of an N by M matrix, we can analyze the time complexity as follows:\n",
        "\n",
        "1. **Nested Loops**: The solution involves nested loops that iterate over the rows and columns of the matrix. The outer loop runs for N iterations (one for each row), and the inner loop runs for M iterations (one for each column).\n",
        "\n",
        "2. **Constant Time Operations**: Inside the inner loop, the algorithm performs a constant number of operations (specifically, the addition of two numbers).\n",
        "\n",
        "3. **Overall Complexity**: Since each cell of the matrix is visited exactly once and the work done per cell is constant, the total number of operations is proportional to the number of cells, which is N * M.\n",
        "\n",
        "Thus, the time complexity of this dynamic programming solution is $ O(N \\times M) $. This is a polynomial time complexity, and it scales linearly with the size of the matrix. In Big O notation, we're typically concerned with how the algorithm scales, so constants and lower-order terms are omitted, leading to the conclusion that the time complexity is $ O(NM) $."
      ],
      "metadata": {
        "id": "r1C2bFEJK2fF"
      }
    },
    {
      "cell_type": "code",
      "execution_count": 2,
      "metadata": {
        "colab": {
          "base_uri": "https://localhost:8080/"
        },
        "id": "oYw5jrm0KiBi",
        "outputId": "493d01d6-6ed8-46f9-e6e1-1e4625840aae"
      },
      "outputs": [
        {
          "output_type": "stream",
          "name": "stdout",
          "text": [
            "2\n",
            "70\n",
            "40116600\n"
          ]
        }
      ],
      "source": [
        "def count_ways(N, M):\n",
        "    # Initialize the dp array with zeros\n",
        "    dp = [[0 for _ in range(M)] for _ in range(N)]\n",
        "\n",
        "    # Set the number of ways to reach the cells in the first row and first column to 1\n",
        "    for i in range(N):\n",
        "        dp[i][0] = 1\n",
        "    for j in range(M):\n",
        "        dp[0][j] = 1\n",
        "\n",
        "    # Calculate the number of ways for each cell\n",
        "    for i in range(1, N):\n",
        "        for j in range(1, M):\n",
        "            dp[i][j] = dp[i-1][j] + dp[i][j-1]\n",
        "\n",
        "    return dp[N-1][M-1]\n",
        "\n",
        "# Example usage\n",
        "print(count_ways(2, 2))  # Should return 2\n",
        "print(count_ways(5, 5))  # Should return 70\n",
        "print(count_ways(15, 15))\n"
      ]
    }
  ]
}