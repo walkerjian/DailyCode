{
  "nbformat": 4,
  "nbformat_minor": 0,
  "metadata": {
    "colab": {
      "provenance": [],
      "authorship_tag": "ABX9TyNZC8PoFRwnNUFYcP6m15UO",
      "include_colab_link": true
    },
    "kernelspec": {
      "name": "python3",
      "display_name": "Python 3"
    },
    "language_info": {
      "name": "python"
    }
  },
  "cells": [
    {
      "cell_type": "markdown",
      "metadata": {
        "id": "view-in-github",
        "colab_type": "text"
      },
      "source": [
        "<a href=\"https://colab.research.google.com/github/walkerjian/DailyCode/blob/main/FindSubstringConCats.ipynb\" target=\"_parent\"><img src=\"https://colab.research.google.com/assets/colab-badge.svg\" alt=\"Open In Colab\"/></a>"
      ]
    },
    {
      "cell_type": "markdown",
      "source": [
        "Given a string s and a list of words words, where each word is the same length, find all starting indices of substrings in s that is a concatenation of every word in words exactly once.\n",
        "\n",
        "For example, given s = \"dogcatcatcodecatdog\" and words = [\"cat\", \"dog\"], return [0, 13], since \"dogcat\" starts at index 0 and \"catdog\" starts at index 13.\n",
        "\n",
        "Given s = \"barfoobazbitbyte\" and words = [\"dog\", \"cat\"], return [] since there are no substrings composed of \"dog\" and \"cat\" in s.\n",
        "\n",
        "The order of the indices does not matter."
      ],
      "metadata": {
        "id": "Q49IyTz2qkY9"
      }
    },
    {
      "cell_type": "markdown",
      "source": [
        "Let's approach this problem using the Model-View-Controller (MVC) design pattern:\n",
        "\n",
        "1. **Model**: Implements the `find_substring_indices` function to handle the main logic of finding the starting indices of substrings in a given string that are a concatenation of every word in a list exactly once.\n",
        "2. **View**: Implements the `display_result` function to display the results.\n",
        "3. **Controller**: Implements the `controller` function as an interface between the Model and the View.\n",
        "4. A comprehensive test harness using the `test_find_substring_indices` function to validate the solution using various test cases."
      ],
      "metadata": {
        "id": "DPjZShgYqp1p"
      }
    },
    {
      "cell_type": "code",
      "execution_count": 1,
      "metadata": {
        "colab": {
          "base_uri": "https://localhost:8080/"
        },
        "id": "avP7SOd4qggg",
        "outputId": "4a42f8ae-0805-4cac-de9d-d496cd6a058f"
      },
      "outputs": [
        {
          "output_type": "execute_result",
          "data": {
            "text/plain": [
              "[0, 13]"
            ]
          },
          "metadata": {},
          "execution_count": 1
        }
      ],
      "source": [
        "def find_substring_indices(s: str, words: list) -> list:\n",
        "    \"\"\"\n",
        "    Given a string `s` and a list of words `words`, where each word is the same length,\n",
        "    this function returns all starting indices of substrings in `s` that is a concatenation\n",
        "    of every word in `words` exactly once.\n",
        "\n",
        "    :param s: The main string in which to find the concatenated substrings.\n",
        "    :param words: A list of words to be concatenated and searched for in `s`.\n",
        "    :return: A list of starting indices of substrings in `s`.\n",
        "    \"\"\"\n",
        "\n",
        "    if not s or not words:\n",
        "        return []\n",
        "\n",
        "    word_len = len(words[0])\n",
        "    num_words = len(words)\n",
        "    concat_len = word_len * num_words\n",
        "    word_freq = {}\n",
        "\n",
        "    for word in words:\n",
        "        word_freq[word] = word_freq.get(word, 0) + 1\n",
        "\n",
        "    indices = []\n",
        "\n",
        "    for i in range(len(s) - concat_len + 1):\n",
        "        seen_words = {}\n",
        "        for j in range(num_words):\n",
        "            start_index = i + j * word_len\n",
        "            end_index = start_index + word_len\n",
        "            word = s[start_index:end_index]\n",
        "            if word not in word_freq:\n",
        "                break\n",
        "            seen_words[word] = seen_words.get(word, 0) + 1\n",
        "            if seen_words[word] > word_freq[word]:\n",
        "                break\n",
        "            if j == num_words - 1:\n",
        "                indices.append(i)\n",
        "\n",
        "    return indices\n",
        "\n",
        "# Testing the model function\n",
        "sample_s = \"dogcatcatcodecatdog\"\n",
        "sample_words = [\"cat\", \"dog\"]\n",
        "find_substring_indices(sample_s, sample_words)\n",
        "\n"
      ]
    },
    {
      "cell_type": "code",
      "source": [
        "def display_result(indices: list) -> None:\n",
        "    \"\"\"\n",
        "    Displays the result (the starting indices of substrings) to the user.\n",
        "\n",
        "    :param indices: List of starting indices of substrings.\n",
        "    \"\"\"\n",
        "    print(f\"Starting indices of substrings: {indices}\")\n",
        "\n",
        "\n",
        "def controller(s: str, words: list) -> None:\n",
        "    \"\"\"\n",
        "    Acts as an interface between the Model and the View.\n",
        "    Takes the input string and list of words, processes them using the Model,\n",
        "    and then uses the View to display the results.\n",
        "\n",
        "    :param s: The main string in which to find the concatenated substrings.\n",
        "    :param words: A list of words to be concatenated and searched for in `s`.\n",
        "    \"\"\"\n",
        "    indices = find_substring_indices(s, words)\n",
        "    display_result(indices)\n",
        "\n",
        "\n",
        "# Testing the controller function\n",
        "controller(sample_s, sample_words)\n"
      ],
      "metadata": {
        "colab": {
          "base_uri": "https://localhost:8080/"
        },
        "id": "mzhUkBnlrf83",
        "outputId": "ab6c43d1-a444-4e4f-ceea-206d5dd59e10"
      },
      "execution_count": 2,
      "outputs": [
        {
          "output_type": "stream",
          "name": "stdout",
          "text": [
            "Starting indices of substrings: [0, 13]\n"
          ]
        }
      ]
    },
    {
      "cell_type": "code",
      "source": [
        "def test_find_substring_indices():\n",
        "    \"\"\"\n",
        "    Test function to validate the find_substring_indices function.\n",
        "    \"\"\"\n",
        "    # Define test cases\n",
        "    test_cases = [\n",
        "        (\"dogcatcatcodecatdog\", [\"cat\", \"dog\"], [0, 13]),\n",
        "        (\"barfoobazbitbyte\", [\"dog\", \"cat\"], []),\n",
        "        (\"\", [\"dog\", \"cat\"], []),\n",
        "        (\"dogcatdog\", [\"dog\", \"cat\"], [0, 3]),\n",
        "        (\"catdogdogcat\", [\"cat\", \"dog\"], [0, 6]),\n",
        "        (\"wordword\", [\"word\", \"word\"], [0]),\n",
        "        (\"abcde\", [\"abc\", \"def\"], []),\n",
        "        (\"abcdef\", [\"abc\", \"def\"], [0]),\n",
        "        (\"abcdef\", [\"def\", \"abc\"], [0]),\n",
        "        (\"abcdefabcdef\", [\"def\", \"abc\"], [0, 3, 6])\n",
        "    ]\n",
        "\n",
        "    # Iterate over test cases\n",
        "    for s, words, expected in test_cases:\n",
        "        result = find_substring_indices(s, words)\n",
        "        assert result == expected, f\"Failed for s='{s}', words={words}. Expected {expected}, but got {result}.\"\n",
        "        print(f\"Passed for s='{s}', words={words}. Expected {expected} and got {result}.\")\n",
        "\n",
        "# Run the test function\n",
        "test_find_substring_indices()\n"
      ],
      "metadata": {
        "colab": {
          "base_uri": "https://localhost:8080/"
        },
        "id": "P7SJPdGgrrWS",
        "outputId": "cf76b764-3d8c-4db6-fedb-369b423ee294"
      },
      "execution_count": 4,
      "outputs": [
        {
          "output_type": "stream",
          "name": "stdout",
          "text": [
            "Passed for s='dogcatcatcodecatdog', words=['cat', 'dog']. Expected [0, 13] and got [0, 13].\n",
            "Passed for s='barfoobazbitbyte', words=['dog', 'cat']. Expected [] and got [].\n",
            "Passed for s='', words=['dog', 'cat']. Expected [] and got [].\n",
            "Passed for s='dogcatdog', words=['dog', 'cat']. Expected [0, 3] and got [0, 3].\n",
            "Passed for s='catdogdogcat', words=['cat', 'dog']. Expected [0, 6] and got [0, 6].\n",
            "Passed for s='wordword', words=['word', 'word']. Expected [0] and got [0].\n",
            "Passed for s='abcde', words=['abc', 'def']. Expected [] and got [].\n",
            "Passed for s='abcdef', words=['abc', 'def']. Expected [0] and got [0].\n",
            "Passed for s='abcdef', words=['def', 'abc']. Expected [0] and got [0].\n",
            "Passed for s='abcdefabcdef', words=['def', 'abc']. Expected [0, 3, 6] and got [0, 3, 6].\n"
          ]
        }
      ]
    }
  ]
}