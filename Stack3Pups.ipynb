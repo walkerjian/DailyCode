{
  "nbformat": 4,
  "nbformat_minor": 0,
  "metadata": {
    "colab": {
      "provenance": [],
      "authorship_tag": "ABX9TyPHLpnFW0whLroYdiTJmwnv",
      "include_colab_link": true
    },
    "kernelspec": {
      "name": "python3",
      "display_name": "Python 3"
    },
    "language_info": {
      "name": "python"
    }
  },
  "cells": [
    {
      "cell_type": "markdown",
      "metadata": {
        "id": "view-in-github",
        "colab_type": "text"
      },
      "source": [
        "<a href=\"https://colab.research.google.com/github/walkerjian/DailyCode/blob/main/Stack3Pups.ipynb\" target=\"_parent\"><img src=\"https://colab.research.google.com/assets/colab-badge.svg\" alt=\"Open In Colab\"/></a>"
      ]
    },
    {
      "cell_type": "markdown",
      "source": [
        "Implement 3 stacks using a single list:"
      ],
      "metadata": {
        "id": "aN3q-BOyzpFU"
      }
    },
    {
      "cell_type": "code",
      "execution_count": null,
      "metadata": {
        "id": "UZALWk-5ziKy"
      },
      "outputs": [],
      "source": [
        "class Stack:\n",
        "    def __init__(self):\n",
        "        self.list = []\n",
        "\n",
        "    def pop(self, stack_number):\n",
        "        pass\n",
        "\n",
        "    def push(self, item, stack_number):\n",
        "        pass"
      ]
    },
    {
      "cell_type": "code",
      "source": [
        "class Stack:\n",
        "    \"\"\"\n",
        "    A class that implements three separate stacks using a single list.\n",
        "\n",
        "    Attributes:\n",
        "        list (List): A list to hold all the elements for the three stacks.\n",
        "        tops (Dict): A dictionary to hold the top pointers for each stack.\n",
        "\n",
        "    Methods:\n",
        "        push(item, stack_number): Adds an item to the specified stack.\n",
        "        pop(stack_number): Removes and returns the top item from the specified stack.\n",
        "    \"\"\"\n",
        "    def __init__(self):\n",
        "        self.list = []\n",
        "        self.tops = {1: -1, 2: -1, 3: -1}  # Initialize top pointers for the three stacks\n",
        "\n",
        "    def push(self, item, stack_number):\n",
        "        \"\"\"\n",
        "        Pushes an item onto the specified stack.\n",
        "\n",
        "        Parameters:\n",
        "            item (Any): The item to be pushed onto the stack.\n",
        "            stack_number (int): The stack number (1, 2, or 3) to push the item onto.\n",
        "\n",
        "        Returns:\n",
        "            None\n",
        "        \"\"\"\n",
        "        # Calculate the index where the new item should be inserted\n",
        "        insert_index = self.tops[stack_number] + 1\n",
        "\n",
        "        # Insert the item at the calculated index\n",
        "        self.list.insert(insert_index, item)\n",
        "\n",
        "        # Update the top pointers for all stacks\n",
        "        for sn in range(stack_number, 4):\n",
        "            if self.tops[sn] >= insert_index - 1:\n",
        "                self.tops[sn] += 1\n",
        "\n",
        "    def pop(self, stack_number):\n",
        "        \"\"\"\n",
        "        Pops an item from the specified stack.\n",
        "\n",
        "        Parameters:\n",
        "            stack_number (int): The stack number (1, 2, or 3) to pop the item from.\n",
        "\n",
        "        Returns:\n",
        "            Any: The popped item from the stack, or None if the stack is empty.\n",
        "        \"\"\"\n",
        "        if self.tops[stack_number] == -1:\n",
        "            return None  # Stack is empty\n",
        "\n",
        "        # Retrieve the item from the top of the specified stack\n",
        "        pop_index = self.tops[stack_number]\n",
        "        item = self.list.pop(pop_index)\n",
        "\n",
        "        # Update the top pointers for all stacks\n",
        "        for sn in range(stack_number, 4):\n",
        "            if self.tops[sn] >= pop_index:\n",
        "                self.tops[sn] -= 1\n",
        "\n",
        "        return item\n",
        "\n",
        "def test_stacks():\n",
        "    stack = Stack()\n",
        "\n",
        "    # Various test cases to validate the implementation\n",
        "    stack.push(1, 1)\n",
        "    stack.push(2, 2)\n",
        "    stack.push(3, 3)\n",
        "    stack.push(4, 1)\n",
        "    stack.push(5, 2)\n",
        "    stack.push(6, 3)\n",
        "    assert stack.list == [1, 4, 2, 5, 3, 6]\n",
        "    assert stack.pop(1) == 4\n",
        "    assert stack.pop(2) == 5\n",
        "    assert stack.pop(3) == 6\n",
        "    assert stack.list == [1, 2, 3]\n",
        "    assert stack.pop(1) == 1\n",
        "    assert stack.pop(1) == None\n",
        "    assert stack.pop(2) == 2\n",
        "    assert stack.pop(2) == None\n",
        "    assert stack.pop(3) == 3\n",
        "    assert stack.pop(3) == None\n",
        "    assert stack.list == []\n",
        "\n",
        "    print(\"All test cases passed!\")\n",
        "\n",
        "# Run the test function\n",
        "test_stacks()\n"
      ],
      "metadata": {
        "colab": {
          "base_uri": "https://localhost:8080/"
        },
        "id": "UNZxVZHo27KQ",
        "outputId": "9a40b6c4-55b6-45be-8e9c-5b90bd14d39c"
      },
      "execution_count": 1,
      "outputs": [
        {
          "output_type": "stream",
          "name": "stdout",
          "text": [
            "All test cases passed!\n"
          ]
        }
      ]
    },
    {
      "cell_type": "code",
      "source": [
        "class Stack:\n",
        "    \"\"\"\n",
        "    A class that implements three separate stacks using a single list.\n",
        "\n",
        "    Attributes:\n",
        "        list (List): A list to hold all the elements for the three stacks.\n",
        "        tops (Dict): A dictionary to hold the top pointers for each stack.\n",
        "\n",
        "    Methods:\n",
        "        pup(stack_number, item=None): Performs either push or pop based on the method signature.\n",
        "    \"\"\"\n",
        "    def __init__(self):\n",
        "        self.list = []\n",
        "        self.tops = {1: -1, 2: -1, 3: -1}  # Initialize top pointers for the three stacks\n",
        "\n",
        "    def pup(self, stack_number, item=None):\n",
        "        \"\"\"\n",
        "        Performs either push or pop based on the method signature.\n",
        "\n",
        "        Parameters:\n",
        "            stack_number (int): The stack number (1, 2, or 3).\n",
        "            item (Any, optional): The item to be pushed. If None, performs a pop.\n",
        "\n",
        "        Returns:\n",
        "            Any: The popped item from the stack if a pop operation, or None otherwise.\n",
        "        \"\"\"\n",
        "        index = self.tops[stack_number]  # Index for either push or pop\n",
        "        result = None  # Result to be returned\n",
        "\n",
        "        # Perform the push or pop operation and update the index accordingly\n",
        "        if item is None:  # Pop\n",
        "            if index == -1:\n",
        "                return None  # Stack is empty\n",
        "            result = self.list.pop(index)\n",
        "            index_change = -1\n",
        "        else:  # Push\n",
        "            index += 1  # Update index for push operation\n",
        "            self.list.insert(index, item)\n",
        "            index_change = 1\n",
        "\n",
        "        # Update the top pointers for all stacks\n",
        "        for sn in range(stack_number, 4):\n",
        "            if (index_change == 1 and self.tops[sn] >= index - 1) or (index_change == -1 and self.tops[sn] >= index):\n",
        "                self.tops[sn] += index_change\n",
        "\n",
        "        return result\n",
        "\n",
        "# Test function for the new 'pup' method\n",
        "def test_stacks():\n",
        "    stack = Stack()\n",
        "\n",
        "    # Test cases for pup (push)\n",
        "    assert stack.pup(1, 1) == None\n",
        "    assert stack.pup(2, 2) == None\n",
        "    assert stack.pup(3, 3) == None\n",
        "    assert stack.list == [1, 2, 3]\n",
        "\n",
        "    # Test cases for pup (pop)\n",
        "    assert stack.pup(1) == 1\n",
        "    assert stack.pup(2) == 2\n",
        "    assert stack.pup(3) == 3\n",
        "    assert stack.list == []\n",
        "\n",
        "    # Test cases for pup (pop from empty stack)\n",
        "    assert stack.pup(1) == None\n",
        "    assert stack.pup(2) == None\n",
        "    assert stack.pup(3) == None\n",
        "    assert stack.list == []\n",
        "\n",
        "    print(\"All test cases passed!\")\n",
        "\n",
        "# Run the test function\n",
        "test_stacks()\n"
      ],
      "metadata": {
        "colab": {
          "base_uri": "https://localhost:8080/"
        },
        "id": "MqjFLOW87vXz",
        "outputId": "cbd255f3-91d5-4ca1-df58-b656e152516d"
      },
      "execution_count": 2,
      "outputs": [
        {
          "output_type": "stream",
          "name": "stdout",
          "text": [
            "All test cases passed!\n"
          ]
        }
      ]
    },
    {
      "cell_type": "code",
      "source": [
        "# Single for loop optimized version of the Stack class with corrected tops updating\n",
        "class Stack:\n",
        "    def __init__(self):\n",
        "        self.list = []\n",
        "        self.tops = {1: -1, 2: -1, 3: -1}\n",
        "\n",
        "    def pup(self, stack_number, item=None):\n",
        "        index = self.tops[stack_number]\n",
        "        index_change = 0  # Initialize index_change to zero\n",
        "\n",
        "        # Determine operation type and perform it\n",
        "        if item is None:  # Pop\n",
        "            if index == -1:\n",
        "                return None  # Stack is empty\n",
        "            popped_item = self.list.pop(index)\n",
        "            index_change = -1  # Update index_change for pop\n",
        "            result = popped_item  # Result is the popped item\n",
        "        else:  # Push\n",
        "            index += 1\n",
        "            self.list.insert(index, item)\n",
        "            index_change = 1  # Update index_change for push\n",
        "            result = None  # Result is None for push\n",
        "\n",
        "        # Single for loop to update the top pointers for all stacks\n",
        "        for sn in range(stack_number, 4):\n",
        "            if (index_change == 1 and self.tops[sn] >= index - 1) or (index_change == -1 and self.tops[sn] >= index):\n",
        "                self.tops[sn] += index_change\n",
        "\n",
        "        # Special handling for empty stacks\n",
        "        if self.list.count(item) == 0:\n",
        "            self.tops[stack_number] = -1\n",
        "        else:\n",
        "            self.tops[stack_number] = index  # Update top pointer for the current stack\n",
        "\n",
        "        return result\n",
        "\n",
        "# Run the test function\n",
        "test_stacks()\n"
      ],
      "metadata": {
        "colab": {
          "base_uri": "https://localhost:8080/"
        },
        "id": "in8dsgoJ8G26",
        "outputId": "a1e017d3-1405-4557-dc09-14686515e9f2"
      },
      "execution_count": 3,
      "outputs": [
        {
          "output_type": "stream",
          "name": "stdout",
          "text": [
            "All test cases passed!\n"
          ]
        }
      ]
    }
  ]
}