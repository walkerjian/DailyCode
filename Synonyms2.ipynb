{
  "nbformat": 4,
  "nbformat_minor": 0,
  "metadata": {
    "colab": {
      "provenance": [],
      "authorship_tag": "ABX9TyMQfeXgoBgzPtZaX2Gr07P9",
      "include_colab_link": true
    },
    "kernelspec": {
      "name": "python3",
      "display_name": "Python 3"
    },
    "language_info": {
      "name": "python"
    }
  },
  "cells": [
    {
      "cell_type": "markdown",
      "metadata": {
        "id": "view-in-github",
        "colab_type": "text"
      },
      "source": [
        "<a href=\"https://colab.research.google.com/github/walkerjian/DailyCode/blob/main/Synonyms2.ipynb\" target=\"_parent\"><img src=\"https://colab.research.google.com/assets/colab-badge.svg\" alt=\"Open In Colab\"/></a>"
      ]
    },
    {
      "cell_type": "code",
      "execution_count": 1,
      "metadata": {
        "id": "R8HyBMWbJijG"
      },
      "outputs": [],
      "source": [
        "import string\n",
        "\n",
        "def are_sentences_equivalent(synonyms, sentence1, sentence2):\n",
        "    \"\"\"\n",
        "    This function determines if two sentences with the same number of words are equivalent based on a given set of synonyms.\n",
        "\n",
        "    The synonyms are provided as a list of tuples, where each tuple contains two words that are considered synonyms.\n",
        "    For example, (\"big\", \"large\") indicates that \"big\" and \"large\" are synonyms.\n",
        "\n",
        "    The sentences are provided as strings. The function assumes that a sentence is a sequence of words separated by spaces.\n",
        "\n",
        "    The function returns True if the sentences are equivalent and False otherwise.\n",
        "\n",
        "    A sentence is considered equivalent to another if each word in the first sentence is either the same as or a synonym of the corresponding word in the second sentence.\n",
        "\n",
        "    Note that this implementation does not assume transitivity of synonyms. That is, if (a, b) and (a, c) are pairs of synonyms, this does not imply that b and c are synonyms.\n",
        "\n",
        "    Parameters:\n",
        "    synonyms (list of tuples): The list of synonyms. Each synonym is a tuple of two strings.\n",
        "    sentence1 (str): The first sentence.\n",
        "    sentence2 (str): The second sentence.\n",
        "\n",
        "    Returns:\n",
        "    bool: True if the sentences are equivalent, False otherwise.\n",
        "\n",
        "    Example:\n",
        "\n",
        "    >>> synonyms = [(\"big\", \"large\"), (\"eat\", \"consume\")]\n",
        "    >>> sentence1 = \"He wants to eat food.\"\n",
        "    >>> sentence2 = \"He wants to consume food.\"\n",
        "    >>> are_sentences_equivalent(synonyms, sentence1, sentence2)\n",
        "    True\n",
        "    \"\"\"\n",
        "\n",
        "    # Create a mapping of synonyms\n",
        "    synonym_map = {}\n",
        "    for word1, word2 in synonyms:\n",
        "        if word1 not in synonym_map:\n",
        "            synonym_map[word1] = set()\n",
        "        if word2 not in synonym_map:\n",
        "            synonym_map[word2] = set()\n",
        "        synonym_map[word1].add(word2)\n",
        "        synonym_map[word2].add(word1)\n",
        "\n",
        "    # Normalize sentences\n",
        "    sentence1 = sentence1.lower().translate(str.maketrans('', '', string.punctuation)).split()\n",
        "    sentence2 = sentence2.lower().translate(str.maketrans('', '', string.punctuation)).split()\n",
        "\n",
        "    # Compare sentences\n",
        "    if len(sentence1) != len(sentence2):\n",
        "        return False\n",
        "\n",
        "    for word1, word2 in zip(sentence1, sentence2):\n",
        "        if word1 != word2 and (word1 not in synonym_map or word2 not in synonym_map or word2 not in synonym_map[word1] and word1 not in synonym_map[word2]):\n",
        "            return False\n",
        "\n",
        "    return True\n",
        "\n",
        "# Test cases\n",
        "assert are_sentences_equivalent([(\"big\", \"large\"), (\"eat\", \"consume\")], \"He wants to eat food.\", \"He wants to consume food.\") == True\n",
        "assert are_sentences_equivalent([(\"big\", \"large\"), (\"eat\", \"consume\")], \"He wants to consume food.\", \"He wants to eat food.\") == True\n",
        "assert are_sentences_equivalent([(\"big\", \"large\"), (\"eat\", \"consume\")], \"He wants to consume food.\", \"He wants to eat a big meal.\") == False\n",
        "assert are_sentences_equivalent([(\"big\", \"large\"), (\"eat\", \"consume\"), (\"meal\", \"food\")], \"He wants to consume food.\", \"He wants to eat a big meal.\") == False\n",
        "assert are_sentences_equivalent([(\"big\", \"large\"), (\"eat\", \"consume\"), (\"meal\", \"food\")], \"He wants to consume a large meal.\", \"He wants to eat a big food.\") == True\n",
        "assert are_sentences_equivalent([(\"big\", \"large\"), (\"eat\", \"consume\")], \"He wants to consume food.\", \"He wants to food.\") == False\n",
        "assert are_sentences_equivalent([(\"big\", \"large\"), (\"eat\", \"consume\")], \"He wants to consume food.\", \"He wants to eat.\") == False\n"
      ]
    },
    {
      "cell_type": "code",
      "source": [
        "# Test cases\n",
        "assert are_sentences_equivalent([(\"big\", \"large\"), (\"eat\", \"consume\")], \"He wants to eat food.\", \"He wants to consume food.\") == True\n",
        "assert are_sentences_equivalent([(\"big\", \"large\"), (\"eat\", \"consume\")], \"He wants to consume food.\", \"He wants to eat food.\") == True\n",
        "assert are_sentences_equivalent([(\"big\", \"large\"), (\"eat\", \"consume\")], \"He wants to consume food.\", \"He wants to eat a big meal.\") == False\n",
        "assert are_sentences_equivalent([(\"big\", \"large\"), (\"eat\", \"consume\"), (\"meal\", \"food\")], \"He wants to consume food.\", \"He wants to eat a big meal.\") == False\n",
        "assert are_sentences_equivalent([(\"big\", \"large\"), (\"eat\", \"consume\"), (\"meal\", \"food\")], \"He wants to consume a large meal.\", \"He wants to eat a big food.\") == True\n",
        "assert are_sentences_equivalent([(\"big\", \"large\"), (\"eat\", \"consume\")], \"He wants to consume food.\", \"He wants to food.\") == False\n",
        "assert are_sentences_equivalent([(\"big\", \"large\"), (\"eat\", \"consume\")], \"He wants to consume food.\", \"He wants to eat.\") == False"
      ],
      "metadata": {
        "id": "2B29dp5xJu_Q"
      },
      "execution_count": 2,
      "outputs": []
    },
    {
      "cell_type": "code",
      "source": [
        "def test_are_sentences_equivalent():\n",
        "    \"\"\"\n",
        "    This function runs tests on the are_sentences_equivalent function and prints out the results.\n",
        "    \"\"\"\n",
        "    test_cases = [\n",
        "        # Test cases are (synonyms, sentence1, sentence2, expected_result)\n",
        "        ([(\"big\", \"large\"), (\"eat\", \"consume\")], \"He wants to eat food.\", \"He wants to consume food.\", True),\n",
        "        ([(\"big\", \"large\"), (\"eat\", \"consume\")], \"He wants to consume food.\", \"He wants to eat food.\", True),\n",
        "        ([(\"big\", \"large\"), (\"eat\", \"consume\")], \"He wants to consume food.\", \"He wants to eat a big meal.\", False),\n",
        "        ([(\"big\", \"large\"), (\"eat\", \"consume\"), (\"meal\", \"food\")], \"He wants to consume food.\", \"He wants to eat a big meal.\", False),\n",
        "        ([(\"big\", \"large\"), (\"eat\", \"consume\"), (\"meal\", \"food\")], \"He wants to consume a large meal.\", \"He wants to eat a big food.\", True),\n",
        "        ([(\"big\", \"large\"), (\"eat\", \"consume\")], \"He wants to consume food.\", \"He wants to food.\", False),\n",
        "        ([(\"big\", \"large\"), (\"eat\", \"consume\")], \"He wants to consume food.\", \"He wants to eat.\", False),\n",
        "    ]\n",
        "\n",
        "    for i, (synonyms, sentence1, sentence2, expected_result) in enumerate(test_cases):\n",
        "        result = are_sentences_equivalent(synonyms, sentence1, sentence2)\n",
        "        print(f\"Test case {i+1}:\")\n",
        "        print(f\"Synonyms: {synonyms}\")\n",
        "        print(f\"Sentence 1: {sentence1}\")\n",
        "        print(f\"Sentence 2: {sentence2}\")\n",
        "        print(f\"Expected result: {expected_result}\")\n",
        "        print(f\"Actual result: {result}\")\n",
        "        print(f\"Test pass: {expected_result == result}\")\n",
        "        print(\"---\")\n",
        "\n",
        "test_are_sentences_equivalent()\n"
      ],
      "metadata": {
        "colab": {
          "base_uri": "https://localhost:8080/"
        },
        "id": "PhKLQA7JKrXe",
        "outputId": "9d22db09-1beb-4511-ac7b-68d8fc3d924a"
      },
      "execution_count": 3,
      "outputs": [
        {
          "output_type": "stream",
          "name": "stdout",
          "text": [
            "Test case 1:\n",
            "Synonyms: [('big', 'large'), ('eat', 'consume')]\n",
            "Sentence 1: He wants to eat food.\n",
            "Sentence 2: He wants to consume food.\n",
            "Expected result: True\n",
            "Actual result: True\n",
            "Test pass: True\n",
            "---\n",
            "Test case 2:\n",
            "Synonyms: [('big', 'large'), ('eat', 'consume')]\n",
            "Sentence 1: He wants to consume food.\n",
            "Sentence 2: He wants to eat food.\n",
            "Expected result: True\n",
            "Actual result: True\n",
            "Test pass: True\n",
            "---\n",
            "Test case 3:\n",
            "Synonyms: [('big', 'large'), ('eat', 'consume')]\n",
            "Sentence 1: He wants to consume food.\n",
            "Sentence 2: He wants to eat a big meal.\n",
            "Expected result: False\n",
            "Actual result: False\n",
            "Test pass: True\n",
            "---\n",
            "Test case 4:\n",
            "Synonyms: [('big', 'large'), ('eat', 'consume'), ('meal', 'food')]\n",
            "Sentence 1: He wants to consume food.\n",
            "Sentence 2: He wants to eat a big meal.\n",
            "Expected result: False\n",
            "Actual result: False\n",
            "Test pass: True\n",
            "---\n",
            "Test case 5:\n",
            "Synonyms: [('big', 'large'), ('eat', 'consume'), ('meal', 'food')]\n",
            "Sentence 1: He wants to consume a large meal.\n",
            "Sentence 2: He wants to eat a big food.\n",
            "Expected result: True\n",
            "Actual result: True\n",
            "Test pass: True\n",
            "---\n",
            "Test case 6:\n",
            "Synonyms: [('big', 'large'), ('eat', 'consume')]\n",
            "Sentence 1: He wants to consume food.\n",
            "Sentence 2: He wants to food.\n",
            "Expected result: False\n",
            "Actual result: False\n",
            "Test pass: True\n",
            "---\n",
            "Test case 7:\n",
            "Synonyms: [('big', 'large'), ('eat', 'consume')]\n",
            "Sentence 1: He wants to consume food.\n",
            "Sentence 2: He wants to eat.\n",
            "Expected result: False\n",
            "Actual result: False\n",
            "Test pass: True\n",
            "---\n"
          ]
        }
      ]
    }
  ]
}