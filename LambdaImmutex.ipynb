{
  "nbformat": 4,
  "nbformat_minor": 0,
  "metadata": {
    "colab": {
      "provenance": [],
      "authorship_tag": "ABX9TyPJyLRfpPjpc3Xro94eqA5U",
      "include_colab_link": true
    },
    "kernelspec": {
      "name": "python3",
      "display_name": "Python 3"
    },
    "language_info": {
      "name": "python"
    }
  },
  "cells": [
    {
      "cell_type": "markdown",
      "metadata": {
        "id": "view-in-github",
        "colab_type": "text"
      },
      "source": [
        "<a href=\"https://colab.research.google.com/github/walkerjian/DailyCode/blob/main/LambdaImmutex.ipynb\" target=\"_parent\"><img src=\"https://colab.research.google.com/assets/colab-badge.svg\" alt=\"Open In Colab\"/></a>"
      ]
    },
    {
      "cell_type": "markdown",
      "source": [
        "##Problem:\n",
        "What does the code snippet below print out? How can we fix the anonymous functions to behave as we'd expect?\n",
        "```python\n",
        "functions = []\n",
        "for i in range(10):\n",
        "    functions.append(lambda : i)\n",
        "\n",
        "for f in functions:\n",
        "    print(f())\n",
        "```"
      ],
      "metadata": {
        "id": "JwLom39jcPzj"
      }
    },
    {
      "cell_type": "markdown",
      "source": [
        "The given code snippet will print out the number `9` ten times. This happens because the lambda function captures the variable `i` by reference, not by value. At the end of the loop, `i` is `9`, so every function in the `functions` list will return `9`.\n",
        "\n"
      ],
      "metadata": {
        "id": "NpC-jF-ccS2U"
      }
    },
    {
      "cell_type": "code",
      "source": [
        "functions = []\n",
        "for i in range(10):\n",
        "    functions.append(lambda: i)\n",
        "\n",
        "for f in functions:\n",
        "    print(f())"
      ],
      "metadata": {
        "colab": {
          "base_uri": "https://localhost:8080/"
        },
        "id": "3mf5Jg_OccIl",
        "outputId": "90e87a85-e843-4a09-f3ae-e6107b628536"
      },
      "execution_count": 2,
      "outputs": [
        {
          "output_type": "stream",
          "name": "stdout",
          "text": [
            "9\n",
            "9\n",
            "9\n",
            "9\n",
            "9\n",
            "9\n",
            "9\n",
            "9\n",
            "9\n",
            "9\n"
          ]
        }
      ]
    },
    {
      "cell_type": "markdown",
      "source": [
        "##Solution:\n",
        "To fix the lambda functions to behave as expected (i.e., to return increasing numbers from `0` to `9`), we need to pass `i` as a default argument to the lambda. This way, each lambda captures its own copy of the current value of `i`."
      ],
      "metadata": {
        "id": "DiMU66y7cvA7"
      }
    },
    {
      "cell_type": "markdown",
      "source": [
        "\n",
        "##Implementation:"
      ],
      "metadata": {
        "id": "gGbFUkpEdHMT"
      }
    },
    {
      "cell_type": "code",
      "execution_count": 1,
      "metadata": {
        "colab": {
          "base_uri": "https://localhost:8080/"
        },
        "id": "iAuwmCcEcNwF",
        "outputId": "955e685c-09a4-4408-c4b3-99686b49065f"
      },
      "outputs": [
        {
          "output_type": "stream",
          "name": "stdout",
          "text": [
            "0\n",
            "1\n",
            "2\n",
            "3\n",
            "4\n",
            "5\n",
            "6\n",
            "7\n",
            "8\n",
            "9\n"
          ]
        }
      ],
      "source": [
        "functions = []\n",
        "for i in range(10):\n",
        "    functions.append(lambda i=i: i)\n",
        "\n",
        "for f in functions:\n",
        "    print(f())\n"
      ]
    }
  ]
}