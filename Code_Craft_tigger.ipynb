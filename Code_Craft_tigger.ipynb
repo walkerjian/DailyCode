{
  "nbformat": 4,
  "nbformat_minor": 0,
  "metadata": {
    "colab": {
      "provenance": [],
      "authorship_tag": "ABX9TyOSAP0CeHGnrpZ9MHnpJN3g",
      "include_colab_link": true
    },
    "kernelspec": {
      "name": "python3",
      "display_name": "Python 3"
    },
    "language_info": {
      "name": "python"
    }
  },
  "cells": [
    {
      "cell_type": "markdown",
      "metadata": {
        "id": "view-in-github",
        "colab_type": "text"
      },
      "source": [
        "<a href=\"https://colab.research.google.com/github/walkerjian/DailyCode/blob/main/Code_Craft_tigger.ipynb\" target=\"_parent\"><img src=\"https://colab.research.google.com/assets/colab-badge.svg\" alt=\"Open In Colab\"/></a>"
      ]
    },
    {
      "cell_type": "markdown",
      "source": [
        "##Problem:\n",
        "Given a function f, and N return a debounced f of N milliseconds.\n",
        "\n",
        "That is, as long as the debounced f continues to be invoked, f itself will not be called for N milliseconds."
      ],
      "metadata": {
        "id": "MdZGOH9hrlgq"
      }
    },
    {
      "cell_type": "markdown",
      "source": [
        "##Solution:\n",
        "- **Debounce Mechanism**: The `debounce` function is designed to limit how often a particular function (in this case, `onKeyPress`) can be executed. It does this by checking the time elapsed since the last successful function call.\n",
        "  \n",
        "- **Debounce Time**: We set the debounce time to 1000 milliseconds (1 second). This means that once `onKeyPress` is called, it cannot be called again until 1 second has passed, regardless of how many times the debounce function is invoked.\n",
        "\n",
        "- **Simulated Key Press**: The `main` loop alternates between simulating a key press and pausing. This is done to demonstrate the debounce functionality clearly.\n",
        "  \n",
        "  - When simulating a key press (`debounce(onKeyPress, DEBOUNCE_TIME)`), it checks if the required time interval has passed since the last call. If not, it prints \"Debounce block\".\n",
        "  \n",
        "  - The program then pauses for 2 seconds (`usleep(2000000)`), allowing enough time for the debounce interval to reset.\n",
        "\n",
        "- **Output**: The console will display \"Key Pressed\" when the debounce interval has elapsed and the function is successfully called, and \"Debounce block\" when subsequent calls within the interval are blocked.\n",
        "\n",
        "- **Icelandic Phrase Comment**: For a touch of humor and to express the frustration one might feel during debugging, the Icelandic phrase \"Skítur og skrambi, vitið er í krambi!\" is included as a comment. This translates to \"Crap and clutter, my brain's in a gutter!\", fitting the context of troubleshooting and debugging."
      ],
      "metadata": {
        "id": "iIByAEiyrsGq"
      }
    },
    {
      "cell_type": "code",
      "execution_count": 27,
      "metadata": {
        "colab": {
          "base_uri": "https://localhost:8080/"
        },
        "id": "BZbtv6eZnq8B",
        "outputId": "90801976-5284-477e-b0fa-bc3a87dc8b7d"
      },
      "outputs": [
        {
          "output_type": "stream",
          "name": "stdout",
          "text": [
            "Overwriting tigger.c\n"
          ]
        }
      ],
      "source": [
        "%%writefile tigger.c\n",
        "#include <stdio.h>\n",
        "#include <time.h>\n",
        "#include <stdlib.h>\n",
        "#include <unistd.h>\n",
        "\n",
        "#define DEBOUNCE_TIME 1000 // Debounce time in milliseconds\n",
        "\n",
        "void onKeyPress() {\n",
        "    printf(\"Key Pressed\\n\");\n",
        "}\n",
        "\n",
        "void debounce(void (*func)(), unsigned long interval) {\n",
        "    static unsigned long last_time = 0;\n",
        "    unsigned long current_time = clock();\n",
        "\n",
        "    if ((current_time - last_time) > interval * (CLOCKS_PER_SEC / 1000)) {\n",
        "        func();\n",
        "        last_time = current_time;\n",
        "    } else {\n",
        "        printf(\"Debounce block\\n\");\n",
        "        // Icelandic frustration: \"Skítur og skrambi, vitið er í krambi!\"\n",
        "    }\n",
        "}\n",
        "\n",
        "int main() {\n",
        "    while(1) {\n",
        "        // Simulate a key press\n",
        "        printf(\"Simulating key press...\\n\");\n",
        "        debounce(onKeyPress, DEBOUNCE_TIME);\n",
        "\n",
        "        // Sleep for a short duration to simulate rapid key presses\n",
        "        usleep(500000); // Sleep for 500 milliseconds\n",
        "\n",
        "        // Simulate a pause (no key press)\n",
        "        printf(\"Pausing...\\n\");\n",
        "        usleep(2000000); // Sleep for 2 seconds to allow debounce timer to reset\n",
        "    }\n",
        "\n",
        "    return 0;\n",
        "}\n"
      ]
    },
    {
      "cell_type": "code",
      "source": [
        "!gcc tigger.c -o tigger\n"
      ],
      "metadata": {
        "id": "i3JUd4inn3qb"
      },
      "execution_count": 28,
      "outputs": []
    },
    {
      "cell_type": "code",
      "source": [
        "!./tigger"
      ],
      "metadata": {
        "colab": {
          "base_uri": "https://localhost:8080/"
        },
        "id": "97aW6j1moBT8",
        "outputId": "cd5dfe23-bcfd-4a9c-9f48-4c9a650b585e"
      },
      "execution_count": 29,
      "outputs": [
        {
          "output_type": "stream",
          "name": "stdout",
          "text": [
            "Simulating key press...\n",
            "Debounce block\n",
            "Pausing...\n",
            "Simulating key press...\n",
            "Debounce block\n",
            "Pausing...\n",
            "Simulating key press...\n",
            "Debounce block\n",
            "Pausing...\n",
            "Simulating key press...\n",
            "Debounce block\n",
            "Pausing...\n",
            "Simulating key press...\n",
            "Debounce block\n",
            "Pausing...\n",
            "Simulating key press...\n",
            "Debounce block\n",
            "Pausing...\n",
            "^C\n"
          ]
        }
      ]
    },
    {
      "cell_type": "markdown",
      "source": [
        "##Debugging hardware:\n",
        "Icelandic, known for its poetic and ancient roots, lends itself well to creative expressions and is ideal for expressing the nuances of hardware debugging:\n",
        "\n",
        "- **\"Skítur og skrambi, vitið er í krambi!\"**\n",
        "  - Translation: \"Crap and clutter, my brain's in a gutter!\"\n",
        "  \n",
        "This phrase, while playful and rhyming, captures the feeling of frustration and confusion one might feel during difficult debugging sessions. It's a more elaborate way to express that things are a bit messy and chaotic, which is often the case in the world of programming and troubleshooting. Remember, such phrases are best used in light-hearted or informal settings."
      ],
      "metadata": {
        "id": "Xgzado52sju-"
      }
    }
  ]
}