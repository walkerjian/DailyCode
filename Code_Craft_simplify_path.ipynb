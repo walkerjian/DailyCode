{
  "nbformat": 4,
  "nbformat_minor": 0,
  "metadata": {
    "colab": {
      "provenance": [],
      "authorship_tag": "ABX9TyP1l86F/ddzwt+pFEBySsg5",
      "include_colab_link": true
    },
    "kernelspec": {
      "name": "python3",
      "display_name": "Python 3"
    },
    "language_info": {
      "name": "python"
    }
  },
  "cells": [
    {
      "cell_type": "markdown",
      "metadata": {
        "id": "view-in-github",
        "colab_type": "text"
      },
      "source": [
        "<a href=\"https://colab.research.google.com/github/walkerjian/DailyCode/blob/main/Code_Craft_simplify_path.ipynb\" target=\"_parent\"><img src=\"https://colab.research.google.com/assets/colab-badge.svg\" alt=\"Open In Colab\"/></a>"
      ]
    },
    {
      "cell_type": "markdown",
      "source": [
        "#Problem:\n",
        "Given an absolute pathname that may have . or .. as part of it, return the shortest standardized path.\n",
        "\n",
        "For example, given \"/usr/bin/../bin/./scripts/../\", return \"/usr/bin/\"."
      ],
      "metadata": {
        "id": "tH7CkhIN6Ovd"
      }
    },
    {
      "cell_type": "markdown",
      "source": [
        "##Solution:\n",
        "To solve this problem, we can simulate the navigation through a filesystem path while respecting the special directories `.` and `..`. The idea is to interpret the path using a stack data structure:\n",
        "\n",
        "1. **`.`** signifies the current directory and has no effect on the path.\n",
        "2. **`..`** signifies moving up to the parent directory. If present, we pop the last directory from our stack, provided the stack isn't empty.\n",
        "3. Any other string between slashes is treated as a directory name and pushed onto the stack.\n",
        "\n",
        "We start by splitting the path by slashes (`/`) and process each part according to the rules above. After processing all parts, the resultant stack will contain the directories in the order from root to the final directory. Concatenating them will give the standardized path.\n"
      ],
      "metadata": {
        "id": "itQ9Rbxe6Twn"
      }
    },
    {
      "cell_type": "markdown",
      "source": [
        "##Implementation:\n",
        "This function handles each directory token in the path by:\n",
        "- Ignoring empty tokens and `.` which do not affect the path.\n",
        "- Popping the stack for `..` to move up a directory.\n",
        "- Pushing valid directory names onto the stack.\n",
        "\n",
        "The result is formed by joining all elements in the stack, ensuring it starts with a leading slash to represent the root directory. This method efficiently simplifies the path to its shortest form."
      ],
      "metadata": {
        "id": "Cb3P4iVt6W-J"
      }
    },
    {
      "cell_type": "code",
      "source": [
        "def simplify_path(path):\n",
        "    # Split the path by slashes and initialize a stack\n",
        "    parts = path.split(\"/\")\n",
        "    stack = []\n",
        "\n",
        "    # Process each part of the split path\n",
        "    for part in parts:\n",
        "        if part == \"..\":\n",
        "            if stack:\n",
        "                stack.pop()  # Move up one directory (pop the stack) if not at the root\n",
        "        elif part and part != \".\":\n",
        "            stack.append(part)  # Push the current directory to the stack\n",
        "\n",
        "    # Create the simplified path by joining parts in the stack with slashes\n",
        "    return \"/\" + \"/\".join(stack)"
      ],
      "metadata": {
        "id": "lve1Yewi6N4N"
      },
      "execution_count": 1,
      "outputs": []
    },
    {
      "cell_type": "markdown",
      "source": [
        "##Testing:"
      ],
      "metadata": {
        "id": "rmascGp76a_Q"
      }
    },
    {
      "cell_type": "code",
      "execution_count": 2,
      "metadata": {
        "id": "kVX9PbNY6M7_",
        "colab": {
          "base_uri": "https://localhost:8080/"
        },
        "outputId": "3e2488ce-bf59-4857-fafa-b0b624718148"
      },
      "outputs": [
        {
          "output_type": "stream",
          "name": "stdout",
          "text": [
            "/usr/bin\n"
          ]
        }
      ],
      "source": [
        "path = \"/usr/bin/../bin/./scripts/../\"\n",
        "simplified_path = simplify_path(path)\n",
        "print(simplified_path)  # Output: /usr/bin/\n"
      ]
    }
  ]
}