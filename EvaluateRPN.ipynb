{
  "nbformat": 4,
  "nbformat_minor": 0,
  "metadata": {
    "colab": {
      "provenance": [],
      "authorship_tag": "ABX9TyM2SICbDGrMi9VBIeqtNtVy",
      "include_colab_link": true
    },
    "kernelspec": {
      "name": "python3",
      "display_name": "Python 3"
    },
    "language_info": {
      "name": "python"
    }
  },
  "cells": [
    {
      "cell_type": "markdown",
      "metadata": {
        "id": "view-in-github",
        "colab_type": "text"
      },
      "source": [
        "<a href=\"https://colab.research.google.com/github/walkerjian/DailyCode/blob/main/EvaluateRPN.ipynb\" target=\"_parent\"><img src=\"https://colab.research.google.com/assets/colab-badge.svg\" alt=\"Open In Colab\"/></a>"
      ]
    },
    {
      "cell_type": "code",
      "execution_count": 1,
      "metadata": {
        "colab": {
          "base_uri": "https://localhost:8080/"
        },
        "id": "F-WL1H7RpM-h",
        "outputId": "07103982-752d-4123-97ac-21a4cd061ef2"
      },
      "outputs": [
        {
          "output_type": "stream",
          "name": "stdout",
          "text": [
            "All test cases pass\n"
          ]
        }
      ],
      "source": [
        "def evaluate_rpn(expression):\n",
        "    \"\"\"\n",
        "    This function evaluates an arithmetic expression in Reverse Polish Notation (RPN).\n",
        "    RPN is a mathematical notation in which every operator follows all of its operands.\n",
        "    This function uses a stack to keep track of the numbers in the expression, and when it encounters\n",
        "    an operator, it pops the necessary number of operands from the stack, performs the operation, and pushes\n",
        "    the result back onto the stack.\n",
        "\n",
        "    Args:\n",
        "        expression (list): A list of integers and arithmetic operators in Reverse Polish Notation.\n",
        "\n",
        "    Returns:\n",
        "        int: The result of evaluating the expression.\n",
        "\n",
        "    Example:\n",
        "        >>> evaluate_rpn([5, 3, '+'])\n",
        "        8\n",
        "\n",
        "        >>> evaluate_rpn([15, 7, 1, 1, '+', '-', '/', 3, '*', 2, 1, 1, '+', '+', '-'])\n",
        "        5\n",
        "\n",
        "    Notes:\n",
        "        The given expression is always valid, that means there are always enough operands for each operator,\n",
        "        and there are no other characters other than integers and '+', '-', '*', '/'.\n",
        "    \"\"\"\n",
        "\n",
        "    stack = []\n",
        "\n",
        "    # Define the four basic arithmetic operations\n",
        "    operations = {\n",
        "        '+': lambda a, b: a + b,\n",
        "        '-': lambda a, b: a - b,\n",
        "        '*': lambda a, b: a * b,\n",
        "        '/': lambda a, b: int(a / b),  # Assume integer division for consistency with Python 2\n",
        "    }\n",
        "\n",
        "    for token in expression:\n",
        "        if token in operations:\n",
        "            operand2 = stack.pop()\n",
        "            operand1 = stack.pop()\n",
        "            result = operations[token](operand1, operand2)\n",
        "            stack.append(result)\n",
        "        else:\n",
        "            stack.append(token)\n",
        "\n",
        "    return stack[0]\n",
        "\n",
        "# Test cases\n",
        "\n",
        "# Single operation\n",
        "assert evaluate_rpn([5, 3, '+']) == 8\n",
        "\n",
        "# Multiple operations with different priorities\n",
        "assert evaluate_rpn([15, 7, 1, 1, '+', '-', '/', 3, '*', 2, 1, 1, '+', '+', '-']) == 5\n",
        "\n",
        "# Test with negative numbers\n",
        "assert evaluate_rpn([5, 3, '-']) == 2\n",
        "assert evaluate_rpn([3, 5, '-']) == -2\n",
        "\n",
        "# Test with division\n",
        "assert evaluate_rpn([10, 5, '/']) == 2\n",
        "assert evaluate_rpn([10, 3, '/']) == 3  # Integer division\n",
        "assert evaluate_rpn([3, 10, '/']) == 0  # Integer division\n",
        "\n",
        "# Test with multiplication\n",
        "assert evaluate_rpn([5, 3, '*']) == 15\n",
        "\n",
        "# Test with a single operand\n",
        "assert evaluate_rpn([5]) == 5\n",
        "\n",
        "print(\"All test cases pass\")\n"
      ]
    }
  ]
}