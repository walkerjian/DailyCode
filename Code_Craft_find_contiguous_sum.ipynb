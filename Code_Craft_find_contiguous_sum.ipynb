{
  "nbformat": 4,
  "nbformat_minor": 0,
  "metadata": {
    "colab": {
      "provenance": [],
      "authorship_tag": "ABX9TyMrKfkTsX0pMWpld1i3JWNk",
      "include_colab_link": true
    },
    "kernelspec": {
      "name": "python3",
      "display_name": "Python 3"
    },
    "language_info": {
      "name": "python"
    }
  },
  "cells": [
    {
      "cell_type": "markdown",
      "metadata": {
        "id": "view-in-github",
        "colab_type": "text"
      },
      "source": [
        "<a href=\"https://colab.research.google.com/github/walkerjian/DailyCode/blob/main/Code_Craft_find_contiguous_sum.ipynb\" target=\"_parent\"><img src=\"https://colab.research.google.com/assets/colab-badge.svg\" alt=\"Open In Colab\"/></a>"
      ]
    },
    {
      "cell_type": "markdown",
      "source": [
        "##Problem:\n",
        "Given a list of integers and a number K, return which contiguous elements of the list sum to K.\n",
        "\n",
        "For example, if the list is [1, 2, 3, 4, 5] and K is 9, then it should return [2, 3, 4], since 2 + 3 + 4 = 9.\n"
      ],
      "metadata": {
        "id": "2lWyrXjB8EeD"
      }
    },
    {
      "cell_type": "markdown",
      "source": [
        "##Solution:\n",
        "To solve this, we can use a sliding window approach where we keep adding elements from the list until the sum equals or exceeds `K`. If it exceeds, we start removing elements from the start of the current window. This method allows us to find the contiguous sequence that sums to `K` efficiently.\n",
        "\n"
      ],
      "metadata": {
        "id": "jIohycTB8Hjb"
      }
    },
    {
      "cell_type": "markdown",
      "source": [
        "##Implementation:\n",
        "Here’s how we can implement this in Python:\n"
      ],
      "metadata": {
        "id": "pkWuQrLB8K8H"
      }
    },
    {
      "cell_type": "code",
      "execution_count": 1,
      "metadata": {
        "id": "TIIt0l_k7Oi1",
        "colab": {
          "base_uri": "https://localhost:8080/"
        },
        "outputId": "bbf733e3-c9f5-43a2-c23e-468747872953"
      },
      "outputs": [
        {
          "output_type": "stream",
          "name": "stdout",
          "text": [
            "[2, 3, 4]\n"
          ]
        }
      ],
      "source": [
        "def find_contiguous_sum(nums, K):\n",
        "    current_sum = 0\n",
        "    start = 0\n",
        "\n",
        "    for end in range(len(nums)):\n",
        "        current_sum += nums[end]\n",
        "\n",
        "        while current_sum > K and start <= end:\n",
        "            current_sum -= nums[start]\n",
        "            start += 1\n",
        "\n",
        "        if current_sum == K:\n",
        "            return nums[start:end + 1]\n",
        "\n",
        "    return []\n",
        "\n",
        "# Test the function with the provided example\n",
        "nums = [1, 2, 3, 4, 5]\n",
        "K = 9\n",
        "print(find_contiguous_sum(nums, K))\n"
      ]
    },
    {
      "cell_type": "markdown",
      "source": [
        "##Testing:\n"
      ],
      "metadata": {
        "id": "wcaruNyfYogT"
      }
    },
    {
      "cell_type": "code",
      "source": [],
      "metadata": {
        "id": "7arfxk2ORsA8"
      },
      "execution_count": null,
      "outputs": []
    }
  ]
}