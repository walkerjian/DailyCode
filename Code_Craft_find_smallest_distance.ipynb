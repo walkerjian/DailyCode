{
  "nbformat": 4,
  "nbformat_minor": 0,
  "metadata": {
    "colab": {
      "provenance": [],
      "authorship_tag": "ABX9TyOXVSVGsih4pEeYU15K1Ofs",
      "include_colab_link": true
    },
    "kernelspec": {
      "name": "python3",
      "display_name": "Python 3"
    },
    "language_info": {
      "name": "python"
    }
  },
  "cells": [
    {
      "cell_type": "markdown",
      "metadata": {
        "id": "view-in-github",
        "colab_type": "text"
      },
      "source": [
        "<a href=\"https://colab.research.google.com/github/walkerjian/DailyCode/blob/main/Code_Craft_find_smallest_distance.ipynb\" target=\"_parent\"><img src=\"https://colab.research.google.com/assets/colab-badge.svg\" alt=\"Open In Colab\"/></a>"
      ]
    },
    {
      "cell_type": "markdown",
      "source": [
        "##Problem:\n",
        "Find an efficient algorithm to find the smallest distance (measured in number of words) between any two given words in a string.\n",
        "\n",
        "For example, given words \"hello\", and \"world\" and a text content of \"dog cat hello cat dog dog hello cat world\", return 1 because there's only one word \"cat\" in between the two words."
      ],
      "metadata": {
        "id": "Bvsg88qychj3"
      }
    },
    {
      "cell_type": "markdown",
      "source": [
        "##Solution:\n",
        "To find the smallest distance between any two given words in a string, we can follow a straightforward approach. The algorithm will iterate over each word in the string while tracking the positions of the two words. Whenever one of the words is found, it updates its last known position and calculates the distance to the other word's last known position, if available. This process continues until we have traversed the entire string, and we keep track of the minimum distance found.\n",
        "\n",
        "Here's a step-by-step breakdown of the algorithm:\n",
        "\n",
        "1. Initialize two variables to track the last seen positions of the two words, setting them to `-1` initially (indicating that they haven't been seen yet).\n",
        "2. Initialize a variable to track the minimum distance found so far. Set it to a large value initially (like the maximum integer value) since we are looking for the minimum.\n",
        "3. Split the input string into words.\n",
        "4. Iterate over the list of words. For each word:\n",
        "    - If the word matches the first given word, update its last seen position.\n",
        "    - If the word matches the second given word, update its last seen position.\n",
        "    - If both last seen positions of the given words have been updated at least once (i.e., they are not `-1`), calculate the distance between the current word's position and the last seen position of the other word. If this distance is smaller than the current minimum distance, update the minimum distance.\n",
        "5. After completing the iteration, if the minimum distance is still set to the initial large value, it means the words were not found or there was no distance to calculate. Handle this case as needed (e.g., return an indication that the words were not found or too far apart)."
      ],
      "metadata": {
        "id": "n-5zmN-ocpt3"
      }
    },
    {
      "cell_type": "markdown",
      "source": [
        "##Implementation:"
      ],
      "metadata": {
        "id": "V0Pnkmf4dnSE"
      }
    },
    {
      "cell_type": "code",
      "execution_count": 1,
      "metadata": {
        "colab": {
          "base_uri": "https://localhost:8080/"
        },
        "id": "UrDkY5-rcIy6",
        "outputId": "c2e72697-9092-4ac8-d814-a5e3b43d0816"
      },
      "outputs": [
        {
          "output_type": "execute_result",
          "data": {
            "text/plain": [
              "1"
            ]
          },
          "metadata": {},
          "execution_count": 1
        }
      ],
      "source": [
        "def find_smallest_distance(text, word1, word2):\n",
        "    words = text.split()\n",
        "    last_pos_word1 = last_pos_word2 = -1\n",
        "    min_distance = float('inf')  # Initialize with infinity\n",
        "\n",
        "    for i, word in enumerate(words):\n",
        "        if word == word1:\n",
        "            last_pos_word1 = i\n",
        "            if last_pos_word2 != -1:  # Ensure word2 was seen\n",
        "                min_distance = min(min_distance, abs(i - last_pos_word2) - 1)\n",
        "        elif word == word2:\n",
        "            last_pos_word2 = i\n",
        "            if last_pos_word1 != -1:  # Ensure word1 was seen\n",
        "                min_distance = min(min_distance, abs(i - last_pos_word1) - 1)\n",
        "\n",
        "    if min_distance == float('inf'):\n",
        "        return None  # Indicates the words do not exist or are the same word without in-between\n",
        "\n",
        "    return min_distance\n",
        "\n",
        "# Test the function with the given example\n",
        "test_text = \"dog cat hello cat dog dog hello cat world\"\n",
        "word1 = \"hello\"\n",
        "word2 = \"world\"\n",
        "find_smallest_distance(test_text, word1, word2)"
      ]
    },
    {
      "cell_type": "markdown",
      "source": [
        "The algorithm successfully finds the smallest distance between the two given words in the string. For the provided example with the words \"hello\" and \"world\" in the text \"dog cat hello cat dog dog hello cat world\", it returns `1`, indicating there's only one word (\"cat\") in between the two words, which matches the expected outcome. This approach efficiently calculates the minimum distance by updating positions and calculating distances on-the-fly as it iterates through the words only once."
      ],
      "metadata": {
        "id": "Y3mYyotQc8rx"
      }
    }
  ]
}