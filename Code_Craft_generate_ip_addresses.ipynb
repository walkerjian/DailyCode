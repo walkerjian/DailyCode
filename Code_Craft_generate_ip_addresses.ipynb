{
  "nbformat": 4,
  "nbformat_minor": 0,
  "metadata": {
    "colab": {
      "provenance": [],
      "authorship_tag": "ABX9TyObQpSCX3WP8UVIWN3dRJJ2",
      "include_colab_link": true
    },
    "kernelspec": {
      "name": "python3",
      "display_name": "Python 3"
    },
    "language_info": {
      "name": "python"
    }
  },
  "cells": [
    {
      "cell_type": "markdown",
      "metadata": {
        "id": "view-in-github",
        "colab_type": "text"
      },
      "source": [
        "<a href=\"https://colab.research.google.com/github/walkerjian/DailyCode/blob/main/Code_Craft_generate_ip_addresses.ipynb\" target=\"_parent\"><img src=\"https://colab.research.google.com/assets/colab-badge.svg\" alt=\"Open In Colab\"/></a>"
      ]
    },
    {
      "cell_type": "markdown",
      "source": [
        "##Problem:\n",
        "Given a string of digits, generate all possible valid IP address combinations.\n",
        "\n",
        "IP addresses must follow the format A.B.C.D, where A, B, C, and D are numbers between 0 and 255. Zero-prefixed numbers, such as 01 and 065, are not allowed, except for 0 itself.\n",
        "\n",
        "For example, given \"2542540123\", you should return ['254.25.40.123', '254.254.0.123']."
      ],
      "metadata": {
        "id": "wi6hnnuuyir_"
      }
    },
    {
      "cell_type": "markdown",
      "source": [
        "##Solution:\n",
        "To solve the problem of generating all valid IP address combinations from a given string of digits, I'll adopt a Python-based approach with the MVC (Model-View-Controller) design pattern in mind.\n",
        "\n",
        "1. **Model**: The core logic for generating IP addresses. It involves checking if a part of the string can be a valid segment of an IP address and generating all combinations.\n",
        "\n",
        "2. **View**: This will be the representation of the results. In this case, it's the printing of the valid IP addresses.\n",
        "\n",
        "3. **Controller**: The part of the code that manages the flow between the model and view. It will take the input and use the model to generate the output, which will then be displayed by the view.\n",
        "\n",
        "##Implementation:\n",
        "Let's start by implementing the model. We need a function to check if a part of the string is a valid IP segment (i.e., a number between 0 and 255, without leading zeros unless it's just '0'). Then, we'll create a function to generate all valid combinations of these segments.\n",
        "\n",
        "I will code this and then demonstrate its functionality with a few test cases."
      ],
      "metadata": {
        "id": "z5b5ZDCEynBk"
      }
    },
    {
      "cell_type": "code",
      "execution_count": 1,
      "metadata": {
        "colab": {
          "base_uri": "https://localhost:8080/"
        },
        "id": "LN60w5l-yhqf",
        "outputId": "5693a8d4-a8f7-40c5-c6e4-476f9c47648e"
      },
      "outputs": [
        {
          "output_type": "stream",
          "name": "stdout",
          "text": [
            "IP Addresses from '2542540123': ['254.25.40.123', '254.254.0.123']\n"
          ]
        }
      ],
      "source": [
        "def is_valid_ip_segment(segment):\n",
        "    \"\"\"Check if a segment is a valid IP address part.\"\"\"\n",
        "    # A valid segment must be between 0 and 255. Leading zeros are not allowed.\n",
        "    if len(segment) > 1 and segment[0] == '0':\n",
        "        return False\n",
        "    if 0 <= int(segment) <= 255:\n",
        "        return True\n",
        "    return False\n",
        "\n",
        "def generate_ip_addresses(s):\n",
        "    \"\"\"Generate all valid IP addresses from the given string.\"\"\"\n",
        "    n = len(s)\n",
        "    if n > 12:  # Maximum length for an IP address string is 12\n",
        "        return []\n",
        "\n",
        "    valid_ips = []\n",
        "    # Try every combination of segments\n",
        "    for i in range(1, min(n, 4)):\n",
        "        for j in range(i+1, min(n, i+4)):\n",
        "            for k in range(j+1, min(n, j+4)):\n",
        "                a, b, c, d = s[:i], s[i:j], s[j:k], s[k:]\n",
        "                if all(is_valid_ip_segment(x) for x in [a, b, c, d]):\n",
        "                    valid_ips.append(f\"{a}.{b}.{c}.{d}\")\n",
        "\n",
        "    return valid_ips\n",
        "\n",
        "# Example Test Cases\n",
        "test_string = \"2542540123\"\n",
        "print(f\"IP Addresses from '{test_string}': {generate_ip_addresses(test_string)}\")\n"
      ]
    },
    {
      "cell_type": "markdown",
      "source": [
        "##Testing:\n",
        "The code has successfully generated valid IP address combinations for the given string \"2542540123\". The output is `['254.25.40.123', '254.254.0.123']`, which matches the expected results.\n",
        "\n",
        "The `is_valid_ip_segment` function checks if a given string can be a valid segment of an IP address (0 to 255, no leading zeros unless the segment is '0'). The `generate_ip_addresses` function uses this to explore all possible combinations of segments from the input string and returns valid IP addresses.\n",
        "\n",
        "To further demonstrate the efficacy and efficiency of this solution, I'll run a few more test cases with different input strings. This will include edge cases like a very short string, a long string, and a string with leading zeros.\n",
        "\n",
        "The test cases demonstrate the functionality of the IP address generation code across various scenarios:"
      ],
      "metadata": {
        "id": "X0CEOaZly9db"
      }
    },
    {
      "cell_type": "code",
      "source": [
        "# Additional Test Cases\n",
        "\n",
        "test_cases = [\n",
        "    \"1111\",       # Short string\n",
        "    \"192168011\",  # Regular case\n",
        "    \"01020304\",   # Leading zeros\n",
        "    \"25525511135\",# Another regular case\n",
        "    \"123456789012345\", # Too long string\n",
        "    \"0000\"        # All zeros\n",
        "]\n",
        "\n",
        "for test in test_cases:\n",
        "    print(f\"IP Addresses from '{test}': {generate_ip_addresses(test)}\")\n"
      ],
      "metadata": {
        "colab": {
          "base_uri": "https://localhost:8080/"
        },
        "id": "D5YdcgB3zNNN",
        "outputId": "d4e7e85f-4c4b-4da5-f52d-57fabdf4247c"
      },
      "execution_count": 2,
      "outputs": [
        {
          "output_type": "stream",
          "name": "stdout",
          "text": [
            "IP Addresses from '1111': ['1.1.1.1']\n",
            "IP Addresses from '192168011': ['19.216.80.11', '192.16.80.11', '192.168.0.11']\n",
            "IP Addresses from '01020304': []\n",
            "IP Addresses from '25525511135': ['255.255.11.135', '255.255.111.35']\n",
            "IP Addresses from '123456789012345': []\n",
            "IP Addresses from '0000': ['0.0.0.0']\n"
          ]
        }
      ]
    },
    {
      "cell_type": "markdown",
      "source": [
        "##Results:\n",
        "1. `'1111'` results in `['1.1.1.1']`.\n",
        "2. `'192168011'` gives `['19.216.80.11', '192.16.80.11', '192.168.0.11']`.\n",
        "3. `'01020304'` has no valid IP addresses due to leading zeros.\n",
        "4. `'25525511135'` produces `['255.255.11.135', '255.255.111.35']`.\n",
        "5. `'123456789012345'`, being too long, results in no valid IP addresses.\n",
        "6. `'0000'` correctly returns `['0.0.0.0']`.\n",
        "\n",
        "These results confirm that the code is efficient, handles edge cases properly, and is well-suited for generating valid IP address combinations from a string of digits. The modular design also allows for easy maintenance and potential extensions, adhering to the principles of MVC design."
      ],
      "metadata": {
        "id": "a15mqZs6zw-r"
      }
    }
  ]
}