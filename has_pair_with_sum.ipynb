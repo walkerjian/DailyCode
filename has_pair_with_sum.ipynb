{
  "nbformat": 4,
  "nbformat_minor": 0,
  "metadata": {
    "colab": {
      "provenance": [],
      "authorship_tag": "ABX9TyMNF9KmQUl3e6Y6mdtbSvDF",
      "include_colab_link": true
    },
    "kernelspec": {
      "name": "python3",
      "display_name": "Python 3"
    },
    "language_info": {
      "name": "python"
    }
  },
  "cells": [
    {
      "cell_type": "markdown",
      "metadata": {
        "id": "view-in-github",
        "colab_type": "text"
      },
      "source": [
        "<a href=\"https://colab.research.google.com/github/walkerjian/DailyCode/blob/main/has_pair_with_sum.ipynb\" target=\"_parent\"><img src=\"https://colab.research.google.com/assets/colab-badge.svg\" alt=\"Open In Colab\"/></a>"
      ]
    },
    {
      "cell_type": "markdown",
      "source": [
        "## Given a list of numbers and a number k, return whether any two numbers from the list add up to k.\n",
        "\n",
        "For example, given [10, 15, 3, 7] and k of 17, return true since 10 + 7 is 17.\n",
        "\n",
        "Bonus: Can you do this in one pass?\n",
        "\n",
        "## requirements:\n",
        "1) use the MVC paradigm.\n",
        "2) extensively document your code with a docstring for the initial problem as specified.\n",
        "3) all code to be uninterrupted and not truncated.\n",
        "4) extensively test the code; write a test function to test the code with at least 10 test examples. Make sure the test harness does not interrupt the output of the test cases, which should include the sample cases given to you. All output needs to include the original example or test case, and complete output of the solution.\n",
        "5) do not make up solutions, make sure your solution is correct & adheres to all requirements above.\n",
        "6) use PEP8 & nice formatting rules for word wrap etc.\n",
        "Given the requirements, I'll implement a solution for the problem using the MVC (Model-View-Controller) paradigm. Here's a plan:\n",
        "\n",
        "1. **Model**: This will consist of the main algorithm that solves the problem.\n",
        "2. **View**: This will handle the presentation of the output. It will format the results and any possible error messages.\n",
        "3. **Controller**: This will tie the model and view together, handling the input and using the model to solve the problem, then passing the results to the view.\n",
        "\n",
        "Let's start with the model:\n",
        "\n",
        "### Model\n",
        "\n",
        "The model will contain the main algorithm to solve the problem. Given a list of numbers and a number \\( k \\), it will determine if any two numbers in the list add up to \\( k \\). We can achieve this in a single pass by using a set to store the numbers we've seen so far. For each number in the list, we'll check if \\( k \\) minus that number exists in our set. If it does, then we have a pair of numbers that add up to \\( k \\). Otherwise, we'll add the current number to our set and continue.\n",
        "\n",
        "### View\n",
        "\n",
        "The view will be responsible for formatting and presenting the output. For each test case, it will display the input list, the target sum \\( k \\), and the result (either `True` or `False`).\n",
        "\n",
        "### Controller\n",
        "\n",
        "The controller will manage the flow of the program. It will take in the input, pass it to the model for processing, and then send the result to the view for presentation. It will also include a test harness to run multiple test cases.\n",
        "\n",
        "Now, let's implement the solution:"
      ],
      "metadata": {
        "id": "32h7pQJxvZGh"
      }
    },
    {
      "cell_type": "code",
      "execution_count": 1,
      "metadata": {
        "colab": {
          "base_uri": "https://localhost:8080/"
        },
        "id": "DDqOkLMVu0vD",
        "outputId": "253fab02-ea43-490d-fa59-26b44e2871cc"
      },
      "outputs": [
        {
          "output_type": "execute_result",
          "data": {
            "text/plain": [
              "[('For list [10, 15, 3, 7] and k of 17, result is True', True),\n",
              " ('For list [1, 2, 3, 4] and k of 5, result is True', True),\n",
              " ('For list [1, 2, 3, 4] and k of 8, result is False', True),\n",
              " ('For list [4, 5, 6, 7] and k of 11, result is True', True),\n",
              " ('For list [10, 20, 30, 40] and k of 50, result is True', True),\n",
              " ('For list [10, 20, 30, 40] and k of 100, result is False', True),\n",
              " ('For list [] and k of 0, result is False', True),\n",
              " ('For list [5] and k of 5, result is False', True),\n",
              " ('For list [5, -5] and k of 0, result is True', True),\n",
              " ('For list [1, 3, 5, 7, 9] and k of 14, result is True', True),\n",
              " ('For list [1, 3, 5, 7, 9] and k of 20, result is False', True)]"
            ]
          },
          "metadata": {},
          "execution_count": 1
        }
      ],
      "source": [
        "# Model\n",
        "\n",
        "def has_pair_with_sum(nums, k):\n",
        "    \"\"\"\n",
        "    Determine if there's a pair of numbers in the list that adds up to k.\n",
        "\n",
        "    Args:\n",
        "    - nums (list of int): The list of numbers.\n",
        "    - k (int): The target sum.\n",
        "\n",
        "    Returns:\n",
        "    - bool: True if there's a pair of numbers in the list that adds up to k, otherwise False.\n",
        "    \"\"\"\n",
        "    seen = set()\n",
        "    for num in nums:\n",
        "        if k - num in seen:\n",
        "            return True\n",
        "        seen.add(num)\n",
        "    return False\n",
        "\n",
        "\n",
        "# View\n",
        "\n",
        "def display_result(nums, k, result):\n",
        "    \"\"\"\n",
        "    Format and present the output of the algorithm.\n",
        "\n",
        "    Args:\n",
        "    - nums (list of int): The list of numbers.\n",
        "    - k (int): The target sum.\n",
        "    - result (bool): The result from the model.\n",
        "\n",
        "    Returns:\n",
        "    - str: Formatted string displaying the input and result.\n",
        "    \"\"\"\n",
        "    return f\"For list {nums} and k of {k}, result is {result}\"\n",
        "\n",
        "\n",
        "# Controller\n",
        "\n",
        "def check_pair_sum(nums, k):\n",
        "    \"\"\"\n",
        "    Controller function that ties the model and view together.\n",
        "\n",
        "    Args:\n",
        "    - nums (list of int): The list of numbers.\n",
        "    - k (int): The target sum.\n",
        "\n",
        "    Returns:\n",
        "    - str: Formatted string displaying the input and result.\n",
        "    \"\"\"\n",
        "    result = has_pair_with_sum(nums, k)\n",
        "    return display_result(nums, k, result)\n",
        "\n",
        "\n",
        "# Test Harness\n",
        "\n",
        "def test():\n",
        "    \"\"\"\n",
        "    Test function to test the solution with multiple examples.\n",
        "    \"\"\"\n",
        "    test_cases = [\n",
        "        ([10, 15, 3, 7], 17, True),\n",
        "        ([1, 2, 3, 4], 5, True),\n",
        "        ([1, 2, 3, 4], 8, False),\n",
        "        ([4, 5, 6, 7], 11, True),\n",
        "        ([10, 20, 30, 40], 50, True),\n",
        "        ([10, 20, 30, 40], 100, False),\n",
        "        ([], 0, False),\n",
        "        ([5], 5, False),\n",
        "        ([5, -5], 0, True),\n",
        "        ([1, 3, 5, 7, 9], 14, True),\n",
        "        ([1, 3, 5, 7, 9], 20, False)\n",
        "    ]\n",
        "\n",
        "    results = []\n",
        "    for nums, k, expected in test_cases:\n",
        "        result_str = check_pair_sum(nums, k)\n",
        "        result = result_str.endswith(str(expected))\n",
        "        results.append((result_str, result))\n",
        "\n",
        "    return results\n",
        "\n",
        "# Running the tests\n",
        "test_results = test()\n",
        "test_results\n"
      ]
    }
  ]
}