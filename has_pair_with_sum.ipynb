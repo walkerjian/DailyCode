{
  "nbformat": 4,
  "nbformat_minor": 0,
  "metadata": {
    "colab": {
      "provenance": [],
      "authorship_tag": "ABX9TyPFWIy9+U3l4ow1DkXmGXAB",
      "include_colab_link": true
    },
    "kernelspec": {
      "name": "python3",
      "display_name": "Python 3"
    },
    "language_info": {
      "name": "python"
    }
  },
  "cells": [
    {
      "cell_type": "markdown",
      "metadata": {
        "id": "view-in-github",
        "colab_type": "text"
      },
      "source": [
        "<a href=\"https://colab.research.google.com/github/walkerjian/DailyCode/blob/main/has_pair_with_sum.ipynb\" target=\"_parent\"><img src=\"https://colab.research.google.com/assets/colab-badge.svg\" alt=\"Open In Colab\"/></a>"
      ]
    },
    {
      "cell_type": "markdown",
      "source": [
        "## Given a list of numbers and a number k, return whether any two numbers from the list add up to k.\n",
        "\n",
        "For example, given [10, 15, 3, 7] and k of 17, return true since 10 + 7 is 17.\n",
        "\n",
        "Bonus: Can you do this in one pass?"
      ],
      "metadata": {
        "id": "Ubqz1g8yN-EJ"
      }
    },
    {
      "cell_type": "markdown",
      "source": [
        "### Let's structure the solution using the Model-View-Controller (MVC) paradigm:\n",
        "\n",
        "1. **Model**: This part will contain our main algorithm to determine if any two numbers in the list sum up to \\( k \\).\n",
        "2. **View**: This will be responsible for displaying the results.\n",
        "3. **Controller**: This will be the driver function, controlling the flow between Model and View.\n",
        "\n",
        "Here's the breakdown:\n",
        "\n",
        "### Model\n",
        "- We will use a set to keep track of numbers we have seen so far.\n",
        "- For each number \\( n \\) in the list, if \\( k - n \\) is in the set, then we return True. Otherwise, we add \\( n \\) to the set.\n",
        "- If we finish checking all numbers and haven't returned True, then we return False.\n",
        "\n",
        "### View\n",
        "- We will display the input list, the value of \\( k \\), and the result (whether two numbers sum up to \\( k \\) or not).\n",
        "\n",
        "### Controller\n",
        "- This function will take the list and \\( k \\) as input, pass them to the Model, get the result, and then pass the result to the View to display.\n",
        "\n",
        "Let's start by implementing the solution and then proceed with testing."
      ],
      "metadata": {
        "id": "7z0WQsu6ORcq"
      }
    },
    {
      "cell_type": "code",
      "execution_count": 1,
      "metadata": {
        "colab": {
          "base_uri": "https://localhost:8080/"
        },
        "id": "ApdjPxyYL20R",
        "outputId": "285ca08f-75cd-4765-d615-3b37eaaf1d61"
      },
      "outputs": [
        {
          "output_type": "execute_result",
          "data": {
            "text/plain": [
              "['For the list [10, 15, 3, 7] and k of 17, the result is True.',\n",
              " 'For the list [1, 2, 3, 4] and k of 7, the result is True.',\n",
              " 'For the list [10, 10] and k of 20, the result is True.',\n",
              " 'For the list [5, 5, 5] and k of 10, the result is True.',\n",
              " 'For the list [] and k of 5, the result is False.',\n",
              " 'For the list [1, 2, 3, 4, 5] and k of 10, the result is False.',\n",
              " 'For the list [10, 20, 30, 40, 50] and k of 15, the result is False.',\n",
              " 'For the list [1, 1, 1, 1] and k of 2, the result is True.',\n",
              " 'For the list [10, 20, 30] and k of 40, the result is True.',\n",
              " 'For the list [1, 2, 3, 4, 5] and k of 3, the result is True.']"
            ]
          },
          "metadata": {},
          "execution_count": 1
        }
      ],
      "source": [
        "def model(nums, k):\n",
        "    \"\"\"\n",
        "    Determines if any two numbers in the list sum up to k.\n",
        "\n",
        "    Parameters:\n",
        "    - nums: List[int]. The list of numbers.\n",
        "    - k: int. The target sum.\n",
        "\n",
        "    Returns:\n",
        "    - bool. True if there are two numbers in nums that sum up to k, False otherwise.\n",
        "    \"\"\"\n",
        "\n",
        "    seen = set()\n",
        "    for num in nums:\n",
        "        if k - num in seen:\n",
        "            return True\n",
        "        seen.add(num)\n",
        "    return False\n",
        "\n",
        "\n",
        "def view(nums, k, result):\n",
        "    \"\"\"\n",
        "    Displays the result.\n",
        "\n",
        "    Parameters:\n",
        "    - nums: List[int]. The list of numbers.\n",
        "    - k: int. The target sum.\n",
        "    - result: bool. The result from the model.\n",
        "\n",
        "    Returns:\n",
        "    - str. A formatted string displaying the input and result.\n",
        "    \"\"\"\n",
        "\n",
        "    return f\"For the list {nums} and k of {k}, the result is {result}.\"\n",
        "\n",
        "\n",
        "def controller(nums, k):\n",
        "    \"\"\"\n",
        "    Controls the flow between the Model and View.\n",
        "\n",
        "    Parameters:\n",
        "    - nums: List[int]. The list of numbers.\n",
        "    - k: int. The target sum.\n",
        "\n",
        "    Returns:\n",
        "    - str. The output from the view after processing the input through the model.\n",
        "    \"\"\"\n",
        "\n",
        "    result = model(nums, k)\n",
        "    return view(nums, k, result)\n",
        "\n",
        "\n",
        "# Testing our MVC implementation\n",
        "test_cases = [\n",
        "    ([10, 15, 3, 7], 17),\n",
        "    ([1, 2, 3, 4], 7),\n",
        "    ([10, 10], 20),\n",
        "    ([5, 5, 5], 10),\n",
        "    ([], 5),\n",
        "    ([1, 2, 3, 4, 5], 10),\n",
        "    ([10, 20, 30, 40, 50], 15),\n",
        "    ([1, 1, 1, 1], 2),\n",
        "    ([10, 20, 30], 40),\n",
        "    ([1, 2, 3, 4, 5], 3)\n",
        "]\n",
        "\n",
        "test_results = [controller(nums, k) for nums, k in test_cases]\n",
        "test_results\n"
      ]
    },
    {
      "cell_type": "markdown",
      "source": [
        "## Maximallly efficient solution:\n",
        "One of the most efficient solutions for this problem, especially in terms of space complexity, is to sort the list first and then use a two-pointer approach. The idea is:\n",
        "\n",
        "1. Sort the list.\n",
        "2. Initialize two pointers, one at the beginning `start` and one at the end `end`.\n",
        "3. Calculate the sum of the numbers at the `start` and `end` positions.\n",
        "4. If the sum is equal to $k$, return `True`.\n",
        "5. If the sum is less than $k$, move the `start` pointer one position to the right (increase the sum).\n",
        "6. If the sum is greater than $k$, move the `end` pointer one position to the left (decrease the sum).\n",
        "7. Repeat steps 3-6 until the two pointers meet. If they meet and no two numbers have been found that sum up to $k$, return `False`.\n",
        "\n",
        "I'll implement this in Python.\n",
        "\n",
        "This solution has a time complexity of $O(n$log$n)$ due to the sorting step, and a space complexity of $O(1)$ since we only use a constant amount of extra space. The two-pointer approach itself, without the sorting step, would be $O(n)$. However, sorting is required for this method to work."
      ],
      "metadata": {
        "id": "PpKp7eZkMOph"
      }
    },
    {
      "cell_type": "code",
      "source": [
        "def has_pair_with_sum(nums, k):\n",
        "    \"\"\"\n",
        "    Determines if any two numbers in the sorted list sum up to k using the two-pointer approach.\n",
        "\n",
        "    Parameters:\n",
        "    - nums: List[int]. The list of numbers.\n",
        "    - k: int. The target sum.\n",
        "\n",
        "    Returns:\n",
        "    - bool. True if there are two numbers in nums that sum up to k, False otherwise.\n",
        "    \"\"\"\n",
        "\n",
        "    nums.sort()  # Sort the list first\n",
        "    start, end = 0, len(nums) - 1\n",
        "\n",
        "    while start < end:\n",
        "        current_sum = nums[start] + nums[end]\n",
        "        if current_sum == k:\n",
        "            return True\n",
        "        elif current_sum < k:\n",
        "            start += 1\n",
        "        else:\n",
        "            end -= 1\n",
        "\n",
        "    return False\n",
        "\n",
        "\n",
        "# Testing the efficient solution\n",
        "test_results_efficient = [has_pair_with_sum(nums, k) for nums, k in test_cases]\n",
        "test_results_efficient\n"
      ],
      "metadata": {
        "colab": {
          "base_uri": "https://localhost:8080/"
        },
        "id": "xDhbMW5sN5SK",
        "outputId": "7bac5ea3-1b7d-417b-c993-4d2705186ea1"
      },
      "execution_count": 2,
      "outputs": [
        {
          "output_type": "execute_result",
          "data": {
            "text/plain": [
              "[True, True, True, True, False, False, False, True, True, True]"
            ]
          },
          "metadata": {},
          "execution_count": 2
        }
      ]
    }
  ]
}