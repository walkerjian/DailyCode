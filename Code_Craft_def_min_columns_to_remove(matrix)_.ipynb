{
  "nbformat": 4,
  "nbformat_minor": 0,
  "metadata": {
    "colab": {
      "provenance": [],
      "authorship_tag": "ABX9TyN6F1pPqjliV9WvZaHot76V",
      "include_colab_link": true
    },
    "kernelspec": {
      "name": "python3",
      "display_name": "Python 3"
    },
    "language_info": {
      "name": "python"
    }
  },
  "cells": [
    {
      "cell_type": "markdown",
      "metadata": {
        "id": "view-in-github",
        "colab_type": "text"
      },
      "source": [
        "<a href=\"https://colab.research.google.com/github/walkerjian/DailyCode/blob/main/Code_Craft_def_min_columns_to_remove(matrix)_.ipynb\" target=\"_parent\"><img src=\"https://colab.research.google.com/assets/colab-badge.svg\" alt=\"Open In Colab\"/></a>"
      ]
    },
    {
      "cell_type": "markdown",
      "source": [
        "##Problem:\n",
        "You are given an N by M 2D matrix of lowercase letters. Determine the minimum number of columns that can be removed to ensure that each row is ordered from top to bottom lexicographically. That is, the letter at each column is lexicographically later as you go down each row. It does not matter whether each row itself is ordered lexicographically. It may be best to use a 2d array to hold the characters to work on them and output the input matrix and the result matrix and the result\n",
        "\n",
        "For example, given the following table:\n",
        "```\n",
        "cba\n",
        "daf\n",
        "ghi\n",
        "```\n",
        "This is not ordered because of the a in the center. We can remove the second column to make it ordered:\n",
        "```\n",
        "ca\n",
        "df\n",
        "gi\n",
        "```\n",
        "So your function should return 1, since we only needed to remove 1 column.\n",
        "\n",
        "As another example, given the following table:\n",
        "```\n",
        "abcdef\n",
        "```\n",
        "Your function should return 0, since the rows are already ordered (there's only one row).\n",
        "\n",
        "As another example, given the following table:\n",
        "```\n",
        "zyx\n",
        "wvu\n",
        "tsr\n",
        "```\n",
        "Your function should return 3, since we would need to remove all the columns to order it.\n",
        "\n",
        "##Solution:\n",
        "To solve this problem, we can iterate over each column of the matrix and check if the letters in that column are sorted in lexicographic order from top to bottom. If a column is not sorted, it means we need to remove that column. The total number of columns that need to be removed will be our answer.\n",
        "\n",
        "Here's a step-by-step approach:\n",
        "\n",
        "1. Iterate over each column.\n",
        "2. For each column, check if each letter is less than or equal to the letter below it.\n",
        "3. If any letter is greater than the letter below it, mark this column for removal.\n",
        "4. Count the total number of columns marked for removal. This will be the result.\n",
        "\n",
        "##Implementation:\n"
      ],
      "metadata": {
        "id": "p96c8iEi3BCo"
      }
    },
    {
      "cell_type": "code",
      "execution_count": 1,
      "metadata": {
        "colab": {
          "base_uri": "https://localhost:8080/"
        },
        "id": "fR1rN25y252q",
        "outputId": "e4eb62d0-2cae-4d5d-a686-43f8b9d0ebde"
      },
      "outputs": [
        {
          "output_type": "stream",
          "name": "stdout",
          "text": [
            "Matrix 1: ['cba', 'daf', 'ghi'] Columns to remove: 1\n",
            "Matrix 2: ['abcdef'] Columns to remove: 0\n",
            "Matrix 3: ['zyx', 'wvu', 'tsr'] Columns to remove: 3\n"
          ]
        }
      ],
      "source": [
        "def min_columns_to_remove(matrix):\n",
        "    if not matrix or not matrix[0]:\n",
        "        return 0\n",
        "\n",
        "    n = len(matrix)     # Number of rows\n",
        "    m = len(matrix[0])  # Number of columns\n",
        "\n",
        "    # Function to check if a column is sorted\n",
        "    def is_column_sorted(col):\n",
        "        for i in range(1, n):\n",
        "            if matrix[i][col] < matrix[i-1][col]:\n",
        "                return False\n",
        "        return True\n",
        "\n",
        "    # Count the number of columns that are not sorted\n",
        "    columns_to_remove = 0\n",
        "    for col in range(m):\n",
        "        if not is_column_sorted(col):\n",
        "            columns_to_remove += 1\n",
        "\n",
        "    return columns_to_remove\n",
        "\n",
        "# Example usage\n",
        "matrix1 = [\"cba\", \"daf\", \"ghi\"]\n",
        "matrix2 = [\"abcdef\"]\n",
        "matrix3 = [\"zyx\", \"wvu\", \"tsr\"]\n",
        "\n",
        "print(\"Matrix 1:\", matrix1, \"Columns to remove:\", min_columns_to_remove(matrix1))\n",
        "print(\"Matrix 2:\", matrix2, \"Columns to remove:\", min_columns_to_remove(matrix2))\n",
        "print(\"Matrix 3:\", matrix3, \"Columns to remove:\", min_columns_to_remove(matrix3))\n"
      ]
    },
    {
      "cell_type": "markdown",
      "source": [
        "This code defines the `min_columns_to_remove` function that takes a matrix of lowercase letters and returns the minimum number of columns that need to be removed to ensure each row is lexicographically ordered from top to bottom. It then tests this function with the provided examples."
      ],
      "metadata": {
        "id": "oGB1os9o3UG6"
      }
    }
  ]
}