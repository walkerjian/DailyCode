{
  "nbformat": 4,
  "nbformat_minor": 0,
  "metadata": {
    "colab": {
      "provenance": [],
      "authorship_tag": "ABX9TyMpShy1yjvkgyF+EYsgh8GZ",
      "include_colab_link": true
    },
    "kernelspec": {
      "name": "python3",
      "display_name": "Python 3"
    },
    "language_info": {
      "name": "python"
    }
  },
  "cells": [
    {
      "cell_type": "markdown",
      "metadata": {
        "id": "view-in-github",
        "colab_type": "text"
      },
      "source": [
        "<a href=\"https://colab.research.google.com/github/walkerjian/DailyCode/blob/main/Code_Craft_sieve_of_eratosthenes.ipynb\" target=\"_parent\"><img src=\"https://colab.research.google.com/assets/colab-badge.svg\" alt=\"Open In Colab\"/></a>"
      ]
    },
    {
      "cell_type": "markdown",
      "source": [
        "##Problem:\n",
        "The Sieve of Eratosthenes is an algorithm used to generate all prime numbers smaller than N. The method is to take increasingly larger prime numbers, and mark their multiples as composite.\n",
        "\n",
        "For example, to find all primes less than 100, we would first mark [4, 6, 8, ...] (multiples of two), then [6, 9, 12, ...] (multiples of three), and so on. Once we have done this for all primes less than N, the unmarked numbers that remain will be prime.\n",
        "\n",
        "Implement this algorithm.\n",
        "\n",
        "Bonus: Create a generator that produces primes indefinitely (that is, without taking N as an input)."
      ],
      "metadata": {
        "id": "1HzaJ7A9QCi6"
      }
    },
    {
      "cell_type": "markdown",
      "source": [
        "##Sieve of Eratosthenes to Find Primes Less Than N:"
      ],
      "metadata": {
        "id": "nFsPN9_9QLgX"
      }
    },
    {
      "cell_type": "code",
      "execution_count": 1,
      "metadata": {
        "id": "nqj9XbZfPOiB"
      },
      "outputs": [],
      "source": [
        "def sieve_of_eratosthenes(N):\n",
        "    if N <= 2:\n",
        "        return []\n",
        "\n",
        "    primes = []\n",
        "    is_prime = [True] * N\n",
        "    is_prime[0] = is_prime[1] = False\n",
        "\n",
        "    for i in range(2, int(N**0.5) + 1):\n",
        "        if is_prime[i]:\n",
        "            primes.append(i)\n",
        "            for j in range(i*i, N, i):\n",
        "                is_prime[j] = False\n",
        "\n",
        "    for i in range(int(N**0.5) + 1, N):\n",
        "        if is_prime[i]:\n",
        "            primes.append(i)\n",
        "\n",
        "    return primes\n"
      ]
    },
    {
      "cell_type": "code",
      "source": [
        "# Sieve of Eratosthenes test\n",
        "primes_up_to_100 = sieve_of_eratosthenes(100)\n",
        "print(\"Primes less than 100:\", primes_up_to_100)\n"
      ],
      "metadata": {
        "colab": {
          "base_uri": "https://localhost:8080/"
        },
        "id": "o5tfNSY3PwvV",
        "outputId": "5b766b1f-131a-463a-da0c-ef828c31b4fe"
      },
      "execution_count": 2,
      "outputs": [
        {
          "output_type": "stream",
          "name": "stdout",
          "text": [
            "Primes less than 100: [2, 3, 5, 7, 11, 13, 17, 19, 23, 29, 31, 37, 41, 43, 47, 53, 59, 61, 67, 71, 73, 79, 83, 89, 97]\n"
          ]
        }
      ]
    },
    {
      "cell_type": "markdown",
      "source": [
        "##Infinite Prime Number Generator:"
      ],
      "metadata": {
        "id": "65upxO25QP2d"
      }
    },
    {
      "cell_type": "code",
      "source": [
        "def infinite_prime_generator():\n",
        "    yield 2  # The first prime number\n",
        "    primes = [2]\n",
        "    num = 3\n",
        "    while True:\n",
        "        is_prime = True\n",
        "        for p in primes:\n",
        "            if p * p > num:\n",
        "                break\n",
        "            if num % p == 0:\n",
        "                is_prime = False\n",
        "                break\n",
        "        if is_prime:\n",
        "            primes.append(num)\n",
        "            yield num\n",
        "        num += 2  # Increment by 2 since even numbers > 2 are not prime\n"
      ],
      "metadata": {
        "id": "7hhumAhbP3NZ"
      },
      "execution_count": 3,
      "outputs": []
    },
    {
      "cell_type": "code",
      "source": [
        "# Infinite prime generator test\n",
        "prime_gen = infinite_prime_generator()\n",
        "print(\"First 10 primes from the generator:\")\n",
        "for _ in range(10):\n",
        "    print(next(prime_gen), end=\" \")\n"
      ],
      "metadata": {
        "colab": {
          "base_uri": "https://localhost:8080/"
        },
        "id": "YZBG3weXP5J3",
        "outputId": "b43c608f-f8c4-46f2-a64e-5dcd9d4e9264"
      },
      "execution_count": 4,
      "outputs": [
        {
          "output_type": "stream",
          "name": "stdout",
          "text": [
            "First 10 primes from the generator:\n",
            "2 3 5 7 11 13 17 19 23 29 "
          ]
        }
      ]
    }
  ]
}