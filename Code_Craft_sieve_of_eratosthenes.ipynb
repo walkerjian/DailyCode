{
  "nbformat": 4,
  "nbformat_minor": 0,
  "metadata": {
    "colab": {
      "provenance": [],
      "authorship_tag": "ABX9TyNbFruu1aHwvD4KaNBQeudn",
      "include_colab_link": true
    },
    "kernelspec": {
      "name": "python3",
      "display_name": "Python 3"
    },
    "language_info": {
      "name": "python"
    }
  },
  "cells": [
    {
      "cell_type": "markdown",
      "metadata": {
        "id": "view-in-github",
        "colab_type": "text"
      },
      "source": [
        "<a href=\"https://colab.research.google.com/github/walkerjian/DailyCode/blob/main/Code_Craft_sieve_of_eratosthenes.ipynb\" target=\"_parent\"><img src=\"https://colab.research.google.com/assets/colab-badge.svg\" alt=\"Open In Colab\"/></a>"
      ]
    },
    {
      "cell_type": "markdown",
      "source": [
        "The Sieve of Eratosthenes is an algorithm used to generate all prime numbers smaller than N. The method is to take increasingly larger prime numbers, and mark their multiples as composite.\n",
        "\n",
        "For example, to find all primes less than 100, we would first mark [4, 6, 8, ...] (multiples of two), then [6, 9, 12, ...] (multiples of three), and so on. Once we have done this for all primes less than N, the unmarked numbers that remain will be prime.\n",
        "\n",
        "Implement this algorithm.\n",
        "\n",
        "Bonus: Create a generator that produces primes indefinitely (that is, without taking N as an input)."
      ],
      "metadata": {
        "id": "avIw3ciNdnRS"
      }
    },
    {
      "cell_type": "markdown",
      "source": [
        "Implementing the Sieve of Eratosthenes for a given number $ N $.\n",
        "This algorithm iteratively marks the multiples of each prime number starting from 2. The numbers which are not marked in this process are the primes less than $ N $.\n",
        "\n",
        "This function will print all prime numbers less than 100.\n"
      ],
      "metadata": {
        "id": "ejd7g7m9drez"
      }
    },
    {
      "cell_type": "code",
      "execution_count": 1,
      "metadata": {
        "colab": {
          "base_uri": "https://localhost:8080/"
        },
        "id": "xVB42oM4dkxz",
        "outputId": "4a051e4e-6f0f-467e-9083-04082d894609"
      },
      "outputs": [
        {
          "output_type": "stream",
          "name": "stdout",
          "text": [
            "[2, 3, 5, 7, 11, 13, 17, 19, 23, 29, 31, 37, 41, 43, 47, 53, 59, 61, 67, 71, 73, 79, 83, 89, 97]\n"
          ]
        }
      ],
      "source": [
        "def sieve_of_eratosthenes(N):\n",
        "    # Initially, assume all numbers are prime\n",
        "    is_prime = [True] * (N + 1)\n",
        "    p = 2\n",
        "    while p * p <= N:\n",
        "        # If is_prime[p] is not changed, then it is a prime\n",
        "        if is_prime[p] == True:\n",
        "            # Marking the multiples of p as not prime\n",
        "            for i in range(p * p, N + 1, p):\n",
        "                is_prime[i] = False\n",
        "        p += 1\n",
        "    # Collecting all primes\n",
        "    primes = [p for p in range(2, N) if is_prime[p]]\n",
        "    return primes\n",
        "\n",
        "# Example usage\n",
        "print(sieve_of_eratosthenes(100))\n"
      ]
    },
    {
      "cell_type": "markdown",
      "source": [
        "\n",
        "For the bonus part, creating a generator that produces primes indefinitely, we can use a different approach since we don't have an upper limit $ N $:\n",
        "\n",
        "This generator will indefinitely yield prime numbers starting from 2. Each time you call `next()` on the generator, it will give you the next prime. The generator uses a dictionary to keep track of composite numbers and the primes that generate them. When a number is identified as prime, it's yielded and its square is marked in the dictionary as the starting point for generating multiples of that prime."
      ],
      "metadata": {
        "id": "v2YJKqJfeV1s"
      }
    },
    {
      "cell_type": "code",
      "source": [
        "def prime_generator():\n",
        "    # Dictionary to map composite numbers to primes that generated them\n",
        "    D = {}\n",
        "    q = 2  # Starting prime candidate\n",
        "    while True:\n",
        "        if q not in D:\n",
        "            # q is a prime\n",
        "            yield q\n",
        "            # Marking the first composite number that q will generate\n",
        "            D[q * q] = [q]\n",
        "        else:\n",
        "            # q is a composite number\n",
        "            for p in D[q]:\n",
        "                D.setdefault(p + q, []).append(p)\n",
        "            # No longer need to track q\n",
        "            del D[q]\n",
        "        q += 1\n",
        "\n",
        "# Example usage\n",
        "gen = prime_generator()\n",
        "for _ in range(10):\n",
        "    print(next(gen))"
      ],
      "metadata": {
        "colab": {
          "base_uri": "https://localhost:8080/"
        },
        "id": "9eQToCemeZSc",
        "outputId": "e94bed53-4273-4053-99f9-f38f84407fec"
      },
      "execution_count": 2,
      "outputs": [
        {
          "output_type": "stream",
          "name": "stdout",
          "text": [
            "2\n",
            "3\n",
            "5\n",
            "7\n",
            "11\n",
            "13\n",
            "17\n",
            "19\n",
            "23\n",
            "29\n"
          ]
        }
      ]
    }
  ]
}