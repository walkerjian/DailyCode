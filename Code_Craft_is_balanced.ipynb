{
  "nbformat": 4,
  "nbformat_minor": 0,
  "metadata": {
    "colab": {
      "provenance": [],
      "authorship_tag": "ABX9TyOD/udyk7j9nNx/Ko0Ejf1X",
      "include_colab_link": true
    },
    "kernelspec": {
      "name": "python3",
      "display_name": "Python 3"
    },
    "language_info": {
      "name": "python"
    }
  },
  "cells": [
    {
      "cell_type": "markdown",
      "metadata": {
        "id": "view-in-github",
        "colab_type": "text"
      },
      "source": [
        "<a href=\"https://colab.research.google.com/github/walkerjian/DailyCode/blob/main/Code_Craft_is_balanced.ipynb\" target=\"_parent\"><img src=\"https://colab.research.google.com/assets/colab-badge.svg\" alt=\"Open In Colab\"/></a>"
      ]
    },
    {
      "cell_type": "markdown",
      "source": [
        "Given a binary tree, determine whether or not it is height-balanced. A height-balanced binary tree can be defined as one in which the heights of the two subtrees of any node never differ by more than one."
      ],
      "metadata": {
        "id": "R2jhA-yFXW3J"
      }
    },
    {
      "cell_type": "markdown",
      "source": [
        "To determine whether a binary tree is height-balanced, we can use a recursive approach. We'll define a helper function that will calculate the height of the tree and also check if the tree is balanced. If we detect that any subtree is unbalanced, we propagate that information up the recursive call stack. This ensures that the overall complexity remains linear, O(n), where n is the number of nodes in the tree.\n",
        "\n",
        "Here is the Python code to determine whether a binary tree is height-balanced:\n",
        "\n",
        "1. **TreeNode Class**: This is a standard definition of a tree node with a value and pointers to left and right children.\n",
        "2. **is_balanced Function**: This is the main function that checks if the tree is balanced.\n",
        "3. **check_height Helper Function**:\n",
        "    - It recursively calculates the height of a subtree.\n",
        "    - It also checks if the subtree rooted at the current node is balanced.\n",
        "    - If either the left or right subtree is unbalanced, or if the difference in heights of the left and right subtrees is greater than one, the current subtree is also considered unbalanced.\n",
        "4. **Example Usage**: Two examples demonstrate the use of the `is_balanced` function, one with a balanced tree and one with an unbalanced tree.\n",
        "\n",
        "This approach ensures that each node is visited only once, making it efficient for large trees."
      ],
      "metadata": {
        "id": "vPgD-bcNXf6x"
      }
    },
    {
      "cell_type": "code",
      "execution_count": 1,
      "metadata": {
        "colab": {
          "base_uri": "https://localhost:8080/"
        },
        "id": "QSGMcL2PXUf0",
        "outputId": "83f97ac9-c2d3-4b8b-c179-309fde27ac17"
      },
      "outputs": [
        {
          "output_type": "stream",
          "name": "stdout",
          "text": [
            "True\n",
            "False\n"
          ]
        }
      ],
      "source": [
        "class TreeNode:\n",
        "    def __init__(self, val=0, left=None, right=None):\n",
        "        self.val = val\n",
        "        self.left = left\n",
        "        self.right = right\n",
        "\n",
        "def is_balanced(root):\n",
        "    def check_height(node):\n",
        "        if not node:\n",
        "            return 0, True\n",
        "\n",
        "        left_height, left_balanced = check_height(node.left)\n",
        "        right_height, right_balanced = check_height(node.right)\n",
        "\n",
        "        current_height = max(left_height, right_height) + 1\n",
        "        current_balanced = left_balanced and right_balanced and abs(left_height - right_height) <= 1\n",
        "\n",
        "        return current_height, current_balanced\n",
        "\n",
        "    _, is_bal = check_height(root)\n",
        "    return is_bal\n",
        "\n",
        "# Example usage:\n",
        "# Constructing a binary tree\n",
        "#       1\n",
        "#      / \\\n",
        "#     2   3\n",
        "#    / \\\n",
        "#   4   5\n",
        "\n",
        "root = TreeNode(1)\n",
        "root.left = TreeNode(2)\n",
        "root.right = TreeNode(3)\n",
        "root.left.left = TreeNode(4)\n",
        "root.left.right = TreeNode(5)\n",
        "\n",
        "print(is_balanced(root))  # Output: True\n",
        "\n",
        "# Constructing an unbalanced binary tree\n",
        "#       1\n",
        "#      /\n",
        "#     2\n",
        "#    /\n",
        "#   3\n",
        "\n",
        "unbalanced_root = TreeNode(1)\n",
        "unbalanced_root.left = TreeNode(2)\n",
        "unbalanced_root.left.left = TreeNode(3)\n",
        "\n",
        "print(is_balanced(unbalanced_root))  # Output: False"
      ]
    }
  ]
}