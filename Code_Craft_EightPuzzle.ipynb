{
  "nbformat": 4,
  "nbformat_minor": 0,
  "metadata": {
    "colab": {
      "provenance": [],
      "authorship_tag": "ABX9TyPKC1yCIa9XZSqHycjCRQxd",
      "include_colab_link": true
    },
    "kernelspec": {
      "name": "python3",
      "display_name": "Python 3"
    },
    "language_info": {
      "name": "python"
    }
  },
  "cells": [
    {
      "cell_type": "markdown",
      "metadata": {
        "id": "view-in-github",
        "colab_type": "text"
      },
      "source": [
        "<a href=\"https://colab.research.google.com/github/walkerjian/DailyCode/blob/main/Code_Craft_EightPuzzle.ipynb\" target=\"_parent\"><img src=\"https://colab.research.google.com/assets/colab-badge.svg\" alt=\"Open In Colab\"/></a>"
      ]
    },
    {
      "cell_type": "markdown",
      "source": [
        "##Problem:\n",
        "An 8-puzzle is a game played on a 3 x 3 board of tiles, with the ninth tile missing. The remaining tiles are labeled 1 through 8 but shuffled randomly. Tiles may slide horizontally or vertically into an empty space, but may not be removed from the board.\n",
        "\n",
        "Design a class to represent the board, and find a series of steps to bring the board to the state [[1, 2, 3], [4, 5, 6], [7, 8, None]]."
      ],
      "metadata": {
        "id": "ddOUEuKbvVMV"
      }
    },
    {
      "cell_type": "markdown",
      "source": [
        "##Solution:\n",
        "Designing a class to represent an 8-puzzle board and solving the puzzle programmatically involves a few steps. Here's an outline of how to approach this task:\n",
        "\n",
        "1. **Class Design**: The class will represent the 8-puzzle board, including its current state and methods to manipulate and check the state of the board.\n",
        "\n"
      ],
      "metadata": {
        "id": "jViXWBzDvbmb"
      }
    },
    {
      "cell_type": "code",
      "execution_count": 9,
      "metadata": {
        "id": "AbUNDAN6vQB1"
      },
      "outputs": [],
      "source": [
        "class EightPuzzle:\n",
        "    def __init__(self, initial_state):\n",
        "        self.state = initial_state\n",
        "        self.goal = [[1, 2, 3], [4, 5, 6], [7, 8, None]]\n",
        "\n",
        "    def is_goal(self):\n",
        "        return self.state == self.goal\n",
        "\n",
        "    def possible_moves(self):\n",
        "        moves = []\n",
        "        row, col = self.find(None)  # Find the empty space\n",
        "\n",
        "        if row > 0:  # Can move down\n",
        "            moves.append('down')\n",
        "        if row < 2:  # Can move up\n",
        "            moves.append('up')\n",
        "        if col > 0:  # Can move right\n",
        "            moves.append('right')\n",
        "        if col < 2:  # Can move left\n",
        "            moves.append('left')\n",
        "\n",
        "        return moves\n",
        "\n",
        "    # def find(self, value):\n",
        "    #     for i, row in enumerate(self.state):\n",
        "    #         if value in row:\n",
        "    #             return i, row.index(value)\n",
        "\n",
        "    def find(self, value):\n",
        "        \"\"\"\n",
        "        Find the position of a value in the puzzle state.\n",
        "\n",
        "        Args:\n",
        "            value: The value to find.\n",
        "\n",
        "        Returns:\n",
        "            A tuple (row, col) if the value is found, else None.\n",
        "        \"\"\"\n",
        "        for i, row in enumerate(self.state):\n",
        "            if value in row:\n",
        "                return i, row.index(value)\n",
        "        return None  # Return None if value not found\n",
        "\n",
        "    def move(self, direction):\n",
        "        row, col = self.find(None)\n",
        "        if direction == 'up':\n",
        "            self.state[row][col], self.state[row + 1][col] = self.state[row + 1][col], self.state[row][col]\n",
        "        elif direction == 'down':\n",
        "            self.state[row][col], self.state[row - 1][col] = self.state[row - 1][col], self.state[row][col]\n",
        "        elif direction == 'left':\n",
        "            self.state[row][col], self.state[row][col + 1] = self.state[row][col + 1], self.state[row][col]\n",
        "        elif direction == 'right':\n",
        "            self.state[row][col], self.state[row][col - 1] = self.state[row][col - 1], self.state[row][col]\n",
        "\n",
        "    def display(self):\n",
        "        for row in self.state:\n",
        "            print(row)\n"
      ]
    },
    {
      "cell_type": "markdown",
      "source": [
        "\n",
        "2. **Puzzle Solver**: Implementing an algorithm to solve the puzzle. Common algorithms for this purpose include A* search, breadth-first search, or depth-first search.\n"
      ],
      "metadata": {
        "id": "azftOi6fvy1h"
      }
    },
    {
      "cell_type": "code",
      "source": [
        "from collections import deque\n",
        "\n",
        "def bfs_solve(puzzle):\n",
        "    queue = deque([puzzle])\n",
        "    visited = set()\n",
        "    while queue:\n",
        "        current_puzzle = queue.popleft()\n",
        "        if current_puzzle.is_goal():\n",
        "            return current_puzzle\n",
        "        for move in current_puzzle.possible_moves():\n",
        "            new_puzzle = EightPuzzle([row[:] for row in current_puzzle.state])\n",
        "            new_puzzle.move(move)\n",
        "            if str(new_puzzle.state) not in visited:\n",
        "                visited.add(str(new_puzzle.state))\n",
        "                queue.append(new_puzzle)\n",
        "    return None\n"
      ],
      "metadata": {
        "id": "732-ruLxv1Nv"
      },
      "execution_count": 3,
      "outputs": []
    },
    {
      "cell_type": "code",
      "source": [
        "def display_puzzle(puzzle):\n",
        "    \"\"\"\n",
        "    Displays the current state of the puzzle.\n",
        "\n",
        "    Args:\n",
        "        puzzle (EightPuzzle): The puzzle to display.\n",
        "    \"\"\"\n",
        "    for row in puzzle.state:\n",
        "        print(row)\n"
      ],
      "metadata": {
        "id": "JbF-6svawdrJ"
      },
      "execution_count": 5,
      "outputs": []
    },
    {
      "cell_type": "code",
      "source": [
        "def display_puzzle_state(puzzle):\n",
        "    \"\"\"\n",
        "    Prints the state of the puzzle.\n",
        "\n",
        "    Args:\n",
        "        puzzle (EightPuzzle): The puzzle to display.\n",
        "    \"\"\"\n",
        "    for row in puzzle.state:\n",
        "        print(\" \".join([str(x) if x is not None else \" \" for x in row]))\n",
        "    print()\n"
      ],
      "metadata": {
        "id": "NnfbRgmhyx7n"
      },
      "execution_count": 11,
      "outputs": []
    },
    {
      "cell_type": "code",
      "source": [
        "initial_state = [[2, 8, 3], [1, 6, 4], [7, None, 5]]\n",
        "puzzle = EightPuzzle(initial_state)\n",
        "solution = bfs_solve(puzzle)\n",
        "\n",
        "if solution:\n",
        "    solution.display()\n",
        "else:\n",
        "    print(\"No solution found\")\n"
      ],
      "metadata": {
        "colab": {
          "base_uri": "https://localhost:8080/"
        },
        "id": "ivvIVbWOv58M",
        "outputId": "c5d3fd9b-9505-4675-cf2a-4e50e6ed30e3"
      },
      "execution_count": 4,
      "outputs": [
        {
          "output_type": "stream",
          "name": "stdout",
          "text": [
            "No solution found\n"
          ]
        }
      ]
    },
    {
      "cell_type": "markdown",
      "source": [
        "This code represents a basic implementation. The BFS algorithm may not be the most efficient, especially for more complex puzzles, and can be improved with heuristic approaches like A* search. Also, error handling and optimizations can be added for a more robust solution."
      ],
      "metadata": {
        "id": "SzoxlnOWvpQf"
      }
    },
    {
      "cell_type": "code",
      "source": [
        "test_puzzles = [\n",
        "    {\"initial_state\": [[1, 2, 3], [4, 5, 6], [7, 8, None]], \"description\": \"Already Solved Puzzle\"},\n",
        "    {\"initial_state\": [[1, 2, 3], [4, 5, 6], [7, None, 8]], \"description\": \"One Move to Solve\"},\n",
        "    {\"initial_state\": [[1, 2, 3], [4, 5, None], [7, 8, 6]], \"description\": \"Two Moves to Solve\"},\n",
        "    {\"initial_state\": [[1, 2, 3], [5, None, 6], [4, 7, 8]], \"description\": \"Shuffled Puzzle (Easy)\"},\n",
        "    {\"initial_state\": [[1, 3, 6], [4, 2, 5], [7, 8, None]], \"description\": \"Shuffled Puzzle (Medium)\"},\n",
        "    {\"initial_state\": [[5, 4, None], [6, 1, 8], [7, 3, 2]], \"description\": \"Shuffled Puzzle (Hard)\"},\n",
        "    {\"initial_state\": [[8, 7, 6], [5, 4, 3], [2, 1, None]], \"description\": \"Near Inversion (Very Hard)\"}\n",
        "]\n",
        "\n",
        "# Example usage:\n",
        "for test in test_puzzles:\n",
        "    puzzle = EightPuzzle(test[\"initial_state\"])\n",
        "    print(f\"Testing: {test['description']}\")\n",
        "    # Call your solver function here, e.g.,\n",
        "    solution = bfs_solve(puzzle)\n",
        "    # Display the solution or steps here\n",
        "    print(solution)\n"
      ],
      "metadata": {
        "colab": {
          "base_uri": "https://localhost:8080/"
        },
        "id": "SyBW-ax9xn7s",
        "outputId": "7d665ec8-69ea-4b31-83da-8fb97cc2acae"
      },
      "execution_count": 13,
      "outputs": [
        {
          "output_type": "stream",
          "name": "stdout",
          "text": [
            "Testing: Already Solved Puzzle\n",
            "<__main__.EightPuzzle object at 0x7c3bb90b9510>\n",
            "Testing: One Move to Solve\n",
            "<__main__.EightPuzzle object at 0x7c3bb90b9ed0>\n",
            "Testing: Two Moves to Solve\n",
            "<__main__.EightPuzzle object at 0x7c3bb90b98d0>\n",
            "Testing: Shuffled Puzzle (Easy)\n",
            "<__main__.EightPuzzle object at 0x7c3bb90ba320>\n",
            "Testing: Shuffled Puzzle (Medium)\n",
            "None\n",
            "Testing: Shuffled Puzzle (Hard)\n",
            "<__main__.EightPuzzle object at 0x7c3bba2471c0>\n",
            "Testing: Near Inversion (Very Hard)\n",
            "<__main__.EightPuzzle object at 0x7c3bba12bf10>\n"
          ]
        }
      ]
    },
    {
      "cell_type": "code",
      "source": [
        "for test in test_puzzles:\n",
        "    puzzle = EightPuzzle(test[\"initial_state\"])\n",
        "    print(f\"Testing: {test['description']}\")\n",
        "    display_puzzle_state(puzzle)\n",
        "    solution = bfs_solve(puzzle)\n",
        "\n",
        "    if solution:\n",
        "        display_puzzle_state(solution)\n",
        "    else:\n",
        "        print(\"No solution found\\n\")\n"
      ],
      "metadata": {
        "colab": {
          "base_uri": "https://localhost:8080/"
        },
        "id": "8kej14Wvx_5r",
        "outputId": "493cbf9b-b87d-40df-bc90-2fda594e69f6"
      },
      "execution_count": 15,
      "outputs": [
        {
          "output_type": "stream",
          "name": "stdout",
          "text": [
            "Testing: Already Solved Puzzle\n",
            "1 2 3\n",
            "4 5 6\n",
            "7 8  \n",
            "\n",
            "1 2 3\n",
            "4 5 6\n",
            "7 8  \n",
            "\n",
            "Testing: One Move to Solve\n",
            "1 2 3\n",
            "4 5 6\n",
            "7   8\n",
            "\n",
            "1 2 3\n",
            "4 5 6\n",
            "7 8  \n",
            "\n",
            "Testing: Two Moves to Solve\n",
            "1 2 3\n",
            "4 5  \n",
            "7 8 6\n",
            "\n",
            "1 2 3\n",
            "4 5 6\n",
            "7 8  \n",
            "\n",
            "Testing: Shuffled Puzzle (Easy)\n",
            "1 2 3\n",
            "5   6\n",
            "4 7 8\n",
            "\n",
            "1 2 3\n",
            "4 5 6\n",
            "7 8  \n",
            "\n",
            "Testing: Shuffled Puzzle (Medium)\n",
            "1 3 6\n",
            "4 2 5\n",
            "7 8  \n",
            "\n",
            "No solution found\n",
            "\n",
            "Testing: Shuffled Puzzle (Hard)\n",
            "5 4  \n",
            "6 1 8\n",
            "7 3 2\n",
            "\n",
            "1 2 3\n",
            "4 5 6\n",
            "7 8  \n",
            "\n",
            "Testing: Near Inversion (Very Hard)\n",
            "8 7 6\n",
            "5 4 3\n",
            "2 1  \n",
            "\n",
            "1 2 3\n",
            "4 5 6\n",
            "7 8  \n",
            "\n"
          ]
        }
      ]
    },
    {
      "cell_type": "code",
      "source": [
        "def count_inversions(puzzle):\n",
        "    \"\"\"\n",
        "    Counts the number of inversions in the puzzle.\n",
        "    An inversion occurs when a larger numbered tile precedes a smaller number tile.\n",
        "    \"\"\"\n",
        "    # Flatten the puzzle and remove the None\n",
        "    flattened = [tile for row in puzzle for tile in row if tile is not None]\n",
        "    inversions = 0\n",
        "    for i in range(len(flattened)):\n",
        "        for j in range(i + 1, len(flattened)):\n",
        "            if flattened[i] > flattened[j]:\n",
        "                inversions += 1\n",
        "    return inversions\n",
        "\n",
        "def is_solvable(puzzle):\n",
        "    \"\"\"\n",
        "    Determines if the puzzle is solvable.\n",
        "    A puzzle is solvable if the number of inversions is even.\n",
        "    \"\"\"\n",
        "    return count_inversions(puzzle) % 2 == 0\n",
        "\n",
        "# Test the \"Shuffled Puzzle (Medium)\" for solvability\n",
        "test_puzzle_medium = [[1, 3, 6], [4, 2, 5], [7, 8, None]]\n",
        "solvable = is_solvable(test_puzzle_medium)\n",
        "solvable\n"
      ],
      "metadata": {
        "colab": {
          "base_uri": "https://localhost:8080/"
        },
        "id": "s-FxOrVG2rp4",
        "outputId": "53afc2e1-891a-4a4c-c53e-b8af7bbf102b"
      },
      "execution_count": 16,
      "outputs": [
        {
          "output_type": "execute_result",
          "data": {
            "text/plain": [
              "False"
            ]
          },
          "metadata": {},
          "execution_count": 16
        }
      ]
    }
  ]
}