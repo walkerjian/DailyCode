{
  "nbformat": 4,
  "nbformat_minor": 0,
  "metadata": {
    "colab": {
      "provenance": [],
      "authorship_tag": "ABX9TyOOF0sFBK+QB5KWuREVrW8S",
      "include_colab_link": true
    },
    "kernelspec": {
      "name": "python3",
      "display_name": "Python 3"
    },
    "language_info": {
      "name": "python"
    }
  },
  "cells": [
    {
      "cell_type": "markdown",
      "metadata": {
        "id": "view-in-github",
        "colab_type": "text"
      },
      "source": [
        "<a href=\"https://colab.research.google.com/github/walkerjian/DailyCode/blob/main/Code_Craft_look_and_say.ipynb\" target=\"_parent\"><img src=\"https://colab.research.google.com/assets/colab-badge.svg\" alt=\"Open In Colab\"/></a>"
      ]
    },
    {
      "cell_type": "markdown",
      "source": [
        "##Problem:\n",
        "The \"look and say\" sequence is defined as follows: beginning with the term 1, each subsequent term visually describes the digits appearing in the previous term. The first few terms are as follows:\n",
        "\n",
        "1\n",
        "11\n",
        "21\n",
        "1211\n",
        "111221\n",
        "As an example, the fourth term is 1211, since the third term consists of one 2 and one 1.\n",
        "\n",
        "Given an integer N, print the Nth term of this sequence.\n",
        "##Solution:\n",
        "The provided Python function `look_and_say` generates the nth term of the \"look and say\" sequence.\n",
        "\n",
        "1. **Function Definition and Base Cases**:\n",
        "    ```python\n",
        "    def look_and_say(n):\n",
        "        if n == 1:\n",
        "            return \"1\"\n",
        "        if n == 2:\n",
        "            return \"11\"\n",
        "    ```\n",
        "    - The function `look_and_say` is defined to take one argument, `n`, which represents the term number in the sequence.\n",
        "    - If `n` is 1, the function returns \"1\", as the first term in the sequence is \"1\".\n",
        "    - If `n` is 2, it returns \"11\", which is the second term of the sequence.\n",
        "\n",
        "2. **Initialization**:\n",
        "    ```python\n",
        "    s = \"11\"\n",
        "    ```\n",
        "    - The sequence is initialized with \"11\", which is the second term of the sequence. This is a starting point for generating subsequent terms.\n",
        "\n",
        "3. **Iterative Generation of Terms**:\n",
        "    ```python\n",
        "    for i in range(3, n + 1):\n",
        "        s += '$'\n",
        "        l = len(s)\n",
        "        ...\n",
        "    ```\n",
        "    - The loop iterates from 3 to `n` (inclusive), generating each term one after the other.\n",
        "    - The character `$` is appended to the current sequence `s` as a marker to denote the end. This is used to facilitate processing the last digits in the sequence.\n",
        "    - `l` holds the length of the current sequence, including the `$` marker.\n",
        "\n",
        "4. **Processing the Current Term**:\n",
        "    ```python\n",
        "    cnt = 1\n",
        "    tmp = \"\"\n",
        "    for j in range(1, l):\n",
        "        if s[j] != s[j - 1]:\n",
        "            tmp += str(cnt + 0)\n",
        "            tmp += s[j - 1]\n",
        "            cnt = 1\n",
        "        else:\n",
        "            cnt += 1\n",
        "    ```\n",
        "    - `cnt` (count) is used to count the occurrences of each digit.\n",
        "    - `tmp` (temporary string) is used to build the next term in the sequence.\n",
        "    - Inside the nested loop, the function iterates through the characters of `s`.\n",
        "    - If the current character `s[j]` is different from the previous character `s[j - 1]`, the count and the digit are appended to `tmp`, and `cnt` is reset to 1.\n",
        "    - If the current character is the same as the previous one, `cnt` is incremented.\n",
        "\n",
        "5. **Updating the Sequence**:\n",
        "    ```python\n",
        "    s = tmp\n",
        "    ```\n",
        "    - After processing the current term, `s` is updated to `tmp`, which now contains the next term in the sequence.\n",
        "\n",
        "6. **Returning the Result**:\n",
        "    - Finally, after the loop completes, the function returns `s`, which is the nth term of the \"look and say\" sequence.\n",
        "\n",
        "This code effectively builds each term of the sequence by describing the previous term in terms of the count and value of its digits. The sequence is built iteratively, with each step involving a traversal and description of the current term to generate the next."
      ],
      "metadata": {
        "id": "jUbSBbPECvIO"
      }
    },
    {
      "cell_type": "code",
      "execution_count": 2,
      "metadata": {
        "colab": {
          "base_uri": "https://localhost:8080/"
        },
        "id": "CTs1SllXCtZ0",
        "outputId": "7b619750-ad08-4669-facd-36ef8d76e12a"
      },
      "outputs": [
        {
          "output_type": "stream",
          "name": "stdout",
          "text": [
            "111221\n"
          ]
        }
      ],
      "source": [
        "def look_and_say(n):\n",
        "    \"\"\"\n",
        "    Generates the nth term of the \"look and say\" sequence.\n",
        "\n",
        "    The \"look and say\" sequence starts with 1, and each subsequent term is constructed\n",
        "    by verbally describing the digits of the previous term.\n",
        "\n",
        "    Arguments:\n",
        "    n -- an integer representing the term of the sequence to be generated\n",
        "\n",
        "    Returns:\n",
        "    A string representing the nth term of the \"look and say\" sequence.\n",
        "    \"\"\"\n",
        "\n",
        "    # Base cases: 1st and 2nd terms of the sequence\n",
        "    if n == 1:\n",
        "        return \"1\"\n",
        "    if n == 2:\n",
        "        return \"11\"\n",
        "\n",
        "    # Starting with the second term in the sequence\n",
        "    s = \"11\"\n",
        "\n",
        "    # Generate terms from 3 to n\n",
        "    for i in range(3, n + 1):\n",
        "        # Append a marker to denote end of the current sequence\n",
        "        s += '$'\n",
        "        # Length of the current sequence including the marker\n",
        "        l = len(s)\n",
        "\n",
        "        # Initialize count and temporary string for building next term\n",
        "        cnt = 1\n",
        "        tmp = \"\"\n",
        "\n",
        "        # Iterate through the current term to build the next term\n",
        "        for j in range(1, l):\n",
        "            # If current digit is different from the previous one\n",
        "            if s[j] != s[j - 1]:\n",
        "                # Append count and the digit to the temporary string\n",
        "                tmp += str(cnt)\n",
        "                tmp += s[j - 1]\n",
        "                # Reset count for the new digit\n",
        "                cnt = 1\n",
        "            else:\n",
        "                # If current digit is the same as the previous, increment count\n",
        "                cnt += 1\n",
        "\n",
        "        # Update the sequence with the newly constructed term\n",
        "        s = tmp\n",
        "\n",
        "    # Return the nth term of the sequence\n",
        "    return s\n",
        "\n",
        "# Example usage\n",
        "print(look_and_say(5))  # Output will be '111221'\n"
      ]
    }
  ]
}