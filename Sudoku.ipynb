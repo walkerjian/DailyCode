{
  "nbformat": 4,
  "nbformat_minor": 0,
  "metadata": {
    "colab": {
      "provenance": [],
      "authorship_tag": "ABX9TyMwUI8z7dw9FiypwsVHMoOG",
      "include_colab_link": true
    },
    "kernelspec": {
      "name": "python3",
      "display_name": "Python 3"
    },
    "language_info": {
      "name": "python"
    }
  },
  "cells": [
    {
      "cell_type": "markdown",
      "metadata": {
        "id": "view-in-github",
        "colab_type": "text"
      },
      "source": [
        "<a href=\"https://colab.research.google.com/github/walkerjian/DailyCode/blob/main/Sudoku.ipynb\" target=\"_parent\"><img src=\"https://colab.research.google.com/assets/colab-badge.svg\" alt=\"Open In Colab\"/></a>"
      ]
    },
    {
      "cell_type": "code",
      "execution_count": 6,
      "metadata": {
        "colab": {
          "base_uri": "https://localhost:8080/"
        },
        "id": "iPhGHxb19oR9",
        "outputId": "3471b899-0c65-4dc6-bbf0-467896a14e4a"
      },
      "outputs": [
        {
          "output_type": "execute_result",
          "data": {
            "text/plain": [
              "{'easy': [[5, 3, 0, 0, 7, 0, 0, 0, 0],\n",
              "  [6, 0, 0, 1, 9, 5, 0, 0, 0],\n",
              "  [0, 9, 8, 0, 0, 0, 0, 6, 0],\n",
              "  [8, 0, 0, 0, 6, 0, 0, 0, 3],\n",
              "  [4, 0, 0, 8, 0, 3, 0, 0, 1],\n",
              "  [7, 0, 0, 0, 2, 0, 0, 0, 6],\n",
              "  [0, 6, 0, 0, 0, 0, 2, 8, 0],\n",
              "  [0, 0, 0, 4, 1, 9, 0, 0, 5],\n",
              "  [0, 0, 0, 0, 8, 0, 0, 7, 9]],\n",
              " 'medium': [[0, 0, 0, 0, 0, 0, 6, 8, 0],\n",
              "  [0, 0, 0, 0, 7, 3, 0, 0, 9],\n",
              "  [3, 0, 9, 0, 0, 0, 0, 4, 5],\n",
              "  [4, 9, 0, 0, 0, 0, 0, 0, 0],\n",
              "  [8, 0, 3, 0, 5, 0, 9, 0, 2],\n",
              "  [0, 0, 0, 0, 0, 0, 0, 3, 6],\n",
              "  [9, 6, 0, 0, 0, 0, 3, 0, 8],\n",
              "  [7, 0, 0, 6, 8, 0, 0, 0, 0],\n",
              "  [0, 2, 8, 0, 0, 0, 0, 0, 0]],\n",
              " 'hard': [[0, 0, 0, 6, 0, 0, 0, 0, 0],\n",
              "  [0, 5, 9, 0, 0, 0, 0, 0, 8],\n",
              "  [2, 0, 0, 0, 0, 0, 0, 0, 0],\n",
              "  [0, 0, 0, 0, 6, 7, 0, 0, 0],\n",
              "  [0, 0, 0, 9, 0, 1, 0, 0, 0],\n",
              "  [0, 0, 0, 0, 2, 0, 0, 0, 0],\n",
              "  [0, 0, 0, 0, 0, 0, 0, 0, 4],\n",
              "  [5, 0, 0, 0, 0, 0, 6, 2, 0],\n",
              "  [0, 0, 0, 0, 0, 4, 0, 0, 0]]}"
            ]
          },
          "metadata": {},
          "execution_count": 6
        }
      ],
      "source": [
        "# Here we define a few Sudoku puzzles of varying difficulties.\n",
        "# The puzzles are represented as 2D lists, where 0 represents an empty cell.\n",
        "\n",
        "easy_puzzle = [\n",
        "    [5, 3, 0, 0, 7, 0, 0, 0, 0],\n",
        "    [6, 0, 0, 1, 9, 5, 0, 0, 0],\n",
        "    [0, 9, 8, 0, 0, 0, 0, 6, 0],\n",
        "    [8, 0, 0, 0, 6, 0, 0, 0, 3],\n",
        "    [4, 0, 0, 8, 0, 3, 0, 0, 1],\n",
        "    [7, 0, 0, 0, 2, 0, 0, 0, 6],\n",
        "    [0, 6, 0, 0, 0, 0, 2, 8, 0],\n",
        "    [0, 0, 0, 4, 1, 9, 0, 0, 5],\n",
        "    [0, 0, 0, 0, 8, 0, 0, 7, 9]\n",
        "]\n",
        "\n",
        "medium_puzzle = [\n",
        "    [0, 0, 0, 0, 0, 0, 6, 8, 0],\n",
        "    [0, 0, 0, 0, 7, 3, 0, 0, 9],\n",
        "    [3, 0, 9, 0, 0, 0, 0, 4, 5],\n",
        "    [4, 9, 0, 0, 0, 0, 0, 0, 0],\n",
        "    [8, 0, 3, 0, 5, 0, 9, 0, 2],\n",
        "    [0, 0, 0, 0, 0, 0, 0, 3, 6],\n",
        "    [9, 6, 0, 0, 0, 0, 3, 0, 8],\n",
        "    [7, 0, 0, 6, 8, 0, 0, 0, 0],\n",
        "    [0, 2, 8, 0, 0, 0, 0, 0, 0]\n",
        "]\n",
        "\n",
        "hard_puzzle = [\n",
        "    [0, 0, 0, 6, 0, 0, 0, 0, 0],\n",
        "    [0, 5, 9, 0, 0, 0, 0, 0, 8],\n",
        "    [2, 0, 0, 0, 0, 0, 0, 0, 0],\n",
        "    [0, 0, 0, 0, 6, 7, 0, 0, 0],\n",
        "    [0, 0, 0, 9, 0, 1, 0, 0, 0],\n",
        "    [0, 0, 0, 0, 2, 0, 0, 0, 0],\n",
        "    [0, 0, 0, 0, 0, 0, 0, 0, 4],\n",
        "    [5, 0, 0, 0, 0, 0, 6, 2, 0],\n",
        "    [0, 0, 0, 0, 0, 4, 0, 0, 0]\n",
        "]\n",
        "\n",
        "# We'll store the puzzles in a dictionary for easy access and reference\n",
        "sudoku_puzzles = {\n",
        "    \"easy\": easy_puzzle,\n",
        "    \"medium\": medium_puzzle,\n",
        "    \"hard\": hard_puzzle\n",
        "}\n",
        "\n",
        "sudoku_puzzles\n"
      ]
    },
    {
      "cell_type": "code",
      "source": [
        "def is_valid(board, row, col, num):\n",
        "    # Check if the number is already in the current row\n",
        "    if num in board[row]:\n",
        "        return False\n",
        "    # Check if the number is already in the current column\n",
        "    if num in [board[i][col] for i in range(9)]:\n",
        "        return False\n",
        "    # Check if the number is in the current 3x3 box\n",
        "    startRow, startCol = 3 * (row // 3), 3 * (col // 3)\n",
        "    for i in range(3):\n",
        "        for j in range(3):\n",
        "            if board[startRow + i][startCol + j] == num:\n",
        "                return False\n",
        "    return True\n",
        "\n",
        "def solve_sudoku(board):\n",
        "    # Find the first empty spot on the board\n",
        "    for i in range(9):\n",
        "        for j in range(9):\n",
        "            if board[i][j] == 0:\n",
        "                # Try all possible numbers for this spot\n",
        "                for num in range(1, 10):\n",
        "                    if is_valid(board, i, j, num):\n",
        "                        board[i][j] = num\n",
        "                        if solve_sudoku(board):\n",
        "                            return True  # If the board is solvable from here, return True\n",
        "                        board[i][j] = 0  # Otherwise, reset the spot and backtrack\n",
        "                return False  # If no number is valid, this spot cannot be solved\n",
        "    return True  # If no spots are empty, the puzzle is solved\n",
        "\n",
        "# Solve each puzzle in the test harness\n",
        "solutions = {}\n",
        "for level, puzzle in sudoku_puzzles.items():\n",
        "    # We need to copy the puzzle to avoid modifying the original\n",
        "    board_copy = [row[:] for row in puzzle]\n",
        "    if solve_sudoku(board_copy):\n",
        "        solutions[level] = board_copy\n",
        "    else:\n",
        "        solutions[level] = None\n",
        "\n",
        "solutions\n"
      ],
      "metadata": {
        "colab": {
          "base_uri": "https://localhost:8080/"
        },
        "id": "rh6Em-fk90AG",
        "outputId": "be016666-5782-4e7d-b168-b8f908654f17"
      },
      "execution_count": 7,
      "outputs": [
        {
          "output_type": "execute_result",
          "data": {
            "text/plain": [
              "{'easy': [[5, 3, 4, 6, 7, 8, 9, 1, 2],\n",
              "  [6, 7, 2, 1, 9, 5, 3, 4, 8],\n",
              "  [1, 9, 8, 3, 4, 2, 5, 6, 7],\n",
              "  [8, 5, 9, 7, 6, 1, 4, 2, 3],\n",
              "  [4, 2, 6, 8, 5, 3, 7, 9, 1],\n",
              "  [7, 1, 3, 9, 2, 4, 8, 5, 6],\n",
              "  [9, 6, 1, 5, 3, 7, 2, 8, 4],\n",
              "  [2, 8, 7, 4, 1, 9, 6, 3, 5],\n",
              "  [3, 4, 5, 2, 8, 6, 1, 7, 9]],\n",
              " 'medium': [[1, 7, 2, 5, 4, 9, 6, 8, 3],\n",
              "  [6, 4, 5, 8, 7, 3, 2, 1, 9],\n",
              "  [3, 8, 9, 2, 6, 1, 7, 4, 5],\n",
              "  [4, 9, 6, 3, 2, 7, 8, 5, 1],\n",
              "  [8, 1, 3, 4, 5, 6, 9, 7, 2],\n",
              "  [2, 5, 7, 1, 9, 8, 4, 3, 6],\n",
              "  [9, 6, 4, 7, 1, 5, 3, 2, 8],\n",
              "  [7, 3, 1, 6, 8, 2, 5, 9, 4],\n",
              "  [5, 2, 8, 9, 3, 4, 1, 6, 7]],\n",
              " 'hard': [[1, 3, 4, 6, 5, 8, 2, 7, 9],\n",
              "  [6, 5, 9, 1, 7, 2, 3, 4, 8],\n",
              "  [2, 7, 8, 4, 9, 3, 1, 5, 6],\n",
              "  [3, 1, 2, 8, 6, 7, 4, 9, 5],\n",
              "  [8, 6, 5, 9, 4, 1, 7, 3, 2],\n",
              "  [4, 9, 7, 3, 2, 5, 8, 6, 1],\n",
              "  [7, 2, 3, 5, 1, 6, 9, 8, 4],\n",
              "  [5, 4, 1, 7, 8, 9, 6, 2, 3],\n",
              "  [9, 8, 6, 2, 3, 4, 5, 1, 7]]}"
            ]
          },
          "metadata": {},
          "execution_count": 7
        }
      ]
    },
    {
      "cell_type": "code",
      "source": [],
      "metadata": {
        "id": "JKfoYlAG_9Sb"
      },
      "execution_count": null,
      "outputs": []
    }
  ]
}