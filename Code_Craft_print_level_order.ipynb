{
  "nbformat": 4,
  "nbformat_minor": 0,
  "metadata": {
    "colab": {
      "provenance": [],
      "authorship_tag": "ABX9TyNXrxkMAeGM8TyfxBYUcPzg",
      "include_colab_link": true
    },
    "kernelspec": {
      "name": "python3",
      "display_name": "Python 3"
    },
    "language_info": {
      "name": "python"
    }
  },
  "cells": [
    {
      "cell_type": "markdown",
      "metadata": {
        "id": "view-in-github",
        "colab_type": "text"
      },
      "source": [
        "<a href=\"https://colab.research.google.com/github/walkerjian/DailyCode/blob/main/Code_Craft_print_level_order.ipynb\" target=\"_parent\"><img src=\"https://colab.research.google.com/assets/colab-badge.svg\" alt=\"Open In Colab\"/></a>"
      ]
    },
    {
      "cell_type": "markdown",
      "source": [
        "##Problem:\n",
        "User\n",
        "Print the nodes in a binary tree level-wise. For example, the following should print 1, 2, 3, 4, 5.\n",
        "```\n",
        "  1\n",
        " / \\\n",
        "2   3\n",
        "   / \\\n",
        "  4   5\n",
        "```"
      ],
      "metadata": {
        "id": "rYsZrZi6n2hw"
      }
    },
    {
      "cell_type": "markdown",
      "source": [
        "##Solution:\n",
        "To print the nodes of a binary tree level-wise, you can use a breadth-first search (BFS) algorithm. BFS traverses the tree level by level, starting from the root. This can be implemented using a queue to hold the nodes at each level. When a node is processed, its child nodes are added to the queue, ensuring that nodes are processed in level order."
      ],
      "metadata": {
        "id": "a9-vBe9On7wH"
      }
    },
    {
      "cell_type": "markdown",
      "source": [
        "##Implementation\n",
        "Here's a Python implementation of this approach, assuming you have a binary tree represented in a standard node-based structure:\n",
        "###Example Usage\n",
        "```python\n",
        "root = TreeNode(1)\n",
        "root.left = TreeNode(2)\n",
        "root.right = TreeNode(3)\n",
        "root.right.left = TreeNode(4)\n",
        "root.right.right = TreeNode(5)\n",
        "\n",
        "print_level_order(root)\n",
        "```\n",
        "\n",
        "In this code:\n",
        "- `TreeNode` class defines the structure of a tree node.\n",
        "- `print_level_order` function implements the BFS algorithm to traverse the tree level by level.\n",
        "- The example usage constructs the tree as per your example and prints the nodes level-wise."
      ],
      "metadata": {
        "id": "1JfdwJhYoY99"
      }
    },
    {
      "cell_type": "code",
      "execution_count": 1,
      "metadata": {
        "colab": {
          "base_uri": "https://localhost:8080/"
        },
        "id": "bTg1CA6qnwub",
        "outputId": "d8313324-7ce4-4250-919d-3ef63b3a2991"
      },
      "outputs": [
        {
          "output_type": "execute_result",
          "data": {
            "text/plain": [
              "[1, 2, 3, 4, 5]"
            ]
          },
          "metadata": {},
          "execution_count": 1
        }
      ],
      "source": [
        "class TreeNode:\n",
        "    def __init__(self, value=0, left=None, right=None):\n",
        "        self.value = value\n",
        "        self.left = left\n",
        "        self.right = right\n",
        "\n",
        "def print_level_order(root):\n",
        "    if not root:\n",
        "        return\n",
        "\n",
        "    queue = [root]\n",
        "    result = []\n",
        "\n",
        "    while queue:\n",
        "        current_node = queue.pop(0)\n",
        "        result.append(current_node.value)\n",
        "\n",
        "        if current_node.left:\n",
        "            queue.append(current_node.left)\n",
        "        if current_node.right:\n",
        "            queue.append(current_node.right)\n",
        "\n",
        "    return result\n",
        "\n",
        "# Example Usage\n",
        "root = TreeNode(1)\n",
        "root.left = TreeNode(2)\n",
        "root.right = TreeNode(3)\n",
        "root.right.left = TreeNode(4)\n",
        "root.right.right = TreeNode(5)\n",
        "\n",
        "print_level_order(root)\n"
      ]
    }
  ]
}