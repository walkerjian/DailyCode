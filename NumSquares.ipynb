{
  "nbformat": 4,
  "nbformat_minor": 0,
  "metadata": {
    "colab": {
      "provenance": [],
      "authorship_tag": "ABX9TyOedP9b6P9les5Yys7eS6zT",
      "include_colab_link": true
    },
    "kernelspec": {
      "name": "python3",
      "display_name": "Python 3"
    },
    "language_info": {
      "name": "python"
    }
  },
  "cells": [
    {
      "cell_type": "markdown",
      "metadata": {
        "id": "view-in-github",
        "colab_type": "text"
      },
      "source": [
        "<a href=\"https://colab.research.google.com/github/walkerjian/DailyCode/blob/main/NumSquares.ipynb\" target=\"_parent\"><img src=\"https://colab.research.google.com/assets/colab-badge.svg\" alt=\"Open In Colab\"/></a>"
      ]
    },
    {
      "cell_type": "code",
      "source": [
        "import math\n",
        "\n",
        "def num_squares(n):\n",
        "    \"\"\"\n",
        "    Given a positive integer n, this function finds the minimum number of\n",
        "    squared integers which sum to n, and returns those numbers in their squared form.\n",
        "    \"\"\"\n",
        "\n",
        "    # Check if n is a positive integer\n",
        "    if not isinstance(n, int) or n <= 0:\n",
        "        raise ValueError(\"Input must be a positive integer\")\n",
        "\n",
        "    # Initialize DP array\n",
        "    dp = [float('inf')] * (n + 1)\n",
        "    dp[0] = 0\n",
        "\n",
        "    # Compute the DP array\n",
        "    for i in range(1, n + 1):\n",
        "        j = 1\n",
        "        while j * j <= i:\n",
        "            dp[i] = min(dp[i], dp[i - j * j] + 1)\n",
        "            j += 1\n",
        "\n",
        "    # Find the squares that sum to n\n",
        "    squares = []\n",
        "    while n > 0:\n",
        "        for i in range(int(math.sqrt(n)), 0, -1):\n",
        "            if n >= i*i and dp[n - i*i] == dp[n] - 1:\n",
        "                squares.append(i)\n",
        "                n -= i*i\n",
        "                break\n",
        "\n",
        "    # Reverse the list of squares to return the largest squares first\n",
        "    squares.reverse()\n",
        "\n",
        "    return len(squares), squares\n",
        "\n",
        "def test_num_squares(user_test_cases):\n",
        "    for i in user_test_cases:\n",
        "        try:\n",
        "            num, squares = num_squares(i)\n",
        "            print(f\"Test for {i}: Passed. {num} squares {squares}, which sum to {sum([x**2 for x in squares])}\")\n",
        "            assert sum([x**2 for x in squares]) == i, f\"Test failed for {i}: squares do not sum to original number\"\n",
        "            for j in range(1, int(i**0.5)+1):\n",
        "                if i - j*j >= 0:\n",
        "                    remaining, _ = num_squares(i - j*j)\n",
        "                    assert num <= remaining + 1, f\"Test failed for {i}: not minimum number of squares\"\n",
        "        except ValueError:\n",
        "            print(f\"Test for {i}: Passed. Expected ValueError for invalid input\")\n",
        "            pass\n",
        "\n",
        "# example usage\n",
        "test_cases = [13, 27, 1, 12, 25, 999, 1024, -1, 0, 2.5, 33, 1024+13]\n",
        "test_num_squares(test_cases)\n"
      ],
      "metadata": {
        "colab": {
          "base_uri": "https://localhost:8080/"
        },
        "id": "bhhfvfRejO1u",
        "outputId": "82da64ba-18ec-470d-b8a7-c521a9610156"
      },
      "execution_count": 6,
      "outputs": [
        {
          "output_type": "stream",
          "name": "stdout",
          "text": [
            "Test for 13: Passed. 2 squares [2, 3], which sum to 13\n",
            "Test for 27: Passed. 3 squares [1, 1, 5], which sum to 27\n",
            "Test for 1: Passed. 1 squares [1], which sum to 1\n",
            "Test for 1: Passed. Expected ValueError for invalid input\n",
            "Test for 12: Passed. 3 squares [2, 2, 2], which sum to 12\n",
            "Test for 25: Passed. 1 squares [5], which sum to 25\n",
            "Test for 25: Passed. Expected ValueError for invalid input\n",
            "Test for 999: Passed. 4 squares [1, 1, 6, 31], which sum to 999\n",
            "Test for 1024: Passed. 1 squares [32], which sum to 1024\n",
            "Test for 1024: Passed. Expected ValueError for invalid input\n",
            "Test for -1: Passed. Expected ValueError for invalid input\n",
            "Test for 0: Passed. Expected ValueError for invalid input\n",
            "Test for 2.5: Passed. Expected ValueError for invalid input\n",
            "Test for 33: Passed. 3 squares [2, 2, 5], which sum to 33\n",
            "Test for 1037: Passed. 2 squares [14, 29], which sum to 1037\n"
          ]
        }
      ]
    }
  ]
}