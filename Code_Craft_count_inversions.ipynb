{
  "nbformat": 4,
  "nbformat_minor": 0,
  "metadata": {
    "colab": {
      "provenance": [],
      "authorship_tag": "ABX9TyN4VqZ7ZUHUMuJDuzh5A8E+",
      "include_colab_link": true
    },
    "kernelspec": {
      "name": "python3",
      "display_name": "Python 3"
    },
    "language_info": {
      "name": "python"
    }
  },
  "cells": [
    {
      "cell_type": "markdown",
      "metadata": {
        "id": "view-in-github",
        "colab_type": "text"
      },
      "source": [
        "<a href=\"https://colab.research.google.com/github/walkerjian/DailyCode/blob/main/Code_Craft_count_inversions.ipynb\" target=\"_parent\"><img src=\"https://colab.research.google.com/assets/colab-badge.svg\" alt=\"Open In Colab\"/></a>"
      ]
    },
    {
      "cell_type": "markdown",
      "source": [
        "##Problem:\n",
        "We can determine how \"out of order\" an array A is by counting the number of inversions it has. Two elements A[i] and A[j] form an inversion if A[i] > A[j] but i < j. That is, a smaller element appears after a larger element.\n",
        "\n",
        "Given an array, count the number of inversions it has. Do this faster than O(N^2) time.\n",
        "\n",
        "You may assume each element in the array is distinct.\n",
        "\n",
        "For example, a sorted list has zero inversions. The array [2, 4, 1, 3, 5] has three inversions: (2, 1), (4, 1), and (4, 3). The array [5, 4, 3, 2, 1] has ten inversions: every distinct pair forms an inversion."
      ],
      "metadata": {
        "id": "BPOMoJ19Mj_3"
      }
    },
    {
      "cell_type": "markdown",
      "source": [
        "##Solution:\n",
        "To count the number of inversions in an array more efficiently than $O(N^2)$, we can use a modified version of the **merge sort algorithm**. This algorithm, traditionally $O(N log N)$ for sorting, can be adapted to count inversions during the merge step.\n",
        "\n",
        "The idea is to count the number of inversions as we merge two sorted halves of the array. When an element from the right half is placed before an element in the left half during the merge process, it indicates that there are inversions. The number of inversions will be equal to the number of elements remaining in the left half, as these elements are greater than the element from the right half.\n"
      ],
      "metadata": {
        "id": "iCPABk2sMnJY"
      }
    },
    {
      "cell_type": "markdown",
      "source": [
        "##Implementation:\n",
        "Let's implement this approach in Python:\n"
      ],
      "metadata": {
        "id": "3u3pCFsdMpNK"
      }
    },
    {
      "cell_type": "code",
      "execution_count": 1,
      "metadata": {
        "colab": {
          "base_uri": "https://localhost:8080/"
        },
        "id": "L7KsanOGHZo9",
        "outputId": "47d103ed-b97a-4e8f-f2a1-72abd340e9c1"
      },
      "outputs": [
        {
          "output_type": "execute_result",
          "data": {
            "text/plain": [
              "(3, 10)"
            ]
          },
          "metadata": {},
          "execution_count": 1
        }
      ],
      "source": [
        "def merge_and_count(arr, temp, left, mid, right):\n",
        "    \"\"\" Merge two halves of an array and count inversions. \"\"\"\n",
        "    i, j, k = left, mid, left\n",
        "    inv_count = 0\n",
        "\n",
        "    while i <= mid - 1 and j <= right:\n",
        "        if arr[i] <= arr[j]:\n",
        "            temp[k] = arr[i]\n",
        "            k += 1\n",
        "            i += 1\n",
        "        else:\n",
        "            temp[k] = arr[j]\n",
        "            k += 1\n",
        "            j += 1\n",
        "            inv_count += (mid - i)\n",
        "\n",
        "    # Copy the remaining elements of left subarray (if any) to temp\n",
        "    while i <= mid - 1:\n",
        "        temp[k] = arr[i]\n",
        "        k += 1\n",
        "        i += 1\n",
        "\n",
        "    # Copy the remaining elements of right subarray (if any) to temp\n",
        "    while j <= right:\n",
        "        temp[k] = arr[j]\n",
        "        k += 1\n",
        "        j += 1\n",
        "\n",
        "    # Copy back the merged elements to original array\n",
        "    for i in range(left, right + 1):\n",
        "        arr[i] = temp[i]\n",
        "\n",
        "    return inv_count\n",
        "\n",
        "def merge_sort_and_count(arr, temp, left, right):\n",
        "    \"\"\" Sort the array and count inversions using merge sort. \"\"\"\n",
        "    inv_count = 0\n",
        "    if right > left:\n",
        "        mid = (right + left) // 2\n",
        "\n",
        "        # Count inversions in left half\n",
        "        inv_count += merge_sort_and_count(arr, temp, left, mid)\n",
        "\n",
        "        # Count inversions in right half\n",
        "        inv_count += merge_sort_and_count(arr, temp, mid + 1, right)\n",
        "\n",
        "        # Count split inversions\n",
        "        inv_count += merge_and_count(arr, temp, left, mid + 1, right)\n",
        "\n",
        "    return inv_count\n",
        "\n",
        "def count_inversions(arr):\n",
        "    \"\"\" Count inversions in the array. \"\"\"\n",
        "    temp = [0] * len(arr)\n",
        "    return merge_sort_and_count(arr, temp, 0, len(arr) - 1)\n",
        "\n",
        "# Test the function with the given examples\n",
        "example1 = [2, 4, 1, 3, 5]\n",
        "example2 = [5, 4, 3, 2, 1]\n",
        "\n",
        "inversions_example1 = count_inversions(example1)\n",
        "inversions_example2 = count_inversions(example2)\n",
        "\n",
        "inversions_example1, inversions_example2\n"
      ]
    },
    {
      "cell_type": "markdown",
      "source": [
        "The implemented function successfully counts the number of inversions in an array using a modified merge sort algorithm, which is more efficient than the $O(N^2)$ approach\n",
        "\n",
        "For the provided examples:\n",
        "\n",
        "1. The array `[2, 4, 1, 3, 5]` has 3 inversions: `(2, 1), (4, 1), (4, 3)`.\n",
        "2. The array `[5, 4, 3, 2, 1]` has 10 inversions, as every distinct pair forms an inversion.\n",
        "\n",
        "This method efficiently handles the counting of inversions in $ O(N log N) $ time complexity."
      ],
      "metadata": {
        "id": "Upv2qhtFMwBE"
      }
    },
    {
      "cell_type": "code",
      "source": [
        "def merge_and_list_inversions(arr, temp, left, mid, right, inversions):\n",
        "    \"\"\" Merge two halves of an array and list inversions. \"\"\"\n",
        "    i, j, k = left, mid, left\n",
        "\n",
        "    while i <= mid - 1 and j <= right:\n",
        "        if arr[i] <= arr[j]:\n",
        "            temp[k] = arr[i]\n",
        "            k += 1\n",
        "            i += 1\n",
        "        else:\n",
        "            # Since arr[i] > arr[j], all elements from arr[i] to arr[mid-1] are inversions with arr[j]\n",
        "            for m in range(i, mid):\n",
        "                inversions.append((arr[m], arr[j]))\n",
        "            temp[k] = arr[j]\n",
        "            k += 1\n",
        "            j += 1\n",
        "\n",
        "    while i <= mid - 1:\n",
        "        temp[k] = arr[i]\n",
        "        k += 1\n",
        "        i += 1\n",
        "\n",
        "    while j <= right:\n",
        "        temp[k] = arr[j]\n",
        "        k += 1\n",
        "        j += 1\n",
        "\n",
        "    for i in range(left, right + 1):\n",
        "        arr[i] = temp[i]\n",
        "\n",
        "def merge_sort_and_list_inversions(arr, temp, left, right, inversions):\n",
        "    \"\"\" Sort the array and list inversions using merge sort. \"\"\"\n",
        "    if right > left:\n",
        "        mid = (right + left) // 2\n",
        "\n",
        "        merge_sort_and_list_inversions(arr, temp, left, mid, inversions)\n",
        "        merge_sort_and_list_inversions(arr, temp, mid + 1, right, inversions)\n",
        "        merge_and_list_inversions(arr, temp, left, mid + 1, right, inversions)\n",
        "\n",
        "def list_inversions(arr):\n",
        "    \"\"\" List inversions in the array. \"\"\"\n",
        "    temp = [0] * len(arr)\n",
        "    inversions = []\n",
        "    merge_sort_and_list_inversions(arr, temp, 0, len(arr) - 1, inversions)\n",
        "    return inversions\n"
      ],
      "metadata": {
        "id": "H9uC0B2mNSDK"
      },
      "execution_count": null,
      "outputs": []
    },
    {
      "cell_type": "markdown",
      "source": [
        "##Testing:\n"
      ],
      "metadata": {
        "id": "Dj7w-J5XPfk6"
      }
    },
    {
      "cell_type": "code",
      "source": [
        "# Test the function with the given examples\n",
        "example1 = [2, 4, 1, 3, 5]\n",
        "print(example1)\n",
        "inversions_list_example1 = list_inversions(example1.copy())  # Use a copy of the array\n",
        "print(inversions_list_example1)\n",
        "\n",
        "print()\n",
        "\n",
        "example2 = [5, 4, 3, 2, 1]\n",
        "print(example2)\n",
        "inversions_list_example2 = list_inversions(example2.copy())  # Use a copy of the array\n",
        "print(inversions_list_example2)\n"
      ],
      "metadata": {
        "colab": {
          "base_uri": "https://localhost:8080/"
        },
        "id": "VESQbx8FNtZM",
        "outputId": "fd708df1-d1b7-405f-d5e7-e10d16c0a384"
      },
      "execution_count": 13,
      "outputs": [
        {
          "output_type": "stream",
          "name": "stdout",
          "text": [
            "[2, 4, 1, 3, 5]\n",
            "[(2, 1), (4, 1), (4, 3)]\n",
            "\n",
            "[5, 4, 3, 2, 1]\n",
            "[(5, 4), (4, 3), (5, 3), (2, 1), (3, 1), (4, 1), (5, 1), (3, 2), (4, 2), (5, 2)]\n"
          ]
        }
      ]
    }
  ]
}