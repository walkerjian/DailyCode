{
  "nbformat": 4,
  "nbformat_minor": 0,
  "metadata": {
    "colab": {
      "provenance": [],
      "authorship_tag": "ABX9TyOVJmvikm5kuj9AXIZYLpub",
      "include_colab_link": true
    },
    "kernelspec": {
      "name": "python3",
      "display_name": "Python 3"
    },
    "language_info": {
      "name": "python"
    }
  },
  "cells": [
    {
      "cell_type": "markdown",
      "metadata": {
        "id": "view-in-github",
        "colab_type": "text"
      },
      "source": [
        "<a href=\"https://colab.research.google.com/github/walkerjian/DailyCode/blob/main/Code_Craft_is_bipartiteipynb.ipynb\" target=\"_parent\"><img src=\"https://colab.research.google.com/assets/colab-badge.svg\" alt=\"Open In Colab\"/></a>"
      ]
    },
    {
      "cell_type": "markdown",
      "source": [
        "##Problem:\n",
        "Given an undirected graph G, check whether it is bipartite. Recall that a graph is bipartite if its vertices can be divided into two independent sets, U and V, such that no edge connects vertices of the same set.\n"
      ],
      "metadata": {
        "id": "2lWyrXjB8EeD"
      }
    },
    {
      "cell_type": "markdown",
      "source": [
        "##Solution:\n",
        "To check if an undirected graph is bipartite, we can use a coloring method where we try to color each vertex with one of two colors in such a way that no two adjacent vertices share the same color. If we can successfully color the graph this way, then the graph is bipartite. We can achieve this through depth-first search (DFS) or breadth-first search (BFS).\n",
        "\n",
        "Here's how we can implement this:\n",
        "\n",
        "1. Initialize a color array with a size equal to the number of vertices in the graph, filled with -1 (indicating that no vertex is colored yet).\n",
        "2. Choose a starting vertex and color it with color 0.\n",
        "3. Traverse the graph using DFS or BFS. When visiting a vertex, color it with the opposite color of its parent.\n",
        "4. If we ever find an edge where both endpoints are colored the same, the graph is not bipartite.\n",
        "\n",
        "Let's implement this algorithm in Python. We'll use an adjacency list to represent the graph, and we'll implement the check using BFS.\n",
        "\n"
      ],
      "metadata": {
        "id": "jIohycTB8Hjb"
      }
    },
    {
      "cell_type": "markdown",
      "source": [
        "##Implementation:\n",
        "Let's implement this algorithm in Python. We'll use an adjacency list to represent the graph, and we'll implement the check using BFS.\n"
      ],
      "metadata": {
        "id": "pkWuQrLB8K8H"
      }
    },
    {
      "cell_type": "code",
      "execution_count": 1,
      "metadata": {
        "id": "TIIt0l_k7Oi1",
        "colab": {
          "base_uri": "https://localhost:8080/"
        },
        "outputId": "9b726388-1def-4f7b-deb7-ff85386008d3"
      },
      "outputs": [
        {
          "output_type": "execute_result",
          "data": {
            "text/plain": [
              "True"
            ]
          },
          "metadata": {},
          "execution_count": 1
        }
      ],
      "source": [
        "from collections import deque\n",
        "\n",
        "def is_bipartite(graph):\n",
        "    # Number of vertices\n",
        "    n = len(graph)\n",
        "    # -1 indicates that no color is assigned yet. Two colors: 0 and 1.\n",
        "    colors = [-1] * n\n",
        "\n",
        "    # Function to check if the graph is bipartite starting from vertex v\n",
        "    def bfs_check(v):\n",
        "        queue = deque([v])\n",
        "        colors[v] = 0  # Assign the first color to the starting vertex\n",
        "\n",
        "        while queue:\n",
        "            current = queue.popleft()\n",
        "            for neighbor in graph[current]:\n",
        "                if colors[neighbor] == -1:  # If the neighbor is not colored, color it with opposite color\n",
        "                    colors[neighbor] = 1 - colors[current]\n",
        "                    queue.append(neighbor)\n",
        "                elif colors[neighbor] == colors[current]:  # If the neighbor has the same color, graph is not bipartite\n",
        "                    return False\n",
        "        return True\n",
        "\n",
        "    # Check for every component of the graph\n",
        "    for i in range(n):\n",
        "        if colors[i] == -1 and not bfs_check(i):\n",
        "            return False\n",
        "\n",
        "    return True\n",
        "\n",
        "\n",
        "\n"
      ]
    },
    {
      "cell_type": "markdown",
      "source": [
        "##Testing:\n"
      ],
      "metadata": {
        "id": "wcaruNyfYogT"
      }
    },
    {
      "cell_type": "code",
      "source": [
        "# Example graph represented as an adjacency list\n",
        "graph = {\n",
        "    0: [1, 3],\n",
        "    1: [0, 2],\n",
        "    2: [1, 3],\n",
        "    3: [0, 2]\n",
        "}\n",
        "\n",
        "is_bipartite(graph)\n"
      ],
      "metadata": {
        "colab": {
          "base_uri": "https://localhost:8080/"
        },
        "id": "L8ivhsoxlxIW",
        "outputId": "0790b053-d8fd-48fb-d315-4496d15bc673"
      },
      "execution_count": 2,
      "outputs": [
        {
          "output_type": "execute_result",
          "data": {
            "text/plain": [
              "True"
            ]
          },
          "metadata": {},
          "execution_count": 2
        }
      ]
    },
    {
      "cell_type": "markdown",
      "source": [
        "The implemented function `is_bipartite` checks whether a given undirected graph is bipartite or not. In the example graph provided, which forms a simple cycle of four vertices, the function correctly determined that the graph is bipartite. This means the vertices of the graph can be divided into two sets such that no two vertices within the same set are adjacent."
      ],
      "metadata": {
        "id": "ooNfRFvUlt_B"
      }
    }
  ]
}