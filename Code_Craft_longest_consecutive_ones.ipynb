{
  "nbformat": 4,
  "nbformat_minor": 0,
  "metadata": {
    "colab": {
      "provenance": [],
      "authorship_tag": "ABX9TyNySWJfzli+offc3B4CsY5n",
      "include_colab_link": true
    },
    "kernelspec": {
      "name": "python3",
      "display_name": "Python 3"
    },
    "language_info": {
      "name": "python"
    }
  },
  "cells": [
    {
      "cell_type": "markdown",
      "metadata": {
        "id": "view-in-github",
        "colab_type": "text"
      },
      "source": [
        "<a href=\"https://colab.research.google.com/github/walkerjian/DailyCode/blob/main/Code_Craft_longest_consecutive_ones.ipynb\" target=\"_parent\"><img src=\"https://colab.research.google.com/assets/colab-badge.svg\" alt=\"Open In Colab\"/></a>"
      ]
    },
    {
      "cell_type": "markdown",
      "source": [
        "#Problem:\n",
        "To solve the problem of finding the longest consecutive run of 1s in the binary representation of a given integer \\( n \\), we can outline our approach and then implement it in Python.\n",
        "\n",
        "**Approach:**\n",
        "1. Convert the integer \\( n \\) to its binary representation using Python's built-in `bin()` function.\n",
        "2. Strip the leading '0b' that Python adds to the start of binary representations.\n",
        "3. Split the binary string on '0' characters, resulting in a list where each element contains only consecutive 1s.\n",
        "4. Determine the length of the longest string of 1s in this list.\n",
        "5. Return this length.\n"
      ],
      "metadata": {
        "id": "tH7CkhIN6Ovd"
      }
    },
    {
      "cell_type": "markdown",
      "source": [
        "##Solution:"
      ],
      "metadata": {
        "id": "itQ9Rbxe6Twn"
      }
    },
    {
      "cell_type": "markdown",
      "source": [
        "##Implementation:\n",
        "\n",
        "We'll implement this function and also print out the binary representation of \\( n \\) for visual verification.\n"
      ],
      "metadata": {
        "id": "Cb3P4iVt6W-J"
      }
    },
    {
      "cell_type": "code",
      "source": [
        "def longest_consecutive_ones(n):\n",
        "    # Convert the number to binary, remove the leading '0b'\n",
        "    binary_representation = bin(n)[2:]\n",
        "\n",
        "    # Split the binary string by '0', results in list of consecutive 1's groups\n",
        "    groups_of_ones = binary_representation.split('0')\n",
        "\n",
        "    # Determine the longest length\n",
        "    longest_length = max(len(group) for group in groups_of_ones)\n",
        "\n",
        "    return binary_representation, longest_length"
      ],
      "metadata": {
        "id": "lve1Yewi6N4N"
      },
      "execution_count": 1,
      "outputs": []
    },
    {
      "cell_type": "code",
      "execution_count": 2,
      "metadata": {
        "id": "kVX9PbNY6M7_",
        "colab": {
          "base_uri": "https://localhost:8080/"
        },
        "outputId": "d8ca287e-b6d2-4734-dd57-d891a4e77d02"
      },
      "outputs": [
        {
          "output_type": "stream",
          "name": "stdout",
          "text": [
            "The binary representation of 156 is 10011100.\n",
            "The longest consecutive run of 1s is 3.\n"
          ]
        }
      ],
      "source": [
        "n = 156\n",
        "binary_representation, length = longest_consecutive_ones(n)\n",
        "print(f\"The binary representation of {n} is {binary_representation}.\")\n",
        "print(f\"The longest consecutive run of 1s is {length}.\")"
      ]
    },
    {
      "cell_type": "markdown",
      "source": [
        "##Testing:\n",
        "We can further verify this function with multiple test cases to ensure it works across a variety of inputs. Let's test with several other values:\n",
        "\n",
        "1. \\( n = 1 \\) (binary: `1`)\n",
        "2. \\( n = 15 \\) (binary: `1111`)\n",
        "3. \\( n = 256 \\) (binary: `100000000`)\n",
        "4. \\( n = 1023 \\) (binary: `1111111111`)\n",
        "5. \\( n = 0 \\) (binary: `0`)\n",
        "6. \\( n = 1025 \\) (binary: `10000000001`)\n",
        "\n",
        "Each of these cases provides unique binary patterns that will help ensure the robustness of the function."
      ],
      "metadata": {
        "id": "rmascGp76a_Q"
      }
    },
    {
      "cell_type": "code",
      "source": [
        "# Define test cases\n",
        "test_cases = [1, 15, 156, 256, 1023, 0, 1025]\n",
        "\n",
        "# Apply the function to each test case\n",
        "test_results = {n: longest_consecutive_ones(n) for n in test_cases}\n",
        "test_results\n"
      ],
      "metadata": {
        "colab": {
          "base_uri": "https://localhost:8080/"
        },
        "id": "ixe1zj6woxqI",
        "outputId": "d843afab-92dc-4ef6-ed0a-9ab558ed64a4"
      },
      "execution_count": 3,
      "outputs": [
        {
          "output_type": "execute_result",
          "data": {
            "text/plain": [
              "{1: ('1', 1),\n",
              " 15: ('1111', 4),\n",
              " 156: ('10011100', 3),\n",
              " 256: ('100000000', 1),\n",
              " 1023: ('1111111111', 10),\n",
              " 0: ('0', 0),\n",
              " 1025: ('10000000001', 1)}"
            ]
          },
          "metadata": {},
          "execution_count": 3
        }
      ]
    }
  ]
}