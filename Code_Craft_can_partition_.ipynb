{
  "nbformat": 4,
  "nbformat_minor": 0,
  "metadata": {
    "colab": {
      "provenance": [],
      "authorship_tag": "ABX9TyPXEekFwYVEkJqTNF7sB0e8",
      "include_colab_link": true
    },
    "kernelspec": {
      "name": "python3",
      "display_name": "Python 3"
    },
    "language_info": {
      "name": "python"
    }
  },
  "cells": [
    {
      "cell_type": "markdown",
      "metadata": {
        "id": "view-in-github",
        "colab_type": "text"
      },
      "source": [
        "<a href=\"https://colab.research.google.com/github/walkerjian/DailyCode/blob/main/Code_Craft_can_partition_.ipynb\" target=\"_parent\"><img src=\"https://colab.research.google.com/assets/colab-badge.svg\" alt=\"Open In Colab\"/></a>"
      ]
    },
    {
      "cell_type": "markdown",
      "source": [
        "##Problem:\n",
        "Given a multiset of integers, return whether it can be partitioned into two subsets whose sums are the same.\n",
        "\n",
        "For example, given the multiset {15, 5, 20, 10, 35, 15, 10}, it would return true, since we can split it up into {15, 5, 10, 15, 10} and {20, 35}, which both add up to 55.\n",
        "\n",
        "Given the multiset {15, 5, 20, 10, 35}, it would return false, since we can't split it up into two subsets that add up to the same sum."
      ],
      "metadata": {
        "id": "AINUSvCslPWv"
      }
    },
    {
      "cell_type": "markdown",
      "source": [
        "##Solution:\n",
        "To solve this problem, we can use dynamic programming. The problem is a variation of the \"Subset Sum\" problem, which is a common example used in dynamic programming. Here, we need to find if there is a subset that sums to half of the total sum of the multiset, because only in this case, we can divide the multiset into two subsets with equal sum.\n",
        "\n",
        "The approach is as follows:\n",
        "\n",
        "1. Calculate the total sum of the multiset. If the sum is odd, we cannot possibly divide it into two subsets with equal sum, so we return false.\n",
        "\n",
        "2. Otherwise, we use dynamic programming to find if there's a subset with a sum equal to half of the total sum.\n",
        "\n",
        "The dynamic programming solution creates a 2D array `dp` where `dp[i][j]` will be true if a subset with sum `j` can be achieved using the first `i` elements of the multiset."
      ],
      "metadata": {
        "id": "CVxZc6WzlU-T"
      }
    },
    {
      "cell_type": "markdown",
      "source": [
        "##Implementation:\n",
        "This function first calculates the total sum of the multiset, then checks if this sum is even. If it is, it creates a 2D array for dynamic programming and checks if there's a subset with a sum equal to half the total sum."
      ],
      "metadata": {
        "id": "TMcx7rhcljZL"
      }
    },
    {
      "cell_type": "code",
      "execution_count": 1,
      "metadata": {
        "colab": {
          "base_uri": "https://localhost:8080/"
        },
        "id": "54OPvYM5lOLP",
        "outputId": "596702e9-a96e-4b72-df94-b2a2054d1ab8"
      },
      "outputs": [
        {
          "output_type": "stream",
          "name": "stdout",
          "text": [
            "True\n",
            "False\n"
          ]
        }
      ],
      "source": [
        "def can_partition(multiset):\n",
        "    total_sum = sum(multiset)\n",
        "\n",
        "    # If total sum is odd, cannot partition\n",
        "    if total_sum % 2 != 0:\n",
        "        return False\n",
        "\n",
        "    target = total_sum // 2\n",
        "    n = len(multiset)\n",
        "    dp = [[False for _ in range(target + 1)] for _ in range(n + 1)]\n",
        "\n",
        "    # A sum of 0 is always possible\n",
        "    for i in range(n + 1):\n",
        "        dp[i][0] = True\n",
        "\n",
        "    # Build the dp table in bottom-up manner\n",
        "    for i in range(1, n + 1):\n",
        "        for j in range(1, target + 1):\n",
        "            if j < multiset[i - 1]:\n",
        "                dp[i][j] = dp[i - 1][j]\n",
        "            else:\n",
        "                dp[i][j] = dp[i - 1][j] or dp[i - 1][j - multiset[i - 1]]\n",
        "\n",
        "    return dp[n][target]\n",
        "\n",
        "# Test cases\n",
        "print(can_partition([15, 5, 20, 10, 35, 15, 10]))  # True\n",
        "print(can_partition([15, 5, 20, 10, 35]))  # False"
      ]
    }
  ]
}