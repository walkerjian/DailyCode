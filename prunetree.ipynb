{
  "nbformat": 4,
  "nbformat_minor": 0,
  "metadata": {
    "colab": {
      "provenance": [],
      "authorship_tag": "ABX9TyPLwLZBeHNELEAa7bAeT7kC",
      "include_colab_link": true
    },
    "kernelspec": {
      "name": "python3",
      "display_name": "Python 3"
    },
    "language_info": {
      "name": "python"
    }
  },
  "cells": [
    {
      "cell_type": "markdown",
      "metadata": {
        "id": "view-in-github",
        "colab_type": "text"
      },
      "source": [
        "<a href=\"https://colab.research.google.com/github/walkerjian/DailyCode/blob/main/prunetree.ipynb\" target=\"_parent\"><img src=\"https://colab.research.google.com/assets/colab-badge.svg\" alt=\"Open In Colab\"/></a>"
      ]
    },
    {
      "cell_type": "code",
      "execution_count": 1,
      "metadata": {
        "colab": {
          "base_uri": "https://localhost:8080/"
        },
        "id": "nKdLHqLa6oiG",
        "outputId": "b1ee8b1b-3a26-4f93-800d-ac236148b2c8"
      },
      "outputs": [
        {
          "output_type": "stream",
          "name": "stdout",
          "text": [
            "[[0, 1, 0, None, None, 1], [], [1], [1], [0, None, 1, None, 1]]\n"
          ]
        }
      ],
      "source": [
        "class TreeNode:\n",
        "    def __init__(self, val=0, left=None, right=None):\n",
        "        self.val = val\n",
        "        self.left = left\n",
        "        self.right = right\n",
        "\n",
        "def pruneTree(root: TreeNode) -> TreeNode:\n",
        "    # Base Case: if root is null, return null\n",
        "    if not root:\n",
        "        return None\n",
        "\n",
        "    # Post-order traversal: Left, Right, Root\n",
        "    root.left = pruneTree(root.left)\n",
        "    root.right = pruneTree(root.right)\n",
        "\n",
        "    # If both children are null and current node value is 0, prune this node\n",
        "    if not root.left and not root.right and root.val == 0:\n",
        "        return None\n",
        "\n",
        "    return root\n",
        "\n",
        "# Helper function to convert tree to list for easier testing and visualization\n",
        "def tree_to_list(root: TreeNode):\n",
        "    if not root:\n",
        "        return []\n",
        "    result = [root.val]\n",
        "    queue = [root]\n",
        "    while queue:\n",
        "        current = queue.pop(0)\n",
        "        if current:\n",
        "            result.append(current.left.val if current.left else None)\n",
        "            result.append(current.right.val if current.right else None)\n",
        "            if current.left:\n",
        "                queue.append(current.left)\n",
        "            if current.right:\n",
        "                queue.append(current.right)\n",
        "    # Remove trailing Nones which represent absent nodes in the complete binary tree representation\n",
        "    while result and result[-1] is None:\n",
        "        result.pop()\n",
        "    return result\n",
        "\n",
        "# Create the given binary tree\n",
        "root = TreeNode(0)\n",
        "root.left = TreeNode(1)\n",
        "root.right = TreeNode(0, TreeNode(1, TreeNode(0), TreeNode(0)), TreeNode(0))\n",
        "\n",
        "# Prune the tree\n",
        "pruned_tree = pruneTree(root)\n",
        "\n",
        "# Convert the pruned tree to list for testing\n",
        "pruned_tree_list = tree_to_list(pruned_tree)\n",
        "pruned_tree_list\n",
        "\n",
        "def test_pruneTree():\n",
        "    results = []\n",
        "\n",
        "    # Test Case 1: The example you provided\n",
        "    root1 = TreeNode(0)\n",
        "    root1.left = TreeNode(1)\n",
        "    root1.right = TreeNode(0, TreeNode(1, TreeNode(0), TreeNode(0)), TreeNode(0))\n",
        "    pruned_tree1 = pruneTree(root1)\n",
        "    results.append(tree_to_list(pruned_tree1))  # Expected: [0, 1, 0, None, None, 1]\n",
        "\n",
        "    # Test Case 2: A tree with only 0s\n",
        "    root2 = TreeNode(0, TreeNode(0), TreeNode(0))\n",
        "    pruned_tree2 = pruneTree(root2)\n",
        "    results.append(tree_to_list(pruned_tree2))  # Expected: []\n",
        "\n",
        "    # Test Case 3: A tree with mixed 0s and 1s, but all leaves are 0s\n",
        "    root3 = TreeNode(1, TreeNode(0), TreeNode(0, TreeNode(0), TreeNode(0)))\n",
        "    pruned_tree3 = pruneTree(root3)\n",
        "    results.append(tree_to_list(pruned_tree3))  # Expected: [1]\n",
        "\n",
        "    # Test Case 4: A tree with a 1 at its root only\n",
        "    root4 = TreeNode(1)\n",
        "    pruned_tree4 = pruneTree(root4)\n",
        "    results.append(tree_to_list(pruned_tree4))  # Expected: [1]\n",
        "\n",
        "    # Test Case 5: A tree where left subtree is all 0s and right subtree has 1s\n",
        "    root5 = TreeNode(0, TreeNode(0, TreeNode(0), TreeNode(0)), TreeNode(1, TreeNode(0), TreeNode(1)))\n",
        "    pruned_tree5 = pruneTree(root5)\n",
        "    results.append(tree_to_list(pruned_tree5))  # Expected: [0, None, 1, None, None, None, 1]\n",
        "\n",
        "    return results\n",
        "\n",
        "# Run the test function and print the results\n",
        "print(test_pruneTree())\n"
      ]
    },
    {
      "cell_type": "code",
      "source": [],
      "metadata": {
        "id": "fd_4PE4f6vxY"
      },
      "execution_count": null,
      "outputs": []
    }
  ]
}