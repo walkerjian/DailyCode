{
  "nbformat": 4,
  "nbformat_minor": 0,
  "metadata": {
    "colab": {
      "provenance": [],
      "authorship_tag": "ABX9TyPCGUrJQXHHvnTGiGhhBwQ9",
      "include_colab_link": true
    },
    "kernelspec": {
      "name": "python3",
      "display_name": "Python 3"
    },
    "language_info": {
      "name": "python"
    }
  },
  "cells": [
    {
      "cell_type": "markdown",
      "metadata": {
        "id": "view-in-github",
        "colab_type": "text"
      },
      "source": [
        "<a href=\"https://colab.research.google.com/github/walkerjian/DailyCode/blob/main/Code_Craft__is_minimally_connected.ipynb\" target=\"_parent\"><img src=\"https://colab.research.google.com/assets/colab-badge.svg\" alt=\"Open In Colab\"/></a>"
      ]
    },
    {
      "cell_type": "markdown",
      "source": [
        "##Problem:\n",
        "A graph is minimally-connected if it is connected and there is no edge that can be removed while still leaving the graph connected. For example, any binary tree is minimally-connected.\n",
        "\n",
        "Given an undirected graph, check if the graph is minimally-connected. You can choose to represent the graph as either an adjacency matrix or adjacency list.\n"
      ],
      "metadata": {
        "id": "2lWyrXjB8EeD"
      }
    },
    {
      "cell_type": "markdown",
      "source": [
        "##Solution:\n",
        "To determine if an undirected graph is minimally-connected, we need to check two conditions:\n",
        "\n",
        "1. The graph is connected: There's a path between every pair of vertices.\n",
        "2. The graph is minimally connected: Removing any edge would make the graph disconnected. This is equivalent to saying the graph has no cycles because if a cycle exists, we could remove an edge from the cycle, and the graph would still be connected.\n",
        "\n",
        "We can represent the graph using an adjacency list for efficiency, as it's more space-efficient for sparse graphs and easier to iterate over neighbors of a vertex.\n",
        "\n",
        "Here's how we can approach this problem:\n",
        "\n",
        "1. Use Depth-First Search (DFS) to check if the graph is connected.\n",
        "2. During the DFS, check for cycles. If we encounter a node that has been visited and is not the direct parent, a cycle exists, and the graph is not minimally-connected.\n",
        "\n",
        "Let's implement this in Python:\n"
      ],
      "metadata": {
        "id": "jIohycTB8Hjb"
      }
    },
    {
      "cell_type": "markdown",
      "source": [
        "##Implementation:\n",
        "```python\n",
        "def is_minimally_connected(graph):\n",
        "    # The graph is represented as an adjacency list\n",
        "    visited = set()\n",
        "    \n",
        "    def dfs(node, parent):\n",
        "        visited.add(node)\n",
        "        for neighbor in graph[node]:\n",
        "            if neighbor not in visited:\n",
        "                if not dfs(neighbor, node):\n",
        "                    return False\n",
        "            elif neighbor != parent:\n",
        "                # A cycle is detected, so the graph is not minimally-connected\n",
        "                return False\n",
        "        return True\n",
        "\n",
        "    # Check if the graph is connected and minimally-connected\n",
        "    # Start the DFS from the first node (assuming the graph is 0-indexed)\n",
        "    if not dfs(0, -1):\n",
        "        return False\n",
        "\n",
        "    # Check if all nodes were visited (ensuring the graph is connected)\n",
        "    return len(visited) == len(graph)\n",
        "\n",
        "# Example graph (a simple tree)\n",
        "graph = {\n",
        "    0: [1, 2],\n",
        "    1: [0, 3],\n",
        "    2: [0],\n",
        "    3: [1]\n",
        "}\n",
        "\n",
        "print(is_minimally_connected(graph))  # Should return True\n",
        "```\n",
        "\n",
        "In this code, the `dfs` function is used both to check for connectivity and to detect cycles. The graph is considered minimally connected if it is fully connected (all nodes are visited during the DFS) and no cycles are detected.\n"
      ],
      "metadata": {
        "id": "pkWuQrLB8K8H"
      }
    },
    {
      "cell_type": "code",
      "execution_count": 1,
      "metadata": {
        "id": "TIIt0l_k7Oi1",
        "colab": {
          "base_uri": "https://localhost:8080/"
        },
        "outputId": "7f0bc917-7273-4df0-f3cc-21ca72fa5926"
      },
      "outputs": [
        {
          "output_type": "stream",
          "name": "stdout",
          "text": [
            "True\n"
          ]
        }
      ],
      "source": [
        "def is_minimally_connected(graph):\n",
        "    # The graph is represented as an adjacency list\n",
        "    visited = set()\n",
        "\n",
        "    def dfs(node, parent):\n",
        "        visited.add(node)\n",
        "        for neighbor in graph[node]:\n",
        "            if neighbor not in visited:\n",
        "                if not dfs(neighbor, node):\n",
        "                    return False\n",
        "            elif neighbor != parent:\n",
        "                # A cycle is detected, so the graph is not minimally-connected\n",
        "                return False\n",
        "        return True\n",
        "\n",
        "    # Check if the graph is connected and minimally-connected\n",
        "    # Start the DFS from the first node (assuming the graph is 0-indexed)\n",
        "    if not dfs(0, -1):\n",
        "        return False\n",
        "\n",
        "    # Check if all nodes were visited (ensuring the graph is connected)\n",
        "    return len(visited) == len(graph)\n",
        "\n",
        "# Example graph (a simple tree)\n",
        "graph = {\n",
        "    0: [1, 2],\n",
        "    1: [0, 3],\n",
        "    2: [0],\n",
        "    3: [1]\n",
        "}\n",
        "\n",
        "print(is_minimally_connected(graph))  # Should return True\n"
      ]
    },
    {
      "cell_type": "markdown",
      "source": [
        "##Testing:\n"
      ],
      "metadata": {
        "id": "wcaruNyfYogT"
      }
    },
    {
      "cell_type": "code",
      "source": [],
      "metadata": {
        "id": "7arfxk2ORsA8"
      },
      "execution_count": null,
      "outputs": []
    }
  ]
}