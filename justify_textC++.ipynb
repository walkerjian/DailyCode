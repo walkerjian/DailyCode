{
  "nbformat": 4,
  "nbformat_minor": 0,
  "metadata": {
    "colab": {
      "provenance": [],
      "authorship_tag": "ABX9TyOgb4enBrgKf0djLhiNy8UX",
      "include_colab_link": true
    },
    "kernelspec": {
      "name": "python3",
      "display_name": "Python 3"
    },
    "language_info": {
      "name": "python"
    }
  },
  "cells": [
    {
      "cell_type": "markdown",
      "metadata": {
        "id": "view-in-github",
        "colab_type": "text"
      },
      "source": [
        "<a href=\"https://colab.research.google.com/github/walkerjian/DailyCode/blob/main/justify_textC%2B%2B.ipynb\" target=\"_parent\"><img src=\"https://colab.research.google.com/assets/colab-badge.svg\" alt=\"Open In Colab\"/></a>"
      ]
    },
    {
      "cell_type": "markdown",
      "source": [
        "Write an algorithm in the latest C++ idioms that is maximally efficient in time and space, to justify text. Given a sequence of words and an integer line length k, return a list of strings which represents each line, fully justified.\n",
        "\n",
        "More specifically, you should have as many words as possible in each line. There should be at least one space between each word. Pad extra spaces when necessary so that each line has exactly length k. Spaces should be distributed as equally as possible, with the extra spaces, if any, distributed starting from the left.\n",
        "\n",
        "If you can only fit one word on a line, then you should pad the right-hand side with spaces.\n",
        "\n",
        "Each word is guaranteed not to be longer than k.\n",
        "\n",
        "For example, given the list of words [\"the\", \"quick\", \"brown\", \"fox\", \"jumps\", \"over\", \"the\", \"lazy\", \"dog\"] and k = 16, you should return the following:\n",
        "\n",
        "[\"the  quick brown\", # 1 extra space on the left\n",
        "\"fox  jumps  over\", # 2 extra spaces distributed evenly\n",
        "\"the   lazy   dog\"] # 4 extra spaces distributed evenly"
      ],
      "metadata": {
        "id": "g33tf37IcS78"
      }
    },
    {
      "cell_type": "code",
      "execution_count": 5,
      "metadata": {
        "colab": {
          "base_uri": "https://localhost:8080/"
        },
        "id": "VFiY0RcmaIiE",
        "outputId": "8412473e-ba10-420c-a59a-688c4940633f"
      },
      "outputs": [
        {
          "output_type": "stream",
          "name": "stdout",
          "text": [
            "Overwriting justify_text.cpp\n"
          ]
        }
      ],
      "source": [
        "%%writefile justify_text.cpp\n",
        "#include <iostream>\n",
        "#include <vector>\n",
        "#include <string>\n",
        "\n",
        "std::vector<std::string> justifyText(const std::vector<std::string>& words, int k) {\n",
        "    std::vector<std::string> result;\n",
        "    int n = words.size();\n",
        "    int i = 0;\n",
        "\n",
        "    while (i < n) {\n",
        "        // Step 1: Determine which words can fit on a line\n",
        "        int length = words[i].length();\n",
        "        int j = i + 1;\n",
        "        while (j < n && length + words[j].length() + (j - i) <= k) {\n",
        "            length += words[j].length();\n",
        "            j++;\n",
        "        }\n",
        "\n",
        "        // Number of spaces required\n",
        "        int totalSpaces = k - length;\n",
        "        int numWords = j - i;\n",
        "\n",
        "        // Step 2: Justify the line\n",
        "        if (numWords == 1 || j == n) { // if there's only one word on the line or it's the last line\n",
        "            result.push_back(words[i]);\n",
        "            for (int l = i + 1; l < j; l++) {\n",
        "                result.back() += \" \" + words[l];\n",
        "            }\n",
        "            while (result.back().length() < k) {\n",
        "                result.back() += \" \";\n",
        "            }\n",
        "        } else {\n",
        "            int spacesBetweenWords = totalSpaces / (numWords - 1);\n",
        "            int extraSpaces = totalSpaces % (numWords - 1);\n",
        "\n",
        "            std::string line = words[i];\n",
        "            for (int l = i + 1; l < j; l++) {\n",
        "                int spacesToAdd = spacesBetweenWords + (l - i <= extraSpaces ? 1 : 0);\n",
        "                line += std::string(spacesToAdd, ' ') + words[l];\n",
        "            }\n",
        "            result.push_back(line);\n",
        "        }\n",
        "\n",
        "        // Step 3: Move to next set of words\n",
        "        i = j;\n",
        "    }\n",
        "\n",
        "    return result;\n",
        "}\n",
        "\n",
        "int main() {\n",
        "    std::vector<std::string> words = {\"the\", \"quick\", \"brown\", \"fox\", \"jumps\", \"over\", \"the\", \"lazy\", \"dog\"};\n",
        "    int k = 16;\n",
        "    std::vector<std::string> result = justifyText(words, k);\n",
        "    for (const auto& line : result) {\n",
        "        std::cout << \"\\\"\" << line << \"\\\"\" << std::endl;\n",
        "    }\n",
        "    return 0;\n",
        "}"
      ]
    },
    {
      "cell_type": "code",
      "source": [
        "!g++ -o justify_text justify_text.cpp -std=c++11"
      ],
      "metadata": {
        "id": "ORq40K9IaiTi"
      },
      "execution_count": 6,
      "outputs": []
    },
    {
      "cell_type": "code",
      "source": [
        "!./justify_text"
      ],
      "metadata": {
        "colab": {
          "base_uri": "https://localhost:8080/"
        },
        "id": "dNHskrNaajdo",
        "outputId": "6347bf41-9645-4a89-9d6a-9690cad56201"
      },
      "execution_count": 7,
      "outputs": [
        {
          "output_type": "stream",
          "name": "stdout",
          "text": [
            "\"the  quick brown\"\n",
            "\"fox  jumps  over\"\n",
            "\"the lazy dog    \"\n"
          ]
        }
      ]
    },
    {
      "cell_type": "markdown",
      "source": [
        "To optimize the code for the latest incarnation of C++, we can make use of some modern C++ features and practices. Here are some suggestions:\n",
        "\n",
        "1. **Using `std::string_view`**: Instead of copying strings, we can use `std::string_view` which provides a non-owning reference to a string, offering faster substring operations without allocations.\n",
        "2. **Ranged-based for loops with structured binding**: Makes the code more readable.\n",
        "3. **Lambdas and algorithms**: Instead of manual loops, utilize algorithms where appropriate.\n",
        "4. **Compile with optimizations**: Use compiler flags like `-O3` for maximum optimizations."
      ],
      "metadata": {
        "id": "yrp_lXZCb79G"
      }
    },
    {
      "cell_type": "code",
      "source": [
        "%%writefile justify_textO22.cpp\n",
        "#include <iostream>\n",
        "#include <vector>\n",
        "#include <string>\n",
        "#include <string_view>\n",
        "\n",
        "std::vector<std::string> justifyText(const std::vector<std::string_view>& words, int k) {\n",
        "    std::vector<std::string> result;\n",
        "    auto it = words.begin();\n",
        "\n",
        "    while (it != words.end()) {\n",
        "        int length = it->length();\n",
        "        auto nextIt = it + 1;\n",
        "\n",
        "        while (nextIt != words.end() && length + nextIt->length() + (nextIt - it) <= k) {\n",
        "            length += nextIt->length();\n",
        "            nextIt++;\n",
        "        }\n",
        "\n",
        "        int totalSpaces = k - length;\n",
        "        int numWords = nextIt - it;\n",
        "\n",
        "        if (numWords == 1 || nextIt == words.end()) {\n",
        "            result.push_back(std::string(*it));\n",
        "            for (auto wordIt = it + 1; wordIt != nextIt; ++wordIt) {\n",
        "                result.back() += \" \";\n",
        "                result.back() += *wordIt;\n",
        "            }\n",
        "            while (result.back().size() < k) {\n",
        "                result.back() += \" \";\n",
        "            }\n",
        "        } else {\n",
        "            int spacesBetweenWords = totalSpaces / (numWords - 1);\n",
        "            int extraSpaces = totalSpaces % (numWords - 1);\n",
        "\n",
        "            std::string line = std::string(*it);\n",
        "            for (auto wordIt = it + 1; wordIt != nextIt; ++wordIt) {\n",
        "                int spacesToAdd = spacesBetweenWords + (wordIt - it <= extraSpaces ? 1 : 0);\n",
        "                line += std::string(spacesToAdd, ' ') + std::string(*wordIt);\n",
        "            }\n",
        "            result.push_back(line);\n",
        "        }\n",
        "\n",
        "        it = nextIt;\n",
        "    }\n",
        "\n",
        "    return result;\n",
        "}\n",
        "\n",
        "int main() {\n",
        "    std::vector<std::string_view> words = {\"the\", \"quick\", \"brown\", \"fox\", \"jumps\", \"over\", \"the\", \"lazy\", \"dog\"};\n",
        "    int k = 16;\n",
        "    std::vector<std::string> result = justifyText(words, k);\n",
        "    for (const auto& line : result) {\n",
        "        std::cout << \"\\\"\" << line << \"\\\"\" << std::endl;\n",
        "    }\n",
        "    return 0;\n",
        "}\n"
      ],
      "metadata": {
        "colab": {
          "base_uri": "https://localhost:8080/"
        },
        "id": "bMkLexyva0Fj",
        "outputId": "7f965373-3422-4255-d36c-cc9f847c253f"
      },
      "execution_count": 9,
      "outputs": [
        {
          "output_type": "stream",
          "name": "stdout",
          "text": [
            "Writing justify_textO22.cpp\n"
          ]
        }
      ]
    },
    {
      "cell_type": "code",
      "source": [
        "!g++ -o justify_textO22 justify_textO22.cpp -std=c++20 -O3"
      ],
      "metadata": {
        "id": "PAVe6NtdbakK"
      },
      "execution_count": 10,
      "outputs": []
    },
    {
      "cell_type": "code",
      "source": [
        "!./justify_textO22\n"
      ],
      "metadata": {
        "colab": {
          "base_uri": "https://localhost:8080/"
        },
        "id": "_fVVbANmbrfw",
        "outputId": "946e0c1e-ee26-4507-ca08-55bd3a26d4bb"
      },
      "execution_count": 11,
      "outputs": [
        {
          "output_type": "stream",
          "name": "stdout",
          "text": [
            "\"the  quick brown\"\n",
            "\"fox  jumps  over\"\n",
            "\"the lazy dog    \"\n"
          ]
        }
      ]
    },
    {
      "cell_type": "code",
      "source": [],
      "metadata": {
        "id": "fCgBjMDLb1bB"
      },
      "execution_count": null,
      "outputs": []
    }
  ]
}