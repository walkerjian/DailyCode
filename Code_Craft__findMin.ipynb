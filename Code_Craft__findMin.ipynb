{
  "nbformat": 4,
  "nbformat_minor": 0,
  "metadata": {
    "colab": {
      "provenance": [],
      "authorship_tag": "ABX9TyNRb4TbpxQCR6zbaP4eb1Qu",
      "include_colab_link": true
    },
    "kernelspec": {
      "name": "python3",
      "display_name": "Python 3"
    },
    "language_info": {
      "name": "python"
    }
  },
  "cells": [
    {
      "cell_type": "markdown",
      "metadata": {
        "id": "view-in-github",
        "colab_type": "text"
      },
      "source": [
        "<a href=\"https://colab.research.google.com/github/walkerjian/DailyCode/blob/main/Code_Craft__findMin.ipynb\" target=\"_parent\"><img src=\"https://colab.research.google.com/assets/colab-badge.svg\" alt=\"Open In Colab\"/></a>"
      ]
    },
    {
      "cell_type": "markdown",
      "source": [
        "##Problem:\n",
        "Given a node in a binary search tree, return the next bigger element, also known as the inorder successor.\n",
        "\n",
        "For example, the inorder successor of 22 is 30.\n",
        "```\n",
        "   10\n",
        "  /  \\\n",
        " 5    30\n",
        "     /  \\\n",
        "   22    35\n",
        "```\n",
        "You can assume each node has a parent pointer."
      ],
      "metadata": {
        "id": "1eKdaKQurqiL"
      }
    },
    {
      "cell_type": "markdown",
      "source": [
        "##Solution:\n",
        "To find the inorder successor of a given node in a binary search tree (BST), there are two main cases to consider:\n",
        "\n",
        "1. **The node has a right subtree**: In this case, the inorder successor is the leftmost (minimum) node in its right subtree.\n",
        "2. **The node does not have a right subtree**: In this case, we go up the BST using the parent pointers until we find a node which is the left child of its parent. This parent node is the inorder successor.\n",
        "\n",
        "Here's a Python function to achieve this. The function assumes that each node in the BST has three properties: `value` (the node's value), `left` (the left child), `right` (the right child), and `parent` (the parent of the node).\n",
        "\n"
      ],
      "metadata": {
        "id": "41WAXXbprxWo"
      }
    },
    {
      "cell_type": "code",
      "execution_count": 14,
      "metadata": {
        "colab": {
          "base_uri": "https://localhost:8080/",
          "height": 551
        },
        "id": "PpvnaArQromH",
        "outputId": "abdad0b0-31d1-4b42-ec7c-110b45827097"
      },
      "outputs": [
        {
          "output_type": "display_data",
          "data": {
            "text/plain": [
              "<Figure size 640x480 with 1 Axes>"
            ],
            "image/png": "[encoded data removed]"
          },
          "metadata": {}
        },
        {
          "output_type": "stream",
          "name": "stdout",
          "text": [
            "Inorder successor of node with value 22 is: 30\n",
            "Inorder successor of node with value 5 is: 10\n"
          ]
        }
      ],
      "source": [
        "import matplotlib.pyplot as plt\n",
        "import networkx as nx\n",
        "\n",
        "class TreeNode:\n",
        "    def __init__(self, value, left=None, right=None, parent=None):\n",
        "        self.value = value\n",
        "        self.left = left\n",
        "        self.right = right\n",
        "        self.parent = parent\n",
        "\n",
        "def findMin(node):\n",
        "    current = node\n",
        "    while current.left is not None:\n",
        "        current = current.left\n",
        "    return current\n",
        "\n",
        "def inorderSuccessor(node):\n",
        "    if node is None:\n",
        "        return None\n",
        "\n",
        "    # Case 1: Node has right subtree\n",
        "    if node.right:\n",
        "        return findMin(node.right)\n",
        "\n",
        "    # Case 2: Node has no right subtree\n",
        "    p = node.parent\n",
        "    while p is not None and node == p.right:\n",
        "        node = p\n",
        "        p = p.parent\n",
        "\n",
        "    return p\n",
        "\n",
        "def addNode(parent, child_value, is_left):\n",
        "    if parent is None:\n",
        "        return None\n",
        "\n",
        "    child = TreeNode(child_value, parent=parent)\n",
        "    if is_left:\n",
        "        parent.left = child\n",
        "    else:\n",
        "        parent.right = child\n",
        "    return child\n",
        "\n",
        "def drawTree(root):\n",
        "    if root is None:\n",
        "        return\n",
        "\n",
        "    def add_edges(node, G=None, pos=None, level=0, x=0):\n",
        "        if G is None:\n",
        "            G = nx.DiGraph()\n",
        "        if pos is None:\n",
        "            pos = {}\n",
        "\n",
        "        pos[node.value] = (x, -level)\n",
        "        if node.left:\n",
        "            G.add_edge(node.value, node.left.value)\n",
        "            add_edges(node.left, G, pos, level + 1, x - 1)\n",
        "        if node.right:\n",
        "            G.add_edge(node.value, node.right.value)\n",
        "            add_edges(node.right, G, pos, level + 1, x + 1)\n",
        "\n",
        "        return G, pos\n",
        "\n",
        "    G, pos = add_edges(root)\n",
        "    nx.draw(G, pos, with_labels=True, arrows=False, node_size=500)\n",
        "    plt.show()\n",
        "\n",
        "# Build the example tree\n",
        "root = TreeNode(10)\n",
        "n5 = addNode(root, 5, True)\n",
        "n30 = addNode(root, 30, False)\n",
        "n22 = addNode(n30, 22, True)\n",
        "n35 = addNode(n30, 35, False)\n",
        "\n",
        "# Draw the tree\n",
        "drawTree(root)\n",
        "successor = inorderSuccessor(n22)\n",
        "if successor:\n",
        "    print(\"Inorder successor of node with value\", n22.value, \"is:\", successor.value)\n",
        "else:\n",
        "    print(\"The node with value\", n22.value, \"has no inorder successor.\")\n",
        "successor = inorderSuccessor(n5)\n",
        "if successor:\n",
        "    print(\"Inorder successor of node with value\", n5.value, \"is:\", successor.value)\n",
        "else:\n",
        "    print(\"The node with value\", n5.value, \"has no inorder successor.\")"
      ]
    },
    {
      "cell_type": "markdown",
      "source": [
        "This function first checks if the node has a right subtree. If it does, it finds the minimum in the right subtree. If not, it moves up the tree until it finds a node that is a left child of its parent. This node's parent is the inorder successor. If such a node is not found, it means the given node is the rightmost node in the tree, and its inorder successor does not exist (in which case the function returns `None`)."
      ],
      "metadata": {
        "id": "yT7hYJXrr5wI"
      }
    }
  ]
}