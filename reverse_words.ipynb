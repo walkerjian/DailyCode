{
  "nbformat": 4,
  "nbformat_minor": 0,
  "metadata": {
    "colab": {
      "provenance": [],
      "authorship_tag": "ABX9TyPGsCPO1OhG9aMn3+laKg75",
      "include_colab_link": true
    },
    "kernelspec": {
      "name": "python3",
      "display_name": "Python 3"
    },
    "language_info": {
      "name": "python"
    }
  },
  "cells": [
    {
      "cell_type": "markdown",
      "metadata": {
        "id": "view-in-github",
        "colab_type": "text"
      },
      "source": [
        "<a href=\"https://colab.research.google.com/github/walkerjian/DailyCode/blob/main/reverse_words.ipynb\" target=\"_parent\"><img src=\"https://colab.research.google.com/assets/colab-badge.svg\" alt=\"Open In Colab\"/></a>"
      ]
    },
    {
      "cell_type": "markdown",
      "source": [
        "#Given a string of words delimited by spaces, reverse the words in string.\n",
        "##For example, given \"hello world here\", return \"here world hello\""
      ],
      "metadata": {
        "id": "0705uhCa6UTe"
      }
    },
    {
      "cell_type": "markdown",
      "source": [
        "## Step 1: Model\n",
        "The model will contain the core logic for our problem.\n",
        "\n",
        "### Problem:\n",
        "Given a string of words delimited by spaces, reverse the words in the string.\n",
        "\n",
        "### Solution Approach:\n",
        "1. Split the string using spaces to get individual words.\n",
        "2. Reverse the list of words.\n",
        "3. Join the reversed list with spaces to get the final string.\n",
        "\n",
        "## Step 2: View\n",
        "The view will be responsible for displaying output. Given this is a simple console application, the view will be limited to simple print statements.\n",
        "\n",
        "## Step 3: Controller\n",
        "The controller will take input, use the model to process it, and then use the view to display the output."
      ],
      "metadata": {
        "id": "rUeCbsZ16Xy5"
      }
    },
    {
      "cell_type": "code",
      "execution_count": 1,
      "metadata": {
        "colab": {
          "base_uri": "https://localhost:8080/"
        },
        "id": "VAkrVrKD6Q9K",
        "outputId": "88aab3af-14b6-4854-a68f-fcfb578585eb"
      },
      "outputs": [
        {
          "output_type": "stream",
          "name": "stdout",
          "text": [
            "Original: hello world here\n",
            "Reversed: here world hello\n",
            "\n",
            "Original: OpenAI is great\n",
            "Reversed: great is OpenAI\n",
            "\n",
            "Original: The quick brown fox\n",
            "Reversed: fox brown quick The\n",
            "\n",
            "Original: jumps over the lazy dog\n",
            "Reversed: dog lazy the over jumps\n",
            "\n",
            "Original: a b c d e f g\n",
            "Reversed: g f e d c b a\n",
            "\n",
            "Original: I love coding\n",
            "Reversed: coding love I\n",
            "\n",
            "Original: Python is an amazing language\n",
            "Reversed: language amazing an is Python\n",
            "\n",
            "Original: This is a test case\n",
            "Reversed: case test a is This\n",
            "\n",
            "Original: One more to go\n",
            "Reversed: go to more One\n",
            "\n",
            "Original: Final test case\n",
            "Reversed: case test Final\n",
            "\n"
          ]
        }
      ],
      "source": [
        "class ReverseWordsModel:\n",
        "    \"\"\"\n",
        "    The core logic for reversing words in a given string.\n",
        "    \"\"\"\n",
        "    @staticmethod\n",
        "    def reverse_words(s: str) -> str:\n",
        "        \"\"\"\n",
        "        Reverses the words in the string.\n",
        "\n",
        "        Parameters:\n",
        "        - s (str): The input string.\n",
        "\n",
        "        Returns:\n",
        "        - str: The string with reversed words.\n",
        "        \"\"\"\n",
        "        # Split the string using spaces\n",
        "        words = s.split()\n",
        "\n",
        "        # Reverse the list of words\n",
        "        reversed_words = words[::-1]\n",
        "\n",
        "        # Join the reversed list with spaces\n",
        "        return ' '.join(reversed_words)\n",
        "\n",
        "\n",
        "class ReverseWordsView:\n",
        "    \"\"\"\n",
        "    Responsible for displaying output.\n",
        "    \"\"\"\n",
        "    @staticmethod\n",
        "    def display(output: str, original: str) -> None:\n",
        "        \"\"\"\n",
        "        Displays the reversed words alongside the original string.\n",
        "\n",
        "        Parameters:\n",
        "        - output (str): The string with reversed words.\n",
        "        - original (str): The original input string.\n",
        "        \"\"\"\n",
        "        print(f\"Original: {original}\\nReversed: {output}\\n\")\n",
        "\n",
        "\n",
        "class ReverseWordsController:\n",
        "    \"\"\"\n",
        "    Orchestrates the Model and View.\n",
        "    \"\"\"\n",
        "    def __init__(self):\n",
        "        self.model = ReverseWordsModel()\n",
        "        self.view = ReverseWordsView()\n",
        "\n",
        "    def execute(self, s: str) -> None:\n",
        "        \"\"\"\n",
        "        Takes an input string, uses the model to reverse its words and then displays the output using the view.\n",
        "\n",
        "        Parameters:\n",
        "        - s (str): The input string.\n",
        "        \"\"\"\n",
        "        reversed_string = self.model.reverse_words(s)\n",
        "        self.view.display(reversed_string, s)\n",
        "\n",
        "\n",
        "def test_reverse_words():\n",
        "    \"\"\"\n",
        "    Test harness for reverse_words functionality.\n",
        "    \"\"\"\n",
        "    controller = ReverseWordsController()\n",
        "\n",
        "    test_cases = [\n",
        "        \"hello world here\",\n",
        "        \"OpenAI is great\",\n",
        "        \"The quick brown fox\",\n",
        "        \"jumps over the lazy dog\",\n",
        "        \"a b c d e f g\",\n",
        "        \"I love coding\",\n",
        "        \"Python is an amazing language\",\n",
        "        \"This is a test case\",\n",
        "        \"One more to go\",\n",
        "        \"Final test case\"\n",
        "    ]\n",
        "\n",
        "    for test in test_cases:\n",
        "        controller.execute(test)\n",
        "\n",
        "test_reverse_words()\n"
      ]
    },
    {
      "cell_type": "markdown",
      "source": [
        "##Maximally efficient, done in-place:"
      ],
      "metadata": {
        "id": "sl1hBQQ1-Qb3"
      }
    },
    {
      "cell_type": "code",
      "source": [
        "def reverse_segment(s: list, start: int, end: int) -> None:\n",
        "    \"\"\"\n",
        "    Reverses a segment of the list in-place.\n",
        "\n",
        "    Parameters:\n",
        "    - s (list): The list of characters.\n",
        "    - start (int): The starting index of the segment.\n",
        "    - end (int): The ending index of the segment.\n",
        "    \"\"\"\n",
        "    while start < end:\n",
        "        s[start], s[end] = s[end], s[start]\n",
        "        start += 1\n",
        "        end -= 1\n",
        "\n",
        "def reverse_words_in_place(s: str) -> str:\n",
        "    \"\"\"\n",
        "    Reverses the words in a given mutable string representation in-place.\n",
        "\n",
        "    Parameters:\n",
        "    - s (str): The input string.\n",
        "\n",
        "    Returns:\n",
        "    - str: The string with reversed words.\n",
        "    \"\"\"\n",
        "    # Convert string to list for mutable representation\n",
        "    s_list = list(s)\n",
        "\n",
        "    # Reverse the entire list\n",
        "    reverse_segment(s_list, 0, len(s_list) - 1)\n",
        "\n",
        "    # Reverse individual words in the reversed list\n",
        "    start = 0\n",
        "    for end in range(len(s_list)):\n",
        "        if s_list[end] == ' ':  # Found a word\n",
        "            reverse_segment(s_list, start, end - 1)\n",
        "            start = end + 1\n",
        "    # Reverse the last word if it exists\n",
        "    reverse_segment(s_list, start, len(s_list) - 1)\n",
        "\n",
        "    return ''.join(s_list)\n",
        "\n",
        "# Testing\n",
        "test_string = \"hello world here\"\n",
        "reversed_string = reverse_words_in_place(test_string)\n",
        "test_string, reversed_string\n"
      ],
      "metadata": {
        "colab": {
          "base_uri": "https://localhost:8080/"
        },
        "id": "sxwOi_a46mPV",
        "outputId": "8100a422-c3f4-4c52-d1e3-a8f9d8a5cdd3"
      },
      "execution_count": 2,
      "outputs": [
        {
          "output_type": "execute_result",
          "data": {
            "text/plain": [
              "('hello world here', 'here world hello')"
            ]
          },
          "metadata": {},
          "execution_count": 2
        }
      ]
    },
    {
      "cell_type": "code",
      "source": [
        "def test_reverse_words_in_place():\n",
        "    \"\"\"\n",
        "    Test harness for reverse_words_in_place functionality.\n",
        "    \"\"\"\n",
        "    test_cases = [\n",
        "        \"hello world here\",\n",
        "        \"OpenAI is great\",\n",
        "        \"The quick brown fox\",\n",
        "        \"jumps over the lazy dog\",\n",
        "        \"a b c d e f g\",\n",
        "        \"I love coding\",\n",
        "        \"Python is an amazing language\",\n",
        "        \"This is a test case\",\n",
        "        \"One more to go\",\n",
        "        \"Final test case\"\n",
        "    ]\n",
        "\n",
        "    results = []\n",
        "    for test in test_cases:\n",
        "        reversed_string = reverse_words_in_place(test)\n",
        "        results.append((test, reversed_string))\n",
        "\n",
        "    return results\n",
        "\n",
        "test_results = test_reverse_words_in_place()\n",
        "test_results\n"
      ],
      "metadata": {
        "colab": {
          "base_uri": "https://localhost:8080/"
        },
        "id": "aaZ1Exo07O1J",
        "outputId": "525ba148-ba64-42c2-cd54-78ba8dcc3b04"
      },
      "execution_count": 3,
      "outputs": [
        {
          "output_type": "execute_result",
          "data": {
            "text/plain": [
              "[('hello world here', 'here world hello'),\n",
              " ('OpenAI is great', 'great is OpenAI'),\n",
              " ('The quick brown fox', 'fox brown quick The'),\n",
              " ('jumps over the lazy dog', 'dog lazy the over jumps'),\n",
              " ('a b c d e f g', 'g f e d c b a'),\n",
              " ('I love coding', 'coding love I'),\n",
              " ('Python is an amazing language', 'language amazing an is Python'),\n",
              " ('This is a test case', 'case test a is This'),\n",
              " ('One more to go', 'go to more One'),\n",
              " ('Final test case', 'case test Final')]"
            ]
          },
          "metadata": {},
          "execution_count": 3
        }
      ]
    },
    {
      "cell_type": "markdown",
      "source": [
        "##Reverse the entire string, then reverse each delimited word in the string using the same function, all done in place."
      ],
      "metadata": {
        "id": "jg4SHWgv_Hel"
      }
    },
    {
      "cell_type": "code",
      "source": [
        "def reverse_words_in_place_efficient(s: str) -> str:\n",
        "    \"\"\"\n",
        "    Reverses the words in a given mutable string representation in-place using an efficient method.\n",
        "\n",
        "    Parameters:\n",
        "    - s (str): The input string.\n",
        "\n",
        "    Returns:\n",
        "    - str: The string with reversed words.\n",
        "    \"\"\"\n",
        "    # Convert string to list for mutable representation\n",
        "    s_list = list(s)\n",
        "\n",
        "    # Reverse the entire list\n",
        "    reverse_segment(s_list, 0, len(s_list) - 1)\n",
        "\n",
        "    # Reverse individual words in the reversed list\n",
        "    start = 0\n",
        "    for end in range(len(s_list)):\n",
        "        if s_list[end] == ' ':  # Found a word\n",
        "            reverse_segment(s_list, start, end - 1)\n",
        "            start = end + 1\n",
        "    # Reverse the last word if it exists\n",
        "    reverse_segment(s_list, start, len(s_list) - 1)\n",
        "\n",
        "    return ''.join(s_list)\n",
        "\n",
        "# Testing\n",
        "test_string_efficient = \"hello world here\"\n",
        "reversed_string_efficient = reverse_words_in_place_efficient(test_string_efficient)\n",
        "test_string_efficient, reversed_string_efficient\n"
      ],
      "metadata": {
        "colab": {
          "base_uri": "https://localhost:8080/"
        },
        "id": "virt63zE80Ab",
        "outputId": "fa7e8e74-bc87-45b1-c71a-0320ef5b4610"
      },
      "execution_count": 4,
      "outputs": [
        {
          "output_type": "execute_result",
          "data": {
            "text/plain": [
              "('hello world here', 'here world hello')"
            ]
          },
          "metadata": {},
          "execution_count": 4
        }
      ]
    },
    {
      "cell_type": "code",
      "source": [
        "def test_reverse_words_in_place_efficient():\n",
        "    \"\"\"\n",
        "    Test harness for reverse_words_in_place_efficient functionality.\n",
        "    \"\"\"\n",
        "    test_cases = [\n",
        "        \"hello world here\",\n",
        "        \"OpenAI is great\",\n",
        "        \"The quick brown fox\",\n",
        "        \"jumps over the lazy dog\",\n",
        "        \"a b c d e f g\",\n",
        "        \"I love coding\",\n",
        "        \"Python is an amazing language\",\n",
        "        \"This is a test case\",\n",
        "        \"One more to go\",\n",
        "        \"Final test case\"\n",
        "    ]\n",
        "\n",
        "    results = []\n",
        "    for test in test_cases:\n",
        "        reversed_string = reverse_words_in_place_efficient(test)\n",
        "        results.append((test, reversed_string))\n",
        "\n",
        "    return results\n",
        "\n",
        "test_results_efficient = test_reverse_words_in_place_efficient()\n",
        "test_results_efficient\n"
      ],
      "metadata": {
        "colab": {
          "base_uri": "https://localhost:8080/"
        },
        "id": "zPtSbdlv81k9",
        "outputId": "a8f25128-2c5b-4f89-c406-13c813ac8792"
      },
      "execution_count": 5,
      "outputs": [
        {
          "output_type": "execute_result",
          "data": {
            "text/plain": [
              "[('hello world here', 'here world hello'),\n",
              " ('OpenAI is great', 'great is OpenAI'),\n",
              " ('The quick brown fox', 'fox brown quick The'),\n",
              " ('jumps over the lazy dog', 'dog lazy the over jumps'),\n",
              " ('a b c d e f g', 'g f e d c b a'),\n",
              " ('I love coding', 'coding love I'),\n",
              " ('Python is an amazing language', 'language amazing an is Python'),\n",
              " ('This is a test case', 'case test a is This'),\n",
              " ('One more to go', 'go to more One'),\n",
              " ('Final test case', 'case test Final')]"
            ]
          },
          "metadata": {},
          "execution_count": 5
        }
      ]
    }
  ]
}