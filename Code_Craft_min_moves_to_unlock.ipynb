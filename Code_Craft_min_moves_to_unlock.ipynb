{
  "nbformat": 4,
  "nbformat_minor": 0,
  "metadata": {
    "colab": {
      "provenance": [],
      "authorship_tag": "ABX9TyPuT01pMbAwPdFevmXV2E+q",
      "include_colab_link": true
    },
    "kernelspec": {
      "name": "python3",
      "display_name": "Python 3"
    },
    "language_info": {
      "name": "python"
    }
  },
  "cells": [
    {
      "cell_type": "markdown",
      "metadata": {
        "id": "view-in-github",
        "colab_type": "text"
      },
      "source": [
        "<a href=\"https://colab.research.google.com/github/walkerjian/DailyCode/blob/main/Code_Craft_min_moves_to_unlock.ipynb\" target=\"_parent\"><img src=\"https://colab.research.google.com/assets/colab-badge.svg\" alt=\"Open In Colab\"/></a>"
      ]
    },
    {
      "cell_type": "markdown",
      "source": [
        "##Problem:\n",
        "You are given a circular lock with three wheels, each of which display the numbers 0 through 9 in order. Each of these wheels rotate clockwise and counterclockwise.\n",
        "\n",
        "In addition, the lock has a certain number of \"dead ends\", meaning that if you turn the wheels to one of these combinations, the lock becomes stuck in that state and cannot be opened.\n",
        "\n",
        "Let us consider a \"move\" to be a rotation of a single wheel by one digit, in either direction. Given a lock initially set to 000, a target combination, and a list of dead ends, write a function that returns the minimum number of moves required to reach the target state, or None if this is impossible.\n"
      ],
      "metadata": {
        "id": "2lWyrXjB8EeD"
      }
    },
    {
      "cell_type": "markdown",
      "source": [
        "##Solution:\n",
        "To solve this problem, we can use a breadth-first search (BFS) approach, where each state of the lock is represented by a node in the graph. The edges between nodes represent a single move of one of the wheels. Here's how we can approach the problem:\n",
        "\n",
        "1. Start from the initial state '000'.\n",
        "2. Generate all possible states from the current state by incrementing or decrementing each of the three wheels.\n",
        "3. For each generated state, if it's not a dead end and has not been visited yet, add it to the queue for further exploration.\n",
        "4. Count each step taken as a move.\n",
        "5. Continue the process until the target state is reached or no more states are available for exploration.\n",
        "\n",
        "If the queue is exhausted and the target state has not been reached, then it's impossible to unlock, and we should return `None`. Otherwise, we return the number of moves taken to reach the target state.\n"
      ],
      "metadata": {
        "id": "jIohycTB8Hjb"
      }
    },
    {
      "cell_type": "markdown",
      "source": [
        "##Implementation:\n",
        "Let's implement this in Python.\n",
        "\n",
        "\n"
      ],
      "metadata": {
        "id": "pkWuQrLB8K8H"
      }
    },
    {
      "cell_type": "code",
      "execution_count": 1,
      "metadata": {
        "id": "TIIt0l_k7Oi1",
        "colab": {
          "base_uri": "https://localhost:8080/"
        },
        "outputId": "d67bde28-fde1-46d6-896f-da444ab73221"
      },
      "outputs": [
        {
          "output_type": "execute_result",
          "data": {
            "text/plain": [
              "4"
            ]
          },
          "metadata": {},
          "execution_count": 1
        }
      ],
      "source": [
        "from collections import deque\n",
        "\n",
        "def min_moves_to_unlock(target, dead_ends):\n",
        "    # Helper function to get the next states\n",
        "    def get_next_states(state):\n",
        "        states = []\n",
        "        for i in range(3):\n",
        "            digit = int(state[i])\n",
        "            for move in (-1, 1):  # Decrement or increment the digit\n",
        "                next_digit = (digit + move) % 10\n",
        "                next_state = state[:i] + str(next_digit) + state[i+1:]\n",
        "                states.append(next_state)\n",
        "        return states\n",
        "\n",
        "    # Initial setup\n",
        "    start = '000'\n",
        "    if start in dead_ends or target in dead_ends:\n",
        "        return None\n",
        "    visited = set(dead_ends)\n",
        "    queue = deque([(start, 0)])  # (state, moves)\n",
        "\n",
        "    # BFS\n",
        "    while queue:\n",
        "        state, moves = queue.popleft()\n",
        "        if state == target:\n",
        "            return moves\n",
        "        if state in visited:\n",
        "            continue\n",
        "        visited.add(state)\n",
        "\n",
        "        for next_state in get_next_states(state):\n",
        "            if next_state not in visited:\n",
        "                queue.append((next_state, moves + 1))\n",
        "\n",
        "    # Target not reachable\n",
        "    return None\n",
        "\n",
        "# Testing the function\n",
        "min_moves_to_unlock('020', ['010', '012', '100', '001'])\n"
      ]
    },
    {
      "cell_type": "markdown",
      "source": [
        "##Testing:\n",
        "\n",
        "The function `min_moves_to_unlock` successfully calculates the minimum number of moves required to unlock the lock. In the test case provided, where the target combination is '020' and the dead ends are ['010', '012', '100', '001'], the minimum number of moves required to reach the target state is 4.\n",
        "\n",
        "This function uses a breadth-first search approach to explore all possible combinations of the lock efficiently, avoiding dead ends and previously visited states, to find the shortest path to the target combination.\n"
      ],
      "metadata": {
        "id": "wcaruNyfYogT"
      }
    }
  ]
}