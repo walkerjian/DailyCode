{
  "nbformat": 4,
  "nbformat_minor": 0,
  "metadata": {
    "colab": {
      "provenance": [],
      "authorship_tag": "ABX9TyOQNIciwEXjGrTBGOmNnKdV",
      "include_colab_link": true
    },
    "kernelspec": {
      "name": "python3",
      "display_name": "Python 3"
    },
    "language_info": {
      "name": "python"
    }
  },
  "cells": [
    {
      "cell_type": "markdown",
      "metadata": {
        "id": "view-in-github",
        "colab_type": "text"
      },
      "source": [
        "<a href=\"https://colab.research.google.com/github/walkerjian/DailyCode/blob/main/Code_Craft_nth_perfect_number.ipynb\" target=\"_parent\"><img src=\"https://colab.research.google.com/assets/colab-badge.svg\" alt=\"Open In Colab\"/></a>"
      ]
    },
    {
      "cell_type": "markdown",
      "source": [
        "##Problem:\n",
        "A number is considered perfect if its digits sum up to exactly 10.\n",
        "\n",
        "Given a positive integer n, return the n-th perfect number.\n",
        "\n",
        "For example, given 1, you should return 19. Given 2, you should return 28.\n",
        "##Solution:\n",
        "To solve this problem, we need to write a function that finds the n-th perfect number, where a perfect number is defined as a number whose digits sum up to exactly 10.\n",
        "\n",
        "The algorithm can be outlined as follows:\n",
        "1. Start with a number, say 19 (the first perfect number).\n",
        "2. Increment the number by 1 in each step.\n",
        "3. Check if the sum of the digits of the current number is 10. If it is, we've found another perfect number.\n",
        "4. Repeat this process until we have found n perfect numbers.\n",
        "5. Return the n-th perfect number.\n",
        "\n",
        "Let's implement this algorithm in Python.\n",
        "\n",
        "The function correctly returns the n-th perfect number as expected. For the given examples:\n",
        "- The 1st perfect number is \\(19\\).\n",
        "- The 2nd perfect number is \\(28\\).\n",
        "\n",
        "You can use this function to find any n-th perfect number by providing the desired value of \\(n\\).\n",
        "##Implementation:\n"
      ],
      "metadata": {
        "id": "huF7XU_49XsG"
      }
    },
    {
      "cell_type": "code",
      "execution_count": 1,
      "metadata": {
        "colab": {
          "base_uri": "https://localhost:8080/"
        },
        "id": "N33acFgh9GdO",
        "outputId": "cb0d43f1-93fa-4485-c795-86240c4644ab"
      },
      "outputs": [
        {
          "output_type": "execute_result",
          "data": {
            "text/plain": [
              "(19, 28)"
            ]
          },
          "metadata": {},
          "execution_count": 1
        }
      ],
      "source": [
        "def nth_perfect_number(n):\n",
        "    count = 0\n",
        "    num = 18  # Start with 18, as 19 is the first perfect number\n",
        "\n",
        "    while count < n:\n",
        "        num += 1\n",
        "        if sum([int(digit) for digit in str(num)]) == 10:\n",
        "            count += 1\n",
        "\n",
        "    return num\n",
        "\n",
        "# Test the function with the provided examples\n",
        "test1 = nth_perfect_number(1)  # Should return 19\n",
        "test2 = nth_perfect_number(2)  # Should return 28\n",
        "\n",
        "test1, test2"
      ]
    },
    {
      "cell_type": "code",
      "source": [
        "def generate_perfect_numbers_no_zero(count):\n",
        "    perfect_numbers = []\n",
        "    num = 18  # Starting with 18, as 19 is the first qualifying number\n",
        "\n",
        "    while len(perfect_numbers) < count:\n",
        "        num += 1\n",
        "        # Check if the sum is 10 and the number does not contain '0'\n",
        "        if sum([int(digit) for digit in str(num)]) == 10 and '0' not in str(num):\n",
        "            perfect_numbers.append(num)\n",
        "\n",
        "    return perfect_numbers\n",
        "\n",
        "# Generate the first 20 perfect numbers without zero\n",
        "first_20_perfect_numbers_no_zero = generate_perfect_numbers_no_zero(20)\n",
        "first_20_perfect_numbers_no_zero\n"
      ],
      "metadata": {
        "colab": {
          "base_uri": "https://localhost:8080/"
        },
        "id": "U5ctvCDz-J2W",
        "outputId": "189014c0-cbc1-4335-c598-cb0522861551"
      },
      "execution_count": 2,
      "outputs": [
        {
          "output_type": "execute_result",
          "data": {
            "text/plain": [
              "[19,\n",
              " 28,\n",
              " 37,\n",
              " 46,\n",
              " 55,\n",
              " 64,\n",
              " 73,\n",
              " 82,\n",
              " 91,\n",
              " 118,\n",
              " 127,\n",
              " 136,\n",
              " 145,\n",
              " 154,\n",
              " 163,\n",
              " 172,\n",
              " 181,\n",
              " 217,\n",
              " 226,\n",
              " 235]"
            ]
          },
          "metadata": {},
          "execution_count": 2
        }
      ]
    }
  ]
}