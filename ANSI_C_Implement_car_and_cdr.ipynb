{
  "nbformat": 4,
  "nbformat_minor": 0,
  "metadata": {
    "colab": {
      "provenance": [],
      "authorship_tag": "ABX9TyOaMtcxnCDYdSFSwFtKORbC",
      "include_colab_link": true
    },
    "kernelspec": {
      "name": "python3",
      "display_name": "Python 3"
    },
    "language_info": {
      "name": "python"
    }
  },
  "cells": [
    {
      "cell_type": "markdown",
      "metadata": {
        "id": "view-in-github",
        "colab_type": "text"
      },
      "source": [
        "<a href=\"https://colab.research.google.com/github/walkerjian/DailyCode/blob/main/ANSI_C_Implement_car_and_cdr.ipynb\" target=\"_parent\"><img src=\"https://colab.research.google.com/assets/colab-badge.svg\" alt=\"Open In Colab\"/></a>"
      ]
    },
    {
      "cell_type": "markdown",
      "source": [
        "#ANSI C Implement car and cdr.\n",
        "cons(a, b) constructs a pair, and car(pair) and cdr(pair) returns the first and last element of that pair. For example, car(cons(3, 4)) returns 3, and cdr(cons(3, 4)) returns 4.\n",
        "\n",
        "Given this implementation of cons:\n",
        "\n",
        "def cons(a, b):\n",
        "    def pair(f):\n",
        "        return f(a, b)\n",
        "    return pair\n",
        "Implement car and cdr.\n",
        "\n",
        "The cons function will return a struct containing the two integers and a function pointer that represents the pair.\n",
        "The car and cdr functions will accept this struct and return the appropriate integer.\n",
        "Here's the code:"
      ],
      "metadata": {
        "id": "DaHXo_Hpw0z5"
      }
    },
    {
      "cell_type": "code",
      "execution_count": 2,
      "metadata": {
        "colab": {
          "base_uri": "https://localhost:8080/"
        },
        "id": "O6GJZOXswyiY",
        "outputId": "b1ca0de8-6fbe-48ea-9410-f0d315862c25"
      },
      "outputs": [
        {
          "output_type": "stream",
          "name": "stdout",
          "text": [
            "Overwriting pair.c\n"
          ]
        }
      ],
      "source": [
        "%%writefile pair.c\n",
        "#include <stdio.h>\n",
        "\n",
        "typedef struct Pair {\n",
        "    int a;\n",
        "    int b;\n",
        "    int (*func)(int, int);\n",
        "} Pair;\n",
        "\n",
        "// Model\n",
        "Pair cons(int a, int b) {\n",
        "    Pair pair;\n",
        "    pair.a = a;\n",
        "    pair.b = b;\n",
        "    return pair;\n",
        "}\n",
        "\n",
        "int car(Pair pair) {\n",
        "    return pair.a;\n",
        "}\n",
        "\n",
        "int cdr(Pair pair) {\n",
        "    return pair.b;\n",
        "}\n",
        "\n",
        "// View\n",
        "void display_result(char* test_case, int result) {\n",
        "    printf(\"%s => %d\\n\", test_case, result);\n",
        "}\n",
        "\n",
        "// Controller\n",
        "void test_harness() {\n",
        "    struct {\n",
        "        char* test_case;\n",
        "        int result;\n",
        "    } test_cases[] = {\n",
        "        {\"car(cons(3, 4))\", car(cons(3, 4))},\n",
        "        {\"cdr(cons(3, 4))\", cdr(cons(3, 4))},\n",
        "        {\"car(cons(5, 6))\", car(cons(5, 6))},\n",
        "        {\"cdr(cons(5, 6))\", cdr(cons(5, 6))},\n",
        "        {\"car(cons(7, 8))\", car(cons(7, 8))},\n",
        "        {\"cdr(cons(7, 8))\", cdr(cons(7, 8))},\n",
        "        {\"car(cons(9, 10))\", car(cons(9, 10))},\n",
        "        {\"cdr(cons(9, 10))\", cdr(cons(9, 10))},\n",
        "        {\"car(cons(11, 12))\", car(cons(11, 12))},\n",
        "        {\"cdr(cons(11, 12))\", cdr(cons(11, 12))}\n",
        "    };\n",
        "\n",
        "    for (int i = 0; i < sizeof(test_cases) / sizeof(test_cases[0]); i++) {\n",
        "        display_result(test_cases[i].test_case, test_cases[i].result);\n",
        "    }\n",
        "}\n",
        "\n",
        "int main() {\n",
        "    test_harness();\n",
        "    return 0;\n",
        "}\n"
      ]
    },
    {
      "cell_type": "code",
      "source": [
        "!gcc -o pair pair.c"
      ],
      "metadata": {
        "id": "KtrP11k7xlgj"
      },
      "execution_count": 3,
      "outputs": []
    },
    {
      "cell_type": "code",
      "source": [
        "!./pair"
      ],
      "metadata": {
        "colab": {
          "base_uri": "https://localhost:8080/"
        },
        "id": "KunRjFJ-xqt4",
        "outputId": "cf912a57-a060-4b31-f765-f8c586d3e02f"
      },
      "execution_count": 4,
      "outputs": [
        {
          "output_type": "stream",
          "name": "stdout",
          "text": [
            "car(cons(3, 4)) => 3\n",
            "cdr(cons(3, 4)) => 4\n",
            "car(cons(5, 6)) => 5\n",
            "cdr(cons(5, 6)) => 6\n",
            "car(cons(7, 8)) => 7\n",
            "cdr(cons(7, 8)) => 8\n",
            "car(cons(9, 10)) => 9\n",
            "cdr(cons(9, 10)) => 10\n",
            "car(cons(11, 12)) => 11\n",
            "cdr(cons(11, 12)) => 12\n"
          ]
        }
      ]
    }
  ]
}