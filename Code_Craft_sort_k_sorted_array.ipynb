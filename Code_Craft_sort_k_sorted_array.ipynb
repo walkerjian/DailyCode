{
  "nbformat": 4,
  "nbformat_minor": 0,
  "metadata": {
    "colab": {
      "provenance": [],
      "authorship_tag": "ABX9TyNN694azuMCgJM03TCPytFj",
      "include_colab_link": true
    },
    "kernelspec": {
      "name": "python3",
      "display_name": "Python 3"
    },
    "language_info": {
      "name": "python"
    }
  },
  "cells": [
    {
      "cell_type": "markdown",
      "metadata": {
        "id": "view-in-github",
        "colab_type": "text"
      },
      "source": [
        "<a href=\"https://colab.research.google.com/github/walkerjian/DailyCode/blob/main/Code_Craft_sort_k_sorted_array.ipynb\" target=\"_parent\"><img src=\"https://colab.research.google.com/assets/colab-badge.svg\" alt=\"Open In Colab\"/></a>"
      ]
    },
    {
      "cell_type": "markdown",
      "source": [
        "You are given a list of N numbers, in which each number is located at most k places away from its sorted position. For example, if k = 1, a given element at index 4 might end up at indices 3, 4, or 5.\n",
        "\n",
        "Come up with an algorithm that sorts this list in O(N log k) time."
      ],
      "metadata": {
        "id": "edTaigeaWOKi"
      }
    },
    {
      "cell_type": "markdown",
      "source": [
        "To sort a list where each element is at most $ k $ positions away from its sorted position, we can use a min-heap of size $ k+1 $. The min-heap helps maintain the order of elements efficiently, ensuring that each element is placed in its correct position in $ O(\\log k) $ time. Here’s how we can achieve this:\n",
        "\n",
        "1. **Initialize a min-heap** with the first $ k+1 $ elements of the list.\n",
        "2. **Extract the minimum element** from the heap and add it to the result list.\n",
        "3. **Add the next element** from the remaining unsorted part of the list to the heap.\n",
        "4. **Repeat steps 2 and 3** until all elements are processed and the heap is empty.\n",
        "\n",
        "This algorithm works efficiently because the heap operations (insertion and extraction) take $ O(\\log k) $ time, and we perform these operations $ N $ times.\n",
        "\n",
        "Here is the Python implementation of this algorithm:\n",
        "\n",
        "1. **Heap Initialization**: We start by creating a min-heap with the first $ k+1 $ elements. This step ensures that the smallest element among the first $ k+1 $ elements is at the root of the heap.\n",
        "2. **Maintaining the Heap**: As we iterate over the remaining elements of the array, we keep extracting the smallest element from the heap and adding the next element from the array to the heap. This ensures that the heap always contains the next $ k+1 $ elements to be processed.\n",
        "3. **Final Extraction**: After processing all elements, we extract the remaining elements from the heap and place them in their correct positions in the array.\n",
        "\n",
        "This algorithm efficiently sorts the $ k $-sorted array in $ O(N \\log k) $ time, leveraging the properties of the min-heap for optimal performance."
      ],
      "metadata": {
        "id": "Y1AUxjEAWRsY"
      }
    },
    {
      "cell_type": "code",
      "execution_count": 1,
      "metadata": {
        "colab": {
          "base_uri": "https://localhost:8080/"
        },
        "id": "jNcoQNCEWNW7",
        "outputId": "34f28180-7782-470a-dda4-b38efedb531f"
      },
      "outputs": [
        {
          "output_type": "stream",
          "name": "stdout",
          "text": [
            "Sorted array: [2, 3, 4, 5, 6, 8]\n"
          ]
        }
      ],
      "source": [
        "import heapq\n",
        "\n",
        "def sort_k_sorted_array(arr, k):\n",
        "    # Step 1: Create a min-heap with the first k+1 elements\n",
        "    heap = arr[:k+1]\n",
        "    heapq.heapify(heap)\n",
        "\n",
        "    target_index = 0\n",
        "    n = len(arr)\n",
        "\n",
        "    # Step 2: For the remaining elements in the array\n",
        "    for remaining_index in range(k+1, n):\n",
        "        # Extract the minimum element and place it at the correct index\n",
        "        arr[target_index] = heapq.heappop(heap)\n",
        "        target_index += 1\n",
        "        # Add the next element from the unsorted part to the heap\n",
        "        heapq.heappush(heap, arr[remaining_index])\n",
        "\n",
        "    # Step 3: Place the remaining elements from the heap to the array\n",
        "    while heap:\n",
        "        arr[target_index] = heapq.heappop(heap)\n",
        "        target_index += 1\n",
        "\n",
        "    return arr\n",
        "\n",
        "# Example usage:\n",
        "arr = [3, 2, 6, 5, 4, 8]\n",
        "k = 2\n",
        "sorted_arr = sort_k_sorted_array(arr, k)\n",
        "print(\"Sorted array:\", sorted_arr)"
      ]
    }
  ]
}