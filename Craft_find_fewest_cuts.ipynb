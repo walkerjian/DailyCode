{
  "nbformat": 4,
  "nbformat_minor": 0,
  "metadata": {
    "colab": {
      "provenance": [],
      "authorship_tag": "ABX9TyPE9PDGDvdax4SuIKXxVEZH",
      "include_colab_link": true
    },
    "kernelspec": {
      "name": "python3",
      "display_name": "Python 3"
    },
    "language_info": {
      "name": "python"
    }
  },
  "cells": [
    {
      "cell_type": "markdown",
      "metadata": {
        "id": "view-in-github",
        "colab_type": "text"
      },
      "source": [
        "<a href=\"https://colab.research.google.com/github/walkerjian/DailyCode/blob/main/Craft_find_fewest_cuts.ipynb\" target=\"_parent\"><img src=\"https://colab.research.google.com/assets/colab-badge.svg\" alt=\"Open In Colab\"/></a>"
      ]
    },
    {
      "cell_type": "markdown",
      "source": [
        "##Problem:\n",
        "A wall consists of several rows of bricks of various integer lengths and uniform height. Your goal is to find a vertical line going from the top to the bottom of the wall that cuts through the fewest number of bricks. If the line goes through the edge between two bricks, this does not count as a cut.\n",
        "\n",
        "For example, suppose the input is as follows, where values in each row represent the lengths of bricks in that row:\n",
        "```\n",
        "[[3, 5, 1, 1],\n",
        " [2, 3, 3, 2],\n",
        " [5, 5],\n",
        " [4, 4, 2],\n",
        " [1, 3, 3, 3],\n",
        " [1, 1, 6, 1, 1]]\n",
        " ```\n",
        "The best we can we do here is to draw a line after the eighth brick, which will only require cutting through the bricks in the third and fifth row.\n",
        "\n",
        "Given an input consisting of brick lengths for each row such as the one above, return the fewest number of bricks that must be cut to create a vertical line.\n"
      ],
      "metadata": {
        "id": "2lWyrXjB8EeD"
      }
    },
    {
      "cell_type": "markdown",
      "source": [
        "##Solution:\n",
        "To solve this problem, we can use the following approach:\n",
        "\n",
        "1. Compute the cumulative sum of brick lengths in each row to determine the potential cutting points.\n",
        "2. Count how often each cumulative sum (cut point) appears across all rows. This represents the number of rows that can be passed without cutting a brick.\n",
        "3. Find the cut point that appears most frequently, as cutting here will result in the fewest bricks being cut.\n",
        "4. Subtract the maximum frequency of a cut point from the total number of rows to get the minimum number of bricks that must be cut.\n",
        "\n",
        "Let's implement this algorithm.\n",
        "\n",
        "The algorithm finds that the fewest number of bricks that must be cut to create a vertical line through the given wall is 2. This matches the example given, where the best line cuts through the bricks in the third and fifth rows.\n"
      ],
      "metadata": {
        "id": "jIohycTB8Hjb"
      }
    },
    {
      "cell_type": "markdown",
      "source": [
        "##Implementation:\n"
      ],
      "metadata": {
        "id": "pkWuQrLB8K8H"
      }
    },
    {
      "cell_type": "code",
      "execution_count": 1,
      "metadata": {
        "id": "TIIt0l_k7Oi1",
        "colab": {
          "base_uri": "https://localhost:8080/"
        },
        "outputId": "2bdc24ff-9c88-4b4a-de4a-c911bccac34a"
      },
      "outputs": [
        {
          "output_type": "execute_result",
          "data": {
            "text/plain": [
              "2"
            ]
          },
          "metadata": {},
          "execution_count": 1
        }
      ],
      "source": [
        "def find_fewest_cuts(wall):\n",
        "    # Dictionary to hold the frequency of each edge occurrence\n",
        "    edge_counts = {}\n",
        "    for row in wall:\n",
        "        length = 0\n",
        "        # Skip the last brick in each row to avoid counting the end of the wall as a cut\n",
        "        for brick in row[:-1]:\n",
        "            length += brick\n",
        "            edge_counts[length] = edge_counts.get(length, 0) + 1\n",
        "\n",
        "    # Find the edge where the most rows can be passed without cutting a brick\n",
        "    max_edges = max(edge_counts.values(), default=0)\n",
        "\n",
        "    # The fewest cuts will be the total number of rows minus the maximum number of edges\n",
        "    return len(wall) - max_edges\n",
        "\n",
        "# Test the function with the given example\n",
        "wall = [\n",
        "    [3, 5, 1, 1],\n",
        "    [2, 3, 3, 2],\n",
        "    [5, 5],\n",
        "    [4, 4, 2],\n",
        "    [1, 3, 3, 3],\n",
        "    [1, 1, 6, 1, 1]\n",
        "]\n",
        "find_fewest_cuts(wall)\n"
      ]
    },
    {
      "cell_type": "markdown",
      "source": [
        "##Testing:\n"
      ],
      "metadata": {
        "id": "wcaruNyfYogT"
      }
    },
    {
      "cell_type": "code",
      "source": [],
      "metadata": {
        "id": "7arfxk2ORsA8"
      },
      "execution_count": null,
      "outputs": []
    }
  ]
}