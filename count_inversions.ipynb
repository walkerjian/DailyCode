{
  "nbformat": 4,
  "nbformat_minor": 0,
  "metadata": {
    "colab": {
      "provenance": [],
      "authorship_tag": "ABX9TyNOdyOiiCj4HJ6LuEZR+ZKG",
      "include_colab_link": true
    },
    "kernelspec": {
      "name": "python3",
      "display_name": "Python 3"
    },
    "language_info": {
      "name": "python"
    }
  },
  "cells": [
    {
      "cell_type": "markdown",
      "metadata": {
        "id": "view-in-github",
        "colab_type": "text"
      },
      "source": [
        "<a href=\"https://colab.research.google.com/github/walkerjian/DailyCode/blob/main/count_inversions.ipynb\" target=\"_parent\"><img src=\"https://colab.research.google.com/assets/colab-badge.svg\" alt=\"Open In Colab\"/></a>"
      ]
    },
    {
      "cell_type": "markdown",
      "source": [
        "## Problem:\n",
        "We can determine how \"out of order\" an array A is by counting the number of inversions it has. Two elements A[i] and A[j] form an inversion if A[i] > A[j] but i < j. That is, a smaller element appears after a larger element.\n",
        "\n",
        "Given an array, count the number of inversions it has. Do this faster than O(N^2) time.\n",
        "\n",
        "You may assume each element in the array is distinct.\n",
        "\n",
        "For example, a sorted list has zero inversions. The array [2, 4, 1, 3, 5] has three inversions: (2, 1), (4, 1), and (4, 3). The array [5, 4, 3, 2, 1] has ten inversions: every distinct pair forms an inversion.\n",
        "The problem of counting the number of inversions in an array can be solved using a divide-and-conquer approach similar to the merge sort algorithm. The idea is to divide the array into two halves, recursively count the number of inversions in each half, and then count the number of inversions where one element is in the left half and the other is in the right half. This last part can be done efficiently during the merge step of the merge sort.\n",
        "\n",
        "## Solution:\n",
        "\n",
        "1. **Divide**: Split the array into two halves.\n",
        "2. **Conquer**: Recursively count the inversions in each half.\n",
        "3. **Combine**: Count the inversions where one element is in the left half and the other is in the right half, and then merge the two halves (like in merge sort).\n",
        "\n",
        "Here's how the `combine` step can be implemented efficiently:\n",
        "- Use two pointers, one for each half of the array.\n",
        "- For each element in the left half, count the number of elements in the right half that are smaller than the current element. This can be done by moving the right pointer forward until you find an element that is larger or equal to the current left element.\n",
        "- The number of inversions involving the current left element is equal to the number of elements that are to the left of the right pointer.\n",
        "\n",
        "## Implementation:\n",
        "\n",
        "The number of inversions for the given arrays are:\n",
        "\n",
        "- For the array $[2, 4, 1, 3, 5]$: 3 inversions\n",
        "- For the array $[5, 4, 3, 2, 1]$: 10 inversions\n",
        "- For the array $[1, 2, 3, 4, 5]$: 0 inversions (as expected for a sorted array)\n",
        "\n",
        "The results are as expected. The algorithm efficiently counts inversions using a divide-and-conquer approach, which runs in $O(N \\log N)$ time."
      ],
      "metadata": {
        "id": "qKYFxNrGbp-5"
      }
    },
    {
      "cell_type": "code",
      "execution_count": 1,
      "metadata": {
        "colab": {
          "base_uri": "https://localhost:8080/"
        },
        "id": "Co-MyemBbhQK",
        "outputId": "d82c541e-8397-466d-c311-b9eb7bf51d3a"
      },
      "outputs": [
        {
          "output_type": "execute_result",
          "data": {
            "text/plain": [
              "[3, 10, 0]"
            ]
          },
          "metadata": {},
          "execution_count": 1
        }
      ],
      "source": [
        "def count_inversions(arr):\n",
        "    if len(arr) <= 1:\n",
        "        return arr, 0\n",
        "\n",
        "    mid = len(arr) // 2\n",
        "    left, left_inv = count_inversions(arr[:mid])\n",
        "    right, right_inv = count_inversions(arr[mid:])\n",
        "\n",
        "    merged = []\n",
        "    inv_count = 0\n",
        "    i = j = 0\n",
        "\n",
        "    while i < len(left) and j < len(right):\n",
        "        if left[i] <= right[j]:\n",
        "            merged.append(left[i])\n",
        "            i += 1\n",
        "        else:\n",
        "            merged.append(right[j])\n",
        "            j += 1\n",
        "            inv_count += len(left) - i  # Count inversions\n",
        "\n",
        "    # Add remaining elements\n",
        "    while i < len(left):\n",
        "        merged.append(left[i])\n",
        "        i += 1\n",
        "    while j < len(right):\n",
        "        merged.append(right[j])\n",
        "        j += 1\n",
        "\n",
        "    return merged, inv_count + left_inv + right_inv\n",
        "\n",
        "# Test the function\n",
        "test_arrays = [\n",
        "    [2, 4, 1, 3, 5],\n",
        "    [5, 4, 3, 2, 1],\n",
        "    [1, 2, 3, 4, 5]\n",
        "]\n",
        "\n",
        "inversion_counts = [count_inversions(arr)[1] for arr in test_arrays]\n",
        "inversion_counts"
      ]
    },
    {
      "cell_type": "markdown",
      "source": [
        "## Testing:\n",
        "\n",
        "More thorough testing of the `count_inversions` function.\n",
        "\n",
        "We'll do the following:\n",
        "\n",
        "1. **Randomized Testing**: Generate random arrays and compare the result of our function with a naive \\(O(N^2)\\) approach to counting inversions.\n",
        "2. **Edge Cases**: Test with arrays of varying sizes, including empty arrays and arrays with a single element.\n",
        "3. **Patterned Input**: Test with arrays that have specific patterns, like reversed sorted arrays, arrays with repeated numbers, and arrays that are almost sorted.\n",
        "\n",
        "Let's start with the randomized testing."
      ],
      "metadata": {
        "id": "NN026OtecSkz"
      }
    },
    {
      "cell_type": "code",
      "source": [
        "import random\n",
        "\n",
        "# Naive O(N^2) approach to count inversions\n",
        "def count_inversions_naive(arr):\n",
        "    count = 0\n",
        "    for i in range(len(arr)):\n",
        "        for j in range(i + 1, len(arr)):\n",
        "            if arr[i] > arr[j]:\n",
        "                count += 1\n",
        "    return count\n",
        "\n",
        "# Generate random arrays and compare the result of our function with the naive approach\n",
        "num_tests = 100\n",
        "array_size = 100\n",
        "max_val = 1000\n",
        "errors = 0\n",
        "\n",
        "for _ in range(num_tests):\n",
        "    arr = [random.randint(1, max_val) for _ in range(array_size)]\n",
        "    if count_inversions(arr)[1] != count_inversions_naive(arr):\n",
        "        errors += 1\n",
        "\n",
        "errors\n"
      ],
      "metadata": {
        "colab": {
          "base_uri": "https://localhost:8080/"
        },
        "id": "7f5V8-sHcKdJ",
        "outputId": "d088c0c9-5c86-47d3-fa4e-ba232e9f3d3b"
      },
      "execution_count": 2,
      "outputs": [
        {
          "output_type": "execute_result",
          "data": {
            "text/plain": [
              "0"
            ]
          },
          "metadata": {},
          "execution_count": 2
        }
      ]
    },
    {
      "cell_type": "markdown",
      "source": [
        "For the randomized tests, our `count_inversions` function produced correct results for all 100 random arrays when compared to the naive \\(O(N^2)\\) approach.\n",
        "\n",
        "Now, let's test some edge cases and patterned inputs:\n",
        "\n",
        "1. Edge Cases:\n",
        "   - An empty array\n",
        "   - An array with a single element\n",
        "   - An array with two elements in ascending and descending order\n",
        "2. Patterned Input:\n",
        "   - A reversed sorted array\n",
        "   - An array with repeated numbers (though, our assumption was that the array contains distinct numbers, we'll just see how the function behaves)\n",
        "   - An almost sorted array with a few inversions\n",
        "\n",
        "Here are the results for the edge cases and patterned inputs:\n"
      ],
      "metadata": {
        "id": "x0EOYzwJcnIa"
      }
    },
    {
      "cell_type": "code",
      "source": [
        "# Edge Cases\n",
        "edge_cases = [\n",
        "    [],\n",
        "    [1],\n",
        "    [1, 2],\n",
        "    [2, 1]\n",
        "]\n",
        "\n",
        "edge_case_results = [count_inversions(arr)[1] for arr in edge_cases]\n",
        "\n",
        "# Patterned Input\n",
        "patterned_input = [\n",
        "    list(range(10, 0, -1)),         # reversed sorted array\n",
        "    [1, 2, 3, 4, 5, 6, 7, 8, 10, 9],  # almost sorted array with a few inversions\n",
        "    [1, 2, 2, 3, 3, 4, 4, 5]      # array with repeated numbers\n",
        "]\n",
        "\n",
        "patterned_results = [count_inversions(arr)[1] for arr in patterned_input]\n",
        "\n",
        "edge_case_results, patterned_results\n"
      ],
      "metadata": {
        "colab": {
          "base_uri": "https://localhost:8080/"
        },
        "id": "mpj3p1QOdCZM",
        "outputId": "6dbe10d8-4379-4c6b-d572-57fb154f901a"
      },
      "execution_count": 3,
      "outputs": [
        {
          "output_type": "execute_result",
          "data": {
            "text/plain": [
              "([0, 0, 0, 1], [45, 1, 0])"
            ]
          },
          "metadata": {},
          "execution_count": 3
        }
      ]
    },
    {
      "cell_type": "markdown",
      "source": [
        "**Edge Cases**:\n",
        "1. For an empty array: 0 inversions\n",
        "2. For an array with a single element: 0 inversions\n",
        "3. For an array with two elements in ascending order ([1, 2]): 0 inversions\n",
        "4. For an array with two elements in descending order ([2, 1]): 1 inversion\n",
        "\n",
        "**Patterned Input**:\n",
        "1. For a reversed sorted array ([10, 9, 8, ...]): 45 inversions\n",
        "2. For an almost sorted array with a few inversions ([1, 2, 3, ..., 10, 9]): 1 inversion\n",
        "3. For an array with repeated numbers ([1, 2, 2, 3, 3, 4, 4, 5]): 0 inversions (this result is expected since our algorithm assumes distinct numbers)\n",
        "\n",
        "All results are as expected. The function seems to be working correctly for a wide range of test cases."
      ],
      "metadata": {
        "id": "sCdvu1Hoc33w"
      }
    }
  ]
}