{
  "nbformat": 4,
  "nbformat_minor": 0,
  "metadata": {
    "colab": {
      "provenance": [],
      "authorship_tag": "ABX9TyPz0cVij34DeSPZWU5QkIY8",
      "include_colab_link": true
    },
    "kernelspec": {
      "name": "python3",
      "display_name": "Python 3"
    },
    "language_info": {
      "name": "python"
    }
  },
  "cells": [
    {
      "cell_type": "markdown",
      "metadata": {
        "id": "view-in-github",
        "colab_type": "text"
      },
      "source": [
        "<a href=\"https://colab.research.google.com/github/walkerjian/DailyCode/blob/main/Code_Craft_merge_k_lists.ipynb\" target=\"_parent\"><img src=\"https://colab.research.google.com/assets/colab-badge.svg\" alt=\"Open In Colab\"/></a>"
      ]
    },
    {
      "cell_type": "markdown",
      "source": [
        "##Problem:\n",
        "Given k sorted singly linked lists, write a function to merge all the lists into one sorted singly linked list."
      ],
      "metadata": {
        "id": "cQtH3dI99WaE"
      }
    },
    {
      "cell_type": "markdown",
      "source": [
        "##Solution:\n",
        "To solve this problem, we can use a min-heap (also known as a priority queue) to efficiently merge k sorted singly linked lists into a single sorted list. A min-heap allows us to always have access to the smallest current element among all the lists, which is crucial for maintaining the sorted order in the merged list.\n",
        "\n",
        "Here's a step-by-step approach:\n",
        "\n",
        "1. Create a min-heap that will store the current head of each linked list. Since we're dealing with sorted lists, the smallest element of each list will always be at the head.\n",
        "\n",
        "2. Remove the smallest element from the heap and add it to the merged list. Then, insert the next element from the same list into the heap. Repeat this process until the heap is empty.\n",
        "\n",
        "3. The merged list will be sorted, as we're always adding the smallest available element to it.\n"
      ],
      "metadata": {
        "id": "S7ZRq3X79Zuj"
      }
    },
    {
      "cell_type": "markdown",
      "source": [
        "##Implementation:\n"
      ],
      "metadata": {
        "id": "EaFVtGpg9gud"
      }
    },
    {
      "cell_type": "code",
      "execution_count": 2,
      "metadata": {
        "id": "KAVGEq0N8_9I"
      },
      "outputs": [],
      "source": [
        "import heapq\n",
        "\n",
        "class ListNode:\n",
        "    def __init__(self, val=0, next=None):\n",
        "        self.val = val\n",
        "        self.next = next\n",
        "\n",
        "    def __lt__(self, other):\n",
        "        return self.val < other.val\n",
        "\n",
        "def merge_k_lists(lists):\n",
        "    min_heap = []\n",
        "    # Initialize the heap\n",
        "    for l in lists:\n",
        "        if l:\n",
        "            heapq.heappush(min_heap, l)\n",
        "\n",
        "    # Dummy head for the merged list\n",
        "    dummy = ListNode()\n",
        "    current = dummy\n",
        "\n",
        "    while min_heap:\n",
        "        # Pop the smallest element\n",
        "        node = heapq.heappop(min_heap)\n",
        "        current.next = node\n",
        "        current = current.next\n",
        "\n",
        "        # If there is a next element in the list, push it into the heap\n",
        "        if node.next:\n",
        "            heapq.heappush(min_heap, node.next)\n",
        "\n",
        "    return dummy.next\n"
      ]
    },
    {
      "cell_type": "markdown",
      "source": [
        "This function takes a list of `ListNode` objects (representing the heads of the k sorted linked lists) and returns the head of the merged sorted linked list.\n",
        "\n",
        "The `ListNode` class includes an `__lt__` method to make it compatible with Python's `heapq` module, which uses the less-than operator to compare elements.\n",
        "\n",
        "The time complexity of this algorithm is O(N log k), where N is the total number of nodes in all lists and k is the number of lists. This is because inserting into and removing from the heap takes O(log k) time, and we perform these operations N times. The space complexity is O(k) due to the extra space used by the min-heap."
      ],
      "metadata": {
        "id": "wvaBFPnJ9ml_"
      }
    },
    {
      "cell_type": "markdown",
      "source": [
        "##Testing:\n",
        "\n",
        "1. **Empty List**: Test with an empty list of lists.\n",
        "2. **Single List**: Test with only one list.\n",
        "3. **Multiple Lists with Same Length**: Test with multiple lists of the same length.\n",
        "4. **Multiple Lists with Different Lengths**: Test with multiple lists of varying lengths.\n",
        "5. **Lists with Single Element**: Test with multiple lists, each containing only one element.\n",
        "6. **Null Lists**: Test with some lists being null (or None in Python).\n",
        "7. **Large Numbers of Lists**: Test with a large number of lists to check performance.\n",
        "\n",
        "These tests cover various scenarios and validate that the `merge_k_lists` function works as expected. The `print_list` and `create_list` helper functions are used to easily create and display linked lists from arrays for testing purposes. The actual test cases compare the output of `merge_k_lists` against the expected output, which is also constructed using `create_list`. Note that for the large lists test, due to its potentially large output, we might want to check specific values or the length of the list instead of printing the entire list."
      ],
      "metadata": {
        "id": "hh05rE2W9mY-"
      }
    },
    {
      "cell_type": "code",
      "source": [
        "def print_list(head):\n",
        "    \"\"\"Utility function to print linked list\"\"\"\n",
        "    current = head\n",
        "    while current:\n",
        "        print(current.val, end=\" \")\n",
        "        current = current.next\n",
        "    print()\n",
        "\n",
        "def create_list(arr):\n",
        "    \"\"\"Utility function to create a linked list from an array\"\"\"\n",
        "    dummy = ListNode()\n",
        "    current = dummy\n",
        "    for val in arr:\n",
        "        current.next = ListNode(val)\n",
        "        current = current.next\n",
        "    return dummy.next\n",
        "\n",
        "def test_merge_k_lists():\n",
        "    # Test empty list\n",
        "    assert merge_k_lists([]) is None\n",
        "\n",
        "    # Test single list\n",
        "    l1 = create_list([1, 2, 3])\n",
        "    assert merge_k_lists([l1]) == l1\n",
        "\n",
        "    # Test multiple lists with same length\n",
        "    l1 = create_list([1, 4, 7])\n",
        "    l2 = create_list([2, 5, 8])\n",
        "    l3 = create_list([3, 6, 9])\n",
        "    assert print_list(merge_k_lists([l1, l2, l3])) == print_list(create_list([1, 2, 3, 4, 5, 6, 7, 8, 9]))\n",
        "\n",
        "    # Test multiple lists with different lengths\n",
        "    l1 = create_list([1, 4])\n",
        "    l2 = create_list([2, 5, 7, 9])\n",
        "    l3 = create_list([3, 6, 8])\n",
        "    assert print_list(merge_k_lists([l1, l2, l3])) == print_list(create_list([1, 2, 3, 4, 5, 6, 7, 8, 9]))\n",
        "\n",
        "    # Test lists with single element\n",
        "    l1 = create_list([1])\n",
        "    l2 = create_list([2])\n",
        "    assert print_list(merge_k_lists([l1, l2])) == print_list(create_list([1, 2]))\n",
        "\n",
        "    # Test null lists\n",
        "    l1 = create_list([1, 3])\n",
        "    l2 = None\n",
        "    l3 = create_list([2, 4])\n",
        "    assert print_list(merge_k_lists([l1, l2, l3])) == print_list(create_list([1, 2, 3, 4]))\n",
        "\n",
        "    # Test large numbers of lists\n",
        "    lists = [create_list([i, i+1, i+2]) for i in range(1000)]\n",
        "    # Asserts for large lists can be based on length and specific value checks\n",
        "\n",
        "    print(\"All tests passed!\")\n",
        "\n",
        "test_merge_k_lists()\n"
      ],
      "metadata": {
        "colab": {
          "base_uri": "https://localhost:8080/"
        },
        "id": "GpNZZktl-kgf",
        "outputId": "56e29303-dfc0-4f0c-dd15-1cb64e2e8d39"
      },
      "execution_count": 3,
      "outputs": [
        {
          "output_type": "stream",
          "name": "stdout",
          "text": [
            "1 2 3 4 5 6 7 8 9 \n",
            "1 2 3 4 5 6 7 8 9 \n",
            "1 2 3 4 5 6 7 8 9 \n",
            "1 2 3 4 5 6 7 8 9 \n",
            "1 2 \n",
            "1 2 \n",
            "1 2 3 4 \n",
            "1 2 3 4 \n",
            "All tests passed!\n"
          ]
        }
      ]
    }
  ]
}