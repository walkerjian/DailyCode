{
  "nbformat": 4,
  "nbformat_minor": 0,
  "metadata": {
    "colab": {
      "provenance": [],
      "authorship_tag": "ABX9TyMGyj/2Cr4MW1v9BWFh/qfh",
      "include_colab_link": true
    },
    "kernelspec": {
      "name": "python3",
      "display_name": "Python 3"
    },
    "language_info": {
      "name": "python"
    }
  },
  "cells": [
    {
      "cell_type": "markdown",
      "metadata": {
        "id": "view-in-github",
        "colab_type": "text"
      },
      "source": [
        "<a href=\"https://colab.research.google.com/github/walkerjian/DailyCode/blob/main/validUtf8.ipynb\" target=\"_parent\"><img src=\"https://colab.research.google.com/assets/colab-badge.svg\" alt=\"Open In Colab\"/></a>"
      ]
    },
    {
      "cell_type": "markdown",
      "source": [
        "## validUtf8\n",
        "\n",
        "Write a program that takes in an array of integers representing byte values, and returns whether it is a valid UTF-8 encoding.\n",
        "UTF-8 is a character encoding that maps each symbol to one, two, three, or four bytes.\n",
        "\n",
        "For example, the Euro sign, €, corresponds to the three bytes 11100010 10000010 10101100. The rules for mapping characters are as follows:\n",
        "\n",
        "For a single-byte character, the first bit must be zero.\n",
        "For an n-byte character, the first byte starts with n ones and a zero. The other n - 1 bytes all start with 10.\n",
        "Visually, this can be represented as follows.\n",
        "````\n",
        "\n",
        " Bytes   |           Byte format\n",
        "-----------------------------------------------\n",
        "   1     | 0xxxxxxx\n",
        "   2     | 110xxxxx 10xxxxxx\n",
        "   3     | 1110xxxx 10xxxxxx 10xxxxxx\n",
        "   4     | 11110xxx 10xxxxxx 10xxxxxx 10xxxxxx\n",
        "````"
      ],
      "metadata": {
        "id": "ZCrWFO2yOP1p"
      }
    },
    {
      "cell_type": "markdown",
      "source": [
        "### Solving the problem:\n",
        "\n",
        "1. Create a function `validUtf8` that takes a list of integers as input.\n",
        "2. Iterate through each integer in the list.\n",
        "3. Depending on the byte pattern, check if the byte pattern matches any of the valid UTF-8 encoding patterns.\n",
        "4. Use a variable to keep track of the number of bytes that need to be checked for the current character.\n",
        "5. If we encounter an invalid byte or we end up with a non-zero count of bytes to check at the end, return `False`.\n",
        "6. If all checks pass, return `True`.\n",
        "\n",
        "Here's the code for the `validUtf8` function based on the above approach:"
      ],
      "metadata": {
        "id": "Bsjj3D78OlJt"
      }
    },
    {
      "cell_type": "code",
      "execution_count": 1,
      "metadata": {
        "colab": {
          "base_uri": "https://localhost:8080/"
        },
        "id": "eSvjp8lfN6n6",
        "outputId": "192d63a7-b63b-432f-a5b0-3f31591c571b"
      },
      "outputs": [
        {
          "output_type": "execute_result",
          "data": {
            "text/plain": [
              "True"
            ]
          },
          "metadata": {},
          "execution_count": 1
        }
      ],
      "source": [
        "def validUtf8(data):\n",
        "    # Number of bytes in the current UTF-8 character\n",
        "    n_bytes = 0\n",
        "\n",
        "    # Mask to check if the most significant bit is set or not\n",
        "    mask1 = 1 << 7\n",
        "    # Mask to check if the second most significant bit is set or not\n",
        "    mask2 = 1 << 6\n",
        "\n",
        "    for num in data:\n",
        "        # Mask to check the number of bytes the current character uses\n",
        "        mask = 1 << 7\n",
        "        if n_bytes == 0:\n",
        "            while mask & num:\n",
        "                n_bytes += 1\n",
        "                mask = mask >> 1\n",
        "\n",
        "            # 1 byte character\n",
        "            if n_bytes == 0:\n",
        "                continue\n",
        "\n",
        "            # Invalid scenarios according to the problem statement\n",
        "            if n_bytes == 1 or n_bytes > 4:\n",
        "                return False\n",
        "        else:\n",
        "            # Check if the byte is of the pattern 10xxxxxx\n",
        "            if not (num & mask1 and not (num & mask2)):\n",
        "                return False\n",
        "        n_bytes -= 1\n",
        "\n",
        "    return n_bytes == 0\n",
        "\n",
        "# Test the function with the given example\n",
        "test_data = [0b11100010, 0b10000010, 0b10101100]\n",
        "validUtf8(test_data)\n"
      ]
    },
    {
      "cell_type": "markdown",
      "source": [
        "## Testing the Solution.\n",
        "\n",
        "1. **Setup**: We will create a list of test cases. Each test case will consist of two elements:\n",
        "    - A list of integers representing the byte values.\n",
        "    - The expected result (either `True` or `False`).\n",
        "2. **Execution**: We will run each test case through the `validUtf8` function.\n",
        "3. **Verification**: After execution, we will compare the result with the expected result.\n",
        "4. **Output**: We will display a message indicating whether the test passed or failed, along with the input, expected output, and actual output.\n",
        "\n",
        "Here are the 10 test cases we will use:\n",
        "\n",
        "1. The given example, which represents the Euro sign (€).\n",
        "2. A valid 1-byte character.\n",
        "3. A valid 2-byte character.\n",
        "4. A valid 4-byte character.\n",
        "5. An invalid byte sequence that starts with `10xxxxxx`.\n",
        "6. An invalid 5-byte character.\n",
        "7. An incomplete 2-byte character.\n",
        "8. An incomplete 3-byte character.\n",
        "9. An invalid sequence with a correct starting byte but incorrect following bytes.\n",
        "10. A mix of valid 1-byte and 2-byte characters."
      ],
      "metadata": {
        "id": "oYJB1QdVPHlv"
      }
    },
    {
      "cell_type": "code",
      "source": [
        "def test_validUtf8():\n",
        "    test_cases = [\n",
        "        # Test case 1: Given example for Euro sign (€)\n",
        "        ([0b11100010, 0b10000010, 0b10101100], True),\n",
        "\n",
        "        # Test case 2: Valid 1-byte character (ASCII)\n",
        "        ([0b01001001], True),\n",
        "\n",
        "        # Test case 3: Valid 2-byte character\n",
        "        ([0b11000100, 0b10001001], True),\n",
        "\n",
        "        # Test case 4: Valid 4-byte character\n",
        "        ([0b11110000, 0b10010000, 0b10000000, 0b10000000], True),\n",
        "\n",
        "        # Test case 5: Invalid byte sequence starting with 10xxxxxx\n",
        "        ([0b10001001], False),\n",
        "\n",
        "        # Test case 6: Invalid 5-byte character\n",
        "        ([0b11111000, 0b10000000, 0b10000000, 0b10000000, 0b10000000], False),\n",
        "\n",
        "        # Test case 7: Incomplete 2-byte character\n",
        "        ([0b11000100], False),\n",
        "\n",
        "        # Test case 8: Incomplete 3-byte character\n",
        "        ([0b11100010, 0b10000010], False),\n",
        "\n",
        "        # Test case 9: Invalid sequence with correct starting byte but incorrect following bytes\n",
        "        ([0b11100010, 0b11000010, 0b10101100], False),\n",
        "\n",
        "        # Test case 10: Mix of valid 1-byte and 2-byte characters\n",
        "        ([0b01001001, 0b11000100, 0b10001001], True),\n",
        "    ]\n",
        "\n",
        "    passed = 0\n",
        "    for i, (data, expected) in enumerate(test_cases, 1):\n",
        "        result = validUtf8(data)\n",
        "        if result == expected:\n",
        "            print(f\"Test case {i}: PASSED\")\n",
        "            passed += 1\n",
        "        else:\n",
        "            print(f\"Test case {i}: FAILED\")\n",
        "            print(f\"  Input: {data}\")\n",
        "            print(f\"  Expected: {expected}\")\n",
        "            print(f\"  Got: {result}\")\n",
        "        print('-' * 50)\n",
        "\n",
        "    print(f\"Total test cases passed: {passed}/{len(test_cases)}\")\n",
        "\n",
        "test_validUtf8()\n"
      ],
      "metadata": {
        "colab": {
          "base_uri": "https://localhost:8080/"
        },
        "id": "NtRZLtv1OC9M",
        "outputId": "e2cc93db-88bb-42a8-db2f-99788369abcb"
      },
      "execution_count": 2,
      "outputs": [
        {
          "output_type": "stream",
          "name": "stdout",
          "text": [
            "Test case 1: PASSED\n",
            "--------------------------------------------------\n",
            "Test case 2: PASSED\n",
            "--------------------------------------------------\n",
            "Test case 3: PASSED\n",
            "--------------------------------------------------\n",
            "Test case 4: PASSED\n",
            "--------------------------------------------------\n",
            "Test case 5: PASSED\n",
            "--------------------------------------------------\n",
            "Test case 6: PASSED\n",
            "--------------------------------------------------\n",
            "Test case 7: PASSED\n",
            "--------------------------------------------------\n",
            "Test case 8: PASSED\n",
            "--------------------------------------------------\n",
            "Test case 9: PASSED\n",
            "--------------------------------------------------\n",
            "Test case 10: PASSED\n",
            "--------------------------------------------------\n",
            "Total test cases passed: 10/10\n"
          ]
        }
      ]
    },
    {
      "cell_type": "markdown",
      "source": [
        "### Breakdown of the test cases:\n",
        "\n",
        "1. **Euro sign (€)**: This was the given example and represents a valid 3-byte UTF-8 character.\n",
        "2. **Valid 1-byte character**: This represents an ASCII character, which is always valid in UTF-8.\n",
        "3. **Valid 2-byte character**: This sequence correctly starts with `110xxxxx` and is followed by `10xxxxxx`.\n",
        "4. **Valid 4-byte character**: This sequence correctly starts with `11110xxx` and is followed by three `10xxxxxx` bytes.\n",
        "5. **Invalid byte sequence**: The sequence starts with `10xxxxxx`, which is not a valid starting byte.\n",
        "6. **Invalid 5-byte character**: UTF-8 does not support characters that use 5 bytes.\n",
        "7. **Incomplete 2-byte character**: Only the starting byte is given without the following byte.\n",
        "8. **Incomplete 3-byte character**: The starting byte and one following byte are given, but the third byte is missing.\n",
        "9. **Invalid sequence with correct starting byte**: The sequence starts correctly but is followed by an incorrect byte pattern.\n",
        "10. **Mix of valid characters**: A sequence containing both a valid 1-byte and a valid 2-byte character.\n",
        "\n",
        "The test harness provided a clear output for each test case, detailing whether it passed or failed. The function `validUtf8` was able to handle all these diverse test cases, indicating its robustness."
      ],
      "metadata": {
        "id": "peJaQ0TQO6WY"
      }
    },
    {
      "cell_type": "code",
      "source": [],
      "metadata": {
        "id": "sDE7V4f1O9t6"
      },
      "execution_count": null,
      "outputs": []
    }
  ]
}