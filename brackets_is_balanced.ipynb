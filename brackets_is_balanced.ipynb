{
  "nbformat": 4,
  "nbformat_minor": 0,
  "metadata": {
    "colab": {
      "provenance": [],
      "authorship_tag": "ABX9TyMuCjVaQN7/V1njj6WW1Co6",
      "include_colab_link": true
    },
    "kernelspec": {
      "name": "python3",
      "display_name": "Python 3"
    },
    "language_info": {
      "name": "python"
    }
  },
  "cells": [
    {
      "cell_type": "markdown",
      "metadata": {
        "id": "view-in-github",
        "colab_type": "text"
      },
      "source": [
        "<a href=\"https://colab.research.google.com/github/walkerjian/DailyCode/blob/main/brackets_is_balanced.ipynb\" target=\"_parent\"><img src=\"https://colab.research.google.com/assets/colab-badge.svg\" alt=\"Open In Colab\"/></a>"
      ]
    },
    {
      "cell_type": "markdown",
      "source": [
        "Given a string of round, curly, and square open and closing brackets, return whether the brackets are balanced (well-formed).\n",
        "\n",
        "For example, given the string\n",
        "```\n",
        "([])[]({})\n",
        "```\n",
        "you should return true.\n",
        "\n",
        "Given the string\n",
        "````\n",
        "([)] or ((()\n",
        "````\n",
        "you should return false."
      ],
      "metadata": {
        "id": "N2Mw9qCF4Ffj"
      }
    },
    {
      "cell_type": "code",
      "execution_count": 1,
      "metadata": {
        "colab": {
          "base_uri": "https://localhost:8080/"
        },
        "id": "SrSUwPZw3bKx",
        "outputId": "5721b082-99fe-4b1a-9732-09d86a76bede"
      },
      "outputs": [
        {
          "output_type": "stream",
          "name": "stdout",
          "text": [
            "True\n",
            "False\n",
            "False\n"
          ]
        }
      ],
      "source": [
        "def is_balanced(s: str) -> bool:\n",
        "    stack = []\n",
        "    bracket_pairs = {\n",
        "        ')': '(',\n",
        "        ']': '[',\n",
        "        '}': '{'\n",
        "    }\n",
        "\n",
        "    for char in s:\n",
        "        if char in bracket_pairs.values():  # Check if char is one of the open brackets\n",
        "            stack.append(char)\n",
        "        elif char in bracket_pairs.keys():  # Check if char is one of the close brackets\n",
        "            if not stack or stack[-1] != bracket_pairs[char]:  # Check if the stack is empty or the top doesn't match\n",
        "                return False\n",
        "            stack.pop()\n",
        "        else:\n",
        "            # Ignore all other characters\n",
        "            continue\n",
        "\n",
        "    return not stack  # Return True if stack is empty, else False\n",
        "\n",
        "# Testing the function\n",
        "print(is_balanced(\"([])[]({})\"))  # True\n",
        "print(is_balanced(\"([)]\"))        # False\n",
        "print(is_balanced(\"((()\"))        # False\n"
      ]
    }
  ]
}