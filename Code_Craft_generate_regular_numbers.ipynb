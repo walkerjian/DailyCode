{
  "nbformat": 4,
  "nbformat_minor": 0,
  "metadata": {
    "colab": {
      "provenance": [],
      "authorship_tag": "ABX9TyM+wQqcakgM3VPNeac3B4ZQ",
      "include_colab_link": true
    },
    "kernelspec": {
      "name": "python3",
      "display_name": "Python 3"
    },
    "language_info": {
      "name": "python"
    }
  },
  "cells": [
    {
      "cell_type": "markdown",
      "metadata": {
        "id": "view-in-github",
        "colab_type": "text"
      },
      "source": [
        "<a href=\"https://colab.research.google.com/github/walkerjian/DailyCode/blob/main/Code_Craft_generate_regular_numbers.ipynb\" target=\"_parent\"><img src=\"https://colab.research.google.com/assets/colab-badge.svg\" alt=\"Open In Colab\"/></a>"
      ]
    },
    {
      "cell_type": "markdown",
      "source": [
        "##Problem:\n",
        "A regular number in mathematics is defined as one which evenly divides some power of 60. Equivalently, we can say that a regular number is one whose only prime divisors are 2, 3, and 5.\n",
        "\n",
        "These numbers have had many applications, from helping ancient Babylonians keep time to tuning instruments according to the diatonic scale.\n",
        "\n",
        "Given an integer N, write a program that returns, in order, the first N regular numbers."
      ],
      "metadata": {
        "id": "9FEbWNXcJ1Km"
      }
    },
    {
      "cell_type": "markdown",
      "source": [
        "##Solution:\n",
        "To write a program that returns the first N regular numbers, we can follow a methodical approach to generate these numbers. Since a regular number is defined as one whose prime factors are only 2, 3, or 5, we can use a priority queue (or a similar structure) to generate these numbers in a sequential and efficient manner.\n",
        "\n",
        "Here's the general idea of the algorithm:\n",
        "\n",
        "1. Initialize a set or priority queue to store the regular numbers, and add the number 1 to it since it's the smallest regular number.\n",
        "\n",
        "2. Pop the smallest number from the set or priority queue. This will be one of our regular numbers.\n",
        "\n",
        "3. Multiply this number by 2, 3, and 5 and add those products back into the set or queue if they are not already present. This ensures that all multiples of the current regular number with 2, 3, or 5 are considered for subsequent regular numbers.\n",
        "\n",
        "4. Repeat steps 2 and 3 until we have generated N regular numbers.\n",
        "\n",
        "5. Return the list of N regular numbers.\n",
        "\n"
      ],
      "metadata": {
        "id": "2QVC-_sjJ7CQ"
      }
    },
    {
      "cell_type": "markdown",
      "source": [
        "##Implementation:"
      ],
      "metadata": {
        "id": "Fp-VQWYdKV2Q"
      }
    },
    {
      "cell_type": "code",
      "execution_count": 1,
      "metadata": {
        "colab": {
          "base_uri": "https://localhost:8080/"
        },
        "id": "rM2_hKonJbMK",
        "outputId": "603869ee-3923-4168-9d93-c810967e201e"
      },
      "outputs": [
        {
          "output_type": "execute_result",
          "data": {
            "text/plain": [
              "[1, 2, 3, 4, 5, 6, 8, 9, 10, 12]"
            ]
          },
          "metadata": {},
          "execution_count": 1
        }
      ],
      "source": [
        "import heapq\n",
        "\n",
        "def generate_regular_numbers(n):\n",
        "    if n <= 0:\n",
        "        return []\n",
        "\n",
        "    # Initialize the min heap with the first regular number\n",
        "    min_heap = [1]\n",
        "    # Using a set to avoid duplicates\n",
        "    seen = set([1])\n",
        "\n",
        "    # The list of regular numbers\n",
        "    regular_numbers = []\n",
        "\n",
        "    while len(regular_numbers) < n:\n",
        "        # Get the smallest number from the heap\n",
        "        current = heapq.heappop(min_heap)\n",
        "        regular_numbers.append(current)\n",
        "\n",
        "        # Generate new regular numbers by multiplying with 2, 3, and 5\n",
        "        for i in [2, 3, 5]:\n",
        "            new_regular = current * i\n",
        "            if new_regular not in seen:\n",
        "                heapq.heappush(min_heap, new_regular)\n",
        "                seen.add(new_regular)\n",
        "\n",
        "    return regular_numbers\n",
        "\n",
        "# Test the function with an example\n",
        "generate_regular_numbers(10) # Generate the first 10 regular numbers\n"
      ]
    },
    {
      "cell_type": "markdown",
      "source": [
        "The program successfully generated the first 10 regular numbers, which are `[1, 2, 3, 4, 5, 6, 8, 9, 10, 12]`.\n",
        "\n",
        "You can use this `generate_regular_numbers` function to generate any number of regular numbers by specifying the desired count `N`. This function efficiently calculates each number and ensures there are no duplicates."
      ],
      "metadata": {
        "id": "21aoi-2UKAzY"
      }
    }
  ]
}