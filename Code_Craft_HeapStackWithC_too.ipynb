{
  "nbformat": 4,
  "nbformat_minor": 0,
  "metadata": {
    "colab": {
      "provenance": [],
      "authorship_tag": "ABX9TyMjC43AhzbRizPmSTQeY8JV",
      "include_colab_link": true
    },
    "kernelspec": {
      "name": "python3",
      "display_name": "Python 3"
    },
    "language_info": {
      "name": "python"
    }
  },
  "cells": [
    {
      "cell_type": "markdown",
      "metadata": {
        "id": "view-in-github",
        "colab_type": "text"
      },
      "source": [
        "<a href=\"https://colab.research.google.com/github/walkerjian/DailyCode/blob/main/Code_Craft_HeapStackWithC_too.ipynb\" target=\"_parent\"><img src=\"https://colab.research.google.com/assets/colab-badge.svg\" alt=\"Open In Colab\"/></a>"
      ]
    },
    {
      "cell_type": "markdown",
      "source": [
        "##Problem:\n",
        "Implement a stack API using only a heap. A stack implements the following methods:\n",
        "\n",
        "push(item), which adds an element to the stack\n",
        "pop(), which removes and returns the most recently added element (or throws an error if there is nothing on the stack)\n",
        "Recall that a heap has the following operations:\n",
        "\n",
        "push(item), which adds a new key to the heap\n",
        "pop(), which removes and returns the max value of the heap"
      ],
      "metadata": {
        "id": "Zktxk9sRuUsa"
      }
    },
    {
      "cell_type": "markdown",
      "source": [
        "##Solution:\n",
        "Implementing a stack API using only a heap requires a strategy to maintain the stack's Last In, First Out (LIFO) order using the heap's structure, which naturally follows a different order, either Min Heap (the smallest element is always on top) or Max Heap (the largest element is always on top).\n",
        "\n",
        "The core challenge is that a heap is designed to efficiently remove the smallest or largest element (depending on if it's a min-heap or max-heap), not the most recently added element. To simulate stack behavior (LIFO) with a heap, we can use timestamps or an increasing counter to keep track of the insertion order. By associating each element pushed onto the \"stack\" with an incrementing count, we can ensure that the most recently pushed item can be identified as having the highest count. Thus, by using a max-heap based on these counts, the item most recently added will always be at the top of the heap.\n",
        "\n",
        "Here's a Python class that implements a stack using a max heap. We'll use the heapq module, which provides an implementation of the min heap. To create a max heap, we'll store tuples in the heap with a count that decreases with each push (as Python's heapq is a min heap, we invert the count to simulate max heap behavior):\n",
        "\n",
        "```python\n",
        "import heapq\n",
        "\n",
        "class StackUsingHeap:\n",
        "    def __init__(self):\n",
        "        self.heap = []\n",
        "        self.current = 0  # This will act as a decreasing counter\n",
        "    \n",
        "    def push(self, item):\n",
        "        # Use a negative count because heapq is a min heap, but we need max heap behavior\n",
        "        heapq.heappush(self.heap, (-self.current, item))\n",
        "        self.current += 1  # Increment the counter for the next item\n",
        "    \n",
        "    def pop(self):\n",
        "        if not self.heap:\n",
        "            raise IndexError(\"pop from an empty stack\")\n",
        "        # heapq.heappop returns the smallest item, so use -count to simulate stack behavior\n",
        "        _, item = heapq.heappop(self.heap)\n",
        "        return item\n",
        "\n",
        "# Example usage\n",
        "stack = StackUsingHeap()\n",
        "stack.push(1)\n",
        "stack.push(2)\n",
        "stack.push(3)\n",
        "\n",
        "print(stack.pop())  # Should print 3\n",
        "print(stack.pop())  # Should print 2\n",
        "print(stack.pop())  # Should print 1\n",
        "```\n",
        "\n",
        "This implementation leverages a decreasing counter to ensure that the most recently added item will always be considered the \"largest\" in the context of the min heap provided by Python's `heapq` module. The `push` method adds elements with their count to the heap, and the `pop` method retrieves and removes the element with the highest count, effectively mimicking stack behavior."
      ],
      "metadata": {
        "id": "D3qD4R67uXyU"
      }
    },
    {
      "cell_type": "markdown",
      "source": [
        "##Testing:"
      ],
      "metadata": {
        "id": "yRyEH00puiHQ"
      }
    },
    {
      "cell_type": "code",
      "execution_count": 1,
      "metadata": {
        "colab": {
          "base_uri": "https://localhost:8080/"
        },
        "id": "qJYc_IqTuTyS",
        "outputId": "ef747642-be6b-4e72-a7b5-c307ac61d15f"
      },
      "outputs": [
        {
          "output_type": "stream",
          "name": "stdout",
          "text": [
            "3\n",
            "2\n",
            "1\n"
          ]
        }
      ],
      "source": [
        "import heapq\n",
        "\n",
        "class StackUsingHeap:\n",
        "    def __init__(self):\n",
        "        self.heap = []\n",
        "        self.current = 0  # This will act as a decreasing counter\n",
        "\n",
        "    def push(self, item):\n",
        "        # Use a negative count because heapq is a min heap, but we need max heap behavior\n",
        "        heapq.heappush(self.heap, (-self.current, item))\n",
        "        self.current += 1  # Increment the counter for the next item\n",
        "\n",
        "    def pop(self):\n",
        "        if not self.heap:\n",
        "            raise IndexError(\"pop from an empty stack\")\n",
        "        # heapq.heappop returns the smallest item, so use -count to simulate stack behavior\n",
        "        _, item = heapq.heappop(self.heap)\n",
        "        return item\n",
        "\n",
        "# Example usage\n",
        "stack = StackUsingHeap()\n",
        "stack.push(1)\n",
        "stack.push(2)\n",
        "stack.push(3)\n",
        "\n",
        "print(stack.pop())  # Should print 3\n",
        "print(stack.pop())  # Should print 2\n",
        "print(stack.pop())  # Should print 1\n"
      ]
    },
    {
      "cell_type": "markdown",
      "source": [
        "##Implementing a stack in a heap with c:"
      ],
      "metadata": {
        "id": "EjUaGBhowFgT"
      }
    },
    {
      "cell_type": "code",
      "source": [
        "%%writefile stack_using_heap.c\n",
        "#include <stdio.h>\n",
        "#include <stdlib.h>\n",
        "\n",
        "typedef struct {\n",
        "    int order;\n",
        "    void* data;\n",
        "} HeapItem;\n",
        "\n",
        "typedef struct {\n",
        "    HeapItem* items;\n",
        "    int size;\n",
        "    int capacity;\n",
        "    int orderCounter;\n",
        "} MaxHeap;\n",
        "\n",
        "void initHeap(MaxHeap* heap, int capacity) {\n",
        "    heap->items = malloc(sizeof(HeapItem) * capacity);\n",
        "    heap->size = 0;\n",
        "    heap->capacity = capacity;\n",
        "    heap->orderCounter = 0;\n",
        "}\n",
        "\n",
        "void resizeHeapIfNeeded(MaxHeap* heap) {\n",
        "    if (heap->size >= heap->capacity) {\n",
        "        heap->capacity *= 2;\n",
        "        heap->items = realloc(heap->items, sizeof(HeapItem) * heap->capacity);\n",
        "    }\n",
        "}\n",
        "\n",
        "void swapHeapItems(HeapItem* a, HeapItem* b) {\n",
        "    HeapItem temp = *a;\n",
        "    *a = *b;\n",
        "    *b = temp;\n",
        "}\n",
        "\n",
        "void siftUp(MaxHeap* heap, int index) {\n",
        "    while (index != 0 && heap->items[(index - 1) / 2].order < heap->items[index].order) {\n",
        "        swapHeapItems(&heap->items[index], &heap->items[(index - 1) / 2]);\n",
        "        index = (index - 1) / 2;\n",
        "    }\n",
        "}\n",
        "\n",
        "void heapPush(MaxHeap* heap, void* data) {\n",
        "    resizeHeapIfNeeded(heap);\n",
        "    heap->items[heap->size].data = data;\n",
        "    heap->items[heap->size].order = heap->orderCounter++;\n",
        "    siftUp(heap, heap->size);\n",
        "    heap->size++;\n",
        "}\n",
        "\n",
        "void* heapPop(MaxHeap* heap) {\n",
        "    if (heap->size == 0) {\n",
        "        return NULL; // Heap is empty\n",
        "    }\n",
        "\n",
        "    void* result = heap->items[0].data;\n",
        "    heap->items[0] = heap->items[--heap->size];\n",
        "    // Implement siftDown here to maintain heap property\n",
        "    return result;\n",
        "}\n",
        "\n",
        "// Example usage:\n",
        "int main() {\n",
        "    MaxHeap heap;\n",
        "    initHeap(&heap, 10);\n",
        "\n",
        "    int data1 = 1, data2 = 2, data3 = 3;\n",
        "    heapPush(&heap, &data1);\n",
        "    heapPush(&heap, &data2);\n",
        "    heapPush(&heap, &data3);\n",
        "\n",
        "    printf(\"%d\\n\", *(int*)heapPop(&heap)); // Expects 3\n",
        "    printf(\"%d\\n\", *(int*)heapPop(&heap)); // Expects 2\n",
        "    printf(\"%d\\n\", *(int*)heapPop(&heap)); // Expects 1\n",
        "\n",
        "    free(heap.items);\n",
        "    return 0;\n",
        "}\n",
        "\n"
      ],
      "metadata": {
        "colab": {
          "base_uri": "https://localhost:8080/"
        },
        "id": "ADrvijufvt6z",
        "outputId": "844046ba-a9d2-4a15-bd39-b13decfdc60c"
      },
      "execution_count": 2,
      "outputs": [
        {
          "output_type": "stream",
          "name": "stdout",
          "text": [
            "Writing stack_using_heap.c\n"
          ]
        }
      ]
    },
    {
      "cell_type": "code",
      "source": [
        "!gcc stack_using_heap.c -o stack_using_heap\n"
      ],
      "metadata": {
        "id": "ANNjEWkyv24D"
      },
      "execution_count": 3,
      "outputs": []
    },
    {
      "cell_type": "code",
      "source": [
        "!./stack_using_heap\n"
      ],
      "metadata": {
        "colab": {
          "base_uri": "https://localhost:8080/"
        },
        "id": "hK-Pt0aPv6Yi",
        "outputId": "8b3c53f6-1225-45e2-d600-57604d430f81"
      },
      "execution_count": 4,
      "outputs": [
        {
          "output_type": "stream",
          "name": "stdout",
          "text": [
            "3\n",
            "2\n",
            "1\n"
          ]
        }
      ]
    }
  ]
}