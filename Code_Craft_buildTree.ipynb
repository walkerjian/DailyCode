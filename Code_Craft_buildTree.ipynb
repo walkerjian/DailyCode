{
  "nbformat": 4,
  "nbformat_minor": 0,
  "metadata": {
    "colab": {
      "provenance": [],
      "authorship_tag": "ABX9TyNLL72KnVNOglr09Jx3KK5W",
      "include_colab_link": true
    },
    "kernelspec": {
      "name": "python3",
      "display_name": "Python 3"
    },
    "language_info": {
      "name": "python"
    }
  },
  "cells": [
    {
      "cell_type": "markdown",
      "metadata": {
        "id": "view-in-github",
        "colab_type": "text"
      },
      "source": [
        "<a href=\"https://colab.research.google.com/github/walkerjian/DailyCode/blob/main/Code_Craft_buildTree.ipynb\" target=\"_parent\"><img src=\"https://colab.research.google.com/assets/colab-badge.svg\" alt=\"Open In Colab\"/></a>"
      ]
    },
    {
      "cell_type": "markdown",
      "source": [
        "##Problem:\n",
        "Given pre-order and in-order traversals of a binary tree, write a function to reconstruct the tree.\n",
        "\n",
        "For example, given the following preorder traversal:\n",
        "\n",
        "[a, b, d, e, c, f, g]\n",
        "\n",
        "And the following inorder traversal:\n",
        "\n",
        "[d, b, e, a, f, c, g]\n",
        "\n",
        "You should return the following tree:\n",
        "\n",
        "````\n",
        "\n",
        "    a\n",
        "   / \\\n",
        "  b   c\n",
        " / \\ / \\\n",
        "d  e f  g\n",
        "\n",
        "````"
      ],
      "metadata": {
        "id": "9iKLHJwABt0b"
      }
    },
    {
      "cell_type": "markdown",
      "source": [
        "##Solution:\n",
        "To reconstruct a binary tree from its pre-order and in-order traversals, you can follow a recursive approach. The first element in the pre-order list is always the root of the tree. Using this element, you can divide the in-order list into two parts: the left subtree and the right subtree. Then, you recursively build each subtree using the same process.\n",
        "\n",
        "Function `buildTree` takes the `preorder` and `inorder` traversal lists as input and returns the root of the reconstructed binary tree. The `printTree` function is used to print the tree in a readable format."
      ],
      "metadata": {
        "id": "AW_E09HAB4cl"
      }
    },
    {
      "cell_type": "markdown",
      "source": [
        "##Implementation:"
      ],
      "metadata": {
        "id": "9Ex16iJyCEnv"
      }
    },
    {
      "cell_type": "code",
      "source": [
        "class TreeNode:\n",
        "    def __init__(self, x):\n",
        "        self.val = x\n",
        "        self.left = None\n",
        "        self.right = None\n",
        "\n",
        "def buildTree(preorder, inorder):\n",
        "    if not preorder or not inorder:\n",
        "        return None\n",
        "\n",
        "    # The first element in preorder is the root.\n",
        "    root = TreeNode(preorder[0])\n",
        "    mid = inorder.index(preorder[0])\n",
        "\n",
        "    # Recursively build the left and right subtrees.\n",
        "    root.left = buildTree(preorder[1:mid+1], inorder[:mid])\n",
        "    root.right = buildTree(preorder[mid+1:], inorder[mid+1:])\n",
        "\n",
        "    return root\n",
        "\n",
        "def printTree(root, indent = \"\"):\n",
        "    if root:\n",
        "        print(indent + str(root.val))\n",
        "        printTree(root.left, indent + \"  \")\n",
        "        printTree(root.right, indent + \"  \")\n",
        "\n",
        "# Example usage\n",
        "preorder = ['a', 'b', 'd', 'e', 'c', 'f', 'g']\n",
        "inorder = ['d', 'b', 'e', 'a', 'f', 'c', 'g']\n",
        "tree = buildTree(preorder, inorder)\n",
        "printTree(tree)\n"
      ],
      "metadata": {
        "colab": {
          "base_uri": "https://localhost:8080/"
        },
        "id": "sYg2lXGJ-YYQ",
        "outputId": "21f291dc-a574-41be-f46d-87bdcf8d71f7"
      },
      "execution_count": 12,
      "outputs": [
        {
          "output_type": "stream",
          "name": "stdout",
          "text": [
            "a\n",
            "  b\n",
            "    d\n",
            "    e\n",
            "  c\n",
            "    f\n",
            "    g\n"
          ]
        }
      ]
    },
    {
      "cell_type": "markdown",
      "source": [
        "##Testing Graphically:"
      ],
      "metadata": {
        "id": "AvPrhXVpCJZe"
      }
    },
    {
      "cell_type": "code",
      "source": [
        "import matplotlib.pyplot as plt\n",
        "import networkx as nx\n",
        "\n",
        "def add_edges(graph, node, pos, x=0, y=0, layer=1):\n",
        "    if node is not None:\n",
        "        graph.add_node(node.val, pos=(x, y))\n",
        "        if node.left:\n",
        "            graph.add_edge(node.val, node.left.val)\n",
        "            add_edges(graph, node.left, pos, x - 1 / layer, y - 1, layer + 1)\n",
        "        if node.right:\n",
        "            graph.add_edge(node.val, node.right.val)\n",
        "            add_edges(graph, node.right, pos, x + 1 / layer, y - 1, layer + 1)\n",
        "\n",
        "def draw_tree(root):\n",
        "    graph = nx.DiGraph()\n",
        "    add_edges(graph, root, pos=nx.get_node_attributes(graph, 'pos'))\n",
        "\n",
        "    pos = nx.get_node_attributes(graph, 'pos')\n",
        "    nx.draw(graph, pos, with_labels=True, arrows=False, node_size=2000, node_color=\"skyblue\", font_size=12, font_weight='bold')\n",
        "    plt.title(\"Binary Tree\")\n",
        "    plt.show()\n",
        "\n",
        "# Draw the tree\n",
        "draw_tree(tree)\n"
      ],
      "metadata": {
        "colab": {
          "base_uri": "https://localhost:8080/",
          "height": 539
        },
        "id": "C2Zulo6bA1Tw",
        "outputId": "bd1574bd-2a2c-41ef-cf1e-52e4da93211e"
      },
      "execution_count": 22,
      "outputs": [
        {
          "output_type": "display_data",
          "data": {
            "text/plain": [
              "<Figure size 640x480 with 1 Axes>"
            ],
            "image/png": "[encoded data removed]"
          },
          "metadata": {}
        }
      ]
    }
  ]
}