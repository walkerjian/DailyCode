{
  "nbformat": 4,
  "nbformat_minor": 0,
  "metadata": {
    "colab": {
      "provenance": [],
      "authorship_tag": "ABX9TyO/N2uEVX/1VNkpLh3s1D9E",
      "include_colab_link": true
    },
    "kernelspec": {
      "name": "python3",
      "display_name": "Python 3"
    },
    "language_info": {
      "name": "python"
    }
  },
  "cells": [
    {
      "cell_type": "markdown",
      "metadata": {
        "id": "view-in-github",
        "colab_type": "text"
      },
      "source": [
        "<a href=\"https://colab.research.google.com/github/walkerjian/DailyCode/blob/main/Code_Craft_nextSparse.ipynb\" target=\"_parent\"><img src=\"https://colab.research.google.com/assets/colab-badge.svg\" alt=\"Open In Colab\"/></a>"
      ]
    },
    {
      "cell_type": "markdown",
      "source": [
        "##Problem:\n",
        "We say a number is sparse if there are no adjacent ones in its binary representation. For example, 21 (10101) is sparse, but 22(10110) is not. For a given input N, find the smallest sparse number greater than or equal to N.\n",
        "Do this in faster than O(N log N) time.\n",
        "\n",
        "##Solution:\n",
        "To find the smallest sparse number greater than or equal to a given number \\( N \\) in faster than \\( O(N \\log N) \\) time, we can analyze and manipulate the binary representation of the number directly. The idea is to iterate through the binary digits of the number and make adjustments to ensure the sparsity condition is met, i.e., there are no adjacent '1's.\n",
        "\n",
        "Here's a high-level algorithm to achieve this:\n",
        "\n",
        "1. Convert \\( N \\) to its binary representation.\n",
        "\n",
        "2. Iterate over the binary digits from left to right (i.e., from the most significant bit to the least significant bit).\n",
        "\n",
        "3. If we find two adjacent '1's:\n",
        "   - Find the rightmost '0' bit to the left of these '1's.\n",
        "   - Set this '0' bit to '1', and set all bits to the right of it to '0'.\n",
        "   - This adjustment ensures that the resulting number is the smallest sparse number greater than or equal to \\( N \\).\n",
        "\n",
        "4. Convert the modified binary representation back to its integer form.\n",
        "\n",
        "This approach is more efficient than checking each number sequentially, as it leverages the binary representation's structure to jump directly to the next sparse number. The time complexity of this approach is \\( O(b) \\), where \\( b \\) is the number of bits in the binary representation of \\( N \\), which is much better than \\( O(N \\log N) \\).\n",
        "\n",
        "##Implementation:\n"
      ],
      "metadata": {
        "id": "9FupcszFc0pP"
      }
    },
    {
      "cell_type": "code",
      "source": [
        "def nextSparse(x):\n",
        "    bin_x = list('0' + bin(x)[2:])  # Convert x to binary list for easy manipulation\n",
        "    n = len(bin_x)\n",
        "\n",
        "    # Flag to check if we have made a change\n",
        "    changed = False\n",
        "\n",
        "    for i in range(1, n - 1):\n",
        "        if bin_x[i] == '1' and bin_x[i - 1] == bin_x[i] == '1':\n",
        "            changed = True\n",
        "            j = i - 1\n",
        "\n",
        "            # Find the most significant '0' to the left of the pair of '1's\n",
        "            while j >= 0 and bin_x[j] == '1':\n",
        "                j -= 1\n",
        "\n",
        "            # If found, set it to '1' and all bits to its right to '0'\n",
        "            if j >= 0:\n",
        "                bin_x[j] = '1'\n",
        "                for k in range(j + 1, n):\n",
        "                    bin_x[k] = '0'\n",
        "\n",
        "            break  # Break the loop after the first change\n",
        "\n",
        "    if not changed:\n",
        "        return x  # If no change is needed, return the original number\n",
        "\n",
        "    # Convert the binary list back to an integer\n",
        "    return int(''.join(bin_x), 2)\n",
        "\n",
        "# Test the function again\n",
        "nextSparse(38)  # Should find the next sparse number greater than 38\n",
        "\n"
      ],
      "metadata": {
        "colab": {
          "base_uri": "https://localhost:8080/"
        },
        "id": "AM4nuuIbc_gi",
        "outputId": "d85dc7e3-0572-46c4-8ab9-daca53d261d7"
      },
      "execution_count": 1,
      "outputs": [
        {
          "output_type": "execute_result",
          "data": {
            "text/plain": [
              "40"
            ]
          },
          "metadata": {},
          "execution_count": 1
        }
      ]
    }
  ]
}