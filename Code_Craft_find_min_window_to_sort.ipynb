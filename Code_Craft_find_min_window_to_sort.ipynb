{
  "nbformat": 4,
  "nbformat_minor": 0,
  "metadata": {
    "colab": {
      "provenance": [],
      "authorship_tag": "ABX9TyM4Vf07N3HWFeVwpjKE7KgR",
      "include_colab_link": true
    },
    "kernelspec": {
      "name": "python3",
      "display_name": "Python 3"
    },
    "language_info": {
      "name": "python"
    }
  },
  "cells": [
    {
      "cell_type": "markdown",
      "metadata": {
        "id": "view-in-github",
        "colab_type": "text"
      },
      "source": [
        "<a href=\"https://colab.research.google.com/github/walkerjian/DailyCode/blob/main/Code_Craft_find_min_window_to_sort.ipynb\" target=\"_parent\"><img src=\"https://colab.research.google.com/assets/colab-badge.svg\" alt=\"Open In Colab\"/></a>"
      ]
    },
    {
      "cell_type": "markdown",
      "source": [
        "##Problem:\n",
        "Given an array of integers out of order, determine the bounds of the smallest window that must be sorted in order for the entire array to be sorted. For example, given [3, 7, 5, 6, 9], you should return (1, 3)."
      ],
      "metadata": {
        "id": "2lWyrXjB8EeD"
      }
    },
    {
      "cell_type": "markdown",
      "source": [
        "##Solution:\n",
        "To solve this problem, we can follow these steps:\n",
        "\n",
        "1. Identify the first element from the left that is out of order: an element that is greater than the next element.\n",
        "2. Identify the first element from the right that is out of order: an element that is less than the previous element.\n",
        "3. Find the minimum and maximum values in the subarray defined by the two elements identified in steps 1 and 2.\n",
        "4. Extend the left boundary to the left until we find an element smaller than or equal to the minimum value found in step 3.\n",
        "5. Extend the right boundary to the right until we find an element greater than or equal to the maximum value found in step 3.\n",
        "6. The left and right boundaries identified in steps 4 and 5 define the smallest window that must be sorted.\n"
      ],
      "metadata": {
        "id": "jIohycTB8Hjb"
      }
    },
    {
      "cell_type": "markdown",
      "source": [
        "##Implementation:\n",
        "\n",
        "The smallest window that must be sorted in order for the entire array `[3, 7, 5, 6, 9]` to be sorted is from index `1` to `3`. Thus, the function correctly returns `(1, 3)`. Sorting the elements within this window will make the entire array sorted.\n"
      ],
      "metadata": {
        "id": "pkWuQrLB8K8H"
      }
    },
    {
      "cell_type": "code",
      "execution_count": 1,
      "metadata": {
        "id": "TIIt0l_k7Oi1",
        "colab": {
          "base_uri": "https://localhost:8080/"
        },
        "outputId": "e93143a9-97b6-453f-940d-73af4e777b82"
      },
      "outputs": [
        {
          "output_type": "execute_result",
          "data": {
            "text/plain": [
              "(1, 3)"
            ]
          },
          "metadata": {},
          "execution_count": 1
        }
      ],
      "source": [
        "def find_min_window_to_sort(nums):\n",
        "    # Step 1: Find the first element from the left that is out of order\n",
        "    left = 0\n",
        "    while left < len(nums) - 1 and nums[left] <= nums[left + 1]:\n",
        "        left += 1\n",
        "\n",
        "    # If no such element is found, the array is already sorted\n",
        "    if left == len(nums) - 1:\n",
        "        return (0, 0)\n",
        "\n",
        "    # Step 2: Find the first element from the right that is out of order\n",
        "    right = len(nums) - 1\n",
        "    while right > 0 and nums[right] >= nums[right - 1]:\n",
        "        right -= 1\n",
        "\n",
        "    # Step 3: Find the minimum and maximum values in the identified subarray\n",
        "    min_val = min(nums[left:right+1])\n",
        "    max_val = max(nums[left:right+1])\n",
        "\n",
        "    # Step 4: Extend the left boundary\n",
        "    while left > 0 and nums[left - 1] > min_val:\n",
        "        left -= 1\n",
        "\n",
        "    # Step 5: Extend the right boundary\n",
        "    while right < len(nums) - 1 and nums[right + 1] < max_val:\n",
        "        right += 1\n",
        "\n",
        "    return (left, right)\n",
        "\n",
        "# Test the function\n",
        "array = [3, 7, 5, 6, 9]\n",
        "find_min_window_to_sort(array)\n"
      ]
    },
    {
      "cell_type": "markdown",
      "source": [
        "##Testing:\n",
        "Absolutely, I grok you! Let's craft a test harness that feels like a cool breeze on a hot summer day, ensuring it runs smoothly without dimming the lights. We'll keep it concise, yet comprehensive, making sure each test case is like a perfect chord in a soulful melody. Here's how we're going to vibe with it:\n",
        "\n",
        "1. **Test for an already sorted array**: It's like starting a playlist with a tune you know sets the mood right.\n",
        "2. **Test for a completely reversed array**: This is the deep dive, where we see if we can swim back up gracefully.\n",
        "3. **Test with all elements the same**: Like a steady beat that doesn't need changing, but you gotta know it's there.\n",
        "4. **Test with multiple subarrays needing sorting**: A bit of a mixtape that needs some tuning to flow smoothly.\n",
        "5. **Test with negatives and positives**: Life's full of ups and downs, and so is this test case.\n",
        "6. **Test an empty array**: Silence is also a note, and it's important in the symphony of code.\n",
        "\n",
        "Let's jam with this test harness in Python, ensuring it's all tasty and fresh.\n",
        "\n",
        "The test harness is smooth, but it looks like we hit a riff on Test case 5: the expected outcome was `(5, 6)`, yet the function played a tune of `(4, 6)`. This hiccup shows the importance of a robust test suite – it's like a soundcheck ensuring every note is in place before the show.\n",
        "\n",
        "Given this feedback, let's reflect on the test case: `[-5, -3, -2, -1, 0, 2, -1, 4]`. The expected result `(5, 6)` assumed a smaller window than necessary. Upon closer inspection, including the element at index `4` (value `0`) makes the sequence from index `4` to `6` non-decreasing once sorted, which correctly aligns with our function's output of `(4, 6)`.\n",
        "\n",
        "This indicates our test expectation was slightly off-beat. The function is harmonizing correctly, and we should adjust our expectation in the test case to keep the vibe right. Let's correct that expectation and keep the test suite grooving.\n"
      ],
      "metadata": {
        "id": "wcaruNyfYogT"
      }
    },
    {
      "cell_type": "code",
      "source": [
        "def find_min_window_to_sort_updated(nums):\n",
        "    if not nums:\n",
        "        return (0, 0)  # Early return for empty array, maintaining the cool.\n",
        "\n",
        "    left = 0\n",
        "    while left < len(nums) - 1 and nums[left] <= nums[left + 1]:\n",
        "        left += 1\n",
        "\n",
        "    if left == len(nums) - 1:\n",
        "        return (0, 0)  # The array is already sorted, so we keep the vibe positive.\n",
        "\n",
        "    right = len(nums) - 1\n",
        "    while right > 0 and nums[right] >= nums[right - 1]:\n",
        "        right -= 1\n",
        "\n",
        "    # Handle case where the segment between left and right is empty\n",
        "    if left >= right:\n",
        "        return (0, 0)  # No need to proceed if there's nothing to sort\n",
        "\n",
        "    min_val = min(nums[left:right+1])\n",
        "    max_val = max(nums[left:right+1])\n",
        "\n",
        "    while left > 0 and nums[left - 1] > min_val:\n",
        "        left -= 1\n",
        "\n",
        "    while right < len(nums) - 1 and nums[right + 1] < max_val:\n",
        "        right += 1\n",
        "\n",
        "    return (left, right)\n",
        "\n",
        "# Let's rerun the test harness with the updated function to ensure it's now fully groovy.\n",
        "def test_find_min_window_to_sort_updated():\n",
        "    test_cases = [\n",
        "        ([1, 2, 3, 4, 5], (0, 0)),\n",
        "        ([5, 4, 3, 2, 1], (0, 4)),\n",
        "        ([2, 2, 2, 2, 2], (0, 0)),\n",
        "        ([1, 3, 5, 2, 4, 6], (1, 4)),\n",
        "        ([-5, -3, -2, -1, 0, 2, -1, 4], (4, 6)),\n",
        "        ([], (0, 0)),\n",
        "    ]\n",
        "    for i, (array, expected) in enumerate(test_cases):\n",
        "        result = find_min_window_to_sort_updated(array)\n",
        "        assert result == expected, f\"Test case {i+1} failed: expected {expected}, got {result}\"\n",
        "        print(f\"Test case {i+1} passed: got {expected}.\")\n",
        "\n",
        "test_find_min_window_to_sort_updated()\n"
      ],
      "metadata": {
        "colab": {
          "base_uri": "https://localhost:8080/"
        },
        "id": "B9ispO_RBrSM",
        "outputId": "f91061bc-9e28-4af1-bdfa-4619bd0eb845"
      },
      "execution_count": 4,
      "outputs": [
        {
          "output_type": "stream",
          "name": "stdout",
          "text": [
            "Test case 1 passed: got (0, 0).\n",
            "Test case 2 passed: got (0, 4).\n",
            "Test case 3 passed: got (0, 0).\n",
            "Test case 4 passed: got (1, 4).\n",
            "Test case 5 passed: got (4, 6).\n",
            "Test case 6 passed: got (0, 0).\n"
          ]
        }
      ]
    }
  ]
}