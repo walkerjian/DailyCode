{
  "nbformat": 4,
  "nbformat_minor": 0,
  "metadata": {
    "colab": {
      "provenance": [],
      "authorship_tag": "ABX9TyNhaj77zvgTKE1/y1k7cimD",
      "include_colab_link": true
    },
    "kernelspec": {
      "name": "python3",
      "display_name": "Python 3"
    },
    "language_info": {
      "name": "python"
    }
  },
  "cells": [
    {
      "cell_type": "markdown",
      "metadata": {
        "id": "view-in-github",
        "colab_type": "text"
      },
      "source": [
        "<a href=\"https://colab.research.google.com/github/walkerjian/DailyCode/blob/main/Code_Craft_pow.ipynb\" target=\"_parent\"><img src=\"https://colab.research.google.com/assets/colab-badge.svg\" alt=\"Open In Colab\"/></a>"
      ]
    },
    {
      "cell_type": "markdown",
      "source": [
        "Implement integer exponentiation. That is, implement the pow(x, y) function, where x and y are integers and returns x^y.\n",
        "\n",
        "Do this faster than the naive method of repeated multiplication.\n",
        "\n",
        "For example, pow(2, 10) should return 1024."
      ],
      "metadata": {
        "id": "zTn8kmkM47pV"
      }
    },
    {
      "cell_type": "markdown",
      "source": [
        "To implement integer exponentiation efficiently, we can use the method called \"Exponentiation by Squaring\". This algorithm reduces the time complexity to $O(\\log y)$, which is much faster than the naive method with $O(y)$.\n",
        "\n",
        "Here's the implementation in Python:\n",
        "\n",
        "\n",
        "\n",
        "1. **Handle Negative Exponent**:\n",
        "    - If $ y $ is negative, we convert the problem into calculating $ x^{-y} $ and $ x $ becomes $ \\frac{1}{x} $.\n",
        "\n",
        "2. **Initialization**:\n",
        "    - `result` is initialized to 1, which will hold the final result.\n",
        "    - `base` is initialized to $ x $, which will be used for squaring.\n",
        "\n",
        "3. **Exponentiation by Squaring**:\n",
        "    - While $ y $ is greater than 0:\n",
        "        - If $ y $ is odd, multiply `result` by the current `base`.\n",
        "        - Square the `base`.\n",
        "        - Divide $ y $ by 2 using integer division (`y //= 2`).\n",
        "\n",
        "This approach leverages the properties of exponents to reduce the number of multiplications needed, making it much more efficient than repeated multiplication."
      ],
      "metadata": {
        "id": "fpN_ReN25BKR"
      }
    },
    {
      "cell_type": "code",
      "execution_count": 1,
      "metadata": {
        "colab": {
          "base_uri": "https://localhost:8080/"
        },
        "id": "cTt-1iab45dL",
        "outputId": "fa4502e2-de1c-4775-c1c2-b2c47a3c91c7"
      },
      "outputs": [
        {
          "output_type": "stream",
          "name": "stdout",
          "text": [
            "1024\n",
            "27\n",
            "0.04000000000000001\n"
          ]
        }
      ],
      "source": [
        "def pow(x, y):\n",
        "    \"\"\"\n",
        "\n",
        "    Args:\n",
        "      x:\n",
        "      y:\n",
        "\n",
        "    Returns:\n",
        "\n",
        "    \"\"\"\n",
        "    # Handle the case when y is negative\n",
        "    if y < 0:\n",
        "        x = 1 / x\n",
        "        y = -y\n",
        "\n",
        "    result = 1\n",
        "    base = x\n",
        "\n",
        "    while y > 0:\n",
        "        if y % 2 == 1:\n",
        "            result *= base\n",
        "        base *= base\n",
        "        y //= 2\n",
        "\n",
        "    return result\n",
        "\n",
        "# Test cases\n",
        "print(pow(2, 10))  # Output: 1024\n",
        "print(pow(3, 3))   # Output: 27\n",
        "print(pow(5, -2))  # Output: 0.04"
      ]
    }
  ]
}