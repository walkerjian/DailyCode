{
  "nbformat": 4,
  "nbformat_minor": 0,
  "metadata": {
    "colab": {
      "provenance": [],
      "authorship_tag": "ABX9TyOGJKsOoAvf1kr5/XisPSGs",
      "include_colab_link": true
    },
    "kernelspec": {
      "name": "python3",
      "display_name": "Python 3"
    },
    "language_info": {
      "name": "python"
    }
  },
  "cells": [
    {
      "cell_type": "markdown",
      "metadata": {
        "id": "view-in-github",
        "colab_type": "text"
      },
      "source": [
        "<a href=\"https://colab.research.google.com/github/walkerjian/DailyCode/blob/main/Code_Craft_OverloadingTheQuackStack.ipynb\" target=\"_parent\"><img src=\"https://colab.research.google.com/assets/colab-badge.svg\" alt=\"Open In Colab\"/></a>"
      ]
    },
    {
      "cell_type": "markdown",
      "source": [
        "#Problem:\n",
        "A quack is a data structure combining properties of both stacks and queues. It can be viewed as a list of elements written left to right such that three operations are possible:\n",
        "\n",
        "push(x): add a new item x to the left end of the list\n",
        "pop(): remove and return the item on the left end of the list\n",
        "pull(): remove the item on the right end of the list.\n",
        "Implement a quack using three stacks and O(1) additional memory, so that the amortized time for any push, pop, or pull operation is O(1)."
      ],
      "metadata": {
        "id": "tH7CkhIN6Ovd"
      }
    },
    {
      "cell_type": "markdown",
      "source": [
        "##Solution:\n",
        "To implement a quack using three stacks with O(1) amortized time complexity for push, pop, and pull operations, we can use the following strategy:\n",
        "\n",
        "1. **Stack Setup:** Utilize three stacks:\n",
        "   - `left`: For handling push and pop operations (push to and pop from the left end).\n",
        "   - `right`: For handling pull operations (pop from the right end).\n",
        "   - `buffer`: Used to transfer elements between the left and right stacks to balance them when needed.\n",
        "\n",
        "2. **Push Operation (`push(x)`):**\n",
        "   - Push element `x` onto the `left` stack directly. This is a direct operation and thus O(1) in time complexity.\n",
        "\n",
        "3. **Pop Operation (`pop()`):**\n",
        "   - If the `left` stack is not empty, pop the top element from the `left` stack.\n",
        "   - If the `left` stack is empty, transfer half of the elements from the `right` stack to the `left` stack, reversing their order so they can be popped correctly. After transferring, pop the top element of the `left` stack.\n",
        "   - This operation has an amortized time complexity of O(1) because each element is moved at most twice: once to the `right` stack and possibly back to the `left` stack.\n",
        "\n",
        "4. **Pull Operation (`pull()`):**\n",
        "   - If the `right` stack is not empty, pop the top element from the `right` stack.\n",
        "   - If the `right` stack is empty, transfer half of the elements from the `left` stack to the `right` stack without reversing their order. After transferring, pop the top element of the `right` stack.\n",
        "   - Like the pop operation, this has an amortized time complexity of O(1).\n",
        "\n",
        "By using three stacks and careful handling of element transfers, we ensure that elements are moved infrequently enough to maintain an amortized time complexity of O(1) for all operations. Below is a Python implementation of this concept:\n",
        "\n",
        "This implementation manages element distribution between the `left` and `right` stacks when one is empty, ensuring that all operations can continue in an O(1) amortized manner."
      ],
      "metadata": {
        "id": "itQ9Rbxe6Twn"
      }
    },
    {
      "cell_type": "markdown",
      "source": [
        "##Implementation:"
      ],
      "metadata": {
        "id": "Cb3P4iVt6W-J"
      }
    },
    {
      "cell_type": "code",
      "source": [
        "class Quack:\n",
        "    def __init__(self):\n",
        "        self.left = []\n",
        "        self.right = []\n",
        "        self.buffer = []\n",
        "\n",
        "    def push(self, x):\n",
        "        self.left.append(x)\n",
        "\n",
        "    def pop(self):\n",
        "        if not self.left:\n",
        "            self._move_half(self.right, self.left)\n",
        "        if self.left:\n",
        "            return self.left.pop()\n",
        "        raise IndexError(\"pop from empty quack\")\n",
        "\n",
        "    def pull(self):\n",
        "        if not self.right:\n",
        "            self._move_half(self.left, self.right)\n",
        "        if self.right:\n",
        "            return self.right.pop()\n",
        "        raise IndexError(\"pull from empty quack\")\n",
        "\n",
        "    def _move_half(self, source, destination):\n",
        "        size = len(source) // 2\n",
        "        # Transfer half of the elements to the buffer\n",
        "        while len(source) > size:\n",
        "            self.buffer.append(source.pop())\n",
        "\n",
        "        # Transfer from buffer to destination in reversed order (only for pop)\n",
        "        while self.buffer:\n",
        "            destination.append(self.buffer.pop())\n"
      ],
      "metadata": {
        "id": "lve1Yewi6N4N"
      },
      "execution_count": 3,
      "outputs": []
    },
    {
      "cell_type": "markdown",
      "source": [
        "##Testing:"
      ],
      "metadata": {
        "id": "rmascGp76a_Q"
      }
    },
    {
      "cell_type": "code",
      "execution_count": 2,
      "metadata": {
        "id": "kVX9PbNY6M7_",
        "colab": {
          "base_uri": "https://localhost:8080/"
        },
        "outputId": "8402f5a1-d095-4dfd-dd10-6fa9d93e9a7d"
      },
      "outputs": [
        {
          "output_type": "stream",
          "name": "stdout",
          "text": [
            "3\n",
            "4\n",
            "1\n",
            "2\n"
          ]
        }
      ],
      "source": [
        "quack = Quack()\n",
        "quack.push(1)\n",
        "quack.push(2)\n",
        "quack.push(3)\n",
        "print(quack.pop())  # Outputs 3\n",
        "quack.push(4)\n",
        "print(quack.pull())  # Outputs 1\n",
        "print(quack.pop())  # Outputs 2\n",
        "print(quack.pull())  # Outputs 4"
      ]
    },
    {
      "cell_type": "markdown",
      "source": [
        "##Overloading the Quack Stack:\n",
        "Implementing a data structure like a quack where the type of operation (push, pop, pull) is determined by how the structure is used in expressions (e.g., as a left-value or right-value) is quite innovative but challenging in statically-typed languages. However, this can be approached in more dynamic or flexible languages like Python, albeit with some limitations and not exactly by lvalue/rvalue differentiation since Python doesn't differentiate these directly in the same way as languages like C++.\n",
        "\n",
        "In Python, we can create a class where methods are invoked based on the context in which an object of the class is used. While we can't directly check if an object is being used as an lvalue or rvalue, we can provide method interfaces that make such usage clear by their semantic context in the code.\n",
        "\n",
        "One way to achieve a context-driven interface in Python is by overriding the special methods that Python uses for assignment and other operations. For example, we could use:\n",
        "- Item assignment for pushing: `quack[0] = value`\n",
        "- Item retrieval for popping or pulling: `value = quack[0]`\n",
        "\n",
        "Here's how you could implement a quack with such behavior using Python's magic methods:\n",
        "\n",
        "\n",
        "\n",
        "In this example, pushing is done by assigning to the key `0`, popping by accessing the key `0`, and pulling by accessing the key `-1`. This kind of usage gives a clear, if somewhat unusual, semantic meaning to the operation based on the index used, which simulates differentiating operations by their context in the code. This is as close as we can get to lvalue/rvalue differentiation in Python while still retaining clarity and functionality."
      ],
      "metadata": {
        "id": "dhf7TbT_nCdS"
      }
    },
    {
      "cell_type": "code",
      "source": [
        "class Quack:\n",
        "    def __init__(self):\n",
        "        self.left = []\n",
        "        self.right = []\n",
        "\n",
        "    def __setitem__(self, key, value):\n",
        "        if key == 0:\n",
        "            self.left.append(value)  # Push to left\n",
        "        else:\n",
        "            raise KeyError(\"Only key 0 is allowed for pushing\")\n",
        "\n",
        "    def __getitem__(self, key):\n",
        "        if key == 0:\n",
        "            return self._pop()\n",
        "        elif key == -1:\n",
        "            return self._pull()\n",
        "        else:\n",
        "            raise KeyError(\"Key must be 0 for pop and -1 for pull\")\n",
        "\n",
        "    def _pop(self):\n",
        "        if not self.left:\n",
        "            self._transfer(self.right, self.left)\n",
        "        if self.left:\n",
        "            return self.left.pop()\n",
        "        raise IndexError(\"pop from empty quack\")\n",
        "\n",
        "    def _pull(self):\n",
        "        if not self.right:\n",
        "            self._transfer(self.left, self.right)\n",
        "        if self.right:\n",
        "            return self.right.pop()\n",
        "        raise IndexError(\"pull from empty quack\")\n",
        "\n",
        "    def _transfer(self, source, destination):\n",
        "        # Move all items from source to destination to reverse them\n",
        "        while source:\n",
        "            destination.append(source.pop())"
      ],
      "metadata": {
        "id": "e8B_W-mlnBlS"
      },
      "execution_count": null,
      "outputs": []
    },
    {
      "cell_type": "code",
      "source": [
        "quack = Quack()\n",
        "quack[0] = 1  # push\n",
        "quack[0] = 2  # push\n",
        "quack[0] = 3  # push\n",
        "print(quack[0])  # pop -> 3\n",
        "quack[0] = 4  # push\n",
        "print(quack[-1])  # pull -> 1\n",
        "print(quack[0])  # pop -> 2\n",
        "print(quack[-1])  # pull -> 4"
      ],
      "metadata": {
        "colab": {
          "base_uri": "https://localhost:8080/"
        },
        "id": "-e5C1d1Dna1Y",
        "outputId": "0075bd74-205f-4cf7-9c6c-85f066cebe7f"
      },
      "execution_count": 5,
      "outputs": [
        {
          "output_type": "stream",
          "name": "stdout",
          "text": [
            "3\n",
            "1\n",
            "4\n",
            "2\n"
          ]
        }
      ]
    }
  ]
}