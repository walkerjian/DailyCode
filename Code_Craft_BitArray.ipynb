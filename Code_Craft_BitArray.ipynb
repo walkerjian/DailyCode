{
  "nbformat": 4,
  "nbformat_minor": 0,
  "metadata": {
    "colab": {
      "provenance": [],
      "authorship_tag": "ABX9TyO4KcSPZVMlCuUBD/cUDuqh",
      "include_colab_link": true
    },
    "kernelspec": {
      "name": "python3",
      "display_name": "Python 3"
    },
    "language_info": {
      "name": "python"
    }
  },
  "cells": [
    {
      "cell_type": "markdown",
      "metadata": {
        "id": "view-in-github",
        "colab_type": "text"
      },
      "source": [
        "<a href=\"https://colab.research.google.com/github/walkerjian/DailyCode/blob/main/Code_Craft_BitArray.ipynb\" target=\"_parent\"><img src=\"https://colab.research.google.com/assets/colab-badge.svg\" alt=\"Open In Colab\"/></a>"
      ]
    },
    {
      "cell_type": "markdown",
      "source": [
        "##Problem:\n",
        "Implement a bit array.\n",
        "\n",
        "A bit array is a space efficient array that holds a value of 1 or 0 at each index.\n",
        "```\n",
        "init(size): initialize the array with size\n",
        "set(i, val): updates index at i with val where val is either 1 or 0.\n",
        "get(i): gets the value at index i.\n",
        "```"
      ],
      "metadata": {
        "id": "D7zqBqdA-Q9M"
      }
    },
    {
      "cell_type": "markdown",
      "source": [
        "##Solution:\n"
      ],
      "metadata": {
        "id": "61PN_djVdNoh"
      }
    },
    {
      "cell_type": "markdown",
      "source": [
        "##First Implementation:"
      ],
      "metadata": {
        "id": "Osh-nq7IcsQF"
      }
    },
    {
      "cell_type": "code",
      "execution_count": null,
      "metadata": {
        "colab": {
          "base_uri": "https://localhost:8080/"
        },
        "id": "Bl-Fkhaw3otd",
        "outputId": "6eb7c796-483a-4095-a3b1-901dc4f07715"
      },
      "outputs": [
        {
          "output_type": "execute_result",
          "data": {
            "text/plain": [
              "(1, 1, 0)"
            ]
          },
          "metadata": {},
          "execution_count": 1
        }
      ],
      "source": [
        "class BitArray:\n",
        "    def __init__(self, size: int):\n",
        "        self.size = size\n",
        "        self.data = 0  # initially all bits are set to 0\n",
        "\n",
        "    def set(self, i: int, val: int):\n",
        "        if i < 0 or i >= self.size:\n",
        "            raise IndexError(\"Index out of range\")\n",
        "\n",
        "        if val not in [0, 1]:\n",
        "            raise ValueError(\"Value must be either 0 or 1\")\n",
        "\n",
        "        # if val is 1, set the bit at index i to 1\n",
        "        # if val is 0, set the bit at index i to 0\n",
        "        if val:\n",
        "            self.data |= (1 << i)\n",
        "        else:\n",
        "            self.data &= ~(1 << i)\n",
        "\n",
        "    def get(self, i: int) -> int:\n",
        "        if i < 0 or i >= self.size:\n",
        "            raise IndexError(\"Index out of range\")\n",
        "\n",
        "        # Return the value of the bit at index i\n",
        "        return (self.data >> i) & 1\n",
        "\n",
        "# Let's test the BitArray class\n",
        "bit_array = BitArray(10)\n",
        "bit_array.set(3, 1)\n",
        "bit_array.set(7, 1)\n",
        "bit_array.get(3), bit_array.get(7), bit_array.get(5)  # Expected: 1, 1, 0\n"
      ]
    },
    {
      "cell_type": "markdown",
      "source": [
        "##Second Implementation:\n",
        "To implement a bit array we'll use bitwise operations for efficiency.\n",
        "\n",
        "In this implementation:\n",
        "- The `__init__` method initializes the bit array. The size of the internal bytearray is computed based on the number of bits required.\n",
        "- The `set` method updates a bit at a given index. It calculates the byte and the bit position within that byte, and then sets or clears the bit using bitwise operations.\n",
        "- The `get` method retrieves the value of a bit at a given index. Similar to `set`, it computes the byte and bit position and then extracts the relevant bit."
      ],
      "metadata": {
        "id": "UXu3TRYicouD"
      }
    },
    {
      "cell_type": "code",
      "source": [
        "class BitArray:\n",
        "    def __init__(self, size):\n",
        "        self.size = size\n",
        "        self.array = bytearray(size // 8 + (1 if size % 8 else 0))\n",
        "\n",
        "    def set(self, i, val):\n",
        "        if not 0 <= i < self.size:\n",
        "            raise IndexError(\"Index out of range\")\n",
        "        if val not in (0, 1):\n",
        "            raise ValueError(\"Value must be 0 or 1\")\n",
        "\n",
        "        byte_index = i // 8\n",
        "        bit_index = i % 8\n",
        "\n",
        "        if val:\n",
        "            self.array[byte_index] |= (1 << bit_index)\n",
        "        else:\n",
        "            self.array[byte_index] &= ~(1 << bit_index)\n",
        "\n",
        "    def get(self, i):\n",
        "        if not 0 <= i < self.size:\n",
        "            raise IndexError(\"Index out of range\")\n",
        "\n",
        "        byte_index = i // 8\n",
        "        bit_index = i % 8\n",
        "\n",
        "        return (self.array[byte_index] >> bit_index) & 1\n",
        "\n",
        "# Example usage\n",
        "bit_array = BitArray(64)\n",
        "bit_array.set(5, 1)\n",
        "print(bit_array.get(5))  # Output: 1\n",
        "print(bit_array.get(6))  # Output: 0\n"
      ],
      "metadata": {
        "colab": {
          "base_uri": "https://localhost:8080/"
        },
        "id": "Bnwfk2Debgy8",
        "outputId": "d175ffb7-2b2b-47d6-a318-adbe332322fc"
      },
      "execution_count": 1,
      "outputs": [
        {
          "output_type": "stream",
          "name": "stdout",
          "text": [
            "1\n",
            "0\n"
          ]
        }
      ]
    },
    {
      "cell_type": "markdown",
      "source": [
        "Let's compare the two implementations:\n",
        "\n",
        "1. **Storage Mechanism**:\n",
        "   - **Second Implementation**: Uses a `bytearray` for storing bits. Each byte in the array can hold 8 bits. This approach is suitable for larger bit arrays, as it efficiently uses memory.\n",
        "   - **First Implementation**: Uses a single integer (`self.data`) to store all the bits. This is a simpler approach and is more memory-efficient for small bit arrays. However, for very large bit arrays, this method might not be feasible due to limitations on the size of integers (depending on the Python implementation and system architecture).\n",
        "\n",
        "2. **Bit Manipulation**:\n",
        "   - Both implementations use similar bitwise operations for setting and getting bits. In both, the `set` method uses bitwise OR and AND operations to set and clear bits, and the `get` method uses a bitwise AND operation to retrieve a bit.\n",
        "\n",
        "3. **Error Handling**:\n",
        "   - Both handle out-of-range indices and invalid bit values similarly, raising `IndexError` for invalid indices and `ValueError` for invalid bit values.\n",
        "\n",
        "4. **Scalability**:\n",
        "   - Second Implementation is more scalable for very large bit arrays. The use of a bytearray allows handling arrays larger than what can be accommodated in a single integer.\n",
        "   - First Implementation is ideal for smaller bit arrays where the total number of bits can be comfortably represented by a single integer. The simplicity of using a single integer might also offer performance benefits for small sizes due to potentially faster bitwise operations.\n",
        "\n",
        "5. **Initialization**:\n",
        "   - In both implementations, the bit array is initialized with all bits set to 0.\n",
        "\n",
        "In summary, the choice between these two implementations would depend on the size of the bit array you need and the specific requirements of the application. For small arrays or cases where simplicity is a priority, the single-integer approach is excellent. For larger arrays, or where memory efficiency is critical, the bytearray approach would be more suitable."
      ],
      "metadata": {
        "id": "mjNbrBK3b-Ug"
      }
    }
  ]
}