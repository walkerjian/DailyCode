{
  "nbformat": 4,
  "nbformat_minor": 0,
  "metadata": {
    "colab": {
      "provenance": [],
      "authorship_tag": "ABX9TyMty5aE0CuoFMFeCqZGRvyV",
      "include_colab_link": true
    },
    "kernelspec": {
      "name": "python3",
      "display_name": "Python 3"
    },
    "language_info": {
      "name": "python"
    }
  },
  "cells": [
    {
      "cell_type": "markdown",
      "metadata": {
        "id": "view-in-github",
        "colab_type": "text"
      },
      "source": [
        "<a href=\"https://colab.research.google.com/github/walkerjian/DailyCode/blob/main/Code_Craft_apply_permutation.ipynb\" target=\"_parent\"><img src=\"https://colab.research.google.com/assets/colab-badge.svg\" alt=\"Open In Colab\"/></a>"
      ]
    },
    {
      "cell_type": "markdown",
      "source": [
        "##Problem:\n",
        "A permutation can be specified by an array P, where P[i] represents the location of the element at i in the permutation. For example, [2, 1, 0] represents the permutation where elements at the index 0 and 2 are swapped.\n",
        "\n",
        "Given an array and a permutation, apply the permutation to the array. For example, given the array [\"a\", \"b\", \"c\"] and the permutation [2, 1, 0], return [\"c\", \"b\", \"a\"]."
      ],
      "metadata": {
        "id": "2lWyrXjB8EeD"
      }
    },
    {
      "cell_type": "markdown",
      "source": [
        "##Solution:\n",
        "To apply the permutation specified by an array `P` to another array `arr`, we need to reorder the elements of `arr` such that each element `i` in `arr` is moved to the position `P[i]`. In the example given, the element at index 0 in `arr` (\"a\") should be moved to index `P[0]` (2), the element at index 1 (\"b\") should be moved to index `P[1]` (1), and so on.\n"
      ],
      "metadata": {
        "id": "jIohycTB8Hjb"
      }
    },
    {
      "cell_type": "markdown",
      "source": [
        "##Implementation:\n",
        "Here is how you can implement this in Python:\n",
        "\n",
        "1. Initialize a new array of the same length as `arr` to hold the permuted elements.\n",
        "2. Iterate over the indices of `arr` and `P`, placing each element of `arr` at its new position in the new array.\n",
        "3. Return the new array.\n",
        "\n"
      ],
      "metadata": {
        "id": "pkWuQrLB8K8H"
      }
    },
    {
      "cell_type": "code",
      "execution_count": 1,
      "metadata": {
        "id": "TIIt0l_k7Oi1"
      },
      "outputs": [],
      "source": [
        "def apply_permutation(arr, permutation):\n",
        "    # Create a new array to hold the permuted elements\n",
        "    permuted_arr = [None] * len(arr)\n",
        "\n",
        "    # Apply the permutation\n",
        "    for i, p in enumerate(permutation):\n",
        "        permuted_arr[p] = arr[i]\n",
        "\n",
        "    return permuted_arr\n",
        "\n"
      ]
    },
    {
      "cell_type": "markdown",
      "source": [
        "##Testing:\n",
        "The function successfully applied the permutation `[2, 1, 0]` to the array `[\"a\", \"b\", \"c\"]`, resulting in the permuted array `[\"c\", \"b\", \"a\"]`.\n"
      ],
      "metadata": {
        "id": "wcaruNyfYogT"
      }
    },
    {
      "cell_type": "code",
      "source": [
        "# Test the function with the given example\n",
        "original_array = [\"a\", \"b\", \"c\"]\n",
        "permutation = [2, 1, 0]\n",
        "apply_permutation(original_array, permutation)"
      ],
      "metadata": {
        "id": "7arfxk2ORsA8",
        "colab": {
          "base_uri": "https://localhost:8080/"
        },
        "outputId": "127c06f7-044a-4c65-9a71-f4b3fab22ea8"
      },
      "execution_count": 2,
      "outputs": [
        {
          "output_type": "execute_result",
          "data": {
            "text/plain": [
              "['c', 'b', 'a']"
            ]
          },
          "metadata": {},
          "execution_count": 2
        }
      ]
    }
  ]
}