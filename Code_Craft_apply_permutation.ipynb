{
  "nbformat": 4,
  "nbformat_minor": 0,
  "metadata": {
    "colab": {
      "provenance": [],
      "authorship_tag": "ABX9TyNPBHQDo8TTk4GsnZRpa0x9",
      "include_colab_link": true
    },
    "kernelspec": {
      "name": "python3",
      "display_name": "Python 3"
    },
    "language_info": {
      "name": "python"
    }
  },
  "cells": [
    {
      "cell_type": "markdown",
      "metadata": {
        "id": "view-in-github",
        "colab_type": "text"
      },
      "source": [
        "<a href=\"https://colab.research.google.com/github/walkerjian/DailyCode/blob/main/Code_Craft_apply_permutation.ipynb\" target=\"_parent\"><img src=\"https://colab.research.google.com/assets/colab-badge.svg\" alt=\"Open In Colab\"/></a>"
      ]
    },
    {
      "cell_type": "markdown",
      "source": [
        "##Problem:\n",
        "A permutation can be specified by an array P, where P[i] represents the location of the element at i in the permutation. For example, [2, 1, 0] represents the permutation where elements at the index 0 and 2 are swapped.\n",
        "\n",
        "Given an array and a permutation, apply the permutation to the array. For example, given the array [\"a\", \"b\", \"c\"] and the permutation [2, 1, 0], return [\"c\", \"b\", \"a\"].\n"
      ],
      "metadata": {
        "id": "2lWyrXjB8EeD"
      }
    },
    {
      "cell_type": "markdown",
      "source": [
        "##Solution:\n"
      ],
      "metadata": {
        "id": "jIohycTB8Hjb"
      }
    },
    {
      "cell_type": "markdown",
      "source": [
        "##Implementation:\n"
      ],
      "metadata": {
        "id": "pkWuQrLB8K8H"
      }
    },
    {
      "cell_type": "code",
      "execution_count": 1,
      "metadata": {
        "id": "TIIt0l_k7Oi1",
        "colab": {
          "base_uri": "https://localhost:8080/"
        },
        "outputId": "481bbba2-e512-4f0f-8f23-ab2d029f638c"
      },
      "outputs": [
        {
          "output_type": "execute_result",
          "data": {
            "text/plain": [
              "['c', 'b', 'a']"
            ]
          },
          "metadata": {},
          "execution_count": 1
        }
      ],
      "source": [
        "def apply_permutation(arr, perm):\n",
        "    # Create an output array of the same size as the input array\n",
        "    result = [None] * len(arr)\n",
        "    # Apply the permutation\n",
        "    for i, p in enumerate(perm):\n",
        "        result[p] = arr[i]\n",
        "    return result\n",
        "\n",
        "# Example usage\n",
        "arr = [\"a\", \"b\", \"c\"]\n",
        "perm = [2, 1, 0]\n",
        "apply_permutation(arr, perm)\n"
      ]
    },
    {
      "cell_type": "markdown",
      "source": [
        "##Testing:\n"
      ],
      "metadata": {
        "id": "wcaruNyfYogT"
      }
    },
    {
      "cell_type": "code",
      "source": [
        "def test_apply_permutation():\n",
        "    # Test 1: Simple permutation\n",
        "    assert apply_permutation([\"a\", \"b\", \"c\"], [2, 1, 0]) == [\"c\", \"b\", \"a\"], \"Test 1 failed\"\n",
        "\n",
        "    # Test 2: Identity permutation (no change)\n",
        "    assert apply_permutation([\"apple\", \"banana\", \"cherry\"], [0, 1, 2]) == [\"apple\", \"banana\", \"cherry\"], \"Test 2 failed\"\n",
        "\n",
        "    # Test 3: Circular permutation\n",
        "    assert apply_permutation([1, 2, 3, 4], [1, 2, 3, 0]) == [4, 1, 2, 3], \"Test 3 failed\"\n",
        "\n",
        "    # Test 4: Permutation with duplicates in the array\n",
        "    assert apply_permutation([\"yes\", \"yes\", \"no\", \"no\"], [2, 3, 0, 1]) == [\"no\", \"no\", \"yes\", \"yes\"], \"Test 4 failed\"\n",
        "\n",
        "    # Test 5: Single element (edge case)\n",
        "    assert apply_permutation([\"only\"], [0]) == [\"only\"], \"Test 5 failed\"\n",
        "\n",
        "    print(\"All tests passed!\")\n",
        "\n",
        "test_apply_permutation()\n"
      ],
      "metadata": {
        "id": "7arfxk2ORsA8",
        "colab": {
          "base_uri": "https://localhost:8080/"
        },
        "outputId": "43ef0a60-99b4-4f86-82d4-7cc46db2ead2"
      },
      "execution_count": 2,
      "outputs": [
        {
          "output_type": "stream",
          "name": "stdout",
          "text": [
            "All tests passed!\n"
          ]
        }
      ]
    }
  ]
}