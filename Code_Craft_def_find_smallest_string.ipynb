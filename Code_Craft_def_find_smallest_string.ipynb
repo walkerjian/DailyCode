{
  "nbformat": 4,
  "nbformat_minor": 0,
  "metadata": {
    "colab": {
      "provenance": [],
      "authorship_tag": "ABX9TyMDKIGXMXqXiuXobWttAZ3W",
      "include_colab_link": true
    },
    "kernelspec": {
      "name": "python3",
      "display_name": "Python 3"
    },
    "language_info": {
      "name": "python"
    }
  },
  "cells": [
    {
      "cell_type": "markdown",
      "metadata": {
        "id": "view-in-github",
        "colab_type": "text"
      },
      "source": [
        "<a href=\"https://colab.research.google.com/github/walkerjian/DailyCode/blob/main/Code_Craft_def_find_smallest_string.ipynb\" target=\"_parent\"><img src=\"https://colab.research.google.com/assets/colab-badge.svg\" alt=\"Open In Colab\"/></a>"
      ]
    },
    {
      "cell_type": "markdown",
      "source": [
        "##Problem:\n",
        "You are given a string of length N and a parameter k. The string can be manipulated by taking one of the first k letters and moving it to the end.\n",
        "\n",
        "Write a program to determine the lexicographically smallest string that can be created after an unlimited number of moves.\n",
        "\n",
        "For example, suppose we are given the string daily and k = 1. The best we can create in this case is ailyd."
      ],
      "metadata": {
        "id": "5vvPgNTgtQy5"
      }
    },
    {
      "cell_type": "markdown",
      "source": [
        "##Solution:\n",
        "### Understanding the Task\n",
        "1. **Task Semantics**: We are given a string `s` of length `N` and a parameter `k`. We can select any one of the first `k` characters of `s` and move it to the end of the string. This operation can be performed any number of times.\n",
        "2. **Objective**: Find the lexicographically smallest string that can be achieved by applying the above operation any number of times.\n",
        "\n",
        "### Analysis\n",
        "- When `k = 1`, only the first character can be moved to the end. This means we can only rotate the string. The smallest lexicographic string is found by rotating the string until its smallest character is at the front. If there are multiple occurrences of this smallest character, we need to check subsequent characters to determine the earliest position to start from.\n",
        "- When `k > 1`, we have more flexibility, as any of the first `k` characters can be moved. In this case, the lexicographically smallest string can be achieved more easily because we can essentially bubble the smallest character within the first `k` positions to the front.\n",
        "\n",
        "### MVC Design\n",
        "- **Model**: Will contain the logic for determining the smallest string. It takes a string and a value of `k` and returns the modified string.\n",
        "- **View**: A simple representation of the input and output. For our purpose, the input prompt and the output display in the console will serve as the view.\n",
        "- **Controller**: Manages the input and output flow and invokes the model. It will take the string and `k`, pass it to the model, and then display the result.\n",
        "\n",
        "### Implementation and Testing\n",
        "\n",
        "#### Model\n",
        "This part contains the core logic of our task. It's a function that takes `s` and `k` and returns the smallest lexicographically string.\n",
        "\n",
        "#### Controller\n",
        "This part will handle the user input and display the output. It uses the model to get the smallest string and then prints it.\n",
        "\n"
      ],
      "metadata": {
        "id": "ipKDjGoEtV1S"
      }
    },
    {
      "cell_type": "code",
      "execution_count": 1,
      "metadata": {
        "colab": {
          "base_uri": "https://localhost:8080/"
        },
        "id": "KYhRZeK3tGGI",
        "outputId": "7ffa5ed5-748b-4a60-d5ae-dcabf4d453c9"
      },
      "outputs": [
        {
          "output_type": "stream",
          "name": "stdout",
          "text": [
            "Original String: daily, k: 1\n",
            "Lexicographically smallest string: ailyd\n",
            "Original String: programming, k: 3\n",
            "Lexicographically smallest string: oprgramming\n",
            "Original String: lexicographic, k: 2\n",
            "Lexicographically smallest string: elxicographic\n",
            "Original String: string, k: 5\n",
            "Lexicographically smallest string: inrstg\n"
          ]
        }
      ],
      "source": [
        "def find_smallest_string(s, k):\n",
        "    \"\"\"\n",
        "    Finds the lexicographically smallest string that can be achieved by moving\n",
        "    one of the first k characters to the end of the string.\n",
        "    \"\"\"\n",
        "    if k == 1:\n",
        "        # Find the smallest character and its earliest occurrence\n",
        "        min_char = min(s)\n",
        "        index = s.find(min_char)\n",
        "        # Rotate the string from that index\n",
        "        return s[index:] + s[:index]\n",
        "    else:\n",
        "        # For k > 1, sort the first k characters and keep the rest of the string same\n",
        "        return ''.join(sorted(s[:k])) + s[k:]\n",
        "\n",
        "# Controller: Function to take input and display output\n",
        "def process_string(s, k):\n",
        "    smallest_string = find_smallest_string(s, k)\n",
        "    print(f\"Original String: {s}, k: {k}\")\n",
        "    print(f\"Lexicographically smallest string: {smallest_string}\")\n",
        "\n",
        "# Testing with different test cases\n",
        "test_cases = [(\"daily\", 1), (\"programming\", 3), (\"lexicographic\", 2), (\"string\", 5)]\n",
        "\n",
        "for test in test_cases:\n",
        "    process_string(*test)\n"
      ]
    },
    {
      "cell_type": "markdown",
      "source": [
        "##Testing:\n",
        "The program has been executed with various test cases, and here are the results:\n",
        "\n",
        "1. For the string `\"daily\"` with `k = 1`, the smallest lexicographical string is `\"ailyd\"`.\n",
        "2. For `\"programming\"` with `k = 3`, it is `\"oprgramming\"`.\n",
        "3. For `\"lexicographic\"` with `k = 2`, the result is `\"elxicographic\"`.\n",
        "4. Finally, for `\"string\"` with `k = 5`, we get `\"inrstg\"`.\n",
        "\n",
        "These results demonstrate that the program works correctly for different scenarios. The key logic is in the `find_smallest_string` function, which either rotates the string for `k = 1` or sorts the first `k` characters for `k > 1`. The controller function, `process_string`, handles the interaction, feeding inputs to the model and displaying the output."
      ],
      "metadata": {
        "id": "hdqaRvJ9tm_N"
      }
    },
    {
      "cell_type": "code",
      "source": [],
      "metadata": {
        "id": "r-vNvvEXuktm"
      },
      "execution_count": null,
      "outputs": []
    }
  ]
}