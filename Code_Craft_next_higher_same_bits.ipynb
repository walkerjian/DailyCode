{
  "nbformat": 4,
  "nbformat_minor": 0,
  "metadata": {
    "colab": {
      "provenance": [],
      "authorship_tag": "ABX9TyOlxD0FLnn/67mIa8v0CiiN",
      "include_colab_link": true
    },
    "kernelspec": {
      "name": "python3",
      "display_name": "Python 3"
    },
    "language_info": {
      "name": "python"
    }
  },
  "cells": [
    {
      "cell_type": "markdown",
      "metadata": {
        "id": "view-in-github",
        "colab_type": "text"
      },
      "source": [
        "<a href=\"https://colab.research.google.com/github/walkerjian/DailyCode/blob/main/Code_Craft_next_higher_same_bits.ipynb\" target=\"_parent\"><img src=\"https://colab.research.google.com/assets/colab-badge.svg\" alt=\"Open In Colab\"/></a>"
      ]
    },
    {
      "cell_type": "markdown",
      "source": [
        "#Problem:\n",
        "Given an integer n, find the next biggest integer with the same number of 1-bits on. For example, given the number 6 (0110 in binary), return 9 (1001)."
      ],
      "metadata": {
        "id": "tH7CkhIN6Ovd"
      }
    },
    {
      "cell_type": "markdown",
      "source": [
        "##Solution:\n",
        "To find the next biggest integer with the same number of 1-bits in its binary representation, you can use a methodical approach that involves manipulating bits. Here's a step-by-step strategy to solve this problem:\n",
        "\n",
        "1. **Identify the Rightmost 0 with 1s to the Right**: This step involves finding the rightmost '0' in the binary representation of the number which has one or more '1' bits to its right. This bit will be flipped to '1' to increase the number.\n",
        "\n",
        "2. **Count and Shift 1s**: After identifying the '0' to be turned into '1', count the number of '1' bits to the right of this bit. These '1' bits will need to be shifted right after the flip to form the smallest possible number with the same weight (number of '1's).\n",
        "\n"
      ],
      "metadata": {
        "id": "itQ9Rbxe6Twn"
      }
    },
    {
      "cell_type": "markdown",
      "source": [
        "##Implementation:\n",
        "Here's how you can implement this in Python:\n",
        "- **Step 1**: Compute $c = n+(n\\&  - n)$. This line determines the smallest number greater than `n` that flips the lowest set bit of `n` and its rightmost trailing zero.\n",
        "- **Step 2**: Calculate `c0` and `c1`. `c0` gives the count of zeros to the right of the lowest set bit of `n`, and `c1` gives the count of ones to the right of that bit but excludes that lowest set bit itself.\n",
        "- **Step 3**: The result is computed by setting the rightmost `c1` bits of `c`.\n",
        "\n",
        "This approach is based on bit manipulation principles, focusing on the properties of binary numbers to achieve the desired outcome efficiently."
      ],
      "metadata": {
        "id": "Cb3P4iVt6W-J"
      }
    },
    {
      "cell_type": "code",
      "source": [
        "def next_higher_same_bits(n):\n",
        "    # c is c = n with the lowest set bit and its trailing zeros flipped\n",
        "    c = n + (n & -n)\n",
        "\n",
        "    # c0 and c1 are the counts of trailing zeros in n and the number of ones to the right of the lowest set bit of n respectively\n",
        "    c0 = (n ^ c) >> 2\n",
        "    c1 = (c0 // (n & -n)) - 1\n",
        "\n",
        "    # Return c with all the rightmost c1 bits set\n",
        "    return c | ((1 << c1) - 1)"
      ],
      "metadata": {
        "id": "lve1Yewi6N4N",
        "colab": {
          "base_uri": "https://localhost:8080/"
        },
        "outputId": "a77759e5-63ee-43a8-b558-cf92da88fc19"
      },
      "execution_count": 2,
      "outputs": [
        {
          "output_type": "stream",
          "name": "stdout",
          "text": [
            "Next highest integer of 6 with the same number of 1-bits is: 8\n"
          ]
        }
      ]
    },
    {
      "cell_type": "markdown",
      "source": [
        "##Testing:"
      ],
      "metadata": {
        "id": "rmascGp76a_Q"
      }
    },
    {
      "cell_type": "code",
      "execution_count": null,
      "metadata": {
        "id": "kVX9PbNY6M7_"
      },
      "outputs": [],
      "source": [
        "n = 6\n",
        "result = next_higher_same_bits(n)\n",
        "print(\"Next highest integer of\", n, \"with the same number of 1-bits is:\", result)"
      ]
    }
  ]
}