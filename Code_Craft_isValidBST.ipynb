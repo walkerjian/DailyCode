{
  "nbformat": 4,
  "nbformat_minor": 0,
  "metadata": {
    "colab": {
      "provenance": [],
      "authorship_tag": "ABX9TyNfGCmVsTTjdqBr3ohBbXgB",
      "include_colab_link": true
    },
    "kernelspec": {
      "name": "python3",
      "display_name": "Python 3"
    },
    "language_info": {
      "name": "python"
    }
  },
  "cells": [
    {
      "cell_type": "markdown",
      "metadata": {
        "id": "view-in-github",
        "colab_type": "text"
      },
      "source": [
        "<a href=\"https://colab.research.google.com/github/walkerjian/DailyCode/blob/main/Code_Craft_isValidBST.ipynb\" target=\"_parent\"><img src=\"https://colab.research.google.com/assets/colab-badge.svg\" alt=\"Open In Colab\"/></a>"
      ]
    },
    {
      "cell_type": "markdown",
      "source": [
        "##Problem:\n",
        "Determine whether a tree is a valid binary search tree.\n",
        "\n",
        "A binary search tree is a tree with two children, left and right, and satisfies the constraint that the key in the left child must be less than or equal to the root and the key in the right child must be greater than or equal to the root."
      ],
      "metadata": {
        "id": "v6vdr0qplt70"
      }
    },
    {
      "cell_type": "markdown",
      "source": [
        "##Solution:\n",
        "To determine if a given tree is a valid binary search tree (BST), we need to verify that for every node in the tree, the following conditions are met:\n",
        "\n",
        "1. All nodes in the left subtree have values less than or equal to the node's value.\n",
        "2. All nodes in the right subtree have values greater than or equal to the node's value.\n",
        "3. Both the left and right subtrees must also be valid BSTs.\n",
        "\n",
        "One effective way to validate this is by performing an in-order traversal of the tree. In a BST, an in-order traversal yields values in non-decreasing order. If we find any node that violates this order, we can conclude that the tree is not a valid BST.\n",
        "\n"
      ],
      "metadata": {
        "id": "fd8YGisilyR6"
      }
    },
    {
      "cell_type": "markdown",
      "source": [
        "##Implementation:\n",
        "\n",
        "This code defines a `TreeNode` class representing each node in the tree and a function `isValidBST` to validate the tree. The `isValidBST` function uses a helper function `validate` to recursively check each node against the BST properties, updating the valid range of values as it traverses the tree."
      ],
      "metadata": {
        "id": "0EMQ_Tk7l4ao"
      }
    },
    {
      "cell_type": "code",
      "execution_count": null,
      "metadata": {
        "id": "zjr81QRXlsQo"
      },
      "outputs": [],
      "source": [
        "class TreeNode:\n",
        "    def __init__(self, value=0, left=None, right=None):\n",
        "        self.value = value\n",
        "        self.left = left\n",
        "        self.right = right\n",
        "\n",
        "def isValidBST(root):\n",
        "    def validate(node, low=float('-inf'), high=float('inf')):\n",
        "        # An empty tree is a valid BST\n",
        "        if not node:\n",
        "            return True\n",
        "\n",
        "        # The current node must satisfy the BST properties\n",
        "        if node.value <= low or node.value >= high:\n",
        "            return False\n",
        "\n",
        "        # Recursively validate the left and right subtrees\n",
        "        return (validate(node.left, low, node.value) and\n",
        "                validate(node.right, node.value, high))\n",
        "\n",
        "    return validate(root)"
      ]
    },
    {
      "cell_type": "markdown",
      "source": [
        "##Testing:"
      ],
      "metadata": {
        "id": "LrRr7AUemYEq"
      }
    },
    {
      "cell_type": "code",
      "source": [
        "# Example Usage\n",
        "root = TreeNode(2)\n",
        "root.left = TreeNode(1)\n",
        "root.right = TreeNode(3)\n",
        "\n",
        "print(isValidBST(root))  # Should return True"
      ],
      "metadata": {
        "colab": {
          "base_uri": "https://localhost:8080/"
        },
        "id": "kKJGu3KsmUd7",
        "outputId": "02707a9d-ce7f-4846-b719-14e31e138019"
      },
      "execution_count": 2,
      "outputs": [
        {
          "output_type": "stream",
          "name": "stdout",
          "text": [
            "True\n"
          ]
        }
      ]
    }
  ]
}