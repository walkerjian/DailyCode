{
  "nbformat": 4,
  "nbformat_minor": 0,
  "metadata": {
    "colab": {
      "provenance": [],
      "authorship_tag": "ABX9TyNcaXDjfQ04eFD3j/3QsPq6",
      "include_colab_link": true
    },
    "kernelspec": {
      "name": "python3",
      "display_name": "Python 3"
    },
    "language_info": {
      "name": "python"
    }
  },
  "cells": [
    {
      "cell_type": "markdown",
      "metadata": {
        "id": "view-in-github",
        "colab_type": "text"
      },
      "source": [
        "<a href=\"https://colab.research.google.com/github/walkerjian/DailyCode/blob/main/Fisher_Yates_(or_Knuth)_shuffle_algorithm.ipynb\" target=\"_parent\"><img src=\"https://colab.research.google.com/assets/colab-badge.svg\" alt=\"Open In Colab\"/></a>"
      ]
    },
    {
      "cell_type": "markdown",
      "source": [
        "Given a function that generates perfectly random numbers between 1 and k (inclusive), where k is an input, write a function that shuffles a deck of cards represented as an array using only swaps.\n",
        "\n",
        "It should run in O(N) time.\n",
        "\n",
        "Hint: Make sure each one of the 52! permutations of the deck is equally likely."
      ],
      "metadata": {
        "id": "eR444ZmzLRfz"
      }
    },
    {
      "cell_type": "markdown",
      "source": [
        "To shuffle an array in $ O(N) $ time using only swaps, we can use the Fisher-Yates (or Knuth) shuffle algorithm.\n",
        "\n",
        "Here's a step-by-step breakdown:\n",
        "\n",
        "1. Start from the last element of the array and traverse backward.\n",
        "2. For each element at index $ i $, generate a random index $ j $ such that $ 0 \\leq j \\leq i $.\n",
        "3. Swap the element at index $ i $ with the element at index $ j $.\n",
        "\n",
        "By following this method, we ensure each of the $ 52! $ permutations of the deck is equally likely.\n",
        "\n",
        "Let's implement this function:\n",
        "\n",
        "The `efficient_shuffle` function provided shuffles the deck in $ O(N) $ time using only swaps, ensuring that each of the $ 52! $ permutations is equally likely."
      ],
      "metadata": {
        "id": "sLXeDC9aKt2a"
      }
    },
    {
      "cell_type": "markdown",
      "source": [
        "**Proof:**\n",
        "\n",
        "Consider an array of $n$ elements (for simplicity, let's start with $n$ and then apply it to $n = 52$).\n",
        "\n",
        "1. **Base Case**: When $i = n-1$ (the last element), there are $n$ choices for $j$ (since $j$ can be anything from $0$ to $n-1$, inclusive). This means that each element has an equal $ \\frac{1}{n} $ chance of ending up in the last position of the shuffled array. So, any permutation is equally likely for that last position.\n",
        "\n",
        "2. **Inductive Step**: Let's assume that the algorithm works for $i = n-1, n-2, \\ldots, k+1$ (i.e., every element has an equal chance of ending up in any position from $k+1$ to $n-1$). Now, we'll prove it for $i = k$.\n",
        "\n",
        "   When $i = k$, we pick $j$ randomly from the range $0$ to $k$. Thus, the element originally at index $k$ has a $ \\frac{1}{k+1} $ chance of staying at index $k$, and a $ \\frac{k}{k+1} $ chance of getting swapped with one of the elements before it.\n",
        "\n",
        "   For any element before index $k$, it has a $ \\frac{1}{k+1} $ chance of being swapped into position $k$.\n",
        "\n",
        "   Considering our inductive assumption, since every element from $k+1$ to $n-1$ is equally likely to end up in any of its positions, and the element at $k$ is equally likely to be swapped with any of the previous elements or stay in its place, we can say that the property holds for $i = k$.\n",
        "\n",
        "3. If we follow this logic from the last element down to the first, we see that every element has an equal chance of ending up in any position in the array. Thus, every possible permutation of the array is equally likely.\n",
        "\n",
        "Hence, for $n = 52$, all $52!$ permutations of the deck are equally likely.\n",
        "\n",
        "This proof relies on the assumption that the random number generator used in the algorithm is perfectly uniform. If it isn't, then the resulting permutations might not be perfectly uniform."
      ],
      "metadata": {
        "id": "QWHcaUqvLD2t"
      }
    },
    {
      "cell_type": "code",
      "source": [
        "import random\n",
        "\n",
        "def random_number(k):\n",
        "    return random.randint(1, k)\n",
        "\n",
        "def shuffle(deck):\n",
        "    n = len(deck)\n",
        "\n",
        "    for i in range(n - 1, 0, -1):\n",
        "        j = random_number(i + 1) - 1\n",
        "        deck[i], deck[j] = deck[j], deck[i]\n",
        "\n",
        "    return deck\n",
        "\n",
        "# Shuffling the deck of cards\n",
        "deck = [i for i in range(1, 53)]\n",
        "shuffled_deck = shuffle(deck)\n",
        "shuffled_deck"
      ],
      "metadata": {
        "colab": {
          "base_uri": "https://localhost:8080/"
        },
        "id": "acThOu52JmhV",
        "outputId": "7ebd6bfa-2c9c-425f-8198-4ba91429497b"
      },
      "execution_count": 3,
      "outputs": [
        {
          "output_type": "execute_result",
          "data": {
            "text/plain": [
              "[24,\n",
              " 2,\n",
              " 31,\n",
              " 35,\n",
              " 37,\n",
              " 47,\n",
              " 40,\n",
              " 22,\n",
              " 39,\n",
              " 13,\n",
              " 9,\n",
              " 10,\n",
              " 14,\n",
              " 29,\n",
              " 34,\n",
              " 25,\n",
              " 38,\n",
              " 19,\n",
              " 23,\n",
              " 30,\n",
              " 26,\n",
              " 42,\n",
              " 32,\n",
              " 27,\n",
              " 15,\n",
              " 41,\n",
              " 18,\n",
              " 4,\n",
              " 11,\n",
              " 8,\n",
              " 5,\n",
              " 45,\n",
              " 1,\n",
              " 20,\n",
              " 36,\n",
              " 17,\n",
              " 3,\n",
              " 52,\n",
              " 28,\n",
              " 16,\n",
              " 12,\n",
              " 48,\n",
              " 6,\n",
              " 33,\n",
              " 49,\n",
              " 46,\n",
              " 51,\n",
              " 43,\n",
              " 44,\n",
              " 7,\n",
              " 21,\n",
              " 50]"
            ]
          },
          "metadata": {},
          "execution_count": 3
        }
      ]
    }
  ]
}