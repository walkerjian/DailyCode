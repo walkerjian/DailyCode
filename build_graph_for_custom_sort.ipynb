{
  "nbformat": 4,
  "nbformat_minor": 0,
  "metadata": {
    "colab": {
      "provenance": [],
      "authorship_tag": "ABX9TyM03RPnWk1wEYo3+IhH6CmC",
      "include_colab_link": true
    },
    "kernelspec": {
      "name": "python3",
      "display_name": "Python 3"
    },
    "language_info": {
      "name": "python"
    }
  },
  "cells": [
    {
      "cell_type": "markdown",
      "metadata": {
        "id": "view-in-github",
        "colab_type": "text"
      },
      "source": [
        "<a href=\"https://colab.research.google.com/github/walkerjian/DailyCode/blob/main/build_graph_for_custom_sort.ipynb\" target=\"_parent\"><img src=\"https://colab.research.google.com/assets/colab-badge.svg\" alt=\"Open In Colab\"/></a>"
      ]
    },
    {
      "cell_type": "markdown",
      "source": [
        "##Problem:\n",
        "You come across a dictionary of sorted words in a language you've never seen before. Write a program that returns the correct order of letters in this language.\n",
        "\n",
        "For example, given the sorted dictionary ['xww', 'wxyz', 'wxyw', 'ywx', 'ywz'], you should return ['x', 'z', 'w', 'y']."
      ],
      "metadata": {
        "id": "uVXz-tSK8Ztb"
      }
    },
    {
      "cell_type": "markdown",
      "source": [
        "##Solution:\n",
        "To determine the order of letters in this new language, we can use the following approach:\n",
        "\n",
        "1. Build a graph of letters, where each letter is a node, and directed edges are drawn between letters to indicate order.\n",
        "2. Use the topological sorting of this graph to determine the order of letters.\n",
        "\n",
        "The graph can be constructed as follows:\n",
        "\n",
        "1. Compare each word in the dictionary to its next word.\n",
        "2. For each pair of words, compare characters from the start.\n",
        "3. As soon as the characters differ, we know that the character from the first word comes before the character from the second word in the language's order.\n",
        "4. Draw a directed edge between these two characters in the graph.\n",
        "\n",
        "After the graph is constructed, we can perform a topological sort to determine the order of letters.\n",
        "\n",
        "Let's write the program for this.\n",
        "\n",
        "The program has determined that the correct order of letters in this language, based on the given sorted dictionary, is: $['x', 'z', 'w', 'y']$."
      ],
      "metadata": {
        "id": "8Byq0RIO8fRI"
      }
    },
    {
      "cell_type": "markdown",
      "source": [
        "##Implementation:"
      ],
      "metadata": {
        "id": "_30d-wwj8q4U"
      }
    },
    {
      "cell_type": "code",
      "execution_count": 1,
      "metadata": {
        "colab": {
          "base_uri": "https://localhost:8080/"
        },
        "id": "vw1WOrHD8YXJ",
        "outputId": "ca8b33a2-75fa-4149-bf05-cfe74fb36403"
      },
      "outputs": [
        {
          "output_type": "execute_result",
          "data": {
            "text/plain": [
              "['x', 'z', 'w', 'y']"
            ]
          },
          "metadata": {},
          "execution_count": 1
        }
      ],
      "source": [
        "from collections import defaultdict, deque\n",
        "\n",
        "def build_graph(words):\n",
        "    graph = defaultdict(set)\n",
        "    indegree = defaultdict(int)\n",
        "\n",
        "    # Initialize indegree for all characters in words\n",
        "    for word in words:\n",
        "        for char in word:\n",
        "            indegree[char] = 0\n",
        "\n",
        "    # Compare each word with the next word\n",
        "    for i in range(len(words) - 1):\n",
        "        word1, word2 = words[i], words[i + 1]\n",
        "        for j in range(min(len(word1), len(word2))):\n",
        "            if word1[j] != word2[j]:\n",
        "                if word2[j] not in graph[word1[j]]:\n",
        "                    graph[word1[j]].add(word2[j])\n",
        "                    indegree[word2[j]] += 1\n",
        "                break\n",
        "\n",
        "    return graph, indegree\n",
        "\n",
        "\n",
        "def topological_sort(graph, indegree):\n",
        "    queue = deque()\n",
        "    for node, degree in indegree.items():\n",
        "        if degree == 0:\n",
        "            queue.append(node)\n",
        "\n",
        "    result = []\n",
        "    while queue:\n",
        "        node = queue.popleft()\n",
        "        result.append(node)\n",
        "\n",
        "        for neighbor in graph[node]:\n",
        "            indegree[neighbor] -= 1\n",
        "            if indegree[neighbor] == 0:\n",
        "                queue.append(neighbor)\n",
        "\n",
        "    if len(result) != len(indegree):\n",
        "        # Cycle detected, not a valid topological order\n",
        "        return []\n",
        "\n",
        "    return result\n",
        "\n",
        "def find_order(words):\n",
        "    graph, indegree = build_graph(words)\n",
        "    return topological_sort(graph, indegree)\n",
        "\n",
        "# Test the function with given example\n",
        "find_order(['xww', 'wxyz', 'wxyw', 'ywx', 'ywz'])\n"
      ]
    }
  ]
}