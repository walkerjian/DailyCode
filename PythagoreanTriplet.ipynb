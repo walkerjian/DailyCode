{
  "nbformat": 4,
  "nbformat_minor": 0,
  "metadata": {
    "colab": {
      "provenance": [],
      "authorship_tag": "ABX9TyMxfsMWTsTRzDjmS7IzEYzj",
      "include_colab_link": true
    },
    "kernelspec": {
      "name": "python3",
      "display_name": "Python 3"
    },
    "language_info": {
      "name": "python"
    }
  },
  "cells": [
    {
      "cell_type": "markdown",
      "metadata": {
        "id": "view-in-github",
        "colab_type": "text"
      },
      "source": [
        "<a href=\"https://colab.research.google.com/github/walkerjian/DailyCode/blob/main/PythagoreanTriplet.ipynb\" target=\"_parent\"><img src=\"https://colab.research.google.com/assets/colab-badge.svg\" alt=\"Open In Colab\"/></a>"
      ]
    },
    {
      "cell_type": "code",
      "execution_count": 1,
      "metadata": {
        "colab": {
          "base_uri": "https://localhost:8080/"
        },
        "id": "9kgDFlpwmYX_",
        "outputId": "1ce01f89-af0f-44a0-8073-9ab9d9e7bc0c"
      },
      "outputs": [
        {
          "output_type": "stream",
          "name": "stdout",
          "text": [
            "All test cases pass\n"
          ]
        }
      ],
      "source": [
        "def has_pythagorean_triplet(arr):\n",
        "    \"\"\"\n",
        "    Given an array of integers, determine whether it contains a Pythagorean triplet.\n",
        "    Recall that a Pythogorean triplet (a, b, c) is defined by the equation a^2+ b^2= c^2.\n",
        "\n",
        "    Args:\n",
        "    arr (list): List of integers\n",
        "\n",
        "    Returns:\n",
        "    bool: True if there exists a Pythagorean triplet, False otherwise\n",
        "    \"\"\"\n",
        "    n = len(arr)\n",
        "\n",
        "    # Square the numbers and sort them\n",
        "    arr = [x ** 2 for x in arr]\n",
        "    arr.sort()\n",
        "\n",
        "    # For each number in the array (from the last to the third),\n",
        "    # try to find a pair of numbers whose sum is equal to the number\n",
        "    for i in range(n-1, 1, -1):\n",
        "        start = 0\n",
        "        end = i - 1\n",
        "        while start < end:\n",
        "            if arr[start] + arr[end] == arr[i]:\n",
        "                return True\n",
        "            elif arr[start] + arr[end] < arr[i]:\n",
        "                start += 1\n",
        "            else:\n",
        "                end -= 1\n",
        "\n",
        "    # If no such triplet is found, return False\n",
        "    return False\n",
        "\n",
        "# Testing the function\n",
        "assert has_pythagorean_triplet([3, 1, 4, 6, 5]) == True, \"Test case 1 failed\"\n",
        "assert has_pythagorean_triplet([10, 4, 6, 12, 5]) == False, \"Test case 2 failed\"\n",
        "assert has_pythagorean_triplet([10, 4, 6, 12]) == False, \"Test case 3 failed\"\n",
        "assert has_pythagorean_triplet([1, 2, 3]) == False, \"Test case 4 failed\"\n",
        "assert has_pythagorean_triplet([5, 3, 4]) == True, \"Test case 5 failed\"\n",
        "\n",
        "print(\"All test cases pass\")\n"
      ]
    }
  ]
}