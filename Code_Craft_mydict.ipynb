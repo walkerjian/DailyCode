{
  "nbformat": 4,
  "nbformat_minor": 0,
  "metadata": {
    "colab": {
      "provenance": [],
      "authorship_tag": "ABX9TyPh6PagwBdoxUQ7PbIl9KCo",
      "include_colab_link": true
    },
    "kernelspec": {
      "name": "python3",
      "display_name": "Python 3"
    },
    "language_info": {
      "name": "python"
    }
  },
  "cells": [
    {
      "cell_type": "markdown",
      "metadata": {
        "id": "view-in-github",
        "colab_type": "text"
      },
      "source": [
        "<a href=\"https://colab.research.google.com/github/walkerjian/DailyCode/blob/main/Code_Craft_mydict.ipynb\" target=\"_parent\"><img src=\"https://colab.research.google.com/assets/colab-badge.svg\" alt=\"Open In Colab\"/></a>"
      ]
    },
    {
      "cell_type": "markdown",
      "source": [
        "#Problem:\n",
        "You come across a dictionary of sorted words in a language you've never seen before. Write a program that returns the correct order of letters in this language.\n",
        "\n",
        "For example, given ['xww', 'wxyz', 'wxyw', 'ywx', 'ywz'], you should return ['x', 'z', 'w', 'y']."
      ],
      "metadata": {
        "id": "tH7CkhIN6Ovd"
      }
    },
    {
      "cell_type": "markdown",
      "source": [
        "##Solution:\n",
        "To solve this problem, we need to deduce the relative order of characters in an unknown language based on the order of words in a sorted dictionary. The approach is akin to solving a \"topological sorting\" problem, where the characters are nodes and the order between two characters forms a directed edge.\n",
        "\n",
        "Here's the strategy:\n",
        "\n",
        "1. **Extract order relationships**: Compare adjacent words in the dictionary to identify pairs of characters that establish the order. For instance, from the word \"wxyz\" followed by \"wxyw\", we can deduce that 'z' comes before 'w' because they are the first differing characters between these two words.\n",
        "\n",
        "2. **Build a directed graph**: Create nodes for each unique character, and directed edges based on the relationships identified in step 1.\n",
        "\n",
        "3. **Topological sort**: Perform a topological sort on this directed graph to find the order of characters. This sort will also help detect any cycles which would indicate an inconsistency in the dictionary (though for simplicity, we'll assume the dictionary is consistent and well-formed).\n",
        "\n",
        "\n",
        "\n",
        "This program should return the order of characters as a list. If the list is incomplete or if there's a contradiction in the input (like a cycle in the graph), the function returns an empty list."
      ],
      "metadata": {
        "id": "itQ9Rbxe6Twn"
      }
    },
    {
      "cell_type": "markdown",
      "source": [
        "##Implementation:\n"
      ],
      "metadata": {
        "id": "Cb3P4iVt6W-J"
      }
    },
    {
      "cell_type": "code",
      "source": [
        "from collections import defaultdict, deque\n",
        "\n",
        "def find_order(words):\n",
        "    # Step 1: Extract adjacency information and build the graph\n",
        "    adj = defaultdict(set)\n",
        "    indegree = defaultdict(int)\n",
        "    unique_chars = set(''.join(words))  # Get all unique characters\n",
        "\n",
        "    for first, second in zip(words, words[1:]):\n",
        "        for c1, c2 in zip(first, second):\n",
        "            if c1 != c2:\n",
        "                if c2 not in adj[c1]:\n",
        "                    adj[c1].add(c2)\n",
        "                    indegree[c2] += 1\n",
        "                break\n",
        "\n",
        "    # Step 2: Topological sort using Kahn's algorithm\n",
        "    # Start with all nodes with zero indegree\n",
        "    queue = deque([char for char in unique_chars if indegree[char] == 0])\n",
        "    sorted_order = []\n",
        "\n",
        "    while queue:\n",
        "        char = queue.popleft()\n",
        "        sorted_order.append(char)\n",
        "        # Visit all neighbours and decrease their indegree\n",
        "        for neighbor in adj[char]:\n",
        "            indegree[neighbor] -= 1\n",
        "            if indegree[neighbor] == 0:\n",
        "                queue.append(neighbor)\n",
        "\n",
        "    if len(sorted_order) == len(unique_chars):\n",
        "        return sorted_order\n",
        "    else:\n",
        "        return []  # Cycle detected or incomplete ordering"
      ],
      "metadata": {
        "id": "lve1Yewi6N4N"
      },
      "execution_count": 3,
      "outputs": []
    },
    {
      "cell_type": "markdown",
      "source": [
        "##Testing:"
      ],
      "metadata": {
        "id": "rmascGp76a_Q"
      }
    },
    {
      "cell_type": "code",
      "execution_count": 4,
      "metadata": {
        "id": "kVX9PbNY6M7_",
        "colab": {
          "base_uri": "https://localhost:8080/"
        },
        "outputId": "3e37a110-8467-4e24-b3d3-354917f2b072"
      },
      "outputs": [
        {
          "output_type": "stream",
          "name": "stdout",
          "text": [
            "['x', 'z', 'w', 'y']\n"
          ]
        }
      ],
      "source": [
        "words = ['xww', 'wxyz', 'wxyw', 'ywx', 'ywz']\n",
        "print(find_order(words))"
      ]
    }
  ]
}