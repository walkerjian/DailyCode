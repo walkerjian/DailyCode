{
  "nbformat": 4,
  "nbformat_minor": 0,
  "metadata": {
    "colab": {
      "provenance": [],
      "authorship_tag": "ABX9TyPV0UK8Gl+zv8iLHWjx2dQa",
      "include_colab_link": true
    },
    "kernelspec": {
      "name": "python3",
      "display_name": "Python 3"
    },
    "language_info": {
      "name": "python"
    }
  },
  "cells": [
    {
      "cell_type": "markdown",
      "metadata": {
        "id": "view-in-github",
        "colab_type": "text"
      },
      "source": [
        "<a href=\"https://colab.research.google.com/github/walkerjian/DailyCode/blob/main/Code_Craft_frequey_number.ipynb\" target=\"_parent\"><img src=\"https://colab.research.google.com/assets/colab-badge.svg\" alt=\"Open In Colab\"/></a>"
      ]
    },
    {
      "cell_type": "markdown",
      "source": [
        "##Problem:\n",
        "You are given n numbers as well as n probabilities that sum up to 1. Write a function to generate one of the numbers with its corresponding probability.\n",
        "\n",
        "For example, given the numbers [1, 2, 3, 4] and probabilities [0.1, 0.5, 0.2, 0.2], your function should return 1 10% of the time, 2 50% of the time, and 3 and 4 20% of the time.\n",
        "\n",
        "You can generate random numbers between 0 and 1 uniformly."
      ],
      "metadata": {
        "id": "S3qlDIBzczvC"
      }
    },
    {
      "cell_type": "markdown",
      "source": [
        "##Implementation:\n",
        "To solve this problem, you can use a cumulative sum approach combined with generating a random number between 0 and 1. Here's how the algorithm works:\n",
        "\n",
        "1. Generate a random number between 0 and 1.\n",
        "2. Calculate the cumulative sum of the probabilities array. This transforms the probabilities array into a series of thresholds. For example, with probabilities `[0.1, 0.5, 0.2, 0.2]`, the cumulative sum array would be `[0.1, 0.6, 0.8, 1.0]`.\n",
        "3. Iterate through the cumulative sum array and find the first element that is greater than or equal to the random number. The index of this element corresponds to the index of the number that should be returned.\n",
        "\n",
        "Here's how you could implement it in Python:\n",
        "\n",
        "```python\n",
        "import random\n",
        "\n",
        "def generate_number(numbers, probabilities):\n",
        "    # Generate a random number between 0 and 1\n",
        "    rand_num = random.random()\n",
        "    \n",
        "    # Calculate the cumulative sum of the probabilities\n",
        "    cumulative_sum = [sum(probabilities[:i+1]) for i in range(len(probabilities))]\n",
        "    \n",
        "    # Find the first cumulative sum that is greater than or equal to the random number\n",
        "    for i, cum_sum in enumerate(cumulative_sum):\n",
        "        if rand_num <= cum_sum:\n",
        "            return numbers[i]\n",
        "\n",
        "# Example usage\n",
        "numbers = [1, 2, 3, 4]\n",
        "probabilities = [0.1, 0.5, 0.2, 0.2]\n",
        "print(generate_number(numbers, probabilities))\n",
        "```\n",
        "\n",
        "This function will generate numbers according to the specified probabilities. Note that due to the randomness, to truly verify that it works as expected, you would need to run it a large number of times and tally the results to see if they match the probabilities closely."
      ],
      "metadata": {
        "id": "oKNNiR5kc456"
      }
    },
    {
      "cell_type": "markdown",
      "source": [
        "##Solution:\n"
      ],
      "metadata": {
        "id": "JwcpsivBc8WE"
      }
    },
    {
      "cell_type": "code",
      "execution_count": 1,
      "metadata": {
        "colab": {
          "base_uri": "https://localhost:8080/"
        },
        "id": "SW5C_og4cy5D",
        "outputId": "09604fdb-8ed0-4abf-c700-15daa6d2dc56"
      },
      "outputs": [
        {
          "output_type": "stream",
          "name": "stdout",
          "text": [
            "2\n"
          ]
        }
      ],
      "source": [
        "import random\n",
        "\n",
        "def generate_number(numbers, probabilities):\n",
        "    # Generate a random number between 0 and 1\n",
        "    rand_num = random.random()\n",
        "\n",
        "    # Calculate the cumulative sum of the probabilities\n",
        "    cumulative_sum = [sum(probabilities[:i+1]) for i in range(len(probabilities))]\n",
        "\n",
        "    # Find the first cumulative sum that is greater than or equal to the random number\n",
        "    for i, cum_sum in enumerate(cumulative_sum):\n",
        "        if rand_num <= cum_sum:\n",
        "            return numbers[i]\n",
        "\n",
        "# Example usage\n",
        "numbers = [1, 2, 3, 4]\n",
        "probabilities = [0.1, 0.5, 0.2, 0.2]\n",
        "print(generate_number(numbers, probabilities))\n"
      ]
    },
    {
      "cell_type": "markdown",
      "source": [
        "going further with this, actually generate a histogram to visually confirm that the probabilities are honoured. You can perhaps extend with an MVC paradigm, and in the beginning, just generate an ASCII art histogram\n",
        "\n",
        "To visually confirm that the probabilities are honored, we can extend the previous solution by simulating the number generation process multiple times, recording the results, and then generating an ASCII art histogram of the outcomes. This approach will allow us to see if the distribution of generated numbers matches the specified probabilities.\n",
        "\n",
        "Here's how you can implement it in Python, using a simple Model-View-Controller (MVC) paradigm:\n",
        "\n",
        "1. **Model**: Represents the data structure and the logic to generate numbers based on probabilities.\n",
        "2. **View**: Handles the presentation of the data (in this case, generating an ASCII art histogram).\n",
        "3. **Controller**: Orchestrates the interaction between the Model and the View.\n",
        "\n",
        "### Model\n",
        "\n",
        "We'll use the function `generate_number` defined earlier as part of our Model.\n",
        "\n",
        "### Controller\n",
        "\n",
        "The Controller will simulate the number generation process multiple times and collect the results.\n",
        "\n",
        "### View\n",
        "\n",
        "The View will take the results and generate an ASCII art histogram.\n",
        "\n",
        "Here's the implementation:\n",
        "\n",
        "```python\n",
        "import random\n",
        "\n",
        "# Model\n",
        "def generate_number(numbers, probabilities):\n",
        "    rand_num = random.random()\n",
        "    cumulative_sum = [sum(probabilities[:i+1]) for i in range(len(probabilities))]\n",
        "    for i, cum_sum in enumerate(cumulative_sum):\n",
        "        if rand_num <= cum_sum:\n",
        "            return numbers[i]\n",
        "\n",
        "# Controller\n",
        "def simulate_generation(numbers, probabilities, simulations=10000):\n",
        "    results = {number: 0 for number in numbers}\n",
        "    for _ in range(simulations):\n",
        "        number = generate_number(numbers, probabilities)\n",
        "        results[number] += 1\n",
        "    return results\n",
        "\n",
        "# View\n",
        "def generate_ascii_histogram(results, simulations):\n",
        "    print(\"Number | Frequency | Histogram\")\n",
        "    for number, count in results.items():\n",
        "        # Calculate the percentage of each number being generated\n",
        "        percentage = (count / simulations) * 100\n",
        "        # Generate histogram bar with \"#\" symbols\n",
        "        histogram_bar = '#' * (count // (simulations // 100))\n",
        "        print(f\"{number:<6} | {count:<9} | {histogram_bar} ({percentage:.2f}%)\")\n",
        "\n",
        "# Example usage\n",
        "numbers = [1, 2, 3, 4]\n",
        "probabilities = [0.1, 0.5, 0.2, 0.2]\n",
        "simulations = 10000\n",
        "\n",
        "# Controller usage\n",
        "results = simulate_generation(numbers, probabilities, simulations)\n",
        "\n",
        "# View usage\n",
        "generate_ascii_histogram(results, simulations)\n",
        "```\n",
        "\n",
        "This code simulates the number generation process 10,000 times (this can be adjusted as needed), tallies the results, and then generates an ASCII art histogram to visually display how often each number was generated. The histogram should reflect the specified probabilities if the number of simulations is large enough."
      ],
      "metadata": {
        "id": "72d_BSKxeCl3"
      }
    },
    {
      "cell_type": "code",
      "source": [
        "import random\n",
        "\n",
        "# Model\n",
        "def generate_number(numbers, probabilities):\n",
        "    rand_num = random.random()\n",
        "    cumulative_sum = [sum(probabilities[:i+1]) for i in range(len(probabilities))]\n",
        "    for i, cum_sum in enumerate(cumulative_sum):\n",
        "        if rand_num <= cum_sum:\n",
        "            return numbers[i]\n",
        "\n",
        "# Controller\n",
        "def simulate_generation(numbers, probabilities, simulations=10000):\n",
        "    results = {number: 0 for number in numbers}\n",
        "    for _ in range(simulations):\n",
        "        number = generate_number(numbers, probabilities)\n",
        "        results[number] += 1\n",
        "    return results\n",
        "\n",
        "# View\n",
        "def generate_ascii_histogram(numbers, probabilities, results, simulations):\n",
        "    print(\"Number | Expected Freq | Actual Freq | Histogram\")\n",
        "    for number in numbers:\n",
        "        # Calculate expected frequency\n",
        "        expected_freq = probabilities[numbers.index(number)] * simulations\n",
        "        # Get actual frequency from results\n",
        "        actual_freq = results[number]\n",
        "        # Calculate the percentage of each number being generated for the histogram\n",
        "        percentage = (actual_freq / simulations) * 100\n",
        "        # Generate histogram bar with \"#\" symbols\n",
        "        histogram_bar = '#' * (actual_freq // (simulations // 100))\n",
        "        print(f\"{number:<6} | {expected_freq:<13.0f} | {actual_freq:<10} | {histogram_bar} ({percentage:.2f}%)\")\n",
        "\n",
        "# Example usage remains the same\n",
        "numbers = [1, 2, 3, 4]\n",
        "probabilities = [0.1, 0.5, 0.2, 0.2]\n",
        "simulations = 10000\n",
        "\n",
        "# Simulate generation and collect results\n",
        "results = simulate_generation(numbers, probabilities, simulations)\n",
        "\n",
        "# Generate ASCII histogram with expected frequencies\n",
        "generate_ascii_histogram(numbers, probabilities, results, simulations)\n"
      ],
      "metadata": {
        "colab": {
          "base_uri": "https://localhost:8080/"
        },
        "id": "7ueguLWrdFA7",
        "outputId": "1c4fb026-f01d-4d52-8855-9ddf8e25ce7e"
      },
      "execution_count": 4,
      "outputs": [
        {
          "output_type": "stream",
          "name": "stdout",
          "text": [
            "Number | Expected Freq | Actual Freq | Histogram\n",
            "1      | 1000          | 983        | ######### (9.83%)\n",
            "2      | 5000          | 5013       | ################################################## (50.13%)\n",
            "3      | 2000          | 1956       | ################### (19.56%)\n",
            "4      | 2000          | 2048       | #################### (20.48%)\n"
          ]
        }
      ]
    }
  ]
}