{
  "nbformat": 4,
  "nbformat_minor": 0,
  "metadata": {
    "colab": {
      "provenance": [],
      "authorship_tag": "ABX9TyMjdQoWu1QwNSkNYuCfbZ+5",
      "include_colab_link": true
    },
    "kernelspec": {
      "name": "python3",
      "display_name": "Python 3"
    },
    "language_info": {
      "name": "python"
    }
  },
  "cells": [
    {
      "cell_type": "markdown",
      "metadata": {
        "id": "view-in-github",
        "colab_type": "text"
      },
      "source": [
        "<a href=\"https://colab.research.google.com/github/walkerjian/DailyCode/blob/main/Code_Craft_ribbit.ipynb\" target=\"_parent\"><img src=\"https://colab.research.google.com/assets/colab-badge.svg\" alt=\"Open In Colab\"/></a>"
      ]
    },
    {
      "cell_type": "code",
      "source": [
        "def can_reach_end(hops):\n",
        "    \"\"\"\n",
        "    Determines whether it's possible to reach the last index of the hops list.\n",
        "\n",
        "    :param hops: List of integers representing the number of hops allowed from each position.\n",
        "    :return: True if it's possible to reach the end of the list, False otherwise.\n",
        "    \"\"\"\n",
        "    max_reach = 0\n",
        "    n = len(hops)\n",
        "\n",
        "    for i in range(n):\n",
        "        # If current index is beyond the furthest reachable index, return False\n",
        "        if i > max_reach:\n",
        "            return False\n",
        "\n",
        "        # Update the furthest reachable index\n",
        "        max_reach = max(max_reach, i + hops[i])\n",
        "\n",
        "        # If the furthest reachable index is beyond or at the last index, return True\n",
        "        if max_reach >= n - 1:\n",
        "            return True\n",
        "\n",
        "    return False\n",
        "\n",
        "def controller(hops_list):\n",
        "    \"\"\"\n",
        "    Controller function to pass the hops list to the model and get the result.\n",
        "\n",
        "    :param hops_list: List of integers representing the number of hops.\n",
        "    :return: Result from the model.\n",
        "    \"\"\"\n",
        "    return can_reach_end(hops_list)\n",
        "\n",
        "def view(result):\n",
        "    \"\"\"\n",
        "    View function to display the result.\n",
        "\n",
        "    :param result: The result to be displayed.\n",
        "    \"\"\"\n",
        "    print(f\"Can reach end: {result}\")\n",
        "\n",
        "# Test cases\n",
        "test_cases = [\n",
        "    [2, 0, 1, 0],  # True\n",
        "    [1, 1, 0, 1],  # False\n",
        "    [3, 2, 1, 0, 4],  # False\n",
        "    [0, 1],  # False\n",
        "    [1, 2, 0, 1],  # True\n",
        "]\n",
        "\n",
        "# Testing the implementation\n",
        "for case in test_cases:\n",
        "    result = controller(case)\n",
        "    view(result)\n"
      ],
      "metadata": {
        "colab": {
          "base_uri": "https://localhost:8080/"
        },
        "id": "tCynb4YXI3fM",
        "outputId": "e7c66c79-402a-4d62-aed2-1eb9850ef9b0"
      },
      "execution_count": 2,
      "outputs": [
        {
          "output_type": "stream",
          "name": "stdout",
          "text": [
            "Can reach end: True\n",
            "Can reach end: False\n",
            "Can reach end: False\n",
            "Can reach end: False\n",
            "Can reach end: True\n"
          ]
        }
      ]
    }
  ]
}