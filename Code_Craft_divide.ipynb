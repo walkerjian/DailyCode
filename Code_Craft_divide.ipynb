{
  "nbformat": 4,
  "nbformat_minor": 0,
  "metadata": {
    "colab": {
      "provenance": [],
      "authorship_tag": "ABX9TyOA4vwWal7FecFAFDOSKsPi",
      "include_colab_link": true
    },
    "kernelspec": {
      "name": "python3",
      "display_name": "Python 3"
    },
    "language_info": {
      "name": "python"
    }
  },
  "cells": [
    {
      "cell_type": "markdown",
      "metadata": {
        "id": "view-in-github",
        "colab_type": "text"
      },
      "source": [
        "<a href=\"https://colab.research.google.com/github/walkerjian/DailyCode/blob/main/Code_Craft_divide.ipynb\" target=\"_parent\"><img src=\"https://colab.research.google.com/assets/colab-badge.svg\" alt=\"Open In Colab\"/></a>"
      ]
    },
    {
      "cell_type": "markdown",
      "source": [
        "##Problem:\n",
        "Implement division of two positive integers without using the division, multiplication, or modulus operators. Return the quotient as an integer, ignoring the remainder."
      ],
      "metadata": {
        "id": "5sXTvdfUDc8A"
      }
    },
    {
      "cell_type": "markdown",
      "source": [
        "##Solution:\n",
        "To implement division of two positive integers without using division, multiplication, or modulus operators, one effective approach is to use subtraction. The basic idea is to repeatedly subtract the divisor from the dividend until the dividend is less than the divisor. The number of times this subtraction can be performed is the quotient."
      ],
      "metadata": {
        "id": "9zhwCpWoDg4t"
      }
    },
    {
      "cell_type": "markdown",
      "source": [
        "##Implementation:\n",
        "In this function, `divide(dividend, divisor)`, we ensure that both `dividend` and `divisor` are positive. We then repeatedly subtract `divisor` from `dividend` and increment the `quotient` each time until `dividend` is less than `divisor`. The final `quotient` is returned as the result."
      ],
      "metadata": {
        "id": "xOVPdm35D7Rf"
      }
    },
    {
      "cell_type": "code",
      "execution_count": 3,
      "metadata": {
        "colab": {
          "base_uri": "https://localhost:8080/"
        },
        "id": "-UBZIW0zC5uE",
        "outputId": "928ce82a-f562-4fbb-cc02-6dc25330d22c"
      },
      "outputs": [
        {
          "output_type": "stream",
          "name": "stdout",
          "text": [
            "Test passed for divide(10, 2): 5 == 5\n",
            "Test passed for divide(20, 4): 5 == 5\n",
            "Test passed for divide(0, 1): 0 == 0\n",
            "Test passed for divide(5, 10): 0 == 0\n",
            "Test passed for divide(15, 5): 3 == 3\n",
            "Test passed for divide(100, 1): 100 == 100\n",
            "Test passed for divide(1, 1): 1 == 1\n"
          ]
        }
      ],
      "source": [
        "def divide(dividend, divisor):\n",
        "    # Ensure the dividend and divisor are positive\n",
        "    if dividend < 0 or divisor <= 0:\n",
        "        raise ValueError(\"Both dividend and divisor must be positive integers\")\n",
        "\n",
        "    # Check if the divisor is larger than the dividend\n",
        "    if divisor > dividend:\n",
        "        return 0\n",
        "\n",
        "    # Initialize the quotient\n",
        "    quotient = 0\n",
        "\n",
        "    # Subtract the divisor from the dividend until the dividend is less than the divisor\n",
        "    while dividend >= divisor:\n",
        "        dividend -= divisor\n",
        "        quotient += 1\n",
        "\n",
        "    return quotient\n",
        "\n",
        "def test_divide_function():\n",
        "    # Define test cases\n",
        "    test_cases = [\n",
        "        (10, 2, 5),\n",
        "        (20, 4, 5),\n",
        "        (0, 1, 0),\n",
        "        (5, 10, 0),\n",
        "        (15, 5, 3),\n",
        "        (100, 1, 100),\n",
        "        (1, 1, 1),\n",
        "        # Add more test cases as needed\n",
        "    ]\n",
        "\n",
        "    # Test each case\n",
        "    for dividend, divisor, expected in test_cases:\n",
        "        result = divide(dividend, divisor)\n",
        "        assert result == expected, f\"Test failed for divide({dividend}, {divisor}): expected {expected}, got {result}\"\n",
        "        print(f\"Test passed for divide({dividend}, {divisor}): {result} == {expected}\")\n",
        "\n",
        "# Run the test function\n",
        "test_divide_function()\n"
      ]
    }
  ]
}