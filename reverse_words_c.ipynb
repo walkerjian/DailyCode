{
  "nbformat": 4,
  "nbformat_minor": 0,
  "metadata": {
    "colab": {
      "provenance": [],
      "authorship_tag": "ABX9TyOmo21FZ8ak+pHMkCLQfsCa",
      "include_colab_link": true
    },
    "kernelspec": {
      "name": "python3",
      "display_name": "Python 3"
    },
    "language_info": {
      "name": "python"
    }
  },
  "cells": [
    {
      "cell_type": "markdown",
      "metadata": {
        "id": "view-in-github",
        "colab_type": "text"
      },
      "source": [
        "<a href=\"https://colab.research.google.com/github/walkerjian/DailyCode/blob/main/reverse_words_c.ipynb\" target=\"_parent\"><img src=\"https://colab.research.google.com/assets/colab-badge.svg\" alt=\"Open In Colab\"/></a>"
      ]
    },
    {
      "cell_type": "code",
      "execution_count": 1,
      "metadata": {
        "colab": {
          "base_uri": "https://localhost:8080/"
        },
        "id": "MBTQsi1m_vnb",
        "outputId": "4890545d-e5e9-477d-da3a-ce4750145cf0"
      },
      "outputs": [
        {
          "output_type": "stream",
          "name": "stdout",
          "text": [
            "Writing reverse_words.c\n"
          ]
        }
      ],
      "source": [
        "%%writefile reverse_words.c\n",
        "#include <stdio.h>\n",
        "#include <string.h>\n",
        "\n",
        "void reverse_segment(char *str, int start, int end) {\n",
        "    char temp;\n",
        "    while(start < end) {\n",
        "        // Swap characters\n",
        "        temp = str[start];\n",
        "        str[start] = str[end];\n",
        "        str[end] = temp;\n",
        "\n",
        "        start++;\n",
        "        end--;\n",
        "    }\n",
        "}\n",
        "\n",
        "void reverse_words_in_place(char *str) {\n",
        "    int length = strlen(str);\n",
        "\n",
        "    // Reverse the entire string\n",
        "    reverse_segment(str, 0, length - 1);\n",
        "\n",
        "    // Reverse individual words\n",
        "    int start = 0;\n",
        "    for(int end = 0; end < length; end++) {\n",
        "        if(str[end] == ' ') {\n",
        "            reverse_segment(str, start, end - 1);\n",
        "            start = end + 1;\n",
        "        }\n",
        "    }\n",
        "\n",
        "    // Reverse the last word\n",
        "    reverse_segment(str, start, length - 1);\n",
        "}\n",
        "\n",
        "void test_reverse_words_in_place() {\n",
        "    char test_cases[][50] = {\n",
        "        \"hello world here\",\n",
        "        \"OpenAI is great\",\n",
        "        \"The quick brown fox\",\n",
        "        \"jumps over the lazy dog\",\n",
        "        \"a b c d e f g\",\n",
        "        \"I love coding\",\n",
        "        \"Python is an amazing language\",\n",
        "        \"This is a test case\",\n",
        "        \"One more to go\",\n",
        "        \"Final test case\"\n",
        "    };\n",
        "\n",
        "    int num_tests = sizeof(test_cases) / sizeof(test_cases[0]);\n",
        "    for(int i = 0; i < num_tests; i++) {\n",
        "        printf(\"Original: %s\\n\", test_cases[i]);\n",
        "        reverse_words_in_place(test_cases[i]);\n",
        "        printf(\"Reversed: %s\\n\\n\", test_cases[i]);\n",
        "    }\n",
        "}\n",
        "\n",
        "int main() {\n",
        "    test_reverse_words_in_place();\n",
        "    return 0;\n",
        "}\n",
        "\n"
      ]
    },
    {
      "cell_type": "code",
      "source": [
        "!gcc reverse_words.c -o reverse_words"
      ],
      "metadata": {
        "id": "8Hph9fwVAiwU"
      },
      "execution_count": 2,
      "outputs": []
    },
    {
      "cell_type": "code",
      "source": [
        "!./reverse_words"
      ],
      "metadata": {
        "colab": {
          "base_uri": "https://localhost:8080/"
        },
        "id": "zw45lNbfAonX",
        "outputId": "afd84475-5c57-45c6-91de-c2ed609940aa"
      },
      "execution_count": 3,
      "outputs": [
        {
          "output_type": "stream",
          "name": "stdout",
          "text": [
            "Original: hello world here\n",
            "Reversed: here world hello\n",
            "\n",
            "Original: OpenAI is great\n",
            "Reversed: great is OpenAI\n",
            "\n",
            "Original: The quick brown fox\n",
            "Reversed: fox brown quick The\n",
            "\n",
            "Original: jumps over the lazy dog\n",
            "Reversed: dog lazy the over jumps\n",
            "\n",
            "Original: a b c d e f g\n",
            "Reversed: g f e d c b a\n",
            "\n",
            "Original: I love coding\n",
            "Reversed: coding love I\n",
            "\n",
            "Original: Python is an amazing language\n",
            "Reversed: language amazing an is Python\n",
            "\n",
            "Original: This is a test case\n",
            "Reversed: case test a is This\n",
            "\n",
            "Original: One more to go\n",
            "Reversed: go to more One\n",
            "\n",
            "Original: Final test case\n",
            "Reversed: case test Final\n",
            "\n"
          ]
        }
      ]
    },
    {
      "cell_type": "code",
      "source": [],
      "metadata": {
        "id": "7-BI_GxtAsdz"
      },
      "execution_count": null,
      "outputs": []
    }
  ]
}