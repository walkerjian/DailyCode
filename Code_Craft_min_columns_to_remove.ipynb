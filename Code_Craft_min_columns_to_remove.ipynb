{
  "nbformat": 4,
  "nbformat_minor": 0,
  "metadata": {
    "colab": {
      "provenance": [],
      "authorship_tag": "ABX9TyOTmNbZ6Jo/Ye7qYpT4FnGC",
      "include_colab_link": true
    },
    "kernelspec": {
      "name": "python3",
      "display_name": "Python 3"
    },
    "language_info": {
      "name": "python"
    }
  },
  "cells": [
    {
      "cell_type": "markdown",
      "metadata": {
        "id": "view-in-github",
        "colab_type": "text"
      },
      "source": [
        "<a href=\"https://colab.research.google.com/github/walkerjian/DailyCode/blob/main/Code_Craft_min_columns_to_remove.ipynb\" target=\"_parent\"><img src=\"https://colab.research.google.com/assets/colab-badge.svg\" alt=\"Open In Colab\"/></a>"
      ]
    },
    {
      "cell_type": "markdown",
      "source": [
        "##Problem:\n",
        "You are given an N by M 2D matrix of lowercase letters. Determine the minimum number of columns that can be removed to ensure that each row is ordered from top to bottom lexicographically. That is, the letter at each column is lexicographically later as you go down each row. It does not matter whether each row itself is ordered lexicographically.\n",
        "\n",
        "For example, given the following table:\n",
        "\n",
        "```\n",
        "cba\n",
        "daf\n",
        "ghi\n",
        "```\n",
        "\n",
        "This is not ordered because of the a in the center. We can remove the second column to make it ordered:\n",
        "\n",
        "```\n",
        "ca\n",
        "df\n",
        "gi\n",
        "```\n",
        "\n",
        "So your function should return 1, since we only needed to remove 1 column.\n",
        "\n",
        "As another example, given the following table:\n",
        "\n",
        "```\n",
        "abcdef\n",
        "```\n",
        "\n",
        "Your function should return 0, since the rows are already ordered (there's only one row).\n",
        "\n",
        "As another example, given the following table:\n",
        "\n",
        "```\n",
        "zyx\n",
        "wvu\n",
        "tsr\n",
        "```\n",
        "\n",
        "Your function should return 3, since we would need to remove all the columns to order it.\n"
      ],
      "metadata": {
        "id": "2lWyrXjB8EeD"
      }
    },
    {
      "cell_type": "markdown",
      "source": [
        "##Solution:\n",
        "To solve this problem, we need to iterate through each column of the 2D matrix and check if the elements in that column are in lexicographic order from top to bottom. If they are not, we count that column as one that needs to be removed.\n",
        "\n",
        "Here is how we can approach this:\n",
        "\n",
        "1. Initialize a counter to keep track of the number of columns that need to be removed.\n",
        "2. Iterate over each column of the matrix.\n",
        "3. For each column, iterate from the first row to the last row.\n",
        "4. Compare the current element with the next element in the same column. If the current element is greater than the next element, increment the counter and skip to the next column since we only need to remove the column once regardless of how many unordered pairs it has.\n",
        "5. Return the counter value at the end.\n",
        "\n"
      ],
      "metadata": {
        "id": "jIohycTB8Hjb"
      }
    },
    {
      "cell_type": "markdown",
      "source": [
        "##Implementation:\n",
        "Let's implement this in Python.\n",
        "\n"
      ],
      "metadata": {
        "id": "pkWuQrLB8K8H"
      }
    },
    {
      "cell_type": "code",
      "execution_count": 1,
      "metadata": {
        "id": "TIIt0l_k7Oi1",
        "colab": {
          "base_uri": "https://localhost:8080/"
        },
        "outputId": "bc757ccc-2947-49b4-a2bd-b51aea3d4a81"
      },
      "outputs": [
        {
          "output_type": "stream",
          "name": "stdout",
          "text": [
            "1\n",
            "0\n",
            "3\n"
          ]
        }
      ],
      "source": [
        "def min_columns_to_remove(matrix):\n",
        "    if not matrix or not matrix[0]:\n",
        "        return 0\n",
        "\n",
        "    row_count = len(matrix)\n",
        "    col_count = len(matrix[0])\n",
        "    remove_count = 0\n",
        "\n",
        "    # Iterate through each column\n",
        "    for col in range(col_count):\n",
        "        # Check each row in the current column\n",
        "        for row in range(1, row_count):\n",
        "            # If the current element is greater than the next element,\n",
        "            # the column needs to be removed\n",
        "            if matrix[row][col] < matrix[row - 1][col]:\n",
        "                remove_count += 1\n",
        "                break  # Move to the next column\n",
        "\n",
        "    return remove_count\n",
        "\n",
        "# Test cases\n",
        "print(min_columns_to_remove([\"cba\", \"daf\", \"ghi\"]))  # 1\n",
        "print(min_columns_to_remove([\"abcdef\"]))  # 0\n",
        "print(min_columns_to_remove([\"zyx\", \"wvu\", \"tsr\"]))  # 3\n"
      ]
    },
    {
      "cell_type": "markdown",
      "source": [
        "##Testing:\n",
        "The function has successfully calculated the minimum number of columns to remove for the given matrices:\n",
        "\n",
        "- For the matrix `[\"cba\", \"daf\", \"ghi\"]`, the result is `1`, indicating that one column needs to be removed to make each row ordered lexicographically from top to bottom.\n",
        "- For the matrix `[\"abcdef\"]`, the result is `0`, as the rows are already ordered because there's only one row.\n",
        "- For the matrix `[\"zyx\", \"wvu\", \"tsr\"]`, the result is `3`, meaning all columns need to be removed to achieve the lexicographic order from top to bottom.\n"
      ],
      "metadata": {
        "id": "wcaruNyfYogT"
      }
    }
  ]
}