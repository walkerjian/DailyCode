{
  "nbformat": 4,
  "nbformat_minor": 0,
  "metadata": {
    "colab": {
      "provenance": [],
      "authorship_tag": "ABX9TyOfSzvv9FHFXfj3R1WBAkyp",
      "include_colab_link": true
    },
    "kernelspec": {
      "name": "python3",
      "display_name": "Python 3"
    },
    "language_info": {
      "name": "python"
    }
  },
  "cells": [
    {
      "cell_type": "markdown",
      "metadata": {
        "id": "view-in-github",
        "colab_type": "text"
      },
      "source": [
        "<a href=\"https://colab.research.google.com/github/walkerjian/DailyCode/blob/main/Code_Craft_morrisTraversal.ipynb\" target=\"_parent\"><img src=\"https://colab.research.google.com/assets/colab-badge.svg\" alt=\"Open In Colab\"/></a>"
      ]
    },
    {
      "cell_type": "markdown",
      "source": [
        "#Problem:\n",
        "Typically, an implementation of in-order traversal of a binary tree has $O(h)$ space complexity, where h is the height of the tree. Write a program to compute the in-order traversal of a binary tree using $O(1)$ space."
      ],
      "metadata": {
        "id": "tH7CkhIN6Ovd"
      }
    },
    {
      "cell_type": "markdown",
      "source": [
        "##Solution:\n",
        "To perform an in-order traversal of a binary tree using O(1) space complexity, we can utilize a method known as **Morris Traversal**. This method avoids the use of a stack or recursion by modifying the tree's structure temporarily during traversal.\n",
        "\n",
        "Morris Traversal works by creating temporary links between nodes (specifically, linking a node's predecessor to itself) so that each node can be revisited after exploring its left subtree. After processing a node's left subtree, these temporary links are used to revert the tree back to its original structure. Here's a step-by-step breakdown of the method:\n",
        "\n",
        "1. **Initialization**: Start at the root node.\n",
        "2. **Left Null Check**: If the current node has no left child, output the node and move to the right child.\n",
        "3. **Finding Predecessor**:\n",
        "   - If the current node has a left child, find the rightmost node in the left subtree (this is the predecessor of the current node in in-order).\n",
        "   - If the predecessor's right pointer is null (it should not point to the current node), set its right pointer to the current node. This creates a temporary link back to the current node, and then move to the left child of the current node.\n",
        "   - If the predecessor's right pointer points to the current node, it means we've finished the left subtree, so:\n",
        "     - Output the current node (because its left subtree is completely processed).\n",
        "     - Break the temporary link (set the predecessor's right pointer to null).\n",
        "     - Move to the right child of the current node.\n",
        "4. **Termination**: The traversal is complete when all nodes have been visited, which is when the current node becomes null."
      ],
      "metadata": {
        "id": "itQ9Rbxe6Twn"
      }
    },
    {
      "cell_type": "markdown",
      "source": [
        "##Implementation:\n",
        "Here, `TreeNode` represents a node in the binary tree, and the `morrisTraversal` function implements the Morris Traversal method. The traversal result is stored in the `result` list. This traversal ensures O(1) space complexity because it does not use a stack or recursion, only a few pointers and modifications within the existing tree structure."
      ],
      "metadata": {
        "id": "Cb3P4iVt6W-J"
      }
    },
    {
      "cell_type": "code",
      "source": [
        "class TreeNode:\n",
        "    def __init__(self, x):\n",
        "        self.val = x\n",
        "        self.left = None\n",
        "        self.right = None\n",
        "\n",
        "def morrisTraversal(root):\n",
        "    result = []\n",
        "    current = root\n",
        "\n",
        "    while current:\n",
        "        if current.left is None:\n",
        "            # No left child, visit this node and move right\n",
        "            result.append(current.val)\n",
        "            current = current.right\n",
        "        else:\n",
        "            # Find the predecessor in the left subtree\n",
        "            predecessor = current.left\n",
        "            while predecessor.right is not None and predecessor.right != current:\n",
        "                predecessor = predecessor.right\n",
        "\n",
        "            if predecessor.right is None:\n",
        "                # Establish temporary link back to current node\n",
        "                predecessor.right = current\n",
        "                current = current.left\n",
        "            else:\n",
        "                # Left subtree is fully explored, visit current node\n",
        "                predecessor.right = None\n",
        "                result.append(current.val)\n",
        "                current = current.right\n",
        "\n",
        "    return result"
      ],
      "metadata": {
        "id": "lve1Yewi6N4N"
      },
      "execution_count": 1,
      "outputs": []
    },
    {
      "cell_type": "markdown",
      "source": [
        "##Testing:\n",
        "To test the Morris Traversal implementation, let's construct a binary tree and use the traversal function to obtain the in-order traversal of that tree. Here's a sample test case:\n",
        "\n",
        "We will create the following binary tree:\n",
        "```\n",
        "        1\n",
        "       / \\\n",
        "      2   3\n",
        "     / \\\n",
        "    4   5\n",
        "```\n",
        "\n",
        "The in-order traversal of this tree should be `[4, 2, 5, 1, 3]`."
      ],
      "metadata": {
        "id": "rmascGp76a_Q"
      }
    },
    {
      "cell_type": "code",
      "execution_count": 6,
      "metadata": {
        "id": "kVX9PbNY6M7_",
        "colab": {
          "base_uri": "https://localhost:8080/"
        },
        "outputId": "36f018fc-388d-43d2-80a1-8c34cc8ee6e8"
      },
      "outputs": [
        {
          "output_type": "stream",
          "name": "stdout",
          "text": [
            "In-order traversal of the binary tree: [4, 2, 5, 1, 3]\n"
          ]
        }
      ],
      "source": [
        "# Create nodes of the tree\n",
        "root = TreeNode(1)\n",
        "root.left = TreeNode(2)\n",
        "root.right = TreeNode(3)\n",
        "root.left.left = TreeNode(4)\n",
        "root.left.right = TreeNode(5)\n",
        "\n",
        "# Perform Morris In-order Traversal\n",
        "output = morrisTraversal(root)\n",
        "\n",
        "# Print the result\n",
        "print(\"In-order traversal of the binary tree:\", output)"
      ]
    },
    {
      "cell_type": "markdown",
      "source": [
        "## Morris Pre-order Traversal:\n",
        "The Morris Traversal algorithm is typically used for in-order traversal in a way that achieves O(1) space complexity by modifying the tree temporarily. However, adapting this method for pre-order and post-order traversal is not straightforward and typically doesn't achieve the same space efficiency without complex modifications. Nevertheless, I'll provide a variation of the Morris traversal adapted for pre-order traversal. Note that a true Morris-style post-order traversal that achieves constant space complexity is exceptionally complex and generally not practical.\n",
        "\n",
        "\n",
        "The Morris Pre-order traversal is similar to the in-order version but prints the node before making the left traversal:"
      ],
      "metadata": {
        "id": "P1HVWchLFrgC"
      }
    },
    {
      "cell_type": "code",
      "source": [
        "def morrisPreorderTraversal(root):\n",
        "    result = []\n",
        "    current = root\n",
        "\n",
        "    while current:\n",
        "        if current.left is None:\n",
        "            result.append(current.val)\n",
        "            current = current.right\n",
        "        else:\n",
        "            predecessor = current.left\n",
        "            while predecessor.right is not None and predecessor.right != current:\n",
        "                predecessor = predecessor.right\n",
        "\n",
        "            if predecessor.right is None:\n",
        "                result.append(current.val)  # Note the difference: Print before making the link\n",
        "                predecessor.right = current\n",
        "                current = current.left\n",
        "            else:\n",
        "                predecessor.right = None\n",
        "                current = current.right\n",
        "\n",
        "    return result"
      ],
      "metadata": {
        "id": "f_B0wGwbF3At"
      },
      "execution_count": 3,
      "outputs": []
    },
    {
      "cell_type": "markdown",
      "source": [
        "## Morris-style Post-order Traversal:\n",
        "A Morris-style traversal for post-order is far more complicated due to the nature of post-order traversal needing access to a node after its children are processed. Implementing this without additional space requires using a reverse process to visit nodes, which can get quite tricky. The below implementation, while interesting, doesn't fully maintain the O(1) space requirement but provides an alternative way to perform a traversal that does not use explicit stack or recursion:"
      ],
      "metadata": {
        "id": "J2isefRWF8Op"
      }
    },
    {
      "cell_type": "code",
      "source": [
        "def reversePath(start, end):\n",
        "    if start == end:\n",
        "        return\n",
        "    prev = start\n",
        "    current = start.right\n",
        "    while prev != end:\n",
        "        next_node = current.right\n",
        "        current.right = prev\n",
        "        prev = current\n",
        "        current = next_node\n",
        "\n",
        "def morrisPostorderTraversal(root):\n",
        "    dummy = TreeNode(0)\n",
        "    dummy.left = root\n",
        "    current = dummy\n",
        "    result = []\n",
        "\n",
        "    while current:\n",
        "        if current.left is None:\n",
        "            current = current.right\n",
        "        else:\n",
        "            predecessor = current.left\n",
        "            while predecessor.right is not None and predecessor.right != current:\n",
        "                predecessor = predecessor.right\n",
        "\n",
        "            if predecessor.right is None:\n",
        "                predecessor.right = current\n",
        "                current = current.left\n",
        "            else:\n",
        "                first = current.left\n",
        "                reversePath(first, predecessor)\n",
        "                prev = predecessor\n",
        "                while True:\n",
        "                    result.append(prev.val)\n",
        "                    if prev == first:\n",
        "                        break\n",
        "                    prev = prev.right\n",
        "                reversePath(predecessor, first)\n",
        "                predecessor.right = None\n",
        "                current = current.right\n",
        "\n",
        "    return result"
      ],
      "metadata": {
        "id": "f9i18mr0F6Gh"
      },
      "execution_count": 4,
      "outputs": []
    },
    {
      "cell_type": "markdown",
      "source": [
        "## Testing Morris Pre-order and Post-order Traversals:\n",
        "You can test these methods similarly to how the in-order Morris traversal was tested, constructing a tree and invoking the traversal methods to print their outputs. Given the complexity and specific behaviors, it's essential to thoroughly test these methods, particularly the post-order traversal, in various scenarios to ensure they behave as expected."
      ],
      "metadata": {
        "id": "s_-2-cdMGRes"
      }
    },
    {
      "cell_type": "markdown",
      "source": [
        "Test the Morris pre-order and post-order traversal implementations using the same binary tree structure as before:\n",
        "\n",
        "```\n",
        "        1\n",
        "       / \\\n",
        "      2   3\n",
        "     / \\\n",
        "    4   5\n",
        "```\n",
        "\n",
        "For this tree:\n",
        "- **Pre-order** traversal should yield `[1, 2, 4, 5, 3]`.\n",
        "- **Post-order** traversal should yield `[4, 5, 2, 3, 1]`."
      ],
      "metadata": {
        "id": "kma2YlwpGx9Z"
      }
    },
    {
      "cell_type": "code",
      "source": [
        "# Perform Morris Traversal for Pre-order and Post-order\n",
        "preorder_output = morrisPreorderTraversal(root)\n",
        "postorder_output = morrisPostorderTraversal(root)\n",
        "\n",
        "# Print the results\n",
        "print(\"Pre-order traversal of the binary tree:\", preorder_output)\n",
        "print(\"Post-order traversal of the binary tree:\", postorder_output)"
      ],
      "metadata": {
        "colab": {
          "base_uri": "https://localhost:8080/"
        },
        "id": "5E5NsF3hGbqF",
        "outputId": "3107fad9-3cf1-44c4-cf15-60c64a7efe55"
      },
      "execution_count": 7,
      "outputs": [
        {
          "output_type": "stream",
          "name": "stdout",
          "text": [
            "Pre-order traversal of the binary tree: [1, 2, 4, 5, 3]\n",
            "Post-order traversal of the binary tree: [4, 5, 2, 3, 1]\n"
          ]
        }
      ]
    }
  ]
}