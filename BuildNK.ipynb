{
  "nbformat": 4,
  "nbformat_minor": 0,
  "metadata": {
    "colab": {
      "provenance": [],
      "authorship_tag": "ABX9TyNBCnmOXJkDheCA0TgoifLX",
      "include_colab_link": true
    },
    "kernelspec": {
      "name": "python3",
      "display_name": "Python 3"
    },
    "language_info": {
      "name": "python"
    }
  },
  "cells": [
    {
      "cell_type": "markdown",
      "metadata": {
        "id": "view-in-github",
        "colab_type": "text"
      },
      "source": [
        "<a href=\"https://colab.research.google.com/github/walkerjian/DailyCode/blob/main/BuildNK.ipynb\" target=\"_parent\"><img src=\"https://colab.research.google.com/assets/colab-badge.svg\" alt=\"Open In Colab\"/></a>"
      ]
    },
    {
      "cell_type": "markdown",
      "source": [
        "A builder is looking to build a row of N houses that can be of K different colors. He has a goal of minimizing cost while ensuring that no two neighboring houses are of the same color.\n",
        "\n",
        "Given an N by K matrix where the nth row and kth column represents the cost to build the nth house with kth color, return the minimum cost which achieves this goal."
      ],
      "metadata": {
        "id": "2t-Q4-BF6Ltk"
      }
    },
    {
      "cell_type": "markdown",
      "source": [
        "To solve this problem, we'll model it as a dynamic programming problem. The dynamic programming approach involves breaking the problem down into smaller subproblems and building a solution from the bottom up. Specifically, for each house, we'll determine the minimum cost to paint it based on the color of the previous house and the cost of painting the current house with each available color.\n",
        "\n",
        "Let's follow the MVC (Model-View-Controller) paradigm to structure our solution:\n",
        "\n",
        "1. **Model**: This will represent our data and the logic to solve the problem. In our case, the model will consist of the dynamic programming approach to find the minimum cost to paint the houses.\n",
        "2. **View**: This will represent how the solution is displayed. Here, we'll format the output to display the test cases and their results.\n",
        "3. **Controller**: This will act as an intermediary between the Model and View. It will handle the input, pass it to the Model for processing, and then pass the result to the View for display.\n",
        "\n",
        "Before diving into the code, let's define a directed graph:\n",
        "\n",
        "A **directed graph** (or digraph) is a set of vertices and a collection of directed edges that each connects an ordered pair of vertices. We say that a directed edge points from the first vertex in the pair and points to the second vertex in the pair. Directed graphs are used in various applications, including representing finite state machines, network flow models, and many algorithms in computer science.\n",
        "\n",
        "Now, let's start implementing our solution:"
      ],
      "metadata": {
        "id": "gS0UXjFJ5EcQ"
      }
    },
    {
      "cell_type": "code",
      "source": [
        "def minCost(costs):\n",
        "    \"\"\"\n",
        "    Given an N by K matrix where the nth row and kth column represents the cost to build\n",
        "    the nth house with kth color, return the minimum cost which achieves the goal of\n",
        "    ensuring that no two neighboring houses are of the same color.\n",
        "\n",
        "    :param costs: A 2D list where each row represents the cost of painting a house with different colors.\n",
        "    :return: The minimum cost to paint all the houses such that no two adjacent houses have the same color.\n",
        "    \"\"\"\n",
        "    if not costs or not costs[0]:\n",
        "        return 0\n",
        "\n",
        "    # Dynamic programming approach to determine minimum cost for each house based on previous house color.\n",
        "    for n in range(1, len(costs)):\n",
        "        for k in range(len(costs[0])):\n",
        "            previous_costs = costs[n-1][:k] + costs[n-1][k+1:]\n",
        "            if previous_costs:\n",
        "                costs[n][k] += min(previous_costs)\n",
        "\n",
        "    return min(costs[-1])\n",
        "\n",
        "def display_test_results(test_cases, results):\n",
        "    \"\"\"\n",
        "    Display the test cases and their results.\n",
        "\n",
        "    :param test_cases: A list of test cases.\n",
        "    :param results: A list of results corresponding to the test cases.\n",
        "    \"\"\"\n",
        "    for i, (test, result) in enumerate(zip(test_cases, results), 1):\n",
        "        print(f\"Test Case {i}:\")\n",
        "        for row in test:\n",
        "            print(row)\n",
        "        print(f\"Minimum Cost: {result}\\n\")\n",
        "\n",
        "def test_minCost():\n",
        "    \"\"\"\n",
        "    Test function to test the minCost function with various test cases.\n",
        "    \"\"\"\n",
        "    test_cases = [\n",
        "        [[17, 2, 17], [16, 16, 5], [14, 3, 19]],\n",
        "        [[1, 2, 3], [1, 2, 3], [3, 2, 1]],\n",
        "        [],\n",
        "        [[10, 20], [30, 200], [40, 50], [10, 20]],\n",
        "        [[1, 10], [10, 1], [10, 1], [1, 10]],\n",
        "        [[1, 2, 3, 4], [2, 3, 4, 1], [3, 4, 1, 2], [4, 1, 2, 3]],\n",
        "        [[10, 20, 30, 40], [40, 30, 20, 10], [10, 20, 30, 40], [40, 30, 20, 10]],\n",
        "        [[10, 20, 30, 40, 50], [50, 40, 30, 20, 10], [10, 20, 30, 40, 50], [50, 40, 30, 20, 10], [10, 20, 30, 40, 50]],\n",
        "        [[10], [20], [30], [40]],\n",
        "        [[10, 20, 30], [30, 20, 10], [10, 20, 30], [30, 20, 10]]\n",
        "    ]\n",
        "\n",
        "    results = [minCost(test) for test in test_cases]\n",
        "    display_test_results(test_cases, results)\n",
        "\n",
        "# Run the tests\n",
        "test_minCost()\n"
      ],
      "metadata": {
        "colab": {
          "base_uri": "https://localhost:8080/"
        },
        "id": "vNCRmfb45u6-",
        "outputId": "b9944959-6b55-4fd8-f9e0-3301ca2046b1"
      },
      "execution_count": 2,
      "outputs": [
        {
          "output_type": "stream",
          "name": "stdout",
          "text": [
            "Test Case 1:\n",
            "[17, 2, 17]\n",
            "[18, 33, 7]\n",
            "[21, 10, 37]\n",
            "Minimum Cost: 10\n",
            "\n",
            "Test Case 2:\n",
            "[1, 2, 3]\n",
            "[3, 3, 4]\n",
            "[6, 5, 4]\n",
            "Minimum Cost: 4\n",
            "\n",
            "Test Case 3:\n",
            "Minimum Cost: 0\n",
            "\n",
            "Test Case 4:\n",
            "[10, 20]\n",
            "[50, 210]\n",
            "[250, 100]\n",
            "[110, 270]\n",
            "Minimum Cost: 110\n",
            "\n",
            "Test Case 5:\n",
            "[1, 10]\n",
            "[20, 2]\n",
            "[12, 21]\n",
            "[22, 22]\n",
            "Minimum Cost: 22\n",
            "\n",
            "Test Case 6:\n",
            "[1, 2, 3, 4]\n",
            "[4, 4, 5, 2]\n",
            "[5, 6, 3, 6]\n",
            "[7, 4, 7, 6]\n",
            "Minimum Cost: 4\n",
            "\n",
            "Test Case 7:\n",
            "[10, 20, 30, 40]\n",
            "[60, 40, 30, 20]\n",
            "[30, 40, 50, 70]\n",
            "[80, 60, 50, 40]\n",
            "Minimum Cost: 40\n",
            "\n",
            "Test Case 8:\n",
            "[10, 20, 30, 40, 50]\n",
            "[70, 50, 40, 30, 20]\n",
            "[30, 40, 50, 60, 80]\n",
            "[90, 70, 60, 50, 40]\n",
            "[50, 60, 70, 80, 100]\n",
            "Minimum Cost: 50\n",
            "\n",
            "Test Case 9:\n",
            "[10]\n",
            "[20]\n",
            "[30]\n",
            "[40]\n",
            "Minimum Cost: 40\n",
            "\n",
            "Test Case 10:\n",
            "[10, 20, 30]\n",
            "[50, 30, 20]\n",
            "[30, 40, 60]\n",
            "[70, 50, 40]\n",
            "Minimum Cost: 40\n",
            "\n"
          ]
        }
      ]
    }
  ]
}