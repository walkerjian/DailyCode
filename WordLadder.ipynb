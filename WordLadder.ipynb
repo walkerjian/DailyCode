{
  "nbformat": 4,
  "nbformat_minor": 0,
  "metadata": {
    "colab": {
      "provenance": [],
      "authorship_tag": "ABX9TyMSDi3W/EXlylr9FOAGkc3H",
      "include_colab_link": true
    },
    "kernelspec": {
      "name": "python3",
      "display_name": "Python 3"
    },
    "language_info": {
      "name": "python"
    }
  },
  "cells": [
    {
      "cell_type": "markdown",
      "metadata": {
        "id": "view-in-github",
        "colab_type": "text"
      },
      "source": [
        "<a href=\"https://colab.research.google.com/github/walkerjian/DailyCode/blob/main/WordLadder.ipynb\" target=\"_parent\"><img src=\"https://colab.research.google.com/assets/colab-badge.svg\" alt=\"Open In Colab\"/></a>"
      ]
    },
    {
      "cell_type": "code",
      "execution_count": 1,
      "metadata": {
        "colab": {
          "base_uri": "https://localhost:8080/"
        },
        "id": "bpjgPz8bHwOr",
        "outputId": "fe3ddda9-4e7f-4e18-e057-cfa7e93c03a2"
      },
      "outputs": [
        {
          "output_type": "execute_result",
          "data": {
            "text/plain": [
              "[None, None, None]"
            ]
          },
          "metadata": {},
          "execution_count": 1
        }
      ],
      "source": [
        "def generate_word_ladder(start_word, end_word):\n",
        "    # Function to generate a word ladder from start_word to end_word\n",
        "    # Returns a list of words if a ladder is found, or None if no ladder is found\n",
        "    from collections import defaultdict, deque\n",
        "\n",
        "    def construct_dict(word_list):\n",
        "        d = defaultdict(list)\n",
        "        for word in word_list:\n",
        "            for i in range(len(word)):\n",
        "                s = word[:i] + \"_\" + word[i+1:]\n",
        "                d[s].append(word)\n",
        "        return d\n",
        "\n",
        "    def bfs_words(begin, end, lookup_dict):\n",
        "        queue, visited = deque([(begin, [begin])]), set()\n",
        "\n",
        "        while queue:\n",
        "            word, path = queue.popleft()\n",
        "            visited.add(word)\n",
        "            for i in range(len(word)):\n",
        "                s = word[:i] + \"_\" + word[i+1:]\n",
        "                neigh_words = lookup_dict[s]\n",
        "                for neigh in neigh_words:\n",
        "                    if neigh not in visited:\n",
        "                        if neigh == end:\n",
        "                            return path + [neigh]\n",
        "                        else:\n",
        "                            queue.append((neigh, path + [neigh]))\n",
        "\n",
        "    word_list = [start_word, end_word]\n",
        "    lookup_dict = construct_dict(word_list)\n",
        "    return bfs_words(start_word, end_word, lookup_dict)\n",
        "\n",
        "# Define the words\n",
        "words = [\"AUDIOTAPE\", \"CAPSIZE\", \"HOME GAME\", \"MOTHERHOOD\"]\n",
        "\n",
        "# Generate word ladders between each pair of words\n",
        "word_ladders = []\n",
        "for i in range(len(words) - 1):\n",
        "    word_ladder = generate_word_ladder(words[i], words[i + 1])\n",
        "    word_ladders.append(word_ladder)\n",
        "\n",
        "word_ladders\n"
      ]
    }
  ]
}