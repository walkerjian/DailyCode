{
  "nbformat": 4,
  "nbformat_minor": 0,
  "metadata": {
    "colab": {
      "provenance": [],
      "gpuType": "T4",
      "authorship_tag": "ABX9TyNBw0KzjXP4mbMTxk8gIVuB",
      "include_colab_link": true
    },
    "kernelspec": {
      "name": "python3",
      "display_name": "Python 3"
    },
    "language_info": {
      "name": "python"
    },
    "accelerator": "GPU"
  },
  "cells": [
    {
      "cell_type": "markdown",
      "metadata": {
        "id": "view-in-github",
        "colab_type": "text"
      },
      "source": [
        "<a href=\"https://colab.research.google.com/github/walkerjian/DailyCode/blob/main/CodeCraft_cuda_max_find.ipynb\" target=\"_parent\"><img src=\"https://colab.research.google.com/assets/colab-badge.svg\" alt=\"Open In Colab\"/></a>"
      ]
    },
    {
      "cell_type": "markdown",
      "source": [
        "#Code Craft Solution:"
      ],
      "metadata": {
        "id": "EwC8UYjQozrN"
      }
    },
    {
      "cell_type": "markdown",
      "source": [
        "##Prompt:\n",
        "Solve this coding problem professionally using modern software development patterns, particularly the MVC (Model-View-Controller) pattern for clarity and maintainability. Ensure that the test harness is well-thought-out and professional, with logic that ensures all tests run, even when some fail. If a test fails, the harness should also test the test logic to ensure it's not the source of failure. This should be treated as a learning exercise, so the solution must include detailed explanations (didactic perspective) at each step, including complexity analysis, optimizations, and alternative approaches. If any tests or code fail, include a post-mortem analysis of the failure. Use languages other than Python where appropriate, and ensure readability and understanding of the solution.\n",
        "\n",
        "###Problem:\n",
        "This problem was asked by Nvidia.\n",
        "\n",
        "Find the maximum of two numbers without using any if-else statements, branching, or direct comparisons."
      ],
      "metadata": {
        "id": "8scBDLARodKX"
      }
    },
    {
      "cell_type": "markdown",
      "source": [
        "##Solution:\n",
        "```java\n",
        "/**\n",
        " * MaxFinder.java\n",
        " *\n",
        " * Model class containing the logic to find the maximum of two integers\n",
        " * without using any if-else statements, branching, or direct comparisons.\n",
        " *\n",
        " * This implementation uses bit manipulation and arithmetic operations\n",
        " * to determine the maximum value. It handles integer overflows by\n",
        " * using long integers for intermediate calculations.\n",
        " */\n",
        "public class MaxFinder {\n",
        "    /**\n",
        "     * Finds the maximum of two integers without using if-else, branching, or direct comparisons.\n",
        "     *\n",
        "     * @param a First integer\n",
        "     * @param b Second integer\n",
        "     * @return The maximum of a and b\n",
        "     */\n",
        "    public int max(int a, int b) {\n",
        "        // Convert integers to long to prevent integer overflow\n",
        "        long c = (long) a - (long) b;\n",
        "        // Extract the sign bit: 1 if c < 0, 0 otherwise\n",
        "        int k = (int) ((c >> 63) & 1);\n",
        "        // Compute the maximum value based on the sign of c\n",
        "        return a - k * (int) c;\n",
        "    }\n",
        "}\n",
        "\n",
        "/**\n",
        " * MaxView.java\n",
        " *\n",
        " * View class responsible for displaying the results.\n",
        " */\n",
        "public class MaxView {\n",
        "    /**\n",
        "     * Displays the result of the max computation.\n",
        "     *\n",
        "     * @param a   First integer\n",
        "     * @param b   Second integer\n",
        "     * @param max The maximum of a and b\n",
        "     */\n",
        "    public void displayResult(int a, int b, int max) {\n",
        "        System.out.println(\"The maximum of \" + a + \" and \" + b + \" is \" + max + \".\");\n",
        "    }\n",
        "}\n",
        "\n",
        "/**\n",
        " * MaxController.java\n",
        " *\n",
        " * Controller class that coordinates between the Model and the View.\n",
        " */\n",
        "public class MaxController {\n",
        "    private MaxFinder model;\n",
        "    private MaxView view;\n",
        "\n",
        "    public MaxController(MaxFinder model, MaxView view) {\n",
        "        this.model = model;\n",
        "        this.view = view;\n",
        "    }\n",
        "\n",
        "    /**\n",
        "     * Runs the test cases and displays results.\n",
        "     */\n",
        "    public void runTests() {\n",
        "        MaxTestHarness testHarness = new MaxTestHarness(model, view);\n",
        "        testHarness.runAllTests();\n",
        "        testHarness.reportResults();\n",
        "    }\n",
        "}\n",
        "\n",
        "/**\n",
        " * MaxTestHarness.java\n",
        " *\n",
        " * Test harness for the MaxFinder class.\n",
        " * Ensures that all tests run even if some fail.\n",
        " * If a test fails, it also checks the test logic.\n",
        " */\n",
        "import java.util.ArrayList;\n",
        "import java.util.List;\n",
        "\n",
        "public class MaxTestHarness {\n",
        "    private MaxFinder model;\n",
        "    private MaxView view;\n",
        "    private List<TestResult> testResults;\n",
        "\n",
        "    public MaxTestHarness(MaxFinder model, MaxView view) {\n",
        "        this.model = model;\n",
        "        this.view = view;\n",
        "        this.testResults = new ArrayList<>();\n",
        "    }\n",
        "\n",
        "    /**\n",
        "     * Runs all the test cases.\n",
        "     */\n",
        "    public void runAllTests() {\n",
        "        testMax(5, 10);\n",
        "        testMax(-5, -10);\n",
        "        testMax(0, 0);\n",
        "        testMax(Integer.MAX_VALUE, Integer.MIN_VALUE);\n",
        "        testMax(-1, 1);\n",
        "        testMax(123456, 654321);\n",
        "        // Add more test cases as needed\n",
        "    }\n",
        "\n",
        "    /**\n",
        "     * Reports the results of the tests.\n",
        "     */\n",
        "    public void reportResults() {\n",
        "        int passed = 0;\n",
        "        for (TestResult result : testResults) {\n",
        "            if (result.passed) {\n",
        "                passed++;\n",
        "            } else {\n",
        "                System.out.println(\"Test Failed: \" + result.message);\n",
        "            }\n",
        "        }\n",
        "        System.out.println(passed + \" out of \" + testResults.size() + \" tests passed.\");\n",
        "    }\n",
        "\n",
        "    private void testMax(int a, int b) {\n",
        "        int expected = Math.max(a, b);\n",
        "        int actual = model.max(a, b);\n",
        "        boolean passed = expected == actual;\n",
        "        String message = \"max(\" + a + \", \" + b + \") = \" + actual + \", expected: \" + expected;\n",
        "\n",
        "        if (!passed) {\n",
        "            // Test the test logic\n",
        "            boolean testLogicValid = verifyTestLogic(a, b, expected);\n",
        "            if (!testLogicValid) {\n",
        "                message += \" [Test Logic Failure]\";\n",
        "            }\n",
        "        }\n",
        "        testResults.add(new TestResult(passed, message));\n",
        "\n",
        "        // Display the result using the View\n",
        "        view.displayResult(a, b, actual);\n",
        "    }\n",
        "\n",
        "    /**\n",
        "     * Verifies the test logic to ensure it's not the source of failure.\n",
        "     *\n",
        "     * @param a        First integer\n",
        "     * @param b        Second integer\n",
        "     * @param expected Expected result from the test\n",
        "     * @return True if the test logic is valid, false otherwise\n",
        "     */\n",
        "    private boolean verifyTestLogic(int a, int b, int expected) {\n",
        "        // Recompute the expected value using an alternative method\n",
        "        int alternativeExpected = (a + b + Math.abs(a - b)) / 2;\n",
        "        return expected == alternativeExpected;\n",
        "    }\n",
        "\n",
        "    /**\n",
        "     * Inner class to store test results.\n",
        "     */\n",
        "    private class TestResult {\n",
        "        boolean passed;\n",
        "        String message;\n",
        "\n",
        "        TestResult(boolean passed, String message) {\n",
        "            this.passed = passed;\n",
        "            this.message = message;\n",
        "        }\n",
        "    }\n",
        "}\n",
        "\n",
        "/**\n",
        " * MaxMain.java\n",
        " *\n",
        " * Main class to run the application.\n",
        " */\n",
        "public class MaxMain {\n",
        "    public static void main(String[] args) {\n",
        "        MaxFinder model = new MaxFinder();\n",
        "        MaxView view = new MaxView();\n",
        "        MaxController controller = new MaxController(model, view);\n",
        "\n",
        "        controller.runTests();\n",
        "    }\n",
        "}\n",
        "```\n",
        "\n",
        "**Detailed Explanation:**\n",
        "\n",
        "### Model (MaxFinder.java)\n",
        "\n",
        "- **Purpose:** Contains the core logic to find the maximum of two integers without using any if-else statements, branching, or direct comparisons.\n",
        "- **Implementation Details:**\n",
        "  - **Bit Manipulation:** Utilizes bitwise operations to extract the sign bit of the difference between the two numbers.\n",
        "  - **Handling Overflows:** Converts integers to long to prevent integer overflow during subtraction.\n",
        "\n",
        "**Algorithm Explanation:**\n",
        "\n",
        "1. **Compute the Difference:**\n",
        "   - `long c = (long) a - (long) b;`\n",
        "   - By casting to `long`, we prevent integer overflow.\n",
        "\n",
        "2. **Extract the Sign Bit:**\n",
        "   - `int k = (int) ((c >> 63) & 1);`\n",
        "   - Shifts the 64-bit `long` number `c` right by 63 bits.\n",
        "   - The result is `0` if `c` is non-negative and `-1` (all ones) if `c` is negative.\n",
        "   - Applying `& 1` extracts the least significant bit, giving `k` as `0` or `1`.\n",
        "\n",
        "3. **Calculate the Maximum:**\n",
        "   - `return a - k * (int) c;`\n",
        "   - If `k == 0` (meaning `a >= b`), returns `a`.\n",
        "   - If `k == 1` (meaning `a < b`), calculates `a - (a - b)`, simplifying to `b`.\n",
        "\n",
        "### View (MaxView.java)\n",
        "\n",
        "- **Purpose:** Responsible for displaying the results to the user.\n",
        "- **Implementation Details:**\n",
        "  - Simple method `displayResult` that prints out the maximum of the two numbers.\n",
        "\n",
        "### Controller (MaxController.java)\n",
        "\n",
        "- **Purpose:** Coordinates interactions between the Model and the View.\n",
        "- **Implementation Details:**\n",
        "  - Initializes the `MaxFinder` (Model) and `MaxView` (View).\n",
        "  - Runs the tests by invoking the `MaxTestHarness`.\n",
        "\n",
        "### Test Harness (MaxTestHarness.java)\n",
        "\n",
        "- **Purpose:** Provides a robust testing framework that runs all tests even if some fail and checks if the test logic is correct in case of failure.\n",
        "- **Implementation Details:**\n",
        "  - **Test Cases:** A series of predefined test cases covering various scenarios, including edge cases like maximum and minimum integer values.\n",
        "  - **Result Tracking:** Stores results of each test case, indicating pass or fail.\n",
        "  - **Test Logic Verification:** If a test fails, it verifies the test logic using an alternative method to ensure the failure is not due to incorrect test logic.\n",
        "  - **Reporting:** After running all tests, it reports the number of tests passed and details of any failures.\n",
        "  - **Integration with View:** Uses the `MaxView` to display results for each test case.\n",
        "\n",
        "### Main (MaxMain.java)\n",
        "\n",
        "- **Purpose:** Entry point of the application.\n",
        "- **Implementation Details:**\n",
        "  - Creates instances of `MaxFinder`, `MaxView`, and `MaxController`.\n",
        "  - Initiates the test run through the controller.\n",
        "\n",
        "**Complexity Analysis:**\n",
        "\n",
        "- **Time Complexity:** O(1) for the `max` method in `MaxFinder` since it performs a constant number of operations regardless of input size.\n",
        "- **Space Complexity:** O(1) for the `max` method as it uses a fixed amount of extra space.\n",
        "\n",
        "**Optimizations:**\n",
        "\n",
        "- **Preventing Integer Overflow:** By casting integers to `long`, we ensure that subtracting large integers does not cause overflow, which could lead to incorrect results.\n",
        "- **Bit Manipulation Efficiency:** Using bitwise operations is generally faster than arithmetic operations involving division or modulus, especially important in performance-critical applications.\n",
        "\n",
        "**Alternative Approaches:**\n",
        "\n",
        "1. **Arithmetic Mean and Absolute Difference:**\n",
        "\n",
        "   ```java\n",
        "   public int max(int a, int b) {\n",
        "       return (a + b + Math.abs(a - b)) / 2;\n",
        "   }\n",
        "   ```\n",
        "\n",
        "   - **Limitations:** The `Math.abs` function may internally use branching, violating the problem constraints.\n",
        "\n",
        "2. **Using Floating-Point Division:**\n",
        "\n",
        "   ```java\n",
        "   public int max(int a, int b) {\n",
        "       return (int) ((a + b + ((double) (a - b)) / Math.abs(a - b)) * 0.5);\n",
        "   }\n",
        "   ```\n",
        "\n",
        "   - **Limitations:** Involves division and floating-point arithmetic, which may not be as efficient and still may use internal branching.\n",
        "\n",
        "**Post-Mortem Analysis:**\n",
        "\n",
        "- **Potential Failures:** Initial implementations without handling integer overflow may fail for inputs where `a - b` exceeds the range of integers.\n",
        "- **Resolution:** Adjusted the `max` method to use `long` for intermediate calculations to safely handle large differences between `a` and `b`.\n",
        "\n",
        "**Test Harness Robustness:**\n",
        "\n",
        "- Ensures all tests are executed, even if some fail.\n",
        "- Verifies test logic in case of failure to differentiate between a failure in the implementation and an error in the test itself.\n",
        "\n",
        "**Conclusion:**\n",
        "\n",
        "The provided solution effectively computes the maximum of two integers without using any if-else statements, branching, or direct comparisons. By employing bit manipulation and careful handling of integer overflows, it adheres to the problem constraints while maintaining readability and efficiency."
      ],
      "metadata": {
        "id": "wH_msgA3o_l-"
      }
    },
    {
      "cell_type": "markdown",
      "source": [
        "## Implementation:\n"
      ],
      "metadata": {
        "id": "nglFSGzOpZb3"
      }
    },
    {
      "cell_type": "code",
      "source": [
        "# Install OpenJDK 11\n",
        "!apt-get install openjdk-11-jdk-headless -qq > /dev/null\n"
      ],
      "metadata": {
        "id": "Fcbahwb0VUyZ"
      },
      "execution_count": 2,
      "outputs": []
    },
    {
      "cell_type": "code",
      "source": [
        "import os\n",
        "os.environ[\"JAVA_HOME\"] = \"/usr/lib/jvm/java-11-openjdk-amd64\"\n",
        "os.environ[\"PATH\"] += os.pathsep + os.path.join(os.environ[\"JAVA_HOME\"], \"bin\")\n"
      ],
      "metadata": {
        "id": "UVu4IaY4VZVy"
      },
      "execution_count": 3,
      "outputs": []
    },
    {
      "cell_type": "code",
      "source": [
        "!java -version\n"
      ],
      "metadata": {
        "colab": {
          "base_uri": "https://localhost:8080/"
        },
        "id": "oSPZBWqSVbvs",
        "outputId": "9be2e4a5-141f-47e7-e2a8-4d1544010437"
      },
      "execution_count": 4,
      "outputs": [
        {
          "output_type": "stream",
          "name": "stdout",
          "text": [
            "openjdk version \"11.0.24\" 2024-07-16\n",
            "OpenJDK Runtime Environment (build 11.0.24+8-post-Ubuntu-1ubuntu322.04)\n",
            "OpenJDK 64-Bit Server VM (build 11.0.24+8-post-Ubuntu-1ubuntu322.04, mixed mode, sharing)\n"
          ]
        }
      ]
    },
    {
      "cell_type": "code",
      "source": [
        "# Create directories for the package structure\n",
        "!mkdir -p src/model src/view src/controller\n"
      ],
      "metadata": {
        "id": "t51eiX_jVgbJ"
      },
      "execution_count": 5,
      "outputs": []
    },
    {
      "cell_type": "code",
      "source": [],
      "metadata": {
        "id": "uJf-G_n2ViFJ"
      },
      "execution_count": null,
      "outputs": []
    },
    {
      "cell_type": "code",
      "execution_count": 6,
      "metadata": {
        "id": "EI-cO7pgoQvE",
        "colab": {
          "base_uri": "https://localhost:8080/"
        },
        "outputId": "1adc8068-7bec-4d01-ecd0-b0516351f388"
      },
      "outputs": [
        {
          "output_type": "stream",
          "name": "stdout",
          "text": [
            "Writing src/model/MaxFinder.java\n"
          ]
        }
      ],
      "source": [
        "%%writefile src/model/MaxFinder.java\n",
        "/**\n",
        " * MaxFinder.java\n",
        " *\n",
        " * Model class containing the logic to find the maximum of two integers\n",
        " * without using any if-else statements, branching, or direct comparisons.\n",
        " *\n",
        " * This implementation uses bit manipulation and arithmetic operations\n",
        " * to determine the maximum value. It handles integer overflows by\n",
        " * using long integers for intermediate calculations.\n",
        " */\n",
        "public class MaxFinder {\n",
        "    /**\n",
        "     * Finds the maximum of two integers without using if-else, branching, or direct comparisons.\n",
        "     *\n",
        "     * @param a First integer\n",
        "     * @param b Second integer\n",
        "     * @return The maximum of a and b\n",
        "     */\n",
        "    public int max(int a, int b) {\n",
        "        // Convert integers to long to prevent integer overflow\n",
        "        long c = (long) a - (long) b;\n",
        "        // Extract the sign bit: 1 if c < 0, 0 otherwise\n",
        "        int k = (int) ((c >> 63) & 1);\n",
        "        // Compute the maximum value based on the sign of c\n",
        "        return a - k * (int) c;\n",
        "    }\n",
        "}\n",
        "\n",
        "/**\n",
        " * MaxView.java\n",
        " *\n",
        " * View class responsible for displaying the results.\n",
        " */\n",
        "public class MaxView {\n",
        "    /**\n",
        "     * Displays the result of the max computation.\n",
        "     *\n",
        "     * @param a   First integer\n",
        "     * @param b   Second integer\n",
        "     * @param max The maximum of a and b\n",
        "     */\n",
        "    public void displayResult(int a, int b, int max) {\n",
        "        System.out.println(\"The maximum of \" + a + \" and \" + b + \" is \" + max + \".\");\n",
        "    }\n",
        "}\n",
        "\n",
        "/**\n",
        " * MaxController.java\n",
        " *\n",
        " * Controller class that coordinates between the Model and the View.\n",
        " */\n",
        "public class MaxController {\n",
        "    private MaxFinder model;\n",
        "    private MaxView view;\n",
        "\n",
        "    public MaxController(MaxFinder model, MaxView view) {\n",
        "        this.model = model;\n",
        "        this.view = view;\n",
        "    }\n",
        "\n",
        "    /**\n",
        "     * Runs the test cases and displays results.\n",
        "     */\n",
        "    public void runTests() {\n",
        "        MaxTestHarness testHarness = new MaxTestHarness(model, view);\n",
        "        testHarness.runAllTests();\n",
        "        testHarness.reportResults();\n",
        "    }\n",
        "}\n",
        "\n",
        "/**\n",
        " * MaxTestHarness.java\n",
        " *\n",
        " * Test harness for the MaxFinder class.\n",
        " * Ensures that all tests run even if some fail.\n",
        " * If a test fails, it also checks the test logic.\n",
        " */\n",
        "import java.util.ArrayList;\n",
        "import java.util.List;\n",
        "\n",
        "public class MaxTestHarness {\n",
        "    private MaxFinder model;\n",
        "    private MaxView view;\n",
        "    private List<TestResult> testResults;\n",
        "\n",
        "    public MaxTestHarness(MaxFinder model, MaxView view) {\n",
        "        this.model = model;\n",
        "        this.view = view;\n",
        "        this.testResults = new ArrayList<>();\n",
        "    }\n",
        "\n",
        "    /**\n",
        "     * Runs all the test cases.\n",
        "     */\n",
        "    public void runAllTests() {\n",
        "        testMax(5, 10);\n",
        "        testMax(-5, -10);\n",
        "        testMax(0, 0);\n",
        "        testMax(Integer.MAX_VALUE, Integer.MIN_VALUE);\n",
        "        testMax(-1, 1);\n",
        "        testMax(123456, 654321);\n",
        "        // Add more test cases as needed\n",
        "    }\n",
        "\n",
        "    /**\n",
        "     * Reports the results of the tests.\n",
        "     */\n",
        "    public void reportResults() {\n",
        "        int passed = 0;\n",
        "        for (TestResult result : testResults) {\n",
        "            if (result.passed) {\n",
        "                passed++;\n",
        "            } else {\n",
        "                System.out.println(\"Test Failed: \" + result.message);\n",
        "            }\n",
        "        }\n",
        "        System.out.println(passed + \" out of \" + testResults.size() + \" tests passed.\");\n",
        "    }\n",
        "\n",
        "    private void testMax(int a, int b) {\n",
        "        int expected = Math.max(a, b);\n",
        "        int actual = model.max(a, b);\n",
        "        boolean passed = expected == actual;\n",
        "        String message = \"max(\" + a + \", \" + b + \") = \" + actual + \", expected: \" + expected;\n",
        "\n",
        "        if (!passed) {\n",
        "            // Test the test logic\n",
        "            boolean testLogicValid = verifyTestLogic(a, b, expected);\n",
        "            if (!testLogicValid) {\n",
        "                message += \" [Test Logic Failure]\";\n",
        "            }\n",
        "        }\n",
        "        testResults.add(new TestResult(passed, message));\n",
        "\n",
        "        // Display the result using the View\n",
        "        view.displayResult(a, b, actual);\n",
        "    }\n",
        "\n",
        "    /**\n",
        "     * Verifies the test logic to ensure it's not the source of failure.\n",
        "     *\n",
        "     * @param a        First integer\n",
        "     * @param b        Second integer\n",
        "     * @param expected Expected result from the test\n",
        "     * @return True if the test logic is valid, false otherwise\n",
        "     */\n",
        "    private boolean verifyTestLogic(int a, int b, int expected) {\n",
        "        // Recompute the expected value using an alternative method\n",
        "        int alternativeExpected = (a + b + Math.abs(a - b)) / 2;\n",
        "        return expected == alternativeExpected;\n",
        "    }\n",
        "\n",
        "    /**\n",
        "     * Inner class to store test results.\n",
        "     */\n",
        "    private class TestResult {\n",
        "        boolean passed;\n",
        "        String message;\n",
        "\n",
        "        TestResult(boolean passed, String message) {\n",
        "            this.passed = passed;\n",
        "            this.message = message;\n",
        "        }\n",
        "    }\n",
        "}\n",
        "\n",
        "/**\n",
        " * MaxMain.java\n",
        " *\n",
        " * Main class to run the application.\n",
        " */\n",
        "public class MaxMain {\n",
        "    public static void main(String[] args) {\n",
        "        MaxFinder model = new MaxFinder();\n",
        "        MaxView view = new MaxView();\n",
        "        MaxController controller = new MaxController(model, view);\n",
        "\n",
        "        controller.runTests();\n",
        "    }\n",
        "}\n"
      ]
    },
    {
      "cell_type": "code",
      "source": [
        "# Compile the Java code\n",
        "!javac -d bin -sourcepath src src/model/MaxFinder.java\n"
      ],
      "metadata": {
        "colab": {
          "base_uri": "https://localhost:8080/"
        },
        "id": "c6tHsrZrVyKi",
        "outputId": "773430b3-818a-4b30-dfec-e9e9cd405628"
      },
      "execution_count": 9,
      "outputs": [
        {
          "output_type": "stream",
          "name": "stdout",
          "text": [
            "src/model/MaxFinder.java:78: error: class, interface, or enum expected\n",
            "import java.util.ArrayList;\n",
            "^\n",
            "src/model/MaxFinder.java:79: error: class, interface, or enum expected\n",
            "import java.util.List;\n",
            "^\n",
            "2 errors\n"
          ]
        }
      ]
    },
    {
      "cell_type": "markdown",
      "source": [
        "##Testing:"
      ],
      "metadata": {
        "id": "KT8ZS6TrpcUg"
      }
    },
    {
      "cell_type": "code",
      "source": [
        "%%writefile src/model/MaxFinder.java\n",
        "package model;\n",
        "\n",
        "/**\n",
        " * MaxFinder.java\n",
        " *\n",
        " * Model class containing the logic to find the maximum of two integers\n",
        " * without using any if-else statements, branching, or direct comparisons.\n",
        " *\n",
        " * This implementation uses bit manipulation and arithmetic operations\n",
        " * to determine the maximum value. It handles integer overflows by\n",
        " * using long integers for intermediate calculations.\n",
        " */\n",
        "public class MaxFinder {\n",
        "    /**\n",
        "     * Finds the maximum of two integers without using if-else, branching, or direct comparisons.\n",
        "     *\n",
        "     * @param a First integer\n",
        "     * @param b Second integer\n",
        "     * @return The maximum of a and b\n",
        "     */\n",
        "    public int max(int a, int b) {\n",
        "        // Convert integers to long to prevent integer overflow\n",
        "        long c = (long) a - (long) b;\n",
        "        // Extract the sign bit: 1 if c < 0, 0 otherwise\n",
        "        int k = (int) ((c >> 63) & 1);\n",
        "        // Compute the maximum value based on the sign of c\n",
        "        return (int)(a - k * c);\n",
        "    }\n",
        "}\n"
      ],
      "metadata": {
        "id": "bdCt7XEVphuE",
        "colab": {
          "base_uri": "https://localhost:8080/",
          "height": 460
        },
        "outputId": "09debb97-13ef-4bbb-f921-4c4b8bbc1950"
      },
      "execution_count": 9,
      "outputs": [
        {
          "output_type": "stream",
          "name": "stdout",
          "text": [
            "Writing src/model/MaxFinder.java\n"
          ]
        },
        {
          "output_type": "error",
          "ename": "FileNotFoundError",
          "evalue": "[Errno 2] No such file or directory: 'src/model/MaxFinder.java'",
          "traceback": [
            "\u001b[0;31m---------------------------------------------------------------------------\u001b[0m",
            "\u001b[0;31mFileNotFoundError\u001b[0m                         Traceback (most recent call last)",
            "\u001b[0;32m<ipython-input-9-60b85f43efa9>\u001b[0m in \u001b[0;36m<cell line: 1>\u001b[0;34m()\u001b[0m\n\u001b[0;32m----> 1\u001b[0;31m \u001b[0mget_ipython\u001b[0m\u001b[0;34m(\u001b[0m\u001b[0;34m)\u001b[0m\u001b[0;34m.\u001b[0m\u001b[0mrun_cell_magic\u001b[0m\u001b[0;34m(\u001b[0m\u001b[0;34m'writefile'\u001b[0m\u001b[0;34m,\u001b[0m \u001b[0;34m'src/model/MaxFinder.java'\u001b[0m\u001b[0;34m,\u001b[0m \u001b[0;34m'package model;\\n\\n/**\\n * MaxFinder.java\\n *\\n * Model class containing the logic to find the maximum of two integers\\n * without using any if-else statements, branching, or direct comparisons.\\n *\\n * This implementation uses bit manipulation and arithmetic operations\\n * to determine the maximum value. It handles integer overflows by\\n * using long integers for intermediate calculations.\\n */\\npublic class MaxFinder {\\n    /**\\n     * Finds the maximum of two integers without using if-else, branching, or direct comparisons.\\n     *\\n     * @param a First integer\\n     * @param b Second integer\\n     * @return The maximum of a and b\\n     */\\n    public int max(int a, int b) {\\n        // Convert integers to long to prevent integer overflow\\n        long c = (long) a - (long) b;\\n        // Extract the sign bit: 1 if c < 0, 0 otherwise\\n        int k = (int) ((c >> 63) & 1);\\n        // Compute the maximum value based on the sign of c\\n        return (int)(a - k * c);\\n    }\\n}\\n'\u001b[0m\u001b[0;34m)\u001b[0m\u001b[0;34m\u001b[0m\u001b[0;34m\u001b[0m\u001b[0m\n\u001b[0m",
            "\u001b[0;32m/usr/local/lib/python3.10/dist-packages/google/colab/_shell.py\u001b[0m in \u001b[0;36mrun_cell_magic\u001b[0;34m(self, magic_name, line, cell)\u001b[0m\n\u001b[1;32m    332\u001b[0m     \u001b[0;32mif\u001b[0m \u001b[0mline\u001b[0m \u001b[0;32mand\u001b[0m \u001b[0;32mnot\u001b[0m \u001b[0mcell\u001b[0m\u001b[0;34m:\u001b[0m\u001b[0;34m\u001b[0m\u001b[0;34m\u001b[0m\u001b[0m\n\u001b[1;32m    333\u001b[0m       \u001b[0mcell\u001b[0m \u001b[0;34m=\u001b[0m \u001b[0;34m' '\u001b[0m\u001b[0;34m\u001b[0m\u001b[0;34m\u001b[0m\u001b[0m\n\u001b[0;32m--> 334\u001b[0;31m     \u001b[0;32mreturn\u001b[0m \u001b[0msuper\u001b[0m\u001b[0;34m(\u001b[0m\u001b[0;34m)\u001b[0m\u001b[0;34m.\u001b[0m\u001b[0mrun_cell_magic\u001b[0m\u001b[0;34m(\u001b[0m\u001b[0mmagic_name\u001b[0m\u001b[0;34m,\u001b[0m \u001b[0mline\u001b[0m\u001b[0;34m,\u001b[0m \u001b[0mcell\u001b[0m\u001b[0;34m)\u001b[0m\u001b[0;34m\u001b[0m\u001b[0;34m\u001b[0m\u001b[0m\n\u001b[0m\u001b[1;32m    335\u001b[0m \u001b[0;34m\u001b[0m\u001b[0m\n\u001b[1;32m    336\u001b[0m \u001b[0;34m\u001b[0m\u001b[0m\n",
            "\u001b[0;32m/usr/local/lib/python3.10/dist-packages/IPython/core/interactiveshell.py\u001b[0m in \u001b[0;36mrun_cell_magic\u001b[0;34m(self, magic_name, line, cell)\u001b[0m\n\u001b[1;32m   2471\u001b[0m             \u001b[0;32mwith\u001b[0m \u001b[0mself\u001b[0m\u001b[0;34m.\u001b[0m\u001b[0mbuiltin_trap\u001b[0m\u001b[0;34m:\u001b[0m\u001b[0;34m\u001b[0m\u001b[0;34m\u001b[0m\u001b[0m\n\u001b[1;32m   2472\u001b[0m                 \u001b[0margs\u001b[0m \u001b[0;34m=\u001b[0m \u001b[0;34m(\u001b[0m\u001b[0mmagic_arg_s\u001b[0m\u001b[0;34m,\u001b[0m \u001b[0mcell\u001b[0m\u001b[0;34m)\u001b[0m\u001b[0;34m\u001b[0m\u001b[0;34m\u001b[0m\u001b[0m\n\u001b[0;32m-> 2473\u001b[0;31m                 \u001b[0mresult\u001b[0m \u001b[0;34m=\u001b[0m \u001b[0mfn\u001b[0m\u001b[0;34m(\u001b[0m\u001b[0;34m*\u001b[0m\u001b[0margs\u001b[0m\u001b[0;34m,\u001b[0m \u001b[0;34m**\u001b[0m\u001b[0mkwargs\u001b[0m\u001b[0;34m)\u001b[0m\u001b[0;34m\u001b[0m\u001b[0;34m\u001b[0m\u001b[0m\n\u001b[0m\u001b[1;32m   2474\u001b[0m             \u001b[0;32mreturn\u001b[0m \u001b[0mresult\u001b[0m\u001b[0;34m\u001b[0m\u001b[0;34m\u001b[0m\u001b[0m\n\u001b[1;32m   2475\u001b[0m \u001b[0;34m\u001b[0m\u001b[0m\n",
            "\u001b[0;32m<decorator-gen-98>\u001b[0m in \u001b[0;36mwritefile\u001b[0;34m(self, line, cell)\u001b[0m\n",
            "\u001b[0;32m/usr/local/lib/python3.10/dist-packages/IPython/core/magic.py\u001b[0m in \u001b[0;36m<lambda>\u001b[0;34m(f, *a, **k)\u001b[0m\n\u001b[1;32m    185\u001b[0m     \u001b[0;31m# but it's overkill for just that one bit of state.\u001b[0m\u001b[0;34m\u001b[0m\u001b[0;34m\u001b[0m\u001b[0m\n\u001b[1;32m    186\u001b[0m     \u001b[0;32mdef\u001b[0m \u001b[0mmagic_deco\u001b[0m\u001b[0;34m(\u001b[0m\u001b[0marg\u001b[0m\u001b[0;34m)\u001b[0m\u001b[0;34m:\u001b[0m\u001b[0;34m\u001b[0m\u001b[0;34m\u001b[0m\u001b[0m\n\u001b[0;32m--> 187\u001b[0;31m         \u001b[0mcall\u001b[0m \u001b[0;34m=\u001b[0m \u001b[0;32mlambda\u001b[0m \u001b[0mf\u001b[0m\u001b[0;34m,\u001b[0m \u001b[0;34m*\u001b[0m\u001b[0ma\u001b[0m\u001b[0;34m,\u001b[0m \u001b[0;34m**\u001b[0m\u001b[0mk\u001b[0m\u001b[0;34m:\u001b[0m \u001b[0mf\u001b[0m\u001b[0;34m(\u001b[0m\u001b[0;34m*\u001b[0m\u001b[0ma\u001b[0m\u001b[0;34m,\u001b[0m \u001b[0;34m**\u001b[0m\u001b[0mk\u001b[0m\u001b[0;34m)\u001b[0m\u001b[0;34m\u001b[0m\u001b[0;34m\u001b[0m\u001b[0m\n\u001b[0m\u001b[1;32m    188\u001b[0m \u001b[0;34m\u001b[0m\u001b[0m\n\u001b[1;32m    189\u001b[0m         \u001b[0;32mif\u001b[0m \u001b[0mcallable\u001b[0m\u001b[0;34m(\u001b[0m\u001b[0marg\u001b[0m\u001b[0;34m)\u001b[0m\u001b[0;34m:\u001b[0m\u001b[0;34m\u001b[0m\u001b[0;34m\u001b[0m\u001b[0m\n",
            "\u001b[0;32m/usr/local/lib/python3.10/dist-packages/IPython/core/magics/osm.py\u001b[0m in \u001b[0;36mwritefile\u001b[0;34m(self, line, cell)\u001b[0m\n\u001b[1;32m    854\u001b[0m \u001b[0;34m\u001b[0m\u001b[0m\n\u001b[1;32m    855\u001b[0m         \u001b[0mmode\u001b[0m \u001b[0;34m=\u001b[0m \u001b[0;34m'a'\u001b[0m \u001b[0;32mif\u001b[0m \u001b[0margs\u001b[0m\u001b[0;34m.\u001b[0m\u001b[0mappend\u001b[0m \u001b[0;32melse\u001b[0m \u001b[0;34m'w'\u001b[0m\u001b[0;34m\u001b[0m\u001b[0;34m\u001b[0m\u001b[0m\n\u001b[0;32m--> 856\u001b[0;31m         \u001b[0;32mwith\u001b[0m \u001b[0mio\u001b[0m\u001b[0;34m.\u001b[0m\u001b[0mopen\u001b[0m\u001b[0;34m(\u001b[0m\u001b[0mfilename\u001b[0m\u001b[0;34m,\u001b[0m \u001b[0mmode\u001b[0m\u001b[0;34m,\u001b[0m \u001b[0mencoding\u001b[0m\u001b[0;34m=\u001b[0m\u001b[0;34m'utf-8'\u001b[0m\u001b[0;34m)\u001b[0m \u001b[0;32mas\u001b[0m \u001b[0mf\u001b[0m\u001b[0;34m:\u001b[0m\u001b[0;34m\u001b[0m\u001b[0;34m\u001b[0m\u001b[0m\n\u001b[0m\u001b[1;32m    857\u001b[0m             \u001b[0mf\u001b[0m\u001b[0;34m.\u001b[0m\u001b[0mwrite\u001b[0m\u001b[0;34m(\u001b[0m\u001b[0mcell\u001b[0m\u001b[0;34m)\u001b[0m\u001b[0;34m\u001b[0m\u001b[0;34m\u001b[0m\u001b[0m\n",
            "\u001b[0;31mFileNotFoundError\u001b[0m: [Errno 2] No such file or directory: 'src/model/MaxFinder.java'"
          ]
        }
      ]
    },
    {
      "cell_type": "code",
      "source": [
        "%%writefile src/view/MaxView.java\n",
        "package view;\n",
        "\n",
        "/**\n",
        " * MaxView.java\n",
        " *\n",
        " * View class responsible for displaying the results.\n",
        " */\n",
        "public class MaxView {\n",
        "    /**\n",
        "     * Displays the result of the max computation.\n",
        "     *\n",
        "     * @param a   First integer\n",
        "     * @param b   Second integer\n",
        "     * @param max The maximum of a and b\n",
        "     */\n",
        "    public void displayResult(int a, int b, int max) {\n",
        "        System.out.println(\"The maximum of \" + a + \" and \" + b + \" is \" + max + \".\");\n",
        "    }\n",
        "}\n"
      ],
      "metadata": {
        "colab": {
          "base_uri": "https://localhost:8080/"
        },
        "id": "rUgqdz31WPWv",
        "outputId": "212c628a-2fdc-479f-a2b1-d56bc5ed11ba"
      },
      "execution_count": 11,
      "outputs": [
        {
          "output_type": "stream",
          "name": "stdout",
          "text": [
            "Writing src/view/MaxView.java\n"
          ]
        }
      ]
    },
    {
      "cell_type": "code",
      "source": [
        "%%writefile src/controller/MaxController.java\n",
        "package controller;\n",
        "\n",
        "import model.MaxFinder;\n",
        "import view.MaxView;\n",
        "\n",
        "/**\n",
        " * MaxController.java\n",
        " *\n",
        " * Controller class that coordinates between the Model and the View.\n",
        " */\n",
        "public class MaxController {\n",
        "    private MaxFinder model;\n",
        "    private MaxView view;\n",
        "\n",
        "    public MaxController(MaxFinder model, MaxView view) {\n",
        "        this.model = model;\n",
        "        this.view = view;\n",
        "    }\n",
        "\n",
        "    /**\n",
        "     * Runs the test cases and displays results.\n",
        "     */\n",
        "    public void runTests() {\n",
        "        MaxTestHarness testHarness = new MaxTestHarness(model, view);\n",
        "        testHarness.runAllTests();\n",
        "        testHarness.reportResults();\n",
        "    }\n",
        "}\n"
      ],
      "metadata": {
        "colab": {
          "base_uri": "https://localhost:8080/"
        },
        "id": "ln4xDc01WTHW",
        "outputId": "e15c59f4-9558-4d3d-8c2d-a711de2f80d9"
      },
      "execution_count": 12,
      "outputs": [
        {
          "output_type": "stream",
          "name": "stdout",
          "text": [
            "Writing src/controller/MaxController.java\n"
          ]
        }
      ]
    },
    {
      "cell_type": "code",
      "source": [
        "%%writefile src/controller/MaxTestHarness.java\n",
        "package controller;\n",
        "\n",
        "import model.MaxFinder;\n",
        "import view.MaxView;\n",
        "import java.util.ArrayList;\n",
        "import java.util.List;\n",
        "\n",
        "/**\n",
        " * MaxTestHarness.java\n",
        " *\n",
        " * Test harness for the MaxFinder class.\n",
        " * Ensures that all tests run even if some fail.\n",
        " * If a test fails, it also checks the test logic.\n",
        " */\n",
        "public class MaxTestHarness {\n",
        "    private MaxFinder model;\n",
        "    private MaxView view;\n",
        "    private List<TestResult> testResults;\n",
        "\n",
        "    public MaxTestHarness(MaxFinder model, MaxView view) {\n",
        "        this.model = model;\n",
        "        this.view = view;\n",
        "        this.testResults = new ArrayList<>();\n",
        "    }\n",
        "\n",
        "    /**\n",
        "     * Runs all the test cases.\n",
        "     */\n",
        "    public void runAllTests() {\n",
        "        testMax(5, 10);\n",
        "        testMax(-5, -10);\n",
        "        testMax(0, 0);\n",
        "        testMax(Integer.MAX_VALUE, Integer.MIN_VALUE);\n",
        "        testMax(-1, 1);\n",
        "        testMax(123456, 654321);\n",
        "        // Add more test cases as needed\n",
        "    }\n",
        "\n",
        "    /**\n",
        "     * Reports the results of the tests.\n",
        "     */\n",
        "    public void reportResults() {\n",
        "        int passed = 0;\n",
        "        for (TestResult result : testResults) {\n",
        "            if (result.passed) {\n",
        "                passed++;\n",
        "            } else {\n",
        "                System.out.println(\"Test Failed: \" + result.message);\n",
        "            }\n",
        "        }\n",
        "        System.out.println(passed + \" out of \" + testResults.size() + \" tests passed.\");\n",
        "    }\n",
        "\n",
        "    private void testMax(int a, int b) {\n",
        "        int expected = Math.max(a, b);\n",
        "        int actual = model.max(a, b);\n",
        "        boolean passed = expected == actual;\n",
        "        String message = \"max(\" + a + \", \" + b + \") = \" + actual + \", expected: \" + expected;\n",
        "\n",
        "        if (!passed) {\n",
        "            // Test the test logic\n",
        "            boolean testLogicValid = verifyTestLogic(a, b, expected);\n",
        "            if (!testLogicValid) {\n",
        "                message += \" [Test Logic Failure]\";\n",
        "            }\n",
        "        }\n",
        "        testResults.add(new TestResult(passed, message));\n",
        "\n",
        "        // Display the result using the View\n",
        "        view.displayResult(a, b, actual);\n",
        "    }\n",
        "\n",
        "    /**\n",
        "     * Verifies the test logic to ensure it's not the source of failure.\n",
        "     *\n",
        "     * @param a        First integer\n",
        "     * @param b        Second integer\n",
        "     * @param expected Expected result from the test\n",
        "     * @return True if the test logic is valid, false otherwise\n",
        "     */\n",
        "    private boolean verifyTestLogic(int a, int b, int expected) {\n",
        "        // Recompute the expected value using an alternative method\n",
        "        int alternativeExpected = (a + b + Math.abs(a - b)) / 2;\n",
        "        return expected == alternativeExpected;\n",
        "    }\n",
        "\n",
        "    /**\n",
        "     * Inner class to store test results.\n",
        "     */\n",
        "    private class TestResult {\n",
        "        boolean passed;\n",
        "        String message;\n",
        "\n",
        "        TestResult(boolean passed, String message) {\n",
        "            this.passed = passed;\n",
        "            this.message = message;\n",
        "        }\n",
        "    }\n",
        "}\n"
      ],
      "metadata": {
        "colab": {
          "base_uri": "https://localhost:8080/"
        },
        "id": "W-8T9lQfWV4c",
        "outputId": "2352b16f-b523-4568-ba3c-ca94f0a31fe2"
      },
      "execution_count": 13,
      "outputs": [
        {
          "output_type": "stream",
          "name": "stdout",
          "text": [
            "Writing src/controller/MaxTestHarness.java\n"
          ]
        }
      ]
    },
    {
      "cell_type": "code",
      "source": [
        "%%writefile src/MaxMain.java\n",
        "import model.MaxFinder;\n",
        "import view.MaxView;\n",
        "import controller.MaxController;\n",
        "\n",
        "/**\n",
        " * MaxMain.java\n",
        " *\n",
        " * Main class to run the application.\n",
        " */\n",
        "public class MaxMain {\n",
        "    public static void main(String[] args) {\n",
        "        MaxFinder model = new MaxFinder();\n",
        "        MaxView view = new MaxView();\n",
        "        MaxController controller = new MaxController(model, view);\n",
        "\n",
        "        controller.runTests();\n",
        "    }\n",
        "}\n"
      ],
      "metadata": {
        "colab": {
          "base_uri": "https://localhost:8080/"
        },
        "id": "KREncjyeWY5J",
        "outputId": "5ea25109-699e-46ba-a89d-1559de6ae761"
      },
      "execution_count": 14,
      "outputs": [
        {
          "output_type": "stream",
          "name": "stdout",
          "text": [
            "Writing src/MaxMain.java\n"
          ]
        }
      ]
    },
    {
      "cell_type": "code",
      "source": [
        "# Compile the Java code\n",
        "!javac -d bin -sourcepath src src/MaxMain.java\n"
      ],
      "metadata": {
        "colab": {
          "base_uri": "https://localhost:8080/"
        },
        "id": "A6w3alWHWbuq",
        "outputId": "d225c173-f8af-441e-8c5a-f8540a8f2ab7"
      },
      "execution_count": 8,
      "outputs": [
        {
          "output_type": "stream",
          "name": "stdout",
          "text": [
            "error: file not found: src/MaxMain.java\n",
            "Usage: javac <options> <source files>\n",
            "use --help for a list of possible options\n"
          ]
        }
      ]
    },
    {
      "cell_type": "code",
      "source": [
        "# Run the Java program\n",
        "!java -cp bin MaxMain\n"
      ],
      "metadata": {
        "colab": {
          "base_uri": "https://localhost:8080/"
        },
        "id": "LdQ5aaHOWfFv",
        "outputId": "879ddc0b-0f1c-4a37-e500-575dc4063ca9"
      },
      "execution_count": 7,
      "outputs": [
        {
          "output_type": "stream",
          "name": "stdout",
          "text": [
            "Error: Could not find or load main class MaxMain\n",
            "Caused by: java.lang.ClassNotFoundException: MaxMain\n"
          ]
        }
      ]
    },
    {
      "cell_type": "markdown",
      "source": [
        "##Elaboration:"
      ],
      "metadata": {
        "id": "5oTeurXJpip9"
      }
    },
    {
      "cell_type": "code",
      "source": [
        "!nvidia-smi\n"
      ],
      "metadata": {
        "id": "S-R25Zj3plcI",
        "colab": {
          "base_uri": "https://localhost:8080/"
        },
        "outputId": "502f24d5-aeb2-436a-d6ca-d60b06009460"
      },
      "execution_count": 1,
      "outputs": [
        {
          "output_type": "stream",
          "name": "stdout",
          "text": [
            "Wed Sep 25 09:05:35 2024       \n",
            "+---------------------------------------------------------------------------------------+\n",
            "| NVIDIA-SMI 535.104.05             Driver Version: 535.104.05   CUDA Version: 12.2     |\n",
            "|-----------------------------------------+----------------------+----------------------+\n",
            "| GPU  Name                 Persistence-M | Bus-Id        Disp.A | Volatile Uncorr. ECC |\n",
            "| Fan  Temp   Perf          Pwr:Usage/Cap |         Memory-Usage | GPU-Util  Compute M. |\n",
            "|                                         |                      |               MIG M. |\n",
            "|=========================================+======================+======================|\n",
            "|   0  Tesla T4                       Off | 00000000:00:04.0 Off |                    0 |\n",
            "| N/A   51C    P8              10W /  70W |      0MiB / 15360MiB |      0%      Default |\n",
            "|                                         |                      |                  N/A |\n",
            "+-----------------------------------------+----------------------+----------------------+\n",
            "                                                                                         \n",
            "+---------------------------------------------------------------------------------------+\n",
            "| Processes:                                                                            |\n",
            "|  GPU   GI   CI        PID   Type   Process name                            GPU Memory |\n",
            "|        ID   ID                                                             Usage      |\n",
            "|=======================================================================================|\n",
            "|  No running processes found                                                           |\n",
            "+---------------------------------------------------------------------------------------+\n"
          ]
        }
      ]
    },
    {
      "cell_type": "markdown",
      "source": [
        "##Post Mortem:"
      ],
      "metadata": {
        "id": "y9VGKmHUpmUW"
      }
    },
    {
      "cell_type": "code",
      "source": [
        "!nvcc --version\n"
      ],
      "metadata": {
        "id": "esl-5HoIpouP",
        "colab": {
          "base_uri": "https://localhost:8080/"
        },
        "outputId": "82ad990a-acd7-4586-eab1-1ad188513e9d"
      },
      "execution_count": 10,
      "outputs": [
        {
          "output_type": "stream",
          "name": "stdout",
          "text": [
            "nvcc: NVIDIA (R) Cuda compiler driver\n",
            "Copyright (c) 2005-2023 NVIDIA Corporation\n",
            "Built on Tue_Aug_15_22:02:13_PDT_2023\n",
            "Cuda compilation tools, release 12.2, V12.2.140\n",
            "Build cuda_12.2.r12.2/compiler.33191640_0\n"
          ]
        }
      ]
    },
    {
      "cell_type": "code",
      "source": [
        "# Step 2: Write the CUDA code to a file\n",
        "%%writefile MaxFinder.cu\n",
        "\n",
        "#include <iostream>\n",
        "#include <cuda_runtime.h>\n",
        "#include <climits> // For INT_MAX and INT_MIN\n",
        "\n",
        "// Device function to find max without branching\n",
        "__device__ int max_no_branch(int a, int b) {\n",
        "    // Compute difference\n",
        "    long c = (long)a - (long)b;\n",
        "    // Extract sign bit\n",
        "    int k = (int)((c >> 63) & 1);\n",
        "    // Compute max\n",
        "    return a - k * (int)c;\n",
        "}\n",
        "\n",
        "// Kernel function\n",
        "__global__ void maxKernel(int *a, int *b, int *result, int size) {\n",
        "    int idx = blockIdx.x * blockDim.x + threadIdx.x;\n",
        "    if (idx < size) {\n",
        "        result[idx] = max_no_branch(a[idx], b[idx]);\n",
        "    }\n",
        "}\n",
        "\n",
        "int main() {\n",
        "    const int size = 6;\n",
        "    int h_a[size] = {5, -5, 0, INT_MAX, -1, 123456};\n",
        "    int h_b[size] = {10, -10, 0, INT_MIN, 1, 654321};\n",
        "    int h_result[size];\n",
        "\n",
        "    int *d_a, *d_b, *d_result;\n",
        "    cudaMalloc((void**)&d_a, size * sizeof(int));\n",
        "    cudaMalloc((void**)&d_b, size * sizeof(int));\n",
        "    cudaMalloc((void**)&d_result, size * sizeof(int));\n",
        "\n",
        "    cudaMemcpy(d_a, h_a, size * sizeof(int), cudaMemcpyHostToDevice);\n",
        "    cudaMemcpy(d_b, h_b, size * sizeof(int), cudaMemcpyHostToDevice);\n",
        "\n",
        "    int threadsPerBlock = 256;\n",
        "    int blocksPerGrid = (size + threadsPerBlock - 1) / threadsPerBlock;\n",
        "\n",
        "    maxKernel<<<blocksPerGrid, threadsPerBlock>>>(d_a, d_b, d_result, size);\n",
        "    cudaDeviceSynchronize();\n",
        "\n",
        "    cudaMemcpy(h_result, d_result, size * sizeof(int), cudaMemcpyDeviceToHost);\n",
        "\n",
        "    for (int i = 0; i < size; ++i) {\n",
        "        std::cout << \"The maximum of \" << h_a[i] << \" and \" << h_b[i] << \" is \" << h_result[i] << \".\\n\";\n",
        "    }\n",
        "\n",
        "    cudaFree(d_a);\n",
        "    cudaFree(d_b);\n",
        "    cudaFree(d_result);\n",
        "\n",
        "    return 0;\n",
        "}\n"
      ],
      "metadata": {
        "colab": {
          "base_uri": "https://localhost:8080/"
        },
        "id": "EYH3wWgUcQah",
        "outputId": "f3a65b91-5fb6-494e-acf8-4d7c627a1860"
      },
      "execution_count": 4,
      "outputs": [
        {
          "output_type": "stream",
          "name": "stdout",
          "text": [
            "Writing MaxFinder.cu\n"
          ]
        }
      ]
    },
    {
      "cell_type": "code",
      "source": [
        "# Step 3: Compile the CUDA code\n",
        "!nvcc MaxFinder.cu -o MaxFinder\n"
      ],
      "metadata": {
        "id": "RVhXhn7acYDk"
      },
      "execution_count": 5,
      "outputs": []
    },
    {
      "cell_type": "code",
      "source": [
        "# Step 4: Run the compiled program\n",
        "!./MaxFinder\n"
      ],
      "metadata": {
        "colab": {
          "base_uri": "https://localhost:8080/"
        },
        "id": "7IERFNr1cbqT",
        "outputId": "0bfb3b04-10e9-4b70-c98c-85abbc54becb"
      },
      "execution_count": 22,
      "outputs": [
        {
          "output_type": "stream",
          "name": "stdout",
          "text": [
            "The maximum of 5 and 10 is 10.\n",
            "The maximum of -5 and -10 is -5.\n",
            "The maximum of 0 and 0 is 0.\n",
            "The maximum of 2147483647 and -2147483648 is 2147483647.\n",
            "The maximum of -1 and 1 is 1.\n",
            "The maximum of 123456 and 654321 is 654321.\n"
          ]
        }
      ]
    },
    {
      "cell_type": "code",
      "source": [
        "# Install OpenJDK 11\n",
        "!apt-get update -qq > /dev/null\n",
        "!apt-get install -y openjdk-11-jdk-headless -qq > /dev/null\n"
      ],
      "metadata": {
        "colab": {
          "base_uri": "https://localhost:8080/"
        },
        "id": "LyPdM9q5mEPW",
        "outputId": "7cdc30b4-9af2-470d-b317-56748d49dd24"
      },
      "execution_count": 11,
      "outputs": [
        {
          "output_type": "stream",
          "name": "stdout",
          "text": [
            "W: Skipping acquire of configured file 'main/source/Sources' as repository 'https://r2u.stat.illinois.edu/ubuntu jammy InRelease' does not seem to provide it (sources.list entry misspelt?)\n"
          ]
        }
      ]
    },
    {
      "cell_type": "code",
      "source": [
        "import os\n",
        "os.environ[\"JAVA_HOME\"] = \"/usr/lib/jvm/java-11-openjdk-amd64\"\n",
        "os.environ[\"PATH\"] += os.pathsep + os.path.join(os.environ[\"JAVA_HOME\"], \"bin\")\n"
      ],
      "metadata": {
        "id": "2AVKG8BCnNkk"
      },
      "execution_count": 12,
      "outputs": []
    },
    {
      "cell_type": "code",
      "source": [
        "!java -version\n"
      ],
      "metadata": {
        "colab": {
          "base_uri": "https://localhost:8080/"
        },
        "id": "fS70NodKnVlk",
        "outputId": "814b5dc0-cf8d-4e7f-d9de-8932cf4d0eeb"
      },
      "execution_count": 13,
      "outputs": [
        {
          "output_type": "stream",
          "name": "stdout",
          "text": [
            "openjdk version \"11.0.24\" 2024-07-16\n",
            "OpenJDK Runtime Environment (build 11.0.24+8-post-Ubuntu-1ubuntu322.04)\n",
            "OpenJDK 64-Bit Server VM (build 11.0.24+8-post-Ubuntu-1ubuntu322.04, mixed mode, sharing)\n"
          ]
        }
      ]
    },
    {
      "cell_type": "code",
      "source": [
        "!mkdir -p src/model src/view src/controller bin\n"
      ],
      "metadata": {
        "id": "rQK4c3q4nY9v"
      },
      "execution_count": 14,
      "outputs": []
    },
    {
      "cell_type": "code",
      "source": [
        "%%writefile src/model/MaxFinder.java\n",
        "package model;\n",
        "\n",
        "/**\n",
        " * MaxFinder.java\n",
        " *\n",
        " * Model class containing the logic to find the maximum of two integers\n",
        " * without using any if-else statements, branching, or direct comparisons.\n",
        " *\n",
        " * This implementation uses bit manipulation and arithmetic operations\n",
        " * to determine the maximum value. It handles integer overflows by\n",
        " * using long integers for intermediate calculations.\n",
        " */\n",
        "public class MaxFinder {\n",
        "    /**\n",
        "     * Finds the maximum of two integers without using if-else, branching, or direct comparisons.\n",
        "     *\n",
        "     * @param a First integer\n",
        "     * @param b Second integer\n",
        "     * @return The maximum of a and b\n",
        "     */\n",
        "    public int max(int a, int b) {\n",
        "        // Convert integers to long to prevent integer overflow\n",
        "        long c = (long) a - (long) b;\n",
        "        // Extract the sign bit: 1 if c < 0, 0 otherwise\n",
        "        int k = (int) ((c >> 63) & 1);\n",
        "        // Compute the maximum value based on the sign of c\n",
        "        return (int)(a - k * c);\n",
        "    }\n",
        "}\n"
      ],
      "metadata": {
        "colab": {
          "base_uri": "https://localhost:8080/"
        },
        "id": "ynQENc18nb9b",
        "outputId": "42ab5ae3-1105-45b6-9589-91925110ecba"
      },
      "execution_count": 15,
      "outputs": [
        {
          "output_type": "stream",
          "name": "stdout",
          "text": [
            "Writing src/model/MaxFinder.java\n"
          ]
        }
      ]
    },
    {
      "cell_type": "code",
      "source": [
        "%%writefile src/view/MaxView.java\n",
        "package view;\n",
        "\n",
        "/**\n",
        " * MaxView.java\n",
        " *\n",
        " * View class responsible for displaying the results.\n",
        " */\n",
        "public class MaxView {\n",
        "    /**\n",
        "     * Displays the result of the max computation.\n",
        "     *\n",
        "     * @param a   First integer\n",
        "     * @param b   Second integer\n",
        "     * @param max The maximum of a and b\n",
        "     */\n",
        "    public void displayResult(int a, int b, int max) {\n",
        "        System.out.println(\"The maximum of \" + a + \" and \" + b + \" is \" + max + \".\");\n",
        "    }\n",
        "}\n"
      ],
      "metadata": {
        "colab": {
          "base_uri": "https://localhost:8080/"
        },
        "id": "QCO39-rknfmM",
        "outputId": "cb0713c5-b773-432a-8c11-3a859be04de2"
      },
      "execution_count": 16,
      "outputs": [
        {
          "output_type": "stream",
          "name": "stdout",
          "text": [
            "Writing src/view/MaxView.java\n"
          ]
        }
      ]
    },
    {
      "cell_type": "code",
      "source": [
        "%%writefile src/controller/MaxTestHarness.java\n",
        "package controller;\n",
        "\n",
        "import model.MaxFinder;\n",
        "import view.MaxView;\n",
        "import java.util.ArrayList;\n",
        "import java.util.List;\n",
        "\n",
        "/**\n",
        " * MaxTestHarness.java\n",
        " *\n",
        " * Test harness for the MaxFinder class.\n",
        " * Ensures that all tests run even if some fail.\n",
        " * If a test fails, it also checks the test logic.\n",
        " */\n",
        "public class MaxTestHarness {\n",
        "    private MaxFinder model;\n",
        "    private MaxView view;\n",
        "    private List<TestResult> testResults;\n",
        "\n",
        "    public MaxTestHarness(MaxFinder model, MaxView view) {\n",
        "        this.model = model;\n",
        "        this.view = view;\n",
        "        this.testResults = new ArrayList<>();\n",
        "    }\n",
        "\n",
        "    /**\n",
        "     * Runs all the test cases.\n",
        "     */\n",
        "    public void runAllTests() {\n",
        "        testMax(5, 10);\n",
        "        testMax(-5, -10);\n",
        "        testMax(0, 0);\n",
        "        testMax(Integer.MAX_VALUE, Integer.MIN_VALUE);\n",
        "        testMax(-1, 1);\n",
        "        testMax(123456, 654321);\n",
        "        // Add more test cases as needed\n",
        "    }\n",
        "\n",
        "    /**\n",
        "     * Reports the results of the tests.\n",
        "     */\n",
        "    public void reportResults() {\n",
        "        int passed = 0;\n",
        "        for (TestResult result : testResults) {\n",
        "            if (result.passed) {\n",
        "                passed++;\n",
        "            } else {\n",
        "                System.out.println(\"Test Failed: \" + result.message);\n",
        "            }\n",
        "        }\n",
        "        System.out.println(passed + \" out of \" + testResults.size() + \" tests passed.\");\n",
        "    }\n",
        "\n",
        "    private void testMax(int a, int b) {\n",
        "        int expected = Math.max(a, b);\n",
        "        int actual = model.max(a, b);\n",
        "        boolean passed = expected == actual;\n",
        "        String message = \"max(\" + a + \", \" + b + \") = \" + actual + \", expected: \" + expected;\n",
        "\n",
        "        if (!passed) {\n",
        "            // Test the test logic\n",
        "            boolean testLogicValid = verifyTestLogic(a, b, expected);\n",
        "            if (!testLogicValid) {\n",
        "                message += \" [Test Logic Failure]\";\n",
        "            }\n",
        "        }\n",
        "        testResults.add(new TestResult(passed, message));\n",
        "\n",
        "        // Display the result using the View\n",
        "        view.displayResult(a, b, actual);\n",
        "    }\n",
        "\n",
        "    /**\n",
        "     * Verifies the test logic to ensure it's not the source of failure.\n",
        "     *\n",
        "     * @param a        First integer\n",
        "     * @param b        Second integer\n",
        "     * @param expected Expected result from the test\n",
        "     * @return True if the test logic is valid, false otherwise\n",
        "     */\n",
        "    private boolean verifyTestLogic(int a, int b, int expected) {\n",
        "        // Recompute the expected value using an alternative method\n",
        "        int alternativeExpected = (a + b + Math.abs(a - b)) / 2;\n",
        "        return expected == alternativeExpected;\n",
        "    }\n",
        "\n",
        "    /**\n",
        "     * Inner class to store test results.\n",
        "     */\n",
        "    private class TestResult {\n",
        "        boolean passed;\n",
        "        String message;\n",
        "\n",
        "        TestResult(boolean passed, String message) {\n",
        "            this.passed = passed;\n",
        "            this.message = message;\n",
        "        }\n",
        "    }\n",
        "}\n"
      ],
      "metadata": {
        "colab": {
          "base_uri": "https://localhost:8080/"
        },
        "id": "jjZn6hjtnicf",
        "outputId": "6a582c66-a902-4bae-c229-e42921f8ff81"
      },
      "execution_count": 17,
      "outputs": [
        {
          "output_type": "stream",
          "name": "stdout",
          "text": [
            "Writing src/controller/MaxTestHarness.java\n"
          ]
        }
      ]
    },
    {
      "cell_type": "code",
      "source": [
        "%%writefile src/controller/MaxController.java\n",
        "package controller;\n",
        "\n",
        "import model.MaxFinder;\n",
        "import view.MaxView;\n",
        "\n",
        "/**\n",
        " * MaxController.java\n",
        " *\n",
        " * Controller class that coordinates between the Model and the View.\n",
        " */\n",
        "public class MaxController {\n",
        "    private MaxFinder model;\n",
        "    private MaxView view;\n",
        "\n",
        "    public MaxController(MaxFinder model, MaxView view) {\n",
        "        this.model = model;\n",
        "        this.view = view;\n",
        "    }\n",
        "\n",
        "    /**\n",
        "     * Runs the test cases and displays results.\n",
        "     */\n",
        "    public void runTests() {\n",
        "        MaxTestHarness testHarness = new MaxTestHarness(model, view);\n",
        "        testHarness.runAllTests();\n",
        "        testHarness.reportResults();\n",
        "    }\n",
        "}\n"
      ],
      "metadata": {
        "colab": {
          "base_uri": "https://localhost:8080/"
        },
        "id": "ruTFHUwQnn4H",
        "outputId": "99108047-5abf-45b6-b8db-960a09b49437"
      },
      "execution_count": 18,
      "outputs": [
        {
          "output_type": "stream",
          "name": "stdout",
          "text": [
            "Writing src/controller/MaxController.java\n"
          ]
        }
      ]
    },
    {
      "cell_type": "code",
      "source": [
        "%%writefile src/MaxMain.java\n",
        "import model.MaxFinder;\n",
        "import view.MaxView;\n",
        "import controller.MaxController;\n",
        "\n",
        "/**\n",
        " * MaxMain.java\n",
        " *\n",
        " * Main class to run the application.\n",
        " */\n",
        "public class MaxMain {\n",
        "    public static void main(String[] args) {\n",
        "        MaxFinder model = new MaxFinder();\n",
        "        MaxView view = new MaxView();\n",
        "        MaxController controller = new MaxController(model, view);\n",
        "\n",
        "        controller.runTests();\n",
        "    }\n",
        "}\n"
      ],
      "metadata": {
        "colab": {
          "base_uri": "https://localhost:8080/"
        },
        "id": "CSt2Kza5nrI_",
        "outputId": "57c39bb7-56a5-49d5-dd1f-e480c2bff8fc"
      },
      "execution_count": 19,
      "outputs": [
        {
          "output_type": "stream",
          "name": "stdout",
          "text": [
            "Writing src/MaxMain.java\n"
          ]
        }
      ]
    },
    {
      "cell_type": "code",
      "source": [
        "!javac -d bin -sourcepath src src/MaxMain.java\n"
      ],
      "metadata": {
        "id": "-i7s0w7intff"
      },
      "execution_count": 20,
      "outputs": []
    },
    {
      "cell_type": "markdown",
      "source": [],
      "metadata": {
        "id": "wWEy0OnKnfbg"
      }
    },
    {
      "cell_type": "code",
      "source": [
        "!java -cp bin MaxMain\n"
      ],
      "metadata": {
        "colab": {
          "base_uri": "https://localhost:8080/"
        },
        "id": "5VmBjRq0nwpl",
        "outputId": "0bf523ef-7ef4-4a0b-9cc7-6a579fe8bae6"
      },
      "execution_count": 21,
      "outputs": [
        {
          "output_type": "stream",
          "name": "stdout",
          "text": [
            "The maximum of 5 and 10 is 10.\n",
            "The maximum of -5 and -10 is -5.\n",
            "The maximum of 0 and 0 is 0.\n",
            "The maximum of 2147483647 and -2147483648 is 2147483647.\n",
            "The maximum of -1 and 1 is 1.\n",
            "The maximum of 123456 and 654321 is 654321.\n",
            "6 out of 6 tests passed.\n"
          ]
        }
      ]
    },
    {
      "cell_type": "code",
      "source": [
        "# Check the runtime type (optional)\n",
        "import sys\n",
        "print(sys.version)\n",
        "# Check the runtime type (optional)\n",
        "import sys\n",
        "print(sys.version)\n"
      ],
      "metadata": {
        "colab": {
          "base_uri": "https://localhost:8080/"
        },
        "id": "ATCEsZ5sozrY",
        "outputId": "3be4cb52-efbd-43ca-f44c-c6f6a9ca0beb"
      },
      "execution_count": 23,
      "outputs": [
        {
          "output_type": "stream",
          "name": "stdout",
          "text": [
            "3.10.12 (main, Sep 11 2024, 15:47:36) [GCC 11.4.0]\n",
            "3.10.12 (main, Sep 11 2024, 15:47:36) [GCC 11.4.0]\n"
          ]
        }
      ]
    },
    {
      "cell_type": "code",
      "source": [
        "%%writefile MaxFinder.asm\n",
        "; MaxFinder.asm\n",
        ";\n",
        "; Assembly function to find the maximum of two integers without using\n",
        "; if-else statements, branching, or direct comparisons.\n",
        ";\n",
        "; This implementation uses arithmetic and bitwise operations to determine\n",
        "; the maximum value. It is designed to be called from a C program on 64-bit Linux.\n",
        "\n",
        "section .text\n",
        "    global max_no_branch\n",
        "\n",
        "; Function: int max_no_branch(int a, int b)\n",
        "; Arguments:\n",
        ";   a in RDI\n",
        ";   b in RSI\n",
        "; Returns:\n",
        ";   max(a, b) in RAX\n",
        "\n",
        "max_no_branch:\n",
        "    ; Convert inputs to 64-bit integers\n",
        "    movsxd  rdi, edi        ; Sign-extend 'a' to 64 bits\n",
        "    movsxd  rsi, esi        ; Sign-extend 'b' to 64 bits\n",
        "\n",
        "    ; Compute c = (long)a - (long)b\n",
        "    mov     rax, rdi        ; RAX = a\n",
        "    sub     rax, rsi        ; RAX = c = a - b\n",
        "\n",
        "    ; Extract sign bit k = (c >> 63) & 1\n",
        "    mov     rdx, rax        ; RDX = c\n",
        "    shr     rdx, 63         ; RDX = k\n",
        "\n",
        "    ; Compute k * c\n",
        "    imul    rdx, rax        ; RDX = k * c\n",
        "\n",
        "    ; Compute result = a - k * c\n",
        "    mov     rax, rdi        ; RAX = a\n",
        "    sub     rax, rdx        ; RAX = a - k * c\n",
        "\n",
        "    ret\n"
      ],
      "metadata": {
        "colab": {
          "base_uri": "https://localhost:8080/"
        },
        "id": "U0yxr1m5pF5-",
        "outputId": "005072eb-f424-4b72-b4b2-0486734105da"
      },
      "execution_count": 24,
      "outputs": [
        {
          "output_type": "stream",
          "name": "stdout",
          "text": [
            "Writing MaxFinder.asm\n"
          ]
        }
      ]
    },
    {
      "cell_type": "markdown",
      "source": [
        "Explanation:\n",
        "\n",
        "Registers Used:\n",
        "\n",
        "RDI: Holds the first argument a.\n",
        "RSI: Holds the second argument b.\n",
        "RAX: Used for calculations and holds the return value.\n",
        "RDX: Temporary register for calculations.\n",
        "Instructions:\n",
        "\n",
        "movsxd: Sign-extend a 32-bit integer to a 64-bit integer.\n",
        "mov, sub, shr, imul: Standard arithmetic and bitwise operations."
      ],
      "metadata": {
        "id": "6LScWKPupsUH"
      }
    },
    {
      "cell_type": "code",
      "source": [
        "%%writefile MaxMain.c\n",
        "/* MaxMain.c\n",
        "\n",
        "   Main C program to test the assembly function for finding the maximum\n",
        "   of two integers without using if-else statements, branching, or direct comparisons.\n",
        "*/\n",
        "\n",
        "#include <stdio.h>\n",
        "#include <limits.h>\n",
        "\n",
        "// Declaration of the assembly function\n",
        "int max_no_branch(int a, int b);\n",
        "\n",
        "int main() {\n",
        "    int test_cases[][2] = {\n",
        "        {5, 10},\n",
        "        {-5, -10},\n",
        "        {0, 0},\n",
        "        {INT_MAX, INT_MIN},\n",
        "        {-1, 1},\n",
        "        {123456, 654321}\n",
        "    };\n",
        "\n",
        "    int num_tests = sizeof(test_cases) / sizeof(test_cases[0]);\n",
        "\n",
        "    for (int i = 0; i < num_tests; ++i) {\n",
        "        int a = test_cases[i][0];\n",
        "        int b = test_cases[i][1];\n",
        "        int result = max_no_branch(a, b);\n",
        "        printf(\"The maximum of %d and %d is %d.\\n\", a, b, result);\n",
        "    }\n",
        "\n",
        "    return 0;\n",
        "}\n"
      ],
      "metadata": {
        "colab": {
          "base_uri": "https://localhost:8080/"
        },
        "id": "TPaOw_3ZpMjC",
        "outputId": "64a5e076-bf1f-4460-c704-6863ab141253"
      },
      "execution_count": 25,
      "outputs": [
        {
          "output_type": "stream",
          "name": "stdout",
          "text": [
            "Writing MaxMain.c\n"
          ]
        }
      ]
    },
    {
      "cell_type": "code",
      "source": [
        "!apt-get update -qq\n",
        "!apt-get install -qq nasm"
      ],
      "metadata": {
        "colab": {
          "base_uri": "https://localhost:8080/"
        },
        "id": "k_jOaJaRpY1P",
        "outputId": "cb5cc47f-8a98-4ee1-8a84-71a11429296b"
      },
      "execution_count": 27,
      "outputs": [
        {
          "output_type": "stream",
          "name": "stdout",
          "text": [
            "W: Skipping acquire of configured file 'main/source/Sources' as repository 'https://r2u.stat.illinois.edu/ubuntu jammy InRelease' does not seem to provide it (sources.list entry misspelt?)\n",
            "Selecting previously unselected package nasm.\n",
            "(Reading database ... 123605 files and directories currently installed.)\n",
            "Preparing to unpack .../nasm_2.15.05-1_amd64.deb ...\n",
            "Unpacking nasm (2.15.05-1) ...\n",
            "Setting up nasm (2.15.05-1) ...\n",
            "Processing triggers for man-db (2.10.2-1) ...\n"
          ]
        }
      ]
    },
    {
      "cell_type": "code",
      "source": [
        "!nasm -f elf64 MaxFinder.asm -o MaxFinder.o\n"
      ],
      "metadata": {
        "id": "e9NM2WXjpPVK"
      },
      "execution_count": 28,
      "outputs": []
    },
    {
      "cell_type": "code",
      "source": [
        "!gcc MaxMain.c MaxFinder.o -o MaxApp\n"
      ],
      "metadata": {
        "id": "DgUJgTnrpgmI"
      },
      "execution_count": 29,
      "outputs": []
    },
    {
      "cell_type": "code",
      "source": [
        "!./MaxApp\n"
      ],
      "metadata": {
        "colab": {
          "base_uri": "https://localhost:8080/"
        },
        "id": "DzO4Q5Jspjd-",
        "outputId": "03f7c81c-75b4-456c-dab7-b35b2c704e86"
      },
      "execution_count": 30,
      "outputs": [
        {
          "output_type": "stream",
          "name": "stdout",
          "text": [
            "The maximum of 5 and 10 is 10.\n",
            "The maximum of -5 and -10 is -5.\n",
            "The maximum of 0 and 0 is 0.\n",
            "The maximum of 2147483647 and -2147483648 is 2147483647.\n",
            "The maximum of -1 and 1 is 1.\n",
            "The maximum of 123456 and 654321 is 654321.\n"
          ]
        }
      ]
    },
    {
      "cell_type": "code",
      "source": [
        "%%writefile max_ptx.cu\n",
        "\n",
        "#include <stdio.h>\n",
        "#include <cuda_runtime.h>\n",
        "\n",
        "#define SIZE 6\n",
        "\n",
        "// Kernel function using PTX to compute max without branching\n",
        "__global__ void maxKernel(int *a, int *b, int *result) {\n",
        "    int idx = threadIdx.x + blockIdx.x * blockDim.x;\n",
        "    if (idx < SIZE) {\n",
        "        int val_a = a[idx];\n",
        "        int val_b = b[idx];\n",
        "        int max_val;\n",
        "\n",
        "        // Variables for PTX\n",
        "        int c, k;\n",
        "\n",
        "        // Compute c = a - b\n",
        "        asm volatile (\"sub.s32 %0, %1, %2;\" : \"=r\"(c) : \"r\"(val_a), \"r\"(val_b));\n",
        "\n",
        "        // Extract sign bit k = (c >> 31) & 1\n",
        "        asm volatile (\"shr.s32 %0, %1, 31;\" : \"=r\"(k) : \"r\"(c));\n",
        "        asm volatile (\"and.b32 %0, %1, 1;\" : \"+r\"(k) : \"r\"(k));\n",
        "\n",
        "        // Compute max = a - k * c\n",
        "        asm volatile (\"mul.lo.s32 %0, %1, %2;\" : \"+r\"(k) : \"r\"(k), \"r\"(c));\n",
        "        asm volatile (\"sub.s32 %0, %1, %2;\" : \"=r\"(max_val) : \"r\"(val_a), \"r\"(k));\n",
        "\n",
        "        // Store the result\n",
        "        result[idx] = max_val;\n",
        "    }\n",
        "}\n",
        "\n",
        "int main() {\n",
        "    int h_a[SIZE] = {5, -5, 0, INT_MAX, -1, 123456};\n",
        "    int h_b[SIZE] = {10, -10, 0, INT_MIN, 1, 654321};\n",
        "    int h_result[SIZE];\n",
        "\n",
        "    int *d_a, *d_b, *d_result;\n",
        "\n",
        "    // Allocate device memory\n",
        "    cudaMalloc((void**)&d_a, SIZE * sizeof(int));\n",
        "    cudaMalloc((void**)&d_b, SIZE * sizeof(int));\n",
        "    cudaMalloc((void**)&d_result, SIZE * sizeof(int));\n",
        "\n",
        "    // Copy data to device\n",
        "    cudaMemcpy(d_a, h_a, SIZE * sizeof(int), cudaMemcpyHostToDevice);\n",
        "    cudaMemcpy(d_b, h_b, SIZE * sizeof(int), cudaMemcpyHostToDevice);\n",
        "\n",
        "    // Launch kernel\n",
        "    int threadsPerBlock = 256;\n",
        "    int blocksPerGrid = (SIZE + threadsPerBlock - 1) / threadsPerBlock;\n",
        "    maxKernel<<<blocksPerGrid, threadsPerBlock>>>(d_a, d_b, d_result);\n",
        "    cudaDeviceSynchronize();\n",
        "\n",
        "    // Copy result back to host\n",
        "    cudaMemcpy(h_result, d_result, SIZE * sizeof(int), cudaMemcpyDeviceToHost);\n",
        "\n",
        "    // Display results\n",
        "    for (int i = 0; i < SIZE; ++i) {\n",
        "        printf(\"The maximum of %d and %d is %d.\\n\", h_a[i], h_b[i], h_result[i]);\n",
        "    }\n",
        "\n",
        "    // Free device memory\n",
        "    cudaFree(d_a);\n",
        "    cudaFree(d_b);\n",
        "    cudaFree(d_result);\n",
        "\n",
        "    return 0;\n",
        "}\n"
      ],
      "metadata": {
        "colab": {
          "base_uri": "https://localhost:8080/"
        },
        "id": "X4gi-4IYqQWV",
        "outputId": "16cecaf9-fc51-4b56-85b6-3c19a75470c6"
      },
      "execution_count": 31,
      "outputs": [
        {
          "output_type": "stream",
          "name": "stdout",
          "text": [
            "Writing max_ptx.cu\n"
          ]
        }
      ]
    },
    {
      "cell_type": "code",
      "source": [
        "!nvcc -o max_ptx max_ptx.cu\n"
      ],
      "metadata": {
        "id": "yBPsLyRJqX_o"
      },
      "execution_count": 32,
      "outputs": []
    },
    {
      "cell_type": "code",
      "source": [
        "!./max_ptx\n"
      ],
      "metadata": {
        "colab": {
          "base_uri": "https://localhost:8080/"
        },
        "id": "EYcEWFT8qbot",
        "outputId": "5701a5d2-5643-41a5-cfda-1ae1269f1bcc"
      },
      "execution_count": 33,
      "outputs": [
        {
          "output_type": "stream",
          "name": "stdout",
          "text": [
            "The maximum of 5 and 10 is 10.\n",
            "The maximum of -5 and -10 is -5.\n",
            "The maximum of 0 and 0 is 0.\n",
            "The maximum of 2147483647 and -2147483648 is -2147483648.\n",
            "The maximum of -1 and 1 is 1.\n",
            "The maximum of 123456 and 654321 is 654321.\n"
          ]
        }
      ]
    },
    {
      "cell_type": "markdown",
      "source": [
        "##Summary:"
      ],
      "metadata": {
        "id": "T97gbraepptl"
      }
    }
  ]
}