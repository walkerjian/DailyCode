{
  "nbformat": 4,
  "nbformat_minor": 0,
  "metadata": {
    "colab": {
      "provenance": [],
      "authorship_tag": "ABX9TyP1JjYnh9rB7UXGaASYUqK7",
      "include_colab_link": true
    },
    "kernelspec": {
      "name": "python3",
      "display_name": "Python 3"
    },
    "language_info": {
      "name": "python"
    }
  },
  "cells": [
    {
      "cell_type": "markdown",
      "metadata": {
        "id": "view-in-github",
        "colab_type": "text"
      },
      "source": [
        "<a href=\"https://colab.research.google.com/github/walkerjian/DailyCode/blob/main/Code_Craft_is_power_of_four.ipynb\" target=\"_parent\"><img src=\"https://colab.research.google.com/assets/colab-badge.svg\" alt=\"Open In Colab\"/></a>"
      ]
    },
    {
      "cell_type": "markdown",
      "source": [
        "##Problem:\n",
        "Given a 32-bit positive integer N, determine whether it is a power of four in faster than O(log N) time."
      ],
      "metadata": {
        "id": "gC_gDyHX_zwy"
      }
    },
    {
      "cell_type": "markdown",
      "source": [
        "To determine whether a 32-bit positive integer $ N $ is a power of four, you need a method that checks two key conditions:\n",
        "1. $ N $ is a power of two.\n",
        "2. $ N $ is not just any power of two, but specifically a power of four.\n",
        "\n",
        "### Checking if $ N $ is a power of two:\n",
        "A number is a power of two if it has exactly one bit set in its binary representation. You can check this using a bit manipulation trick:\n",
        "$ N \\& (N-1) = 0 $\n",
        "This condition is true for powers of two because subtracting one from a power of two flips all the bits after the rightmost set bit, and doing an AND operation with the original number results in zero.\n",
        "\n",
        "### Ensuring it's a power of four:\n",
        "A power of four not only has a single bit set but this bit must also appear in the positions corresponding to the powers of four, which are the even positions in binary terms (1, 4, 16, 64, etc.). These positions correspond to bits 0, 2, 4, 6, ... in zero-indexed bit positions. You can use a bitmask to check this:\n",
        "$ \\text{Mask for 32-bit integer} = 0x55555555 $\n",
        "This mask has bits set in positions 0, 2, 4, 6, 8, 10, 12, 14, 16, 18, 20, 22, 24, 26, 28, 30, which correspond to the 1-based positions of 1, 4, 16, 64, etc.\n",
        "\n",
        "Combining these conditions:\n",
        "$ \\text{isPowerOfFour}(N) = (N \\& (N-1) == 0) \\&\\& (N \\& 0x55555555) != 0 $\n",
        "\n",
        "### Code Example:\n",
        "Here is a simple function to check if a number is a power of four using the above logic.\n",
        "This method works in constant time, $ O(1) $, because it only performs a few bit operations, regardless of the size of $ N $. This is significantly faster than $ O(\\log N) $ time, which would involve repeatedly dividing the number by four until reaching one or a non-integer result."
      ],
      "metadata": {
        "id": "oI2uXVITAPWf"
      }
    },
    {
      "cell_type": "code",
      "execution_count": 2,
      "metadata": {
        "colab": {
          "base_uri": "https://localhost:8080/"
        },
        "id": "Oftu7fUb_xO4",
        "outputId": "d9cc0f4a-9ea5-49bf-8c44-3364050f96d4"
      },
      "outputs": [
        {
          "output_type": "stream",
          "name": "stdout",
          "text": [
            "16 is a power of four: True\n"
          ]
        }
      ],
      "source": [
        "def is_power_of_four(n):\n",
        "    return (n & (n - 1) == 0) and (n & 0x55555555 != 0)\n",
        "\n",
        "# Example usage\n",
        "N = 16\n",
        "result = is_power_of_four(N)\n",
        "print(f\"{N} is a power of four: {result}\")"
      ]
    }
  ]
}