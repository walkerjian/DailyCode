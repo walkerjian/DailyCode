{
  "nbformat": 4,
  "nbformat_minor": 0,
  "metadata": {
    "colab": {
      "provenance": [],
      "authorship_tag": "ABX9TyP4pPpHb/vKBak9s/LIkjXi",
      "include_colab_link": true
    },
    "kernelspec": {
      "name": "python3",
      "display_name": "Python 3"
    },
    "language_info": {
      "name": "python"
    }
  },
  "cells": [
    {
      "cell_type": "markdown",
      "metadata": {
        "id": "view-in-github",
        "colab_type": "text"
      },
      "source": [
        "<a href=\"https://colab.research.google.com/github/walkerjian/DailyCode/blob/main/CGT40_max_without_if_else.ipynb\" target=\"_parent\"><img src=\"https://colab.research.google.com/assets/colab-badge.svg\" alt=\"Open In Colab\"/></a>"
      ]
    },
    {
      "cell_type": "markdown",
      "source": [
        "Find the maximum of two numbers without using any if-else statements, branching, or direct comparisons."
      ],
      "metadata": {
        "id": "71SrncfnEKT8"
      }
    },
    {
      "cell_type": "markdown",
      "source": [
        "To find the maximum of two numbers without using any if-else statements, branching, or direct comparisons, you can use arithmetic operations and bitwise operations. Here’s one way to do it using the properties of numbers and bitwise operations:\n",
        "\n",
        "1. **Subtract b from a:** This gives a positive value if a is greater than b, and a negative value if b is greater than a.\n",
        "2. **Right shift the result by 31 bits:** This effectively gets the sign bit (1 if negative, 0 if positive).\n",
        "3. **Bitwise AND with the result of the subtraction:** This filters out the difference based on the sign bit.\n",
        "4. **Subtract this value from a:** If \\( a \\) is greater than \\( b \\), the subtraction will have no effect, and if \\( b \\) is greater than \\( a \\), the subtraction will cancel out the difference, resulting in \\( b \\).\n",
        "\n",
        "This method cleverly uses the properties of arithmetic and bitwise operations to determine the maximum without any conditional statements or direct comparisons."
      ],
      "metadata": {
        "id": "FmS3FrMSEP2d"
      }
    },
    {
      "cell_type": "code",
      "execution_count": 1,
      "metadata": {
        "colab": {
          "base_uri": "https://localhost:8080/"
        },
        "id": "uGtWnAqwED8O",
        "outputId": "c267e35d-2b2b-44c0-b9ec-90fba7428c16"
      },
      "outputs": [
        {
          "output_type": "stream",
          "name": "stdout",
          "text": [
            "5\n"
          ]
        }
      ],
      "source": [
        "def max_without_if_else(a, b):\n",
        "    return a - ((a - b) & ((a - b) >> 31))\n",
        "\n",
        "# Example usage\n",
        "a = 5\n",
        "b = 3\n",
        "print(max_without_if_else(a, b))  # Output: 5"
      ]
    }
  ]
}