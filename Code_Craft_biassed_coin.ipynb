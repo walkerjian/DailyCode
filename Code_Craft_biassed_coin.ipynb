{
  "nbformat": 4,
  "nbformat_minor": 0,
  "metadata": {
    "colab": {
      "provenance": [],
      "authorship_tag": "ABX9TyMzJHTyxmpmGj8GtNE+NFlG",
      "include_colab_link": true
    },
    "kernelspec": {
      "name": "python3",
      "display_name": "Python 3"
    },
    "language_info": {
      "name": "python"
    }
  },
  "cells": [
    {
      "cell_type": "markdown",
      "metadata": {
        "id": "view-in-github",
        "colab_type": "text"
      },
      "source": [
        "<a href=\"https://colab.research.google.com/github/walkerjian/DailyCode/blob/main/Code_Craft_biassed_coin.ipynb\" target=\"_parent\"><img src=\"https://colab.research.google.com/assets/colab-badge.svg\" alt=\"Open In Colab\"/></a>"
      ]
    },
    {
      "cell_type": "markdown",
      "source": [
        "##Problem:\n",
        "Assume you have access to a function toss_biased() which returns 0 or 1 with a probability that's not 50-50 (but also not 0-100 or 100-0). You do not know the bias of the coin.\n",
        "\n",
        "Write a function to simulate an unbiased coin toss.\n",
        "\n",
        "##Solution\n",
        "To simulate an unbiased coin toss using a biased `toss_biased()` function, we can employ a technique that cancels out the bias. The key idea is to use the biased function twice per simulation and consider only the cases where the two results are different.\n",
        "\n",
        "Here's how it works:\n",
        "\n",
        "1. Toss the biased coin twice.\n",
        "2. If the results are different (one is 0 and the other is 1), then take the first result as the outcome of the unbiased toss. This is because the probability of getting a 0 followed by a 1 is the same as the probability of getting a 1 followed by a 0, regardless of the bias.\n",
        "3. If the results are the same (both 0 or both 1), ignore them and repeat the process.\n",
        "\n",
        "The resulting function will have an equal probability of returning 0 or 1. Here is how you can implement this in Python:\n",
        "\n"
      ],
      "metadata": {
        "id": "D8HE-GbXOynr"
      }
    },
    {
      "cell_type": "code",
      "execution_count": 2,
      "metadata": {
        "colab": {
          "base_uri": "https://localhost:8080/"
        },
        "id": "TrAs4UbUOw-F",
        "outputId": "db0206a9-6639-4243-d7a3-d2035725c01c"
      },
      "outputs": [
        {
          "output_type": "execute_result",
          "data": {
            "text/plain": [
              "(5068, 4932)"
            ]
          },
          "metadata": {},
          "execution_count": 2
        }
      ],
      "source": [
        "import random\n",
        "\n",
        "def toss_biased():\n",
        "    \"\"\"\n",
        "    Simulates a biased coin toss.\n",
        "    Let's assume this biased coin has a 70% chance of landing on 1 (heads) and 30% chance of landing on 0 (tails).\n",
        "    \"\"\"\n",
        "    return 1 if random.random() < 0.7 else 0\n",
        "\n",
        "def simulate_unbiased_toss():\n",
        "    \"\"\"\n",
        "    Simulates an unbiased coin toss using the biased toss_biased function.\n",
        "    \"\"\"\n",
        "    while True:\n",
        "        toss1 = toss_biased()\n",
        "        toss2 = toss_biased()\n",
        "        if toss1 != toss2:\n",
        "            return toss1\n",
        "\n",
        "def test_unbiased_toss(iterations=10000):\n",
        "    \"\"\"\n",
        "    Tests the simulate_unbiased_toss function to check its fairness.\n",
        "    We run the function a specified number of times and record the frequency of 0s and 1s.\n",
        "    \"\"\"\n",
        "    count_0, count_1 = 0, 0\n",
        "    for _ in range(iterations):\n",
        "        result = simulate_unbiased_toss()\n",
        "        if result == 0:\n",
        "            count_0 += 1\n",
        "        else:\n",
        "            count_1 += 1\n",
        "    return count_0, count_1\n",
        "\n",
        "# Testing the unbiased toss simulation\n",
        "test_results = test_unbiased_toss()\n",
        "test_results\n",
        "\n"
      ]
    },
    {
      "cell_type": "markdown",
      "source": [
        "In this implementation, `simulate_unbiased_toss()` will keep calling `toss_biased()` until it gets two different results. When it does, it returns the first result, ensuring an unbiased 50-50 chance of getting either 0 or 1.\n",
        "\n",
        "##The Biased Coin:\n",
        "The probability theory behind simulating an unbiased coin toss using a biased coin involves a clever trick to cancel out the bias. Let's delve deeper into the theory:\n",
        "- Assume the biased coin has a probability `p` of landing heads (which we represent as 1) and a probability `1 - p` of landing tails (0).\n",
        "- The bias means that `p` is not 0.5, but it's also not 0 or 1.\n",
        "\n",
        "### The Approach\n",
        "We use the biased coin to generate pairs of tosses. The four possible outcomes of these two tosses are:\n",
        "\n",
        "1. Heads, Heads (1, 1)\n",
        "2. Heads, Tails (1, 0)\n",
        "3. Tails, Heads (0, 1)\n",
        "4. Tails, Tails (0, 0)\n",
        "\n",
        "The probabilities for each of these outcomes are:\n",
        "\n",
        "1. Probability of Heads, Heads: $ p \\times p = p^2 $\n",
        "2. Probability of Heads, Tails: $ p \\times (1 - p) $\n",
        "3. Probability of Tails, Heads: $ (1 - p) \\times p $\n",
        "4. Probability of Tails, Tails: $ (1 - p) \\times (1 - p) = (1 - p)^2 $\n",
        "\n",
        "### Canceling Out the Bias\n",
        "- Notice that the probabilities of getting Heads, Tails (1, 0) and Tails, Heads (0, 1) are both $ p \\times (1 - p) $. This is crucial.\n",
        "- Regardless of the value of $ p $ (as long as it's not 0 or 1), the probability of outcome 2 (Heads, Tails) is equal to the probability of outcome 3 (Tails, Heads).\n",
        "- Therefore, if we only consider these two outcomes and ignore cases where the two tosses are the same (Heads, Heads or Tails, Tails), we effectively have a 50-50 chance of each.\n",
        "\n",
        "### Implementation in the Algorithm\n",
        "- In the algorithm, when we toss the coin twice, we are only interested in the cases where the two results are different.\n",
        "- If the first toss (Heads/Tails) is different from the second toss (Tails/Heads), we use the result of the first toss.\n",
        "- By doing this, we are effectively selecting between two equally likely outcomes, ensuring an unbiased result.\n",
        "\n",
        "This approach works elegantly because it leverages the equal probabilities of the cross-over events (Heads followed by Tails and Tails followed by Heads) to negate the effect of the bias in the original coin."
      ],
      "metadata": {
        "id": "cq1ZK4SuPA1f"
      }
    },
    {
      "cell_type": "code",
      "source": [
        "import matplotlib.pyplot as plt\n",
        "\n",
        "def test_unbiased_toss_large(iterations=1000000):\n",
        "    \"\"\"\n",
        "    Tests the simulate_unbiased_toss function for a large number of iterations.\n",
        "    \"\"\"\n",
        "    results = [simulate_unbiased_toss() for _ in range(iterations)]\n",
        "    return results\n",
        "\n",
        "# Running a large number of trials\n",
        "large_test_results = test_unbiased_toss_large()\n",
        "\n",
        "# Creating a histogram\n",
        "plt.hist(large_test_results, bins=[0,1,2], edgecolor='black', align='mid')\n",
        "plt.xticks([0.5, 1.5], ['0', '1'])\n",
        "plt.title('Histogram of Unbiased Coin Toss Simulation')\n",
        "plt.xlabel('Toss Result')\n",
        "plt.ylabel('Frequency')\n",
        "plt.show()\n"
      ],
      "metadata": {
        "colab": {
          "base_uri": "https://localhost:8080/",
          "height": 472
        },
        "id": "W0cSWazKPhkO",
        "outputId": "550a54d0-891e-41ac-a662-e11031d49f0e"
      },
      "execution_count": 3,
      "outputs": [
        {
          "output_type": "display_data",
          "data": {
            "text/plain": [
              "<Figure size 640x480 with 1 Axes>"
            ],
            "image/png": "[encoded data removed]"
          },
          "metadata": {}
        }
      ]
    }
  ]
}