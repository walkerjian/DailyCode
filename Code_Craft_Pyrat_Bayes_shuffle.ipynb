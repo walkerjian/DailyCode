{
  "nbformat": 4,
  "nbformat_minor": 0,
  "metadata": {
    "colab": {
      "provenance": [],
      "authorship_tag": "ABX9TyNVTs9IZej0J3MeR+Psqcxi",
      "include_colab_link": true
    },
    "kernelspec": {
      "name": "python3",
      "display_name": "Python 3"
    },
    "language_info": {
      "name": "python"
    }
  },
  "cells": [
    {
      "cell_type": "markdown",
      "metadata": {
        "id": "view-in-github",
        "colab_type": "text"
      },
      "source": [
        "<a href=\"https://colab.research.google.com/github/walkerjian/DailyCode/blob/main/Code_Craft_Pyrat_Bayes_shuffle.ipynb\" target=\"_parent\"><img src=\"https://colab.research.google.com/assets/colab-badge.svg\" alt=\"Open In Colab\"/></a>"
      ]
    },
    {
      "cell_type": "markdown",
      "source": [
        "##Problem:\n",
        "Given a complete binary tree, count the number of nodes in faster than O(n) time. Recall that a complete binary tree has every level filled except the last, and the nodes in the last level are filled starting from the left."
      ],
      "metadata": {
        "id": "2lWyrXjB8EeD"
      }
    },
    {
      "cell_type": "markdown",
      "source": [
        "##Solution:\n",
        "The goal is to interleave the lists so that the preferred songs from each list appear earlier in the combined playlist, while also maintaining a fair representation of each user's preferences. We want to ensure that each user's top choices appear earlier in the playlist and that no user's preferences are entirely postponed until after another user's full list.\n"
      ],
      "metadata": {
        "id": "jIohycTB8Hjb"
      }
    },
    {
      "cell_type": "markdown",
      "source": [
        "##Implementation:\n",
        "Here's an algorithm that interleaves these lists, taking one song from each list in a round-robin fashion until all lists are exhausted. This way, we can ensure that we fairly represent each user's preferences in the combined list.\n",
        "\n",
        "1. Start with the first song of each list and add them to the playlist.\n",
        "2. Move to the next song in each list and add them to the playlist.\n",
        "3. Repeat this process until all songs from all lists are included in the playlist.\n",
        "\n",
        "\n"
      ],
      "metadata": {
        "id": "pkWuQrLB8K8H"
      }
    },
    {
      "cell_type": "code",
      "execution_count": 4,
      "metadata": {
        "id": "TIIt0l_k7Oi1"
      },
      "outputs": [],
      "source": [
        "from itertools import zip_longest\n",
        "\n",
        "# Input ranked lists of songs for various users\n",
        "lists = [[1, 7, 3], [2, 1, 6, 7, 9], [3, 9, 5]]\n",
        "\n",
        "# Interleave the lists to create a fair playlist\n",
        "def interleave_lists(lists):\n",
        "    interleaved = []\n",
        "    for group in zip_longest(*lists):\n",
        "        # Filter out 'None' values and extend the interleaved list\n",
        "        interleaved.extend(song for song in group if song is not None)\n",
        "    return interleaved"
      ]
    },
    {
      "cell_type": "markdown",
      "source": [
        "##Testing:\n",
        "The interleaved playlist, satisfying the priorities of each user while maintaining a fair representation of each user's preferences, is [1, 2, 3, 7, 1, 9, 3, 6, 5, 7, 9].\n"
      ],
      "metadata": {
        "id": "wcaruNyfYogT"
      }
    },
    {
      "cell_type": "code",
      "source": [
        "# Generate the playlist\n",
        "playlist = interleave_lists(lists)\n",
        "playlist"
      ],
      "metadata": {
        "id": "7arfxk2ORsA8",
        "colab": {
          "base_uri": "https://localhost:8080/"
        },
        "outputId": "1217300f-8610-44eb-d424-0424509b41f9"
      },
      "execution_count": 5,
      "outputs": [
        {
          "output_type": "execute_result",
          "data": {
            "text/plain": [
              "[1, 2, 3, 7, 1, 9, 3, 6, 5, 7, 9]"
            ]
          },
          "metadata": {},
          "execution_count": 5
        }
      ]
    },
    {
      "cell_type": "markdown",
      "source": [
        "##Pyrat Bayes:\n",
        "To shuffle the playlist in a Bayesian way, we'll interpret the problem as incorporating a form of randomness while still respecting the initial preferences indicated by the ranking of songs. In this context, a Bayesian shuffle could involve using the initial rankings as a \"prior\" and then introducing some randomness (or \"likelihood\") to shuffle the songs, but still give higher-ranked songs a better chance of appearing earlier in the playlist.\n",
        "\n",
        "How to implement a Bayesian shuffle:\n",
        "\n",
        "1. Assign each song a weight that inversely corresponds to its rank in the original lists. For example, a song ranked higher (closer to the beginning of the list) should have a higher weight.\n",
        "2. Use these weights to perform a weighted random selection of songs. This means songs that were higher ranked (and thus have a higher weight) are more likely to be selected earlier in the shuffled list.\n"
      ],
      "metadata": {
        "id": "CgAHJrlM72qC"
      }
    },
    {
      "cell_type": "code",
      "source": [
        "import random\n",
        "\n",
        "# Sample playlist from previous interaction\n",
        "playlist = [1, 2, 3, 7, 1, 9, 3, 6, 5, 7, 9]\n",
        "\n",
        "def bayesian_shuffle(playlist):\n",
        "    # Assign weights based on inverse of position in the playlist to implement the Bayesian approach\n",
        "    weights = [len(playlist) - i for i in range(len(playlist))]\n",
        "\n",
        "    # Perform weighted random selection of songs without replacement\n",
        "    shuffled_playlist = random.choices(playlist, weights=weights, k=len(playlist))\n",
        "\n",
        "    return shuffled_playlist\n",
        "\n",
        "bayesian_shuffled_playlist = bayesian_shuffle(playlist)\n",
        "bayesian_shuffled_playlist\n"
      ],
      "metadata": {
        "colab": {
          "base_uri": "https://localhost:8080/"
        },
        "id": "AxpId1iz8D4P",
        "outputId": "d56b92f1-f512-4cd5-8e77-25a35863c9a6"
      },
      "execution_count": 3,
      "outputs": [
        {
          "output_type": "execute_result",
          "data": {
            "text/plain": [
              "[3, 1, 1, 7, 2, 7, 1, 9, 6, 3, 5]"
            ]
          },
          "metadata": {},
          "execution_count": 3
        }
      ]
    },
    {
      "cell_type": "markdown",
      "source": [
        "\n",
        "The Bayesian shuffled playlist, where higher-ranked songs have a higher probability of appearing earlier in the list, is [1, 1, 3, 3, 1, 3, 1, 3, 9, 6, 1].\n",
        "\n",
        "In this shuffled version, you can see that songs that were ranked higher in the original lists (like song 1 and 3) appear more frequently towards the beginning, reflecting their higher initial preferences."
      ],
      "metadata": {
        "id": "4mezCnG88FOg"
      }
    }
  ]
}