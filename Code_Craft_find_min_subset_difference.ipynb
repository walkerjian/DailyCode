{
  "nbformat": 4,
  "nbformat_minor": 0,
  "metadata": {
    "colab": {
      "provenance": [],
      "authorship_tag": "ABX9TyM+ogk95Pt6fpx4mLz+cwPW",
      "include_colab_link": true
    },
    "kernelspec": {
      "name": "python3",
      "display_name": "Python 3"
    },
    "language_info": {
      "name": "python"
    }
  },
  "cells": [
    {
      "cell_type": "markdown",
      "metadata": {
        "id": "view-in-github",
        "colab_type": "text"
      },
      "source": [
        "<a href=\"https://colab.research.google.com/github/walkerjian/DailyCode/blob/main/Code_Craft_find_min_subset_difference.ipynb\" target=\"_parent\"><img src=\"https://colab.research.google.com/assets/colab-badge.svg\" alt=\"Open In Colab\"/></a>"
      ]
    },
    {
      "cell_type": "markdown",
      "source": [
        "##Problem:\n",
        "Given an array of positive integers, divide the array into two subsets such that the difference between the sum of the subsets is as small as possible.\n",
        "\n",
        "For example, given [5, 10, 15, 20, 25], return the sets {10, 25} and {5, 15, 20}, which has a difference of 5, which is the smallest possible difference."
      ],
      "metadata": {
        "id": "Hc8Rc5Qxs8BE"
      }
    },
    {
      "cell_type": "markdown",
      "source": [
        "##Solution:\n",
        "To solve this problem, we can use a dynamic programming approach similar to the one used for the 0/1 knapsack problem. The idea is to find two subsets whose sum difference is minimal. Here's how we can approach it:\n",
        "\n",
        "1. Calculate the total sum of the array. Let's call this `totalSum`.\n",
        "2. The problem then reduces to finding a subset whose sum is as close as possible to `totalSum / 2`. This is because the closer one subset is to half of the total sum, the smaller the difference will be between the two subsets.\n",
        "3. We use dynamic programming to find the maximum sum less than or equal to `totalSum / 2` that can be formed by some elements of the array.\n",
        "4. Once we find this sum, we can easily find the two subsets. One subset is the one that contributes to this sum, and the other subset is formed by the remaining elements.\n",
        "\n",
        "Let's implement this approach in Python. We will create a function `find_min_subset_difference` that takes an array of positive integers and returns the two subsets.\n",
        "\n"
      ],
      "metadata": {
        "id": "KHJifnQvs_9p"
      }
    },
    {
      "cell_type": "markdown",
      "source": [
        "##Implementation:"
      ],
      "metadata": {
        "id": "6keK4TcCtIzy"
      }
    },
    {
      "cell_type": "code",
      "execution_count": 1,
      "metadata": {
        "colab": {
          "base_uri": "https://localhost:8080/"
        },
        "id": "WRkyJNMZsr2O",
        "outputId": "d077ad98-da45-470f-cce0-09f3c6992d3a"
      },
      "outputs": [
        {
          "output_type": "execute_result",
          "data": {
            "text/plain": [
              "([20, 10, 5], [15, 25])"
            ]
          },
          "metadata": {},
          "execution_count": 1
        }
      ],
      "source": [
        "def find_min_subset_difference(arr):\n",
        "    total_sum = sum(arr)\n",
        "    n = len(arr)\n",
        "    # Initialize the DP table\n",
        "    dp = [[False for _ in range(total_sum // 2 + 1)] for _ in range(n + 1)]\n",
        "\n",
        "    # Base case: sum 0 is always possible\n",
        "    for i in range(n + 1):\n",
        "        dp[i][0] = True\n",
        "\n",
        "    # Fill the DP table\n",
        "    for i in range(1, n + 1):\n",
        "        for j in range(1, total_sum // 2 + 1):\n",
        "            if arr[i - 1] <= j:\n",
        "                dp[i][j] = dp[i - 1][j] or dp[i - 1][j - arr[i - 1]]\n",
        "            else:\n",
        "                dp[i][j] = dp[i - 1][j]\n",
        "\n",
        "    # Find the maximum sum less than or equal to total_sum // 2\n",
        "    for j in range(total_sum // 2, -1, -1):\n",
        "        if dp[n][j]:\n",
        "            subset_sum = j\n",
        "            break\n",
        "\n",
        "    # Find the elements of the subset\n",
        "    subset1 = []\n",
        "    i = n\n",
        "    while subset_sum > 0 and i > 0:\n",
        "        if dp[i - 1][subset_sum]:\n",
        "            i -= 1\n",
        "        else:\n",
        "            subset1.append(arr[i - 1])\n",
        "            subset_sum -= arr[i - 1]\n",
        "            i -= 1\n",
        "\n",
        "    # The remaining elements form the second subset\n",
        "    subset2 = [x for x in arr if x not in subset1]\n",
        "\n",
        "    return subset1, subset2\n",
        "\n",
        "# Test the function with the given example\n",
        "find_min_subset_difference([5, 10, 15, 20, 25])\n"
      ]
    },
    {
      "cell_type": "markdown",
      "source": [
        "The function `find_min_subset_difference` divides the given array `[5, 10, 15, 20, 25]` into two subsets: `{20, 10, 5}` and `{15, 25}`. The sum of the first subset is 35, and the sum of the second subset is 40, resulting in a difference of 5, which is the smallest possible difference for this array.\n",
        "\n",
        "This solution effectively utilizes dynamic programming to minimize the difference between the sums of two subsets of the given array of positive integers."
      ],
      "metadata": {
        "id": "j3-Kk9xLtG3T"
      }
    },
    {
      "cell_type": "code",
      "source": [
        "def find_all_min_difference_subsets(arr):\n",
        "    def backtrack_all_subsets(dp, arr, total, index, current_set, all_sets):\n",
        "        # Base case\n",
        "        if total == 0:\n",
        "            all_sets.append(current_set.copy())\n",
        "            return\n",
        "        if index == 0:\n",
        "            return\n",
        "\n",
        "        # If the current element is not included in the subset\n",
        "        if dp[index - 1][total]:\n",
        "            backtrack_all_subsets(dp, arr, total, index - 1, current_set, all_sets)\n",
        "\n",
        "        # If the current element is included in the subset\n",
        "        if total >= arr[index - 1] and dp[index - 1][total - arr[index - 1]]:\n",
        "            current_set.append(arr[index - 1])\n",
        "            backtrack_all_subsets(dp, arr, total - arr[index - 1], index - 1, current_set, all_sets)\n",
        "            current_set.pop()\n",
        "\n",
        "    total_sum = sum(arr)\n",
        "    n = len(arr)\n",
        "    half_sum = total_sum // 2\n",
        "\n",
        "    # Initialize the DP table\n",
        "    dp = [[False for _ in range(half_sum + 1)] for _ in range(n + 1)]\n",
        "    for i in range(n + 1):\n",
        "        dp[i][0] = True\n",
        "\n",
        "    # Fill the DP table\n",
        "    for i in range(1, n + 1):\n",
        "        for j in range(1, half_sum + 1):\n",
        "            dp[i][j] = dp[i - 1][j]\n",
        "            if j >= arr[i - 1]:\n",
        "                dp[i][j] = dp[i][j] or dp[i - 1][j - arr[i - 1]]\n",
        "\n",
        "    # Backtrack to find all subsets\n",
        "    all_subsets = []\n",
        "    backtrack_all_subsets(dp, arr, half_sum, n, [], all_subsets)\n",
        "\n",
        "    # Generate all equivalent subset pairs\n",
        "    all_pairs = []\n",
        "    for subset in all_subsets:\n",
        "        complement = arr.copy()\n",
        "        for item in subset:\n",
        "            complement.remove(item)\n",
        "        all_pairs.append((subset, complement))\n",
        "\n",
        "    return all_pairs\n",
        "\n",
        "# Test the function with the given example\n",
        "find_all_min_difference_subsets([5, 10, 15, 20, 25])\n"
      ],
      "metadata": {
        "colab": {
          "base_uri": "https://localhost:8080/"
        },
        "id": "M0oMJ_tAtHii",
        "outputId": "254c9a27-1b84-4769-bc24-8f0ad10b3a25"
      },
      "execution_count": 2,
      "outputs": [
        {
          "output_type": "execute_result",
          "data": {
            "text/plain": [
              "[]"
            ]
          },
          "metadata": {},
          "execution_count": 2
        }
      ]
    },
    {
      "cell_type": "code",
      "source": [
        "from itertools import combinations\n",
        "\n",
        "def find_all_min_difference_subsets_bruteforce(arr):\n",
        "    n = len(arr)\n",
        "    total_sum = sum(arr)\n",
        "    min_diff = float('inf')\n",
        "    all_pairs = []\n",
        "\n",
        "    # Generate all possible subsets\n",
        "    for r in range(1, n):\n",
        "        for subset in combinations(arr, r):\n",
        "            subset1 = set(subset)\n",
        "            subset2 = set(arr) - subset1\n",
        "            diff = abs(sum(subset1) - sum(subset2))\n",
        "            if diff < min_diff:\n",
        "                min_diff = diff\n",
        "                all_pairs = [(subset1, subset2)]\n",
        "            elif diff == min_diff:\n",
        "                all_pairs.append((subset1, subset2))\n",
        "\n",
        "    return all_pairs, min_diff\n",
        "\n",
        "# Test the function with the given example\n",
        "find_all_min_difference_subsets_bruteforce([5, 10, 15, 20, 25])\n"
      ],
      "metadata": {
        "colab": {
          "base_uri": "https://localhost:8080/"
        },
        "id": "fauIgK1guOPq",
        "outputId": "88e52cbe-83de-424f-fdd8-9694b203b6e9"
      },
      "execution_count": 3,
      "outputs": [
        {
          "output_type": "execute_result",
          "data": {
            "text/plain": [
              "([({10, 25}, {5, 15, 20}),\n",
              "  ({15, 20}, {5, 10, 25}),\n",
              "  ({15, 25}, {5, 10, 20}),\n",
              "  ({5, 10, 20}, {15, 25}),\n",
              "  ({5, 10, 25}, {15, 20}),\n",
              "  ({5, 15, 20}, {10, 25})],\n",
              " 5)"
            ]
          },
          "metadata": {},
          "execution_count": 3
        }
      ]
    },
    {
      "cell_type": "code",
      "source": [
        "import matplotlib.pyplot as plt\n",
        "import numpy as np\n",
        "\n",
        "# Model parameters\n",
        "k = 1e-6  # Assuming a very small processing time per subset for illustration\n",
        "n_values = np.arange(1, 21)  # Array sizes from 1 to 20\n",
        "\n",
        "# Calculate runtime for each array size\n",
        "runtime = k * (2 ** n_values)\n",
        "\n",
        "# Plotting\n",
        "plt.figure(figsize=(10, 6))\n",
        "plt.plot(n_values, runtime, marker='o')\n",
        "plt.yscale('log')  # Log scale to better visualize exponential growth\n",
        "plt.xlabel('Array Size (n)')\n",
        "plt.ylabel('Predicted Runtime (seconds, log scale)')\n",
        "plt.title('Predicted Runtime of Brute-Force Subset Difference Method')\n",
        "plt.grid(True)\n",
        "plt.show()\n"
      ],
      "metadata": {
        "colab": {
          "base_uri": "https://localhost:8080/",
          "height": 564
        },
        "id": "JZ-q11MGxwm4",
        "outputId": "921d5382-735d-4143-f801-df08941b2a43"
      },
      "execution_count": 4,
      "outputs": [
        {
          "output_type": "display_data",
          "data": {
            "text/plain": [
              "<Figure size 1000x600 with 1 Axes>"
            ],
            "image/png": "[encoded data removed]"
          },
          "metadata": {}
        }
      ]
    },
    {
      "cell_type": "code",
      "source": [
        "def test_brute_force_solution():\n",
        "    test_cases = [\n",
        "        ([1, 2, 3, 4], 0),  # Example with small numbers\n",
        "        ([5, 5, 6, 6], 0),  # Example with duplicate numbers\n",
        "        ([1, 6, 11, 5], 1), # Example with non-trivial minimal difference\n",
        "        ([3, 1, 4, 2, 2], 0), # Another non-trivial example\n",
        "        ([10, 20, 15, 5, 25], 5), # Similar to the original example, different order\n",
        "        ([7, 8, 8, 7], 0)   # Example with even sum and equal elements\n",
        "    ]\n",
        "\n",
        "    for i, (arr, expected_diff) in enumerate(test_cases):\n",
        "        subsets, min_diff = find_all_min_difference_subsets_bruteforce(arr)\n",
        "        if min_diff != expected_diff:\n",
        "            print(f\"Test Case {i+1} Failed: Array = {arr}, Expected Diff = {expected_diff}, Obtained Diff = {min_diff}\")\n",
        "        else:\n",
        "            print(f\"Test Case {i+1} Passed: Array = {arr}, Min Diff = {min_diff}\")\n",
        "\n",
        "# Run the test harness\n",
        "test_brute_force_solution()\n"
      ],
      "metadata": {
        "colab": {
          "base_uri": "https://localhost:8080/"
        },
        "id": "qeYO6_QexxOs",
        "outputId": "aff1e114-0063-46cd-b51e-2507c24af9e1"
      },
      "execution_count": 5,
      "outputs": [
        {
          "output_type": "stream",
          "name": "stdout",
          "text": [
            "Test Case 1 Passed: Array = [1, 2, 3, 4], Min Diff = 0\n",
            "Test Case 2 Failed: Array = [5, 5, 6, 6], Expected Diff = 0, Obtained Diff = 1\n",
            "Test Case 3 Passed: Array = [1, 6, 11, 5], Min Diff = 1\n",
            "Test Case 4 Passed: Array = [3, 1, 4, 2, 2], Min Diff = 0\n",
            "Test Case 5 Passed: Array = [10, 20, 15, 5, 25], Min Diff = 5\n",
            "Test Case 6 Failed: Array = [7, 8, 8, 7], Expected Diff = 0, Obtained Diff = 1\n"
          ]
        }
      ]
    },
    {
      "cell_type": "code",
      "source": [
        "import random\n",
        "\n",
        "# Generate a test array of significant size\n",
        "test_array_size = 20\n",
        "number_range = (1, 50)\n",
        "test_array = [random.randint(number_range[0], number_range[1]) for _ in range(test_array_size)]\n",
        "\n",
        "test_array\n"
      ],
      "metadata": {
        "colab": {
          "base_uri": "https://localhost:8080/"
        },
        "id": "DHvCM8mLyilf",
        "outputId": "df9982d6-f174-4f71-988b-3c35674f9ed5"
      },
      "execution_count": 6,
      "outputs": [
        {
          "output_type": "execute_result",
          "data": {
            "text/plain": [
              "[1, 48, 5, 38, 17, 12, 25, 16, 33, 37, 2, 3, 21, 18, 28, 12, 12, 37, 7, 4]"
            ]
          },
          "metadata": {},
          "execution_count": 6
        }
      ]
    },
    {
      "cell_type": "code",
      "source": [
        "find_min_subset_difference([1, 48, 5, 38, 17, 12, 25, 16, 33, 37, 2, 3, 21, 18, 28, 12, 12, 37, 7, 4])\n"
      ],
      "metadata": {
        "colab": {
          "base_uri": "https://localhost:8080/"
        },
        "id": "Gn8tj9Lwzxtk",
        "outputId": "bd266ae4-ed9e-4d37-816c-768ff38fcc3f"
      },
      "execution_count": 9,
      "outputs": [
        {
          "output_type": "execute_result",
          "data": {
            "text/plain": [
              "([37, 33, 16, 25, 12, 17, 48], [1, 5, 38, 2, 3, 21, 18, 28, 7, 4])"
            ]
          },
          "metadata": {},
          "execution_count": 9
        }
      ]
    },
    {
      "cell_type": "code",
      "source": [
        "find_min_subset_difference([5,10,15,20,25,30,35,40,45,50,55,60,65,70,75,80])"
      ],
      "metadata": {
        "colab": {
          "base_uri": "https://localhost:8080/"
        },
        "id": "39lhO0Ri0bTd",
        "outputId": "0400f1a4-8f8a-4af2-ffe9-242dd7c3eee5"
      },
      "execution_count": 10,
      "outputs": [
        {
          "output_type": "execute_result",
          "data": {
            "text/plain": [
              "([60, 55, 45, 40, 35, 30, 25, 20, 15, 10, 5], [50, 65, 70, 75, 80])"
            ]
          },
          "metadata": {},
          "execution_count": 10
        }
      ]
    },
    {
      "cell_type": "code",
      "source": [],
      "metadata": {
        "id": "hKS_IBS30nft"
      },
      "execution_count": null,
      "outputs": []
    }
  ]
}