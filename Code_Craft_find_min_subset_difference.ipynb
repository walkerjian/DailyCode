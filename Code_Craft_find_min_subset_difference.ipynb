{
  "nbformat": 4,
  "nbformat_minor": 0,
  "metadata": {
    "colab": {
      "provenance": [],
      "authorship_tag": "ABX9TyOgrKtdrroNltgXTBZtvZNn",
      "include_colab_link": true
    },
    "kernelspec": {
      "name": "python3",
      "display_name": "Python 3"
    },
    "language_info": {
      "name": "python"
    }
  },
  "cells": [
    {
      "cell_type": "markdown",
      "metadata": {
        "id": "view-in-github",
        "colab_type": "text"
      },
      "source": [
        "<a href=\"https://colab.research.google.com/github/walkerjian/DailyCode/blob/main/Code_Craft_find_min_subset_difference.ipynb\" target=\"_parent\"><img src=\"https://colab.research.google.com/assets/colab-badge.svg\" alt=\"Open In Colab\"/></a>"
      ]
    },
    {
      "cell_type": "markdown",
      "source": [
        "##Problem:\n",
        "Given an array of positive integers, divide the array into two subsets such that the difference between the sum of the subsets is as small as possible.\n",
        "For example, given [5, 10, 15, 20, 25], return the sets {10, 25} and {5, 15, 20}, which has a difference of 5, which is the smallest possible difference."
      ],
      "metadata": {
        "id": "2lWyrXjB8EeD"
      }
    },
    {
      "cell_type": "markdown",
      "source": [
        "##Solution:\n",
        "This problem can be solved using dynamic programming, which is similar to the approach used for the 0/1 knapsack problem. The goal is to find a subset of the array whose sum is as close as possible to half of the total sum of the array. If we can find such a subset, the remaining elements will form the other subset, and the difference between the sums of these two subsets will be minimized.\n"
      ],
      "metadata": {
        "id": "jIohycTB8Hjb"
      }
    },
    {
      "cell_type": "markdown",
      "source": [
        "##Implementation:\n",
        "Let's proceed with the implementation to solve this problem.\n",
        "\n",
        "The function has divided the array `[5, 10, 15, 20, 25]` into two subsets: `{20, 10, 5}` and `{15, 25}`. The sum of the elements in the first subset is 35, and the sum of the elements in the second subset is 40. The difference between these sums is 5, which is the smallest possible difference.\n",
        "\n",
        "This solution effectively minimizes the difference between the sums of the two subsets.\n",
        "\n"
      ],
      "metadata": {
        "id": "pkWuQrLB8K8H"
      }
    },
    {
      "cell_type": "code",
      "execution_count": 1,
      "metadata": {
        "id": "TIIt0l_k7Oi1",
        "colab": {
          "base_uri": "https://localhost:8080/"
        },
        "outputId": "eb26b182-9526-4b34-f263-c2660c8dc625"
      },
      "outputs": [
        {
          "output_type": "execute_result",
          "data": {
            "text/plain": [
              "([20, 10, 5], [15, 25])"
            ]
          },
          "metadata": {},
          "execution_count": 1
        }
      ],
      "source": [
        "def find_min_subset_difference(arr):\n",
        "    total_sum = sum(arr)\n",
        "    n = len(arr)\n",
        "    target = total_sum // 2\n",
        "\n",
        "    # Initialize the DP table\n",
        "    dp = [[False] * (target + 1) for _ in range(n + 1)]\n",
        "\n",
        "    # Base case: It's always possible to form a sum of 0\n",
        "    for i in range(n + 1):\n",
        "        dp[i][0] = True\n",
        "\n",
        "    # Build the table in bottom-up manner\n",
        "    for i in range(1, n + 1):\n",
        "        for j in range(1, target + 1):\n",
        "            if arr[i-1] <= j:\n",
        "                dp[i][j] = dp[i-1][j] or dp[i-1][j-arr[i-1]]\n",
        "            else:\n",
        "                dp[i][j] = dp[i-1][j]\n",
        "\n",
        "    # Find the maximum value of j such that dp[n][j]\n",
        "    # is true where j loops from target to 0\n",
        "    for j in range(target, -1, -1):\n",
        "        if dp[n][j]:\n",
        "            subset1_sum = j\n",
        "            break\n",
        "\n",
        "    subset1 = []\n",
        "    subset2 = []\n",
        "\n",
        "    # Using the DP table to find the elements of subset1\n",
        "    i = n\n",
        "    while i > 0 and subset1_sum > 0:\n",
        "        if not dp[i-1][subset1_sum]:\n",
        "            subset1.append(arr[i-1])\n",
        "            subset1_sum -= arr[i-1]\n",
        "        i -= 1\n",
        "\n",
        "    # The remaining elements will form subset2\n",
        "    subset2 = [item for item in arr if item not in subset1]\n",
        "\n",
        "    return subset1, subset2\n",
        "\n",
        "# Test with the example array\n",
        "find_min_subset_difference([5, 10, 15, 20, 25])\n"
      ]
    },
    {
      "cell_type": "markdown",
      "source": [
        "##Testing:\n"
      ],
      "metadata": {
        "id": "wcaruNyfYogT"
      }
    }
  ]
}