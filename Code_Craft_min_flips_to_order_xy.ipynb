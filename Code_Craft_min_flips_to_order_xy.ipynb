{
  "nbformat": 4,
  "nbformat_minor": 0,
  "metadata": {
    "colab": {
      "provenance": [],
      "authorship_tag": "ABX9TyNaK55BrYbUKcEhr/FDWKj9",
      "include_colab_link": true
    },
    "kernelspec": {
      "name": "python3",
      "display_name": "Python 3"
    },
    "language_info": {
      "name": "python"
    }
  },
  "cells": [
    {
      "cell_type": "markdown",
      "metadata": {
        "id": "view-in-github",
        "colab_type": "text"
      },
      "source": [
        "<a href=\"https://colab.research.google.com/github/walkerjian/DailyCode/blob/main/Code_Craft_min_flips_to_order_xy.ipynb\" target=\"_parent\"><img src=\"https://colab.research.google.com/assets/colab-badge.svg\" alt=\"Open In Colab\"/></a>"
      ]
    },
    {
      "cell_type": "markdown",
      "source": [
        "##Problem:\n",
        "You are given a string consisting of the letters x and y, such as xyxxxyxyy. In addition, you have an operation called flip, which changes a single x to y or vice versa.\n",
        "\n",
        "Determine how many times you would need to apply this operation to ensure that all x's come before all y's. In the preceding example, it suffices to flip the second and sixth characters, so you should return 2."
      ],
      "metadata": {
        "id": "PQnkSA-SJBFs"
      }
    },
    {
      "cell_type": "markdown",
      "source": [
        "##Solution:\n",
        "To solve this problem, we can follow these steps:\n",
        "\n",
        "1. Initialize two variables, `flips` and `y_count`. `flips` will store the total number of flips required, and `y_count` will keep track of the number of 'y's encountered so far.\n",
        "2. Iterate through each character in the string:\n",
        "   - If the character is 'y', increment `y_count` by 1.\n",
        "   - If the character is 'x', increment `flips` by `y_count`. This is because, to move this 'x' before all 'y's seen so far, we would need to flip it once for each 'y'.\n",
        "3. Return the value of `flips`.\n",
        "\n",
        "Let's implement this in Python.\n",
        "\n",
        "The number of flips required to ensure all 'x's come before all 'y's in the string \"xyxxxyxyy\" is 5. This result is obtained by counting each 'x' that appears after a 'y' in the string and summing up these occurrences."
      ],
      "metadata": {
        "id": "NOOnkrOGJE4Y"
      }
    },
    {
      "cell_type": "code",
      "execution_count": 3,
      "metadata": {
        "colab": {
          "base_uri": "https://localhost:8080/"
        },
        "id": "Id5yVCnnI_qo",
        "outputId": "ec2a553a-44e6-422e-e40d-b371cc9facc2"
      },
      "outputs": [
        {
          "output_type": "execute_result",
          "data": {
            "text/plain": [
              "330"
            ]
          },
          "metadata": {},
          "execution_count": 3
        }
      ],
      "source": [
        "def min_flips_to_order_xy(s):\n",
        "    flips = 0\n",
        "    y_count = 0\n",
        "\n",
        "    for char in s:\n",
        "        if char == 'y':\n",
        "            y_count += 1\n",
        "        elif char == 'x':\n",
        "            flips += y_count\n",
        "\n",
        "    return flips\n",
        "\n",
        "# Test another example\n",
        "test_string = \"xyxxxyxyyxyxxxyxyyxyxxxyxyyxyxxxyxyyxyxxxyxyyxyxxxyxyy\"\n",
        "min_flips_to_order_xy(test_string)"
      ]
    }
  ]
}