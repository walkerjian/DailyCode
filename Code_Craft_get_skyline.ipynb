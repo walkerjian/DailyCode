{
  "nbformat": 4,
  "nbformat_minor": 0,
  "metadata": {
    "colab": {
      "provenance": [],
      "authorship_tag": "ABX9TyMpbimZhLA7ZfrJ/BgWZuVm",
      "include_colab_link": true
    },
    "kernelspec": {
      "name": "python3",
      "display_name": "Python 3"
    },
    "language_info": {
      "name": "python"
    }
  },
  "cells": [
    {
      "cell_type": "markdown",
      "metadata": {
        "id": "view-in-github",
        "colab_type": "text"
      },
      "source": [
        "<a href=\"https://colab.research.google.com/github/walkerjian/DailyCode/blob/main/Code_Craft_get_skyline.ipynb\" target=\"_parent\"><img src=\"https://colab.research.google.com/assets/colab-badge.svg\" alt=\"Open In Colab\"/></a>"
      ]
    },
    {
      "cell_type": "markdown",
      "source": [
        "##Problem:\n",
        "The skyline of a city is composed of several buildings of various widths and heights, possibly overlapping one another when viewed from a distance. We can represent the buildings using an array of (left, right, height) tuples, which tell us where on an imaginary x-axis a building begins and ends, and how tall it is. The skyline itself can be described by a list of (x, height) tuples, giving the locations at which the height visible to a distant observer changes, and each new height.\n",
        "\n",
        "Given an array of buildings as described above, create a function that returns the skyline.\n",
        "\n",
        "For example, suppose the input consists of the buildings [(0, 15, 3), (4, 11, 5), (19, 23, 4)]. In aggregate, these buildings would create a skyline that looks like the one below.\n",
        "\n",
        "````\n",
        "     ______  \n",
        "    |      |        ___\n",
        " ___|      |___    |   |\n",
        "|   |   B  |   |   | C |\n",
        "| A |      | A |   |   |\n",
        "|   |      |   |   |   |\n",
        "------------------------\n",
        "````\n",
        "\n",
        "As a result, your function should return [(0, 3), (4, 5), (11, 3), (15, 0), (19, 4), (23, 0)]"
      ],
      "metadata": {
        "id": "p2hu2VGJUEgU"
      }
    },
    {
      "cell_type": "markdown",
      "source": [
        "##Solution:\n",
        "To solve this problem, we can follow a multi-step approach:\n",
        "\n",
        "1. **Split and Transform Building Tuples:** Break down each building's tuple `(left, right, height)` into two events: one for the start of the building and one for the end. For the start, we can use `(left, -height)` to signify an increase in height at `left`, and for the end, we use `(right, height)` to signify a decrease in height at `right`. The negative height for the start helps us recognize that it's a starting edge.\n",
        "\n",
        "2. **Sort Events:** Sort all the events (both starting and ending points for all buildings) based on their x-coordinate. In case of a tie, sort by height. This way, we process starts of buildings before ends if they are at the same x-coordinate.\n",
        "\n",
        "3. **Process Events to Create Skyline:** We'll process each event in sorted order. For starting points, add the height to a data structure that allows us to know the current highest building at any point. For ending points, remove the building height. Whenever there's a change in the highest building, it becomes a part of the skyline.\n",
        "\n",
        "4. **Output the Skyline:** Each time we find a change in the highest building height, we output the x-coordinate of the change along with the new height.\n",
        "\n",
        "For the data structure to keep track of the current highest building, a max-heap is suitable because it allows us to efficiently find and remove the maximum element.\n",
        "\n",
        "##Implementation:\n",
        "Let's implement this in Python."
      ],
      "metadata": {
        "id": "VpYnvQTqUO8q"
      }
    },
    {
      "cell_type": "code",
      "execution_count": 1,
      "metadata": {
        "colab": {
          "base_uri": "https://localhost:8080/"
        },
        "id": "NJl_lZVOUDyV",
        "outputId": "13b96865-d68c-4731-c990-5f580f9fa00c"
      },
      "outputs": [
        {
          "output_type": "execute_result",
          "data": {
            "text/plain": [
              "[(0, 3), (4, 5), (11, 3), (15, 0), (19, 4), (23, 0)]"
            ]
          },
          "metadata": {},
          "execution_count": 1
        }
      ],
      "source": [
        "import heapq\n",
        "\n",
        "def get_skyline(buildings):\n",
        "    # Step 1: Transform buildings into a list of events\n",
        "    events = []\n",
        "    for l, r, h in buildings:\n",
        "        events.append((l, -h))  # Starting point\n",
        "        events.append((r, h))   # Ending point\n",
        "\n",
        "    # Step 2: Sort the events\n",
        "    events.sort()\n",
        "\n",
        "    # Step 3: Process events to create the skyline\n",
        "    skyline = []\n",
        "    heap = [0]  # Max heap to store heights\n",
        "    prev_max_height = 0\n",
        "\n",
        "    for x, h in events:\n",
        "        if h < 0:  # Start of a building\n",
        "            heapq.heappush(heap, h)\n",
        "        else:  # End of a building\n",
        "            heap.remove(-h)\n",
        "            heapq.heapify(heap)\n",
        "\n",
        "        current_max_height = -heap[0]\n",
        "        if current_max_height != prev_max_height:\n",
        "            skyline.append((x, current_max_height))\n",
        "            prev_max_height = current_max_height\n",
        "\n",
        "    return skyline\n",
        "\n",
        "# Test with the provided example\n",
        "buildings = [(0, 15, 3), (4, 11, 5), (19, 23, 4)]\n",
        "get_skyline(buildings)\n"
      ]
    },
    {
      "cell_type": "markdown",
      "source": [
        "The function `get_skyline` successfully computed the skyline for the given set of buildings. For the input `[(0, 15, 3), (4, 11, 5), (19, 23, 4)]`, it returned `[(0, 3), (4, 5), (11, 3), (15, 0), (19, 4), (23, 0)]`. This result represents the changes in the visible height of the skyline at different x-coordinates, which is exactly what we were aiming to achieve."
      ],
      "metadata": {
        "id": "n2EtVnXwUb1h"
      }
    },
    {
      "cell_type": "code",
      "source": [
        "def draw_skyline_ascii_with_O(skyline):\n",
        "    # Determine the maximum height and width for the ASCII art\n",
        "    max_height = max([height for _, height in skyline])\n",
        "    max_width = skyline[-1][0] if skyline else 0\n",
        "\n",
        "    # Initialize the grid with spaces\n",
        "    grid = [[' ' for _ in range(max_width + 1)] for _ in range(max_height)]\n",
        "\n",
        "    # Fill in the grid with 'O' to represent the skyline\n",
        "    for i in range(len(skyline) - 1):\n",
        "        x1, h1 = skyline[i]\n",
        "        x2, h2 = skyline[i + 1]\n",
        "\n",
        "        for x in range(x1, x2):\n",
        "            for y in range(h1):\n",
        "                grid[max_height - y - 1][x] = 'O'\n",
        "\n",
        "    # Convert the grid to a string for display\n",
        "    return '\\n'.join(''.join(row) for row in grid)\n",
        "\n",
        "# Test the ASCII art function with 'O' for the example skyline\n",
        "ascii_skyline_with_O = draw_skyline_ascii_with_O([(0, 3), (4, 5), (11, 3), (15, 0), (19, 4), (23, 0)])\n",
        "print(ascii_skyline_with_O)\n"
      ],
      "metadata": {
        "colab": {
          "base_uri": "https://localhost:8080/"
        },
        "id": "sQS5b7fcWif1",
        "outputId": "c2e870f8-77ce-48f2-9064-ce07050d41ca"
      },
      "execution_count": 2,
      "outputs": [
        {
          "output_type": "stream",
          "name": "stdout",
          "text": [
            "    OOOOOOO             \n",
            "    OOOOOOO        OOOO \n",
            "OOOOOOOOOOOOOOO    OOOO \n",
            "OOOOOOOOOOOOOOO    OOOO \n",
            "OOOOOOOOOOOOOOO    OOOO \n"
          ]
        }
      ]
    }
  ]
}