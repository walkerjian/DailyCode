{
  "nbformat": 4,
  "nbformat_minor": 0,
  "metadata": {
    "colab": {
      "provenance": [],
      "authorship_tag": "ABX9TyNfH3QuekUkZliuSLRr/Ov/",
      "include_colab_link": true
    },
    "kernelspec": {
      "name": "python3",
      "display_name": "Python 3"
    },
    "language_info": {
      "name": "python"
    }
  },
  "cells": [
    {
      "cell_type": "markdown",
      "metadata": {
        "id": "view-in-github",
        "colab_type": "text"
      },
      "source": [
        "<a href=\"https://colab.research.google.com/github/walkerjian/DailyCode/blob/main/Code_Craft_find_denominations.ipynb\" target=\"_parent\"><img src=\"https://colab.research.google.com/assets/colab-badge.svg\" alt=\"Open In Colab\"/></a>"
      ]
    },
    {
      "cell_type": "markdown",
      "source": [
        "#Problem:\n",
        "You are given an array of length N, where each element i represents the number of ways we can produce i units of change. For example, [1, 0, 1, 1, 2] would indicate that there is only one way to make 0, 2, or 3 units, and two ways of making 4 units.\n",
        "\n",
        "Given such an array, determine the denominations that must be in use. In the case above, for example, there must be coins with value 2, 3, and 4."
      ],
      "metadata": {
        "id": "tH7CkhIN6Ovd"
      }
    },
    {
      "cell_type": "markdown",
      "source": [
        "##Solution:\n",
        "To determine the denominations that must be in use based on an array where each element $ i $ represents the number of ways we can produce $ i $ units of change, we can follow a deductive approach:\n",
        "\n",
        "1. **Starting Point**: Start with the understanding that you can make 0 units of change in exactly one way, i.e., by using no coins at all.\n",
        "\n",
        "2. **Identify Non-zero Entries**: For every non-zero entry at index $ i $ in the array, if the number of ways to produce $ i $ units of change is greater than what could be achieved with the already identified denominations, then $ i $ itself must be a denomination. This is because the only way a new number of ways to make $ i $ units of change can appear is if there's a new coin of denomination $ i $.\n",
        "\n",
        "3. **Deduction Method**: As you identify a denomination, update the count of ways to make each amount of change by considering this new denomination. This involves a dynamic programming-like approach where for each new denomination $ d $ found, you update the array from index $ d $ to $ N $ by adding the ways to make $ i-d $ units to the count at index $ i $."
      ],
      "metadata": {
        "id": "itQ9Rbxe6Twn"
      }
    },
    {
      "cell_type": "markdown",
      "source": [
        "##Implementation:\n",
        "Here’s how you can implement this in Python:\n",
        "\n",
        "\n",
        "\n",
        "### Explanation of the Code\n",
        "- `ways`: Array where `ways[i]` is the number of ways to make `i` units of change.\n",
        "- `denominations`: List to store identified coin denominations.\n",
        "- `calculated_ways`: Tracks the number of ways to make each amount of change, dynamically updated as new denominations are found.\n"
      ],
      "metadata": {
        "id": "Cb3P4iVt6W-J"
      }
    },
    {
      "cell_type": "code",
      "source": [
        "def find_denominations(ways):\n",
        "    # The length of the array ways gives us the maximum amount of change + 1 (since index 0 is for 0 units of change).\n",
        "    n = len(ways)\n",
        "    # Initially assume no denominations are known.\n",
        "    denominations = []\n",
        "    # This will hold the calculated number of ways to make each amount of change.\n",
        "    calculated_ways = [0] * n\n",
        "    calculated_ways[0] = 1  # There's exactly one way to make 0 units: use no coins.\n",
        "\n",
        "    # Go through each amount of change possible from 1 to n-1.\n",
        "    for i in range(1, n):\n",
        "        # If the actual number of ways to make `i` units (ways[i])\n",
        "        # is greater than the calculated ways (calculated_ways[i]),\n",
        "        # then `i` must be a denomination of some coin.\n",
        "        if ways[i] > calculated_ways[i]:\n",
        "            denominations.append(i)\n",
        "            # Update the calculated_ways array to include ways to make change\n",
        "            # using this new denomination `i`.\n",
        "            for j in range(i, n):\n",
        "                calculated_ways[j] += calculated_ways[j - i]\n",
        "\n",
        "    return denominations"
      ],
      "metadata": {
        "id": "lve1Yewi6N4N"
      },
      "execution_count": 4,
      "outputs": []
    },
    {
      "cell_type": "markdown",
      "source": [
        "##Testing:\n",
        "Given the input `[1, 0, 1, 1, 2]`, the function identifies denominations `2`, `3`, and `4`. This matches the example provided, confirming the method's correctness."
      ],
      "metadata": {
        "id": "rmascGp76a_Q"
      }
    },
    {
      "cell_type": "code",
      "execution_count": 5,
      "metadata": {
        "id": "kVX9PbNY6M7_",
        "colab": {
          "base_uri": "https://localhost:8080/"
        },
        "outputId": "bdd0bcba-13a6-44a7-fbce-36c2b689786a"
      },
      "outputs": [
        {
          "output_type": "stream",
          "name": "stdout",
          "text": [
            "[2, 3, 4]\n"
          ]
        }
      ],
      "source": [
        "ways_array = [1, 0, 1, 1, 2]\n",
        "print(find_denominations(ways_array))"
      ]
    }
  ]
}