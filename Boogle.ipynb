{
  "nbformat": 4,
  "nbformat_minor": 0,
  "metadata": {
    "colab": {
      "provenance": [],
      "authorship_tag": "ABX9TyPHQZi/wFLG8yv1orL+PUeM",
      "include_colab_link": true
    },
    "kernelspec": {
      "name": "python3",
      "display_name": "Python 3"
    },
    "language_info": {
      "name": "python"
    }
  },
  "cells": [
    {
      "cell_type": "markdown",
      "metadata": {
        "id": "view-in-github",
        "colab_type": "text"
      },
      "source": [
        "<a href=\"https://colab.research.google.com/github/walkerjian/DailyCode/blob/main/Boogle.ipynb\" target=\"_parent\"><img src=\"https://colab.research.google.com/assets/colab-badge.svg\" alt=\"Open In Colab\"/></a>"
      ]
    },
    {
      "cell_type": "code",
      "execution_count": 1,
      "metadata": {
        "colab": {
          "base_uri": "https://localhost:8080/"
        },
        "id": "v947Z42nkgma",
        "outputId": "2fcc8aa9-a254-4015-cf4d-a5c8a73db6bf"
      },
      "outputs": [
        {
          "output_type": "stream",
          "name": "stdout",
          "text": [
            "All tests passed!\n"
          ]
        }
      ],
      "source": [
        "class Boggle:\n",
        "    \"\"\"\n",
        "    Boggle is a game played on a 4x4 grid of letters.\n",
        "    The goal is to find as many words as possible that can be formed by a sequence of adjacent letters in the grid,\n",
        "    using each cell at most once. Given a game board and a dictionary of valid words, implement a Boggle solver.\n",
        "\n",
        "    This class represents a Boggle game.\n",
        "    \"\"\"\n",
        "\n",
        "    def __init__(self, board, dictionary):\n",
        "        \"\"\"\n",
        "        Constructor method to initialize a Boggle game.\n",
        "        :param board: 2D list of characters representing the Boggle board.\n",
        "        :param dictionary: Set of valid words.\n",
        "        \"\"\"\n",
        "        self.board = board\n",
        "        self.dictionary = dictionary\n",
        "        self.words_found = set()\n",
        "\n",
        "    def is_word(self, word):\n",
        "        \"\"\"\n",
        "        Check if a word is valid (i.e., in the dictionary).\n",
        "        :param word: Word to check.\n",
        "        :return: Boolean indicating whether the word is valid.\n",
        "        \"\"\"\n",
        "        return word in self.dictionary\n",
        "\n",
        "    def find_words(self):\n",
        "        \"\"\"\n",
        "        Find all valid words in the Boggle board.\n",
        "        :return: Set of all valid words found.\n",
        "        \"\"\"\n",
        "        for i in range(4):\n",
        "            for j in range(4):\n",
        "                self.dfs(i, j, \"\", set())\n",
        "        return self.words_found\n",
        "\n",
        "    def dfs(self, i, j, prefix, visited):\n",
        "        \"\"\"\n",
        "        Use depth-first search (DFS) to find all words starting at a specific cell.\n",
        "        :param i: Row index of the cell.\n",
        "        :param j: Column index of the cell.\n",
        "        :param prefix: Current word prefix.\n",
        "        :param visited: Set of visited cells.\n",
        "        \"\"\"\n",
        "        if (i, j) in visited:\n",
        "            return\n",
        "        prefix += self.board[i][j]\n",
        "        if self.is_word(prefix):\n",
        "            self.words_found.add(prefix)\n",
        "        visited.add((i, j))\n",
        "        for di in [-1, 0, 1]:\n",
        "            for dj in [-1, 0, 1]:\n",
        "                if 0 <= i + di < 4 and 0 <= j + dj < 4:\n",
        "                    self.dfs(i + di, j + dj, prefix, visited.copy())\n",
        "        visited.remove((i, j))\n",
        "\n",
        "\n",
        "def test_boggle():\n",
        "    \"\"\"\n",
        "    Test the Boggle game solver.\n",
        "    \"\"\"\n",
        "    # Define the Boggle board and the dictionary.\n",
        "    board = [\n",
        "        ['a', 'b', 'c', 'd'],\n",
        "        ['e', 'f', 'g', 'h'],\n",
        "        ['i', 'j', 'k', 'l'],\n",
        "        ['m', 'n', 'o', 'p']\n",
        "    ]\n",
        "    dictionary = {\"ab\", \"abc\", \"abcf\", \"abcfi\", \"mnop\"}\n",
        "\n",
        "    # Create a Boggle game and find all valid words.\n",
        "    boggle = Boggle(board, dictionary)\n",
        "    words_found = boggle.find_words()\n",
        "\n",
        "    # Check the results.\n",
        "    assert words_found == {\"ab\", \"abc\", \"abcf\", \"abcfi\", \"mnop\"}, f\"Unexpected words found: {words_found}\"\n",
        "    print(\"All tests passed!\")\n",
        "\n",
        "\n",
        "if __name__ == \"__main__\":\n",
        "    test_boggle()\n"
      ]
    }
  ]
}