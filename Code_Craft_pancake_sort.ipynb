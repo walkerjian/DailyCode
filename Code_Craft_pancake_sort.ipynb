{
  "nbformat": 4,
  "nbformat_minor": 0,
  "metadata": {
    "colab": {
      "provenance": [],
      "authorship_tag": "ABX9TyNerWOj1fjB66S1Q3laQ7ay",
      "include_colab_link": true
    },
    "kernelspec": {
      "name": "python3",
      "display_name": "Python 3"
    },
    "language_info": {
      "name": "python"
    }
  },
  "cells": [
    {
      "cell_type": "markdown",
      "metadata": {
        "id": "view-in-github",
        "colab_type": "text"
      },
      "source": [
        "<a href=\"https://colab.research.google.com/github/walkerjian/DailyCode/blob/main/Code_Craft_pancake_sort.ipynb\" target=\"_parent\"><img src=\"https://colab.research.google.com/assets/colab-badge.svg\" alt=\"Open In Colab\"/></a>"
      ]
    },
    {
      "cell_type": "markdown",
      "source": [
        "##Problem:\n",
        "Given a list, sort it using this method: reverse(lst, i, j), which reverses lst from i to j."
      ],
      "metadata": {
        "id": "Evn5fUQSRuji"
      }
    },
    {
      "cell_type": "markdown",
      "source": [
        "##Solution:\n",
        "To sort a list using only the `reverse(lst, i, j)` operation, where `lst` is the list to be sorted, and `i` and `j` are the indices between which the list should be reversed, we can implement a sorting algorithm that relies solely on reversals to achieve a sorted list. This task can be approached by adapting the concept of Pancake Sorting, which essentially uses a series of flips (or reversals) to sort an array.\n",
        "\n",
        "The Pancake Sorting algorithm involves the following steps:\n",
        "1. Find the maximum element in the list.\n",
        "2. Use `reverse(lst, 0, max_index)` to bring the maximum element to the front (if it's not already at the front).\n",
        "3. Then, use `reverse(lst, 0, n-1)` to move the maximum element to its correct position at the end of the list.\n",
        "4. Repeat the process for the sublist that excludes the last element, which is now in its correct position, until the whole list is sorted.\n"
      ],
      "metadata": {
        "id": "-XblpbdGRyba"
      }
    },
    {
      "cell_type": "markdown",
      "source": [
        "##Implementation:\n",
        "Here's how you could implement this algorithm in Python:\n"
      ],
      "metadata": {
        "id": "1yMAFYOTR48k"
      }
    },
    {
      "cell_type": "code",
      "execution_count": 1,
      "metadata": {
        "colab": {
          "base_uri": "https://localhost:8080/"
        },
        "id": "Tv9UFE5VRsgh",
        "outputId": "f1068393-1324-4d11-bd3e-da29f007b6b6"
      },
      "outputs": [
        {
          "output_type": "stream",
          "name": "stdout",
          "text": [
            "Sorted list: [1, 2, 3, 4, 5]\n"
          ]
        }
      ],
      "source": [
        "def reverse(lst, i, j):\n",
        "    \"\"\"Reverses the sublist from index i to j inclusive.\"\"\"\n",
        "    while i < j:\n",
        "        lst[i], lst[j] = lst[j], lst[i]\n",
        "        i += 1\n",
        "        j -= 1\n",
        "\n",
        "def pancake_sort(lst):\n",
        "    n = len(lst)\n",
        "    for size in range(n, 1, -1):\n",
        "        # Find the index of the maximum element in the list up to the current size\n",
        "        max_index = lst.index(max(lst[:size]))\n",
        "\n",
        "        # Bring the maximum element to the front, if it's not already there\n",
        "        if max_index != 0:\n",
        "            reverse(lst, 0, max_index)\n",
        "\n",
        "        # Move the maximum element to its correct position\n",
        "        reverse(lst, 0, size - 1)\n",
        "\n",
        "    return lst\n",
        "\n",
        "# Example usage\n",
        "lst = [3, 2, 4, 1, 5]\n",
        "sorted_lst = pancake_sort(lst)\n",
        "print(\"Sorted list:\", sorted_lst)\n"
      ]
    },
    {
      "cell_type": "markdown",
      "source": [
        "This code defines the `reverse` function as specified and implements the Pancake Sorting algorithm in the `pancake_sort` function. It finds the maximum element, brings it to the front using a reverse operation, and then moves it to its correct position at the end of the sublist being considered. This process repeats, excluding the last element each time, until the entire list is sorted."
      ],
      "metadata": {
        "id": "MojXyNSxR-EJ"
      }
    },
    {
      "cell_type": "markdown",
      "source": [
        "##APL:\n"
      ],
      "metadata": {
        "id": "1HZpYL1ggOHv"
      }
    },
    {
      "cell_type": "code",
      "source": [
        "```APL\n",
        "⍝ Hypothetical APL function to \"sort\" an array using segment reversals\n",
        "⍝ Note: This is a conceptual illustration, not an efficient or typical APL solution\n",
        "\n",
        "SortByReversing ← {\n",
        "    ⍝ Assume 'arr' is the array to be sorted\n",
        "    arr ← ⍵\n",
        "    n ← ⍴arr\n",
        "    ⍝ Iterate through array looking for out-of-order segments to reverse\n",
        "    ⍝ This is a placeholder loop; actual APL code would avoid explicit looping\n",
        "    ⍝ and instead use vectorized operations or built-in sorting functions\n",
        "    ⍝ Reverse identified segments (conceptual, not actual APL syntax)\n",
        "    arr\n",
        "}\n",
        "\n",
        "⍝ Example of reversing a segment (for illustration)\n",
        "⍝ Reverse elements from index i to j in array 'arr'\n",
        "i ← 2 ⋄ j ← 5 ⋄ arr ← 1 2 5 4 3 6 7\n",
        "arr[(i-1)↓⍳(j-i+1)] ← ⌽ arr[(i-1)↓⍳(j-i+1)]\n",
        "arr\n",
        "```"
      ],
      "metadata": {
        "id": "IQAqJYwIgFsg"
      },
      "execution_count": null,
      "outputs": []
    }
  ]
}