{
  "nbformat": 4,
  "nbformat_minor": 0,
  "metadata": {
    "colab": {
      "provenance": [],
      "authorship_tag": "ABX9TyNcsM1CbRDkt6UUNFSt0i+v",
      "include_colab_link": true
    },
    "kernelspec": {
      "name": "python3",
      "display_name": "Python 3"
    },
    "language_info": {
      "name": "python"
    }
  },
  "cells": [
    {
      "cell_type": "markdown",
      "metadata": {
        "id": "view-in-github",
        "colab_type": "text"
      },
      "source": [
        "<a href=\"https://colab.research.google.com/github/walkerjian/DailyCode/blob/main/Code_Craft_arbiTreeRee.ipynb\" target=\"_parent\"><img src=\"https://colab.research.google.com/assets/colab-badge.svg\" alt=\"Open In Colab\"/></a>"
      ]
    },
    {
      "cell_type": "markdown",
      "source": [
        "##Problem:\n",
        "Generate a finite, but an arbitrarily large binary tree quickly in O(1).\n",
        "\n",
        "That is, generate() should return a tree whose size is unbounded but finite."
      ],
      "metadata": {
        "id": "_77Ynw69t-Q3"
      }
    },
    {
      "cell_type": "markdown",
      "source": [
        "##Implementation:\n",
        "To generate a finite but arbitrarily large binary tree in constant time (O(1)), we need to use a special approach because traditional tree construction methods would take linear time proportional to the size of the tree. The key to achieving O(1) time complexity is to use a lazy evaluation strategy, where the tree is conceptually infinite, but branches are only created when they are actually accessed. This way, the initial creation of the tree happens in constant time.\n",
        "\n",
        "Here's a high-level outline of how this can be implemented in Python:\n",
        "\n",
        "1. Define a `Node` class to represent each node in the tree. This class will have methods to access the left and right children.\n",
        "2. Instead of actually creating the children when a node is created, we will create them on-the-fly when they are first accessed. This is the lazy evaluation part.\n",
        "3. The `generate` function will simply return a new `Node`. Since it doesn't have to pre-build the entire tree, it operates in O(1) time.\n",
        "\n",
        "##Implementation:\n"
      ],
      "metadata": {
        "id": "BcBnWQ-SuBxT"
      }
    },
    {
      "cell_type": "code",
      "execution_count": 1,
      "metadata": {
        "colab": {
          "base_uri": "https://localhost:8080/"
        },
        "id": "MWpi1NSLt9oz",
        "outputId": "7e2d973f-a826-48bb-8905-68047491a56e"
      },
      "outputs": [
        {
          "output_type": "stream",
          "name": "stdout",
          "text": [
            "1\n",
            "1\n"
          ]
        }
      ],
      "source": [
        "class Node:\n",
        "    def __init__(self, value):\n",
        "        self.value = value\n",
        "        self._left = None\n",
        "        self._right = None\n",
        "\n",
        "    @property\n",
        "    def left(self):\n",
        "        if self._left is None:\n",
        "            # Lazily create the left child\n",
        "            self._left = Node(self.value + 1)\n",
        "        return self._left\n",
        "\n",
        "    @property\n",
        "    def right(self):\n",
        "        if self._right is None:\n",
        "            # Lazily create the right child\n",
        "            self._right = Node(self.value + 1)\n",
        "        return self._right\n",
        "\n",
        "def generate():\n",
        "    return Node(0)\n",
        "\n",
        "# Usage\n",
        "root = generate()\n",
        "# Accessing nodes lazily\n",
        "print(root.left.value)  # This will create the left child\n",
        "print(root.right.value) # This will create the right child\n"
      ]
    },
    {
      "cell_type": "markdown",
      "source": [
        "In this implementation, each node in the binary tree is created only when it is accessed. The initial call to `generate` simply creates a root node, which is an O(1) operation. The tree can grow arbitrarily large, but its size is always finite based on how many nodes you actually access."
      ],
      "metadata": {
        "id": "NFx4lPIduNkg"
      }
    }
  ]
}