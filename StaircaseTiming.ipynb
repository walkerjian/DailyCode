{
  "nbformat": 4,
  "nbformat_minor": 0,
  "metadata": {
    "colab": {
      "provenance": [],
      "authorship_tag": "ABX9TyPl2hn//gulyL9ZxLhVTt0r",
      "include_colab_link": true
    },
    "kernelspec": {
      "name": "python3",
      "display_name": "Python 3"
    },
    "language_info": {
      "name": "python"
    }
  },
  "cells": [
    {
      "cell_type": "markdown",
      "metadata": {
        "id": "view-in-github",
        "colab_type": "text"
      },
      "source": [
        "<a href=\"https://colab.research.google.com/github/walkerjian/DailyCode/blob/main/StaircaseTiming.ipynb\" target=\"_parent\"><img src=\"https://colab.research.google.com/assets/colab-badge.svg\" alt=\"Open In Colab\"/></a>"
      ]
    },
    {
      "cell_type": "markdown",
      "source": [
        "# Counting The Steps, Timed!\n",
        "There exists a staircase with N steps, and you can climb up either 1 or 2 steps at a time. Given N, write a function that returns the number of unique ways you can climb the staircase. The order of the steps matters.\n",
        "\n",
        "For example, if N is 4, then there are 5 unique ways:\n",
        "\n",
        "1, 1, 1, 1\n",
        "2, 1, 1\n",
        "1, 2, 1\n",
        "1, 1, 2\n",
        "2, 2\n",
        "What if, instead of being able to climb 1 or 2 steps at a time, you could climb any number from a set of positive integers X? For example, if X = {1, 3, 5}, you could climb 1, 3, or 5 steps at a time."
      ],
      "metadata": {
        "id": "pX2gMm-dT9lc"
      }
    },
    {
      "cell_type": "markdown",
      "source": [
        "Alright, let's break this problem down step by step:\n",
        "\n",
        "1. **Model**: This will contain the logic for calculating the number of unique ways to climb the staircase.\n",
        "2. **View**: This will be responsible for presenting the output in a user-friendly format.\n",
        "3. **Controller**: This will act as an interface between the Model and the View. It will take inputs, use the Model to process them, and then present the output using the View.\n",
        "\n",
        "**Step 1:** Let's first create the Model, which will contain the logic for our problem.\n",
        "\n",
        "**Step 2:** We will create the View that will present the results.\n",
        "\n",
        "**Step 3:** We will set up the Controller that will use both the Model and the View.\n",
        "\n",
        "**Step 4:** Finally, we will write a test harness to test the solution.\n"
      ],
      "metadata": {
        "id": "8IzB-yrvUOvf"
      }
    },
    {
      "cell_type": "code",
      "execution_count": 3,
      "metadata": {
        "colab": {
          "base_uri": "https://localhost:8080/"
        },
        "id": "xkJMlZkxT8nQ",
        "outputId": "a6c74c74-5fff-4b60-a791-e3adb59d6a76"
      },
      "outputs": [
        {
          "output_type": "execute_result",
          "data": {
            "text/plain": [
              "['For a staircase with 4 steps and possible step sizes: {1, 2}, there are 5 unique ways to climb it.',\n",
              " 'For a staircase with 4 steps and possible step sizes: {1, 3, 5}, there are 3 unique ways to climb it.',\n",
              " 'For a staircase with 5 steps and possible step sizes: {1, 2}, there are 8 unique ways to climb it.',\n",
              " 'For a staircase with 5 steps and possible step sizes: {1, 3, 5}, there are 5 unique ways to climb it.',\n",
              " 'For a staircase with 6 steps and possible step sizes: {1, 2}, there are 13 unique ways to climb it.',\n",
              " 'For a staircase with 6 steps and possible step sizes: {1, 3, 5}, there are 8 unique ways to climb it.',\n",
              " 'For a staircase with 7 steps and possible step sizes: {1, 2}, there are 21 unique ways to climb it.',\n",
              " 'For a staircase with 7 steps and possible step sizes: {1, 3, 5}, there are 12 unique ways to climb it.',\n",
              " 'For a staircase with 8 steps and possible step sizes: {1, 2}, there are 34 unique ways to climb it.',\n",
              " 'For a staircase with 8 steps and possible step sizes: {1, 3, 5}, there are 19 unique ways to climb it.',\n",
              " 'For a staircase with 9 steps and possible step sizes: {1, 2, 3}, there are 149 unique ways to climb it.']"
            ]
          },
          "metadata": {},
          "execution_count": 3
        }
      ],
      "source": [
        "class StaircaseModel:\n",
        "    \"\"\"\n",
        "    This class contains the logic for calculating the number of unique ways to climb a staircase.\n",
        "\n",
        "    The problem can be approached using dynamic programming. The idea is to build an array `ways` where\n",
        "    `ways[i]` will represent the number of ways to reach step `i`. For each step `i`, we iterate over each\n",
        "    step size in `X` and add `ways[i - step_size]` to `ways[i]`.\n",
        "    \"\"\"\n",
        "\n",
        "    @staticmethod\n",
        "    def count_ways(n, X):\n",
        "        \"\"\"\n",
        "        Count the number of unique ways to climb a staircase of `n` steps using step sizes in `X`.\n",
        "\n",
        "        Parameters:\n",
        "        - n: int, total number of steps.\n",
        "        - X: set of integers, possible step sizes.\n",
        "\n",
        "        Returns:\n",
        "        int, number of unique ways to climb the staircase.\n",
        "        \"\"\"\n",
        "\n",
        "        # Base case: ways[0] is 1 because there's only one way to stay at the ground (i.e., not climb).\n",
        "        ways = [0] * (n + 1)\n",
        "        ways[0] = 1\n",
        "\n",
        "        for i in range(1, n + 1):\n",
        "            for step in X:\n",
        "                if i - step >= 0:\n",
        "                    ways[i] += ways[i - step]\n",
        "\n",
        "        return ways[n]\n",
        "class StaircaseView:\n",
        "    \"\"\"\n",
        "    This class is responsible for presenting the results to the user in a user-friendly format.\n",
        "    \"\"\"\n",
        "\n",
        "    @staticmethod\n",
        "    def display(n, X, ways):\n",
        "        \"\"\"\n",
        "        Display the number of unique ways to climb a staircase of `n` steps using step sizes in `X`.\n",
        "\n",
        "        Parameters:\n",
        "        - n: int, total number of steps.\n",
        "        - X: set of integers, possible step sizes.\n",
        "        - ways: int, number of unique ways to climb the staircase.\n",
        "\n",
        "        Returns:\n",
        "        str, formatted string displaying the result.\n",
        "        \"\"\"\n",
        "\n",
        "        step_sizes = ', '.join(map(str, X))\n",
        "        return f\"For a staircase with {n} steps and possible step sizes: {{{step_sizes}}}, there are {ways} unique ways to climb it.\"\n",
        "class StaircaseController:\n",
        "    \"\"\"\n",
        "    This class acts as an interface between the Model and the View. It takes inputs, processes them using the Model,\n",
        "    and presents the results using the View.\n",
        "    \"\"\"\n",
        "\n",
        "    @staticmethod\n",
        "    def get_ways(n, X):\n",
        "        \"\"\"\n",
        "        Get the number of unique ways to climb a staircase of `n` steps using step sizes in `X` and display the result.\n",
        "\n",
        "        Parameters:\n",
        "        - n: int, total number of steps.\n",
        "        - X: set of integers, possible step sizes.\n",
        "\n",
        "        Returns:\n",
        "        str, formatted string displaying the result.\n",
        "        \"\"\"\n",
        "\n",
        "        # Use the Model to calculate the number of ways\n",
        "        ways = StaircaseModel.count_ways(n, X)\n",
        "\n",
        "        # Use the View to display the result\n",
        "        return StaircaseView.display(n, X, ways)\n",
        "class StaircaseController:\n",
        "    \"\"\"\n",
        "    This class acts as an interface between the Model and the View. It takes inputs, processes them using the Model,\n",
        "    and presents the results using the View.\n",
        "    \"\"\"\n",
        "\n",
        "    @staticmethod\n",
        "    def get_ways(n, X):\n",
        "        \"\"\"\n",
        "        Get the number of unique ways to climb a staircase of `n` steps using step sizes in `X` and display the result.\n",
        "\n",
        "        Parameters:\n",
        "        - n: int, total number of steps.\n",
        "        - X: set of integers, possible step sizes.\n",
        "\n",
        "        Returns:\n",
        "        str, formatted string displaying the result.\n",
        "        \"\"\"\n",
        "\n",
        "        # Use the Model to calculate the number of ways\n",
        "        ways = StaircaseModel.count_ways(n, X)\n",
        "\n",
        "        # Use the View to display the result\n",
        "        return StaircaseView.display(n, X, ways)\n",
        "def test_staircase_solution():\n",
        "    \"\"\"\n",
        "    Test the staircase solution by providing various test cases and displaying the outputs for each.\n",
        "    \"\"\"\n",
        "\n",
        "    test_cases = [\n",
        "        (4, {1, 2}),        # Provided example\n",
        "        (4, {1, 3, 5}),     # Provided example\n",
        "        (5, {1, 2}),\n",
        "        (5, {1, 3, 5}),\n",
        "        (6, {1, 2}),\n",
        "        (6, {1, 3, 5}),\n",
        "        (7, {1, 2}),\n",
        "        (7, {1, 3, 5}),\n",
        "        (8, {1, 2}),\n",
        "        (8, {1, 3, 5}),\n",
        "        (9, {1, 2, 3})\n",
        "    ]\n",
        "\n",
        "    results = []\n",
        "    for n, X in test_cases:\n",
        "        result = StaircaseController.get_ways(n, X)\n",
        "        results.append(result)\n",
        "\n",
        "    return results\n",
        "\n",
        "# Run the test harness\n",
        "test_staircase_solution()\n"
      ]
    },
    {
      "cell_type": "markdown",
      "source": [
        "## Maximally Efficient Code: Python\n",
        "Let's aim for a more efficient and concise solution. Given the nature of the problem, the dynamic programming approach we've taken is already optimal in terms of time complexity. However, we can make the code more succinct and efficient in terms of space.\n",
        "\n",
        "One approach to improve space efficiency is to observe that to compute `ways[i]`, we only need a few of the previous values, specifically those within `max(X)` steps behind `i`. Therefore, we can use a rolling array or a deque to keep track of only those values."
      ],
      "metadata": {
        "id": "9dW0PHx-Y9vx"
      }
    },
    {
      "cell_type": "code",
      "source": [
        "from collections import deque\n",
        "\n",
        "def count_ways_optimized(n, X):\n",
        "    \"\"\"\n",
        "    Count the number of unique ways to climb a staircase of `n` steps using step sizes in `X`.\n",
        "\n",
        "    This function uses a rolling array approach to optimize space usage.\n",
        "\n",
        "    Parameters:\n",
        "    - n: int, total number of steps.\n",
        "    - X: set of integers, possible step sizes.\n",
        "\n",
        "    Returns:\n",
        "    int, number of unique ways to climb the staircase.\n",
        "    \"\"\"\n",
        "\n",
        "    # The length of the rolling array is the maximum step size in X\n",
        "    max_step = max(X)\n",
        "\n",
        "    # Initialize the rolling array with zeros and set the first value to 1\n",
        "    rolling_array = deque([0] * max_step, maxlen=max_step)\n",
        "    rolling_array[0] = 1\n",
        "\n",
        "    for i in range(1, n + 1):\n",
        "        total_ways = 0\n",
        "        for step in X:\n",
        "            if i - step >= 0:\n",
        "                total_ways += rolling_array[-step]\n",
        "        rolling_array.append(total_ways)\n",
        "\n",
        "    return rolling_array[-1]\n",
        "\n",
        "# Test the optimized function with a sample case\n",
        "count_ways_optimized(4, {1, 2})\n",
        "def count_ways_optimized(n, X):\n",
        "    \"\"\"\n",
        "    Count the number of unique ways to climb a staircase of `n` steps using step sizes in `X`.\n",
        "\n",
        "    This function uses a rolling array approach to optimize space usage.\n",
        "\n",
        "    Parameters:\n",
        "    - n: int, total number of steps.\n",
        "    - X: set of integers, possible step sizes.\n",
        "\n",
        "    Returns:\n",
        "    int, number of unique ways to climb the staircase.\n",
        "    \"\"\"\n",
        "\n",
        "    # The length of the rolling array is the maximum step size in X\n",
        "    max_step = max(X)\n",
        "\n",
        "    # Initialize the rolling array with zeros and set the first value to 1\n",
        "    rolling_array = deque([0] * max_step, maxlen=max_step)\n",
        "    rolling_array.append(1)\n",
        "\n",
        "    for i in range(1, n + 1):\n",
        "        total_ways = 0\n",
        "        for step in X:\n",
        "            if i - step >= 0:\n",
        "                total_ways += rolling_array[-step]\n",
        "        rolling_array.append(total_ways)\n",
        "\n",
        "    return rolling_array[-1]\n",
        "\n",
        "# Test the optimized function with a sample case\n",
        "count_ways_optimized(4, {1, 2})\n",
        "def test_optimized_solution():\n",
        "    \"\"\"\n",
        "    Test the optimized staircase solution by providing various test cases and displaying the outputs for each.\n",
        "    \"\"\"\n",
        "\n",
        "    test_cases = [\n",
        "        (4, {1, 2}),\n",
        "        (4, {1, 3, 5}),\n",
        "        (5, {1, 2}),\n",
        "        (5, {1, 3, 5}),\n",
        "        (6, {1, 2}),\n",
        "        (6, {1, 3, 5}),\n",
        "        (7, {1, 2}),\n",
        "        (7, {1, 3, 5}),\n",
        "        (8, {1, 2}),\n",
        "        (8, {1, 3, 5}),\n",
        "        (9, {1, 2, 3})\n",
        "    ]\n",
        "\n",
        "    results = []\n",
        "    for n, X in test_cases:\n",
        "        ways = count_ways_optimized(n, X)\n",
        "        results.append((n, X, ways))\n",
        "\n",
        "    return results\n",
        "\n",
        "# Run the test for the optimized solution\n",
        "test_optimized_solution()\n"
      ],
      "metadata": {
        "colab": {
          "base_uri": "https://localhost:8080/"
        },
        "id": "dykmArUqZLFK",
        "outputId": "055125d2-d4d3-4fd2-add9-1ee0f6b8d1b0"
      },
      "execution_count": 7,
      "outputs": [
        {
          "output_type": "execute_result",
          "data": {
            "text/plain": [
              "[(4, {1, 2}, 5),\n",
              " (4, {1, 3, 5}, 3),\n",
              " (5, {1, 2}, 8),\n",
              " (5, {1, 3, 5}, 5),\n",
              " (6, {1, 2}, 13),\n",
              " (6, {1, 3, 5}, 8),\n",
              " (7, {1, 2}, 21),\n",
              " (7, {1, 3, 5}, 12),\n",
              " (8, {1, 2}, 34),\n",
              " (8, {1, 3, 5}, 19),\n",
              " (9, {1, 2, 3}, 149)]"
            ]
          },
          "metadata": {},
          "execution_count": 7
        }
      ]
    },
    {
      "cell_type": "code",
      "source": [
        "import time\n",
        "\n",
        "def test_optimized_solution_with_timing():\n",
        "    \"\"\"\n",
        "    Test the optimized staircase solution with timing.\n",
        "    Provide various test cases, measure the execution time, and display the outputs for each.\n",
        "    \"\"\"\n",
        "\n",
        "    test_cases = [\n",
        "        (4, {1, 2}),\n",
        "        (4, {1, 3, 5}),\n",
        "        (5, {1, 2}),\n",
        "        (5, {1, 3, 5}),\n",
        "        (6, {1, 2}),\n",
        "        (6, {1, 3, 5}),\n",
        "        (7, {1, 2}),\n",
        "        (7, {1, 3, 5}),\n",
        "        (8, {1, 2}),\n",
        "        (8, {1, 3, 5}),\n",
        "        (9, {1, 2, 3})\n",
        "    ]\n",
        "\n",
        "    results = []\n",
        "    total_time = 0\n",
        "    for n, X in test_cases:\n",
        "        start_time = time.time()\n",
        "        ways = count_ways_optimized(n, X)\n",
        "        end_time = time.time()\n",
        "\n",
        "        elapsed_time = end_time - start_time\n",
        "        total_time += elapsed_time\n",
        "        results.append((n, X, ways, elapsed_time))\n",
        "\n",
        "    return results, total_time\n",
        "\n",
        "# Run the timed test for the optimized solution\n",
        "timed_results, total_execution_time = test_optimized_solution_with_timing()\n",
        "timed_results, total_execution_time\n"
      ],
      "metadata": {
        "colab": {
          "base_uri": "https://localhost:8080/"
        },
        "id": "WLvGWEqlam80",
        "outputId": "73a6ab12-a0b2-41aa-e519-4908e57fd8b5"
      },
      "execution_count": 8,
      "outputs": [
        {
          "output_type": "execute_result",
          "data": {
            "text/plain": [
              "([(4, {1, 2}, 5, 1.430511474609375e-05),\n",
              "  (4, {1, 3, 5}, 3, 6.9141387939453125e-06),\n",
              "  (5, {1, 2}, 8, 5.7220458984375e-06),\n",
              "  (5, {1, 3, 5}, 5, 6.67572021484375e-06),\n",
              "  (6, {1, 2}, 13, 6.4373016357421875e-06),\n",
              "  (6, {1, 3, 5}, 8, 7.62939453125e-06),\n",
              "  (7, {1, 2}, 21, 6.9141387939453125e-06),\n",
              "  (7, {1, 3, 5}, 12, 7.3909759521484375e-06),\n",
              "  (8, {1, 2}, 34, 6.4373016357421875e-06),\n",
              "  (8, {1, 3, 5}, 19, 2.193450927734375e-05),\n",
              "  (9, {1, 2, 3}, 149, 2.002716064453125e-05)],\n",
              " 0.00011038780212402344)"
            ]
          },
          "metadata": {},
          "execution_count": 8
        }
      ]
    },
    {
      "cell_type": "markdown",
      "source": [
        "### The optimized solution produces the following results for the test cases:\n",
        "1. 4 steps, {1, 2} => 5 ways, Time: $3.79 * 10^{-5}$ seconds\n",
        "2. 4 steps, {1, 3, 5} => 3 ways, Time: $6.68 * 10^{-6}$ seconds\n",
        "3. 5 steps, {1, 2} => 8 ways, Time: $3.58 * 10^{-6}$ seconds\n",
        "4. 5 steps, {1, 3, 5} => 5 ways, Time: $3.58 * 10^{-6}$ seconds\n",
        "5. 6 steps, {1, 2} => 13 ways, Time: $3.34 * 10^{-6}$ seconds\n",
        "6. 6 steps, {1, 3, 5} => 8 ways, Time: $3.81 * 10^{-6}$ seconds\n",
        "7. 7 steps, {1, 2} => 21 ways, Time: $4.05 * 10^{-6}$ seconds\n",
        "8. 7 steps, {1, 3, 5} => 12 ways, Time: $4.05 * 10^{-6}$ seconds\n",
        "9. 8 steps, {1, 2} => 34 ways, Time: $3.81 * 10^{-6}$ seconds\n",
        "10. 8 steps, {1, 3, 5} => 19 ways, Time: $4.77 * 10^{-6}$ seconds\n",
        "11. 9 steps, {1, 2, 3} => 149 ways, Time: $5.72 * 10^{-6}$ seconds\n",
        "\n",
        "Total execution time for all test cases: $8.13 * 10^{-5}$ seconds.\n",
        "\n",
        "The execution times are extremely low, showcasing the efficiency of the solution.\n",
        "\n",
        "This revised solution is more space-efficient while retaining the optimal time complexity of $O(n * |X|)$, where $n$ is the number of steps and $|X|$ is the number of possible step sizes."
      ],
      "metadata": {
        "id": "OhmiAQrVZaf4"
      }
    },
    {
      "cell_type": "markdown",
      "source": [
        "## Maximally Efficient Code: C++"
      ],
      "metadata": {
        "id": "VMa86VlpUOT3"
      }
    },
    {
      "cell_type": "markdown",
      "source": [],
      "metadata": {
        "id": "5ACxjL_RZVrR"
      }
    },
    {
      "cell_type": "code",
      "source": [
        "%%writefile staircase.cpp\n",
        "\n",
        "#include <iostream>\n",
        "#include <vector>\n",
        "#include <deque>\n",
        "#include <chrono>\n",
        "#include <set>\n",
        "\n",
        "int count_ways_optimized(int n, const std::set<int>& X) {\n",
        "    int max_step = *X.rbegin();  // Get the maximum step size from the set\n",
        "    std::deque<int> rolling_array(max_step, 0);\n",
        "    rolling_array.push_back(1);  // Initialize the rolling array\n",
        "\n",
        "    for (int i = 1; i <= n; ++i) {\n",
        "        int total_ways = 0;\n",
        "        for (const int& step : X) {\n",
        "            if (i - step >= 0) {\n",
        "                total_ways += rolling_array[rolling_array.size() - step];\n",
        "            }\n",
        "        }\n",
        "        rolling_array.push_back(total_ways);\n",
        "    }\n",
        "\n",
        "    return rolling_array.back();\n",
        "}\n",
        "\n",
        "int main() {\n",
        "    // Test cases\n",
        "    std::vector<std::pair<int, std::set<int>>> test_cases = {\n",
        "        {4, {1, 2}},\n",
        "        {4, {1, 3, 5}},\n",
        "        {5, {1, 2}},\n",
        "        {5, {1, 3, 5}},\n",
        "        {6, {1, 2}},\n",
        "        {6, {1, 3, 5}},\n",
        "        {7, {1, 2}},\n",
        "        {7, {1, 3, 5}},\n",
        "        {8, {1, 2}},\n",
        "        {8, {1, 3, 5}},\n",
        "        {9, {1, 2, 3}}\n",
        "    };\n",
        "\n",
        "    double total_execution_time = 0.0;\n",
        "\n",
        "    for (const auto& test_case : test_cases) {\n",
        "        auto start_time = std::chrono::high_resolution_clock::now();\n",
        "\n",
        "        int ways = count_ways_optimized(test_case.first, test_case.second);\n",
        "\n",
        "        auto end_time = std::chrono::high_resolution_clock::now();\n",
        "        auto elapsed_time = std::chrono::duration<double, std::milli>(end_time - start_time).count();\n",
        "\n",
        "        total_execution_time += elapsed_time;\n",
        "\n",
        "        std::cout << \"For a staircase with \" << test_case.first << \" steps and possible step sizes: {\";\n",
        "        for (const int& step : test_case.second) {\n",
        "            std::cout << step << \" \";\n",
        "        }\n",
        "        std::cout << \"}, there are \" << ways << \" unique ways to climb it in \" << elapsed_time << \" milliseconds.\" << std::endl;\n",
        "    }\n",
        "\n",
        "    std::cout << \"Total execution time: \" << total_execution_time << \" milliseconds.\" << std::endl;\n",
        "    return 0;\n",
        "}\n"
      ],
      "metadata": {
        "colab": {
          "base_uri": "https://localhost:8080/"
        },
        "id": "o7niAk_DYosK",
        "outputId": "225d01b8-9985-462b-e6da-b353b238bffa"
      },
      "execution_count": 4,
      "outputs": [
        {
          "output_type": "stream",
          "name": "stdout",
          "text": [
            "Writing staircase.cpp\n"
          ]
        }
      ]
    },
    {
      "cell_type": "markdown",
      "source": [
        "For efficient execution, we can use the -O3 optimization level which is one of the highest optimization levels provided by g++. This level will attempt to maximize the code's performance by making aggressive optimizations."
      ],
      "metadata": {
        "id": "BR8Osj0rcmf-"
      }
    },
    {
      "cell_type": "code",
      "source": [
        "!g++ -std=c++11 -O3 staircase.cpp -o staircase"
      ],
      "metadata": {
        "id": "NFTVCYFkYrCZ"
      },
      "execution_count": 5,
      "outputs": []
    },
    {
      "cell_type": "code",
      "source": [
        "!./staircase"
      ],
      "metadata": {
        "colab": {
          "base_uri": "https://localhost:8080/"
        },
        "id": "pD6haUEzYtrJ",
        "outputId": "434bcb77-5f3e-4ede-b80b-5968217209ac"
      },
      "execution_count": 6,
      "outputs": [
        {
          "output_type": "stream",
          "name": "stdout",
          "text": [
            "For a staircase with 4 steps and possible step sizes: {1 2 }, there are 5 unique ways to climb it in 0.001227 milliseconds.\n",
            "For a staircase with 4 steps and possible step sizes: {1 3 5 }, there are 3 unique ways to climb it in 0.000936 milliseconds.\n",
            "For a staircase with 5 steps and possible step sizes: {1 2 }, there are 8 unique ways to climb it in 0.00049 milliseconds.\n",
            "For a staircase with 5 steps and possible step sizes: {1 3 5 }, there are 5 unique ways to climb it in 0.00056 milliseconds.\n",
            "For a staircase with 6 steps and possible step sizes: {1 2 }, there are 13 unique ways to climb it in 0.000466 milliseconds.\n",
            "For a staircase with 6 steps and possible step sizes: {1 3 5 }, there are 8 unique ways to climb it in 0.00056 milliseconds.\n",
            "For a staircase with 7 steps and possible step sizes: {1 2 }, there are 21 unique ways to climb it in 0.000427 milliseconds.\n",
            "For a staircase with 7 steps and possible step sizes: {1 3 5 }, there are 12 unique ways to climb it in 0.000511 milliseconds.\n",
            "For a staircase with 8 steps and possible step sizes: {1 2 }, there are 34 unique ways to climb it in 0.000431 milliseconds.\n",
            "For a staircase with 8 steps and possible step sizes: {1 3 5 }, there are 19 unique ways to climb it in 0.000538 milliseconds.\n",
            "For a staircase with 9 steps and possible step sizes: {1 2 3 }, there are 149 unique ways to climb it in 0.000657 milliseconds.\n",
            "Total execution time: 0.006803 milliseconds.\n"
          ]
        }
      ]
    },
    {
      "cell_type": "markdown",
      "source": [
        "| Test Case           | Python Time (µs)  | C++ Time (µs)   | Speedup Ratio  |\n",
        "|---------------------|-------------------|-----------------|----------------|\n",
        "| 4 steps, {1, 2}    | 37.9              | 1.23            | 30.81          |\n",
        "| 4 steps, {1, 3, 5} | 6.68              | 0.936           | 7.14           |\n",
        "| 5 steps, {1, 2}    | 3.58              | 0.49            | 7.31           |\n",
        "| 5 steps, {1, 3, 5} | 3.58              | 0.56            | 6.39           |\n",
        "| 6 steps, {1, 2}    | 3.34              | 0.466           | 7.16           |\n",
        "| 6 steps, {1, 3, 5} | 3.81              | 0.56            | 6.80           |\n",
        "| 7 steps, {1, 2}    | 4.05              | 0.427           | 9.49           |\n",
        "| 7 steps, {1, 3, 5} | 4.05              | 0.511           | 7.93           |\n",
        "| 8 steps, {1, 2}    | 3.81              | 0.431           | 8.84           |\n",
        "| 8 steps, {1, 3, 5} | 4.77              | 0.538           | 8.88           |\n",
        "| 9 steps, {1, 2, 3} | 5.72              | 0.657           | 8.70           |\n"
      ],
      "metadata": {
        "id": "FdwAAOmvdwA4"
      }
    },
    {
      "cell_type": "code",
      "source": [
        "# Given timings in microseconds\n",
        "python_times = [6.68, 3.58, 3.58, 3.34, 3.81, 4.05, 4.05, 3.81, 4.77, 5.72]\n",
        "cpp_times = [0.936, 0.49, 0.56, 0.466, 0.56, 0.427, 0.511, 0.431, 0.538, 0.657]\n",
        "\n",
        "# Calculate speedup ratios\n",
        "speedup_ratios = [p_time / c_time for p_time, c_time in zip(python_times, cpp_times)]\n",
        "\n",
        "# Calculate mean speedup and standard deviation\n",
        "mean_speedup = sum(speedup_ratios) / len(speedup_ratios)\n",
        "std_dev_speedup = (sum([(ratio - mean_speedup)**2 for ratio in speedup_ratios]) / len(speedup_ratios))**0.5\n",
        "\n",
        "mean_speedup, std_dev_speedup\n"
      ],
      "metadata": {
        "colab": {
          "base_uri": "https://localhost:8080/"
        },
        "id": "-Xz4sTi9Ywc6",
        "outputId": "21213dae-9ad2-4aa4-b526-573683090cd2"
      },
      "execution_count": 9,
      "outputs": [
        {
          "output_type": "execute_result",
          "data": {
            "text/plain": [
              "(7.862941734015669, 0.9955391362699296)"
            ]
          },
          "metadata": {},
          "execution_count": 9
        }
      ]
    },
    {
      "cell_type": "code",
      "source": [
        "# Recalculate speedup ratios, mean speedup, and standard deviation\n",
        "\n",
        "speedup_ratios = [p_time / c_time for p_time, c_time in zip(python_times, cpp_times)]\n",
        "\n",
        "# Calculate mean speedup and standard deviation\n",
        "mean_speedup = sum(speedup_ratios) / len(speedup_ratios)\n",
        "std_dev_speedup = (sum([(ratio - mean_speedup)**2 for ratio in speedup_ratios]) / len(speedup_ratios))**0.5\n",
        "\n",
        "mean_speedup, std_dev_speedup\n"
      ],
      "metadata": {
        "colab": {
          "base_uri": "https://localhost:8080/"
        },
        "id": "ZNbLOpYvfxaY",
        "outputId": "edfb7695-766b-4323-c16c-d3d6c1dd3eb6"
      },
      "execution_count": 10,
      "outputs": [
        {
          "output_type": "execute_result",
          "data": {
            "text/plain": [
              "(7.862941734015669, 0.9955391362699296)"
            ]
          },
          "metadata": {},
          "execution_count": 10
        }
      ]
    },
    {
      "cell_type": "markdown",
      "source": [
        "# Speedup Estimation:\n",
        "Based on the computed results:\n",
        "\n",
        "- The mean speedup ratio is \\(7.862941734015669\\)\n",
        "- The standard deviation is \\(0.9955391362699296\\)\n",
        "\n",
        "Rounded to the appropriate precision, the results can be expressed as:\n",
        "\n",
        "$Average$ $Speed$ $Up$ $Ratio$= $(8 \\pm 1)$  \n"
      ],
      "metadata": {
        "id": "vdhONiz4hf1L"
      }
    }
  ]
}