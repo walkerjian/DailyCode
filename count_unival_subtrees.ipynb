{
  "nbformat": 4,
  "nbformat_minor": 0,
  "metadata": {
    "colab": {
      "provenance": [],
      "authorship_tag": "ABX9TyPCcQzN5TTdRuN/OXCm3Bnr",
      "include_colab_link": true
    },
    "kernelspec": {
      "name": "python3",
      "display_name": "Python 3"
    },
    "language_info": {
      "name": "python"
    }
  },
  "cells": [
    {
      "cell_type": "markdown",
      "metadata": {
        "id": "view-in-github",
        "colab_type": "text"
      },
      "source": [
        "<a href=\"https://colab.research.google.com/github/walkerjian/DailyCode/blob/main/count_unival_subtrees.ipynb\" target=\"_parent\"><img src=\"https://colab.research.google.com/assets/colab-badge.svg\" alt=\"Open In Colab\"/></a>"
      ]
    },
    {
      "cell_type": "markdown",
      "source": [
        "User\n",
        "A unival tree (which stands for \"universal value\") is a tree where all nodes under it have the same value.\n",
        "\n",
        "Given the root to a binary tree, count the number of unival subtrees.\n",
        "\n",
        "For example, the following tree has 5 unival subtrees:\n",
        "````\n",
        "   0\n",
        "  / \\\n",
        " 1   0\n",
        "    / \\\n",
        "   1   0\n",
        "  / \\\n",
        " 1   1\n",
        "````\n",
        "\n",
        "\n",
        "Break down the problem following the MVC paradigm:\n",
        "\n",
        "Model: This is the data representation. In this case, we will use a class to represent the binary tree and its nodes.\n",
        "\n",
        "View: This will be the output of our function - the number of unival subtrees for a given binary tree.\n",
        "\n",
        "Controller: This is the logic that determines the number of unival subtrees.\n",
        "We'll start by defining our model."
      ],
      "metadata": {
        "id": "hD0Anhs-aGSI"
      }
    },
    {
      "cell_type": "code",
      "execution_count": 2,
      "metadata": {
        "colab": {
          "base_uri": "https://localhost:8080/",
          "height": 38
        },
        "id": "1X7G6CkcX75g",
        "outputId": "81f0ad89-0b8f-4698-871b-926fe5467861"
      },
      "outputs": [
        {
          "output_type": "execute_result",
          "data": {
            "text/plain": [
              "'All tests passed!'"
            ],
            "application/vnd.google.colaboratory.intrinsic+json": {
              "type": "string"
            }
          },
          "metadata": {},
          "execution_count": 2
        }
      ],
      "source": [
        "class Node:\n",
        "    def __init__(self, value, left=None, right=None):\n",
        "        self.value = value\n",
        "        self.left = left\n",
        "        self.right = right\n",
        "\n",
        "    def __repr__(self):\n",
        "        return f\"Node({self.value}, {self.left}, {self.right})\"\n",
        "\n",
        "\n",
        "def count_unival_subtrees(root):\n",
        "    def is_unival(node, value):\n",
        "        if not node:\n",
        "            return True\n",
        "        if node.value != value:\n",
        "            return False\n",
        "        return is_unival(node.left, value) and is_unival(node.right, value)\n",
        "\n",
        "    if not root:\n",
        "        return 0\n",
        "\n",
        "    total = count_unival_subtrees(root.left) + count_unival_subtrees(root.right)\n",
        "\n",
        "    if is_unival(root, root.value):\n",
        "        total += 1\n",
        "\n",
        "    return total\n",
        "\n",
        "\n",
        "def test():\n",
        "    test_cases = [\n",
        "        # Sample test case\n",
        "        (Node(0, Node(1), Node(0, Node(1, Node(1), Node(1)), Node(0))), 5),\n",
        "\n",
        "        # Additional test cases\n",
        "        (None, 0),  # Empty tree\n",
        "        (Node(1), 1),  # Single node\n",
        "        (Node(1, Node(1), Node(1)), 3),  # All nodes are the same\n",
        "        (Node(1, Node(1), Node(2)), 2),  # Only one child is different\n",
        "        (Node(1, Node(1, Node(1), Node(1)), Node(2)), 4),  # Nested unival subtrees\n",
        "        (Node(1, Node(1, Node(2), Node(1)), Node(2)), 3),  # Mixed nested unival and non-unival subtrees\n",
        "        (Node(2, Node(2, Node(2, Node(2, Node(2)))), Node(2)), 6),  # Deeply nested unival subtrees\n",
        "        (Node(1, Node(1, Node(1), None), None), 3),  # Unbalanced tree with unival subtrees\n",
        "        (Node(1, Node(2, Node(3), Node(4)), Node(5)), 3)  # Corrected test case\n",
        "    ]\n",
        "\n",
        "    for tree, expected in test_cases:\n",
        "        result = count_unival_subtrees(tree)\n",
        "        assert result == expected, f\"Test failed for tree {tree}. Expected: {expected}, Result: {result}\"\n",
        "\n",
        "    return \"All tests passed!\"\n",
        "\n",
        "test()\n"
      ]
    }
  ]
}