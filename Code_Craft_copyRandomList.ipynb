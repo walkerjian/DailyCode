{
  "nbformat": 4,
  "nbformat_minor": 0,
  "metadata": {
    "colab": {
      "provenance": [],
      "authorship_tag": "ABX9TyNQxaX/GOwRnzGLsfo/ULwp",
      "include_colab_link": true
    },
    "kernelspec": {
      "name": "python3",
      "display_name": "Python 3"
    },
    "language_info": {
      "name": "python"
    }
  },
  "cells": [
    {
      "cell_type": "markdown",
      "metadata": {
        "id": "view-in-github",
        "colab_type": "text"
      },
      "source": [
        "<a href=\"https://colab.research.google.com/github/walkerjian/DailyCode/blob/main/Code_Craft_copyRandomList.ipynb\" target=\"_parent\"><img src=\"https://colab.research.google.com/assets/colab-badge.svg\" alt=\"Open In Colab\"/></a>"
      ]
    },
    {
      "cell_type": "markdown",
      "source": [
        "Given the head to a singly linked list, where each node also has a “random” pointer that points to anywhere in the linked list, deep clone the list."
      ],
      "metadata": {
        "id": "CRhxjqknuMFY"
      }
    },
    {
      "cell_type": "markdown",
      "source": [
        "To deep clone a linked list where each node has both a `next` pointer and a `random` pointer that can point to any node in the list or null, you can follow a methodical approach that ensures every node is correctly copied, along with its next and random pointers.\n",
        "\n",
        "Here is a step-by-step guide and the corresponding Python code to achieve this:\n",
        "\n",
        "### Approach:\n",
        "\n",
        "1. **Iterate through the original list**: For each node, create a new node and insert it right after the current node. This helps in mapping the original nodes to their clones without needing extra space for a hash map.\n",
        "\n",
        "2. **Assign random pointers**: Once all nodes are cloned and each new node is placed next to its original node, you can easily set the `random` pointer of each clone. The clone’s `random` pointer will be the node next to the `random` pointer of the original node.\n",
        "\n",
        "3. **Separate the two lists**: Finally, extract the cloned nodes from the interwoven list of original and cloned nodes, restoring the original list and creating a separate cloned list.\n",
        "\n",
        "### Python Code:\n",
        "\n",
        "\n",
        "\n",
        "### Explanation:\n",
        "\n",
        "- **Node Class**: This defines the structure of the linked list node, which includes a value `val`, a `next` pointer, and a `random` pointer.\n",
        "\n",
        "- **copyRandomList Function**: The function accepts the head of the original linked list and returns the head of the cloned list, following the steps outlined.\n",
        "\n",
        "This solution ensures that each node and its random connection are cloned without the use of extra space for a hash map, which is typically used in other approaches. This method leverages the unique arrangement of inserting cloned nodes directly after their originals to simplify the cloning process."
      ],
      "metadata": {
        "id": "QPG3bfChumyg"
      }
    },
    {
      "cell_type": "code",
      "execution_count": 1,
      "metadata": {
        "id": "SI1jEE92uLHf"
      },
      "outputs": [],
      "source": [
        "class Node:\n",
        "    def __init__(self, val=0, next=None, random=None):\n",
        "        self.val = val\n",
        "        self.next = next\n",
        "        self.random = random\n",
        "\n",
        "def copyRandomList(head):\n",
        "    if not head:\n",
        "        return None\n",
        "\n",
        "    # Step 1: Create new nodes and weave them with the original nodes\n",
        "    current = head\n",
        "    while current:\n",
        "        new_node = Node(current.val, current.next, current.random)\n",
        "        current.next = new_node\n",
        "        current = new_node.next\n",
        "\n",
        "    # Step 2: Assign random pointers to the cloned nodes\n",
        "    current = head\n",
        "    while current:\n",
        "        if current.random:\n",
        "            current.next.random = current.random.next\n",
        "        current = current.next.next\n",
        "\n",
        "    # Step 3: Separate the original and cloned list\n",
        "    current = head\n",
        "    pseudo_head = Node()  # A pseudo head for the new list to help with separation\n",
        "    copy_current = pseudo_head\n",
        "    while current:\n",
        "        next_orig = current.next.next  # Save the next original node\n",
        "        copy_current.next = current.next  # Point the copy list to the new node\n",
        "        copy_current = copy_current.next  # Move the pointer in the new list\n",
        "        current.next = next_orig  # Restore the original list\n",
        "        current = next_orig  # Move the pointer in the original list\n",
        "\n",
        "    return pseudo_head.next"
      ]
    },
    {
      "cell_type": "code",
      "source": [
        "def print_list(node):\n",
        "    while node:\n",
        "        next_val = node.next.val if node.next else 'None'\n",
        "        random_val = node.random.val if node.random else 'None'\n",
        "        print(f'Node {node.val} | Next -> {next_val} | Random -> {random_val}')\n",
        "        node = node.next\n",
        "    print()\n",
        "\n",
        "# Create the linked list nodes\n",
        "node1 = Node(1)\n",
        "node2 = Node(2)\n",
        "node3 = Node(3)\n",
        "\n",
        "# Link nodes\n",
        "node1.next = node2\n",
        "node2.next = node3\n",
        "\n",
        "# Assign random pointers\n",
        "node1.random = node2  # Example: 1's random points to 2\n",
        "node2.random = node1  # Example: 2's random points to 1\n",
        "node3.random = node3  # Example: 3's random points to itself\n",
        "\n",
        "# Print original list\n",
        "print(\"Original list:\")\n",
        "print_list(node1)\n",
        "\n",
        "# Clone the list\n",
        "cloned_head = copyRandomList(node1)\n",
        "\n",
        "# Print cloned list\n",
        "print(\"Cloned list:\")\n",
        "print_list(cloned_head)\n"
      ],
      "metadata": {
        "colab": {
          "base_uri": "https://localhost:8080/"
        },
        "id": "BGX3PRp7uwAw",
        "outputId": "673adb80-7423-4128-dc45-2e9bf169d4ab"
      },
      "execution_count": 2,
      "outputs": [
        {
          "output_type": "stream",
          "name": "stdout",
          "text": [
            "Original list:\n",
            "Node 1 | Next -> 2 | Random -> 2\n",
            "Node 2 | Next -> 3 | Random -> 1\n",
            "Node 3 | Next -> None | Random -> 3\n",
            "\n",
            "Cloned list:\n",
            "Node 1 | Next -> 2 | Random -> 2\n",
            "Node 2 | Next -> 3 | Random -> 1\n",
            "Node 3 | Next -> None | Random -> 3\n",
            "\n"
          ]
        }
      ]
    }
  ]
}