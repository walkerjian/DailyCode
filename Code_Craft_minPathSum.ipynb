{
  "nbformat": 4,
  "nbformat_minor": 0,
  "metadata": {
    "colab": {
      "provenance": [],
      "authorship_tag": "ABX9TyOI9mgU1zXzjC0TK9EnnobG",
      "include_colab_link": true
    },
    "kernelspec": {
      "name": "python3",
      "display_name": "Python 3"
    },
    "language_info": {
      "name": "python"
    }
  },
  "cells": [
    {
      "cell_type": "markdown",
      "metadata": {
        "id": "view-in-github",
        "colab_type": "text"
      },
      "source": [
        "<a href=\"https://colab.research.google.com/github/walkerjian/DailyCode/blob/main/Code_Craft_minPathSum.ipynb\" target=\"_parent\"><img src=\"https://colab.research.google.com/assets/colab-badge.svg\" alt=\"Open In Colab\"/></a>"
      ]
    },
    {
      "cell_type": "markdown",
      "source": [
        "##Problem:\n",
        "we have seen this problem before, or ones similar to it, so I think it appropriate to think of other operations we can apply to trees and implement them if possible:\n",
        "\n",
        "Given a binary tree, find a minimum path sum from root to a leaf.\n",
        "\n",
        "For example, the minimum path in this tree is [10, 5, 1, -1], which has sum 15.\n",
        "```\n",
        "  10\n",
        " /  \\\n",
        "5    5\n",
        " \\     \\\n",
        "   2    1\n",
        "       /\n",
        "     -1\n",
        "```"
      ],
      "metadata": {
        "id": "54GBQIaVhOdV"
      }
    },
    {
      "cell_type": "markdown",
      "source": [
        "##Solution:\n",
        "To solve the problem of finding the minimum path sum from the root to a leaf in a binary tree, we can use a Depth-First Search (DFS) approach. In this method, we recursively explore each path from the root to all the leaves, keeping track of the path sum. Once we reach a leaf, we compare its path sum with the current minimum and update the minimum if necessary.\n",
        "\n",
        "Here's the step-by-step process:\n",
        "\n",
        "1. Start from the root node.\n",
        "2. At each node, add the node's value to the current path sum.\n",
        "3. If a leaf node is reached, compare its path sum with the current minimum.\n",
        "4. Return the minimum path sum found.\n",
        "\n"
      ],
      "metadata": {
        "id": "RAjFeBGohTdm"
      }
    },
    {
      "cell_type": "markdown",
      "source": [
        "##Implementaton:\n",
        "I will implement this in Python. This implementation assumes that the tree is a binary tree and that it is represented using a node class with `value`, `left`, and `right` attributes."
      ],
      "metadata": {
        "id": "HSiY22X0hXt9"
      }
    },
    {
      "cell_type": "code",
      "execution_count": 1,
      "metadata": {
        "colab": {
          "base_uri": "https://localhost:8080/"
        },
        "id": "CoZ-OQMdhK0k",
        "outputId": "6d989612-a861-4c1e-da11-fea34832c927"
      },
      "outputs": [
        {
          "output_type": "execute_result",
          "data": {
            "text/plain": [
              "15"
            ]
          },
          "metadata": {},
          "execution_count": 1
        }
      ],
      "source": [
        "class TreeNode:\n",
        "    def __init__(self, value=0, left=None, right=None):\n",
        "        self.value = value\n",
        "        self.left = left\n",
        "        self.right = right\n",
        "\n",
        "def minPathSum(root):\n",
        "    def dfs(node):\n",
        "        if not node:\n",
        "            return float('inf')\n",
        "        if not node.left and not node.right:\n",
        "            return node.value\n",
        "        return node.value + min(dfs(node.left), dfs(node.right))\n",
        "\n",
        "    return dfs(root)\n",
        "\n",
        "# Constructing the example tree\n",
        "#       10\n",
        "#      /  \\\n",
        "#     5    5\n",
        "#      \\     \\\n",
        "#       2    1\n",
        "#           /\n",
        "#         -1\n",
        "\n",
        "root = TreeNode(10)\n",
        "root.left = TreeNode(5)\n",
        "root.right = TreeNode(5)\n",
        "root.left.right = TreeNode(2)\n",
        "root.right.right = TreeNode(1)\n",
        "root.right.right.left = TreeNode(-1)\n",
        "\n",
        "# Find minimum path sum\n",
        "min_path_sum = minPathSum(root)\n",
        "min_path_sum\n"
      ]
    },
    {
      "cell_type": "markdown",
      "source": [
        "\n",
        "The minimum path sum from the root to a leaf in the given binary tree is 15. This is achieved by following the path [10, 5, 1, -1]. The code successfully calculates this by using a Depth-First Search approach to explore all paths from the root to the leaves, updating the minimum sum as needed."
      ],
      "metadata": {
        "id": "wgj94UfXhcA9"
      }
    }
  ]
}