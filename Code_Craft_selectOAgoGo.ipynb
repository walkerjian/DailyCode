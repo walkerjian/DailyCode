{
  "nbformat": 4,
  "nbformat_minor": 0,
  "metadata": {
    "colab": {
      "provenance": [],
      "authorship_tag": "ABX9TyOdrhQ4FamaCFsRlR4kWYd4",
      "include_colab_link": true
    },
    "kernelspec": {
      "name": "python3",
      "display_name": "Python 3"
    },
    "language_info": {
      "name": "python"
    }
  },
  "cells": [
    {
      "cell_type": "markdown",
      "metadata": {
        "id": "view-in-github",
        "colab_type": "text"
      },
      "source": [
        "<a href=\"https://colab.research.google.com/github/walkerjian/DailyCode/blob/main/Code_Craft_selectOAgoGo.ipynb\" target=\"_parent\"><img src=\"https://colab.research.google.com/assets/colab-badge.svg\" alt=\"Open In Colab\"/></a>"
      ]
    },
    {
      "cell_type": "markdown",
      "source": [
        "##Problem:\n",
        "Given three 32-bit integers x, y, and b, return x if b is 1 and y if b is 0, using only mathematical or bit operations. You can assume b can only be 1 or 0."
      ],
      "metadata": {
        "id": "qXPXzThmN4Uu"
      }
    },
    {
      "cell_type": "markdown",
      "source": [
        "##Solution:\n",
        "To solve this problem using only mathematical or bit operations, we can utilize the fact that `b` can only be `1` or `0`. The idea is to use `b` to select between `x` and `y` in a way that when `b` is `1`, the result is `x`, and when `b` is `0`, the result is `y`. This can be achieved through a combination of bit manipulation.\n",
        "\n",
        "Here is how it works:\n",
        "\n",
        "1. `b * x`: If `b` is `1`, this equals `x`. If `b` is `0`, this equals `0`.\n",
        "2. `(1 - b) * y`: If `b` is `1`, `1 - b` is `0`, so this equals `0`. If `b` is `0`, `1 - b` is `1`, so this equals `y`.\n",
        "\n",
        "By adding these two results together, we get `x` when `b` is `1` and `y` when `b` is `0`.\n"
      ],
      "metadata": {
        "id": "oiXoYcBdN7mB"
      }
    },
    {
      "cell_type": "markdown",
      "source": [
        "##Implementation:"
      ],
      "metadata": {
        "id": "wxmkksm5OJEb"
      }
    },
    {
      "cell_type": "code",
      "source": [
        "def select(x, y, b):\n",
        "    return b * x + (1 - b) * y\n",
        "\n",
        "# Example usage\n",
        "x = 15\n",
        "y = 20\n",
        "b = 0\n",
        "result = select(x, y, b)\n",
        "print(result)  # This will print x if b is 1, and y if b is 0\n"
      ],
      "metadata": {
        "colab": {
          "base_uri": "https://localhost:8080/"
        },
        "id": "V5XCeIDuN7HS",
        "outputId": "f20a5b09-90ce-4ae5-fbfe-ff9e0860b063"
      },
      "execution_count": 2,
      "outputs": [
        {
          "output_type": "stream",
          "name": "stdout",
          "text": [
            "20\n"
          ]
        }
      ]
    },
    {
      "cell_type": "markdown",
      "source": [
        "This approach only uses basic arithmetic operations and is in compliance with the constraints of the problem."
      ],
      "metadata": {
        "id": "ved3qkI8OC9V"
      }
    }
  ]
}