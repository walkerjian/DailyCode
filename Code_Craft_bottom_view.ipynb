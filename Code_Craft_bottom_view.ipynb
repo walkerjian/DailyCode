{
  "nbformat": 4,
  "nbformat_minor": 0,
  "metadata": {
    "colab": {
      "provenance": [],
      "authorship_tag": "ABX9TyMIPvjhREZBYyKQs5Gixj0J",
      "include_colab_link": true
    },
    "kernelspec": {
      "name": "python3",
      "display_name": "Python 3"
    },
    "language_info": {
      "name": "python"
    }
  },
  "cells": [
    {
      "cell_type": "markdown",
      "metadata": {
        "id": "view-in-github",
        "colab_type": "text"
      },
      "source": [
        "<a href=\"https://colab.research.google.com/github/walkerjian/DailyCode/blob/main/Code_Craft_bottom_view.ipynb\" target=\"_parent\"><img src=\"https://colab.research.google.com/assets/colab-badge.svg\" alt=\"Open In Colab\"/></a>"
      ]
    },
    {
      "cell_type": "markdown",
      "source": [
        "##Problem:\n",
        "The horizontal distance of a binary tree node describes how far left or right the node will be when the tree is printed out.\n",
        "\n",
        "More rigorously, we can define it as follows:\n",
        "\n",
        "The horizontal distance of the root is 0.\n",
        "The horizontal distance of a left child is hd(parent) - 1.\n",
        "The horizontal distance of a right child is hd(parent) + 1.\n",
        "For example, for the following tree, hd(1) = -2, and hd(6) = 0.\n",
        "```\n",
        "             5\n",
        "          /     \\\n",
        "        3         7\n",
        "      /  \\      /   \\\n",
        "    1     4    6     9\n",
        "   /                /\n",
        "  0                8\n",
        "```\n",
        "The bottom view of a tree, then, consists of the lowest node at each horizontal distance. If there are two nodes at the same depth and horizontal distance, either is acceptable.\n",
        "\n",
        "For this tree, for example, the bottom view could be [0, 1, 3, 6, 8, 9].\n",
        "\n",
        "Given the root to a binary tree, return its bottom view."
      ],
      "metadata": {
        "id": "D7vtZIxzGxWz"
      }
    },
    {
      "cell_type": "markdown",
      "source": [
        "##Solution:\n",
        "To approach this task, we first need to understand the problem and then devise a solution that can be implemented, tested, and documented. Let's break down the task into smaller steps:\n",
        "\n",
        "### Understanding the Problem\n",
        "\n",
        "1. **Definition of Horizontal Distance (HD):**\n",
        "   - The horizontal distance of the root node is 0.\n",
        "   - For any node, the HD of its left child is the HD of the parent minus 1.\n",
        "   - For any node, the HD of its right child is the HD of the parent plus 1.\n",
        "\n",
        "2. **Bottom View of a Binary Tree:**\n",
        "   - The bottom view of the binary tree consists of the nodes that are visible when the tree is viewed from the bottom.\n",
        "   - For each horizontal distance, only the lowest node is part of the bottom view.\n",
        "   - If there are two nodes at the same horizontal distance and depth, either of them is acceptable.\n",
        "\n",
        "### Solution Approach\n",
        "\n",
        "1. **Traversal Method:**\n",
        "   - Use a level order traversal (BFS - Breadth-First Search) to traverse the tree.\n",
        "   - While traversing, store the horizontal distance and the corresponding node value.\n",
        "\n",
        "2. **Data Structures:**\n",
        "   - A queue for BFS traversal.\n",
        "   - A map or dictionary to store node values with their horizontal distances.\n",
        "\n",
        "3. **Algorithm:**\n",
        "   - Start with the root node, with a horizontal distance of 0.\n",
        "   - In each step of BFS, for a node, update the map with its horizontal distance and value.\n",
        "   - After the traversal, extract the values from the map, which represent the bottom view.\n",
        "\n",
        "4. **Handling Duplicates:**\n",
        "   - If a horizontal distance is already present in the map, update it with the current node's value since we are looking for the lowest node at each horizontal distance.\n",
        "\n",
        "### Implementation\n",
        "\n",
        "- Write a function that implements the above approach.\n",
        "- Use a tree node class/structure for the binary tree representation.\n",
        "\n",
        "### Testing\n",
        "\n",
        "- Test the function with various cases, including:\n",
        "  - The given example tree.\n",
        "  - A completely unbalanced tree.\n",
        "  - A tree with only one node.\n",
        "  - A tree where two nodes at the same horizontal distance have different depths.\n",
        "\n",
        "### Documentation\n",
        "\n",
        "- Document the function with appropriate comments.\n",
        "- Explain the logic used in the function.\n",
        "- Include the test cases and the outcomes of each.\n"
      ],
      "metadata": {
        "id": "Kl0n4bVUG2Nw"
      }
    },
    {
      "cell_type": "markdown",
      "source": [
        "##Implementation:\n",
        "The implementation of the `bottom_view` function has been tested with the provided example tree and additional test cases. Here are the results:\n",
        "\n",
        "1. **Example Tree**: The bottom view is `[0, 1, 3, 6, 8, 9]`, as expected.\n",
        "2. **Single Node Tree**: For a tree with just one node (`10`), the bottom view is `[10]`.\n",
        "3. **Completely Unbalanced Tree (Left-heavy)**: The bottom view of a left-heavy tree (nodes: 1, 2, 3, with 3 being the leftmost leaf) is `[3, 2, 1]`.\n",
        "4. **Completely Unbalanced Tree (Right-heavy)**: The bottom view of a right-heavy tree (nodes: 1, 2, 3, with 3 being the rightmost leaf) is `[1, 2, 3]`."
      ],
      "metadata": {
        "id": "QMq3-Lb4G-bX"
      }
    },
    {
      "cell_type": "code",
      "execution_count": 1,
      "metadata": {
        "colab": {
          "base_uri": "https://localhost:8080/"
        },
        "id": "pG8tZJ0mGcG9",
        "outputId": "4251aa0d-a7be-4c4c-f4a0-3c7811e1fe8a"
      },
      "outputs": [
        {
          "output_type": "execute_result",
          "data": {
            "text/plain": [
              "([0, 1, 3, 6, 8, 9], [10], [3, 2, 1], [1, 2, 3])"
            ]
          },
          "metadata": {},
          "execution_count": 1
        }
      ],
      "source": [
        "class TreeNode:\n",
        "    \"\"\"A class for creating binary tree nodes.\"\"\"\n",
        "    def __init__(self, value):\n",
        "        self.value = value\n",
        "        self.left = None\n",
        "        self.right = None\n",
        "\n",
        "def bottom_view(root):\n",
        "    \"\"\"\n",
        "    Function to find the bottom view of a binary tree.\n",
        "    Args:\n",
        "    root (TreeNode): Root node of the binary tree.\n",
        "\n",
        "    Returns:\n",
        "    list: A list representing the bottom view of the tree.\n",
        "    \"\"\"\n",
        "    if not root:\n",
        "        return []\n",
        "\n",
        "    # Initialize a dictionary to store horizontal distance and node value\n",
        "    hd_node_map = {}\n",
        "\n",
        "    # Queue for level order traversal, storing node and its horizontal distance\n",
        "    queue = [(root, 0)]\n",
        "\n",
        "    while queue:\n",
        "        node, hd = queue.pop(0)\n",
        "\n",
        "        # Update the hd_node_map with the current node for its horizontal distance\n",
        "        hd_node_map[hd] = node.value\n",
        "\n",
        "        # Add left and right children to the queue with their respective horizontal distances\n",
        "        if node.left:\n",
        "            queue.append((node.left, hd - 1))\n",
        "        if node.right:\n",
        "            queue.append((node.right, hd + 1))\n",
        "\n",
        "    # Extracting the bottom view values from the map\n",
        "    bottom_view_values = [hd_node_map[hd] for hd in sorted(hd_node_map)]\n",
        "\n",
        "    return bottom_view_values\n",
        "\n",
        "# Test cases\n",
        "\n",
        "# Creating a binary tree as given in the example\n",
        "root = TreeNode(5)\n",
        "root.left = TreeNode(3)\n",
        "root.right = TreeNode(7)\n",
        "root.left.left = TreeNode(1)\n",
        "root.left.right = TreeNode(4)\n",
        "root.right.left = TreeNode(6)\n",
        "root.right.right = TreeNode(9)\n",
        "root.left.left.left = TreeNode(0)\n",
        "root.right.right.left = TreeNode(8)\n",
        "\n",
        "# Test case 1: The example tree\n",
        "test1 = bottom_view(root)  # Expected output: [0, 1, 3, 6, 8, 9]\n",
        "\n",
        "# Additional test cases\n",
        "# Test case 2: Single node tree\n",
        "single_node_tree = TreeNode(10)\n",
        "test2 = bottom_view(single_node_tree)  # Expected output: [10]\n",
        "\n",
        "# Test case 3: Completely unbalanced tree (left-heavy)\n",
        "left_heavy_tree = TreeNode(1)\n",
        "left_heavy_tree.left = TreeNode(2)\n",
        "left_heavy_tree.left.left = TreeNode(3)\n",
        "test3 = bottom_view(left_heavy_tree)  # Expected output: [3]\n",
        "\n",
        "# Test case 4: Completely unbalanced tree (right-heavy)\n",
        "right_heavy_tree = TreeNode(1)\n",
        "right_heavy_tree.right = TreeNode(2)\n",
        "right_heavy_tree.right.right = TreeNode(3)\n",
        "test4 = bottom_view(right_heavy_tree)  # Expected output: [3]\n",
        "\n",
        "# Returning all test results\n",
        "test1, test2, test3, test4\n"
      ]
    },
    {
      "cell_type": "markdown",
      "source": [
        "\n",
        "These results align with the expectations of the bottom view for each type of tree. The function is correctly computing the bottom view of a binary tree based on the definition of horizontal distance."
      ],
      "metadata": {
        "id": "ahXz6PyuHFYP"
      }
    }
  ]
}