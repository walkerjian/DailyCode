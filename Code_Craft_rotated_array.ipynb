{
  "nbformat": 4,
  "nbformat_minor": 0,
  "metadata": {
    "colab": {
      "provenance": [],
      "authorship_tag": "ABX9TyMyWbzXIqZ+ObzbKqMkCLi/",
      "include_colab_link": true
    },
    "kernelspec": {
      "name": "python3",
      "display_name": "Python 3"
    },
    "language_info": {
      "name": "python"
    }
  },
  "cells": [
    {
      "cell_type": "markdown",
      "metadata": {
        "id": "view-in-github",
        "colab_type": "text"
      },
      "source": [
        "<a href=\"https://colab.research.google.com/github/walkerjian/DailyCode/blob/main/Code_Craft_rotated_array.ipynb\" target=\"_parent\"><img src=\"https://colab.research.google.com/assets/colab-badge.svg\" alt=\"Open In Colab\"/></a>"
      ]
    },
    {
      "cell_type": "markdown",
      "source": [
        "##Problem:\n",
        "An sorted array of integers was rotated an unknown number of times.\n",
        "\n",
        "Given such an array, find the index of the element in the array in faster than linear time. If the element doesn't exist in the array, return null.\n",
        "\n",
        "For example, given the array [13, 18, 25, 2, 8, 10] and the element 8, return 4 (the index of 8 in the array).\n",
        "\n",
        "You can assume all the integers in the array are unique."
      ],
      "metadata": {
        "id": "oGa_i9OK_fdN"
      }
    },
    {
      "cell_type": "markdown",
      "source": [
        "To find the index of an element in a rotated sorted array faster than linear time, we can use a modified version of binary search. The key insight here is that at least one half of the array is always sorted, and we can utilize this property to decide whether to search in the left or right half.\n",
        "\n",
        "Here's the general approach:\n",
        "\n",
        "1. Initialize two pointers: `low` (pointing to the start of the array) and `high` (pointing to the end of the array).\n",
        "2. While `low` is less than or equal to `high`:\n",
        "   - Find the midpoint `mid`.\n",
        "   - If the element at `mid` is the target, return `mid`.\n",
        "   - Check if the left half (from `low` to `mid`) is sorted.\n",
        "     - If it is sorted, check if the target lies within this range. If yes, search in this half (adjust `high` to `mid - 1`), otherwise search in the right half (adjust `low` to `mid + 1`).\n",
        "   - If the left half is not sorted, the right half must be sorted.\n",
        "     - Check if the target lies within the right half. If yes, search in this half (adjust `low` to `mid + 1`), otherwise search in the left half (adjust `high` to `mid - 1`).\n",
        "3. If the element is not found, return `null`."
      ],
      "metadata": {
        "id": "ABPK9Wod_jnW"
      }
    },
    {
      "cell_type": "code",
      "execution_count": 1,
      "metadata": {
        "colab": {
          "base_uri": "https://localhost:8080/"
        },
        "id": "t7_T6hx0_bXv",
        "outputId": "206d530d-146b-4da0-cb0f-01c9ec6fec89"
      },
      "outputs": [
        {
          "output_type": "execute_result",
          "data": {
            "text/plain": [
              "4"
            ]
          },
          "metadata": {},
          "execution_count": 1
        }
      ],
      "source": [
        "def search_rotated_array(arr, target):\n",
        "    low, high = 0, len(arr) - 1\n",
        "\n",
        "    while low <= high:\n",
        "        mid = (low + high) // 2\n",
        "\n",
        "        if arr[mid] == target:\n",
        "            return mid\n",
        "\n",
        "        # Check if the left half is sorted\n",
        "        if arr[low] <= arr[mid]:\n",
        "            # Check if the target is in the left half\n",
        "            if arr[low] <= target < arr[mid]:\n",
        "                high = mid - 1\n",
        "            else:\n",
        "                low = mid + 1\n",
        "        else:\n",
        "            # The right half must be sorted\n",
        "            # Check if the target is in the right half\n",
        "            if arr[mid] < target <= arr[high]:\n",
        "                low = mid + 1\n",
        "            else:\n",
        "                high = mid - 1\n",
        "\n",
        "    return None  # Element not found\n",
        "\n",
        "# Test the function with the provided example\n",
        "array = [13, 18, 25, 2, 8, 10]\n",
        "target = 8\n",
        "search_rotated_array(array, target)\n"
      ]
    },
    {
      "cell_type": "markdown",
      "source": [
        "It is possible to determine the number of times a sorted array was rotated. When a sorted array is rotated, the number of rotations is equal to the index of the minimum element in the array. This is because the minimum element would originally be at the beginning of the sorted array, and after rotations, it shifts along with the array.\n",
        "\n",
        "To find the index of the minimum element, you can use a modified binary search algorithm. The approach is similar to the previous one, but instead of looking for a specific target, you'll be looking for the point where the array is rotated, i.e., the minimum element.\n",
        "\n",
        "Here's the algorithm:\n",
        "\n",
        "1. Initialize two pointers: `low` (pointing to the start of the array) and `high` (pointing to the end of the array).\n",
        "2. If the array is not rotated (`arr[low] < arr[high]`), then the number of rotations is zero.\n",
        "3. While `low` is less than or equal to `high`:\n",
        "   - Find the midpoint `mid`.\n",
        "   - If the element at `mid` is less than its previous and next elements, then `mid` is the index of the minimum element.\n",
        "   - Otherwise, check if the left half is sorted. If it is, the minimum element must be in the right half, so adjust `low`. If not, the minimum element is in the left half, so adjust `high`.\n",
        "4. The index of the minimum element is equivalent to the number of rotations."
      ],
      "metadata": {
        "id": "yp4B544rAhKh"
      }
    },
    {
      "cell_type": "code",
      "source": [
        "def find_rotation_count(arr):\n",
        "    low, high = 0, len(arr) - 1\n",
        "\n",
        "    # Handle cases where the array is not rotated\n",
        "    if arr[low] < arr[high]:\n",
        "        return 0\n",
        "\n",
        "    while low <= high:\n",
        "        if arr[low] <= arr[high]:\n",
        "            # The minimum element is at the beginning of the current segment\n",
        "            return low\n",
        "\n",
        "        mid = (low + high) // 2\n",
        "        next_index = (mid + 1) % len(arr)\n",
        "        prev_index = (mid - 1 + len(arr)) % len(arr)\n",
        "\n",
        "        # Check if mid is the minimum element\n",
        "        if arr[mid] <= arr[next_index] and arr[mid] <= arr[prev_index]:\n",
        "            return mid\n",
        "\n",
        "        # Decide which half to choose for the next step\n",
        "        if arr[mid] <= arr[high]:\n",
        "            high = mid - 1\n",
        "        elif arr[mid] >= arr[low]:\n",
        "            low = mid + 1\n",
        "\n",
        "    return -1  # This should never be reached if the array is a rotated sorted array\n",
        "\n",
        "# Test the function with the provided example\n",
        "rotated_array = [13, 18, 25, 2, 8, 10]\n",
        "rotation_count = find_rotation_count(rotated_array)\n",
        "rotation_count\n"
      ],
      "metadata": {
        "colab": {
          "base_uri": "https://localhost:8080/"
        },
        "id": "ddIhMpV2ADHs",
        "outputId": "5a78ddaf-bf73-4ce6-f9fe-3ace7e64dea3"
      },
      "execution_count": 2,
      "outputs": [
        {
          "output_type": "execute_result",
          "data": {
            "text/plain": [
              "3"
            ]
          },
          "metadata": {},
          "execution_count": 2
        }
      ]
    },
    {
      "cell_type": "markdown",
      "source": [
        "\n",
        "The function has determined that the sorted array \\([13, 18, 25, 2, 8, 10]\\) was rotated \\(3\\) times. This is inferred from the index of the minimum element in the array, which is the number of positions the array has been rotated from its original sorted state."
      ],
      "metadata": {
        "id": "EAH3isKgAq44"
      }
    }
  ]
}