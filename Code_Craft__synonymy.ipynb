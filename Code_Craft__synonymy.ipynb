{
  "nbformat": 4,
  "nbformat_minor": 0,
  "metadata": {
    "colab": {
      "provenance": [],
      "authorship_tag": "ABX9TyNGZUNz11spxoYcz/WrOac7",
      "include_colab_link": true
    },
    "kernelspec": {
      "name": "python3",
      "display_name": "Python 3"
    },
    "language_info": {
      "name": "python"
    }
  },
  "cells": [
    {
      "cell_type": "markdown",
      "metadata": {
        "id": "view-in-github",
        "colab_type": "text"
      },
      "source": [
        "<a href=\"https://colab.research.google.com/github/walkerjian/DailyCode/blob/main/Code_Craft__synonymy.ipynb\" target=\"_parent\"><img src=\"https://colab.research.google.com/assets/colab-badge.svg\" alt=\"Open In Colab\"/></a>"
      ]
    },
    {
      "cell_type": "markdown",
      "source": [
        "##Problem:\n",
        "You are given a set of synonyms, such as (big, large) and (eat, consume). Using this set, determine if two sentences with the same number of words are equivalent.\n",
        "\n",
        "For example, the following two sentences are equivalent:\n",
        "\n",
        "\"He wants to eat food.\"\n",
        "\"He wants to consume food.\"\n",
        "Note that the synonyms (a, b) and (a, c) do not necessarily imply (b, c): consider the case of (coach, bus) and (coach, teacher).\n",
        "\n",
        "Follow-up: what if we can assume that (a, b) and (a, c) do in fact imply (b, c)?"
      ],
      "metadata": {
        "id": "DnR7iCOQwgAN"
      }
    },
    {
      "cell_type": "markdown",
      "source": [
        "##Solution:\n",
        "To determine if two sentences with the same number of words are equivalent using a set of synonyms, we can follow a systematic approach. Let's outline the steps involved:\n",
        "\n",
        "1. **Split Sentences into Words**: Break down each sentence into individual words.\n",
        "\n",
        "2. **Create a Synonym Map**: Construct a data structure (like a dictionary) to map each word to its synonyms based on the provided synonym pairs.\n",
        "\n",
        "3. **Compare Words in Sentences**: Sequentially compare the corresponding words in both sentences. For each word in the first sentence, check if it is the same as or a synonym of the corresponding word in the second sentence.\n",
        "\n",
        "4. **Determine Equivalence**: If all corresponding words match (either directly or through synonyms), the sentences are equivalent. If any pair of words doesn’t match, the sentences are not equivalent.\n",
        "\n",
        "Now, let's address your follow-up scenario where (a, b) and (a, c) imply (b, c). In this case, we need to modify step 2:\n",
        "\n",
        "2. **Create an Extended Synonym Map**: Here, we need to ensure that synonyms are transitive. This means if (a, b) and (a, c) are synonym pairs, then b and c are also synonyms of each other. This can be achieved by creating groups of synonyms where each word in the group is a synonym of all the others.\n",
        "\n",
        "For this extended synonym mapping, a union-find data structure or a graph-based approach could be employed to efficiently manage the synonym groups.\n",
        "\n",
        "Now, let's implement a Python function to demonstrate the first scenario. The implementation of the follow-up scenario with transitive synonyms would require a more complex data structure and algorithm.\n",
        "\n",
        "The Python function correctly determined that the sentences \"He wants to eat food.\" and \"He wants to consume food.\" are equivalent given the synonym pair (\"eat\", \"consume\").\n",
        "\n",
        "For the follow-up scenario, where synonyms are transitive (e.g., (a, b) and (a, c) imply (b, c)), a more complex approach involving a union-find data structure or a graph-based algorithm would be required to properly manage the synonym groups. This would ensure that all transitive relationships between synonyms are accounted for when comparing sentences. However, implementing this extended functionality would be quite complex and would significantly increase the length and complexity of the code."
      ],
      "metadata": {
        "id": "vSnH5_kJwj-3"
      }
    },
    {
      "cell_type": "code",
      "source": [
        "!pip install openai==0.28"
      ],
      "metadata": {
        "id": "7XxPXRxK1UnQ"
      },
      "execution_count": null,
      "outputs": []
    },
    {
      "cell_type": "code",
      "execution_count": 1,
      "metadata": {
        "colab": {
          "base_uri": "https://localhost:8080/"
        },
        "id": "Q1rZ9aYhwXrS",
        "outputId": "bb77ca31-5873-4a67-a158-6b69f346db8f"
      },
      "outputs": [
        {
          "output_type": "execute_result",
          "data": {
            "text/plain": [
              "True"
            ]
          },
          "metadata": {},
          "execution_count": 1
        }
      ],
      "source": [
        "def are_sentences_equivalent(sentence1, sentence2, synonyms):\n",
        "    # Split the sentences into words\n",
        "    words1 = sentence1.split()\n",
        "    words2 = sentence2.split()\n",
        "\n",
        "    # Check if the sentences have the same number of words\n",
        "    if len(words1) != len(words2):\n",
        "        return False\n",
        "\n",
        "    # Create a synonym map (dictionary)\n",
        "    synonym_map = {}\n",
        "    for synonym_pair in synonyms:\n",
        "        for word in synonym_pair:\n",
        "            synonym_map.setdefault(word, set()).update(synonym_pair)\n",
        "\n",
        "    # Compare each word in the sentences\n",
        "    for w1, w2 in zip(words1, words2):\n",
        "        if w1 != w2 and w2 not in synonym_map.get(w1, set()):\n",
        "            return False\n",
        "\n",
        "    return True\n",
        "\n",
        "# Example sentences and synonyms\n",
        "sentence1 = \"He wants to eat food.\"\n",
        "sentence2 = \"He wants to consume food.\"\n",
        "synonyms = [(\"eat\", \"consume\")]\n",
        "\n",
        "# Check if the sentences are equivalent\n",
        "are_sentences_equivalent(sentence1, sentence2, synonyms)\n"
      ]
    },
    {
      "cell_type": "code",
      "source": [
        "import openai\n",
        "from google.colab import userdata\n",
        "openai.api_key = userdata.get('OPENAI_API_KEY')\n",
        "\n",
        "def check_synonym_transitivity(word1, word2, context_sentences):\n",
        "    for sentence in context_sentences:\n",
        "        query = sentence.format(word1)\n",
        "        response1 = openai.Completion.create(engine=\"gpt-3.5-turbo-instruct\", prompt=query, max_tokens=60)\n",
        "\n",
        "        query = sentence.format(word2)\n",
        "        response2 = openai.Completion.create(engine=\"gpt-3.5-turbo-instruct\", prompt=query, max_tokens=60)\n",
        "\n",
        "        print(f\"Context: {sentence}\")\n",
        "        print(f\"{word1} -> {response1.choices[0].text.strip()}\")\n",
        "        print(f\"{word2} -> {response2.choices[0].text.strip()}\")\n",
        "        print()\n",
        "\n",
        "# Example usage\n",
        "context_sentences = [\n",
        "    \"In the garden, the {} was blooming beautifully.\",\n",
        "    \"She read a book on the history of {}.\",\n",
        "    # Add more contexts as needed\n",
        "]\n",
        "\n",
        "check_synonym_transitivity('roses', 'flowers', context_sentences)\n"
      ],
      "metadata": {
        "colab": {
          "base_uri": "https://localhost:8080/"
        },
        "id": "2PJG3KhV0Foa",
        "outputId": "bbc5b679-cc1f-47bd-c0a9-0d9a77c16d75"
      },
      "execution_count": 10,
      "outputs": [
        {
          "output_type": "stream",
          "name": "stdout",
          "text": [
            "Context: In the garden, the {} was blooming beautifully.\n",
            "roses -> Their vibrant colors lit up the scene, filling the air with a sweet fragrance. Bees buzzed from one flower to another, collecting pollen and spreading it around to help the roses grow.\n",
            "\n",
            "Each rose seemed to have its own personality, with some standing tall and proud, while others leaned delicately\n",
            "flowers -> The roses were a vibrant red, their petals soft and velvety to the touch. The daisies were a pure white, their cheerful faces turned towards the sun. The sunflowers towered over the other flowers, their bright yellow heads basking in the warm rays.\n",
            "\n",
            "But it was\n",
            "\n",
            "Context: She read a book on the history of {}.\n",
            "roses -> She was amazed at how long roses have been part of human history. She learned that they have been cultivated for thousands of years, dating back to ancient civilizations like the Egyptians and Romans. Roses were often used for medicinal purposes and as symbols in important ceremonies and rituals.\n",
            "\n",
            "As she read on, she\n",
            "flowers -> As she turned each page, she was transported into a world full of beauty and wonder. From the ancient civilizations that first cultivated flowers to the modern day florists, she learned about the significance and symbolism of different types of flowers.\n",
            "\n",
            "She discovered how flowers have been used for medicinal purposes, as decorations\n",
            "\n"
          ]
        }
      ]
    },
    {
      "cell_type": "code",
      "source": [
        "import openai\n",
        "\n",
        "def check_synonym_transitivity(word1, word2, context_sentences):\n",
        "    for sentence in context_sentences:\n",
        "        query = sentence.format(word1)\n",
        "        response1 = openai.ChatCompletion.create(model=\"gpt-4\", messages=[{\"role\": \"system\", \"content\": \"You are a helpful assistant.\"}, {\"role\": \"user\", \"content\": query}])\n",
        "\n",
        "        query = sentence.format(word2)\n",
        "        response2 = openai.ChatCompletion.create(model=\"gpt-4\", messages=[{\"role\": \"system\", \"content\": \"You are a helpful assistant.\"}, {\"role\": \"user\", \"content\": query}])\n",
        "\n",
        "        print(f\"Context: {sentence}\")\n",
        "        print(f\"{word1} -> {response1['choices'][0]['message']['content']}\")\n",
        "        print(f\"{word2} -> {response2['choices'][0]['message']['content']}\")\n",
        "        print()\n",
        "\n",
        "# Example usage\n",
        "context_sentences = [\n",
        "    \"In the garden, the {} was blooming beautifully.\",\n",
        "    \"She read a book on the history of {}.\",\n",
        "    # Add more contexts as needed\n",
        "]\n",
        "\n",
        "check_synonym_transitivity('rose', 'flower', context_sentences)\n"
      ],
      "metadata": {
        "colab": {
          "base_uri": "https://localhost:8080/"
        },
        "id": "toUjBhaQ0rNa",
        "outputId": "0f1621f9-8752-4a98-f90f-eadc937f1500"
      },
      "execution_count": 6,
      "outputs": [
        {
          "output_type": "stream",
          "name": "stdout",
          "text": [
            "Context: In the garden, the {} was blooming beautifully.\n",
            "rose -> That sounds lovely. How can I assist you with that? Do you need help with plant care tips for maintaining the rose or information on similar types of flowers?\n",
            "flower -> That sounds lovely. Do you need assistance with anything related to the garden or the flower?\n",
            "\n",
            "Context: She read a book on the history of {}.\n",
            "rose -> That's interesting! Did she enjoy the book? Is there anything specific she wants to know more about or discuss regarding the history of roses? I'd be happy to help find more information.\n",
            "flower -> That's great! If she has any questions about the book or needs further information on the topic, feel free to ask. I'm here to help!\n",
            "\n"
          ]
        }
      ]
    },
    {
      "cell_type": "markdown",
      "source": [
        "#Using AI to Check Synonymy:\n",
        "In this revised approach, the model is directly queried about the synonym relationship, providing a clearer pathway to assess transitivity. Keep in mind that language models can still interpret these prompts in various ways, and their responses might require interpretation."
      ],
      "metadata": {
        "id": "20MHyyCK6Rv2"
      }
    },
    {
      "cell_type": "code",
      "source": [
        "def check_synonym_transitivity(word1, word2, context_sentences):\n",
        "    for sentence in context_sentences:\n",
        "        query = f\"Are '{word1}' and '{word2}' synonyms? If so, in what context? Example: {sentence}\"\n",
        "        response = openai.Completion.create(engine=\"gpt-3.5-turbo-instruct\", prompt=query, max_tokens=100)\n",
        "\n",
        "        print(f\"Query: {query}\")\n",
        "        print(f\"Response: {response.choices[0].text.strip()}\")\n",
        "        print()\n",
        "\n",
        "# Example usage\n",
        "context_sentences = [\n",
        "    \"In the garden, the roses/flowers were blooming beautifully.\",\n",
        "    \"She read a book on the history of roses/flowers.\",\n",
        "]\n",
        "\n",
        "check_synonym_transitivity('roses', 'flowers', context_sentences)\n"
      ],
      "metadata": {
        "colab": {
          "base_uri": "https://localhost:8080/"
        },
        "id": "8O_uZAy95WB_",
        "outputId": "63314f8f-da05-445f-eb2d-ac2709d81a34"
      },
      "execution_count": 11,
      "outputs": [
        {
          "output_type": "stream",
          "name": "stdout",
          "text": [
            "Query: Are 'roses' and 'flowers' synonyms? If so, in what context? Example: In the garden, the roses/flowers were blooming beautifully.\n",
            "Response: Yes, 'roses' and 'flowers' can be synonyms in certain contexts. In the example given, both words could be used interchangeably to describe the blooming plants in the garden. However, it is important to note that 'roses' are a specific type of flower, so in some contexts, the two words may not necessarily be interchangeable.\n",
            "\n",
            "Possible synonyms for 'flowers' in this context could also include 'blossoms' or 'blooms', as they all refer to\n",
            "\n",
            "Query: Are 'roses' and 'flowers' synonyms? If so, in what context? Example: She read a book on the history of roses/flowers.\n",
            "Response: Yes, 'roses' and 'flowers' can be considered synonyms in certain contexts. In the given example, both terms are used to refer to a type of plant, so they can be used interchangeably. However, in other contexts, 'roses' may refer specifically to the flower of the rose plant, while 'flowers' can encompass a variety of different types of plants.\n",
            "\n"
          ]
        }
      ]
    }
  ]
}