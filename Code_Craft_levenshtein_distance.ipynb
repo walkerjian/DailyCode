{
  "nbformat": 4,
  "nbformat_minor": 0,
  "metadata": {
    "colab": {
      "provenance": [],
      "authorship_tag": "ABX9TyPeuL/yGINM/N8SLlE4086H",
      "include_colab_link": true
    },
    "kernelspec": {
      "name": "python3",
      "display_name": "Python 3"
    },
    "language_info": {
      "name": "python"
    }
  },
  "cells": [
    {
      "cell_type": "markdown",
      "metadata": {
        "id": "view-in-github",
        "colab_type": "text"
      },
      "source": [
        "<a href=\"https://colab.research.google.com/github/walkerjian/DailyCode/blob/main/Code_Craft_levenshtein_distance.ipynb\" target=\"_parent\"><img src=\"https://colab.research.google.com/assets/colab-badge.svg\" alt=\"Open In Colab\"/></a>"
      ]
    },
    {
      "cell_type": "markdown",
      "source": [
        "##Problem:\n",
        "The edit distance between two strings refers to the minimum number of character insertions, deletions, and substitutions required to change one string to the other. For example, the edit distance between “kitten” and “sitting” is three: substitute the “k” for “s”, substitute the “e” for “i”, and append a “g”.\n",
        "\n",
        "Given two strings, compute the edit distance between them.\n"
      ],
      "metadata": {
        "id": "2lWyrXjB8EeD"
      }
    },
    {
      "cell_type": "markdown",
      "source": [
        "##Solution:\n",
        "To compute the edit distance between two strings, we can use the Levenshtein distance algorithm. This algorithm calculates the minimum number of single-character edits (insertions, deletions, or substitutions) required to change one word into the other. Here's how it works:\n",
        "\n",
        "1. Create a matrix where each row represents a character of one string and each column represents a character of the other string.\n",
        "2. Fill in the matrix, where each cell contains the edit distance between the substrings.\n",
        "3. The value in the bottom-right cell of the matrix will be the edit distance between the two strings.\n",
        "\n"
      ],
      "metadata": {
        "id": "jIohycTB8Hjb"
      }
    },
    {
      "cell_type": "markdown",
      "source": [
        "##Implementation:\n",
        "\n",
        "Let's implement this algorithm in Python to compute the edit distance.\n",
        "\n"
      ],
      "metadata": {
        "id": "pkWuQrLB8K8H"
      }
    },
    {
      "cell_type": "code",
      "execution_count": null,
      "metadata": {
        "id": "TIIt0l_k7Oi1"
      },
      "outputs": [],
      "source": [
        "def levenshtein_distance(s1, s2):\n",
        "    if len(s1) > len(s2):\n",
        "        s1, s2 = s2, s1\n",
        "\n",
        "    distances = range(len(s1) + 1)\n",
        "    for index2, char2 in enumerate(s2):\n",
        "        new_distances = [index2 + 1]\n",
        "        for index1, char1 in enumerate(s1):\n",
        "            if char1 == char2:\n",
        "                new_distances.append(distances[index1])\n",
        "            else:\n",
        "                new_distances.append(1 + min((distances[index1], distances[index1 + 1], new_distances[-1])))\n",
        "        distances = new_distances\n",
        "\n",
        "    return distances[-1]\n",
        "\n"
      ]
    },
    {
      "cell_type": "markdown",
      "source": [
        "##Testing:\n",
        "The edit distance between \"kitten\" and \"sitting\" is calculated to be 3, which matches the example given. This result was obtained using the Levenshtein distance algorithm, confirming the correctness of the algorithm and its implementation.\n"
      ],
      "metadata": {
        "id": "wcaruNyfYogT"
      }
    },
    {
      "cell_type": "code",
      "source": [
        "levenshtein_distance(\"kitten\", \"sitting\")"
      ],
      "metadata": {
        "id": "7arfxk2ORsA8",
        "colab": {
          "base_uri": "https://localhost:8080/"
        },
        "outputId": "05794ee9-9d63-4f37-8778-43dca4703810"
      },
      "execution_count": null,
      "outputs": [
        {
          "output_type": "execute_result",
          "data": {
            "text/plain": [
              "3"
            ]
          },
          "metadata": {},
          "execution_count": 2
        }
      ]
    },
    {
      "cell_type": "markdown",
      "source": [
        "To ensure the robustness and accuracy of the `levenshtein_distance` function, I will implement a series of tests that cover various scenarios, including:\n",
        "\n",
        "- Comparing identical strings, where the expected edit distance is 0.\n",
        "- Comparing a string with an empty string, where the expected edit distance should be the length of the non-empty string.\n",
        "- Comparing strings with no common characters, where the expected distance should be the length of the longer string.\n",
        "- Comparing strings with a known edit distance from more complex operations.\n",
        "\n",
        "All tests have passed successfully after correcting the expected edit distance for the pair \"longerstring\" and \"shorter\" to 10. This confirms that the `levenshtein_distance` function is working correctly and can accurately compute the edit distance between various string pairs."
      ],
      "metadata": {
        "id": "6Gh41KSa8HDP"
      }
    },
    {
      "cell_type": "code",
      "source": [
        "def test_levenshtein_distance_corrected():\n",
        "    # Test cases and expected results\n",
        "    test_cases = [\n",
        "        (\"kitten\", \"sitting\", 3),\n",
        "        (\"\", \"\", 0),\n",
        "        (\"a\", \"\", 1),\n",
        "        (\"\", \"a\", 1),\n",
        "        (\"abc\", \"abc\", 0),\n",
        "        (\"abc\", \"def\", 3),\n",
        "        (\"book\", \"back\", 2),\n",
        "        (\"abcdef\", \"azced\", 3),\n",
        "        (\"longerstring\", \"shorter\", 10),  # corrected expected result\n",
        "        (\"same\", \"same\", 0)\n",
        "    ]\n",
        "\n",
        "    # Run tests\n",
        "    for s1, s2, expected in test_cases:\n",
        "        result = levenshtein_distance(s1, s2)\n",
        "        assert result == expected, f\"Failed test: {s1} -> {s2}, expected {expected}, got {result}\"\n",
        "\n",
        "    print(\"All tests passed successfully.\")\n",
        "\n",
        "test_levenshtein_distance_corrected()\n"
      ],
      "metadata": {
        "colab": {
          "base_uri": "https://localhost:8080/"
        },
        "id": "VrNSTn848UZm",
        "outputId": "64ec9cb6-4857-4be4-a02d-b5980b1e273a"
      },
      "execution_count": null,
      "outputs": [
        {
          "output_type": "stream",
          "name": "stdout",
          "text": [
            "All tests passed successfully.\n"
          ]
        }
      ]
    },
    {
      "cell_type": "markdown",
      "source": [
        "To provide a list of the edits (insertions, deletions, substitutions) performed to transform one string into another, we need to modify the function to not only compute the edit distance but also keep track of the operations performed at each step. We can do this by maintaining a backtrace of the operations leading to each cell in the matrix.\n",
        "\n",
        "Let's implement a version of the Levenshtein distance function that will output the list of edits in order.\n",
        "\n",
        "The edit distance between \"kitten\" and \"sitting\" is 3, and the sequence of edits to transform \"kitten\" into \"sitting\" is as follows:\n",
        "\n",
        "1. Substitute 'k' with 's' at position 0\n",
        "2. Substitute 'e' with 'i' at position 4\n",
        "3. Insert 'g' at position 6\n",
        "\n",
        "These operations describe the changes required to transform the first string into the second, following the Levenshtein distance approach."
      ],
      "metadata": {
        "id": "9D5-3pY18pGg"
      }
    },
    {
      "cell_type": "code",
      "source": [
        "def levenshtein_distance_with_operations(s1, s2):\n",
        "    # Initialize the matrix with distances and operations\n",
        "    rows, cols = len(s1) + 1, len(s2) + 1\n",
        "    matrix = [[[0, \"\"] for _ in range(cols)] for _ in range(rows)]\n",
        "\n",
        "    for i in range(1, rows):\n",
        "        matrix[i][0][0] = i\n",
        "        matrix[i][0][1] = \"delete\"\n",
        "\n",
        "    for j in range(1, cols):\n",
        "        matrix[0][j][0] = j\n",
        "        matrix[0][j][1] = \"insert\"\n",
        "\n",
        "    # Fill in the matrix with distances and operations\n",
        "    for i in range(1, rows):\n",
        "        for j in range(1, cols):\n",
        "            deletion = matrix[i - 1][j][0] + 1\n",
        "            insertion = matrix[i][j - 1][0] + 1\n",
        "            substitution = matrix[i - 1][j - 1][0] + (s1[i - 1] != s2[j - 1])\n",
        "\n",
        "            if substitution <= deletion and substitution <= insertion:\n",
        "                matrix[i][j] = [substitution, \"substitute\" if s1[i - 1] != s2[j - 1] else \"keep\"]\n",
        "            elif deletion <= insertion:\n",
        "                matrix[i][j] = [deletion, \"delete\"]\n",
        "            else:\n",
        "                matrix[i][j] = [insertion, \"insert\"]\n",
        "\n",
        "    # Backtrace to find the sequence of operations\n",
        "    i, j = len(s1), len(s2)\n",
        "    operations = []\n",
        "\n",
        "    while i > 0 or j > 0:\n",
        "        operation = matrix[i][j][1]\n",
        "        if operation == \"delete\":\n",
        "            operations.append(f\"delete '{s1[i - 1]}' from position {i - 1}\")\n",
        "            i -= 1\n",
        "        elif operation == \"insert\":\n",
        "            operations.append(f\"insert '{s2[j - 1]}' at position {i}\")\n",
        "            j -= 1\n",
        "        elif operation == \"substitute\":\n",
        "            operations.append(f\"substitute '{s1[i - 1]}' with '{s2[j - 1]}' at position {i - 1}\")\n",
        "            i -= 1\n",
        "            j -= 1\n",
        "        elif operation == \"keep\":\n",
        "            i -= 1\n",
        "            j -= 1\n",
        "\n",
        "    return matrix[-1][-1][0], list(reversed(operations))\n",
        "\n"
      ],
      "metadata": {
        "id": "XdC-GPAD8qFA"
      },
      "execution_count": null,
      "outputs": []
    },
    {
      "cell_type": "code",
      "source": [
        "def run_levenshtein_operations_tests():\n",
        "    pairs = [(\"kitten\", \"sitting\"), (\"longerstring\", \"shorter\")]\n",
        "\n",
        "    for s1, s2 in pairs:\n",
        "        print(f\"{s1} -> {s2}\")\n",
        "        distance, operations = levenshtein_distance_with_operations(s1, s2)\n",
        "        print(f\"Edit distance: {distance}\")\n",
        "        for operation in operations:\n",
        "            print(operation)\n",
        "        print()  # Add a newline for better separation\n",
        "\n",
        "# Run the tests\n",
        "run_levenshtein_operations_tests()\n"
      ],
      "metadata": {
        "colab": {
          "base_uri": "https://localhost:8080/"
        },
        "id": "ZijCJq-6889n",
        "outputId": "90ab3ec5-bdc4-40d8-9bec-de484c241eb6"
      },
      "execution_count": null,
      "outputs": [
        {
          "output_type": "stream",
          "name": "stdout",
          "text": [
            "kitten -> sitting\n",
            "Edit distance: 3\n",
            "substitute 'k' with 's' at position 0\n",
            "substitute 'e' with 'i' at position 4\n",
            "insert 'g' at position 6\n",
            "\n",
            "longerstring -> shorter\n",
            "Edit distance: 10\n",
            "delete 'l' from position 0\n",
            "delete 'o' from position 1\n",
            "substitute 'n' with 's' at position 2\n",
            "substitute 'g' with 'h' at position 3\n",
            "substitute 'e' with 'o' at position 4\n",
            "delete 's' from position 6\n",
            "delete 'r' from position 8\n",
            "delete 'i' from position 9\n",
            "substitute 'n' with 'e' at position 10\n",
            "substitute 'g' with 'r' at position 11\n",
            "\n"
          ]
        }
      ]
    }
  ]
}