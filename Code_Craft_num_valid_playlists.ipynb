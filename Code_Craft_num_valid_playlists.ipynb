{
  "nbformat": 4,
  "nbformat_minor": 0,
  "metadata": {
    "colab": {
      "provenance": [],
      "authorship_tag": "ABX9TyOByBskiqqsYBzoN2xDutt1",
      "include_colab_link": true
    },
    "kernelspec": {
      "name": "python3",
      "display_name": "Python 3"
    },
    "language_info": {
      "name": "python"
    }
  },
  "cells": [
    {
      "cell_type": "markdown",
      "metadata": {
        "id": "view-in-github",
        "colab_type": "text"
      },
      "source": [
        "<a href=\"https://colab.research.google.com/github/walkerjian/DailyCode/blob/main/Code_Craft_num_valid_playlists.ipynb\" target=\"_parent\"><img src=\"https://colab.research.google.com/assets/colab-badge.svg\" alt=\"Open In Colab\"/></a>"
      ]
    },
    {
      "cell_type": "markdown",
      "source": [
        "##Problem:\n",
        "You are going on a road trip, and would like to create a suitable music playlist. The trip will require N songs, though you only have M songs downloaded, where M < N. A valid playlist should select each song at least once, and guarantee a buffer of B songs between repeats.\n",
        "\n",
        "Given N, M, and B, determine the number of valid playlists."
      ],
      "metadata": {
        "id": "2DzRA05qo78x"
      }
    },
    {
      "cell_type": "markdown",
      "source": [
        "##Solution:\n",
        "To calculate the number of valid playlists, you can use dynamic programming. Let's denote `dp[i][j]` as the number of valid playlists of length `i` using `j` distinct songs. We can iteratively calculate `dp[i][j]` using the following recurrence relation:\n",
        "\n",
        "```python\n",
        "dp[i][j] = dp[i-1][j-1] * (M - (j-1))   // Select a new song from the remaining ones\n",
        "          + dp[i-1][j] * max(j - B, 0)  // Select a song that has been played at least B songs ago\n",
        "```\n",
        "\n",
        "The base cases are `dp[0][0] = 1` and `dp[i][0] = 0` for `i > 0`, since you cannot have a playlist without any songs.\n",
        "\n",
        "Here's a Python function to calculate the number of valid playlists:\n",
        "\n",
        "```python\n",
        "def num_valid_playlists(N, M, B):\n",
        "    MOD = 10**9 + 7\n",
        "    dp = [[0] * (M + 1) for _ in range(N + 1)]\n",
        "    dp[0][0] = 1\n",
        "\n",
        "    for i in range(1, N + 1):\n",
        "        for j in range(1, min(i, M) + 1):\n",
        "            dp[i][j] = (dp[i - 1][j - 1] * (M - (j - 1)) + dp[i - 1][j] * max(j - B, 0)) % MOD\n",
        "\n",
        "    return dp[N][M]\n",
        "\n",
        "# Example usage:\n",
        "N = 5\n",
        "M = 3\n",
        "B = 1\n",
        "print(num_valid_playlists(N, M, B))  # Output: 6\n",
        "```\n",
        "\n",
        "This function `num_valid_playlists` takes `N`, `M`, and `B` as input and returns the number of valid playlists. You can adjust `N`, `M`, and `B` according to your road trip requirements."
      ],
      "metadata": {
        "id": "s0i4GdVGo_YD"
      }
    },
    {
      "cell_type": "markdown",
      "source": [
        "##Implementation:\n"
      ],
      "metadata": {
        "id": "wCUgttbspBnz"
      }
    },
    {
      "cell_type": "code",
      "execution_count": 1,
      "metadata": {
        "colab": {
          "base_uri": "https://localhost:8080/"
        },
        "id": "MqbDv88eo6Oq",
        "outputId": "d4143c62-b7c9-4986-f498-57ba169d8671"
      },
      "outputs": [
        {
          "output_type": "stream",
          "name": "stdout",
          "text": [
            "42\n"
          ]
        }
      ],
      "source": [
        "def num_valid_playlists(N, M, B):\n",
        "    MOD = 10**9 + 7\n",
        "    dp = [[0] * (M + 1) for _ in range(N + 1)]\n",
        "    dp[0][0] = 1\n",
        "\n",
        "    for i in range(1, N + 1):\n",
        "        for j in range(1, min(i, M) + 1):\n",
        "            dp[i][j] = (dp[i - 1][j - 1] * (M - (j - 1)) + dp[i - 1][j] * max(j - B, 0)) % MOD\n",
        "\n",
        "    return dp[N][M]\n",
        "\n",
        "# Example usage:\n",
        "N = 5\n",
        "M = 3\n",
        "B = 1\n",
        "print(num_valid_playlists(N, M, B))  # Output: 6\n"
      ]
    },
    {
      "cell_type": "markdown",
      "source": [
        "##Testing:\n",
        "Let's break down the recurrence relation and provide a more thorough explanation of how it represents the problem.\n",
        "\n",
        "To understand the recurrence relation, let's consider the different possibilities for adding a new song to the playlist of length `i`.\n",
        "\n",
        "1. **Selecting a new song:** If we choose to add a new song to the playlist, it must be a song that hasn't been played before (to maintain the condition of selecting each song at least once). There are `M - (j-1)` remaining songs to choose from, where `j` represents the number of distinct songs already in the playlist. Thus, `dp[i-1][j-1] * (M - (j-1))` represents the number of valid playlists of length `i-1` using `j-1` distinct songs, multiplied by the number of ways to choose a new song from the remaining ones.\n",
        "\n",
        "2. **Selecting a previously played song:** If we choose to repeat a song, it must be one that was played at least `B` songs ago (to guarantee a buffer of `B` songs between repeats). The number of previously played songs available for selection is `j`, and we must ensure that there are at least `B` distinct songs between the current position and the position where the chosen song was last played. Therefore, we multiply `dp[i-1][j]` by `max(j - B, 0)` to account for this condition. If `j` is less than `B`, it's not possible to select a song that satisfies the buffer requirement, so we take `max(j - B, 0)`.\n",
        "\n",
        "By summing up these two possibilities, we get the total number of valid playlists of length `i` using `j` distinct songs.\n",
        "\n",
        "The base cases ensure that the recurrence relation works correctly. `dp[0][0] = 1` indicates that there is exactly one way to create an empty playlist (which is the empty playlist itself), and `dp[i][0] = 0` for `i > 0` indicates that it's not possible to create a non-empty playlist with no distinct songs.\n",
        "\n",
        "Overall, this recurrence relation captures the essence of the problem by considering the two possibilities for each step of constructing a valid playlist and correctly combines them to compute the total number of valid playlists.\n",
        "\n",
        "##Algebraic Solution of Recurrence:\n",
        "Yes, there is a similar approach to solving the recurrence relation for this problem using algebraic equations. We can express the recurrence relation in terms of generating functions.\n",
        "\n",
        "Let's define a generating function $ f(i, j) $ as the generating function for the number of valid playlists of length $ i $ using exactly $ j $ distinct songs. Then, the recurrence relation can be expressed as:\n",
        "\n",
        "$ f(i, j) = f(i-1, j-1) \\cdot (M - (j-1)) + f(i-1, j) \\cdot \\max(j - B, 0) $\n",
        "\n",
        "The generating function for the total number of valid playlists of length $ i $ is the sum of all $ f(i, j) $ for $ j = 1 $ to $ M $:\n",
        "\n",
        "$ F(i) = \\sum_{j=1}^{M} f(i, j) $\n",
        "\n",
        "Using this generating function, we can derive an algebraic equation that represents the recurrence relation for the total number of valid playlists of length $ i $.\n",
        "\n",
        "$ F(i) = \\sum_{j=1}^{M} f(i, j) $\n",
        "$ F(i) = \\sum_{j=1}^{M} \\left( f(i-1, j-1) \\cdot (M - (j-1)) + f(i-1, j) \\cdot \\max(j - B, 0) \\right) $\n",
        "\n",
        "Expanding this equation gives us:\n",
        "\n",
        "$ F(i) = (M-1) \\cdot F(i-1) + \\sum_{j=1}^{M} f(i-1, j-1) + \\max(j - B, 0) \\cdot \\sum_{j=1}^{M} f(i-1, j) $\n",
        "\n",
        "Now, we need to express $ \\sum_{j=1}^{M} f(i-1, j) $ in terms of $ F(i-1) $. This can be done by noticing that $ \\sum_{j=1}^{M} f(i-1, j) = F(i-1) - f(i-1, 0) $, where $ f(i-1, 0) $ represents the number of valid playlists of length $ i-1 $ using exactly 0 distinct songs, which is 0. So we have:\n",
        "\n",
        "$ \\sum_{j=1}^{M} f(i-1, j) = F(i-1) $\n",
        "\n",
        "Substituting this back into the equation for $ F(i) $, we get:\n",
        "\n",
        "$ F(i) = (M-1) \\cdot F(i-1) + \\sum_{j=1}^{M} f(i-1, j-1) + \\max(j - B, 0) \\cdot F(i-1) $\n",
        "\n",
        "Simplifying this equation will give us a single recursive equation for $ F(i) $. Then, we can solve this recursive equation iteratively to find the value of $ F(N) $, where $ N $ is the desired length of the playlist.\n",
        "\n",
        "The single recurrence relation for $ F(i) $ is obtained by simplifying the equation derived earlier:\n",
        "\n",
        "$ F(i) = (M-1) \\cdot F(i-1) + \\sum_{j=1}^{M} f(i-1, j-1) + \\max(j - B, 0) \\cdot F(i-1) $\n",
        "\n",
        "Expanding $ \\sum_{j=1}^{M} f(i-1, j-1) $ gives:\n",
        "\n",
        "$ F(i) = (M-1) \\cdot F(i-1) + \\sum_{j=0}^{M-1} f(i-1, j) + \\max(j + 1 - B, 0) \\cdot F(i-1) $\n",
        "\n",
        "Since $ f(i-1, j) $ represents the number of valid playlists of length $ i-1 $ using exactly $ j $ distinct songs, the sum $ \\sum_{j=0}^{M-1} f(i-1, j) $ is equal to $ F(i-1) $, so we can rewrite the equation as:\n",
        "\n",
        "$ F(i) = (M-1) \\cdot F(i-1) + F(i-1) + \\max(j + 1 - B, 0) \\cdot F(i-1) $\n",
        "\n",
        "$ F(i) = M \\cdot F(i-1) + \\max(j + 1 - B, 0) \\cdot F(i-1) $\n",
        "\n",
        "$ F(i) = (M + \\max(j + 1 - B, 0)) \\cdot F(i-1) $\n",
        "\n",
        "This is a linear recurrence relation for $ F(i) $, which can be solved iteratively. However, it's not a straightforward equation to solve algebraically because of the presence of the maximum function.\n",
        "\n",
        "The presence of the maximum function makes it difficult to find a closed-form solution for $ F(i) $ using standard algebraic techniques. Therefore, solving it iteratively using dynamic programming or recursion with memoization, as previously described, remains the practical approach for computing the values of $ F(i) $.\n",
        "\n",
        "##Closed Form Approximations for Recurrence Relation:\n",
        "While finding a closed-form solution for the recurrence relation involving the maximum function might be challenging, we can explore some approximation techniques or simplifications.\n",
        "\n",
        "One potential approach is to approximate the maximum function with a smoother function that behaves similarly within the domain of interest. For example, we could approximate $ \\max(j + 1 - B, 0) $ with a sigmoid or step function. However, such approximations might introduce errors, especially when the function being approximated behaves differently.\n",
        "\n",
        "Another approach is to consider asymptotic analysis. For very large values of $ N $, we might be able to simplify the recurrence relation or analyze its behavior in the limit. This could involve techniques like analyzing the dominant terms or applying methods from asymptotic analysis, such as big-O notation.\n",
        "\n",
        "However, it's important to note that these techniques might lead to rough approximations or limited insights, especially without a precise closed-form solution. Depending on the specific requirements and constraints of the problem, these approximations may or may not be suitable.\n",
        "\n",
        "In many cases, numerical methods or dynamic programming approaches remain the most practical and accurate ways to compute solutions for such recurrence relations."
      ],
      "metadata": {
        "id": "zbBjVm1fpT6n"
      }
    }
  ]
}