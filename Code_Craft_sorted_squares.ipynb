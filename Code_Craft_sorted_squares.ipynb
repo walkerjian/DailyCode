{
  "nbformat": 4,
  "nbformat_minor": 0,
  "metadata": {
    "colab": {
      "provenance": [],
      "authorship_tag": "ABX9TyOr9GAzVEr0bRoinL9do6C0",
      "include_colab_link": true
    },
    "kernelspec": {
      "name": "python3",
      "display_name": "Python 3"
    },
    "language_info": {
      "name": "python"
    }
  },
  "cells": [
    {
      "cell_type": "markdown",
      "metadata": {
        "id": "view-in-github",
        "colab_type": "text"
      },
      "source": [
        "<a href=\"https://colab.research.google.com/github/walkerjian/DailyCode/blob/main/Code_Craft_sorted_squares.ipynb\" target=\"_parent\"><img src=\"https://colab.research.google.com/assets/colab-badge.svg\" alt=\"Open In Colab\"/></a>"
      ]
    },
    {
      "cell_type": "markdown",
      "source": [
        "##Problem:\n",
        "Given a sorted list of integers, square the elements and give the output in sorted order.\n",
        "\n",
        "For example, given [-9, -2, 0, 2, 3], return [0, 4, 4, 9, 81]."
      ],
      "metadata": {
        "id": "RTlRBNBHjHHs"
      }
    },
    {
      "cell_type": "markdown",
      "source": [
        "##Solution:\n",
        "To solve this problem, we can follow these steps:\n",
        "\n",
        "1. Square each element in the list. This can be done using a list comprehension.\n",
        "2. Sort the squared elements. Since squaring a negative number results in a positive number, the order might change after squaring. Sorting is needed to ensure the elements are in ascending order.\n",
        "\n",
        "Let's implement this solution in Python:\n",
        "\n"
      ],
      "metadata": {
        "id": "VR0u6nPJjRD6"
      }
    },
    {
      "cell_type": "markdown",
      "source": [
        "##Implementation:"
      ],
      "metadata": {
        "id": "UIhzoMn-ja_h"
      }
    },
    {
      "cell_type": "code",
      "execution_count": 1,
      "metadata": {
        "colab": {
          "base_uri": "https://localhost:8080/"
        },
        "id": "1A7YqjXOjDfi",
        "outputId": "ea41c565-a36d-4da7-9bef-1adfd4bd6805"
      },
      "outputs": [
        {
          "output_type": "execute_result",
          "data": {
            "text/plain": [
              "[0, 4, 4, 9, 81]"
            ]
          },
          "metadata": {},
          "execution_count": 1
        }
      ],
      "source": [
        "def sorted_squares(arr):\n",
        "    # Squaring each element in the array\n",
        "    squared_arr = [x**2 for x in arr]\n",
        "    # Sorting the squared elements\n",
        "    squared_arr.sort()\n",
        "    return squared_arr\n",
        "\n",
        "# Example usage\n",
        "example_arr = [-9, -2, 0, 2, 3]\n",
        "sorted_squares(example_arr)\n"
      ]
    },
    {
      "cell_type": "markdown",
      "source": [
        "The function successfully squares each element in the list and returns them in sorted order. For the given example list `[-9, -2, 0, 2, 3]`, the output is `[0, 4, 4, 9, 81]`."
      ],
      "metadata": {
        "id": "Tqw-LK7AjaBU"
      }
    },
    {
      "cell_type": "markdown",
      "source": [
        "##Sneaky Square System:\n",
        "There's a more efficient way to solve this problem by leveraging the fact that the input list is already sorted. This allows us to use a two-pointer approach, which is more efficient than squaring and then sorting the elements. Here's how it works:\n",
        "\n",
        "1. Initialize two pointers: one at the start and the other at the end of the list.\n",
        "2. Compare the absolute values of the elements pointed by these two pointers.\n",
        "3. Square the larger absolute value and insert it at the end of the result list.\n",
        "4. Move the pointer (either start or end) inward, depending on which had the larger absolute value.\n",
        "5. Repeat steps 2-4 until all elements are processed.\n",
        "\n",
        "This method leverages the fact that the largest squared values (irrespective of the original sign) will always be at the ends of the sorted list. Let's implement this in Python:"
      ],
      "metadata": {
        "id": "tYnVQLz3j21E"
      }
    },
    {
      "cell_type": "code",
      "source": [
        "def sorted_squares_efficient(arr):\n",
        "    n = len(arr)\n",
        "    result = [0] * n\n",
        "    left, right = 0, n - 1\n",
        "    result_index = n - 1\n",
        "\n",
        "    while left <= right:\n",
        "        left_square = arr[left] ** 2\n",
        "        right_square = arr[right] ** 2\n",
        "\n",
        "        if left_square > right_square:\n",
        "            result[result_index] = left_square\n",
        "            left += 1\n",
        "        else:\n",
        "            result[result_index] = right_square\n",
        "            right -= 1\n",
        "        result_index -= 1\n",
        "\n",
        "    return result\n",
        "\n",
        "# Example usage with the same array\n",
        "sorted_squares_efficient(example_arr)\n"
      ],
      "metadata": {
        "colab": {
          "base_uri": "https://localhost:8080/"
        },
        "id": "qT8Sy9eBj93M",
        "outputId": "612f4c57-62c2-4620-9d93-26c9e2998f19"
      },
      "execution_count": 2,
      "outputs": [
        {
          "output_type": "execute_result",
          "data": {
            "text/plain": [
              "[0, 4, 4, 9, 81]"
            ]
          },
          "metadata": {},
          "execution_count": 2
        }
      ]
    },
    {
      "cell_type": "markdown",
      "source": [
        "\n",
        "The efficient approach, using the two-pointer method, also produces the correct output `[0, 4, 4, 9, 81]` for the example list `[-9, -2, 0, 2, 3]`. This method is more efficient, especially for larger lists, as it avoids the extra sorting step after squaring the elements."
      ],
      "metadata": {
        "id": "ihUAkdozkFDp"
      }
    }
  ]
}