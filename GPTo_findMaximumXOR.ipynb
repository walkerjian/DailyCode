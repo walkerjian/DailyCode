{
  "nbformat": 4,
  "nbformat_minor": 0,
  "metadata": {
    "colab": {
      "provenance": [],
      "authorship_tag": "ABX9TyNa5ZBSoszCAX+vXVxO/eZv",
      "include_colab_link": true
    },
    "kernelspec": {
      "name": "python3",
      "display_name": "Python 3"
    },
    "language_info": {
      "name": "python"
    }
  },
  "cells": [
    {
      "cell_type": "markdown",
      "metadata": {
        "id": "view-in-github",
        "colab_type": "text"
      },
      "source": [
        "<a href=\"https://colab.research.google.com/github/walkerjian/DailyCode/blob/main/GPTo_findMaximumXOR.ipynb\" target=\"_parent\"><img src=\"https://colab.research.google.com/assets/colab-badge.svg\" alt=\"Open In Colab\"/></a>"
      ]
    },
    {
      "cell_type": "markdown",
      "source": [
        "Given an array of integers, find the maximum XOR of any two elements.\n",
        "To find the maximum XOR of any two elements in an array of integers, you can follow this algorithm:\n",
        "\n",
        "1. Initialize a variable `maxXor` to store the maximum XOR value found.\n",
        "2. Iterate through each bit position from the most significant bit to the least significant bit.\n",
        "3. For each bit position, update a mask to include all bits up to and including the current bit.\n",
        "4. Use the mask to find all possible prefixes of the numbers in the array.\n",
        "5. Use these prefixes to determine if there are two prefixes that can achieve a higher XOR than the current `maxXor`.\n",
        "\n",
        "Here’s a Python function implementing this algorithm:\n",
        "\n",
        "1. **Initialize Variables**: Start with `maxXor` as 0 and `mask` as 0. `maxXor` will store the maximum XOR value, and `mask` will help in isolating the current bit position being considered.\n",
        "2. **Iterate Over Bit Positions**: Iterate from the most significant bit (31st bit for 32-bit integers) to the least significant bit (0th bit).\n",
        "3. **Update Mask**: For each bit position, update the `mask` to include the current bit and all more significant bits.\n",
        "4. **Find Prefixes**: Use the mask to find all unique prefixes of the numbers in the array. These prefixes represent the numbers with only the bits up to the current bit position.\n",
        "5. **Guess New maxXor**: Assume that the current bit will contribute to the maximum XOR value by setting it in `newMaxXor`.\n",
        "6. **Check Prefixes**: Check if there exist two prefixes in the set such that their XOR is equal to `newMaxXor`. If so, update `maxXor` to `newMaxXor`.\n",
        "\n",
        "By iterating through each bit position in this manner, you ensure that the maximum possible XOR value is found."
      ],
      "metadata": {
        "id": "_U7C9jbYQKGa"
      }
    },
    {
      "cell_type": "code",
      "execution_count": 1,
      "metadata": {
        "colab": {
          "base_uri": "https://localhost:8080/"
        },
        "id": "hjzMauh1QJB6",
        "outputId": "8fa87cb5-a373-4da5-f6d5-e94a94bbef5a"
      },
      "outputs": [
        {
          "output_type": "stream",
          "name": "stdout",
          "text": [
            "28\n"
          ]
        }
      ],
      "source": [
        "def findMaximumXOR(nums):\n",
        "    maxXor = 0\n",
        "    mask = 0\n",
        "\n",
        "    for i in range(31, -1, -1):\n",
        "        # Update mask\n",
        "        mask |= (1 << i)\n",
        "\n",
        "        # Store prefixes of all numbers with the current mask\n",
        "        prefixes = {num & mask for num in nums}\n",
        "\n",
        "        # Guess a new maxXor\n",
        "        newMaxXor = maxXor | (1 << i)\n",
        "\n",
        "        # Check if there are two prefixes that can achieve the newMaxXor\n",
        "        for prefix in prefixes:\n",
        "            if (newMaxXor ^ prefix) in prefixes:\n",
        "                maxXor = newMaxXor\n",
        "                break\n",
        "\n",
        "    return maxXor\n",
        "\n",
        "# Example usage:\n",
        "nums = [3, 10, 5, 25, 2, 8]\n",
        "print(findMaximumXOR(nums))  # Output: 28"
      ]
    }
  ]
}