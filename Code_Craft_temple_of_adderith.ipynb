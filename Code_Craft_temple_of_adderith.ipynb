{
  "nbformat": 4,
  "nbformat_minor": 0,
  "metadata": {
    "colab": {
      "provenance": [],
      "authorship_tag": "ABX9TyNU21lQofiPJOQYRnCAyIKB",
      "include_colab_link": true
    },
    "kernelspec": {
      "name": "python3",
      "display_name": "Python 3"
    },
    "language_info": {
      "name": "python"
    }
  },
  "cells": [
    {
      "cell_type": "markdown",
      "metadata": {
        "id": "view-in-github",
        "colab_type": "text"
      },
      "source": [
        "<a href=\"https://colab.research.google.com/github/walkerjian/DailyCode/blob/main/Code_Craft_temple_of_adderith.ipynb\" target=\"_parent\"><img src=\"https://colab.research.google.com/assets/colab-badge.svg\" alt=\"Open In Colab\"/></a>"
      ]
    },
    {
      "cell_type": "markdown",
      "source": [
        "##Problem:\n",
        "Implement division of two positive integers without using the division, multiplication, or modulus operators. Return the quotient as an integer, ignoring the remainder.\n"
      ],
      "metadata": {
        "id": "2lWyrXjB8EeD"
      }
    },
    {
      "cell_type": "markdown",
      "source": [
        "##Solution:\n",
        "To implement division of two positive integers without using division, multiplication, or modulus operators, we can use subtraction and iteration. We repeatedly subtract the divisor from the dividend and count how many times we do this until the dividend becomes less than the divisor. This count represents the integer quotient of the division. Let's implement this logic in Python.\n",
        "\n"
      ],
      "metadata": {
        "id": "jIohycTB8Hjb"
      }
    },
    {
      "cell_type": "markdown",
      "source": [
        "##Implementation:\n",
        "This function will return the integer quotient of the division, discarding the remainder. It effectively performs the division using only subtraction and comparison."
      ],
      "metadata": {
        "id": "pkWuQrLB8K8H"
      }
    },
    {
      "cell_type": "code",
      "source": [
        "def add(a, b):\n",
        "    return a + b\n",
        "\n",
        "def subtract(a, b):\n",
        "    # Initialize the result to 'a', then decrement or increment to subtract 'b'\n",
        "    result = a\n",
        "    while b != 0:\n",
        "        if b > 0:\n",
        "            result = add(result, -1)\n",
        "            b = add(b, -1)\n",
        "        else:\n",
        "            result = add(result, 1)\n",
        "            b = add(b, 1)\n",
        "    return result\n",
        "\n",
        "def multiply(a, b):\n",
        "    result = 0\n",
        "    neg_flag = False\n",
        "    if a < 0:\n",
        "        a = subtract(0, a)  # Make 'a' positive\n",
        "        neg_flag = not neg_flag\n",
        "    if b < 0:\n",
        "        b = subtract(0, b)  # Make 'b' positive\n",
        "        neg_flag = not neg_flag\n",
        "\n",
        "    while b != 0:\n",
        "        result = add(result, a)\n",
        "        b = subtract(b, 1)\n",
        "\n",
        "    if neg_flag:\n",
        "        result = subtract(0, result)  # Negate the result if needed\n",
        "    return result\n",
        "\n",
        "def divide(dividend, divisor):\n",
        "    if divisor == 0:\n",
        "        raise ValueError(\"Cannot divide by zero\")\n",
        "\n",
        "    quotient = 0\n",
        "    neg_flag = False\n",
        "    if dividend < 0:\n",
        "        dividend = subtract(0, dividend)  # Make 'dividend' positive\n",
        "        neg_flag = not neg_flag\n",
        "    if divisor < 0:\n",
        "        divisor = subtract(0, divisor)  # Make 'divisor' positive\n",
        "        neg_flag = not neg_flag\n",
        "\n",
        "    while dividend >= divisor:\n",
        "        dividend = subtract(dividend, divisor)\n",
        "        quotient = add(quotient, 1)\n",
        "\n",
        "    if neg_flag:\n",
        "        quotient = subtract(0, quotient)  # Negate the result if needed\n",
        "    return quotient\n"
      ],
      "metadata": {
        "id": "PTXm-PnOmtwe"
      },
      "execution_count": 25,
      "outputs": []
    },
    {
      "cell_type": "code",
      "source": [
        "# Test cases\n",
        "test_cases = [\n",
        "    (5, 3),  # positive numbers\n",
        "    (-5, 3),  # negative first operand\n",
        "    (5, -3),  # negative second operand\n",
        "    (-5, -3),  # both negative\n",
        "    (0, 5),  # zero as first operand\n",
        "    (5, 0),  # zero as second operand (should raise exception for division)\n",
        "]\n",
        "\n",
        "# Run and display results\n",
        "results = []\n",
        "for a, b in test_cases:\n",
        "    if b == 0:  # Handle division by zero case\n",
        "        try:\n",
        "            div_result = divide(a, b)\n",
        "        except ValueError as e:\n",
        "            div_result = str(e)\n",
        "    else:\n",
        "        div_result = divide(a, b)\n",
        "\n",
        "    mult_result = multiply(a, b)\n",
        "    results.append((a, b, mult_result, div_result))\n",
        "\n",
        "results\n"
      ],
      "metadata": {
        "colab": {
          "base_uri": "https://localhost:8080/"
        },
        "id": "_kK9Ngo8iHUh",
        "outputId": "665395d9-a1f3-478d-981c-de853d2ce58a"
      },
      "execution_count": 26,
      "outputs": [
        {
          "output_type": "execute_result",
          "data": {
            "text/plain": [
              "[(5, 3, 15, 1),\n",
              " (-5, 3, -15, -1),\n",
              " (5, -3, -15, -1),\n",
              " (-5, -3, 15, 1),\n",
              " (0, 5, 0, 0),\n",
              " (5, 0, 0, 'Cannot divide by zero')]"
            ]
          },
          "metadata": {},
          "execution_count": 26
        }
      ]
    },
    {
      "cell_type": "code",
      "source": [
        "# Test the addition function\n",
        "assert add(10, 5) == 15\n",
        "assert add(-3, 2) == -1\n",
        "assert add(0, 0) == 0\n",
        "\n",
        "# Test the subtraction function\n",
        "assert subtract(10, 5) == 5\n",
        "assert subtract(-3, 2) == -5\n",
        "assert subtract(0, 0) == 0\n",
        "\n",
        "# Test the multiplication function\n",
        "assert multiply(10, 5) == 50\n",
        "assert multiply(-3, 2) == -6\n",
        "assert multiply(0, 0) == 0\n",
        "\n",
        "# Test the division function\n",
        "assert divide(10, 3) == 3\n",
        "assert divide(15, 4) == 3\n",
        "assert divide(20, 5) == 4\n",
        "assert divide(25, 6) == 4\n",
        "assert divide(-10, 3) == -3\n",
        "assert divide(-15, 4) == -3\n",
        "assert divide(-20, 5) == -4\n",
        "assert divide(-25, 6) == -4\n"
      ],
      "metadata": {
        "id": "Go037jqFgHqX"
      },
      "execution_count": 27,
      "outputs": []
    }
  ]
}