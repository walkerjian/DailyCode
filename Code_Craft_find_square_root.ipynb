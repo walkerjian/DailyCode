{
  "nbformat": 4,
  "nbformat_minor": 0,
  "metadata": {
    "colab": {
      "provenance": [],
      "authorship_tag": "ABX9TyNj53SkWmbcT2IPVrFyH/+4",
      "include_colab_link": true
    },
    "kernelspec": {
      "name": "python3",
      "display_name": "Python 3"
    },
    "language_info": {
      "name": "python"
    }
  },
  "cells": [
    {
      "cell_type": "markdown",
      "metadata": {
        "id": "view-in-github",
        "colab_type": "text"
      },
      "source": [
        "<a href=\"https://colab.research.google.com/github/walkerjian/DailyCode/blob/main/Code_Craft_find_square_root.ipynb\" target=\"_parent\"><img src=\"https://colab.research.google.com/assets/colab-badge.svg\" alt=\"Open In Colab\"/></a>"
      ]
    },
    {
      "cell_type": "markdown",
      "source": [
        "##Problem:\n",
        "Given a real number n, find the square root of n. For example, given n = 9, return 3."
      ],
      "metadata": {
        "id": "B6N828Dc6S4Y"
      }
    },
    {
      "cell_type": "markdown",
      "source": [
        "##Solution:\n"
      ],
      "metadata": {
        "id": "6mCuPYYS642e"
      }
    },
    {
      "cell_type": "code",
      "execution_count": 2,
      "metadata": {
        "colab": {
          "base_uri": "https://localhost:8080/"
        },
        "id": "33XuxhvP6Pq2",
        "outputId": "834ffed5-f513-4a1c-b77f-3b55e590a766"
      },
      "outputs": [
        {
          "output_type": "stream",
          "name": "stdout",
          "text": [
            "The square root of 9 is 3.0\n"
          ]
        }
      ],
      "source": [
        "import math\n",
        "\n",
        "def find_square_root(n):\n",
        "    return math.sqrt(n)\n",
        "\n",
        "n = 9\n",
        "square_root = find_square_root(n)\n",
        "print(f\"The square root of {n} is {square_root}\")\n"
      ]
    },
    {
      "cell_type": "markdown",
      "source": [
        "The Newton-Raphson method, also known as Newton's method, is a powerful technique used for finding successively better approximations to the roots (or zeroes) of a real-valued function. It's particularly well-suited for finding square roots but can be applied to a wide range of problems. Here's a basic overview of how it works, particularly in the context of finding square roots:\n",
        "\n",
        "### Conceptual Overview\n",
        "\n",
        "1. **Initial Guess**: You start with an initial guess. For square roots, a common choice is the number itself, although any positive number can serve as a starting point.\n",
        "\n",
        "2. **Iterative Process**: Newton-Raphson uses an iterative process to improve the guess. Each step of the iteration moves closer to the actual root.\n",
        "\n",
        "3. **Update Rule**: The method uses the function and its derivative to calculate the next approximation.\n",
        "\n",
        "### Mathematical Explanation\n",
        "\n",
        "To find the square root of a number $x$, you want to solve the equation $f(s) = s^2 - x = 0$, where $s$ is the square root. The Newton-Raphson update rule is:\n",
        "\n",
        "$$ s_{\\text{new}} = s_{\\text{old}} - \\frac{f(s_{\\text{old}})}{f'(s_{\\text{old}})} $$\n",
        "\n",
        "For our function $f(s) = s^2 - x$, the derivative $f'(s)$ is $2s$. Plugging these into the update rule gives:\n",
        "\n",
        "$$ s_{\\text{new}} = s_{\\text{old}} - \\frac{s_{\\text{old}}^2 - x}{2s_{\\text{old}}} $$\n",
        "$$ = \\frac{2s_{\\text{old}}^2 - s_{\\text{old}}^2 + x}{2s_{\\text{old}}} $$\n",
        "$$ = \\frac{s_{\\text{old}}^2 + x}{2s_{\\text{old}}} $$\n",
        "$$ = \\frac{1}{2}\\left( s_{\\text{old}} + \\frac{x}{s_{\\text{old}}} \\right) $$\n",
        "\n",
        "So, the iteration formula is:\n",
        "\n",
        "$$ s_{\\text{new}} = \\frac{1}{2}\\left( s_{\\text{old}} + \\frac{x}{s_{\\text{old}}} \\right) $$\n",
        "\n",
        "### Practical Considerations\n",
        "\n",
        "- **Convergence**: The method converges quickly to the correct answer, especially if the initial guess is close to the actual root. However, poor initial guesses or certain functions can lead to slow or no convergence.\n",
        "- **Accuracy**: The accuracy improves with each iteration. You typically continue iterating until the change in successive approximations is below a certain tolerance.\n",
        "\n",
        "### Application\n",
        "\n",
        "In the `mysqrt` function, we used this iterative process. We repeatedly improved our guess for the square root of `n` using the update formula until the difference between successive guesses was less than a specified tolerance level, ensuring a close approximation to the actual square root.\n",
        "\n",
        "Newton-Raphson is a cornerstone in numerical methods due to its simplicity and efficiency, especially for problems where an analytical solution is not feasible."
      ],
      "metadata": {
        "id": "xM-dbBSO704I"
      }
    },
    {
      "cell_type": "code",
      "source": [
        "def mysqrt(n):\n",
        "    if n < 0:\n",
        "        raise ValueError(\"Cannot compute the square root of a negative number.\")\n",
        "    if n == 0:\n",
        "        return 0\n",
        "\n",
        "    tolerance = 1e-10\n",
        "    guess = n\n",
        "    while True:\n",
        "        new_guess = (guess + n / guess) / 2\n",
        "        if abs(new_guess - guess) < tolerance:\n",
        "            return new_guess\n",
        "        guess = new_guess\n",
        "\n"
      ],
      "metadata": {
        "id": "jlXCdroY6su-"
      },
      "execution_count": 6,
      "outputs": []
    },
    {
      "cell_type": "code",
      "source": [
        "def test_sqrt_functions():\n",
        "    test_numbers = [0, 1, 2, 3, 4, 9, 16, 25, 100, 1000, 0.5, 0.1]\n",
        "\n",
        "    print(\"Testing square root functions:\")\n",
        "    print(f\"{'Number':>10} {'math.sqrt':>15} {'mysqrt':>15} {'Difference':>15}\")\n",
        "    for number in test_numbers:\n",
        "        sqrt_builtin = math.sqrt(number)\n",
        "        sqrt_custom = mysqrt(number)\n",
        "        difference = abs(sqrt_builtin - sqrt_custom)\n",
        "\n",
        "        print(f\"{number:10} {sqrt_builtin:15.12f} {sqrt_custom:15.12f} {difference:15.12f}\")\n",
        "\n",
        "test_sqrt_functions()\n"
      ],
      "metadata": {
        "colab": {
          "base_uri": "https://localhost:8080/"
        },
        "id": "ivOH0dni7A4j",
        "outputId": "6f60e910-57b3-4d4d-a3d9-f97fa1ab6634"
      },
      "execution_count": 12,
      "outputs": [
        {
          "output_type": "stream",
          "name": "stdout",
          "text": [
            "Testing square root functions:\n",
            "    Number       math.sqrt          mysqrt      Difference\n",
            "         0  0.000000000000  0.000000000000  0.000000000000\n",
            "         1  1.000000000000  1.000000000000  0.000000000000\n",
            "         2  1.414213562373  1.414213562373  0.000000000000\n",
            "         3  1.732050807569  1.732050807569  0.000000000000\n",
            "         4  2.000000000000  2.000000000000  0.000000000000\n",
            "         9  3.000000000000  3.000000000000  0.000000000000\n",
            "        16  4.000000000000  4.000000000000  0.000000000000\n",
            "        25  5.000000000000  5.000000000000  0.000000000000\n",
            "       100 10.000000000000 10.000000000000  0.000000000000\n",
            "      1000 31.622776601684 31.622776601684  0.000000000000\n",
            "       0.5  0.707106781187  0.707106781187  0.000000000000\n",
            "       0.1  0.316227766017  0.316227766017  0.000000000000\n"
          ]
        }
      ]
    }
  ]
}