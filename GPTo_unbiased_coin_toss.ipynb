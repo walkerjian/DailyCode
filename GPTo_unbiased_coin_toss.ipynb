{
  "nbformat": 4,
  "nbformat_minor": 0,
  "metadata": {
    "colab": {
      "provenance": [],
      "authorship_tag": "ABX9TyMHx4EmdKVqlVe6CR3nCfxo",
      "include_colab_link": true
    },
    "kernelspec": {
      "name": "python3",
      "display_name": "Python 3"
    },
    "language_info": {
      "name": "python"
    }
  },
  "cells": [
    {
      "cell_type": "markdown",
      "metadata": {
        "id": "view-in-github",
        "colab_type": "text"
      },
      "source": [
        "<a href=\"https://colab.research.google.com/github/walkerjian/DailyCode/blob/main/GPTo_unbiased_coin_toss.ipynb\" target=\"_parent\"><img src=\"https://colab.research.google.com/assets/colab-badge.svg\" alt=\"Open In Colab\"/></a>"
      ]
    },
    {
      "cell_type": "markdown",
      "source": [
        "Assume you have access to a function toss_biased() which returns 0 or 1 with a probability that's not 50-50 (but also not 0-100 or 100-0). You do not know the bias of the coin.\n",
        "\n",
        "Write a function to simulate an unbiased coin toss."
      ],
      "metadata": {
        "id": "189K4b1cPPFf"
      }
    },
    {
      "cell_type": "markdown",
      "source": [
        "To simulate an unbiased coin toss using a biased coin (where the bias is unknown but not 0-100 or 100-0), you can use the Von Neumann extractor method. This method uses pairs of outcomes to cancel out the bias. Here's how it works:\n",
        "\n",
        "1. Toss the biased coin twice.\n",
        "2. If the results are the same (00 or 11), discard the results and try again.\n",
        "3. If the results are different (01 or 10), return the first result as the unbiased outcome.\n",
        "\n",
        "Here's a Python function that implements this method:\n",
        "This function repeatedly tosses the biased coin in pairs and only returns a result when the two tosses are different, ensuring an unbiased outcome. By discarding pairs where the results are the same, the method effectively cancels out the bias."
      ],
      "metadata": {
        "id": "ffZIux34PRZ9"
      }
    },
    {
      "cell_type": "code",
      "execution_count": 1,
      "metadata": {
        "colab": {
          "base_uri": "https://localhost:8080/"
        },
        "id": "V72rGhtXPMHY",
        "outputId": "4ce633ab-9d6c-492c-b7c3-810469e6a8e2"
      },
      "outputs": [
        {
          "output_type": "stream",
          "name": "stdout",
          "text": [
            "Number of 0s: 515\n",
            "Number of 1s: 485\n"
          ]
        }
      ],
      "source": [
        "import random\n",
        "\n",
        "def toss_biased():\n",
        "    # This is a placeholder for the actual biased coin toss function.\n",
        "    # Replace with the actual implementation.\n",
        "    return random.choices([0, 1], weights=[0.6, 0.4])[0]\n",
        "\n",
        "def unbiased_coin_toss():\n",
        "    while True:\n",
        "        toss1 = toss_biased()\n",
        "        toss2 = toss_biased()\n",
        "\n",
        "        if toss1 != toss2:\n",
        "            return toss1\n",
        "\n",
        "# Example usage:\n",
        "results = [unbiased_coin_toss() for _ in range(1000)]\n",
        "print(f\"Number of 0s: {results.count(0)}\")\n",
        "print(f\"Number of 1s: {results.count(1)}\")"
      ]
    },
    {
      "cell_type": "code",
      "source": [],
      "metadata": {
        "id": "s4fRpI5LPaGu"
      },
      "execution_count": null,
      "outputs": []
    }
  ]
}