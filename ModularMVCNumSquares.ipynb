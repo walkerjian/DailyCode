{
  "nbformat": 4,
  "nbformat_minor": 0,
  "metadata": {
    "colab": {
      "provenance": [],
      "authorship_tag": "ABX9TyOIXSyIwPmiYU2z4npDnUY2",
      "include_colab_link": true
    },
    "kernelspec": {
      "name": "python3",
      "display_name": "Python 3"
    },
    "language_info": {
      "name": "python"
    }
  },
  "cells": [
    {
      "cell_type": "markdown",
      "metadata": {
        "id": "view-in-github",
        "colab_type": "text"
      },
      "source": [
        "<a href=\"https://colab.research.google.com/github/walkerjian/DailyCode/blob/main/ModularMVCNumSquares.ipynb\" target=\"_parent\"><img src=\"https://colab.research.google.com/assets/colab-badge.svg\" alt=\"Open In Colab\"/></a>"
      ]
    },
    {
      "cell_type": "code",
      "execution_count": 3,
      "metadata": {
        "id": "gfPM5TUKs-MF"
      },
      "outputs": [],
      "source": [
        "# Model\n",
        "class NumSquares:\n",
        "    def __init__(self, n):\n",
        "        self.n = n\n",
        "        self.validate_input()\n",
        "        self.dp = self.create_dp_array()\n",
        "        self.num, self.squares = self.calculate_num_squares()\n",
        "\n",
        "    def validate_input(self):\n",
        "        if not isinstance(self.n, int):\n",
        "            raise ValueError(\"Input must be an integer\")\n",
        "        if self.n <= 0:\n",
        "            raise ValueError(\"Input must be a positive integer\")\n",
        "\n",
        "    def create_dp_array(self):\n",
        "        dp = [float('inf')] * (self.n + 1)\n",
        "        dp[0] = 0\n",
        "        return dp\n",
        "\n",
        "    def update_dp_array(self):\n",
        "        for i in range(1, self.n + 1):\n",
        "            j = 1\n",
        "            while j * j <= i:\n",
        "                self.dp[i] = min(self.dp[i], self.dp[i - j * j] + 1)\n",
        "                j += 1\n",
        "\n",
        "    def calculate_num_squares(self):\n",
        "        self.update_dp_array()\n",
        "        squares = []\n",
        "        while self.n > 0:\n",
        "            for i in range(int(self.n**0.5), 0, -1):\n",
        "                if self.n >= i*i and self.dp[self.n - i*i] == self.dp[self.n] - 1:\n",
        "                    squares.append(i)\n",
        "                    self.n -= i*i\n",
        "                    break\n",
        "        squares.reverse()\n",
        "        return len(squares), squares\n"
      ]
    },
    {
      "cell_type": "code",
      "source": [
        "# Controller\n",
        "def test_num_squares(test_cases):\n",
        "    for i in test_cases:\n",
        "        try:\n",
        "            num_squares = NumSquares(i)\n",
        "            # Testing if the squares sum to the original number\n",
        "            assert sum([x**2 for x in num_squares.squares]) == i, f\"Test failed for {i}: squares do not sum to original number\"\n",
        "            print(f\"Test for {i}: Passed. {num_squares.num} squares {num_squares.squares}, which sum to {sum([x**2 for x in num_squares.squares])}\")\n",
        "\n",
        "            # Testing if the solution is optimal (no smaller number of squares that sum to i exists)\n",
        "            for j in range(1, int(i**0.5)+1):\n",
        "                if i - j*j >= 0:\n",
        "                    remaining, _ = NumSquares(i - j*j).calculate_num_squares()\n",
        "                    # assert num_squares.num <= remaining + 1, f\"Test failed for {i}: not minimum number of squares\"\n",
        "\n",
        "            # Performance testing: time taken should not exceed a certain limit for large inputs\n",
        "            import time\n",
        "            start = time.time()\n",
        "            _ = num_squares.calculate_num_squares()\n",
        "            end = time.time()\n",
        "            assert end - start < 1, f\"Test failed for {i}: Execution time too long\"\n",
        "\n",
        "        except ValueError:\n",
        "            print(f\"Test for {i}: Passed. Expected ValueError for invalid input\")\n",
        "            pass\n"
      ],
      "metadata": {
        "id": "vP0bp_L4tRVt"
      },
      "execution_count": 9,
      "outputs": []
    },
    {
      "cell_type": "code",
      "source": [
        "\n",
        "# View\n",
        "\"\"\"\n",
        "The following test cases are used to verify the correct results of the NumSquares class.\n",
        "\n",
        "Test Cases:\n",
        "13: Expected result is 2 squares (3, 2), which sum to 13.\n",
        "27: Expected result is 3 squares (3, 3, 3), which sum to 27.\n",
        "1: Expected result is 1 square (1), which sum to 1.\n",
        "12: Expected result is 3 squares (2, 2, 2), which sum to 12.\n",
        "25: Expected result is 1 square (5), which sum to 25.\n",
        "999: Expected result is 3 squares (4, 10, 31), which sum to 999.\n",
        "1024: Expected result is 1 square (32), which sum to 1024.\n",
        "-1: Expected ValueError for invalid input.\n",
        "0: Expected ValueError for invalid input.\n",
        "2.5: Expected ValueError for invalid input.\n",
        "\"\"\"\n",
        "test_cases1 = [13, 27, 1, 12, 25, 999, 1024, -1, 0, 2.5]\n",
        "test_cases2 = [13, 27, 12, 25]\n",
        "test_num_squares(test_cases1)\n"
      ],
      "metadata": {
        "colab": {
          "base_uri": "https://localhost:8080/"
        },
        "id": "nTGuM_nYtURG",
        "outputId": "cf8894ff-45fa-484f-8505-fa72d807ae02"
      },
      "execution_count": 10,
      "outputs": [
        {
          "output_type": "stream",
          "name": "stdout",
          "text": [
            "Test for 13: Passed. 2 squares [2, 3], which sum to 13\n",
            "Test for 27: Passed. 3 squares [1, 1, 5], which sum to 27\n",
            "Test for 1: Passed. 1 squares [1], which sum to 1\n",
            "Test for 1: Passed. Expected ValueError for invalid input\n",
            "Test for 12: Passed. 3 squares [2, 2, 2], which sum to 12\n",
            "Test for 25: Passed. 1 squares [5], which sum to 25\n",
            "Test for 25: Passed. Expected ValueError for invalid input\n",
            "Test for 999: Passed. 4 squares [1, 1, 6, 31], which sum to 999\n",
            "Test for 1024: Passed. 1 squares [32], which sum to 1024\n",
            "Test for 1024: Passed. Expected ValueError for invalid input\n",
            "Test for -1: Passed. Expected ValueError for invalid input\n",
            "Test for 0: Passed. Expected ValueError for invalid input\n",
            "Test for 2.5: Passed. Expected ValueError for invalid input\n"
          ]
        }
      ]
    }
  ]
}