{
  "nbformat": 4,
  "nbformat_minor": 0,
  "metadata": {
    "colab": {
      "provenance": [],
      "authorship_tag": "ABX9TyP6ic8KFneoirgrCbHN2QrU",
      "include_colab_link": true
    },
    "kernelspec": {
      "name": "python3",
      "display_name": "Python 3"
    },
    "language_info": {
      "name": "python"
    }
  },
  "cells": [
    {
      "cell_type": "markdown",
      "metadata": {
        "id": "view-in-github",
        "colab_type": "text"
      },
      "source": [
        "<a href=\"https://colab.research.google.com/github/walkerjian/DailyCode/blob/main/Code_Craft_seleCt.ipynb\" target=\"_parent\"><img src=\"https://colab.research.google.com/assets/colab-badge.svg\" alt=\"Open In Colab\"/></a>"
      ]
    },
    {
      "cell_type": "markdown",
      "source": [
        "##Problem:\n",
        "Given three 32-bit integers x, y, and b, return x if b is 1 and y if b is 0, using only mathematical or bit operations. You can assume b can only be 1 or 0."
      ],
      "metadata": {
        "id": "BdWyYiLf-PMJ"
      }
    },
    {
      "cell_type": "markdown",
      "source": [
        "##Solution:\n",
        "To solve this problem, we can use bitwise operations in a clever way. Given that `b` can only be `1` or `0`, we can use it to select between `x` and `y` using bitwise operators. The idea is to use `b` to nullify one of the numbers and keep the other.\n",
        "\n",
        "Here's how we can do it:\n",
        "\n",
        "- When `b` is `1`, we want to keep `x` and nullify `y`. We can achieve this by:\n",
        "  - Multiplying `x` by `b` (which keeps `x` unchanged since `1 * x = x`).\n",
        "  - Multiplying `y` by `(1 - b)` (which nullifies `y` since `1 - 1 = 0` and `0 * y = 0`).\n",
        "- When `b` is `0`, we want to keep `y` and nullify `x`. We can achieve this by:\n",
        "  - Multiplying `x` by `b` (which nullifies `x` since `0 * x = 0`).\n",
        "  - Multiplying `y` by `(1 - b)` (which keeps `y` unchanged since `1 - 0 = 1` and `1 * y = y`).\n",
        "\n",
        "Finally, we add these two results. In either case, one of them will be zero, and the other will be the number we want to return. This approach ensures that only mathematical or bit operations are used."
      ],
      "metadata": {
        "id": "sXrMnHec-Sd3"
      }
    },
    {
      "cell_type": "markdown",
      "source": [
        "##Implementation:\n"
      ],
      "metadata": {
        "id": "2dTnisM_-VFD"
      }
    },
    {
      "cell_type": "code",
      "execution_count": 2,
      "metadata": {
        "colab": {
          "base_uri": "https://localhost:8080/"
        },
        "id": "-H4B_2op-Lal",
        "outputId": "84821d02-f0a8-41d9-8e7e-9697ee103200"
      },
      "outputs": [
        {
          "output_type": "stream",
          "name": "stdout",
          "text": [
            "Writing select.c\n"
          ]
        }
      ],
      "source": [
        "%%writefile select.c\n",
        "#include <stdio.h>\n",
        "\n",
        "int select(int x, int y, int b) {\n",
        "    return x * b + y * (1 - b);\n",
        "}\n",
        "\n",
        "int main() {\n",
        "    // Assigning values to x, y, and b\n",
        "    int x = 10; // Example value for x\n",
        "    int y = 20; // Example value for y\n",
        "    int b = 1;  // Example value for b (can be 0 or 1)\n",
        "\n",
        "    // Calling the select function\n",
        "    int result = select(x, y, b);\n",
        "\n",
        "    // Printing the arguments and result\n",
        "    printf(\"x: %d, y: %d, b: %d, result: %d\\n\", x, y, b, result);\n",
        "\n",
        "    return 0;\n",
        "}\n"
      ]
    },
    {
      "cell_type": "code",
      "source": [
        "!gcc select.c -o select\n"
      ],
      "metadata": {
        "id": "LHoWMMPC_3Eh"
      },
      "execution_count": 3,
      "outputs": []
    },
    {
      "cell_type": "code",
      "source": [
        "!./select\n"
      ],
      "metadata": {
        "colab": {
          "base_uri": "https://localhost:8080/"
        },
        "id": "fRVLgOBN_7r4",
        "outputId": "d268609a-c39f-4a81-8cd8-ae4b56902415"
      },
      "execution_count": 4,
      "outputs": [
        {
          "output_type": "stream",
          "name": "stdout",
          "text": [
            "x: 10, y: 20, b: 1, result: 10\n"
          ]
        }
      ]
    },
    {
      "cell_type": "code",
      "source": [
        "%%writefile select2.c\n",
        "#include <stdio.h>\n",
        "#include <stdlib.h>\n",
        "\n",
        "int main(int argc, char *argv[]) {\n",
        "    // Check if the correct number of arguments is passed\n",
        "    if (argc != 4) {\n",
        "        printf(\"Usage: %s x y b\\n\", argv[0]);\n",
        "        return 1;\n",
        "    }\n",
        "\n",
        "    // Convert arguments from strings to integers\n",
        "    int x = atoi(argv[1]);\n",
        "    int y = atoi(argv[2]);\n",
        "    int b = atoi(argv[3]);\n",
        "\n",
        "    // Check if b is either 0 or 1\n",
        "    if (b != 0 && b != 1) {\n",
        "        printf(\"Invalid input for b. Please enter 0 or 1.\\n\");\n",
        "        return 1;\n",
        "    }\n",
        "\n",
        "    // Inline implementation of the select function\n",
        "    int result = x * b + y * (1 - b);\n",
        "\n",
        "    // Printing the result\n",
        "    printf(\"Result: %d\\n\", result);\n",
        "\n",
        "    return 0;\n",
        "}\n"
      ],
      "metadata": {
        "colab": {
          "base_uri": "https://localhost:8080/"
        },
        "id": "9eqnqJ6RAAps",
        "outputId": "ea3f6a1c-1a8b-480e-a60d-e4e1bc101ebd"
      },
      "execution_count": 16,
      "outputs": [
        {
          "output_type": "stream",
          "name": "stdout",
          "text": [
            "Overwriting select2.c\n"
          ]
        }
      ]
    },
    {
      "cell_type": "code",
      "source": [
        "!gcc select2.c -o select2"
      ],
      "metadata": {
        "id": "WEB_ofxzAxSH"
      },
      "execution_count": 17,
      "outputs": []
    },
    {
      "cell_type": "code",
      "source": [
        "!./select2 10 20 1"
      ],
      "metadata": {
        "colab": {
          "base_uri": "https://localhost:8080/"
        },
        "id": "4anwY8EIA2rR",
        "outputId": "10e23dbd-7701-40a8-cbf4-85f7b526c809"
      },
      "execution_count": 19,
      "outputs": [
        {
          "output_type": "stream",
          "name": "stdout",
          "text": [
            "Result: 10\n"
          ]
        }
      ]
    }
  ]
}