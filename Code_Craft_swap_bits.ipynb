{
  "nbformat": 4,
  "nbformat_minor": 0,
  "metadata": {
    "colab": {
      "provenance": [],
      "authorship_tag": "ABX9TyPqfEXXOPPtofaBvBEt9KEV",
      "include_colab_link": true
    },
    "kernelspec": {
      "name": "python3",
      "display_name": "Python 3"
    },
    "language_info": {
      "name": "python"
    }
  },
  "cells": [
    {
      "cell_type": "markdown",
      "metadata": {
        "id": "view-in-github",
        "colab_type": "text"
      },
      "source": [
        "<a href=\"https://colab.research.google.com/github/walkerjian/DailyCode/blob/main/Code_Craft_swap_bits.ipynb\" target=\"_parent\"><img src=\"https://colab.research.google.com/assets/colab-badge.svg\" alt=\"Open In Colab\"/></a>"
      ]
    },
    {
      "cell_type": "markdown",
      "source": [
        "#Little Lambie swaps her bits:"
      ],
      "metadata": {
        "id": "jpJChEFMBjfC"
      }
    },
    {
      "cell_type": "markdown",
      "source": [
        "##Problem:\n",
        "To perform this bit swapping operation, we can utilize bitwise operators. The operation can be executed efficiently by using a bit mask to isolate even and odd bits and then shifting them accordingly.\n",
        "\n",
        "The approach involves:\n",
        "1. Masking all odd bits with `0xAAAAAAAA` (which in binary is `10101010...`) and shifting them right by 1.\n",
        "2. Masking all even bits with `0x55555555` (which in binary is `01010101...`) and shifting them left by 1.\n",
        "3. Combining these two results using a bitwise OR.\n",
        "\n",
        "This will output the swapped bit versions of `10101010` and `11100010`. Note that `0xAA` and `0x55` are hexadecimal representations of the respective binary masks, and `:08b` formats the output in 8-bit binary form."
      ],
      "metadata": {
        "id": "eQXS51FRATb-"
      }
    },
    {
      "cell_type": "code",
      "execution_count": 1,
      "metadata": {
        "id": "O7bicJ2_AGC4"
      },
      "outputs": [],
      "source": [
        "swap_bits = lambda x: ((x & 0xAA) >> 1) | ((x & 0x55) << 1)"
      ]
    },
    {
      "cell_type": "code",
      "source": [
        "print(f'Swapped 10101010: {swap_bits(0b10101010):08b}')\n",
        "print(f'Swapped 11100010: {swap_bits(0b11100010):08b}')\n"
      ],
      "metadata": {
        "colab": {
          "base_uri": "https://localhost:8080/"
        },
        "id": "CWQssZ8qAJ0v",
        "outputId": "8d225d30-d8f6-43c0-95fa-b1a105d687da"
      },
      "execution_count": 2,
      "outputs": [
        {
          "output_type": "stream",
          "name": "stdout",
          "text": [
            "Swapped 10101010: 01010101\n",
            "Swapped 11100010: 11010001\n"
          ]
        }
      ]
    },
    {
      "cell_type": "markdown",
      "source": [
        "##Explanation:\n",
        "The lambda function I used is a concise way to define a small anonymous function in Python. It's particularly handy for simple operations like the one we're dealing with. Let me break down how the bit swapping works in the lambda function:\n",
        "\n",
        "```python\n",
        "swap_bits = lambda x: ((x & 0xAA) >> 1) | ((x & 0x55) << 1)\n",
        "```\n",
        "\n",
        "1. **Lambda Function**:\n",
        "   - `lambda x:`: This part declares an anonymous function with `x` as its input argument. `x` is expected to be the 8-bit integer you want to manipulate.\n",
        "\n",
        "2. **Masking and Shifting Odd Bits**:\n",
        "   - `(x & 0xAA)`: This operation uses the bitwise AND operator `&` to mask the input `x`. The mask `0xAA` (which is `10101010` in binary) isolates the odd bits of `x`. For instance, if `x` is `10101010`, this step results in `10101010` (since `10101010` AND `10101010` is `10101010`).\n",
        "   - `>> 1`: This shifts the result of the masking one bit to the right. Continuing the example, `10101010` becomes `01010101`.\n",
        "\n",
        "3. **Masking and Shifting Even Bits**:\n",
        "   - `(x & 0x55)`: Here, `0x55` (which is `01010101` in binary) is used to mask the even bits of `x`. For example, if `x` is `10101010`, this step results in `00000000` (since `10101010` AND `01010101` is `00000000`).\n",
        "   - `<< 1`: This shifts the result of this masking one bit to the left. In the example, `00000000` remains `00000000`.\n",
        "\n",
        "4. **Combining the Results**:\n",
        "   - `|`: The bitwise OR operator `|` is used to combine the results of the two previous operations. It effectively places the shifted odd bits and the shifted even bits into their new positions. For example, combining `01010101` and `00000000` results in `01010101`.\n",
        "\n",
        "So, this lambda function takes an 8-bit integer, separates its even and odd bits, shifts them in opposite directions, and then combines them back together. This process swaps the even and odd bits as desired.\n",
        "\n",
        "`swap_bits` in the provided code snippet is the name given to the lambda function. It's essentially a function variable. When you assign a lambda function to a variable like `swap_bits`, you can then use that variable name as you would any other function name.\n",
        "\n",
        "Here's a breakdown:\n",
        "\n",
        "- `swap_bits =`: This part of the code is assigning the lambda function to a variable named `swap_bits`.\n",
        "- `lambda x:`: This declares an anonymous function with `x` as its input parameter.\n",
        "- `((x & 0xAA) >> 1) | ((x & 0x55) << 1)`: This is the body of the function, which performs the bit-swapping operation.\n",
        "\n",
        "Once `swap_bits` is defined in this way, you can use it to invoke the bit-swapping operation. For example:\n",
        "\n",
        "```python\n",
        "result = swap_bits(0b10101010)\n",
        "```\n",
        "\n",
        "In this line, `swap_bits` is called with `0b10101010` as an argument. The lambda function then executes its bit-swapping logic on this argument, and the result is stored in the variable `result`."
      ],
      "metadata": {
        "id": "olM2mApaA7hP"
      }
    }
  ]
}