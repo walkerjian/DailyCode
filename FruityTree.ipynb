{
  "nbformat": 4,
  "nbformat_minor": 0,
  "metadata": {
    "colab": {
      "provenance": [],
      "authorship_tag": "ABX9TyM6mWcP7KDxo04SfF13bssQ",
      "include_colab_link": true
    },
    "kernelspec": {
      "name": "python3",
      "display_name": "Python 3"
    },
    "language_info": {
      "name": "python"
    }
  },
  "cells": [
    {
      "cell_type": "markdown",
      "metadata": {
        "id": "view-in-github",
        "colab_type": "text"
      },
      "source": [
        "<a href=\"https://colab.research.google.com/github/walkerjian/DailyCode/blob/main/FruityTree.ipynb\" target=\"_parent\"><img src=\"https://colab.research.google.com/assets/colab-badge.svg\" alt=\"Open In Colab\"/></a>"
      ]
    },
    {
      "cell_type": "code",
      "execution_count": 3,
      "metadata": {
        "colab": {
          "base_uri": "https://localhost:8080/"
        },
        "id": "R3X3p3gCg4kw",
        "outputId": "26ba03dc-f100-41c4-a6ba-a28aebe11450"
      },
      "outputs": [
        {
          "output_type": "stream",
          "name": "stdout",
          "text": [
            "Original tree:\n",
            "        🍇↘\n",
            "                ↙🍍\n",
            "🍎\n",
            "                🍒↘\n",
            "        ↙🍌\n",
            "                ↙🍓\n",
            "Inverting tree...\n",
            "Inverted tree:\n",
            "                🍓↘\n",
            "        🍌↘\n",
            "                ↙🍒\n",
            "🍎\n",
            "                🍍↘\n",
            "        ↙🍇\n"
          ]
        }
      ],
      "source": [
        "class TreeNode:\n",
        "    def __init__(self, x):\n",
        "        self.val = x\n",
        "        self.left = None\n",
        "        self.right = None\n",
        "\n",
        "def invert_tree(node):\n",
        "    if node is None:\n",
        "        return None\n",
        "    node.left, node.right = node.right, node.left\n",
        "    invert_tree(node.left)\n",
        "    invert_tree(node.right)\n",
        "    return node\n",
        "\n",
        "def print_tree(root, level=0, is_left=None):\n",
        "    if root is None:\n",
        "        return\n",
        "    print_tree(root.right, level + 1, False)\n",
        "    print('        ' * level + ('↙' if level > 0 and is_left else '') + str(root.val) + ('↘' if level > 0 and not is_left else ''))\n",
        "    print_tree(root.left, level + 1, True)\n",
        "\n",
        "# Test case\n",
        "root = TreeNode('🍎')\n",
        "root.left = TreeNode('🍌')\n",
        "root.right = TreeNode('🍇')\n",
        "root.left.left = TreeNode('🍓')\n",
        "root.left.right = TreeNode('🍒')\n",
        "root.right.left = TreeNode('🍍')\n",
        "\n",
        "print(\"Original tree:\")\n",
        "print_tree(root)\n",
        "\n",
        "print(\"Inverting tree...\")\n",
        "invert_tree(root)\n",
        "\n",
        "print(\"Inverted tree:\")\n",
        "print_tree(root)\n"
      ]
    }
  ]
}