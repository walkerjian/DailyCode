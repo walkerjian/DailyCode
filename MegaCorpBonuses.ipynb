{
  "nbformat": 4,
  "nbformat_minor": 0,
  "metadata": {
    "colab": {
      "provenance": [],
      "authorship_tag": "ABX9TyMDa9etbSCxBScuIxLRpzm8",
      "include_colab_link": true
    },
    "kernelspec": {
      "name": "python3",
      "display_name": "Python 3"
    },
    "language_info": {
      "name": "python"
    }
  },
  "cells": [
    {
      "cell_type": "markdown",
      "metadata": {
        "id": "view-in-github",
        "colab_type": "text"
      },
      "source": [
        "<a href=\"https://colab.research.google.com/github/walkerjian/DailyCode/blob/main/MegaCorpBonuses.ipynb\" target=\"_parent\"><img src=\"https://colab.research.google.com/assets/colab-badge.svg\" alt=\"Open In Colab\"/></a>"
      ]
    },
    {
      "cell_type": "markdown",
      "source": [
        "MegaCorp wants to give bonuses to its employees based on how many lines of codes they have written. They would like to give the smallest positive amount to each worker consistent with the constraint that if a developer has written more lines of code than their neighbor, they should receive more money.\n",
        "\n",
        "Given an array representing a line of seats of employees at MegaCorp, determine how much each one should get paid.\n",
        "\n",
        "For example, given [10, 40, 200, 1000, 60, 30], you should return [1, 2, 3, 4, 2, 1].\n",
        "\n",
        "This problem can be solved by following these steps:\n",
        "\n",
        "1. Initialize an array of bonuses with each element as 1, since each employee should get at least 1 unit of bonus.\n",
        "2. Traverse the array from left to right. If the current employee has written more lines of code than the previous one, then the current employee gets one unit more than the previous one.\n",
        "3. Traverse the array from right to left. If the current employee has written more lines of code than the next one and has not already gotten a bonus reflecting that, then the current employee gets one unit more than the next one.\n",
        "\n",
        "Let's write the code to implement this approach.\n",
        "\n",
        "The bonuses for the employees, based on the number of lines of code they have written, are as follows: \\([1, 2, 3, 4, 2, 1]\\). This result matches the expected output for the given example."
      ],
      "metadata": {
        "id": "O542K_RGBem8"
      }
    },
    {
      "cell_type": "code",
      "execution_count": 1,
      "metadata": {
        "colab": {
          "base_uri": "https://localhost:8080/"
        },
        "id": "KiqwidhXBdoj",
        "outputId": "098bcbc8-4873-4714-91c5-ed3ae9733cc3"
      },
      "outputs": [
        {
          "output_type": "execute_result",
          "data": {
            "text/plain": [
              "[1, 2, 3, 4, 2, 1]"
            ]
          },
          "metadata": {},
          "execution_count": 1
        }
      ],
      "source": [
        "def bonuses(lines_of_code):\n",
        "    n = len(lines_of_code)\n",
        "    bonus = [1] * n\n",
        "\n",
        "    # Traverse from left to right\n",
        "    for i in range(1, n):\n",
        "        if lines_of_code[i] > lines_of_code[i - 1]:\n",
        "            bonus[i] = bonus[i - 1] + 1\n",
        "\n",
        "    # Traverse from right to left\n",
        "    for i in range(n - 2, -1, -1):\n",
        "        if lines_of_code[i] > lines_of_code[i + 1] and bonus[i] <= bonus[i + 1]:\n",
        "            bonus[i] = bonus[i + 1] + 1\n",
        "\n",
        "    return bonus\n",
        "\n",
        "# Test the function with the given example\n",
        "lines_of_code = [10, 40, 200, 1000, 60, 30]\n",
        "bonuses(lines_of_code)\n"
      ]
    },
    {
      "cell_type": "code",
      "source": [],
      "metadata": {
        "id": "C7q6qWpbBp-l"
      },
      "execution_count": null,
      "outputs": []
    }
  ]
}