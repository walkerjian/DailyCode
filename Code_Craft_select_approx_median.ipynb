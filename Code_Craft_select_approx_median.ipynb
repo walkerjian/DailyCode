{
  "nbformat": 4,
  "nbformat_minor": 0,
  "metadata": {
    "colab": {
      "provenance": [],
      "authorship_tag": "ABX9TyOsGq2IWN/Cgy+qPTkjpnt1",
      "include_colab_link": true
    },
    "kernelspec": {
      "name": "python3",
      "display_name": "Python 3"
    },
    "language_info": {
      "name": "python"
    }
  },
  "cells": [
    {
      "cell_type": "markdown",
      "metadata": {
        "id": "view-in-github",
        "colab_type": "text"
      },
      "source": [
        "<a href=\"https://colab.research.google.com/github/walkerjian/DailyCode/blob/main/Code_Craft_select_approx_median.ipynb\" target=\"_parent\"><img src=\"https://colab.research.google.com/assets/colab-badge.svg\" alt=\"Open In Colab\"/></a>"
      ]
    },
    {
      "cell_type": "markdown",
      "source": [
        "Create an algorithm to efficiently compute the approximate median of a list of numbers.\n",
        "\n",
        "More precisely, given an unordered list of $N$ numbers, find an element whose rank is between $N / 4$ and $3 * N / 4$, with a high level of certainty, in less than $O(N)$ time."
      ],
      "metadata": {
        "id": "kmxcBLK7fFz9"
      }
    },
    {
      "cell_type": "markdown",
      "source": [
        "To efficiently compute an approximate median of a list of numbers such that the rank of the selected element is between $ \\frac{N}{4} $ and $ \\frac{3N}{4} $, we can use a randomized selection algorithm that has an expected linear runtime. The algorithm we'll consider is based on the Quickselect algorithm, modified to provide a probabilistically high certainty of finding the desired rank without fully sorting the list.\n",
        "\n",
        "Here is a high-level description of the algorithm:\n",
        "\n",
        "1. **Randomly Select a Pivot:**\n",
        "   Choose a pivot element randomly from the list. This randomness helps avoid worst-case scenarios often associated with Quickselect, making the algorithm efficient on average.\n",
        "\n",
        "2. **Partition the List:**\n",
        "   Reorder the list so that all elements less than the pivot come before it (the left partition) and all elements greater than the pivot come after it (the right partition). Count the number of elements in the left partition to determine the rank of the pivot.\n",
        "\n",
        "3. **Recursive Selection:**\n",
        "   - If the rank of the pivot is between $ \\frac{N}{4} $ and $ \\frac{3N}{4} $, then the pivot is an acceptable approximate median, and we return it.\n",
        "   - If the rank of the pivot is less than $ \\frac{N}{4} $, recursively apply the algorithm to the right partition.\n",
        "   - If the rank of the pivot is greater than $ \\frac{3N}{4} $, recursively apply the algorithm to the left partition.\n",
        "\n",
        "4. **Termination Condition:**\n",
        "   Since the pivot is chosen randomly, each recursion reduces the size of the problem expectedly by about half, leading to a logarithmic number of recursions. Thus, the expected time complexity is $ O(N) $, and with careful implementation and sufficient randomization, it can perform well below $ O(N) $ in practical scenarios.\n",
        "\n",
        "5. **Implementation Considerations:**\n",
        "   - Use a good random number generator to avoid biases in pivot selection.\n",
        "   - Handle edge cases where the list might have duplicates or is very small.\n",
        "\n",
        "This code will compute an approximate median, ensuring that the chosen element's rank lies within the desired quartile range of the array's length. The random choice of pivots ensures that the average case performance is efficient."
      ],
      "metadata": {
        "id": "IpuohdNmfRrA"
      }
    },
    {
      "cell_type": "code",
      "execution_count": 1,
      "metadata": {
        "colab": {
          "base_uri": "https://localhost:8080/"
        },
        "id": "TxI1WSW0e7nV",
        "outputId": "f2e0fdbd-3e8b-4973-b001-6c33d888faaa"
      },
      "outputs": [
        {
          "output_type": "stream",
          "name": "stdout",
          "text": [
            "Approximate Median: 25\n"
          ]
        }
      ],
      "source": [
        "import random\n",
        "\n",
        "def select_approx_median(nums):\n",
        "    def partition(start, end, pivot_index):\n",
        "        nums[pivot_index], nums[end] = nums[end], nums[pivot_index]\n",
        "        pivot = nums[end]\n",
        "        i = start - 1\n",
        "        for j in range(start, end):\n",
        "            if nums[j] <= pivot:\n",
        "                i += 1\n",
        "                nums[i], nums[j] = nums[j], nums[i]\n",
        "        nums[i + 1], nums[end] = nums[end], nums[i + 1]\n",
        "        return i + 1\n",
        "\n",
        "    def select(start, end):\n",
        "        if start == end:\n",
        "            return nums[start]\n",
        "\n",
        "        pivot_index = random.randint(start, end)\n",
        "        pivot_index = partition(start, end, pivot_index)\n",
        "\n",
        "        # The length of the left partition\n",
        "        k = pivot_index - start + 1\n",
        "\n",
        "        if k >= len(nums) // 4 and k <= 3 * len(nums) // 4:\n",
        "            return nums[pivot_index]\n",
        "        elif k < len(nums) // 4:\n",
        "            return select(pivot_index + 1, end)\n",
        "        else:\n",
        "            return select(start, pivot_index - 1)\n",
        "\n",
        "    return select(0, len(nums) - 1)\n",
        "\n",
        "# Example usage\n",
        "nums = [random.randint(1, 100) for _ in range(100)]\n",
        "approx_median = select_approx_median(nums)\n",
        "print(\"Approximate Median:\", approx_median)"
      ]
    }
  ]
}