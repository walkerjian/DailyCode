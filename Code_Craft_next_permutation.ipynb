{
  "nbformat": 4,
  "nbformat_minor": 0,
  "metadata": {
    "colab": {
      "provenance": [],
      "authorship_tag": "ABX9TyN+mcJePAVRQW8gfaUPUoJl",
      "include_colab_link": true
    },
    "kernelspec": {
      "name": "python3",
      "display_name": "Python 3"
    },
    "language_info": {
      "name": "python"
    }
  },
  "cells": [
    {
      "cell_type": "markdown",
      "metadata": {
        "id": "view-in-github",
        "colab_type": "text"
      },
      "source": [
        "<a href=\"https://colab.research.google.com/github/walkerjian/DailyCode/blob/main/Code_Craft_next_permutation.ipynb\" target=\"_parent\"><img src=\"https://colab.research.google.com/assets/colab-badge.svg\" alt=\"Open In Colab\"/></a>"
      ]
    },
    {
      "cell_type": "markdown",
      "source": [
        "##Problem:\n",
        "Given an integer, find the next permutation of it in absolute order. For example, given 48975, the next permutation would be 49578."
      ],
      "metadata": {
        "id": "9vY9l5QNOXGT"
      }
    },
    {
      "cell_type": "markdown",
      "source": [
        "##Solution:\n",
        "To find the next permutation of an integer in absolute order, we can follow a similar approach to that used for finding the next permutation of an array of digits. Here's the general algorithm adapted for an integer:\n",
        "\n",
        "1. Convert the integer to a list of digits.\n",
        "2. Scan the list from right to left to find the first digit that is smaller than the digit immediately after it. Let's call this digit the 'pivot'.\n",
        "3. If no such pivot exists, the current permutation is the highest possible permutation. In this case, we might return the lowest possible permutation (sorted in ascending order) or indicate that no higher permutation exists.\n",
        "4. Scan the list from right to left again to find the first digit that is greater than the pivot. This will be the digit to swap with the pivot.\n",
        "5. Swap the pivot with the digit found in step 4.\n",
        "6. Reverse the digits after the pivot's original position to get the next permutation in absolute order.\n",
        "7. Convert the list of digits back to an integer.\n"
      ],
      "metadata": {
        "id": "DeWwgagfOaHA"
      }
    },
    {
      "cell_type": "markdown",
      "source": [
        "##Implementation:\n",
        "Let's implement this algorithm in Python:\n"
      ],
      "metadata": {
        "id": "Zte7v_qvOcA3"
      }
    },
    {
      "cell_type": "code",
      "execution_count": 1,
      "metadata": {
        "id": "GAW9TLocOV7Z"
      },
      "outputs": [],
      "source": [
        "def next_permutation(num):\n",
        "    # Convert the number to a list of digits\n",
        "    digits = [int(d) for d in str(num)]\n",
        "\n",
        "    # Find the pivot\n",
        "    pivot = -1\n",
        "    for i in range(len(digits)-2, -1, -1):\n",
        "        if digits[i] < digits[i+1]:\n",
        "            pivot = i\n",
        "            break\n",
        "\n",
        "    # If pivot is not found, the number is the highest permutation\n",
        "    if pivot == -1:\n",
        "        return \"No higher permutation exists\"\n",
        "\n",
        "    # Find the rightmost successor to the pivot\n",
        "    for i in range(len(digits)-1, pivot, -1):\n",
        "        if digits[i] > digits[pivot]:\n",
        "            # Swap the pivot with its successor\n",
        "            digits[i], digits[pivot] = digits[pivot], digits[i]\n",
        "            break\n",
        "\n",
        "    # Reverse the digits after pivot\n",
        "    digits[pivot+1:] = reversed(digits[pivot+1:])\n",
        "\n",
        "    # Convert the list of digits back to an integer\n",
        "    next_perm = int(\"\".join(map(str, digits)))\n",
        "    return next_perm"
      ]
    },
    {
      "cell_type": "markdown",
      "source": [
        "##Testing:"
      ],
      "metadata": {
        "id": "ineC5D0SOvzA"
      }
    },
    {
      "cell_type": "code",
      "source": [
        "# Test the function\n",
        "next_permutation(48975)"
      ],
      "metadata": {
        "colab": {
          "base_uri": "https://localhost:8080/"
        },
        "id": "8ArJmdi3OzYW",
        "outputId": "baf30666-99f5-41d1-c620-5ec5f85de858"
      },
      "execution_count": 2,
      "outputs": [
        {
          "output_type": "execute_result",
          "data": {
            "text/plain": [
              "49578"
            ]
          },
          "metadata": {},
          "execution_count": 2
        }
      ]
    },
    {
      "cell_type": "markdown",
      "source": [
        "##Conclusion:\n",
        "The next permutation of the integer `48975` in absolute order is `49578`, as calculated by the algorithm. This algorithm effectively finds the next higher permutation by manipulating the digits of the input number."
      ],
      "metadata": {
        "id": "9CM-kUvWOnHy"
      }
    }
  ]
}