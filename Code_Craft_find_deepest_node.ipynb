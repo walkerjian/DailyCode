{
  "nbformat": 4,
  "nbformat_minor": 0,
  "metadata": {
    "colab": {
      "provenance": [],
      "authorship_tag": "ABX9TyOJhbV1X7UnWjO0DufE310k",
      "include_colab_link": true
    },
    "kernelspec": {
      "name": "python3",
      "display_name": "Python 3"
    },
    "language_info": {
      "name": "python"
    }
  },
  "cells": [
    {
      "cell_type": "markdown",
      "metadata": {
        "id": "view-in-github",
        "colab_type": "text"
      },
      "source": [
        "<a href=\"https://colab.research.google.com/github/walkerjian/DailyCode/blob/main/Code_Craft_find_deepest_node.ipynb\" target=\"_parent\"><img src=\"https://colab.research.google.com/assets/colab-badge.svg\" alt=\"Open In Colab\"/></a>"
      ]
    },
    {
      "cell_type": "markdown",
      "source": [
        "##Problem:\n",
        "Given the root of a binary tree, return a deepest node. For example, in the following tree, return d.\n",
        "```\n",
        "    a\n",
        "   / \\\n",
        "  b   c\n",
        " /\n",
        "d\n",
        "````"
      ],
      "metadata": {
        "id": "2lWyrXjB8EeD"
      }
    },
    {
      "cell_type": "markdown",
      "source": [
        "##Solution:\n",
        "To find the deepest node in a binary tree, we can perform a depth-first search (DFS) that tracks the level of each node. We'll define a simple `Node` class to represent each node in the tree, then implement a function to find the deepest node.\n"
      ],
      "metadata": {
        "id": "jIohycTB8Hjb"
      }
    },
    {
      "cell_type": "markdown",
      "source": [
        "##Implementation:\n",
        "Here's how we can implement this in Python:\n",
        "\n",
        "1. Define the `Node` class to represent each node in the binary tree.\n",
        "2. Implement a function that performs a DFS on the tree, keeping track of the maximum depth and corresponding deepest node encountered during the traversal.\n",
        "\n"
      ],
      "metadata": {
        "id": "pkWuQrLB8K8H"
      }
    },
    {
      "cell_type": "markdown",
      "source": [
        "In this code:\n",
        "- `Node` is a class representing a tree node with a `value`, `left`, and `right`.\n",
        "- `find_deepest_node` function starts the DFS from the root.\n",
        "- `dfs` is a recursive function that traverses the tree, returns the deepest node, and its depth at each step.\n",
        "- The example tree is constructed to match the given diagram, and then `find_deepest_node` is called to find the deepest node."
      ],
      "metadata": {
        "id": "DxgJURQfTEcj"
      }
    },
    {
      "cell_type": "code",
      "execution_count": null,
      "metadata": {
        "id": "TIIt0l_k7Oi1"
      },
      "outputs": [],
      "source": [
        "class Node:\n",
        "    def __init__(self, value, left=None, right=None):\n",
        "        self.value = value\n",
        "        self.left = left\n",
        "        self.right = right\n",
        "\n",
        "def find_deepest_node(root):\n",
        "    def dfs(node, depth):\n",
        "        if not node:\n",
        "            return (None, depth - 1)\n",
        "        if not node.left and not node.right:\n",
        "            return (node, depth)\n",
        "\n",
        "        left_deepest, left_depth = dfs(node.left, depth + 1)\n",
        "        right_deepest, right_depth = dfs(node.right, depth + 1)\n",
        "\n",
        "        if left_depth > right_depth:\n",
        "            return (left_deepest, left_depth)\n",
        "        else:\n",
        "            return (right_deepest, right_depth)\n",
        "\n",
        "    deepest_node, _ = dfs(root, 0)\n",
        "    return deepest_node.value\n",
        "\n",
        "# Define the example tree\n",
        "d = Node(\"d\")\n",
        "b = Node(\"b\", d)\n",
        "c = Node(\"c\")\n",
        "a = Node(\"a\", b, c)"
      ]
    },
    {
      "cell_type": "markdown",
      "source": [
        "##Testing:\n"
      ],
      "metadata": {
        "id": "wcaruNyfYogT"
      }
    },
    {
      "cell_type": "code",
      "source": [
        "# Find the deepest node\n",
        "deepest_node_value = find_deepest_node(a)\n",
        "deepest_node_value"
      ],
      "metadata": {
        "id": "7arfxk2ORsA8",
        "colab": {
          "base_uri": "https://localhost:8080/",
          "height": 37
        },
        "outputId": "030911a4-aed7-48e5-d130-5f9d37dee0e2"
      },
      "execution_count": 2,
      "outputs": [
        {
          "output_type": "execute_result",
          "data": {
            "text/plain": [
              "'d'"
            ],
            "application/vnd.google.colaboratory.intrinsic+json": {
              "type": "string"
            }
          },
          "metadata": {},
          "execution_count": 2
        }
      ]
    }
  ]
}