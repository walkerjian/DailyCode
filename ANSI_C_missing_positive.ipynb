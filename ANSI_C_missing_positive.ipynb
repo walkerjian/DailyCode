{
  "nbformat": 4,
  "nbformat_minor": 0,
  "metadata": {
    "colab": {
      "provenance": [],
      "authorship_tag": "ABX9TyP9wRhwZmJYsehaZT+CYgQt",
      "include_colab_link": true
    },
    "kernelspec": {
      "name": "python3",
      "display_name": "Python 3"
    },
    "language_info": {
      "name": "python"
    }
  },
  "cells": [
    {
      "cell_type": "markdown",
      "metadata": {
        "id": "view-in-github",
        "colab_type": "text"
      },
      "source": [
        "<a href=\"https://colab.research.google.com/github/walkerjian/DailyCode/blob/main/ANSI_C_missing_positive.ipynb\" target=\"_parent\"><img src=\"https://colab.research.google.com/assets/colab-badge.svg\" alt=\"Open In Colab\"/></a>"
      ]
    },
    {
      "cell_type": "markdown",
      "source": [
        "## ANSI C missing_positive\n",
        "Given an array of integers, find the first missing positive integer in linear time and constant space. In other words, find the lowest positive integer that does not exist in the array. The array can contain duplicates and negative numbers as well.\n",
        "\n",
        "For example, the input [3, 4, -1, 1] should give 2. The input [1, 2, 0] should give 3.\n",
        "\n",
        "You can modify the input array in-place."
      ],
      "metadata": {
        "id": "WIKq89JfMszW"
      }
    },
    {
      "cell_type": "code",
      "execution_count": 1,
      "metadata": {
        "colab": {
          "base_uri": "https://localhost:8080/"
        },
        "id": "KL-xPThTMr4n",
        "outputId": "6bc63d40-04f8-4712-f4fc-69c0399ea400"
      },
      "outputs": [
        {
          "output_type": "stream",
          "name": "stdout",
          "text": [
            "Reading package lists... Done\n",
            "Building dependency tree... Done\n",
            "Reading state information... Done\n",
            "gcc is already the newest version (4:11.2.0-1ubuntu1).\n",
            "gcc set to manually installed.\n",
            "0 upgraded, 0 newly installed, 0 to remove and 17 not upgraded.\n"
          ]
        }
      ],
      "source": [
        "!apt-get install -y gcc"
      ]
    },
    {
      "cell_type": "code",
      "source": [
        "%%writefile missing_positive.c\n",
        "//\n",
        "//  main.c\n",
        "//  missing_positive\n",
        "//\n",
        "//  Created by Joseph Ian Walker on 17/9/2023.\n",
        "//\n",
        "\n",
        "#include <stdio.h>\n",
        "#include <stdbool.h>\n",
        "\n",
        "int first_missing_positive(int nums[], int n, bool consider_zero) {\n",
        "\t// Sort the array\n",
        "\tfor (int i = 0; i < n-1; i++) {\n",
        "\t\tfor (int j = 0; j < n-i-1; j++) {\n",
        "\t\t\tif (nums[j] > nums[j+1]) {\n",
        "\t\t\t\tint temp = nums[j];\n",
        "\t\t\t\tnums[j] = nums[j+1];\n",
        "\t\t\t\tnums[j+1] = temp;\n",
        "\t\t\t}\n",
        "\t\t}\n",
        "\t}\n",
        "\n",
        "\t// Find the sub-list of positive numbers\n",
        "\tint start = 0;\n",
        "\twhile (start < n && nums[start] <= (consider_zero ? -1 : 0)) {\n",
        "\t\tstart++;\n",
        "\t}\n",
        "\n",
        "\t// If there are no positive numbers\n",
        "\tif (start == n) {\n",
        "\t\treturn consider_zero ? 0 : 1;\n",
        "\t}\n",
        "\n",
        "\t// If the smallest positive number is greater than 1 (or 0 based on our definition)\n",
        "\tif (nums[start] > (consider_zero ? 0 : 1)) {\n",
        "\t\treturn consider_zero ? 0 : 1;\n",
        "\t}\n",
        "\n",
        "\t// Traverse the sorted positive sub-list\n",
        "\tfor (int i = start + 1; i < n; i++) {\n",
        "\t\t// If there's a gap between numbers, return the missing number\n",
        "\t\tif (nums[i] - nums[i-1] > 1) {\n",
        "\t\t\treturn nums[i-1] + 1;\n",
        "\t\t}\n",
        "\t}\n",
        "\n",
        "\t// If all numbers are consecutive, return the next positive number\n",
        "\treturn nums[n-1] + 1;\n",
        "}\n",
        "\n",
        "void test_first_missing_positive(void) {\n",
        "\tint tests[][10] = {\n",
        "\t\t{3, 4, -5, -1},\n",
        "\t\t{-1, -2, 4},\n",
        "\t\t{4, 4, 4},\n",
        "\t\t{-1, 1, 1, 1},\n",
        "\t\t{2, -3, 7, 6, 8, -9, -9, -15},\n",
        "\t\t{2, -3, 9, 6, 8, -1, 9, -15},\n",
        "\t\t{-1},\n",
        "\t\t{2},\n",
        "\t\t{-1, -2, -3, -4, -5},\n",
        "\t\t{5, 5, 5, 5}\n",
        "\t};\n",
        "\tint test_sizes[] = {4, 3, 3, 4, 8, 8, 1, 1, 5, 4};\n",
        "\n",
        "\tfor (int i = 0; i < sizeof(test_sizes) / sizeof(int); i++) {\n",
        "\t\tprintf(\"For the input: \");\n",
        "\t\tfor (int j = 0; j < test_sizes[i]; j++) {\n",
        "\t\t\tprintf(\"%d \", tests[i][j]);\n",
        "\t\t}\n",
        "\t\tprintf(\"\\nConsidering 0 as positive: %d\\n\", first_missing_positive(tests[i], test_sizes[i], true));\n",
        "\t\tprintf(\"Not considering 0 as positive: %d\\n\", first_missing_positive(tests[i], test_sizes[i], false));\n",
        "\t}\n",
        "}\n",
        "\n",
        "int main(void) {\n",
        "\ttest_first_missing_positive();\n",
        "\treturn 0;\n",
        "}\n"
      ],
      "metadata": {
        "colab": {
          "base_uri": "https://localhost:8080/"
        },
        "id": "3VMeOJCvM7qE",
        "outputId": "f7156341-865b-48fd-9b2f-3d20acf358d1"
      },
      "execution_count": 5,
      "outputs": [
        {
          "output_type": "stream",
          "name": "stdout",
          "text": [
            "Overwriting missing_positive.c\n"
          ]
        }
      ]
    },
    {
      "cell_type": "code",
      "source": [
        "!gcc -o missing_positive missing_positive.c"
      ],
      "metadata": {
        "id": "9b0PUQzkNKC1"
      },
      "execution_count": 6,
      "outputs": []
    },
    {
      "cell_type": "code",
      "source": [
        "!./missing_positive"
      ],
      "metadata": {
        "colab": {
          "base_uri": "https://localhost:8080/"
        },
        "id": "OEbI934fOcAu",
        "outputId": "3e920e6e-12ad-401b-f284-ea16f745d772"
      },
      "execution_count": 7,
      "outputs": [
        {
          "output_type": "stream",
          "name": "stdout",
          "text": [
            "For the input: 3 4 -5 -1 \n",
            "Considering 0 as positive: 0\n",
            "Not considering 0 as positive: 1\n",
            "For the input: -1 -2 4 \n",
            "Considering 0 as positive: 0\n",
            "Not considering 0 as positive: 1\n",
            "For the input: 4 4 4 \n",
            "Considering 0 as positive: 0\n",
            "Not considering 0 as positive: 1\n",
            "For the input: -1 1 1 1 \n",
            "Considering 0 as positive: 0\n",
            "Not considering 0 as positive: 2\n",
            "For the input: 2 -3 7 6 8 -9 -9 -15 \n",
            "Considering 0 as positive: 0\n",
            "Not considering 0 as positive: 1\n",
            "For the input: 2 -3 9 6 8 -1 9 -15 \n",
            "Considering 0 as positive: 0\n",
            "Not considering 0 as positive: 1\n",
            "For the input: -1 \n",
            "Considering 0 as positive: 0\n",
            "Not considering 0 as positive: 1\n",
            "For the input: 2 \n",
            "Considering 0 as positive: 0\n",
            "Not considering 0 as positive: 1\n",
            "For the input: -1 -2 -3 -4 -5 \n",
            "Considering 0 as positive: 0\n",
            "Not considering 0 as positive: 1\n",
            "For the input: 5 5 5 5 \n",
            "Considering 0 as positive: 0\n",
            "Not considering 0 as positive: 1\n"
          ]
        }
      ]
    },
    {
      "cell_type": "code",
      "source": [],
      "metadata": {
        "id": "fJLkeMUdOgbX"
      },
      "execution_count": null,
      "outputs": []
    }
  ]
}