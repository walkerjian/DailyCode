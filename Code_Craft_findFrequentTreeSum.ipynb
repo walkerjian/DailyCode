{
  "nbformat": 4,
  "nbformat_minor": 0,
  "metadata": {
    "colab": {
      "provenance": [],
      "authorship_tag": "ABX9TyMnFu0QUvVWwMwd35VoLKzL",
      "include_colab_link": true
    },
    "kernelspec": {
      "name": "python3",
      "display_name": "Python 3"
    },
    "language_info": {
      "name": "python"
    }
  },
  "cells": [
    {
      "cell_type": "markdown",
      "metadata": {
        "id": "view-in-github",
        "colab_type": "text"
      },
      "source": [
        "<a href=\"https://colab.research.google.com/github/walkerjian/DailyCode/blob/main/Code_Craft_findFrequentTreeSum.ipynb\" target=\"_parent\"><img src=\"https://colab.research.google.com/assets/colab-badge.svg\" alt=\"Open In Colab\"/></a>"
      ]
    },
    {
      "cell_type": "markdown",
      "source": [
        "##Problem:\n",
        "Given the root of a binary tree, find the most frequent subtree sum. The subtree sum of a node is the sum of all values under a node, including the node itself.\n",
        "\n",
        "For example, given the following tree:\n",
        "```\n",
        "  5\n",
        " / \\\n",
        "2  -5\n",
        "```\n",
        "Return 2 as it occurs twice: once as the left leaf, and once as the sum of 2 + 5 - 5.\n"
      ],
      "metadata": {
        "id": "2lWyrXjB8EeD"
      }
    },
    {
      "cell_type": "markdown",
      "source": [
        "##Solution:\n",
        "To solve this problem, we need to perform a post-order traversal of the binary tree. During this traversal, we will calculate the sum of all values under each node (including the node itself) and record the frequency of each sum. Finally, we will identify the most frequent subtree sum. Let's implement this in Python.\n",
        "\n",
        "Here is a step-by-step approach:\n",
        "\n",
        "1. Define a helper function to perform the post-order traversal and compute the subtree sums.\n",
        "2. Use a dictionary to keep track of the frequency of each subtree sum.\n",
        "3. After the traversal, find the subtree sum(s) with the highest frequency.\n",
        "\n",
        "\n"
      ],
      "metadata": {
        "id": "jIohycTB8Hjb"
      }
    },
    {
      "cell_type": "markdown",
      "source": [
        "##Implementation:\n",
        "Let's write the code for this algorithm.\n"
      ],
      "metadata": {
        "id": "pkWuQrLB8K8H"
      }
    },
    {
      "cell_type": "code",
      "source": [
        "class TreeNode:\n",
        "    def __init__(self, val=0, left=None, right=None):\n",
        "        self.val = val\n",
        "        self.left = left\n",
        "        self.right = right\n",
        "\n",
        "def findFrequentTreeSum(root):\n",
        "    if not root:\n",
        "        return []\n",
        "\n",
        "    sum_count = {}  # Dictionary to count the frequency of each sum\n",
        "\n",
        "    def postOrder(node):\n",
        "        if not node:\n",
        "            return 0\n",
        "        left_sum = postOrder(node.left)\n",
        "        right_sum = postOrder(node.right)\n",
        "        total_sum = node.val + left_sum + right_sum\n",
        "        sum_count[total_sum] = sum_count.get(total_sum, 0) + 1\n",
        "        return total_sum\n",
        "\n",
        "    postOrder(root)\n",
        "\n",
        "    # Find the maximum frequency of subtree sums\n",
        "    max_freq = max(sum_count.values())\n",
        "    # Find all sums with the maximum frequency\n",
        "    most_frequent_sums = [s for s, freq in sum_count.items() if freq == max_freq]\n",
        "\n",
        "    return most_frequent_sums\n",
        "\n",
        "# Construct the example tree\n",
        "root = TreeNode(5)\n",
        "root.left = TreeNode(2)\n",
        "root.right = TreeNode(-5)\n",
        "\n",
        "# Find the most frequent subtree sum\n",
        "findFrequentTreeSum(root)\n"
      ],
      "metadata": {
        "colab": {
          "base_uri": "https://localhost:8080/"
        },
        "id": "_vIC9d3fGI9q",
        "outputId": "ecfb445f-5b31-47f3-c6d4-e9c71b0ce632"
      },
      "execution_count": 1,
      "outputs": [
        {
          "output_type": "execute_result",
          "data": {
            "text/plain": [
              "[2]"
            ]
          },
          "metadata": {},
          "execution_count": 1
        }
      ]
    },
    {
      "cell_type": "markdown",
      "source": [
        "##Testing:\n",
        "\n",
        "The most frequent subtree sum in the given binary tree is $2$, which occurs twice: once as the left leaf, and once as the sum of the tree's nodes ($2 + 5 - 5$). This aligns with the example provided, confirming the correctness of the implemented solution.\n"
      ],
      "metadata": {
        "id": "wcaruNyfYogT"
      }
    },
    {
      "cell_type": "markdown",
      "source": [
        "Let's test the function with more complex and aesthetically pleasing binary tree examples to both challenge the function and provide insight into its operation. We will construct trees with varying structures and values to explore how the function handles different scenarios.\n",
        "\n",
        "1. A balanced binary tree with a mix of positive and negative values.\n",
        "2. A binary tree where all paths have the same sum, creating a uniform frequency across different sums.\n",
        "3. A larger, more complex tree to illustrate the function's capability to handle increased complexity and size.\n",
        "\n",
        "Let's proceed with these tests."
      ],
      "metadata": {
        "id": "FZ8k9-h5Gjs2"
      }
    },
    {
      "cell_type": "code",
      "source": [
        "# Test 1: A balanced binary tree with a mix of positive and negative values\n",
        "root1 = TreeNode(3)\n",
        "root1.left = TreeNode(1)\n",
        "root1.right = TreeNode(-1)\n",
        "root1.left.left = TreeNode(2)\n",
        "root1.left.right = TreeNode(3)\n",
        "root1.right.left = TreeNode(-2)\n",
        "root1.right.right = TreeNode(-3)\n",
        "\n",
        "# Test 2: A binary tree where all paths have the same sum\n",
        "root2 = TreeNode(1)\n",
        "root2.left = TreeNode(1)\n",
        "root2.right = TreeNode(1)\n",
        "root2.left.left = TreeNode(1)\n",
        "root2.left.right = TreeNode(1)\n",
        "\n",
        "# Test 3: A larger, more complex tree\n",
        "root3 = TreeNode(10)\n",
        "root3.left = TreeNode(-2)\n",
        "root3.right = TreeNode(7)\n",
        "root3.left.left = TreeNode(8)\n",
        "root3.left.right = TreeNode(-4)\n",
        "root3.right.left = TreeNode(5)\n",
        "root3.right.right = TreeNode(1)\n",
        "root3.left.left.left = TreeNode(2)\n",
        "root3.left.left.right = TreeNode(-1)\n",
        "\n",
        "# Running the tests\n",
        "test_results = {\n",
        "    \"Test 1\": findFrequentTreeSum(root1),\n",
        "    \"Test 2\": findFrequentTreeSum(root2),\n",
        "    \"Test 3\": findFrequentTreeSum(root3)\n",
        "}\n",
        "\n",
        "test_results\n"
      ],
      "metadata": {
        "id": "7arfxk2ORsA8",
        "colab": {
          "base_uri": "https://localhost:8080/"
        },
        "outputId": "7f9c922e-9838-4bce-c4cd-aec54bb90f9f"
      },
      "execution_count": 2,
      "outputs": [
        {
          "output_type": "execute_result",
          "data": {
            "text/plain": [
              "{'Test 1': [3], 'Test 2': [1], 'Test 3': [2, -1, 9, -4, 3, 5, 1, 13, 26]}"
            ]
          },
          "metadata": {},
          "execution_count": 2
        }
      ]
    },
    {
      "cell_type": "markdown",
      "source": [
        "The function performed as follows on the aesthetically structured tests:\n",
        "\n",
        "- **Test 1** (A balanced tree with mixed values): The most frequent subtree sum is $3$, which likely corresponds to multiple smaller substructures within the tree.\n",
        "- **Test 2** (A tree where all paths have the same sum): The most frequent subtree sum is $1$, indicating that each node contributes uniformly to the overall structure.\n",
        "- **Test 3** (A larger, complex tree): Multiple sums are most frequent, including $2$, $-1$, $9$, $-4$, $3$, $5$, $1$, $13$, and $26$. This diversity reflects the complexity and size of the tree, showing various subtree sums that occur with equal frequency.\n",
        "\n",
        "These results demonstrate the function's ability to handle trees of different shapes and complexities, revealing the intricate and varied nature of subtree sums in binary trees."
      ],
      "metadata": {
        "id": "2KbPIlggGnqk"
      }
    }
  ]
}