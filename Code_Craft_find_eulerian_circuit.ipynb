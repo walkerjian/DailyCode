{
  "nbformat": 4,
  "nbformat_minor": 0,
  "metadata": {
    "colab": {
      "provenance": [],
      "authorship_tag": "ABX9TyORLeWr3Q/Srpxz4bSc9htm",
      "include_colab_link": true
    },
    "kernelspec": {
      "name": "python3",
      "display_name": "Python 3"
    },
    "language_info": {
      "name": "python"
    }
  },
  "cells": [
    {
      "cell_type": "markdown",
      "metadata": {
        "id": "view-in-github",
        "colab_type": "text"
      },
      "source": [
        "<a href=\"https://colab.research.google.com/github/walkerjian/DailyCode/blob/main/Code_Craft_find_eulerian_circuit.ipynb\" target=\"_parent\"><img src=\"https://colab.research.google.com/assets/colab-badge.svg\" alt=\"Open In Colab\"/></a>"
      ]
    },
    {
      "cell_type": "markdown",
      "source": [
        "Given a list of words, determine whether the words can be chained to form a circle. A word X can be placed in front of another word Y in a circle if the last character of X is same as the first character of Y.\n",
        "\n",
        "For example, the words ['chair', 'height', 'racket', touch', 'tunic'] can form the following circle: chair --> racket --> touch --> height --> tunic --> chair"
      ],
      "metadata": {
        "id": "agTx98f9ZB_8"
      }
    },
    {
      "cell_type": "markdown",
      "source": [
        "To determine if the given list of words can be chained to form a circle, we can model this problem as a graph problem where each word is a vertex and there's an edge from word \\(X\\) to word \\(Y\\) if the last character of \\(X\\) is the same as the first character of \\(Y\\). We need to ensure that:\n",
        "\n",
        "1. Each vertex has an equal in-degree and out-degree.\n",
        "2. The graph is strongly connected, meaning there is a path from any word to any other word.\n",
        "\n",
        "Here's the Python code to determine if the given list of words can form a circle:\n",
        "\n",
        "1. **Graph Construction**:\n",
        "    - We create two graphs: the original graph and the reverse graph.\n",
        "    - The original graph is constructed where an edge exists from the first character to the last character of each word.\n",
        "    - The reverse graph is constructed similarly but in the opposite direction.\n",
        "\n",
        "2. **Degree Check**:\n",
        "    - We ensure that for every vertex, the in-degree (number of edges coming into the vertex) is equal to the out-degree (number of edges going out from the vertex).\n",
        "\n",
        "3. **Strong Connectivity Check**:\n",
        "    - We use BFS (Breadth-First Search) to check if the graph is strongly connected. This is done by performing BFS on both the original graph and the reverse graph starting from the first character of the first word. If the set of visited vertices is the same for both BFS runs, the graph is strongly connected.\n",
        "\n",
        "If both conditions are met, the words can be chained to form a circle."
      ],
      "metadata": {
        "id": "QYJNqPaFZGQZ"
      }
    },
    {
      "cell_type": "code",
      "execution_count": 1,
      "metadata": {
        "colab": {
          "base_uri": "https://localhost:8080/"
        },
        "id": "9v458OmPZBFK",
        "outputId": "7ac574fc-df71-47f6-8f4c-2afc06417d5c"
      },
      "outputs": [
        {
          "output_type": "stream",
          "name": "stdout",
          "text": [
            "True\n"
          ]
        }
      ],
      "source": [
        "from collections import defaultdict, deque\n",
        "\n",
        "def can_form_circle(words):\n",
        "    # Function to check if all vertices with nonzero degree are strongly connected\n",
        "    def is_strongly_connected(graph, reverse_graph, start_vertex):\n",
        "        def bfs(graph, start_vertex):\n",
        "            visited = set()\n",
        "            queue = deque([start_vertex])\n",
        "            while queue:\n",
        "                vertex = queue.popleft()\n",
        "                if vertex not in visited:\n",
        "                    visited.add(vertex)\n",
        "                    for neighbor in graph[vertex]:\n",
        "                        if neighbor not in visited:\n",
        "                            queue.append(neighbor)\n",
        "            return visited\n",
        "\n",
        "        # BFS on the original graph\n",
        "        visited_from_start = bfs(graph, start_vertex)\n",
        "\n",
        "        # BFS on the reversed graph\n",
        "        visited_from_start_reverse = bfs(reverse_graph, start_vertex)\n",
        "\n",
        "        return visited_from_start == visited_from_start_reverse\n",
        "\n",
        "    # Create the graph and calculate in-degrees and out-degrees\n",
        "    graph = defaultdict(list)\n",
        "    reverse_graph = defaultdict(list)\n",
        "    in_degree = defaultdict(int)\n",
        "    out_degree = defaultdict(int)\n",
        "\n",
        "    for word in words:\n",
        "        start_char = word[0]\n",
        "        end_char = word[-1]\n",
        "        graph[start_char].append(end_char)\n",
        "        reverse_graph[end_char].append(start_char)\n",
        "        out_degree[start_char] += 1\n",
        "        in_degree[end_char] += 1\n",
        "\n",
        "    # Check if in-degree and out-degree of every vertex is the same\n",
        "    for vertex in set(in_degree.keys()).union(set(out_degree.keys())):\n",
        "        if in_degree[vertex] != out_degree[vertex]:\n",
        "            return False\n",
        "\n",
        "    # Check if the graph is strongly connected\n",
        "    start_vertex = words[0][0]\n",
        "    if not is_strongly_connected(graph, reverse_graph, start_vertex):\n",
        "        return False\n",
        "\n",
        "    return True\n",
        "\n",
        "# Example usage\n",
        "words = ['chair', 'height', 'racket', 'touch', 'tunic']\n",
        "print(can_form_circle(words))  # Output: True"
      ]
    },
    {
      "cell_type": "code",
      "source": [
        "from collections import defaultdict, deque\n",
        "\n",
        "def can_form_circle(words):\n",
        "    def is_strongly_connected(graph, reverse_graph, start_vertex):\n",
        "        def bfs(graph, start_vertex):\n",
        "            visited = set()\n",
        "            queue = deque([start_vertex])\n",
        "            while queue:\n",
        "                vertex = queue.popleft()\n",
        "                if vertex not in visited:\n",
        "                    visited.add(vertex)\n",
        "                    for neighbor in graph[vertex]:\n",
        "                        if neighbor not in visited:\n",
        "                            queue.append(neighbor)\n",
        "            return visited\n",
        "\n",
        "        visited_from_start = bfs(graph, start_vertex)\n",
        "        visited_from_start_reverse = bfs(reverse_graph, start_vertex)\n",
        "\n",
        "        return visited_from_start == visited_from_start_reverse\n",
        "\n",
        "    def find_eulerian_circuit(graph, start_vertex):\n",
        "        circuit = []\n",
        "        stack = [start_vertex]\n",
        "\n",
        "        while stack:\n",
        "            vertex = stack[-1]\n",
        "            if graph[vertex]:\n",
        "                next_vertex = graph[vertex].pop()\n",
        "                stack.append(next_vertex)\n",
        "            else:\n",
        "                circuit.append(stack.pop())\n",
        "\n",
        "        return circuit[::-1]\n",
        "\n",
        "    graph = defaultdict(list)\n",
        "    reverse_graph = defaultdict(list)\n",
        "    in_degree = defaultdict(int)\n",
        "    out_degree = defaultdict(int)\n",
        "\n",
        "    word_map = defaultdict(list)\n",
        "    for word in words:\n",
        "        start_char = word[0]\n",
        "        end_char = word[-1]\n",
        "        graph[start_char].append(end_char)\n",
        "        reverse_graph[end_char].append(start_char)\n",
        "        out_degree[start_char] += 1\n",
        "        in_degree[end_char] += 1\n",
        "        word_map[(start_char, end_char)].append(word)\n",
        "\n",
        "    for vertex in set(in_degree.keys()).union(set(out_degree.keys())):\n",
        "        if in_degree[vertex] != out_degree[vertex]:\n",
        "            return False, []\n",
        "\n",
        "    start_vertex = words[0][0]\n",
        "    if not is_strongly_connected(graph, reverse_graph, start_vertex):\n",
        "        return False, []\n",
        "\n",
        "    eulerian_circuit = find_eulerian_circuit(graph, start_vertex)\n",
        "\n",
        "    if len(eulerian_circuit) - 1 != len(words):\n",
        "        return False, []\n",
        "\n",
        "    word_circuit = []\n",
        "    for i in range(len(eulerian_circuit) - 1):\n",
        "        start = eulerian_circuit[i]\n",
        "        end = eulerian_circuit[i + 1]\n",
        "        if (start, end) in word_map and word_map[(start, end)]:\n",
        "            word = word_map[(start, end)].pop(0)\n",
        "            word_circuit.append(word)\n",
        "        else:\n",
        "            return False, []\n",
        "\n",
        "    return True, word_circuit\n",
        "\n",
        "# Example usage\n",
        "words = ['chair', 'height', 'racket', 'touch', 'tunic']\n",
        "can_chain, circle = can_form_circle(words)\n",
        "if can_chain:\n",
        "    print(\"The words can form a circle:\")\n",
        "    print(\" --> \".join(circle) + \" --> \" + circle[0])\n",
        "else:\n",
        "    print(\"The words cannot form a circle.\")\n"
      ],
      "metadata": {
        "colab": {
          "base_uri": "https://localhost:8080/"
        },
        "id": "83beXncrZWyt",
        "outputId": "1489a1df-9b04-46e0-8582-f8a28057cf22"
      },
      "execution_count": 3,
      "outputs": [
        {
          "output_type": "stream",
          "name": "stdout",
          "text": [
            "The words can form a circle:\n",
            "chair --> racket --> touch --> height --> tunic --> chair\n"
          ]
        }
      ]
    }
  ]
}