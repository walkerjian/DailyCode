{
  "nbformat": 4,
  "nbformat_minor": 0,
  "metadata": {
    "colab": {
      "provenance": [],
      "authorship_tag": "ABX9TyMrf8xGpShQb2b2Ij6DXRxw",
      "include_colab_link": true
    },
    "kernelspec": {
      "name": "python3",
      "display_name": "Python 3"
    },
    "language_info": {
      "name": "python"
    }
  },
  "cells": [
    {
      "cell_type": "markdown",
      "metadata": {
        "id": "view-in-github",
        "colab_type": "text"
      },
      "source": [
        "<a href=\"https://colab.research.google.com/github/walkerjian/DailyCode/blob/main/Code_Craft_is_isomorphic.ipynb\" target=\"_parent\"><img src=\"https://colab.research.google.com/assets/colab-badge.svg\" alt=\"Open In Colab\"/></a>"
      ]
    },
    {
      "cell_type": "markdown",
      "source": [
        "##Problem:\n",
        "Determine whether there exists a one-to-one character mapping from one string s1 to another s2.\n",
        "\n",
        "For example, given s1 = abc and s2 = bcd, return true since we can map a to b, b to c, and c to d.\n",
        "\n",
        "Given s1 = foo and s2 = bar, return false since the o cannot map to two characters."
      ],
      "metadata": {
        "id": "LO0sYL5_HXLZ"
      }
    },
    {
      "cell_type": "markdown",
      "source": [
        "##Solution:\n"
      ],
      "metadata": {
        "id": "irk8nnBFHg1P"
      }
    },
    {
      "cell_type": "code",
      "execution_count": 1,
      "metadata": {
        "colab": {
          "base_uri": "https://localhost:8080/"
        },
        "id": "8KPo0SyhHWHH",
        "outputId": "766aa4cd-2cf5-42f5-ba54-22d6fa69e5c7"
      },
      "outputs": [
        {
          "output_type": "execute_result",
          "data": {
            "text/plain": [
              "{('abc', 'bcd'): True, ('foo', 'bar'): False}"
            ]
          },
          "metadata": {},
          "execution_count": 1
        }
      ],
      "source": [
        "def is_isomorphic(s1, s2):\n",
        "    \"\"\"\n",
        "    Function to determine if there is a one-to-one character mapping from s1 to s2.\n",
        "\n",
        "    :param s1: First string\n",
        "    :param s2: Second string\n",
        "    :return: True if there is a one-to-one mapping, False otherwise\n",
        "    \"\"\"\n",
        "    if len(s1) != len(s2):\n",
        "        return False\n",
        "\n",
        "    mapping_s1_to_s2 = {}\n",
        "    mapping_s2_to_s1 = {}\n",
        "\n",
        "    for char_s1, char_s2 in zip(s1, s2):\n",
        "        # Check if the mapping is consistent with previous mappings\n",
        "        if (char_s1 in mapping_s1_to_s2 and mapping_s1_to_s2[char_s1] != char_s2) or \\\n",
        "           (char_s2 in mapping_s2_to_s1 and mapping_s2_to_s1[char_s2] != char_s1):\n",
        "            return False\n",
        "\n",
        "        mapping_s1_to_s2[char_s1] = char_s2\n",
        "        mapping_s2_to_s1[char_s2] = char_s1\n",
        "\n",
        "    return True\n",
        "\n",
        "# Test the function with the provided examples\n",
        "test_cases = [(\"abc\", \"bcd\"), (\"foo\", \"bar\")]\n",
        "results = {test_case: is_isomorphic(*test_case) for test_case in test_cases}\n",
        "results\n",
        "\n"
      ]
    }
  ]
}