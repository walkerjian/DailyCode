{
  "nbformat": 4,
  "nbformat_minor": 0,
  "metadata": {
    "colab": {
      "provenance": [],
      "authorship_tag": "ABX9TyOUXTSBFBoUcQNgKNb123Zt",
      "include_colab_link": true
    },
    "kernelspec": {
      "name": "python3",
      "display_name": "Python 3"
    },
    "language_info": {
      "name": "python"
    }
  },
  "cells": [
    {
      "cell_type": "markdown",
      "metadata": {
        "id": "view-in-github",
        "colab_type": "text"
      },
      "source": [
        "<a href=\"https://colab.research.google.com/github/walkerjian/DailyCode/blob/main/Code_Craft_long_bits.ipynb\" target=\"_parent\"><img src=\"https://colab.research.google.com/assets/colab-badge.svg\" alt=\"Open In Colab\"/></a>"
      ]
    },
    {
      "cell_type": "markdown",
      "source": [
        "##Problem:\n",
        "Given an integer n, return the length of the longest consecutive run of 1s in its binary representation.\n",
        "\n",
        "For example, given 156, you should return 3."
      ],
      "metadata": {
        "id": "dFd7_bLYMDBx"
      }
    },
    {
      "cell_type": "markdown",
      "source": [
        "##Solution:\n"
      ],
      "metadata": {
        "id": "w6bQPgB8MIja"
      }
    },
    {
      "cell_type": "code",
      "execution_count": null,
      "metadata": {
        "id": "9c0vF2sWMB9m"
      },
      "outputs": [],
      "source": [
        "def longest_consecutive_ones(n):\n",
        "    \"\"\"\n",
        "    Find the length of the longest consecutive run of 1s in the binary representation of n.\n",
        "\n",
        "    :param n: An integer whose binary representation is to be analyzed.\n",
        "    :return: The length of the longest consecutive run of 1s.\n",
        "    \"\"\"\n",
        "    # Convert the number to its binary representation and remove the '0b' prefix.\n",
        "    binary_str = bin(n)[2:]\n",
        "\n",
        "    max_count = 0\n",
        "    current_count = 0\n",
        "\n",
        "    # Iterate over the binary string to find the longest sequence of 1s.\n",
        "    for bit in binary_str:\n",
        "        if bit == '1':\n",
        "            current_count += 1\n",
        "            max_count = max(max_count, current_count)\n",
        "        else:\n",
        "            current_count = 0\n",
        "\n",
        "    return max_count\n",
        "\n",
        "# Test the function with the example provided (156)\n",
        "longest_consecutive_ones(156)\n"
      ]
    },
    {
      "cell_type": "code",
      "source": [
        "def longest_consecutive_ones_arithmetic(n):\n",
        "    \"\"\"\n",
        "    Find the length of the longest consecutive run of 1s in the binary representation of n using arithmetic operations.\n",
        "\n",
        "    :param n: An integer whose binary representation is to be analyzed.\n",
        "    :return: The length of the longest consecutive run of 1s.\n",
        "    \"\"\"\n",
        "    max_count = 0\n",
        "    current_count = 0\n",
        "\n",
        "    while n > 0:\n",
        "        current_count = (current_count + 1) * (n & 1)\n",
        "        max_count = max(max_count, current_count)\n",
        "        n >>= 1  # Right shift the binary representation of n by 1.\n",
        "\n",
        "    return max_count\n",
        "\n",
        "# Test the function with the example provided (156)\n",
        "longest_consecutive_ones_arithmetic(156)\n"
      ],
      "metadata": {
        "id": "6G5yLuCPNhdE"
      },
      "execution_count": null,
      "outputs": []
    }
  ]
}