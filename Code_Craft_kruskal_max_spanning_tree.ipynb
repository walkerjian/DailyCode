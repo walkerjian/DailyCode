{
  "nbformat": 4,
  "nbformat_minor": 0,
  "metadata": {
    "colab": {
      "provenance": [],
      "authorship_tag": "ABX9TyNLE2IVeCzzNh0AIcHIkzAM",
      "include_colab_link": true
    },
    "kernelspec": {
      "name": "python3",
      "display_name": "Python 3"
    },
    "language_info": {
      "name": "python"
    }
  },
  "cells": [
    {
      "cell_type": "markdown",
      "metadata": {
        "id": "view-in-github",
        "colab_type": "text"
      },
      "source": [
        "<a href=\"https://colab.research.google.com/github/walkerjian/DailyCode/blob/main/Code_Craft_kruskal_max_spanning_tree.ipynb\" target=\"_parent\"><img src=\"https://colab.research.google.com/assets/colab-badge.svg\" alt=\"Open In Colab\"/></a>"
      ]
    },
    {
      "cell_type": "markdown",
      "source": [
        "Recall that the minimum spanning tree is the subset of edges of a tree that connect all its vertices with the smallest possible total edge weight. Given an undirected graph with weighted edges, compute the maximum weight spanning tree."
      ],
      "metadata": {
        "id": "3cfO6tntNo-3"
      }
    },
    {
      "cell_type": "markdown",
      "source": [
        "To compute the maximum spanning tree of an undirected graph, you can modify the typical algorithm used for finding the minimum spanning tree (MST), such as Kruskal's or Prim's algorithm, by focusing on maximizing rather than minimizing the edge weights. A straightforward approach involves using Kruskal's algorithm with a slight modification: sort the edges in descending order by weight rather than ascending order, and then proceed as usual.\n",
        "\n",
        "Here's a step-by-step breakdown of how you could use a modified version of Kruskal's algorithm to find the maximum spanning tree:\n",
        "\n",
        "1. **Sort the Edges**: Start by sorting all the edges of the graph in descending order based on their weights.\n",
        "\n",
        "2. **Initialize Forest**: Initialize a forest where each vertex of the graph is a separate tree.\n",
        "\n",
        "3. **Union-Find Structure**: Use a union-find data structure to keep track of the components (trees). This helps efficiently manage the union and find operations needed to determine whether adding an edge would form a cycle.\n",
        "\n",
        "4. **Select Edges**: Iterate through the sorted list of edges. For each edge, use the union-find structure to check if the two vertices of the edge belong to different trees:\n",
        "   - If they do, add the edge to the maximum spanning tree (MST) and union the two trees in the forest.\n",
        "   - If they don't, skip the edge to avoid creating a cycle.\n",
        "\n",
        "5. **Stop When Complete**: The algorithm stops when there are \\(V-1\\) edges in the MST, where \\(V\\) is the number of vertices in the graph.\n",
        "\n",
        "This code defines a `UnionFind` class to manage disjoint sets efficiently and implements Kruskal's algorithm to find the maximum spanning tree by considering the edges in decreasing order of their weights. Adjust the graph input as needed for different scenarios."
      ],
      "metadata": {
        "id": "m8O9lEhhNa61"
      }
    },
    {
      "cell_type": "code",
      "execution_count": 1,
      "metadata": {
        "id": "KQO87BpLFYH7",
        "colab": {
          "base_uri": "https://localhost:8080/"
        },
        "outputId": "9d1cbb32-fa33-4ab3-dde6-07aa194937cf"
      },
      "outputs": [
        {
          "output_type": "stream",
          "name": "stdout",
          "text": [
            "Edges in the maximum spanning tree:\n",
            "0 - 3: 15\n",
            "0 - 1: 10\n",
            "2 - 3: 8\n"
          ]
        }
      ],
      "source": [
        "class UnionFind:\n",
        "    def __init__(self, size):\n",
        "        self.root = list(range(size))\n",
        "        self.rank = [1] * size\n",
        "\n",
        "    def find(self, x):\n",
        "        if self.root[x] != x:\n",
        "            self.root[x] = self.find(self.root[x])\n",
        "        return self.root[x]\n",
        "\n",
        "    def union(self, x, y):\n",
        "        rootX = self.find(x)\n",
        "        rootY = self.find(y)\n",
        "\n",
        "        if rootX != rootY:\n",
        "            if self.rank[rootX] > self.rank[rootY]:\n",
        "                self.root[rootY] = rootX\n",
        "            elif self.rank[rootX] < self.rank[rootY]:\n",
        "                self.root[rootX] = rootY\n",
        "            else:\n",
        "                self.root[rootY] = rootX\n",
        "                self.rank[rootX] += 1\n",
        "            return True\n",
        "        return False\n",
        "\n",
        "def kruskal_max_spanning_tree(vertices, edges):\n",
        "    # vertices: number of vertices in the graph\n",
        "    # edges: list of tuples (weight, start_vertex, end_vertex)\n",
        "    # Sort edges in descending order by weight\n",
        "    edges.sort(reverse=True, key=lambda x: x[0])\n",
        "\n",
        "    uf = UnionFind(vertices)\n",
        "    mst = []\n",
        "    for weight, u, v in edges:\n",
        "        if uf.union(u, v):\n",
        "            mst.append((u, v, weight))\n",
        "        if len(mst) == vertices - 1:\n",
        "            break\n",
        "\n",
        "    return mst\n",
        "\n",
        "# Example graph (vertex count and edges with weights)\n",
        "vertex_count = 4\n",
        "edges = [\n",
        "    (10, 0, 1),\n",
        "    (6, 1, 2),\n",
        "    (5, 0, 2),\n",
        "    (15, 0, 3),\n",
        "    (4, 1, 3),\n",
        "    (8, 2, 3)\n",
        "]\n",
        "\n",
        "mst = kruskal_max_spanning_tree(vertex_count, edges)\n",
        "print(\"Edges in the maximum spanning tree:\")\n",
        "for u, v, weight in mst:\n",
        "    print(f\"{u} - {v}: {weight}\")"
      ]
    }
  ]
}