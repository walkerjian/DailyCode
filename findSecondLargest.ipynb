{
  "nbformat": 4,
  "nbformat_minor": 0,
  "metadata": {
    "colab": {
      "provenance": [],
      "authorship_tag": "ABX9TyMHgCQl3kmjhKFv+qf2PD/r",
      "include_colab_link": true
    },
    "kernelspec": {
      "name": "python3",
      "display_name": "Python 3"
    },
    "language_info": {
      "name": "python"
    }
  },
  "cells": [
    {
      "cell_type": "markdown",
      "metadata": {
        "id": "view-in-github",
        "colab_type": "text"
      },
      "source": [
        "<a href=\"https://colab.research.google.com/github/walkerjian/DailyCode/blob/main/findSecondLargest.ipynb\" target=\"_parent\"><img src=\"https://colab.research.google.com/assets/colab-badge.svg\" alt=\"Open In Colab\"/></a>"
      ]
    },
    {
      "cell_type": "code",
      "source": [
        "class TreeNode:\n",
        "    def __init__(self, val=0, left=None, right=None):\n",
        "        self.val = val\n",
        "        self.left = left\n",
        "        self.right = right\n",
        "\n",
        "def findSecondLargest(root):\n",
        "    if not root or (not root.left and not root.right):\n",
        "        return None\n",
        "\n",
        "    # Helper function to find the largest node and its parent\n",
        "    def findLargestWithParent(node, parent=None):\n",
        "        if not node.right:\n",
        "            return node, parent\n",
        "        return findLargestWithParent(node.right, node)\n",
        "\n",
        "    # Find the largest node and its parent\n",
        "    largest, parentOfLargest = findLargestWithParent(root)\n",
        "\n",
        "    # If the largest node has a left child\n",
        "    if largest.left:\n",
        "        secondLargest, _ = findLargestWithParent(largest.left)\n",
        "        return secondLargest.val\n",
        "    # If the largest node does not have a left child\n",
        "    return parentOfLargest.val\n",
        "\n",
        "# Creating a comprehensive set of test trees\n",
        "\n",
        "# Test tree 1: Basic BST\n",
        "#         5\n",
        "#       /   \\\n",
        "#      3     8\n",
        "#     / \\   / \\\n",
        "#    1   4 6   9\n",
        "tree1 = TreeNode(5, TreeNode(3, TreeNode(1), TreeNode(4)), TreeNode(8, TreeNode(6), TreeNode(9)))\n",
        "\n",
        "# Test tree 2: Only right children\n",
        "# 1\n",
        "#  \\\n",
        "#   2\n",
        "#    \\\n",
        "#     3\n",
        "tree2 = TreeNode(1, None, TreeNode(2, None, TreeNode(3)))\n",
        "\n",
        "# Test tree 3: Only left children\n",
        "#     3\n",
        "#    /\n",
        "#   2\n",
        "#  /\n",
        "# 1\n",
        "tree3 = TreeNode(3, TreeNode(2, TreeNode(1)))\n",
        "\n",
        "# Test tree 4: Single node\n",
        "tree4 = TreeNode(1)\n",
        "\n",
        "# Test tree 5: No left child for largest node\n",
        "#     5\n",
        "#    /\n",
        "#   3\n",
        "tree5 = TreeNode(5, TreeNode(3))\n",
        "\n",
        "# Test tree 6: No right child for largest node\n",
        "#     3\n",
        "#      \\\n",
        "#       5\n",
        "#      /\n",
        "#     4\n",
        "tree6 = TreeNode(3, None, TreeNode(5, TreeNode(4)))\n",
        "\n",
        "test_trees = [tree1, tree2, tree3, tree4, tree5, tree6]\n",
        "results = []\n",
        "\n",
        "for i, tree in enumerate(test_trees, 1):\n",
        "    second_largest = findSecondLargest(tree)\n",
        "    results.append((i, second_largest))\n",
        "\n",
        "results\n"
      ],
      "metadata": {
        "colab": {
          "base_uri": "https://localhost:8080/"
        },
        "id": "YSv3PrCj_JSa",
        "outputId": "b8e19440-b98c-4276-a8e8-9ee7f7bbc2e2"
      },
      "execution_count": 2,
      "outputs": [
        {
          "output_type": "execute_result",
          "data": {
            "text/plain": [
              "[(1, 8), (2, 2), (3, 2), (4, None), (5, 3), (6, 4)]"
            ]
          },
          "metadata": {},
          "execution_count": 2
        }
      ]
    }
  ]
}