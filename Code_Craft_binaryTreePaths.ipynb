{
  "nbformat": 4,
  "nbformat_minor": 0,
  "metadata": {
    "colab": {
      "provenance": [],
      "authorship_tag": "ABX9TyMl7/3GExBphVfhhcLRSjn8",
      "include_colab_link": true
    },
    "kernelspec": {
      "name": "python3",
      "display_name": "Python 3"
    },
    "language_info": {
      "name": "python"
    }
  },
  "cells": [
    {
      "cell_type": "markdown",
      "metadata": {
        "id": "view-in-github",
        "colab_type": "text"
      },
      "source": [
        "<a href=\"https://colab.research.google.com/github/walkerjian/DailyCode/blob/main/Code_Craft_binaryTreePaths.ipynb\" target=\"_parent\"><img src=\"https://colab.research.google.com/assets/colab-badge.svg\" alt=\"Open In Colab\"/></a>"
      ]
    },
    {
      "cell_type": "markdown",
      "source": [
        "##Problem:\n",
        "Given a binary tree, return all paths from the root to leaves.\n",
        "\n",
        "For example, given the tree:\n",
        "```\n",
        "   1\n",
        "  / \\\n",
        " 2   3\n",
        "    / \\\n",
        "   4   5\n",
        "```\n",
        "Return [[1, 2], [1, 3, 4], [1, 3, 5]]."
      ],
      "metadata": {
        "id": "QVDMhTVLsGUR"
      }
    },
    {
      "cell_type": "markdown",
      "source": [
        "##Solution:\n",
        "To solve this problem, we can use a depth-first search (DFS) approach. We'll traverse the binary tree from the root to each leaf, keeping track of the path we've taken. Once we reach a leaf node (a node with no children), we'll add the current path to our list of paths.\n",
        "\n",
        "We can implement this in Python. Here's a step-by-step approach:\n",
        "\n",
        "1. Define a class `TreeNode` to represent each node in the binary tree.\n",
        "2. Create a function `binaryTreePaths` that initiates the DFS.\n",
        "3. Implement a helper function to perform the DFS. This function will take the current node and the path so far as arguments.\n",
        "4. As we traverse the tree, we'll add the current node's value to the path.\n",
        "5. If a leaf node is reached, we add the current path to our list of paths.\n",
        "6. The function will return the list of all root-to-leaf paths.\n",
        "\n"
      ],
      "metadata": {
        "id": "gEkPH8qqsRyP"
      }
    },
    {
      "cell_type": "code",
      "execution_count": 1,
      "metadata": {
        "colab": {
          "base_uri": "https://localhost:8080/"
        },
        "id": "Rp3VzgKXsE0Z",
        "outputId": "179b524c-dfb8-445b-c54c-bc9e736969e7"
      },
      "outputs": [
        {
          "output_type": "execute_result",
          "data": {
            "text/plain": [
              "[[1, 2], [1, 3, 4], [1, 3, 5]]"
            ]
          },
          "metadata": {},
          "execution_count": 1
        }
      ],
      "source": [
        "class TreeNode:\n",
        "    def __init__(self, x):\n",
        "        self.val = x\n",
        "        self.left = None\n",
        "        self.right = None\n",
        "\n",
        "def binaryTreePaths(root):\n",
        "    if not root:\n",
        "        return []\n",
        "\n",
        "    def dfs(node, path, paths):\n",
        "        if not node.left and not node.right:  # Leaf node\n",
        "            paths.append(path + [node.val])\n",
        "            return\n",
        "        if node.left:\n",
        "            dfs(node.left, path + [node.val], paths)\n",
        "        if node.right:\n",
        "            dfs(node.right, path + [node.val], paths)\n",
        "\n",
        "    paths = []\n",
        "    dfs(root, [], paths)\n",
        "    return paths\n",
        "\n",
        "# Creating the binary tree from the example\n",
        "root = TreeNode(1)\n",
        "root.left = TreeNode(2)\n",
        "root.right = TreeNode(3)\n",
        "root.right.left = TreeNode(4)\n",
        "root.right.right = TreeNode(5)\n",
        "\n",
        "# Get all paths from root to leaves\n",
        "binaryTreePaths(root)"
      ]
    },
    {
      "cell_type": "markdown",
      "source": [
        "The function `binaryTreePaths` successfully returns all paths from the root to the leaves of the given binary tree. For the provided example, the returned paths are `[[1, 2], [1, 3, 4], [1, 3, 5]]`, which correctly represents all root-to-leaf paths in the tree:\n",
        "\n",
        "```\n",
        "   1\n",
        "  / \\\n",
        " 2   3\n",
        "    / \\\n",
        "   4   5\n",
        "```"
      ],
      "metadata": {
        "id": "0Msnh7AKsXqp"
      }
    }
  ]
}