{
  "nbformat": 4,
  "nbformat_minor": 0,
  "metadata": {
    "colab": {
      "provenance": [],
      "authorship_tag": "ABX9TyNJCL21evlAOgoXMT2RtZz4",
      "include_colab_link": true
    },
    "kernelspec": {
      "name": "python3",
      "display_name": "Python 3"
    },
    "language_info": {
      "name": "python"
    }
  },
  "cells": [
    {
      "cell_type": "markdown",
      "metadata": {
        "id": "view-in-github",
        "colab_type": "text"
      },
      "source": [
        "<a href=\"https://colab.research.google.com/github/walkerjian/DailyCode/blob/main/Code_Craft_binaryTreePaths.ipynb\" target=\"_parent\"><img src=\"https://colab.research.google.com/assets/colab-badge.svg\" alt=\"Open In Colab\"/></a>"
      ]
    },
    {
      "cell_type": "markdown",
      "source": [
        "##Problem:\n",
        "Given a binary tree, return all paths from the root to leaves.\n",
        "\n",
        "For example, given the tree:\n",
        "\n",
        "````\n",
        "   1\n",
        "  / \\\n",
        " 2   3\n",
        "    / \\\n",
        "   4   5\n",
        "````\n",
        "Return [[1, 2], [1, 3, 4], [1, 3, 5]]."
      ],
      "metadata": {
        "id": "cSXWR2hs_pGD"
      }
    },
    {
      "cell_type": "markdown",
      "source": [
        "##Solution:\n",
        "To solve this problem, we can perform a depth-first search (DFS) on the binary tree. During the traversal, we keep track of the path from the root to the current node. When we reach a leaf node (a node with no children), we add the current path to the list of paths.\n",
        "\n"
      ],
      "metadata": {
        "id": "l593_vCM_yGm"
      }
    },
    {
      "cell_type": "markdown",
      "source": [
        "##Implementation:\n",
        "Here's a Python function to implement this approach:\n",
        "\n",
        "This function defines a `TreeNode` class to represent the nodes of the binary tree. The `binaryTreePaths` function takes the root of the tree and returns a list of paths. The inner function `dfs` is used for the depth-first search. It recursively explores the tree, adding the value of each node to the current path until it reaches a leaf node, at which point it adds the complete path to the list of paths."
      ],
      "metadata": {
        "id": "CElq06of_4Gb"
      }
    },
    {
      "cell_type": "code",
      "execution_count": 1,
      "metadata": {
        "colab": {
          "base_uri": "https://localhost:8080/"
        },
        "id": "zmGv3Sts_oix",
        "outputId": "83a275bc-0bb3-4301-a105-bfcea904c8b0"
      },
      "outputs": [
        {
          "output_type": "stream",
          "name": "stdout",
          "text": [
            "[[1, 2], [1, 3, 4], [1, 3, 5]]\n"
          ]
        }
      ],
      "source": [
        "class TreeNode:\n",
        "    def __init__(self, x):\n",
        "        self.val = x\n",
        "        self.left = None\n",
        "        self.right = None\n",
        "\n",
        "def binaryTreePaths(root):\n",
        "    if not root:\n",
        "        return []\n",
        "\n",
        "    def dfs(node, path, paths):\n",
        "        if not node.left and not node.right:  # Leaf node\n",
        "            paths.append(path + [node.val])\n",
        "            return\n",
        "        if node.left:\n",
        "            dfs(node.left, path + [node.val], paths)\n",
        "        if node.right:\n",
        "            dfs(node.right, path + [node.val], paths)\n",
        "\n",
        "    paths = []\n",
        "    dfs(root, [], paths)\n",
        "    return paths\n",
        "\n",
        "# Example usage\n",
        "root = TreeNode(1)\n",
        "root.left = TreeNode(2)\n",
        "root.right = TreeNode(3)\n",
        "root.right.left = TreeNode(4)\n",
        "root.right.right = TreeNode(5)\n",
        "\n",
        "print(binaryTreePaths(root))\n"
      ]
    },
    {
      "cell_type": "markdown",
      "source": [
        "##Testing:\n",
        "To create a test harness for the binary tree paths function, we can design several test cases including a significantly large tree, as well as edge cases like an empty tree or a tree with only one node. Here's the plan for the test harness:\n",
        "\n",
        "1. **Large Tree Test**: Create a binary tree with multiple levels and various branchings to test the function's ability to handle a complex structure.\n",
        "2. **Empty Tree Test**: Test with an empty tree to ensure the function handles the absence of nodes correctly.\n",
        "3. **Single Node Tree Test**: Test with a tree that has only the root node to check the function's behavior in a minimal case.\n",
        "4. **Unbalanced Tree Test**: Create a tree that is heavily unbalanced (e.g., all left or all right children) to test the function's performance in extreme cases.\n",
        "\n",
        "For each test case, we'll compare the output of the `binaryTreePaths` function with the expected output. If all tests pass, we'll print a message indicating success. Otherwise, we'll print which test failed."
      ],
      "metadata": {
        "id": "tKh0J9guAfQn"
      }
    },
    {
      "cell_type": "code",
      "source": [
        "def createLargeTestTree():\n",
        "    root = TreeNode(1)\n",
        "    root.left = TreeNode(2)\n",
        "    root.right = TreeNode(3)\n",
        "    root.left.left = TreeNode(4)\n",
        "    root.left.right = TreeNode(5)\n",
        "    root.right.left = TreeNode(6)\n",
        "    root.right.right = TreeNode(7)\n",
        "    root.left.left.left = TreeNode(8)\n",
        "    root.left.right.right = TreeNode(9)\n",
        "    root.right.left.left = TreeNode(10)\n",
        "    return root\n",
        "\n",
        "def testBinaryTreePaths():\n",
        "    # Test with a large tree\n",
        "    largeTree = createLargeTestTree()\n",
        "    largeTreeResult = binaryTreePaths(largeTree)\n",
        "    expectedLargeTreeResult = [[1, 2, 4, 8], [1, 2, 5, 9], [1, 3, 6, 10], [1, 3, 7]]\n",
        "    assert largeTreeResult == expectedLargeTreeResult, \"Large Tree Test Failed\"\n",
        "\n",
        "    # Test with an empty tree\n",
        "    emptyTreeResult = binaryTreePaths(None)\n",
        "    assert emptyTreeResult == [], \"Empty Tree Test Failed\"\n",
        "\n",
        "    # Test with a single node tree\n",
        "    singleNodeTree = TreeNode(1)\n",
        "    singleNodeTreeResult = binaryTreePaths(singleNodeTree)\n",
        "    assert singleNodeTreeResult == [[1]], \"Single Node Tree Test Failed\"\n",
        "\n",
        "    # Test with an unbalanced tree\n",
        "    unbalancedTree = TreeNode(1)\n",
        "    unbalancedTree.right = TreeNode(2)\n",
        "    unbalancedTree.right.right = TreeNode(3)\n",
        "    unbalancedTreeResult = binaryTreePaths(unbalancedTree)\n",
        "    assert unbalancedTreeResult == [[1, 2, 3]], \"Unbalanced Tree Test Failed\"\n",
        "\n",
        "    return \"All Tests Passed\"\n",
        "\n",
        "# Run the test harness\n",
        "testBinaryTreePaths()"
      ],
      "metadata": {
        "colab": {
          "base_uri": "https://localhost:8080/",
          "height": 38
        },
        "id": "7Y-Z6RnbAhrl",
        "outputId": "e46d9def-b5cb-4a0e-a9fe-baaca6c30892"
      },
      "execution_count": 2,
      "outputs": [
        {
          "output_type": "execute_result",
          "data": {
            "text/plain": [
              "'All Tests Passed'"
            ],
            "application/vnd.google.colaboratory.intrinsic+json": {
              "type": "string"
            }
          },
          "metadata": {},
          "execution_count": 2
        }
      ]
    }
  ]
}