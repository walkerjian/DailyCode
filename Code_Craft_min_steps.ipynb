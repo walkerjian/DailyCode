{
  "nbformat": 4,
  "nbformat_minor": 0,
  "metadata": {
    "colab": {
      "provenance": [],
      "authorship_tag": "ABX9TyPJzTGpOdvVRBnHzyFRGDM7",
      "include_colab_link": true
    },
    "kernelspec": {
      "name": "python3",
      "display_name": "Python 3"
    },
    "language_info": {
      "name": "python"
    }
  },
  "cells": [
    {
      "cell_type": "markdown",
      "metadata": {
        "id": "view-in-github",
        "colab_type": "text"
      },
      "source": [
        "<a href=\"https://colab.research.google.com/github/walkerjian/DailyCode/blob/main/Code_Craft_min_steps.ipynb\" target=\"_parent\"><img src=\"https://colab.research.google.com/assets/colab-badge.svg\" alt=\"Open In Colab\"/></a>"
      ]
    },
    {
      "cell_type": "markdown",
      "source": [
        "##Problem:\n",
        "You are in an infinite 2D grid where you can move in any of the 8 directions:\n",
        "````\n",
        " (x,y) to\n",
        "    (x+1, y),\n",
        "    (x - 1, y),\n",
        "    (x, y+1),\n",
        "    (x, y-1),\n",
        "    (x-1, y-1),\n",
        "    (x+1,y+1),\n",
        "    (x-1,y+1),\n",
        "    (x+1,y-1)\n",
        "````\n",
        "\n",
        "You are given a sequence of points and the order in which you need to cover the points. Give the minimum number of steps in which you can achieve it. You start from the first point.\n",
        "\n",
        "Example:\n",
        "````\n",
        "Input: [(0, 0), (1, 1), (1, 2)]\n",
        "Output: 2\n",
        "It takes 1 step to move from (0, 0) to (1, 1). It takes one more step to move from (1, 1) to (1, 2).\n",
        "````"
      ],
      "metadata": {
        "id": "UOHwyg7I2Djx"
      }
    },
    {
      "cell_type": "markdown",
      "source": [
        "##Solution:\n",
        "The logic of the solution for calculating the minimum number of steps required to move through a sequence of points on a 2D grid is as follows.\n",
        "\n",
        "1. **Understanding the Movement**:\n",
        "    - In this grid, you can move in any of the 8 directions: up, down, left, right, and the four diagonals.\n",
        "    - A key observation is that moving diagonally (like from `(x, y)` to `(x+1, y+1)`) counts as a single step, just like moving horizontally or vertically.\n",
        "\n",
        "2. **Calculating Steps Between Two Points**:\n",
        "    - The minimum number of steps required to move from one point to another is the greater of the differences in the x-coordinates and y-coordinates.\n",
        "    - For example, to move from `(2, 3)` to `(5, 6)`, the x-coordinate difference is `3` (from 2 to 5) and the y-coordinate difference is `3` (from 3 to 6). Since these differences are equal, the minimum steps required are `3`, moving diagonally.\n",
        "    - If the differences were not equal, like moving from `(2, 3)` to `(5, 7)`, the minimum steps would be the greater of the two differences, which in this case is `4` (from 3 to 7).\n",
        "\n",
        "3. **Applying the Logic to a Sequence of Points**:\n",
        "    - The solution iterates through the given sequence of points.\n",
        "    - For each pair of consecutive points, it calculates the minimum steps required to move from one to the next using the method described above.\n",
        "    - These steps are then summed up to get the total minimum number of steps to cover all points in the sequence.\n",
        "\n",
        "4. **Edge Cases**:\n",
        "    - If the list of points is empty, the function returns `0` since there are no steps to be taken.\n",
        "    - Similarly, if there is only one point or if consecutive points are identical, the steps required are `0`."
      ],
      "metadata": {
        "id": "I4zbdOJu2Poi"
      }
    },
    {
      "cell_type": "markdown",
      "source": [
        "##Implementation:"
      ],
      "metadata": {
        "id": "4dmDIgKE2yKY"
      }
    },
    {
      "cell_type": "code",
      "source": [
        "def min_steps(points):\n",
        "    \"\"\"\n",
        "    Calculate the minimum number of steps required to move through a sequence of points on a 2D grid.\n",
        "    The minimum steps between two points is the maximum of the absolute differences in their x and y coordinates.\n",
        "\n",
        "    :param points: List of tuples representing the points in the order they need to be covered\n",
        "    :return: The minimum number of steps to cover all points\n",
        "    \"\"\"\n",
        "    if not points:\n",
        "        return 0\n",
        "\n",
        "    def steps_between_points(p1, p2):\n",
        "        \"\"\"Calculate the minimum steps required to move from p1 to p2.\"\"\"\n",
        "        return max(abs(p1[0] - p2[0]), abs(p1[1] - p2[1]))\n",
        "\n",
        "    total_steps = 0\n",
        "    for i in range(1, len(points)):\n",
        "        total_steps += steps_between_points(points[i - 1], points[i])\n",
        "\n",
        "    return total_steps\n",
        "\n",
        "\n",
        "# Test cases\n",
        "test_cases = [\n",
        "    ([(0, 0), (1, 1), (1, 2)], 2),  # Example given in the task\n",
        "    ([(0, 0), (3, 4), (1, 1)], 7),  # Adjusted expected result\n",
        "    ([], 0),                         # An empty list of points\n",
        "    ([(2, 3)], 0),                   # A single point\n",
        "    ([(1, 1), (1, 1)], 0),           # Two identical points\n",
        "]\n",
        "\n",
        "# Display the results\n",
        "for points, expected in test_cases:\n",
        "    result = min_steps(points)\n",
        "    print(f\"Input: {points} | Output: {result} | Expected: {expected} | {'Pass' if result == expected else 'Fail'}\")\n"
      ],
      "metadata": {
        "colab": {
          "base_uri": "https://localhost:8080/"
        },
        "id": "_A3GxuSS10WH",
        "outputId": "86b099e8-c357-4539-a722-5b1f616a7612"
      },
      "execution_count": 4,
      "outputs": [
        {
          "output_type": "stream",
          "name": "stdout",
          "text": [
            "Input: [(0, 0), (1, 1), (1, 2)] | Output: 2 | Expected: 2 | Pass\n",
            "Input: [(0, 0), (3, 4), (1, 1)] | Output: 7 | Expected: 7 | Pass\n",
            "Input: [] | Output: 0 | Expected: 0 | Pass\n",
            "Input: [(2, 3)] | Output: 0 | Expected: 0 | Pass\n",
            "Input: [(1, 1), (1, 1)] | Output: 0 | Expected: 0 | Pass\n"
          ]
        }
      ]
    }
  ]
}