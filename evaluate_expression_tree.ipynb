{
  "nbformat": 4,
  "nbformat_minor": 0,
  "metadata": {
    "colab": {
      "provenance": [],
      "authorship_tag": "ABX9TyNSacPjOXyWNNboywDdpNqn",
      "include_colab_link": true
    },
    "kernelspec": {
      "name": "python3",
      "display_name": "Python 3"
    },
    "language_info": {
      "name": "python"
    }
  },
  "cells": [
    {
      "cell_type": "markdown",
      "metadata": {
        "id": "view-in-github",
        "colab_type": "text"
      },
      "source": [
        "<a href=\"https://colab.research.google.com/github/walkerjian/DailyCode/blob/main/evaluate_expression_tree.ipynb\" target=\"_parent\"><img src=\"https://colab.research.google.com/assets/colab-badge.svg\" alt=\"Open In Colab\"/></a>"
      ]
    },
    {
      "cell_type": "markdown",
      "source": [
        "##Problem:\n",
        "Suppose an arithmetic expression is given as a binary tree. Each leaf is an integer and each internal node is one of '+', '−', '∗', or '/'.\n",
        "\n",
        "Given the root to such a tree, write a function to evaluate it.\n",
        "\n",
        "For example, given the following tree:\n",
        "```\n",
        "    *\n",
        "   / \\\n",
        "  +    +\n",
        " / \\  / \\\n",
        "3  2  4  5\n",
        "```\n",
        "You should return 45, as it is (3 + 2) * (4 + 5)."
      ],
      "metadata": {
        "id": "rsZfLziJ9dBm"
      }
    },
    {
      "cell_type": "markdown",
      "source": [
        "##Solution:\n",
        "To evaluate the given arithmetic expression represented as a binary tree, we can use a recursive approach.\n",
        "\n",
        "Here are the steps:\n",
        "\n",
        "1. If the node is a leaf node (i.e., it is a number), return its value.\n",
        "2. If the node is an internal node (i.e., it represents an arithmetic operation), recursively evaluate its left and right children and then apply the operation to the results.\n",
        "\n",
        "Let's write the code for this approach:\n",
        "\n",
        "The function correctly evaluated the given arithmetic expression tree and returned a result of 45, which matches the expected value of $(3 + 2) \\times (4 + 5)$."
      ],
      "metadata": {
        "id": "ZfZxo0O99qIq"
      }
    },
    {
      "cell_type": "markdown",
      "source": [
        "##Implementation:"
      ],
      "metadata": {
        "id": "DNyieNol-KET"
      }
    },
    {
      "cell_type": "code",
      "execution_count": 1,
      "metadata": {
        "colab": {
          "base_uri": "https://localhost:8080/"
        },
        "id": "IC1y0KWl9b3n",
        "outputId": "4542d612-79a4-419d-a89f-4d1ae2022a23"
      },
      "outputs": [
        {
          "output_type": "execute_result",
          "data": {
            "text/plain": [
              "45"
            ]
          },
          "metadata": {},
          "execution_count": 1
        }
      ],
      "source": [
        "class TreeNode:\n",
        "    def __init__(self, value, left=None, right=None):\n",
        "        self.value = value\n",
        "        self.left = left\n",
        "        self.right = right\n",
        "\n",
        "def evaluate_expression_tree(node):\n",
        "    if not node:\n",
        "        return 0\n",
        "\n",
        "    # If leaf node, return its value\n",
        "    if not node.left and not node.right:\n",
        "        return int(node.value)\n",
        "\n",
        "    # Recursively evaluate left and right children\n",
        "    left_val = evaluate_expression_tree(node.left)\n",
        "    right_val = evaluate_expression_tree(node.right)\n",
        "\n",
        "    # Apply the operation\n",
        "    if node.value == '+':\n",
        "        return left_val + right_val\n",
        "    elif node.value == '-':\n",
        "        return left_val - right_val\n",
        "    elif node.value == '*':\n",
        "        return left_val * right_val\n",
        "    elif node.value == '/':\n",
        "        return left_val / right_val\n",
        "\n",
        "# Test the function with the provided tree\n",
        "root = TreeNode('*', TreeNode('+', TreeNode('3'), TreeNode('2')),\n",
        "                TreeNode('+', TreeNode('4'), TreeNode('5')))\n",
        "evaluate_expression_tree(root)"
      ]
    },
    {
      "cell_type": "markdown",
      "source": [
        "##Testing:\n",
        "Certainly! We'll write a test harness to validate the `evaluate_expression_tree` function across a range of scenarios:\n",
        "\n",
        "1. Basic arithmetic operations\n",
        "2. Single node trees\n",
        "3. Deeply nested trees\n",
        "4. Division by zero\n",
        "5. Non-numeric leaf nodes\n",
        "\n",
        "For each test, we'll display the expected and actual results, and indicate whether the test passed or failed.\n",
        "\n",
        "Let's begin by setting up the test harness:\n",
        "\n",
        "The test harness identified that our function doesn't handle non-numeric leaf nodes (Test Case 6).\n",
        "Also, strictly speaking test case 4 should have failed was we were instructed that each leaf is an INTEGER, I will let this one go ..."
      ],
      "metadata": {
        "id": "ovnHjHvm--wG"
      }
    },
    {
      "cell_type": "code",
      "source": [
        "def test_evaluate_expression_tree():\n",
        "    test_cases = []\n",
        "\n",
        "    # Test Case 1: Basic arithmetic operations\n",
        "    root1 = TreeNode('*', TreeNode('+', TreeNode('3'), TreeNode('2')),\n",
        "                     TreeNode('+', TreeNode('4'), TreeNode('5')))\n",
        "    test_cases.append((root1, 45))\n",
        "\n",
        "    # Test Case 2: Single node tree\n",
        "    root2 = TreeNode('7')\n",
        "    test_cases.append((root2, 7))\n",
        "\n",
        "    # Test Case 3: Deeply nested tree\n",
        "    root3 = TreeNode('+', TreeNode('1'),\n",
        "                     TreeNode('*', TreeNode('2'),\n",
        "                              TreeNode('+', TreeNode('3'), TreeNode('4'))))\n",
        "    test_cases.append((root3, 15))\n",
        "\n",
        "    # Test Case 4: Division (with float result)\n",
        "    root4 = TreeNode('/', TreeNode('7'), TreeNode('2'))\n",
        "    test_cases.append((root4, 3.5))\n",
        "\n",
        "    # Test Case 5: Division by zero (we handle this by returning None)\n",
        "    root5 = TreeNode('/', TreeNode('1'), TreeNode('0'))\n",
        "    test_cases.append((root5, None))\n",
        "\n",
        "    # Test Case 6: Non-numeric leaf node (this should be handled, return None)\n",
        "    root6 = TreeNode('+', TreeNode('A'), TreeNode('B'))\n",
        "    test_cases.append((root6, None))\n",
        "\n",
        "    passed_tests = 0\n",
        "    for i, (root, expected) in enumerate(test_cases, 1):\n",
        "        try:\n",
        "            result = evaluate_expression_tree(root)\n",
        "            if result == expected:\n",
        "                print(f\"Test Case {i}: Passed (Expected: {expected}, Got: {result})\")\n",
        "                passed_tests += 1\n",
        "            else:\n",
        "                print(f\"Test Case {i}: Failed (Expected: {expected}, Got: {result})\")\n",
        "        except ZeroDivisionError:\n",
        "            if expected is None:\n",
        "                print(f\"Test Case {i}: Passed (Expected: Division by Zero)\")\n",
        "                passed_tests += 1\n",
        "            else:\n",
        "                print(f\"Test Case {i}: Failed (Expected: {expected}, Got: Division by Zero)\")\n",
        "        except Exception as e:\n",
        "            print(f\"Test Case {i}: Error {e}\")\n",
        "\n",
        "    print(f\"\\n{passed_tests}/{len(test_cases)} test cases passed\")\n",
        "\n",
        "test_evaluate_expression_tree()\n"
      ],
      "metadata": {
        "colab": {
          "base_uri": "https://localhost:8080/"
        },
        "id": "w96nJkch_0A9",
        "outputId": "71b180e4-40e5-46ee-ea6a-091189907dac"
      },
      "execution_count": 2,
      "outputs": [
        {
          "output_type": "stream",
          "name": "stdout",
          "text": [
            "Test Case 1: Passed (Expected: 45, Got: 45)\n",
            "Test Case 2: Passed (Expected: 7, Got: 7)\n",
            "Test Case 3: Passed (Expected: 15, Got: 15)\n",
            "Test Case 4: Passed (Expected: 3.5, Got: 3.5)\n",
            "Test Case 5: Passed (Expected: Division by Zero)\n",
            "Test Case 6: Error invalid literal for int() with base 10: 'A'\n",
            "\n",
            "5/6 test cases passed\n"
          ]
        }
      ]
    }
  ]
}