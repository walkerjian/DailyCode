{
  "nbformat": 4,
  "nbformat_minor": 0,
  "metadata": {
    "colab": {
      "provenance": [],
      "authorship_tag": "ABX9TyPyDeTa8bnFcI93xzTM44Lr",
      "include_colab_link": true
    },
    "kernelspec": {
      "name": "python3",
      "display_name": "Python 3"
    },
    "language_info": {
      "name": "python"
    }
  },
  "cells": [
    {
      "cell_type": "markdown",
      "metadata": {
        "id": "view-in-github",
        "colab_type": "text"
      },
      "source": [
        "<a href=\"https://colab.research.google.com/github/walkerjian/DailyCode/blob/main/Code_Craft_can_be_non_decreasing.ipynb\" target=\"_parent\"><img src=\"https://colab.research.google.com/assets/colab-badge.svg\" alt=\"Open In Colab\"/></a>"
      ]
    },
    {
      "cell_type": "markdown",
      "source": [
        "Given an array of integers, write a function to determine whether the array could become non-decreasing by modifying at most 1 element.\n",
        "\n",
        "For example, given the array [10, 5, 7], you should return true, since we can modify the 10 into a 1 to make the array non-decreasing.\n",
        "\n",
        "Given the array [10, 5, 1], you should return false, since we can't modify any one element to get a non-decreasing array."
      ],
      "metadata": {
        "id": "nl3D67T7szcA"
      }
    },
    {
      "cell_type": "markdown",
      "source": [
        "To solve this problem, we need to determine if by modifying at most one element in the array, it can be transformed into a non-decreasing sequence. Here's a strategy to accomplish this:\n",
        "\n",
        "1. **Identify Changes Needed**: Traverse through the array to find any elements that break the non-decreasing order. Each time such a situation is encountered, note it.\n",
        "2. **Count Violations**: If more than one violation (where a previous element is greater than the current element) is found, then modifying more than one element would be necessary, hence return false.\n",
        "3. **Handle Edge Violations**: For cases with only one violation, further check:\n",
        "    - If it's possible to decrease the preceding element or increase the current element to fix the order.\n",
        "    - Special handling for edge cases like the first or last elements of the array.\n",
        "4. **Return True If Fixable**: If the sequence has zero or one fixable violation, return true.\n",
        "\n",
        "Here's how you could implement this in Python:\n",
        "\n",
        "- Iterates over the array and counts violations where an element is greater than the next one.\n",
        "- Returns early if more than one violation is detected.\n",
        "- Evaluates if a single detected violation can be fixed by adjusting one of the involved elements or if it's conveniently positioned at the start or end of the array."
      ],
      "metadata": {
        "id": "PQasuRJotAYA"
      }
    },
    {
      "cell_type": "code",
      "execution_count": 1,
      "metadata": {
        "colab": {
          "base_uri": "https://localhost:8080/"
        },
        "id": "zBSx0qcVUVxs",
        "outputId": "a23ebacd-75ec-45f2-fd00-16bd1a62e10d"
      },
      "outputs": [
        {
          "output_type": "stream",
          "name": "stdout",
          "text": [
            "True\n",
            "False\n"
          ]
        }
      ],
      "source": [
        "def can_be_non_decreasing(nums):\n",
        "    # Counter for the number of changes needed\n",
        "    count_violations = 0\n",
        "    # Position of the last found violation\n",
        "    last_violation_index = -1\n",
        "\n",
        "    for i in range(1, len(nums)):\n",
        "        if nums[i - 1] > nums[i]:\n",
        "            count_violations += 1\n",
        "            last_violation_index = i\n",
        "            # Early exit if more than one change is needed\n",
        "            if count_violations > 1:\n",
        "                return False\n",
        "\n",
        "    # Check if no violations found or only one at the edges or fixable in the middle\n",
        "    if count_violations == 0:\n",
        "        return True\n",
        "    if count_violations == 1:\n",
        "        # Check if it's the first element or the last element or fixable in between\n",
        "        if last_violation_index == 1 or last_violation_index == len(nums) - 1:\n",
        "            return True\n",
        "        elif (nums[last_violation_index - 2] <= nums[last_violation_index] or\n",
        "              nums[last_violation_index - 1] <= nums[last_violation_index + 1]):\n",
        "            return True\n",
        "\n",
        "    return False\n",
        "\n",
        "# Example usage:\n",
        "print(can_be_non_decreasing([10, 5, 7]))  # Output: True\n",
        "print(can_be_non_decreasing([10, 5, 1]))  # Output: False"
      ]
    }
  ]
}