{
  "nbformat": 4,
  "nbformat_minor": 0,
  "metadata": {
    "colab": {
      "provenance": [],
      "authorship_tag": "ABX9TyPvJdWlDSRHkehZ2h/L1llS",
      "include_colab_link": true
    },
    "kernelspec": {
      "name": "python3",
      "display_name": "Python 3"
    },
    "language_info": {
      "name": "python"
    }
  },
  "cells": [
    {
      "cell_type": "markdown",
      "metadata": {
        "id": "view-in-github",
        "colab_type": "text"
      },
      "source": [
        "<a href=\"https://colab.research.google.com/github/walkerjian/DailyCode/blob/main/partition_linked_list.ipynb\" target=\"_parent\"><img src=\"https://colab.research.google.com/assets/colab-badge.svg\" alt=\"Open In Colab\"/></a>"
      ]
    },
    {
      "cell_type": "markdown",
      "source": [
        "## Problem:\n",
        "Given a linked list of numbers and a pivot k, partition the linked list so that all nodes less than k come before nodes greater than or equal to k.\n",
        "\n",
        "For example, given the linked list 5 -> 1 -> 8 -> 0 -> 3 and k = 3, the solution could be 1 -> 0 -> 5 -> 8 -> 3."
      ],
      "metadata": {
        "id": "Xavh_BQ5eNwF"
      }
    },
    {
      "cell_type": "markdown",
      "source": [
        "### Solution:\n",
        "To partition the linked list based on a pivot value $ k $, you can follow these steps:\n",
        "\n",
        "1. Create two separate linked lists: one for elements less than $ k $ and another for elements greater than or equal to $ k $.\n",
        "2. Traverse the given linked list. As you encounter nodes:\n",
        "   - If the node's value is less than $ k $, add it to the end of the first linked list.\n",
        "   - Otherwise, add it to the end of the second linked list.\n",
        "3. After traversing the entire linked list, connect the end of the first linked list to the beginning of the second linked list."
      ],
      "metadata": {
        "id": "BR4VT-VleTh3"
      }
    },
    {
      "cell_type": "markdown",
      "source": [
        "## Implementation:"
      ],
      "metadata": {
        "id": "DaHJNt14e1t4"
      }
    },
    {
      "cell_type": "code",
      "execution_count": 1,
      "metadata": {
        "colab": {
          "base_uri": "https://localhost:8080/"
        },
        "id": "IGPPlcVIeK4h",
        "outputId": "5d75d716-5bb8-4628-cfbc-f9e8d829dddd"
      },
      "outputs": [
        {
          "output_type": "execute_result",
          "data": {
            "text/plain": [
              "[1, 0, 5, 8, 3]"
            ]
          },
          "metadata": {},
          "execution_count": 1
        }
      ],
      "source": [
        "class ListNode:\n",
        "    def __init__(self, value=0, next=None):\n",
        "        self.value = value\n",
        "        self.next = next\n",
        "\n",
        "def partition_linked_list(head, k):\n",
        "    # Create dummy nodes for the two new linked lists\n",
        "    before_head = ListNode(0)\n",
        "    after_head = ListNode(0)\n",
        "\n",
        "    # Pointers to traverse and add nodes to the new linked lists\n",
        "    before = before_head\n",
        "    after = after_head\n",
        "\n",
        "    current = head\n",
        "    while current:\n",
        "        if current.value < k:\n",
        "            before.next = current\n",
        "            before = before.next\n",
        "        else:\n",
        "            after.next = current\n",
        "            after = after.next\n",
        "        current = current.next\n",
        "\n",
        "    # Connect the two linked lists\n",
        "    before.next = after_head.next\n",
        "\n",
        "    # Set the end of the second linked list to None\n",
        "    after.next = None\n",
        "\n",
        "    return before_head.next\n",
        "\n",
        "# Helper functions to convert list to linked list and vice versa\n",
        "def list_to_linked_list(lst):\n",
        "    if not lst:\n",
        "        return None\n",
        "    head = ListNode(lst[0])\n",
        "    current = head\n",
        "    for value in lst[1:]:\n",
        "        current.next = ListNode(value)\n",
        "        current = current.next\n",
        "    return head\n",
        "\n",
        "def linked_list_to_list(node):\n",
        "    lst = []\n",
        "    while node:\n",
        "        lst.append(node.value)\n",
        "        node = node.next\n",
        "    return lst\n",
        "\n",
        "# Test the function with the given example\n",
        "lst = [5, 1, 8, 0, 3]\n",
        "k = 3\n",
        "head = list_to_linked_list(lst)\n",
        "partitioned_head = partition_linked_list(head, k)\n",
        "linked_list_to_list(partitioned_head)\n"
      ]
    },
    {
      "cell_type": "markdown",
      "source": [
        "The linked list has been successfully partitioned based on the pivot value $ k = 3 $. The resulting linked list is:\n",
        "\n",
        "$ 1 \\rightarrow 0 \\rightarrow 5 \\rightarrow 8 \\rightarrow 3 $\n",
        "\n",
        "This matches the expected output."
      ],
      "metadata": {
        "id": "sBgpdsm4fAqX"
      }
    }
  ]
}