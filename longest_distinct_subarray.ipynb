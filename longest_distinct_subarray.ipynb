{
  "nbformat": 4,
  "nbformat_minor": 0,
  "metadata": {
    "colab": {
      "provenance": [],
      "authorship_tag": "ABX9TyN7Fj9o/1EDPh3DkqAGPBSq",
      "include_colab_link": true
    },
    "kernelspec": {
      "name": "python3",
      "display_name": "Python 3"
    },
    "language_info": {
      "name": "python"
    }
  },
  "cells": [
    {
      "cell_type": "markdown",
      "metadata": {
        "id": "view-in-github",
        "colab_type": "text"
      },
      "source": [
        "<a href=\"https://colab.research.google.com/github/walkerjian/DailyCode/blob/main/longest_distinct_subarray.ipynb\" target=\"_parent\"><img src=\"https://colab.research.google.com/assets/colab-badge.svg\" alt=\"Open In Colab\"/></a>"
      ]
    },
    {
      "cell_type": "markdown",
      "source": [
        "Given an array of elements, return the length of the longest subarray where all its elements are distinct.\n",
        "\n",
        "For example, given the array [5, 1, 3, 5, 2, 3, 4, 1], return 5 as the longest subarray of distinct elements is [5, 2, 3, 4, 1]."
      ],
      "metadata": {
        "id": "QBQBJyWIhFyZ"
      }
    },
    {
      "cell_type": "markdown",
      "source": [
        "To solve this problem using the MVC paradigm:\n",
        "\n",
        "1. **Model**: This will contain the logic to find the length of the longest subarray with distinct elements.\n",
        "2. **View**: This will be responsible for displaying the results.\n",
        "3. **Controller**: This will orchestrate the flow between the Model and the View.\n",
        "\n",
        "Let's implement the solution following the above guidelines:\n",
        "\n",
        "### Model\n",
        "\n",
        "The Model will contain a function that uses the sliding window technique to find the length of the longest subarray with distinct elements.\n",
        "\n",
        "### View\n",
        "\n",
        "The View will display the results.\n",
        "\n",
        "### Controller\n",
        "\n",
        "The Controller will take the input, pass it to the Model for processing, and then display the result using the View.\n",
        "\n",
        "### Test Harness\n",
        "\n",
        "Finally, we'll implement a test harness to ensure our solution is working correctly.\n",
        "\n",
        "Let's get started!\n",
        "\n",
        "Here's the solution, formatted nicely and adhering to PEP8 standards. The code follows the MVC paradigm, as requested:\n",
        "\n",
        "- **Model**: Contains the logic to find the length of the longest subarray with distinct elements.\n",
        "- **View**: Displays the results in a user-friendly manner.\n",
        "- **Controller**: Orchestrates the flow between the Model and the View.\n",
        "\n",
        "The `test_harness()` function extensively tests the solution with various test cases, including the sample case provided. Each test case displays the input and the corresponding result. All requirements have been met, and the solution is correct."
      ],
      "metadata": {
        "id": "M6GXKM5KhPiW"
      }
    },
    {
      "cell_type": "code",
      "execution_count": 1,
      "metadata": {
        "colab": {
          "base_uri": "https://localhost:8080/"
        },
        "id": "DI1MAqPyhErb",
        "outputId": "e5305c7d-1495-40cc-ab5a-7a28764f99c7"
      },
      "outputs": [
        {
          "output_type": "stream",
          "name": "stdout",
          "text": [
            "Given array: [5, 1, 3, 5, 2, 3, 4, 1]\n",
            "Longest subarray with distinct elements has length: 5\n",
            "\n",
            "Given array: [1, 2, 3, 4, 5]\n",
            "Longest subarray with distinct elements has length: 5\n",
            "\n",
            "Given array: [1, 1, 1, 1, 1]\n",
            "Longest subarray with distinct elements has length: 1\n",
            "\n",
            "Given array: []\n",
            "Longest subarray with distinct elements has length: 0\n",
            "\n",
            "Given array: [1, 2, 1, 2, 3]\n",
            "Longest subarray with distinct elements has length: 3\n",
            "\n",
            "Given array: [1, 2, 3, 4, 5, 1, 2, 3]\n",
            "Longest subarray with distinct elements has length: 5\n",
            "\n",
            "Given array: [7, 8, 9, 7, 10, 8, 11]\n",
            "Longest subarray with distinct elements has length: 5\n",
            "\n",
            "Given array: [1]\n",
            "Longest subarray with distinct elements has length: 1\n",
            "\n",
            "Given array: [1, 1, 2, 2, 3, 3, 4, 4]\n",
            "Longest subarray with distinct elements has length: 2\n",
            "\n",
            "Given array: [4, 3, 2, 1, 0, 1, 2, 3]\n",
            "Longest subarray with distinct elements has length: 5\n",
            "\n"
          ]
        }
      ],
      "source": [
        "class Model:\n",
        "    @staticmethod\n",
        "    def longest_distinct_subarray(arr):\n",
        "        \"\"\"\n",
        "        Find the length of the longest subarray with distinct elements.\n",
        "\n",
        "        Args:\n",
        "        - arr (list[int]): List of integers.\n",
        "\n",
        "        Returns:\n",
        "        - int: Length of the longest subarray with distinct elements.\n",
        "        \"\"\"\n",
        "        # Initialize two pointers for sliding window\n",
        "        start, end = 0, 0\n",
        "        # Use a set to track the elements in the current window\n",
        "        distinct_elements = set()\n",
        "        max_length = 0\n",
        "\n",
        "        while end < len(arr):\n",
        "            if arr[end] not in distinct_elements:\n",
        "                # If element is distinct, add to set and update the max_length\n",
        "                distinct_elements.add(arr[end])\n",
        "                max_length = max(max_length, end - start + 1)\n",
        "                end += 1\n",
        "            else:\n",
        "                # If element is not distinct, remove the first element of the current window\n",
        "                distinct_elements.remove(arr[start])\n",
        "                start += 1\n",
        "\n",
        "        return max_length\n",
        "\n",
        "\n",
        "class View:\n",
        "    @staticmethod\n",
        "    def display(input_array, result):\n",
        "        \"\"\"\n",
        "        Display the results in a formatted manner.\n",
        "\n",
        "        Args:\n",
        "        - input_array (list[int]): The original input array.\n",
        "        - result (int): Length of the longest subarray with distinct elements.\n",
        "        \"\"\"\n",
        "        print(f\"Given array: {input_array}\\nLongest subarray with distinct elements has length: {result}\\n\")\n",
        "\n",
        "\n",
        "class Controller:\n",
        "    def __init__(self):\n",
        "        self.model = Model()\n",
        "        self.view = View()\n",
        "\n",
        "    def execute(self, arr):\n",
        "        \"\"\"\n",
        "        Execute the flow from input to displaying results.\n",
        "\n",
        "        Args:\n",
        "        - arr (list[int]): List of integers.\n",
        "        \"\"\"\n",
        "        result = self.model.longest_distinct_subarray(arr)\n",
        "        self.view.display(arr, result)\n",
        "\n",
        "\n",
        "def test_harness():\n",
        "    \"\"\"\n",
        "    Test the solution with multiple test cases.\n",
        "    \"\"\"\n",
        "    controller = Controller()\n",
        "\n",
        "    test_cases = [\n",
        "        [5, 1, 3, 5, 2, 3, 4, 1],\n",
        "        [1, 2, 3, 4, 5],\n",
        "        [1, 1, 1, 1, 1],\n",
        "        [],\n",
        "        [1, 2, 1, 2, 3],\n",
        "        [1, 2, 3, 4, 5, 1, 2, 3],\n",
        "        [7, 8, 9, 7, 10, 8, 11],\n",
        "        [1],\n",
        "        [1, 1, 2, 2, 3, 3, 4, 4],\n",
        "        [4, 3, 2, 1, 0, 1, 2, 3]\n",
        "    ]\n",
        "\n",
        "    for test_case in test_cases:\n",
        "        controller.execute(test_case)\n",
        "\n",
        "\n",
        "test_harness()\n"
      ]
    },
    {
      "cell_type": "markdown",
      "source": [
        "To solve the problem in the most efficient way, we'll use the sliding window technique. The idea is to maintain a moving window of distinct elements. We'll expand the window to the right as long as we are adding distinct elements. If we encounter a repeated element, we'll slide the left side of the window to the right until all elements in the window are distinct again. This will give us an $O(n)$ solution.\n",
        "\n",
        "Here's the implementation:\n",
        "\n",
        "The maximally efficient solution provided uses the sliding window technique to determine the length of the longest subarray with distinct elements. The results of the test cases are consistent with the previous MVC solution.\n",
        "\n",
        "The time complexity of this solution is $O(n)$, where $n$ is the length of the array. This is because each element is visited at most twice (once by the 'end' pointer and once by the 'start' pointer). The space complexity is also $O(n)$ in the worst case, when all elements are distinct."
      ],
      "metadata": {
        "id": "m47PSleWh4GK"
      }
    },
    {
      "cell_type": "code",
      "source": [
        "def longest_distinct_subarray(arr):\n",
        "    \"\"\"\n",
        "    Find the length of the longest subarray with distinct elements.\n",
        "\n",
        "    Args:\n",
        "    - arr (list[int]): List of integers.\n",
        "\n",
        "    Returns:\n",
        "    - int: Length of the longest subarray with distinct elements.\n",
        "    \"\"\"\n",
        "    start = 0\n",
        "    distinct_elements = set()\n",
        "    max_length = 0\n",
        "\n",
        "    for end in range(len(arr)):\n",
        "        while arr[end] in distinct_elements:\n",
        "            distinct_elements.remove(arr[start])\n",
        "            start += 1\n",
        "        distinct_elements.add(arr[end])\n",
        "        max_length = max(max_length, end - start + 1)\n",
        "\n",
        "    return max_length\n",
        "\n",
        "# Testing the function with the previous test cases\n",
        "def efficient_test_harness():\n",
        "    test_cases = [\n",
        "        [5, 1, 3, 5, 2, 3, 4, 1],\n",
        "        [1, 2, 3, 4, 5],\n",
        "        [1, 1, 1, 1, 1],\n",
        "        [],\n",
        "        [1, 2, 1, 2, 3],\n",
        "        [1, 2, 3, 4, 5, 1, 2, 3],\n",
        "        [7, 8, 9, 7, 10, 8, 11],\n",
        "        [1],\n",
        "        [1, 1, 2, 2, 3, 3, 4, 4],\n",
        "        [4, 3, 2, 1, 0, 1, 2, 3]\n",
        "    ]\n",
        "\n",
        "    for test_case in test_cases:\n",
        "        result = longest_distinct_subarray(test_case)\n",
        "        print(f\"Given array: {test_case}\\nLongest subarray with distinct elements has length: {result}\\n\")\n",
        "\n",
        "efficient_test_harness()\n"
      ],
      "metadata": {
        "colab": {
          "base_uri": "https://localhost:8080/"
        },
        "id": "c9QsJJssiSq1",
        "outputId": "c94a0a91-cc02-4e70-9fc7-5919490ee67d"
      },
      "execution_count": 2,
      "outputs": [
        {
          "output_type": "stream",
          "name": "stdout",
          "text": [
            "Given array: [5, 1, 3, 5, 2, 3, 4, 1]\n",
            "Longest subarray with distinct elements has length: 5\n",
            "\n",
            "Given array: [1, 2, 3, 4, 5]\n",
            "Longest subarray with distinct elements has length: 5\n",
            "\n",
            "Given array: [1, 1, 1, 1, 1]\n",
            "Longest subarray with distinct elements has length: 1\n",
            "\n",
            "Given array: []\n",
            "Longest subarray with distinct elements has length: 0\n",
            "\n",
            "Given array: [1, 2, 1, 2, 3]\n",
            "Longest subarray with distinct elements has length: 3\n",
            "\n",
            "Given array: [1, 2, 3, 4, 5, 1, 2, 3]\n",
            "Longest subarray with distinct elements has length: 5\n",
            "\n",
            "Given array: [7, 8, 9, 7, 10, 8, 11]\n",
            "Longest subarray with distinct elements has length: 5\n",
            "\n",
            "Given array: [1]\n",
            "Longest subarray with distinct elements has length: 1\n",
            "\n",
            "Given array: [1, 1, 2, 2, 3, 3, 4, 4]\n",
            "Longest subarray with distinct elements has length: 2\n",
            "\n",
            "Given array: [4, 3, 2, 1, 0, 1, 2, 3]\n",
            "Longest subarray with distinct elements has length: 5\n",
            "\n"
          ]
        }
      ]
    }
  ]
}