{
  "nbformat": 4,
  "nbformat_minor": 0,
  "metadata": {
    "colab": {
      "provenance": [],
      "authorship_tag": "ABX9TyPjS2yVyUUo8kajHgRbJGuj",
      "include_colab_link": true
    },
    "kernelspec": {
      "name": "python3",
      "display_name": "Python 3"
    },
    "language_info": {
      "name": "python"
    }
  },
  "cells": [
    {
      "cell_type": "markdown",
      "metadata": {
        "id": "view-in-github",
        "colab_type": "text"
      },
      "source": [
        "<a href=\"https://colab.research.google.com/github/walkerjian/DailyCode/blob/main/Code_Craft_find_busiest_period.ipynb\" target=\"_parent\"><img src=\"https://colab.research.google.com/assets/colab-badge.svg\" alt=\"Open In Colab\"/></a>"
      ]
    },
    {
      "cell_type": "markdown",
      "source": [
        "##Problem:\n",
        "You are given a list of data entries that represent entries and exits of groups of people into a building. An entry looks like this:\n",
        "\n",
        "{\"timestamp\": 1526579928, count: 3, \"type\": \"enter\"}\n",
        "\n",
        "This means 3 people entered the building. An exit looks like this:\n",
        "\n",
        "{\"timestamp\": 1526580382, count: 2, \"type\": \"exit\"}\n",
        "\n",
        "This means that 2 people exited the building. timestamp is in Unix time.\n",
        "\n",
        "Find the busiest period in the building, that is, the time with the most people in the building. Return it as a pair of (start, end) timestamps. You can assume the building always starts off and ends up empty, i.e. with 0 people inside."
      ],
      "metadata": {
        "id": "2Ph_D5V7MX6X"
      }
    },
    {
      "cell_type": "markdown",
      "source": [
        "##Solution:\n",
        "To find the busiest period in the building, we need to track the number of people inside the building over time. This involves iterating through the data entries and keeping a running total of the number of people inside. The busiest period would be the time interval where this number reaches its maximum.\n",
        "\n",
        "The steps to solve this are as follows:\n",
        "\n",
        "1. Sort the data entries by timestamp.\n",
        "2. Iterate through the sorted entries, adjusting the count of people inside based on whether the entry is an \"enter\" or an \"exit\".\n",
        "3. Keep track of the maximum number of people inside at any point and the corresponding timestamps.\n",
        "4. Return the timestamps marking the start and end of the period when the building was at its busiest.\n"
      ],
      "metadata": {
        "id": "hy0czzsHMbfh"
      }
    },
    {
      "cell_type": "markdown",
      "source": [
        "##Implementation:"
      ],
      "metadata": {
        "id": "ZT2hBiIqMj7m"
      }
    },
    {
      "cell_type": "code",
      "execution_count": 1,
      "metadata": {
        "colab": {
          "base_uri": "https://localhost:8080/"
        },
        "id": "apdkcREpMOx9",
        "outputId": "8230a81f-aa2f-4423-a6b6-fd83246b4e02"
      },
      "outputs": [
        {
          "output_type": "execute_result",
          "data": {
            "text/plain": [
              "(1526580482, 1526580582)"
            ]
          },
          "metadata": {},
          "execution_count": 1
        }
      ],
      "source": [
        "from typing import List, Dict, Tuple\n",
        "\n",
        "def find_busiest_period(data: List[Dict]) -> Tuple[int, int]:\n",
        "    # Sorting the data by timestamp\n",
        "    data.sort(key=lambda x: x[\"timestamp\"])\n",
        "\n",
        "    max_count = 0\n",
        "    current_count = 0\n",
        "    busiest_start = 0\n",
        "    busiest_end = 0\n",
        "    for i in range(len(data)):\n",
        "        # Update the count\n",
        "        if data[i][\"type\"] == \"enter\":\n",
        "            current_count += data[i][\"count\"]\n",
        "        else:\n",
        "            current_count -= data[i][\"count\"]\n",
        "\n",
        "        # Check if this is the new maximum\n",
        "        if current_count > max_count:\n",
        "            max_count = current_count\n",
        "            busiest_start = data[i][\"timestamp\"]\n",
        "            # Find the next timestamp for the end time\n",
        "            if i + 1 < len(data):\n",
        "                busiest_end = data[i + 1][\"timestamp\"]\n",
        "            else:\n",
        "                busiest_end = data[i][\"timestamp\"]\n",
        "\n",
        "    return busiest_start, busiest_end\n",
        "\n",
        "# Sample data\n",
        "data_entries = [\n",
        "    {\"timestamp\": 1526579928, \"count\": 3, \"type\": \"enter\"},\n",
        "    {\"timestamp\": 1526580382, \"count\": 2, \"type\": \"exit\"},\n",
        "    {\"timestamp\": 1526580482, \"count\": 5, \"type\": \"enter\"},\n",
        "    {\"timestamp\": 1526580582, \"count\": 4, \"type\": \"exit\"}\n",
        "]\n",
        "\n",
        "# Find the busiest period\n",
        "busiest_period = find_busiest_period(data_entries)\n",
        "busiest_period\n",
        "\n"
      ]
    },
    {
      "cell_type": "markdown",
      "source": [
        "The busiest period in the building, based on the provided data, starts at timestamp 1526580482 and ends at timestamp 1526580582. During this interval, the building had the maximum number of people inside."
      ],
      "metadata": {
        "id": "WcUevPY-Miq4"
      }
    },
    {
      "cell_type": "markdown",
      "source": [
        "##Unix Time:\n",
        "Unix time, also known as POSIX time or Epoch time, is a system for tracking time used in computing. It defines a single time representation as the number of seconds that have elapsed since the Unix Epoch, excluding leap seconds. The Unix Epoch is 00:00:00 UTC on 1 January 1970. This means that, at any given moment, Unix time is the total number of seconds between that moment and the start of the Unix Epoch.\n",
        "\n",
        "Key points about Unix time:\n",
        "\n",
        "1. **Universal**: It's a universal standard, meaning it doesn't change with time zones or daylight saving time adjustments.\n",
        "\n",
        "2. **Simplicity**: It simplifies time calculations (like finding differences between two time points) by dealing with a single, continuously increasing number.\n",
        "\n",
        "3. **Widely Used**: Unix time is widely used in operating systems, file formats, and databases.\n",
        "\n",
        "4. **Leap Seconds**: Unix time doesn't account for leap seconds. It's strictly linear, counting each day as exactly 86,400 seconds.\n",
        "\n",
        "5. **Y2K38 Problem**: On 32-bit systems, Unix time is susceptible to the Year 2038 problem. This is when the maximum value that can be held in a signed 32-bit integer (2,147,483,647, representing Tuesday, 19 January 2038) will be reached, after which it will roll over to a negative number, potentially causing issues in systems that have not been updated to handle this.\n",
        "\n",
        "Unix time is a fundamental concept in computing and is crucial for tasks involving date and time calculations."
      ],
      "metadata": {
        "id": "FFc6ah4hNEU9"
      }
    },
    {
      "cell_type": "code",
      "source": [],
      "metadata": {
        "id": "hcRR36oYNIsm"
      },
      "execution_count": null,
      "outputs": []
    }
  ]
}