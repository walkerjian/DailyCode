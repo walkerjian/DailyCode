{
  "nbformat": 4,
  "nbformat_minor": 0,
  "metadata": {
    "colab": {
      "provenance": [],
      "authorship_tag": "ABX9TyMjE3RbA/r2aw2R+38I1sC2",
      "include_colab_link": true
    },
    "kernelspec": {
      "name": "python3",
      "display_name": "Python 3"
    },
    "language_info": {
      "name": "python"
    }
  },
  "cells": [
    {
      "cell_type": "markdown",
      "metadata": {
        "id": "view-in-github",
        "colab_type": "text"
      },
      "source": [
        "<a href=\"https://colab.research.google.com/github/walkerjian/DailyCode/blob/main/Colab_max_path_sum.ipynb\" target=\"_parent\"><img src=\"https://colab.research.google.com/assets/colab-badge.svg\" alt=\"Open In Colab\"/></a>"
      ]
    },
    {
      "cell_type": "markdown",
      "source": [
        "##Problem:\n",
        "You are given an array of arrays of integers, where each array corresponds to a row in a triangle of numbers. For example, [[1], [2, 3], [1, 5, 1]] represents the triangle:\n",
        "```\n",
        "  1\n",
        " 2 3\n",
        "1 5 1\n",
        "```\n",
        "We define a path in the triangle to start at the top and go down one row at a time to an adjacent value, eventually ending with an entry on the bottom row. For example, 1 -> 3 -> 5. The weight of the path is the sum of the entries.\n",
        "\n",
        "Write a program that returns the weight of the maximum weight path."
      ],
      "metadata": {
        "id": "2lWyrXjB8EeD"
      }
    },
    {
      "cell_type": "markdown",
      "source": [
        "##Solution:\n"
      ],
      "metadata": {
        "id": "jIohycTB8Hjb"
      }
    },
    {
      "cell_type": "markdown",
      "source": [
        "##Implementation:\n"
      ],
      "metadata": {
        "id": "pkWuQrLB8K8H"
      }
    },
    {
      "cell_type": "code",
      "execution_count": 1,
      "metadata": {
        "id": "TIIt0l_k7Oi1",
        "colab": {
          "base_uri": "https://localhost:8080/"
        },
        "outputId": "42a33e13-5dc9-4e70-9fbd-03b5ca2925c7"
      },
      "outputs": [
        {
          "output_type": "stream",
          "name": "stdout",
          "text": [
            "9\n"
          ]
        }
      ],
      "source": [
        "def max_path_sum(triangle):\n",
        "  \"\"\"\n",
        "  Returns the weight of the maximum weight path in a triangle of numbers.\n",
        "\n",
        "  Args:\n",
        "    triangle: A list of lists of integers, where each list corresponds to a row\n",
        "      in the triangle.\n",
        "\n",
        "  Returns:\n",
        "    The weight of the maximum weight path.\n",
        "  \"\"\"\n",
        "\n",
        "  # Initialize the first row with the weights of the first row.\n",
        "  max_weights = triangle[0]\n",
        "\n",
        "  # Iterate through the remaining rows of the triangle.\n",
        "  for row_index in range(1, len(triangle)):\n",
        "    # Create a new list to store the maximum weights for the current row.\n",
        "    new_max_weights = []\n",
        "\n",
        "    # Iterate through the current row.\n",
        "    for col_index in range(len(triangle[row_index])):\n",
        "      # Calculate the maximum weight for the current cell.\n",
        "      if col_index == 0:\n",
        "        max_weight = max_weights[col_index] + triangle[row_index][col_index]\n",
        "      elif col_index == len(triangle[row_index]) - 1:\n",
        "        max_weight = max_weights[col_index - 1] + triangle[row_index][col_index]\n",
        "      else:\n",
        "        max_weight = max(max_weights[col_index - 1], max_weights[col_index]) + triangle[row_index][col_index]\n",
        "\n",
        "      # Add the maximum weight for the current cell to the new list.\n",
        "      new_max_weights.append(max_weight)\n",
        "\n",
        "    # Update the maximum weights list with the new list.\n",
        "    max_weights = new_max_weights\n",
        "\n",
        "  # Return the maximum weight of the last row.\n",
        "  return max(max_weights)\n",
        "\n",
        "\n",
        "# Test the function.\n",
        "triangle = [[1], [2, 3], [1, 5, 1]]\n",
        "print(max_path_sum(triangle))  # Output: 9\n"
      ]
    },
    {
      "cell_type": "markdown",
      "source": [
        "##Testing:\n"
      ],
      "metadata": {
        "id": "wcaruNyfYogT"
      }
    },
    {
      "cell_type": "code",
      "source": [
        "import unittest\n",
        "\n",
        "class TestMaxPathSum(unittest.TestCase):\n",
        "\n",
        "  def test_max_path_sum(self):\n",
        "    triangle = [[1], [2, 3], [1, 5, 1]]\n",
        "    self.assertEqual(max_path_sum(triangle), 9)\n",
        "\n",
        "    triangle = [[1], [2, 3, 4], [1, 5, 1, 6]]\n",
        "    self.assertEqual(max_path_sum(triangle), 15)\n",
        "\n",
        "    triangle = [[1], [2, 3, 4, 5], [1, 5, 1, 6, 7]]\n",
        "    self.assertEqual(max_path_sum(triangle), 21)\n",
        "\n",
        "\n",
        "if __name__ == '__main__':\n",
        "  unittest.main(argv=['first-arg-is-ignored'], exit=False)\n",
        "\n",
        "  try:\n",
        "    unittest.main(argv=['first-arg-is-ignored'], exit=True)\n",
        "  except SystemExit as e:\n",
        "    if e.code == 0:\n",
        "      print(\"All tests passed.\")\n",
        "    else:\n",
        "      print(\"Some tests failed.\")\n",
        "\n"
      ],
      "metadata": {
        "id": "GESCF3BQYq1L",
        "colab": {
          "base_uri": "https://localhost:8080/"
        },
        "outputId": "ee3a50cd-2bb6-47d0-ecc5-2ef4d2c04a88"
      },
      "execution_count": 4,
      "outputs": [
        {
          "output_type": "stream",
          "name": "stderr",
          "text": [
            "E\n",
            "======================================================================\n",
            "ERROR: test_max_path_sum (__main__.TestMaxPathSum)\n",
            "----------------------------------------------------------------------\n",
            "Traceback (most recent call last):\n",
            "  File \"<ipython-input-4-ea14feb79128>\", line 10, in test_max_path_sum\n",
            "    self.assertEqual(max_path_sum(triangle), 15)\n",
            "  File \"<ipython-input-1-fb4c0369e35f>\", line 37, in max_path_sum\n",
            "    max_weight = max(max_weights[col_index - 1], max_weights[col_index]) + triangle[row_index][col_index]\n",
            "IndexError: list index out of range\n",
            "\n",
            "----------------------------------------------------------------------\n",
            "Ran 1 test in 0.003s\n",
            "\n",
            "FAILED (errors=1)\n",
            "E\n",
            "======================================================================\n",
            "ERROR: test_max_path_sum (__main__.TestMaxPathSum)\n",
            "----------------------------------------------------------------------\n",
            "Traceback (most recent call last):\n",
            "  File \"<ipython-input-4-ea14feb79128>\", line 10, in test_max_path_sum\n",
            "    self.assertEqual(max_path_sum(triangle), 15)\n",
            "  File \"<ipython-input-1-fb4c0369e35f>\", line 37, in max_path_sum\n",
            "    max_weight = max(max_weights[col_index - 1], max_weights[col_index]) + triangle[row_index][col_index]\n",
            "IndexError: list index out of range\n",
            "\n",
            "----------------------------------------------------------------------\n",
            "Ran 1 test in 0.002s\n",
            "\n",
            "FAILED (errors=1)\n"
          ]
        },
        {
          "output_type": "stream",
          "name": "stdout",
          "text": [
            "Some tests failed.\n"
          ]
        }
      ]
    }
  ]
}