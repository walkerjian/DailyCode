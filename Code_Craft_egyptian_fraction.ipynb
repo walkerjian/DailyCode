{
  "nbformat": 4,
  "nbformat_minor": 0,
  "metadata": {
    "colab": {
      "provenance": [],
      "authorship_tag": "ABX9TyNS8tghq5i2WAqZtpjE6KWY",
      "include_colab_link": true
    },
    "kernelspec": {
      "name": "python3",
      "display_name": "Python 3"
    },
    "language_info": {
      "name": "python"
    }
  },
  "cells": [
    {
      "cell_type": "markdown",
      "metadata": {
        "id": "view-in-github",
        "colab_type": "text"
      },
      "source": [
        "<a href=\"https://colab.research.google.com/github/walkerjian/DailyCode/blob/main/Code_Craft_egyptian_fraction.ipynb\" target=\"_parent\"><img src=\"https://colab.research.google.com/assets/colab-badge.svg\" alt=\"Open In Colab\"/></a>"
      ]
    },
    {
      "cell_type": "markdown",
      "source": [
        "The ancient Egyptians used to express fractions as a sum of several terms where each numerator is one. For example, 4 / 13 can be represented as 1 / 4 + 1 / 18 + 1 / 468.\n",
        "\n",
        "Create an algorithm to turn an ordinary fraction a / b, where a < b, into an Egyptian fraction."
      ],
      "metadata": {
        "id": "2DazJwlB5pIM"
      }
    },
    {
      "cell_type": "markdown",
      "source": [
        "To convert a fraction $\\frac{a}{b}$ (where $a < b$) into an Egyptian fraction (a sum of distinct unit fractions), you can use a greedy algorithm. The greedy algorithm works by iteratively finding the largest possible unit fraction that is less than or equal to the given fraction and subtracting it from the fraction until the fraction is reduced to zero.\n",
        "\n",
        "Here’s how you can implement this algorithm in Python:\n",
        "\n",
        "1. **Initialize an empty list to store the unit fractions.**\n",
        "2. **Use a while loop to iteratively find and subtract the largest unit fraction:**\n",
        "   - Find the ceiling of the reciprocal of the fraction.\n",
        "   - Add this unit fraction to the list.\n",
        "   - Subtract this unit fraction from the current fraction.\n",
        "3. **Repeat until the fraction is zero.**\n",
        "\n",
        "Explanation of the Algorithm:\n",
        "\n",
        "1. **Initialization**:\n",
        "   - Start with the given fraction $\\frac{a}{b}$.\n",
        "\n",
        "2. **Finding the Largest Unit Fraction**:\n",
        "   - Compute $x$ as the ceiling of $\\frac{b}{a}$. This gives the largest unit fraction $\\frac{1}{x}$ that is less than or equal to $\\frac{a}{b}$.\n",
        "   - Add $\\frac{1}{x}$ to the list of Egyptian fractions.\n",
        "\n",
        "3. **Updating the Fraction**:\n",
        "   - Subtract $\\frac{1}{x}$ from $\\frac{a}{b}$ to get the new fraction. The new numerator and denominator are updated as follows:\n",
        "\n",
        "     $ a = a * x - b $\n",
        "\n",
        "     $ b = b * x $\n",
        "\n",
        "4. **Repeat Until the Fraction is Zero**:\n",
        "   - Continue the process until the numerator $a$ becomes zero.\n",
        "\n",
        "Example for $\\frac{4}{13}$:\n",
        "\n",
        "1. **Initial Fraction**:\n",
        "   - $\\frac{a}{b} = \\frac{4}{13}$\n",
        "\n",
        "2. **First Iteration**:\n",
        "   - $x = \\lceil \\frac{13}{4} \\rceil = 4$\n",
        "   - Add $\\frac{1}{4}$ to the list.\n",
        "   - Update: $a = 4 \\times 4 - 13 = 3$, $b = 13 \\times 4 = 52$\n",
        "   - New fraction: $\\frac{3}{52}$\n",
        "\n",
        "3. **Second Iteration**:\n",
        "   - $x = \\lceil \\frac{52}{3} \\rceil = 18$\n",
        "   - Add $\\frac{1}{18}$ to the list.\n",
        "   - Update: $a = 3 \\times 18 - 52 = 2$, $b = 52 \\times 18 = 936$\n",
        "   - New fraction: $\\frac{2}{936}$\n",
        "\n",
        "4. **Third Iteration**:\n",
        "   - $x = \\lceil \\frac{936}{2} \\rceil = 468$\n",
        "   - Add $\\frac{1}{468}$ to the list.\n",
        "   - Update: $a = 2 \\times 468 - 936 = 0$, $b = 936 \\times 468 = 437184$\n",
        "   - New fraction: $\\frac{0}{437184}$\n",
        "\n",
        "5. **Result**:\n",
        "   - The list of unit fractions is $[4, 18, 468]$.\n",
        "   - The Egyptian fraction representation of $\\frac{4}{13}$ is $\\frac{1}{4} + \\frac{1}{18} + \\frac{1}{468}$.\n",
        "\n",
        "This algorithm ensures that the fraction is expressed as a sum of distinct unit fractions, which is the essence of the Egyptian fraction representation."
      ],
      "metadata": {
        "id": "pMaWTdDJ5sQM"
      }
    },
    {
      "cell_type": "code",
      "execution_count": 1,
      "metadata": {
        "colab": {
          "base_uri": "https://localhost:8080/"
        },
        "id": "HskLYNY-5iiU",
        "outputId": "706832c1-e8b0-49e1-f2f1-d279ea7e623e"
      },
      "outputs": [
        {
          "output_type": "stream",
          "name": "stdout",
          "text": [
            "1/4 + 1/18 + 1/468\n"
          ]
        }
      ],
      "source": [
        "from math import ceil\n",
        "\n",
        "def egyptian_fraction(a, b):\n",
        "    egyptian_fractions = []\n",
        "\n",
        "    while a != 0:\n",
        "        # Find the ceiling of b/a to get the next unit fraction\n",
        "        x = ceil(b / a)\n",
        "        # Append the unit fraction to the result list\n",
        "        egyptian_fractions.append(x)\n",
        "        # Update a and b to the new fraction a/b - 1/x\n",
        "        a = a * x - b\n",
        "        b = b * x\n",
        "\n",
        "    return egyptian_fractions\n",
        "\n",
        "def print_egyptian_fraction(a, b):\n",
        "    fractions = egyptian_fraction(a, b)\n",
        "    fraction_strings = [f\"1/{x}\" for x in fractions]\n",
        "    return \" + \".join(fraction_strings)\n",
        "\n",
        "# Example usage:\n",
        "a = 4\n",
        "b = 13\n",
        "print(print_egyptian_fraction(a, b))"
      ]
    }
  ]
}