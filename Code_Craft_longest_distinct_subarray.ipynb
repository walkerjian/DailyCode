{
  "nbformat": 4,
  "nbformat_minor": 0,
  "metadata": {
    "colab": {
      "provenance": [],
      "authorship_tag": "ABX9TyM+xSDzhCpvRmf62o1fnEAW",
      "include_colab_link": true
    },
    "kernelspec": {
      "name": "python3",
      "display_name": "Python 3"
    },
    "language_info": {
      "name": "python"
    }
  },
  "cells": [
    {
      "cell_type": "markdown",
      "metadata": {
        "id": "view-in-github",
        "colab_type": "text"
      },
      "source": [
        "<a href=\"https://colab.research.google.com/github/walkerjian/DailyCode/blob/main/Code_Craft_longest_distinct_subarray.ipynb\" target=\"_parent\"><img src=\"https://colab.research.google.com/assets/colab-badge.svg\" alt=\"Open In Colab\"/></a>"
      ]
    },
    {
      "cell_type": "markdown",
      "source": [
        "##Problem:\n",
        "Given an array of elements, return the length of the longest subarray where all its elements are distinct.\n",
        "\n",
        "For example, given the array [5, 1, 3, 5, 2, 3, 4, 1], return 5 as the longest subarray of distinct elements is [5, 2, 3, 4, 1].\n"
      ],
      "metadata": {
        "id": "2lWyrXjB8EeD"
      }
    },
    {
      "cell_type": "markdown",
      "source": [
        "##Solution:\n",
        "To solve this problem, we can use a sliding window approach to keep track of the current subarray of distinct elements. We'll iterate through the array, using a set to track the elements in the current window. If we encounter an element already in the set, we'll shrink the window from the left until the duplicate is removed. This way, we can maintain a subarray of distinct elements and keep track of its maximum length.\n",
        "\n"
      ],
      "metadata": {
        "id": "jIohycTB8Hjb"
      }
    },
    {
      "cell_type": "markdown",
      "source": [
        "##Implementation:\n",
        "Here's how we can implement this in Python:\n",
        "\n",
        "\n"
      ],
      "metadata": {
        "id": "pkWuQrLB8K8H"
      }
    },
    {
      "cell_type": "code",
      "execution_count": 1,
      "metadata": {
        "id": "TIIt0l_k7Oi1",
        "colab": {
          "base_uri": "https://localhost:8080/"
        },
        "outputId": "bdd27d97-57ba-4944-85db-0e3f7db0bfbf"
      },
      "outputs": [
        {
          "output_type": "stream",
          "name": "stdout",
          "text": [
            "5\n"
          ]
        }
      ],
      "source": [
        "def longest_distinct_subarray(arr):\n",
        "    seen = set()\n",
        "    left = 0\n",
        "    max_length = 0\n",
        "\n",
        "    for right in range(len(arr)):\n",
        "        while arr[right] in seen:\n",
        "            seen.remove(arr[left])\n",
        "            left += 1\n",
        "        seen.add(arr[right])\n",
        "        max_length = max(max_length, right - left + 1)\n",
        "\n",
        "    return max_length\n",
        "\n",
        "# Test the function\n",
        "arr = [5, 1, 3, 5, 2, 3, 4, 1]\n",
        "print(longest_distinct_subarray(arr))\n"
      ]
    },
    {
      "cell_type": "markdown",
      "source": [
        "##Testing:\n",
        "This function will return `5` for the provided example, which corresponds to the longest subarray of distinct elements `[5, 2, 3, 4, 1]`.\n"
      ],
      "metadata": {
        "id": "wcaruNyfYogT"
      }
    },
    {
      "cell_type": "code",
      "source": [],
      "metadata": {
        "id": "7arfxk2ORsA8"
      },
      "execution_count": null,
      "outputs": []
    }
  ]
}