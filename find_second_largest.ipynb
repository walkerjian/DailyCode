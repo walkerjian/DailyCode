{
  "nbformat": 4,
  "nbformat_minor": 0,
  "metadata": {
    "colab": {
      "provenance": [],
      "authorship_tag": "ABX9TyM+v0Tp3AxRmhumtWB/8Prq",
      "include_colab_link": true
    },
    "kernelspec": {
      "name": "python3",
      "display_name": "Python 3"
    },
    "language_info": {
      "name": "python"
    }
  },
  "cells": [
    {
      "cell_type": "markdown",
      "metadata": {
        "id": "view-in-github",
        "colab_type": "text"
      },
      "source": [
        "<a href=\"https://colab.research.google.com/github/walkerjian/DailyCode/blob/main/find_second_largest.ipynb\" target=\"_parent\"><img src=\"https://colab.research.google.com/assets/colab-badge.svg\" alt=\"Open In Colab\"/></a>"
      ]
    },
    {
      "cell_type": "code",
      "source": [
        "class TreeNode:\n",
        "    def __init__(self, val=0, left=None, right=None):\n",
        "        self.val = val\n",
        "        self.left = left\n",
        "        self.right = right\n",
        "\n",
        "def find_second_largest(root):\n",
        "    if not root or (not root.left and not root.right):\n",
        "        # Tree is either empty or has only one node\n",
        "        return None\n",
        "\n",
        "    # Traverse to the largest node\n",
        "    parent = None\n",
        "    current = root\n",
        "    while current.right:\n",
        "        parent = current\n",
        "        current = current.right\n",
        "\n",
        "    # If the largest node has a left child\n",
        "    if current.left:\n",
        "        current = current.left\n",
        "        while current.right:\n",
        "            current = current.right\n",
        "        return current.val\n",
        "\n",
        "    # If the largest node doesn't have a left child, then return its parent\n",
        "    return parent.val\n",
        "\n",
        "# Test cases\n",
        "# Creating a BST for testing\n",
        "#          20\n",
        "#        /    \\\n",
        "#      10      30\n",
        "#       \\     /  \\\n",
        "#        15  25   35\n",
        "root = TreeNode(20, TreeNode(10, None, TreeNode(15)), TreeNode(30, TreeNode(25), TreeNode(35)))\n",
        "\n",
        "find_second_largest(root)\n"
      ],
      "metadata": {
        "colab": {
          "base_uri": "https://localhost:8080/"
        },
        "id": "vMdPqqNvquEh",
        "outputId": "3d1325ce-d40f-4295-8269-ecdf9582e06a"
      },
      "execution_count": 1,
      "outputs": [
        {
          "output_type": "execute_result",
          "data": {
            "text/plain": [
              "30"
            ]
          },
          "metadata": {},
          "execution_count": 1
        }
      ]
    },
    {
      "cell_type": "code",
      "source": [],
      "metadata": {
        "id": "62LgTjNHqwIS"
      },
      "execution_count": null,
      "outputs": []
    }
  ]
}