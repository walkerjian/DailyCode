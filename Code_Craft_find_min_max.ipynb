{
  "nbformat": 4,
  "nbformat_minor": 0,
  "metadata": {
    "colab": {
      "provenance": [],
      "authorship_tag": "ABX9TyNgMLdmwJpBIJfAf4pplUuO",
      "include_colab_link": true
    },
    "kernelspec": {
      "name": "python3",
      "display_name": "Python 3"
    },
    "language_info": {
      "name": "python"
    }
  },
  "cells": [
    {
      "cell_type": "markdown",
      "metadata": {
        "id": "view-in-github",
        "colab_type": "text"
      },
      "source": [
        "<a href=\"https://colab.research.google.com/github/walkerjian/DailyCode/blob/main/Code_Craft_find_min_max.ipynb\" target=\"_parent\"><img src=\"https://colab.research.google.com/assets/colab-badge.svg\" alt=\"Open In Colab\"/></a>"
      ]
    },
    {
      "cell_type": "markdown",
      "source": [
        "##Problem:\n",
        "Given an array of numbers of length N, find both the minimum and maximum using less than 2 * (N - 2) comparisons."
      ],
      "metadata": {
        "id": "yUroXcR04P0P"
      }
    },
    {
      "cell_type": "markdown",
      "source": [
        "##Implementation:\n",
        "The problem you've presented is a classic one in computer science, often used to illustrate divide-and-conquer algorithms and their efficiency. The task is to find both the minimum and maximum elements in an array using fewer than $2 \\times (N - 2)$ comparisons.\n",
        "\n",
        "### Algorithm:\n",
        "\n",
        "1. **Divide the Array**: Pair up the elements of the array. If there's an odd number of elements, the last element is paired with itself. This results in $\\lceil \\frac{N}{2} \\rceil$ pairs.\n",
        "\n",
        "2. **Initial Comparisons**: For each pair, compare the two elements.\n",
        "\n",
        "3. **Track Min and Max**: Keep two variables, one for tracking the minimum (`min`) and one for the maximum (`max`). Initialize `min` and `max` with the first comparison result.\n",
        "\n",
        "4. **Subsequent Comparisons**: For each pair:\n",
        "    - If one element is larger than the other, compare the larger one with `max` and the smaller one with `min`.\n",
        "    - Update `min` and `max` as needed.\n",
        "\n",
        "### Complexity Analysis:\n",
        "\n",
        "- **Comparisons**:\n",
        "    - First step (pairing and initial comparisons): $\\lceil \\frac{N}{2} \\rceil$ comparisons.\n",
        "    - Second step (comparing with `min` and `max`): For each of the $\\lceil \\frac{N}{2} \\rceil$ pairs, there are 2 comparisons (one with `min` and one with `max`), but since one comparison has already been done in the pairing step, we only need 1 additional comparison per pair.\n",
        "    - Total comparisons: $ \\lceil \\frac{N}{2} \\rceil + \\lceil \\frac{N}{2} \\rceil $ = $ 2 \\times \\lceil \\frac{N}{2} \\rceil $ = $ 2 \\times \\frac{N}{2} $ (for even N) or $ 2 \\times \\frac{N+1}{2} $ (for odd N).\n",
        "    - This is less than $ 2 \\times (N - 2) $ for $ N > 2 $.\n",
        "\n",
        "- **Time Complexity**: O(N) - Linear time complexity, as each element is involved in a constant number of comparisons.\n",
        "\n",
        "- **Space Complexity**: O(1) - Constant space complexity, since only a fixed number of variables are used regardless of the input size.\n",
        "\n",
        "This algorithm effectively utilizes the divide-and-conquer approach to reduce the number of comparisons needed to find the minimum and maximum in an array, adhering to the specified comparison limit."
      ],
      "metadata": {
        "id": "57QnOUit4Vxe"
      }
    },
    {
      "cell_type": "code",
      "execution_count": 1,
      "metadata": {
        "colab": {
          "base_uri": "https://localhost:8080/"
        },
        "id": "Ln3ydahe4NWJ",
        "outputId": "ac9771e7-749f-455f-8e8d-ceb5096b9219"
      },
      "outputs": [
        {
          "output_type": "stream",
          "name": "stdout",
          "text": [
            "Array: [3, 5, 1, 2, 4, 6], Min: 1, Max: 6\n",
            "Array: [7], Min: 7, Max: 7\n",
            "Array: [5, 8, 1, 3, 9, 2, 6, 4, 7], Min: 1, Max: 9\n",
            "Array: [], Min: None, Max: None\n",
            "Array: [10, 15, 5, 20, 25, 0], Min: 0, Max: 25\n"
          ]
        }
      ],
      "source": [
        "def find_min_max(array):\n",
        "    \"\"\"\n",
        "    Finds the minimum and maximum values in an array with fewer than 2 * (len(array) - 2) comparisons.\n",
        "\n",
        "    :param array: List of numbers\n",
        "    :return: Tuple containing the minimum and maximum values\n",
        "    \"\"\"\n",
        "    if not array:\n",
        "        return None, None\n",
        "\n",
        "    if len(array) == 1:\n",
        "        return array[0], array[0]\n",
        "\n",
        "    # Initialize min and max\n",
        "    if array[0] > array[1]:\n",
        "        min_val, max_val = array[1], array[0]\n",
        "    else:\n",
        "        min_val, max_val = array[0], array[1]\n",
        "\n",
        "    # Iterate through the array in pairs\n",
        "    for i in range(2, len(array), 2):\n",
        "        if i + 1 < len(array):\n",
        "            # Compare elements in the pair\n",
        "            if array[i] < array[i + 1]:\n",
        "                min_candidate, max_candidate = array[i], array[i + 1]\n",
        "            else:\n",
        "                min_candidate, max_candidate = array[i + 1], array[i]\n",
        "\n",
        "            # Update min and max\n",
        "            min_val = min(min_val, min_candidate)\n",
        "            max_val = max(max_val, max_candidate)\n",
        "        else:\n",
        "            # For the last element if the array length is odd\n",
        "            min_val = min(min_val, array[i])\n",
        "            max_val = max(max_val, array[i])\n",
        "\n",
        "    return min_val, max_val\n",
        "\n",
        "# Testing the function\n",
        "test_arrays = [\n",
        "    [3, 5, 1, 2, 4, 6],\n",
        "    [7],\n",
        "    [5, 8, 1, 3, 9, 2, 6, 4, 7],\n",
        "    [],\n",
        "    [10, 15, 5, 20, 25, 0]\n",
        "]\n",
        "\n",
        "for test_array in test_arrays:\n",
        "    min_val, max_val = find_min_max(test_array)\n",
        "    print(f\"Array: {test_array}, Min: {min_val}, Max: {max_val}\")\n",
        "\n"
      ]
    },
    {
      "cell_type": "markdown",
      "source": [
        "The implementation of the algorithm in Python successfully finds the minimum and maximum values in an array with fewer than $2 \\times (\\text{len(array)} - 2)$ comparisons. Here's a summary of the test results:\n",
        "\n",
        "1. For the array `[3, 5, 1, 2, 4, 6]`, the minimum is `1` and the maximum is `6`.\n",
        "2. For a single-element array `[7]`, both the minimum and maximum are `7`.\n",
        "3. In the array `[5, 8, 1, 3, 9, 2, 6, 4, 7]`, the minimum is `1` and the maximum is `9`.\n",
        "4. An empty array `[]` returns `None` for both minimum and maximum, as expected.\n",
        "5. For the array `[10, 15, 5, 20, 25, 0]`, the minimum is `0` and the maximum is `25`.\n",
        "\n",
        "The tests cover a variety of scenarios, including arrays with even and odd lengths, a single-element array, and an empty array. The results are consistent with the algorithm's expected behavior, demonstrating its effectiveness."
      ],
      "metadata": {
        "id": "lpmQC9NX53Ge"
      }
    }
  ]
}