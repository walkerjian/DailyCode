{
  "nbformat": 4,
  "nbformat_minor": 0,
  "metadata": {
    "colab": {
      "provenance": [],
      "authorship_tag": "ABX9TyOGT124IUT9+HK0HkLqvTtk",
      "include_colab_link": true
    },
    "kernelspec": {
      "name": "python3",
      "display_name": "Python 3"
    },
    "language_info": {
      "name": "python"
    }
  },
  "cells": [
    {
      "cell_type": "markdown",
      "metadata": {
        "id": "view-in-github",
        "colab_type": "text"
      },
      "source": [
        "<a href=\"https://colab.research.google.com/github/walkerjian/DailyCode/blob/main/Code_Craft_find_min_max.ipynb\" target=\"_parent\"><img src=\"https://colab.research.google.com/assets/colab-badge.svg\" alt=\"Open In Colab\"/></a>"
      ]
    },
    {
      "cell_type": "markdown",
      "source": [
        "Given an array of numbers of length N, find both the minimum and maximum using less than 2 * (N - 2) comparisons."
      ],
      "metadata": {
        "id": "6e6Ti7uoLFV8"
      }
    },
    {
      "cell_type": "markdown",
      "source": [
        "To find both the minimum and maximum values in an array using less than 2 * (N - 2) comparisons, we can implement an efficient algorithm known as the \"pairwise comparison\" method. This method effectively reduces the number of comparisons by grouping elements into pairs.\n",
        "\n",
        "Here’s a step-by-step explanation of the algorithm, followed by the implementation:\n",
        "\n",
        "### Algorithm Explanation:\n",
        "\n",
        "1. **Pair Elements:** Process the elements in pairs. This means taking two adjacent elements at a time (i.e., elements at indices 0 and 1, 2 and 3, etc.).\n",
        "   \n",
        "2. **Compare Pairs:** For each pair, compare the two elements:\n",
        "   - Identify the smaller element as a candidate for the minimum.\n",
        "   - Identify the larger element as a candidate for the maximum.\n",
        "\n",
        "3. **Maintain Two Lists:** Keep track of all the \"minimum candidates\" in one list and all the \"maximum candidates\" in another list by comparing only within each pair.\n",
        "\n",
        "4. **Final Reduction:**\n",
        "   - Find the smallest element in the \"minimum candidates\" list.\n",
        "   - Find the largest element in the \"maximum candidates\" list.\n",
        "\n",
        "This method requires one comparison for each pair to determine the smaller and larger, plus at most \\((N/2 - 1)\\) comparisons to find the minimum from the minimum candidates and \\((N/2 - 1)\\) comparisons to find the maximum from the maximum candidates. Hence, the total number of comparisons is roughly \\(3N/2 - 2\\) if \\(N\\) is even, which is better than \\(2N - 2\\) comparisons.\n",
        "\n",
        "### Analysis:\n",
        "- This approach ensures each pair does a dual contribution to the search for the minimum and maximum, hence reducing the total number of comparisons needed.\n",
        "- This method is particularly effective when dealing with large arrays as it significantly reduces the comparison count compared to naive methods."
      ],
      "metadata": {
        "id": "5dqqX0pULfYC"
      }
    },
    {
      "cell_type": "code",
      "execution_count": 3,
      "metadata": {
        "id": "KQO87BpLFYH7",
        "colab": {
          "base_uri": "https://localhost:8080/"
        },
        "outputId": "b58a418f-e8af-462d-e6d5-d6884392a9db"
      },
      "outputs": [
        {
          "output_type": "stream",
          "name": "stdout",
          "text": [
            "Minimum: 1\n",
            "Maximum: 9\n"
          ]
        }
      ],
      "source": [
        "def find_min_max(arr):\n",
        "    # Start with the first element\n",
        "    if len(arr) % 2 == 1:\n",
        "        # If odd, initialize min and max with the first element\n",
        "        min_val = max_val = arr[0]\n",
        "        start_index = 1  # Start comparing from the second element\n",
        "    else:\n",
        "        # If even, initialize min and max by comparing the first two elements\n",
        "        min_val = min(arr[0], arr[1])\n",
        "        max_val = max(arr[0], arr[1])\n",
        "        start_index = 2  # Start comparing from the third element\n",
        "\n",
        "    # Iterate over pairs from the start_index\n",
        "    for i in range(start_index, len(arr) - 1, 2):\n",
        "        if arr[i] < arr[i + 1]:\n",
        "            min_val = min(min_val, arr[i])\n",
        "            max_val = max(max_val, arr[i + 1])\n",
        "        else:\n",
        "            min_val = min(min_val, arr[i + 1])\n",
        "            max_val = max(max_val, arr[i])\n",
        "\n",
        "    return min_val, max_val\n",
        "\n",
        "# Example usage\n",
        "array = [3, 1, 9, 2, 5, 6, 7, 8]\n",
        "min_val, max_val = find_min_max(array)\n",
        "print(\"Minimum:\", min_val)\n",
        "print(\"Maximum:\", max_val)\n"
      ]
    }
  ]
}