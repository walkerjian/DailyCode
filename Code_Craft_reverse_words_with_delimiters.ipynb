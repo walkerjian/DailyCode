{
  "nbformat": 4,
  "nbformat_minor": 0,
  "metadata": {
    "colab": {
      "provenance": [],
      "authorship_tag": "ABX9TyP3PHh3ex16p44g3ybLbqZB",
      "include_colab_link": true
    },
    "kernelspec": {
      "name": "python3",
      "display_name": "Python 3"
    },
    "language_info": {
      "name": "python"
    }
  },
  "cells": [
    {
      "cell_type": "markdown",
      "metadata": {
        "id": "view-in-github",
        "colab_type": "text"
      },
      "source": [
        "<a href=\"https://colab.research.google.com/github/walkerjian/DailyCode/blob/main/Code_Craft_reverse_words_with_delimiters.ipynb\" target=\"_parent\"><img src=\"https://colab.research.google.com/assets/colab-badge.svg\" alt=\"Open In Colab\"/></a>"
      ]
    },
    {
      "cell_type": "markdown",
      "source": [
        "##Problem:\n",
        "Given a string and a set of delimiters, reverse the words in the string while maintaining the relative order of the delimiters. For example, given \"hello/world:here\", return \"here/world:hello\"\n",
        "\n",
        "Follow-up: Does your solution work for the following cases: \"hello/world:here/\", \"hello//world:here\""
      ],
      "metadata": {
        "id": "b1sh2OejN_gt"
      }
    },
    {
      "cell_type": "markdown",
      "source": [
        "##Solution:\n",
        "To approach this task, we first need to establish a few key aspects:\n",
        "\n",
        "1. **Definition of Delimiters**: We should define what constitutes a delimiter in our context. Based on your examples, it seems that anything other than alphanumeric characters (like \"/\", \":\", etc.) could be considered a delimiter. However, we need to clarify if this includes spaces, punctuation marks, or other special characters.\n",
        "\n",
        "2. **Handling Multiple Delimiters**: In cases where there are consecutive delimiters (like \"//\" in \"hello//world:here\"), should we treat each delimiter individually, or consider them as a single, multi-character delimiter? This decision will affect how we split and then recombine the string.\n",
        "\n",
        "3. **Empty Word Positions**: A delimited word position might be blank (as in \"hello/world:here/\"). We need to decide how to handle these cases. Typically, we should treat these as empty words and maintain their positions in the output.\n",
        "\n",
        "4. **Order of Words and Delimiters**: The order of the words should be reversed, but the order of the delimiters should remain the same as in the original string.\n",
        "\n",
        "- We first split the string into words and delimiters. This can be done using a regular expression that identifies delimiters and words separately.\n",
        "- We then reverse the list of words while keeping the delimiters in their original order.\n",
        "- Finally, we reassemble the string by alternating between words and delimiters.\n",
        "\n",
        "For the test cases:\n",
        "- \"hello/world:here\" should become \"here/world:hello\".\n",
        "- \"hello/world:here/\" should become \"here/world:/hello\".\n",
        "- \"hello//world:here\" could become \"here//world:hello\" if we treat each \"/\" as a separate delimiter, or \"here/world:hello\" if we treat \"//\" as a single delimiter.\n",
        "\n",
        "##Reformulate the Task:\n",
        "We need to reformulate the examples into the specified format where the string and the set of delimiters are clearly separated. This will help us ensure that the test cases align precisely with the task requirements. Here are the reformulated examples:\n",
        "\n",
        "1. **Original String:** \"hello/world:here\"\n",
        "   - **Input String:** \"hello/world:here\"\n",
        "   - **Delimiters:** [\"/\", \":\"]\n",
        "\n",
        "2. **Additional Case 1:** \"hello/world:here/\"\n",
        "   - **Input String:** \"hello/world:here/\"\n",
        "   - **Delimiters:** [\"/\", \":\"]\n",
        "\n",
        "3. **Additional Case 2:** \"hello//world:here\"\n",
        "   - **Input String:** \"hello//world:here\"\n",
        "   - **Delimiters:** [\"/\", \":\"]\n",
        "\n",
        "**Task:** Given a string and a set of delimiters, reverse the words in the string while maintaining the relative order of the delimiters. Treat each delimiter as a single character and consider that a word can be blank, especially if delimiters are adjacent or at the beginning/end of the string. If a character functions like a delimiter but is not included in the specified set of delimiters, treat it as part of a word.\n",
        "\n",
        "**Specifications:**\n",
        "1. **Single-Character Delimiters:** Treat each delimiter in the set as a single character, regardless of their consecutive occurrences in the string.\n",
        "2. **Handling Blank Words:** Acknowledge that words can be blank. This is particularly relevant for cases where delimiters are adjacent or positioned at the start/end of the string.\n",
        "3. **Implied Delimiters at String Edges:** If a delimiter is at the beginning or end of the string, treat it as framing an empty word.\n",
        "4. **Non-Test Delimiters:** Characters that act like delimiters but are not part of the specified set should be treated as parts of words.\n",
        "\n",
        "**Reformulated Test Cases:**\n",
        "\n",
        "1. **Test Case 1:**\n",
        "   - **Input String:** \"hello/world:here\"\n",
        "   - **Delimiters:** [\"/\", \":\"]\n",
        "\n",
        "2. **Test Case 2:**\n",
        "   - **Input String:** \"hello/world:here/\"\n",
        "   - **Delimiters:** [\"/\", \":\"]\n",
        "\n",
        "3. **Test Case 3:**\n",
        "   - **Input String:** \"hello//world:here\"\n",
        "   - **Delimiters:** [\"/\", \":\"]\n",
        "\n",
        "The goal is to reverse the words in each of these strings, adhering to the specified handling of delimiters and blank words.\n"
      ],
      "metadata": {
        "id": "HWOkZtIBOI7P"
      }
    },
    {
      "cell_type": "code",
      "source": [
        "import re\n",
        "\n",
        "def reverse_words_with_delimiters(s, delimiters):\n",
        "    # Create a regular expression pattern to match delimiters\n",
        "    delimiter_pattern = '[' + ''.join(re.escape(d) for d in delimiters) + ']'\n",
        "\n",
        "    # Split the string into words and delimiters, keeping delimiters separate\n",
        "    parts = re.split(f'({delimiter_pattern})', s)\n",
        "\n",
        "    # Identify the words (non-delimiters) for reversal\n",
        "    words = [part for part in parts if not re.match(delimiter_pattern, part)]\n",
        "    words.reverse()\n",
        "\n",
        "    # Reconstruct the string, replacing words with their reversed counterparts\n",
        "    result = []\n",
        "    word_iter = iter(words)\n",
        "    for part in parts:\n",
        "        if not re.match(delimiter_pattern, part):\n",
        "            result.append(next(word_iter))\n",
        "        else:\n",
        "            result.append(part)\n",
        "\n",
        "    return ''.join(result)\n",
        "\n",
        "# Reformulated test cases\n",
        "test_cases = [\n",
        "    (\"hello/world:here\", [\"/\", \":\"]),\n",
        "    (\"hello/world:here/\", [\"/\", \":\"]),\n",
        "    (\"hello//world:here\", [\"/\", \":\"])\n",
        "]\n",
        "\n",
        "# Apply the function to the test cases\n",
        "results = {test[0]: reverse_words_with_delimiters(test[0], test[1]) for test in test_cases}\n",
        "results\n"
      ],
      "metadata": {
        "colab": {
          "base_uri": "https://localhost:8080/"
        },
        "id": "SqdZliTMOwNE",
        "outputId": "ba6c680f-b574-491a-ae45-913a2119add8"
      },
      "execution_count": 8,
      "outputs": [
        {
          "output_type": "execute_result",
          "data": {
            "text/plain": [
              "{'hello/world:here': 'here/world:hello',\n",
              " 'hello/world:here/': '/here:world/hello',\n",
              " 'hello//world:here': 'here/world/:hello'}"
            ]
          },
          "metadata": {},
          "execution_count": 8
        }
      ]
    }
  ]
}