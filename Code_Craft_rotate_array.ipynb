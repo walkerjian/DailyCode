{
  "nbformat": 4,
  "nbformat_minor": 0,
  "metadata": {
    "colab": {
      "provenance": [],
      "authorship_tag": "ABX9TyNnYcizfCJgZLWlcqsMFy6E",
      "include_colab_link": true
    },
    "kernelspec": {
      "name": "python3",
      "display_name": "Python 3"
    },
    "language_info": {
      "name": "python"
    }
  },
  "cells": [
    {
      "cell_type": "markdown",
      "metadata": {
        "id": "view-in-github",
        "colab_type": "text"
      },
      "source": [
        "<a href=\"https://colab.research.google.com/github/walkerjian/DailyCode/blob/main/Code_Craft_rotate_array.ipynb\" target=\"_parent\"><img src=\"https://colab.research.google.com/assets/colab-badge.svg\" alt=\"Open In Colab\"/></a>"
      ]
    },
    {
      "cell_type": "markdown",
      "source": [
        "##Problem:\n",
        "Given an array and a number k that's smaller than the length of the array, rotate the array to the right k elements in-place.\n"
      ],
      "metadata": {
        "id": "2lWyrXjB8EeD"
      }
    },
    {
      "cell_type": "markdown",
      "source": [
        "##Solution:\n",
        "Rotating an array \"to the right\" means moving the elements of the array towards higher index positions, with the elements at the end of the array wrapping around to the beginning. In other words, each element in the array is shifted `k` positions to its right, and if an element reaches the end of the array, it continues from the start of the array. This operation is also known as a right circular shift.\n",
        "\n",
        "Here is a visual explanation using an example array:\n",
        "\n",
        "- Consider the array `[1, 2, 3, 4, 5]`\n",
        "- If we rotate this array to the right by 2 positions, each element is moved two places to the right.\n",
        "- The elements `4` and `5`, which are at the end of the array, will wrap around and come to the front of the array.\n",
        "\n",
        "So, after rotating to the right by 2 positions, the array becomes `[4, 5, 1, 2, 3]`.\n",
        "\n",
        "Here's how the transformation happens:\n",
        "\n",
        "```\n",
        "Original array: 1  2  3  4  5\n",
        "After 1st shift: 5  1  2  3  4  (each element moved to the right by 1)\n",
        "After 2nd shift: 4  5  1  2  3  (each element moved to the right by 1 again, total 2 shifts)\n",
        "```\n",
        "\n",
        "Thus, rotating \"to the right\" moves elements towards the end of the array, with the ones at the end cycling back to the start.\n",
        "\n",
        "To rotate an array to the right by `k` elements in-place, you can use the following algorithm:\n",
        "\n",
        "1. **Reverse the entire array:** This will bring the last `k` elements to the front, but in reverse order.\n",
        "2. **Reverse the first `k` elements:** This will put the last `k` elements in the correct order at the beginning of the array.\n",
        "3. **Reverse the remaining elements:** This will restore the original order of the first `n-k` elements, where `n` is the length of the array.\n"
      ],
      "metadata": {
        "id": "jIohycTB8Hjb"
      }
    },
    {
      "cell_type": "markdown",
      "source": [
        "##Implementation:\n",
        "Let's implement this algorithm in Python:\n",
        "This function will modify the input array `arr` to rotate its elements to the right by `k` places. The function `reverse` is a helper that reverses the elements of `arr` between the indices `start` and `end`.\n",
        "\n"
      ],
      "metadata": {
        "id": "pkWuQrLB8K8H"
      }
    },
    {
      "cell_type": "code",
      "execution_count": 4,
      "metadata": {
        "id": "TIIt0l_k7Oi1"
      },
      "outputs": [],
      "source": [
        "def rotate_array(arr, k):\n",
        "    n = len(arr)\n",
        "    k %= n  # In case k is larger than n\n",
        "\n",
        "    # Helper function to reverse elements in the array from start to end\n",
        "    def reverse(start, end):\n",
        "        while start < end:\n",
        "            arr[start], arr[end] = arr[end], arr[start]\n",
        "            start += 1\n",
        "            end -= 1\n",
        "\n",
        "    # Step 1: Reverse the entire array\n",
        "    reverse(0, n - 1)\n",
        "    # Step 2: Reverse the first k elements\n",
        "    reverse(0, k - 1)\n",
        "    # Step 3: Reverse the remaining n - k elements\n",
        "    reverse(k, n - 1)\n",
        "\n",
        "    return arr"
      ]
    },
    {
      "cell_type": "markdown",
      "source": [
        "##Testing:\n"
      ],
      "metadata": {
        "id": "wcaruNyfYogT"
      }
    },
    {
      "cell_type": "code",
      "source": [
        "# Example usage\n",
        "array = [1, 2, 3, 4, 5, 6, 7]\n",
        "k = 3\n",
        "rotate_array(array, k)"
      ],
      "metadata": {
        "id": "7arfxk2ORsA8",
        "colab": {
          "base_uri": "https://localhost:8080/"
        },
        "outputId": "cff2d129-bf3b-44af-f0d0-a8bcffe64461"
      },
      "execution_count": 2,
      "outputs": [
        {
          "output_type": "execute_result",
          "data": {
            "text/plain": [
              "[5, 6, 7, 1, 2, 3, 4]"
            ]
          },
          "metadata": {},
          "execution_count": 2
        }
      ]
    }
  ]
}