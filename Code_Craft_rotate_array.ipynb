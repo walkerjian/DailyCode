{
  "nbformat": 4,
  "nbformat_minor": 0,
  "metadata": {
    "colab": {
      "provenance": [],
      "authorship_tag": "ABX9TyM52OuT7rRYh/5Aujl24QQF",
      "include_colab_link": true
    },
    "kernelspec": {
      "name": "python3",
      "display_name": "Python 3"
    },
    "language_info": {
      "name": "python"
    }
  },
  "cells": [
    {
      "cell_type": "markdown",
      "metadata": {
        "id": "view-in-github",
        "colab_type": "text"
      },
      "source": [
        "<a href=\"https://colab.research.google.com/github/walkerjian/DailyCode/blob/main/Code_Craft_rotate_array.ipynb\" target=\"_parent\"><img src=\"https://colab.research.google.com/assets/colab-badge.svg\" alt=\"Open In Colab\"/></a>"
      ]
    },
    {
      "cell_type": "markdown",
      "source": [
        "##Problem:\n",
        "Given an array and a number k that's smaller than the length of the array, rotate the array to the right k elements in-place."
      ],
      "metadata": {
        "id": "zu7NAyoZstsP"
      }
    },
    {
      "cell_type": "markdown",
      "source": [
        "##Solution:\n",
        "To rotate an array to the right by `k` elements in-place, you can follow a specific algorithm. This involves reversing segments of the array and then reversing the entire array to achieve the desired rotation. Here's a step-by-step breakdown of the process:\n",
        "\n",
        "1. **Reverse the last `k` elements**: First, reverse the segment of the array that corresponds to the last `k` elements.\n",
        "2. **Reverse the first `n-k` elements**: Then, reverse the remaining part of the array, which consists of the first `n-k` elements.\n",
        "3. **Reverse the entire array**: Finally, reverse the entire array to complete the rotation.\n",
        "\n",
        "This approach ensures that the rotation is done in-place, without needing additional arrays for intermediate steps.\n",
        "\n",
        "Let's implement this in Python. We'll define a function `rotate_array` that takes an array and a number `k` as input and performs the rotation in-place.\n",
        "\n",
        "The Python function `rotate_array` successfully rotates an array to the right by `k` elements in-place. For example, if we take the array `[1, 2, 3, 4, 5]` and rotate it by `2`, the resulting array is `[4, 5, 1, 2, 3]`, as expected.\n",
        "\n",
        "You can use this function with your own arrays and rotation values. Just pass the array and the number `k` to the `rotate_array` function to perform the rotation. Remember that the rotation is done in-place, so the original array will be modified."
      ],
      "metadata": {
        "id": "jD7569pfszTE"
      }
    },
    {
      "cell_type": "markdown",
      "source": [
        "##Implementation:"
      ],
      "metadata": {
        "id": "8jeLL_VrtFnb"
      }
    },
    {
      "cell_type": "code",
      "execution_count": null,
      "metadata": {
        "colab": {
          "base_uri": "https://localhost:8080/"
        },
        "id": "22tVWhcPssts",
        "outputId": "ccb9f4cb-dfa1-4e95-d8e6-1e942448c8dd"
      },
      "outputs": [
        {
          "output_type": "execute_result",
          "data": {
            "text/plain": [
              "[4, 5, 1, 2, 3]"
            ]
          },
          "metadata": {},
          "execution_count": 1
        }
      ],
      "source": [
        "def rotate_array(arr, k):\n",
        "    \"\"\"\n",
        "    Rotate the array to the right by k elements in-place.\n",
        "    \"\"\"\n",
        "    n = len(arr)\n",
        "\n",
        "    # Helper function to reverse a segment of the array\n",
        "    def reverse(start, end):\n",
        "        while start < end:\n",
        "            arr[start], arr[end] = arr[end], arr[start]\n",
        "            start += 1\n",
        "            end -= 1\n",
        "\n",
        "    # Adjust k to be within the bounds of the array length\n",
        "    k %= n\n",
        "\n",
        "    # Reverse the last k elements\n",
        "    reverse(n - k, n - 1)\n",
        "\n",
        "    # Reverse the first n-k elements\n",
        "    reverse(0, n - k - 1)\n",
        "\n",
        "    # Reverse the entire array\n",
        "    reverse(0, n - 1)\n",
        "\n",
        "    return arr\n",
        "\n",
        "# Example usage\n",
        "example_array = [1, 2, 3, 4, 5]\n",
        "k = 2\n",
        "rotate_array(example_array, k)  # Expected output: [4, 5, 1, 2, 3]\n"
      ]
    }
  ]
}