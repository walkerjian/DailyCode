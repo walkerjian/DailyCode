{
  "nbformat": 4,
  "nbformat_minor": 0,
  "metadata": {
    "colab": {
      "provenance": [],
      "authorship_tag": "ABX9TyOxmrrxkfLHXQ7KxHV4/NLk",
      "include_colab_link": true
    },
    "kernelspec": {
      "name": "python3",
      "display_name": "Python 3"
    },
    "language_info": {
      "name": "python"
    }
  },
  "cells": [
    {
      "cell_type": "markdown",
      "metadata": {
        "id": "view-in-github",
        "colab_type": "text"
      },
      "source": [
        "<a href=\"https://colab.research.google.com/github/walkerjian/DailyCode/blob/main/Code_Craft_TwoDIterator.ipynb\" target=\"_parent\"><img src=\"https://colab.research.google.com/assets/colab-badge.svg\" alt=\"Open In Colab\"/></a>"
      ]
    },
    {
      "cell_type": "markdown",
      "source": [
        "##Problem:\n",
        "Implement a 2D iterator class. It will be initialized with an array of arrays, and should implement the following methods:\n",
        "\n",
        "next(): returns the next element in the array of arrays. If there are no more elements, raise an exception.\n",
        "has_next(): returns whether or not the iterator still has elements left.\n",
        "For example, given the input [[1, 2], [3], [], [4, 5, 6]], calling next() repeatedly should output 1, 2, 3, 4, 5, 6.\n",
        "\n",
        "Do not use flatten or otherwise clone the arrays. Some of the arrays can be empty."
      ],
      "metadata": {
        "id": "ZKL3EjYTn-G3"
      }
    },
    {
      "cell_type": "markdown",
      "source": [
        "##Solution:\n",
        "To implement a 2D iterator class in Python, I will follow a structured approach. The class will be designed to iterate over a nested array (an array of arrays), handling empty inner arrays and providing `next()` and `has_next()` methods as specified. Here is a step-by-step breakdown of the implementation, followed by testing:\n",
        "\n",
        "### 1. Class Design\n",
        "- **Data Structure**: To store the nested array and track the current position, we'll use variables to hold the index of the current array and the index within that array.\n",
        "- **Method - `next()`**: This method will return the next element in the nested array. If we reach the end of an inner array, we move to the next one. If there are no more elements, it raises an exception.\n",
        "- **Method - `has_next()`**: This method will check if there are any more elements to return.\n",
        "\n",
        "### 2. Handling Edge Cases\n",
        "- **Empty Inner Arrays**: The iterator should skip over any empty inner arrays.\n",
        "- **End of Arrays**: The iterator should correctly identify when there are no more elements to return.\n",
        "\n",
        "### 3. Testing\n",
        "- I will write tests to validate the functionality, ensuring that it works as expected with various inputs, including those with empty inner arrays.\n",
        "\n",
        "Let's implement this in code:\n",
        "\n",
        "\n"
      ],
      "metadata": {
        "id": "CW4mzp_doCLQ"
      }
    },
    {
      "cell_type": "code",
      "execution_count": 1,
      "metadata": {
        "id": "hNlCggPrn85s"
      },
      "outputs": [],
      "source": [
        "class TwoDIterator:\n",
        "    def __init__(self, nested_list):\n",
        "        self.nested_list = nested_list\n",
        "        self.outer_index = 0\n",
        "        self.inner_index = 0\n",
        "        self.adjust_indices()\n",
        "\n",
        "    def adjust_indices(self):\n",
        "        while self.outer_index < len(self.nested_list) and self.inner_index == len(self.nested_list[self.outer_index]):\n",
        "            self.outer_index += 1\n",
        "            self.inner_index = 0\n",
        "\n",
        "    def next(self):\n",
        "        if not self.has_next():\n",
        "            raise StopIteration(\"No more elements in the iterator\")\n",
        "\n",
        "        result = self.nested_list[self.outer_index][self.inner_index]\n",
        "        self.inner_index += 1\n",
        "        self.adjust_indices()\n",
        "        return result\n",
        "\n",
        "    def has_next(self):\n",
        "        return self.outer_index < len(self.nested_list)\n"
      ]
    },
    {
      "cell_type": "markdown",
      "source": [
        "##Testing:\n",
        "### 4. Testing the Iterator\n",
        "Now, let's test this with the given input `[[1, 2], [3], [], [4, 5, 6]]` and other scenarios:\n",
        "\n",
        "This implementation and its tests will demonstrate the functionality of the 2D iterator, ensuring it meets the requirements and handles the specified edge cases effectively."
      ],
      "metadata": {
        "id": "ogCwvTTJoPMg"
      }
    },
    {
      "cell_type": "code",
      "source": [
        "def test_iterator():\n",
        "    iterator = TwoDIterator([[1, 2], [3], [], [4, 5, 6]])\n",
        "    results = []\n",
        "    while iterator.has_next():\n",
        "        results.append(iterator.next())\n",
        "\n",
        "    assert results == [1, 2, 3, 4, 5, 6], f\"Test failed: Expected [1, 2, 3, 4, 5, 6] but got {results}\"\n",
        "    print(\"Test passed: [1, 2, 3, 4, 5, 6]\")\n",
        "\n",
        "    # Testing with empty arrays\n",
        "    iterator = TwoDIterator([[], [], [7, 8], [], [9]])\n",
        "    results = []\n",
        "    while iterator.has_next():\n",
        "        results.append(iterator.next())\n",
        "\n",
        "    assert results == [7, 8, 9], f\"Test failed: Expected [7, 8, 9] but got {results}\"\n",
        "    print(\"Test passed: [[], [], [7, 8], [], [9]]\")\n",
        "\n",
        "test_iterator()\n"
      ],
      "metadata": {
        "colab": {
          "base_uri": "https://localhost:8080/"
        },
        "id": "C4qLMpTqoYK9",
        "outputId": "7042a88a-67ea-4946-879e-7c8eb2dd1bea"
      },
      "execution_count": 2,
      "outputs": [
        {
          "output_type": "stream",
          "name": "stdout",
          "text": [
            "Test passed: [1, 2, 3, 4, 5, 6]\n",
            "Test passed: [[], [], [7, 8], [], [9]]\n"
          ]
        }
      ]
    },
    {
      "cell_type": "markdown",
      "source": [],
      "metadata": {
        "id": "4_ZtbOyAoX96"
      }
    }
  ]
}