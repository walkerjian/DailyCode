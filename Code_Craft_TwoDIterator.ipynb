{
  "nbformat": 4,
  "nbformat_minor": 0,
  "metadata": {
    "colab": {
      "provenance": [],
      "authorship_tag": "ABX9TyOCgj6Q4c4UdK0KdAg3xjy2",
      "include_colab_link": true
    },
    "kernelspec": {
      "name": "python3",
      "display_name": "Python 3"
    },
    "language_info": {
      "name": "python"
    }
  },
  "cells": [
    {
      "cell_type": "markdown",
      "metadata": {
        "id": "view-in-github",
        "colab_type": "text"
      },
      "source": [
        "<a href=\"https://colab.research.google.com/github/walkerjian/DailyCode/blob/main/Code_Craft_TwoDIterator.ipynb\" target=\"_parent\"><img src=\"https://colab.research.google.com/assets/colab-badge.svg\" alt=\"Open In Colab\"/></a>"
      ]
    },
    {
      "cell_type": "markdown",
      "source": [
        "##Problem:\n",
        "Implement a 2D iterator class. It will be initialized with an array of arrays, and should implement the following methods:\n",
        "\n",
        "next(): returns the next element in the array of arrays. If there are no more elements, raise an exception.\n",
        "has_next(): returns whether or not the iterator still has elements left.\n",
        "For example, given the input [[1, 2], [3], [], [4, 5, 6]], calling next() repeatedly should output 1, 2, 3, 4, 5, 6.\n",
        "\n",
        "Do not use flatten or otherwise clone the arrays. Some of the arrays can be empty."
      ],
      "metadata": {
        "id": "2lWyrXjB8EeD"
      }
    },
    {
      "cell_type": "markdown",
      "source": [
        "##Solution:\n",
        "To implement a 2D iterator class as described, you can follow this approach in Python. The idea is to maintain pointers for the current sub-array (inner array) and the current element within that sub-array. The `has_next` method will check if there are any more elements left by advancing these pointers if necessary, but without actually moving to the next element until `next` is called. This approach ensures we do not flatten or clone the arrays, and efficiently handle empty sub-arrays.\n",
        "\n",
        "\n"
      ],
      "metadata": {
        "id": "jIohycTB8Hjb"
      }
    },
    {
      "cell_type": "markdown",
      "source": [
        "##Implementation:\n",
        "In this implementation, `advance_to_next` is a helper method used to advance the `outer_index` and `inner_index` to the next available element, if the current sub-array is exhausted or empty. This method ensures that the `next` method always returns a valid element if `has_next` is `True`, and allows `has_next` to accurately report whether there are any elements left.\n",
        "```python\n",
        "class TwoDIterator:\n",
        "    def __init__(self, arr):\n",
        "        self.arr = arr\n",
        "        self.outer_index = 0\n",
        "        self.inner_index = 0\n",
        "        # Move to the first non-empty sub-array if needed\n",
        "        self.advance_to_next()\n",
        "\n",
        "    def next(self):\n",
        "        if not self.has_next():\n",
        "            raise Exception(\"No more elements\")\n",
        "        # Retrieve the current element\n",
        "        result = self.arr[self.outer_index][self.inner_index]\n",
        "        # Move to the next element\n",
        "        self.inner_index += 1\n",
        "        self.advance_to_next()\n",
        "        return result\n",
        "\n",
        "    def has_next(self):\n",
        "        # Check if the current outer index is within the bounds of the array\n",
        "        return self.outer_index < len(self.arr)\n",
        "\n",
        "    def advance_to_next(self):\n",
        "        # Advance the outer index if we are at the end of the current sub-array or it's empty\n",
        "        while self.outer_index < len(self.arr) and self.inner_index >= len(self.arr[self.outer_index]):\n",
        "            self.outer_index += 1\n",
        "            self.inner_index = 0\n",
        "\n",
        "# Example usage\n",
        "iterator = TwoDIterator([[1, 2], [3], [], [4, 5, 6]])\n",
        "while iterator.has_next():\n",
        "    print(iterator.next())\n",
        "```\n",
        "\n",
        "\n"
      ],
      "metadata": {
        "id": "pkWuQrLB8K8H"
      }
    },
    {
      "cell_type": "code",
      "execution_count": 1,
      "metadata": {
        "id": "TIIt0l_k7Oi1",
        "colab": {
          "base_uri": "https://localhost:8080/"
        },
        "outputId": "5a2c7f51-9ecb-4c7c-df34-39cbb529b6de"
      },
      "outputs": [
        {
          "output_type": "stream",
          "name": "stdout",
          "text": [
            "1\n",
            "2\n",
            "3\n",
            "4\n",
            "5\n",
            "6\n"
          ]
        }
      ],
      "source": [
        "class TwoDIterator:\n",
        "    def __init__(self, arr):\n",
        "        self.arr = arr\n",
        "        self.outer_index = 0\n",
        "        self.inner_index = 0\n",
        "        # Move to the first non-empty sub-array if needed\n",
        "        self.advance_to_next()\n",
        "\n",
        "    def next(self):\n",
        "        if not self.has_next():\n",
        "            raise Exception(\"No more elements\")\n",
        "        # Retrieve the current element\n",
        "        result = self.arr[self.outer_index][self.inner_index]\n",
        "        # Move to the next element\n",
        "        self.inner_index += 1\n",
        "        self.advance_to_next()\n",
        "        return result\n",
        "\n",
        "    def has_next(self):\n",
        "        # Check if the current outer index is within the bounds of the array\n",
        "        return self.outer_index < len(self.arr)\n",
        "\n",
        "    def advance_to_next(self):\n",
        "        # Advance the outer index if we are at the end of the current sub-array or it's empty\n",
        "        while self.outer_index < len(self.arr) and self.inner_index >= len(self.arr[self.outer_index]):\n",
        "            self.outer_index += 1\n",
        "            self.inner_index = 0\n",
        "\n",
        "# Example usage\n",
        "iterator = TwoDIterator([[1, 2], [3], [], [4, 5, 6]])\n",
        "while iterator.has_next():\n",
        "    print(iterator.next())\n"
      ]
    },
    {
      "cell_type": "markdown",
      "source": [
        "##Testing:\n",
        "To write a comprehensive and correct test harness for the `TwoDIterator` class that doesn't interrupt program execution, we can use Python's built-in `unittest` framework. This approach allows us to define a series of test cases to validate the behavior of our iterator without stopping the execution of other tests in case of a failure. Each test will assert the expected behavior of the `next()` and `has_next()` methods under various conditions, including edge cases such as empty arrays and arrays with empty sub-arrays.\n",
        "\n",
        "Here's how you could implement such a test harness:\n",
        "\n",
        "```python\n",
        "import unittest\n",
        "\n",
        "class TwoDIteratorTest(unittest.TestCase):\n",
        "    def test_normal_case(self):\n",
        "        iterator = TwoDIterator([[1, 2], [3], [], [4, 5, 6]])\n",
        "        results = []\n",
        "        while iterator.has_next():\n",
        "            results.append(iterator.next())\n",
        "        self.assertEqual(results, [1, 2, 3, 4, 5, 6])\n",
        "\n",
        "    def test_empty_array(self):\n",
        "        iterator = TwoDIterator([])\n",
        "        self.assertFalse(iterator.has_next())\n",
        "        with self.assertRaises(Exception):\n",
        "            iterator.next()\n",
        "\n",
        "    def test_arrays_with_empty_subarrays(self):\n",
        "        iterator = TwoDIterator([[], [], [1], [], [2, 3], []])\n",
        "        results = []\n",
        "        while iterator.has_next():\n",
        "            results.append(iterator.next())\n",
        "        self.assertEqual(results, [1, 2, 3])\n",
        "\n",
        "    def test_single_element(self):\n",
        "        iterator = TwoDIterator([[1]])\n",
        "        results = []\n",
        "        while iterator.has_next():\n",
        "            results.append(iterator.next())\n",
        "        self.assertEqual(results, [1])\n",
        "\n",
        "    def test_advance_over_empty_subarrays(self):\n",
        "        iterator = TwoDIterator([[], [], [], [1], []])\n",
        "        results = []\n",
        "        while iterator.has_next():\n",
        "            results.append(iterator.next())\n",
        "        self.assertEqual(results, [1])\n",
        "\n",
        "if __name__ == '__main__':\n",
        "    unittest.main()\n",
        "```\n",
        "\n",
        "This test harness covers several scenarios:\n",
        "- A normal case with a mix of empty and non-empty sub-arrays.\n",
        "- An entirely empty array.\n",
        "- Arrays that contain only empty sub-arrays except for one or more non-empty sub-arrays.\n",
        "- A single-element array to test the most basic case.\n",
        "- Cases where the iterator needs to advance over multiple consecutive empty sub-arrays to find the next element.\n",
        "\n",
        "Running this test suite will comprehensively validate the functionality of the `TwoDIterator` without halting execution upon individual test failures, thanks to the `unittest` framework's handling of assertions and exceptions. To execute the tests, save the test code in a file and run it using a Python interpreter. The `unittest` framework will automatically collect and run all methods that start with `test` in the `TwoDIteratorTest` class and report their outcomes."
      ],
      "metadata": {
        "id": "j1_1v7Jw8Sav"
      }
    },
    {
      "cell_type": "code",
      "source": [
        "import unittest\n",
        "\n",
        "class TwoDIteratorTest(unittest.TestCase):\n",
        "    def test_normal_case(self):\n",
        "        iterator = TwoDIterator([[1, 2], [3], [], [4, 5, 6]])\n",
        "        results = []\n",
        "        while iterator.has_next():\n",
        "            results.append(iterator.next())\n",
        "        self.assertEqual(results, [1, 2, 3, 4, 5, 6])\n",
        "\n",
        "    def test_empty_array(self):\n",
        "        iterator = TwoDIterator([])\n",
        "        self.assertFalse(iterator.has_next())\n",
        "        with self.assertRaises(Exception):\n",
        "            iterator.next()\n",
        "\n",
        "    def test_arrays_with_empty_subarrays(self):\n",
        "        iterator = TwoDIterator([[], [], [1], [], [2, 3], []])\n",
        "        results = []\n",
        "        while iterator.has_next():\n",
        "            results.append(iterator.next())\n",
        "        self.assertEqual(results, [1, 2, 3])\n",
        "\n",
        "    def test_single_element(self):\n",
        "        iterator = TwoDIterator([[1]])\n",
        "        results = []\n",
        "        while iterator.has_next():\n",
        "            results.append(iterator.next())\n",
        "        self.assertEqual(results, [1])\n",
        "\n",
        "    def test_advance_over_empty_subarrays(self):\n",
        "        iterator = TwoDIterator([[], [], [], [1], []])\n",
        "        results = []\n",
        "        while iterator.has_next():\n",
        "            results.append(iterator.next())\n",
        "        self.assertEqual(results, [1])\n",
        "\n",
        "if __name__ == '__main__':\n",
        "    unittest.main()\n"
      ],
      "metadata": {
        "id": "nTlc5bxp8UOh",
        "colab": {
          "base_uri": "https://localhost:8080/",
          "height": 297
        },
        "outputId": "68362cec-252d-488b-dd61-fb951547a7a6"
      },
      "execution_count": 2,
      "outputs": [
        {
          "output_type": "stream",
          "name": "stderr",
          "text": [
            "E\n",
            "======================================================================\n",
            "ERROR: /root/ (unittest.loader._FailedTest)\n",
            "----------------------------------------------------------------------\n",
            "AttributeError: module '__main__' has no attribute '/root/'\n",
            "\n",
            "----------------------------------------------------------------------\n",
            "Ran 1 test in 0.002s\n",
            "\n",
            "FAILED (errors=1)\n"
          ]
        },
        {
          "output_type": "error",
          "ename": "SystemExit",
          "evalue": "True",
          "traceback": [
            "An exception has occurred, use %tb to see the full traceback.\n",
            "\u001b[0;31mSystemExit\u001b[0m\u001b[0;31m:\u001b[0m True\n"
          ]
        },
        {
          "output_type": "stream",
          "name": "stderr",
          "text": [
            "/usr/local/lib/python3.10/dist-packages/IPython/core/interactiveshell.py:3561: UserWarning: To exit: use 'exit', 'quit', or Ctrl-D.\n",
            "  warn(\"To exit: use 'exit', 'quit', or Ctrl-D.\", stacklevel=1)\n"
          ]
        }
      ]
    },
    {
      "cell_type": "markdown",
      "source": [
        "To ensure the test harness does not interrupt program execution, especially in environments like Jupyter notebooks where an uncaught exception could halt the execution of subsequent cells, you can incorporate exception handling directly into your test cases or the execution flow of the tests.\n",
        "\n",
        "This means wrapping calls that might raise expected exceptions in try-except blocks within your tests, or handling unexpected exceptions gracefully to ensure all tests complete their execution. For the `TwoDIterator` example, I'll show how you could modify a test case to handle exceptions gracefully, ensuring that even if one test encounters an error, it doesn't stop the execution of the rest of the test suite.\n",
        "\n",
        "Here's an adapted version of the test harness with explicit exception handling for the `next()` method calls, ensuring that tests expecting exceptions handle them correctly without interrupting the execution of the entire test suite:\n",
        "\n",
        "```python\n",
        "import unittest\n",
        "\n",
        "class TestTwoDIterator(unittest.TestCase):\n",
        "    def test_normal_case(self):\n",
        "        iterator = TwoDIterator([[1, 2], [3], [], [4, 5, 6]])\n",
        "        results = []\n",
        "        try:\n",
        "            while iterator.has_next():\n",
        "                results.append(iterator.next())\n",
        "            self.assertEqual(results, [1, 2, 3, 4, 5, 6])\n",
        "        except Exception as e:\n",
        "            self.fail(f\"Unexpected exception occurred: {e}\")\n",
        "\n",
        "    def test_empty_array(self):\n",
        "        iterator = TwoDIterator([])\n",
        "        self.assertFalse(iterator.has_next())\n",
        "        try:\n",
        "            iterator.next()\n",
        "            self.fail(\"Expected an exception for calling next() on an empty iterator.\")\n",
        "        except Exception:\n",
        "            pass  # Expected this exception\n",
        "\n",
        "    def test_arrays_with_empty_subarrays(self):\n",
        "        iterator = TwoDIterator([[], [], [1], [], [2, 3], []])\n",
        "        results = []\n",
        "        try:\n",
        "            while iterator.has_next():\n",
        "                results.append(iterator.next())\n",
        "            self.assertEqual(results, [1, 2, 3])\n",
        "        except Exception as e:\n",
        "            self.fail(f\"Unexpected exception occurred: {e}\")\n",
        "\n",
        "    # Additional test cases as before...\n",
        "\n",
        "# Running tests in a way that doesn't interrupt execution\n",
        "def run_tests():\n",
        "    suite = unittest.TestLoader().loadTestsFromTestCase(TestTwoDIterator)\n",
        "    runner = unittest.TextTestRunner()\n",
        "    runner.run(suite)\n",
        "\n",
        "# Call run_tests to execute the test suite\n",
        "run_tests()\n",
        "```\n",
        "\n",
        "This approach ensures that if a test is designed to expect an exception (like when calling `next()` on an empty iterator), it explicitly checks for this case without letting the exception propagate and potentially stop the test runner. Tests that might raise unexpected exceptions are wrapped in try-except blocks, where an unexpected exception leads to a test failure with a clear message, rather than halting the execution of the entire suite.\n",
        "\n",
        "This method allows all tests to run to completion, reporting their individual success or failure, which is especially useful in interactive environments or when running a suite of tests as part of a continuous integration process."
      ],
      "metadata": {
        "id": "xUt1tr-fl2Nm"
      }
    },
    {
      "cell_type": "code",
      "source": [
        "import unittest\n",
        "\n",
        "class TestTwoDIterator(unittest.TestCase):\n",
        "    def test_normal_case(self):\n",
        "        iterator = TwoDIterator([[1, 2], [3], [], [4, 5, 6]])\n",
        "        results = []\n",
        "        try:\n",
        "            while iterator.has_next():\n",
        "                results.append(iterator.next())\n",
        "            self.assertEqual(results, [1, 2, 3, 4, 5, 6])\n",
        "        except Exception as e:\n",
        "            self.fail(f\"Unexpected exception occurred: {e}\")\n",
        "\n",
        "    def test_empty_array(self):\n",
        "        iterator = TwoDIterator([])\n",
        "        self.assertFalse(iterator.has_next())\n",
        "        try:\n",
        "            iterator.next()\n",
        "            self.fail(\"Expected an exception for calling next() on an empty iterator.\")\n",
        "        except Exception:\n",
        "            pass  # Expected this exception\n",
        "\n",
        "    def test_arrays_with_empty_subarrays(self):\n",
        "        iterator = TwoDIterator([[], [], [1], [], [2, 3], []])\n",
        "        results = []\n",
        "        try:\n",
        "            while iterator.has_next():\n",
        "                results.append(iterator.next())\n",
        "            self.assertEqual(results, [1, 2, 3])\n",
        "        except Exception as e:\n",
        "            self.fail(f\"Unexpected exception occurred: {e}\")\n",
        "\n",
        "    # Additional test cases\n",
        "\n",
        "# Running tests in a way that doesn't interrupt execution\n",
        "def run_tests():\n",
        "    suite = unittest.TestLoader().loadTestsFromTestCase(TestTwoDIterator)\n",
        "    runner = unittest.TextTestRunner()\n",
        "    runner.run(suite)\n",
        "\n",
        "# Call run_tests to execute the test suite\n",
        "run_tests()\n"
      ],
      "metadata": {
        "colab": {
          "base_uri": "https://localhost:8080/"
        },
        "id": "_yCpgo_YlsOk",
        "outputId": "54740f2d-1f43-4420-fa12-f2b19186c8ab"
      },
      "execution_count": 4,
      "outputs": [
        {
          "output_type": "stream",
          "name": "stderr",
          "text": [
            "...\n",
            "----------------------------------------------------------------------\n",
            "Ran 3 tests in 0.018s\n",
            "\n",
            "OK\n"
          ]
        }
      ]
    },
    {
      "cell_type": "code",
      "source": [],
      "metadata": {
        "id": "ogXQGPiImVTA"
      },
      "execution_count": null,
      "outputs": []
    }
  ]
}