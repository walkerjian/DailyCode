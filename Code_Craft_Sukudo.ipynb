{
  "nbformat": 4,
  "nbformat_minor": 0,
  "metadata": {
    "colab": {
      "provenance": [],
      "authorship_tag": "ABX9TyPtWh7Ot/tSNonkT2JQlxzZ",
      "include_colab_link": true
    },
    "kernelspec": {
      "name": "python3",
      "display_name": "Python 3"
    },
    "language_info": {
      "name": "python"
    }
  },
  "cells": [
    {
      "cell_type": "markdown",
      "metadata": {
        "id": "view-in-github",
        "colab_type": "text"
      },
      "source": [
        "<a href=\"https://colab.research.google.com/github/walkerjian/DailyCode/blob/main/Code_Craft_Sukudo.ipynb\" target=\"_parent\"><img src=\"https://colab.research.google.com/assets/colab-badge.svg\" alt=\"Open In Colab\"/></a>"
      ]
    },
    {
      "cell_type": "code",
      "execution_count": 2,
      "metadata": {
        "colab": {
          "base_uri": "https://localhost:8080/"
        },
        "id": "yxiT2FGWOoxd",
        "outputId": "94ae3a45-c06e-4b3a-bd62-ed6c90caa51f"
      },
      "outputs": [
        {
          "output_type": "stream",
          "name": "stdout",
          "text": [
            "Sudoku solved successfully!\n",
            "[5, 3, 4, 6, 7, 8, 9, 1, 2]\n",
            "[6, 7, 2, 1, 9, 5, 3, 4, 8]\n",
            "[1, 9, 8, 3, 4, 2, 5, 6, 7]\n",
            "[8, 5, 9, 7, 6, 1, 4, 2, 3]\n",
            "[4, 2, 6, 8, 5, 3, 7, 9, 1]\n",
            "[7, 1, 3, 9, 2, 4, 8, 5, 6]\n",
            "[9, 6, 1, 5, 3, 7, 2, 8, 4]\n",
            "[2, 8, 7, 4, 1, 9, 6, 3, 5]\n",
            "[3, 4, 5, 2, 8, 6, 1, 7, 9]\n"
          ]
        }
      ],
      "source": [
        "def is_valid(board, row, col, num):\n",
        "    # Check if the number is not repeated in the current row, column, and 3x3 box\n",
        "    box_row = row - row % 3\n",
        "    box_col = col - col % 3\n",
        "    if any(board[row][i] == num for i in range(9)) or \\\n",
        "       any(board[i][col] == num for i in range(9)) or \\\n",
        "       any(board[i][j] == num for i in range(box_row, box_row + 3) for j in range(box_col, box_col + 3)):\n",
        "        return False\n",
        "    return True\n",
        "\n",
        "def find_empty_location(board):\n",
        "    for i in range(9):\n",
        "        for j in range(9):\n",
        "            if board[i][j] == 0:\n",
        "                return i, j\n",
        "    return None\n",
        "\n",
        "def solve_sudoku(board):\n",
        "    empty_loc = find_empty_location(board)\n",
        "    if not empty_loc:\n",
        "        return True  # Puzzle solved\n",
        "\n",
        "    row, col = empty_loc\n",
        "    for num in range(1, 10):\n",
        "        if is_valid(board, row, col, num):\n",
        "            board[row][col] = num\n",
        "            if solve_sudoku(board):\n",
        "                return True\n",
        "            board[row][col] = 0  # Backtrack\n",
        "\n",
        "    return False\n",
        "\n",
        "# Example usage\n",
        "sudoku_board = [\n",
        "    [5, 3, 0, 0, 7, 0, 0, 0, 0],\n",
        "    [6, 0, 0, 1, 9, 5, 0, 0, 0],\n",
        "    [0, 9, 8, 0, 0, 0, 0, 6, 0],\n",
        "    [8, 0, 0, 0, 6, 0, 0, 0, 3],\n",
        "    [4, 0, 0, 8, 0, 3, 0, 0, 1],\n",
        "    [7, 0, 0, 0, 2, 0, 0, 0, 6],\n",
        "    [0, 6, 0, 0, 0, 0, 2, 8, 0],\n",
        "    [0, 0, 0, 4, 1, 9, 0, 0, 5],\n",
        "    [0, 0, 0, 0, 8, 0, 0, 7, 9]\n",
        "]\n",
        "\n",
        "if solve_sudoku(sudoku_board):\n",
        "  print(\"Sudoku solved successfully!\")\n",
        "  for row in sudoku_board:\n",
        "    print(row)\n",
        "else:\n",
        "  print(\"No solution exists.\")\n"
      ]
    },
    {
      "cell_type": "code",
      "source": [
        "# The provided Sudoku puzzle\n",
        "sudoku_puzzle = [\n",
        "    [0, 0, 0, 0, 3, 4, 1, 6, 0],\n",
        "    [0, 0, 0, 0, 0, 6, 0, 5, 0],\n",
        "    [0, 3, 6, 0, 0, 0, 4, 0, 8],\n",
        "    [5, 0, 0, 0, 0, 1, 0, 0, 0],\n",
        "    [9, 0, 2, 0, 0, 0, 7, 0, 5],\n",
        "    [0, 0, 0, 9, 0, 0, 0, 0, 4],\n",
        "    [7, 0, 1, 0, 0, 0, 6, 3, 0],\n",
        "    [0, 8, 0, 2, 0, 0, 0, 0, 0],\n",
        "    [0, 2, 9, 6, 1, 0, 0, 0, 0]\n",
        "]\n",
        "\n",
        "# Ensure to run this puzzle through the previously provided Sudoku solver function\n",
        "if solve_sudoku(sudoku_puzzle):\n",
        "  print(\"Sudoku solved successfully!\")\n",
        "  for row in sudoku_puzzle:\n",
        "    print(row)\n",
        "else:\n",
        "  print(\"No solution exists.\")\n"
      ],
      "metadata": {
        "colab": {
          "base_uri": "https://localhost:8080/"
        },
        "id": "fzBTJdUhUGZ1",
        "outputId": "aeedff64-6ac1-4454-f81f-ece3720d77d8"
      },
      "execution_count": 3,
      "outputs": [
        {
          "output_type": "stream",
          "name": "stdout",
          "text": [
            "Sudoku solved successfully!\n",
            "[2, 7, 5, 8, 3, 4, 1, 6, 9]\n",
            "[8, 9, 4, 1, 7, 6, 2, 5, 3]\n",
            "[1, 3, 6, 5, 9, 2, 4, 7, 8]\n",
            "[5, 4, 8, 7, 2, 1, 3, 9, 6]\n",
            "[9, 6, 2, 3, 4, 8, 7, 1, 5]\n",
            "[3, 1, 7, 9, 6, 5, 8, 2, 4]\n",
            "[7, 5, 1, 4, 8, 9, 6, 3, 2]\n",
            "[6, 8, 3, 2, 5, 7, 9, 4, 1]\n",
            "[4, 2, 9, 6, 1, 3, 5, 8, 7]\n"
          ]
        }
      ]
    }
  ]
}