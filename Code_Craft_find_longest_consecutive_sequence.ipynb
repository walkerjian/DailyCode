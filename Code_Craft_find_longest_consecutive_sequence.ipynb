{
  "nbformat": 4,
  "nbformat_minor": 0,
  "metadata": {
    "colab": {
      "provenance": [],
      "authorship_tag": "ABX9TyM67fPa2kTHazo5szXEpDA0",
      "include_colab_link": true
    },
    "kernelspec": {
      "name": "python3",
      "display_name": "Python 3"
    },
    "language_info": {
      "name": "python"
    }
  },
  "cells": [
    {
      "cell_type": "markdown",
      "metadata": {
        "id": "view-in-github",
        "colab_type": "text"
      },
      "source": [
        "<a href=\"https://colab.research.google.com/github/walkerjian/DailyCode/blob/main/Code_Craft_find_longest_consecutive_sequence.ipynb\" target=\"_parent\"><img src=\"https://colab.research.google.com/assets/colab-badge.svg\" alt=\"Open In Colab\"/></a>"
      ]
    },
    {
      "cell_type": "markdown",
      "source": [
        "##Problem:\n",
        "Given an unsorted array of integers, find the length of the longest consecutive elements sequence.\n",
        "\n",
        "For example, given [100, 4, 200, 1, 3, 2], the longest consecutive element sequence is [1, 2, 3, 4]. Return its length: 4.\n",
        "\n",
        "Your algorithm should run in O(n) complexity."
      ],
      "metadata": {
        "id": "npJWv4nY4j3U"
      }
    },
    {
      "cell_type": "markdown",
      "source": [
        "##Solution:\n",
        "To solve this problem, I'll implement an algorithm that identifies the longest consecutive sequence in an unsorted array of integers. The key to achieving \\( O(n) \\) complexity lies in using a set to quickly check if an element's consecutive neighbors (n-1 and n+1) are in the array.\n",
        "\n",
        "Here's the plan:\n",
        "\n",
        "1. **Model:** The core algorithm that finds the longest consecutive sequence.\n",
        "2. **View:** Simple print statements to display the output.\n",
        "3. **Controller:** Handling inputs and coordinating the model and view.\n",
        "\n",
        "### Model\n",
        "\n",
        "The algorithm will:\n",
        "- Convert the array into a set for \\( O(1) \\) lookups.\n",
        "- Iterate through each element in the array.\n",
        "- For each element, check if it's the start of a sequence (i.e., the element preceding it is not in the set).\n",
        "- If it's the start, count the length of the consecutive sequence.\n",
        "- Keep track of the maximum length found.\n",
        "\n",
        "### View\n",
        "\n",
        "The view will simply be a function to print the result.\n",
        "\n",
        "### Controller\n",
        "\n",
        "The controller will take an input array, call the model function, and then use the view to display the result.\n",
        "\n",
        "Let's implement this solution.\n"
      ],
      "metadata": {
        "id": "AbD7S7zi4vz2"
      }
    },
    {
      "cell_type": "markdown",
      "source": [
        "##Implementation:"
      ],
      "metadata": {
        "id": "am_yZv965CDC"
      }
    },
    {
      "cell_type": "code",
      "execution_count": 1,
      "metadata": {
        "colab": {
          "base_uri": "https://localhost:8080/"
        },
        "id": "ostGqYH64jCA",
        "outputId": "b6d912cc-1f48-474e-a348-79e3ec788c6b"
      },
      "outputs": [
        {
          "output_type": "stream",
          "name": "stdout",
          "text": [
            "The length of the longest consecutive element sequence in [100, 4, 200, 1, 3, 2] is: 4\n",
            "The length of the longest consecutive element sequence in [10, 5, 9, 1, 11, 8, 6, 7, 4, 2, 3] is: 11\n",
            "The length of the longest consecutive element sequence in [1, 2, 3, 4, 5, 6] is: 6\n",
            "The length of the longest consecutive element sequence in [10] is: 1\n",
            "The length of the longest consecutive element sequence in [] is: 0\n"
          ]
        }
      ],
      "source": [
        "def find_longest_consecutive_sequence(arr):\n",
        "    \"\"\"\n",
        "    Finds the length of the longest consecutive elements sequence in an array.\n",
        "\n",
        "    :param arr: List of integers.\n",
        "    :return: Length of the longest consecutive sequence.\n",
        "    \"\"\"\n",
        "    if not arr:\n",
        "        return 0\n",
        "\n",
        "    # Convert the list to a set for O(1) lookups\n",
        "    elements_set = set(arr)\n",
        "    max_length = 0\n",
        "\n",
        "    for num in arr:\n",
        "        # Check if it's the start of a sequence\n",
        "        if num - 1 not in elements_set:\n",
        "            current_length = 1\n",
        "            while num + current_length in elements_set:\n",
        "                current_length += 1\n",
        "\n",
        "            max_length = max(max_length, current_length)\n",
        "\n",
        "    return max_length\n",
        "\n",
        "def display_result(arr):\n",
        "    \"\"\"\n",
        "    Prints the result of the longest consecutive sequence search.\n",
        "\n",
        "    :param arr: List of integers.\n",
        "    \"\"\"\n",
        "    length = find_longest_consecutive_sequence(arr)\n",
        "    print(f\"The length of the longest consecutive element sequence in {arr} is: {length}\")\n",
        "\n",
        "# Controller: Testing the implementation with different arrays\n",
        "test_cases = [\n",
        "    [100, 4, 200, 1, 3, 2],\n",
        "    [10, 5, 9, 1, 11, 8, 6, 7, 4, 2, 3],\n",
        "    [1, 2, 3, 4, 5, 6],\n",
        "    [10],\n",
        "    []\n",
        "]\n",
        "\n",
        "for test_case in test_cases:\n",
        "    display_result(test_case)\n"
      ]
    },
    {
      "cell_type": "markdown",
      "source": [
        "##Results:\n",
        "The implementation of the algorithm to find the length of the longest consecutive elements sequence in an array has been successfully completed and tested. Here are the results for the provided test cases:\n",
        "\n",
        "1. For the array `[100, 4, 200, 1, 3, 2]`, the longest consecutive sequence is `[1, 2, 3, 4]`, and its length is 4.\n",
        "2. In the case of `[10, 5, 9, 1, 11, 8, 6, 7, 4, 2, 3]`, the entire array forms a consecutive sequence with a length of 11.\n",
        "3. For a sequence already in order like `[1, 2, 3, 4, 5, 6]`, the algorithm correctly identifies the length as 6.\n",
        "4. With a single-element array `[10]`, the length is, as expected, 1.\n",
        "5. And for an empty array `[]`, the length is 0.\n",
        "\n",
        "The algorithm adheres to $ O(n) $ complexity and is efficient in finding the longest consecutive sequence in an unsorted array."
      ],
      "metadata": {
        "id": "y-0DNaVJ4774"
      }
    }
  ]
}