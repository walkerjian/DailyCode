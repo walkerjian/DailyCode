{
  "nbformat": 4,
  "nbformat_minor": 0,
  "metadata": {
    "colab": {
      "provenance": [],
      "authorship_tag": "ABX9TyNH/I+KiRSU1rqPwaE4PHOx",
      "include_colab_link": true
    },
    "kernelspec": {
      "name": "python3",
      "display_name": "Python 3"
    },
    "language_info": {
      "name": "python"
    }
  },
  "cells": [
    {
      "cell_type": "markdown",
      "metadata": {
        "id": "view-in-github",
        "colab_type": "text"
      },
      "source": [
        "<a href=\"https://colab.research.google.com/github/walkerjian/DailyCode/blob/main/BinaryTreeSerialisation.ipynb\" target=\"_parent\"><img src=\"https://colab.research.google.com/assets/colab-badge.svg\" alt=\"Open In Colab\"/></a>"
      ]
    },
    {
      "cell_type": "markdown",
      "source": [
        "## Binary Tree Serialisation\n",
        "Given the root to a binary tree, implement serialize(root), which serializes the tree into a string, and deserialize(s), which deserializes the string back into the tree.\n",
        "\n",
        "For example, given the following Node class\n",
        "\n",
        "class Node:\n",
        "    def __init__(self, val, left=None, right=None):\n",
        "        self.val = val\n",
        "        self.left = left\n",
        "        self.right = right\n",
        "The following test should pass:\n",
        "\n",
        "node = Node('root', Node('left', Node('left.left')), Node('right'))\n",
        "assert deserialize(serialize(node)).left.left.val == 'left.left'"
      ],
      "metadata": {
        "id": "1DLdngsWMRVF"
      }
    },
    {
      "cell_type": "markdown",
      "source": [
        "## MVC\n",
        "\n",
        "\n",
        "### Model\n",
        "This is where our main logic resides. In this case, the Node class and our functions serialize and deserialize will be part of our model.\n",
        "View: Typically, in the MVC paradigm, this would be the user interface. However, since we're working with a command-line script and not a graphical interface, our \"view\" will be the printed outputs of our functions and tests.\n",
        "Controller: This is what controls the flow of our program. Here, it will include our main execution flow and test harness.\n",
        "Given this structure, let's start by defining our model:\n"
      ],
      "metadata": {
        "id": "3GhUiHTqMlpD"
      }
    },
    {
      "cell_type": "code",
      "execution_count": 1,
      "metadata": {
        "id": "HlWnZFWVMNt1"
      },
      "outputs": [],
      "source": [
        "class Node:\n",
        "    def __init__(self, val, left=None, right=None):\n",
        "        \"\"\"\n",
        "        Node for a binary tree.\n",
        "\n",
        "        Args:\n",
        "        - val: Value of the node.\n",
        "        - left (Node, optional): Left child of the node. Defaults to None.\n",
        "        - right (Node, optional): Right child of the node. Defaults to None.\n",
        "        \"\"\"\n",
        "        self.val = val\n",
        "        self.left = left\n",
        "        self.right = right\n",
        "\n",
        "def serialize(root):\n",
        "    \"\"\"\n",
        "    Serializes a binary tree into a string.\n",
        "\n",
        "    Args:\n",
        "    - root (Node): Root of the binary tree.\n",
        "\n",
        "    Returns:\n",
        "    - str: Serialized string representation of the tree.\n",
        "    \"\"\"\n",
        "    if not root:\n",
        "        return \"None\"\n",
        "    return f\"{root.val},{serialize(root.left)},{serialize(root.right)}\"\n",
        "\n",
        "def deserialize(s):\n",
        "    \"\"\"\n",
        "    Deserializes a string into a binary tree.\n",
        "\n",
        "    Args:\n",
        "    - s (str): Serialized string representation of a tree.\n",
        "\n",
        "    Returns:\n",
        "    - Node: Root of the deserialized binary tree.\n",
        "    \"\"\"\n",
        "    def helper(nodes):\n",
        "        if nodes[0] == \"None\":\n",
        "            nodes.pop(0)\n",
        "            return None\n",
        "        node = Node(nodes[0])\n",
        "        nodes.pop(0)\n",
        "        node.left = helper(nodes)\n",
        "        node.right = helper(nodes)\n",
        "        return node\n",
        "\n",
        "    return helper(s.split(','))\n"
      ]
    },
    {
      "cell_type": "markdown",
      "source": [
        "### Controller\n",
        "This is where we will define our test harness:"
      ],
      "metadata": {
        "id": "vEUaiAYFMV2q"
      }
    },
    {
      "cell_type": "markdown",
      "source": [
        "### View\n",
        "Our \"view\" in this context is the printed output of the test harness, which will indicate whether each test passed or failed."
      ],
      "metadata": {
        "id": "YEG4R90kM4V7"
      }
    },
    {
      "cell_type": "code",
      "source": [
        "def test():\n",
        "    \"\"\"\n",
        "    Tests the serialize and deserialize functions.\n",
        "    \"\"\"\n",
        "    # Test cases\n",
        "    test_cases = [\n",
        "        Node('root', Node('left', Node('left.left')), Node('right')),\n",
        "        Node('A'),\n",
        "        Node('1', Node('2'), Node('3', None, Node('4'))),\n",
        "        None,\n",
        "        Node('X', Node('Y'), Node('Z')),\n",
        "        Node('apple', Node('banana'), Node('cherry')),\n",
        "        Node('cat', Node('dog', Node('elephant'), Node('frog')), Node('goat')),\n",
        "        Node('hello', Node('world')),\n",
        "        Node('first', None, Node('second', None, Node('third'))),\n",
        "        Node('tree', Node('is', Node('balanced')), Node('or', Node('not')))\n",
        "    ]\n",
        "\n",
        "    for index, node in enumerate(test_cases, 1):\n",
        "        serialized = serialize(node)\n",
        "        deserialized = deserialize(serialized)\n",
        "        try:\n",
        "            assert node.val == deserialized.val\n",
        "            print(f\"Test {index}: PASSED\")\n",
        "        except AssertionError:\n",
        "            print(f\"Test {index}: FAILED\")\n",
        "        except AttributeError:\n",
        "            if node is None and deserialized is None:\n",
        "                print(f\"Test {index}: PASSED\")\n",
        "            else:\n",
        "                print(f\"Test {index}: FAILED\")\n",
        "\n",
        "if __name__ == \"__main__\":\n",
        "    test()\n"
      ],
      "metadata": {
        "colab": {
          "base_uri": "https://localhost:8080/"
        },
        "id": "aRdvtRgnMWv8",
        "outputId": "c034df6b-2c13-447e-8fe3-0a32ba1fe12b"
      },
      "execution_count": 2,
      "outputs": [
        {
          "output_type": "stream",
          "name": "stdout",
          "text": [
            "Test 1: PASSED\n",
            "Test 2: PASSED\n",
            "Test 3: PASSED\n",
            "Test 4: PASSED\n",
            "Test 5: PASSED\n",
            "Test 6: PASSED\n",
            "Test 7: PASSED\n",
            "Test 8: PASSED\n",
            "Test 9: PASSED\n",
            "Test 10: PASSED\n"
          ]
        }
      ]
    },
    {
      "cell_type": "markdown",
      "source": [
        "##Maximally Efficient Version\n",
        " To make the serialization and deserialization maximally efficient, we should:\n",
        "\n",
        "1.   Use iterative traversal (like BFS) instead of recursive traversal (DFS). This is because recursion has a function call overhead and can lead to a stack overflow in extremely deep trees.\n",
        "\n",
        "2.   Make use of a deque from the collections module for $O(1)$ operations for append and popleft during the BFS traversal.\n",
        "\n",
        "\n",
        "Here's the efficient solution:"
      ],
      "metadata": {
        "id": "8aLHH618Mf7e"
      }
    },
    {
      "cell_type": "code",
      "source": [
        "from collections import deque\n",
        "\n",
        "class Node:\n",
        "    def __init__(self, val, left=None, right=None):\n",
        "        self.val = val\n",
        "        self.left = left\n",
        "        self.right = right\n",
        "\n",
        "def serialize(root):\n",
        "    \"\"\"Encodes a tree to a single string.\"\"\"\n",
        "    if not root:\n",
        "        return \"\"\n",
        "\n",
        "    queue = deque([root])\n",
        "    result = []\n",
        "\n",
        "    while queue:\n",
        "        current = queue.popleft()\n",
        "\n",
        "        if current:\n",
        "            result.append(str(current.val))\n",
        "            queue.append(current.left)\n",
        "            queue.append(current.right)\n",
        "        else:\n",
        "            result.append(\"None\")\n",
        "\n",
        "    return \",\".join(result)\n",
        "\n",
        "def deserialize(data):\n",
        "    \"\"\"Decodes your encoded data to tree.\"\"\"\n",
        "    if not data:\n",
        "        return None\n",
        "\n",
        "    nodes = data.split(\",\")\n",
        "    root = Node(nodes[0])\n",
        "    queue = deque([root])\n",
        "\n",
        "    index = 1\n",
        "\n",
        "    while queue and index < len(nodes):\n",
        "        current = queue.popleft()\n",
        "\n",
        "        if nodes[index] != \"None\":\n",
        "            current.left = Node(nodes[index])\n",
        "            queue.append(current.left)\n",
        "\n",
        "        index += 1\n",
        "\n",
        "        if nodes[index] != \"None\":\n",
        "            current.right = Node(nodes[index])\n",
        "            queue.append(current.right)\n",
        "\n",
        "        index += 1\n",
        "\n",
        "    return root\n",
        "\n",
        "# Test\n",
        "node = Node('root', Node('left', Node('left.left')), Node('right'))\n",
        "assert deserialize(serialize(node)).left.left.val == 'left.left'\n",
        "test()"
      ],
      "metadata": {
        "colab": {
          "base_uri": "https://localhost:8080/"
        },
        "id": "E0lJaSScNjyk",
        "outputId": "b7b12f7a-7228-48ac-e123-815103558485"
      },
      "execution_count": 5,
      "outputs": [
        {
          "output_type": "stream",
          "name": "stdout",
          "text": [
            "Test 1: PASSED\n",
            "Test 2: PASSED\n",
            "Test 3: PASSED\n",
            "Test 4: PASSED\n",
            "Test 5: PASSED\n",
            "Test 6: PASSED\n",
            "Test 7: PASSED\n",
            "Test 8: PASSED\n",
            "Test 9: PASSED\n",
            "Test 10: PASSED\n"
          ]
        }
      ]
    }
  ]
}