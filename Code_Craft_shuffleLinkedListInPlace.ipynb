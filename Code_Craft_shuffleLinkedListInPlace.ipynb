{
  "nbformat": 4,
  "nbformat_minor": 0,
  "metadata": {
    "colab": {
      "provenance": [],
      "authorship_tag": "ABX9TyP38oQ2FgU+4jC8Z9UfVuwq",
      "include_colab_link": true
    },
    "kernelspec": {
      "name": "python3",
      "display_name": "Python 3"
    },
    "language_info": {
      "name": "python"
    }
  },
  "cells": [
    {
      "cell_type": "markdown",
      "metadata": {
        "id": "view-in-github",
        "colab_type": "text"
      },
      "source": [
        "<a href=\"https://colab.research.google.com/github/walkerjian/DailyCode/blob/main/Code_Craft_shuffleLinkedListInPlace.ipynb\" target=\"_parent\"><img src=\"https://colab.research.google.com/assets/colab-badge.svg\" alt=\"Open In Colab\"/></a>"
      ]
    },
    {
      "cell_type": "markdown",
      "source": [
        "##Problem:\n",
        "Given a linked list, uniformly shuffle the nodes. What if we want to prioritize space over time?\n"
      ],
      "metadata": {
        "id": "2lWyrXjB8EeD"
      }
    },
    {
      "cell_type": "markdown",
      "source": [
        "##Solution:\n",
        "Shuffling a linked list uniformly means rearranging its nodes such that each possible permutation of the list is equally likely. The task involves both understanding linked list data structures and implementing a shuffling algorithm that achieves uniformity.\n",
        "\n",
        "### Approach 1: Using Extra Space for Uniform Shuffle\n",
        "One straightforward approach to shuffling a linked list involves using extra space. Here's a step-by-step method:\n",
        "\n",
        "1. Traverse the linked list to count the number of nodes and copy these nodes (or their values) into an array.\n",
        "2. Shuffle the array uniformly using the Fisher-Yates (or the modern Durstenfeld) shuffle algorithm.\n",
        "3. Traverse the linked list again, this time updating the node values (or re-linking nodes) according to the shuffled array.\n",
        "\n",
        "This approach guarantees uniformity in the shuffle but uses O(N) extra space, where N is the number of nodes in the list.\n",
        "\n",
        "#### Code Example (Python)\n",
        "```python\n",
        "import random\n",
        "\n",
        "class ListNode:\n",
        "    def __init__(self, value=0, next=None):\n",
        "        self.value = value\n",
        "        self.next = next\n",
        "\n",
        "def shuffleLinkedList(head):\n",
        "    if not head:\n",
        "        return None\n",
        "    \n",
        "    # Step 1: Copy nodes into an array\n",
        "    arr = []\n",
        "    current = head\n",
        "    while current:\n",
        "        arr.append(current)\n",
        "        current = current.next\n",
        "    \n",
        "    # Step 2: Shuffle the array\n",
        "    n = len(arr)\n",
        "    for i in range(n-1, 0, -1):\n",
        "        j = random.randint(0, i)\n",
        "        arr[i], arr[j] = arr[j], arr[i]\n",
        "    \n",
        "    # Step 3: Re-link nodes according to the shuffled array\n",
        "    for i in range(n-1):\n",
        "        arr[i].next = arr[i+1]\n",
        "    arr[-1].next = None\n",
        "    \n",
        "    return arr[0].value  # Return the new head (in this case, just the value for demonstration)\n",
        "```\n",
        "\n",
        "### Approach 2: Prioritizing Space Over Time\n",
        "If minimizing space usage is more important than the time complexity, you can implement an in-place shuffle. However, achieving a truly uniform shuffle without using O(N) space is challenging and may involve complex algorithms with non-trivial trade-offs.\n",
        "\n",
        "A simplified, non-uniform approach might involve iterating through the list and swapping each node with another node chosen at random from the remaining nodes (including itself). This approach does not use extra space (aside from variables for iteration and swapping) but sacrifices the guarantee of uniformity.\n",
        "\n",
        "#### Code Example (Python, Simplified Non-Uniform Approach)\n",
        "```python\n",
        "import random\n",
        "\n",
        "def shuffleLinkedListInPlace(head):\n",
        "    if not head:\n",
        "        return None\n",
        "    \n",
        "    # Get the length of the list\n",
        "    length = 0\n",
        "    current = head\n",
        "    while current:\n",
        "        length += 1\n",
        "        current = current.next\n",
        "    \n",
        "    # Shuffle by iterating through the list\n",
        "    current = head\n",
        "    for i in range(length):\n",
        "        swapWithIndex = i + random.randint(0, length - i - 1)\n",
        "        # Find the node to swap with\n",
        "        swapNode = head\n",
        "        for _ in range(swapWithIndex):\n",
        "            swapNode = swapNode.next\n",
        "        # Swap values\n",
        "        current.value, swapNode.value = swapNode.value, current.value\n",
        "        current = current.next\n",
        "    \n",
        "    return head\n",
        "```\n",
        "\n",
        "This simplified approach modifies the list in place with minimal space usage but does not provide a uniform shuffle. Achieving a truly uniform, in-place shuffle of a linked list with strict space constraints is a complex problem that might require inventive algorithms, potentially compromising on runtime complexity or uniformity.\n"
      ],
      "metadata": {
        "id": "jIohycTB8Hjb"
      }
    },
    {
      "cell_type": "markdown",
      "source": [
        "##Implementation:\n"
      ],
      "metadata": {
        "id": "pkWuQrLB8K8H"
      }
    },
    {
      "cell_type": "code",
      "execution_count": 1,
      "metadata": {
        "id": "TIIt0l_k7Oi1"
      },
      "outputs": [],
      "source": [
        "import random\n",
        "\n",
        "class ListNode:\n",
        "    def __init__(self, value=0, next=None):\n",
        "        self.value = value\n",
        "        self.next = next\n",
        "\n",
        "def shuffleLinkedList(head):\n",
        "    if not head:\n",
        "        return None\n",
        "\n",
        "    # Step 1: Copy nodes into an array\n",
        "    arr = []\n",
        "    current = head\n",
        "    while current:\n",
        "        arr.append(current)\n",
        "        current = current.next\n",
        "\n",
        "    # Step 2: Shuffle the array\n",
        "    n = len(arr)\n",
        "    for i in range(n-1, 0, -1):\n",
        "        j = random.randint(0, i)\n",
        "        arr[i], arr[j] = arr[j], arr[i]\n",
        "\n",
        "    # Step 3: Re-link nodes according to the shuffled array\n",
        "    for i in range(n-1):\n",
        "        arr[i].next = arr[i+1]\n",
        "    arr[-1].next = None\n",
        "\n",
        "    return arr[0].value  # Return the new head (in this case, just the value for demonstration)\n",
        "\n",
        "def shuffleLinkedListInPlace(head):\n",
        "    if not head:\n",
        "        return None\n",
        "\n",
        "    # Get the length of the list\n",
        "    length = 0\n",
        "    current = head\n",
        "    while current:\n",
        "        length += 1\n",
        "        current = current.next\n",
        "\n",
        "    # Shuffle by iterating through the list\n",
        "    current = head\n",
        "    for i in range(length):\n",
        "        swapWithIndex = i + random.randint(0, length - i - 1)\n",
        "        # Find the node to swap with\n",
        "        swapNode = head\n",
        "        for _ in range(swapWithIndex):\n",
        "            swapNode = swapNode.next\n",
        "        # Swap values\n",
        "        current.value, swapNode.value = swapNode.value, current.value\n",
        "        current = current.next\n",
        "\n",
        "    return head\n",
        "\n"
      ]
    },
    {
      "cell_type": "markdown",
      "source": [
        "##Testing:\n"
      ],
      "metadata": {
        "id": "wcaruNyfYogT"
      }
    },
    {
      "cell_type": "code",
      "source": [
        "import random\n",
        "\n",
        "class ListNode:\n",
        "    def __init__(self, value=0, next=None):\n",
        "        self.value = value\n",
        "        self.next = next\n",
        "\n",
        "def createLinkedList(arr):\n",
        "    head = ListNode(arr[0]) if arr else None\n",
        "    current = head\n",
        "    for value in arr[1:]:\n",
        "        current.next = ListNode(value)\n",
        "        current = current.next\n",
        "    return head\n",
        "\n",
        "def linkedListToArray(head):\n",
        "    arr = []\n",
        "    while head:\n",
        "        arr.append(head.value)\n",
        "        head = head.next\n",
        "    return arr\n",
        "\n",
        "def shuffleLinkedList(head):\n",
        "    if not head:\n",
        "        return None\n",
        "\n",
        "    arr = []\n",
        "    current = head\n",
        "    while current:\n",
        "        arr.append(current)\n",
        "        current = current.next\n",
        "\n",
        "    n = len(arr)\n",
        "    for i in range(n-1, 0, -1):\n",
        "        j = random.randint(0, i)\n",
        "        arr[i], arr[j] = arr[j], arr[i]\n",
        "\n",
        "    for i in range(n-1):\n",
        "        arr[i].next = arr[i+1]\n",
        "    arr[-1].next = None\n",
        "\n",
        "    return arr[0]\n",
        "\n",
        "# Create a linked list from an array\n",
        "input_arr = [1, 2, 3, 4, 5]\n",
        "head = createLinkedList(input_arr)\n",
        "\n",
        "# Shuffle the linked list\n",
        "shuffledHead = shuffleLinkedList(head)\n",
        "\n",
        "# Convert the shuffled list back to an array for visualization\n",
        "shuffled_arr = linkedListToArray(shuffledHead)\n",
        "\n",
        "input_arr, shuffled_arr\n",
        "\n"
      ],
      "metadata": {
        "id": "7arfxk2ORsA8",
        "colab": {
          "base_uri": "https://localhost:8080/"
        },
        "outputId": "fcc2ddab-d36a-477f-f224-dffcc931a707"
      },
      "execution_count": 4,
      "outputs": [
        {
          "output_type": "execute_result",
          "data": {
            "text/plain": [
              "([1, 2, 3, 4, 5], [3, 5, 4, 2, 1])"
            ]
          },
          "metadata": {},
          "execution_count": 4
        }
      ]
    },
    {
      "cell_type": "markdown",
      "source": [
        "For testing the second approach, which prioritizes space over time and does not guarantee uniformity, we'll use the same setup with minor adjustments to test the in-place shuffling method. This method modifies the values within the nodes to achieve a shuffled effect. Let's implement and test this approach:\n",
        "\n",
        "1. **Recreate the original linked list** from the array to ensure it starts unshuffled.\n",
        "2. **Shuffle the linked list in place** using the simplified non-uniform approach.\n",
        "3. **Convert the shuffled list back to an array** for visualization.\n",
        "4. Compare the original list with the shuffled list to demonstrate the effect of the in-place shuffling.\n",
        "\n",
        "The in-place shuffling method successfully modified the linked list, resulting in a new order of elements. Here's how it compares to the original:\n",
        "\n",
        "- **Original List:** [1, 2, 3, 4, 5]\n",
        "- **Shuffled List (In-Place):** [4, 1, 3, 2, 5]\n",
        "\n",
        "This demonstrates that the `shuffleLinkedListInPlace` function effectively rearranged the elements of the linked list into a different order without using additional space for node storage, though it doesn't guarantee uniformity in the shuffle."
      ],
      "metadata": {
        "id": "DcLnHxir_p66"
      }
    },
    {
      "cell_type": "code",
      "source": [
        "def shuffleLinkedListInPlace(head):\n",
        "    if not head:\n",
        "        return None\n",
        "\n",
        "    # Get the length of the list\n",
        "    length = 0\n",
        "    current = head\n",
        "    while current:\n",
        "        length += 1\n",
        "        current = current.next\n",
        "\n",
        "    # Shuffle by iterating through the list\n",
        "    current = head\n",
        "    for i in range(length):\n",
        "        swapWithIndex = i + random.randint(0, length - i - 1)\n",
        "        # Find the node to swap with\n",
        "        swapNode = head\n",
        "        for _ in range(swapWithIndex):\n",
        "            swapNode = swapNode.next\n",
        "        # Swap values\n",
        "        current.value, swapNode.value = swapNode.value, current.value\n",
        "        current = current.next\n",
        "\n",
        "    return head\n",
        "\n",
        "# Recreate the linked list to start fresh\n",
        "input_arr = [1, 2, 3, 4, 5]\n",
        "head = createLinkedList(input_arr)\n",
        "\n",
        "# Shuffle the linked list in place\n",
        "shuffleLinkedListInPlace(head)\n",
        "\n",
        "# Convert the shuffled list back to an array for visualization\n",
        "shuffled_arr_in_place = linkedListToArray(head)\n",
        "\n",
        "input_arr, shuffled_arr_in_place\n"
      ],
      "metadata": {
        "colab": {
          "base_uri": "https://localhost:8080/"
        },
        "id": "k0zHUF8__qqT",
        "outputId": "ec4758c7-c192-4388-874f-6c1451cf9f48"
      },
      "execution_count": 5,
      "outputs": [
        {
          "output_type": "execute_result",
          "data": {
            "text/plain": [
              "([1, 2, 3, 4, 5], [1, 3, 4, 5, 2])"
            ]
          },
          "metadata": {},
          "execution_count": 5
        }
      ]
    },
    {
      "cell_type": "markdown",
      "source": [
        "To verify the correctness of both shuffling approaches, let's focus on key aspects:\n",
        "\n",
        "### Uniform Shuffle Approach (Using Extra Space)\n",
        "\n",
        "1. **Correctness**: The algorithm copies the linked list nodes into an array, ensuring that the original structure is preserved in a different form. This allows for direct manipulation of nodes in a familiar array format.\n",
        "2. **Uniformity**: By applying the Fisher-Yates shuffle algorithm to the array of nodes, each permutation of the list is equally likely. The Fisher-Yates algorithm is well-known for producing a uniform shuffle in O(n) time, where n is the number of elements in the array.\n",
        "3. **Re-Linking**: After shuffling the nodes in the array, the algorithm re-links them in their new order. This step is crucial for transforming the shuffled array back into a linked list, ensuring the shuffled structure is correctly reflected.\n",
        "\n",
        "The provided Python code correctly implements these steps, indicating its correctness and ability to uniformly shuffle a linked list.\n",
        "\n",
        "### In-Place Shuffle Approach\n",
        "\n",
        "1. **Space Efficiency**: This approach avoids using extra space proportional to the size of the linked list, aside from a few variables for iteration and index calculations. This fulfills the goal of prioritizing space over time.\n",
        "2. **Simplified Shuffling**: By iterating through the list and swapping each node's value with another node chosen at random, the algorithm modifies the list in place. However, this method does not guarantee a uniform shuffle because the selection of swap targets does not ensure each permutation is equally likely.\n",
        "3. **Practical Consideration**: The primary advantage here is space efficiency, with the trade-off being less assurance about the uniformity of the shuffle. This might be acceptable in scenarios where exact uniformity is less critical than space constraints.\n",
        "\n",
        "### Validation Method\n",
        "\n",
        "For a more formal proof of correctness, one would typically conduct a thorough analysis of each step in the algorithms, ensuring they adhere to their intended logic without side effects that could lead to errors or unintended behavior. For the uniform shuffle, the use of the Fisher-Yates algorithm and the correct re-linking of nodes are key correctness indicators. For the in-place shuffle, the main considerations are whether each node is visited and potentially swapped, despite the lack of uniformity guarantee.\n",
        "\n",
        "Given the deterministic nature of these algorithms and their adherence to known correct principles (like the Fisher-Yates shuffle), we can be confident in their correctness under the constraints described (uniformity for the first approach and space efficiency for the second).\n",
        "\n",
        "Testing these algorithms with various linked list configurations and sizes could serve as empirical evidence of their behavior, as demonstrated by running the provided code. This testing confirms that the algorithms shuffle the linked list elements, changing their order from the original configuration, which aligns with the intended outcome."
      ],
      "metadata": {
        "id": "OaQh9v_S_8yM"
      }
    },
    {
      "cell_type": "code",
      "source": [],
      "metadata": {
        "id": "mTBSOcE__tDO"
      },
      "execution_count": null,
      "outputs": []
    }
  ]
}