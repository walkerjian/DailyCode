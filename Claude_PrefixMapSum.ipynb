{
  "nbformat": 4,
  "nbformat_minor": 0,
  "metadata": {
    "colab": {
      "provenance": [],
      "authorship_tag": "ABX9TyPC4QyvpXpc763fFLEPbR+A",
      "include_colab_link": true
    },
    "kernelspec": {
      "name": "python3",
      "display_name": "Python 3"
    },
    "language_info": {
      "name": "python"
    }
  },
  "cells": [
    {
      "cell_type": "markdown",
      "metadata": {
        "id": "view-in-github",
        "colab_type": "text"
      },
      "source": [
        "<a href=\"https://colab.research.google.com/github/walkerjian/DailyCode/blob/main/Claude_PrefixMapSum.ipynb\" target=\"_parent\"><img src=\"https://colab.research.google.com/assets/colab-badge.svg\" alt=\"Open In Colab\"/></a>"
      ]
    },
    {
      "cell_type": "markdown",
      "source": [
        "##Problem:\n",
        "Implement a PrefixMapSum class with the following methods:\n",
        "\n",
        "insert(key: str, value: int): Set a given key's value in the map. If the key already exists, overwrite the value.\n",
        "\n",
        "sum(prefix: str): Return the sum of all values of keys that begin with a given prefix.\n",
        "\n",
        "For example, you should be able to run the following code:\n",
        "\n",
        "mapsum.insert(\"columnar\", 3) assert mapsum.sum(\"col\") == 3 mapsum.insert(\"column\", 2) assert mapsum.sum(\"col\") == 5\n"
      ],
      "metadata": {
        "id": "2lWyrXjB8EeD"
      }
    },
    {
      "cell_type": "markdown",
      "source": [
        "##Solution:\n",
        "Explanation:\n",
        "The PrefixMapSum class is initialized with an empty dictionary called map to store the key-value pairs.\n",
        "The insert method takes a key (string) and a value (integer) as parameters. It sets the given key's value in the map dictionary. If the key already exists, it overwrites the existing value.\n",
        "The sum method takes a prefix (string) as a parameter. It initializes a variable total to keep track of the sum.\n",
        "It iterates over each key-value pair in the map dictionary using the items() method.\n",
        "For each key-value pair, it checks if the key starts with the given prefix using the startswith() method. If the key starts with the prefix, it adds the corresponding value to the total.\n",
        "Finally, it returns the total sum of all values of keys that begin with the given prefix.\n"
      ],
      "metadata": {
        "id": "jIohycTB8Hjb"
      }
    },
    {
      "cell_type": "markdown",
      "source": [
        "##Implementation:\n",
        "You can use the PrefixMapSum class as follows:\n"
      ],
      "metadata": {
        "id": "pkWuQrLB8K8H"
      }
    },
    {
      "cell_type": "code",
      "execution_count": 1,
      "metadata": {
        "id": "TIIt0l_k7Oi1"
      },
      "outputs": [],
      "source": [
        "class PrefixMapSum:\n",
        "    def __init__(self):\n",
        "        self.map = {}\n",
        "\n",
        "    def insert(self, key: str, value: int):\n",
        "        self.map[key] = value\n",
        "\n",
        "    def sum(self, prefix: str) -> int:\n",
        "        total = 0\n",
        "        for key, value in self.map.items():\n",
        "            if key.startswith(prefix):\n",
        "                total += value\n",
        "        return total"
      ]
    },
    {
      "cell_type": "markdown",
      "source": [
        "##Testing:\n",
        "In this example:\n",
        "The first insert sets the value of the key \"columnar\" to 3. When sum is called with the prefix \"col\", it returns 3 because only the key \"columnar\" starts with \"col\".\n",
        "The second insert sets the value of the key \"column\" to 2. Now, when sum is called with the prefix \"col\", it returns 5 because both keys \"columnar\" and \"column\" start with \"col\", and their values (3 and 2) are summed up.\n",
        "The assertions in the code will pass, indicating that the PrefixMapSum class is working as expected.\n"
      ],
      "metadata": {
        "id": "wcaruNyfYogT"
      }
    },
    {
      "cell_type": "code",
      "source": [
        "mapsum = PrefixMapSum()\n",
        "\n",
        "mapsum.insert(\"columnar\", 3)\n",
        "assert mapsum.sum(\"col\") == 3\n",
        "\n",
        "mapsum.insert(\"column\", 2)\n",
        "assert mapsum.sum(\"col\") == 5"
      ],
      "metadata": {
        "id": "7arfxk2ORsA8"
      },
      "execution_count": 2,
      "outputs": []
    }
  ]
}