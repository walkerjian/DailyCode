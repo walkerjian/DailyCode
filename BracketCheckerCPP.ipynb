{
  "nbformat": 4,
  "nbformat_minor": 0,
  "metadata": {
    "colab": {
      "provenance": [],
      "authorship_tag": "ABX9TyOEHiCoBRnpA1n3w1r6B1Zf",
      "include_colab_link": true
    },
    "kernelspec": {
      "name": "python3",
      "display_name": "Python 3"
    },
    "language_info": {
      "name": "python"
    }
  },
  "cells": [
    {
      "cell_type": "markdown",
      "metadata": {
        "id": "view-in-github",
        "colab_type": "text"
      },
      "source": [
        "<a href=\"https://colab.research.google.com/github/walkerjian/DailyCode/blob/main/BracketCheckerCPP.ipynb\" target=\"_parent\"><img src=\"https://colab.research.google.com/assets/colab-badge.svg\" alt=\"Open In Colab\"/></a>"
      ]
    },
    {
      "cell_type": "code",
      "execution_count": 1,
      "metadata": {
        "colab": {
          "base_uri": "https://localhost:8080/"
        },
        "id": "0RhNXSQkqxe6",
        "outputId": "00732928-10e7-4204-e05d-2a907ba43277"
      },
      "outputs": [
        {
          "output_type": "stream",
          "name": "stdout",
          "text": [
            "Writing bracket_checker.cpp\n"
          ]
        }
      ],
      "source": [
        "%%writefile bracket_checker.cpp\n",
        "#include <iostream>\n",
        "#include <stack>\n",
        "#include <unordered_map>\n",
        "#include <vector>\n",
        "\n",
        "class BracketChecker {\n",
        "private:\n",
        "    std::unordered_map<char, char> bracket_pairs = {\n",
        "        {')', '('},\n",
        "        {'}', '{'},\n",
        "        {']', '['}\n",
        "    };\n",
        "\n",
        "public:\n",
        "    bool isBalanced(const std::string& s) {\n",
        "        std::stack<char> st;\n",
        "        for (char c : s) {\n",
        "            if (bracket_pairs.find(c) != bracket_pairs.end()) {\n",
        "                if (st.empty() || st.top() != bracket_pairs[c]) {\n",
        "                    return false;\n",
        "                }\n",
        "                st.pop();\n",
        "            } else {\n",
        "                st.push(c);\n",
        "            }\n",
        "        }\n",
        "        return st.empty();\n",
        "    }\n",
        "};\n",
        "\n",
        "int main() {\n",
        "    BracketChecker checker;\n",
        "    std::vector<std::string> test_cases = {\n",
        "        \"([])[]({})\",\n",
        "        \"([)]\",\n",
        "        \"((()\",\n",
        "        \"\",\n",
        "        \"[]\",\n",
        "        \"{}\",\n",
        "        \"()\",\n",
        "        \"([{}])\",\n",
        "        \"{[}]\",\n",
        "        \"[{]}\",\n",
        "        \"[]{}()\"\n",
        "    };\n",
        "\n",
        "    for (const std::string& test : test_cases) {\n",
        "        std::cout << \"Input: \\\"\" << test << \"\\\" - Balanced: \" << (checker.isBalanced(test) ? \"True\" : \"False\") << std::endl;\n",
        "    }\n",
        "\n",
        "    return 0;\n",
        "}\n",
        "\n"
      ]
    },
    {
      "cell_type": "code",
      "source": [
        "!g++ bracket_checker.cpp -o checker"
      ],
      "metadata": {
        "id": "x5KhtNqEroVd"
      },
      "execution_count": 2,
      "outputs": []
    },
    {
      "cell_type": "code",
      "source": [
        "!./checker"
      ],
      "metadata": {
        "colab": {
          "base_uri": "https://localhost:8080/"
        },
        "id": "zt_Vd8mdrqZh",
        "outputId": "16466b29-0e01-45e8-ea27-d43aaddb05e6"
      },
      "execution_count": 3,
      "outputs": [
        {
          "output_type": "stream",
          "name": "stdout",
          "text": [
            "Input: \"([])[]({})\" - Balanced: True\n",
            "Input: \"([)]\" - Balanced: False\n",
            "Input: \"((()\" - Balanced: False\n",
            "Input: \"\" - Balanced: True\n",
            "Input: \"[]\" - Balanced: True\n",
            "Input: \"{}\" - Balanced: True\n",
            "Input: \"()\" - Balanced: True\n",
            "Input: \"([{}])\" - Balanced: True\n",
            "Input: \"{[}]\" - Balanced: False\n",
            "Input: \"[{]}\" - Balanced: False\n",
            "Input: \"[]{}()\" - Balanced: True\n"
          ]
        }
      ]
    },
    {
      "cell_type": "code",
      "source": [
        "%%writefile bracket_checkerC.c\n",
        "#include <stdio.h>\n",
        "#include <stdbool.h>\n",
        "\n",
        "#define MAX_SIZE 1000  // Maximum size of our stack\n",
        "\n",
        "typedef struct {\n",
        "    char arr[MAX_SIZE];\n",
        "    int top;\n",
        "} Stack;\n",
        "\n",
        "void init(Stack* stack) {\n",
        "    stack->top = -1;\n",
        "}\n",
        "\n",
        "bool isEmpty(Stack* stack) {\n",
        "    return stack->top == -1;\n",
        "}\n",
        "\n",
        "void push(Stack* stack, char c) {\n",
        "    if (stack->top < MAX_SIZE - 1) {\n",
        "        stack->top++;\n",
        "        stack->arr[stack->top] = c;\n",
        "    }\n",
        "}\n",
        "\n",
        "char pop(Stack* stack) {\n",
        "    if (!isEmpty(stack)) {\n",
        "        return stack->arr[stack->top--];\n",
        "    }\n",
        "    return '\\0';  // Return null character for an empty stack\n",
        "}\n",
        "\n",
        "char getMatchingOpenBracket(char c) {\n",
        "    switch (c) {\n",
        "        case ')': return '(';\n",
        "        case '}': return '{';\n",
        "        case ']': return '[';\n",
        "        default: return '\\0';  // Return null character for non-bracket chars\n",
        "    }\n",
        "}\n",
        "\n",
        "bool isBalanced(const char* s) {\n",
        "    Stack stack;\n",
        "    init(&stack);\n",
        "\n",
        "    for (int i = 0; s[i] != '\\0'; i++) {\n",
        "        char c = s[i];\n",
        "        char matchingOpen = getMatchingOpenBracket(c);\n",
        "        if (matchingOpen) {\n",
        "            if (isEmpty(&stack) || pop(&stack) != matchingOpen) {\n",
        "                return false;\n",
        "            }\n",
        "        } else {\n",
        "            push(&stack, c);\n",
        "        }\n",
        "    }\n",
        "\n",
        "    return isEmpty(&stack);\n",
        "}\n",
        "\n",
        "int main() {\n",
        "    const char* test_cases[] = {\n",
        "        \"([])[]({})\",\n",
        "        \"([)]\",\n",
        "        \"((()\",\n",
        "        \"\",\n",
        "        \"[]\",\n",
        "        \"{}\",\n",
        "        \"()\",\n",
        "        \"([{}])\",\n",
        "        \"{[}]\",\n",
        "        \"[{]}\",\n",
        "        \"[]{}()\",\n",
        "        NULL  // Sentinel value to indicate end of test cases\n",
        "    };\n",
        "\n",
        "    for (int i = 0; test_cases[i]; i++) {\n",
        "        printf(\"Input: \\\"%s\\\" - Balanced: %s\\n\", test_cases[i], isBalanced(test_cases[i]) ? \"True\" : \"False\");\n",
        "    }\n",
        "\n",
        "    return 0;\n",
        "}\n"
      ],
      "metadata": {
        "colab": {
          "base_uri": "https://localhost:8080/"
        },
        "id": "ynEbXcshrwVi",
        "outputId": "e8c83a8d-86dc-407f-87bc-e98810d9ca11"
      },
      "execution_count": 4,
      "outputs": [
        {
          "output_type": "stream",
          "name": "stdout",
          "text": [
            "Writing bracket_checkerC.c\n"
          ]
        }
      ]
    },
    {
      "cell_type": "code",
      "source": [
        "!gcc bracket_checkerC.c -o checkerC"
      ],
      "metadata": {
        "id": "h_pbvjPzsrv0"
      },
      "execution_count": 5,
      "outputs": []
    },
    {
      "cell_type": "code",
      "source": [
        "!./checkerC"
      ],
      "metadata": {
        "colab": {
          "base_uri": "https://localhost:8080/"
        },
        "id": "Fxsuu4B2s0aT",
        "outputId": "9fd4f090-eede-4b9e-b6b2-4f3fa66b4926"
      },
      "execution_count": 6,
      "outputs": [
        {
          "output_type": "stream",
          "name": "stdout",
          "text": [
            "Input: \"([])[]({})\" - Balanced: True\n",
            "Input: \"([)]\" - Balanced: False\n",
            "Input: \"((()\" - Balanced: False\n",
            "Input: \"\" - Balanced: True\n",
            "Input: \"[]\" - Balanced: True\n",
            "Input: \"{}\" - Balanced: True\n",
            "Input: \"()\" - Balanced: True\n",
            "Input: \"([{}])\" - Balanced: True\n",
            "Input: \"{[}]\" - Balanced: False\n",
            "Input: \"[{]}\" - Balanced: False\n",
            "Input: \"[]{}()\" - Balanced: True\n"
          ]
        }
      ]
    },
    {
      "cell_type": "code",
      "source": [
        "%%writefile BracketChecker.pas\n",
        "program BracketChecker;\n",
        "\n",
        "const\n",
        "    MaxSize = 1000;  // Maximum size of our stack\n",
        "\n",
        "type\n",
        "    TStack = record\n",
        "        arr: array[1..MaxSize] of Char;\n",
        "        top: Integer;\n",
        "    end;\n",
        "\n",
        "function IsEmpty(var s: TStack): Boolean;\n",
        "begin\n",
        "    IsEmpty := s.top = 0;\n",
        "end;\n",
        "\n",
        "procedure Push(var s: TStack; c: Char);\n",
        "begin\n",
        "    if s.top < MaxSize then\n",
        "    begin\n",
        "        Inc(s.top);\n",
        "        s.arr[s.top] := c;\n",
        "    end;\n",
        "end;\n",
        "\n",
        "function Pop(var s: TStack): Char;\n",
        "begin\n",
        "    if not IsEmpty(s) then\n",
        "    begin\n",
        "        Pop := s.arr[s.top];\n",
        "        Dec(s.top);\n",
        "    end\n",
        "    else\n",
        "        Pop := #0;  // Null character\n",
        "end;\n",
        "\n",
        "function GetMatchingOpenBracket(c: Char): Char;\n",
        "begin\n",
        "    case c of\n",
        "        ')': GetMatchingOpenBracket := '(';\n",
        "        '}': GetMatchingOpenBracket := '{';\n",
        "        ']': GetMatchingOpenBracket := '[';\n",
        "    else\n",
        "        GetMatchingOpenBracket := #0;\n",
        "    end;\n",
        "end;\n",
        "\n",
        "function IsBalanced(s: String): Boolean;\n",
        "var\n",
        "    stack: TStack;\n",
        "    i: Integer;\n",
        "    c, matchingOpen: Char;\n",
        "begin\n",
        "    stack.top := 0;\n",
        "    for i := 1 to Length(s) do\n",
        "    begin\n",
        "        c := s[i];\n",
        "        matchingOpen := GetMatchingOpenBracket(c);\n",
        "        if matchingOpen <> #0 then\n",
        "        begin\n",
        "            if IsEmpty(stack) or (Pop(stack) <> matchingOpen) then\n",
        "                Exit(False);\n",
        "        end\n",
        "        else\n",
        "            Push(stack, c);\n",
        "    end;\n",
        "    IsBalanced := IsEmpty(stack);\n",
        "end;\n",
        "\n",
        "var\n",
        "    test_cases: array[1..11] of String;\n",
        "    i: Integer;\n",
        "begin\n",
        "    test_cases[1] := '([])[]({})';\n",
        "    test_cases[2] := '([)]';\n",
        "    test_cases[3] := '((()';\n",
        "    test_cases[4] := '';\n",
        "    test_cases[5] := '[]';\n",
        "    test_cases[6] := '{}';\n",
        "    test_cases[7] := '()';\n",
        "    test_cases[8] := '([{}])';\n",
        "    test_cases[9] := '{[}]';\n",
        "    test_cases[10]:= '[{]}';\n",
        "    test_cases[11]:= '[]{}()';\n",
        "\n",
        "    for i := 1 to 11 do\n",
        "        WriteLn('Input: \"', test_cases[i], '\" - Balanced: ', IsBalanced(test_cases[i]));\n",
        "end."
      ],
      "metadata": {
        "colab": {
          "base_uri": "https://localhost:8080/"
        },
        "id": "ryG7mYxLs31U",
        "outputId": "c57f9e3b-a026-4012-bad8-efbac717b921"
      },
      "execution_count": 17,
      "outputs": [
        {
          "output_type": "stream",
          "name": "stdout",
          "text": [
            "Overwriting BracketChecker.pas\n"
          ]
        }
      ]
    },
    {
      "cell_type": "code",
      "source": [
        "!fpc BracketChecker.pas"
      ],
      "metadata": {
        "colab": {
          "base_uri": "https://localhost:8080/"
        },
        "id": "B82BE9SOtri8",
        "outputId": "7738bc20-39cf-4c67-a3a4-4a4643ccdce3"
      },
      "execution_count": 18,
      "outputs": [
        {
          "output_type": "stream",
          "name": "stdout",
          "text": [
            "Free Pascal Compiler version 3.2.2+dfsg-9ubuntu1 [2022/04/11] for x86_64\n",
            "Copyright (c) 1993-2021 by Florian Klaempfl and others\n",
            "Target OS: Linux for x86-64\n",
            "Compiling BracketChecker.pas\n",
            "Linking BracketChecker\n",
            "88 lines compiled, 0.1 sec\n"
          ]
        }
      ]
    },
    {
      "cell_type": "code",
      "source": [
        "!./BracketChecker"
      ],
      "metadata": {
        "colab": {
          "base_uri": "https://localhost:8080/"
        },
        "id": "jgajnA3QuDBr",
        "outputId": "0685d1ba-83be-4dd1-e67e-c24d6530ab3d"
      },
      "execution_count": 19,
      "outputs": [
        {
          "output_type": "stream",
          "name": "stdout",
          "text": [
            "Input: \"([])[]({})\" - Balanced: TRUE\n",
            "Input: \"([)]\" - Balanced: FALSE\n",
            "Input: \"((()\" - Balanced: FALSE\n",
            "Input: \"\" - Balanced: TRUE\n",
            "Input: \"[]\" - Balanced: TRUE\n",
            "Input: \"{}\" - Balanced: TRUE\n",
            "Input: \"()\" - Balanced: TRUE\n",
            "Input: \"([{}])\" - Balanced: TRUE\n",
            "Input: \"{[}]\" - Balanced: FALSE\n",
            "Input: \"[{]}\" - Balanced: FALSE\n",
            "Input: \"[]{}()\" - Balanced: TRUE\n"
          ]
        }
      ]
    },
    {
      "cell_type": "code",
      "source": [],
      "metadata": {
        "id": "Td2ZySD9vmOr"
      },
      "execution_count": null,
      "outputs": []
    }
  ]
}