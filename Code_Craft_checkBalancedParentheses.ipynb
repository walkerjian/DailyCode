{
  "nbformat": 4,
  "nbformat_minor": 0,
  "metadata": {
    "colab": {
      "provenance": [],
      "authorship_tag": "ABX9TyOsHx5y8VYT0kvD4nh2SZ1F",
      "include_colab_link": true
    },
    "kernelspec": {
      "name": "python3",
      "display_name": "Python 3"
    },
    "language_info": {
      "name": "python"
    }
  },
  "cells": [
    {
      "cell_type": "markdown",
      "metadata": {
        "id": "view-in-github",
        "colab_type": "text"
      },
      "source": [
        "<a href=\"https://colab.research.google.com/github/walkerjian/DailyCode/blob/main/Code_Craft_checkBalancedParentheses.ipynb\" target=\"_parent\"><img src=\"https://colab.research.google.com/assets/colab-badge.svg\" alt=\"Open In Colab\"/></a>"
      ]
    },
    {
      "cell_type": "markdown",
      "source": [
        "##Problem:\n",
        "You're given a string consisting solely of `(, ), and *`. `*` can represent either a `(, )`, or an `empty string`. Determine whether the parentheses are balanced.\n",
        "For example, `(()*` and `(*)` are balanced. `)*(` is not balanced."
      ],
      "metadata": {
        "id": "H3NJhuzfDqqX"
      }
    },
    {
      "cell_type": "markdown",
      "source": [
        "##Solution:\n",
        "To determine if the parentheses are balanced given the rules, we can use a stack-based approach with some modifications to handle the `*` characters, which can represent `(`, `)`, or an empty string. However, a more efficient way without explicitly using a stack involves counting the balance of parentheses and considering the flexibility introduced by `*`.\n",
        "\n",
        "Here's the logic we'll follow:\n",
        "1. Iterate through each character in the string.\n",
        "2. Use two counters: `low` and `high`. `low` represents the minimum number of open parentheses needed (assuming `*` are used as `)` or ignored when possible), and `high` represents the maximum number of open parentheses (assuming `*` are used as `(` when possible).\n",
        "3. When encountering `(`, both `low` and `high` are incremented since it increases the number of open parentheses.\n",
        "4. When encountering `)`, decrease both `low` and `high` since it closes an open parenthesis. However, ensure `low` doesn't go below 0.\n",
        "5. When encountering `*`, `low` can decrease (if `*` is acting as `)`) and `high` can increase (if `*` is acting as `(`). Again, ensure `low` doesn't go below 0 because `*` can also represent an empty string.\n",
        "6. If at any point `high` becomes negative, the string cannot be balanced because there are more closing parentheses than opening ones, even with the flexibility of `*`.\n",
        "7. After processing all characters, if `low` is 0, the string is balanced because we can account for all open parentheses; otherwise, it's not balanced.\n"
      ],
      "metadata": {
        "id": "FS6FIB8mD_66"
      }
    },
    {
      "cell_type": "markdown",
      "source": [
        "##Implementation:\n",
        "Here's the implementation of this logic in Python:"
      ],
      "metadata": {
        "id": "e4MWCE_iEJHS"
      }
    },
    {
      "cell_type": "code",
      "execution_count": null,
      "metadata": {
        "id": "J3OtZQ3bb1Kz"
      },
      "outputs": [],
      "source": [
        "def checkBalancedParentheses(s):\n",
        "    low = high = 0\n",
        "    for char in s:\n",
        "        if char == '(':\n",
        "            low += 1\n",
        "            high += 1\n",
        "        elif char == ')':\n",
        "            if low > 0:\n",
        "                low -= 1\n",
        "            high -= 1\n",
        "        elif char == '*':\n",
        "            if low > 0:\n",
        "                low -= 1\n",
        "            high += 1\n",
        "\n",
        "        if high < 0:\n",
        "            return False\n",
        "\n",
        "    return low == 0"
      ]
    },
    {
      "cell_type": "markdown",
      "source": [
        "##Testing:\n"
      ],
      "metadata": {
        "id": "TovMiLGoEsFS"
      }
    },
    {
      "cell_type": "code",
      "source": [
        "# Provided Examples\n",
        "print(checkBalancedParentheses(\"(()*\"))  # True\n",
        "print(checkBalancedParentheses(\"(*)\"))   # True\n",
        "print(checkBalancedParentheses(\")*(\"))   # False"
      ],
      "metadata": {
        "colab": {
          "base_uri": "https://localhost:8080/"
        },
        "id": "Z-nCGUnoEybC",
        "outputId": "4842fd0c-429c-40aa-8f35-d0f54cd907c1"
      },
      "execution_count": 2,
      "outputs": [
        {
          "output_type": "stream",
          "name": "stdout",
          "text": [
            "True\n",
            "True\n",
            "False\n"
          ]
        }
      ]
    },
    {
      "cell_type": "markdown",
      "source": [
        "##Conclusion:\n",
        "This algorithm efficiently checks the balance of parentheses with the versatility of `*` characters by keeping track of the range of possible numbers of open parentheses (`low` to `high`). If we can end with `low` at 0, then there's a configuration of `*` that makes the parentheses balanced."
      ],
      "metadata": {
        "id": "ebervhjdEOxy"
      }
    }
  ]
}