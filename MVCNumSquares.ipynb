{
  "nbformat": 4,
  "nbformat_minor": 0,
  "metadata": {
    "colab": {
      "provenance": [],
      "authorship_tag": "ABX9TyMYUjJxNTZfysax6uVY7aOL",
      "include_colab_link": true
    },
    "kernelspec": {
      "name": "python3",
      "display_name": "Python 3"
    },
    "language_info": {
      "name": "python"
    }
  },
  "cells": [
    {
      "cell_type": "markdown",
      "metadata": {
        "id": "view-in-github",
        "colab_type": "text"
      },
      "source": [
        "<a href=\"https://colab.research.google.com/github/walkerjian/DailyCode/blob/main/MVCNumSquares.ipynb\" target=\"_parent\"><img src=\"https://colab.research.google.com/assets/colab-badge.svg\" alt=\"Open In Colab\"/></a>"
      ]
    },
    {
      "cell_type": "code",
      "execution_count": 1,
      "metadata": {
        "colab": {
          "base_uri": "https://localhost:8080/"
        },
        "id": "__YYMKw5qKpW",
        "outputId": "e2564e9c-ac2f-4f3b-a698-516b7624d154"
      },
      "outputs": [
        {
          "output_type": "stream",
          "name": "stdout",
          "text": [
            "Test for 13: Passed. 2 squares [2, 3], which sum to 13\n",
            "Test for 13: Passed. Expected ValueError for invalid input\n",
            "Test for 27: Passed. 3 squares [1, 1, 5], which sum to 27\n",
            "Test for 27: Passed. Expected ValueError for invalid input\n",
            "Test for 1: Passed. 1 squares [1], which sum to 1\n",
            "Test for 1: Passed. Expected ValueError for invalid input\n",
            "Test for 12: Passed. 3 squares [2, 2, 2], which sum to 12\n",
            "Test for 12: Passed. Expected ValueError for invalid input\n",
            "Test for 25: Passed. 1 squares [5], which sum to 25\n",
            "Test for 25: Passed. Expected ValueError for invalid input\n",
            "Test for 999: Passed. 4 squares [1, 1, 6, 31], which sum to 999\n",
            "Test for 999: Passed. Expected ValueError for invalid input\n",
            "Test for 1024: Passed. 1 squares [32], which sum to 1024\n",
            "Test for 1024: Passed. Expected ValueError for invalid input\n",
            "Test for -1: Passed. Expected ValueError for invalid input\n",
            "Test for 0: Passed. Expected ValueError for invalid input\n",
            "Test for 2.5: Passed. Expected ValueError for invalid input\n"
          ]
        }
      ],
      "source": [
        "\"\"\"\n",
        "Problem Statement:\n",
        "Given a positive integer n, find the smallest number of squared integers which sum to n,\n",
        "and show those numbers. For example, given n = 13, return 2 since 13 = 9 + 4 = 3^2 + 2^2.\n",
        "Given n = 27, return 3 since 27 = 9 + 9 + 9 = 3^2 + 3^2 + 3^2.\n",
        "\"\"\"\n",
        "\n",
        "# Model\n",
        "class NumSquares:\n",
        "    \"\"\"\n",
        "    A class to represent the problem of finding the minimum number of squares that sum to n.\n",
        "\n",
        "    ...\n",
        "\n",
        "    Attributes\n",
        "    ----------\n",
        "    n : int\n",
        "        the target number\n",
        "    num : int\n",
        "        the minimum number of squares that sum to n\n",
        "    squares : list of int\n",
        "        the squares that sum to n\n",
        "\n",
        "    Methods\n",
        "    -------\n",
        "    calculate_num_squares():\n",
        "        Calculates the minimum number of squares that sum to n.\n",
        "    \"\"\"\n",
        "\n",
        "    def __init__(self, n):\n",
        "        self.n = n\n",
        "        self.num, self.squares = self.calculate_num_squares()\n",
        "\n",
        "    def calculate_num_squares(self):\n",
        "        if not isinstance(self.n, int) or self.n <= 0:\n",
        "            raise ValueError(\"Input must be a positive integer\")\n",
        "\n",
        "        dp = [float('inf')] * (self.n + 1)\n",
        "        dp[0] = 0\n",
        "\n",
        "        for i in range(1, self.n + 1):\n",
        "            j = 1\n",
        "            while j * j <= i:\n",
        "                dp[i] = min(dp[i], dp[i - j * j] + 1)\n",
        "                j += 1\n",
        "\n",
        "        squares = []\n",
        "        while self.n > 0:\n",
        "            for i in range(int(self.n**0.5), 0, -1):\n",
        "                if self.n >= i*i and dp[self.n - i*i] == dp[self.n] - 1:\n",
        "                    squares.append(i)\n",
        "                    self.n -= i*i\n",
        "                    break\n",
        "\n",
        "        squares.reverse()\n",
        "\n",
        "        return len(squares), squares\n",
        "\n",
        "\n",
        "# Controller\n",
        "def test_num_squares(test_cases):\n",
        "    \"\"\"\n",
        "    This function takes a list of test cases and verifies the correct results of the NumSquares class for each test case.\n",
        "\n",
        "    Parameters:\n",
        "    test_cases (list of int): List of integers to be tested.\n",
        "    \"\"\"\n",
        "    for i in test_cases:\n",
        "        try:\n",
        "            num_squares = NumSquares(i)\n",
        "            print(f\"Test for {i}: Passed. {num_squares.num} squares {num_squares.squares}, which sum to {sum([x**2 for x in num_squares.squares])}\")\n",
        "            assert sum([x**2 for x in num_squares.squares]) == i, f\"Test failed for {i}: squares do not sum to original number\"\n",
        "            for j in range(1, int(i**0.5)+1):\n",
        "                if i - j*j >= 0:\n",
        "                    remaining, _ = NumSquares(i - j*j).calculate_num_squares()\n",
        "                    assert num_squares.num <= remaining + 1, f\"Test failed for {i}: not minimum number of squares\"\n",
        "        except ValueError:\n",
        "            print(f\"Test for {i}: Passed. Expected ValueError for invalid input\")\n",
        "            pass\n",
        "\n",
        "\n",
        "# View\n",
        "\"\"\"\n",
        "The following test cases are used to verify the correct results of the NumSquares class.\n",
        "\n",
        "Test Cases:\n",
        "13: Expected result is 2 squares (3, 2), which sum to 13.\n",
        "27: Expected result is 3 squares (3, 3, 3), which sum to 27.\n",
        "1: Expected result is 1 square (1), which sum to 1.\n",
        "12: Expected result is 3 squares (2, 2, 2), which sum to 12.\n",
        "25: Expected result is 1 square (5), which sum to 25.\n",
        "999: Expected result is 3 squares (4, 10, 31), which sum to 999.\n",
        "1024: Expected result is 1 square (32), which sum to 1024.\n",
        "-1: Expected ValueError for invalid input.\n",
        "0: Expected ValueError for invalid input.\n",
        "2.5: Expected ValueError for invalid input.\n",
        "\"\"\"\n",
        "test_cases = [13, 27, 1, 12, 25, 999, 1024, -1, 0, 2.5]\n",
        "test_num_squares(test_cases)\n"
      ]
    }
  ]
}