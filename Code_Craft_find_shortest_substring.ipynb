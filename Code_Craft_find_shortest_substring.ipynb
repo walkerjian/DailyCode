{
  "nbformat": 4,
  "nbformat_minor": 0,
  "metadata": {
    "colab": {
      "provenance": [],
      "authorship_tag": "ABX9TyNs3vN/rzZT8/l/YsK9AObS",
      "include_colab_link": true
    },
    "kernelspec": {
      "name": "python3",
      "display_name": "Python 3"
    },
    "language_info": {
      "name": "python"
    }
  },
  "cells": [
    {
      "cell_type": "markdown",
      "metadata": {
        "id": "view-in-github",
        "colab_type": "text"
      },
      "source": [
        "<a href=\"https://colab.research.google.com/github/walkerjian/DailyCode/blob/main/Code_Craft_find_shortest_substring.ipynb\" target=\"_parent\"><img src=\"https://colab.research.google.com/assets/colab-badge.svg\" alt=\"Open In Colab\"/></a>"
      ]
    },
    {
      "cell_type": "markdown",
      "source": [
        "##Problem:\n",
        "Given a string and a set of characters, return the shortest substring containing all the characters in the set.\n",
        "\n",
        "For example, given the string \"figehaeci\" and the set of characters {a, e, i}, you should return \"aeci\".\n",
        "\n",
        "If there is no substring containing all the characters in the set, return null."
      ],
      "metadata": {
        "id": "E07geJSumrRA"
      }
    },
    {
      "cell_type": "markdown",
      "source": [
        "##Solution:\n"
      ],
      "metadata": {
        "id": "Ys3t8DhFoDSU"
      }
    },
    {
      "cell_type": "code",
      "source": [
        "def find_shortest_substring(s, char_set):\n",
        "    if not char_set:\n",
        "        return None\n",
        "\n",
        "    char_count = {char: 0 for char in char_set}\n",
        "    required_char_count = len(char_set)\n",
        "    formed = 0\n",
        "    left = 0\n",
        "    min_length = float('inf')\n",
        "    min_substring = None\n",
        "\n",
        "    for right in range(len(s)):\n",
        "        if s[right] in char_count:\n",
        "            char_count[s[right]] += 1\n",
        "            if char_count[s[right]] == 1:\n",
        "                formed += 1\n",
        "\n",
        "        while formed == required_char_count:\n",
        "            if right - left + 1 < min_length:\n",
        "                min_length = right - left + 1\n",
        "                min_substring = s[left:right + 1]\n",
        "\n",
        "            if s[left] in char_count:\n",
        "                char_count[s[left]] -= 1\n",
        "                if char_count[s[left]] == 0:\n",
        "                    formed -= 1\n",
        "            left += 1\n",
        "\n",
        "    return min_substring\n"
      ],
      "metadata": {
        "id": "N67IoS7_musP"
      },
      "execution_count": 3,
      "outputs": []
    },
    {
      "cell_type": "code",
      "source": [
        "def process_input(string, characters):\n",
        "    return find_shortest_substring(string, set(characters))\n"
      ],
      "metadata": {
        "id": "iC8qkXtWmx58"
      },
      "execution_count": 4,
      "outputs": []
    },
    {
      "cell_type": "code",
      "source": [
        "def display_result(result):\n",
        "    if result:\n",
        "        print(f\"The shortest substring is: {result}\")\n",
        "    else:\n",
        "        print(\"No substring found containing all the characters in the set.\")\n"
      ],
      "metadata": {
        "id": "PfCPUiHdm15I"
      },
      "execution_count": 5,
      "outputs": []
    },
    {
      "cell_type": "code",
      "source": [
        "test_cases = [\n",
        "    (\"figehaeci\", \"aei\"),  # Example case\n",
        "    (\"thisisateststring\", \"tist\"),  # Complex case\n",
        "    (\"abc\", \"d\"),  # No possible substring\n",
        "    (\"\", \"\"),  # Empty string and empty set\n",
        "]\n",
        "\n",
        "for string, characters in test_cases:\n",
        "    result = process_input(string, characters)\n",
        "    print(f\"Input: '{string}' with characters '{characters}'\")\n",
        "    display_result(result)\n",
        "    print(\"---\")\n"
      ],
      "metadata": {
        "colab": {
          "base_uri": "https://localhost:8080/"
        },
        "id": "9dxyKXV1m4MA",
        "outputId": "281af608-8a57-4bfa-b4b7-a09df13fd616"
      },
      "execution_count": 6,
      "outputs": [
        {
          "output_type": "stream",
          "name": "stdout",
          "text": [
            "Input: 'figehaeci' with characters 'aei'\n",
            "The shortest substring is: aeci\n",
            "---\n",
            "Input: 'thisisateststring' with characters 'tist'\n",
            "The shortest substring is: this\n",
            "---\n",
            "Input: 'abc' with characters 'd'\n",
            "No substring found containing all the characters in the set.\n",
            "---\n",
            "Input: '' with characters ''\n",
            "No substring found containing all the characters in the set.\n",
            "---\n"
          ]
        }
      ]
    }
  ]
}