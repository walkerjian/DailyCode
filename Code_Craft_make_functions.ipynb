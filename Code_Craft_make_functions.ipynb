{
  "nbformat": 4,
  "nbformat_minor": 0,
  "metadata": {
    "colab": {
      "provenance": [],
      "authorship_tag": "ABX9TyMPZcGKR79jzFNu4hoi25n7",
      "include_colab_link": true
    },
    "kernelspec": {
      "name": "python3",
      "display_name": "Python 3"
    },
    "language_info": {
      "name": "python"
    }
  },
  "cells": [
    {
      "cell_type": "markdown",
      "metadata": {
        "id": "view-in-github",
        "colab_type": "text"
      },
      "source": [
        "<a href=\"https://colab.research.google.com/github/walkerjian/DailyCode/blob/main/Code_Craft_make_functions.ipynb\" target=\"_parent\"><img src=\"https://colab.research.google.com/assets/colab-badge.svg\" alt=\"Open In Colab\"/></a>"
      ]
    },
    {
      "cell_type": "markdown",
      "source": [
        "##Problem:\n",
        "What will this code print out?\n",
        "\n",
        "```\n",
        "def make_functions():\n",
        "    flist = []\n",
        "\n",
        "    for i in [1, 2, 3]:\n",
        "        def print_i():\n",
        "            print(i)\n",
        "        flist.append(print_i)\n",
        "\n",
        "    return flist\n",
        "\n",
        "functions = make_functions()\n",
        "for f in functions:\n",
        "    f()\n",
        "```\n",
        "\n",
        "How can we make it print out what we apparently want?\n",
        "The given code defines a list of functions, where each function is intended to print the value of `i` at the time the function was defined within a loop. However, due to Python's handling of closures, all the functions in `flist` will actually print the last value of `i` in the loop, which is `3`. This happens because the functions retain a reference to `i`, not its value at the time the function was created. Thus, when each function is called, they all refer to the same `i`, which by the end of the loop is `3`.\n",
        "\n",
        "Here's the expected output when the code is run:\n",
        "\n",
        "```\n",
        "3\n",
        "3\n",
        "3\n",
        "```\n"
      ],
      "metadata": {
        "id": "2lWyrXjB8EeD"
      }
    },
    {
      "cell_type": "code",
      "source": [
        "def make_functions():\n",
        "    flist = []\n",
        "\n",
        "    for i in [1, 2, 3]:\n",
        "        def print_i():\n",
        "            print(i)\n",
        "        flist.append(print_i)\n",
        "\n",
        "    return flist\n",
        "\n",
        "functions = make_functions()\n",
        "for f in functions:\n",
        "    f()\n"
      ],
      "metadata": {
        "colab": {
          "base_uri": "https://localhost:8080/"
        },
        "id": "nt7RCkjk65rP",
        "outputId": "5b50ffd1-2996-4f97-c0fc-23c4793fb185"
      },
      "execution_count": 3,
      "outputs": [
        {
          "output_type": "stream",
          "name": "stdout",
          "text": [
            "3\n",
            "3\n",
            "3\n"
          ]
        }
      ]
    },
    {
      "cell_type": "markdown",
      "source": [
        "##Solution:\n",
        "To make it print out the values of `i` as apparently intended (`1`, `2`, `3`), you can modify the function definition to bind the current value of `i` at each iteration of the loop to the function's scope. This can be achieved by using a default argument in the function definition. Default arguments are evaluated at the point of function definition in the defining scope, so they can be used to \"lock in\" the value of `i` that exists at each iteration of the loop:\n",
        "\n",
        "```python\n",
        "def make_functions():\n",
        "    flist = []\n",
        "\n",
        "    for i in [1, 2, 3]:\n",
        "        def print_i(i=i):  # Using default argument to capture the current value of i\n",
        "            print(i)\n",
        "        flist.append(print_i)\n",
        "\n",
        "    return flist\n",
        "\n",
        "functions = make_functions()\n",
        "for f in functions:\n",
        "    f()\n",
        "```\n",
        "\n",
        "This modification ensures that each `print_i` function in the list has its own `i` value corresponding to the loop iteration when it was created, resulting in the output:\n",
        "\n",
        "```\n",
        "1\n",
        "2\n",
        "3\n",
        "```\n"
      ],
      "metadata": {
        "id": "jIohycTB8Hjb"
      }
    },
    {
      "cell_type": "markdown",
      "source": [
        "##Implementation:\n"
      ],
      "metadata": {
        "id": "pkWuQrLB8K8H"
      }
    },
    {
      "cell_type": "code",
      "execution_count": 1,
      "metadata": {
        "id": "TIIt0l_k7Oi1",
        "colab": {
          "base_uri": "https://localhost:8080/"
        },
        "outputId": "be8c1a42-2ff9-46d7-c78b-a7098f2a8f38"
      },
      "outputs": [
        {
          "output_type": "stream",
          "name": "stdout",
          "text": [
            "1\n",
            "2\n",
            "3\n"
          ]
        }
      ],
      "source": [
        "def make_functions():\n",
        "    flist = []\n",
        "\n",
        "    for i in [1, 2, 3]:\n",
        "        def print_i(i=i):  # Using default argument to capture the current value of i\n",
        "            print(i)\n",
        "        flist.append(print_i)\n",
        "\n",
        "    return flist\n",
        "\n",
        "functions = make_functions()\n",
        "for f in functions:\n",
        "    f()\n"
      ]
    }
  ]
}