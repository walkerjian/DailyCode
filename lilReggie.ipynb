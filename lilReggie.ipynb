{
  "nbformat": 4,
  "nbformat_minor": 0,
  "metadata": {
    "colab": {
      "provenance": [],
      "authorship_tag": "ABX9TyO3CGlqu5ch1HTL0MWd23aS",
      "include_colab_link": true
    },
    "kernelspec": {
      "name": "python3",
      "display_name": "Python 3"
    },
    "language_info": {
      "name": "python"
    }
  },
  "cells": [
    {
      "cell_type": "markdown",
      "metadata": {
        "id": "view-in-github",
        "colab_type": "text"
      },
      "source": [
        "<a href=\"https://colab.research.google.com/github/walkerjian/DailyCode/blob/main/lilReggie.ipynb\" target=\"_parent\"><img src=\"https://colab.research.google.com/assets/colab-badge.svg\" alt=\"Open In Colab\"/></a>"
      ]
    },
    {
      "cell_type": "code",
      "execution_count": 1,
      "metadata": {
        "colab": {
          "base_uri": "https://localhost:8080/"
        },
        "id": "0moXvf2ZfwRw",
        "outputId": "fc5bb10c-3c98-41b6-9c71-70b195914be0"
      },
      "outputs": [
        {
          "output_type": "stream",
          "name": "stdout",
          "text": [
            "Test 1: is_match('ray', 'ra.') = True\n",
            "Test 2: is_match('raymond', 'ra.') = False\n",
            "Test 3: is_match('chat', '.*at') = True\n",
            "Test 4: is_match('chats', '.*at') = False\n",
            "Test 5: is_match('', '.*') = True\n",
            "Test 6: is_match('a', '.*') = True\n",
            "Test 7: is_match('aa', 'a*') = True\n",
            "Test 8: is_match('mississippi', 'mis*is*p*.') = False\n",
            "Test 9: is_match('abcd', 'd*') = False\n",
            "Test 10: is_match('abcd', 'a.*d') = True\n",
            "Test 11: is_match('abcd', '.*e') = False\n"
          ]
        }
      ],
      "source": [
        "def is_match(s: str, p: str) -> bool:\n",
        "    \"\"\"\n",
        "    Check if string `s` matches pattern `p`.\n",
        "\n",
        "    The pattern can contain:\n",
        "    - . (period) which matches any single character\n",
        "    - * (asterisk) which matches zero or more of the preceding element\n",
        "\n",
        "    Parameters:\n",
        "    - s (str): The input string.\n",
        "    - p (str): The pattern to match against.\n",
        "\n",
        "    Returns:\n",
        "    - bool: True if `s` matches `p`, False otherwise.\n",
        "    \"\"\"\n",
        "\n",
        "    # If the pattern is empty, return True if the string is also empty, otherwise False.\n",
        "    if not p:\n",
        "        return not s\n",
        "\n",
        "    # First character matches if the first character of both string and pattern are the same, or the pattern's\n",
        "    # first character is a period.\n",
        "    first_char_matches = bool(s) and (s[0] == p[0] or p[0] == '.')\n",
        "\n",
        "    # If the pattern has a '*' as its second character.\n",
        "    if len(p) >= 2 and p[1] == '*':\n",
        "        # We check in two ways:\n",
        "        # 1. Consider '*' as representing zero occurrence of the preceding element.\n",
        "        # 2. Consider '*' as representing one or more occurrence of the preceding element.\n",
        "        return (is_match(s, p[2:]) or\n",
        "                (first_char_matches and is_match(s[1:], p)))\n",
        "\n",
        "    # If there's no '*' as the second character, simply move to the next character in both string and pattern.\n",
        "    return first_char_matches and is_match(s[1:], p[1:])\n",
        "def test_harness(test_cases: list):\n",
        "    \"\"\"\n",
        "    Test harness for the is_match function.\n",
        "\n",
        "    Parameters:\n",
        "    - test_cases (list): A list of tuples, where each tuple has three elements:\n",
        "                         1. The input string.\n",
        "                         2. The pattern to match against.\n",
        "                         3. Expected outcome (True/False).\n",
        "\n",
        "    Returns:\n",
        "    - None. Outputs the test results.\n",
        "    \"\"\"\n",
        "    for idx, (s, p, expected) in enumerate(test_cases, 1):\n",
        "        try:\n",
        "            # Assert the output of is_match function against the expected outcome.\n",
        "            assert is_match(s, p) == expected\n",
        "            print(f\"Test {idx}: is_match({s!r}, {p!r}) = {expected}\")\n",
        "        except AssertionError:\n",
        "            print(f\"Test {idx} FAILED: Expected is_match({s!r}, {p!r}) to be {expected}, but got {not expected}.\")\n",
        "\n",
        "# Define test cases\n",
        "test_cases = [\n",
        "    # Given test cases\n",
        "    (\"ray\", \"ra.\", True),\n",
        "    (\"raymond\", \"ra.\", False),\n",
        "    (\"chat\", \".*at\", True),\n",
        "    (\"chats\", \".*at\", False),\n",
        "    # Additional test cases\n",
        "    (\"\", \".*\", True),\n",
        "    (\"a\", \".*\", True),\n",
        "    (\"aa\", \"a*\", True),\n",
        "    (\"mississippi\", \"mis*is*p*.\", False),\n",
        "    (\"abcd\", \"d*\", False),\n",
        "    (\"abcd\", \"a.*d\", True),\n",
        "    (\"abcd\", \".*e\", False)\n",
        "]\n",
        "\n",
        "# Run the test harness\n",
        "test_harness(test_cases)\n"
      ]
    },
    {
      "cell_type": "code",
      "source": [
        "%%writefile regex_match.cpp\n",
        "#include <iostream>\n",
        "#include <stdexcept>\n",
        "#include <vector>\n",
        "\n",
        "// Function to match regular expression\n",
        "bool isMatch(const std::string& s, const std::string& p) {\n",
        "    if (p.empty()) return s.empty();\n",
        "\n",
        "    bool first_match = (!s.empty() &&\n",
        "                        (s[0] == p[0] || p[0] == '.'));\n",
        "\n",
        "    if (p.size() >= 2 && p[1] == '*') {\n",
        "        return (isMatch(s, p.substr(2)) ||\n",
        "                (first_match && isMatch(s.substr(1), p)));\n",
        "    } else {\n",
        "        return first_match && isMatch(s.substr(1), p.substr(1));\n",
        "    }\n",
        "}\n",
        "\n",
        "// Test harness\n",
        "void test() {\n",
        "    struct TestCase {\n",
        "        std::string s;\n",
        "        std::string p;\n",
        "        bool expected;\n",
        "    };\n",
        "\n",
        "    std::vector<TestCase> testCases = {\n",
        "        {\"ray\", \"ra.\", true},\n",
        "        {\"raymond\", \"ra.\", false},\n",
        "        {\"chat\", \".*at\", true},\n",
        "        {\"chats\", \".*at\", false},\n",
        "        {\"a\", \".\", true},\n",
        "        {\"ab\", \".\", false},\n",
        "        {\"aa\", \"a*\", true},\n",
        "        {\"aab\", \"c*a*b\", true},\n",
        "        {\"mississippi\", \"mis*is*p*.\", false},\n",
        "        {\"abcd\", \"d*\", false},\n",
        "        {\"ab\", \"..\", true},\n",
        "        {\"aab\", \".*\", true},\n",
        "        {\"\", \"a*\", true},\n",
        "        {\"abc\", \"a..\", true},\n",
        "        {\"abcd\", \"a.*d\", true},\n",
        "        {\"abcd\", \".*c.*\", true},\n",
        "        {\"ab\", \".*c\", false},\n",
        "        {\"ab\", \"c*\", false}\n",
        "    };\n",
        "\n",
        "    int testNumber = 1;\n",
        "    for (const auto& testCase : testCases) {\n",
        "        try {\n",
        "            bool result = isMatch(testCase.s, testCase.p);\n",
        "            std::cout << \"Test #\" << testNumber++ << \": \";\n",
        "            std::cout << \"Input: \\\"\" << testCase.s << \"\\\" Pattern: \\\"\" << testCase.p << \"\\\" Result: \" << (result ? \"true\" : \"false\");\n",
        "            if (result == testCase.expected) {\n",
        "                std::cout << \" (PASSED)\";\n",
        "            } else {\n",
        "                std::cout << \" (FAILED)\";\n",
        "            }\n",
        "            std::cout << \" Expected: \" << (testCase.expected ? \"true\" : \"false\") << std::endl;\n",
        "        } catch (const std::exception& e) {\n",
        "            std::cerr << \"Exception in Test #\" << testNumber << \": \" << e.what() << std::endl;\n",
        "        }\n",
        "    }\n",
        "}\n",
        "\n",
        "int main() {\n",
        "    test();\n",
        "    return 0;\n",
        "}"
      ],
      "metadata": {
        "colab": {
          "base_uri": "https://localhost:8080/"
        },
        "id": "wj5STW86lMpM",
        "outputId": "06ce1ad5-d8d3-4b17-f573-c7f31a437be4"
      },
      "execution_count": 17,
      "outputs": [
        {
          "output_type": "stream",
          "name": "stdout",
          "text": [
            "Overwriting regex_match.cpp\n"
          ]
        }
      ]
    },
    {
      "cell_type": "code",
      "source": [
        "!g++ -o regex_match regex_match.cpp"
      ],
      "metadata": {
        "id": "6Qb_vRRtld1s"
      },
      "execution_count": 18,
      "outputs": []
    },
    {
      "cell_type": "code",
      "source": [
        "!./regex_match"
      ],
      "metadata": {
        "colab": {
          "base_uri": "https://localhost:8080/"
        },
        "id": "YF4ZnSrxnhQB",
        "outputId": "b1393044-caad-4731-e544-86b1290c051d"
      },
      "execution_count": 19,
      "outputs": [
        {
          "output_type": "stream",
          "name": "stdout",
          "text": [
            "Test #1: Input: \"ray\" Pattern: \"ra.\" Result: true (PASSED) Expected: true\n",
            "Test #2: Input: \"raymond\" Pattern: \"ra.\" Result: false (PASSED) Expected: false\n",
            "Test #3: Input: \"chat\" Pattern: \".*at\" Result: true (PASSED) Expected: true\n",
            "Test #4: Input: \"chats\" Pattern: \".*at\" Result: false (PASSED) Expected: false\n",
            "Test #5: Input: \"a\" Pattern: \".\" Result: true (PASSED) Expected: true\n",
            "Test #6: Input: \"ab\" Pattern: \".\" Result: false (PASSED) Expected: false\n",
            "Test #7: Input: \"aa\" Pattern: \"a*\" Result: true (PASSED) Expected: true\n",
            "Test #8: Input: \"aab\" Pattern: \"c*a*b\" Result: true (PASSED) Expected: true\n",
            "Test #9: Input: \"mississippi\" Pattern: \"mis*is*p*.\" Result: false (PASSED) Expected: false\n",
            "Test #10: Input: \"abcd\" Pattern: \"d*\" Result: false (PASSED) Expected: false\n",
            "Test #11: Input: \"ab\" Pattern: \"..\" Result: true (PASSED) Expected: true\n",
            "Test #12: Input: \"aab\" Pattern: \".*\" Result: true (PASSED) Expected: true\n",
            "Test #13: Input: \"\" Pattern: \"a*\" Result: true (PASSED) Expected: true\n",
            "Test #14: Input: \"abc\" Pattern: \"a..\" Result: true (PASSED) Expected: true\n",
            "Test #15: Input: \"abcd\" Pattern: \"a.*d\" Result: true (PASSED) Expected: true\n",
            "Test #16: Input: \"abcd\" Pattern: \".*c.*\" Result: true (PASSED) Expected: true\n",
            "Test #17: Input: \"ab\" Pattern: \".*c\" Result: false (PASSED) Expected: false\n",
            "Test #18: Input: \"ab\" Pattern: \"c*\" Result: false (PASSED) Expected: false\n"
          ]
        }
      ]
    },
    {
      "cell_type": "markdown",
      "source": [],
      "metadata": {
        "id": "wZ9xqorflMNm"
      }
    }
  ]
}