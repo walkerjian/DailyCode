{
  "nbformat": 4,
  "nbformat_minor": 0,
  "metadata": {
    "colab": {
      "provenance": [],
      "authorship_tag": "ABX9TyPbTV2IWl2nXRVZBGkdZuHD",
      "include_colab_link": true
    },
    "kernelspec": {
      "name": "python3",
      "display_name": "Python 3"
    },
    "language_info": {
      "name": "python"
    }
  },
  "cells": [
    {
      "cell_type": "markdown",
      "metadata": {
        "id": "view-in-github",
        "colab_type": "text"
      },
      "source": [
        "<a href=\"https://colab.research.google.com/github/walkerjian/DailyCode/blob/main/Code_Craft_disambiguate_sentence_with_ai.ipynb\" target=\"_parent\"><img src=\"https://colab.research.google.com/assets/colab-badge.svg\" alt=\"Open In Colab\"/></a>"
      ]
    },
    {
      "cell_type": "markdown",
      "source": [
        "##Problem:\n",
        "Word sense disambiguation is the problem of determining which sense a word takes on in a particular setting, if that word has multiple meanings. For example, in the sentence \"I went to get money from the bank\", bank probably means the place where people deposit money, not the land beside a river or lake.\n",
        "\n",
        "Suppose you are given a list of meanings for several words, formatted like so:\n",
        "\n",
        "{\n",
        "    \"word_1\": [\"meaning one\", \"meaning two\", ...],\n",
        "    ...\n",
        "    \"word_n\": [\"meaning one\", \"meaning two\", ...]\n",
        "}\n",
        "Given a sentence, most of whose words are contained in the meaning list above, create an algorithm that determines the likely sense of each possibly ambiguous word."
      ],
      "metadata": {
        "id": "2lWyrXjB8EeD"
      }
    },
    {
      "cell_type": "markdown",
      "source": [
        "##Solution:\n",
        "Creating an algorithm for word sense disambiguation (WSD) involves several steps, including understanding the context in which a word is used, comparing it to the known meanings, and determining the most likely meaning based on that context. For this task, we'll design a simple WSD algorithm that follows these general steps:\n",
        "\n",
        "1. **Preprocess the Sentence**: Tokenize the sentence into words, and possibly perform lemmatization (to get the base form of words) if the meanings are provided in their base forms.\n",
        "\n",
        "2. **Contextual Analysis**: For each potentially ambiguous word, analyze the surrounding words (context) to gather clues about the intended meaning.\n",
        "\n",
        "3. **Meaning Selection**: Compare the context of the ambiguous word with the provided meanings to select the most appropriate one. This can be done through simple keyword matching, semantic similarity, or more advanced techniques.\n",
        "\n",
        "For simplicity, our algorithm will use a basic keyword matching strategy. It will look for the presence of keywords in the meanings within the context of the sentence to select the most likely meaning.\n",
        "\n"
      ],
      "metadata": {
        "id": "jIohycTB8Hjb"
      }
    },
    {
      "cell_type": "markdown",
      "source": [
        "##Implementation:\n",
        "Here's a simplified version of the algorithm in Python:\n",
        "\n",
        "```python\n",
        "def disambiguate_sentence(sentence, meanings_dict):\n",
        "    # Tokenize the sentence. For simplicity, we'll just split by spaces.\n",
        "    words = sentence.lower().split()\n",
        "    \n",
        "    # Function to find the best meaning based on keyword matching\n",
        "    def find_best_meaning(word, context):\n",
        "        possible_meanings = meanings_dict.get(word, [])\n",
        "        best_meaning = None\n",
        "        max_overlap = 0\n",
        "        \n",
        "        for meaning in possible_meanings:\n",
        "            # Split meaning into keywords\n",
        "            meaning_keywords = set(meaning.split())\n",
        "            # Calculate overlap with context\n",
        "            overlap = len(meaning_keywords.intersection(context))\n",
        "            if overlap > max_overlap:\n",
        "                max_overlap = overlap\n",
        "                best_meaning = meaning\n",
        "                \n",
        "        return best_meaning\n",
        "    \n",
        "    # Determine the likely sense of each ambiguous word\n",
        "    disambiguated_words = {}\n",
        "    for i, word in enumerate(words):\n",
        "        if word in meanings_dict:\n",
        "            # Consider words in a window around the current word as its context\n",
        "            context_window = words[max(0, i-5):i] + words[i+1:min(len(words), i+6)]\n",
        "            context_set = set(context_window)\n",
        "            disambiguated_words[word] = find_best_meaning(word, context_set)\n",
        "            \n",
        "    return disambiguated_words\n",
        "\n",
        "# Example usage:\n",
        "meanings = {\n",
        "    \"bank\": [\"place for financial transactions\", \"land beside a river\"],\n",
        "    # Add more words and meanings as needed\n",
        "}\n",
        "\n",
        "sentence = \"I went to get money from the bank\"\n",
        "\n",
        "disambiguated = disambiguate_sentence(sentence, meanings)\n",
        "print(disambiguated)\n",
        "```\n",
        "\n",
        "This code snippet defines a function `disambiguate_sentence` that takes a sentence and a dictionary of words with their possible meanings. It then attempts to disambiguate each word in the sentence that has multiple meanings provided in the dictionary. The current implementation uses a basic form of keyword matching within a context window around each ambiguous word to select the most likely meaning.\n",
        "\n",
        "For more sophisticated or accurate WSD, advanced techniques involving natural language processing (NLP) models, machine learning, or leveraging large language datasets for semantic analysis might be necessary.\n",
        "\n"
      ],
      "metadata": {
        "id": "pkWuQrLB8K8H"
      }
    },
    {
      "cell_type": "code",
      "execution_count": 1,
      "metadata": {
        "id": "TIIt0l_k7Oi1",
        "colab": {
          "base_uri": "https://localhost:8080/"
        },
        "outputId": "5717df60-d6cf-4ac6-8207-920fd761ade4"
      },
      "outputs": [
        {
          "output_type": "stream",
          "name": "stdout",
          "text": [
            "{'bank': None}\n"
          ]
        }
      ],
      "source": [
        "def disambiguate_sentence(sentence, meanings_dict):\n",
        "    # Tokenize the sentence. For simplicity, we'll just split by spaces.\n",
        "    words = sentence.lower().split()\n",
        "\n",
        "    # Function to find the best meaning based on keyword matching\n",
        "    def find_best_meaning(word, context):\n",
        "        possible_meanings = meanings_dict.get(word, [])\n",
        "        best_meaning = None\n",
        "        max_overlap = 0\n",
        "\n",
        "        for meaning in possible_meanings:\n",
        "            # Split meaning into keywords\n",
        "            meaning_keywords = set(meaning.split())\n",
        "            # Calculate overlap with context\n",
        "            overlap = len(meaning_keywords.intersection(context))\n",
        "            if overlap > max_overlap:\n",
        "                max_overlap = overlap\n",
        "                best_meaning = meaning\n",
        "\n",
        "        return best_meaning\n",
        "\n",
        "    # Determine the likely sense of each ambiguous word\n",
        "    disambiguated_words = {}\n",
        "    for i, word in enumerate(words):\n",
        "        if word in meanings_dict:\n",
        "            # Consider words in a window around the current word as its context\n",
        "            context_window = words[max(0, i-5):i] + words[i+1:min(len(words), i+6)]\n",
        "            context_set = set(context_window)\n",
        "            disambiguated_words[word] = find_best_meaning(word, context_set)\n",
        "\n",
        "    return disambiguated_words\n",
        "\n",
        "# Example usage:\n",
        "meanings = {\n",
        "    \"bank\": [\"place for financial transactions\", \"land beside a river\"],\n",
        "    # Add more words and meanings as needed\n",
        "}\n",
        "\n",
        "sentence = \"I went to get money from the bank\"\n",
        "\n",
        "disambiguated = disambiguate_sentence(sentence, meanings)\n",
        "print(disambiguated)\n"
      ]
    },
    {
      "cell_type": "code",
      "source": [
        "!pip install openai"
      ],
      "metadata": {
        "colab": {
          "base_uri": "https://localhost:8080/"
        },
        "id": "9r0g5CXDBwL9",
        "outputId": "74574b07-49f0-4171-8839-e8f5963e5cd2"
      },
      "execution_count": 3,
      "outputs": [
        {
          "output_type": "stream",
          "name": "stdout",
          "text": [
            "Collecting openai\n",
            "  Downloading openai-1.12.0-py3-none-any.whl (226 kB)\n",
            "\u001b[?25l     \u001b[90m━━━━━━━━━━━━━━━━━━━━━━━━━━━━━━━━━━━━━━━━\u001b[0m \u001b[32m0.0/226.7 kB\u001b[0m \u001b[31m?\u001b[0m eta \u001b[36m-:--:--\u001b[0m\r\u001b[2K     \u001b[91m━━━━━━━━━━━━━━━━━━━━━━━━━\u001b[0m\u001b[90m╺\u001b[0m\u001b[90m━━━━━━━━━━━━━━\u001b[0m \u001b[32m143.4/226.7 kB\u001b[0m \u001b[31m4.1 MB/s\u001b[0m eta \u001b[36m0:00:01\u001b[0m\r\u001b[2K     \u001b[90m━━━━━━━━━━━━━━━━━━━━━━━━━━━━━━━━━━━━━━━━\u001b[0m \u001b[32m226.7/226.7 kB\u001b[0m \u001b[31m4.3 MB/s\u001b[0m eta \u001b[36m0:00:00\u001b[0m\n",
            "\u001b[?25hRequirement already satisfied: anyio<5,>=3.5.0 in /usr/local/lib/python3.10/dist-packages (from openai) (3.7.1)\n",
            "Requirement already satisfied: distro<2,>=1.7.0 in /usr/lib/python3/dist-packages (from openai) (1.7.0)\n",
            "Collecting httpx<1,>=0.23.0 (from openai)\n",
            "  Downloading httpx-0.27.0-py3-none-any.whl (75 kB)\n",
            "\u001b[2K     \u001b[90m━━━━━━━━━━━━━━━━━━━━━━━━━━━━━━━━━━━━━━━━\u001b[0m \u001b[32m75.6/75.6 kB\u001b[0m \u001b[31m7.9 MB/s\u001b[0m eta \u001b[36m0:00:00\u001b[0m\n",
            "\u001b[?25hRequirement already satisfied: pydantic<3,>=1.9.0 in /usr/local/lib/python3.10/dist-packages (from openai) (2.6.1)\n",
            "Requirement already satisfied: sniffio in /usr/local/lib/python3.10/dist-packages (from openai) (1.3.0)\n",
            "Requirement already satisfied: tqdm>4 in /usr/local/lib/python3.10/dist-packages (from openai) (4.66.2)\n",
            "Requirement already satisfied: typing-extensions<5,>=4.7 in /usr/local/lib/python3.10/dist-packages (from openai) (4.9.0)\n",
            "Requirement already satisfied: idna>=2.8 in /usr/local/lib/python3.10/dist-packages (from anyio<5,>=3.5.0->openai) (3.6)\n",
            "Requirement already satisfied: exceptiongroup in /usr/local/lib/python3.10/dist-packages (from anyio<5,>=3.5.0->openai) (1.2.0)\n",
            "Requirement already satisfied: certifi in /usr/local/lib/python3.10/dist-packages (from httpx<1,>=0.23.0->openai) (2024.2.2)\n",
            "Collecting httpcore==1.* (from httpx<1,>=0.23.0->openai)\n",
            "  Downloading httpcore-1.0.4-py3-none-any.whl (77 kB)\n",
            "\u001b[2K     \u001b[90m━━━━━━━━━━━━━━━━━━━━━━━━━━━━━━━━━━━━━━━━\u001b[0m \u001b[32m77.8/77.8 kB\u001b[0m \u001b[31m7.4 MB/s\u001b[0m eta \u001b[36m0:00:00\u001b[0m\n",
            "\u001b[?25hCollecting h11<0.15,>=0.13 (from httpcore==1.*->httpx<1,>=0.23.0->openai)\n",
            "  Downloading h11-0.14.0-py3-none-any.whl (58 kB)\n",
            "\u001b[2K     \u001b[90m━━━━━━━━━━━━━━━━━━━━━━━━━━━━━━━━━━━━━━━━\u001b[0m \u001b[32m58.3/58.3 kB\u001b[0m \u001b[31m6.1 MB/s\u001b[0m eta \u001b[36m0:00:00\u001b[0m\n",
            "\u001b[?25hRequirement already satisfied: annotated-types>=0.4.0 in /usr/local/lib/python3.10/dist-packages (from pydantic<3,>=1.9.0->openai) (0.6.0)\n",
            "Requirement already satisfied: pydantic-core==2.16.2 in /usr/local/lib/python3.10/dist-packages (from pydantic<3,>=1.9.0->openai) (2.16.2)\n",
            "Installing collected packages: h11, httpcore, httpx, openai\n",
            "Successfully installed h11-0.14.0 httpcore-1.0.4 httpx-0.27.0 openai-1.12.0\n"
          ]
        }
      ]
    },
    {
      "cell_type": "code",
      "source": [
        "!pip install openai==0.28"
      ],
      "metadata": {
        "colab": {
          "base_uri": "https://localhost:8080/",
          "height": 516
        },
        "id": "oGa_wbpaCeNu",
        "outputId": "0b59f8b6-bae2-420b-ff38-85949163e406"
      },
      "execution_count": 8,
      "outputs": [
        {
          "output_type": "stream",
          "name": "stdout",
          "text": [
            "Collecting openai==0.28\n",
            "  Downloading openai-0.28.0-py3-none-any.whl (76 kB)\n",
            "\u001b[?25l     \u001b[90m━━━━━━━━━━━━━━━━━━━━━━━━━━━━━━━━━━━━━━━━\u001b[0m \u001b[32m0.0/76.5 kB\u001b[0m \u001b[31m?\u001b[0m eta \u001b[36m-:--:--\u001b[0m\r\u001b[2K     \u001b[90m━━━━━━━━━━━━━━━━━━━━━━━━━━━━━━━━━━━━━━━━\u001b[0m \u001b[32m76.5/76.5 kB\u001b[0m \u001b[31m2.0 MB/s\u001b[0m eta \u001b[36m0:00:00\u001b[0m\n",
            "\u001b[?25hRequirement already satisfied: requests>=2.20 in /usr/local/lib/python3.10/dist-packages (from openai==0.28) (2.31.0)\n",
            "Requirement already satisfied: tqdm in /usr/local/lib/python3.10/dist-packages (from openai==0.28) (4.66.2)\n",
            "Requirement already satisfied: aiohttp in /usr/local/lib/python3.10/dist-packages (from openai==0.28) (3.9.3)\n",
            "Requirement already satisfied: charset-normalizer<4,>=2 in /usr/local/lib/python3.10/dist-packages (from requests>=2.20->openai==0.28) (3.3.2)\n",
            "Requirement already satisfied: idna<4,>=2.5 in /usr/local/lib/python3.10/dist-packages (from requests>=2.20->openai==0.28) (3.6)\n",
            "Requirement already satisfied: urllib3<3,>=1.21.1 in /usr/local/lib/python3.10/dist-packages (from requests>=2.20->openai==0.28) (2.0.7)\n",
            "Requirement already satisfied: certifi>=2017.4.17 in /usr/local/lib/python3.10/dist-packages (from requests>=2.20->openai==0.28) (2024.2.2)\n",
            "Requirement already satisfied: aiosignal>=1.1.2 in /usr/local/lib/python3.10/dist-packages (from aiohttp->openai==0.28) (1.3.1)\n",
            "Requirement already satisfied: attrs>=17.3.0 in /usr/local/lib/python3.10/dist-packages (from aiohttp->openai==0.28) (23.2.0)\n",
            "Requirement already satisfied: frozenlist>=1.1.1 in /usr/local/lib/python3.10/dist-packages (from aiohttp->openai==0.28) (1.4.1)\n",
            "Requirement already satisfied: multidict<7.0,>=4.5 in /usr/local/lib/python3.10/dist-packages (from aiohttp->openai==0.28) (6.0.5)\n",
            "Requirement already satisfied: yarl<2.0,>=1.0 in /usr/local/lib/python3.10/dist-packages (from aiohttp->openai==0.28) (1.9.4)\n",
            "Requirement already satisfied: async-timeout<5.0,>=4.0 in /usr/local/lib/python3.10/dist-packages (from aiohttp->openai==0.28) (4.0.3)\n",
            "Installing collected packages: openai\n",
            "  Attempting uninstall: openai\n",
            "    Found existing installation: openai 1.12.0\n",
            "    Uninstalling openai-1.12.0:\n",
            "      Successfully uninstalled openai-1.12.0\n",
            "Successfully installed openai-0.28.0\n"
          ]
        },
        {
          "output_type": "display_data",
          "data": {
            "application/vnd.colab-display-data+json": {
              "pip_warning": {
                "packages": [
                  "openai"
                ]
              },
              "id": "63ff88c286674c3cb66d94b0859870f7"
            }
          },
          "metadata": {}
        }
      ]
    },
    {
      "cell_type": "code",
      "source": [
        "import openai\n",
        "import os\n",
        "from google.colab import userdata\n",
        "\n",
        "def disambiguate_sentence_with_ai(sentence, meanings_dict):\n",
        "    # Retrieve the OpenAI API key from Colab secrets\n",
        "    openai_api_key = userdata.get('OPENAI_API_KEY')\n",
        "\n",
        "    # Set the OpenAI API key\n",
        "    openai.api_key = openai_api_key\n",
        "\n",
        "    # Ensure that openai_api_key is not None or empty before proceeding\n",
        "    if openai_api_key:\n",
        "        print(\"API key is set successfully.\")\n",
        "    else:\n",
        "        print(\"API key is not set. Please check your Colab secrets.\")\n",
        "\n",
        "\n",
        "    disambiguated_words = {}\n",
        "\n",
        "    for word, meanings in meanings_dict.items():\n",
        "        # Formulate a prompt asking the AI to choose the correct meaning\n",
        "        prompt = f\"Given the sentence: '{sentence}', what is the meaning of '{word}'? \\n\\n\"\n",
        "        prompt += \"Options:\\n\"\n",
        "        for i, meaning in enumerate(meanings, 1):\n",
        "            prompt += f\"{i}. {meaning}\\n\"\n",
        "\n",
        "        # Adjusted to conform with the new API interface\n",
        "        response = openai.ChatCompletion.create(\n",
        "            model=\"gpt-3.5-turbo\",\n",
        "            messages=[\n",
        "                {\"role\": \"system\", \"content\": \"You are a highly intelligent AI trained to understand and generate human-like text.\"},\n",
        "                {\"role\": \"user\", \"content\": prompt}\n",
        "            ]\n",
        "        )\n",
        "\n",
        "        # Assuming the response text is the most appropriate meaning directly\n",
        "        disambiguated_words[word] = response['choices'][0]['message']['content'].strip()\n",
        "\n",
        "    return disambiguated_words\n",
        "\n",
        "# Example usage:\n",
        "meanings = {\n",
        "    \"bank\": [\"place for financial transactions\", \"land beside a river\"],\n",
        "    # Add more words and meanings as needed\n",
        "}\n",
        "\n",
        "sentence = \"I went to get money from the bank\"\n",
        "\n",
        "disambiguated = disambiguate_sentence_with_ai(sentence, meanings)\n",
        "print(disambiguated)\n"
      ],
      "metadata": {
        "colab": {
          "base_uri": "https://localhost:8080/"
        },
        "id": "IJ-r4pM6Bi37",
        "outputId": "8805460c-a522-4341-9fe9-51adfed6f52a"
      },
      "execution_count": 12,
      "outputs": [
        {
          "output_type": "stream",
          "name": "stdout",
          "text": [
            "API key is set successfully.\n",
            "{'bank': 'In the given sentence \"I went to get money from the bank,\" the meaning of \"bank\" is option 1: a place for financial transactions. It refers to a financial institution where people deposit and withdraw money, manage accounts, and perform various financial transactions.'}\n"
          ]
        }
      ]
    },
    {
      "cell_type": "markdown",
      "source": [
        "##Testing:"
      ],
      "metadata": {
        "id": "j1_1v7Jw8Sav"
      }
    }
  ]
}