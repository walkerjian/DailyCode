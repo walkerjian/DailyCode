{
  "nbformat": 4,
  "nbformat_minor": 0,
  "metadata": {
    "colab": {
      "provenance": [],
      "authorship_tag": "ABX9TyMMWSINvEBT++GhoMZcR/eY",
      "include_colab_link": true
    },
    "kernelspec": {
      "name": "python3",
      "display_name": "Python 3"
    },
    "language_info": {
      "name": "python"
    }
  },
  "cells": [
    {
      "cell_type": "markdown",
      "metadata": {
        "id": "view-in-github",
        "colab_type": "text"
      },
      "source": [
        "<a href=\"https://colab.research.google.com/github/walkerjian/DailyCode/blob/main/edit_distance.ipynb\" target=\"_parent\"><img src=\"https://colab.research.google.com/assets/colab-badge.svg\" alt=\"Open In Colab\"/></a>"
      ]
    },
    {
      "cell_type": "markdown",
      "source": [
        "The edit distance between two strings refers to the minimum number of character insertions, deletions, and substitutions required to change one string to the other. For example, the edit distance between “kitten” and “sitting” is three: substitute the “k” for “s”, substitute the “e” for “i”, and append a “g”.\n",
        "\n",
        "Given two strings, compute the edit distance between them."
      ],
      "metadata": {
        "id": "c_CNaM7ixbc6"
      }
    },
    {
      "cell_type": "code",
      "execution_count": 1,
      "metadata": {
        "colab": {
          "base_uri": "https://localhost:8080/"
        },
        "id": "VH9tqgDbxTEM",
        "outputId": "bd084751-42dc-47d5-9448-082cb8cfc8e3"
      },
      "outputs": [
        {
          "output_type": "execute_result",
          "data": {
            "text/plain": [
              "3"
            ]
          },
          "metadata": {},
          "execution_count": 1
        }
      ],
      "source": [
        "def edit_distance(s1, s2):\n",
        "    # Create a matrix to store distances between substrings of s1 and s2\n",
        "    dp = [[0 for _ in range(len(s2) + 1)] for _ in range(len(s1) + 1)]\n",
        "\n",
        "    # Base cases\n",
        "    for i in range(len(s1) + 1):\n",
        "        dp[i][0] = i\n",
        "\n",
        "    for j in range(len(s2) + 1):\n",
        "        dp[0][j] = j\n",
        "\n",
        "    # Fill in the matrix\n",
        "    for i in range(1, len(s1) + 1):\n",
        "        for j in range(1, len(s2) + 1):\n",
        "            if s1[i - 1] == s2[j - 1]:\n",
        "                dp[i][j] = dp[i - 1][j - 1]\n",
        "            else:\n",
        "                dp[i][j] = min(\n",
        "                    dp[i - 1][j] + 1,  # Delete\n",
        "                    dp[i][j - 1] + 1,  # Insert\n",
        "                    dp[i - 1][j - 1] + 1  # Substitute\n",
        "                )\n",
        "\n",
        "    return dp[len(s1)][len(s2)]\n",
        "\n",
        "# Test the function with the provided example\n",
        "s1 = \"kitten\"\n",
        "s2 = \"sitting\"\n",
        "edit_distance(s1, s2)\n"
      ]
    }
  ]
}