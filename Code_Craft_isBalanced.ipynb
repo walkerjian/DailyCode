{
  "nbformat": 4,
  "nbformat_minor": 0,
  "metadata": {
    "colab": {
      "provenance": [],
      "authorship_tag": "ABX9TyP8+oCvi8cf0Z/XV3XCGtaJ",
      "include_colab_link": true
    },
    "kernelspec": {
      "name": "python3",
      "display_name": "Python 3"
    },
    "language_info": {
      "name": "python"
    }
  },
  "cells": [
    {
      "cell_type": "markdown",
      "metadata": {
        "id": "view-in-github",
        "colab_type": "text"
      },
      "source": [
        "<a href=\"https://colab.research.google.com/github/walkerjian/DailyCode/blob/main/Code_Craft_isBalanced.ipynb\" target=\"_parent\"><img src=\"https://colab.research.google.com/assets/colab-badge.svg\" alt=\"Open In Colab\"/></a>"
      ]
    },
    {
      "cell_type": "markdown",
      "source": [
        "##Problem:\n",
        "Given a binary tree, determine whether or not it is height-balanced. A height-balanced binary tree can be defined as one in which the heights of the two subtrees of any node never differ by more than one.\n",
        "\n"
      ],
      "metadata": {
        "id": "BBWEmfVbm6nA"
      }
    },
    {
      "cell_type": "markdown",
      "source": [
        "##Solution:\n",
        "To determine whether a binary tree is height-balanced, we need to compute the height of each subtree and check the height difference at each node. Here's a strategy to implement this in Python:\n",
        "\n",
        "1. Define a function to calculate the height of a binary tree.\n",
        "2. Use this function to check the height of the left and right subtrees of each node.\n",
        "3. Ensure that at every node, the height difference between the left and right subtrees is no more than one.\n",
        "4. The tree is height-balanced if this condition holds for every node.\n",
        "\n",
        "We can define a recursive function to handle this. This function will return the height of a subtree if it is balanced and `-1` if it finds an unbalanced subtree. Here's how the implementation would look:"
      ],
      "metadata": {
        "id": "eJnWBYFLm-0Q"
      }
    },
    {
      "cell_type": "markdown",
      "source": [
        "##Implementation:\n",
        "In this code:\n",
        "- `TreeNode` is a class representing a node in the binary tree.\n",
        "- `isBalanced` is the function to determine if the tree is height-balanced.\n",
        "- `check` is a helper function that returns the height of a subtree if it's balanced, or `-1` if it's not.\n",
        "\n",
        "This implementation is efficient as it traverses each node only once, resulting in a time complexity of O(n), where n is the number of nodes in the tree."
      ],
      "metadata": {
        "id": "UIuu0zlEnLDC"
      }
    },
    {
      "cell_type": "code",
      "execution_count": 1,
      "metadata": {
        "colab": {
          "base_uri": "https://localhost:8080/"
        },
        "id": "o6OI7RAcm0yy",
        "outputId": "f3121eec-d6ed-4a97-e3f3-175384e93824"
      },
      "outputs": [
        {
          "output_type": "execute_result",
          "data": {
            "text/plain": [
              "(True, False)"
            ]
          },
          "metadata": {},
          "execution_count": 1
        }
      ],
      "source": [
        "class TreeNode:\n",
        "    def __init__(self, value=0, left=None, right=None):\n",
        "        self.value = value\n",
        "        self.left = left\n",
        "        self.right = right\n",
        "\n",
        "def isBalanced(root):\n",
        "    def check(node):\n",
        "        if not node:\n",
        "            return 0\n",
        "        left_height = check(node.left)\n",
        "        if left_height == -1:\n",
        "            return -1\n",
        "        right_height = check(node.right)\n",
        "        if right_height == -1:\n",
        "            return -1\n",
        "        if abs(left_height - right_height) > 1:\n",
        "            return -1\n",
        "        return max(left_height, right_height) + 1\n",
        "\n",
        "    return check(root) != -1\n",
        "\n",
        "# Test the function with a balanced binary tree\n",
        "# Tree structure:\n",
        "#      1\n",
        "#     / \\\n",
        "#    2   3\n",
        "#   /\n",
        "#  4\n",
        "root_balanced = TreeNode(1, TreeNode(2, TreeNode(4)), TreeNode(3))\n",
        "\n",
        "# Test the function with an unbalanced binary tree\n",
        "# Tree structure:\n",
        "#      1\n",
        "#     /\n",
        "#    2\n",
        "#   /\n",
        "#  3\n",
        "root_unbalanced = TreeNode(1, TreeNode(2, TreeNode(3)))\n",
        "\n",
        "# Testing\n",
        "is_balanced_result = isBalanced(root_balanced)\n",
        "is_unbalanced_result = isBalanced(root_unbalanced)\n",
        "is_balanced_result, is_unbalanced_result\n",
        "\n"
      ]
    }
  ]
}