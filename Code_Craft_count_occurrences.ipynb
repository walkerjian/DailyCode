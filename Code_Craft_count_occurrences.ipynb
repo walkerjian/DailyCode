{
  "nbformat": 4,
  "nbformat_minor": 0,
  "metadata": {
    "colab": {
      "provenance": [],
      "authorship_tag": "ABX9TyOqvyDrbdQsxof1LkkW4dAI",
      "include_colab_link": true
    },
    "kernelspec": {
      "name": "python3",
      "display_name": "Python 3"
    },
    "language_info": {
      "name": "python"
    }
  },
  "cells": [
    {
      "cell_type": "markdown",
      "metadata": {
        "id": "view-in-github",
        "colab_type": "text"
      },
      "source": [
        "<a href=\"https://colab.research.google.com/github/walkerjian/DailyCode/blob/main/Code_Craft_count_occurrences.ipynb\" target=\"_parent\"><img src=\"https://colab.research.google.com/assets/colab-badge.svg\" alt=\"Open In Colab\"/></a>"
      ]
    },
    {
      "cell_type": "markdown",
      "source": [
        "##Problem:\n",
        "User\n",
        "Suppose you have a multiplication table that is N by N. That is, a 2D array where the value at the i-th row and j-th column is (i + 1) * (j + 1) (if 0-indexed) or i * j (if 1-indexed).\n",
        "\n",
        "Given integers N and X, write a function that returns the number of times X appears as a value in an N by N multiplication table.\n",
        "\n",
        "For example, given N = 6 and X = 12, you should return 4, since the multiplication table looks like this:\n",
        "```\n",
        "|  1 |  2 |  3 |  4 |  5 |  6 |\n",
        "|  2 |  4 |  6 |  8 | 10 | 12 |\n",
        "|  3 |  6 |  9 | 12 | 15 | 18 |\n",
        "|  4 |  8 | 12 | 16 | 20 | 24 |\n",
        "|  5 | 10 | 15 | 20 | 25 | 30 |\n",
        "|  6 | 12 | 18 | 24 | 30 | 36 |\n",
        "```\n",
        "And there are 4 12's in the table.\n",
        "##Solution:\n",
        "To solve this problem, we need to iterate through each cell of the N by N multiplication table and count how many times the value X appears. Since the multiplication table is symmetric along its diagonal, we can optimize our solution by only iterating through half of the table.\n",
        "##Impementation:\n",
        "To solve this problem, we need to iterate through each cell of the N by N multiplication table and count how many times the value X appears. Since the multiplication table is symmetric along its diagonal, we can optimize our solution by only iterating through half of the table.\n",
        "\n",
        "Here's the Python function to achieve this:\n"
      ],
      "metadata": {
        "id": "SEu_QCzo-KjV"
      }
    },
    {
      "cell_type": "code",
      "execution_count": 1,
      "metadata": {
        "colab": {
          "base_uri": "https://localhost:8080/"
        },
        "id": "8YI2w0K8-ICL",
        "outputId": "842e4a74-4764-4214-b7e0-721de407321b"
      },
      "outputs": [
        {
          "output_type": "stream",
          "name": "stdout",
          "text": [
            "4\n"
          ]
        }
      ],
      "source": [
        "def count_occurrences(N, X):\n",
        "    count = 0\n",
        "    for i in range(1, N + 1):\n",
        "        for j in range(i, N + 1):\n",
        "            if i * j == X:\n",
        "                # Increment count. If i != j, count twice because of symmetry\n",
        "                count += 1 if i == j else 2\n",
        "    return count\n",
        "\n",
        "# Example usage\n",
        "N = 6\n",
        "X = 12\n",
        "print(count_occurrences(N, X))  # Output: 4\n"
      ]
    },
    {
      "cell_type": "markdown",
      "source": [
        "\n",
        "In this function, we iterate over each pair of indices `(i, j)` such that `1 ≤ i ≤ j ≤ N`. If the product of `i` and `j` equals `X`, we increment the count. If `i` and `j` are different, we increment the count by 2 because of the symmetry in the table; otherwise, we increment by 1. Finally, the function returns the total count."
      ],
      "metadata": {
        "id": "PPYDr8x-_K6g"
      }
    }
  ]
}