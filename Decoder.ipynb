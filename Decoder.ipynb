{
  "nbformat": 4,
  "nbformat_minor": 0,
  "metadata": {
    "colab": {
      "provenance": [],
      "authorship_tag": "ABX9TyOwGQdYTL6hPGQd3vsc6uTN",
      "include_colab_link": true
    },
    "kernelspec": {
      "name": "python3",
      "display_name": "Python 3"
    },
    "language_info": {
      "name": "python"
    }
  },
  "cells": [
    {
      "cell_type": "markdown",
      "metadata": {
        "id": "view-in-github",
        "colab_type": "text"
      },
      "source": [
        "<a href=\"https://colab.research.google.com/github/walkerjian/DailyCode/blob/main/Decoder.ipynb\" target=\"_parent\"><img src=\"https://colab.research.google.com/assets/colab-badge.svg\" alt=\"Open In Colab\"/></a>"
      ]
    },
    {
      "cell_type": "markdown",
      "source": [
        "Given the mapping a = 1, b = 2, ... z = 26, and an encoded message, count the number of ways it can be decoded.\n",
        "\n",
        "For example, the message '111' would give 3, since it could be decoded as 'aaa', 'ka', and 'ak'.\n",
        "\n",
        "You can assume that the messages are decodable. For example, '001' is not allowed.\n",
        "\n",
        "Here's a brief overview:\n",
        "\n",
        "The DecoderModel class contains the core logic for decoding messages.\n",
        "The DecoderView class is responsible for displaying the results.\n",
        "The DecoderController class interacts between the Model and the View to get the decode count and display it.\n",
        "The test_decoder function tests the decoder with various test cases."
      ],
      "metadata": {
        "id": "kbc4Xd_OXT9g"
      }
    },
    {
      "cell_type": "code",
      "execution_count": 1,
      "metadata": {
        "colab": {
          "base_uri": "https://localhost:8080/"
        },
        "id": "n5Cszcx9WZo2",
        "outputId": "58cf55ae-981b-4bf0-8d16-c6f543d958a6"
      },
      "outputs": [
        {
          "output_type": "stream",
          "name": "stdout",
          "text": [
            "Message '1' can be decoded in 1 ways.\n",
            "Message '12' can be decoded in 2 ways.\n",
            "Message '111' can be decoded in 3 ways.\n",
            "Message '1111' can be decoded in 5 ways.\n",
            "Message '226' can be decoded in 3 ways.\n",
            "Message '10' can be decoded in 1 ways.\n",
            "Message '100' can be decoded in 0 ways.\n",
            "Message '101' can be decoded in 1 ways.\n",
            "Message '110' can be decoded in 1 ways.\n",
            "Message '230' can be decoded in 0 ways.\n"
          ]
        }
      ],
      "source": [
        "class DecoderModel:\n",
        "    \"\"\"\n",
        "    The core logic for decoding messages based on the given mapping.\n",
        "    \"\"\"\n",
        "\n",
        "    def __init__(self):\n",
        "        # Define the mapping of numbers to letters.\n",
        "        self.mapping = {str(i): chr(96 + i) for i in range(1, 27)}\n",
        "\n",
        "    def decode_count(self, message: str) -> int:\n",
        "        \"\"\"\n",
        "        Count the number of ways the given message can be decoded.\n",
        "\n",
        "        Args:\n",
        "        - message (str): The encoded message.\n",
        "\n",
        "        Returns:\n",
        "        - int: The number of ways the message can be decoded.\n",
        "        \"\"\"\n",
        "        # If the message is empty or has one character, there's only one way to decode it.\n",
        "        if not message or len(message) == 1:\n",
        "            return 1\n",
        "\n",
        "        counts = [0] * (len(message) + 1)  # The count of decodings for each sub-message.\n",
        "        counts[0], counts[1] = 1, 1\n",
        "\n",
        "        for i in range(2, len(message) + 1):\n",
        "            # If the last character is not '0', add the previous count.\n",
        "            if message[i - 1] > '0':\n",
        "                counts[i] += counts[i - 1]\n",
        "\n",
        "            # Check if the last two characters form a valid mapping.\n",
        "            if '10' <= message[i - 2:i] <= '26':\n",
        "                counts[i] += counts[i - 2]\n",
        "\n",
        "        return counts[len(message)]\n",
        "\n",
        "\n",
        "class DecoderView:\n",
        "    \"\"\"\n",
        "    Responsible for displaying the results to the user.\n",
        "    \"\"\"\n",
        "\n",
        "    @staticmethod\n",
        "    def display_result(message: str, count: int) -> None:\n",
        "        \"\"\"\n",
        "        Display the decoded message count to the user.\n",
        "\n",
        "        Args:\n",
        "        - message (str): The original encoded message.\n",
        "        - count (int): The number of ways the message can be decoded.\n",
        "        \"\"\"\n",
        "        print(f\"Message '{message}' can be decoded in {count} ways.\")\n",
        "\n",
        "\n",
        "class DecoderController:\n",
        "    \"\"\"\n",
        "    Interacts between the DecoderModel and the DecoderView.\n",
        "    \"\"\"\n",
        "\n",
        "    def __init__(self):\n",
        "        self.model = DecoderModel()\n",
        "        self.view = DecoderView()\n",
        "\n",
        "    def get_decode_count(self, message: str) -> None:\n",
        "        \"\"\"\n",
        "        Get the count of ways the message can be decoded and display it.\n",
        "\n",
        "        Args:\n",
        "        - message (str): The encoded message.\n",
        "        \"\"\"\n",
        "        count = self.model.decode_count(message)\n",
        "        self.view.display_result(message, count)\n",
        "\n",
        "\n",
        "def test_decoder():\n",
        "    \"\"\"\n",
        "    Test the decoder with various test cases.\n",
        "    \"\"\"\n",
        "    test_cases = [\n",
        "        '1', '12', '111', '1111', '226', '10', '100', '101', '110', '230'\n",
        "    ]\n",
        "\n",
        "    controller = DecoderController()\n",
        "\n",
        "    for test in test_cases:\n",
        "        controller.get_decode_count(test)\n",
        "\n",
        "\n",
        "# Run the tests\n",
        "test_decoder()\n"
      ]
    }
  ]
}