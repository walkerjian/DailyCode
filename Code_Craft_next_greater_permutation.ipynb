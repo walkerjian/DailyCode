{
  "nbformat": 4,
  "nbformat_minor": 0,
  "metadata": {
    "colab": {
      "provenance": [],
      "authorship_tag": "ABX9TyPPHcypuvqvSXHEhS4s3oxO",
      "include_colab_link": true
    },
    "kernelspec": {
      "name": "python3",
      "display_name": "Python 3"
    },
    "language_info": {
      "name": "python"
    }
  },
  "cells": [
    {
      "cell_type": "markdown",
      "metadata": {
        "id": "view-in-github",
        "colab_type": "text"
      },
      "source": [
        "<a href=\"https://colab.research.google.com/github/walkerjian/DailyCode/blob/main/Code_Craft_next_greater_permutation.ipynb\" target=\"_parent\"><img src=\"https://colab.research.google.com/assets/colab-badge.svg\" alt=\"Open In Colab\"/></a>"
      ]
    },
    {
      "cell_type": "markdown",
      "source": [
        "##Problem:\n",
        "Given a number represented by a list of digits, find the next greater permutation of a number, in terms of lexicographic ordering. If there is not greater permutation possible, return the permutation with the lowest value/ordering.\n",
        "\n",
        "For example, the list [1,2,3] should return [1,3,2]. The list [1,3,2] should return [2,1,3]. The list [3,2,1] should return [1,2,3].\n",
        "\n",
        "Can you perform the operation without allocating extra memory (disregarding the input memory)?"
      ],
      "metadata": {
        "id": "lH0LB_dk99QX"
      }
    },
    {
      "cell_type": "markdown",
      "source": [
        "##Solution:\n",
        "To tackle this task, we'll implement an algorithm in Python to find the next greater permutation of a given list of digits. This implementation will be efficient, leveraging in-place operations to avoid extra memory allocation. I'll also include a test harness that won't disrupt the main code flow. The test harness will verify the correctness of the function using a set of predefined test cases.\n",
        "\n",
        "##Algorithm Overview\n",
        "\n",
        "1. **Find Non-Increasing Suffix**: Start from the right end of the list and find the first digit that is smaller than the digit next to it. Let's call this digit `pivot`.\n",
        "2. **Identify Swap Candidate**: If a `pivot` is found, search for the smallest digit on the right side of `pivot` that is greater than `pivot`.\n",
        "3. **Swap and Reverse**: Swap the `pivot` with the swap candidate found in step 2. Then, reverse the suffix starting right after the original position of `pivot`.\n",
        "4. **Edge Case**: If no `pivot` is found, it means the entire list is in non-increasing order. Simply reverse the whole list to get the lowest possible order.\n",
        "\n",
        "##Implementation\n",
        "\n",
        "- The function `next_greater_permutation` executes the algorithm as described.\n",
        "- The `test_next_greater_permutation` function contains several test cases, including the examples you provided. It uses assertions to verify that the output matches the expected result.\n",
        "- If any test case fails, an assertion error will be raised, indicating which test case failed. If all test cases pass, a success message will be printed."
      ],
      "metadata": {
        "id": "6uAFobxK-BA8"
      }
    },
    {
      "cell_type": "code",
      "execution_count": 1,
      "metadata": {
        "colab": {
          "base_uri": "https://localhost:8080/"
        },
        "id": "oOeGa3_K98ap",
        "outputId": "4bcffcdd-04c8-4945-f364-11bb5b20615f"
      },
      "outputs": [
        {
          "output_type": "stream",
          "name": "stdout",
          "text": [
            "All test cases passed!\n"
          ]
        }
      ],
      "source": [
        "def next_greater_permutation(digits):\n",
        "    \"\"\"\n",
        "    Find the next greater permutation of the given list of digits.\n",
        "    \"\"\"\n",
        "    n = len(digits)\n",
        "\n",
        "    # Step 1: Find the pivot\n",
        "    pivot = -1\n",
        "    for i in range(n - 2, -1, -1):\n",
        "        if digits[i] < digits[i + 1]:\n",
        "            pivot = i\n",
        "            break\n",
        "    if pivot == -1:\n",
        "        digits.reverse()\n",
        "        return digits\n",
        "\n",
        "    # Step 2: Find the smallest digit greater than pivot\n",
        "    for i in range(n - 1, pivot, -1):\n",
        "        if digits[i] > digits[pivot]:\n",
        "            # Step 3: Swap and reverse the suffix\n",
        "            digits[i], digits[pivot] = digits[pivot], digits[i]\n",
        "            digits[pivot + 1:] = reversed(digits[pivot + 1:])\n",
        "            break\n",
        "\n",
        "    return digits\n",
        "\n",
        "# Test Harness\n",
        "def test_next_greater_permutation():\n",
        "    test_cases = [\n",
        "        ([1, 2, 3], [1, 3, 2]),\n",
        "        ([1, 3, 2], [2, 1, 3]),\n",
        "        ([3, 2, 1], [1, 2, 3]),\n",
        "        ([1, 1, 5], [1, 5, 1])\n",
        "    ]\n",
        "\n",
        "    for i, (input, expected) in enumerate(test_cases):\n",
        "        assert next_greater_permutation(input) == expected, f\"Test case {i + 1} failed\"\n",
        "\n",
        "    print(\"All test cases passed!\")\n",
        "\n",
        "test_next_greater_permutation()\n"
      ]
    }
  ]
}