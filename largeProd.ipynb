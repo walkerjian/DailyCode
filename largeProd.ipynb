{
  "nbformat": 4,
  "nbformat_minor": 0,
  "metadata": {
    "colab": {
      "provenance": [],
      "authorship_tag": "ABX9TyMBn/neM03/6uxCE+Uecev+",
      "include_colab_link": true
    },
    "kernelspec": {
      "name": "python3",
      "display_name": "Python 3"
    },
    "language_info": {
      "name": "python"
    }
  },
  "cells": [
    {
      "cell_type": "markdown",
      "metadata": {
        "id": "view-in-github",
        "colab_type": "text"
      },
      "source": [
        "<a href=\"https://colab.research.google.com/github/walkerjian/DailyCode/blob/main/largeProd.ipynb\" target=\"_parent\"><img src=\"https://colab.research.google.com/assets/colab-badge.svg\" alt=\"Open In Colab\"/></a>"
      ]
    },
    {
      "cell_type": "code",
      "execution_count": 1,
      "metadata": {
        "colab": {
          "base_uri": "https://localhost:8080/"
        },
        "id": "eSoQwlqsXtwP",
        "outputId": "1f31e38e-12dd-4f8c-99f9-0d62b9050a36"
      },
      "outputs": [
        {
          "output_type": "stream",
          "name": "stdout",
          "text": [
            "Running test suite...\n",
            "\n",
            "Test case 1:\n",
            "Input: [-10, -10, 5, 2]\n",
            "Output: 500\n",
            "Status: PASS\n",
            "\n",
            "Test case 2:\n",
            "Input: [1, 2, 3, 4]\n",
            "Output: 24\n",
            "Status: PASS\n",
            "\n",
            "Test case 3:\n",
            "Input: [-1, -2, -3, -4]\n",
            "Output: -6\n",
            "Status: PASS\n",
            "\n",
            "Test case 4:\n",
            "Input: [0, -1, 2]\n",
            "Output: 0\n",
            "Status: PASS\n",
            "\n",
            "Test case 5:\n",
            "Input: [-1, 0, 1]\n",
            "Output: 0\n",
            "Status: PASS\n",
            "\n",
            "Test case 6:\n",
            "Input: [1, 2]\n",
            "Output: List must contain at least three integers.\n",
            "Status: FAIL\n",
            "\n"
          ]
        }
      ],
      "source": [
        "import unittest\n",
        "\n",
        "# Model: Algorithm to find the largest product of three integers\n",
        "def largest_product_of_three(lst):\n",
        "    \"\"\"\n",
        "    Given a list of integers, this function returns the largest product that can be made by multiplying any three integers.\n",
        "\n",
        "    Args:\n",
        "    lst (list): A list of integers.\n",
        "\n",
        "    Returns:\n",
        "    int: The largest product of three integers.\n",
        "\n",
        "    Raises:\n",
        "    ValueError: If the list contains less than three elements.\n",
        "    \"\"\"\n",
        "    if len(lst) < 3:\n",
        "        raise ValueError(\"List must contain at least three integers.\")\n",
        "\n",
        "    lst.sort()\n",
        "    return max(lst[-1] * lst[-2] * lst[-3], lst[0] * lst[1] * lst[-1])\n",
        "\n",
        "# Controller: Test suite for largest_product_of_three function\n",
        "def test_cases():\n",
        "    return [\n",
        "        ([-10, -10, 5, 2], 500),\n",
        "        ([1, 2, 3, 4], 24),\n",
        "        ([-1, -2, -3, -4], -6),\n",
        "        ([0, -1, 2], 0),\n",
        "        ([-1, 0, 1], 0),\n",
        "        ([1, 2], \"Error\"),\n",
        "    ]\n",
        "\n",
        "# View: Call the test suite and display the results\n",
        "def main():\n",
        "    \"\"\"\n",
        "    Run the program.\n",
        "    \"\"\"\n",
        "    print(\"Running test suite...\\n\")\n",
        "    test_cases_list = test_cases()\n",
        "\n",
        "    for i, (input, expected_output) in enumerate(test_cases_list):\n",
        "        print(f\"Test case {i+1}:\")\n",
        "        print(f\"Input: {input}\")\n",
        "        try:\n",
        "            output = largest_product_of_three(input)\n",
        "            print(f\"Output: {output}\")\n",
        "            print(f\"Status: {'PASS' if output == expected_output else 'FAIL'}\\n\")\n",
        "        except Exception as e:\n",
        "            print(f\"Output: {str(e)}\")\n",
        "            print(f\"Status: {'PASS' if str(e) == expected_output else 'FAIL'}\\n\")\n",
        "\n",
        "if __name__ == \"__main__\":\n",
        "    main()\n"
      ]
    }
  ]
}