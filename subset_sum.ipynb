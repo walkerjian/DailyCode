{
  "nbformat": 4,
  "nbformat_minor": 0,
  "metadata": {
    "colab": {
      "provenance": [],
      "authorship_tag": "ABX9TyOUXQMb6cOveSo/10vaX2WN",
      "include_colab_link": true
    },
    "kernelspec": {
      "name": "python3",
      "display_name": "Python 3"
    },
    "language_info": {
      "name": "python"
    }
  },
  "cells": [
    {
      "cell_type": "markdown",
      "metadata": {
        "id": "view-in-github",
        "colab_type": "text"
      },
      "source": [
        "<a href=\"https://colab.research.google.com/github/walkerjian/DailyCode/blob/main/subset_sum.ipynb\" target=\"_parent\"><img src=\"https://colab.research.google.com/assets/colab-badge.svg\" alt=\"Open In Colab\"/></a>"
      ]
    },
    {
      "cell_type": "markdown",
      "source": [
        "Given a list of integers S and a target number k, write a function that returns a subset of S that adds up to k. If such a subset cannot be made, then return null.\n",
        "\n",
        "Integers can appear more than once in the list. You may assume all numbers in the list are positive.\n",
        "\n",
        "For example, given S = [12, 1, 61, 5, 9, 2] and k = 24, return [12, 9, 2, 1] since it sums up to 24."
      ],
      "metadata": {
        "id": "_46Zsn4urfEq"
      }
    },
    {
      "cell_type": "markdown",
      "source": [
        "This is a variation of the classic \"Subset Sum\" problem, which is known to be NP-complete. We can solve this problem using recursion with backtracking. Here's how the recursive approach works:\n",
        "\n",
        "1. Start with an empty subset and the entire list \\( S \\).\n",
        "2. For each number in the list, make a choice:\n",
        "   a. Include the number in the current subset.\n",
        "   b. Exclude the number from the current subset.\n",
        "3. If the sum of the current subset equals \\( k \\), we've found a valid subset.\n",
        "4. If the sum of the current subset exceeds \\( k \\) or if we've tried all numbers in the list, backtrack and try the next choice.\n",
        "5. If we've exhausted all possibilities and haven't found a valid subset, return null.\n",
        "\n",
        "Here's the Python code that implements this approach:\n",
        "\n",
        "The function returned the subset \\([12, 1, 9, 2]\\) which sums up to 24, as expected.\n",
        "\n",
        "You can use this function to find a subset that adds up to a target number \\( k \\) for any given list of positive integers \\( S \\). Keep in mind that the solution may not be unique, and there might be multiple subsets that add up to the target number. The function will return one valid subset if it exists."
      ],
      "metadata": {
        "id": "EEejKmq0racU"
      }
    },
    {
      "cell_type": "code",
      "execution_count": 1,
      "metadata": {
        "colab": {
          "base_uri": "https://localhost:8080/"
        },
        "id": "HmlG6vadrGSp",
        "outputId": "7c2e95a5-29f3-4504-e3e7-7b508cf462c5"
      },
      "outputs": [
        {
          "output_type": "execute_result",
          "data": {
            "text/plain": [
              "[(([12, 1, 61, 5, 9, 2], 24), [12, 1, 9, 2]),\n",
              " (([], 10), None),\n",
              " (([1, 2, 3, 4, 5], 15), [1, 2, 3, 4, 5]),\n",
              " (([1, 2, 3, 4, 5], 100), None),\n",
              " (([5, 5, 5, 5], 10), [5, 5]),\n",
              " (([5, 5, 5, 5], 30), None),\n",
              " (([1, 1, 1, 1, 1, 1, 1, 1, 1, 1], 5), [1, 1, 1, 1, 1])]"
            ]
          },
          "metadata": {},
          "execution_count": 1
        }
      ],
      "source": [
        "def subset_sum(S, k):\n",
        "    \"\"\"\n",
        "    Returns a subset of list S that adds up to the target number k. If no such subset exists, returns None.\n",
        "\n",
        "    :param S: List of positive integers\n",
        "    :param k: Target sum\n",
        "    :return: List of integers forming the subset sum or None\n",
        "    \"\"\"\n",
        "    def backtrack(start, current_sum, current_subset):\n",
        "        if current_sum == k:\n",
        "            return current_subset[:]\n",
        "        if current_sum > k or start == len(S):\n",
        "            return None\n",
        "\n",
        "        # Include the current number in the subset\n",
        "        with_current = backtrack(start + 1, current_sum + S[start], current_subset + [S[start]])\n",
        "        if with_current:\n",
        "            return with_current\n",
        "\n",
        "        # Exclude the current number from the subset\n",
        "        return backtrack(start + 1, current_sum, current_subset)\n",
        "\n",
        "    return backtrack(0, 0, [])\n",
        "\n",
        "# Test cases\n",
        "test_cases = [\n",
        "    ([12, 1, 61, 5, 9, 2], 24),          # Basic test case\n",
        "    ([], 10),                            # Empty list\n",
        "    ([1, 2, 3, 4, 5], 15),               # Sum of all elements\n",
        "    ([1, 2, 3, 4, 5], 100),              # No subset possible\n",
        "    ([5, 5, 5, 5], 10),                  # Repeated numbers, possible subset\n",
        "    ([5, 5, 5, 5], 30),                  # Repeated numbers, no subset\n",
        "    ([1, 1, 1, 1, 1, 1, 1, 1, 1, 1], 5) # Many numbers, small subset\n",
        "]\n",
        "\n",
        "results = [(test, subset_sum(*test)) for test in test_cases]\n",
        "results\n"
      ]
    }
  ]
}