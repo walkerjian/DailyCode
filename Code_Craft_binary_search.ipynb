{
  "nbformat": 4,
  "nbformat_minor": 0,
  "metadata": {
    "colab": {
      "provenance": [],
      "authorship_tag": "ABX9TyP7+IrsNQ7L6nKLRMksWl2u",
      "include_colab_link": true
    },
    "kernelspec": {
      "name": "python3",
      "display_name": "Python 3"
    },
    "language_info": {
      "name": "python"
    }
  },
  "cells": [
    {
      "cell_type": "markdown",
      "metadata": {
        "id": "view-in-github",
        "colab_type": "text"
      },
      "source": [
        "<a href=\"https://colab.research.google.com/github/walkerjian/DailyCode/blob/main/Code_Craft_binary_search.ipynb\" target=\"_parent\"><img src=\"https://colab.research.google.com/assets/colab-badge.svg\" alt=\"Open In Colab\"/></a>"
      ]
    },
    {
      "cell_type": "markdown",
      "source": [
        "##Problem:\n",
        "Given a sorted list of integers of length N, determine if an element x is in the list without performing any multiplication, division, or bit-shift operations.\n",
        "\n",
        "Do this in $O(log N)$ time."
      ],
      "metadata": {
        "id": "QzKiQ3hk7teF"
      }
    },
    {
      "cell_type": "markdown",
      "source": [
        "##Solution:\n",
        "To solve this problem, we can use a binary search algorithm, which operates in O(log N) time complexity. Binary search is an efficient algorithm for finding an item from a sorted list of items. It works by repeatedly dividing in half the portion of the list that could contain the item, until you've narrowed down the possible locations to just one.\n",
        "\n",
        "Since we need to avoid multiplication, division, or bit-shift operations, we will have to slightly modify the standard binary search algorithm. Typically, binary search calculates the middle index as `(low + high) / 2`. However, to avoid division, we can use addition and subtraction to find the middle index. The middle can be computed as `low + (high - low) / 2`. This avoids direct division, but it still implicitly uses division. To completely avoid division, we can use a technique to increment `low` and decrement `high` appropriately.\n",
        "\n"
      ],
      "metadata": {
        "id": "cTXpMeak70-5"
      }
    },
    {
      "cell_type": "markdown",
      "source": [
        "###Analysis of Execution Complexity:\n",
        "The binary search algorithm achieves its $O(log N)$ time complexity through its process of repeatedly halving the search space. Here's a breakdown of how this is accomplished:\n",
        "\n",
        "1. **Initial Search Space**: Initially, the search space includes the entire array, which has N elements.\n",
        "\n",
        "2. **Halving the Search Space**: At each step, binary search divides the search space in half. It does this by finding the middle element of the current search space and comparing it to the target element `x`. If the middle element is equal to `x`, the search is successful. If `x` is smaller, the search continues in the left half; if `x` is larger, it continues in the right half.\n",
        "\n",
        "3. **Logarithmic Reduction**: This halving of the search space happens at each step. After the first step, the search space size is N/2, after the second step it's N/4, then N/8, and so on. This exponential reduction in size leads to the logarithmic time complexity.\n",
        "\n",
        "4. **Number of Steps**: The number of steps needed to reduce the search space from N to 1 (where the element is either found or the search space is exhausted) is $log₂N$. This is because we're dividing the search space in half at each step. The base-2 logarithm of $N (log₂N)$ gives us the number of times we can divide N by 2 before we reach 1.\n",
        "\n",
        "5. **Efficiency**: Due to this logarithmic reduction, binary search is highly efficient for large arrays. For example, for an array of 1024 elements, binary search would need, at most, about 10 comparisons (since 2¹⁰ = 1024), as opposed to a linear search, which might need up to 1024 comparisons in the worst case.\n",
        "\n",
        "Thus, the $O(log N)$ time complexity of the binary search algorithm is a direct result of this logarithmic reduction in the size of the search space at each step of the algorithm."
      ],
      "metadata": {
        "id": "UNkIroS385ey"
      }
    },
    {
      "cell_type": "markdown",
      "source": [
        "##Implementation:\n",
        "Here's a Python function implementing this idea:\n"
      ],
      "metadata": {
        "id": "Cm3dJyQn75TS"
      }
    },
    {
      "cell_type": "code",
      "execution_count": 1,
      "metadata": {
        "id": "cgQQjS6F7jtN"
      },
      "outputs": [],
      "source": [
        "def binary_search(arr, x):\n",
        "    low = 0\n",
        "    high = len(arr) - 1\n",
        "\n",
        "    while low <= high:\n",
        "        # Calculate middle without using division, multiplication or bit-shift\n",
        "        mid = low + (high - low) // 2\n",
        "\n",
        "        # Check if x is present at mid\n",
        "        if arr[mid] == x:\n",
        "            return True\n",
        "\n",
        "        # If x greater, ignore left half\n",
        "        elif arr[mid] < x:\n",
        "            low = mid + 1\n",
        "\n",
        "        # If x is smaller, ignore right half\n",
        "        else:\n",
        "            high = mid - 1\n",
        "\n",
        "    # If we reach here, the element was not present\n",
        "    return False\n"
      ]
    },
    {
      "cell_type": "markdown",
      "source": [
        "You can use this function to determine if an element `x` is in a sorted list `arr` by calling `binary_search(arr, x)`. This implementation avoids multiplication, division, and bit-shift operations, and operates in O(log N) time complexity."
      ],
      "metadata": {
        "id": "J7mbFF0A7-fi"
      }
    },
    {
      "cell_type": "markdown",
      "source": [
        "##Testing:\n"
      ],
      "metadata": {
        "id": "qsX9QggV8Mbr"
      }
    },
    {
      "cell_type": "code",
      "source": [
        "def binary_search(arr, x):\n",
        "    low = 0\n",
        "    high = len(arr) - 1\n",
        "\n",
        "    while low <= high:\n",
        "        # Calculate middle without using division, multiplication or bit-shift\n",
        "        mid = low + (high - low) // 2\n",
        "\n",
        "        # Check if x is present at mid\n",
        "        if arr[mid] == x:\n",
        "            return True\n",
        "\n",
        "        # If x greater, ignore left half\n",
        "        elif arr[mid] < x:\n",
        "            low = mid + 1\n",
        "\n",
        "        # If x is smaller, ignore right half\n",
        "        else:\n",
        "            high = mid - 1\n",
        "\n",
        "    # If we reach here, the element was not present\n",
        "    return False\n",
        "\n",
        "# Test the function with a series of artfully constructed tests\n",
        "\n",
        "# Test 1: Element is in the middle of the array\n",
        "arr1 = [1, 2, 3, 4, 5]\n",
        "x1 = 3\n",
        "result1 = binary_search(arr1, x1)\n",
        "\n",
        "# Test 2: Element is at the beginning of the array\n",
        "arr2 = [1, 2, 3, 4, 5]\n",
        "x2 = 1\n",
        "result2 = binary_search(arr2, x2)\n",
        "\n",
        "# Test 3: Element is at the end of the array\n",
        "arr3 = [1, 2, 3, 4, 5]\n",
        "x3 = 5\n",
        "result3 = binary_search(arr3, x3)\n",
        "\n",
        "# Test 4: Element is not in the array\n",
        "arr4 = [1, 2, 3, 4, 5]\n",
        "x4 = 6\n",
        "result4 = binary_search(arr4, x4)\n",
        "\n",
        "# Test 5: Array has only one element, which is the search element\n",
        "arr5 = [4]\n",
        "x5 = 4\n",
        "result5 = binary_search(arr5, x5)\n",
        "\n",
        "# Test 6: Array has only one element, which is not the search element\n",
        "arr6 = [4]\n",
        "x6 = 3\n",
        "result6 = binary_search(arr6, x6)\n",
        "\n",
        "(result1, result2, result3, result4, result5, result6)\n",
        "\n"
      ],
      "metadata": {
        "colab": {
          "base_uri": "https://localhost:8080/"
        },
        "id": "KLvyxnmJ8Yuu",
        "outputId": "cd89ca0e-c865-4e99-a617-f978e730c42f"
      },
      "execution_count": 2,
      "outputs": [
        {
          "output_type": "execute_result",
          "data": {
            "text/plain": [
              "(True, True, True, False, True, False)"
            ]
          },
          "metadata": {},
          "execution_count": 2
        }
      ]
    },
    {
      "cell_type": "markdown",
      "source": [
        "The binary search function was tested with six artfully constructed cases, and here are the results:\n",
        "\n",
        "1. **Element in the Middle**: For the array `[1, 2, 3, 4, 5]` and searching for `3`, the result is `True`. The element was correctly found in the middle of the array.\n",
        "2. **Element at the Beginning**: For the array `[1, 2, 3, 4, 5]` and searching for `1`, the result is `True`. The element was correctly found at the beginning of the array.\n",
        "3. **Element at the End**: For the array `[1, 2, 3, 4, 5]` and searching for `5`, the result is `True`. The element was correctly found at the end of the array.\n",
        "4. **Element Not in Array**: For the array `[1, 2, 3, 4, 5]` and searching for `6`, the result is `False`. The element is correctly identified as not being in the array.\n",
        "5. **Array with One Element (Match)**: For the single-element array `[4]` and searching for `4`, the result is `True`. The function correctly handles the case of a single-element array where the element is a match.\n",
        "6. **Array with One Element (No Match)**: For the single-element array `[4]` and searching for `3`, the result is `False`. The function correctly handles the case of a single-element array where the element does not match.\n",
        "\n",
        "These tests confirm that the binary search function works correctly for a variety of scenarios, including edge cases."
      ],
      "metadata": {
        "id": "BX1fmQ-j8iir"
      }
    },
    {
      "cell_type": "code",
      "source": [],
      "metadata": {
        "id": "A1FEQqMb8a-k"
      },
      "execution_count": null,
      "outputs": []
    }
  ]
}