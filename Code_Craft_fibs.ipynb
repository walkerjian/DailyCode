{
  "nbformat": 4,
  "nbformat_minor": 0,
  "metadata": {
    "colab": {
      "provenance": [],
      "authorship_tag": "ABX9TyNFKe+34XEW+7Sk3GgRU1mN",
      "include_colab_link": true
    },
    "kernelspec": {
      "name": "python3",
      "display_name": "Python 3"
    },
    "language_info": {
      "name": "python"
    }
  },
  "cells": [
    {
      "cell_type": "markdown",
      "metadata": {
        "id": "view-in-github",
        "colab_type": "text"
      },
      "source": [
        "<a href=\"https://colab.research.google.com/github/walkerjian/DailyCode/blob/main/Code_Craft_fibs.ipynb\" target=\"_parent\"><img src=\"https://colab.research.google.com/assets/colab-badge.svg\" alt=\"Open In Colab\"/></a>"
      ]
    },
    {
      "cell_type": "markdown",
      "source": [
        "Implement the function fib(n), which returns the nth number in the Fibonacci sequence, using only O(1) space."
      ],
      "metadata": {
        "id": "dCp5F0wJcFVI"
      }
    },
    {
      "cell_type": "markdown",
      "source": [
        "The Fibonacci sequence is defined such that each number is the sum of the two preceding ones, starting from 0 and 1. To achieve O(1) space complexity, we need to calculate the sequence iteratively, only keeping track of the last two numbers at any point, which are necessary to compute the next Fibonacci number."
      ],
      "metadata": {
        "id": "qf6mKEFVcQc0"
      }
    },
    {
      "cell_type": "code",
      "execution_count": 1,
      "metadata": {
        "id": "L3xhegutz6Ue"
      },
      "outputs": [],
      "source": [
        "def fib(n):\n",
        "    if n == 0:\n",
        "        return 0\n",
        "    elif n == 1:\n",
        "        return 1\n",
        "\n",
        "    prev1 = 1  # Represents F(n-1)\n",
        "    prev2 = 0  # Represents F(n-2)\n",
        "\n",
        "    for i in range(2, n + 1):\n",
        "        current = prev1 + prev2\n",
        "        prev2 = prev1\n",
        "        prev1 = current\n",
        "\n",
        "    return prev1"
      ]
    },
    {
      "cell_type": "markdown",
      "source": [
        "\n",
        "This function handles the first two Fibonacci numbers as special cases and then iterates from the second Fibonacci number up to `n`. During each iteration, it computes the next Fibonacci number as the sum of the previous two, updates the variables accordingly, and only retains these two variables throughout the process, achieving constant space usage."
      ],
      "metadata": {
        "id": "7_PSBo4zdKSk"
      }
    },
    {
      "cell_type": "code",
      "source": [
        "def test_fibonacci():\n",
        "    # Test cases\n",
        "    assert fib(0) == 0, \"Test case fib(0) failed\"\n",
        "    assert fib(1) == 1, \"Test case fib(1) failed\"\n",
        "    assert fib(2) == 1, \"Test case fib(2) failed\"\n",
        "    assert fib(3) == 2, \"Test case fib(3) failed\"\n",
        "    assert fib(4) == 3, \"Test case fib(4) failed\"\n",
        "    assert fib(5) == 5, \"Test case fib(5) failed\"\n",
        "    assert fib(6) == 8, \"Test case fib(6) failed\"\n",
        "    assert fib(10) == 55, \"Test case fib(10) failed\"\n",
        "    assert fib(20) == 6765, \"Test case fib(20) failed\"\n",
        "    assert fib(30) == 832040, \"Test case fib(30) failed\"\n",
        "    assert fib(50) == 12586269025, \"Test case fib(50) failed\"\n",
        "\n",
        "    print(\"All tests passed!\")\n",
        "\n",
        "# Run the tests\n",
        "test_fibonacci()\n"
      ],
      "metadata": {
        "colab": {
          "base_uri": "https://localhost:8080/"
        },
        "id": "oXNBUrUCc3C9",
        "outputId": "9e84fcf7-b3b0-4d43-88cb-34819d5f02a6"
      },
      "execution_count": 3,
      "outputs": [
        {
          "output_type": "stream",
          "name": "stdout",
          "text": [
            "All tests passed!\n"
          ]
        }
      ]
    },
    {
      "cell_type": "markdown",
      "source": [
        "### Theorem\n",
        "The iterative implementation of the Fibonacci sequence function `fib(n)` requires $O(1)$ space.\n",
        "\n",
        "### Proof\n",
        "\n",
        "**Function Definition**:\n",
        "The Fibonacci function $fib(n)$ is defined iteratively as follows:\n",
        "\n",
        "$$\n",
        "fib(n) =\n",
        "\\begin{cases}\n",
        "0 & \\text{if } n = 0 \\\\\n",
        "1 & \\text{if } n = 1 \\\\\n",
        "fib(n-1) + fib(n-2) & \\text{if } n > 1\n",
        "\\end{cases}\n",
        "$$\n",
        "\n",
        "The iterative approach computes $fib(n)$ using a loop starting from 2 up to $n$, maintaining the two most recent Fibonacci values in the variables $prev1$ and $prev2$.\n",
        "\n",
        "**Space Complexity Analysis**:\n",
        "\n",
        "1. **Variable Allocation**: The function maintains only three integer variables: `prev1`, `prev2`, and `current`. Each variable occupies a constant amount of space, typically the size of an integer in the host machine's architecture.\n",
        "\n",
        "2. **Independence from Input Size**: The number of variables does not scale with $n$; it remains constant regardless of the input size. Specifically, the space used is independent of $n$ and fixed to three integer storage locations.\n",
        "\n",
        "3. **No Auxiliary Space**: The algorithm does not utilize any additional data structures (e.g., arrays, lists, or matrices) whose size might vary with the input. The absence of dynamic or auxiliary storage is crucial in confirming that the space usage is constant.\n",
        "\n",
        "4. **Formal Declaration**: Let $S(n)$ denote the space complexity of the function $fib(n)$. Given the constant number of variables, we assert:\n",
        "\n",
        "   $$\n",
        "   S(n) = O(1)\n",
        "   $$\n",
        "\n",
        "**Conclusion**:\n",
        "Therefore, we conclude that the space complexity of the function $fib(n)$ is $O(1)$. This analysis strictly demonstrates that the memory requirements for the function are constant and do not scale with the input size $n$, adhering to the definition of constant space complexity."
      ],
      "metadata": {
        "id": "oHQVIcnNeJ2s"
      }
    }
  ]
}