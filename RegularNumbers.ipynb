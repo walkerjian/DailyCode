{
  "nbformat": 4,
  "nbformat_minor": 0,
  "metadata": {
    "colab": {
      "provenance": [],
      "authorship_tag": "ABX9TyNS7BgTcCzpg4Je8cvhkG+z",
      "include_colab_link": true
    },
    "kernelspec": {
      "name": "python3",
      "display_name": "Python 3"
    },
    "language_info": {
      "name": "python"
    }
  },
  "cells": [
    {
      "cell_type": "markdown",
      "metadata": {
        "id": "view-in-github",
        "colab_type": "text"
      },
      "source": [
        "<a href=\"https://colab.research.google.com/github/walkerjian/DailyCode/blob/main/RegularNumbers.ipynb\" target=\"_parent\"><img src=\"https://colab.research.google.com/assets/colab-badge.svg\" alt=\"Open In Colab\"/></a>"
      ]
    },
    {
      "cell_type": "code",
      "execution_count": 1,
      "metadata": {
        "colab": {
          "base_uri": "https://localhost:8080/"
        },
        "id": "fZlaSzpHTP8r",
        "outputId": "dd50b770-07e7-482e-db0c-de0ccc8ab728"
      },
      "outputs": [
        {
          "output_type": "stream",
          "name": "stdout",
          "text": [
            "Testing with N = 1:\n",
            "The first N regular numbers are: [1]\n",
            "\n",
            "Testing with N = 5:\n",
            "The first N regular numbers are: [1, 2, 3, 4, 5]\n",
            "\n",
            "Testing with N = 10:\n",
            "The first N regular numbers are: [1, 2, 3, 4, 5, 6, 8, 9, 10, 12]\n",
            "\n",
            "Testing with N = 15:\n",
            "The first N regular numbers are: [1, 2, 3, 4, 5, 6, 8, 9, 10, 12, 15, 16, 18, 20, 24]\n",
            "\n"
          ]
        }
      ],
      "source": [
        "\"\"\"\n",
        "Problem:\n",
        "A regular number in mathematics is defined as one which evenly divides some power of 60.\n",
        "Equivalently, a regular number is one whose only prime divisors are 2, 3, and 5.\n",
        "The task is to write a program that returns, in order, the first N regular numbers.\n",
        "\n",
        "Approach:\n",
        "- Use a priority queue (min heap) to efficiently manage the next smallest regular numbers.\n",
        "- Add the base regular numbers (2, 3, 5) to the heap.\n",
        "- Pop the smallest number from the heap and add its multiples with 2, 3, and 5 to the heap.\n",
        "- Repeat the process N times to find the first N regular numbers.\n",
        "\"\"\"\n",
        "\n",
        "import heapq\n",
        "\n",
        "# Model\n",
        "class RegularNumbersModel:\n",
        "    def __init__(self, N):\n",
        "        self.N = N\n",
        "        self.regular_numbers = self.generate_regular_numbers()\n",
        "\n",
        "    def generate_regular_numbers(self):\n",
        "        \"\"\"Generate the first N regular numbers.\"\"\"\n",
        "        regular_numbers = [1]  # Start with the base regular number 1\n",
        "        min_heap = [1]  # Use a min heap to efficiently get the next regular number\n",
        "        seen = set([1])  # To avoid duplicates\n",
        "\n",
        "        for _ in range(self.N - 1):\n",
        "            smallest = heapq.heappop(min_heap)\n",
        "            for factor in [2, 3, 5]:\n",
        "                next_regular = smallest * factor\n",
        "                if next_regular not in seen:\n",
        "                    seen.add(next_regular)\n",
        "                    heapq.heappush(min_heap, next_regular)\n",
        "            regular_numbers.append(min_heap[0])\n",
        "\n",
        "        return regular_numbers\n",
        "\n",
        "# View\n",
        "class RegularNumbersView:\n",
        "    def show_regular_numbers(self, regular_numbers):\n",
        "        print(\"The first N regular numbers are:\", regular_numbers)\n",
        "\n",
        "# Controller\n",
        "class RegularNumbersController:\n",
        "    def __init__(self, N):\n",
        "        self.model = RegularNumbersModel(N)\n",
        "        self.view = RegularNumbersView()\n",
        "\n",
        "    def get_regular_numbers(self):\n",
        "        self.view.show_regular_numbers(self.model.regular_numbers)\n",
        "\n",
        "# Test Suite\n",
        "def test_suite():\n",
        "    test_cases = [1, 5, 10, 15]\n",
        "    for N in test_cases:\n",
        "        print(f\"Testing with N = {N}:\")\n",
        "        controller = RegularNumbersController(N)\n",
        "        controller.get_regular_numbers()\n",
        "        print()\n",
        "\n",
        "if __name__ == \"__main__\":\n",
        "    test_suite()\n"
      ]
    }
  ]
}