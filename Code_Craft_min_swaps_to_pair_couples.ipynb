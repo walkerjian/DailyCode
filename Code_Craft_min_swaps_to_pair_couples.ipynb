{
  "nbformat": 4,
  "nbformat_minor": 0,
  "metadata": {
    "colab": {
      "provenance": [],
      "authorship_tag": "ABX9TyNxfTfiuDnuqj3Rb6a0TJQ3",
      "include_colab_link": true
    },
    "kernelspec": {
      "name": "python3",
      "display_name": "Python 3"
    },
    "language_info": {
      "name": "python"
    }
  },
  "cells": [
    {
      "cell_type": "markdown",
      "metadata": {
        "id": "view-in-github",
        "colab_type": "text"
      },
      "source": [
        "<a href=\"https://colab.research.google.com/github/walkerjian/DailyCode/blob/main/Code_Craft_min_swaps_to_pair_couples.ipynb\" target=\"_parent\"><img src=\"https://colab.research.google.com/assets/colab-badge.svg\" alt=\"Open In Colab\"/></a>"
      ]
    },
    {
      "cell_type": "markdown",
      "source": [
        "here are N couples sitting in a row of length 2 * N. They are currently ordered randomly, but would like to rearrange themselves so that each couple's partners can sit side by side.\n",
        "\n",
        "What is the minimum number of swaps necessary for this to happen?"
      ],
      "metadata": {
        "id": "93tPTwxHFjmx"
      }
    },
    {
      "cell_type": "markdown",
      "source": [
        "To determine the minimum number of swaps required to arrange N couples so that each couple sits side by side, you can use a graph-based approach. Here's a step-by-step method to solve this:\n",
        "\n",
        "1. **Model the Problem as a Graph**: Consider each couple as a vertex in a graph. If a person is currently sitting in a seat that belongs to a different couple according to the target configuration, create an edge between the two corresponding couples (vertices). Each edge in this graph represents a misplacement that needs to be corrected.\n",
        "\n",
        "2. **Identify Cycles**: In this graph, each connected component will form a cycle. A cycle indicates a group of couples who are intermixed and need to be rearranged amongst themselves to sit correctly. The presence of a cycle means swapping members of the cycle until each member (or couple) is in its correct position.\n",
        "\n",
        "3. **Count the Swaps for Each Cycle**: To arrange the members of a cycle correctly, the number of swaps required is equal to the size of the cycle minus one. For example, a cycle involving three couples (A, B, C) can be arranged correctly with two swaps (A <-> B, B <-> C, for instance).\n",
        "\n",
        "4. **Sum All Swaps**: To get the total number of swaps, sum the swaps required for each cycle in the graph.\n",
        "\n",
        "Let's break down this approach with more clarity:\n",
        "\n",
        "- **Initial and Target Positions**: You need to know where each individual is initially and where they need to be. Suppose you label the couples from 0 to N-1 and the positions from 0 to 2N-1.\n",
        "\n",
        "- **Create the Graph**: For each couple, determine where each partner should end up. For every person, identify which couple they belong to and who their partner should be. Draw an edge between the couple they belong to and the couple they are currently \"interfering\" with (i.e., where they are sitting now).\n",
        "\n",
        "- **Cycle Decomposition**: Use graph traversal techniques such as depth-first search (DFS) or breadth-first search (BFS) to identify all cycles in the graph.\n",
        "\n",
        "- **Calculate Minimum Swaps**: Use the formula for swaps needed per cycle to compute the total.\n",
        "\n",
        "To illustrate this concept, consider a simpler example where N = 3 and couples are indexed as 0, 1, and 2. If they are seated as follows:\n",
        "- Positions: 0 1 2 3 4 5\n",
        "- Couples: 1, 0, 2, 2, 1, 0 (indices of couples not the individual persons)\n",
        "\n",
        "This would lead to a graph with edges representing incorrect placements, and you would follow the cycle decomposition approach to calculate swaps."
      ],
      "metadata": {
        "id": "eWHnjzxuF3ir"
      }
    },
    {
      "cell_type": "markdown",
      "source": [
        "Breakdown of the Code:\n",
        "- **Initialization**: We assume `arr` is a list where each element represents a person, and each consecutive pair of indices in `arr` (0-indexed) are couples (e.g., indices `(0,1)`, `(2,3)`, `(4,5)` for couples 0, 1, and 2, respectively). The values are shuffled positions of persons.\n",
        "\n",
        "- **Position Array `pos`**: This stores the current position of each person in the seating arrangement.\n",
        "\n",
        "- **Visited Array**: This keeps track of which individuals have already been considered in a cycle.\n",
        "\n",
        "- **Cycle Detection and Counting Swaps**: For each unvisited person, the code tracks how long the cycle they are part of is. Each cycle of size `k` requires `k-1` swaps to sort.\n",
        "\n",
        "How to Use:\n",
        "- Input `arr` should be constructed such that each even index `2i` and `2i+1` should ideally host couple `i`.\n",
        "- The provided array should represent the actual current shuffled positions of the couples.\n",
        "\n",
        "This code will correctly calculate the minimum number of swaps required to pair up the couples as intended. If you have any specific input format or need further explanation on any part, feel free to ask!"
      ],
      "metadata": {
        "id": "pEs-RBZRGAAw"
      }
    },
    {
      "cell_type": "code",
      "execution_count": 1,
      "metadata": {
        "colab": {
          "base_uri": "https://localhost:8080/"
        },
        "id": "USkt12EiEQpe",
        "outputId": "749a1243-8a4a-4560-a7b0-bf9082f390a9"
      },
      "outputs": [
        {
          "output_type": "stream",
          "name": "stdout",
          "text": [
            "3\n"
          ]
        }
      ],
      "source": [
        "def min_swaps_to_pair_couples(arr):\n",
        "    n = len(arr) // 2\n",
        "    pos = [0] * (2 * n)\n",
        "    for i, x in enumerate(arr):\n",
        "        pos[x] = i\n",
        "\n",
        "    visited = [False] * (2 * n)\n",
        "    ans = 0\n",
        "\n",
        "    for i in range(2 * n):\n",
        "        if not visited[i]:\n",
        "            cycle_size = 0\n",
        "            x = i\n",
        "            while not visited[x]:\n",
        "                visited[x] = True\n",
        "                # Find the partner's expected position\n",
        "                partner_pos = pos[arr[x] ^ 1]\n",
        "                x = partner_pos\n",
        "                cycle_size += 1\n",
        "            if cycle_size > 1:\n",
        "                ans += (cycle_size - 1)  # Minimum swaps required to sort the cycle\n",
        "\n",
        "    return ans\n",
        "\n",
        "# Example usage:\n",
        "arr = [1, 3, 0, 5, 2, 4]  # Representing couples (0, 1), (2, 3), and (4, 5)\n",
        "print(min_swaps_to_pair_couples(arr))  # Output the minimum number of swaps"
      ]
    }
  ]
}