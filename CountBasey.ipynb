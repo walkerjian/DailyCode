{
  "nbformat": 4,
  "nbformat_minor": 0,
  "metadata": {
    "colab": {
      "provenance": [],
      "authorship_tag": "ABX9TyMhm3XWdBuqpqGtYOVtiono",
      "include_colab_link": true
    },
    "kernelspec": {
      "name": "python3",
      "display_name": "Python 3"
    },
    "language_info": {
      "name": "python"
    }
  },
  "cells": [
    {
      "cell_type": "markdown",
      "metadata": {
        "id": "view-in-github",
        "colab_type": "text"
      },
      "source": [
        "<a href=\"https://colab.research.google.com/github/walkerjian/DailyCode/blob/main/CountBasey.ipynb\" target=\"_parent\"><img src=\"https://colab.research.google.com/assets/colab-badge.svg\" alt=\"Open In Colab\"/></a>"
      ]
    },
    {
      "cell_type": "code",
      "source": [
        "def generate_and_display_table_v2(N, X, base=10):\n",
        "    # Symbols for the respective base\n",
        "    symbols = \"0123456789ABCDEF\"[:base]\n",
        "    max_width = len(str(N * N))\n",
        "\n",
        "    # Convert number to the specified base\n",
        "    def to_base(num, base):\n",
        "        if num == 0:\n",
        "            return '0'\n",
        "        digits = []\n",
        "        while num:\n",
        "            digits.append(symbols[num % base])\n",
        "            num //= base\n",
        "        return ''.join(digits[::-1]).rjust(max_width, ' ')\n",
        "\n",
        "    # Generate the NxN table and count occurrences of X\n",
        "    table = [[(i+1) * (j+1) for j in range(N)] for i in range(N)]\n",
        "    count = sum(row.count(X) for row in table)\n",
        "\n",
        "    # Format the table\n",
        "    formatted_table = [[\" \".join([f\" {to_base(val, base)} \" if val != X else f\"[{to_base(val, base)}]\"]) for val in row] for row in table]\n",
        "    table_str = \"\\n\".join([\" \".join(row) for row in formatted_table])\n",
        "\n",
        "    # Generate the explanation\n",
        "    explanation = (\n",
        "        f\"N = {N}, X = {X}\\n\\nin base {base} (using symbols '{symbols}')\\n\\nThe count is: {count}\\n\\nThe table is as follows:\\n\\n{table_str}\"\n",
        "    )\n",
        "\n",
        "    return explanation\n",
        "\n",
        "N = 16\n",
        "X = 12\n",
        "base = 16\n",
        "explanation_output_v2 = generate_and_display_table_v2(N, X, base)\n",
        "print(explanation_output_v2)"
      ],
      "metadata": {
        "colab": {
          "base_uri": "https://localhost:8080/"
        },
        "id": "a1R-ePR0yXnP",
        "outputId": "7c425534-464a-4eaf-d7f8-9de499d052b4"
      },
      "execution_count": 51,
      "outputs": [
        {
          "output_type": "stream",
          "name": "stdout",
          "text": [
            "N = 16, X = 12\n",
            "\n",
            "in base 16 (using symbols '0123456789ABCDEF')\n",
            "\n",
            "The count is: 6\n",
            "\n",
            "The table is as follows:\n",
            "\n",
            "   1     2     3     4     5     6     7     8     9     A     B  [  C]    D     E     F    10 \n",
            "   2     4     6     8     A  [  C]    E    10    12    14    16    18    1A    1C    1E    20 \n",
            "   3     6     9  [  C]    F    12    15    18    1B    1E    21    24    27    2A    2D    30 \n",
            "   4     8  [  C]   10    14    18    1C    20    24    28    2C    30    34    38    3C    40 \n",
            "   5     A     F    14    19    1E    23    28    2D    32    37    3C    41    46    4B    50 \n",
            "   6  [  C]   12    18    1E    24    2A    30    36    3C    42    48    4E    54    5A    60 \n",
            "   7     E    15    1C    23    2A    31    38    3F    46    4D    54    5B    62    69    70 \n",
            "   8    10    18    20    28    30    38    40    48    50    58    60    68    70    78    80 \n",
            "   9    12    1B    24    2D    36    3F    48    51    5A    63    6C    75    7E    87    90 \n",
            "   A    14    1E    28    32    3C    46    50    5A    64    6E    78    82    8C    96    A0 \n",
            "   B    16    21    2C    37    42    4D    58    63    6E    79    84    8F    9A    A5    B0 \n",
            "[  C]   18    24    30    3C    48    54    60    6C    78    84    90    9C    A8    B4    C0 \n",
            "   D    1A    27    34    41    4E    5B    68    75    82    8F    9C    A9    B6    C3    D0 \n",
            "   E    1C    2A    38    46    54    62    70    7E    8C    9A    A8    B6    C4    D2    E0 \n",
            "   F    1E    2D    3C    4B    5A    69    78    87    96    A5    B4    C3    D2    E1    F0 \n",
            "  10    20    30    40    50    60    70    80    90    A0    B0    C0    D0    E0    F0   100 \n"
          ]
        }
      ]
    },
    {
      "cell_type": "code",
      "source": [],
      "metadata": {
        "id": "8lgqhI3S9QxW"
      },
      "execution_count": null,
      "outputs": []
    }
  ]
}