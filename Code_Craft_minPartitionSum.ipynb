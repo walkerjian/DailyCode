{
  "nbformat": 4,
  "nbformat_minor": 0,
  "metadata": {
    "colab": {
      "provenance": [],
      "authorship_tag": "ABX9TyPyOrlR6N17vIaDnoBLB+FH",
      "include_colab_link": true
    },
    "kernelspec": {
      "name": "python3",
      "display_name": "Python 3"
    },
    "language_info": {
      "name": "python"
    }
  },
  "cells": [
    {
      "cell_type": "markdown",
      "metadata": {
        "id": "view-in-github",
        "colab_type": "text"
      },
      "source": [
        "<a href=\"https://colab.research.google.com/github/walkerjian/DailyCode/blob/main/Code_Craft_minPartitionSum.ipynb\" target=\"_parent\"><img src=\"https://colab.research.google.com/assets/colab-badge.svg\" alt=\"Open In Colab\"/></a>"
      ]
    },
    {
      "cell_type": "markdown",
      "source": [
        "Given an array of numbers N and an integer k, your task is to split N into k partitions such that the maximum sum of any partition is minimized. Return this sum.\n",
        "\n",
        "For example, given N = [5, 1, 2, 7, 3, 4] and k = 3, you should return 8, since the optimal partition is [5, 1, 2], [7], [3, 4]."
      ],
      "metadata": {
        "id": "dvKX9dZ9gHkE"
      }
    },
    {
      "cell_type": "markdown",
      "source": [
        "To solve this problem, we need to determine a way to split the array \\( N \\) into \\( k \\) partitions such that the maximum sum of these partitions is minimized. A good approach to achieve this is by using binary search combined with a greedy check. Here are the detailed steps:\n",
        "\n",
        "1. **Define the Binary Search Range:**\n",
        "   - The lower bound (`low`) can be set to the maximum element in the array \\( N \\), because no partition can have a sum less than the largest element.\n",
        "   - The upper bound (`high`) can be set to the sum of all elements in the array \\( N \\), as this is the maximum possible sum for a partition if all elements were in a single partition.\n",
        "\n",
        "2. **Binary Search to Find the Optimal Maximum Partition Sum:**\n",
        "   - For a middle value `mid` in our current range, check if it is possible to partition the array such that no partition exceeds the sum `mid`.\n",
        "   - Use a greedy approach to check feasibility: Iterate through the array and create partitions such that the sum of the elements in each partition does not exceed `mid`. If more than \\( k \\) partitions are needed, then `mid` is too small.\n",
        "\n",
        "3. **Adjust Binary Search Bounds Based on Feasibility:**\n",
        "   - If it is possible to partition the array with sum `mid` into \\( k \\) or fewer partitions, then try a smaller `mid` (i.e., move `high` to `mid - 1`).\n",
        "   - If it is not possible, then increase `mid` (i.e., move `low` to `mid + 1`).\n",
        "\n",
        "4. **Return the Result:**\n",
        "   - The `low` value after the end of the binary search will be the minimum maximum partition sum.\n",
        "\n",
        "This function should correctly output `8` for the example given. The partitions will be [5, 1, 2], [7], [3, 4] which minimizes the maximum sum of the partitions."
      ],
      "metadata": {
        "id": "Ku9mx05zgeEn"
      }
    },
    {
      "cell_type": "code",
      "execution_count": 1,
      "metadata": {
        "colab": {
          "base_uri": "https://localhost:8080/"
        },
        "id": "Ngm66ujUgAPX",
        "outputId": "b773783a-256c-4195-a8df-766dd9a0f30c"
      },
      "outputs": [
        {
          "output_type": "stream",
          "name": "stdout",
          "text": [
            "8\n"
          ]
        }
      ],
      "source": [
        "def canPartition(nums, maxSum, k):\n",
        "    partitions = 0\n",
        "    current_sum = 0\n",
        "\n",
        "    for num in nums:\n",
        "        if current_sum + num > maxSum:\n",
        "            partitions += 1\n",
        "            current_sum = num\n",
        "            if partitions >= k:\n",
        "                return False\n",
        "        else:\n",
        "            current_sum += num\n",
        "\n",
        "    return partitions + 1 <= k\n",
        "\n",
        "def minPartitionSum(nums, k):\n",
        "    low, high = max(nums), sum(nums)\n",
        "\n",
        "    while low < high:\n",
        "        mid = (low + high) // 2\n",
        "        if canPartition(nums, mid, k):\n",
        "            high = mid\n",
        "        else:\n",
        "            low = mid + 1\n",
        "\n",
        "    return low\n",
        "\n",
        "# Example usage\n",
        "nums = [5, 1, 2, 7, 3, 4]\n",
        "k = 3\n",
        "print(minPartitionSum(nums, k))  # Output should be 8"
      ]
    }
  ]
}