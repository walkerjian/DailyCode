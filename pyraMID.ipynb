{
  "nbformat": 4,
  "nbformat_minor": 0,
  "metadata": {
    "colab": {
      "provenance": [],
      "authorship_tag": "ABX9TyN06Nxz6hZJPqnVo9f/CeSk",
      "include_colab_link": true
    },
    "kernelspec": {
      "name": "python3",
      "display_name": "Python 3"
    },
    "language_info": {
      "name": "python"
    }
  },
  "cells": [
    {
      "cell_type": "markdown",
      "metadata": {
        "id": "view-in-github",
        "colab_type": "text"
      },
      "source": [
        "<a href=\"https://colab.research.google.com/github/walkerjian/DailyCode/blob/main/pyraMID.ipynb\" target=\"_parent\"><img src=\"https://colab.research.google.com/assets/colab-badge.svg\" alt=\"Open In Colab\"/></a>"
      ]
    },
    {
      "cell_type": "markdown",
      "source": [
        "You have N stones in a row, and would like to create from them a pyramid. This pyramid should be constructed such that the height of each stone increases by one until reaching the tallest stone, after which the heights decrease by one. In addition, the start and end stones of the pyramid should each be one stone high.\n",
        "\n",
        "You can change the height of any stone by paying a cost of 1 unit to lower its height by 1, as many times as necessary. Given this information, determine the lowest cost method to produce this pyramid.\n",
        "\n",
        "For example, given the stones [1, 1, 3, 3, 2, 1], the optimal solution is to pay 2 to create [0, 1, 2, 3, 2, 1]."
      ],
      "metadata": {
        "id": "tfq2KCBAbyTz"
      }
    },
    {
      "cell_type": "code",
      "execution_count": 2,
      "metadata": {
        "colab": {
          "base_uri": "https://localhost:8080/"
        },
        "id": "CQsgfveSbsh_",
        "outputId": "357a88bd-e787-4e3e-a75b-3a88ed192105"
      },
      "outputs": [
        {
          "output_type": "execute_result",
          "data": {
            "text/plain": [
              "{(1, 2, 3, 2, 1): ([1, 2, 3, 2, 1], 0),\n",
              " (3, 3, 3, 3, 3): ([1, 2, 3, 2, 1], 6),\n",
              " (1, 2, 5, 2, 1): ([1, 2, 3, 2, 1], 2),\n",
              " (1, 2, 3, 4, 5): ([1, 2, 3, 2, 1], 6),\n",
              " (5, 4, 3, 2, 1): ([1, 2, 3, 2, 1], 6),\n",
              " (2, 2, 4, 4, 2, 2): ([1, 2, 3, 2, 1], 5),\n",
              " (1, 2, 1, 2, 1, 2, 1): ([1, 2, 3, 4, 3, 2, 1], 6),\n",
              " (4, 5, 6, 7, 6, 5, 4, 3): ([1, 2, 3, 4, 3, 2, 1], 19)}"
            ]
          },
          "metadata": {},
          "execution_count": 2
        }
      ],
      "source": [
        "# Helper Functions\n",
        "\n",
        "def ensure_odd_columns(stones):\n",
        "    \"\"\"Make the number of columns odd by setting the first column to zero if necessary.\"\"\"\n",
        "    if len(stones) % 2 == 0:\n",
        "        stones[0] = 0\n",
        "    return stones\n",
        "\n",
        "def calculate_expected_heights(n):\n",
        "    \"\"\"Generate the expected heights for a pyramid of n columns.\"\"\"\n",
        "    peak_height = (n + 1) // 2\n",
        "    left_side = list(range(1, peak_height))\n",
        "    right_side = left_side[::-1]\n",
        "    return left_side + [peak_height] + right_side\n",
        "\n",
        "def adjust_to_expected(stones, expected_heights):\n",
        "    \"\"\"Adjust stone heights to match expected heights and calculate the cost.\"\"\"\n",
        "    cost = sum(abs(stone - expected) for stone, expected in zip(stones, expected_heights))\n",
        "    return expected_heights, cost\n",
        "\n",
        "def construct_elegant_pyramid(stones):\n",
        "    stones = ensure_odd_columns(stones.copy())\n",
        "    expected_heights = calculate_expected_heights(len(stones))\n",
        "    return adjust_to_expected(stones, expected_heights)\n",
        "\n",
        "# Test Cases\n",
        "test_cases = [\n",
        "    [1, 2, 3, 2, 1],\n",
        "    [3, 3, 3, 3, 3],\n",
        "    [1, 2, 5, 2, 1],\n",
        "    [1, 2, 3, 4, 5],\n",
        "    [5, 4, 3, 2, 1],\n",
        "    [2, 2, 4, 4, 2, 2],\n",
        "    [1, 2, 1, 2, 1, 2, 1],\n",
        "    [4, 5, 6, 7, 6, 5, 4, 3]\n",
        "]\n",
        "\n",
        "# Running the test cases with the elegant function\n",
        "results_elegant = {}\n",
        "\n",
        "for test in test_cases:\n",
        "    results_elegant[tuple(test)] = construct_elegant_pyramid(test.copy())\n",
        "\n",
        "results_elegant\n"
      ]
    },
    {
      "cell_type": "code",
      "source": [],
      "metadata": {
        "id": "dEpGMHTacP5y"
      },
      "execution_count": null,
      "outputs": []
    }
  ]
}