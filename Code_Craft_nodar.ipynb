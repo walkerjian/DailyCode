{
  "nbformat": 4,
  "nbformat_minor": 0,
  "metadata": {
    "colab": {
      "provenance": [],
      "authorship_tag": "ABX9TyPPdYxfO9nx2yHipUY4M/8+",
      "include_colab_link": true
    },
    "kernelspec": {
      "name": "python3",
      "display_name": "Python 3"
    },
    "language_info": {
      "name": "python"
    }
  },
  "cells": [
    {
      "cell_type": "markdown",
      "metadata": {
        "id": "view-in-github",
        "colab_type": "text"
      },
      "source": [
        "<a href=\"https://colab.research.google.com/github/walkerjian/DailyCode/blob/main/Code_Craft_nodar.ipynb\" target=\"_parent\"><img src=\"https://colab.research.google.com/assets/colab-badge.svg\" alt=\"Open In Colab\"/></a>"
      ]
    },
    {
      "cell_type": "markdown",
      "source": [
        "##Problem:\n",
        "Given the root of a binary search tree, and a target K, return two nodes in the tree whose sum equals K.\n",
        "\n",
        "For example, given the following tree and K of 20\n",
        "```\n",
        "    10\n",
        "   /   \\\n",
        " 5      15\n",
        "       /  \\\n",
        "     11    15\n",
        "```\n",
        "Return the nodes 5 and 15."
      ],
      "metadata": {
        "id": "nCQUcqnGzu0S"
      }
    },
    {
      "cell_type": "markdown",
      "source": [
        "##Solution:\n",
        "To solve this problem, we can utilize a method that involves traversing the Binary Search Tree (BST) in an efficient manner to find two nodes whose sum equals the target value `K`. A good approach is to use a two-pointer technique. The idea is similar to the two-pointer technique used in arrays but adapted for a BST.\n",
        "\n",
        "Here's the plan:\n",
        "\n",
        "1. **Inorder Traversal**: Perform an inorder traversal of the BST and store the elements in an array. The inorder traversal of a BST gives us the elements in sorted order.\n",
        "\n",
        "2. **Two-Pointer Technique**: Use two pointers, one starting from the beginning of the array (left pointer) and the other from the end (right pointer). Move these pointers towards each other until they meet.\n",
        "    - If the sum of the values at these two pointers is equal to `K`, we have found our pair.\n",
        "    - If the sum is less than `K`, move the left pointer to the right (to increase the sum).\n",
        "    - If the sum is more than `K`, move the right pointer to the left (to decrease the sum).\n",
        "\n",
        "3. **Return Nodes**: Once the pair is found, return the nodes corresponding to these values.\n"
      ],
      "metadata": {
        "id": "fuSMPmgKz4qn"
      }
    },
    {
      "cell_type": "markdown",
      "source": [
        "##Implementation:\n",
        "\n",
        "Let's implement this solution in Python. First, we'll define the structure of a BST node and then implement the function to find the pair of nodes.\n"
      ],
      "metadata": {
        "id": "nRLLq9ioz9Al"
      }
    },
    {
      "cell_type": "code",
      "execution_count": 1,
      "metadata": {
        "colab": {
          "base_uri": "https://localhost:8080/"
        },
        "id": "GhB29YWkzuE4",
        "outputId": "3dddd050-b39d-485f-cb40-fcf8070d373d"
      },
      "outputs": [
        {
          "output_type": "execute_result",
          "data": {
            "text/plain": [
              "(5, 15)"
            ]
          },
          "metadata": {},
          "execution_count": 1
        }
      ],
      "source": [
        "class TreeNode:\n",
        "    \"\"\"Definition for a binary tree node.\"\"\"\n",
        "    def __init__(self, x):\n",
        "        self.val = x\n",
        "        self.left = None\n",
        "        self.right = None\n",
        "\n",
        "def findTarget(root, k):\n",
        "    \"\"\"\n",
        "    Find two nodes in the BST such that their sum equals k.\n",
        "    :type root: TreeNode\n",
        "    :type k: int\n",
        "    :rtype: (TreeNode, TreeNode)\n",
        "    \"\"\"\n",
        "    # Function to perform an inorder traversal of the BST.\n",
        "    def inorder(node):\n",
        "        return inorder(node.left) + [node] + inorder(node.right) if node else []\n",
        "\n",
        "    # Get the nodes in sorted order.\n",
        "    nodes = inorder(root)\n",
        "\n",
        "    # Initialize two pointers.\n",
        "    left, right = 0, len(nodes) - 1\n",
        "\n",
        "    # Two-pointer technique.\n",
        "    while left < right:\n",
        "        # Calculate the sum of the values at the two pointers.\n",
        "        current_sum = nodes[left].val + nodes[right].val\n",
        "\n",
        "        # Check if we have found the required nodes.\n",
        "        if current_sum == k:\n",
        "            return (nodes[left], nodes[right])\n",
        "        elif current_sum < k:\n",
        "            left += 1\n",
        "        else:\n",
        "            right -= 1\n",
        "\n",
        "    # Return None if no such pair is found.\n",
        "    return None\n",
        "\n",
        "# Example usage\n",
        "# Constructing the tree from the example\n",
        "root = TreeNode(10)\n",
        "root.left = TreeNode(5)\n",
        "root.right = TreeNode(15)\n",
        "root.right.left = TreeNode(11)\n",
        "root.right.right = TreeNode(15)\n",
        "\n",
        "# Find nodes with sum equal to 20\n",
        "result_nodes = findTarget(root, 20)\n",
        "result_nodes = (result_nodes[0].val, result_nodes[1].val) if result_nodes else None\n",
        "result_nodes\n"
      ]
    },
    {
      "cell_type": "markdown",
      "source": [
        "\n",
        "The implemented function successfully found two nodes in the given Binary Search Tree whose sum equals the target value of 20. In the provided example tree, the nodes with values 5 and 15 were identified as the pair whose sum equals 20."
      ],
      "metadata": {
        "id": "Ej-PdOjA0EFL"
      }
    }
  ]
}