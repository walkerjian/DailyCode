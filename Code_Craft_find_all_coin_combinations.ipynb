{
  "nbformat": 4,
  "nbformat_minor": 0,
  "metadata": {
    "colab": {
      "provenance": [],
      "authorship_tag": "ABX9TyM3hePDfaQ0IZixXtiiee3j",
      "include_colab_link": true
    },
    "kernelspec": {
      "name": "python3",
      "display_name": "Python 3"
    },
    "language_info": {
      "name": "python"
    }
  },
  "cells": [
    {
      "cell_type": "markdown",
      "metadata": {
        "id": "view-in-github",
        "colab_type": "text"
      },
      "source": [
        "<a href=\"https://colab.research.google.com/github/walkerjian/DailyCode/blob/main/Code_Craft_find_all_coin_combinations.ipynb\" target=\"_parent\"><img src=\"https://colab.research.google.com/assets/colab-badge.svg\" alt=\"Open In Colab\"/></a>"
      ]
    },
    {
      "cell_type": "markdown",
      "source": [
        "##Problem:\n",
        "Find the minimum number of coins required to make n cents.\n",
        "\n",
        "You can use standard American denominations, that is, 1¢, 5¢, 10¢, and 25¢.\n",
        "\n",
        "For example, given n = 16, return 3 since we can make it with a 10¢, a 5¢, and a 1¢."
      ],
      "metadata": {
        "id": "FMagLSxA-JJ-"
      }
    },
    {
      "cell_type": "markdown",
      "source": [
        "##Solution:\n",
        "To solve the problem of finding the minimum number of coins required to make `n` cents using standard American denominations (1¢, 5¢, 10¢, 25¢), we can use a dynamic programming approach. The idea is to build up a solution for each amount from 1 to `n` and keep track of the minimum number of coins needed for each amount.\n",
        "\n",
        "Here's how the algorithm works:\n",
        "\n",
        "1. Create an array `minCoins` of size `n + 1` to store the minimum number of coins required for each amount from 0 to `n`. Initialize this array with a large number (like `n + 1`) to denote that the number of coins needed hasn't been calculated yet. Set `minCoins[0]` to 0, as no coins are needed to make 0 cents.\n",
        "\n",
        "2. Define the coin denominations in an array `coins` = [1, 5, 10, 25].\n",
        "\n",
        "3. For each amount `i` from 1 to `n`, iterate through each coin denomination. For each coin, check if it can be used (i.e., if it is less than or equal to `i`). If the coin can be used, update `minCoins[i]` to be the minimum of its current value and `1 + minCoins[i - coin]`. The `1 +` part accounts for using one coin of the current denomination.\n",
        "\n",
        "4. After completing the iterations, `minCoins[n]` will hold the minimum number of coins required to make `n` cents.\n"
      ],
      "metadata": {
        "id": "7XeXw_cL-MYL"
      }
    },
    {
      "cell_type": "markdown",
      "source": [
        "##Implementation:\n",
        "\n",
        "Let's implement this in Python.\n"
      ],
      "metadata": {
        "id": "bZqkcp3i-OXy"
      }
    },
    {
      "cell_type": "code",
      "execution_count": 1,
      "metadata": {
        "colab": {
          "base_uri": "https://localhost:8080/"
        },
        "id": "uS0DE8dM-H4N",
        "outputId": "8daa7ab7-e3ad-4eba-c0ed-40c1c004b164"
      },
      "outputs": [
        {
          "output_type": "execute_result",
          "data": {
            "text/plain": [
              "3"
            ]
          },
          "metadata": {},
          "execution_count": 1
        }
      ],
      "source": [
        "def min_coins_to_make_n(n):\n",
        "    # Coin denominations\n",
        "    coins = [1, 5, 10, 25]\n",
        "\n",
        "    # Array to store the minimum coins required for all values from 0 to n\n",
        "    min_coins = [0] + [n + 1] * n\n",
        "\n",
        "    # Compute minimum coins required for all values from 1 to n\n",
        "    for i in range(1, n + 1):\n",
        "        for coin in coins:\n",
        "            if coin <= i:\n",
        "                min_coins[i] = min(min_coins[i], min_coins[i - coin] + 1)\n",
        "\n",
        "    return min_coins[n]\n",
        "\n",
        "# Example case\n",
        "n = 16\n",
        "min_coins_to_make_n(n)\n"
      ]
    },
    {
      "cell_type": "markdown",
      "source": [
        "\n",
        "For the given example with `n = 16`, the minimum number of coins required to make 16 cents using standard American denominations (1¢, 5¢, 10¢, 25¢) is 3. This is achieved with one 10¢ coin, one 5¢ coin, and one 1¢ coin."
      ],
      "metadata": {
        "id": "vFhMUKo6-Xo-"
      }
    },
    {
      "cell_type": "markdown",
      "source": [
        "To modify the code to return not only the minimum number of coins but also the specific coin values in the minimal set(s), we need to track the coins used for each amount. We can do this by maintaining an additional list that stores the coin used for each amount.\n",
        "\n",
        "Here's the revised algorithm:\n",
        "\n",
        "1. Along with the `min_coins` array, we'll maintain a `coin_used` array to track which coin was last used to reach the current amount.\n",
        "\n",
        "2. Whenever we update `min_coins[i]`, we also update `coin_used[i]` with the coin that was used.\n",
        "\n",
        "3. After filling these arrays, we can backtrack from `n` using the `coin_used` array to find the specific coins that make up the minimal set.\n",
        "\n",
        "4. We'll accumulate these coins in a list and return it.\n",
        "\n",
        "Let's implement this revised approach in Python.\n"
      ],
      "metadata": {
        "id": "6YlRdUow-0X6"
      }
    },
    {
      "cell_type": "code",
      "source": [
        "def min_coins_and_set_to_make_n(n):\n",
        "    # Coin denominations\n",
        "    coins = [1, 5, 10, 25]\n",
        "\n",
        "    # Array to store the minimum coins required for all values from 0 to n\n",
        "    min_coins = [0] + [n + 1] * n\n",
        "\n",
        "    # Array to track the coin used for each amount\n",
        "    coin_used = [0] * (n + 1)\n",
        "\n",
        "    # Compute minimum coins required for all values from 1 to n\n",
        "    for i in range(1, n + 1):\n",
        "        for coin in coins:\n",
        "            if coin <= i and min_coins[i - coin] + 1 < min_coins[i]:\n",
        "                min_coins[i] = min_coins[i - coin] + 1\n",
        "                coin_used[i] = coin\n",
        "\n",
        "    # Backtrack to find the coins used\n",
        "    coins_in_set = []\n",
        "    current_amount = n\n",
        "    while current_amount > 0:\n",
        "        coins_in_set.append(coin_used[current_amount])\n",
        "        current_amount -= coin_used[current_amount]\n",
        "\n",
        "    return min_coins[n], coins_in_set\n",
        "\n",
        "# Example case\n",
        "n = 16\n",
        "min_coins_and_set_to_make_n(n)\n"
      ],
      "metadata": {
        "colab": {
          "base_uri": "https://localhost:8080/"
        },
        "id": "RUApzsod-3Lw",
        "outputId": "94c75f27-502d-412d-aac7-d2aed53bd974"
      },
      "execution_count": 2,
      "outputs": [
        {
          "output_type": "execute_result",
          "data": {
            "text/plain": [
              "(3, [1, 5, 10])"
            ]
          },
          "metadata": {},
          "execution_count": 2
        }
      ]
    },
    {
      "cell_type": "markdown",
      "source": [
        "\n",
        "For the given example with `n = 16`, the minimum number of coins required is 3, and the specific coins in one of the minimal sets are 1¢, 5¢, and 10¢. This set represents one of the possible ways to make 16 cents using the fewest number of standard American coins."
      ],
      "metadata": {
        "id": "0Yor3whd-84K"
      }
    },
    {
      "cell_type": "markdown",
      "source": [
        "To find all possible ways to make `n` cents using standard American coin denominations (1¢, 5¢, 10¢, 25¢), we can use a recursive approach. This problem is a variation of the classic coin change problem, where instead of finding the minimum number of coins, we find all combinations of coins that sum up to the total amount `n`.\n",
        "\n",
        "Here's the approach:\n",
        "\n",
        "1. Define a recursive function that takes the current amount, the current combination of coins, and the starting coin index. The coin index is used to avoid duplicate combinations and to ensure coins are added in a non-decreasing order.\n",
        "\n",
        "2. For each coin denomination, if it can be used (i.e., if it is less than or equal to the remaining amount), recursively call the function with the updated amount and combination.\n",
        "\n",
        "3. When the remaining amount is zero, add the current combination to a list of solutions.\n",
        "\n",
        "4. Return the list of all combinations once all possibilities are explored.\n",
        "\n",
        "Let's implement this in Python. This approach might be computationally intensive for large values of `n`, as the number of combinations can grow very large.\n",
        "\n",
        "For `n = 16` cents, here are all possible combinations using standard American coin denominations (1¢, 5¢, 10¢, 25¢):\n",
        "\n",
        "1. Sixteen 1¢ coins\n",
        "2. Eleven 1¢ coins and one 5¢ coin\n",
        "3. Six 1¢ coins and two 5¢ coins\n",
        "4. Six 1¢ coins and one 10¢ coin\n",
        "5. Three 5¢ coins and one 1¢ coin\n",
        "6. One 1¢ coin, one 5¢ coin, and one 10¢ coin\n",
        "\n",
        "These combinations represent all the possible ways to make 16 cents using the given denominations."
      ],
      "metadata": {
        "id": "ZsplGRR-_Nl6"
      }
    },
    {
      "cell_type": "code",
      "source": [
        "def find_all_coin_combinations(n, coins):\n",
        "    def find_combinations(amount, current_combination, start_index, coins, all_combinations):\n",
        "        if amount == 0:\n",
        "            all_combinations.append(list(current_combination))\n",
        "            return\n",
        "        for i in range(start_index, len(coins)):\n",
        "            if coins[i] <= amount:\n",
        "                current_combination.append(coins[i])\n",
        "                find_combinations(amount - coins[i], current_combination, i, coins, all_combinations)\n",
        "                current_combination.pop()\n",
        "    all_combinations = []\n",
        "    find_combinations(n, [], 0, coins, all_combinations)\n",
        "    return all_combinations\n",
        "\n"
      ],
      "metadata": {
        "id": "WQSjb1T1_CDg"
      },
      "execution_count": 11,
      "outputs": []
    },
    {
      "cell_type": "code",
      "source": [
        "us_coins = [1, 5, 10, 25]\n",
        "australian_coins = [5, 10, 20, 50, 100, 200]\n",
        "japanese_coins = [1, 5, 10, 50, 100, 500]\n",
        "uk_coins = [1, 2, 5, 10, 20, 50, 100, 200]\n",
        "eurozone_coins = [1, 2, 5, 10, 20, 50, 100, 200]\n",
        "canadian_coins = [5, 10, 25, 100, 200]\n",
        "\n",
        "# Example case\n",
        "n = 15\n",
        "print(\"n =\",n)\n",
        "find_all_coin_combinations(n, australian_coins)"
      ],
      "metadata": {
        "colab": {
          "base_uri": "https://localhost:8080/"
        },
        "id": "TtZYH5PJBEcQ",
        "outputId": "eb1d789f-a5e6-4730-ae25-6744955c4f96"
      },
      "execution_count": 13,
      "outputs": [
        {
          "output_type": "stream",
          "name": "stdout",
          "text": [
            "n = 15\n"
          ]
        },
        {
          "output_type": "execute_result",
          "data": {
            "text/plain": [
              "[[5, 5, 5], [5, 10]]"
            ]
          },
          "metadata": {},
          "execution_count": 13
        }
      ]
    },
    {
      "cell_type": "code",
      "source": [
        "n = 22\n",
        "print(\"n =\",n)\n",
        "find_all_coin_combinations(n,us_coins)"
      ],
      "metadata": {
        "colab": {
          "base_uri": "https://localhost:8080/"
        },
        "id": "QljCeGVA_VGg",
        "outputId": "a14fe523-d13c-43cb-adfa-4bfa5d75621f"
      },
      "execution_count": 15,
      "outputs": [
        {
          "output_type": "stream",
          "name": "stdout",
          "text": [
            "n = 22\n"
          ]
        },
        {
          "output_type": "execute_result",
          "data": {
            "text/plain": [
              "[[1, 1, 1, 1, 1, 1, 1, 1, 1, 1, 1, 1, 1, 1, 1, 1, 1, 1, 1, 1, 1, 1],\n",
              " [1, 1, 1, 1, 1, 1, 1, 1, 1, 1, 1, 1, 1, 1, 1, 1, 1, 5],\n",
              " [1, 1, 1, 1, 1, 1, 1, 1, 1, 1, 1, 1, 5, 5],\n",
              " [1, 1, 1, 1, 1, 1, 1, 1, 1, 1, 1, 1, 10],\n",
              " [1, 1, 1, 1, 1, 1, 1, 5, 5, 5],\n",
              " [1, 1, 1, 1, 1, 1, 1, 5, 10],\n",
              " [1, 1, 5, 5, 5, 5],\n",
              " [1, 1, 5, 5, 10],\n",
              " [1, 1, 10, 10]]"
            ]
          },
          "metadata": {},
          "execution_count": 15
        }
      ]
    }
  ]
}