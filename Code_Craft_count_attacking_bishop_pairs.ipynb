{
  "nbformat": 4,
  "nbformat_minor": 0,
  "metadata": {
    "colab": {
      "provenance": [],
      "authorship_tag": "ABX9TyN4CdlkU3zgTcbzVzI1Pj9V",
      "include_colab_link": true
    },
    "kernelspec": {
      "name": "python3",
      "display_name": "Python 3"
    },
    "language_info": {
      "name": "python"
    }
  },
  "cells": [
    {
      "cell_type": "markdown",
      "metadata": {
        "id": "view-in-github",
        "colab_type": "text"
      },
      "source": [
        "<a href=\"https://colab.research.google.com/github/walkerjian/DailyCode/blob/main/Code_Craft_count_attacking_bishop_pairs.ipynb\" target=\"_parent\"><img src=\"https://colab.research.google.com/assets/colab-badge.svg\" alt=\"Open In Colab\"/></a>"
      ]
    },
    {
      "cell_type": "markdown",
      "source": [
        "##Problem:\n",
        "On our special chessboard, two bishops attack each other if they share the same diagonal. This includes bishops that have another bishop located between them, i.e. bishops can attack through pieces.\n",
        "\n",
        "You are given N bishops, represented as (row, column) tuples on a M by M chessboard. Write a function to count the number of pairs of bishops that attack each other. The ordering of the pair doesn't matter: (1, 2) is considered the same as (2, 1).\n",
        "\n",
        "For example, given M = 5 and the list of bishops:\n",
        "```\n",
        "(0, 0)\n",
        "(1, 2)\n",
        "(2, 2)\n",
        "(4, 0)\n",
        "```\n",
        "The board would look like this:\n",
        "```\n",
        "[b 0 0 0 0]\n",
        "[0 0 b 0 0]\n",
        "[0 0 b 0 0]\n",
        "[0 0 0 0 0]\n",
        "[b 0 0 0 0]\n",
        "```\n",
        "You should return 2, since bishops 1 and 3 attack each other, as well as bishops 3 and 4.\n",
        "\n",
        "##Solution:\n",
        "To solve this problem, we can utilize the fact that two bishops attack each other if and only if they are on the same diagonal. In a 2D grid, two cells `(row1, col1)` and `(row2, col2)` are on the same diagonal if either the sum of their coordinates is the same (i.e., `row1 + col1 == row2 + col2`) or the difference of their coordinates is the same (i.e., `row1 - col1 == row2 - col2`). These two conditions check for the two types of diagonals on a chessboard.\n",
        "\n",
        "We can create a Python function that takes the size of the board `M` and a list of bishops' positions, and then counts the number of attacking pairs by keeping track of the number of bishops on each diagonal. Here's how the function can be structured:\n",
        "\n",
        "1. Initialize two dictionaries, `diagonal_sum` and `diagonal_diff`, to keep track of the number of bishops on each type of diagonal.\n",
        "2. Iterate through the list of bishops. For each bishop at position `(row, col)`:\n",
        "   - Increment the count in `diagonal_sum` for the key `row + col`.\n",
        "   - Increment the count in `diagonal_diff` for the key `row - col`.\n",
        "3. After processing all bishops, iterate through the counts in both `diagonal_sum` and `diagonal_diff`. For each count greater than 1, add the number of pairs that can be formed from that many bishops to the total count of attacking pairs.\n",
        "4. Return the total count of attacking pairs.\n",
        "\n",
        "The number of pairs that can be formed from `n` bishops is given by the combinatorial formula `n choose 2`, which is `n * (n - 1) / 2`.\n",
        "\n",
        "Let's implement this in Python.\n",
        "\n",
        "The function correctly calculates the number of attacking bishop pairs. For the given example with a 5x5 chessboard and bishops at positions (0, 0), (1, 2), (2, 2), and (4, 0), the function returns 2. This means there are two pairs of bishops that attack each other, matching the expected result.\n",
        "\n",
        "##Implementation:\n",
        "The function `count_attacking_bishop_pairs` uses the properties of diagonals on a chessboard to efficiently calculate the number of attacking bishop pairs. It does this by mapping each bishop to two types of diagonals - those defined by the sum of row and column indices, and those defined by the difference of these indices. By counting the bishops on each diagonal, it can quickly determine how many pairs of bishops are attacking each other. The combinatorial calculation `n * (n - 1) / 2` is used to find the number of pairs for each diagonal with more than one bishop."
      ],
      "metadata": {
        "id": "TPdF7HjoFDzd"
      }
    },
    {
      "cell_type": "code",
      "execution_count": 2,
      "metadata": {
        "colab": {
          "base_uri": "https://localhost:8080/"
        },
        "id": "8ifs3ID1EMSu",
        "outputId": "ad9c4589-41ec-4766-8ed7-d2e32c132244"
      },
      "outputs": [
        {
          "output_type": "stream",
          "name": "stdout",
          "text": [
            "2\n"
          ]
        }
      ],
      "source": [
        "def count_attacking_bishop_pairs(M, bishops):\n",
        "    \"\"\"\n",
        "    Counts the number of pairs of bishops that attack each other on an M x M chessboard.\n",
        "\n",
        "    Two bishops attack each other if they are on the same diagonal. This function calculates\n",
        "    the number of such attacking pairs given the positions of the bishops.\n",
        "\n",
        "    Parameters:\n",
        "    M (int): The size of the chessboard (M x M).\n",
        "    bishops (list of tuples): A list where each tuple represents the position (row, column)\n",
        "                              of a bishop on the chessboard.\n",
        "\n",
        "    Returns:\n",
        "    int: The number of pairs of bishops that attack each other.\n",
        "    \"\"\"\n",
        "    # Dictionaries to track the number of bishops on each diagonal.\n",
        "    # diagonal_sum: Diagonals where row + column is constant.\n",
        "    # diagonal_diff: Diagonals where row - column is constant.\n",
        "    diagonal_sum = {}\n",
        "    diagonal_diff = {}\n",
        "\n",
        "    # Iterate through the list of bishops.\n",
        "    for row, col in bishops:\n",
        "        # For each bishop, increment the count on its diagonals.\n",
        "        diagonal_sum.setdefault(row + col, 0)\n",
        "        diagonal_diff.setdefault(row - col, 0)\n",
        "        diagonal_sum[row + col] += 1\n",
        "        diagonal_diff[row - col] += 1\n",
        "\n",
        "    # Calculate the number of attacking pairs from bishops on the same diagonal.\n",
        "    attacking_pairs = 0\n",
        "    for count in diagonal_sum.values():\n",
        "        if count > 1:\n",
        "            # If there are n bishops on a diagonal, they form n*(n-1)/2 attacking pairs.\n",
        "            attacking_pairs += count * (count - 1) // 2\n",
        "    for count in diagonal_diff.values():\n",
        "        if count > 1:\n",
        "            attacking_pairs += count * (count - 1) // 2\n",
        "\n",
        "    return attacking_pairs\n",
        "\n",
        "# Example usage\n",
        "M = 5\n",
        "bishops = [(0, 0), (1, 2), (2, 2), (4, 0)]\n",
        "print(count_attacking_bishop_pairs(M, bishops))  # Expected output: 2\n"
      ]
    }
  ]
}