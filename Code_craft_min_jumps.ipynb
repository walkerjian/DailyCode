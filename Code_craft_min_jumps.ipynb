{
  "nbformat": 4,
  "nbformat_minor": 0,
  "metadata": {
    "colab": {
      "provenance": [],
      "authorship_tag": "ABX9TyMEmNOOd+9xl86v8mQD8B00",
      "include_colab_link": true
    },
    "kernelspec": {
      "name": "python3",
      "display_name": "Python 3"
    },
    "language_info": {
      "name": "python"
    }
  },
  "cells": [
    {
      "cell_type": "markdown",
      "metadata": {
        "id": "view-in-github",
        "colab_type": "text"
      },
      "source": [
        "<a href=\"https://colab.research.google.com/github/walkerjian/DailyCode/blob/main/Code_craft_min_jumps.ipynb\" target=\"_parent\"><img src=\"https://colab.research.google.com/assets/colab-badge.svg\" alt=\"Open In Colab\"/></a>"
      ]
    },
    {
      "cell_type": "markdown",
      "source": [
        "You are given an array of integers, where each element represents the maximum number of steps that can be jumped going forward from that element. Write a function to return the minimum number of jumps you must take in order to get from the start to the end of the array.\n",
        "\n",
        "For example, given [6, 2, 4, 0, 5, 1, 1, 4, 2, 9], you should return 2, as the optimal solution involves jumping from 6 to 5, and then from 5 to 9."
      ],
      "metadata": {
        "id": "zXcY3FUMNRdy"
      }
    },
    {
      "cell_type": "markdown",
      "source": [
        "To solve this problem, we can use a greedy approach to minimize the number of jumps needed to reach the end of the array. The idea is to keep track of the farthest we can reach with the current number of jumps and to increment the jump count when we reach the end of the current range of jumps.\n",
        "\n",
        "Step-by-step implementation:\n",
        "\n",
        "1. Initialize variables to keep track of the number of jumps, the current end of the range we can reach with the current number of jumps, and the farthest point we can reach with the next jump.\n",
        "2. Iterate through the array and update the farthest point we can reach.\n",
        "3. When we reach the end of the current range, we increment the jump count and update the range to the farthest point we can reach.\n",
        "4. Return the number of jumps when we reach or exceed the end of the array.\n",
        "\n",
        "Explanation\n",
        "\n",
        "1. **Initialization**:\n",
        "   - `jumps` keeps track of the number of jumps needed to reach the end.\n",
        "   - `current_end` is the farthest index that can be reached with the current number of jumps.\n",
        "   - `farthest` is the farthest index that can be reached with the next jump.\n",
        "\n",
        "2. **Iterate through the array**:\n",
        "   - For each position `i`, update `farthest` to be the maximum of its current value and `i + arr[i]` (the farthest index that can be reached from `i`).\n",
        "\n",
        "3. **Check if we need to jump**:\n",
        "   - If we reach `current_end`, it means we need to make a jump, so increment the `jumps` counter and update `current_end` to `farthest`.\n",
        "   - If `current_end` is greater than or equal to the last index of the array, we break the loop as we have reached or exceeded the end of the array.\n",
        "\n",
        "4. **Return the number of jumps**:\n",
        "   - The function returns the total number of jumps required to reach the end of the array.\n",
        "\n",
        "This greedy algorithm ensures that we always make the optimal jump to reach the end of the array with the minimum number of jumps."
      ],
      "metadata": {
        "id": "ZTHF_EN0NWyJ"
      }
    },
    {
      "cell_type": "code",
      "source": [
        "def min_jumps(arr):\n",
        "    if len(arr) <= 1:\n",
        "        return 0\n",
        "\n",
        "    jumps = 0\n",
        "    current_end = 0\n",
        "    farthest = 0\n",
        "\n",
        "    for i in range(len(arr) - 1):\n",
        "        farthest = max(farthest, i + arr[i])\n",
        "\n",
        "        if i == current_end:\n",
        "            jumps += 1\n",
        "            current_end = farthest\n",
        "\n",
        "            if current_end >= len(arr) - 1:\n",
        "                break\n",
        "\n",
        "    return jumps\n",
        "\n",
        "# Example usage:\n",
        "arr = [6, 2, 4, 0, 5, 1, 1, 4, 2, 9]\n",
        "print(min_jumps(arr))  # Output: 2"
      ],
      "metadata": {
        "colab": {
          "base_uri": "https://localhost:8080/"
        },
        "id": "uX4hf6IcNWcB",
        "outputId": "be218933-9683-48da-f656-a61f6ec318fc"
      },
      "execution_count": 1,
      "outputs": [
        {
          "output_type": "stream",
          "name": "stdout",
          "text": [
            "2\n"
          ]
        }
      ]
    }
  ]
}