{
  "nbformat": 4,
  "nbformat_minor": 0,
  "metadata": {
    "colab": {
      "provenance": [],
      "authorship_tag": "ABX9TyP0A9NnEWXEYxUyAjMMmnFR",
      "include_colab_link": true
    },
    "kernelspec": {
      "name": "python3",
      "display_name": "Python 3"
    },
    "language_info": {
      "name": "python"
    }
  },
  "cells": [
    {
      "cell_type": "markdown",
      "metadata": {
        "id": "view-in-github",
        "colab_type": "text"
      },
      "source": [
        "<a href=\"https://colab.research.google.com/github/walkerjian/DailyCode/blob/main/Code_Craft_smallest_window.ipynb\" target=\"_parent\"><img src=\"https://colab.research.google.com/assets/colab-badge.svg\" alt=\"Open In Colab\"/></a>"
      ]
    },
    {
      "cell_type": "markdown",
      "source": [
        "##Problem:\n",
        "Given a string, find the length of the smallest window that contains every distinct character. Characters may appear more than once in the window.\n",
        "\n",
        "For example, given \"jiujitsu\", you should return 5, corresponding to the final five letters."
      ],
      "metadata": {
        "id": "jw2867nkBE8M"
      }
    },
    {
      "cell_type": "markdown",
      "source": [
        "##Solution:\n",
        "To tackle this problem, we need to write a function that finds the length of the smallest window in a given string, which contains every distinct character. The approach involves iterating through the string, tracking the characters we encounter and updating the smallest window length when we've seen every distinct character.\n",
        "\n",
        "Here's a step-by-step plan for implementing the solution:\n",
        "\n",
        "1. Identify the distinct characters in the given string.\n",
        "2. Use a sliding window approach to find the smallest window containing all distinct characters.\n",
        "3. Implement tests to validate the function with various scenarios.\n"
      ],
      "metadata": {
        "id": "lb1QUQGnBIsR"
      }
    },
    {
      "cell_type": "markdown",
      "source": [
        "##Implementtion:\n"
      ],
      "metadata": {
        "id": "A1TINuCEBWWJ"
      }
    },
    {
      "cell_type": "code",
      "execution_count": 3,
      "metadata": {
        "colab": {
          "base_uri": "https://localhost:8080/"
        },
        "id": "7hcd9ukZAgRx",
        "outputId": "6b8cbae0-3be8-4f45-f0b4-7646dbfb635b"
      },
      "outputs": [
        {
          "output_type": "stream",
          "name": "stdout",
          "text": [
            "String: 'jiujitsu', Smallest window: 'ujits', Length: 5\n",
            "String: 'abcda', Smallest window: 'abcd', Length: 4\n",
            "String: 'aaaaa', Smallest window: 'a', Length: 1\n",
            "String: 'abracadabra', Smallest window: 'bracad', Length: 6\n",
            "String: '', Smallest window: '', Length: 0\n",
            "String: 'a', Smallest window: 'a', Length: 1\n"
          ]
        }
      ],
      "source": [
        "def smallest_window(s: str) -> str:\n",
        "    # Set of distinct characters in the string\n",
        "    distinct_chars = set(s)\n",
        "    # Dictionary to count the occurrences of characters in the current window\n",
        "    char_count = {}\n",
        "    start = 0  # Start index of the current window\n",
        "    min_len = float('inf')  # Initialize the minimum length to infinity\n",
        "    min_window = \"\"  # Initialize the minimum window string\n",
        "\n",
        "    # Iterate over the string\n",
        "    for end, char in enumerate(s):\n",
        "        # Increment the count for the current character\n",
        "        char_count[char] = char_count.get(char, 0) + 1\n",
        "\n",
        "        # Check if the current window contains all distinct characters\n",
        "        while len(char_count) == len(distinct_chars):\n",
        "            # Update the minimum length and window string if the current window is smaller\n",
        "            if end - start + 1 < min_len:\n",
        "                min_len = end - start + 1\n",
        "                min_window = s[start:end+1]\n",
        "\n",
        "            # Reduce the count of the character at the start of the window\n",
        "            char_count[s[start]] -= 1\n",
        "            # If the count becomes zero, remove the character from the dictionary\n",
        "            if char_count[s[start]] == 0:\n",
        "                del char_count[s[start]]\n",
        "            # Move the start of the window forward\n",
        "            start += 1\n",
        "\n",
        "    return min_window\n",
        "\n",
        "# Function to print out the test results for different strings, including the solution string and its length\n",
        "def print_test_results_with_solution():\n",
        "    test_cases = [\n",
        "        \"jiujitsu\",\n",
        "        \"abcda\",\n",
        "        \"aaaaa\",\n",
        "        \"abracadabra\",\n",
        "        \"\",\n",
        "        \"a\"\n",
        "    ]\n",
        "\n",
        "    for case in test_cases:\n",
        "        solution = smallest_window(case)\n",
        "        length = len(solution)\n",
        "        print(f\"String: '{case}', Smallest window: '{solution}', Length: {length}\")\n",
        "\n",
        "# Executing the print function with solution\n",
        "print_test_results_with_solution()\n",
        "\n"
      ]
    }
  ]
}