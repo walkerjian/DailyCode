{
  "nbformat": 4,
  "nbformat_minor": 0,
  "metadata": {
    "colab": {
      "provenance": [],
      "authorship_tag": "ABX9TyMPDTfD1icEzTh3t5zCJaS0",
      "include_colab_link": true
    },
    "kernelspec": {
      "name": "python3",
      "display_name": "Python 3"
    },
    "language_info": {
      "name": "python"
    }
  },
  "cells": [
    {
      "cell_type": "markdown",
      "metadata": {
        "id": "view-in-github",
        "colab_type": "text"
      },
      "source": [
        "<a href=\"https://colab.research.google.com/github/walkerjian/DailyCode/blob/main/rand5_7.ipynb\" target=\"_parent\"><img src=\"https://colab.research.google.com/assets/colab-badge.svg\" alt=\"Open In Colab\"/></a>"
      ]
    },
    {
      "cell_type": "markdown",
      "source": [
        "##Problem:\n",
        "Using a function rand5() that returns an integer from 1 to 5 (inclusive) with uniform probability, implement a function rand7() that returns an integer from 1 to 7 (inclusive).\n",
        "##Solution:\n",
        "To solve this problem, we can use the technique of rejection sampling. Here's a high-level approach:\n",
        "\n",
        "1. Use two calls to `rand5()` to generate a number in the range of $1$ to $25$ (inclusive) with uniform probability.\n",
        "2. If the generated number is between $1$ and $21$, then we can map it to a number between $1$ and $7$.\n",
        "3. If the generated number is between $22$ and $25$, then we reject it and try again.\n",
        "\n",
        "##Explanation:\n",
        "1. Call `rand5()` twice:\n",
        "    * Let $a = rand5()$\n",
        "    * Let $b = rand5()$\n",
        "2. Compute a unique number in the range of $1$ to $25$:\n",
        "    * $ n = (a - 1)*5 + b $\n",
        "3. If $ n $ is between $1$ and $21$, then:\n",
        "    * Return $n$ $mod$ $7$ + $1$\n",
        "4. If $ n $ is between $22$ and $25$, then:\n",
        "    * Discard $ n $ and go back to step 1.\n",
        "\n",
        "##Implementation:"
      ],
      "metadata": {
        "id": "usxEdUDNCPhr"
      }
    },
    {
      "cell_type": "code",
      "execution_count": 1,
      "metadata": {
        "colab": {
          "base_uri": "https://localhost:8080/"
        },
        "id": "DMVuGAUfCKpW",
        "outputId": "2c5ce571-8fd0-4e5d-a040-5164ea70fbfe"
      },
      "outputs": [
        {
          "output_type": "execute_result",
          "data": {
            "text/plain": [
              "{1: 14413, 2: 14297, 3: 14224, 4: 14179, 5: 14211, 6: 14467, 7: 14209}"
            ]
          },
          "metadata": {},
          "execution_count": 1
        }
      ],
      "source": [
        "import random\n",
        "\n",
        "def rand5():\n",
        "    return random.randint(1, 5)\n",
        "\n",
        "def rand7():\n",
        "    while True:\n",
        "        a = rand5()\n",
        "        b = rand5()\n",
        "        n = (a - 1) * 5 + b\n",
        "        if n <= 21:\n",
        "            return n % 7 + 1\n",
        "\n",
        "# Test the rand7() function\n",
        "results = [rand7() for _ in range(100000)]\n",
        "\n",
        "# Count the occurrences of each number from 1 to 7\n",
        "counts = {i: results.count(i) for i in range(1, 8)}\n",
        "\n",
        "counts\n"
      ]
    },
    {
      "cell_type": "markdown",
      "source": [
        "##Testing:"
      ],
      "metadata": {
        "id": "J_w8ESmlDCDj"
      }
    },
    {
      "cell_type": "code",
      "source": [
        "import matplotlib.pyplot as plt\n",
        "\n",
        "# Generate a larger sample size\n",
        "results_large = [rand7() for _ in range(1000000)]\n",
        "\n",
        "# Count the occurrences of each number from 1 to 7 in the larger sample\n",
        "counts_large = {i: results_large.count(i) for i in range(1, 8)}\n",
        "\n",
        "# Plotting the histogram\n",
        "plt.bar(counts_large.keys(), counts_large.values(), color='blue', alpha=0.7)\n",
        "plt.xlabel('Number')\n",
        "plt.ylabel('Frequency')\n",
        "plt.title('Histogram of rand7() outputs')\n",
        "plt.xticks(list(range(1, 8)))\n",
        "plt.grid(axis='y')\n",
        "\n",
        "# Show the plot\n",
        "plt.show()\n"
      ],
      "metadata": {
        "colab": {
          "base_uri": "https://localhost:8080/",
          "height": 472
        },
        "id": "nQVP-IkICZxE",
        "outputId": "ffe5c325-c711-402d-f68f-6542e286c4bf"
      },
      "execution_count": 2,
      "outputs": [
        {
          "output_type": "display_data",
          "data": {
            "text/plain": [
              "<Figure size 640x480 with 1 Axes>"
            ],
            "image/png": "[encoded data removed]"
          },
          "metadata": {}
        }
      ]
    },
    {
      "cell_type": "markdown",
      "source": [
        "Here's the histogram of the `rand7()` outputs based on a sample size of 1,000,000 calls. As we can see, the distribution is fairly uniform across numbers 1 through 7, which indicates that our algorithm is producing results with roughly equal probability for each number."
      ],
      "metadata": {
        "id": "TugL68X2C3-K"
      }
    }
  ]
}