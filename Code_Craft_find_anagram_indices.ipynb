{
  "nbformat": 4,
  "nbformat_minor": 0,
  "metadata": {
    "colab": {
      "provenance": [],
      "authorship_tag": "ABX9TyMvIieoX6U2RVoSRMgfMBMt",
      "include_colab_link": true
    },
    "kernelspec": {
      "name": "python3",
      "display_name": "Python 3"
    },
    "language_info": {
      "name": "python"
    }
  },
  "cells": [
    {
      "cell_type": "markdown",
      "metadata": {
        "id": "view-in-github",
        "colab_type": "text"
      },
      "source": [
        "<a href=\"https://colab.research.google.com/github/walkerjian/DailyCode/blob/main/Code_Craft_find_anagram_indices.ipynb\" target=\"_parent\"><img src=\"https://colab.research.google.com/assets/colab-badge.svg\" alt=\"Open In Colab\"/></a>"
      ]
    },
    {
      "cell_type": "markdown",
      "source": [
        "##Problem:\n",
        "Given a word W and a string S, find all starting indices in S which are anagrams of W.\n",
        "\n",
        "For example, given that W is \"ab\", and S is \"abxaba\", return 0, 3, and 4."
      ],
      "metadata": {
        "id": "XhcgTU9BvBWa"
      }
    },
    {
      "cell_type": "markdown",
      "source": [
        "##Solution:\n",
        "To solve this problem, we can use a sliding window approach. This involves moving a window of length equal to the length of `W` across the string `S`, and at each step, checking if the substring within the window is an anagram of `W`.\n",
        "\n",
        "Here's the step-by-step process:\n",
        "\n",
        "1. **Count Characters**: First, we count the frequency of each character in `W`. This can be done using a dictionary or array.\n",
        "\n",
        "2. **Sliding Window**: Initialize a sliding window of size equal to the length of `W`. Move this window across `S` from left to right.\n",
        "\n",
        "3. **Check Anagrams**: For each window position, check if the substring within the window is an anagram of `W`. This can be done by comparing the character counts of the substring and `W`.\n",
        "\n",
        "4. **Store Indices**: If a substring is an anagram of `W`, store the starting index of this window.\n",
        "\n",
        "5. **Return Result**: After checking all possible windows, return the list of starting indices.\n",
        "\n"
      ],
      "metadata": {
        "id": "qHlPmcf3vEeB"
      }
    },
    {
      "cell_type": "markdown",
      "source": [
        "##Implementation:\n"
      ],
      "metadata": {
        "id": "KNuWkENWvPzZ"
      }
    },
    {
      "cell_type": "code",
      "execution_count": 1,
      "metadata": {
        "colab": {
          "base_uri": "https://localhost:8080/"
        },
        "id": "-MGTp3KVvAAG",
        "outputId": "892c7582-86ed-4895-d813-66961c2e58fe"
      },
      "outputs": [
        {
          "output_type": "execute_result",
          "data": {
            "text/plain": [
              "[0, 3, 4]"
            ]
          },
          "metadata": {},
          "execution_count": 1
        }
      ],
      "source": [
        "from collections import Counter\n",
        "\n",
        "def find_anagram_indices(W, S):\n",
        "    # Length of the word and the string\n",
        "    lenW, lenS = len(W), len(S)\n",
        "\n",
        "    # Early return if W is longer than S\n",
        "    if lenW > lenS:\n",
        "        return []\n",
        "\n",
        "    # Count the characters in W\n",
        "    countW = Counter(W)\n",
        "\n",
        "    # Initialize the counter for the current window and the result list\n",
        "    current_window = Counter()\n",
        "    result = []\n",
        "\n",
        "    # Iterate through each character in S\n",
        "    for i in range(lenS):\n",
        "        # Add the current character to the window\n",
        "        current_window[S[i]] += 1\n",
        "\n",
        "        # Remove the leftmost character when the window size exceeds lenW\n",
        "        if i >= lenW:\n",
        "            if current_window[S[i - lenW]] == 1:\n",
        "                del current_window[S[i - lenW]]\n",
        "            else:\n",
        "                current_window[S[i - lenW]] -= 1\n",
        "\n",
        "        # If the character count matches that of W, add the start index to results\n",
        "        if current_window == countW:\n",
        "            result.append(i - lenW + 1)\n",
        "\n",
        "    return result\n",
        "\n",
        "# Test the function with the provided example\n",
        "find_anagram_indices(\"ab\", \"abxaba\")\n"
      ]
    },
    {
      "cell_type": "markdown",
      "source": [
        "\n",
        "The function `find_anagram_indices(\"ab\", \"abxaba\")` correctly returns `[0, 3, 4]`. These are the starting indices in the string `\"abxaba\"` where the substrings are anagrams of `\"ab\"`.\n",
        "\n",
        "This approach efficiently utilizes a sliding window and character counting, making it suitable for larger strings and words as well. If you have any more scenarios to test or other questions, feel free to ask!"
      ],
      "metadata": {
        "id": "0NyugaWCvS0G"
      }
    }
  ]
}