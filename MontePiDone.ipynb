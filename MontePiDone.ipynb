{
  "nbformat": 4,
  "nbformat_minor": 0,
  "metadata": {
    "colab": {
      "provenance": [],
      "authorship_tag": "ABX9TyNherwl/l3UrawMCLTpeP0J",
      "include_colab_link": true
    },
    "kernelspec": {
      "name": "python3",
      "display_name": "Python 3"
    },
    "language_info": {
      "name": "python"
    }
  },
  "cells": [
    {
      "cell_type": "markdown",
      "metadata": {
        "id": "view-in-github",
        "colab_type": "text"
      },
      "source": [
        "<a href=\"https://colab.research.google.com/github/walkerjian/DailyCode/blob/main/MontePiDone.ipynb\" target=\"_parent\"><img src=\"https://colab.research.google.com/assets/colab-badge.svg\" alt=\"Open In Colab\"/></a>"
      ]
    },
    {
      "cell_type": "code",
      "execution_count": 2,
      "metadata": {
        "colab": {
          "base_uri": "https://localhost:8080/"
        },
        "id": "Eor7Ky-5Afbt",
        "outputId": "7d06feef-a7aa-4b6e-b977-06b4a6dbacab"
      },
      "outputs": [
        {
          "output_type": "execute_result",
          "data": {
            "text/plain": [
              "3.14155008"
            ]
          },
          "metadata": {},
          "execution_count": 2
        }
      ],
      "source": [
        "import random\n",
        "\n",
        "def estimate_pi(num_samples):\n",
        "    inside_circle = 0\n",
        "\n",
        "    for _ in range(num_samples):\n",
        "        x, y = random.uniform(-1, 1), random.uniform(-1, 1)\n",
        "        if x**2 + y**2 <= 1:\n",
        "            inside_circle += 1\n",
        "\n",
        "    return 4 * inside_circle / num_samples\n",
        "\n",
        "# Estimate π using a large number of samples for accuracy\n",
        "num_samples = 100_000_000\n",
        "pi_estimate = estimate_pi(num_samples)\n",
        "pi_estimate\n"
      ]
    },
    {
      "cell_type": "code",
      "source": [],
      "metadata": {
        "id": "TF9pPFyYAkCx"
      },
      "execution_count": null,
      "outputs": []
    }
  ]
}