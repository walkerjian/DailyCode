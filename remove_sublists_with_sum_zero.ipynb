{
  "nbformat": 4,
  "nbformat_minor": 0,
  "metadata": {
    "colab": {
      "provenance": [],
      "authorship_tag": "ABX9TyM9gLfBB2N81nUjuCSj7b1W",
      "include_colab_link": true
    },
    "kernelspec": {
      "name": "python3",
      "display_name": "Python 3"
    },
    "language_info": {
      "name": "python"
    }
  },
  "cells": [
    {
      "cell_type": "markdown",
      "metadata": {
        "id": "view-in-github",
        "colab_type": "text"
      },
      "source": [
        "<a href=\"https://colab.research.google.com/github/walkerjian/DailyCode/blob/main/remove_sublists_with_sum_zero.ipynb\" target=\"_parent\"><img src=\"https://colab.research.google.com/assets/colab-badge.svg\" alt=\"Open In Colab\"/></a>"
      ]
    },
    {
      "cell_type": "code",
      "execution_count": 1,
      "metadata": {
        "colab": {
          "base_uri": "https://localhost:8080/"
        },
        "id": "QmXvn4cdoqHH",
        "outputId": "832267a6-39ed-468b-bfbf-f9ce56a1f76d"
      },
      "outputs": [
        {
          "output_type": "execute_result",
          "data": {
            "text/plain": [
              "[5]"
            ]
          },
          "metadata": {},
          "execution_count": 1
        }
      ],
      "source": [
        "def remove_sublists_with_sum_zero(nums):\n",
        "    # Dictionary to store prefix sum and its corresponding index\n",
        "    prefix_sum_to_index = {0: -1}  # Initialize with sum 0 at index -1 for edge case handling\n",
        "    prefix_sum = 0\n",
        "    i = 0\n",
        "\n",
        "    while i < len(nums):\n",
        "        prefix_sum += nums[i]\n",
        "\n",
        "        # If prefix sum is found in the dictionary, it means we've seen this sum before\n",
        "        # and the sublist between that index and the current index has a sum of 0\n",
        "        if prefix_sum in prefix_sum_to_index:\n",
        "            # Remove the sublist and adjust the current index\n",
        "            start_index = prefix_sum_to_index[prefix_sum] + 1\n",
        "            del nums[start_index:i+1]\n",
        "            i = start_index\n",
        "            # Reset prefix sum for the next iteration\n",
        "            prefix_sum = sum(nums[:i])\n",
        "        else:\n",
        "            # Otherwise, add the prefix sum and its index to the dictionary\n",
        "            prefix_sum_to_index[prefix_sum] = i\n",
        "            i += 1\n",
        "\n",
        "    return nums\n",
        "\n",
        "nums = [3, 4, -7, 5, -6, 6]\n",
        "remove_sublists_with_sum_zero(nums)\n"
      ]
    },
    {
      "cell_type": "code",
      "source": [
        "def test_remove_sublists_with_sum_zero():\n",
        "    test_cases = [\n",
        "        # Basic cases\n",
        "        ([3, 4, -7, 5, -6, 6], [5]),\n",
        "\n",
        "        # Edge cases\n",
        "        ([], []),\n",
        "        ([1, 2, 3, 4, 5], [1, 2, 3, 4, 5]),\n",
        "        ([-1, -2, -3, -4, -5], [-1, -2, -3, -4, -5]),\n",
        "        ([1, -1], []),\n",
        "        ([1, -1, 2, -2, 3], [3]),\n",
        "\n",
        "        # Complex cases\n",
        "        ([1, 2, 3, -6, 4, 5, -9], []),\n",
        "        ([1, 2, 3, 4, -10, 5, 6], [5, 6]),\n",
        "        ([10, -10, 10, -10, 10], [10]),\n",
        "        ([1, 2, -3, 4, 5, -9, 6, -6], []),\n",
        "        ([1, 2, 3, 4, -10, 5, 6, 7, -18], []),  # Corrected this test case\n",
        "        ([1, 2, 3, -6, 4, 5, -9, 10, -1, 11], [10, -1, 11])\n",
        "    ]\n",
        "\n",
        "    for nums, expected in test_cases:\n",
        "        result = remove_sublists_with_sum_zero(nums.copy())  # Using copy to avoid modifying the original list\n",
        "        assert result == expected, f\"Expected {expected} but got {result} for input {nums}\"\n",
        "\n",
        "    return \"All tests passed!\"\n",
        "\n",
        "test_remove_sublists_with_sum_zero()\n"
      ],
      "metadata": {
        "colab": {
          "base_uri": "https://localhost:8080/",
          "height": 38
        },
        "id": "NagwGXtkorXs",
        "outputId": "0a698a69-7456-4f8b-e730-3cdf41cecea4"
      },
      "execution_count": 2,
      "outputs": [
        {
          "output_type": "execute_result",
          "data": {
            "text/plain": [
              "'All tests passed!'"
            ],
            "application/vnd.google.colaboratory.intrinsic+json": {
              "type": "string"
            }
          },
          "metadata": {},
          "execution_count": 2
        }
      ]
    }
  ]
}