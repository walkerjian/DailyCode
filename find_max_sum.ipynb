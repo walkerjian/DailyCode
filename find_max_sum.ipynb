{
  "nbformat": 4,
  "nbformat_minor": 0,
  "metadata": {
    "colab": {
      "provenance": [],
      "authorship_tag": "ABX9TyPXhMxGAitxzwdRLzSCiu9z",
      "include_colab_link": true
    },
    "kernelspec": {
      "name": "python3",
      "display_name": "Python 3"
    },
    "language_info": {
      "name": "python"
    }
  },
  "cells": [
    {
      "cell_type": "markdown",
      "metadata": {
        "id": "view-in-github",
        "colab_type": "text"
      },
      "source": [
        "<a href=\"https://colab.research.google.com/github/walkerjian/DailyCode/blob/main/find_max_sum.ipynb\" target=\"_parent\"><img src=\"https://colab.research.google.com/assets/colab-badge.svg\" alt=\"Open In Colab\"/></a>"
      ]
    },
    {
      "cell_type": "markdown",
      "source": [
        "Given a list of integers, write a function that returns the largest sum of non-adjacent numbers. Numbers can be 0 or negative.\n",
        "\n",
        "For example, [2, 4, 6, 2, 5] should return 13, since we pick 2, 6, and 5. [5, 1, 1, 5] should return 10, since we pick 5 and 5.\n",
        "\n",
        "Can you do this in O(N) time and constant space?\n",
        "\n",
        "To solve this problem using O(N) time and constant space, we can use a dynamic programming approach where we maintain two variables to keep track of the maximum sum including and excluding the current number. The key insight is that the maximum sum excluding the current number is the maximum of the sum including the previous number and the sum excluding the previous number.\n",
        "\n",
        "Using the Model-View-Controller (MVC) paradigm:\n",
        "1. Model: `find_max_sum` function.\n",
        "2. View: `display_result` function.\n",
        "3. Controller: `controller` function.\n",
        "\n",
        "In this solution, the `find_max_sum` function calculates the maximum sum of non-adjacent numbers using dynamic programming. The `display_result` function displays the result to the user, and the `controller` function manages the interaction between the Model and the View. Finally, the `test_harness` function tests the solution with multiple test cases."
      ],
      "metadata": {
        "id": "wn_xzpWLiDNp"
      }
    },
    {
      "cell_type": "code",
      "execution_count": 1,
      "metadata": {
        "colab": {
          "base_uri": "https://localhost:8080/"
        },
        "id": "RWZfrHN7hoXX",
        "outputId": "4f9fc690-cea8-42af-b002-ea457f8dc81f"
      },
      "outputs": [
        {
          "output_type": "stream",
          "name": "stdout",
          "text": [
            "For the list [2, 4, 6, 2, 5], the largest sum of non-adjacent numbers is: 13\n",
            "For the list [5, 1, 1, 5], the largest sum of non-adjacent numbers is: 10\n",
            "For the list [], the largest sum of non-adjacent numbers is: 0\n",
            "For the list [3, 2, 5, 10, 7], the largest sum of non-adjacent numbers is: 15\n",
            "For the list [-5, -1, -1, -5], the largest sum of non-adjacent numbers is: 0\n",
            "For the list [1, 0, 3, 9, 2], the largest sum of non-adjacent numbers is: 10\n",
            "For the list [1], the largest sum of non-adjacent numbers is: 1\n",
            "For the list [-1], the largest sum of non-adjacent numbers is: 0\n",
            "For the list [1, 2, 9, 4, 5, 0, 4, 11, 6], the largest sum of non-adjacent numbers is: 26\n",
            "For the list [10, 2, 4, 8, 6, 2, 8], the largest sum of non-adjacent numbers is: 28\n",
            "For the list [-3, 2, 7, 10], the largest sum of non-adjacent numbers is: 12\n"
          ]
        }
      ],
      "source": [
        "def find_max_sum(nums):\n",
        "    \"\"\"\n",
        "    Calculate the largest sum of non-adjacent numbers from a list of integers.\n",
        "\n",
        "    Args:\n",
        "    - nums (list[int]): A list of integers, which can be positive, negative, or zero.\n",
        "\n",
        "    Returns:\n",
        "    - int: The largest sum of non-adjacent numbers.\n",
        "    \"\"\"\n",
        "    if not nums:\n",
        "        return 0\n",
        "\n",
        "    incl = nums[0]  # max sum including the current element\n",
        "    excl = 0        # max sum excluding the current element\n",
        "\n",
        "    for i in range(1, len(nums)):\n",
        "        new_excl = max(incl, excl)\n",
        "        incl = excl + nums[i]\n",
        "        excl = new_excl\n",
        "\n",
        "    return max(incl, excl)\n",
        "\n",
        "def display_result(nums, result):\n",
        "    \"\"\"\n",
        "    Display the result to the user.\n",
        "\n",
        "    Args:\n",
        "    - nums (list[int]): Original list of numbers.\n",
        "    - result (int): Calculated result for the largest sum of non-adjacent numbers.\n",
        "\n",
        "    Returns:\n",
        "    - None\n",
        "    \"\"\"\n",
        "    print(f\"For the list {nums}, the largest sum of non-adjacent numbers is: {result}\")\n",
        "\n",
        "def controller(nums):\n",
        "    \"\"\"\n",
        "    Controller function to manage the interaction between the Model and View.\n",
        "\n",
        "    Args:\n",
        "    - nums (list[int]): List of numbers to process.\n",
        "\n",
        "    Returns:\n",
        "    - None\n",
        "    \"\"\"\n",
        "    result = find_max_sum(nums)\n",
        "    display_result(nums, result)\n",
        "\n",
        "def test_harness():\n",
        "    \"\"\"\n",
        "    Test the implementation with multiple test cases.\n",
        "\n",
        "    Returns:\n",
        "    - None\n",
        "    \"\"\"\n",
        "    test_cases = [\n",
        "        [2, 4, 6, 2, 5],         # Expected: 13\n",
        "        [5, 1, 1, 5],           # Expected: 10\n",
        "        [],                     # Expected: 0\n",
        "        [3, 2, 5, 10, 7],       # Expected: 15 (3 + 5 + 7)\n",
        "        [-5, -1, -1, -5],       # Expected: 0 (all negatives, better not to take any)\n",
        "        [1, 0, 3, 9, 2],        # Expected: 10 (1 + 3 + 2 or 0 + 9)\n",
        "        [1],                    # Expected: 1\n",
        "        [-1],                   # Expected: 0\n",
        "        [1, 2, 9, 4, 5, 0, 4, 11, 6], # Expected: 26 (1 + 9 + 5 + 11)\n",
        "        [10, 2, 4, 8, 6, 2, 8], # Expected: 26 (10 + 4 + 6 + 8)\n",
        "        [-3, 2, 7, 10]          # Expected: 12 (2 + 10)\n",
        "    ]\n",
        "\n",
        "    for test in test_cases:\n",
        "        controller(test)\n",
        "\n",
        "# Running the test harness to test the solution\n",
        "test_harness()\n"
      ]
    }
  ]
}