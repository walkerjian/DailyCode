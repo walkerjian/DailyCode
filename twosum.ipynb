{
  "nbformat": 4,
  "nbformat_minor": 0,
  "metadata": {
    "colab": {
      "provenance": [],
      "authorship_tag": "ABX9TyMwhSQFma6164l/98EZWbyR",
      "include_colab_link": true
    },
    "kernelspec": {
      "name": "python3",
      "display_name": "Python 3"
    },
    "language_info": {
      "name": "python"
    }
  },
  "cells": [
    {
      "cell_type": "markdown",
      "metadata": {
        "id": "view-in-github",
        "colab_type": "text"
      },
      "source": [
        "<a href=\"https://colab.research.google.com/github/walkerjian/DailyCode/blob/main/twosum.ipynb\" target=\"_parent\"><img src=\"https://colab.research.google.com/assets/colab-badge.svg\" alt=\"Open In Colab\"/></a>"
      ]
    },
    {
      "cell_type": "code",
      "execution_count": 2,
      "metadata": {
        "id": "0rrU2FQ6NANV"
      },
      "outputs": [],
      "source": [
        "from typing import List\n",
        "\n",
        "class Solution:\n",
        "    def twoSum(self, nums: List[int], target: int) -> List[int]:\n",
        "        \"\"\"\n",
        "        Given an array of integers nums and an integer target, this function\n",
        "        returns indices of the two numbers such that they add up to target.\n",
        "\n",
        "        Assumptions:\n",
        "        - Each input would have exactly one solution\n",
        "        - The same element cannot be used twice\n",
        "        - The answer can be returned in any order\n",
        "\n",
        "        Parameters:\n",
        "        nums : list\n",
        "            A list of integers\n",
        "        target : int\n",
        "            The target sum\n",
        "\n",
        "        Returns:\n",
        "        list\n",
        "            A list of two indices from nums that add up to target\n",
        "\n",
        "        Examples:\n",
        "        >>> Solution().twoSum([2,7,11,15], 9)\n",
        "        [0, 1]\n",
        "        >>> Solution().twoSum([3,2,4], 6)\n",
        "        [1, 2]\n",
        "        >>> Solution().twoSum([3,3], 6)\n",
        "        [0, 1]\n",
        "        \"\"\"\n",
        "        # Create a dictionary to store the difference between target and num\n",
        "        # as key and index as value\n",
        "        dict_nums = {}\n",
        "\n",
        "        for i, num in enumerate(nums):\n",
        "            diff = target - num\n",
        "            if diff in dict_nums:\n",
        "                return [dict_nums[diff], i]\n",
        "            dict_nums[num] = i\n",
        "\n",
        "        # If no two sum solution exists, return an empty list\n",
        "        return []\n"
      ]
    },
    {
      "cell_type": "code",
      "source": [
        "def check_solution(nums, target, indices):\n",
        "    \"\"\"\n",
        "    Helper function to verify if the provided indices point to numbers\n",
        "    in the input list that add up to the target.\n",
        "\n",
        "    Parameters:\n",
        "    nums : list\n",
        "        The list of numbers\n",
        "    target : int\n",
        "        The target sum\n",
        "    indices : list\n",
        "        The indices to check\n",
        "\n",
        "    Returns:\n",
        "    bool\n",
        "        True if the numbers at the provided indices add up to the target,\n",
        "        False otherwise\n",
        "    \"\"\"\n",
        "    return nums[indices[0]] + nums[indices[1]] == target\n",
        "\n",
        "# Create an instance of the Solution class\n",
        "solution = Solution()\n",
        "\n",
        "# Provided test cases\n",
        "assert check_solution([2,7,11,15], 9, solution.twoSum([2,7,11,15], 9))\n",
        "assert check_solution([3,2,4], 6, solution.twoSum([3,2,4], 6))\n",
        "assert check_solution([3,3], 6, solution.twoSum([3,3], 6))\n",
        "\n",
        "# Additional test cases\n",
        "assert check_solution([1,2,3,4,5], 9, solution.twoSum([1,2,3,4,5], 9))\n",
        "assert check_solution([-1, -2, -3, -4, -5], -9, solution.twoSum([-1, -2, -3, -4, -5], -9))\n",
        "assert check_solution([10,20,10,40,50,60,70], 50, solution.twoSum([10,20,10,40,50,60,70], 50))\n",
        "assert check_solution([14, 15, 25, 36, 17, 18, 22, 21], 39, solution.twoSum([14, 15, 25, 36, 17, 18, 22, 21], 39))\n",
        "\n",
        "print(\"All test cases passed\")\n"
      ],
      "metadata": {
        "colab": {
          "base_uri": "https://localhost:8080/"
        },
        "id": "UQwODW9RC3DW",
        "outputId": "a3b419b0-16bd-48ad-debe-3228472af36f"
      },
      "execution_count": 4,
      "outputs": [
        {
          "output_type": "stream",
          "name": "stdout",
          "text": [
            "All test cases passed\n"
          ]
        }
      ]
    }
  ]
}