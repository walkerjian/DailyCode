{
  "nbformat": 4,
  "nbformat_minor": 0,
  "metadata": {
    "colab": {
      "provenance": [],
      "authorship_tag": "ABX9TyOWXUNGItZya2rdi6bHO6Fl",
      "include_colab_link": true
    },
    "kernelspec": {
      "name": "python3",
      "display_name": "Python 3"
    },
    "language_info": {
      "name": "python"
    }
  },
  "cells": [
    {
      "cell_type": "markdown",
      "metadata": {
        "id": "view-in-github",
        "colab_type": "text"
      },
      "source": [
        "<a href=\"https://colab.research.google.com/github/walkerjian/DailyCode/blob/main/Code_Craft_largestDivisibleSubset.ipynb\" target=\"_parent\"><img src=\"https://colab.research.google.com/assets/colab-badge.svg\" alt=\"Open In Colab\"/></a>"
      ]
    },
    {
      "cell_type": "markdown",
      "source": [
        "##Problem:\n",
        "Given a set of distinct positive integers, find the largest subset such that every pair of elements in the subset (i, j) satisfies either i % j = 0 or j % i = 0.\n",
        "\n",
        "For example, given the set [3, 5, 10, 20, 21], you should return [5, 10, 20]. Given [1, 3, 6, 24], return [1, 3, 6, 24].\n",
        "\n",
        "##Solution:\n",
        "To solve this problem, we can use a dynamic programming approach. The idea is to sort the array and then find the longest subset where each element is divisible by its previous element in the subset. Here's the algorithm:\n",
        "\n",
        "1. Sort the array in ascending order.\n",
        "2. Create an array `dp` of the same length as the input array, where `dp[i]` stores the length of the longest subset ending with the `i`-th element.\n",
        "3. Initialize `dp` with 1, as each element can form a subset on its own.\n",
        "4. For each element in the array, find the longest subset it can form with the previous elements.\n",
        "5. Track the index of the maximum element in the `dp` array.\n",
        "6. Reconstruct the subset from the `dp` array.\n",
        "\n",
        "##Implementation:"
      ],
      "metadata": {
        "id": "yP19xIvvpZo2"
      }
    },
    {
      "cell_type": "code",
      "source": [
        "def largestDivisibleSubset(nums):\n",
        "    if not nums or any(n <= 0 for n in nums):  # Check for empty set or non-positive integers\n",
        "        return []\n",
        "\n",
        "    nums.sort()\n",
        "    n = len(nums)\n",
        "    dp = [1] * n\n",
        "    parent = [-1] * n\n",
        "    max_index = 0\n",
        "\n",
        "    for i in range(1, n):\n",
        "        for j in range(i):\n",
        "            if nums[i] % nums[j] == 0 and dp[i] < dp[j] + 1:\n",
        "                dp[i] = dp[j] + 1\n",
        "                parent[i] = j\n",
        "        if dp[i] > dp[max_index]:\n",
        "            max_index = i\n",
        "\n",
        "    result = []\n",
        "    current = max_index\n",
        "    while current != -1:\n",
        "        result.append(nums[current])\n",
        "        current = parent[current]\n",
        "\n",
        "    return result[::-1]\n",
        "\n",
        "# Test cases\n",
        "test_cases = [\n",
        "    ([], \"Empty set\"),\n",
        "    ([42], \"Single element\"),\n",
        "    ([2, 3, 5, 7, 11, 13], \"Prime numbers\"),\n",
        "    ([1, 2, 4, 8, 3, 9, 27], \"Multiple divisible chains\"),\n",
        "    ([i for i in range(1, 101)], \"Large set\"),\n",
        "    ([-4, -8, -16, -2, -1], \"Negative numbers (invalid input)\")\n",
        "]\n",
        "\n",
        "# Test harness\n",
        "def run_tests(test_cases):\n",
        "    for test_input, description in test_cases:\n",
        "        result = largestDivisibleSubset(test_input)\n",
        "        print(f\"Test: {description}\\nInput: {test_input}\\nResult: {result}\\n\")\n",
        "\n",
        "# Run the tests\n",
        "run_tests(test_cases)\n"
      ],
      "metadata": {
        "colab": {
          "base_uri": "https://localhost:8080/"
        },
        "id": "eOcBGzHpr5Ie",
        "outputId": "e1592774-2fbf-450d-e1e1-6e0d572620bb"
      },
      "execution_count": 5,
      "outputs": [
        {
          "output_type": "stream",
          "name": "stdout",
          "text": [
            "Test: Empty set\n",
            "Input: []\n",
            "Result: []\n",
            "\n",
            "Test: Single element\n",
            "Input: [42]\n",
            "Result: [42]\n",
            "\n",
            "Test: Prime numbers\n",
            "Input: [2, 3, 5, 7, 11, 13]\n",
            "Result: [2]\n",
            "\n",
            "Test: Multiple divisible chains\n",
            "Input: [1, 2, 3, 4, 8, 9, 27]\n",
            "Result: [1, 2, 4, 8]\n",
            "\n",
            "Test: Large set\n",
            "Input: [1, 2, 3, 4, 5, 6, 7, 8, 9, 10, 11, 12, 13, 14, 15, 16, 17, 18, 19, 20, 21, 22, 23, 24, 25, 26, 27, 28, 29, 30, 31, 32, 33, 34, 35, 36, 37, 38, 39, 40, 41, 42, 43, 44, 45, 46, 47, 48, 49, 50, 51, 52, 53, 54, 55, 56, 57, 58, 59, 60, 61, 62, 63, 64, 65, 66, 67, 68, 69, 70, 71, 72, 73, 74, 75, 76, 77, 78, 79, 80, 81, 82, 83, 84, 85, 86, 87, 88, 89, 90, 91, 92, 93, 94, 95, 96, 97, 98, 99, 100]\n",
            "Result: [1, 2, 4, 8, 16, 32, 64]\n",
            "\n",
            "Test: Negative numbers (invalid input)\n",
            "Input: [-4, -8, -16, -2, -1]\n",
            "Result: []\n",
            "\n"
          ]
        }
      ]
    }
  ]
}