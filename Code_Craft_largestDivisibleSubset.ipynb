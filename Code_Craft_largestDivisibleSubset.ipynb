{
  "nbformat": 4,
  "nbformat_minor": 0,
  "metadata": {
    "colab": {
      "provenance": [],
      "authorship_tag": "ABX9TyNvrnjKRRwZa7kema4LLZWD",
      "include_colab_link": true
    },
    "kernelspec": {
      "name": "python3",
      "display_name": "Python 3"
    },
    "language_info": {
      "name": "python"
    }
  },
  "cells": [
    {
      "cell_type": "markdown",
      "metadata": {
        "id": "view-in-github",
        "colab_type": "text"
      },
      "source": [
        "<a href=\"https://colab.research.google.com/github/walkerjian/DailyCode/blob/main/Code_Craft_largestDivisibleSubset.ipynb\" target=\"_parent\"><img src=\"https://colab.research.google.com/assets/colab-badge.svg\" alt=\"Open In Colab\"/></a>"
      ]
    },
    {
      "cell_type": "markdown",
      "source": [
        "##Problem:\n",
        "Given a set of distinct positive integers, find the largest subset such that every pair of elements in the subset (i, j) satisfies either i % j = 0 or j % i = 0.\n",
        "\n",
        "For example, given the set [3, 5, 10, 20, 21], you should return [5, 10, 20]. Given [1, 3, 6, 24], return [1, 3, 6, 24].\n"
      ],
      "metadata": {
        "id": "2lWyrXjB8EeD"
      }
    },
    {
      "cell_type": "markdown",
      "source": [
        "##Solution:\n",
        "To find the largest subset where every pair of elements $ i, j $ satisfies either $ i \\% j = 0 $ or $ j \\% i = 0 $, we can follow this approach:\n",
        "\n",
        "1. Sort the input array. This ensures that for any element in the sorted array, all possible divisors appear before it.\n",
        "2. Use dynamic programming (DP) to keep track of the largest divisible subset for each element. For each element, check its predecessors to see if it can form a larger divisible subset.\n",
        "3. Backtrack from the element with the largest subset to construct the actual subset.\n",
        "\n",
        "Here's how we can implement this solution:\n",
        "\n",
        "1. Sort the input set.\n",
        "2. Initialize an array `dp` of the same length as the input, where `dp[i]` will store the size of the largest divisible subset ending with the `i`-th element of the sorted array.\n",
        "3. Initialize another array `parent` to reconstruct the subset, where `parent[i]` points to the previous element in the largest subset ending with the `i`-th element.\n",
        "4. Iterate through the array to fill in `dp` and `parent`.\n",
        "5. Find the index of the maximum value in `dp` and backtrack using `parent` to construct the subset.\n",
        "\n",
        "\n"
      ],
      "metadata": {
        "id": "jIohycTB8Hjb"
      }
    },
    {
      "cell_type": "markdown",
      "source": [
        "##Implementation:\n",
        "Let's implement this in Python.\n",
        "\n",
        "\n"
      ],
      "metadata": {
        "id": "pkWuQrLB8K8H"
      }
    },
    {
      "cell_type": "code",
      "execution_count": 1,
      "metadata": {
        "id": "TIIt0l_k7Oi1",
        "colab": {
          "base_uri": "https://localhost:8080/"
        },
        "outputId": "17d419a4-6fa5-43dd-e181-6163b861df89"
      },
      "outputs": [
        {
          "output_type": "stream",
          "name": "stdout",
          "text": [
            "[5, 10, 20]\n",
            "[1, 3, 6, 24]\n"
          ]
        }
      ],
      "source": [
        "def largestDivisibleSubset(nums):\n",
        "    if not nums:\n",
        "        return []\n",
        "\n",
        "    # Step 1: Sort the input list\n",
        "    nums.sort()\n",
        "\n",
        "    # Step 2 and 3: Initialize DP and parent arrays\n",
        "    n = len(nums)\n",
        "    dp = [1] * n  # Each number is a subset of itself\n",
        "    parent = [-1] * n  # Initialize parent pointers\n",
        "\n",
        "    # Step 4: Fill in the DP and parent arrays\n",
        "    max_index = 0  # Index of the largest element of the maximum subset\n",
        "    for i in range(1, n):\n",
        "        for j in range(i):\n",
        "            if nums[i] % nums[j] == 0 and dp[j] + 1 > dp[i]:\n",
        "                dp[i] = dp[j] + 1\n",
        "                parent[i] = j\n",
        "                if dp[i] > dp[max_index]:\n",
        "                    max_index = i\n",
        "\n",
        "    # Step 5: Reconstruct the largest subset\n",
        "    largest_subset = []\n",
        "    while max_index >= 0:\n",
        "        largest_subset.append(nums[max_index])\n",
        "        max_index = parent[max_index]\n",
        "\n",
        "    return largest_subset[::-1]  # Reverse to get the subset in sorted order\n",
        "\n",
        "# Test cases\n",
        "print(largestDivisibleSubset([3, 5, 10, 20, 21]))  # [5, 10, 20]\n",
        "print(largestDivisibleSubset([1, 3, 6, 24]))       # [1, 3, 6, 24]\n"
      ]
    },
    {
      "cell_type": "markdown",
      "source": [
        "The function correctly finds the largest subset where every pair of elements $ (i, j) $ satisfies either $ i \\% j = 0 $ or $ j \\% i = 0 $. For the given sets:\n",
        "\n",
        "- For the set $[3, 5, 10, 20, 21]$, the largest subset is $[5, 10, 20]$.\n",
        "- For the set $[1, 3, 6, 24]$, the largest subset is $[1, 3, 6, 24]$."
      ],
      "metadata": {
        "id": "Isuyy5HYSvbb"
      }
    },
    {
      "cell_type": "markdown",
      "source": [
        "##Testing:\n",
        "To test the function professionally, we should write tests that cover various scenarios, including edge cases. We need to ensure that:\n",
        "\n",
        "1. The tests run to completion, even if one fails.\n",
        "2. We clearly report the success or failure of each test.\n",
        "\n",
        "Let's create a test suite for this function:\n",
        "\n",
        "- Test with an empty list.\n",
        "- Test with a list of one element.\n",
        "- Test with a list where only one element is divisible by all others.\n",
        "- Test with a list where all elements are divisible by each other.\n",
        "- Test with a list where no elements are divisible by others.\n",
        "- Test with a larger list to check the efficiency and correctness.\n",
        "\n",
        "We'll define a test function that runs all these tests and reports the results. If a test fails, we'll investigate the issue without stopping the program flow.\n",
        "\n"
      ],
      "metadata": {
        "id": "wcaruNyfYogT"
      }
    },
    {
      "cell_type": "code",
      "source": [
        "def run_tests():\n",
        "    test_cases = [\n",
        "        ([], []),\n",
        "        ([1], [1]),\n",
        "        ([2, 3, 4, 8], [2, 4, 8]),\n",
        "        ([1, 2, 4, 8, 16], [1, 2, 4, 8, 16]),\n",
        "        ([5, 7, 11], [5] or [7] or [11]),  # Expect any single-element subset\n",
        "        ([18, 1, 3, 6, 24], [1, 3, 6, 24]),\n",
        "        ([3, 5, 10, 20, 21], [5, 10, 20]),\n",
        "        ([1, 3, 6, 24], [1, 3, 6, 24])\n",
        "    ]\n",
        "\n",
        "    all_tests_passed = True\n",
        "\n",
        "    for i, (nums, expected) in enumerate(test_cases):\n",
        "        result = largestDivisibleSubset(nums)\n",
        "        if sorted(result) == sorted(expected):\n",
        "            print(f\"Test {i + 1} passed: {nums} => {result}\")\n",
        "        else:\n",
        "            print(f\"Test {i + 1} failed: {nums} => {result}, expected {expected}\")\n",
        "            all_tests_passed = False\n",
        "\n",
        "    return all_tests_passed\n",
        "\n",
        "# Run the tests\n",
        "all_tests_passed = run_tests()\n",
        "\n",
        "# If any test failed, we need to introspect\n",
        "if not all_tests_passed:\n",
        "    print(\"Some tests failed. Need to introspect.\")\n",
        "else:\n",
        "    print(\"All tests passed successfully.\")\n",
        "\n"
      ],
      "metadata": {
        "id": "7arfxk2ORsA8",
        "colab": {
          "base_uri": "https://localhost:8080/"
        },
        "outputId": "45aa18b6-db65-447c-8a93-fae53ebfddc3"
      },
      "execution_count": 2,
      "outputs": [
        {
          "output_type": "stream",
          "name": "stdout",
          "text": [
            "Test 1 passed: [] => []\n",
            "Test 2 passed: [1] => [1]\n",
            "Test 3 passed: [2, 3, 4, 8] => [2, 4, 8]\n",
            "Test 4 passed: [1, 2, 4, 8, 16] => [1, 2, 4, 8, 16]\n",
            "Test 5 passed: [5, 7, 11] => [5]\n",
            "Test 6 failed: [1, 3, 6, 18, 24] => [1, 3, 6, 18], expected [1, 3, 6, 24]\n",
            "Test 7 passed: [3, 5, 10, 20, 21] => [5, 10, 20]\n",
            "Test 8 passed: [1, 3, 6, 24] => [1, 3, 6, 24]\n",
            "Some tests failed. Need to introspect.\n"
          ]
        }
      ]
    },
    {
      "cell_type": "markdown",
      "source": [
        "The test suite ran successfully, but one test failed:\n",
        "\n",
        "- Test case `[18, 1, 3, 6, 24]` resulted in `[1, 3, 6, 18]`, whereas the expected result was `[1, 3, 6, 24]`.\n",
        "\n",
        "This indicates a potential flaw in the logic of our function. We should introspect the function to understand why it included `18` instead of `24` in the subset. The likely issue is in how we handle the divisibility check and select the largest subset. Let's investigate this further.\n"
      ],
      "metadata": {
        "id": "ltpVli3YTfU-"
      }
    },
    {
      "cell_type": "markdown",
      "source": [
        "The issue here is that there can be multiple \"largest\" subsets of the same size that satisfy the divisibility condition. Our current approach only finds one such subset. To handle this, we need to modify our algorithm to track all possible largest subsets.\n",
        "\n",
        "Here's an updated approach:\n",
        "\n",
        "1. Continue using dynamic programming to find the size of the largest subset.\n",
        "2. Instead of keeping a single parent pointer, we could keep track of all possible predecessors that lead to the largest subsets.\n",
        "3. After the DP table is constructed, backtrack from all elements that have the maximum subset size to construct all possible subsets.\n",
        "\n",
        "This modification will allow us to find all distinct largest divisible subsets. Let's implement these changes.\n",
        "\n",
        "The updated function now correctly identifies and returns all largest divisible subsets. For the test case `[1, 3, 6, 18, 24]`, it successfully returned both `[1, 3, 6, 18]` and `[1, 3, 6, 24]` as the largest subsets where each pair of elements satisfies the divisibility condition."
      ],
      "metadata": {
        "id": "H4Aqw0_2VA6W"
      }
    },
    {
      "cell_type": "code",
      "source": [
        "def largestDivisibleSubsets(nums):\n",
        "    if not nums:\n",
        "        return [[]]\n",
        "\n",
        "    # Step 1: Sort the input list\n",
        "    nums.sort()\n",
        "\n",
        "    # Step 2: Initialize DP and parent arrays\n",
        "    n = len(nums)\n",
        "    dp = [1] * n  # Each number is a subset of itself\n",
        "    parents = {i: [] for i in range(n)}  # Initialize parents to track all predecessors\n",
        "\n",
        "    max_size = 1\n",
        "    for i in range(1, n):\n",
        "        for j in range(i):\n",
        "            if nums[i] % nums[j] == 0 and dp[j] + 1 > dp[i]:\n",
        "                dp[i] = dp[j] + 1\n",
        "                parents[i] = [j]\n",
        "                max_size = max(max_size, dp[i])\n",
        "            elif nums[i] % nums[j] == 0 and dp[j] + 1 == dp[i]:\n",
        "                parents[i].append(j)\n",
        "\n",
        "    # Step 3: Reconstruct the largest subsets\n",
        "    def construct_subsets(index, path):\n",
        "        if not parents[index]:\n",
        "            return [path]\n",
        "        subsets = []\n",
        "        for parent in parents[index]:\n",
        "            subsets.extend(construct_subsets(parent, [nums[parent]] + path))\n",
        "        return subsets\n",
        "\n",
        "    # Find all indices with the maximum subset size\n",
        "    max_indices = [i for i, size in enumerate(dp) if size == max_size]\n",
        "\n",
        "    # Construct and collect all subsets from each index with maximum size\n",
        "    all_subsets = []\n",
        "    for index in max_indices:\n",
        "        all_subsets.extend(construct_subsets(index, [nums[index]]))\n",
        "\n",
        "    return all_subsets\n",
        "\n",
        "# Test the updated function with a case that should return multiple subsets\n",
        "largestDivisibleSubsets([1, 3, 6, 18, 24])\n"
      ],
      "metadata": {
        "colab": {
          "base_uri": "https://localhost:8080/"
        },
        "id": "-4wZrTU3U_6Z",
        "outputId": "3b1e7593-2f70-453f-cfa6-0ac332763c56"
      },
      "execution_count": 3,
      "outputs": [
        {
          "output_type": "execute_result",
          "data": {
            "text/plain": [
              "[[1, 3, 6, 18], [1, 3, 6, 24]]"
            ]
          },
          "metadata": {},
          "execution_count": 3
        }
      ]
    },
    {
      "cell_type": "markdown",
      "source": [
        "All tests have passed successfully with the updated function. It now correctly identifies and returns all largest divisible subsets for each given set, handling cases with multiple valid subsets appropriately."
      ],
      "metadata": {
        "id": "olTR9aaGVGff"
      }
    },
    {
      "cell_type": "code",
      "source": [
        "def run_tests_with_multiple_subsets():\n",
        "    test_cases = [\n",
        "        ([], [[]]),\n",
        "        ([1], [[1]]),\n",
        "        ([2, 3, 4, 8], [[2, 4, 8]]),\n",
        "        ([1, 2, 4, 8, 16], [[1, 2, 4, 8, 16]]),\n",
        "        ([5, 7, 11], [[5], [7], [11]]),  # Any single-element subset\n",
        "        ([18, 1, 3, 6, 24], [[1, 3, 6, 18], [1, 3, 6, 24]]),\n",
        "        ([3, 5, 10, 20, 21], [[5, 10, 20]]),\n",
        "        ([1, 3, 6, 24], [[1, 3, 6, 24]])\n",
        "    ]\n",
        "\n",
        "    all_tests_passed = True\n",
        "\n",
        "    for i, (nums, expected) in enumerate(test_cases):\n",
        "        result = largestDivisibleSubsets(nums)\n",
        "        # Compare sorted versions of the result and expected lists to avoid order issues\n",
        "        if sorted(map(sorted, result)) == sorted(map(sorted, expected)):\n",
        "            print(f\"Test {i + 1} passed: {nums} => {result}\")\n",
        "        else:\n",
        "            print(f\"Test {i + 1} failed: {nums} => {result}, expected {expected}\")\n",
        "            all_tests_passed = False\n",
        "\n",
        "    return all_tests_passed\n",
        "\n",
        "# Run the updated tests\n",
        "all_tests_passed = run_tests_with_multiple_subsets()\n",
        "\n",
        "# Output the result of the tests\n",
        "if not all_tests_passed:\n",
        "    print(\"Some tests failed. Need to introspect.\")\n",
        "else:\n",
        "    print(\"All tests passed successfully.\")\n",
        "\n"
      ],
      "metadata": {
        "colab": {
          "base_uri": "https://localhost:8080/"
        },
        "id": "1ZOQjzuKVKxe",
        "outputId": "2ce90a04-5241-4175-dcba-d77900217fda"
      },
      "execution_count": 4,
      "outputs": [
        {
          "output_type": "stream",
          "name": "stdout",
          "text": [
            "Test 1 passed: [] => [[]]\n",
            "Test 2 passed: [1] => [[1]]\n",
            "Test 3 passed: [2, 3, 4, 8] => [[2, 4, 8]]\n",
            "Test 4 passed: [1, 2, 4, 8, 16] => [[1, 2, 4, 8, 16]]\n",
            "Test 5 passed: [5, 7, 11] => [[5], [7], [11]]\n",
            "Test 6 passed: [1, 3, 6, 18, 24] => [[1, 3, 6, 18], [1, 3, 6, 24]]\n",
            "Test 7 passed: [3, 5, 10, 20, 21] => [[5, 10, 20]]\n",
            "Test 8 passed: [1, 3, 6, 24] => [[1, 3, 6, 24]]\n",
            "All tests passed successfully.\n"
          ]
        }
      ]
    },
    {
      "cell_type": "markdown",
      "source": [
        "Let's create a more challenging test case with a larger set of numbers that should yield multiple solution sets. This will help us verify the robustness and correctness of our algorithm under more complex conditions. We'll design a set with a mix of prime numbers, powers of prime numbers, and other integers that form multiple large divisible subsets.\n",
        "\n",
        "The test generated a challenging scenario with a complex set of numbers. The algorithm identified the largest divisible subset as `[1, 2, 4, 8, 16, 32]`, which is a sequence of powers of 2, with a size of 6. In this case, only one largest subset was found.\n",
        "\n",
        "Given the nature of the test data, which includes many prime numbers and their powers, the largest divisible subset is dominated by the sequence of powers of 2, which forms a chain of divisible numbers. To create a test case with multiple solution sets, we would need a set of numbers that has distinct chains of divisible numbers of the same maximum length."
      ],
      "metadata": {
        "id": "c59Qmfa4VwbX"
      }
    },
    {
      "cell_type": "code",
      "source": [
        "# Challenging test case\n",
        "nums = [1, 2, 4, 8, 16, 32, 3, 9, 27, 81, 5, 25, 7, 49, 11, 13, 17, 19, 23, 29, 31, 37, 41, 43, 47, 53, 59, 61, 67, 71, 73, 79, 83, 89, 97]\n",
        "\n",
        "# Run the test\n",
        "result = largestDivisibleSubsets(nums)\n",
        "\n",
        "# Show the size of each subset found to understand the complexity handled\n",
        "subset_sizes = [len(subset) for subset in result]\n",
        "max_size = max(subset_sizes)\n",
        "num_max_subsets = subset_sizes.count(max_size)\n",
        "\n",
        "print(f\"Number of subsets with maximum size ({max_size}): {num_max_subsets}\")\n",
        "print(f\"Subsets with maximum size ({max_size}):\")\n",
        "for subset in result:\n",
        "    if len(subset) == max_size:\n",
        "        print(subset)\n",
        "\n"
      ],
      "metadata": {
        "colab": {
          "base_uri": "https://localhost:8080/"
        },
        "id": "tMiBqOWGVy9X",
        "outputId": "b588bfd1-400f-4f5c-ed83-98a59359e62e"
      },
      "execution_count": 5,
      "outputs": [
        {
          "output_type": "stream",
          "name": "stdout",
          "text": [
            "Number of subsets with maximum size (6): 1\n",
            "Subsets with maximum size (6):\n",
            "[1, 2, 4, 8, 16, 32]\n"
          ]
        }
      ]
    },
    {
      "cell_type": "markdown",
      "source": [
        "To create a test case with multiple largest divisible subsets, we need to include elements that form distinct chains of divisibility of the same maximum length. For this, we can use powers of different prime numbers and ensure that these chains have the same length. Let's construct such a set with multiple solution sets by including powers of different primes and some additional elements to increase the complexity.\n",
        "\n",
        "The test successfully generated multiple largest divisible subsets. We found three subsets of maximum size 4:\n",
        "\n",
        "- `[1, 2, 4, 8]`: This is a chain of powers of 2.\n",
        "- `[1, 3, 9, 27]`: This is a chain of powers of 3.\n",
        "- `[1, 5, 25, 125]`: This is a chain of powers of 5.\n",
        "\n",
        "Each of these subsets represents a distinct chain of divisible numbers, demonstrating that the algorithm can effectively handle complex scenarios and identify all largest divisible subsets. This test confirms the algorithm's robustness and correctness in handling cases with multiple largest subsets."
      ],
      "metadata": {
        "id": "RRFGgHttV8NQ"
      }
    },
    {
      "cell_type": "code",
      "source": [
        "# Test case with multiple chains of divisible numbers\n",
        "# Using powers of 2, 3, and 5 to create chains of equal length, and some additional elements\n",
        "test_nums = [1, 2, 4, 8, 3, 9, 27, 5, 25, 125, 7, 11, 13, 17]\n",
        "\n",
        "# Run the test\n",
        "test_result = largestDivisibleSubsets(test_nums)\n",
        "\n",
        "# Analyze the result\n",
        "subset_sizes = [len(subset) for subset in test_result]\n",
        "max_size = max(subset_sizes)\n",
        "num_max_subsets = subset_sizes.count(max_size)\n",
        "\n",
        "print(f\"Number of subsets with maximum size ({max_size}): {num_max_subsets}\")\n",
        "print(f\"Subsets with maximum size ({max_size}):\")\n",
        "for subset in test_result:\n",
        "    if len(subset) == max_size:\n",
        "        print(subset)\n",
        "\n"
      ],
      "metadata": {
        "colab": {
          "base_uri": "https://localhost:8080/"
        },
        "id": "A0eoo0VAV9tv",
        "outputId": "2adca905-40a9-4e2f-9d53-789fd81cd200"
      },
      "execution_count": 6,
      "outputs": [
        {
          "output_type": "stream",
          "name": "stdout",
          "text": [
            "Number of subsets with maximum size (4): 3\n",
            "Subsets with maximum size (4):\n",
            "[1, 2, 4, 8]\n",
            "[1, 3, 9, 27]\n",
            "[1, 5, 25, 125]\n"
          ]
        }
      ]
    },
    {
      "cell_type": "markdown",
      "source": [
        "The testing process seems thorough, and we've covered a range of scenarios including edge cases, typical cases, and complex cases with multiple largest subsets. Here are a few additional considerations that could be relevant depending on the context in which this algorithm will be used:\n",
        "\n",
        "1. **Performance Analysis**: Depending on the application, it might be important to analyze the time and space complexity of the algorithm. If the algorithm is expected to handle very large input sets, understanding its performance characteristics and potential limitations would be crucial.\n",
        "\n",
        "2. **Stress Testing**: To ensure the algorithm performs well under extreme conditions, you could conduct stress testing with very large datasets. This would help identify any potential performance issues or limitations in handling large data volumes.\n",
        "\n",
        "3. **Input Validation**: Depending on how the algorithm will be used, it might be important to consider input validation. For example, ensuring that the input is a list of positive integers and handling any invalid input gracefully.\n",
        "\n",
        "4. **Modularity and Reusability**: If the function will be part of a larger system, it might be worth considering how it can be made more modular or reusable. For example, separating the logic for finding divisors or constructing subsets could make the code more manageable and testable.\n",
        "\n",
        "5. **Documentation**: Comprehensive documentation, including descriptions of the function's purpose, parameters, return values, and example usage, can be very helpful for future users or maintainers of the code.\n",
        "\n",
        "6. **Edge Cases for Unique Situations**: While we've covered a range of test cases, there might always be unique or rare scenarios that could behave unexpectedly. Ensuring coverage for as many edge cases as possible would improve the robustness of the solution.\n",
        "\n",
        "If you plan to use this algorithm in a specific context or have certain performance or reliability requirements, these additional aspects might be worth considering."
      ],
      "metadata": {
        "id": "PHlih89YWfLY"
      }
    },
    {
      "cell_type": "markdown",
      "source": [
        "##Polynomials:\n",
        "Divisibility concepts can be naturally extended to polynomials, much like with integers. For polynomials, one polynomial $ P(x) $ is divisible by another $ Q(x) $ if there exists a polynomial $ R(x) $ such that $ P(x) = Q(x) \\times R(x) $.\n",
        "\n",
        "To find the largest subset of polynomials where every pair $ (P, Q) $ satisfies the divisibility condition, we can follow a similar approach to the one used for integers, but with polynomial division:\n",
        "\n",
        "1. **Sort Polynomials:** We need a criterion to sort polynomials. This could be based on their degree, leading coefficient, or another property. Typically, sorting by degree is a logical choice.\n",
        "2. **Dynamic Programming:** Use dynamic programming to find the largest subset where each polynomial is divisible by its predecessors in the sorted list. We need to check if `P(x)` is divisible by `Q(x)` for all pairs and update the DP table accordingly.\n",
        "3. **Reconstruct Subset:** Backtrack through the DP table to construct the largest subset of divisible polynomials.\n",
        "\n",
        "Here’s a high-level outline of how this might be implemented:\n",
        "\n",
        "- **Sorting:** Sort the polynomials by their degree, from lowest to highest.\n",
        "- **Divisibility Check:** For polynomials, divisibility can be checked using polynomial division. If `P(x)` divided by `Q(x)` leaves no remainder, then `P(x)` is divisible by `Q(x)`.\n",
        "- **Dynamic Programming Table:** A table `dp` where `dp[i]` represents the length of the longest divisible subset ending with the `i`-th polynomial in the sorted list.\n",
        "- **Backtracking to Construct Subset:** Starting from the polynomial associated with the largest value in the `dp` table, backtrack to construct the subset.\n",
        "\n",
        "Implementing this would require representing polynomials in a way that allows for division and comparison. In programming, polynomials can be represented as lists or arrays of coefficients, and polynomial division can be implemented as a function or method.\n",
        "To extend the code to handle polynomials, we need to represent polynomials in a way that allows us to perform operations like division and comparison. In Python, we can represent polynomials as lists of coefficients. For example, the polynomial $ 3x^2 + 2x + 1 $ can be represented as `[3, 2, 1]`.\n",
        "\n",
        "We'll need to implement polynomial division to check divisibility. If polynomial `A` is divisible by polynomial `B`, then there exists a polynomial `Q` such that $ A = B \\times Q $ with no remainder.\n",
        "\n",
        "Here's how we can extend our algorithm to work with polynomials:\n",
        "\n",
        "1. **Sort Polynomials:** We can sort the polynomials by their degree (length of the coefficient list minus one).\n",
        "2. **Divisibility Check:** Implement a function to perform polynomial division and check if there's no remainder.\n",
        "3. **Dynamic Programming:** Use dynamic programming to find the largest subset of divisible polynomials.\n",
        "4. **Reconstruct Subset:** Backtrack through the dynamic programming table to construct the subset.\n",
        "\n",
        "Let's implement this in Python. We'll use the NumPy library to handle polynomial operations more easily, as it has built-in support for polynomial arithmetic.\n",
        "\n",
        "The function `largestDivisiblePolynomialSubset` processed the test set of polynomials and returned `[[1, 0, -1]]`, which represents the polynomial $ x^2 - 1 $. This suggests that among the given polynomials, $ x^2 - 1 $ is the largest subset where each polynomial is divisible by the others, following our algorithm's logic.\n",
        "\n",
        "However, the result might seem unexpected because $ x^2 - 1 $ (or `[1, 0, -1]`) can be divided by $ x - 1 $ due to the factorization $ x^2 - 1 = (x - 1)(x + 1) $. This indicates that we may need to refine our sorting or divisibility checking logic to correctly handle polynomial divisibility and subset construction.\n",
        "\n",
        "In polynomial arithmetic, especially for divisibility, we need to carefully consider factors and ensure that our divisibility function and the ordering of polynomials are correctly implemented to capture all potential divisible relationships in the set. Adjustments in the sorting criteria or the divisibility check might be needed to ensure the correct subsets are identified."
      ],
      "metadata": {
        "id": "DzdG06baY-wu"
      }
    },
    {
      "cell_type": "code",
      "source": [
        "import numpy as np\n",
        "\n",
        "# Polynomial representation: [a_n, a_(n-1), ..., a_2, a_1, a_0]\n",
        "# For example, 3x^2 + 2x + 1 is [3, 2, 1]\n",
        "\n",
        "def poly_divisible(A, B):\n",
        "    \"\"\"\n",
        "    Check if polynomial A is divisible by polynomial B using polynomial division.\n",
        "    A and B are represented as lists of coefficients.\n",
        "    \"\"\"\n",
        "    # Using NumPy's polynomial division\n",
        "    quotient, remainder = np.polydiv(A, B)\n",
        "    # If the remainder is close to 0 (considering numerical errors), A is divisible by B\n",
        "    return np.allclose(remainder, 0, atol=1e-10)\n",
        "\n",
        "def largestDivisiblePolynomialSubset(polynomials):\n",
        "    if not polynomials:\n",
        "        return []\n",
        "\n",
        "    # Sort polynomials by their degree\n",
        "    polynomials.sort(key=lambda p: len(p), reverse=True)\n",
        "\n",
        "    # Initialize DP and parent arrays\n",
        "    n = len(polynomials)\n",
        "    dp = [1] * n\n",
        "    parent = [-1] * n\n",
        "\n",
        "    # Fill in the DP and parent arrays\n",
        "    max_index = 0\n",
        "    for i in range(1, n):\n",
        "        for j in range(i):\n",
        "            if poly_divisible(polynomials[i], polynomials[j]) and dp[j] + 1 > dp[i]:\n",
        "                dp[i] = dp[j] + 1\n",
        "                parent[i] = j\n",
        "                if dp[i] > dp[max_index]:\n",
        "                    max_index = i\n",
        "\n",
        "    # Reconstruct the largest subset\n",
        "    largest_subset = []\n",
        "    while max_index >= 0:\n",
        "        largest_subset.append(polynomials[max_index])\n",
        "        max_index = parent[max_index]\n",
        "\n",
        "    return largest_subset[::-1]  # Reverse to get the subset in sorted order\n",
        "\n",
        "# Test with a simple set of polynomials\n",
        "polynomials = [\n",
        "    [1, 0, -1],  # x^2 - 1\n",
        "    [1, -1],     # x - 1\n",
        "    [1, 2, 1],   # x^2 + 2x + 1\n",
        "    [1]          # 1\n",
        "]\n",
        "\n",
        "largestDivisiblePolynomialSubset(polynomials)\n"
      ],
      "metadata": {
        "colab": {
          "base_uri": "https://localhost:8080/"
        },
        "id": "aoPL88HdYyIh",
        "outputId": "aa87c3a4-29ef-4faf-9119-13b5586019e8"
      },
      "execution_count": 8,
      "outputs": [
        {
          "output_type": "execute_result",
          "data": {
            "text/plain": [
              "[[1, 0, -1]]"
            ]
          },
          "metadata": {},
          "execution_count": 8
        }
      ]
    },
    {
      "cell_type": "code",
      "source": [
        "class PolynomialNode:\n",
        "    def __init__(self, coefficients):\n",
        "        self.coefficients = coefficients\n",
        "        self.children = []\n",
        "\n",
        "    def add_child(self, child):\n",
        "        self.children.append(child)\n",
        "\n",
        "def build_tree(polynomials):\n",
        "    nodes = [PolynomialNode(p) for p in polynomials]\n",
        "    # Logic to establish parent-child relationships based on divisibility\n",
        "    for parent in nodes:\n",
        "        for child in nodes:\n",
        "            if parent != child and poly_divisible(parent.coefficients, child.coefficients):\n",
        "                parent.add_child(child)\n",
        "    return nodes\n",
        "\n",
        "def find_largest_subset(root, path, all_paths):\n",
        "    if not root.children:\n",
        "        all_paths.append(path + [root.coefficients])\n",
        "        return\n",
        "    for child in root.children:\n",
        "        find_largest_subset(child, path + [root.coefficients], all_paths)\n",
        "\n",
        "def largest_divisible_polynomial_subset(polynomials):\n",
        "    tree = build_tree(polynomials)\n",
        "    # Assuming the tree is built correctly, find the longest path\n",
        "    all_paths = []\n",
        "    for root in tree:\n",
        "        find_largest_subset(root, [], all_paths)\n",
        "\n",
        "    # Find the path with the maximum length\n",
        "    max_length = max(len(path) for path in all_paths)\n",
        "    return [path for path in all_paths if len(path) == max_length]\n",
        "\n",
        "# Example usage\n",
        "polynomials = [\n",
        "    [1, 0, -1],  # x^2 - 1\n",
        "    [1, -1],     # x - 1\n",
        "    [1, 2, 1],   # x^2 + 2x + 1\n",
        "    [1]          # 1\n",
        "]\n",
        "largest_divisible_polynomial_subset(polynomials)\n"
      ],
      "metadata": {
        "colab": {
          "base_uri": "https://localhost:8080/"
        },
        "id": "dFgT8dtOWsEE",
        "outputId": "8d1abcff-3553-430b-d68a-5ac926f306ff"
      },
      "execution_count": 9,
      "outputs": [
        {
          "output_type": "execute_result",
          "data": {
            "text/plain": [
              "[[[1, 0, -1], [1, -1], [1]]]"
            ]
          },
          "metadata": {},
          "execution_count": 9
        }
      ]
    },
    {
      "cell_type": "markdown",
      "source": [
        "Using a tree structure to represent the relationships between polynomials based on divisibility is an excellent idea. This approach can naturally capture the hierarchical nature of divisibility, where each node in the tree represents a polynomial, and a parent-child relationship between nodes represents divisibility.\n",
        "\n",
        "Here's how we could structure this:\n",
        "\n",
        "1. **Nodes as Polynomials**: Each node in the tree represents a polynomial.\n",
        "2. **Parent-Child Relationship**: A node $ P $ is a parent of node $ Q $ if and only if polynomial $ P $ is divisible by polynomial $ Q $.\n",
        "3. **Building the Tree**: Start with the polynomial of highest degree as the root (or multiple roots if there are several polynomials of the same highest degree) and iteratively add polynomials to the tree under their respective divisors.\n",
        "4. **Finding the Largest Subset**: The largest divisible subset corresponds to the longest path(s) from the root to a leaf in the tree.\n",
        "\n",
        "This tree-based method would allow us to visually and logically organize the divisibility relationships and efficiently find the largest divisible subset.\n",
        "\n",
        "### Implementation Steps\n",
        "1. **Create Nodes**: Represent each polynomial as a node object.\n",
        "2. **Build the Tree**: For each polynomial, find its divisors in the set and establish parent-child links.\n",
        "3. **Traverse the Tree**: To find the largest divisible subset, perform a depth-first search (DFS) or breadth-first search (BFS) to find the longest path from the root to any leaf.\n",
        "\n",
        "Let's sketch a conceptual implementation of this idea:\n",
        "\n",
        "To implement the tree structure for handling polynomials based on divisibility, we would follow these steps:\n",
        "\n",
        "1. **Initialize the Tree**: Each polynomial becomes a node in the tree. We need to have a way to compare polynomials to determine their divisibility and thus establish parent-child relationships in the tree.\n",
        "\n",
        "2. **Build the Tree**:\n",
        "   - For each polynomial, we check against all others to see if it divides any of them without a remainder.\n",
        "   - If polynomial `A` divides polynomial `B`, then `A` becomes a parent of `B` in the tree.\n",
        "   - This process is repeated for all polynomials, building up the tree structure with these parent-child relationships.\n",
        "\n",
        "3. **Find the Largest Subset**:\n",
        "   - Perform a depth-first search (DFS) from each root (the polynomials of the highest degree) to find the longest path in the tree, which represents the largest divisible subset of polynomials.\n",
        "\n",
        "### Conceptual Code\n",
        "\n",
        "Here is a high-level conceptual outline of the code structure:\n",
        "\n",
        "\n",
        "\n",
        "This is a conceptual outline. The actual implementation would need more detail, especially in defining how polynomials are compared and how the divisibility check is conducted. Additionally, optimizing the tree construction and search algorithms could be necessary for handling larger sets of polynomials efficiently."
      ],
      "metadata": {
        "id": "92NqNpJqce8O"
      }
    },
    {
      "cell_type": "code",
      "source": [
        "class PolynomialNode:\n",
        "    def __init__(self, coefficients):\n",
        "        self.coefficients = coefficients\n",
        "        self.children = []\n",
        "\n",
        "    def add_child(self, child):\n",
        "        self.children.append(child)\n",
        "\n",
        "def build_tree(polynomials):\n",
        "    nodes = [PolynomialNode(p) for p in polynomials]\n",
        "    # Logic to establish parent-child relationships based on divisibility\n",
        "    for parent in nodes:\n",
        "        for child in nodes:\n",
        "            if parent != child and poly_divisible(parent.coefficients, child.coefficients):\n",
        "                parent.add_child(child)\n",
        "    return nodes\n",
        "\n",
        "def find_largest_subset(root, path, all_paths):\n",
        "    if not root.children:\n",
        "        all_paths.append(path + [root.coefficients])\n",
        "        return\n",
        "    for child in root.children:\n",
        "        find_largest_subset(child, path + [root.coefficients], all_paths)\n",
        "\n",
        "def largest_divisible_polynomial_subset(polynomials):\n",
        "    tree = build_tree(polynomials)\n",
        "    # Assuming the tree is built correctly, find the longest path\n",
        "    all_paths = []\n",
        "    for root in tree:\n",
        "        find_largest_subset(root, [], all_paths)\n",
        "\n",
        "    # Find the path with the maximum length\n",
        "    max_length = max(len(path) for path in all_paths)\n",
        "    return [path for path in all_paths if len(path) == max_length]\n",
        "\n",
        "# Example usage\n",
        "polynomials = [\n",
        "    [1, 0, -1],  # x^2 - 1\n",
        "    [1, -1],     # x - 1\n",
        "    [1, 2, 1],   # x^2 + 2x + 1\n",
        "    [1]          # 1\n",
        "]\n",
        "largest_divisible_polynomial_subset(polynomials)"
      ],
      "metadata": {
        "colab": {
          "base_uri": "https://localhost:8080/"
        },
        "id": "FafttAx6cilN",
        "outputId": "5054b205-6d94-4bdf-f4ce-f50edc59a2a1"
      },
      "execution_count": 10,
      "outputs": [
        {
          "output_type": "execute_result",
          "data": {
            "text/plain": [
              "[[[1, 0, -1], [1, -1], [1]]]"
            ]
          },
          "metadata": {},
          "execution_count": 10
        }
      ]
    },
    {
      "cell_type": "markdown",
      "source": [
        "##MVC\n",
        "Incorporating a Model-View-Controller (MVC) architecture can indeed provide a structured and aesthetically pleasing way to work with polynomials, especially if the goal is to create an application with a user interface that displays polynomials and their divisibility relationships beautifully.\n",
        "\n",
        "### MVC Components for Polynomials\n",
        "\n",
        "- **Model**: This would represent the data structure and logic of the polynomials, including:\n",
        "  - Storing polynomial coefficients and degrees.\n",
        "  - Handling arithmetic operations, especially division to check for divisibility.\n",
        "  - Building and managing the tree structure to represent divisibility relationships.\n",
        "\n",
        "- **View**: This would present the polynomials and their relationships in a visually appealing manner, such as:\n",
        "  - Displaying polynomials in standard mathematical notation.\n",
        "  - Visualizing the tree of divisibility with polynomials as nodes.\n",
        "  - Using graphical elements to represent the structure of polynomial divisibility, perhaps with animations to show the process of building the tree and finding the largest subset.\n",
        "\n",
        "- **Controller**: This would handle the interaction between the model and the view, including:\n",
        "  - Responding to user inputs, like adding or removing polynomials, or requesting to find the largest divisible subset.\n",
        "  - Triggering updates in the model and refreshing the view to reflect changes in the underlying polynomial data.\n",
        "\n",
        "### Implementation Sketch\n",
        "\n",
        "1. **Model**:\n",
        "   - Classes for `Polynomial` and `DivisibilityTree` to encapsulate the polynomial data and the tree structure.\n",
        "   - Functions for polynomial division, subset finding, and other mathematical operations.\n",
        "\n",
        "2. **View**:\n",
        "   - UI components to display polynomials in both textual and graphical forms.\n",
        "   - Visualization of the divisibility tree, using a graph library or custom drawing.\n",
        "\n",
        "3. **Controller**:\n",
        "   - Functions to manage user interactions, update the model, and refresh the view accordingly.\n",
        "   - Integration of the model and view to ensure they stay in sync and provide a responsive user experience.\n",
        "\n",
        "For a web application, for instance, the view could be a webpage with dynamic JavaScript elements to render the polynomial tree. The controller would be JavaScript code responding to user actions, and the model could be managed on the server side or directly in the browser.\n",
        "\n",
        "This MVC structure would allow for a clean separation of concerns, where the mathematical logic, user interface, and interaction handling are distinct, making the system more manageable and scalable."
      ],
      "metadata": {
        "id": "SOW3A8c-dK_n"
      }
    },
    {
      "cell_type": "markdown",
      "source": [
        "Implementing a full MVC architecture for the polynomial subset visualization problem involves creating separate components for the model, view, and controller. Since the implementation can be quite extensive, I will outline a basic structure in pseudocode and describe how each part could be developed. For a complete implementation, especially for a web or desktop application, more detailed design and coding would be needed using specific technologies (like a web framework for a web app or a GUI framework for a desktop app).\n",
        "\n",
        "### Model\n",
        "\n",
        "The model manages the data and logic for polynomial operations and divisibility relationships.\n",
        "\n",
        "```python\n",
        "class Polynomial:\n",
        "    def __init__(self, coefficients):\n",
        "        self.coefficients = coefficients\n",
        "\n",
        "    def degree(self):\n",
        "        return len(self.coefficients) - 1\n",
        "\n",
        "    def divide(self, other):\n",
        "        # Implement polynomial division here\n",
        "        pass\n",
        "\n",
        "class DivisibilityTree:\n",
        "    def __init__(self):\n",
        "        self.nodes = []\n",
        "\n",
        "    def build(self, polynomials):\n",
        "        # Build the tree from the given polynomials\n",
        "        pass\n",
        "\n",
        "    def find_largest_subset(self):\n",
        "        # Traverse the tree to find the largest divisible subset\n",
        "        pass\n",
        "```\n",
        "\n",
        "### View\n",
        "\n",
        "The view would be responsible for rendering the polynomials and the divisibility tree.\n",
        "\n",
        "```python\n",
        "class PolynomialView:\n",
        "    def display(self, polynomial):\n",
        "        # Render the polynomial in a readable format\n",
        "        pass\n",
        "\n",
        "class TreeView:\n",
        "    def display(self, tree):\n",
        "        # Graphically display the tree structure\n",
        "        pass\n",
        "```\n",
        "\n",
        "### Controller\n",
        "\n",
        "The controller connects the model and view, handling user input and updating the view based on model changes.\n",
        "\n",
        "```python\n",
        "class Controller:\n",
        "    def __init__(self, model, polynomial_view, tree_view):\n",
        "        self.model = model\n",
        "        self.polynomial_view = polynomial_view\n",
        "        self.tree_view = tree_view\n",
        "\n",
        "    def add_polynomial(self, coefficients):\n",
        "        polynomial = Polynomial(coefficients)\n",
        "        self.model.add_polynomial(polynomial)\n",
        "        self.update_view()\n",
        "\n",
        "    def update_view(self):\n",
        "        # Update the polynomial and tree views\n",
        "        pass\n",
        "\n",
        "    def find_largest_subset(self):\n",
        "        subset = self.model.find_largest_subset()\n",
        "        # Update view to highlight the largest subset\n",
        "        pass\n",
        "```\n",
        "\n",
        "### Integration\n",
        "\n",
        "To make this MVC structure work:\n",
        "\n",
        "1. The **model** would handle all the logic related to polynomials and the divisibility tree.\n",
        "2. The **view** would be responsible for displaying the polynomials and the tree, potentially using graphical or web-based components for visualization.\n",
        "3. The **controller** would act upon user inputs, manipulate the model, and update the view.\n",
        "\n",
        "For a web-based implementation, the view could be HTML/CSS with JavaScript, and the controller could be JavaScript functions responding to user events. The model could be on the server (handled by a backend language like Python) or in the browser (handled by JavaScript).\n",
        "\n",
        "Implementing this in a real-world application would require choosing appropriate technologies and frameworks based on the target platform (web, desktop, mobile) and implementing the logic, user interface, and interaction flow in detail."
      ],
      "metadata": {
        "id": "LG_xHh1KdSFY"
      }
    },
    {
      "cell_type": "code",
      "source": [
        "class Polynomial:\n",
        "    def __init__(self, coefficients):\n",
        "        self.coefficients = coefficients\n",
        "\n",
        "    def degree(self):\n",
        "        return len(self.coefficients) - 1\n",
        "\n",
        "    def divide(self, other):\n",
        "        # Implement polynomial division here\n",
        "        pass\n",
        "\n",
        "class DivisibilityTree:\n",
        "    def __init__(self):\n",
        "        self.nodes = []\n",
        "\n",
        "    def build(self, polynomials):\n",
        "        # Build the tree from the given polynomials\n",
        "        pass\n",
        "\n",
        "    def find_largest_subset(self):\n",
        "        # Traverse the tree to find the largest divisible subset\n",
        "        pass\n"
      ],
      "metadata": {
        "id": "znH8GK8ndNwA"
      },
      "execution_count": 11,
      "outputs": []
    },
    {
      "cell_type": "code",
      "source": [
        "class PolynomialView:\n",
        "    def display(self, polynomial):\n",
        "        # Render the polynomial in a readable format\n",
        "        pass\n",
        "\n",
        "class TreeView:\n",
        "    def display(self, tree):\n",
        "        # Graphically display the tree structure\n",
        "        pass\n"
      ],
      "metadata": {
        "id": "23w8_y3VdXx8"
      },
      "execution_count": 12,
      "outputs": []
    },
    {
      "cell_type": "code",
      "source": [
        "class Controller:\n",
        "    def __init__(self, model, polynomial_view, tree_view):\n",
        "        self.model = model\n",
        "        self.polynomial_view = polynomial_view\n",
        "        self.tree_view = tree_view\n",
        "\n",
        "    def add_polynomial(self, coefficients):\n",
        "        polynomial = Polynomial(coefficients)\n",
        "        self.model.add_polynomial(polynomial)\n",
        "        self.update_view()\n",
        "\n",
        "    def update_view(self):\n",
        "        # Update the polynomial and tree views\n",
        "        pass\n",
        "\n",
        "    def find_largest_subset(self):\n",
        "        subset = self.model.find_largest_subset()\n",
        "        # Update view to highlight the largest subset\n",
        "        pass\n"
      ],
      "metadata": {
        "id": "eaZl7W8sdbkJ"
      },
      "execution_count": 13,
      "outputs": []
    },
    {
      "cell_type": "markdown",
      "source": [
        "##Testing Polly:\n",
        "For a significant test set of polynomials, we can choose a mix that includes simple linear polynomials, higher-degree polynomials, and those that are factors of others. This will allow us to thoroughly test the divisibility relationships and the construction of the divisibility tree. Let's define a set of polynomials that includes a variety of degrees and coefficients, ensuring some are divisible by others to create interesting divisibility chains.\n",
        "\n",
        "Here's a significant test set of polynomials:\n",
        "\n",
        "1. $ x + 1 $ (Linear, and a factor of many polynomials)\n",
        "2. $ x^2 + 2x + 1 $ (Quadratic, and can be factored into $ (x + 1)(x + 1) $)\n",
        "3. $ x^2 - 1 $ (Quadratic, and can be factored into $ (x + 1)(x - 1) $)\n",
        "4. $ x^3 + x^2 + x + 1 $ (Cubic, divisible by $ x + 1 $)\n",
        "5. $ x^3 - 1 $ (Cubic, and can be factored into $ (x - 1)(x^2 + x + 1) $)\n",
        "6. $ x^4 + 1 $ (Quartic, not directly divisible by the above but interesting for its properties)\n",
        "7. $ x^2 + 1 $ (Quadratic, not a factor of the others but helps test the non-divisible cases)\n",
        "8. $ 2x^2 + 2x + 2 $ (Quadratic, essentially $ 2(x + 1)^2 $, divisible by $ x + 1 $)\n",
        "\n",
        "Represented as coefficient lists (assuming the missing terms have a coefficient of 0), these polynomials would be:\n",
        "\n",
        "1. `[1, 1]`\n",
        "2. `[1, 2, 1]`\n",
        "3. `[1, 0, -1]`\n",
        "4. `[1, 1, 1, 1]`\n",
        "5. `[1, 0, 0, -1]`\n",
        "6. `[1, 0, 0, 0, 1]`\n",
        "7. `[1, 0, 1]`\n",
        "8. `[2, 2, 2]`\n",
        "\n",
        "This set provides a good mix for testing, with clear divisibility relationships, a variety of degrees, and the inclusion of both factorable and prime polynomials. It will allow us to test the algorithm’s ability to correctly identify divisible pairs, construct the divisibility tree, and find the largest divisible subset."
      ],
      "metadata": {
        "id": "00WDSlabewdi"
      }
    },
    {
      "cell_type": "code",
      "source": [
        "def polynomial_divisibility_test():\n",
        "    # Define the set of polynomials\n",
        "    polynomials = [\n",
        "        [1, 1],         # x + 1\n",
        "        [1, 2, 1],      # x^2 + 2x + 1\n",
        "        [1, 0, -1],     # x^2 - 1\n",
        "        [1, 1, 1, 1],   # x^3 + x^2 + x + 1\n",
        "        [1, 0, 0, -1],  # x^3 - 1\n",
        "        [1, 0, 0, 0, 1],# x^4 + 1\n",
        "        [1, 0, 1],      # x^2 + 1\n",
        "        [2, 2, 2]       # 2x^2 + 2x + 2\n",
        "    ]\n",
        "\n",
        "    # Assume we have a function to build the divisibility tree and find the largest subset\n",
        "    # For demonstration, we'll just return the input as if each is part of a subset\n",
        "    largest_subset = find_largest_divisible_subset(polynomials)\n",
        "\n",
        "    # Display the largest subset found\n",
        "    print(\"Largest Divisible Subset of Polynomials:\")\n",
        "    for poly in largest_subset:\n",
        "        print(poly)\n",
        "\n",
        "def find_largest_divisible_subset(polynomials):\n",
        "    # Placeholder logic for finding the largest divisible subset\n",
        "    # In actual implementation, this would involve building the divisibility tree\n",
        "    # and performing a search for the largest subset\n",
        "\n",
        "    # For demonstration, return the polynomials as they are\n",
        "    return polynomials\n",
        "\n",
        "# Run the test\n",
        "polynomial_divisibility_test()\n"
      ],
      "metadata": {
        "colab": {
          "base_uri": "https://localhost:8080/"
        },
        "id": "LUxwAsD-eoS3",
        "outputId": "b4866e49-78d7-4875-f815-0cdc394f7f24"
      },
      "execution_count": 16,
      "outputs": [
        {
          "output_type": "stream",
          "name": "stdout",
          "text": [
            "Largest Divisible Subset of Polynomials:\n",
            "[1, 1]\n",
            "[1, 2, 1]\n",
            "[1, 0, -1]\n",
            "[1, 1, 1, 1]\n",
            "[1, 0, 0, -1]\n",
            "[1, 0, 0, 0, 1]\n",
            "[1, 0, 1]\n",
            "[2, 2, 2]\n"
          ]
        }
      ]
    },
    {
      "cell_type": "code",
      "source": [
        "import sympy as sp\n",
        "\n",
        "# Function to convert list of coefficients to a sympy polynomial\n",
        "def list_to_sympy_poly(coefficients):\n",
        "    # Reverse the list to match the order expected by sympy\n",
        "    # and create a polynomial in 'x'\n",
        "    x = sp.symbols('x')\n",
        "    poly = sum(coef * x**i for i, coef in enumerate(reversed(coefficients)))\n",
        "    display(poly)\n",
        "    return poly\n",
        "\n",
        "# List of polynomials represented as lists of coefficients\n",
        "polynomials = [\n",
        "    [1, 1],\n",
        "    [1, 2, 1],\n",
        "    [1, 0, -1],\n",
        "    [1, 1, 1, 1],\n",
        "    [1, 0, 0, -1],\n",
        "    [1, 0, 0, 0, 1],\n",
        "    [1, 0, 1],\n",
        "    [2, 2, 2]\n",
        "]\n",
        "\n",
        "for poly in polynomials:\n",
        "    list_to_sympy_poly(poly)\n",
        "\n",
        "# Convert each list of coefficients into a sympy polynomial and display\n",
        "#sympy_polynomials = [list_to_sympy_poly(poly) for poly in polynomials]\n",
        "#sympy_polynomials\n"
      ],
      "metadata": {
        "colab": {
          "base_uri": "https://localhost:8080/",
          "height": 191
        },
        "id": "DKMiAxc4KPQf",
        "outputId": "236735b8-fc3d-4534-89b7-0033f92b79b8"
      },
      "execution_count": 9,
      "outputs": [
        {
          "output_type": "display_data",
          "data": {
            "text/plain": [
              "x + 1"
            ],
            "text/latex": "$\\displaystyle x + 1$"
          },
          "metadata": {}
        },
        {
          "output_type": "display_data",
          "data": {
            "text/plain": [
              "x**2 + 2*x + 1"
            ],
            "text/latex": "$\\displaystyle x^{2} + 2 x + 1$"
          },
          "metadata": {}
        },
        {
          "output_type": "display_data",
          "data": {
            "text/plain": [
              "x**2 - 1"
            ],
            "text/latex": "$\\displaystyle x^{2} - 1$"
          },
          "metadata": {}
        },
        {
          "output_type": "display_data",
          "data": {
            "text/plain": [
              "x**3 + x**2 + x + 1"
            ],
            "text/latex": "$\\displaystyle x^{3} + x^{2} + x + 1$"
          },
          "metadata": {}
        },
        {
          "output_type": "display_data",
          "data": {
            "text/plain": [
              "x**3 - 1"
            ],
            "text/latex": "$\\displaystyle x^{3} - 1$"
          },
          "metadata": {}
        },
        {
          "output_type": "display_data",
          "data": {
            "text/plain": [
              "x**4 + 1"
            ],
            "text/latex": "$\\displaystyle x^{4} + 1$"
          },
          "metadata": {}
        },
        {
          "output_type": "display_data",
          "data": {
            "text/plain": [
              "x**2 + 1"
            ],
            "text/latex": "$\\displaystyle x^{2} + 1$"
          },
          "metadata": {}
        },
        {
          "output_type": "display_data",
          "data": {
            "text/plain": [
              "2*x**2 + 2*x + 2"
            ],
            "text/latex": "$\\displaystyle 2 x^{2} + 2 x + 2$"
          },
          "metadata": {}
        }
      ]
    },
    {
      "cell_type": "markdown",
      "source": [
        "The final line, #sympy_polynomials#, is commented out, which is fine since it's already displayed each polynomial within the list_to_sympy_poly function. If you need to work with the sympy polynomial objects later on, they are available in the sympy_polynomials list. If you don't need to use them afterwards, you could simply run the loop without storing its output:"
      ],
      "metadata": {
        "id": "2mwVNtlYMbR_"
      }
    }
  ]
}