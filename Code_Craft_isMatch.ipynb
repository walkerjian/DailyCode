{
  "nbformat": 4,
  "nbformat_minor": 0,
  "metadata": {
    "colab": {
      "provenance": [],
      "authorship_tag": "ABX9TyOvyhHl3GP7F+IwP3aOz/g/",
      "include_colab_link": true
    },
    "kernelspec": {
      "name": "python3",
      "display_name": "Python 3"
    },
    "language_info": {
      "name": "python"
    }
  },
  "cells": [
    {
      "cell_type": "markdown",
      "metadata": {
        "id": "view-in-github",
        "colab_type": "text"
      },
      "source": [
        "<a href=\"https://colab.research.google.com/github/walkerjian/DailyCode/blob/main/Code_Craft_isMatch.ipynb\" target=\"_parent\"><img src=\"https://colab.research.google.com/assets/colab-badge.svg\" alt=\"Open In Colab\"/></a>"
      ]
    },
    {
      "cell_type": "markdown",
      "source": [
        "##Problem:\n",
        "Implement regular expression matching with the following special characters:\n",
        "\n",
        ". (period) which matches any single character\n",
        "* (asterisk) which matches zero or more of the preceding element\n",
        "That is, implement a function that takes in a string and a valid regular expression and returns whether or not the string matches the regular expression.\n",
        "\n",
        "For example, given the regular expression \"ra.\" and the string \"ray\", your function should return true. The same regular expression on the string \"raymond\" should return false.\n",
        "\n",
        "Given the regular expression \".*at\" and the string \"chat\", your function should return true. The same regular expression on the string \"chats\" should return false."
      ],
      "metadata": {
        "id": "OnesmZmIUyIq"
      }
    },
    {
      "cell_type": "markdown",
      "source": [
        "##Solution:\n",
        "To implement a regular expression matcher that supports `.` (period) and `*` (asterisk), we can approach this problem using recursion or dynamic programming. The `.` matches any single character, while `*` matches zero or more of the preceding element. A recursive solution tries to match the pattern step by step, considering the special rules for `.` and `*`.\n",
        "\n",
        "Here is a recursive approach to solving this problem:\n",
        "\n",
        "1. If the pattern is empty, return `True` if the string is also empty, and `False` otherwise.\n",
        "2. Consider the first character of the pattern and the first character of the string:\n",
        "   - If the first character of the pattern is `.` or is equal to the first character of the string, then move to the next character in both the pattern and the string.\n",
        "   - If the first character of the pattern is `*`, it's an invalid pattern because `*` cannot be the first character. A valid pattern with `*` assumes a character before it.\n",
        "3. If the second character of the pattern is `*`, we have two cases to consider:\n",
        "   - The `*` means zero occurrences of the preceding character. In this case, skip the character before `*` and the `*` in the pattern and continue matching.\n",
        "   - The `*` matches one or more of the preceding character. In this case, match the character before the `*` with the current character of the string and move to the next character in the string only.\n",
        "4. Continue until all characters in the pattern and the string have been matched.\n",
        "\n"
      ],
      "metadata": {
        "id": "hslBzXjIU434"
      }
    },
    {
      "cell_type": "markdown",
      "source": [
        "##Implementation:\n",
        "Let's implement this logic in python:"
      ],
      "metadata": {
        "id": "UBVQ-R9_U_je"
      }
    },
    {
      "cell_type": "code",
      "execution_count": 1,
      "metadata": {
        "id": "Uy_dED7fUw9x"
      },
      "outputs": [],
      "source": [
        "def isMatch(text, pattern):\n",
        "    # Base case: If the pattern is empty, return True if text is also empty\n",
        "    if not pattern:\n",
        "        return not text\n",
        "\n",
        "    # First character match check (text should not be empty)\n",
        "    first_match = bool(text) and pattern[0] in {text[0], '.'}\n",
        "\n",
        "    # Handle cases with \"*\"\n",
        "    if len(pattern) >= 2 and pattern[1] == '*':\n",
        "        # Case 1: '*' represents zero occurrence of the preceding element\n",
        "        # Case 2: First character matches and we move to the next character in text\n",
        "        return (isMatch(text, pattern[2:]) or\n",
        "                first_match and isMatch(text[1:], pattern))\n",
        "    else:\n",
        "        # Move to the next character in both text and pattern if first characters match\n",
        "        return first_match and isMatch(text[1:], pattern[1:])\n",
        "\n",
        "\n"
      ]
    },
    {
      "cell_type": "markdown",
      "source": [
        "\n",
        "This defines the `isMatch` function, which takes a string `text` and a pattern `pattern` and returns `True` if the string matches the pattern according to the rules defined for `.` and `*`. The implementation recursively checks each character of the string against the pattern, handling the special cases for `.` and `*` accordingly."
      ],
      "metadata": {
        "id": "P6elbYHgVmDh"
      }
    },
    {
      "cell_type": "markdown",
      "source": [
        "##Testing:\n"
      ],
      "metadata": {
        "id": "hRawmul7VL6G"
      }
    },
    {
      "cell_type": "code",
      "source": [
        "# Test examples\n",
        "print(isMatch(\"ray\", \"ra.\")) # True\n",
        "print(isMatch(\"raymond\", \"ra.\")) # False\n",
        "print(isMatch(\"chat\", \".*at\")) # True\n",
        "print(isMatch(\"chats\", \".*at\")) # False"
      ],
      "metadata": {
        "colab": {
          "base_uri": "https://localhost:8080/"
        },
        "id": "2B6TgxfIVP0x",
        "outputId": "0dc42d0e-883b-4e97-c834-bb42bc716828"
      },
      "execution_count": 2,
      "outputs": [
        {
          "output_type": "stream",
          "name": "stdout",
          "text": [
            "True\n",
            "False\n",
            "True\n",
            "False\n"
          ]
        }
      ]
    }
  ]
}