{
  "nbformat": 4,
  "nbformat_minor": 0,
  "metadata": {
    "colab": {
      "provenance": [],
      "authorship_tag": "ABX9TyPnzzu28VhymWc5A0O13Hce",
      "include_colab_link": true
    },
    "kernelspec": {
      "name": "python3",
      "display_name": "Python 3"
    },
    "language_info": {
      "name": "python"
    }
  },
  "cells": [
    {
      "cell_type": "markdown",
      "metadata": {
        "id": "view-in-github",
        "colab_type": "text"
      },
      "source": [
        "<a href=\"https://colab.research.google.com/github/walkerjian/DailyCode/blob/main/Code_Craft_solve_n_queens.ipynb\" target=\"_parent\"><img src=\"https://colab.research.google.com/assets/colab-badge.svg\" alt=\"Open In Colab\"/></a>"
      ]
    },
    {
      "cell_type": "markdown",
      "source": [
        "#Problem:\n",
        "You have an N by N board. Write a function that, given N, returns the number of possible arrangements of the board where N queens can be placed on the board without threatening each other, i.e. no two queens share the same row, column, or diagonal."
      ],
      "metadata": {
        "id": "tH7CkhIN6Ovd"
      }
    },
    {
      "cell_type": "markdown",
      "source": [
        "##Solution:\n",
        "To solve the N-Queens problem, we can write a function that systematically places queens on the board while ensuring they do not threaten each other. One common approach to handle this is using backtracking. In this method, we attempt to place queens row by row, and at each step, we check if placing the queen will not lead to a conflict with already placed queens. If a conflict arises, we backtrack and try a different position.\n",
        "\n",
        "Here's the key idea for the constraints to ensure no two queens threaten each other:\n",
        "- No two queens share the same row (achieved by placing only one queen per row).\n",
        "- No two queens share the same column.\n",
        "- No two queens are on the same diagonal. There are two types of diagonals to consider:\n",
        "  - Main diagonals, where the difference between the row and column indices of any two queens is the same.\n",
        "  - Anti-diagonals, where the sum of the row and column indices of any two queens is the same."
      ],
      "metadata": {
        "id": "itQ9Rbxe6Twn"
      }
    },
    {
      "cell_type": "markdown",
      "source": [
        "##Implementation:"
      ],
      "metadata": {
        "id": "Cb3P4iVt6W-J"
      }
    },
    {
      "cell_type": "code",
      "source": [
        "def solve_n_queens(n):\n",
        "    def is_safe(row, col):\n",
        "        for prev_row in range(row):\n",
        "            prev_col = positions[prev_row]\n",
        "            # Check same column\n",
        "            if prev_col == col:\n",
        "                return False\n",
        "            # Check diagonals\n",
        "            if abs(prev_col - col) == abs(prev_row - row):\n",
        "                return False\n",
        "        return True\n",
        "\n",
        "    def place_queen(row):\n",
        "        if row == n:\n",
        "            # All queens successfully placed\n",
        "            return 1\n",
        "        count = 0\n",
        "        for col in range(n):\n",
        "            if is_safe(row, col):\n",
        "                positions[row] = col\n",
        "                count += place_queen(row + 1)\n",
        "        return count\n",
        "\n",
        "    positions = [-1] * n\n",
        "    return place_queen(0)\n",
        "\n",
        "# Example usage:\n",
        "print(solve_n_queens(4))  # Should return 2 for a 4x4 board\n",
        "print(solve_n_queens(8))  # Should return 92 for an 8x8 board"
      ],
      "metadata": {
        "id": "lve1Yewi6N4N",
        "colab": {
          "base_uri": "https://localhost:8080/"
        },
        "outputId": "217d8702-b7e9-4db2-ca89-9f1c5b9987eb"
      },
      "execution_count": 2,
      "outputs": [
        {
          "output_type": "stream",
          "name": "stdout",
          "text": [
            "2\n",
            "92\n"
          ]
        }
      ]
    },
    {
      "cell_type": "markdown",
      "source": [
        "##Testing:\n",
        "- `positions` is an array where the index represents the row and the value at that index represents the column where the queen is placed.\n",
        "- `is_safe()` checks if it's safe to place a queen at a given row and column.\n",
        "- `place_queen()` recursively tries to place a queen in each row. It checks each column of the current row for a safe placement and then moves on to the next row.\n",
        "- The count of arrangements is aggregated by recursively calling `place_queen()`.\n",
        "\n",
        "This function utilizes backtracking to explore possible placements of queens and retracts when a placement leads to a dead end. This method efficiently finds the total number of possible arrangements for placing N queens on an N x N board such that no two queens threaten each other."
      ],
      "metadata": {
        "id": "rmascGp76a_Q"
      }
    }
  ]
}