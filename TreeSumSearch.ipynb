{
  "nbformat": 4,
  "nbformat_minor": 0,
  "metadata": {
    "colab": {
      "provenance": [],
      "authorship_tag": "ABX9TyOknb4dOGvZk+szaqyweH9A",
      "include_colab_link": true
    },
    "kernelspec": {
      "name": "python3",
      "display_name": "Python 3"
    },
    "language_info": {
      "name": "python"
    }
  },
  "cells": [
    {
      "cell_type": "markdown",
      "metadata": {
        "id": "view-in-github",
        "colab_type": "text"
      },
      "source": [
        "<a href=\"https://colab.research.google.com/github/walkerjian/DailyCode/blob/main/TreeSumSearch.ipynb\" target=\"_parent\"><img src=\"https://colab.research.google.com/assets/colab-badge.svg\" alt=\"Open In Colab\"/></a>"
      ]
    },
    {
      "cell_type": "markdown",
      "source": [
        "Given a binary search tree and a range [a, b] (inclusive), return the sum of the elements of the binary search tree within the range.\n",
        "\n",
        "For example, given the following tree:\n",
        "````\n",
        "    5\n",
        "   / \\\n",
        "  3   8\n",
        " / \\ / \\\n",
        "2  4 6  10\n",
        "````\n",
        "and the range [4, 9], return 23 (5 + 4 + 6 + 8).\n"
      ],
      "metadata": {
        "id": "E93e7PLPumNL"
      }
    },
    {
      "cell_type": "markdown",
      "source": [
        "To solve this problem, we can use the Model-View-Controller (MVC) paradigm.\n",
        "\n",
        "Here's the plan:\n",
        "\n",
        "1. **Model**: Implement a Binary Search Tree (BST) class and a function to sum the elements within the given range `[a, b]`.\n",
        "2. **View**: Create a function to visually display the BST and the results.\n",
        "3. **Controller**: Implement a function that ties the Model and the View together. This function will take in the root of a BST and a range, call the Model to get the sum of elements within the range, and then use the View to display the results.\n",
        "4. **Test Harness**: Write a function to run a set of test cases and display the results.\n",
        "\n",
        "Let's get started by implementing the Model."
      ],
      "metadata": {
        "id": "Uyl4904OurXX"
      }
    },
    {
      "cell_type": "code",
      "execution_count": 1,
      "metadata": {
        "id": "9IlH4kb_ukqX"
      },
      "outputs": [],
      "source": [
        "class Node:\n",
        "    \"\"\"A class representing a node in a binary search tree.\"\"\"\n",
        "    def __init__(self, value):\n",
        "        self.value = value\n",
        "        self.left = None\n",
        "        self.right = None\n",
        "\n",
        "\n",
        "def sum_within_range(root, a, b):\n",
        "    \"\"\"\n",
        "    Returns the sum of all elements in the binary search tree rooted at `root`\n",
        "    that lie within the range [a, b] (both inclusive).\n",
        "\n",
        "    Args:\n",
        "    - root (Node): The root of the binary search tree.\n",
        "    - a (int): The lower bound of the range.\n",
        "    - b (int): The upper bound of the range.\n",
        "\n",
        "    Returns:\n",
        "    int: The sum of elements within the range.\n",
        "    \"\"\"\n",
        "    if root is None:\n",
        "        return 0\n",
        "\n",
        "    # Initialize sum to 0\n",
        "    sum_elements = 0\n",
        "\n",
        "    # Check if the root value is within the range [a, b]\n",
        "    if a <= root.value <= b:\n",
        "        sum_elements += root.value\n",
        "\n",
        "    # If the root value is greater than `a`, then there might be elements in the\n",
        "    # left subtree that are within the range, so we explore it.\n",
        "    if root.value > a:\n",
        "        sum_elements += sum_within_range(root.left, a, b)\n",
        "\n",
        "    # If the root value is less than `b`, then there might be elements in the\n",
        "    # right subtree that are within the range, so we explore it.\n",
        "    if root.value < b:\n",
        "        sum_elements += sum_within_range(root.right, a, b)\n",
        "\n",
        "    return sum_elements\n"
      ]
    },
    {
      "cell_type": "markdown",
      "source": [
        "Now that we have implemented the Model, let's move on to the View. We'll create a function to display the binary search tree and the results in a readable format. We'll use a simple text-based representation to visualize the tree."
      ],
      "metadata": {
        "id": "4iEZcWKzu44a"
      }
    },
    {
      "cell_type": "code",
      "source": [
        "def print_tree(root, level=0, prefix=\"Root: \"):\n",
        "    \"\"\"A helper function to provide a text-based visualization of the binary tree.\"\"\"\n",
        "    if root is not None:\n",
        "        print(\" \" * (level * 4) + prefix + str(root.value))\n",
        "        if root.left is not None or root.right is not None:\n",
        "            print_tree(root.left, level + 1, \"L--- \")\n",
        "            print_tree(root.right, level + 1, \"R--- \")\n",
        "\n",
        "\n",
        "def display_results(root, a, b, sum_result):\n",
        "    \"\"\"\n",
        "    Displays the binary search tree and the sum of elements within the range [a, b].\n",
        "\n",
        "    Args:\n",
        "    - root (Node): The root of the binary search tree.\n",
        "    - a (int): The lower bound of the range.\n",
        "    - b (int): The upper bound of the range.\n",
        "    - sum_result (int): The sum of elements within the range.\n",
        "\n",
        "    Returns:\n",
        "    None\n",
        "    \"\"\"\n",
        "    print(\"Binary Search Tree:\")\n",
        "    print_tree(root)\n",
        "    print(f\"Range: [{a}, {b}]\")\n",
        "    print(f\"Sum of elements within range: {sum_result}\")\n",
        "    print(\"=\" * 40)  # Separator line\n"
      ],
      "metadata": {
        "id": "sCxC3wbeu6J2"
      },
      "execution_count": 2,
      "outputs": []
    },
    {
      "cell_type": "markdown",
      "source": [
        "With the View implemented, let's now create the Controller function. This function will take the root of a Binary Search Tree and a range\n",
        "[\n",
        "a\n",
        ",\n",
        "b\n",
        "]\n",
        "[a,b], use the Model to compute the sum of elements within that range, and then use the View to display the results."
      ],
      "metadata": {
        "id": "YM_g4Nuiu_i-"
      }
    },
    {
      "cell_type": "code",
      "source": [
        "def controller(root, a, b):\n",
        "    \"\"\"\n",
        "    Controller function that ties together the Model and the View.\n",
        "    Takes the root of a binary search tree and a range [a, b], and displays\n",
        "    the sum of elements within the range.\n",
        "\n",
        "    Args:\n",
        "    - root (Node): The root of the binary search tree.\n",
        "    - a (int): The lower bound of the range.\n",
        "    - b (int): The upper bound of the range.\n",
        "\n",
        "    Returns:\n",
        "    None\n",
        "    \"\"\"\n",
        "    # Compute the sum of elements within the range using the Model\n",
        "    sum_result = sum_within_range(root, a, b)\n",
        "\n",
        "    # Display the binary search tree and the sum result using the View\n",
        "    display_results(root, a, b, sum_result)\n"
      ],
      "metadata": {
        "id": "-edO9hMpvBGl"
      },
      "execution_count": 3,
      "outputs": []
    },
    {
      "cell_type": "markdown",
      "source": [
        "With the Model, View, and Controller in place, let's now write a comprehensive test harness. This will include a function to run various test cases, displaying the input and output for each one. We'll include the sample case given initially, along with additional test cases to ensure the solution is correct.\n"
      ],
      "metadata": {
        "id": "xschLbJOvGcq"
      }
    },
    {
      "cell_type": "code",
      "source": [
        "def test_controller():\n",
        "    \"\"\"\n",
        "    Test harness for the controller function. Tests the sum_within_range function\n",
        "    with various test cases, including edge cases.\n",
        "\n",
        "    Returns:\n",
        "    None\n",
        "    \"\"\"\n",
        "    # Test Case 1: Provided example\n",
        "    root1 = Node(5)\n",
        "    root1.left = Node(3)\n",
        "    root1.right = Node(8)\n",
        "    root1.left.left = Node(2)\n",
        "    root1.left.right = Node(4)\n",
        "    root1.right.left = Node(6)\n",
        "    root1.right.right = Node(10)\n",
        "    controller(root1, 4, 9)  # Expected sum = 5 + 4 + 6 + 8 = 23\n",
        "\n",
        "    # Test Case 2: Single node within range\n",
        "    root2 = Node(5)\n",
        "    controller(root2, 5, 5)  # Expected sum = 5\n",
        "\n",
        "    # Test Case 3: Single node outside range\n",
        "    root3 = Node(5)\n",
        "    controller(root3, 6, 7)  # Expected sum = 0\n",
        "\n",
        "    # Test Case 4: All nodes are within range\n",
        "    root4 = Node(5)\n",
        "    root4.left = Node(3)\n",
        "    root4.right = Node(8)\n",
        "    controller(root4, 1, 10)  # Expected sum = 5 + 3 + 8 = 16\n",
        "\n",
        "    # Test Case 5: All nodes are outside range (below)\n",
        "    root5 = Node(5)\n",
        "    root5.left = Node(3)\n",
        "    root5.right = Node(8)\n",
        "    controller(root5, 10, 20)  # Expected sum = 0\n",
        "\n",
        "    # Test Case 6: All nodes are outside range (above)\n",
        "    root6 = Node(5)\n",
        "    root6.left = Node(3)\n",
        "    root6.right = Node(8)\n",
        "    controller(root6, 1, 2)  # Expected sum = 0\n",
        "\n",
        "    # Test Case 7: Only left subtree nodes are within range\n",
        "    root7 = Node(5)\n",
        "    root7.left = Node(3)\n",
        "    root7.right = Node(8)\n",
        "    controller(root7, 1, 4)  # Expected sum = 3\n",
        "\n",
        "    # Test Case 8: Only right subtree nodes are within range\n",
        "    root8 = Node(5)\n",
        "    root8.left = Node(3)\n",
        "    root8.right = Node(8)\n",
        "    controller(root8, 6, 9)  # Expected sum = 8\n",
        "\n",
        "    # Test Case 9: Some nodes from both left and right subtrees are within range\n",
        "    root9 = Node(5)\n",
        "    root9.left = Node(3)\n",
        "    root9.right = Node(8)\n",
        "    controller(root9, 4, 7)  # Expected sum = 5\n",
        "\n",
        "    # Test Case 10: Empty tree\n",
        "    root10 = None\n",
        "    controller(root10, 1, 10)  # Expected sum = 0\n",
        "\n",
        "\n",
        "# Run the test harness\n",
        "test_controller()\n"
      ],
      "metadata": {
        "colab": {
          "base_uri": "https://localhost:8080/"
        },
        "id": "b2SedaINvJJP",
        "outputId": "99e45714-e846-405d-e368-0afdc46d3df8"
      },
      "execution_count": 4,
      "outputs": [
        {
          "output_type": "stream",
          "name": "stdout",
          "text": [
            "Binary Search Tree:\n",
            "Root: 5\n",
            "    L--- 3\n",
            "        L--- 2\n",
            "        R--- 4\n",
            "    R--- 8\n",
            "        L--- 6\n",
            "        R--- 10\n",
            "Range: [4, 9]\n",
            "Sum of elements within range: 23\n",
            "========================================\n",
            "Binary Search Tree:\n",
            "Root: 5\n",
            "Range: [5, 5]\n",
            "Sum of elements within range: 5\n",
            "========================================\n",
            "Binary Search Tree:\n",
            "Root: 5\n",
            "Range: [6, 7]\n",
            "Sum of elements within range: 0\n",
            "========================================\n",
            "Binary Search Tree:\n",
            "Root: 5\n",
            "    L--- 3\n",
            "    R--- 8\n",
            "Range: [1, 10]\n",
            "Sum of elements within range: 16\n",
            "========================================\n",
            "Binary Search Tree:\n",
            "Root: 5\n",
            "    L--- 3\n",
            "    R--- 8\n",
            "Range: [10, 20]\n",
            "Sum of elements within range: 0\n",
            "========================================\n",
            "Binary Search Tree:\n",
            "Root: 5\n",
            "    L--- 3\n",
            "    R--- 8\n",
            "Range: [1, 2]\n",
            "Sum of elements within range: 0\n",
            "========================================\n",
            "Binary Search Tree:\n",
            "Root: 5\n",
            "    L--- 3\n",
            "    R--- 8\n",
            "Range: [1, 4]\n",
            "Sum of elements within range: 3\n",
            "========================================\n",
            "Binary Search Tree:\n",
            "Root: 5\n",
            "    L--- 3\n",
            "    R--- 8\n",
            "Range: [6, 9]\n",
            "Sum of elements within range: 8\n",
            "========================================\n",
            "Binary Search Tree:\n",
            "Root: 5\n",
            "    L--- 3\n",
            "    R--- 8\n",
            "Range: [4, 7]\n",
            "Sum of elements within range: 5\n",
            "========================================\n",
            "Binary Search Tree:\n",
            "Range: [1, 10]\n",
            "Sum of elements within range: 0\n",
            "========================================\n"
          ]
        }
      ]
    },
    {
      "cell_type": "markdown",
      "source": [
        "The test harness has successfully run all the test cases, including the sample case and additional edge cases. The output for each test case includes the original binary search tree, the specified range, and the sum of elements within that range.\n",
        "\n",
        "The code adheres to the Model-View-Controller (MVC) paradigm and PEP8 guidelines, and includes extensive documentation to ensure readability and maintainability."
      ],
      "metadata": {
        "id": "-SJisIugvPVY"
      }
    },
    {
      "cell_type": "code",
      "source": [],
      "metadata": {
        "id": "04bBCTQtvQDH"
      },
      "execution_count": null,
      "outputs": []
    }
  ]
}