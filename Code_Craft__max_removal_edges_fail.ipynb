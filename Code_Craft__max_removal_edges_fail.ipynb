{
  "nbformat": 4,
  "nbformat_minor": 0,
  "metadata": {
    "colab": {
      "provenance": [],
      "authorship_tag": "ABX9TyOg+xKTb+eWZB5UtY7lDLgI",
      "include_colab_link": true
    },
    "kernelspec": {
      "name": "python3",
      "display_name": "Python 3"
    },
    "language_info": {
      "name": "python"
    }
  },
  "cells": [
    {
      "cell_type": "markdown",
      "metadata": {
        "id": "view-in-github",
        "colab_type": "text"
      },
      "source": [
        "<a href=\"https://colab.research.google.com/github/walkerjian/DailyCode/blob/main/Code_Craft__max_removal_edges_fail.ipynb\" target=\"_parent\"><img src=\"https://colab.research.google.com/assets/colab-badge.svg\" alt=\"Open In Colab\"/></a>"
      ]
    },
    {
      "cell_type": "markdown",
      "source": [
        "##Problem:\n",
        "You are given a tree with an even number of nodes. Consider each connection between a parent and child node to be an \"edge\". You would like to remove some of these edges, such that the disconnected subtrees that remain each have an even number of nodes.\n",
        "\n",
        "For example, suppose your input was the following tree:\n",
        "```\n",
        "   1\n",
        "  / \\\n",
        " 2   3\n",
        "    / \\\n",
        "   4   5\n",
        " / | \\\n",
        "6  7  8\n",
        "```\n",
        "In this case, removing the edge (3, 4) satisfies our requirement.\n",
        "\n",
        "Write a function that returns the maximum number of edges you can remove while still satisfying this requirement."
      ],
      "metadata": {
        "id": "2lWyrXjB8EeD"
      }
    },
    {
      "cell_type": "markdown",
      "source": [
        "##Solution:\n",
        "To tackle this problem, we can use a depth-first search (DFS) algorithm. The key idea here is to traverse the tree starting from the root. As we visit each node, we keep track of the size of the subtree rooted at that node. If the size of a subtree (including the current node) is even, then we can consider removing the edge connecting this subtree to its parent, as both the subtree and the remaining part of the tree will have an even number of nodes after the removal.\n",
        "\n",
        "Here's a plan for our function:\n",
        "1. Perform a DFS traversal from the root of the tree.\n",
        "2. For each node visited, calculate the size of the subtree rooted at that node.\n",
        "3. If the size of a subtree is even, increment our count of removable edges.\n",
        "4. Return the count.\n",
        "\n",
        "Note: This function assumes that the tree is represented as an adjacency list, where the keys are node labels and the values are lists of adjacent nodes (children). This representation makes it easy to traverse the tree and to identify the children of each node."
      ],
      "metadata": {
        "id": "jIohycTB8Hjb"
      }
    },
    {
      "cell_type": "markdown",
      "source": [
        "##Implementation:\n",
        "Let's write the function in Python:\n",
        "\n",
        "```python\n",
        "def dfs(node, graph, visited):\n",
        "    visited[node] = True\n",
        "    subtree_size = 1\n",
        "    global removable_edges\n",
        "    for child in graph[node]:\n",
        "        if not visited[child]:\n",
        "            subtree_size += dfs(child, graph, visited)\n",
        "    if subtree_size % 2 == 0:\n",
        "        removable_edges += 1\n",
        "        return 0\n",
        "    return subtree_size\n",
        "\n",
        "def max_removal_edges(tree):\n",
        "    global removable_edges\n",
        "    removable_edges = 0\n",
        "    visited = {node: False for node in tree}\n",
        "    dfs(1, tree, visited)  # Assuming the root is always labeled as 1\n",
        "    return removable_edges - 1  # Subtract 1 because we cannot remove the edge connected to the root\n",
        "\n",
        "# Example usage\n",
        "tree = {\n",
        "    1: [2, 3],\n",
        "    2: [],\n",
        "    3: [4, 5],\n",
        "    4: [6, 7, 8],\n",
        "    5: [],\n",
        "    6: [],\n",
        "    7: [],\n",
        "    8: []\n",
        "}\n",
        "\n",
        "print(max_removal_edges(tree))\n",
        "```\n",
        "\n",
        "Explanation:\n",
        "- The `dfs` function computes the size of the subtree rooted at `node`. It also checks if the subtree size is even. If so, it increments the `removable_edges` counter and returns `0` to indicate that this subtree can be \"removed\" (i.e., the edge connecting it to its parent can be removed).\n",
        "- The `max_removal_edges` function initializes a `visited` dictionary to keep track of visited nodes during DFS, calls `dfs` starting from the root (node 1 in this case), and returns the maximum number of removable edges, subtracting 1 since the initial call to `dfs` might falsely increment the counter for the subtree containing the root node itself.\n",
        "- The `global` keyword is used for `removable_edges` so that it can be modified inside the `dfs` function. In a more complex or multi-threaded application, it would be better to avoid globals and find a different method to track the count of removable edges.\n",
        "\n"
      ],
      "metadata": {
        "id": "pkWuQrLB8K8H"
      }
    },
    {
      "cell_type": "code",
      "execution_count": 1,
      "metadata": {
        "id": "TIIt0l_k7Oi1",
        "colab": {
          "base_uri": "https://localhost:8080/"
        },
        "outputId": "d7029329-e591-4f96-dfbe-bed876601560"
      },
      "outputs": [
        {
          "output_type": "stream",
          "name": "stdout",
          "text": [
            "2\n"
          ]
        }
      ],
      "source": [
        "def dfs(node, graph, visited):\n",
        "    visited[node] = True\n",
        "    subtree_size = 1\n",
        "    global removable_edges\n",
        "    for child in graph[node]:\n",
        "        if not visited[child]:\n",
        "            subtree_size += dfs(child, graph, visited)\n",
        "    if subtree_size % 2 == 0:\n",
        "        removable_edges += 1\n",
        "        return 0\n",
        "    return subtree_size\n",
        "\n",
        "def max_removal_edges(tree):\n",
        "    global removable_edges\n",
        "    removable_edges = 0\n",
        "    visited = {node: False for node in tree}\n",
        "    dfs(1, tree, visited)  # Assuming the root is always labeled as 1\n",
        "    return removable_edges - 1  # Subtract 1 because we cannot remove the edge connected to the root\n",
        "\n",
        "# Example usage\n",
        "tree = {\n",
        "    1: [2, 3],\n",
        "    2: [],\n",
        "    3: [4, 5],\n",
        "    4: [6, 7, 8],\n",
        "    5: [],\n",
        "    6: [],\n",
        "    7: [],\n",
        "    8: []\n",
        "}\n",
        "\n",
        "print(max_removal_edges(tree))\n"
      ]
    },
    {
      "cell_type": "markdown",
      "source": [
        "##Testing:\n"
      ],
      "metadata": {
        "id": "wcaruNyfYogT"
      }
    }
  ]
}