{
  "nbformat": 4,
  "nbformat_minor": 0,
  "metadata": {
    "colab": {
      "provenance": [],
      "authorship_tag": "ABX9TyNnWyzelvd86paWCspjGno2",
      "include_colab_link": true
    },
    "kernelspec": {
      "name": "python3",
      "display_name": "Python 3"
    },
    "language_info": {
      "name": "python"
    }
  },
  "cells": [
    {
      "cell_type": "markdown",
      "metadata": {
        "id": "view-in-github",
        "colab_type": "text"
      },
      "source": [
        "<a href=\"https://colab.research.google.com/github/walkerjian/DailyCode/blob/main/Code_Craft_max_profit.ipynb\" target=\"_parent\"><img src=\"https://colab.research.google.com/assets/colab-badge.svg\" alt=\"Open In Colab\"/></a>"
      ]
    },
    {
      "cell_type": "markdown",
      "source": [],
      "metadata": {
        "id": "LORyvewUAChH"
      }
    },
    {
      "cell_type": "markdown",
      "source": [
        "Given a array of numbers representing the stock prices of a company in chronological order, write a function that calculates the maximum profit you could have made from buying and selling that stock. You're also given a number fee that represents a transaction fee for each buy and sell transaction.\n",
        "\n",
        "You must buy before you can sell the stock, but you can make as many transactions as you like.\n",
        "\n",
        "For example, given [1, 3, 2, 8, 4, 10] and fee = 2, you should return 9, since you could buy the stock at 1 dollar, and sell at 8 dollars, and then buy it at 4 dollars and sell it at 10 dollars. Since we did two transactions, there is a 4 dollar fee, so we have 7 + 6 = 13 profit minus 4 dollars of fees."
      ],
      "metadata": {
        "id": "jtmwTeOVEv_V"
      }
    },
    {
      "cell_type": "markdown",
      "source": [
        "To solve the problem of calculating the maximum profit from buying and selling stocks with transaction fees included, we can use a dynamic programming approach that maintains two states:\n",
        "\n",
        "1. **cash**: The maximum profit we can have on any day without holding the stock (i.e., after selling the stock or never buying any).\n",
        "2. **hold**: The maximum profit we can have while holding a stock on that day.\n",
        "\n",
        "For each day, we will update these states based on the stock price of that day and the actions we can take (buy, sell, or hold/no action). Here's how you update each state:\n",
        "- **cash**: If we have stock (hold state), we might consider selling it on the current day. The updated cash value would be the maximum of not selling (keeping the previous cash value) and selling the stock currently held plus the current price minus the transaction fee.\n",
        "- **hold**: If we don't have stock (cash state), we might consider buying stock on the current day. The updated hold value would be the maximum of not buying (keeping the previous hold value) and buying the stock by subtracting the current price from our cash (after considering we sold any previously held stock).\n",
        "\n",
        "This logic leads to the following formulas for updating our states:\n",
        "- `cash_today = max(cash_yesterday, hold_yesterday + price_today - fee)`\n",
        "- `hold_today = max(hold_yesterday, cash_yesterday - price_today)`\n",
        "\n",
        "Here's a Python function that implements this strategy:\n",
        "\n",
        "\n",
        "This function should correctly compute the maximum profit for a given array of stock prices and a transaction fee, following the buy-sell pattern described. The logic ensures that the transactions take into account the fees while maximizing the profit across multiple buy-sell opportunities."
      ],
      "metadata": {
        "id": "G5IOL5S3Eyxt"
      }
    },
    {
      "cell_type": "code",
      "execution_count": 1,
      "metadata": {
        "id": "L3xhegutz6Ue",
        "colab": {
          "base_uri": "https://localhost:8080/"
        },
        "outputId": "8d335223-373b-49c4-c138-810a25f3b30d"
      },
      "outputs": [
        {
          "output_type": "stream",
          "name": "stdout",
          "text": [
            "9\n"
          ]
        }
      ],
      "source": [
        "def max_profit(prices, fee):\n",
        "    cash, hold = 0, -float('inf')  # start with 0 cash and holding nothing\n",
        "\n",
        "    for price in prices:\n",
        "        # If we hold a stock, calculate the new cash if we sold it today\n",
        "        new_cash = max(cash, hold + price - fee)\n",
        "        # If we have cash, calculate the new hold if we bought the stock today\n",
        "        new_hold = max(hold, cash - price)\n",
        "\n",
        "        cash, hold = new_cash, new_hold\n",
        "\n",
        "    return cash  # max profit corresponds to the max cash we can have (not holding any stock)\n",
        "\n",
        "# Example usage\n",
        "prices = [1, 3, 2, 8, 4, 10]\n",
        "fee = 2\n",
        "print(max_profit(prices, fee))  # Output should be 9"
      ]
    }
  ]
}