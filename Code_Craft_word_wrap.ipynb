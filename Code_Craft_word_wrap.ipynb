{
  "nbformat": 4,
  "nbformat_minor": 0,
  "metadata": {
    "colab": {
      "provenance": [],
      "authorship_tag": "ABX9TyPdwg/l3zhTV0bPFad1p35i",
      "include_colab_link": true
    },
    "kernelspec": {
      "name": "python3",
      "display_name": "Python 3"
    },
    "language_info": {
      "name": "python"
    }
  },
  "cells": [
    {
      "cell_type": "markdown",
      "metadata": {
        "id": "view-in-github",
        "colab_type": "text"
      },
      "source": [
        "<a href=\"https://colab.research.google.com/github/walkerjian/DailyCode/blob/main/Code_Craft_word_wrap.ipynb\" target=\"_parent\"><img src=\"https://colab.research.google.com/assets/colab-badge.svg\" alt=\"Open In Colab\"/></a>"
      ]
    },
    {
      "cell_type": "markdown",
      "source": [
        "##Problem:\n",
        "Given a string s and an integer k, break up the string into multiple lines such that each line has a length of k or less. You must break it up so that words don't break across lines. Each line has to have the maximum possible amount of words. If there's no way to break the text up, then return null.\n",
        "\n",
        "You can assume that there are no spaces at the ends of the string and that there is exactly one space between each word.\n",
        "\n",
        "For example, given the string \"the quick brown fox jumps over the lazy dog\" and k = 10, you should return: [\"the quick\", \"brown fox\", \"jumps over\", \"the lazy\", \"dog\"]. No string in the list has a length of more than 10."
      ],
      "metadata": {
        "id": "g5l_q1bT3jYl"
      }
    },
    {
      "cell_type": "markdown",
      "source": [
        "##Solution:"
      ],
      "metadata": {
        "id": "XNjV1eN73pW3"
      }
    },
    {
      "cell_type": "code",
      "execution_count": 5,
      "metadata": {
        "id": "Z4XhL10E3HHn"
      },
      "outputs": [],
      "source": [
        "def word_wrap(s, k):\n",
        "    \"\"\"\n",
        "    Breaks a string into lines such that each line has a length of `k` or less without breaking words.\n",
        "    Each line has the maximum possible number of words.\n",
        "\n",
        "    :param s: The input string to be wrapped.\n",
        "    :param k: The maximum length of each line.\n",
        "    :return: A list of strings where each string is a line, or None if it's impossible to wrap.\n",
        "    \"\"\"\n",
        "    # Split the string into words\n",
        "    words = s.split()\n",
        "    # Initialize an array to hold the lines\n",
        "    lines = []\n",
        "    # Initialize a temporary list to hold words for the current line\n",
        "    current_line = []\n",
        "\n",
        "    for word in words:\n",
        "        # Check if adding the word would exceed the maximum length\n",
        "        if sum(len(w) for w in current_line) + len(word) + len(current_line) <= k:\n",
        "            current_line.append(word)\n",
        "        else:\n",
        "            # If the current word is too long and there are no words on the current line, return None\n",
        "            if not current_line and len(word) > k:\n",
        "                return None\n",
        "            # If the current line has words, append it to the lines list and reset the current line\n",
        "            if current_line:\n",
        "                lines.append(' '.join(current_line))\n",
        "                current_line = [word]\n",
        "            else:\n",
        "                current_line.append(word)\n",
        "\n",
        "    # Append the last line if there are any remaining words\n",
        "    if current_line:\n",
        "        lines.append(' '.join(current_line))\n",
        "\n",
        "    return lines\n"
      ]
    },
    {
      "cell_type": "markdown",
      "source": [
        "##Testing:"
      ],
      "metadata": {
        "id": "M2Fo35Dp4VaH"
      }
    },
    {
      "cell_type": "code",
      "source": [
        "# Test the function with the provided example\n",
        "test_string = \"the quick brown fox jumps over the lazy dog\"\n",
        "test_k = 10\n",
        "word_wrap(test_string, test_k)\n",
        "\n",
        "def test_word_wrap():\n",
        "    # Define test cases\n",
        "    test_cases = [\n",
        "        (\"the quick brown fox jumps over the lazy dog\", 10, [\"the quick\", \"brown fox\", \"jumps over\", \"the lazy\", \"dog\"]),\n",
        "        (\"one two three\", 5, [\"one\", \"two\", \"three\"]),\n",
        "        (\"a b c\", 1, [\"a\", \"b\", \"c\"]),\n",
        "        (\"word\", 2, None)  # A single word longer than k should return None\n",
        "    ]\n",
        "\n",
        "    # Test each case\n",
        "    for i, (s, k, expected) in enumerate(test_cases):\n",
        "        result = word_wrap(s, k)\n",
        "        assert result == expected, f\"Test case {i+1} failed: expected {expected}, got {result}\"\n",
        "        print(f\"Test case {i+1} passed.\")\n",
        "\n",
        "# Run the test function\n",
        "test_word_wrap()\n"
      ],
      "metadata": {
        "colab": {
          "base_uri": "https://localhost:8080/"
        },
        "id": "7-3VhjvD3P2S",
        "outputId": "a9c94126-c151-4385-a194-821a25607c74"
      },
      "execution_count": 4,
      "outputs": [
        {
          "output_type": "stream",
          "name": "stdout",
          "text": [
            "Test case 1 passed.\n",
            "Test case 2 passed.\n",
            "Test case 3 passed.\n",
            "Test case 4 passed.\n"
          ]
        }
      ]
    }
  ]
}