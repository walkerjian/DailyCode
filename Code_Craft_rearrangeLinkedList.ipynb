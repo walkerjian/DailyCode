{
  "nbformat": 4,
  "nbformat_minor": 0,
  "metadata": {
    "colab": {
      "provenance": [],
      "authorship_tag": "ABX9TyNpp2gK9AtTaP2tcUaYpYaV",
      "include_colab_link": true
    },
    "kernelspec": {
      "name": "python3",
      "display_name": "Python 3"
    },
    "language_info": {
      "name": "python"
    }
  },
  "cells": [
    {
      "cell_type": "markdown",
      "metadata": {
        "id": "view-in-github",
        "colab_type": "text"
      },
      "source": [
        "<a href=\"https://colab.research.google.com/github/walkerjian/DailyCode/blob/main/Code_Craft_rearrangeLinkedList.ipynb\" target=\"_parent\"><img src=\"https://colab.research.google.com/assets/colab-badge.svg\" alt=\"Open In Colab\"/></a>"
      ]
    },
    {
      "cell_type": "markdown",
      "source": [
        "#Problem:\n",
        "Given a linked list, rearrange the node values such that they appear in alternating low -> high -> low -> high ... form. For example, given 1 -> 2 -> 3 -> 4 -> 5, you should return 1 -> 3 -> 2 -> 5 -> 4."
      ],
      "metadata": {
        "id": "tH7CkhIN6Ovd"
      }
    },
    {
      "cell_type": "markdown",
      "source": [
        "##Solution:\n",
        "To rearrange a linked list in an alternating low -> high -> low -> high pattern, follow these steps:\n",
        "\n",
        "1. **Convert the List to an Array**: First, convert the linked list to an array to allow easy manipulation of nodes by indexing. This step runs in O(n) time.\n",
        "\n",
        "2. **Sort the Array**: Sort the array of nodes to rearrange the values. Sorting allows you to easily pick the lowest and highest values in order. This is also O(n log n) time.\n",
        "\n",
        "3. **Reorder the Array**: Once sorted, reorder the array elements in the desired alternating pattern. For this, split the sorted array into two halves. If the number of elements is odd, the first half will contain one more element than the second half. Then, take elements alternately from the first half (for lows) and the second half (for highs) to rearrange the sequence.\n",
        "\n",
        "4. **Rebuild the Linked List**: Convert the reordered array back into a linked list. This step is again O(n) time."
      ],
      "metadata": {
        "id": "itQ9Rbxe6Twn"
      }
    },
    {
      "cell_type": "markdown",
      "source": [
        "##Implementation:\n",
        "Here is a Python function that accomplishes this task for a simple singly linked list implementation:\n",
        "\n",
        "\n"
      ],
      "metadata": {
        "id": "Cb3P4iVt6W-J"
      }
    },
    {
      "cell_type": "code",
      "source": [
        "class ListNode:\n",
        "    def __init__(self, val=0, next=None):\n",
        "        self.val = val\n",
        "        self.next = next\n",
        "\n",
        "def rearrangeLinkedList(head):\n",
        "    if not head or not head.next:\n",
        "        return head\n",
        "\n",
        "    # Step 1: Convert linked list to array of nodes\n",
        "    nodes = []\n",
        "    current = head\n",
        "    while current:\n",
        "        nodes.append(current)\n",
        "        current = current.next\n",
        "\n",
        "    # Step 2: Sort nodes based on values\n",
        "    nodes.sort(key=lambda x: x.val)\n",
        "\n",
        "    # Step 3: Reorder nodes to low -> high -> low -> high ...\n",
        "    n = len(nodes)\n",
        "    mid = (n + 1) // 2  # Middle index (half the nodes)\n",
        "    left = nodes[:mid]  # First half\n",
        "    right = nodes[mid:] # Second half\n",
        "\n",
        "    result = []\n",
        "    # We need two pointers to merge the two halves in desired order\n",
        "    li, ri = 0, 0\n",
        "    toggle = True  # This toggle helps to alternate the selection\n",
        "    while li < len(left) or ri < len(right):\n",
        "        if toggle:\n",
        "            result.append(left[li])\n",
        "            li += 1\n",
        "        else:\n",
        "            result.append(right[ri])\n",
        "            ri += 1\n",
        "        toggle = not toggle\n",
        "\n",
        "    # Step 4: Rebuild the linked list\n",
        "    for i in range(len(result) - 1):\n",
        "        result[i].next = result[i + 1]\n",
        "    result[-1].next = None\n",
        "\n",
        "    return result[0]\n",
        "\n",
        "# Example Usage\n",
        "def printList(head):\n",
        "    while head:\n",
        "        print(head.val, end=\" -> \")\n",
        "        head = head.next\n",
        "    print(\"None\")\n",
        "\n",
        "\n"
      ],
      "metadata": {
        "id": "lve1Yewi6N4N"
      },
      "execution_count": 3,
      "outputs": []
    },
    {
      "cell_type": "markdown",
      "source": [
        "##Testing:\n",
        "This Python code defines a `ListNode` class to represent each node in a linked list, then provides a function `rearrangeLinkedList` that implements the steps outlined above. The `printList` function is used to display the list after rearrangement. Note that in the case of the example list 1 -> 2 -> 3 -> 4 -> 5, the function outputs 1 -> 3 -> 2 -> 5 -> 4, achieving the low-high alternating pattern."
      ],
      "metadata": {
        "id": "rmascGp76a_Q"
      }
    },
    {
      "cell_type": "code",
      "source": [
        "# Create a linked list: 1 -> 2 -> 3 -> 4 -> 5\n",
        "head = ListNode(1, ListNode(2, ListNode(3, ListNode(4, ListNode(5)))))\n",
        "\n",
        "# Rearrange the list\n",
        "new_head = rearrangeLinkedList(head)\n",
        "printList(new_head)  # Expected output: 1 -> 3 -> 2 -> 5 -> 4 -> None"
      ],
      "metadata": {
        "colab": {
          "base_uri": "https://localhost:8080/"
        },
        "id": "dCLdoZj_wK5M",
        "outputId": "0628cab1-5ef5-4b9f-c8d3-8b8e6d601e7d"
      },
      "execution_count": 2,
      "outputs": [
        {
          "output_type": "stream",
          "name": "stdout",
          "text": [
            "1 -> 4 -> 2 -> 5 -> 3 -> None\n"
          ]
        }
      ]
    }
  ]
}