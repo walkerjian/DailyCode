{
  "nbformat": 4,
  "nbformat_minor": 0,
  "metadata": {
    "colab": {
      "provenance": [],
      "authorship_tag": "ABX9TyOaLGYXlCjBjoYvz8RtxLOd",
      "include_colab_link": true
    },
    "kernelspec": {
      "name": "python3",
      "display_name": "Python 3"
    },
    "language_info": {
      "name": "python"
    }
  },
  "cells": [
    {
      "cell_type": "markdown",
      "metadata": {
        "id": "view-in-github",
        "colab_type": "text"
      },
      "source": [
        "<a href=\"https://colab.research.google.com/github/walkerjian/DailyCode/blob/main/Copy_of_Untitled0.ipynb\" target=\"_parent\"><img src=\"https://colab.research.google.com/assets/colab-badge.svg\" alt=\"Open In Colab\"/></a>"
      ]
    },
    {
      "cell_type": "markdown",
      "source": [
        "You are given an N by N matrix of random letters and a dictionary of words. Find the maximum number of words that can be packed on the board from the given dictionary.\n",
        "\n",
        "A word is considered to be able to be packed on the board if:\n",
        "\n",
        "It can be found in the dictionary\n",
        "It can be constructed from untaken letters by other words found so far on the board\n",
        "The letters are adjacent to each other (vertically and horizontally, not diagonally).\n",
        "Each tile can be visited only once by any word.\n",
        "\n",
        "For example, given the following dictionary:\n",
        "\n",
        "{ 'eat', 'rain', 'in', 'rat' }\n",
        "and matrix:\n",
        "```\n",
        "[['e', 'a', 'n'],\n",
        " ['t', 't', 'i'],\n",
        " ['a', 'r', 'a']]\n",
        " ```\n",
        "Your function should return 3, since we can make the words 'eat', 'in', and 'rat' without them touching each other. We could have alternatively made 'eat' and 'rain', but that would be incorrect since that's only 2 words."
      ],
      "metadata": {
        "id": "7N7tLAIbJxbw"
      }
    },
    {
      "cell_type": "markdown",
      "source": [
        "To solve this problem, we can utilize a backtracking approach along with a trie data structure for efficient word lookup and prefix checking. Here's a step-by-step breakdown of the algorithm:\n",
        "\n",
        "1. **Trie Construction**: First, we'll build a trie from the dictionary words. This trie will help in efficient lookup of words and prefixes during our search.\n",
        "\n",
        "2. **Backtracking Search**: We'll use a recursive backtracking approach to explore all possible word paths on the board. For each cell, we'll start a depth-first search (DFS) that tries to form words by exploring adjacent cells (left, right, up, down).\n",
        "\n",
        "3. **Board State Management**: We'll maintain a dynamic state of the board using a 2D boolean array to mark cells that are currently used by the forming word to ensure each letter is only used once per word.\n",
        "\n",
        "4. **Word Validation**: As we build potential words using DFS, we check:\n",
        "   - If the current sequence of letters is a prefix to any word in the dictionary. If not, we prune the search.\n",
        "   - If the sequence is a complete word in the dictionary, we mark it as found, continue to try to find more words with remaining letters.\n",
        "\n",
        "5. **Maximization Strategy**: We aim to find the maximum number of words that can be formed. This requires managing and updating the best solution found at each step of the recursion. We'll keep track of the words formed and ensure that when exploring different paths, we maximize the number of non-overlapping words.\n",
        "\n",
        "6. **Result Compilation**: After exploring all possibilities, we return the maximum count of non-overlapping words that can be formed.\n",
        "\n",
        "\n",
        "This code sets up the Trie for dictionary lookup, then performs a DFS for each position in the board matrix, attempting to form and count valid words. The approach ensures that each letter can only be used once per found word and maximizes the count of non"
      ],
      "metadata": {
        "id": "rW3wX7F4J2Ci"
      }
    },
    {
      "cell_type": "code",
      "execution_count": 1,
      "metadata": {
        "id": "KQO87BpLFYH7",
        "colab": {
          "base_uri": "https://localhost:8080/"
        },
        "outputId": "8b826774-fcfc-42a8-98ea-e3e0e3a0cbc2"
      },
      "outputs": [
        {
          "output_type": "stream",
          "name": "stdout",
          "text": [
            "3\n"
          ]
        }
      ],
      "source": [
        "class TrieNode:\n",
        "    def __init__(self):\n",
        "        self.children = {}\n",
        "        self.is_word = False\n",
        "\n",
        "class Trie:\n",
        "    def __init__(self):\n",
        "        self.root = TrieNode()\n",
        "\n",
        "    def insert(self, word):\n",
        "        node = self.root\n",
        "        for char in word:\n",
        "            if char not in node.children:\n",
        "                node.children[char] = TrieNode()\n",
        "            node = node.children[char]\n",
        "        node.is_word = True\n",
        "\n",
        "    def starts_with(self, prefix):\n",
        "        node = self.root\n",
        "        for char in prefix:\n",
        "            if char not in node.children:\n",
        "                return False\n",
        "            node = node.children[char]\n",
        "        return True\n",
        "\n",
        "    def is_word(self, word):\n",
        "        node = self.root\n",
        "        for char in word:\n",
        "            if char not in node.children:\n",
        "                return False\n",
        "            node = node.children[char]\n",
        "        return node.is_word\n",
        "\n",
        "def max_words_on_board(board, words):\n",
        "    trie = Trie()\n",
        "    for word in words:\n",
        "        trie.insert(word)\n",
        "\n",
        "    n = len(board)\n",
        "    max_words = 0\n",
        "    path = []\n",
        "\n",
        "    def dfs(x, y, node, path, visited):\n",
        "        if x < 0 or x >= n or y < 0 or y >= n or visited[x][y]:\n",
        "            return 0\n",
        "\n",
        "        char = board[x][y]\n",
        "        if char not in node.children:\n",
        "            return 0\n",
        "\n",
        "        visited[x][y] = True\n",
        "        node = node.children[char]\n",
        "        path.append(char)\n",
        "\n",
        "        # Check if current path forms a word\n",
        "        word_count = 0\n",
        "        if node.is_word:\n",
        "            node.is_word = False  # Temporarily mark this word as used\n",
        "            word_count = 1 + max(\n",
        "                dfs(i, j, trie.root, [], visited)\n",
        "                for i in range(n) for j in range(n)\n",
        "            )\n",
        "            node.is_word = True  # Restore the word for other paths\n",
        "\n",
        "        # Continue DFS to form longer words\n",
        "        word_count = max(word_count,\n",
        "            dfs(x + 1, y, node, path, visited),\n",
        "            dfs(x - 1, y, node, path, visited),\n",
        "            dfs(x, y + 1, node, path, visited),\n",
        "            dfs(x, y - 1, node, path, visited)\n",
        "        )\n",
        "\n",
        "        visited[x][y] = False\n",
        "        path.pop()\n",
        "\n",
        "        return word_count\n",
        "\n",
        "    for i in range(n):\n",
        "        for j in range(n):\n",
        "            visited = [[False] * n for _ in range(n)]\n",
        "            max_words = max(max_words, dfs(i, j, trie.root, [], visited))\n",
        "\n",
        "    return max_words\n",
        "\n",
        "# Example usage:\n",
        "dictionary = { 'eat', 'rain', 'in', 'rat' }\n",
        "matrix = [\n",
        "    ['e', 'a', 'n'],\n",
        "    ['t', 't', 'i'],\n",
        "    ['a', 'r', 'a']\n",
        "]\n",
        "print(max_words_on_board(matrix, dictionary))  # Output should be 3"
      ]
    }
  ]
}