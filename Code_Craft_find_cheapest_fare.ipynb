{
  "nbformat": 4,
  "nbformat_minor": 0,
  "metadata": {
    "colab": {
      "provenance": [],
      "authorship_tag": "ABX9TyNxz17Ew/oAlupRGEim4R2A",
      "include_colab_link": true
    },
    "kernelspec": {
      "name": "python3",
      "display_name": "Python 3"
    },
    "language_info": {
      "name": "python"
    }
  },
  "cells": [
    {
      "cell_type": "markdown",
      "metadata": {
        "id": "view-in-github",
        "colab_type": "text"
      },
      "source": [
        "<a href=\"https://colab.research.google.com/github/walkerjian/DailyCode/blob/main/Code_Craft_find_cheapest_fare.ipynb\" target=\"_parent\"><img src=\"https://colab.research.google.com/assets/colab-badge.svg\" alt=\"Open In Colab\"/></a>"
      ]
    },
    {
      "cell_type": "markdown",
      "source": [
        "You are given a huge list of airline ticket prices between different cities around the world on a given day. These are all direct flights. Each element in the list has the format (source_city, destination, price).\n",
        "\n",
        "Consider a user who is willing to take up to k connections from their origin city A to their destination B. Find the cheapest fare possible for this journey and print the itinerary for that journey.\n",
        "\n",
        "For example, our traveler wants to go from JFK to LAX with up to 3 connections, and our input flights are as follows:\n",
        "````\n",
        "[\n",
        "    ('JFK', 'ATL', 150),\n",
        "    ('ATL', 'SFO', 400),\n",
        "    ('ORD', 'LAX', 200),\n",
        "    ('LAX', 'DFW', 80),\n",
        "    ('JFK', 'HKG', 800),\n",
        "    ('ATL', 'ORD', 90),\n",
        "    ('JFK', 'LAX', 500),\n",
        "]\n",
        "````\n",
        "Due to some improbably low flight prices, the cheapest itinerary would be JFK -> ATL -> ORD -> LAX, costing $440."
      ],
      "metadata": {
        "id": "yO8qVj2ftQS9"
      }
    },
    {
      "cell_type": "markdown",
      "source": [
        "To solve the problem of finding the cheapest fare with up to `k` connections, we can use a variation of Dijkstra's algorithm for the shortest path problem, but adapted to keep track of the number of stops.\n",
        "\n",
        "Explanation:\n",
        "\n",
        "1. **Graph Representation**:\n",
        "   - We represent the flights as a graph where each city is a node and each direct flight is an edge with the flight cost as the weight.\n",
        "\n",
        "2. **Priority Queue**:\n",
        "   - We use a priority queue (min-heap) to always expand the current least-cost path first. Each entry in the queue is a tuple containing the total cost to reach the current city, the current city itself, the number of stops taken so far, and the path taken so far.\n",
        "\n",
        "3. **Visited Dictionary**:\n",
        "   - This dictionary keeps track of the minimum number of stops taken to reach each city. This helps in avoiding redundant work and ensuring we do not explore paths that have more stops but are not necessarily cheaper.\n",
        "\n",
        "4. **Stopping Condition**:\n",
        "   - If the destination city is reached, we return the total cost and the path.\n",
        "   - If the number of stops exceeds `max_connections`, we skip that path.\n",
        "   - If a city is reached with more stops than recorded in the visited dictionary, we skip exploring from that city.\n",
        "\n",
        "5. **Example Execution**:\n",
        "   - For the given example flights, the function correctly identifies the cheapest fare from JFK to LAX with up to 3 connections, resulting in the itinerary `JFK -> ATL -> ORD -> LAX` with a total cost of $440."
      ],
      "metadata": {
        "id": "LF1LZt4wtXiO"
      }
    },
    {
      "cell_type": "code",
      "execution_count": null,
      "metadata": {
        "id": "qHzkkPqStPRm"
      },
      "outputs": [],
      "source": [
        "import heapq\n",
        "from collections import defaultdict, deque\n",
        "\n",
        "def find_cheapest_fare(flights, origin, destination, max_connections):\n",
        "    # Create the graph\n",
        "    graph = defaultdict(list)\n",
        "    for src, dst, price in flights:\n",
        "        graph[src].append((dst, price))\n",
        "\n",
        "    # Priority queue: (cost, current_city, stops, path)\n",
        "    pq = [(0, origin, 0, [origin])]\n",
        "    visited = dict()  # Dictionary to store the minimum cost to reach a city with a certain number of stops\n",
        "\n",
        "    while pq:\n",
        "        cost, city, stops, path = heapq.heappop(pq)\n",
        "\n",
        "        # If we reach the destination, return the cost and path\n",
        "        if city == destination:\n",
        "            return cost, path\n",
        "\n",
        "        # If the number of stops exceeds the maximum connections, skip\n",
        "        if stops > max_connections:\n",
        "            continue\n",
        "\n",
        "        # If the current city with the current stops has already been visited with a lower cost, skip\n",
        "        if city in visited and visited[city] <= stops:\n",
        "            continue\n",
        "\n",
        "        visited[city] = stops\n",
        "\n",
        "        # Explore neighbors\n",
        "        for neighbor, price in graph[city]:\n",
        "            heapq.heappush(pq, (cost + price, neighbor, stops + 1, path + [neighbor]))\n",
        "\n",
        "    # If the destination is not reachable within the given stops\n",
        "    return float('inf'), []\n",
        "\n",
        "# Example usage\n",
        "flights = [\n",
        "    ('JFK', 'ATL', 150),\n",
        "    ('ATL', 'SFO', 400),\n",
        "    ('ORD', 'LAX', 200),\n",
        "    ('LAX', 'DFW', 80),\n",
        "    ('JFK', 'HKG', 800),\n",
        "    ('ATL', 'ORD', 90),\n",
        "    ('JFK', 'LAX', 500),\n",
        "]\n",
        "\n",
        "origin = 'JFK'\n",
        "destination = 'LAX'\n",
        "max_connections = 3\n",
        "\n",
        "cost, itinerary = find_cheapest_fare(flights, origin, destination, max_connections)\n",
        "print(f\"Cheapest fare: ${cost}\")\n",
        "print(f\"Itinerary: {' -> '.join(itinerary)}\")"
      ]
    }
  ]
}